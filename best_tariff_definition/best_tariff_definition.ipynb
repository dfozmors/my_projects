{
 "cells": [
  {
   "cell_type": "markdown",
   "metadata": {},
   "source": [
    "## Первичное изучение данных"
   ]
  },
  {
   "cell_type": "code",
   "execution_count": 1,
   "metadata": {},
   "outputs": [],
   "source": [
    "import pandas as pd #Импорт библитеки pandas \n",
    "import numpy as np #Импорт библиотеки numpy\n",
    "from scipy import stats as st"
   ]
  },
  {
   "cell_type": "code",
   "execution_count": 2,
   "metadata": {},
   "outputs": [],
   "source": [
    "def df_info(data): #функция для получения первичной информации о датафрейме\n",
    "    data.info()\n",
    "    display(data.head())\n",
    "    print(data.describe())\n",
    "    \n",
    "def to_time(data,column): #Функция для перевода значений в столбцах в тип datetime\n",
    "    data[column] = pd.to_datetime(data[column],format='%Y-%m-%d')\n",
    "    \n",
    "def month(data,column): #Функция для выделения месяца из даты\n",
    "    data['month'] = data[column].astype('datetime64[M]')\n",
    "    \n",
    "def duplic(data): #Функция для проверки дубликатов \n",
    "    print(data.duplicated().sum())\n",
    "\n",
    "def plotting(data,y_column,title): #Функция для создания гистограммы по месяцам\n",
    "    data.plot(x='month', y=y_column, kind='bar', title=title)\n",
    "    data.plot(x='month', y=y_column, kind='hist')\n",
    "\n",
    "def plot_info(data): #Функция для создания 3 гистограмм среднего количества звонков, сообщений и использованных мб\n",
    "    plotting(data, 'mean_calls_min', 'Среднее количество минут звонков')\n",
    "    plotting(data, 'mean_message_count', 'Среднее количество отправленных сообщений')\n",
    "    plotting(data, 'mean_mb_sum', 'Среднее количество использованных Мб')\n",
    "    plotting(data, 'mean_result', 'Средняя выручка с пользователей тарифа')"
   ]
  },
  {
   "cell_type": "code",
   "execution_count": 3,
   "metadata": {},
   "outputs": [],
   "source": [
    "users = pd.read_csv('/datasets/users.csv')\n",
    "calls = pd.read_csv('/datasets/calls.csv')\n",
    "internet = pd.read_csv('/datasets/internet.csv')\n",
    "messages = pd.read_csv('/datasets/messages.csv')\n",
    "tariffs = pd.read_csv('/datasets/tariffs.csv')"
   ]
  },
  {
   "cell_type": "code",
   "execution_count": 4,
   "metadata": {},
   "outputs": [
    {
     "name": "stdout",
     "output_type": "stream",
     "text": [
      "<class 'pandas.core.frame.DataFrame'>\n",
      "RangeIndex: 500 entries, 0 to 499\n",
      "Data columns (total 8 columns):\n",
      " #   Column      Non-Null Count  Dtype \n",
      "---  ------      --------------  ----- \n",
      " 0   user_id     500 non-null    int64 \n",
      " 1   age         500 non-null    int64 \n",
      " 2   churn_date  38 non-null     object\n",
      " 3   city        500 non-null    object\n",
      " 4   first_name  500 non-null    object\n",
      " 5   last_name   500 non-null    object\n",
      " 6   reg_date    500 non-null    object\n",
      " 7   tariff      500 non-null    object\n",
      "dtypes: int64(2), object(6)\n",
      "memory usage: 31.4+ KB\n"
     ]
    },
    {
     "data": {
      "text/html": [
       "<div>\n",
       "<style scoped>\n",
       "    .dataframe tbody tr th:only-of-type {\n",
       "        vertical-align: middle;\n",
       "    }\n",
       "\n",
       "    .dataframe tbody tr th {\n",
       "        vertical-align: top;\n",
       "    }\n",
       "\n",
       "    .dataframe thead th {\n",
       "        text-align: right;\n",
       "    }\n",
       "</style>\n",
       "<table border=\"1\" class=\"dataframe\">\n",
       "  <thead>\n",
       "    <tr style=\"text-align: right;\">\n",
       "      <th></th>\n",
       "      <th>user_id</th>\n",
       "      <th>age</th>\n",
       "      <th>churn_date</th>\n",
       "      <th>city</th>\n",
       "      <th>first_name</th>\n",
       "      <th>last_name</th>\n",
       "      <th>reg_date</th>\n",
       "      <th>tariff</th>\n",
       "    </tr>\n",
       "  </thead>\n",
       "  <tbody>\n",
       "    <tr>\n",
       "      <th>0</th>\n",
       "      <td>1000</td>\n",
       "      <td>52</td>\n",
       "      <td>NaN</td>\n",
       "      <td>Краснодар</td>\n",
       "      <td>Рафаил</td>\n",
       "      <td>Верещагин</td>\n",
       "      <td>2018-05-25</td>\n",
       "      <td>ultra</td>\n",
       "    </tr>\n",
       "    <tr>\n",
       "      <th>1</th>\n",
       "      <td>1001</td>\n",
       "      <td>41</td>\n",
       "      <td>NaN</td>\n",
       "      <td>Москва</td>\n",
       "      <td>Иван</td>\n",
       "      <td>Ежов</td>\n",
       "      <td>2018-11-01</td>\n",
       "      <td>smart</td>\n",
       "    </tr>\n",
       "    <tr>\n",
       "      <th>2</th>\n",
       "      <td>1002</td>\n",
       "      <td>59</td>\n",
       "      <td>NaN</td>\n",
       "      <td>Стерлитамак</td>\n",
       "      <td>Евгений</td>\n",
       "      <td>Абрамович</td>\n",
       "      <td>2018-06-17</td>\n",
       "      <td>smart</td>\n",
       "    </tr>\n",
       "    <tr>\n",
       "      <th>3</th>\n",
       "      <td>1003</td>\n",
       "      <td>23</td>\n",
       "      <td>NaN</td>\n",
       "      <td>Москва</td>\n",
       "      <td>Белла</td>\n",
       "      <td>Белякова</td>\n",
       "      <td>2018-08-17</td>\n",
       "      <td>ultra</td>\n",
       "    </tr>\n",
       "    <tr>\n",
       "      <th>4</th>\n",
       "      <td>1004</td>\n",
       "      <td>68</td>\n",
       "      <td>NaN</td>\n",
       "      <td>Новокузнецк</td>\n",
       "      <td>Татьяна</td>\n",
       "      <td>Авдеенко</td>\n",
       "      <td>2018-05-14</td>\n",
       "      <td>ultra</td>\n",
       "    </tr>\n",
       "  </tbody>\n",
       "</table>\n",
       "</div>"
      ],
      "text/plain": [
       "   user_id  age churn_date         city first_name  last_name    reg_date  \\\n",
       "0     1000   52        NaN    Краснодар     Рафаил  Верещагин  2018-05-25   \n",
       "1     1001   41        NaN       Москва       Иван       Ежов  2018-11-01   \n",
       "2     1002   59        NaN  Стерлитамак    Евгений  Абрамович  2018-06-17   \n",
       "3     1003   23        NaN       Москва      Белла   Белякова  2018-08-17   \n",
       "4     1004   68        NaN  Новокузнецк    Татьяна   Авдеенко  2018-05-14   \n",
       "\n",
       "  tariff  \n",
       "0  ultra  \n",
       "1  smart  \n",
       "2  smart  \n",
       "3  ultra  \n",
       "4  ultra  "
      ]
     },
     "metadata": {},
     "output_type": "display_data"
    },
    {
     "name": "stdout",
     "output_type": "stream",
     "text": [
      "           user_id        age\n",
      "count   500.000000  500.00000\n",
      "mean   1249.500000   46.58800\n",
      "std     144.481833   16.66763\n",
      "min    1000.000000   18.00000\n",
      "25%    1124.750000   32.00000\n",
      "50%    1249.500000   46.00000\n",
      "75%    1374.250000   62.00000\n",
      "max    1499.000000   75.00000\n"
     ]
    }
   ],
   "source": [
    "df_info(users)"
   ]
  },
  {
   "cell_type": "markdown",
   "metadata": {},
   "source": [
    "Из первичного осмотра мы можем увидеть, что пропусков в данных нет (кроме столбца `churn_date` где они могут быть), все колонки кроме `reg_date` и `churn_date` соответствуют своему типу (в этих же колонках нужно привести данные к типу datetime)."
   ]
  },
  {
   "cell_type": "code",
   "execution_count": 5,
   "metadata": {},
   "outputs": [
    {
     "name": "stdout",
     "output_type": "stream",
     "text": [
      "<class 'pandas.core.frame.DataFrame'>\n",
      "RangeIndex: 202607 entries, 0 to 202606\n",
      "Data columns (total 4 columns):\n",
      " #   Column     Non-Null Count   Dtype  \n",
      "---  ------     --------------   -----  \n",
      " 0   id         202607 non-null  object \n",
      " 1   call_date  202607 non-null  object \n",
      " 2   duration   202607 non-null  float64\n",
      " 3   user_id    202607 non-null  int64  \n",
      "dtypes: float64(1), int64(1), object(2)\n",
      "memory usage: 6.2+ MB\n"
     ]
    },
    {
     "data": {
      "text/html": [
       "<div>\n",
       "<style scoped>\n",
       "    .dataframe tbody tr th:only-of-type {\n",
       "        vertical-align: middle;\n",
       "    }\n",
       "\n",
       "    .dataframe tbody tr th {\n",
       "        vertical-align: top;\n",
       "    }\n",
       "\n",
       "    .dataframe thead th {\n",
       "        text-align: right;\n",
       "    }\n",
       "</style>\n",
       "<table border=\"1\" class=\"dataframe\">\n",
       "  <thead>\n",
       "    <tr style=\"text-align: right;\">\n",
       "      <th></th>\n",
       "      <th>id</th>\n",
       "      <th>call_date</th>\n",
       "      <th>duration</th>\n",
       "      <th>user_id</th>\n",
       "    </tr>\n",
       "  </thead>\n",
       "  <tbody>\n",
       "    <tr>\n",
       "      <th>0</th>\n",
       "      <td>1000_0</td>\n",
       "      <td>2018-07-25</td>\n",
       "      <td>0.00</td>\n",
       "      <td>1000</td>\n",
       "    </tr>\n",
       "    <tr>\n",
       "      <th>1</th>\n",
       "      <td>1000_1</td>\n",
       "      <td>2018-08-17</td>\n",
       "      <td>0.00</td>\n",
       "      <td>1000</td>\n",
       "    </tr>\n",
       "    <tr>\n",
       "      <th>2</th>\n",
       "      <td>1000_2</td>\n",
       "      <td>2018-06-11</td>\n",
       "      <td>2.85</td>\n",
       "      <td>1000</td>\n",
       "    </tr>\n",
       "    <tr>\n",
       "      <th>3</th>\n",
       "      <td>1000_3</td>\n",
       "      <td>2018-09-21</td>\n",
       "      <td>13.80</td>\n",
       "      <td>1000</td>\n",
       "    </tr>\n",
       "    <tr>\n",
       "      <th>4</th>\n",
       "      <td>1000_4</td>\n",
       "      <td>2018-12-15</td>\n",
       "      <td>5.18</td>\n",
       "      <td>1000</td>\n",
       "    </tr>\n",
       "  </tbody>\n",
       "</table>\n",
       "</div>"
      ],
      "text/plain": [
       "       id   call_date  duration  user_id\n",
       "0  1000_0  2018-07-25      0.00     1000\n",
       "1  1000_1  2018-08-17      0.00     1000\n",
       "2  1000_2  2018-06-11      2.85     1000\n",
       "3  1000_3  2018-09-21     13.80     1000\n",
       "4  1000_4  2018-12-15      5.18     1000"
      ]
     },
     "metadata": {},
     "output_type": "display_data"
    },
    {
     "name": "stdout",
     "output_type": "stream",
     "text": [
      "            duration        user_id\n",
      "count  202607.000000  202607.000000\n",
      "mean        6.755887    1253.940619\n",
      "std         5.843365     144.722751\n",
      "min         0.000000    1000.000000\n",
      "25%         1.300000    1126.000000\n",
      "50%         6.000000    1260.000000\n",
      "75%        10.700000    1379.000000\n",
      "max        38.000000    1499.000000\n"
     ]
    }
   ],
   "source": [
    "df_info(calls)"
   ]
  },
  {
   "cell_type": "markdown",
   "metadata": {},
   "source": [
    " Из первичного анализа можно увидеть, что проблем в данных нет, только нужно заменить тип данных в столбце `call_date` на datetime и так как все звонки, даже в одну секунду, считаются за минуту, то нужно все значения в столбце `duration` округлить в большую сторону."
   ]
  },
  {
   "cell_type": "code",
   "execution_count": 6,
   "metadata": {},
   "outputs": [
    {
     "name": "stdout",
     "output_type": "stream",
     "text": [
      "<class 'pandas.core.frame.DataFrame'>\n",
      "RangeIndex: 149396 entries, 0 to 149395\n",
      "Data columns (total 5 columns):\n",
      " #   Column        Non-Null Count   Dtype  \n",
      "---  ------        --------------   -----  \n",
      " 0   Unnamed: 0    149396 non-null  int64  \n",
      " 1   id            149396 non-null  object \n",
      " 2   mb_used       149396 non-null  float64\n",
      " 3   session_date  149396 non-null  object \n",
      " 4   user_id       149396 non-null  int64  \n",
      "dtypes: float64(1), int64(2), object(2)\n",
      "memory usage: 5.7+ MB\n"
     ]
    },
    {
     "data": {
      "text/html": [
       "<div>\n",
       "<style scoped>\n",
       "    .dataframe tbody tr th:only-of-type {\n",
       "        vertical-align: middle;\n",
       "    }\n",
       "\n",
       "    .dataframe tbody tr th {\n",
       "        vertical-align: top;\n",
       "    }\n",
       "\n",
       "    .dataframe thead th {\n",
       "        text-align: right;\n",
       "    }\n",
       "</style>\n",
       "<table border=\"1\" class=\"dataframe\">\n",
       "  <thead>\n",
       "    <tr style=\"text-align: right;\">\n",
       "      <th></th>\n",
       "      <th>Unnamed: 0</th>\n",
       "      <th>id</th>\n",
       "      <th>mb_used</th>\n",
       "      <th>session_date</th>\n",
       "      <th>user_id</th>\n",
       "    </tr>\n",
       "  </thead>\n",
       "  <tbody>\n",
       "    <tr>\n",
       "      <th>0</th>\n",
       "      <td>0</td>\n",
       "      <td>1000_0</td>\n",
       "      <td>112.95</td>\n",
       "      <td>2018-11-25</td>\n",
       "      <td>1000</td>\n",
       "    </tr>\n",
       "    <tr>\n",
       "      <th>1</th>\n",
       "      <td>1</td>\n",
       "      <td>1000_1</td>\n",
       "      <td>1052.81</td>\n",
       "      <td>2018-09-07</td>\n",
       "      <td>1000</td>\n",
       "    </tr>\n",
       "    <tr>\n",
       "      <th>2</th>\n",
       "      <td>2</td>\n",
       "      <td>1000_2</td>\n",
       "      <td>1197.26</td>\n",
       "      <td>2018-06-25</td>\n",
       "      <td>1000</td>\n",
       "    </tr>\n",
       "    <tr>\n",
       "      <th>3</th>\n",
       "      <td>3</td>\n",
       "      <td>1000_3</td>\n",
       "      <td>550.27</td>\n",
       "      <td>2018-08-22</td>\n",
       "      <td>1000</td>\n",
       "    </tr>\n",
       "    <tr>\n",
       "      <th>4</th>\n",
       "      <td>4</td>\n",
       "      <td>1000_4</td>\n",
       "      <td>302.56</td>\n",
       "      <td>2018-09-24</td>\n",
       "      <td>1000</td>\n",
       "    </tr>\n",
       "  </tbody>\n",
       "</table>\n",
       "</div>"
      ],
      "text/plain": [
       "   Unnamed: 0      id  mb_used session_date  user_id\n",
       "0           0  1000_0   112.95   2018-11-25     1000\n",
       "1           1  1000_1  1052.81   2018-09-07     1000\n",
       "2           2  1000_2  1197.26   2018-06-25     1000\n",
       "3           3  1000_3   550.27   2018-08-22     1000\n",
       "4           4  1000_4   302.56   2018-09-24     1000"
      ]
     },
     "metadata": {},
     "output_type": "display_data"
    },
    {
     "name": "stdout",
     "output_type": "stream",
     "text": [
      "          Unnamed: 0        mb_used        user_id\n",
      "count  149396.000000  149396.000000  149396.000000\n",
      "mean    74697.500000     370.192426    1252.099842\n",
      "std     43127.054745     278.300951     144.050823\n",
      "min         0.000000       0.000000    1000.000000\n",
      "25%     37348.750000     138.187500    1130.000000\n",
      "50%     74697.500000     348.015000    1251.000000\n",
      "75%    112046.250000     559.552500    1380.000000\n",
      "max    149395.000000    1724.830000    1499.000000\n"
     ]
    }
   ],
   "source": [
    "df_info(internet)"
   ]
  },
  {
   "cell_type": "markdown",
   "metadata": {},
   "source": [
    "\n",
    "  \n",
    "Можно заметить, что в датафрейме присутствует дополнительная колонка, которой нет в документации `Unnamed: 0` по всей видимости она выполняет роль индексов, так что от нее можно избавиться. Пропущенных значений не обнаружено. Также нужно привести значения в столбце `session_date` к типу datetime"
   ]
  },
  {
   "cell_type": "code",
   "execution_count": 7,
   "metadata": {},
   "outputs": [
    {
     "name": "stdout",
     "output_type": "stream",
     "text": [
      "<class 'pandas.core.frame.DataFrame'>\n",
      "RangeIndex: 123036 entries, 0 to 123035\n",
      "Data columns (total 3 columns):\n",
      " #   Column        Non-Null Count   Dtype \n",
      "---  ------        --------------   ----- \n",
      " 0   id            123036 non-null  object\n",
      " 1   message_date  123036 non-null  object\n",
      " 2   user_id       123036 non-null  int64 \n",
      "dtypes: int64(1), object(2)\n",
      "memory usage: 2.8+ MB\n"
     ]
    },
    {
     "data": {
      "text/html": [
       "<div>\n",
       "<style scoped>\n",
       "    .dataframe tbody tr th:only-of-type {\n",
       "        vertical-align: middle;\n",
       "    }\n",
       "\n",
       "    .dataframe tbody tr th {\n",
       "        vertical-align: top;\n",
       "    }\n",
       "\n",
       "    .dataframe thead th {\n",
       "        text-align: right;\n",
       "    }\n",
       "</style>\n",
       "<table border=\"1\" class=\"dataframe\">\n",
       "  <thead>\n",
       "    <tr style=\"text-align: right;\">\n",
       "      <th></th>\n",
       "      <th>id</th>\n",
       "      <th>message_date</th>\n",
       "      <th>user_id</th>\n",
       "    </tr>\n",
       "  </thead>\n",
       "  <tbody>\n",
       "    <tr>\n",
       "      <th>0</th>\n",
       "      <td>1000_0</td>\n",
       "      <td>2018-06-27</td>\n",
       "      <td>1000</td>\n",
       "    </tr>\n",
       "    <tr>\n",
       "      <th>1</th>\n",
       "      <td>1000_1</td>\n",
       "      <td>2018-10-08</td>\n",
       "      <td>1000</td>\n",
       "    </tr>\n",
       "    <tr>\n",
       "      <th>2</th>\n",
       "      <td>1000_2</td>\n",
       "      <td>2018-08-04</td>\n",
       "      <td>1000</td>\n",
       "    </tr>\n",
       "    <tr>\n",
       "      <th>3</th>\n",
       "      <td>1000_3</td>\n",
       "      <td>2018-06-16</td>\n",
       "      <td>1000</td>\n",
       "    </tr>\n",
       "    <tr>\n",
       "      <th>4</th>\n",
       "      <td>1000_4</td>\n",
       "      <td>2018-12-05</td>\n",
       "      <td>1000</td>\n",
       "    </tr>\n",
       "  </tbody>\n",
       "</table>\n",
       "</div>"
      ],
      "text/plain": [
       "       id message_date  user_id\n",
       "0  1000_0   2018-06-27     1000\n",
       "1  1000_1   2018-10-08     1000\n",
       "2  1000_2   2018-08-04     1000\n",
       "3  1000_3   2018-06-16     1000\n",
       "4  1000_4   2018-12-05     1000"
      ]
     },
     "metadata": {},
     "output_type": "display_data"
    },
    {
     "name": "stdout",
     "output_type": "stream",
     "text": [
      "             user_id\n",
      "count  123036.000000\n",
      "mean     1256.989410\n",
      "std       143.523967\n",
      "min      1000.000000\n",
      "25%      1134.000000\n",
      "50%      1271.000000\n",
      "75%      1381.000000\n",
      "max      1499.000000\n"
     ]
    }
   ],
   "source": [
    "df_info(messages)"
   ]
  },
  {
   "cell_type": "markdown",
   "metadata": {},
   "source": [
    "\n",
    "  \n",
    "Проблем не обнаружно, нужно только привести значения столбца `message_date` к типу datetime"
   ]
  },
  {
   "cell_type": "code",
   "execution_count": 8,
   "metadata": {},
   "outputs": [
    {
     "name": "stdout",
     "output_type": "stream",
     "text": [
      "<class 'pandas.core.frame.DataFrame'>\n",
      "RangeIndex: 2 entries, 0 to 1\n",
      "Data columns (total 8 columns):\n",
      " #   Column                 Non-Null Count  Dtype \n",
      "---  ------                 --------------  ----- \n",
      " 0   messages_included      2 non-null      int64 \n",
      " 1   mb_per_month_included  2 non-null      int64 \n",
      " 2   minutes_included       2 non-null      int64 \n",
      " 3   rub_monthly_fee        2 non-null      int64 \n",
      " 4   rub_per_gb             2 non-null      int64 \n",
      " 5   rub_per_message        2 non-null      int64 \n",
      " 6   rub_per_minute         2 non-null      int64 \n",
      " 7   tariff_name            2 non-null      object\n",
      "dtypes: int64(7), object(1)\n",
      "memory usage: 256.0+ bytes\n"
     ]
    },
    {
     "data": {
      "text/html": [
       "<div>\n",
       "<style scoped>\n",
       "    .dataframe tbody tr th:only-of-type {\n",
       "        vertical-align: middle;\n",
       "    }\n",
       "\n",
       "    .dataframe tbody tr th {\n",
       "        vertical-align: top;\n",
       "    }\n",
       "\n",
       "    .dataframe thead th {\n",
       "        text-align: right;\n",
       "    }\n",
       "</style>\n",
       "<table border=\"1\" class=\"dataframe\">\n",
       "  <thead>\n",
       "    <tr style=\"text-align: right;\">\n",
       "      <th></th>\n",
       "      <th>messages_included</th>\n",
       "      <th>mb_per_month_included</th>\n",
       "      <th>minutes_included</th>\n",
       "      <th>rub_monthly_fee</th>\n",
       "      <th>rub_per_gb</th>\n",
       "      <th>rub_per_message</th>\n",
       "      <th>rub_per_minute</th>\n",
       "      <th>tariff_name</th>\n",
       "    </tr>\n",
       "  </thead>\n",
       "  <tbody>\n",
       "    <tr>\n",
       "      <th>0</th>\n",
       "      <td>50</td>\n",
       "      <td>15360</td>\n",
       "      <td>500</td>\n",
       "      <td>550</td>\n",
       "      <td>200</td>\n",
       "      <td>3</td>\n",
       "      <td>3</td>\n",
       "      <td>smart</td>\n",
       "    </tr>\n",
       "    <tr>\n",
       "      <th>1</th>\n",
       "      <td>1000</td>\n",
       "      <td>30720</td>\n",
       "      <td>3000</td>\n",
       "      <td>1950</td>\n",
       "      <td>150</td>\n",
       "      <td>1</td>\n",
       "      <td>1</td>\n",
       "      <td>ultra</td>\n",
       "    </tr>\n",
       "  </tbody>\n",
       "</table>\n",
       "</div>"
      ],
      "text/plain": [
       "   messages_included  mb_per_month_included  minutes_included  \\\n",
       "0                 50                  15360               500   \n",
       "1               1000                  30720              3000   \n",
       "\n",
       "   rub_monthly_fee  rub_per_gb  rub_per_message  rub_per_minute tariff_name  \n",
       "0              550         200                3               3       smart  \n",
       "1             1950         150                1               1       ultra  "
      ]
     },
     "metadata": {},
     "output_type": "display_data"
    },
    {
     "name": "stdout",
     "output_type": "stream",
     "text": [
      "       messages_included  mb_per_month_included  minutes_included  \\\n",
      "count           2.000000               2.000000          2.000000   \n",
      "mean          525.000000           23040.000000       1750.000000   \n",
      "std           671.751442           10861.160159       1767.766953   \n",
      "min            50.000000           15360.000000        500.000000   \n",
      "25%           287.500000           19200.000000       1125.000000   \n",
      "50%           525.000000           23040.000000       1750.000000   \n",
      "75%           762.500000           26880.000000       2375.000000   \n",
      "max          1000.000000           30720.000000       3000.000000   \n",
      "\n",
      "       rub_monthly_fee  rub_per_gb  rub_per_message  rub_per_minute  \n",
      "count         2.000000    2.000000         2.000000        2.000000  \n",
      "mean       1250.000000  175.000000         2.000000        2.000000  \n",
      "std         989.949494   35.355339         1.414214        1.414214  \n",
      "min         550.000000  150.000000         1.000000        1.000000  \n",
      "25%         900.000000  162.500000         1.500000        1.500000  \n",
      "50%        1250.000000  175.000000         2.000000        2.000000  \n",
      "75%        1600.000000  187.500000         2.500000        2.500000  \n",
      "max        1950.000000  200.000000         3.000000        3.000000  \n"
     ]
    }
   ],
   "source": [
    "df_info(tariffs)"
   ]
  },
  {
   "cell_type": "markdown",
   "metadata": {},
   "source": [
    "\n",
    "Проблем в данных не обнаружено"
   ]
  },
  {
   "cell_type": "markdown",
   "metadata": {},
   "source": [
    "## Предобработка данных"
   ]
  },
  {
   "cell_type": "markdown",
   "metadata": {},
   "source": [
    "### Изменение типов данных"
   ]
  },
  {
   "cell_type": "code",
   "execution_count": 9,
   "metadata": {},
   "outputs": [],
   "source": [
    "to_time(users,'reg_date')\n",
    "to_time(calls,'call_date')\n",
    "to_time(internet,'session_date')\n",
    "to_time(messages,'message_date') #Приведение всех нужных столбцов к типу datetime"
   ]
  },
  {
   "cell_type": "code",
   "execution_count": 10,
   "metadata": {},
   "outputs": [
    {
     "name": "stdout",
     "output_type": "stream",
     "text": [
      "<class 'pandas.core.frame.DataFrame'>\n",
      "RangeIndex: 202607 entries, 0 to 202606\n",
      "Data columns (total 4 columns):\n",
      " #   Column     Non-Null Count   Dtype         \n",
      "---  ------     --------------   -----         \n",
      " 0   id         202607 non-null  object        \n",
      " 1   call_date  202607 non-null  datetime64[ns]\n",
      " 2   duration   202607 non-null  float64       \n",
      " 3   user_id    202607 non-null  int64         \n",
      "dtypes: datetime64[ns](1), float64(1), int64(1), object(1)\n",
      "memory usage: 6.2+ MB\n"
     ]
    }
   ],
   "source": [
    "calls.info()"
   ]
  },
  {
   "cell_type": "markdown",
   "metadata": {},
   "source": [
    "### Округление значений в данных"
   ]
  },
  {
   "cell_type": "markdown",
   "metadata": {},
   "source": [
    "В задаче было написано, что оператор связи округляет звонки в большую сторону, значит нужно это сделать и с нашими значениями"
   ]
  },
  {
   "cell_type": "code",
   "execution_count": 11,
   "metadata": {},
   "outputs": [
    {
     "data": {
      "text/html": [
       "<div>\n",
       "<style scoped>\n",
       "    .dataframe tbody tr th:only-of-type {\n",
       "        vertical-align: middle;\n",
       "    }\n",
       "\n",
       "    .dataframe tbody tr th {\n",
       "        vertical-align: top;\n",
       "    }\n",
       "\n",
       "    .dataframe thead th {\n",
       "        text-align: right;\n",
       "    }\n",
       "</style>\n",
       "<table border=\"1\" class=\"dataframe\">\n",
       "  <thead>\n",
       "    <tr style=\"text-align: right;\">\n",
       "      <th></th>\n",
       "      <th>id</th>\n",
       "      <th>call_date</th>\n",
       "      <th>duration</th>\n",
       "      <th>user_id</th>\n",
       "    </tr>\n",
       "  </thead>\n",
       "  <tbody>\n",
       "    <tr>\n",
       "      <th>0</th>\n",
       "      <td>1000_0</td>\n",
       "      <td>2018-07-25</td>\n",
       "      <td>0</td>\n",
       "      <td>1000</td>\n",
       "    </tr>\n",
       "    <tr>\n",
       "      <th>1</th>\n",
       "      <td>1000_1</td>\n",
       "      <td>2018-08-17</td>\n",
       "      <td>0</td>\n",
       "      <td>1000</td>\n",
       "    </tr>\n",
       "    <tr>\n",
       "      <th>2</th>\n",
       "      <td>1000_2</td>\n",
       "      <td>2018-06-11</td>\n",
       "      <td>3</td>\n",
       "      <td>1000</td>\n",
       "    </tr>\n",
       "    <tr>\n",
       "      <th>3</th>\n",
       "      <td>1000_3</td>\n",
       "      <td>2018-09-21</td>\n",
       "      <td>14</td>\n",
       "      <td>1000</td>\n",
       "    </tr>\n",
       "    <tr>\n",
       "      <th>4</th>\n",
       "      <td>1000_4</td>\n",
       "      <td>2018-12-15</td>\n",
       "      <td>6</td>\n",
       "      <td>1000</td>\n",
       "    </tr>\n",
       "  </tbody>\n",
       "</table>\n",
       "</div>"
      ],
      "text/plain": [
       "       id  call_date  duration  user_id\n",
       "0  1000_0 2018-07-25         0     1000\n",
       "1  1000_1 2018-08-17         0     1000\n",
       "2  1000_2 2018-06-11         3     1000\n",
       "3  1000_3 2018-09-21        14     1000\n",
       "4  1000_4 2018-12-15         6     1000"
      ]
     },
     "metadata": {},
     "output_type": "display_data"
    }
   ],
   "source": [
    "calls['duration'] = np.ceil(calls['duration']) #Округление в большую сторону всех звонков\n",
    "calls['duration'] = calls['duration'].astype(int)\n",
    "display(calls.head())"
   ]
  },
  {
   "cell_type": "markdown",
   "metadata": {},
   "source": [
    "### Проверка данных на дубликаты"
   ]
  },
  {
   "cell_type": "code",
   "execution_count": 12,
   "metadata": {},
   "outputs": [
    {
     "name": "stdout",
     "output_type": "stream",
     "text": [
      "0\n",
      "0\n",
      "0\n",
      "0\n"
     ]
    }
   ],
   "source": [
    "duplic(users)\n",
    "duplic(calls)\n",
    "duplic(internet)\n",
    "duplic(messages)"
   ]
  },
  {
   "cell_type": "markdown",
   "metadata": {},
   "source": [
    "Дубликатов в данных не обнаружено"
   ]
  },
  {
   "cell_type": "markdown",
   "metadata": {},
   "source": [
    "### Удаление столбцов"
   ]
  },
  {
   "cell_type": "markdown",
   "metadata": {},
   "source": [
    "Во время первичного анализа было замечено, что в таблице internet есть столбцец `Unnamed: 0`, полностью повторяющий индексы, который можно удалить "
   ]
  },
  {
   "cell_type": "code",
   "execution_count": 13,
   "metadata": {},
   "outputs": [
    {
     "data": {
      "text/html": [
       "<div>\n",
       "<style scoped>\n",
       "    .dataframe tbody tr th:only-of-type {\n",
       "        vertical-align: middle;\n",
       "    }\n",
       "\n",
       "    .dataframe tbody tr th {\n",
       "        vertical-align: top;\n",
       "    }\n",
       "\n",
       "    .dataframe thead th {\n",
       "        text-align: right;\n",
       "    }\n",
       "</style>\n",
       "<table border=\"1\" class=\"dataframe\">\n",
       "  <thead>\n",
       "    <tr style=\"text-align: right;\">\n",
       "      <th></th>\n",
       "      <th>id</th>\n",
       "      <th>mb_used</th>\n",
       "      <th>session_date</th>\n",
       "      <th>user_id</th>\n",
       "    </tr>\n",
       "  </thead>\n",
       "  <tbody>\n",
       "    <tr>\n",
       "      <th>0</th>\n",
       "      <td>1000_0</td>\n",
       "      <td>112.95</td>\n",
       "      <td>2018-11-25</td>\n",
       "      <td>1000</td>\n",
       "    </tr>\n",
       "    <tr>\n",
       "      <th>1</th>\n",
       "      <td>1000_1</td>\n",
       "      <td>1052.81</td>\n",
       "      <td>2018-09-07</td>\n",
       "      <td>1000</td>\n",
       "    </tr>\n",
       "    <tr>\n",
       "      <th>2</th>\n",
       "      <td>1000_2</td>\n",
       "      <td>1197.26</td>\n",
       "      <td>2018-06-25</td>\n",
       "      <td>1000</td>\n",
       "    </tr>\n",
       "    <tr>\n",
       "      <th>3</th>\n",
       "      <td>1000_3</td>\n",
       "      <td>550.27</td>\n",
       "      <td>2018-08-22</td>\n",
       "      <td>1000</td>\n",
       "    </tr>\n",
       "    <tr>\n",
       "      <th>4</th>\n",
       "      <td>1000_4</td>\n",
       "      <td>302.56</td>\n",
       "      <td>2018-09-24</td>\n",
       "      <td>1000</td>\n",
       "    </tr>\n",
       "  </tbody>\n",
       "</table>\n",
       "</div>"
      ],
      "text/plain": [
       "       id  mb_used session_date  user_id\n",
       "0  1000_0   112.95   2018-11-25     1000\n",
       "1  1000_1  1052.81   2018-09-07     1000\n",
       "2  1000_2  1197.26   2018-06-25     1000\n",
       "3  1000_3   550.27   2018-08-22     1000\n",
       "4  1000_4   302.56   2018-09-24     1000"
      ]
     },
     "execution_count": 13,
     "metadata": {},
     "output_type": "execute_result"
    }
   ],
   "source": [
    "internet=internet.drop(columns='Unnamed: 0')\n",
    "internet.head()"
   ]
  },
  {
   "cell_type": "markdown",
   "metadata": {},
   "source": [
    "## Подсчет данных о пользователях"
   ]
  },
  {
   "cell_type": "markdown",
   "metadata": {},
   "source": [
    "Для получения данных по месяцам о каждом пользователе можно выделить из столбцов с датой месяц и за тем исходя из уникального id пользователя и месяца сделать сводную таблицу и полученные сводные таблицы объединить в одну, для удобства"
   ]
  },
  {
   "cell_type": "code",
   "execution_count": 14,
   "metadata": {},
   "outputs": [
    {
     "data": {
      "text/html": [
       "<div>\n",
       "<style scoped>\n",
       "    .dataframe tbody tr th:only-of-type {\n",
       "        vertical-align: middle;\n",
       "    }\n",
       "\n",
       "    .dataframe tbody tr th {\n",
       "        vertical-align: top;\n",
       "    }\n",
       "\n",
       "    .dataframe thead th {\n",
       "        text-align: right;\n",
       "    }\n",
       "</style>\n",
       "<table border=\"1\" class=\"dataframe\">\n",
       "  <thead>\n",
       "    <tr style=\"text-align: right;\">\n",
       "      <th></th>\n",
       "      <th>id</th>\n",
       "      <th>call_date</th>\n",
       "      <th>duration</th>\n",
       "      <th>user_id</th>\n",
       "      <th>month</th>\n",
       "    </tr>\n",
       "  </thead>\n",
       "  <tbody>\n",
       "    <tr>\n",
       "      <th>0</th>\n",
       "      <td>1000_0</td>\n",
       "      <td>2018-07-25</td>\n",
       "      <td>0</td>\n",
       "      <td>1000</td>\n",
       "      <td>2018-07-01</td>\n",
       "    </tr>\n",
       "    <tr>\n",
       "      <th>1</th>\n",
       "      <td>1000_1</td>\n",
       "      <td>2018-08-17</td>\n",
       "      <td>0</td>\n",
       "      <td>1000</td>\n",
       "      <td>2018-08-01</td>\n",
       "    </tr>\n",
       "    <tr>\n",
       "      <th>2</th>\n",
       "      <td>1000_2</td>\n",
       "      <td>2018-06-11</td>\n",
       "      <td>3</td>\n",
       "      <td>1000</td>\n",
       "      <td>2018-06-01</td>\n",
       "    </tr>\n",
       "    <tr>\n",
       "      <th>3</th>\n",
       "      <td>1000_3</td>\n",
       "      <td>2018-09-21</td>\n",
       "      <td>14</td>\n",
       "      <td>1000</td>\n",
       "      <td>2018-09-01</td>\n",
       "    </tr>\n",
       "    <tr>\n",
       "      <th>4</th>\n",
       "      <td>1000_4</td>\n",
       "      <td>2018-12-15</td>\n",
       "      <td>6</td>\n",
       "      <td>1000</td>\n",
       "      <td>2018-12-01</td>\n",
       "    </tr>\n",
       "  </tbody>\n",
       "</table>\n",
       "</div>"
      ],
      "text/plain": [
       "       id  call_date  duration  user_id      month\n",
       "0  1000_0 2018-07-25         0     1000 2018-07-01\n",
       "1  1000_1 2018-08-17         0     1000 2018-08-01\n",
       "2  1000_2 2018-06-11         3     1000 2018-06-01\n",
       "3  1000_3 2018-09-21        14     1000 2018-09-01\n",
       "4  1000_4 2018-12-15         6     1000 2018-12-01"
      ]
     },
     "metadata": {},
     "output_type": "display_data"
    },
    {
     "data": {
      "text/html": [
       "<div>\n",
       "<style scoped>\n",
       "    .dataframe tbody tr th:only-of-type {\n",
       "        vertical-align: middle;\n",
       "    }\n",
       "\n",
       "    .dataframe tbody tr th {\n",
       "        vertical-align: top;\n",
       "    }\n",
       "\n",
       "    .dataframe thead th {\n",
       "        text-align: right;\n",
       "    }\n",
       "</style>\n",
       "<table border=\"1\" class=\"dataframe\">\n",
       "  <thead>\n",
       "    <tr style=\"text-align: right;\">\n",
       "      <th></th>\n",
       "      <th>id</th>\n",
       "      <th>mb_used</th>\n",
       "      <th>session_date</th>\n",
       "      <th>user_id</th>\n",
       "      <th>month</th>\n",
       "    </tr>\n",
       "  </thead>\n",
       "  <tbody>\n",
       "    <tr>\n",
       "      <th>0</th>\n",
       "      <td>1000_0</td>\n",
       "      <td>112.95</td>\n",
       "      <td>2018-11-25</td>\n",
       "      <td>1000</td>\n",
       "      <td>2018-11-01</td>\n",
       "    </tr>\n",
       "    <tr>\n",
       "      <th>1</th>\n",
       "      <td>1000_1</td>\n",
       "      <td>1052.81</td>\n",
       "      <td>2018-09-07</td>\n",
       "      <td>1000</td>\n",
       "      <td>2018-09-01</td>\n",
       "    </tr>\n",
       "    <tr>\n",
       "      <th>2</th>\n",
       "      <td>1000_2</td>\n",
       "      <td>1197.26</td>\n",
       "      <td>2018-06-25</td>\n",
       "      <td>1000</td>\n",
       "      <td>2018-06-01</td>\n",
       "    </tr>\n",
       "    <tr>\n",
       "      <th>3</th>\n",
       "      <td>1000_3</td>\n",
       "      <td>550.27</td>\n",
       "      <td>2018-08-22</td>\n",
       "      <td>1000</td>\n",
       "      <td>2018-08-01</td>\n",
       "    </tr>\n",
       "    <tr>\n",
       "      <th>4</th>\n",
       "      <td>1000_4</td>\n",
       "      <td>302.56</td>\n",
       "      <td>2018-09-24</td>\n",
       "      <td>1000</td>\n",
       "      <td>2018-09-01</td>\n",
       "    </tr>\n",
       "  </tbody>\n",
       "</table>\n",
       "</div>"
      ],
      "text/plain": [
       "       id  mb_used session_date  user_id      month\n",
       "0  1000_0   112.95   2018-11-25     1000 2018-11-01\n",
       "1  1000_1  1052.81   2018-09-07     1000 2018-09-01\n",
       "2  1000_2  1197.26   2018-06-25     1000 2018-06-01\n",
       "3  1000_3   550.27   2018-08-22     1000 2018-08-01\n",
       "4  1000_4   302.56   2018-09-24     1000 2018-09-01"
      ]
     },
     "metadata": {},
     "output_type": "display_data"
    },
    {
     "data": {
      "text/html": [
       "<div>\n",
       "<style scoped>\n",
       "    .dataframe tbody tr th:only-of-type {\n",
       "        vertical-align: middle;\n",
       "    }\n",
       "\n",
       "    .dataframe tbody tr th {\n",
       "        vertical-align: top;\n",
       "    }\n",
       "\n",
       "    .dataframe thead th {\n",
       "        text-align: right;\n",
       "    }\n",
       "</style>\n",
       "<table border=\"1\" class=\"dataframe\">\n",
       "  <thead>\n",
       "    <tr style=\"text-align: right;\">\n",
       "      <th></th>\n",
       "      <th>id</th>\n",
       "      <th>message_date</th>\n",
       "      <th>user_id</th>\n",
       "      <th>month</th>\n",
       "    </tr>\n",
       "  </thead>\n",
       "  <tbody>\n",
       "    <tr>\n",
       "      <th>0</th>\n",
       "      <td>1000_0</td>\n",
       "      <td>2018-06-27</td>\n",
       "      <td>1000</td>\n",
       "      <td>2018-06-01</td>\n",
       "    </tr>\n",
       "    <tr>\n",
       "      <th>1</th>\n",
       "      <td>1000_1</td>\n",
       "      <td>2018-10-08</td>\n",
       "      <td>1000</td>\n",
       "      <td>2018-10-01</td>\n",
       "    </tr>\n",
       "    <tr>\n",
       "      <th>2</th>\n",
       "      <td>1000_2</td>\n",
       "      <td>2018-08-04</td>\n",
       "      <td>1000</td>\n",
       "      <td>2018-08-01</td>\n",
       "    </tr>\n",
       "    <tr>\n",
       "      <th>3</th>\n",
       "      <td>1000_3</td>\n",
       "      <td>2018-06-16</td>\n",
       "      <td>1000</td>\n",
       "      <td>2018-06-01</td>\n",
       "    </tr>\n",
       "    <tr>\n",
       "      <th>4</th>\n",
       "      <td>1000_4</td>\n",
       "      <td>2018-12-05</td>\n",
       "      <td>1000</td>\n",
       "      <td>2018-12-01</td>\n",
       "    </tr>\n",
       "  </tbody>\n",
       "</table>\n",
       "</div>"
      ],
      "text/plain": [
       "       id message_date  user_id      month\n",
       "0  1000_0   2018-06-27     1000 2018-06-01\n",
       "1  1000_1   2018-10-08     1000 2018-10-01\n",
       "2  1000_2   2018-08-04     1000 2018-08-01\n",
       "3  1000_3   2018-06-16     1000 2018-06-01\n",
       "4  1000_4   2018-12-05     1000 2018-12-01"
      ]
     },
     "execution_count": 14,
     "metadata": {},
     "output_type": "execute_result"
    }
   ],
   "source": [
    "month(calls,'call_date')\n",
    "month(internet,'session_date')\n",
    "month(messages,'message_date') #Извлечение значения месяца из колонок с датой в отдельную колонку\n",
    "display(calls.head())\n",
    "display(internet.head())\n",
    "messages.head()"
   ]
  },
  {
   "cell_type": "code",
   "execution_count": 15,
   "metadata": {},
   "outputs": [
    {
     "data": {
      "text/html": [
       "<div>\n",
       "<style scoped>\n",
       "    .dataframe tbody tr th:only-of-type {\n",
       "        vertical-align: middle;\n",
       "    }\n",
       "\n",
       "    .dataframe tbody tr th {\n",
       "        vertical-align: top;\n",
       "    }\n",
       "\n",
       "    .dataframe thead th {\n",
       "        text-align: right;\n",
       "    }\n",
       "</style>\n",
       "<table border=\"1\" class=\"dataframe\">\n",
       "  <thead>\n",
       "    <tr style=\"text-align: right;\">\n",
       "      <th></th>\n",
       "      <th></th>\n",
       "      <th>calls_count</th>\n",
       "      <th>calls_min</th>\n",
       "    </tr>\n",
       "    <tr>\n",
       "      <th>user_id</th>\n",
       "      <th>month</th>\n",
       "      <th></th>\n",
       "      <th></th>\n",
       "    </tr>\n",
       "  </thead>\n",
       "  <tbody>\n",
       "    <tr>\n",
       "      <th rowspan=\"5\" valign=\"top\">1000</th>\n",
       "      <th>2018-05-01</th>\n",
       "      <td>22</td>\n",
       "      <td>159</td>\n",
       "    </tr>\n",
       "    <tr>\n",
       "      <th>2018-06-01</th>\n",
       "      <td>43</td>\n",
       "      <td>172</td>\n",
       "    </tr>\n",
       "    <tr>\n",
       "      <th>2018-07-01</th>\n",
       "      <td>47</td>\n",
       "      <td>340</td>\n",
       "    </tr>\n",
       "    <tr>\n",
       "      <th>2018-08-01</th>\n",
       "      <td>52</td>\n",
       "      <td>408</td>\n",
       "    </tr>\n",
       "    <tr>\n",
       "      <th>2018-09-01</th>\n",
       "      <td>58</td>\n",
       "      <td>466</td>\n",
       "    </tr>\n",
       "  </tbody>\n",
       "</table>\n",
       "</div>"
      ],
      "text/plain": [
       "                    calls_count  calls_min\n",
       "user_id month                             \n",
       "1000    2018-05-01           22        159\n",
       "        2018-06-01           43        172\n",
       "        2018-07-01           47        340\n",
       "        2018-08-01           52        408\n",
       "        2018-09-01           58        466"
      ]
     },
     "execution_count": 15,
     "metadata": {},
     "output_type": "execute_result"
    }
   ],
   "source": [
    "calls_pivot = calls.pivot_table(index=['user_id','month'],values=['duration'],aggfunc=['count','sum']) #Создаем сводную таблицу и подсчитываем количество сделанных звонков и потраченных минут\n",
    "calls_pivot.columns = ['calls_count','calls_min'] #Переименуем столбцы для удобства\n",
    "calls_pivot.head()"
   ]
  },
  {
   "cell_type": "code",
   "execution_count": 16,
   "metadata": {},
   "outputs": [
    {
     "data": {
      "text/html": [
       "<div>\n",
       "<style scoped>\n",
       "    .dataframe tbody tr th:only-of-type {\n",
       "        vertical-align: middle;\n",
       "    }\n",
       "\n",
       "    .dataframe tbody tr th {\n",
       "        vertical-align: top;\n",
       "    }\n",
       "\n",
       "    .dataframe thead th {\n",
       "        text-align: right;\n",
       "    }\n",
       "</style>\n",
       "<table border=\"1\" class=\"dataframe\">\n",
       "  <thead>\n",
       "    <tr style=\"text-align: right;\">\n",
       "      <th></th>\n",
       "      <th></th>\n",
       "      <th>message_count</th>\n",
       "    </tr>\n",
       "    <tr>\n",
       "      <th>user_id</th>\n",
       "      <th>month</th>\n",
       "      <th></th>\n",
       "    </tr>\n",
       "  </thead>\n",
       "  <tbody>\n",
       "    <tr>\n",
       "      <th rowspan=\"5\" valign=\"top\">1000</th>\n",
       "      <th>2018-05-01</th>\n",
       "      <td>22</td>\n",
       "    </tr>\n",
       "    <tr>\n",
       "      <th>2018-06-01</th>\n",
       "      <td>60</td>\n",
       "    </tr>\n",
       "    <tr>\n",
       "      <th>2018-07-01</th>\n",
       "      <td>75</td>\n",
       "    </tr>\n",
       "    <tr>\n",
       "      <th>2018-08-01</th>\n",
       "      <td>81</td>\n",
       "    </tr>\n",
       "    <tr>\n",
       "      <th>2018-09-01</th>\n",
       "      <td>57</td>\n",
       "    </tr>\n",
       "  </tbody>\n",
       "</table>\n",
       "</div>"
      ],
      "text/plain": [
       "                    message_count\n",
       "user_id month                    \n",
       "1000    2018-05-01             22\n",
       "        2018-06-01             60\n",
       "        2018-07-01             75\n",
       "        2018-08-01             81\n",
       "        2018-09-01             57"
      ]
     },
     "execution_count": 16,
     "metadata": {},
     "output_type": "execute_result"
    }
   ],
   "source": [
    "messages_pivot = messages.pivot_table(index=['user_id','month'],values=['message_date'],aggfunc=['count']) #Создаем сводную таблицу и подсчитываем количество отправленных сообщений\n",
    "messages_pivot.columns = ['message_count'] #Переименуем столбцы для удобства\n",
    "messages_pivot.head()"
   ]
  },
  {
   "cell_type": "code",
   "execution_count": 17,
   "metadata": {},
   "outputs": [
    {
     "data": {
      "text/html": [
       "<div>\n",
       "<style scoped>\n",
       "    .dataframe tbody tr th:only-of-type {\n",
       "        vertical-align: middle;\n",
       "    }\n",
       "\n",
       "    .dataframe tbody tr th {\n",
       "        vertical-align: top;\n",
       "    }\n",
       "\n",
       "    .dataframe thead th {\n",
       "        text-align: right;\n",
       "    }\n",
       "</style>\n",
       "<table border=\"1\" class=\"dataframe\">\n",
       "  <thead>\n",
       "    <tr style=\"text-align: right;\">\n",
       "      <th></th>\n",
       "      <th></th>\n",
       "      <th>mb_sum</th>\n",
       "    </tr>\n",
       "    <tr>\n",
       "      <th>user_id</th>\n",
       "      <th>month</th>\n",
       "      <th></th>\n",
       "    </tr>\n",
       "  </thead>\n",
       "  <tbody>\n",
       "    <tr>\n",
       "      <th rowspan=\"5\" valign=\"top\">1000</th>\n",
       "      <th>2018-05-01</th>\n",
       "      <td>2253.49</td>\n",
       "    </tr>\n",
       "    <tr>\n",
       "      <th>2018-06-01</th>\n",
       "      <td>23233.77</td>\n",
       "    </tr>\n",
       "    <tr>\n",
       "      <th>2018-07-01</th>\n",
       "      <td>14003.64</td>\n",
       "    </tr>\n",
       "    <tr>\n",
       "      <th>2018-08-01</th>\n",
       "      <td>14055.93</td>\n",
       "    </tr>\n",
       "    <tr>\n",
       "      <th>2018-09-01</th>\n",
       "      <td>14568.91</td>\n",
       "    </tr>\n",
       "  </tbody>\n",
       "</table>\n",
       "</div>"
      ],
      "text/plain": [
       "                      mb_sum\n",
       "user_id month               \n",
       "1000    2018-05-01   2253.49\n",
       "        2018-06-01  23233.77\n",
       "        2018-07-01  14003.64\n",
       "        2018-08-01  14055.93\n",
       "        2018-09-01  14568.91"
      ]
     },
     "execution_count": 17,
     "metadata": {},
     "output_type": "execute_result"
    }
   ],
   "source": [
    "internet_pivot = internet.pivot_table(index=['user_id','month'],values=['mb_used'],aggfunc=['sum']) #Создаем сводную таблицу и подсчитываем количество потраченных мб\n",
    "internet_pivot.columns = ['mb_sum'] #Переименуем столбцы для удобства\n",
    "internet_pivot.head()"
   ]
  },
  {
   "cell_type": "code",
   "execution_count": 18,
   "metadata": {
    "scrolled": true
   },
   "outputs": [
    {
     "data": {
      "text/html": [
       "<div>\n",
       "<style scoped>\n",
       "    .dataframe tbody tr th:only-of-type {\n",
       "        vertical-align: middle;\n",
       "    }\n",
       "\n",
       "    .dataframe tbody tr th {\n",
       "        vertical-align: top;\n",
       "    }\n",
       "\n",
       "    .dataframe thead th {\n",
       "        text-align: right;\n",
       "    }\n",
       "</style>\n",
       "<table border=\"1\" class=\"dataframe\">\n",
       "  <thead>\n",
       "    <tr style=\"text-align: right;\">\n",
       "      <th></th>\n",
       "      <th></th>\n",
       "      <th>mb_sum</th>\n",
       "    </tr>\n",
       "    <tr>\n",
       "      <th>user_id</th>\n",
       "      <th>month</th>\n",
       "      <th></th>\n",
       "    </tr>\n",
       "  </thead>\n",
       "  <tbody>\n",
       "    <tr>\n",
       "      <th rowspan=\"5\" valign=\"top\">1000</th>\n",
       "      <th>2018-05-01</th>\n",
       "      <td>2254.0</td>\n",
       "    </tr>\n",
       "    <tr>\n",
       "      <th>2018-06-01</th>\n",
       "      <td>23234.0</td>\n",
       "    </tr>\n",
       "    <tr>\n",
       "      <th>2018-07-01</th>\n",
       "      <td>14004.0</td>\n",
       "    </tr>\n",
       "    <tr>\n",
       "      <th>2018-08-01</th>\n",
       "      <td>14056.0</td>\n",
       "    </tr>\n",
       "    <tr>\n",
       "      <th>2018-09-01</th>\n",
       "      <td>14569.0</td>\n",
       "    </tr>\n",
       "  </tbody>\n",
       "</table>\n",
       "</div>"
      ],
      "text/plain": [
       "                     mb_sum\n",
       "user_id month              \n",
       "1000    2018-05-01   2254.0\n",
       "        2018-06-01  23234.0\n",
       "        2018-07-01  14004.0\n",
       "        2018-08-01  14056.0\n",
       "        2018-09-01  14569.0"
      ]
     },
     "metadata": {},
     "output_type": "display_data"
    }
   ],
   "source": [
    "internet_pivot['mb_sum'] = np.ceil(internet_pivot['mb_sum']) #Округление в большую сторону суммы использованных мб\n",
    "display(internet_pivot.head())"
   ]
  },
  {
   "cell_type": "code",
   "execution_count": 19,
   "metadata": {},
   "outputs": [
    {
     "data": {
      "text/html": [
       "<div>\n",
       "<style scoped>\n",
       "    .dataframe tbody tr th:only-of-type {\n",
       "        vertical-align: middle;\n",
       "    }\n",
       "\n",
       "    .dataframe tbody tr th {\n",
       "        vertical-align: top;\n",
       "    }\n",
       "\n",
       "    .dataframe thead th {\n",
       "        text-align: right;\n",
       "    }\n",
       "</style>\n",
       "<table border=\"1\" class=\"dataframe\">\n",
       "  <thead>\n",
       "    <tr style=\"text-align: right;\">\n",
       "      <th></th>\n",
       "      <th>user_id</th>\n",
       "      <th>city</th>\n",
       "      <th>tariff</th>\n",
       "    </tr>\n",
       "  </thead>\n",
       "  <tbody>\n",
       "    <tr>\n",
       "      <th>0</th>\n",
       "      <td>1000</td>\n",
       "      <td>Краснодар</td>\n",
       "      <td>ultra</td>\n",
       "    </tr>\n",
       "    <tr>\n",
       "      <th>1</th>\n",
       "      <td>1001</td>\n",
       "      <td>Москва</td>\n",
       "      <td>smart</td>\n",
       "    </tr>\n",
       "    <tr>\n",
       "      <th>2</th>\n",
       "      <td>1002</td>\n",
       "      <td>Стерлитамак</td>\n",
       "      <td>smart</td>\n",
       "    </tr>\n",
       "    <tr>\n",
       "      <th>3</th>\n",
       "      <td>1003</td>\n",
       "      <td>Москва</td>\n",
       "      <td>ultra</td>\n",
       "    </tr>\n",
       "    <tr>\n",
       "      <th>4</th>\n",
       "      <td>1004</td>\n",
       "      <td>Новокузнецк</td>\n",
       "      <td>ultra</td>\n",
       "    </tr>\n",
       "  </tbody>\n",
       "</table>\n",
       "</div>"
      ],
      "text/plain": [
       "   user_id         city tariff\n",
       "0     1000    Краснодар  ultra\n",
       "1     1001       Москва  smart\n",
       "2     1002  Стерлитамак  smart\n",
       "3     1003       Москва  ultra\n",
       "4     1004  Новокузнецк  ultra"
      ]
     },
     "execution_count": 19,
     "metadata": {},
     "output_type": "execute_result"
    }
   ],
   "source": [
    "users_dropped = users.drop(columns=['age','churn_date','first_name','last_name','reg_date'])\n",
    "users_dropped.head()"
   ]
  },
  {
   "cell_type": "code",
   "execution_count": 20,
   "metadata": {},
   "outputs": [
    {
     "data": {
      "text/html": [
       "<div>\n",
       "<style scoped>\n",
       "    .dataframe tbody tr th:only-of-type {\n",
       "        vertical-align: middle;\n",
       "    }\n",
       "\n",
       "    .dataframe tbody tr th {\n",
       "        vertical-align: top;\n",
       "    }\n",
       "\n",
       "    .dataframe thead th {\n",
       "        text-align: right;\n",
       "    }\n",
       "</style>\n",
       "<table border=\"1\" class=\"dataframe\">\n",
       "  <thead>\n",
       "    <tr style=\"text-align: right;\">\n",
       "      <th></th>\n",
       "      <th>month</th>\n",
       "      <th>calls_count</th>\n",
       "      <th>calls_min</th>\n",
       "      <th>message_count</th>\n",
       "      <th>mb_sum</th>\n",
       "    </tr>\n",
       "    <tr>\n",
       "      <th>user_id</th>\n",
       "      <th></th>\n",
       "      <th></th>\n",
       "      <th></th>\n",
       "      <th></th>\n",
       "      <th></th>\n",
       "    </tr>\n",
       "  </thead>\n",
       "  <tbody>\n",
       "    <tr>\n",
       "      <th>1000</th>\n",
       "      <td>2018-05-01</td>\n",
       "      <td>22.0</td>\n",
       "      <td>159.0</td>\n",
       "      <td>22.0</td>\n",
       "      <td>2254.0</td>\n",
       "    </tr>\n",
       "    <tr>\n",
       "      <th>1000</th>\n",
       "      <td>2018-06-01</td>\n",
       "      <td>43.0</td>\n",
       "      <td>172.0</td>\n",
       "      <td>60.0</td>\n",
       "      <td>23234.0</td>\n",
       "    </tr>\n",
       "    <tr>\n",
       "      <th>1000</th>\n",
       "      <td>2018-07-01</td>\n",
       "      <td>47.0</td>\n",
       "      <td>340.0</td>\n",
       "      <td>75.0</td>\n",
       "      <td>14004.0</td>\n",
       "    </tr>\n",
       "    <tr>\n",
       "      <th>1000</th>\n",
       "      <td>2018-08-01</td>\n",
       "      <td>52.0</td>\n",
       "      <td>408.0</td>\n",
       "      <td>81.0</td>\n",
       "      <td>14056.0</td>\n",
       "    </tr>\n",
       "    <tr>\n",
       "      <th>1000</th>\n",
       "      <td>2018-09-01</td>\n",
       "      <td>58.0</td>\n",
       "      <td>466.0</td>\n",
       "      <td>57.0</td>\n",
       "      <td>14569.0</td>\n",
       "    </tr>\n",
       "    <tr>\n",
       "      <th>...</th>\n",
       "      <td>...</td>\n",
       "      <td>...</td>\n",
       "      <td>...</td>\n",
       "      <td>...</td>\n",
       "      <td>...</td>\n",
       "    </tr>\n",
       "    <tr>\n",
       "      <th>1498</th>\n",
       "      <td>2018-10-01</td>\n",
       "      <td>41.0</td>\n",
       "      <td>247.0</td>\n",
       "      <td>42.0</td>\n",
       "      <td>20580.0</td>\n",
       "    </tr>\n",
       "    <tr>\n",
       "      <th>1499</th>\n",
       "      <td>2018-09-01</td>\n",
       "      <td>9.0</td>\n",
       "      <td>70.0</td>\n",
       "      <td>11.0</td>\n",
       "      <td>1846.0</td>\n",
       "    </tr>\n",
       "    <tr>\n",
       "      <th>1499</th>\n",
       "      <td>2018-10-01</td>\n",
       "      <td>68.0</td>\n",
       "      <td>449.0</td>\n",
       "      <td>48.0</td>\n",
       "      <td>17789.0</td>\n",
       "    </tr>\n",
       "    <tr>\n",
       "      <th>1499</th>\n",
       "      <td>2018-11-01</td>\n",
       "      <td>74.0</td>\n",
       "      <td>612.0</td>\n",
       "      <td>59.0</td>\n",
       "      <td>17964.0</td>\n",
       "    </tr>\n",
       "    <tr>\n",
       "      <th>1499</th>\n",
       "      <td>2018-12-01</td>\n",
       "      <td>69.0</td>\n",
       "      <td>492.0</td>\n",
       "      <td>66.0</td>\n",
       "      <td>13056.0</td>\n",
       "    </tr>\n",
       "  </tbody>\n",
       "</table>\n",
       "<p>3214 rows × 5 columns</p>\n",
       "</div>"
      ],
      "text/plain": [
       "             month  calls_count  calls_min  message_count   mb_sum\n",
       "user_id                                                           \n",
       "1000    2018-05-01         22.0      159.0           22.0   2254.0\n",
       "1000    2018-06-01         43.0      172.0           60.0  23234.0\n",
       "1000    2018-07-01         47.0      340.0           75.0  14004.0\n",
       "1000    2018-08-01         52.0      408.0           81.0  14056.0\n",
       "1000    2018-09-01         58.0      466.0           57.0  14569.0\n",
       "...            ...          ...        ...            ...      ...\n",
       "1498    2018-10-01         41.0      247.0           42.0  20580.0\n",
       "1499    2018-09-01          9.0       70.0           11.0   1846.0\n",
       "1499    2018-10-01         68.0      449.0           48.0  17789.0\n",
       "1499    2018-11-01         74.0      612.0           59.0  17964.0\n",
       "1499    2018-12-01         69.0      492.0           66.0  13056.0\n",
       "\n",
       "[3214 rows x 5 columns]"
      ]
     },
     "execution_count": 20,
     "metadata": {},
     "output_type": "execute_result"
    }
   ],
   "source": [
    "common_df = calls_pivot.join([messages_pivot,internet_pivot],how='outer').reset_index('month') #Нужно убрать индекс с month для объединения с users_dropped\n",
    "common_df"
   ]
  },
  {
   "cell_type": "code",
   "execution_count": 21,
   "metadata": {},
   "outputs": [
    {
     "data": {
      "text/html": [
       "<div>\n",
       "<style scoped>\n",
       "    .dataframe tbody tr th:only-of-type {\n",
       "        vertical-align: middle;\n",
       "    }\n",
       "\n",
       "    .dataframe tbody tr th {\n",
       "        vertical-align: top;\n",
       "    }\n",
       "\n",
       "    .dataframe thead th {\n",
       "        text-align: right;\n",
       "    }\n",
       "</style>\n",
       "<table border=\"1\" class=\"dataframe\">\n",
       "  <thead>\n",
       "    <tr style=\"text-align: right;\">\n",
       "      <th></th>\n",
       "      <th>user_id</th>\n",
       "      <th>city</th>\n",
       "      <th>tariff</th>\n",
       "      <th>month</th>\n",
       "      <th>calls_count</th>\n",
       "      <th>calls_min</th>\n",
       "      <th>message_count</th>\n",
       "      <th>mb_sum</th>\n",
       "    </tr>\n",
       "  </thead>\n",
       "  <tbody>\n",
       "    <tr>\n",
       "      <th>0</th>\n",
       "      <td>1000</td>\n",
       "      <td>Краснодар</td>\n",
       "      <td>ultra</td>\n",
       "      <td>2018-05-01</td>\n",
       "      <td>22.0</td>\n",
       "      <td>159.0</td>\n",
       "      <td>22.0</td>\n",
       "      <td>2254.0</td>\n",
       "    </tr>\n",
       "    <tr>\n",
       "      <th>0</th>\n",
       "      <td>1000</td>\n",
       "      <td>Краснодар</td>\n",
       "      <td>ultra</td>\n",
       "      <td>2018-06-01</td>\n",
       "      <td>43.0</td>\n",
       "      <td>172.0</td>\n",
       "      <td>60.0</td>\n",
       "      <td>23234.0</td>\n",
       "    </tr>\n",
       "    <tr>\n",
       "      <th>0</th>\n",
       "      <td>1000</td>\n",
       "      <td>Краснодар</td>\n",
       "      <td>ultra</td>\n",
       "      <td>2018-07-01</td>\n",
       "      <td>47.0</td>\n",
       "      <td>340.0</td>\n",
       "      <td>75.0</td>\n",
       "      <td>14004.0</td>\n",
       "    </tr>\n",
       "    <tr>\n",
       "      <th>0</th>\n",
       "      <td>1000</td>\n",
       "      <td>Краснодар</td>\n",
       "      <td>ultra</td>\n",
       "      <td>2018-08-01</td>\n",
       "      <td>52.0</td>\n",
       "      <td>408.0</td>\n",
       "      <td>81.0</td>\n",
       "      <td>14056.0</td>\n",
       "    </tr>\n",
       "    <tr>\n",
       "      <th>0</th>\n",
       "      <td>1000</td>\n",
       "      <td>Краснодар</td>\n",
       "      <td>ultra</td>\n",
       "      <td>2018-09-01</td>\n",
       "      <td>58.0</td>\n",
       "      <td>466.0</td>\n",
       "      <td>57.0</td>\n",
       "      <td>14569.0</td>\n",
       "    </tr>\n",
       "    <tr>\n",
       "      <th>...</th>\n",
       "      <td>...</td>\n",
       "      <td>...</td>\n",
       "      <td>...</td>\n",
       "      <td>...</td>\n",
       "      <td>...</td>\n",
       "      <td>...</td>\n",
       "      <td>...</td>\n",
       "      <td>...</td>\n",
       "    </tr>\n",
       "    <tr>\n",
       "      <th>498</th>\n",
       "      <td>1498</td>\n",
       "      <td>Владикавказ</td>\n",
       "      <td>smart</td>\n",
       "      <td>2018-10-01</td>\n",
       "      <td>41.0</td>\n",
       "      <td>247.0</td>\n",
       "      <td>42.0</td>\n",
       "      <td>20580.0</td>\n",
       "    </tr>\n",
       "    <tr>\n",
       "      <th>499</th>\n",
       "      <td>1499</td>\n",
       "      <td>Пермь</td>\n",
       "      <td>smart</td>\n",
       "      <td>2018-09-01</td>\n",
       "      <td>9.0</td>\n",
       "      <td>70.0</td>\n",
       "      <td>11.0</td>\n",
       "      <td>1846.0</td>\n",
       "    </tr>\n",
       "    <tr>\n",
       "      <th>499</th>\n",
       "      <td>1499</td>\n",
       "      <td>Пермь</td>\n",
       "      <td>smart</td>\n",
       "      <td>2018-10-01</td>\n",
       "      <td>68.0</td>\n",
       "      <td>449.0</td>\n",
       "      <td>48.0</td>\n",
       "      <td>17789.0</td>\n",
       "    </tr>\n",
       "    <tr>\n",
       "      <th>499</th>\n",
       "      <td>1499</td>\n",
       "      <td>Пермь</td>\n",
       "      <td>smart</td>\n",
       "      <td>2018-11-01</td>\n",
       "      <td>74.0</td>\n",
       "      <td>612.0</td>\n",
       "      <td>59.0</td>\n",
       "      <td>17964.0</td>\n",
       "    </tr>\n",
       "    <tr>\n",
       "      <th>499</th>\n",
       "      <td>1499</td>\n",
       "      <td>Пермь</td>\n",
       "      <td>smart</td>\n",
       "      <td>2018-12-01</td>\n",
       "      <td>69.0</td>\n",
       "      <td>492.0</td>\n",
       "      <td>66.0</td>\n",
       "      <td>13056.0</td>\n",
       "    </tr>\n",
       "  </tbody>\n",
       "</table>\n",
       "<p>3216 rows × 8 columns</p>\n",
       "</div>"
      ],
      "text/plain": [
       "     user_id         city tariff      month  calls_count  calls_min  \\\n",
       "0       1000    Краснодар  ultra 2018-05-01         22.0      159.0   \n",
       "0       1000    Краснодар  ultra 2018-06-01         43.0      172.0   \n",
       "0       1000    Краснодар  ultra 2018-07-01         47.0      340.0   \n",
       "0       1000    Краснодар  ultra 2018-08-01         52.0      408.0   \n",
       "0       1000    Краснодар  ultra 2018-09-01         58.0      466.0   \n",
       "..       ...          ...    ...        ...          ...        ...   \n",
       "498     1498  Владикавказ  smart 2018-10-01         41.0      247.0   \n",
       "499     1499        Пермь  smart 2018-09-01          9.0       70.0   \n",
       "499     1499        Пермь  smart 2018-10-01         68.0      449.0   \n",
       "499     1499        Пермь  smart 2018-11-01         74.0      612.0   \n",
       "499     1499        Пермь  smart 2018-12-01         69.0      492.0   \n",
       "\n",
       "     message_count   mb_sum  \n",
       "0             22.0   2254.0  \n",
       "0             60.0  23234.0  \n",
       "0             75.0  14004.0  \n",
       "0             81.0  14056.0  \n",
       "0             57.0  14569.0  \n",
       "..             ...      ...  \n",
       "498           42.0  20580.0  \n",
       "499           11.0   1846.0  \n",
       "499           48.0  17789.0  \n",
       "499           59.0  17964.0  \n",
       "499           66.0  13056.0  \n",
       "\n",
       "[3216 rows x 8 columns]"
      ]
     },
     "execution_count": 21,
     "metadata": {},
     "output_type": "execute_result"
    }
   ],
   "source": [
    "common_df = users_dropped.join(common_df,on='user_id')\n",
    "common_df"
   ]
  },
  {
   "cell_type": "markdown",
   "metadata": {},
   "source": [
    "Была создана общая таблица с данными о пользователях и их звонках, сообщениях и пользованием интернетом каждый месяц"
   ]
  },
  {
   "cell_type": "code",
   "execution_count": 22,
   "metadata": {},
   "outputs": [
    {
     "data": {
      "text/plain": [
       "user_id            0\n",
       "city               0\n",
       "tariff             0\n",
       "month              2\n",
       "calls_count       42\n",
       "calls_min         42\n",
       "message_count    499\n",
       "mb_sum            13\n",
       "dtype: int64"
      ]
     },
     "execution_count": 22,
     "metadata": {},
     "output_type": "execute_result"
    }
   ],
   "source": [
    "common_df.isna().sum() #проверка на количество пропущенных значений"
   ]
  },
  {
   "cell_type": "markdown",
   "metadata": {},
   "source": [
    "В таблице стали присутствовать пропуски и если в столбцах `message_count`, `mb_sum`, `calls_min` и `calls_count` мы можем заменить их на 0, так как пользователь мог просто что то из этого не использовать в этом месяце, то пропуски в столбце `month` мы заменить не можем, их придется удалить"
   ]
  },
  {
   "cell_type": "code",
   "execution_count": 23,
   "metadata": {},
   "outputs": [
    {
     "data": {
      "text/plain": [
       "user_id          0\n",
       "city             0\n",
       "tariff           0\n",
       "month            0\n",
       "calls_count      0\n",
       "calls_min        0\n",
       "message_count    0\n",
       "mb_sum           0\n",
       "dtype: int64"
      ]
     },
     "execution_count": 23,
     "metadata": {},
     "output_type": "execute_result"
    }
   ],
   "source": [
    "common_df = common_df.dropna(subset=['month']) #Удаление строк, где значение в строке month пропущено\n",
    "common_df = common_df.fillna(0) # Добавление во все остальные пропущенные значения значение 0\n",
    "common_df.isna().sum()"
   ]
  },
  {
   "cell_type": "markdown",
   "metadata": {},
   "source": [
    "## Подсчет данных для каждого пользователя"
   ]
  },
  {
   "cell_type": "markdown",
   "metadata": {},
   "source": [
    "Так как для дальнейшего анализа нам понадобится разделение данных на пользователей с тарифом ultra и smart, то можно разделить их сейчас и подсчитать значения их выручки отдельно"
   ]
  },
  {
   "cell_type": "code",
   "execution_count": 24,
   "metadata": {},
   "outputs": [
    {
     "data": {
      "text/html": [
       "<div>\n",
       "<style scoped>\n",
       "    .dataframe tbody tr th:only-of-type {\n",
       "        vertical-align: middle;\n",
       "    }\n",
       "\n",
       "    .dataframe tbody tr th {\n",
       "        vertical-align: top;\n",
       "    }\n",
       "\n",
       "    .dataframe thead th {\n",
       "        text-align: right;\n",
       "    }\n",
       "</style>\n",
       "<table border=\"1\" class=\"dataframe\">\n",
       "  <thead>\n",
       "    <tr style=\"text-align: right;\">\n",
       "      <th></th>\n",
       "      <th>messages_included</th>\n",
       "      <th>mb_per_month_included</th>\n",
       "      <th>minutes_included</th>\n",
       "      <th>rub_monthly_fee</th>\n",
       "      <th>rub_per_gb</th>\n",
       "      <th>rub_per_message</th>\n",
       "      <th>rub_per_minute</th>\n",
       "      <th>tariff_name</th>\n",
       "    </tr>\n",
       "  </thead>\n",
       "  <tbody>\n",
       "    <tr>\n",
       "      <th>0</th>\n",
       "      <td>50</td>\n",
       "      <td>15360</td>\n",
       "      <td>500</td>\n",
       "      <td>550</td>\n",
       "      <td>200</td>\n",
       "      <td>3</td>\n",
       "      <td>3</td>\n",
       "      <td>smart</td>\n",
       "    </tr>\n",
       "    <tr>\n",
       "      <th>1</th>\n",
       "      <td>1000</td>\n",
       "      <td>30720</td>\n",
       "      <td>3000</td>\n",
       "      <td>1950</td>\n",
       "      <td>150</td>\n",
       "      <td>1</td>\n",
       "      <td>1</td>\n",
       "      <td>ultra</td>\n",
       "    </tr>\n",
       "  </tbody>\n",
       "</table>\n",
       "</div>"
      ],
      "text/plain": [
       "   messages_included  mb_per_month_included  minutes_included  \\\n",
       "0                 50                  15360               500   \n",
       "1               1000                  30720              3000   \n",
       "\n",
       "   rub_monthly_fee  rub_per_gb  rub_per_message  rub_per_minute tariff_name  \n",
       "0              550         200                3               3       smart  \n",
       "1             1950         150                1               1       ultra  "
      ]
     },
     "execution_count": 24,
     "metadata": {},
     "output_type": "execute_result"
    }
   ],
   "source": [
    "tariffs"
   ]
  },
  {
   "cell_type": "code",
   "execution_count": 25,
   "metadata": {},
   "outputs": [
    {
     "data": {
      "text/html": [
       "<div>\n",
       "<style scoped>\n",
       "    .dataframe tbody tr th:only-of-type {\n",
       "        vertical-align: middle;\n",
       "    }\n",
       "\n",
       "    .dataframe tbody tr th {\n",
       "        vertical-align: top;\n",
       "    }\n",
       "\n",
       "    .dataframe thead th {\n",
       "        text-align: right;\n",
       "    }\n",
       "</style>\n",
       "<table border=\"1\" class=\"dataframe\">\n",
       "  <thead>\n",
       "    <tr style=\"text-align: right;\">\n",
       "      <th></th>\n",
       "      <th>user_id</th>\n",
       "      <th>city</th>\n",
       "      <th>tariff</th>\n",
       "      <th>month</th>\n",
       "      <th>calls_count</th>\n",
       "      <th>calls_min</th>\n",
       "      <th>message_count</th>\n",
       "      <th>mb_sum</th>\n",
       "      <th>min_used</th>\n",
       "      <th>message_used</th>\n",
       "      <th>mb_used</th>\n",
       "      <th>result</th>\n",
       "    </tr>\n",
       "  </thead>\n",
       "  <tbody>\n",
       "    <tr>\n",
       "      <th>1</th>\n",
       "      <td>1001</td>\n",
       "      <td>Москва</td>\n",
       "      <td>smart</td>\n",
       "      <td>2018-11-01</td>\n",
       "      <td>59.0</td>\n",
       "      <td>430.0</td>\n",
       "      <td>0.0</td>\n",
       "      <td>18430.0</td>\n",
       "      <td>0.0</td>\n",
       "      <td>0.0</td>\n",
       "      <td>3.0</td>\n",
       "      <td>1150.0</td>\n",
       "    </tr>\n",
       "    <tr>\n",
       "      <th>1</th>\n",
       "      <td>1001</td>\n",
       "      <td>Москва</td>\n",
       "      <td>smart</td>\n",
       "      <td>2018-12-01</td>\n",
       "      <td>63.0</td>\n",
       "      <td>414.0</td>\n",
       "      <td>0.0</td>\n",
       "      <td>14037.0</td>\n",
       "      <td>0.0</td>\n",
       "      <td>0.0</td>\n",
       "      <td>0.0</td>\n",
       "      <td>550.0</td>\n",
       "    </tr>\n",
       "    <tr>\n",
       "      <th>2</th>\n",
       "      <td>1002</td>\n",
       "      <td>Стерлитамак</td>\n",
       "      <td>smart</td>\n",
       "      <td>2018-06-01</td>\n",
       "      <td>15.0</td>\n",
       "      <td>117.0</td>\n",
       "      <td>4.0</td>\n",
       "      <td>10857.0</td>\n",
       "      <td>0.0</td>\n",
       "      <td>0.0</td>\n",
       "      <td>0.0</td>\n",
       "      <td>550.0</td>\n",
       "    </tr>\n",
       "    <tr>\n",
       "      <th>2</th>\n",
       "      <td>1002</td>\n",
       "      <td>Стерлитамак</td>\n",
       "      <td>smart</td>\n",
       "      <td>2018-07-01</td>\n",
       "      <td>26.0</td>\n",
       "      <td>214.0</td>\n",
       "      <td>11.0</td>\n",
       "      <td>17581.0</td>\n",
       "      <td>0.0</td>\n",
       "      <td>0.0</td>\n",
       "      <td>3.0</td>\n",
       "      <td>1150.0</td>\n",
       "    </tr>\n",
       "    <tr>\n",
       "      <th>2</th>\n",
       "      <td>1002</td>\n",
       "      <td>Стерлитамак</td>\n",
       "      <td>smart</td>\n",
       "      <td>2018-08-01</td>\n",
       "      <td>42.0</td>\n",
       "      <td>289.0</td>\n",
       "      <td>13.0</td>\n",
       "      <td>20320.0</td>\n",
       "      <td>0.0</td>\n",
       "      <td>0.0</td>\n",
       "      <td>5.0</td>\n",
       "      <td>1550.0</td>\n",
       "    </tr>\n",
       "    <tr>\n",
       "      <th>...</th>\n",
       "      <td>...</td>\n",
       "      <td>...</td>\n",
       "      <td>...</td>\n",
       "      <td>...</td>\n",
       "      <td>...</td>\n",
       "      <td>...</td>\n",
       "      <td>...</td>\n",
       "      <td>...</td>\n",
       "      <td>...</td>\n",
       "      <td>...</td>\n",
       "      <td>...</td>\n",
       "      <td>...</td>\n",
       "    </tr>\n",
       "    <tr>\n",
       "      <th>498</th>\n",
       "      <td>1498</td>\n",
       "      <td>Владикавказ</td>\n",
       "      <td>smart</td>\n",
       "      <td>2018-10-01</td>\n",
       "      <td>41.0</td>\n",
       "      <td>247.0</td>\n",
       "      <td>42.0</td>\n",
       "      <td>20580.0</td>\n",
       "      <td>0.0</td>\n",
       "      <td>0.0</td>\n",
       "      <td>6.0</td>\n",
       "      <td>1750.0</td>\n",
       "    </tr>\n",
       "    <tr>\n",
       "      <th>499</th>\n",
       "      <td>1499</td>\n",
       "      <td>Пермь</td>\n",
       "      <td>smart</td>\n",
       "      <td>2018-09-01</td>\n",
       "      <td>9.0</td>\n",
       "      <td>70.0</td>\n",
       "      <td>11.0</td>\n",
       "      <td>1846.0</td>\n",
       "      <td>0.0</td>\n",
       "      <td>0.0</td>\n",
       "      <td>0.0</td>\n",
       "      <td>550.0</td>\n",
       "    </tr>\n",
       "    <tr>\n",
       "      <th>499</th>\n",
       "      <td>1499</td>\n",
       "      <td>Пермь</td>\n",
       "      <td>smart</td>\n",
       "      <td>2018-10-01</td>\n",
       "      <td>68.0</td>\n",
       "      <td>449.0</td>\n",
       "      <td>48.0</td>\n",
       "      <td>17789.0</td>\n",
       "      <td>0.0</td>\n",
       "      <td>0.0</td>\n",
       "      <td>3.0</td>\n",
       "      <td>1150.0</td>\n",
       "    </tr>\n",
       "    <tr>\n",
       "      <th>499</th>\n",
       "      <td>1499</td>\n",
       "      <td>Пермь</td>\n",
       "      <td>smart</td>\n",
       "      <td>2018-11-01</td>\n",
       "      <td>74.0</td>\n",
       "      <td>612.0</td>\n",
       "      <td>59.0</td>\n",
       "      <td>17964.0</td>\n",
       "      <td>112.0</td>\n",
       "      <td>9.0</td>\n",
       "      <td>3.0</td>\n",
       "      <td>1513.0</td>\n",
       "    </tr>\n",
       "    <tr>\n",
       "      <th>499</th>\n",
       "      <td>1499</td>\n",
       "      <td>Пермь</td>\n",
       "      <td>smart</td>\n",
       "      <td>2018-12-01</td>\n",
       "      <td>69.0</td>\n",
       "      <td>492.0</td>\n",
       "      <td>66.0</td>\n",
       "      <td>13056.0</td>\n",
       "      <td>0.0</td>\n",
       "      <td>16.0</td>\n",
       "      <td>0.0</td>\n",
       "      <td>598.0</td>\n",
       "    </tr>\n",
       "  </tbody>\n",
       "</table>\n",
       "<p>2229 rows × 12 columns</p>\n",
       "</div>"
      ],
      "text/plain": [
       "     user_id         city tariff      month  calls_count  calls_min  \\\n",
       "1       1001       Москва  smart 2018-11-01         59.0      430.0   \n",
       "1       1001       Москва  smart 2018-12-01         63.0      414.0   \n",
       "2       1002  Стерлитамак  smart 2018-06-01         15.0      117.0   \n",
       "2       1002  Стерлитамак  smart 2018-07-01         26.0      214.0   \n",
       "2       1002  Стерлитамак  smart 2018-08-01         42.0      289.0   \n",
       "..       ...          ...    ...        ...          ...        ...   \n",
       "498     1498  Владикавказ  smart 2018-10-01         41.0      247.0   \n",
       "499     1499        Пермь  smart 2018-09-01          9.0       70.0   \n",
       "499     1499        Пермь  smart 2018-10-01         68.0      449.0   \n",
       "499     1499        Пермь  smart 2018-11-01         74.0      612.0   \n",
       "499     1499        Пермь  smart 2018-12-01         69.0      492.0   \n",
       "\n",
       "     message_count   mb_sum  min_used  message_used  mb_used  result  \n",
       "1              0.0  18430.0       0.0           0.0      3.0  1150.0  \n",
       "1              0.0  14037.0       0.0           0.0      0.0   550.0  \n",
       "2              4.0  10857.0       0.0           0.0      0.0   550.0  \n",
       "2             11.0  17581.0       0.0           0.0      3.0  1150.0  \n",
       "2             13.0  20320.0       0.0           0.0      5.0  1550.0  \n",
       "..             ...      ...       ...           ...      ...     ...  \n",
       "498           42.0  20580.0       0.0           0.0      6.0  1750.0  \n",
       "499           11.0   1846.0       0.0           0.0      0.0   550.0  \n",
       "499           48.0  17789.0       0.0           0.0      3.0  1150.0  \n",
       "499           59.0  17964.0     112.0           9.0      3.0  1513.0  \n",
       "499           66.0  13056.0       0.0          16.0      0.0   598.0  \n",
       "\n",
       "[2229 rows x 12 columns]"
      ]
     },
     "execution_count": 25,
     "metadata": {},
     "output_type": "execute_result"
    }
   ],
   "source": [
    "smart_df = common_df.query('tariff==\"smart\"').copy() #Создание таблицы только с тарифом smart\n",
    "smart_df['min_used'] = smart_df['calls_min'] - 500 #Подсчет количества дополнительно использованных минут \n",
    "smart_df.loc[smart_df['min_used']<=0,'min_used'] = 0 #Замена всех минут, которые не были использованы на 0\n",
    "smart_df['message_used'] = smart_df['message_count'] - 50 #Подсчет количества дополлнительно использованных минут\n",
    "smart_df.loc[smart_df['message_used']<=0, 'message_used'] = 0 #Замена всех минут, которые не были использованы на 0\n",
    "smart_df['mb_used'] = smart_df['mb_sum'] - 15360 #Подсчет количества дполнительно использованного интернет трафика\n",
    "smart_df.loc[smart_df['mb_used']<=0, 'mb_used'] = 0 #Замена всех неиспользованных мб на 0\n",
    "smart_df['mb_used'] = np.ceil(smart_df['mb_used']/1024) #Перевод из мб в гб с округлением в большую сторону \n",
    "smart_df['result'] = (smart_df['min_used']*3) + \\\n",
    "                     (smart_df['message_used']*3) + \\\n",
    "                     (smart_df['mb_used']*200) + \\\n",
    "                     550 #Подсчет общей суммы уплаченой клиентом\n",
    "smart_df"
   ]
  },
  {
   "cell_type": "code",
   "execution_count": 26,
   "metadata": {},
   "outputs": [
    {
     "data": {
      "text/html": [
       "<div>\n",
       "<style scoped>\n",
       "    .dataframe tbody tr th:only-of-type {\n",
       "        vertical-align: middle;\n",
       "    }\n",
       "\n",
       "    .dataframe tbody tr th {\n",
       "        vertical-align: top;\n",
       "    }\n",
       "\n",
       "    .dataframe thead th {\n",
       "        text-align: right;\n",
       "    }\n",
       "</style>\n",
       "<table border=\"1\" class=\"dataframe\">\n",
       "  <thead>\n",
       "    <tr style=\"text-align: right;\">\n",
       "      <th></th>\n",
       "      <th>user_id</th>\n",
       "      <th>city</th>\n",
       "      <th>tariff</th>\n",
       "      <th>month</th>\n",
       "      <th>calls_count</th>\n",
       "      <th>calls_min</th>\n",
       "      <th>message_count</th>\n",
       "      <th>mb_sum</th>\n",
       "      <th>min_used</th>\n",
       "      <th>message_used</th>\n",
       "      <th>mb_used</th>\n",
       "      <th>result</th>\n",
       "    </tr>\n",
       "  </thead>\n",
       "  <tbody>\n",
       "    <tr>\n",
       "      <th>0</th>\n",
       "      <td>1000</td>\n",
       "      <td>Краснодар</td>\n",
       "      <td>ultra</td>\n",
       "      <td>2018-05-01</td>\n",
       "      <td>22.0</td>\n",
       "      <td>159.0</td>\n",
       "      <td>22.0</td>\n",
       "      <td>2254.0</td>\n",
       "      <td>0.0</td>\n",
       "      <td>0.0</td>\n",
       "      <td>0.0</td>\n",
       "      <td>1950.0</td>\n",
       "    </tr>\n",
       "    <tr>\n",
       "      <th>0</th>\n",
       "      <td>1000</td>\n",
       "      <td>Краснодар</td>\n",
       "      <td>ultra</td>\n",
       "      <td>2018-06-01</td>\n",
       "      <td>43.0</td>\n",
       "      <td>172.0</td>\n",
       "      <td>60.0</td>\n",
       "      <td>23234.0</td>\n",
       "      <td>0.0</td>\n",
       "      <td>0.0</td>\n",
       "      <td>0.0</td>\n",
       "      <td>1950.0</td>\n",
       "    </tr>\n",
       "    <tr>\n",
       "      <th>0</th>\n",
       "      <td>1000</td>\n",
       "      <td>Краснодар</td>\n",
       "      <td>ultra</td>\n",
       "      <td>2018-07-01</td>\n",
       "      <td>47.0</td>\n",
       "      <td>340.0</td>\n",
       "      <td>75.0</td>\n",
       "      <td>14004.0</td>\n",
       "      <td>0.0</td>\n",
       "      <td>0.0</td>\n",
       "      <td>0.0</td>\n",
       "      <td>1950.0</td>\n",
       "    </tr>\n",
       "    <tr>\n",
       "      <th>0</th>\n",
       "      <td>1000</td>\n",
       "      <td>Краснодар</td>\n",
       "      <td>ultra</td>\n",
       "      <td>2018-08-01</td>\n",
       "      <td>52.0</td>\n",
       "      <td>408.0</td>\n",
       "      <td>81.0</td>\n",
       "      <td>14056.0</td>\n",
       "      <td>0.0</td>\n",
       "      <td>0.0</td>\n",
       "      <td>0.0</td>\n",
       "      <td>1950.0</td>\n",
       "    </tr>\n",
       "    <tr>\n",
       "      <th>0</th>\n",
       "      <td>1000</td>\n",
       "      <td>Краснодар</td>\n",
       "      <td>ultra</td>\n",
       "      <td>2018-09-01</td>\n",
       "      <td>58.0</td>\n",
       "      <td>466.0</td>\n",
       "      <td>57.0</td>\n",
       "      <td>14569.0</td>\n",
       "      <td>0.0</td>\n",
       "      <td>0.0</td>\n",
       "      <td>0.0</td>\n",
       "      <td>1950.0</td>\n",
       "    </tr>\n",
       "    <tr>\n",
       "      <th>...</th>\n",
       "      <td>...</td>\n",
       "      <td>...</td>\n",
       "      <td>...</td>\n",
       "      <td>...</td>\n",
       "      <td>...</td>\n",
       "      <td>...</td>\n",
       "      <td>...</td>\n",
       "      <td>...</td>\n",
       "      <td>...</td>\n",
       "      <td>...</td>\n",
       "      <td>...</td>\n",
       "      <td>...</td>\n",
       "    </tr>\n",
       "    <tr>\n",
       "      <th>495</th>\n",
       "      <td>1495</td>\n",
       "      <td>Иркутск</td>\n",
       "      <td>ultra</td>\n",
       "      <td>2018-08-01</td>\n",
       "      <td>17.0</td>\n",
       "      <td>92.0</td>\n",
       "      <td>13.0</td>\n",
       "      <td>2615.0</td>\n",
       "      <td>0.0</td>\n",
       "      <td>0.0</td>\n",
       "      <td>0.0</td>\n",
       "      <td>1950.0</td>\n",
       "    </tr>\n",
       "    <tr>\n",
       "      <th>495</th>\n",
       "      <td>1495</td>\n",
       "      <td>Иркутск</td>\n",
       "      <td>ultra</td>\n",
       "      <td>2018-09-01</td>\n",
       "      <td>112.0</td>\n",
       "      <td>813.0</td>\n",
       "      <td>82.0</td>\n",
       "      <td>33068.0</td>\n",
       "      <td>0.0</td>\n",
       "      <td>0.0</td>\n",
       "      <td>3.0</td>\n",
       "      <td>2400.0</td>\n",
       "    </tr>\n",
       "    <tr>\n",
       "      <th>495</th>\n",
       "      <td>1495</td>\n",
       "      <td>Иркутск</td>\n",
       "      <td>ultra</td>\n",
       "      <td>2018-10-01</td>\n",
       "      <td>152.0</td>\n",
       "      <td>1030.0</td>\n",
       "      <td>82.0</td>\n",
       "      <td>29364.0</td>\n",
       "      <td>0.0</td>\n",
       "      <td>0.0</td>\n",
       "      <td>0.0</td>\n",
       "      <td>1950.0</td>\n",
       "    </tr>\n",
       "    <tr>\n",
       "      <th>495</th>\n",
       "      <td>1495</td>\n",
       "      <td>Иркутск</td>\n",
       "      <td>ultra</td>\n",
       "      <td>2018-11-01</td>\n",
       "      <td>129.0</td>\n",
       "      <td>954.0</td>\n",
       "      <td>79.0</td>\n",
       "      <td>38940.0</td>\n",
       "      <td>0.0</td>\n",
       "      <td>0.0</td>\n",
       "      <td>9.0</td>\n",
       "      <td>3300.0</td>\n",
       "    </tr>\n",
       "    <tr>\n",
       "      <th>495</th>\n",
       "      <td>1495</td>\n",
       "      <td>Иркутск</td>\n",
       "      <td>ultra</td>\n",
       "      <td>2018-12-01</td>\n",
       "      <td>155.0</td>\n",
       "      <td>1031.0</td>\n",
       "      <td>84.0</td>\n",
       "      <td>23427.0</td>\n",
       "      <td>0.0</td>\n",
       "      <td>0.0</td>\n",
       "      <td>0.0</td>\n",
       "      <td>1950.0</td>\n",
       "    </tr>\n",
       "  </tbody>\n",
       "</table>\n",
       "<p>985 rows × 12 columns</p>\n",
       "</div>"
      ],
      "text/plain": [
       "     user_id       city tariff      month  calls_count  calls_min  \\\n",
       "0       1000  Краснодар  ultra 2018-05-01         22.0      159.0   \n",
       "0       1000  Краснодар  ultra 2018-06-01         43.0      172.0   \n",
       "0       1000  Краснодар  ultra 2018-07-01         47.0      340.0   \n",
       "0       1000  Краснодар  ultra 2018-08-01         52.0      408.0   \n",
       "0       1000  Краснодар  ultra 2018-09-01         58.0      466.0   \n",
       "..       ...        ...    ...        ...          ...        ...   \n",
       "495     1495    Иркутск  ultra 2018-08-01         17.0       92.0   \n",
       "495     1495    Иркутск  ultra 2018-09-01        112.0      813.0   \n",
       "495     1495    Иркутск  ultra 2018-10-01        152.0     1030.0   \n",
       "495     1495    Иркутск  ultra 2018-11-01        129.0      954.0   \n",
       "495     1495    Иркутск  ultra 2018-12-01        155.0     1031.0   \n",
       "\n",
       "     message_count   mb_sum  min_used  message_used  mb_used  result  \n",
       "0             22.0   2254.0       0.0           0.0      0.0  1950.0  \n",
       "0             60.0  23234.0       0.0           0.0      0.0  1950.0  \n",
       "0             75.0  14004.0       0.0           0.0      0.0  1950.0  \n",
       "0             81.0  14056.0       0.0           0.0      0.0  1950.0  \n",
       "0             57.0  14569.0       0.0           0.0      0.0  1950.0  \n",
       "..             ...      ...       ...           ...      ...     ...  \n",
       "495           13.0   2615.0       0.0           0.0      0.0  1950.0  \n",
       "495           82.0  33068.0       0.0           0.0      3.0  2400.0  \n",
       "495           82.0  29364.0       0.0           0.0      0.0  1950.0  \n",
       "495           79.0  38940.0       0.0           0.0      9.0  3300.0  \n",
       "495           84.0  23427.0       0.0           0.0      0.0  1950.0  \n",
       "\n",
       "[985 rows x 12 columns]"
      ]
     },
     "metadata": {},
     "output_type": "display_data"
    }
   ],
   "source": [
    "ultra_df = common_df.query('tariff==\"ultra\"').copy()\n",
    "ultra_df['min_used'] = ultra_df['calls_min'] - 3000 #Подсчет количества дополнительно использованных минут \n",
    "ultra_df.loc[ultra_df['min_used']<=0,'min_used'] = 0 #Замена всех минут, которые не были использованы на 0\n",
    "ultra_df['message_used'] = ultra_df['message_count'] - 1000 #Подсчет количества дополлнительно использованных минут\n",
    "ultra_df.loc[ultra_df['message_used']<=0, 'message_used'] = 0 #Замена всех минут, которые не были использованы на 0\n",
    "ultra_df['mb_used'] = ultra_df['mb_sum'] - 30720 #Подсчет количества дполнительно использованного интернет трафика\n",
    "ultra_df.loc[ultra_df['mb_used']<=0, 'mb_used'] = 0 #Замена всех неиспользованных мб на 0\n",
    "ultra_df['mb_used'] = np.ceil(ultra_df['mb_used']/1024) #Перевод из мб в гб с округлением в большую сторону \n",
    "ultra_df['result'] = (ultra_df['min_used']*1) + \\\n",
    "                 (ultra_df['message_used']*1) + \\\n",
    "                 (ultra_df['mb_used']*150) + \\\n",
    "                 1950 #Подсчет общей суммы уплаченой клиентом\n",
    "display(ultra_df)"
   ]
  },
  {
   "cell_type": "markdown",
   "metadata": {},
   "source": [
    "Были подсчитаны итоговые расходы для каждого типа пользователей"
   ]
  },
  {
   "cell_type": "code",
   "execution_count": 27,
   "metadata": {},
   "outputs": [],
   "source": [
    "common_df= smart_df.merge(ultra_df,how='outer') #Объединили 2 таблицы для проверки второй гипотезы"
   ]
  },
  {
   "cell_type": "markdown",
   "metadata": {},
   "source": [
    "## Анализ данных"
   ]
  },
  {
   "cell_type": "code",
   "execution_count": 28,
   "metadata": {},
   "outputs": [
    {
     "data": {
      "text/html": [
       "<div>\n",
       "<style scoped>\n",
       "    .dataframe tbody tr th:only-of-type {\n",
       "        vertical-align: middle;\n",
       "    }\n",
       "\n",
       "    .dataframe tbody tr th {\n",
       "        vertical-align: top;\n",
       "    }\n",
       "\n",
       "    .dataframe thead th {\n",
       "        text-align: right;\n",
       "    }\n",
       "</style>\n",
       "<table border=\"1\" class=\"dataframe\">\n",
       "  <thead>\n",
       "    <tr style=\"text-align: right;\">\n",
       "      <th></th>\n",
       "      <th>month</th>\n",
       "      <th>mean_calls_min</th>\n",
       "      <th>mean_mb_sum</th>\n",
       "      <th>mean_message_count</th>\n",
       "      <th>mean_result</th>\n",
       "      <th>var_calls_min</th>\n",
       "      <th>var_mb_sum</th>\n",
       "      <th>var_message_count</th>\n",
       "      <th>var_result</th>\n",
       "      <th>std_calls_min</th>\n",
       "      <th>std_mb_sum</th>\n",
       "      <th>std_message_count</th>\n",
       "      <th>std_result</th>\n",
       "    </tr>\n",
       "    <tr>\n",
       "      <th>tariff</th>\n",
       "      <th></th>\n",
       "      <th></th>\n",
       "      <th></th>\n",
       "      <th></th>\n",
       "      <th></th>\n",
       "      <th></th>\n",
       "      <th></th>\n",
       "      <th></th>\n",
       "      <th></th>\n",
       "      <th></th>\n",
       "      <th></th>\n",
       "      <th></th>\n",
       "      <th></th>\n",
       "    </tr>\n",
       "  </thead>\n",
       "  <tbody>\n",
       "    <tr>\n",
       "      <th>smart</th>\n",
       "      <td>2018-01-01</td>\n",
       "      <td>203.852941</td>\n",
       "      <td>8514.176471</td>\n",
       "      <td>18.235294</td>\n",
       "      <td>721.323529</td>\n",
       "      <td>23787.341355</td>\n",
       "      <td>4.153401e+07</td>\n",
       "      <td>262.367201</td>\n",
       "      <td>1.925162e+05</td>\n",
       "      <td>154.231454</td>\n",
       "      <td>6444.688602</td>\n",
       "      <td>16.197753</td>\n",
       "      <td>438.766641</td>\n",
       "    </tr>\n",
       "    <tr>\n",
       "      <th>smart</th>\n",
       "      <td>2018-02-01</td>\n",
       "      <td>298.689655</td>\n",
       "      <td>11597.517241</td>\n",
       "      <td>24.086207</td>\n",
       "      <td>827.603448</td>\n",
       "      <td>36412.287961</td>\n",
       "      <td>3.902912e+07</td>\n",
       "      <td>473.097701</td>\n",
       "      <td>2.923587e+05</td>\n",
       "      <td>190.820041</td>\n",
       "      <td>6247.328777</td>\n",
       "      <td>21.750809</td>\n",
       "      <td>540.702011</td>\n",
       "    </tr>\n",
       "    <tr>\n",
       "      <th>smart</th>\n",
       "      <td>2018-03-01</td>\n",
       "      <td>390.051948</td>\n",
       "      <td>15104.649351</td>\n",
       "      <td>31.857143</td>\n",
       "      <td>1164.623377</td>\n",
       "      <td>36823.155161</td>\n",
       "      <td>3.396841e+07</td>\n",
       "      <td>718.492481</td>\n",
       "      <td>4.872390e+05</td>\n",
       "      <td>191.893604</td>\n",
       "      <td>5828.242162</td>\n",
       "      <td>26.804710</td>\n",
       "      <td>698.025091</td>\n",
       "    </tr>\n",
       "    <tr>\n",
       "      <th>smart</th>\n",
       "      <td>2018-04-01</td>\n",
       "      <td>367.133929</td>\n",
       "      <td>13462.651786</td>\n",
       "      <td>30.741071</td>\n",
       "      <td>963.089286</td>\n",
       "      <td>34778.207127</td>\n",
       "      <td>3.246972e+07</td>\n",
       "      <td>602.139559</td>\n",
       "      <td>3.159166e+05</td>\n",
       "      <td>186.489161</td>\n",
       "      <td>5698.221206</td>\n",
       "      <td>24.538532</td>\n",
       "      <td>562.064543</td>\n",
       "    </tr>\n",
       "    <tr>\n",
       "      <th>smart</th>\n",
       "      <td>2018-05-01</td>\n",
       "      <td>387.361702</td>\n",
       "      <td>15805.659574</td>\n",
       "      <td>33.773050</td>\n",
       "      <td>1197.510638</td>\n",
       "      <td>34820.061094</td>\n",
       "      <td>3.573960e+07</td>\n",
       "      <td>730.990983</td>\n",
       "      <td>5.226902e+05</td>\n",
       "      <td>186.601343</td>\n",
       "      <td>5978.260685</td>\n",
       "      <td>27.036845</td>\n",
       "      <td>722.973153</td>\n",
       "    </tr>\n",
       "    <tr>\n",
       "      <th>smart</th>\n",
       "      <td>2018-06-01</td>\n",
       "      <td>395.640244</td>\n",
       "      <td>15795.152439</td>\n",
       "      <td>33.402439</td>\n",
       "      <td>1204.018293</td>\n",
       "      <td>30742.918861</td>\n",
       "      <td>3.353722e+07</td>\n",
       "      <td>806.806374</td>\n",
       "      <td>5.561252e+05</td>\n",
       "      <td>175.336587</td>\n",
       "      <td>5791.133143</td>\n",
       "      <td>28.404337</td>\n",
       "      <td>745.738005</td>\n",
       "    </tr>\n",
       "    <tr>\n",
       "      <th>smart</th>\n",
       "      <td>2018-07-01</td>\n",
       "      <td>408.353234</td>\n",
       "      <td>15743.626866</td>\n",
       "      <td>33.751244</td>\n",
       "      <td>1223.950249</td>\n",
       "      <td>32250.269602</td>\n",
       "      <td>3.477684e+07</td>\n",
       "      <td>799.887811</td>\n",
       "      <td>5.453382e+05</td>\n",
       "      <td>179.583601</td>\n",
       "      <td>5897.188740</td>\n",
       "      <td>28.282288</td>\n",
       "      <td>738.470208</td>\n",
       "    </tr>\n",
       "    <tr>\n",
       "      <th>smart</th>\n",
       "      <td>2018-08-01</td>\n",
       "      <td>421.468085</td>\n",
       "      <td>16611.208511</td>\n",
       "      <td>33.638298</td>\n",
       "      <td>1320.595745</td>\n",
       "      <td>34793.583379</td>\n",
       "      <td>3.128725e+07</td>\n",
       "      <td>838.257501</td>\n",
       "      <td>6.276194e+05</td>\n",
       "      <td>186.530382</td>\n",
       "      <td>5593.500857</td>\n",
       "      <td>28.952677</td>\n",
       "      <td>792.224318</td>\n",
       "    </tr>\n",
       "    <tr>\n",
       "      <th>smart</th>\n",
       "      <td>2018-09-01</td>\n",
       "      <td>428.611538</td>\n",
       "      <td>16304.096154</td>\n",
       "      <td>33.638462</td>\n",
       "      <td>1249.946154</td>\n",
       "      <td>33535.342723</td>\n",
       "      <td>2.699978e+07</td>\n",
       "      <td>790.617820</td>\n",
       "      <td>5.366885e+05</td>\n",
       "      <td>183.126576</td>\n",
       "      <td>5196.131409</td>\n",
       "      <td>28.117927</td>\n",
       "      <td>732.590262</td>\n",
       "    </tr>\n",
       "    <tr>\n",
       "      <th>smart</th>\n",
       "      <td>2018-10-01</td>\n",
       "      <td>426.136054</td>\n",
       "      <td>16757.585034</td>\n",
       "      <td>33.765306</td>\n",
       "      <td>1364.853741</td>\n",
       "      <td>35392.336375</td>\n",
       "      <td>3.433238e+07</td>\n",
       "      <td>816.111966</td>\n",
       "      <td>7.102664e+05</td>\n",
       "      <td>188.128510</td>\n",
       "      <td>5859.384178</td>\n",
       "      <td>28.567673</td>\n",
       "      <td>842.773037</td>\n",
       "    </tr>\n",
       "    <tr>\n",
       "      <th>smart</th>\n",
       "      <td>2018-11-01</td>\n",
       "      <td>435.265823</td>\n",
       "      <td>16896.193038</td>\n",
       "      <td>34.075949</td>\n",
       "      <td>1343.047468</td>\n",
       "      <td>31605.237050</td>\n",
       "      <td>2.851872e+07</td>\n",
       "      <td>805.937071</td>\n",
       "      <td>6.331858e+05</td>\n",
       "      <td>177.778618</td>\n",
       "      <td>5340.291831</td>\n",
       "      <td>28.389031</td>\n",
       "      <td>795.729727</td>\n",
       "    </tr>\n",
       "    <tr>\n",
       "      <th>smart</th>\n",
       "      <td>2018-12-01</td>\n",
       "      <td>478.560831</td>\n",
       "      <td>18114.148368</td>\n",
       "      <td>35.994065</td>\n",
       "      <td>1578.531157</td>\n",
       "      <td>39698.622033</td>\n",
       "      <td>3.106583e+07</td>\n",
       "      <td>934.952346</td>\n",
       "      <td>1.070678e+06</td>\n",
       "      <td>199.245131</td>\n",
       "      <td>5573.673161</td>\n",
       "      <td>30.576990</td>\n",
       "      <td>1034.735951</td>\n",
       "    </tr>\n",
       "  </tbody>\n",
       "</table>\n",
       "</div>"
      ],
      "text/plain": [
       "            month  mean_calls_min   mean_mb_sum  mean_message_count  \\\n",
       "tariff                                                                \n",
       "smart  2018-01-01      203.852941   8514.176471           18.235294   \n",
       "smart  2018-02-01      298.689655  11597.517241           24.086207   \n",
       "smart  2018-03-01      390.051948  15104.649351           31.857143   \n",
       "smart  2018-04-01      367.133929  13462.651786           30.741071   \n",
       "smart  2018-05-01      387.361702  15805.659574           33.773050   \n",
       "smart  2018-06-01      395.640244  15795.152439           33.402439   \n",
       "smart  2018-07-01      408.353234  15743.626866           33.751244   \n",
       "smart  2018-08-01      421.468085  16611.208511           33.638298   \n",
       "smart  2018-09-01      428.611538  16304.096154           33.638462   \n",
       "smart  2018-10-01      426.136054  16757.585034           33.765306   \n",
       "smart  2018-11-01      435.265823  16896.193038           34.075949   \n",
       "smart  2018-12-01      478.560831  18114.148368           35.994065   \n",
       "\n",
       "        mean_result  var_calls_min    var_mb_sum  var_message_count  \\\n",
       "tariff                                                                \n",
       "smart    721.323529   23787.341355  4.153401e+07         262.367201   \n",
       "smart    827.603448   36412.287961  3.902912e+07         473.097701   \n",
       "smart   1164.623377   36823.155161  3.396841e+07         718.492481   \n",
       "smart    963.089286   34778.207127  3.246972e+07         602.139559   \n",
       "smart   1197.510638   34820.061094  3.573960e+07         730.990983   \n",
       "smart   1204.018293   30742.918861  3.353722e+07         806.806374   \n",
       "smart   1223.950249   32250.269602  3.477684e+07         799.887811   \n",
       "smart   1320.595745   34793.583379  3.128725e+07         838.257501   \n",
       "smart   1249.946154   33535.342723  2.699978e+07         790.617820   \n",
       "smart   1364.853741   35392.336375  3.433238e+07         816.111966   \n",
       "smart   1343.047468   31605.237050  2.851872e+07         805.937071   \n",
       "smart   1578.531157   39698.622033  3.106583e+07         934.952346   \n",
       "\n",
       "          var_result  std_calls_min   std_mb_sum  std_message_count  \\\n",
       "tariff                                                                \n",
       "smart   1.925162e+05     154.231454  6444.688602          16.197753   \n",
       "smart   2.923587e+05     190.820041  6247.328777          21.750809   \n",
       "smart   4.872390e+05     191.893604  5828.242162          26.804710   \n",
       "smart   3.159166e+05     186.489161  5698.221206          24.538532   \n",
       "smart   5.226902e+05     186.601343  5978.260685          27.036845   \n",
       "smart   5.561252e+05     175.336587  5791.133143          28.404337   \n",
       "smart   5.453382e+05     179.583601  5897.188740          28.282288   \n",
       "smart   6.276194e+05     186.530382  5593.500857          28.952677   \n",
       "smart   5.366885e+05     183.126576  5196.131409          28.117927   \n",
       "smart   7.102664e+05     188.128510  5859.384178          28.567673   \n",
       "smart   6.331858e+05     177.778618  5340.291831          28.389031   \n",
       "smart   1.070678e+06     199.245131  5573.673161          30.576990   \n",
       "\n",
       "         std_result  \n",
       "tariff               \n",
       "smart    438.766641  \n",
       "smart    540.702011  \n",
       "smart    698.025091  \n",
       "smart    562.064543  \n",
       "smart    722.973153  \n",
       "smart    745.738005  \n",
       "smart    738.470208  \n",
       "smart    792.224318  \n",
       "smart    732.590262  \n",
       "smart    842.773037  \n",
       "smart    795.729727  \n",
       "smart   1034.735951  "
      ]
     },
     "metadata": {},
     "output_type": "display_data"
    },
    {
     "data": {
      "text/html": [
       "<div>\n",
       "<style scoped>\n",
       "    .dataframe tbody tr th:only-of-type {\n",
       "        vertical-align: middle;\n",
       "    }\n",
       "\n",
       "    .dataframe tbody tr th {\n",
       "        vertical-align: top;\n",
       "    }\n",
       "\n",
       "    .dataframe thead th {\n",
       "        text-align: right;\n",
       "    }\n",
       "</style>\n",
       "<table border=\"1\" class=\"dataframe\">\n",
       "  <thead>\n",
       "    <tr style=\"text-align: right;\">\n",
       "      <th></th>\n",
       "      <th>month</th>\n",
       "      <th>mean_calls_min</th>\n",
       "      <th>mean_mb_sum</th>\n",
       "      <th>mean_message_count</th>\n",
       "      <th>mean_result</th>\n",
       "      <th>var_calls_min</th>\n",
       "      <th>var_mb_sum</th>\n",
       "      <th>var_message_count</th>\n",
       "      <th>var_result</th>\n",
       "      <th>std_calls_min</th>\n",
       "      <th>std_mb_sum</th>\n",
       "      <th>std_message_count</th>\n",
       "      <th>std_result</th>\n",
       "    </tr>\n",
       "    <tr>\n",
       "      <th>tariff</th>\n",
       "      <th></th>\n",
       "      <th></th>\n",
       "      <th></th>\n",
       "      <th></th>\n",
       "      <th></th>\n",
       "      <th></th>\n",
       "      <th></th>\n",
       "      <th></th>\n",
       "      <th></th>\n",
       "      <th></th>\n",
       "      <th></th>\n",
       "      <th></th>\n",
       "      <th></th>\n",
       "    </tr>\n",
       "  </thead>\n",
       "  <tbody>\n",
       "    <tr>\n",
       "      <th>ultra</th>\n",
       "      <td>2018-01-01</td>\n",
       "      <td>428.111111</td>\n",
       "      <td>13141.333333</td>\n",
       "      <td>33.777778</td>\n",
       "      <td>1950.000000</td>\n",
       "      <td>72769.361111</td>\n",
       "      <td>4.713590e+07</td>\n",
       "      <td>940.694444</td>\n",
       "      <td>0.000000</td>\n",
       "      <td>269.757968</td>\n",
       "      <td>6865.558699</td>\n",
       "      <td>30.670742</td>\n",
       "      <td>0.000000</td>\n",
       "    </tr>\n",
       "    <tr>\n",
       "      <th>ultra</th>\n",
       "      <td>2018-02-01</td>\n",
       "      <td>297.125000</td>\n",
       "      <td>11776.333333</td>\n",
       "      <td>21.958333</td>\n",
       "      <td>1975.000000</td>\n",
       "      <td>87919.679348</td>\n",
       "      <td>1.133121e+08</td>\n",
       "      <td>716.824275</td>\n",
       "      <td>7173.913043</td>\n",
       "      <td>296.512528</td>\n",
       "      <td>10644.816978</td>\n",
       "      <td>26.773574</td>\n",
       "      <td>84.698955</td>\n",
       "    </tr>\n",
       "    <tr>\n",
       "      <th>ultra</th>\n",
       "      <td>2018-03-01</td>\n",
       "      <td>489.648649</td>\n",
       "      <td>17536.081081</td>\n",
       "      <td>32.297297</td>\n",
       "      <td>2014.864865</td>\n",
       "      <td>111384.900901</td>\n",
       "      <td>1.199433e+08</td>\n",
       "      <td>1732.381381</td>\n",
       "      <td>43175.675676</td>\n",
       "      <td>333.743765</td>\n",
       "      <td>10951.862029</td>\n",
       "      <td>41.621886</td>\n",
       "      <td>207.787573</td>\n",
       "    </tr>\n",
       "    <tr>\n",
       "      <th>ultra</th>\n",
       "      <td>2018-04-01</td>\n",
       "      <td>458.018182</td>\n",
       "      <td>16828.618182</td>\n",
       "      <td>31.563636</td>\n",
       "      <td>2001.818182</td>\n",
       "      <td>71653.870034</td>\n",
       "      <td>9.445356e+07</td>\n",
       "      <td>1407.287542</td>\n",
       "      <td>38515.151515</td>\n",
       "      <td>267.682405</td>\n",
       "      <td>9718.722114</td>\n",
       "      <td>37.513831</td>\n",
       "      <td>196.252775</td>\n",
       "    </tr>\n",
       "    <tr>\n",
       "      <th>ultra</th>\n",
       "      <td>2018-05-01</td>\n",
       "      <td>510.328358</td>\n",
       "      <td>19363.671642</td>\n",
       "      <td>37.850746</td>\n",
       "      <td>2059.701493</td>\n",
       "      <td>83870.193578</td>\n",
       "      <td>1.009244e+08</td>\n",
       "      <td>1624.644052</td>\n",
       "      <td>162669.606513</td>\n",
       "      <td>289.603511</td>\n",
       "      <td>10046.112771</td>\n",
       "      <td>40.306874</td>\n",
       "      <td>403.323204</td>\n",
       "    </tr>\n",
       "    <tr>\n",
       "      <th>ultra</th>\n",
       "      <td>2018-06-01</td>\n",
       "      <td>479.702381</td>\n",
       "      <td>18925.416667</td>\n",
       "      <td>41.726190</td>\n",
       "      <td>2039.285714</td>\n",
       "      <td>91535.946500</td>\n",
       "      <td>8.635696e+07</td>\n",
       "      <td>1986.297619</td>\n",
       "      <td>99823.580034</td>\n",
       "      <td>302.549081</td>\n",
       "      <td>9292.844580</td>\n",
       "      <td>44.567899</td>\n",
       "      <td>315.948698</td>\n",
       "    </tr>\n",
       "    <tr>\n",
       "      <th>ultra</th>\n",
       "      <td>2018-07-01</td>\n",
       "      <td>545.791209</td>\n",
       "      <td>20496.153846</td>\n",
       "      <td>49.846154</td>\n",
       "      <td>2118.131868</td>\n",
       "      <td>94322.278144</td>\n",
       "      <td>1.013082e+08</td>\n",
       "      <td>2372.042735</td>\n",
       "      <td>198917.582418</td>\n",
       "      <td>307.119322</td>\n",
       "      <td>10065.198600</td>\n",
       "      <td>48.703621</td>\n",
       "      <td>446.001774</td>\n",
       "    </tr>\n",
       "    <tr>\n",
       "      <th>ultra</th>\n",
       "      <td>2018-08-01</td>\n",
       "      <td>510.775701</td>\n",
       "      <td>19576.570093</td>\n",
       "      <td>48.439252</td>\n",
       "      <td>2083.177570</td>\n",
       "      <td>97956.496385</td>\n",
       "      <td>1.097589e+08</td>\n",
       "      <td>2171.739199</td>\n",
       "      <td>159761.505907</td>\n",
       "      <td>312.980026</td>\n",
       "      <td>10476.586961</td>\n",
       "      <td>46.601923</td>\n",
       "      <td>399.701771</td>\n",
       "    </tr>\n",
       "    <tr>\n",
       "      <th>ultra</th>\n",
       "      <td>2018-09-01</td>\n",
       "      <td>539.443478</td>\n",
       "      <td>19204.773913</td>\n",
       "      <td>52.286957</td>\n",
       "      <td>2024.347826</td>\n",
       "      <td>105716.775286</td>\n",
       "      <td>8.998669e+07</td>\n",
       "      <td>2152.855530</td>\n",
       "      <td>60937.070938</td>\n",
       "      <td>325.141162</td>\n",
       "      <td>9486.131416</td>\n",
       "      <td>46.398874</td>\n",
       "      <td>246.854352</td>\n",
       "    </tr>\n",
       "    <tr>\n",
       "      <th>ultra</th>\n",
       "      <td>2018-10-01</td>\n",
       "      <td>558.081301</td>\n",
       "      <td>20045.853659</td>\n",
       "      <td>58.430894</td>\n",
       "      <td>2065.853659</td>\n",
       "      <td>106464.583500</td>\n",
       "      <td>9.610067e+07</td>\n",
       "      <td>2697.181661</td>\n",
       "      <td>149685.125950</td>\n",
       "      <td>326.289110</td>\n",
       "      <td>9803.095072</td>\n",
       "      <td>51.934398</td>\n",
       "      <td>386.891620</td>\n",
       "    </tr>\n",
       "    <tr>\n",
       "      <th>ultra</th>\n",
       "      <td>2018-11-01</td>\n",
       "      <td>541.380597</td>\n",
       "      <td>19787.313433</td>\n",
       "      <td>55.791045</td>\n",
       "      <td>2092.164179</td>\n",
       "      <td>96570.057064</td>\n",
       "      <td>9.815928e+07</td>\n",
       "      <td>2476.948491</td>\n",
       "      <td>167588.514196</td>\n",
       "      <td>310.757232</td>\n",
       "      <td>9907.536740</td>\n",
       "      <td>49.768951</td>\n",
       "      <td>409.375762</td>\n",
       "    </tr>\n",
       "    <tr>\n",
       "      <th>ultra</th>\n",
       "      <td>2018-12-01</td>\n",
       "      <td>592.805755</td>\n",
       "      <td>21793.690647</td>\n",
       "      <td>60.611511</td>\n",
       "      <td>2138.848921</td>\n",
       "      <td>117276.331561</td>\n",
       "      <td>1.077119e+08</td>\n",
       "      <td>2681.978417</td>\n",
       "      <td>232610.259618</td>\n",
       "      <td>342.456321</td>\n",
       "      <td>10378.433010</td>\n",
       "      <td>51.787821</td>\n",
       "      <td>482.296858</td>\n",
       "    </tr>\n",
       "  </tbody>\n",
       "</table>\n",
       "</div>"
      ],
      "text/plain": [
       "            month  mean_calls_min   mean_mb_sum  mean_message_count  \\\n",
       "tariff                                                                \n",
       "ultra  2018-01-01      428.111111  13141.333333           33.777778   \n",
       "ultra  2018-02-01      297.125000  11776.333333           21.958333   \n",
       "ultra  2018-03-01      489.648649  17536.081081           32.297297   \n",
       "ultra  2018-04-01      458.018182  16828.618182           31.563636   \n",
       "ultra  2018-05-01      510.328358  19363.671642           37.850746   \n",
       "ultra  2018-06-01      479.702381  18925.416667           41.726190   \n",
       "ultra  2018-07-01      545.791209  20496.153846           49.846154   \n",
       "ultra  2018-08-01      510.775701  19576.570093           48.439252   \n",
       "ultra  2018-09-01      539.443478  19204.773913           52.286957   \n",
       "ultra  2018-10-01      558.081301  20045.853659           58.430894   \n",
       "ultra  2018-11-01      541.380597  19787.313433           55.791045   \n",
       "ultra  2018-12-01      592.805755  21793.690647           60.611511   \n",
       "\n",
       "        mean_result  var_calls_min    var_mb_sum  var_message_count  \\\n",
       "tariff                                                                \n",
       "ultra   1950.000000   72769.361111  4.713590e+07         940.694444   \n",
       "ultra   1975.000000   87919.679348  1.133121e+08         716.824275   \n",
       "ultra   2014.864865  111384.900901  1.199433e+08        1732.381381   \n",
       "ultra   2001.818182   71653.870034  9.445356e+07        1407.287542   \n",
       "ultra   2059.701493   83870.193578  1.009244e+08        1624.644052   \n",
       "ultra   2039.285714   91535.946500  8.635696e+07        1986.297619   \n",
       "ultra   2118.131868   94322.278144  1.013082e+08        2372.042735   \n",
       "ultra   2083.177570   97956.496385  1.097589e+08        2171.739199   \n",
       "ultra   2024.347826  105716.775286  8.998669e+07        2152.855530   \n",
       "ultra   2065.853659  106464.583500  9.610067e+07        2697.181661   \n",
       "ultra   2092.164179   96570.057064  9.815928e+07        2476.948491   \n",
       "ultra   2138.848921  117276.331561  1.077119e+08        2681.978417   \n",
       "\n",
       "           var_result  std_calls_min    std_mb_sum  std_message_count  \\\n",
       "tariff                                                                  \n",
       "ultra        0.000000     269.757968   6865.558699          30.670742   \n",
       "ultra     7173.913043     296.512528  10644.816978          26.773574   \n",
       "ultra    43175.675676     333.743765  10951.862029          41.621886   \n",
       "ultra    38515.151515     267.682405   9718.722114          37.513831   \n",
       "ultra   162669.606513     289.603511  10046.112771          40.306874   \n",
       "ultra    99823.580034     302.549081   9292.844580          44.567899   \n",
       "ultra   198917.582418     307.119322  10065.198600          48.703621   \n",
       "ultra   159761.505907     312.980026  10476.586961          46.601923   \n",
       "ultra    60937.070938     325.141162   9486.131416          46.398874   \n",
       "ultra   149685.125950     326.289110   9803.095072          51.934398   \n",
       "ultra   167588.514196     310.757232   9907.536740          49.768951   \n",
       "ultra   232610.259618     342.456321  10378.433010          51.787821   \n",
       "\n",
       "        std_result  \n",
       "tariff              \n",
       "ultra     0.000000  \n",
       "ultra    84.698955  \n",
       "ultra   207.787573  \n",
       "ultra   196.252775  \n",
       "ultra   403.323204  \n",
       "ultra   315.948698  \n",
       "ultra   446.001774  \n",
       "ultra   399.701771  \n",
       "ultra   246.854352  \n",
       "ultra   386.891620  \n",
       "ultra   409.375762  \n",
       "ultra   482.296858  "
      ]
     },
     "metadata": {},
     "output_type": "display_data"
    }
   ],
   "source": [
    "smart_pivot = smart_df.pivot_table(index=['tariff','month'],values=['calls_min','message_count','mb_sum','result'],aggfunc=['mean',np.var,np.std])#Создание свобдных таблиц на основе тарифа и месяцев с подсчетом среднего, дисперсии и стандартного отклонения\n",
    "ultra_pivot = ultra_df.pivot_table(index=['tariff','month'],values=['calls_min','message_count','mb_sum','result'],aggfunc=['mean',np.var,np.std])\n",
    "smart_pivot.columns = ['mean_calls_min','mean_mb_sum','mean_message_count','mean_result','var_calls_min','var_mb_sum','var_message_count','var_result','std_calls_min','std_mb_sum','std_message_count','std_result'] #Переименование столбцов\n",
    "ultra_pivot.columns = ['mean_calls_min','mean_mb_sum','mean_message_count','mean_result','var_calls_min','var_mb_sum','var_message_count','var_result','std_calls_min','std_mb_sum','std_message_count','std_result']\n",
    "smart_pivot = smart_pivot.reset_index('month') #Снятие индекса с month для более удобного построения графиков \n",
    "ultra_pivot = ultra_pivot.reset_index('month') \n",
    "display(smart_pivot)\n",
    "display(ultra_pivot)"
   ]
  },
  {
   "cell_type": "code",
   "execution_count": 29,
   "metadata": {},
   "outputs": [
    {
     "data": {
      "image/png": "[encoded data removed]",
      "text/plain": [
       "<Figure size 432x288 with 1 Axes>"
      ]
     },
     "metadata": {
      "needs_background": "light"
     },
     "output_type": "display_data"
    },
    {
     "data": {
      "image/png": "[encoded data removed]",
      "text/plain": [
       "<Figure size 432x288 with 1 Axes>"
      ]
     },
     "metadata": {
      "needs_background": "light"
     },
     "output_type": "display_data"
    },
    {
     "data": {
      "image/png": "[encoded data removed]",
      "text/plain": [
       "<Figure size 432x288 with 1 Axes>"
      ]
     },
     "metadata": {
      "needs_background": "light"
     },
     "output_type": "display_data"
    },
    {
     "data": {
      "image/png": "[encoded data removed]",
      "text/plain": [
       "<Figure size 432x288 with 1 Axes>"
      ]
     },
     "metadata": {
      "needs_background": "light"
     },
     "output_type": "display_data"
    },
    {
     "data": {
      "image/png": "[encoded data removed]",
      "text/plain": [
       "<Figure size 432x288 with 1 Axes>"
      ]
     },
     "metadata": {
      "needs_background": "light"
     },
     "output_type": "display_data"
    },
    {
     "data": {
      "image/png": "[encoded data removed]",
      "text/plain": [
       "<Figure size 432x288 with 1 Axes>"
      ]
     },
     "metadata": {
      "needs_background": "light"
     },
     "output_type": "display_data"
    },
    {
     "data": {
      "image/png": "[encoded data removed]",
      "text/plain": [
       "<Figure size 432x288 with 1 Axes>"
      ]
     },
     "metadata": {
      "needs_background": "light"
     },
     "output_type": "display_data"
    },
    {
     "data": {
      "image/png": "[encoded data removed]",
      "text/plain": [
       "<Figure size 432x288 with 1 Axes>"
      ]
     },
     "metadata": {
      "needs_background": "light"
     },
     "output_type": "display_data"
    }
   ],
   "source": [
    "plot_info(smart_pivot) #Построение графиков средних значений по месяцам "
   ]
  },
  {
   "cell_type": "markdown",
   "metadata": {},
   "source": [
    "Как мы можем видеть из полученных таблиц и гистограмм в среднем пользователям тарифа \"smart\" нужно около 380-450 минут звонков, 33 сообщений и 17000 мб интернета. При этом можно заметить, что в первые месяцы года расход всех перечисленных услуг был ниже, чем в последующие. По гистограмме мы можем сказать, что в среднем выручка пользователей данного тарифа находится в районе 1200-1400 р в месяц"
   ]
  },
  {
   "cell_type": "code",
   "execution_count": 30,
   "metadata": {},
   "outputs": [
    {
     "data": {
      "image/png": "[encoded data removed]",
      "text/plain": [
       "<Figure size 432x288 with 1 Axes>"
      ]
     },
     "metadata": {
      "needs_background": "light"
     },
     "output_type": "display_data"
    },
    {
     "data": {
      "image/png": "[encoded data removed]",
      "text/plain": [
       "<Figure size 432x288 with 1 Axes>"
      ]
     },
     "metadata": {
      "needs_background": "light"
     },
     "output_type": "display_data"
    },
    {
     "data": {
      "image/png": "[encoded data removed]",
      "text/plain": [
       "<Figure size 432x288 with 1 Axes>"
      ]
     },
     "metadata": {
      "needs_background": "light"
     },
     "output_type": "display_data"
    },
    {
     "data": {
      "image/png": "[encoded data removed]",
      "text/plain": [
       "<Figure size 432x288 with 1 Axes>"
      ]
     },
     "metadata": {
      "needs_background": "light"
     },
     "output_type": "display_data"
    },
    {
     "data": {
      "image/png": "[encoded data removed]",
      "text/plain": [
       "<Figure size 432x288 with 1 Axes>"
      ]
     },
     "metadata": {
      "needs_background": "light"
     },
     "output_type": "display_data"
    },
    {
     "data": {
      "image/png": "[encoded data removed]",
      "text/plain": [
       "<Figure size 432x288 with 1 Axes>"
      ]
     },
     "metadata": {
      "needs_background": "light"
     },
     "output_type": "display_data"
    },
    {
     "data": {
      "image/png": "[encoded data removed]",
      "text/plain": [
       "<Figure size 432x288 with 1 Axes>"
      ]
     },
     "metadata": {
      "needs_background": "light"
     },
     "output_type": "display_data"
    },
    {
     "data": {
      "image/png": "[encoded data removed]",
      "text/plain": [
       "<Figure size 432x288 with 1 Axes>"
      ]
     },
     "metadata": {
      "needs_background": "light"
     },
     "output_type": "display_data"
    }
   ],
   "source": [
    "plot_info(ultra_pivot)"
   ]
  },
  {
   "cell_type": "markdown",
   "metadata": {},
   "source": [
    "Как мы можем видеть по графикам, в среднем пользователям тарифа \"ultra\" нужно около 500-550 минут звонков, 30-60 сообщений и 19000 мб интернет трафика, что по всем показателям больше, чем у тарифа \"smart\". Также нужно заметить, что у пользователей этого тарифа в первый месяц не наблюдается настолько сильной просадки в пользовании услугами, как у тарифа \"smart\", при этом уменьшается в феврале и затем снова повышается, достигая пика к концу года. Средняя выручка пользователей тарифа \"ultra\" значительно выше, чем у тарифа \"smart\" и примерно в течение всего года равна 2000р"
   ]
  },
  {
   "cell_type": "markdown",
   "metadata": {},
   "source": [
    "## Проверка гипотез"
   ]
  },
  {
   "cell_type": "markdown",
   "metadata": {},
   "source": [
    "### Первая гипотеза"
   ]
  },
  {
   "cell_type": "markdown",
   "metadata": {},
   "source": [
    "Первая гипотеза которую нужно проверить звучит так:  \n",
    "- Средняя выручка пользователей тарифов «Ультра» и «Смарт» различаются\n",
    "  \n",
    "Нулевая гипотеза исходя из этого звучит так:  \n",
    "-  Средняя выручка пользователей тарифов «Ультра» и «Смарт» равна  \n",
    "Альтернативная гипотеза:  \n",
    "- Средняя выручка пользователей тарифов «Ультра» и «Смарт» различаются\n",
    "\n",
    "Пороговое значени равно 5%"
   ]
  },
  {
   "cell_type": "code",
   "execution_count": 31,
   "metadata": {},
   "outputs": [
    {
     "name": "stdout",
     "output_type": "stream",
     "text": [
      "p-значение: 1.4229814360764067e-160\n",
      "Отвергаем нулевую гипотезу\n"
     ]
    },
    {
     "data": {
      "text/plain": [
       "'Средняя выручка пользователей тарифа \"smart\":'"
      ]
     },
     "metadata": {},
     "output_type": "display_data"
    },
    {
     "data": {
      "text/plain": [
       "1289.9735307312696"
      ]
     },
     "metadata": {},
     "output_type": "display_data"
    },
    {
     "data": {
      "text/plain": [
       "'Средняя выручка пользователей тарифа \"ultra\":'"
      ]
     },
     "metadata": {},
     "output_type": "display_data"
    },
    {
     "data": {
      "text/plain": [
       "2070.1522842639592"
      ]
     },
     "metadata": {},
     "output_type": "display_data"
    }
   ],
   "source": [
    "sample_1 = smart_df['result'] #Первая генеральная совокупность\n",
    "sample_2 = ultra_df['result'] #Вторая генеральная совокупность\n",
    "\n",
    "alpha = 0.05 #Пороговое значение \n",
    "\n",
    "results = st.ttest_ind(sample_1,sample_2)\n",
    "results = results.pvalue\n",
    "\n",
    "print('p-значение:',results)\n",
    "\n",
    "if results<alpha:\n",
    "    print('Отвергаем нулевую гипотезу')\n",
    "else:\n",
    "    print('Принимаем нулевую гипотезу')\n",
    "    \n",
    "display('Средняя выручка пользователей тарифа \"smart\":', sample_1.mean())\n",
    "display('Средняя выручка пользователей тарифа \"ultra\":',sample_2.mean())   "
   ]
  },
  {
   "cell_type": "markdown",
   "metadata": {},
   "source": [
    "По значению pvalue нам приходится отвергнуть нулевую гипотезу и признать, что выручка с разных тарифов значительно различается, а исходя из средних значений, то можем увидеть, что пользователи тарифа \"ultra\" в среднем платят больше"
   ]
  },
  {
   "cell_type": "markdown",
   "metadata": {},
   "source": [
    "### Вторая гипотеза"
   ]
  },
  {
   "cell_type": "markdown",
   "metadata": {},
   "source": [
    "Вторая гипотеза которую нужно проверить звучит так:  \n",
    "- Средняя выручка пользователей из Москвы отличается от выручки пользователей из других регионов.\n",
    "  \n",
    "Нулевая гипотеза исходя из этого звучит так:  \n",
    "-  Средняя выручка пользователей из Москвы равна выручке пользователей из других регионов  \n",
    "  \n",
    "Альтернативная гипотеза:  \n",
    "- Средняя выручка пользователей из Москвы отличается от выручки пользователей из других регионов.\n",
    "\n",
    "Пороговое значени равно 5%"
   ]
  },
  {
   "cell_type": "code",
   "execution_count": 32,
   "metadata": {},
   "outputs": [
    {
     "name": "stdout",
     "output_type": "stream",
     "text": [
      "p-значение: 0.5440152911670224\n",
      "Принимаем нулевую гипотезу\n"
     ]
    },
    {
     "data": {
      "text/plain": [
       "'Средняя выручка пользователей из Москвы:'"
      ]
     },
     "metadata": {},
     "output_type": "display_data"
    },
    {
     "data": {
      "text/plain": [
       "1546.7135842880523"
      ]
     },
     "metadata": {},
     "output_type": "display_data"
    },
    {
     "data": {
      "text/plain": [
       "'Средняя выручка пользователей из других регионов:'"
      ]
     },
     "metadata": {},
     "output_type": "display_data"
    },
    {
     "data": {
      "text/plain": [
       "1524.9362274298885"
      ]
     },
     "metadata": {},
     "output_type": "display_data"
    }
   ],
   "source": [
    "sample_1 = common_df[common_df['city']=='Москва']['result']\n",
    "sample_2 = common_df[common_df['city']!='Москва']['result']\n",
    "\n",
    "alpha=0.05\n",
    "\n",
    "results = st.ttest_ind(sample_1,sample_2)\n",
    "results = results.pvalue\n",
    "\n",
    "print('p-значение:',results)\n",
    "\n",
    "if results<alpha:\n",
    "    print('Отвергаем нулевую гипотезу')\n",
    "else:\n",
    "    print('Принимаем нулевую гипотезу')\n",
    "    \n",
    "display('Средняя выручка пользователей из Москвы:', sample_1.mean())\n",
    "display('Средняя выручка пользователей из других регионов:',sample_2.mean())"
   ]
  },
  {
   "cell_type": "markdown",
   "metadata": {},
   "source": [
    "plevel равен 54% исходя из чего можем сделать вывод, что действительно, средняя выручка пользователей из Москвы примерно равна выручке пользователей из других регионов"
   ]
  },
  {
   "cell_type": "markdown",
   "metadata": {},
   "source": [
    "## Итоговый вывод"
   ]
  },
  {
   "cell_type": "markdown",
   "metadata": {},
   "source": [
    "1. В среднем пользователи тарифа \"ultra\" платят значительно больше, чем пользователи тарифа \"smart\", а значит рекламный бюджет стоит выделять, для распространения тарифа \"ultra\"\n",
    "2. Выручка пользователей из Москвы не отличается от выручки пользователей из других регионов, так что рекламный бюджет можно выделять в одинаковой мере на все регионы"
   ]
  }
 ],
 "metadata": {
  "ExecuteTimeLog": [
   {
    "duration": 1943,
    "start_time": "2022-05-13T17:23:50.646Z"
   },
   {
    "duration": 36,
    "start_time": "2022-05-13T17:24:42.206Z"
   },
   {
    "duration": 5,
    "start_time": "2022-05-13T17:27:38.158Z"
   },
   {
    "duration": 658,
    "start_time": "2022-05-13T17:27:38.166Z"
   },
   {
    "duration": 0,
    "start_time": "2022-05-13T17:27:38.827Z"
   },
   {
    "duration": 662,
    "start_time": "2022-05-13T17:27:49.038Z"
   },
   {
    "duration": 26,
    "start_time": "2022-05-13T17:28:02.457Z"
   },
   {
    "duration": 35,
    "start_time": "2022-05-13T17:28:16.456Z"
   },
   {
    "duration": 45,
    "start_time": "2022-05-13T17:28:33.402Z"
   },
   {
    "duration": 4,
    "start_time": "2022-05-13T17:31:00.970Z"
   },
   {
    "duration": 41,
    "start_time": "2022-05-13T17:31:18.764Z"
   },
   {
    "duration": 4,
    "start_time": "2022-05-13T17:41:18.189Z"
   },
   {
    "duration": 54,
    "start_time": "2022-05-13T17:41:19.999Z"
   },
   {
    "duration": 4,
    "start_time": "2022-05-13T17:42:09.341Z"
   },
   {
    "duration": 40,
    "start_time": "2022-05-13T17:42:10.838Z"
   },
   {
    "duration": 13,
    "start_time": "2022-05-13T17:43:31.735Z"
   },
   {
    "duration": 75,
    "start_time": "2022-05-13T17:43:36.276Z"
   },
   {
    "duration": 73,
    "start_time": "2022-05-13T17:48:15.045Z"
   },
   {
    "duration": 4,
    "start_time": "2022-05-13T17:54:29.339Z"
   },
   {
    "duration": 74,
    "start_time": "2022-05-13T17:54:32.588Z"
   },
   {
    "duration": 4,
    "start_time": "2022-05-13T17:55:15.721Z"
   },
   {
    "duration": 72,
    "start_time": "2022-05-13T17:55:18.901Z"
   },
   {
    "duration": 47,
    "start_time": "2022-05-13T17:55:53.455Z"
   },
   {
    "duration": 11,
    "start_time": "2022-05-13T17:58:58.183Z"
   },
   {
    "duration": 60,
    "start_time": "2022-05-13T17:59:02.752Z"
   },
   {
    "duration": 64,
    "start_time": "2022-05-13T18:01:57.955Z"
   },
   {
    "duration": 33,
    "start_time": "2022-05-13T18:02:06.504Z"
   },
   {
    "duration": 95,
    "start_time": "2022-05-13T18:03:08.203Z"
   },
   {
    "duration": 1842,
    "start_time": "2022-05-13T18:03:13.588Z"
   },
   {
    "duration": 10,
    "start_time": "2022-05-13T18:03:15.436Z"
   },
   {
    "duration": 1479,
    "start_time": "2022-05-13T18:03:15.449Z"
   },
   {
    "duration": 57,
    "start_time": "2022-05-13T18:03:16.931Z"
   },
   {
    "duration": 173,
    "start_time": "2022-05-13T18:03:16.990Z"
   },
   {
    "duration": 113,
    "start_time": "2022-05-13T18:03:17.165Z"
   },
   {
    "duration": 85,
    "start_time": "2022-05-13T18:03:17.281Z"
   },
   {
    "duration": 74,
    "start_time": "2022-05-13T18:03:17.369Z"
   },
   {
    "duration": 1719,
    "start_time": "2022-05-13T18:03:40.452Z"
   },
   {
    "duration": 5,
    "start_time": "2022-05-13T18:03:42.173Z"
   },
   {
    "duration": 2220,
    "start_time": "2022-05-13T18:03:42.180Z"
   },
   {
    "duration": 58,
    "start_time": "2022-05-13T18:03:44.403Z"
   },
   {
    "duration": 116,
    "start_time": "2022-05-13T18:03:44.464Z"
   },
   {
    "duration": 114,
    "start_time": "2022-05-13T18:03:44.583Z"
   },
   {
    "duration": 73,
    "start_time": "2022-05-13T18:03:44.700Z"
   },
   {
    "duration": 85,
    "start_time": "2022-05-13T18:03:44.775Z"
   },
   {
    "duration": 109,
    "start_time": "2022-05-13T18:03:44.862Z"
   },
   {
    "duration": 6,
    "start_time": "2022-05-13T18:16:07.664Z"
   },
   {
    "duration": 61,
    "start_time": "2022-05-13T18:16:33.852Z"
   },
   {
    "duration": 100,
    "start_time": "2022-05-13T18:16:44.851Z"
   },
   {
    "duration": 123,
    "start_time": "2022-05-13T18:16:54.324Z"
   },
   {
    "duration": 134,
    "start_time": "2022-05-13T18:18:07.819Z"
   },
   {
    "duration": 69,
    "start_time": "2022-05-13T18:18:24.242Z"
   },
   {
    "duration": 30,
    "start_time": "2022-05-13T18:18:37.316Z"
   },
   {
    "duration": 22,
    "start_time": "2022-05-13T18:18:40.712Z"
   },
   {
    "duration": 184,
    "start_time": "2022-05-13T18:20:10.778Z"
   },
   {
    "duration": 12,
    "start_time": "2022-05-13T18:20:26.486Z"
   },
   {
    "duration": 16,
    "start_time": "2022-05-13T18:20:35.333Z"
   },
   {
    "duration": 5,
    "start_time": "2022-05-13T18:21:25.107Z"
   },
   {
    "duration": 12,
    "start_time": "2022-05-13T18:21:31.276Z"
   },
   {
    "duration": 21,
    "start_time": "2022-05-13T18:21:36.334Z"
   },
   {
    "duration": 17,
    "start_time": "2022-05-13T18:21:45.527Z"
   },
   {
    "duration": 6,
    "start_time": "2022-05-13T18:22:17.698Z"
   },
   {
    "duration": 5,
    "start_time": "2022-05-13T18:22:22.250Z"
   },
   {
    "duration": 25,
    "start_time": "2022-05-13T18:22:27.524Z"
   },
   {
    "duration": 5,
    "start_time": "2022-05-13T18:22:56.117Z"
   },
   {
    "duration": 15,
    "start_time": "2022-05-13T18:23:09.849Z"
   },
   {
    "duration": 7,
    "start_time": "2022-05-13T18:28:32.867Z"
   },
   {
    "duration": 45,
    "start_time": "2022-05-13T18:28:55.238Z"
   },
   {
    "duration": 50,
    "start_time": "2022-05-13T18:29:03.205Z"
   },
   {
    "duration": 47,
    "start_time": "2022-05-13T18:29:13.884Z"
   },
   {
    "duration": 91,
    "start_time": "2022-05-13T18:30:28.919Z"
   },
   {
    "duration": 1802,
    "start_time": "2022-05-15T12:41:13.141Z"
   },
   {
    "duration": 6,
    "start_time": "2022-05-15T12:41:14.946Z"
   },
   {
    "duration": 521,
    "start_time": "2022-05-15T12:41:14.954Z"
   },
   {
    "duration": 53,
    "start_time": "2022-05-15T12:41:15.478Z"
   },
   {
    "duration": 92,
    "start_time": "2022-05-15T12:41:15.533Z"
   },
   {
    "duration": 67,
    "start_time": "2022-05-15T12:41:15.627Z"
   },
   {
    "duration": 58,
    "start_time": "2022-05-15T12:41:15.696Z"
   },
   {
    "duration": 83,
    "start_time": "2022-05-15T12:41:15.757Z"
   },
   {
    "duration": 119,
    "start_time": "2022-05-15T12:41:15.842Z"
   },
   {
    "duration": 13,
    "start_time": "2022-05-15T12:41:15.964Z"
   },
   {
    "duration": 99,
    "start_time": "2022-05-15T12:41:15.979Z"
   },
   {
    "duration": 102,
    "start_time": "2022-05-15T12:41:16.080Z"
   },
   {
    "duration": 77,
    "start_time": "2022-05-15T12:41:29.983Z"
   },
   {
    "duration": 71,
    "start_time": "2022-05-15T12:41:38.465Z"
   },
   {
    "duration": 151,
    "start_time": "2022-05-15T12:41:57.222Z"
   },
   {
    "duration": 147,
    "start_time": "2022-05-15T12:43:24.897Z"
   },
   {
    "duration": 13,
    "start_time": "2022-05-15T12:44:11.955Z"
   },
   {
    "duration": 15,
    "start_time": "2022-05-15T12:44:17.121Z"
   },
   {
    "duration": 36,
    "start_time": "2022-05-15T12:51:19.515Z"
   },
   {
    "duration": 6,
    "start_time": "2022-05-15T12:58:04.496Z"
   },
   {
    "duration": 287,
    "start_time": "2022-05-15T12:58:13.754Z"
   },
   {
    "duration": 348,
    "start_time": "2022-05-15T12:58:19.557Z"
   },
   {
    "duration": 112,
    "start_time": "2022-05-15T13:02:15.148Z"
   },
   {
    "duration": 104,
    "start_time": "2022-05-15T13:02:26.783Z"
   },
   {
    "duration": 120,
    "start_time": "2022-05-15T13:03:45.277Z"
   },
   {
    "duration": 83,
    "start_time": "2022-05-15T13:04:09.046Z"
   },
   {
    "duration": 6,
    "start_time": "2022-05-15T13:04:55.079Z"
   },
   {
    "duration": 72,
    "start_time": "2022-05-15T13:06:19.162Z"
   },
   {
    "duration": 5,
    "start_time": "2022-05-15T13:06:23.308Z"
   },
   {
    "duration": 93,
    "start_time": "2022-05-15T13:11:57.360Z"
   },
   {
    "duration": 102,
    "start_time": "2022-05-15T13:12:14.650Z"
   },
   {
    "duration": 15,
    "start_time": "2022-05-15T13:14:18.542Z"
   },
   {
    "duration": 36,
    "start_time": "2022-05-15T13:14:56.171Z"
   },
   {
    "duration": 3,
    "start_time": "2022-05-15T13:15:07.564Z"
   },
   {
    "duration": 8,
    "start_time": "2022-05-15T13:15:07.570Z"
   },
   {
    "duration": 557,
    "start_time": "2022-05-15T13:15:07.587Z"
   },
   {
    "duration": 37,
    "start_time": "2022-05-15T13:15:08.147Z"
   },
   {
    "duration": 80,
    "start_time": "2022-05-15T13:15:08.186Z"
   },
   {
    "duration": 83,
    "start_time": "2022-05-15T13:15:08.268Z"
   },
   {
    "duration": 44,
    "start_time": "2022-05-15T13:15:08.354Z"
   },
   {
    "duration": 51,
    "start_time": "2022-05-15T13:15:08.425Z"
   },
   {
    "duration": 126,
    "start_time": "2022-05-15T13:15:08.478Z"
   },
   {
    "duration": 37,
    "start_time": "2022-05-15T13:15:08.606Z"
   },
   {
    "duration": 15,
    "start_time": "2022-05-15T13:15:08.645Z"
   },
   {
    "duration": 306,
    "start_time": "2022-05-15T13:15:08.662Z"
   },
   {
    "duration": 31,
    "start_time": "2022-05-15T13:15:08.970Z"
   },
   {
    "duration": 0,
    "start_time": "2022-05-15T13:15:09.004Z"
   },
   {
    "duration": 0,
    "start_time": "2022-05-15T13:15:09.005Z"
   },
   {
    "duration": 0,
    "start_time": "2022-05-15T13:15:09.007Z"
   },
   {
    "duration": 11,
    "start_time": "2022-05-15T13:15:32.684Z"
   },
   {
    "duration": 27,
    "start_time": "2022-05-15T13:15:43.039Z"
   },
   {
    "duration": 4,
    "start_time": "2022-05-15T13:15:47.878Z"
   },
   {
    "duration": 10,
    "start_time": "2022-05-15T13:15:47.885Z"
   },
   {
    "duration": 565,
    "start_time": "2022-05-15T13:15:47.897Z"
   },
   {
    "duration": 46,
    "start_time": "2022-05-15T13:15:48.466Z"
   },
   {
    "duration": 110,
    "start_time": "2022-05-15T13:15:48.514Z"
   },
   {
    "duration": 109,
    "start_time": "2022-05-15T13:15:48.628Z"
   },
   {
    "duration": 48,
    "start_time": "2022-05-15T13:15:48.740Z"
   },
   {
    "duration": 97,
    "start_time": "2022-05-15T13:15:48.790Z"
   },
   {
    "duration": 208,
    "start_time": "2022-05-15T13:15:48.892Z"
   },
   {
    "duration": 53,
    "start_time": "2022-05-15T13:15:49.103Z"
   },
   {
    "duration": 17,
    "start_time": "2022-05-15T13:15:49.158Z"
   },
   {
    "duration": 365,
    "start_time": "2022-05-15T13:15:49.178Z"
   },
   {
    "duration": 22,
    "start_time": "2022-05-15T13:15:49.545Z"
   },
   {
    "duration": 133,
    "start_time": "2022-05-15T13:15:49.569Z"
   },
   {
    "duration": 103,
    "start_time": "2022-05-15T13:15:49.705Z"
   },
   {
    "duration": 20,
    "start_time": "2022-05-15T13:15:49.811Z"
   },
   {
    "duration": 77,
    "start_time": "2022-05-15T13:19:05.170Z"
   },
   {
    "duration": 74,
    "start_time": "2022-05-15T13:19:52.858Z"
   },
   {
    "duration": 73,
    "start_time": "2022-05-15T13:20:18.803Z"
   },
   {
    "duration": 6,
    "start_time": "2022-05-15T13:20:22.016Z"
   },
   {
    "duration": 72,
    "start_time": "2022-05-15T13:20:37.524Z"
   },
   {
    "duration": 2079,
    "start_time": "2022-05-15T13:21:54.530Z"
   },
   {
    "duration": 2106,
    "start_time": "2022-05-15T13:21:57.933Z"
   },
   {
    "duration": 2335,
    "start_time": "2022-05-15T13:22:27.257Z"
   },
   {
    "duration": 568,
    "start_time": "2022-05-15T13:22:39.030Z"
   },
   {
    "duration": 2047,
    "start_time": "2022-05-15T13:22:51.752Z"
   },
   {
    "duration": 28,
    "start_time": "2022-05-15T13:24:44.225Z"
   },
   {
    "duration": 455,
    "start_time": "2022-05-15T13:26:25.828Z"
   },
   {
    "duration": 517,
    "start_time": "2022-05-15T13:26:33.960Z"
   },
   {
    "duration": 35,
    "start_time": "2022-05-15T13:26:48.977Z"
   },
   {
    "duration": 44,
    "start_time": "2022-05-15T13:27:20.312Z"
   },
   {
    "duration": 4,
    "start_time": "2022-05-15T13:27:24.289Z"
   },
   {
    "duration": 6,
    "start_time": "2022-05-15T13:27:24.296Z"
   },
   {
    "duration": 2086,
    "start_time": "2022-05-15T13:27:24.304Z"
   },
   {
    "duration": 48,
    "start_time": "2022-05-15T13:27:26.394Z"
   },
   {
    "duration": 110,
    "start_time": "2022-05-15T13:27:26.445Z"
   },
   {
    "duration": 102,
    "start_time": "2022-05-15T13:27:26.558Z"
   },
   {
    "duration": 72,
    "start_time": "2022-05-15T13:27:26.664Z"
   },
   {
    "duration": 99,
    "start_time": "2022-05-15T13:27:26.738Z"
   },
   {
    "duration": 134,
    "start_time": "2022-05-15T13:27:26.841Z"
   },
   {
    "duration": 27,
    "start_time": "2022-05-15T13:27:26.978Z"
   },
   {
    "duration": 16,
    "start_time": "2022-05-15T13:27:27.026Z"
   },
   {
    "duration": 396,
    "start_time": "2022-05-15T13:27:27.045Z"
   },
   {
    "duration": 24,
    "start_time": "2022-05-15T13:27:27.444Z"
   },
   {
    "duration": 128,
    "start_time": "2022-05-15T13:27:27.471Z"
   },
   {
    "duration": 105,
    "start_time": "2022-05-15T13:27:27.602Z"
   },
   {
    "duration": 53,
    "start_time": "2022-05-15T13:27:27.710Z"
   },
   {
    "duration": 37,
    "start_time": "2022-05-15T13:27:27.765Z"
   },
   {
    "duration": 12,
    "start_time": "2022-05-15T13:28:53.995Z"
   },
   {
    "duration": 18,
    "start_time": "2022-05-15T13:30:31.368Z"
   },
   {
    "duration": 26,
    "start_time": "2022-05-15T13:30:43.876Z"
   },
   {
    "duration": 6,
    "start_time": "2022-05-15T13:31:39.121Z"
   },
   {
    "duration": 6,
    "start_time": "2022-05-15T13:32:20.182Z"
   },
   {
    "duration": 5,
    "start_time": "2022-05-15T13:32:38.080Z"
   },
   {
    "duration": 10,
    "start_time": "2022-05-15T13:32:38.088Z"
   },
   {
    "duration": 516,
    "start_time": "2022-05-15T13:32:38.101Z"
   },
   {
    "duration": 40,
    "start_time": "2022-05-15T13:32:38.619Z"
   },
   {
    "duration": 94,
    "start_time": "2022-05-15T13:32:38.662Z"
   },
   {
    "duration": 91,
    "start_time": "2022-05-15T13:32:38.758Z"
   },
   {
    "duration": 43,
    "start_time": "2022-05-15T13:32:38.851Z"
   },
   {
    "duration": 78,
    "start_time": "2022-05-15T13:32:38.897Z"
   },
   {
    "duration": 130,
    "start_time": "2022-05-15T13:32:38.977Z"
   },
   {
    "duration": 34,
    "start_time": "2022-05-15T13:32:39.109Z"
   },
   {
    "duration": 14,
    "start_time": "2022-05-15T13:32:39.147Z"
   },
   {
    "duration": 339,
    "start_time": "2022-05-15T13:32:39.164Z"
   },
   {
    "duration": 30,
    "start_time": "2022-05-15T13:32:39.505Z"
   },
   {
    "duration": 114,
    "start_time": "2022-05-15T13:32:39.537Z"
   },
   {
    "duration": 93,
    "start_time": "2022-05-15T13:32:39.654Z"
   },
   {
    "duration": 33,
    "start_time": "2022-05-15T13:32:39.750Z"
   },
   {
    "duration": 66,
    "start_time": "2022-05-15T13:32:39.786Z"
   },
   {
    "duration": 13,
    "start_time": "2022-05-15T13:32:39.855Z"
   },
   {
    "duration": 8,
    "start_time": "2022-05-15T13:32:39.870Z"
   },
   {
    "duration": 14,
    "start_time": "2022-05-15T13:32:39.881Z"
   },
   {
    "duration": 13,
    "start_time": "2022-05-15T13:32:48.782Z"
   },
   {
    "duration": 24,
    "start_time": "2022-05-15T13:34:54.276Z"
   },
   {
    "duration": 21,
    "start_time": "2022-05-15T13:35:25.324Z"
   },
   {
    "duration": 23,
    "start_time": "2022-05-15T13:35:47.695Z"
   },
   {
    "duration": 28,
    "start_time": "2022-05-15T13:35:55.911Z"
   },
   {
    "duration": 18,
    "start_time": "2022-05-15T13:36:09.010Z"
   },
   {
    "duration": 11,
    "start_time": "2022-05-15T13:37:28.834Z"
   },
   {
    "duration": 23,
    "start_time": "2022-05-15T13:37:37.179Z"
   },
   {
    "duration": 24,
    "start_time": "2022-05-15T13:38:08.689Z"
   },
   {
    "duration": 23,
    "start_time": "2022-05-15T13:38:14.138Z"
   },
   {
    "duration": 4,
    "start_time": "2022-05-15T13:38:19.606Z"
   },
   {
    "duration": 6,
    "start_time": "2022-05-15T13:38:19.630Z"
   },
   {
    "duration": 503,
    "start_time": "2022-05-15T13:38:19.639Z"
   },
   {
    "duration": 37,
    "start_time": "2022-05-15T13:38:20.144Z"
   },
   {
    "duration": 79,
    "start_time": "2022-05-15T13:38:20.184Z"
   },
   {
    "duration": 83,
    "start_time": "2022-05-15T13:38:20.267Z"
   },
   {
    "duration": 42,
    "start_time": "2022-05-15T13:38:20.352Z"
   },
   {
    "duration": 75,
    "start_time": "2022-05-15T13:38:20.396Z"
   },
   {
    "duration": 124,
    "start_time": "2022-05-15T13:38:20.473Z"
   },
   {
    "duration": 33,
    "start_time": "2022-05-15T13:38:20.600Z"
   },
   {
    "duration": 13,
    "start_time": "2022-05-15T13:38:20.636Z"
   },
   {
    "duration": 300,
    "start_time": "2022-05-15T13:38:20.651Z"
   },
   {
    "duration": 19,
    "start_time": "2022-05-15T13:38:20.953Z"
   },
   {
    "duration": 113,
    "start_time": "2022-05-15T13:38:20.974Z"
   },
   {
    "duration": 92,
    "start_time": "2022-05-15T13:38:21.092Z"
   },
   {
    "duration": 47,
    "start_time": "2022-05-15T13:38:21.187Z"
   },
   {
    "duration": 37,
    "start_time": "2022-05-15T13:38:21.236Z"
   },
   {
    "duration": 11,
    "start_time": "2022-05-15T13:38:21.276Z"
   },
   {
    "duration": 42,
    "start_time": "2022-05-15T13:38:21.289Z"
   },
   {
    "duration": 31,
    "start_time": "2022-05-15T13:38:21.334Z"
   },
   {
    "duration": 4,
    "start_time": "2022-05-15T13:38:28.876Z"
   },
   {
    "duration": 10,
    "start_time": "2022-05-15T13:38:28.885Z"
   },
   {
    "duration": 501,
    "start_time": "2022-05-15T13:38:28.897Z"
   },
   {
    "duration": 51,
    "start_time": "2022-05-15T13:38:29.402Z"
   },
   {
    "duration": 98,
    "start_time": "2022-05-15T13:38:29.456Z"
   },
   {
    "duration": 93,
    "start_time": "2022-05-15T13:38:29.557Z"
   },
   {
    "duration": 72,
    "start_time": "2022-05-15T13:38:29.653Z"
   },
   {
    "duration": 59,
    "start_time": "2022-05-15T13:38:29.729Z"
   },
   {
    "duration": 152,
    "start_time": "2022-05-15T13:38:29.791Z"
   },
   {
    "duration": 27,
    "start_time": "2022-05-15T13:38:29.946Z"
   },
   {
    "duration": 13,
    "start_time": "2022-05-15T13:38:29.976Z"
   },
   {
    "duration": 332,
    "start_time": "2022-05-15T13:38:29.992Z"
   },
   {
    "duration": 21,
    "start_time": "2022-05-15T13:38:30.326Z"
   },
   {
    "duration": 122,
    "start_time": "2022-05-15T13:38:30.350Z"
   },
   {
    "duration": 99,
    "start_time": "2022-05-15T13:38:30.475Z"
   },
   {
    "duration": 52,
    "start_time": "2022-05-15T13:38:30.577Z"
   },
   {
    "duration": 41,
    "start_time": "2022-05-15T13:38:30.631Z"
   },
   {
    "duration": 238,
    "start_time": "2022-05-15T13:38:30.675Z"
   },
   {
    "duration": 299,
    "start_time": "2022-05-15T13:38:30.916Z"
   },
   {
    "duration": 34,
    "start_time": "2022-05-15T13:38:31.221Z"
   },
   {
    "duration": 5,
    "start_time": "2022-05-15T13:38:56.495Z"
   },
   {
    "duration": 7,
    "start_time": "2022-05-15T13:38:56.502Z"
   },
   {
    "duration": 501,
    "start_time": "2022-05-15T13:38:56.512Z"
   },
   {
    "duration": 43,
    "start_time": "2022-05-15T13:38:57.015Z"
   },
   {
    "duration": 99,
    "start_time": "2022-05-15T13:38:57.063Z"
   },
   {
    "duration": 94,
    "start_time": "2022-05-15T13:38:57.165Z"
   },
   {
    "duration": 69,
    "start_time": "2022-05-15T13:38:57.261Z"
   },
   {
    "duration": 51,
    "start_time": "2022-05-15T13:38:57.333Z"
   },
   {
    "duration": 138,
    "start_time": "2022-05-15T13:38:57.386Z"
   },
   {
    "duration": 26,
    "start_time": "2022-05-15T13:38:57.527Z"
   },
   {
    "duration": 14,
    "start_time": "2022-05-15T13:38:57.557Z"
   },
   {
    "duration": 433,
    "start_time": "2022-05-15T13:38:57.574Z"
   },
   {
    "duration": 27,
    "start_time": "2022-05-15T13:38:58.009Z"
   },
   {
    "duration": 122,
    "start_time": "2022-05-15T13:38:58.040Z"
   },
   {
    "duration": 99,
    "start_time": "2022-05-15T13:38:58.164Z"
   },
   {
    "duration": 33,
    "start_time": "2022-05-15T13:38:58.265Z"
   },
   {
    "duration": 54,
    "start_time": "2022-05-15T13:38:58.301Z"
   },
   {
    "duration": 13,
    "start_time": "2022-05-15T13:38:58.357Z"
   },
   {
    "duration": 13,
    "start_time": "2022-05-15T13:38:58.372Z"
   },
   {
    "duration": 56,
    "start_time": "2022-05-15T13:38:58.387Z"
   },
   {
    "duration": 50,
    "start_time": "2022-05-15T13:40:56.937Z"
   },
   {
    "duration": 42,
    "start_time": "2022-05-15T13:41:03.469Z"
   },
   {
    "duration": 4,
    "start_time": "2022-05-15T13:43:33.944Z"
   },
   {
    "duration": 12,
    "start_time": "2022-05-15T13:43:33.951Z"
   },
   {
    "duration": 586,
    "start_time": "2022-05-15T13:43:33.967Z"
   },
   {
    "duration": 41,
    "start_time": "2022-05-15T13:43:34.555Z"
   },
   {
    "duration": 94,
    "start_time": "2022-05-15T13:43:34.599Z"
   },
   {
    "duration": 135,
    "start_time": "2022-05-15T13:43:34.695Z"
   },
   {
    "duration": 93,
    "start_time": "2022-05-15T13:43:34.834Z"
   },
   {
    "duration": 101,
    "start_time": "2022-05-15T13:43:34.931Z"
   },
   {
    "duration": 127,
    "start_time": "2022-05-15T13:43:35.034Z"
   },
   {
    "duration": 27,
    "start_time": "2022-05-15T13:43:35.163Z"
   },
   {
    "duration": 32,
    "start_time": "2022-05-15T13:43:35.194Z"
   },
   {
    "duration": 338,
    "start_time": "2022-05-15T13:43:35.229Z"
   },
   {
    "duration": 21,
    "start_time": "2022-05-15T13:43:35.569Z"
   },
   {
    "duration": 118,
    "start_time": "2022-05-15T13:43:35.592Z"
   },
   {
    "duration": 83,
    "start_time": "2022-05-15T13:43:35.712Z"
   },
   {
    "duration": 49,
    "start_time": "2022-05-15T13:43:35.798Z"
   },
   {
    "duration": 40,
    "start_time": "2022-05-15T13:43:35.849Z"
   },
   {
    "duration": 1521,
    "start_time": "2022-05-15T13:43:35.891Z"
   },
   {
    "duration": 1,
    "start_time": "2022-05-15T13:43:37.414Z"
   },
   {
    "duration": 0,
    "start_time": "2022-05-15T13:43:37.416Z"
   },
   {
    "duration": 4,
    "start_time": "2022-05-15T13:43:58.792Z"
   },
   {
    "duration": 7,
    "start_time": "2022-05-15T13:43:58.799Z"
   },
   {
    "duration": 519,
    "start_time": "2022-05-15T13:43:58.808Z"
   },
   {
    "duration": 43,
    "start_time": "2022-05-15T13:43:59.330Z"
   },
   {
    "duration": 94,
    "start_time": "2022-05-15T13:43:59.375Z"
   },
   {
    "duration": 93,
    "start_time": "2022-05-15T13:43:59.472Z"
   },
   {
    "duration": 85,
    "start_time": "2022-05-15T13:43:59.567Z"
   },
   {
    "duration": 98,
    "start_time": "2022-05-15T13:43:59.655Z"
   },
   {
    "duration": 175,
    "start_time": "2022-05-15T13:43:59.756Z"
   },
   {
    "duration": 34,
    "start_time": "2022-05-15T13:43:59.934Z"
   },
   {
    "duration": 17,
    "start_time": "2022-05-15T13:43:59.971Z"
   },
   {
    "duration": 373,
    "start_time": "2022-05-15T13:43:59.993Z"
   },
   {
    "duration": 21,
    "start_time": "2022-05-15T13:44:00.369Z"
   },
   {
    "duration": 121,
    "start_time": "2022-05-15T13:44:00.393Z"
   },
   {
    "duration": 75,
    "start_time": "2022-05-15T13:44:00.525Z"
   },
   {
    "duration": 49,
    "start_time": "2022-05-15T13:44:00.602Z"
   },
   {
    "duration": 37,
    "start_time": "2022-05-15T13:44:00.653Z"
   },
   {
    "duration": 38,
    "start_time": "2022-05-15T13:44:00.692Z"
   },
   {
    "duration": 18,
    "start_time": "2022-05-15T13:44:00.732Z"
   },
   {
    "duration": 74,
    "start_time": "2022-05-15T13:44:00.752Z"
   },
   {
    "duration": 49,
    "start_time": "2022-05-15T13:44:31.588Z"
   },
   {
    "duration": 50,
    "start_time": "2022-05-15T13:45:02.952Z"
   },
   {
    "duration": 13,
    "start_time": "2022-05-15T13:46:25.741Z"
   },
   {
    "duration": 28,
    "start_time": "2022-05-15T13:47:50.005Z"
   },
   {
    "duration": 9,
    "start_time": "2022-05-15T13:51:56.276Z"
   },
   {
    "duration": 5,
    "start_time": "2022-05-15T13:56:05.301Z"
   },
   {
    "duration": 1121,
    "start_time": "2022-05-15T13:56:11.899Z"
   },
   {
    "duration": 5,
    "start_time": "2022-05-15T13:56:20.062Z"
   },
   {
    "duration": 15,
    "start_time": "2022-05-15T13:56:20.073Z"
   },
   {
    "duration": 491,
    "start_time": "2022-05-15T13:56:20.091Z"
   },
   {
    "duration": 43,
    "start_time": "2022-05-15T13:56:20.584Z"
   },
   {
    "duration": 65,
    "start_time": "2022-05-15T13:56:20.630Z"
   },
   {
    "duration": 87,
    "start_time": "2022-05-15T13:56:20.697Z"
   },
   {
    "duration": 77,
    "start_time": "2022-05-15T13:56:20.787Z"
   },
   {
    "duration": 77,
    "start_time": "2022-05-15T13:56:20.867Z"
   },
   {
    "duration": 123,
    "start_time": "2022-05-15T13:56:20.946Z"
   },
   {
    "duration": 24,
    "start_time": "2022-05-15T13:56:21.073Z"
   },
   {
    "duration": 28,
    "start_time": "2022-05-15T13:56:21.099Z"
   },
   {
    "duration": 296,
    "start_time": "2022-05-15T13:56:21.129Z"
   },
   {
    "duration": 21,
    "start_time": "2022-05-15T13:56:21.428Z"
   },
   {
    "duration": 121,
    "start_time": "2022-05-15T13:56:21.451Z"
   },
   {
    "duration": 93,
    "start_time": "2022-05-15T13:56:21.575Z"
   },
   {
    "duration": 32,
    "start_time": "2022-05-15T13:56:21.670Z"
   },
   {
    "duration": 54,
    "start_time": "2022-05-15T13:56:21.704Z"
   },
   {
    "duration": 11,
    "start_time": "2022-05-15T13:56:21.761Z"
   },
   {
    "duration": 32,
    "start_time": "2022-05-15T13:56:21.774Z"
   },
   {
    "duration": 71,
    "start_time": "2022-05-15T13:56:21.809Z"
   },
   {
    "duration": 25,
    "start_time": "2022-05-15T13:56:21.882Z"
   },
   {
    "duration": 22,
    "start_time": "2022-05-15T13:56:21.909Z"
   },
   {
    "duration": 12,
    "start_time": "2022-05-15T13:56:21.933Z"
   },
   {
    "duration": 5,
    "start_time": "2022-05-15T13:56:42.766Z"
   },
   {
    "duration": 14,
    "start_time": "2022-05-15T13:56:42.773Z"
   },
   {
    "duration": 513,
    "start_time": "2022-05-15T13:56:42.790Z"
   },
   {
    "duration": 43,
    "start_time": "2022-05-15T13:56:43.305Z"
   },
   {
    "duration": 92,
    "start_time": "2022-05-15T13:56:43.352Z"
   },
   {
    "duration": 81,
    "start_time": "2022-05-15T13:56:43.447Z"
   },
   {
    "duration": 44,
    "start_time": "2022-05-15T13:56:43.530Z"
   },
   {
    "duration": 77,
    "start_time": "2022-05-15T13:56:43.576Z"
   },
   {
    "duration": 130,
    "start_time": "2022-05-15T13:56:43.655Z"
   },
   {
    "duration": 47,
    "start_time": "2022-05-15T13:56:43.788Z"
   },
   {
    "duration": 15,
    "start_time": "2022-05-15T13:56:43.840Z"
   },
   {
    "duration": 321,
    "start_time": "2022-05-15T13:56:43.858Z"
   },
   {
    "duration": 19,
    "start_time": "2022-05-15T13:56:44.182Z"
   },
   {
    "duration": 111,
    "start_time": "2022-05-15T13:56:44.204Z"
   },
   {
    "duration": 72,
    "start_time": "2022-05-15T13:56:44.325Z"
   },
   {
    "duration": 52,
    "start_time": "2022-05-15T13:56:44.399Z"
   },
   {
    "duration": 40,
    "start_time": "2022-05-15T13:56:44.454Z"
   },
   {
    "duration": 12,
    "start_time": "2022-05-15T13:56:44.526Z"
   },
   {
    "duration": 19,
    "start_time": "2022-05-15T13:56:44.541Z"
   },
   {
    "duration": 136,
    "start_time": "2022-05-15T13:56:44.562Z"
   },
   {
    "duration": 39,
    "start_time": "2022-05-15T13:56:44.701Z"
   },
   {
    "duration": 9,
    "start_time": "2022-05-15T13:56:44.743Z"
   },
   {
    "duration": 20,
    "start_time": "2022-05-15T13:56:44.754Z"
   },
   {
    "duration": 15,
    "start_time": "2022-05-15T13:57:05.815Z"
   },
   {
    "duration": 16,
    "start_time": "2022-05-15T13:58:23.638Z"
   },
   {
    "duration": 16,
    "start_time": "2022-05-15T13:58:30.104Z"
   },
   {
    "duration": 26,
    "start_time": "2022-05-15T14:03:23.906Z"
   },
   {
    "duration": 4,
    "start_time": "2022-05-15T14:03:32.328Z"
   },
   {
    "duration": 26,
    "start_time": "2022-05-15T14:03:32.335Z"
   },
   {
    "duration": 552,
    "start_time": "2022-05-15T14:03:32.363Z"
   },
   {
    "duration": 42,
    "start_time": "2022-05-15T14:03:32.917Z"
   },
   {
    "duration": 86,
    "start_time": "2022-05-15T14:03:32.963Z"
   },
   {
    "duration": 97,
    "start_time": "2022-05-15T14:03:33.051Z"
   },
   {
    "duration": 87,
    "start_time": "2022-05-15T14:03:33.151Z"
   },
   {
    "duration": 96,
    "start_time": "2022-05-15T14:03:33.242Z"
   },
   {
    "duration": 175,
    "start_time": "2022-05-15T14:03:33.341Z"
   },
   {
    "duration": 30,
    "start_time": "2022-05-15T14:03:33.518Z"
   },
   {
    "duration": 14,
    "start_time": "2022-05-15T14:03:33.552Z"
   },
   {
    "duration": 333,
    "start_time": "2022-05-15T14:03:33.569Z"
   },
   {
    "duration": 26,
    "start_time": "2022-05-15T14:03:33.905Z"
   },
   {
    "duration": 122,
    "start_time": "2022-05-15T14:03:33.933Z"
   },
   {
    "duration": 89,
    "start_time": "2022-05-15T14:03:34.057Z"
   },
   {
    "duration": 45,
    "start_time": "2022-05-15T14:03:34.148Z"
   },
   {
    "duration": 75,
    "start_time": "2022-05-15T14:03:34.198Z"
   },
   {
    "duration": 17,
    "start_time": "2022-05-15T14:03:34.276Z"
   },
   {
    "duration": 40,
    "start_time": "2022-05-15T14:03:34.296Z"
   },
   {
    "duration": 58,
    "start_time": "2022-05-15T14:03:34.339Z"
   },
   {
    "duration": 65,
    "start_time": "2022-05-15T14:03:34.400Z"
   },
   {
    "duration": 13,
    "start_time": "2022-05-15T14:03:34.468Z"
   },
   {
    "duration": 49,
    "start_time": "2022-05-15T14:03:34.485Z"
   },
   {
    "duration": 71,
    "start_time": "2022-05-15T14:03:34.537Z"
   },
   {
    "duration": 43,
    "start_time": "2022-05-15T14:04:09.834Z"
   },
   {
    "duration": 94,
    "start_time": "2022-05-15T14:06:55.341Z"
   },
   {
    "duration": 96,
    "start_time": "2022-05-15T14:06:58.725Z"
   },
   {
    "duration": 95,
    "start_time": "2022-05-15T14:07:07.156Z"
   },
   {
    "duration": 28,
    "start_time": "2022-05-15T14:07:19.385Z"
   },
   {
    "duration": 26,
    "start_time": "2022-05-15T14:08:02.329Z"
   },
   {
    "duration": 4,
    "start_time": "2022-05-15T14:08:19.907Z"
   },
   {
    "duration": 7,
    "start_time": "2022-05-15T14:08:19.924Z"
   },
   {
    "duration": 493,
    "start_time": "2022-05-15T14:08:19.933Z"
   },
   {
    "duration": 38,
    "start_time": "2022-05-15T14:08:20.428Z"
   },
   {
    "duration": 89,
    "start_time": "2022-05-15T14:08:20.469Z"
   },
   {
    "duration": 84,
    "start_time": "2022-05-15T14:08:20.560Z"
   },
   {
    "duration": 42,
    "start_time": "2022-05-15T14:08:20.647Z"
   },
   {
    "duration": 72,
    "start_time": "2022-05-15T14:08:20.691Z"
   },
   {
    "duration": 178,
    "start_time": "2022-05-15T14:08:20.765Z"
   },
   {
    "duration": 45,
    "start_time": "2022-05-15T14:08:20.949Z"
   },
   {
    "duration": 21,
    "start_time": "2022-05-15T14:08:20.997Z"
   },
   {
    "duration": 293,
    "start_time": "2022-05-15T14:08:21.024Z"
   },
   {
    "duration": 20,
    "start_time": "2022-05-15T14:08:21.323Z"
   },
   {
    "duration": 112,
    "start_time": "2022-05-15T14:08:21.345Z"
   },
   {
    "duration": 87,
    "start_time": "2022-05-15T14:08:21.459Z"
   },
   {
    "duration": 31,
    "start_time": "2022-05-15T14:08:21.548Z"
   },
   {
    "duration": 55,
    "start_time": "2022-05-15T14:08:21.581Z"
   },
   {
    "duration": 11,
    "start_time": "2022-05-15T14:08:21.638Z"
   },
   {
    "duration": 13,
    "start_time": "2022-05-15T14:08:21.651Z"
   },
   {
    "duration": 76,
    "start_time": "2022-05-15T14:08:21.666Z"
   },
   {
    "duration": 26,
    "start_time": "2022-05-15T14:08:21.744Z"
   },
   {
    "duration": 9,
    "start_time": "2022-05-15T14:08:21.772Z"
   },
   {
    "duration": 44,
    "start_time": "2022-05-15T14:08:21.783Z"
   },
   {
    "duration": 28,
    "start_time": "2022-05-15T14:08:21.830Z"
   },
   {
    "duration": 24,
    "start_time": "2022-05-15T14:08:21.861Z"
   },
   {
    "duration": 27,
    "start_time": "2022-05-15T14:09:11.863Z"
   },
   {
    "duration": 12,
    "start_time": "2022-05-15T14:20:49.269Z"
   },
   {
    "duration": 35,
    "start_time": "2022-05-15T14:22:19.802Z"
   },
   {
    "duration": 28,
    "start_time": "2022-05-15T14:24:55.752Z"
   },
   {
    "duration": 32,
    "start_time": "2022-05-15T14:25:27.423Z"
   },
   {
    "duration": 31,
    "start_time": "2022-05-15T14:26:11.588Z"
   },
   {
    "duration": 36,
    "start_time": "2022-05-15T14:28:09.225Z"
   },
   {
    "duration": 36,
    "start_time": "2022-05-15T14:28:12.697Z"
   },
   {
    "duration": 29,
    "start_time": "2022-05-15T14:28:13.562Z"
   },
   {
    "duration": 5,
    "start_time": "2022-05-15T14:28:18.816Z"
   },
   {
    "duration": 11,
    "start_time": "2022-05-15T14:28:18.824Z"
   },
   {
    "duration": 536,
    "start_time": "2022-05-15T14:28:18.839Z"
   },
   {
    "duration": 62,
    "start_time": "2022-05-15T14:28:19.378Z"
   },
   {
    "duration": 97,
    "start_time": "2022-05-15T14:28:19.443Z"
   },
   {
    "duration": 96,
    "start_time": "2022-05-15T14:28:19.543Z"
   },
   {
    "duration": 92,
    "start_time": "2022-05-15T14:28:19.642Z"
   },
   {
    "duration": 101,
    "start_time": "2022-05-15T14:28:19.737Z"
   },
   {
    "duration": 185,
    "start_time": "2022-05-15T14:28:19.841Z"
   },
   {
    "duration": 42,
    "start_time": "2022-05-15T14:28:20.029Z"
   },
   {
    "duration": 20,
    "start_time": "2022-05-15T14:28:20.077Z"
   },
   {
    "duration": 401,
    "start_time": "2022-05-15T14:28:20.126Z"
   },
   {
    "duration": 25,
    "start_time": "2022-05-15T14:28:20.530Z"
   },
   {
    "duration": 121,
    "start_time": "2022-05-15T14:28:20.559Z"
   },
   {
    "duration": 88,
    "start_time": "2022-05-15T14:28:20.683Z"
   },
   {
    "duration": 49,
    "start_time": "2022-05-15T14:28:20.774Z"
   },
   {
    "duration": 35,
    "start_time": "2022-05-15T14:28:20.826Z"
   },
   {
    "duration": 12,
    "start_time": "2022-05-15T14:28:20.864Z"
   },
   {
    "duration": 48,
    "start_time": "2022-05-15T14:28:20.878Z"
   },
   {
    "duration": 49,
    "start_time": "2022-05-15T14:28:20.928Z"
   },
   {
    "duration": 56,
    "start_time": "2022-05-15T14:28:20.979Z"
   },
   {
    "duration": 10,
    "start_time": "2022-05-15T14:28:21.039Z"
   },
   {
    "duration": 17,
    "start_time": "2022-05-15T14:28:21.051Z"
   },
   {
    "duration": 11,
    "start_time": "2022-05-15T14:28:21.070Z"
   },
   {
    "duration": 75,
    "start_time": "2022-05-15T14:28:21.084Z"
   },
   {
    "duration": 29,
    "start_time": "2022-05-15T14:28:21.161Z"
   },
   {
    "duration": 508,
    "start_time": "2022-05-15T14:28:43.150Z"
   },
   {
    "duration": 35,
    "start_time": "2022-05-15T14:28:52.057Z"
   },
   {
    "duration": 34,
    "start_time": "2022-05-15T14:32:06.588Z"
   },
   {
    "duration": 4,
    "start_time": "2022-05-15T14:32:10.970Z"
   },
   {
    "duration": 9,
    "start_time": "2022-05-15T14:32:10.977Z"
   },
   {
    "duration": 511,
    "start_time": "2022-05-15T14:32:10.988Z"
   },
   {
    "duration": 41,
    "start_time": "2022-05-15T14:32:11.501Z"
   },
   {
    "duration": 96,
    "start_time": "2022-05-15T14:32:11.544Z"
   },
   {
    "duration": 83,
    "start_time": "2022-05-15T14:32:11.642Z"
   },
   {
    "duration": 44,
    "start_time": "2022-05-15T14:32:11.728Z"
   },
   {
    "duration": 81,
    "start_time": "2022-05-15T14:32:11.774Z"
   },
   {
    "duration": 125,
    "start_time": "2022-05-15T14:32:11.858Z"
   },
   {
    "duration": 25,
    "start_time": "2022-05-15T14:32:11.985Z"
   },
   {
    "duration": 14,
    "start_time": "2022-05-15T14:32:12.024Z"
   },
   {
    "duration": 319,
    "start_time": "2022-05-15T14:32:12.040Z"
   },
   {
    "duration": 21,
    "start_time": "2022-05-15T14:32:12.361Z"
   },
   {
    "duration": 218,
    "start_time": "2022-05-15T14:32:12.385Z"
   },
   {
    "duration": 90,
    "start_time": "2022-05-15T14:32:12.605Z"
   },
   {
    "duration": 54,
    "start_time": "2022-05-15T14:32:12.698Z"
   },
   {
    "duration": 40,
    "start_time": "2022-05-15T14:32:12.754Z"
   },
   {
    "duration": 30,
    "start_time": "2022-05-15T14:32:12.796Z"
   },
   {
    "duration": 17,
    "start_time": "2022-05-15T14:32:12.829Z"
   },
   {
    "duration": 155,
    "start_time": "2022-05-15T14:32:12.849Z"
   },
   {
    "duration": 40,
    "start_time": "2022-05-15T14:32:13.006Z"
   },
   {
    "duration": 9,
    "start_time": "2022-05-15T14:32:13.048Z"
   },
   {
    "duration": 16,
    "start_time": "2022-05-15T14:32:13.059Z"
   },
   {
    "duration": 10,
    "start_time": "2022-05-15T14:32:13.080Z"
   },
   {
    "duration": 66,
    "start_time": "2022-05-15T14:32:13.093Z"
   },
   {
    "duration": 37,
    "start_time": "2022-05-15T14:32:13.162Z"
   },
   {
    "duration": 39,
    "start_time": "2022-05-15T14:35:34.808Z"
   },
   {
    "duration": 43,
    "start_time": "2022-05-15T14:43:24.283Z"
   },
   {
    "duration": 44,
    "start_time": "2022-05-15T14:46:30.070Z"
   },
   {
    "duration": 44,
    "start_time": "2022-05-15T14:47:15.460Z"
   },
   {
    "duration": 125,
    "start_time": "2022-05-15T14:51:06.904Z"
   },
   {
    "duration": 44,
    "start_time": "2022-05-15T14:53:17.433Z"
   },
   {
    "duration": 27,
    "start_time": "2022-05-15T14:55:38.008Z"
   },
   {
    "duration": 49,
    "start_time": "2022-05-15T14:55:48.342Z"
   },
   {
    "duration": 16,
    "start_time": "2022-05-15T15:03:01.355Z"
   },
   {
    "duration": 4,
    "start_time": "2022-05-15T15:03:06.290Z"
   },
   {
    "duration": 13,
    "start_time": "2022-05-15T15:03:06.297Z"
   },
   {
    "duration": 493,
    "start_time": "2022-05-15T15:03:06.313Z"
   },
   {
    "duration": 50,
    "start_time": "2022-05-15T15:03:06.809Z"
   },
   {
    "duration": 90,
    "start_time": "2022-05-15T15:03:06.863Z"
   },
   {
    "duration": 86,
    "start_time": "2022-05-15T15:03:06.955Z"
   },
   {
    "duration": 50,
    "start_time": "2022-05-15T15:03:07.044Z"
   },
   {
    "duration": 101,
    "start_time": "2022-05-15T15:03:07.098Z"
   },
   {
    "duration": 153,
    "start_time": "2022-05-15T15:03:07.201Z"
   },
   {
    "duration": 26,
    "start_time": "2022-05-15T15:03:07.358Z"
   },
   {
    "duration": 15,
    "start_time": "2022-05-15T15:03:07.386Z"
   },
   {
    "duration": 307,
    "start_time": "2022-05-15T15:03:07.425Z"
   },
   {
    "duration": 21,
    "start_time": "2022-05-15T15:03:07.735Z"
   },
   {
    "duration": 121,
    "start_time": "2022-05-15T15:03:07.759Z"
   },
   {
    "duration": 79,
    "start_time": "2022-05-15T15:03:07.883Z"
   },
   {
    "duration": 31,
    "start_time": "2022-05-15T15:03:07.964Z"
   },
   {
    "duration": 66,
    "start_time": "2022-05-15T15:03:07.997Z"
   },
   {
    "duration": 13,
    "start_time": "2022-05-15T15:03:08.065Z"
   },
   {
    "duration": 19,
    "start_time": "2022-05-15T15:03:08.080Z"
   },
   {
    "duration": 73,
    "start_time": "2022-05-15T15:03:08.102Z"
   },
   {
    "duration": 51,
    "start_time": "2022-05-15T15:03:08.178Z"
   },
   {
    "duration": 15,
    "start_time": "2022-05-15T15:03:08.232Z"
   },
   {
    "duration": 33,
    "start_time": "2022-05-15T15:03:08.250Z"
   },
   {
    "duration": 16,
    "start_time": "2022-05-15T15:03:08.286Z"
   },
   {
    "duration": 51,
    "start_time": "2022-05-15T15:03:08.324Z"
   },
   {
    "duration": 63,
    "start_time": "2022-05-15T15:03:08.377Z"
   },
   {
    "duration": 52,
    "start_time": "2022-05-15T15:07:41.132Z"
   },
   {
    "duration": 48,
    "start_time": "2022-05-15T15:07:56.672Z"
   },
   {
    "duration": 77,
    "start_time": "2022-05-15T15:17:38.099Z"
   },
   {
    "duration": 941,
    "start_time": "2022-05-15T15:19:03.925Z"
   },
   {
    "duration": 281,
    "start_time": "2022-05-15T15:19:34.115Z"
   },
   {
    "duration": 4,
    "start_time": "2022-05-15T15:21:47.530Z"
   },
   {
    "duration": 9,
    "start_time": "2022-05-15T15:21:47.670Z"
   },
   {
    "duration": 477,
    "start_time": "2022-05-15T15:21:47.805Z"
   },
   {
    "duration": 39,
    "start_time": "2022-05-15T15:21:48.344Z"
   },
   {
    "duration": 94,
    "start_time": "2022-05-15T15:21:48.471Z"
   },
   {
    "duration": 71,
    "start_time": "2022-05-15T15:21:48.688Z"
   },
   {
    "duration": 65,
    "start_time": "2022-05-15T15:21:48.789Z"
   },
   {
    "duration": 83,
    "start_time": "2022-05-15T15:21:48.873Z"
   },
   {
    "duration": 68,
    "start_time": "2022-05-15T15:21:49.276Z"
   },
   {
    "duration": 27,
    "start_time": "2022-05-15T15:21:49.370Z"
   },
   {
    "duration": 16,
    "start_time": "2022-05-15T15:21:49.531Z"
   },
   {
    "duration": 283,
    "start_time": "2022-05-15T15:21:49.641Z"
   },
   {
    "duration": 21,
    "start_time": "2022-05-15T15:21:49.962Z"
   },
   {
    "duration": 0,
    "start_time": "2022-05-15T15:21:50.024Z"
   },
   {
    "duration": 0,
    "start_time": "2022-05-15T15:21:50.029Z"
   },
   {
    "duration": 0,
    "start_time": "2022-05-15T15:21:50.033Z"
   },
   {
    "duration": 0,
    "start_time": "2022-05-15T15:21:50.037Z"
   },
   {
    "duration": 0,
    "start_time": "2022-05-15T15:21:50.042Z"
   },
   {
    "duration": 1,
    "start_time": "2022-05-15T15:21:50.045Z"
   },
   {
    "duration": 0,
    "start_time": "2022-05-15T15:21:50.051Z"
   },
   {
    "duration": 0,
    "start_time": "2022-05-15T15:21:50.055Z"
   },
   {
    "duration": 0,
    "start_time": "2022-05-15T15:21:50.059Z"
   },
   {
    "duration": 0,
    "start_time": "2022-05-15T15:21:50.125Z"
   },
   {
    "duration": 0,
    "start_time": "2022-05-15T15:21:50.129Z"
   },
   {
    "duration": 0,
    "start_time": "2022-05-15T15:21:50.134Z"
   },
   {
    "duration": 0,
    "start_time": "2022-05-15T15:21:50.138Z"
   },
   {
    "duration": 0,
    "start_time": "2022-05-15T15:21:50.143Z"
   },
   {
    "duration": 1478,
    "start_time": "2022-05-15T17:24:54.521Z"
   },
   {
    "duration": 4,
    "start_time": "2022-05-15T17:24:56.001Z"
   },
   {
    "duration": 452,
    "start_time": "2022-05-15T17:24:56.007Z"
   },
   {
    "duration": 31,
    "start_time": "2022-05-15T17:24:56.461Z"
   },
   {
    "duration": 60,
    "start_time": "2022-05-15T17:24:56.493Z"
   },
   {
    "duration": 79,
    "start_time": "2022-05-15T17:24:56.555Z"
   },
   {
    "duration": 31,
    "start_time": "2022-05-15T17:24:56.636Z"
   },
   {
    "duration": 32,
    "start_time": "2022-05-15T17:24:56.669Z"
   },
   {
    "duration": 82,
    "start_time": "2022-05-15T17:24:56.722Z"
   },
   {
    "duration": 42,
    "start_time": "2022-05-15T17:24:56.808Z"
   },
   {
    "duration": 10,
    "start_time": "2022-05-15T17:24:56.852Z"
   },
   {
    "duration": 216,
    "start_time": "2022-05-15T17:24:56.864Z"
   },
   {
    "duration": 15,
    "start_time": "2022-05-15T17:24:57.082Z"
   },
   {
    "duration": 88,
    "start_time": "2022-05-15T17:24:57.099Z"
   },
   {
    "duration": 85,
    "start_time": "2022-05-15T17:24:57.189Z"
   },
   {
    "duration": 23,
    "start_time": "2022-05-15T17:24:57.276Z"
   },
   {
    "duration": 55,
    "start_time": "2022-05-15T17:24:57.301Z"
   },
   {
    "duration": 11,
    "start_time": "2022-05-15T17:24:57.358Z"
   },
   {
    "duration": 11,
    "start_time": "2022-05-15T17:24:57.371Z"
   },
   {
    "duration": 61,
    "start_time": "2022-05-15T17:24:57.384Z"
   },
   {
    "duration": 19,
    "start_time": "2022-05-15T17:24:57.447Z"
   },
   {
    "duration": 7,
    "start_time": "2022-05-15T17:24:57.468Z"
   },
   {
    "duration": 13,
    "start_time": "2022-05-15T17:24:57.477Z"
   },
   {
    "duration": 47,
    "start_time": "2022-05-15T17:24:57.492Z"
   },
   {
    "duration": 35,
    "start_time": "2022-05-15T17:24:57.541Z"
   },
   {
    "duration": 61,
    "start_time": "2022-05-15T17:24:57.578Z"
   },
   {
    "duration": 28922,
    "start_time": "2022-05-15T17:25:24.350Z"
   },
   {
    "duration": 47,
    "start_time": "2022-05-15T17:25:53.274Z"
   },
   {
    "duration": 376,
    "start_time": "2022-05-15T17:26:16.232Z"
   },
   {
    "duration": 25779,
    "start_time": "2022-05-15T17:28:06.165Z"
   },
   {
    "duration": 18,
    "start_time": "2022-05-15T17:33:54.561Z"
   },
   {
    "duration": 31,
    "start_time": "2022-05-15T17:34:04.153Z"
   },
   {
    "duration": 20,
    "start_time": "2022-05-15T17:43:22.472Z"
   },
   {
    "duration": 39,
    "start_time": "2022-05-15T17:44:02.617Z"
   },
   {
    "duration": 36,
    "start_time": "2022-05-15T17:44:42.203Z"
   },
   {
    "duration": 34,
    "start_time": "2022-05-15T17:45:53.191Z"
   },
   {
    "duration": 32,
    "start_time": "2022-05-15T17:48:41.844Z"
   },
   {
    "duration": 63,
    "start_time": "2022-05-15T17:49:02.417Z"
   },
   {
    "duration": 76,
    "start_time": "2022-05-15T17:53:24.583Z"
   },
   {
    "duration": 84,
    "start_time": "2022-05-15T17:59:11.470Z"
   },
   {
    "duration": 80,
    "start_time": "2022-05-15T18:03:38.714Z"
   },
   {
    "duration": 167,
    "start_time": "2022-05-15T18:04:17.815Z"
   },
   {
    "duration": 208,
    "start_time": "2022-05-15T18:04:25.871Z"
   },
   {
    "duration": 3748,
    "start_time": "2022-05-15T18:04:50.485Z"
   },
   {
    "duration": 850,
    "start_time": "2022-05-15T18:05:16.994Z"
   },
   {
    "duration": 91,
    "start_time": "2022-05-15T18:06:05.558Z"
   },
   {
    "duration": 87,
    "start_time": "2022-05-15T18:06:24.274Z"
   },
   {
    "duration": 76,
    "start_time": "2022-05-15T18:06:41.334Z"
   },
   {
    "duration": 183,
    "start_time": "2022-05-15T18:06:45.879Z"
   },
   {
    "duration": 5,
    "start_time": "2022-05-15T18:09:46.641Z"
   },
   {
    "duration": 10,
    "start_time": "2022-05-15T18:09:51.705Z"
   },
   {
    "duration": 4,
    "start_time": "2022-05-15T18:10:02.480Z"
   },
   {
    "duration": 6,
    "start_time": "2022-05-15T18:10:02.486Z"
   },
   {
    "duration": 462,
    "start_time": "2022-05-15T18:10:02.495Z"
   },
   {
    "duration": 28,
    "start_time": "2022-05-15T18:10:02.959Z"
   },
   {
    "duration": 65,
    "start_time": "2022-05-15T18:10:02.989Z"
   },
   {
    "duration": 71,
    "start_time": "2022-05-15T18:10:03.055Z"
   },
   {
    "duration": 39,
    "start_time": "2022-05-15T18:10:03.129Z"
   },
   {
    "duration": 60,
    "start_time": "2022-05-15T18:10:03.169Z"
   },
   {
    "duration": 76,
    "start_time": "2022-05-15T18:10:03.234Z"
   },
   {
    "duration": 29,
    "start_time": "2022-05-15T18:10:03.324Z"
   },
   {
    "duration": 12,
    "start_time": "2022-05-15T18:10:03.354Z"
   },
   {
    "duration": 324,
    "start_time": "2022-05-15T18:10:03.368Z"
   },
   {
    "duration": 16,
    "start_time": "2022-05-15T18:10:03.695Z"
   },
   {
    "duration": 82,
    "start_time": "2022-05-15T18:10:03.713Z"
   },
   {
    "duration": 88,
    "start_time": "2022-05-15T18:10:03.796Z"
   },
   {
    "duration": 43,
    "start_time": "2022-05-15T18:10:03.886Z"
   },
   {
    "duration": 35,
    "start_time": "2022-05-15T18:10:03.931Z"
   },
   {
    "duration": 8,
    "start_time": "2022-05-15T18:10:03.968Z"
   },
   {
    "duration": 11,
    "start_time": "2022-05-15T18:10:03.978Z"
   },
   {
    "duration": 73,
    "start_time": "2022-05-15T18:10:03.991Z"
   },
   {
    "duration": 21,
    "start_time": "2022-05-15T18:10:04.066Z"
   },
   {
    "duration": 8,
    "start_time": "2022-05-15T18:10:04.089Z"
   },
   {
    "duration": 19,
    "start_time": "2022-05-15T18:10:04.123Z"
   },
   {
    "duration": 8,
    "start_time": "2022-05-15T18:10:04.144Z"
   },
   {
    "duration": 79,
    "start_time": "2022-05-15T18:10:04.156Z"
   },
   {
    "duration": 33,
    "start_time": "2022-05-15T18:10:04.239Z"
   },
   {
    "duration": 100,
    "start_time": "2022-05-15T18:10:04.274Z"
   },
   {
    "duration": 10,
    "start_time": "2022-05-15T18:10:04.375Z"
   },
   {
    "duration": 8,
    "start_time": "2022-05-15T18:10:21.446Z"
   },
   {
    "duration": 5,
    "start_time": "2022-05-15T18:11:08.015Z"
   },
   {
    "duration": 9,
    "start_time": "2022-05-15T18:11:19.883Z"
   },
   {
    "duration": 12,
    "start_time": "2022-05-15T18:11:24.165Z"
   },
   {
    "duration": 9,
    "start_time": "2022-05-15T18:11:36.873Z"
   },
   {
    "duration": 12,
    "start_time": "2022-05-15T18:12:20.977Z"
   },
   {
    "duration": 13,
    "start_time": "2022-05-15T18:12:24.729Z"
   },
   {
    "duration": 179,
    "start_time": "2022-05-15T18:12:41.513Z"
   },
   {
    "duration": 11,
    "start_time": "2022-05-15T18:14:23.619Z"
   },
   {
    "duration": 4,
    "start_time": "2022-05-15T18:14:27.611Z"
   },
   {
    "duration": 6,
    "start_time": "2022-05-15T18:14:27.618Z"
   },
   {
    "duration": 578,
    "start_time": "2022-05-15T18:14:27.627Z"
   },
   {
    "duration": 45,
    "start_time": "2022-05-15T18:14:28.207Z"
   },
   {
    "duration": 99,
    "start_time": "2022-05-15T18:14:28.255Z"
   },
   {
    "duration": 94,
    "start_time": "2022-05-15T18:14:28.356Z"
   },
   {
    "duration": 34,
    "start_time": "2022-05-15T18:14:28.452Z"
   },
   {
    "duration": 62,
    "start_time": "2022-05-15T18:14:28.488Z"
   },
   {
    "duration": 148,
    "start_time": "2022-05-15T18:14:28.553Z"
   },
   {
    "duration": 42,
    "start_time": "2022-05-15T18:14:28.705Z"
   },
   {
    "duration": 13,
    "start_time": "2022-05-15T18:14:28.749Z"
   },
   {
    "duration": 241,
    "start_time": "2022-05-15T18:14:28.764Z"
   },
   {
    "duration": 25,
    "start_time": "2022-05-15T18:14:29.007Z"
   },
   {
    "duration": 113,
    "start_time": "2022-05-15T18:14:29.035Z"
   },
   {
    "duration": 75,
    "start_time": "2022-05-15T18:14:29.150Z"
   },
   {
    "duration": 38,
    "start_time": "2022-05-15T18:14:29.227Z"
   },
   {
    "duration": 65,
    "start_time": "2022-05-15T18:14:29.267Z"
   },
   {
    "duration": 13,
    "start_time": "2022-05-15T18:14:29.335Z"
   },
   {
    "duration": 12,
    "start_time": "2022-05-15T18:14:29.353Z"
   },
   {
    "duration": 74,
    "start_time": "2022-05-15T18:14:29.367Z"
   },
   {
    "duration": 23,
    "start_time": "2022-05-15T18:14:29.443Z"
   },
   {
    "duration": 9,
    "start_time": "2022-05-15T18:14:29.468Z"
   },
   {
    "duration": 25,
    "start_time": "2022-05-15T18:14:29.479Z"
   },
   {
    "duration": 27,
    "start_time": "2022-05-15T18:14:29.506Z"
   },
   {
    "duration": 47,
    "start_time": "2022-05-15T18:14:29.537Z"
   },
   {
    "duration": 52,
    "start_time": "2022-05-15T18:14:29.586Z"
   },
   {
    "duration": 83,
    "start_time": "2022-05-15T18:14:29.640Z"
   },
   {
    "duration": 649,
    "start_time": "2022-05-15T18:14:29.726Z"
   },
   {
    "duration": 546,
    "start_time": "2022-05-15T18:21:54.070Z"
   },
   {
    "duration": 5,
    "start_time": "2022-05-15T18:30:04.520Z"
   },
   {
    "duration": 21,
    "start_time": "2022-05-15T18:30:04.528Z"
   },
   {
    "duration": 593,
    "start_time": "2022-05-15T18:30:04.552Z"
   },
   {
    "duration": 38,
    "start_time": "2022-05-15T18:30:05.147Z"
   },
   {
    "duration": 90,
    "start_time": "2022-05-15T18:30:05.187Z"
   },
   {
    "duration": 107,
    "start_time": "2022-05-15T18:30:05.279Z"
   },
   {
    "duration": 66,
    "start_time": "2022-05-15T18:30:05.388Z"
   },
   {
    "duration": 81,
    "start_time": "2022-05-15T18:30:05.457Z"
   },
   {
    "duration": 132,
    "start_time": "2022-05-15T18:30:05.540Z"
   },
   {
    "duration": 21,
    "start_time": "2022-05-15T18:30:05.674Z"
   },
   {
    "duration": 10,
    "start_time": "2022-05-15T18:30:05.699Z"
   },
   {
    "duration": 270,
    "start_time": "2022-05-15T18:30:05.712Z"
   },
   {
    "duration": 19,
    "start_time": "2022-05-15T18:30:05.984Z"
   },
   {
    "duration": 119,
    "start_time": "2022-05-15T18:30:06.005Z"
   },
   {
    "duration": 76,
    "start_time": "2022-05-15T18:30:06.126Z"
   },
   {
    "duration": 52,
    "start_time": "2022-05-15T18:30:06.204Z"
   },
   {
    "duration": 44,
    "start_time": "2022-05-15T18:30:06.258Z"
   },
   {
    "duration": 32,
    "start_time": "2022-05-15T18:30:06.304Z"
   },
   {
    "duration": 10,
    "start_time": "2022-05-15T18:30:06.338Z"
   },
   {
    "duration": 85,
    "start_time": "2022-05-15T18:30:06.351Z"
   },
   {
    "duration": 39,
    "start_time": "2022-05-15T18:30:06.438Z"
   },
   {
    "duration": 10,
    "start_time": "2022-05-15T18:30:06.479Z"
   },
   {
    "duration": 18,
    "start_time": "2022-05-15T18:30:06.491Z"
   },
   {
    "duration": 13,
    "start_time": "2022-05-15T18:30:06.535Z"
   },
   {
    "duration": 59,
    "start_time": "2022-05-15T18:30:06.551Z"
   },
   {
    "duration": 51,
    "start_time": "2022-05-15T18:30:06.613Z"
   },
   {
    "duration": 97,
    "start_time": "2022-05-15T18:30:06.666Z"
   },
   {
    "duration": 1117,
    "start_time": "2022-05-15T18:30:06.766Z"
   },
   {
    "duration": 593,
    "start_time": "2022-05-15T18:30:07.887Z"
   },
   {
    "duration": 0,
    "start_time": "2022-05-15T18:35:51.301Z"
   },
   {
    "duration": 0,
    "start_time": "2022-05-15T18:36:06.317Z"
   },
   {
    "duration": 0,
    "start_time": "2022-05-15T18:36:06.318Z"
   },
   {
    "duration": 0,
    "start_time": "2022-05-15T18:36:06.319Z"
   },
   {
    "duration": 0,
    "start_time": "2022-05-15T18:36:06.321Z"
   },
   {
    "duration": 0,
    "start_time": "2022-05-15T18:36:06.323Z"
   },
   {
    "duration": 0,
    "start_time": "2022-05-15T18:36:06.324Z"
   },
   {
    "duration": 0,
    "start_time": "2022-05-15T18:36:06.325Z"
   },
   {
    "duration": 0,
    "start_time": "2022-05-15T18:36:06.327Z"
   },
   {
    "duration": 0,
    "start_time": "2022-05-15T18:36:06.328Z"
   },
   {
    "duration": 0,
    "start_time": "2022-05-15T18:36:06.330Z"
   },
   {
    "duration": 0,
    "start_time": "2022-05-15T18:36:06.332Z"
   },
   {
    "duration": 0,
    "start_time": "2022-05-15T18:36:06.333Z"
   },
   {
    "duration": 0,
    "start_time": "2022-05-15T18:36:06.334Z"
   },
   {
    "duration": 0,
    "start_time": "2022-05-15T18:36:06.336Z"
   },
   {
    "duration": 0,
    "start_time": "2022-05-15T18:36:06.337Z"
   },
   {
    "duration": 0,
    "start_time": "2022-05-15T18:36:06.340Z"
   },
   {
    "duration": 0,
    "start_time": "2022-05-15T18:36:06.342Z"
   },
   {
    "duration": 0,
    "start_time": "2022-05-15T18:36:06.344Z"
   },
   {
    "duration": 0,
    "start_time": "2022-05-15T18:36:06.346Z"
   },
   {
    "duration": 0,
    "start_time": "2022-05-15T18:36:06.347Z"
   },
   {
    "duration": 1,
    "start_time": "2022-05-15T18:36:06.348Z"
   },
   {
    "duration": 0,
    "start_time": "2022-05-15T18:36:06.350Z"
   },
   {
    "duration": 0,
    "start_time": "2022-05-15T18:36:06.351Z"
   },
   {
    "duration": 0,
    "start_time": "2022-05-15T18:36:06.352Z"
   },
   {
    "duration": 0,
    "start_time": "2022-05-15T18:36:06.354Z"
   },
   {
    "duration": 0,
    "start_time": "2022-05-15T18:36:06.355Z"
   },
   {
    "duration": 0,
    "start_time": "2022-05-15T18:36:06.356Z"
   },
   {
    "duration": 0,
    "start_time": "2022-05-15T18:36:06.357Z"
   },
   {
    "duration": 0,
    "start_time": "2022-05-15T18:36:06.359Z"
   },
   {
    "duration": 0,
    "start_time": "2022-05-15T18:36:06.361Z"
   },
   {
    "duration": 3,
    "start_time": "2022-05-15T19:22:59.565Z"
   },
   {
    "duration": 5,
    "start_time": "2022-05-15T19:22:59.938Z"
   },
   {
    "duration": 471,
    "start_time": "2022-05-15T19:22:59.945Z"
   },
   {
    "duration": 36,
    "start_time": "2022-05-15T19:23:00.418Z"
   },
   {
    "duration": 85,
    "start_time": "2022-05-15T19:23:00.456Z"
   },
   {
    "duration": 50,
    "start_time": "2022-05-15T19:23:00.543Z"
   },
   {
    "duration": 57,
    "start_time": "2022-05-15T19:23:00.595Z"
   },
   {
    "duration": 32,
    "start_time": "2022-05-15T19:23:00.654Z"
   },
   {
    "duration": 103,
    "start_time": "2022-05-15T19:23:00.688Z"
   },
   {
    "duration": 31,
    "start_time": "2022-05-15T19:23:00.793Z"
   },
   {
    "duration": 15,
    "start_time": "2022-05-15T19:23:00.827Z"
   },
   {
    "duration": 232,
    "start_time": "2022-05-15T19:23:00.844Z"
   },
   {
    "duration": 17,
    "start_time": "2022-05-15T19:23:01.078Z"
   },
   {
    "duration": 91,
    "start_time": "2022-05-15T19:23:01.097Z"
   },
   {
    "duration": 92,
    "start_time": "2022-05-15T19:23:01.192Z"
   },
   {
    "duration": 47,
    "start_time": "2022-05-15T19:23:01.287Z"
   },
   {
    "duration": 30,
    "start_time": "2022-05-15T19:23:01.336Z"
   },
   {
    "duration": 9,
    "start_time": "2022-05-15T19:23:01.368Z"
   },
   {
    "duration": 25,
    "start_time": "2022-05-15T19:23:01.378Z"
   },
   {
    "duration": 60,
    "start_time": "2022-05-15T19:23:01.405Z"
   },
   {
    "duration": 18,
    "start_time": "2022-05-15T19:23:01.466Z"
   },
   {
    "duration": 7,
    "start_time": "2022-05-15T19:23:01.486Z"
   },
   {
    "duration": 39,
    "start_time": "2022-05-15T19:23:01.494Z"
   },
   {
    "duration": 8,
    "start_time": "2022-05-15T19:23:01.535Z"
   },
   {
    "duration": 63,
    "start_time": "2022-05-15T19:23:01.545Z"
   },
   {
    "duration": 38,
    "start_time": "2022-05-15T19:23:01.610Z"
   },
   {
    "duration": 62,
    "start_time": "2022-05-15T19:23:01.650Z"
   },
   {
    "duration": 529,
    "start_time": "2022-05-15T19:23:01.723Z"
   },
   {
    "duration": 499,
    "start_time": "2022-05-15T19:23:02.254Z"
   },
   {
    "duration": 3202,
    "start_time": "2022-05-15T19:23:02.755Z"
   },
   {
    "duration": 3164,
    "start_time": "2022-05-15T19:29:14.656Z"
   },
   {
    "duration": 6,
    "start_time": "2022-05-15T19:29:48.178Z"
   },
   {
    "duration": 12,
    "start_time": "2022-05-15T19:30:04.138Z"
   },
   {
    "duration": 6,
    "start_time": "2022-05-15T19:30:11.248Z"
   },
   {
    "duration": 5,
    "start_time": "2022-05-15T19:30:41.095Z"
   },
   {
    "duration": 6,
    "start_time": "2022-05-15T19:31:24.490Z"
   },
   {
    "duration": 6,
    "start_time": "2022-05-15T19:36:14.335Z"
   },
   {
    "duration": 4,
    "start_time": "2022-05-15T19:36:16.729Z"
   },
   {
    "duration": 18,
    "start_time": "2022-05-15T19:36:16.736Z"
   },
   {
    "duration": 483,
    "start_time": "2022-05-15T19:36:16.756Z"
   },
   {
    "duration": 30,
    "start_time": "2022-05-15T19:36:17.242Z"
   },
   {
    "duration": 72,
    "start_time": "2022-05-15T19:36:17.274Z"
   },
   {
    "duration": 54,
    "start_time": "2022-05-15T19:36:17.349Z"
   },
   {
    "duration": 43,
    "start_time": "2022-05-15T19:36:17.424Z"
   },
   {
    "duration": 62,
    "start_time": "2022-05-15T19:36:17.469Z"
   },
   {
    "duration": 91,
    "start_time": "2022-05-15T19:36:17.533Z"
   },
   {
    "duration": 26,
    "start_time": "2022-05-15T19:36:17.627Z"
   },
   {
    "duration": 11,
    "start_time": "2022-05-15T19:36:17.657Z"
   },
   {
    "duration": 244,
    "start_time": "2022-05-15T19:36:17.670Z"
   },
   {
    "duration": 19,
    "start_time": "2022-05-15T19:36:17.923Z"
   },
   {
    "duration": 97,
    "start_time": "2022-05-15T19:36:17.944Z"
   },
   {
    "duration": 56,
    "start_time": "2022-05-15T19:36:18.043Z"
   },
   {
    "duration": 47,
    "start_time": "2022-05-15T19:36:18.100Z"
   },
   {
    "duration": 28,
    "start_time": "2022-05-15T19:36:18.149Z"
   },
   {
    "duration": 9,
    "start_time": "2022-05-15T19:36:18.179Z"
   },
   {
    "duration": 38,
    "start_time": "2022-05-15T19:36:18.190Z"
   },
   {
    "duration": 41,
    "start_time": "2022-05-15T19:36:18.230Z"
   },
   {
    "duration": 18,
    "start_time": "2022-05-15T19:36:18.274Z"
   },
   {
    "duration": 30,
    "start_time": "2022-05-15T19:36:18.294Z"
   },
   {
    "duration": 15,
    "start_time": "2022-05-15T19:36:18.327Z"
   },
   {
    "duration": 8,
    "start_time": "2022-05-15T19:36:18.343Z"
   },
   {
    "duration": 34,
    "start_time": "2022-05-15T19:36:18.353Z"
   },
   {
    "duration": 65,
    "start_time": "2022-05-15T19:36:18.388Z"
   },
   {
    "duration": 96,
    "start_time": "2022-05-15T19:36:18.454Z"
   },
   {
    "duration": 724,
    "start_time": "2022-05-15T19:36:18.552Z"
   },
   {
    "duration": 713,
    "start_time": "2022-05-15T19:36:19.279Z"
   },
   {
    "duration": 6,
    "start_time": "2022-05-15T19:36:19.994Z"
   },
   {
    "duration": 21,
    "start_time": "2022-05-15T19:52:39.121Z"
   },
   {
    "duration": 14,
    "start_time": "2022-05-15T19:52:53.696Z"
   },
   {
    "duration": 15,
    "start_time": "2022-05-15T19:53:08.847Z"
   },
   {
    "duration": 16,
    "start_time": "2022-05-15T19:53:25.901Z"
   },
   {
    "duration": 35,
    "start_time": "2022-05-15T19:53:34.735Z"
   },
   {
    "duration": 21,
    "start_time": "2022-05-15T19:54:49.059Z"
   },
   {
    "duration": 23,
    "start_time": "2022-05-15T19:55:53.536Z"
   },
   {
    "duration": 33,
    "start_time": "2022-05-15T19:55:59.152Z"
   },
   {
    "duration": 29,
    "start_time": "2022-05-15T19:56:15.262Z"
   },
   {
    "duration": 33,
    "start_time": "2022-05-15T19:56:20.843Z"
   },
   {
    "duration": 189,
    "start_time": "2022-05-15T19:56:31.336Z"
   },
   {
    "duration": 38,
    "start_time": "2022-05-15T19:56:35.618Z"
   },
   {
    "duration": 43,
    "start_time": "2022-05-15T19:59:01.466Z"
   },
   {
    "duration": 35,
    "start_time": "2022-05-15T20:00:00.735Z"
   },
   {
    "duration": 18,
    "start_time": "2022-05-15T20:00:31.418Z"
   },
   {
    "duration": 15,
    "start_time": "2022-05-15T20:01:31.703Z"
   },
   {
    "duration": 3,
    "start_time": "2022-05-15T20:01:41.444Z"
   },
   {
    "duration": 5,
    "start_time": "2022-05-15T20:01:41.454Z"
   },
   {
    "duration": 424,
    "start_time": "2022-05-15T20:01:41.462Z"
   },
   {
    "duration": 34,
    "start_time": "2022-05-15T20:01:41.888Z"
   },
   {
    "duration": 53,
    "start_time": "2022-05-15T20:01:41.924Z"
   },
   {
    "duration": 65,
    "start_time": "2022-05-15T20:01:41.980Z"
   },
   {
    "duration": 33,
    "start_time": "2022-05-15T20:01:42.046Z"
   },
   {
    "duration": 58,
    "start_time": "2022-05-15T20:01:42.081Z"
   },
   {
    "duration": 82,
    "start_time": "2022-05-15T20:01:42.141Z"
   },
   {
    "duration": 18,
    "start_time": "2022-05-15T20:01:42.225Z"
   },
   {
    "duration": 9,
    "start_time": "2022-05-15T20:01:42.244Z"
   },
   {
    "duration": 201,
    "start_time": "2022-05-15T20:01:42.256Z"
   },
   {
    "duration": 13,
    "start_time": "2022-05-15T20:01:42.458Z"
   },
   {
    "duration": 82,
    "start_time": "2022-05-15T20:01:42.473Z"
   },
   {
    "duration": 68,
    "start_time": "2022-05-15T20:01:42.557Z"
   },
   {
    "duration": 22,
    "start_time": "2022-05-15T20:01:42.627Z"
   },
   {
    "duration": 27,
    "start_time": "2022-05-15T20:01:42.651Z"
   },
   {
    "duration": 8,
    "start_time": "2022-05-15T20:01:42.679Z"
   },
   {
    "duration": 38,
    "start_time": "2022-05-15T20:01:42.689Z"
   },
   {
    "duration": 34,
    "start_time": "2022-05-15T20:01:42.729Z"
   },
   {
    "duration": 18,
    "start_time": "2022-05-15T20:01:42.765Z"
   },
   {
    "duration": 6,
    "start_time": "2022-05-15T20:01:42.785Z"
   },
   {
    "duration": 37,
    "start_time": "2022-05-15T20:01:42.792Z"
   },
   {
    "duration": 8,
    "start_time": "2022-05-15T20:01:42.831Z"
   },
   {
    "duration": 36,
    "start_time": "2022-05-15T20:01:42.841Z"
   },
   {
    "duration": 62,
    "start_time": "2022-05-15T20:01:42.879Z"
   },
   {
    "duration": 20,
    "start_time": "2022-05-15T20:01:42.942Z"
   },
   {
    "duration": 89,
    "start_time": "2022-05-15T20:01:42.964Z"
   },
   {
    "duration": 658,
    "start_time": "2022-05-15T20:01:43.055Z"
   },
   {
    "duration": 655,
    "start_time": "2022-05-15T20:01:43.721Z"
   },
   {
    "duration": 5,
    "start_time": "2022-05-15T20:01:44.378Z"
   },
   {
    "duration": 13,
    "start_time": "2022-05-15T20:01:44.385Z"
   },
   {
    "duration": 38,
    "start_time": "2022-05-15T20:02:01.603Z"
   },
   {
    "duration": 14,
    "start_time": "2022-05-15T20:04:25.174Z"
   },
   {
    "duration": 14,
    "start_time": "2022-05-15T20:04:38.173Z"
   },
   {
    "duration": 9,
    "start_time": "2022-05-15T20:04:48.977Z"
   },
   {
    "duration": 1219,
    "start_time": "2022-05-16T18:59:07.056Z"
   },
   {
    "duration": 6,
    "start_time": "2022-05-16T18:59:08.277Z"
   },
   {
    "duration": 465,
    "start_time": "2022-05-16T18:59:08.284Z"
   },
   {
    "duration": 30,
    "start_time": "2022-05-16T18:59:08.752Z"
   },
   {
    "duration": 74,
    "start_time": "2022-05-16T18:59:08.784Z"
   },
   {
    "duration": 50,
    "start_time": "2022-05-16T18:59:08.860Z"
   },
   {
    "duration": 55,
    "start_time": "2022-05-16T18:59:08.912Z"
   },
   {
    "duration": 37,
    "start_time": "2022-05-16T18:59:08.969Z"
   },
   {
    "duration": 108,
    "start_time": "2022-05-16T18:59:09.008Z"
   },
   {
    "duration": 34,
    "start_time": "2022-05-16T18:59:09.120Z"
   },
   {
    "duration": 10,
    "start_time": "2022-05-16T18:59:09.156Z"
   },
   {
    "duration": 229,
    "start_time": "2022-05-16T18:59:09.168Z"
   },
   {
    "duration": 14,
    "start_time": "2022-05-16T18:59:09.399Z"
   },
   {
    "duration": 86,
    "start_time": "2022-05-16T18:59:09.415Z"
   },
   {
    "duration": 67,
    "start_time": "2022-05-16T18:59:09.503Z"
   },
   {
    "duration": 23,
    "start_time": "2022-05-16T18:59:09.572Z"
   },
   {
    "duration": 27,
    "start_time": "2022-05-16T18:59:09.596Z"
   },
   {
    "duration": 27,
    "start_time": "2022-05-16T18:59:09.624Z"
   },
   {
    "duration": 8,
    "start_time": "2022-05-16T18:59:09.653Z"
   },
   {
    "duration": 35,
    "start_time": "2022-05-16T18:59:09.663Z"
   },
   {
    "duration": 17,
    "start_time": "2022-05-16T18:59:09.700Z"
   },
   {
    "duration": 35,
    "start_time": "2022-05-16T18:59:09.719Z"
   },
   {
    "duration": 19,
    "start_time": "2022-05-16T18:59:09.756Z"
   },
   {
    "duration": 20,
    "start_time": "2022-05-16T18:59:09.777Z"
   },
   {
    "duration": 36,
    "start_time": "2022-05-16T18:59:09.799Z"
   },
   {
    "duration": 36,
    "start_time": "2022-05-16T18:59:09.837Z"
   },
   {
    "duration": 33,
    "start_time": "2022-05-16T18:59:09.875Z"
   },
   {
    "duration": 69,
    "start_time": "2022-05-16T18:59:09.912Z"
   },
   {
    "duration": 673,
    "start_time": "2022-05-16T18:59:09.983Z"
   },
   {
    "duration": 710,
    "start_time": "2022-05-16T18:59:10.658Z"
   },
   {
    "duration": 6,
    "start_time": "2022-05-16T18:59:11.369Z"
   },
   {
    "duration": 9,
    "start_time": "2022-05-16T18:59:11.376Z"
   },
   {
    "duration": 5,
    "start_time": "2022-05-16T19:10:06.705Z"
   },
   {
    "duration": 7,
    "start_time": "2022-05-16T19:11:26.790Z"
   },
   {
    "duration": 1303,
    "start_time": "2022-05-16T21:43:48.716Z"
   },
   {
    "duration": 6,
    "start_time": "2022-05-16T21:43:50.021Z"
   },
   {
    "duration": 433,
    "start_time": "2022-05-16T21:43:50.028Z"
   },
   {
    "duration": 40,
    "start_time": "2022-05-16T21:43:50.464Z"
   },
   {
    "duration": 89,
    "start_time": "2022-05-16T21:43:50.506Z"
   },
   {
    "duration": 81,
    "start_time": "2022-05-16T21:43:50.597Z"
   },
   {
    "duration": 31,
    "start_time": "2022-05-16T21:43:50.680Z"
   },
   {
    "duration": 28,
    "start_time": "2022-05-16T21:43:50.712Z"
   },
   {
    "duration": 74,
    "start_time": "2022-05-16T21:43:50.764Z"
   },
   {
    "duration": 30,
    "start_time": "2022-05-16T21:43:50.840Z"
   },
   {
    "duration": 10,
    "start_time": "2022-05-16T21:43:50.871Z"
   },
   {
    "duration": 205,
    "start_time": "2022-05-16T21:43:50.882Z"
   },
   {
    "duration": 13,
    "start_time": "2022-05-16T21:43:51.089Z"
   },
   {
    "duration": 76,
    "start_time": "2022-05-16T21:43:51.104Z"
   },
   {
    "duration": 52,
    "start_time": "2022-05-16T21:43:51.182Z"
   },
   {
    "duration": 33,
    "start_time": "2022-05-16T21:43:51.236Z"
   },
   {
    "duration": 25,
    "start_time": "2022-05-16T21:43:51.271Z"
   },
   {
    "duration": 7,
    "start_time": "2022-05-16T21:43:51.297Z"
   },
   {
    "duration": 12,
    "start_time": "2022-05-16T21:43:51.305Z"
   },
   {
    "duration": 48,
    "start_time": "2022-05-16T21:43:51.318Z"
   },
   {
    "duration": 16,
    "start_time": "2022-05-16T21:43:51.368Z"
   },
   {
    "duration": 5,
    "start_time": "2022-05-16T21:43:51.385Z"
   },
   {
    "duration": 8,
    "start_time": "2022-05-16T21:43:51.391Z"
   },
   {
    "duration": 8,
    "start_time": "2022-05-16T21:43:51.401Z"
   },
   {
    "duration": 7,
    "start_time": "2022-05-16T21:43:51.410Z"
   },
   {
    "duration": 62,
    "start_time": "2022-05-16T21:43:51.418Z"
   },
   {
    "duration": 38,
    "start_time": "2022-05-16T21:43:51.482Z"
   },
   {
    "duration": 40,
    "start_time": "2022-05-16T21:43:51.524Z"
   },
   {
    "duration": 110,
    "start_time": "2022-05-16T21:43:51.566Z"
   },
   {
    "duration": 882,
    "start_time": "2022-05-16T21:43:51.678Z"
   },
   {
    "duration": 1030,
    "start_time": "2022-05-16T21:43:52.564Z"
   },
   {
    "duration": 6,
    "start_time": "2022-05-16T21:43:53.596Z"
   },
   {
    "duration": 9,
    "start_time": "2022-05-16T21:43:53.604Z"
   },
   {
    "duration": 0,
    "start_time": "2022-05-16T21:47:12.373Z"
   },
   {
    "duration": 3,
    "start_time": "2022-05-16T21:47:18.461Z"
   },
   {
    "duration": 5,
    "start_time": "2022-05-16T21:47:18.520Z"
   },
   {
    "duration": 397,
    "start_time": "2022-05-16T21:47:18.527Z"
   },
   {
    "duration": 24,
    "start_time": "2022-05-16T21:47:18.925Z"
   },
   {
    "duration": 46,
    "start_time": "2022-05-16T21:47:18.951Z"
   },
   {
    "duration": 43,
    "start_time": "2022-05-16T21:47:18.999Z"
   },
   {
    "duration": 48,
    "start_time": "2022-05-16T21:47:19.043Z"
   },
   {
    "duration": 29,
    "start_time": "2022-05-16T21:47:19.093Z"
   },
   {
    "duration": 92,
    "start_time": "2022-05-16T21:47:19.123Z"
   },
   {
    "duration": 17,
    "start_time": "2022-05-16T21:47:19.216Z"
   },
   {
    "duration": 3298,
    "start_time": "2022-05-16T21:47:19.235Z"
   },
   {
    "duration": 0,
    "start_time": "2022-05-16T21:47:22.535Z"
   },
   {
    "duration": 0,
    "start_time": "2022-05-16T21:47:22.536Z"
   },
   {
    "duration": 1,
    "start_time": "2022-05-16T21:47:22.537Z"
   },
   {
    "duration": 0,
    "start_time": "2022-05-16T21:47:22.538Z"
   },
   {
    "duration": 0,
    "start_time": "2022-05-16T21:47:22.540Z"
   },
   {
    "duration": 0,
    "start_time": "2022-05-16T21:47:22.541Z"
   },
   {
    "duration": 0,
    "start_time": "2022-05-16T21:47:22.542Z"
   },
   {
    "duration": 0,
    "start_time": "2022-05-16T21:47:22.543Z"
   },
   {
    "duration": 0,
    "start_time": "2022-05-16T21:47:22.544Z"
   },
   {
    "duration": 0,
    "start_time": "2022-05-16T21:47:22.545Z"
   },
   {
    "duration": 0,
    "start_time": "2022-05-16T21:47:22.546Z"
   },
   {
    "duration": 0,
    "start_time": "2022-05-16T21:47:22.547Z"
   },
   {
    "duration": 0,
    "start_time": "2022-05-16T21:47:22.548Z"
   },
   {
    "duration": 1,
    "start_time": "2022-05-16T21:47:22.548Z"
   },
   {
    "duration": 0,
    "start_time": "2022-05-16T21:47:22.549Z"
   },
   {
    "duration": 0,
    "start_time": "2022-05-16T21:47:22.550Z"
   },
   {
    "duration": 0,
    "start_time": "2022-05-16T21:47:22.551Z"
   },
   {
    "duration": 0,
    "start_time": "2022-05-16T21:47:22.552Z"
   },
   {
    "duration": 0,
    "start_time": "2022-05-16T21:47:22.553Z"
   },
   {
    "duration": 0,
    "start_time": "2022-05-16T21:47:22.554Z"
   },
   {
    "duration": 0,
    "start_time": "2022-05-16T21:47:22.555Z"
   },
   {
    "duration": 0,
    "start_time": "2022-05-16T21:47:22.556Z"
   },
   {
    "duration": 3,
    "start_time": "2022-05-16T21:47:31.291Z"
   },
   {
    "duration": 12,
    "start_time": "2022-05-16T21:47:31.296Z"
   },
   {
    "duration": 409,
    "start_time": "2022-05-16T21:47:31.310Z"
   },
   {
    "duration": 25,
    "start_time": "2022-05-16T21:47:31.720Z"
   },
   {
    "duration": 61,
    "start_time": "2022-05-16T21:47:31.747Z"
   },
   {
    "duration": 54,
    "start_time": "2022-05-16T21:47:31.810Z"
   },
   {
    "duration": 29,
    "start_time": "2022-05-16T21:47:31.866Z"
   },
   {
    "duration": 61,
    "start_time": "2022-05-16T21:47:31.896Z"
   },
   {
    "duration": 69,
    "start_time": "2022-05-16T21:47:31.958Z"
   },
   {
    "duration": 17,
    "start_time": "2022-05-16T21:47:32.028Z"
   },
   {
    "duration": 14,
    "start_time": "2022-05-16T21:47:32.063Z"
   },
   {
    "duration": 185,
    "start_time": "2022-05-16T21:47:32.079Z"
   },
   {
    "duration": 15,
    "start_time": "2022-05-16T21:47:32.265Z"
   },
   {
    "duration": 74,
    "start_time": "2022-05-16T21:47:32.281Z"
   },
   {
    "duration": 42,
    "start_time": "2022-05-16T21:47:32.364Z"
   },
   {
    "duration": 19,
    "start_time": "2022-05-16T21:47:32.407Z"
   },
   {
    "duration": 42,
    "start_time": "2022-05-16T21:47:32.428Z"
   },
   {
    "duration": 7,
    "start_time": "2022-05-16T21:47:32.471Z"
   },
   {
    "duration": 17,
    "start_time": "2022-05-16T21:47:32.479Z"
   },
   {
    "duration": 43,
    "start_time": "2022-05-16T21:47:32.497Z"
   },
   {
    "duration": 24,
    "start_time": "2022-05-16T21:47:32.541Z"
   },
   {
    "duration": 5,
    "start_time": "2022-05-16T21:47:32.567Z"
   },
   {
    "duration": 11,
    "start_time": "2022-05-16T21:47:32.574Z"
   },
   {
    "duration": 18,
    "start_time": "2022-05-16T21:47:32.586Z"
   },
   {
    "duration": 14,
    "start_time": "2022-05-16T21:47:32.605Z"
   },
   {
    "duration": 45,
    "start_time": "2022-05-16T21:47:32.620Z"
   },
   {
    "duration": 27,
    "start_time": "2022-05-16T21:47:32.667Z"
   },
   {
    "duration": 16,
    "start_time": "2022-05-16T21:47:32.696Z"
   },
   {
    "duration": 84,
    "start_time": "2022-05-16T21:47:32.715Z"
   },
   {
    "duration": 765,
    "start_time": "2022-05-16T21:47:32.801Z"
   },
   {
    "duration": 1157,
    "start_time": "2022-05-16T21:47:33.567Z"
   },
   {
    "duration": 39,
    "start_time": "2022-05-16T21:47:34.725Z"
   },
   {
    "duration": 8,
    "start_time": "2022-05-16T21:47:34.766Z"
   },
   {
    "duration": 5,
    "start_time": "2022-05-16T21:49:51.554Z"
   },
   {
    "duration": 63,
    "start_time": "2022-05-16T21:49:57.735Z"
   },
   {
    "duration": 64,
    "start_time": "2022-05-16T21:50:28.288Z"
   },
   {
    "duration": 61,
    "start_time": "2022-05-16T21:50:30.913Z"
   },
   {
    "duration": 2,
    "start_time": "2022-05-16T21:50:35.991Z"
   },
   {
    "duration": 10,
    "start_time": "2022-05-16T21:50:35.995Z"
   },
   {
    "duration": 400,
    "start_time": "2022-05-16T21:50:36.007Z"
   },
   {
    "duration": 113,
    "start_time": "2022-05-16T21:50:36.409Z"
   },
   {
    "duration": 52,
    "start_time": "2022-05-16T21:50:36.524Z"
   },
   {
    "duration": 45,
    "start_time": "2022-05-16T21:50:36.577Z"
   },
   {
    "duration": 47,
    "start_time": "2022-05-16T21:50:36.623Z"
   },
   {
    "duration": 33,
    "start_time": "2022-05-16T21:50:36.672Z"
   },
   {
    "duration": 99,
    "start_time": "2022-05-16T21:50:36.707Z"
   },
   {
    "duration": 20,
    "start_time": "2022-05-16T21:50:36.807Z"
   },
   {
    "duration": 10,
    "start_time": "2022-05-16T21:50:36.829Z"
   },
   {
    "duration": 209,
    "start_time": "2022-05-16T21:50:36.840Z"
   },
   {
    "duration": 22,
    "start_time": "2022-05-16T21:50:37.051Z"
   },
   {
    "duration": 63,
    "start_time": "2022-05-16T21:50:37.074Z"
   },
   {
    "duration": 5,
    "start_time": "2022-05-16T21:50:46.674Z"
   },
   {
    "duration": 2,
    "start_time": "2022-05-16T21:50:53.022Z"
   },
   {
    "duration": 9,
    "start_time": "2022-05-16T21:50:53.026Z"
   },
   {
    "duration": 403,
    "start_time": "2022-05-16T21:50:53.037Z"
   },
   {
    "duration": 23,
    "start_time": "2022-05-16T21:50:53.442Z"
   },
   {
    "duration": 51,
    "start_time": "2022-05-16T21:50:53.467Z"
   },
   {
    "duration": 57,
    "start_time": "2022-05-16T21:50:53.520Z"
   },
   {
    "duration": 28,
    "start_time": "2022-05-16T21:50:53.578Z"
   },
   {
    "duration": 27,
    "start_time": "2022-05-16T21:50:53.608Z"
   },
   {
    "duration": 87,
    "start_time": "2022-05-16T21:50:53.637Z"
   },
   {
    "duration": 18,
    "start_time": "2022-05-16T21:50:53.725Z"
   },
   {
    "duration": 26,
    "start_time": "2022-05-16T21:50:53.746Z"
   },
   {
    "duration": 185,
    "start_time": "2022-05-16T21:50:53.773Z"
   },
   {
    "duration": 14,
    "start_time": "2022-05-16T21:50:53.963Z"
   },
   {
    "duration": 60,
    "start_time": "2022-05-16T21:50:53.979Z"
   },
   {
    "duration": 70,
    "start_time": "2022-05-16T21:50:54.041Z"
   },
   {
    "duration": 21,
    "start_time": "2022-05-16T21:50:54.113Z"
   },
   {
    "duration": 41,
    "start_time": "2022-05-16T21:50:54.135Z"
   },
   {
    "duration": 7,
    "start_time": "2022-05-16T21:50:54.178Z"
   },
   {
    "duration": 11,
    "start_time": "2022-05-16T21:50:54.186Z"
   },
   {
    "duration": 92,
    "start_time": "2022-05-16T21:50:54.198Z"
   },
   {
    "duration": 14,
    "start_time": "2022-05-16T21:50:54.291Z"
   },
   {
    "duration": 5,
    "start_time": "2022-05-16T21:50:54.306Z"
   },
   {
    "duration": 6,
    "start_time": "2022-05-16T21:50:54.312Z"
   },
   {
    "duration": 10,
    "start_time": "2022-05-16T21:50:54.320Z"
   },
   {
    "duration": 33,
    "start_time": "2022-05-16T21:50:54.331Z"
   },
   {
    "duration": 30,
    "start_time": "2022-05-16T21:50:54.366Z"
   },
   {
    "duration": 28,
    "start_time": "2022-05-16T21:50:54.397Z"
   },
   {
    "duration": 37,
    "start_time": "2022-05-16T21:50:54.427Z"
   },
   {
    "duration": 63,
    "start_time": "2022-05-16T21:50:54.468Z"
   },
   {
    "duration": 663,
    "start_time": "2022-05-16T21:50:54.533Z"
   },
   {
    "duration": 1166,
    "start_time": "2022-05-16T21:50:55.198Z"
   },
   {
    "duration": 5,
    "start_time": "2022-05-16T21:50:56.366Z"
   },
   {
    "duration": 16,
    "start_time": "2022-05-16T21:50:56.372Z"
   },
   {
    "duration": 10,
    "start_time": "2022-05-16T21:54:31.654Z"
   },
   {
    "duration": 10,
    "start_time": "2022-05-16T21:54:37.477Z"
   },
   {
    "duration": 12,
    "start_time": "2022-05-16T21:55:55.701Z"
   },
   {
    "duration": 3,
    "start_time": "2022-05-16T21:56:11.466Z"
   },
   {
    "duration": 6,
    "start_time": "2022-05-16T21:56:11.470Z"
   },
   {
    "duration": 381,
    "start_time": "2022-05-16T21:56:11.478Z"
   },
   {
    "duration": 23,
    "start_time": "2022-05-16T21:56:11.861Z"
   },
   {
    "duration": 140,
    "start_time": "2022-05-16T21:56:11.886Z"
   },
   {
    "duration": 53,
    "start_time": "2022-05-16T21:56:12.027Z"
   },
   {
    "duration": 27,
    "start_time": "2022-05-16T21:56:12.081Z"
   },
   {
    "duration": 29,
    "start_time": "2022-05-16T21:56:12.110Z"
   },
   {
    "duration": 69,
    "start_time": "2022-05-16T21:56:12.163Z"
   },
   {
    "duration": 32,
    "start_time": "2022-05-16T21:56:12.233Z"
   },
   {
    "duration": 10,
    "start_time": "2022-05-16T21:56:12.267Z"
   },
   {
    "duration": 176,
    "start_time": "2022-05-16T21:56:12.278Z"
   },
   {
    "duration": 19,
    "start_time": "2022-05-16T21:56:12.456Z"
   },
   {
    "duration": 62,
    "start_time": "2022-05-16T21:56:12.477Z"
   },
   {
    "duration": 67,
    "start_time": "2022-05-16T21:56:12.541Z"
   },
   {
    "duration": 21,
    "start_time": "2022-05-16T21:56:12.610Z"
   },
   {
    "duration": 41,
    "start_time": "2022-05-16T21:56:12.633Z"
   },
   {
    "duration": 7,
    "start_time": "2022-05-16T21:56:12.676Z"
   },
   {
    "duration": 20,
    "start_time": "2022-05-16T21:56:12.685Z"
   },
   {
    "duration": 81,
    "start_time": "2022-05-16T21:56:12.707Z"
   },
   {
    "duration": 5,
    "start_time": "2022-05-16T21:56:15.900Z"
   },
   {
    "duration": 3,
    "start_time": "2022-05-16T21:56:37.028Z"
   },
   {
    "duration": 5,
    "start_time": "2022-05-16T21:56:37.033Z"
   },
   {
    "duration": 397,
    "start_time": "2022-05-16T21:56:37.040Z"
   },
   {
    "duration": 22,
    "start_time": "2022-05-16T21:56:37.438Z"
   },
   {
    "duration": 45,
    "start_time": "2022-05-16T21:56:37.463Z"
   },
   {
    "duration": 59,
    "start_time": "2022-05-16T21:56:37.510Z"
   },
   {
    "duration": 29,
    "start_time": "2022-05-16T21:56:37.571Z"
   },
   {
    "duration": 29,
    "start_time": "2022-05-16T21:56:37.602Z"
   },
   {
    "duration": 92,
    "start_time": "2022-05-16T21:56:37.633Z"
   },
   {
    "duration": 18,
    "start_time": "2022-05-16T21:56:37.727Z"
   },
   {
    "duration": 30,
    "start_time": "2022-05-16T21:56:37.746Z"
   },
   {
    "duration": 188,
    "start_time": "2022-05-16T21:56:37.777Z"
   },
   {
    "duration": 13,
    "start_time": "2022-05-16T21:56:37.966Z"
   },
   {
    "duration": 80,
    "start_time": "2022-05-16T21:56:37.981Z"
   },
   {
    "duration": 51,
    "start_time": "2022-05-16T21:56:38.063Z"
   },
   {
    "duration": 24,
    "start_time": "2022-05-16T21:56:38.116Z"
   },
   {
    "duration": 50,
    "start_time": "2022-05-16T21:56:38.141Z"
   },
   {
    "duration": 9,
    "start_time": "2022-05-16T21:56:38.193Z"
   },
   {
    "duration": 14,
    "start_time": "2022-05-16T21:56:38.204Z"
   },
   {
    "duration": 101,
    "start_time": "2022-05-16T21:56:38.219Z"
   },
   {
    "duration": 6,
    "start_time": "2022-05-16T21:56:48.401Z"
   },
   {
    "duration": 116,
    "start_time": "2022-05-16T21:56:53.495Z"
   },
   {
    "duration": 18,
    "start_time": "2022-05-16T21:56:55.470Z"
   },
   {
    "duration": 6,
    "start_time": "2022-05-16T21:56:56.536Z"
   },
   {
    "duration": 3,
    "start_time": "2022-05-16T22:01:47.616Z"
   },
   {
    "duration": 9,
    "start_time": "2022-05-16T22:01:47.622Z"
   },
   {
    "duration": 395,
    "start_time": "2022-05-16T22:01:47.633Z"
   },
   {
    "duration": 25,
    "start_time": "2022-05-16T22:01:48.030Z"
   },
   {
    "duration": 49,
    "start_time": "2022-05-16T22:01:48.057Z"
   },
   {
    "duration": 59,
    "start_time": "2022-05-16T22:01:48.108Z"
   },
   {
    "duration": 29,
    "start_time": "2022-05-16T22:01:48.169Z"
   },
   {
    "duration": 28,
    "start_time": "2022-05-16T22:01:48.200Z"
   },
   {
    "duration": 88,
    "start_time": "2022-05-16T22:01:48.230Z"
   },
   {
    "duration": 16,
    "start_time": "2022-05-16T22:01:48.320Z"
   },
   {
    "duration": 9,
    "start_time": "2022-05-16T22:01:48.338Z"
   },
   {
    "duration": 169,
    "start_time": "2022-05-16T22:01:48.363Z"
   },
   {
    "duration": 14,
    "start_time": "2022-05-16T22:01:48.534Z"
   },
   {
    "duration": 71,
    "start_time": "2022-05-16T22:01:48.550Z"
   },
   {
    "duration": 56,
    "start_time": "2022-05-16T22:01:48.624Z"
   },
   {
    "duration": 19,
    "start_time": "2022-05-16T22:01:48.682Z"
   },
   {
    "duration": 22,
    "start_time": "2022-05-16T22:01:48.702Z"
   },
   {
    "duration": 7,
    "start_time": "2022-05-16T22:01:48.726Z"
   },
   {
    "duration": 32,
    "start_time": "2022-05-16T22:01:48.735Z"
   },
   {
    "duration": 85,
    "start_time": "2022-05-16T22:01:48.768Z"
   },
   {
    "duration": 22,
    "start_time": "2022-05-16T22:01:48.855Z"
   },
   {
    "duration": 5,
    "start_time": "2022-05-16T22:01:48.879Z"
   },
   {
    "duration": 9,
    "start_time": "2022-05-16T22:01:48.885Z"
   },
   {
    "duration": 10,
    "start_time": "2022-05-16T22:01:48.895Z"
   },
   {
    "duration": 8,
    "start_time": "2022-05-16T22:01:48.907Z"
   },
   {
    "duration": 58,
    "start_time": "2022-05-16T22:01:48.916Z"
   },
   {
    "duration": 30,
    "start_time": "2022-05-16T22:01:48.976Z"
   },
   {
    "duration": 16,
    "start_time": "2022-05-16T22:01:49.008Z"
   },
   {
    "duration": 87,
    "start_time": "2022-05-16T22:01:49.026Z"
   },
   {
    "duration": 1255,
    "start_time": "2022-05-16T22:01:49.114Z"
   },
   {
    "duration": 1163,
    "start_time": "2022-05-16T22:01:50.371Z"
   },
   {
    "duration": 6,
    "start_time": "2022-05-16T22:01:51.536Z"
   },
   {
    "duration": 20,
    "start_time": "2022-05-16T22:01:51.544Z"
   },
   {
    "duration": 6,
    "start_time": "2022-05-16T22:06:59.184Z"
   },
   {
    "duration": 4,
    "start_time": "2022-05-16T22:07:02.839Z"
   },
   {
    "duration": 10,
    "start_time": "2022-05-16T22:07:02.854Z"
   },
   {
    "duration": 393,
    "start_time": "2022-05-16T22:07:02.866Z"
   },
   {
    "duration": 24,
    "start_time": "2022-05-16T22:07:03.260Z"
   },
   {
    "duration": 43,
    "start_time": "2022-05-16T22:07:03.285Z"
   },
   {
    "duration": 59,
    "start_time": "2022-05-16T22:07:03.330Z"
   },
   {
    "duration": 27,
    "start_time": "2022-05-16T22:07:03.390Z"
   },
   {
    "duration": 53,
    "start_time": "2022-05-16T22:07:03.418Z"
   },
   {
    "duration": 64,
    "start_time": "2022-05-16T22:07:03.473Z"
   },
   {
    "duration": 29,
    "start_time": "2022-05-16T22:07:03.539Z"
   },
   {
    "duration": 9,
    "start_time": "2022-05-16T22:07:03.570Z"
   },
   {
    "duration": 164,
    "start_time": "2022-05-16T22:07:03.580Z"
   },
   {
    "duration": 21,
    "start_time": "2022-05-16T22:07:03.746Z"
   },
   {
    "duration": 61,
    "start_time": "2022-05-16T22:07:03.768Z"
   },
   {
    "duration": 59,
    "start_time": "2022-05-16T22:07:03.832Z"
   },
   {
    "duration": 20,
    "start_time": "2022-05-16T22:07:03.892Z"
   },
   {
    "duration": 24,
    "start_time": "2022-05-16T22:07:03.913Z"
   },
   {
    "duration": 27,
    "start_time": "2022-05-16T22:07:03.938Z"
   },
   {
    "duration": 11,
    "start_time": "2022-05-16T22:07:03.966Z"
   },
   {
    "duration": 187,
    "start_time": "2022-05-16T22:07:03.979Z"
   },
   {
    "duration": 17,
    "start_time": "2022-05-16T22:07:04.167Z"
   },
   {
    "duration": 5,
    "start_time": "2022-05-16T22:07:04.185Z"
   },
   {
    "duration": 6,
    "start_time": "2022-05-16T22:07:04.192Z"
   },
   {
    "duration": 8,
    "start_time": "2022-05-16T22:07:04.199Z"
   },
   {
    "duration": 6,
    "start_time": "2022-05-16T22:07:04.208Z"
   },
   {
    "duration": 60,
    "start_time": "2022-05-16T22:07:04.216Z"
   },
   {
    "duration": 26,
    "start_time": "2022-05-16T22:07:04.277Z"
   },
   {
    "duration": 14,
    "start_time": "2022-05-16T22:07:04.305Z"
   },
   {
    "duration": 84,
    "start_time": "2022-05-16T22:07:04.321Z"
   },
   {
    "duration": 1121,
    "start_time": "2022-05-16T22:07:04.406Z"
   },
   {
    "duration": 1126,
    "start_time": "2022-05-16T22:07:05.529Z"
   },
   {
    "duration": 9,
    "start_time": "2022-05-16T22:07:06.657Z"
   },
   {
    "duration": 25,
    "start_time": "2022-05-16T22:07:06.667Z"
   },
   {
    "duration": 11,
    "start_time": "2022-05-16T22:11:09.680Z"
   },
   {
    "duration": 12,
    "start_time": "2022-05-16T22:11:55.855Z"
   },
   {
    "duration": 13,
    "start_time": "2022-05-16T22:12:07.370Z"
   },
   {
    "duration": 10,
    "start_time": "2022-05-16T22:16:01.284Z"
   },
   {
    "duration": 3,
    "start_time": "2022-05-16T22:26:13.909Z"
   },
   {
    "duration": 12,
    "start_time": "2022-05-16T22:26:13.914Z"
   },
   {
    "duration": 387,
    "start_time": "2022-05-16T22:26:13.928Z"
   },
   {
    "duration": 22,
    "start_time": "2022-05-16T22:26:14.317Z"
   },
   {
    "duration": 56,
    "start_time": "2022-05-16T22:26:14.341Z"
   },
   {
    "duration": 44,
    "start_time": "2022-05-16T22:26:14.399Z"
   },
   {
    "duration": 45,
    "start_time": "2022-05-16T22:26:14.445Z"
   },
   {
    "duration": 29,
    "start_time": "2022-05-16T22:26:14.491Z"
   },
   {
    "duration": 92,
    "start_time": "2022-05-16T22:26:14.521Z"
   },
   {
    "duration": 17,
    "start_time": "2022-05-16T22:26:14.614Z"
   },
   {
    "duration": 10,
    "start_time": "2022-05-16T22:26:14.632Z"
   },
   {
    "duration": 201,
    "start_time": "2022-05-16T22:26:14.643Z"
   },
   {
    "duration": 23,
    "start_time": "2022-05-16T22:26:14.845Z"
   },
   {
    "duration": 70,
    "start_time": "2022-05-16T22:26:14.871Z"
   },
   {
    "duration": 56,
    "start_time": "2022-05-16T22:26:14.942Z"
   },
   {
    "duration": 21,
    "start_time": "2022-05-16T22:26:15.000Z"
   },
   {
    "duration": 43,
    "start_time": "2022-05-16T22:26:15.022Z"
   },
   {
    "duration": 9,
    "start_time": "2022-05-16T22:26:15.067Z"
   },
   {
    "duration": 20,
    "start_time": "2022-05-16T22:26:15.077Z"
   },
   {
    "duration": 187,
    "start_time": "2022-05-16T22:26:15.099Z"
   },
   {
    "duration": 16,
    "start_time": "2022-05-16T22:26:15.288Z"
   },
   {
    "duration": 5,
    "start_time": "2022-05-16T22:26:15.305Z"
   },
   {
    "duration": 9,
    "start_time": "2022-05-16T22:26:15.312Z"
   },
   {
    "duration": 27,
    "start_time": "2022-05-16T22:26:15.323Z"
   },
   {
    "duration": 13,
    "start_time": "2022-05-16T22:26:15.352Z"
   },
   {
    "duration": 29,
    "start_time": "2022-05-16T22:26:15.366Z"
   },
   {
    "duration": 28,
    "start_time": "2022-05-16T22:26:15.397Z"
   },
   {
    "duration": 38,
    "start_time": "2022-05-16T22:26:15.426Z"
   },
   {
    "duration": 64,
    "start_time": "2022-05-16T22:26:15.466Z"
   },
   {
    "duration": 1164,
    "start_time": "2022-05-16T22:26:15.532Z"
   },
   {
    "duration": 1268,
    "start_time": "2022-05-16T22:26:16.697Z"
   },
   {
    "duration": 9,
    "start_time": "2022-05-16T22:26:17.967Z"
   },
   {
    "duration": 19,
    "start_time": "2022-05-16T22:26:17.978Z"
   },
   {
    "duration": 1429,
    "start_time": "2022-05-17T16:52:42.814Z"
   },
   {
    "duration": 6,
    "start_time": "2022-05-17T16:52:44.245Z"
   },
   {
    "duration": 2571,
    "start_time": "2022-05-17T16:52:44.253Z"
   },
   {
    "duration": 31,
    "start_time": "2022-05-17T16:52:46.827Z"
   },
   {
    "duration": 51,
    "start_time": "2022-05-17T16:52:46.859Z"
   },
   {
    "duration": 58,
    "start_time": "2022-05-17T16:52:46.911Z"
   },
   {
    "duration": 30,
    "start_time": "2022-05-17T16:52:46.970Z"
   },
   {
    "duration": 50,
    "start_time": "2022-05-17T16:52:47.001Z"
   },
   {
    "duration": 77,
    "start_time": "2022-05-17T16:52:47.052Z"
   },
   {
    "duration": 28,
    "start_time": "2022-05-17T16:52:47.131Z"
   },
   {
    "duration": 10,
    "start_time": "2022-05-17T16:52:47.161Z"
   },
   {
    "duration": 208,
    "start_time": "2022-05-17T16:52:47.172Z"
   },
   {
    "duration": 14,
    "start_time": "2022-05-17T16:52:47.382Z"
   },
   {
    "duration": 80,
    "start_time": "2022-05-17T16:52:47.397Z"
   },
   {
    "duration": 58,
    "start_time": "2022-05-17T16:52:47.478Z"
   },
   {
    "duration": 32,
    "start_time": "2022-05-17T16:52:47.538Z"
   },
   {
    "duration": 27,
    "start_time": "2022-05-17T16:52:47.572Z"
   },
   {
    "duration": 8,
    "start_time": "2022-05-17T16:52:47.601Z"
   },
   {
    "duration": 8,
    "start_time": "2022-05-17T16:52:47.611Z"
   },
   {
    "duration": 109,
    "start_time": "2022-05-17T16:52:47.621Z"
   },
   {
    "duration": 34,
    "start_time": "2022-05-17T16:52:47.731Z"
   },
   {
    "duration": 6,
    "start_time": "2022-05-17T16:52:47.766Z"
   },
   {
    "duration": 10,
    "start_time": "2022-05-17T16:52:47.774Z"
   },
   {
    "duration": 9,
    "start_time": "2022-05-17T16:52:47.785Z"
   },
   {
    "duration": 7,
    "start_time": "2022-05-17T16:52:47.796Z"
   },
   {
    "duration": 61,
    "start_time": "2022-05-17T16:52:47.805Z"
   },
   {
    "duration": 32,
    "start_time": "2022-05-17T16:52:47.868Z"
   },
   {
    "duration": 17,
    "start_time": "2022-05-17T16:52:47.903Z"
   },
   {
    "duration": 92,
    "start_time": "2022-05-17T16:52:47.922Z"
   },
   {
    "duration": 1421,
    "start_time": "2022-05-17T16:52:48.015Z"
   },
   {
    "duration": 1473,
    "start_time": "2022-05-17T16:52:49.438Z"
   },
   {
    "duration": 12,
    "start_time": "2022-05-17T16:52:50.912Z"
   },
   {
    "duration": 43,
    "start_time": "2022-05-17T16:52:50.926Z"
   },
   {
    "duration": 1786,
    "start_time": "2022-05-17T17:24:30.319Z"
   },
   {
    "duration": 8,
    "start_time": "2022-05-17T17:24:32.110Z"
   },
   {
    "duration": 494,
    "start_time": "2022-05-17T17:24:32.120Z"
   },
   {
    "duration": 46,
    "start_time": "2022-05-17T17:24:32.617Z"
   },
   {
    "duration": 83,
    "start_time": "2022-05-17T17:24:32.665Z"
   },
   {
    "duration": 88,
    "start_time": "2022-05-17T17:24:32.751Z"
   },
   {
    "duration": 42,
    "start_time": "2022-05-17T17:24:32.841Z"
   },
   {
    "duration": 51,
    "start_time": "2022-05-17T17:24:32.909Z"
   },
   {
    "duration": 129,
    "start_time": "2022-05-17T17:24:32.962Z"
   },
   {
    "duration": 37,
    "start_time": "2022-05-17T17:24:33.094Z"
   },
   {
    "duration": 13,
    "start_time": "2022-05-17T17:24:33.133Z"
   },
   {
    "duration": 316,
    "start_time": "2022-05-17T17:24:33.148Z"
   },
   {
    "duration": 18,
    "start_time": "2022-05-17T17:24:33.466Z"
   },
   {
    "duration": 103,
    "start_time": "2022-05-17T17:24:33.486Z"
   },
   {
    "duration": 93,
    "start_time": "2022-05-17T17:24:33.591Z"
   },
   {
    "duration": 45,
    "start_time": "2022-05-17T17:24:33.687Z"
   },
   {
    "duration": 39,
    "start_time": "2022-05-17T17:24:33.734Z"
   },
   {
    "duration": 36,
    "start_time": "2022-05-17T17:24:33.775Z"
   },
   {
    "duration": 15,
    "start_time": "2022-05-17T17:24:33.813Z"
   },
   {
    "duration": 139,
    "start_time": "2022-05-17T17:24:33.836Z"
   },
   {
    "duration": 35,
    "start_time": "2022-05-17T17:24:33.977Z"
   },
   {
    "duration": 8,
    "start_time": "2022-05-17T17:24:34.014Z"
   },
   {
    "duration": 9,
    "start_time": "2022-05-17T17:24:34.024Z"
   },
   {
    "duration": 13,
    "start_time": "2022-05-17T17:24:34.035Z"
   },
   {
    "duration": 11,
    "start_time": "2022-05-17T17:24:34.050Z"
   },
   {
    "duration": 86,
    "start_time": "2022-05-17T17:24:34.063Z"
   },
   {
    "duration": 79,
    "start_time": "2022-05-17T17:24:34.151Z"
   },
   {
    "duration": 28,
    "start_time": "2022-05-17T17:24:34.236Z"
   },
   {
    "duration": 133,
    "start_time": "2022-05-17T17:24:34.267Z"
   },
   {
    "duration": 2157,
    "start_time": "2022-05-17T17:24:34.409Z"
   },
   {
    "duration": 2077,
    "start_time": "2022-05-17T17:24:36.569Z"
   },
   {
    "duration": 86,
    "start_time": "2022-05-17T17:24:38.649Z"
   },
   {
    "duration": 19,
    "start_time": "2022-05-17T17:24:38.737Z"
   },
   {
    "duration": 59,
    "start_time": "2022-05-17T17:24:38.759Z"
   },
   {
    "duration": 119,
    "start_time": "2022-05-17T17:25:22.317Z"
   },
   {
    "duration": 129,
    "start_time": "2022-05-17T17:25:36.353Z"
   },
   {
    "duration": 4,
    "start_time": "2022-05-17T17:26:08.923Z"
   },
   {
    "duration": 9,
    "start_time": "2022-05-17T17:26:08.938Z"
   },
   {
    "duration": 526,
    "start_time": "2022-05-17T17:26:08.957Z"
   },
   {
    "duration": 48,
    "start_time": "2022-05-17T17:26:09.487Z"
   },
   {
    "duration": 93,
    "start_time": "2022-05-17T17:26:09.538Z"
   },
   {
    "duration": 94,
    "start_time": "2022-05-17T17:26:09.633Z"
   },
   {
    "duration": 44,
    "start_time": "2022-05-17T17:26:09.732Z"
   },
   {
    "duration": 75,
    "start_time": "2022-05-17T17:26:09.779Z"
   },
   {
    "duration": 146,
    "start_time": "2022-05-17T17:26:09.856Z"
   },
   {
    "duration": 28,
    "start_time": "2022-05-17T17:26:10.005Z"
   },
   {
    "duration": 16,
    "start_time": "2022-05-17T17:26:10.036Z"
   },
   {
    "duration": 324,
    "start_time": "2022-05-17T17:26:10.055Z"
   },
   {
    "duration": 29,
    "start_time": "2022-05-17T17:26:10.382Z"
   },
   {
    "duration": 105,
    "start_time": "2022-05-17T17:26:10.414Z"
   },
   {
    "duration": 87,
    "start_time": "2022-05-17T17:26:10.522Z"
   },
   {
    "duration": 31,
    "start_time": "2022-05-17T17:26:10.615Z"
   },
   {
    "duration": 64,
    "start_time": "2022-05-17T17:26:10.649Z"
   },
   {
    "duration": 13,
    "start_time": "2022-05-17T17:26:10.716Z"
   },
   {
    "duration": 15,
    "start_time": "2022-05-17T17:26:10.732Z"
   },
   {
    "duration": 267,
    "start_time": "2022-05-17T17:26:10.750Z"
   },
   {
    "duration": 30,
    "start_time": "2022-05-17T17:26:11.020Z"
   },
   {
    "duration": 8,
    "start_time": "2022-05-17T17:26:11.052Z"
   },
   {
    "duration": 9,
    "start_time": "2022-05-17T17:26:11.062Z"
   },
   {
    "duration": 15,
    "start_time": "2022-05-17T17:26:11.110Z"
   },
   {
    "duration": 10,
    "start_time": "2022-05-17T17:26:11.127Z"
   },
   {
    "duration": 76,
    "start_time": "2022-05-17T17:26:11.139Z"
   },
   {
    "duration": 45,
    "start_time": "2022-05-17T17:26:11.217Z"
   },
   {
    "duration": 46,
    "start_time": "2022-05-17T17:26:11.264Z"
   },
   {
    "duration": 118,
    "start_time": "2022-05-17T17:26:11.312Z"
   },
   {
    "duration": 2062,
    "start_time": "2022-05-17T17:26:11.433Z"
   },
   {
    "duration": 2154,
    "start_time": "2022-05-17T17:26:13.497Z"
   },
   {
    "duration": 107,
    "start_time": "2022-05-17T17:26:15.653Z"
   },
   {
    "duration": 15,
    "start_time": "2022-05-17T17:26:15.762Z"
   },
   {
    "duration": 43,
    "start_time": "2022-05-17T17:26:15.780Z"
   },
   {
    "duration": 4,
    "start_time": "2022-05-17T17:41:08.153Z"
   },
   {
    "duration": 4,
    "start_time": "2022-05-17T17:41:22.631Z"
   },
   {
    "duration": 4,
    "start_time": "2022-05-17T17:41:33.207Z"
   },
   {
    "duration": 6,
    "start_time": "2022-05-17T17:41:34.041Z"
   },
   {
    "duration": 5,
    "start_time": "2022-05-17T17:41:51.248Z"
   },
   {
    "duration": 5,
    "start_time": "2022-05-17T17:41:59.010Z"
   },
   {
    "duration": 8,
    "start_time": "2022-05-17T17:41:59.026Z"
   },
   {
    "duration": 514,
    "start_time": "2022-05-17T17:41:59.036Z"
   },
   {
    "duration": 38,
    "start_time": "2022-05-17T17:41:59.552Z"
   },
   {
    "duration": 77,
    "start_time": "2022-05-17T17:41:59.593Z"
   },
   {
    "duration": 79,
    "start_time": "2022-05-17T17:41:59.672Z"
   },
   {
    "duration": 75,
    "start_time": "2022-05-17T17:41:59.754Z"
   },
   {
    "duration": 49,
    "start_time": "2022-05-17T17:41:59.832Z"
   },
   {
    "duration": 135,
    "start_time": "2022-05-17T17:41:59.883Z"
   },
   {
    "duration": 25,
    "start_time": "2022-05-17T17:42:00.022Z"
   },
   {
    "duration": 16,
    "start_time": "2022-05-17T17:42:00.049Z"
   },
   {
    "duration": 289,
    "start_time": "2022-05-17T17:42:00.068Z"
   },
   {
    "duration": 19,
    "start_time": "2022-05-17T17:42:00.360Z"
   },
   {
    "duration": 109,
    "start_time": "2022-05-17T17:42:00.381Z"
   },
   {
    "duration": 77,
    "start_time": "2022-05-17T17:42:00.493Z"
   },
   {
    "duration": 44,
    "start_time": "2022-05-17T17:42:00.572Z"
   },
   {
    "duration": 36,
    "start_time": "2022-05-17T17:42:00.618Z"
   },
   {
    "duration": 13,
    "start_time": "2022-05-17T17:42:00.656Z"
   },
   {
    "duration": 45,
    "start_time": "2022-05-17T17:42:00.671Z"
   },
   {
    "duration": 246,
    "start_time": "2022-05-17T17:42:00.719Z"
   },
   {
    "duration": 28,
    "start_time": "2022-05-17T17:42:00.967Z"
   },
   {
    "duration": 9,
    "start_time": "2022-05-17T17:42:01.008Z"
   },
   {
    "duration": 16,
    "start_time": "2022-05-17T17:42:01.019Z"
   },
   {
    "duration": 23,
    "start_time": "2022-05-17T17:42:01.037Z"
   },
   {
    "duration": 24,
    "start_time": "2022-05-17T17:42:01.064Z"
   },
   {
    "duration": 64,
    "start_time": "2022-05-17T17:42:01.090Z"
   },
   {
    "duration": 64,
    "start_time": "2022-05-17T17:42:01.156Z"
   },
   {
    "duration": 26,
    "start_time": "2022-05-17T17:42:01.222Z"
   },
   {
    "duration": 160,
    "start_time": "2022-05-17T17:42:01.250Z"
   },
   {
    "duration": 2057,
    "start_time": "2022-05-17T17:42:01.412Z"
   },
   {
    "duration": 2199,
    "start_time": "2022-05-17T17:42:03.472Z"
   },
   {
    "duration": 104,
    "start_time": "2022-05-17T17:42:05.673Z"
   },
   {
    "duration": 32,
    "start_time": "2022-05-17T17:42:05.780Z"
   },
   {
    "duration": 18,
    "start_time": "2022-05-17T17:42:05.814Z"
   },
   {
    "duration": 5,
    "start_time": "2022-05-17T17:42:05.834Z"
   },
   {
    "duration": 1617,
    "start_time": "2022-05-17T17:45:26.035Z"
   },
   {
    "duration": 55,
    "start_time": "2022-05-17T17:45:27.655Z"
   },
   {
    "duration": 554,
    "start_time": "2022-05-17T17:45:27.712Z"
   },
   {
    "duration": 58,
    "start_time": "2022-05-17T17:45:28.269Z"
   },
   {
    "duration": 97,
    "start_time": "2022-05-17T17:45:28.329Z"
   },
   {
    "duration": 63,
    "start_time": "2022-05-17T17:45:28.428Z"
   },
   {
    "duration": 43,
    "start_time": "2022-05-17T17:45:28.510Z"
   },
   {
    "duration": 79,
    "start_time": "2022-05-17T17:45:28.555Z"
   },
   {
    "duration": 116,
    "start_time": "2022-05-17T17:45:28.637Z"
   },
   {
    "duration": 25,
    "start_time": "2022-05-17T17:45:28.758Z"
   },
   {
    "duration": 35,
    "start_time": "2022-05-17T17:45:28.786Z"
   },
   {
    "duration": 298,
    "start_time": "2022-05-17T17:45:28.823Z"
   },
   {
    "duration": 20,
    "start_time": "2022-05-17T17:45:29.123Z"
   },
   {
    "duration": 109,
    "start_time": "2022-05-17T17:45:29.145Z"
   },
   {
    "duration": 89,
    "start_time": "2022-05-17T17:45:29.256Z"
   },
   {
    "duration": 32,
    "start_time": "2022-05-17T17:45:29.347Z"
   },
   {
    "duration": 57,
    "start_time": "2022-05-17T17:45:29.382Z"
   },
   {
    "duration": 13,
    "start_time": "2022-05-17T17:45:29.441Z"
   },
   {
    "duration": 15,
    "start_time": "2022-05-17T17:45:29.456Z"
   },
   {
    "duration": 156,
    "start_time": "2022-05-17T17:45:29.473Z"
   },
   {
    "duration": 27,
    "start_time": "2022-05-17T17:45:29.631Z"
   },
   {
    "duration": 8,
    "start_time": "2022-05-17T17:45:29.660Z"
   },
   {
    "duration": 40,
    "start_time": "2022-05-17T17:45:29.670Z"
   },
   {
    "duration": 15,
    "start_time": "2022-05-17T17:45:29.712Z"
   },
   {
    "duration": 19,
    "start_time": "2022-05-17T17:45:29.729Z"
   },
   {
    "duration": 65,
    "start_time": "2022-05-17T17:45:29.750Z"
   },
   {
    "duration": 47,
    "start_time": "2022-05-17T17:45:29.817Z"
   },
   {
    "duration": 54,
    "start_time": "2022-05-17T17:45:29.870Z"
   },
   {
    "duration": 128,
    "start_time": "2022-05-17T17:45:29.927Z"
   },
   {
    "duration": 2302,
    "start_time": "2022-05-17T17:45:30.058Z"
   },
   {
    "duration": 2116,
    "start_time": "2022-05-17T17:45:32.362Z"
   },
   {
    "duration": 99,
    "start_time": "2022-05-17T17:45:34.481Z"
   },
   {
    "duration": 36,
    "start_time": "2022-05-17T17:45:34.583Z"
   },
   {
    "duration": 23,
    "start_time": "2022-05-17T17:45:34.622Z"
   },
   {
    "duration": 837,
    "start_time": "2022-08-19T12:49:32.357Z"
   },
   {
    "duration": 6,
    "start_time": "2022-08-19T12:49:33.195Z"
   },
   {
    "duration": 1068,
    "start_time": "2022-08-19T12:49:33.202Z"
   },
   {
    "duration": 34,
    "start_time": "2022-08-19T12:49:34.272Z"
   },
   {
    "duration": 52,
    "start_time": "2022-08-19T12:49:34.307Z"
   },
   {
    "duration": 59,
    "start_time": "2022-08-19T12:49:34.360Z"
   },
   {
    "duration": 31,
    "start_time": "2022-08-19T12:49:34.420Z"
   },
   {
    "duration": 52,
    "start_time": "2022-08-19T12:49:34.453Z"
   },
   {
    "duration": 67,
    "start_time": "2022-08-19T12:49:34.506Z"
   },
   {
    "duration": 17,
    "start_time": "2022-08-19T12:49:34.588Z"
   },
   {
    "duration": 12,
    "start_time": "2022-08-19T12:49:34.606Z"
   },
   {
    "duration": 207,
    "start_time": "2022-08-19T12:49:34.620Z"
   },
   {
    "duration": 13,
    "start_time": "2022-08-19T12:49:34.829Z"
   },
   {
    "duration": 70,
    "start_time": "2022-08-19T12:49:34.844Z"
   },
   {
    "duration": 52,
    "start_time": "2022-08-19T12:49:34.916Z"
   },
   {
    "duration": 31,
    "start_time": "2022-08-19T12:49:34.970Z"
   },
   {
    "duration": 27,
    "start_time": "2022-08-19T12:49:35.002Z"
   },
   {
    "duration": 8,
    "start_time": "2022-08-19T12:49:35.030Z"
   },
   {
    "duration": 14,
    "start_time": "2022-08-19T12:49:35.039Z"
   },
   {
    "duration": 106,
    "start_time": "2022-08-19T12:49:35.055Z"
   },
   {
    "duration": 24,
    "start_time": "2022-08-19T12:49:35.163Z"
   },
   {
    "duration": 6,
    "start_time": "2022-08-19T12:49:35.189Z"
   },
   {
    "duration": 18,
    "start_time": "2022-08-19T12:49:35.197Z"
   },
   {
    "duration": 24,
    "start_time": "2022-08-19T12:49:35.216Z"
   },
   {
    "duration": 35,
    "start_time": "2022-08-19T12:49:35.242Z"
   },
   {
    "duration": 29,
    "start_time": "2022-08-19T12:49:35.278Z"
   },
   {
    "duration": 17,
    "start_time": "2022-08-19T12:49:35.309Z"
   },
   {
    "duration": 85,
    "start_time": "2022-08-19T12:49:35.328Z"
   },
   {
    "duration": 1572,
    "start_time": "2022-08-19T12:49:35.415Z"
   },
   {
    "duration": 1356,
    "start_time": "2022-08-19T12:49:36.989Z"
   },
   {
    "duration": 11,
    "start_time": "2022-08-19T12:49:38.346Z"
   },
   {
    "duration": 37,
    "start_time": "2022-08-19T12:49:38.359Z"
   }
  ],
  "kernelspec": {
   "display_name": "Python 3 (ipykernel)",
   "language": "python",
   "name": "python3"
  },
  "language_info": {
   "codemirror_mode": {
    "name": "ipython",
    "version": 3
   },
   "file_extension": ".py",
   "mimetype": "text/x-python",
   "name": "python",
   "nbconvert_exporter": "python",
   "pygments_lexer": "ipython3",
   "version": "3.9.5"
  },
  "toc": {
   "base_numbering": 1,
   "nav_menu": {},
   "number_sections": true,
   "sideBar": true,
   "skip_h1_title": true,
   "title_cell": "Table of Contents",
   "title_sidebar": "Contents",
   "toc_cell": false,
   "toc_position": {
    "height": "calc(100% - 180px)",
    "left": "10px",
    "top": "150px",
    "width": "337.597px"
   },
   "toc_section_display": true,
   "toc_window_display": true
  }
 },
 "nbformat": 4,
 "nbformat_minor": 2
}
