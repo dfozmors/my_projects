{
 "cells": [
  {
   "cell_type": "markdown",
   "metadata": {},
   "source": [
    "## Подготовка"
   ]
  },
  {
   "cell_type": "code",
   "execution_count": 1,
   "metadata": {},
   "outputs": [],
   "source": [
    "import pandas as pd\n",
    "import numpy as np\n",
    "from sklearn.feature_extraction.text import TfidfVectorizer\n",
    "from sklearn.model_selection import train_test_split\n",
    "import nltk\n",
    "from nltk.corpus import stopwords as nltk_stopwords\n",
    "from tqdm import notebook \n",
    "from sklearn.model_selection import cross_val_score\n",
    "\n",
    "import catboost\n",
    "from catboost import cv\n",
    "from catboost import CatBoostClassifier\n",
    "from sklearn.model_selection import GridSearchCV\n",
    "from sklearn.linear_model import LogisticRegression\n",
    "from sklearn.ensemble import RandomForestClassifier\n",
    "from sklearn.tree import DecisionTreeClassifier\n",
    "from sklearn.metrics import f1_score"
   ]
  },
  {
   "cell_type": "code",
   "execution_count": 2,
   "metadata": {},
   "outputs": [],
   "source": [
    "def lemmatize_text(text):\n",
    "    return [lemmatizer.lemmatize(w) for w in w_tokenizer.tokenize(text)]"
   ]
  },
  {
   "cell_type": "code",
   "execution_count": 3,
   "metadata": {},
   "outputs": [],
   "source": [
    "df = pd.read_csv('/datasets/toxic_comments.csv')"
   ]
  },
  {
   "cell_type": "code",
   "execution_count": 4,
   "metadata": {},
   "outputs": [],
   "source": [
    "w_tokenizer = nltk.tokenize.WhitespaceTokenizer()\n",
    "lemmatizer = nltk.stem.WordNetLemmatizer()\n",
    "\n",
    "df['text_lemmatized'] = df.text.apply(lemmatize_text)"
   ]
  },
  {
   "cell_type": "code",
   "execution_count": 5,
   "metadata": {},
   "outputs": [
    {
     "data": {
      "text/html": [
       "<div>\n",
       "<style scoped>\n",
       "    .dataframe tbody tr th:only-of-type {\n",
       "        vertical-align: middle;\n",
       "    }\n",
       "\n",
       "    .dataframe tbody tr th {\n",
       "        vertical-align: top;\n",
       "    }\n",
       "\n",
       "    .dataframe thead th {\n",
       "        text-align: right;\n",
       "    }\n",
       "</style>\n",
       "<table border=\"1\" class=\"dataframe\">\n",
       "  <thead>\n",
       "    <tr style=\"text-align: right;\">\n",
       "      <th></th>\n",
       "      <th>Unnamed: 0</th>\n",
       "      <th>text</th>\n",
       "      <th>toxic</th>\n",
       "      <th>text_lemmatized</th>\n",
       "    </tr>\n",
       "  </thead>\n",
       "  <tbody>\n",
       "    <tr>\n",
       "      <th>0</th>\n",
       "      <td>0</td>\n",
       "      <td>Explanation\\nWhy the edits made under my usern...</td>\n",
       "      <td>0</td>\n",
       "      <td>[Explanation, Why, the, edits, made, under, my...</td>\n",
       "    </tr>\n",
       "    <tr>\n",
       "      <th>1</th>\n",
       "      <td>1</td>\n",
       "      <td>D'aww! He matches this background colour I'm s...</td>\n",
       "      <td>0</td>\n",
       "      <td>[D'aww!, He, match, this, background, colour, ...</td>\n",
       "    </tr>\n",
       "    <tr>\n",
       "      <th>2</th>\n",
       "      <td>2</td>\n",
       "      <td>Hey man, I'm really not trying to edit war. It...</td>\n",
       "      <td>0</td>\n",
       "      <td>[Hey, man,, I'm, really, not, trying, to, edit...</td>\n",
       "    </tr>\n",
       "    <tr>\n",
       "      <th>3</th>\n",
       "      <td>3</td>\n",
       "      <td>\"\\nMore\\nI can't make any real suggestions on ...</td>\n",
       "      <td>0</td>\n",
       "      <td>[\", More, I, can't, make, any, real, suggestio...</td>\n",
       "    </tr>\n",
       "    <tr>\n",
       "      <th>4</th>\n",
       "      <td>4</td>\n",
       "      <td>You, sir, are my hero. Any chance you remember...</td>\n",
       "      <td>0</td>\n",
       "      <td>[You,, sir,, are, my, hero., Any, chance, you,...</td>\n",
       "    </tr>\n",
       "    <tr>\n",
       "      <th>...</th>\n",
       "      <td>...</td>\n",
       "      <td>...</td>\n",
       "      <td>...</td>\n",
       "      <td>...</td>\n",
       "    </tr>\n",
       "    <tr>\n",
       "      <th>159287</th>\n",
       "      <td>159446</td>\n",
       "      <td>\":::::And for the second time of asking, when ...</td>\n",
       "      <td>0</td>\n",
       "      <td>[\":::::And, for, the, second, time, of, asking...</td>\n",
       "    </tr>\n",
       "    <tr>\n",
       "      <th>159288</th>\n",
       "      <td>159447</td>\n",
       "      <td>You should be ashamed of yourself \\n\\nThat is ...</td>\n",
       "      <td>0</td>\n",
       "      <td>[You, should, be, ashamed, of, yourself, That,...</td>\n",
       "    </tr>\n",
       "    <tr>\n",
       "      <th>159289</th>\n",
       "      <td>159448</td>\n",
       "      <td>Spitzer \\n\\nUmm, theres no actual article for ...</td>\n",
       "      <td>0</td>\n",
       "      <td>[Spitzer, Umm,, there, no, actual, article, fo...</td>\n",
       "    </tr>\n",
       "    <tr>\n",
       "      <th>159290</th>\n",
       "      <td>159449</td>\n",
       "      <td>And it looks like it was actually you who put ...</td>\n",
       "      <td>0</td>\n",
       "      <td>[And, it, look, like, it, wa, actually, you, w...</td>\n",
       "    </tr>\n",
       "    <tr>\n",
       "      <th>159291</th>\n",
       "      <td>159450</td>\n",
       "      <td>\"\\nAnd ... I really don't think you understand...</td>\n",
       "      <td>0</td>\n",
       "      <td>[\", And, ..., I, really, don't, think, you, un...</td>\n",
       "    </tr>\n",
       "  </tbody>\n",
       "</table>\n",
       "<p>159292 rows × 4 columns</p>\n",
       "</div>"
      ],
      "text/plain": [
       "        Unnamed: 0                                               text  toxic  \\\n",
       "0                0  Explanation\\nWhy the edits made under my usern...      0   \n",
       "1                1  D'aww! He matches this background colour I'm s...      0   \n",
       "2                2  Hey man, I'm really not trying to edit war. It...      0   \n",
       "3                3  \"\\nMore\\nI can't make any real suggestions on ...      0   \n",
       "4                4  You, sir, are my hero. Any chance you remember...      0   \n",
       "...            ...                                                ...    ...   \n",
       "159287      159446  \":::::And for the second time of asking, when ...      0   \n",
       "159288      159447  You should be ashamed of yourself \\n\\nThat is ...      0   \n",
       "159289      159448  Spitzer \\n\\nUmm, theres no actual article for ...      0   \n",
       "159290      159449  And it looks like it was actually you who put ...      0   \n",
       "159291      159450  \"\\nAnd ... I really don't think you understand...      0   \n",
       "\n",
       "                                          text_lemmatized  \n",
       "0       [Explanation, Why, the, edits, made, under, my...  \n",
       "1       [D'aww!, He, match, this, background, colour, ...  \n",
       "2       [Hey, man,, I'm, really, not, trying, to, edit...  \n",
       "3       [\", More, I, can't, make, any, real, suggestio...  \n",
       "4       [You,, sir,, are, my, hero., Any, chance, you,...  \n",
       "...                                                   ...  \n",
       "159287  [\":::::And, for, the, second, time, of, asking...  \n",
       "159288  [You, should, be, ashamed, of, yourself, That,...  \n",
       "159289  [Spitzer, Umm,, there, no, actual, article, fo...  \n",
       "159290  [And, it, look, like, it, wa, actually, you, w...  \n",
       "159291  [\", And, ..., I, really, don't, think, you, un...  \n",
       "\n",
       "[159292 rows x 4 columns]"
      ]
     },
     "execution_count": 5,
     "metadata": {},
     "output_type": "execute_result"
    }
   ],
   "source": [
    "df"
   ]
  },
  {
   "cell_type": "markdown",
   "metadata": {},
   "source": [
    "## Обучение"
   ]
  },
  {
   "cell_type": "code",
   "execution_count": 6,
   "metadata": {},
   "outputs": [],
   "source": [
    "features_train, features_test, target_train, target_test = train_test_split(df['text_lemmatized'], df['toxic'], test_size=0.2, random_state=42)"
   ]
  },
  {
   "cell_type": "code",
   "execution_count": 7,
   "metadata": {},
   "outputs": [
    {
     "name": "stderr",
     "output_type": "stream",
     "text": [
      "[nltk_data] Downloading package stopwords to /home/jovyan/nltk_data...\n",
      "[nltk_data]   Package stopwords is already up-to-date!\n"
     ]
    }
   ],
   "source": [
    "nltk.download('stopwords')\n",
    "stopwords = set(nltk_stopwords.words('english'))\n",
    "\n",
    "features_train = features_train.astype('U')\n",
    "features_test = features_test.astype('U')\n",
    "\n",
    "count_tf_idf = TfidfVectorizer(stop_words=stopwords)\n",
    "tf_idf_train = count_tf_idf.fit_transform(features_train)\n",
    "tf_idf_test = count_tf_idf.transform(features_test)"
   ]
  },
  {
   "cell_type": "code",
   "execution_count": 8,
   "metadata": {},
   "outputs": [
    {
     "name": "stderr",
     "output_type": "stream",
     "text": [
      "/opt/conda/lib/python3.9/site-packages/sklearn/linear_model/_logistic.py:763: ConvergenceWarning: lbfgs failed to converge (status=1):\n",
      "STOP: TOTAL NO. of ITERATIONS REACHED LIMIT.\n",
      "\n",
      "Increase the number of iterations (max_iter) or scale the data as shown in:\n",
      "    https://scikit-learn.org/stable/modules/preprocessing.html\n",
      "Please also refer to the documentation for alternative solver options:\n",
      "    https://scikit-learn.org/stable/modules/linear_model.html#logistic-regression\n",
      "  n_iter_i = _check_optimize_result(\n",
      "/opt/conda/lib/python3.9/site-packages/sklearn/linear_model/_logistic.py:763: ConvergenceWarning: lbfgs failed to converge (status=1):\n",
      "STOP: TOTAL NO. of ITERATIONS REACHED LIMIT.\n",
      "\n",
      "Increase the number of iterations (max_iter) or scale the data as shown in:\n",
      "    https://scikit-learn.org/stable/modules/preprocessing.html\n",
      "Please also refer to the documentation for alternative solver options:\n",
      "    https://scikit-learn.org/stable/modules/linear_model.html#logistic-regression\n",
      "  n_iter_i = _check_optimize_result(\n",
      "/opt/conda/lib/python3.9/site-packages/sklearn/linear_model/_logistic.py:763: ConvergenceWarning: lbfgs failed to converge (status=1):\n",
      "STOP: TOTAL NO. of ITERATIONS REACHED LIMIT.\n",
      "\n",
      "Increase the number of iterations (max_iter) or scale the data as shown in:\n",
      "    https://scikit-learn.org/stable/modules/preprocessing.html\n",
      "Please also refer to the documentation for alternative solver options:\n",
      "    https://scikit-learn.org/stable/modules/linear_model.html#logistic-regression\n",
      "  n_iter_i = _check_optimize_result(\n",
      "/opt/conda/lib/python3.9/site-packages/sklearn/linear_model/_logistic.py:763: ConvergenceWarning: lbfgs failed to converge (status=1):\n",
      "STOP: TOTAL NO. of ITERATIONS REACHED LIMIT.\n",
      "\n",
      "Increase the number of iterations (max_iter) or scale the data as shown in:\n",
      "    https://scikit-learn.org/stable/modules/preprocessing.html\n",
      "Please also refer to the documentation for alternative solver options:\n",
      "    https://scikit-learn.org/stable/modules/linear_model.html#logistic-regression\n",
      "  n_iter_i = _check_optimize_result(\n",
      "/opt/conda/lib/python3.9/site-packages/sklearn/linear_model/_logistic.py:763: ConvergenceWarning: lbfgs failed to converge (status=1):\n",
      "STOP: TOTAL NO. of ITERATIONS REACHED LIMIT.\n",
      "\n",
      "Increase the number of iterations (max_iter) or scale the data as shown in:\n",
      "    https://scikit-learn.org/stable/modules/preprocessing.html\n",
      "Please also refer to the documentation for alternative solver options:\n",
      "    https://scikit-learn.org/stable/modules/linear_model.html#logistic-regression\n",
      "  n_iter_i = _check_optimize_result(\n",
      "/opt/conda/lib/python3.9/site-packages/sklearn/linear_model/_logistic.py:763: ConvergenceWarning: lbfgs failed to converge (status=1):\n",
      "STOP: TOTAL NO. of ITERATIONS REACHED LIMIT.\n",
      "\n",
      "Increase the number of iterations (max_iter) or scale the data as shown in:\n",
      "    https://scikit-learn.org/stable/modules/preprocessing.html\n",
      "Please also refer to the documentation for alternative solver options:\n",
      "    https://scikit-learn.org/stable/modules/linear_model.html#logistic-regression\n",
      "  n_iter_i = _check_optimize_result(\n",
      "/opt/conda/lib/python3.9/site-packages/sklearn/linear_model/_logistic.py:763: ConvergenceWarning: lbfgs failed to converge (status=1):\n",
      "STOP: TOTAL NO. of ITERATIONS REACHED LIMIT.\n",
      "\n",
      "Increase the number of iterations (max_iter) or scale the data as shown in:\n",
      "    https://scikit-learn.org/stable/modules/preprocessing.html\n",
      "Please also refer to the documentation for alternative solver options:\n",
      "    https://scikit-learn.org/stable/modules/linear_model.html#logistic-regression\n",
      "  n_iter_i = _check_optimize_result(\n",
      "/opt/conda/lib/python3.9/site-packages/sklearn/linear_model/_logistic.py:763: ConvergenceWarning: lbfgs failed to converge (status=1):\n",
      "STOP: TOTAL NO. of ITERATIONS REACHED LIMIT.\n",
      "\n",
      "Increase the number of iterations (max_iter) or scale the data as shown in:\n",
      "    https://scikit-learn.org/stable/modules/preprocessing.html\n",
      "Please also refer to the documentation for alternative solver options:\n",
      "    https://scikit-learn.org/stable/modules/linear_model.html#logistic-regression\n",
      "  n_iter_i = _check_optimize_result(\n",
      "/opt/conda/lib/python3.9/site-packages/sklearn/linear_model/_logistic.py:763: ConvergenceWarning: lbfgs failed to converge (status=1):\n",
      "STOP: TOTAL NO. of ITERATIONS REACHED LIMIT.\n",
      "\n",
      "Increase the number of iterations (max_iter) or scale the data as shown in:\n",
      "    https://scikit-learn.org/stable/modules/preprocessing.html\n",
      "Please also refer to the documentation for alternative solver options:\n",
      "    https://scikit-learn.org/stable/modules/linear_model.html#logistic-regression\n",
      "  n_iter_i = _check_optimize_result(\n",
      "/opt/conda/lib/python3.9/site-packages/sklearn/linear_model/_logistic.py:763: ConvergenceWarning: lbfgs failed to converge (status=1):\n",
      "STOP: TOTAL NO. of ITERATIONS REACHED LIMIT.\n",
      "\n",
      "Increase the number of iterations (max_iter) or scale the data as shown in:\n",
      "    https://scikit-learn.org/stable/modules/preprocessing.html\n",
      "Please also refer to the documentation for alternative solver options:\n",
      "    https://scikit-learn.org/stable/modules/linear_model.html#logistic-regression\n",
      "  n_iter_i = _check_optimize_result(\n",
      "/opt/conda/lib/python3.9/site-packages/sklearn/linear_model/_logistic.py:763: ConvergenceWarning: lbfgs failed to converge (status=1):\n",
      "STOP: TOTAL NO. of ITERATIONS REACHED LIMIT.\n",
      "\n",
      "Increase the number of iterations (max_iter) or scale the data as shown in:\n",
      "    https://scikit-learn.org/stable/modules/preprocessing.html\n",
      "Please also refer to the documentation for alternative solver options:\n",
      "    https://scikit-learn.org/stable/modules/linear_model.html#logistic-regression\n",
      "  n_iter_i = _check_optimize_result(\n",
      "/opt/conda/lib/python3.9/site-packages/sklearn/linear_model/_logistic.py:763: ConvergenceWarning: lbfgs failed to converge (status=1):\n",
      "STOP: TOTAL NO. of ITERATIONS REACHED LIMIT.\n",
      "\n",
      "Increase the number of iterations (max_iter) or scale the data as shown in:\n",
      "    https://scikit-learn.org/stable/modules/preprocessing.html\n",
      "Please also refer to the documentation for alternative solver options:\n",
      "    https://scikit-learn.org/stable/modules/linear_model.html#logistic-regression\n",
      "  n_iter_i = _check_optimize_result(\n",
      "/opt/conda/lib/python3.9/site-packages/sklearn/linear_model/_logistic.py:763: ConvergenceWarning: lbfgs failed to converge (status=1):\n",
      "STOP: TOTAL NO. of ITERATIONS REACHED LIMIT.\n",
      "\n",
      "Increase the number of iterations (max_iter) or scale the data as shown in:\n",
      "    https://scikit-learn.org/stable/modules/preprocessing.html\n",
      "Please also refer to the documentation for alternative solver options:\n",
      "    https://scikit-learn.org/stable/modules/linear_model.html#logistic-regression\n",
      "  n_iter_i = _check_optimize_result(\n",
      "/opt/conda/lib/python3.9/site-packages/sklearn/linear_model/_logistic.py:763: ConvergenceWarning: lbfgs failed to converge (status=1):\n",
      "STOP: TOTAL NO. of ITERATIONS REACHED LIMIT.\n",
      "\n",
      "Increase the number of iterations (max_iter) or scale the data as shown in:\n",
      "    https://scikit-learn.org/stable/modules/preprocessing.html\n",
      "Please also refer to the documentation for alternative solver options:\n",
      "    https://scikit-learn.org/stable/modules/linear_model.html#logistic-regression\n",
      "  n_iter_i = _check_optimize_result(\n",
      "/opt/conda/lib/python3.9/site-packages/sklearn/linear_model/_logistic.py:763: ConvergenceWarning: lbfgs failed to converge (status=1):\n",
      "STOP: TOTAL NO. of ITERATIONS REACHED LIMIT.\n",
      "\n",
      "Increase the number of iterations (max_iter) or scale the data as shown in:\n",
      "    https://scikit-learn.org/stable/modules/preprocessing.html\n",
      "Please also refer to the documentation for alternative solver options:\n",
      "    https://scikit-learn.org/stable/modules/linear_model.html#logistic-regression\n",
      "  n_iter_i = _check_optimize_result(\n",
      "/opt/conda/lib/python3.9/site-packages/sklearn/linear_model/_logistic.py:763: ConvergenceWarning: lbfgs failed to converge (status=1):\n",
      "STOP: TOTAL NO. of ITERATIONS REACHED LIMIT.\n",
      "\n",
      "Increase the number of iterations (max_iter) or scale the data as shown in:\n",
      "    https://scikit-learn.org/stable/modules/preprocessing.html\n",
      "Please also refer to the documentation for alternative solver options:\n",
      "    https://scikit-learn.org/stable/modules/linear_model.html#logistic-regression\n",
      "  n_iter_i = _check_optimize_result(\n",
      "/opt/conda/lib/python3.9/site-packages/sklearn/linear_model/_logistic.py:763: ConvergenceWarning: lbfgs failed to converge (status=1):\n",
      "STOP: TOTAL NO. of ITERATIONS REACHED LIMIT.\n",
      "\n",
      "Increase the number of iterations (max_iter) or scale the data as shown in:\n",
      "    https://scikit-learn.org/stable/modules/preprocessing.html\n",
      "Please also refer to the documentation for alternative solver options:\n",
      "    https://scikit-learn.org/stable/modules/linear_model.html#logistic-regression\n",
      "  n_iter_i = _check_optimize_result(\n",
      "/opt/conda/lib/python3.9/site-packages/sklearn/linear_model/_logistic.py:763: ConvergenceWarning: lbfgs failed to converge (status=1):\n",
      "STOP: TOTAL NO. of ITERATIONS REACHED LIMIT.\n",
      "\n",
      "Increase the number of iterations (max_iter) or scale the data as shown in:\n",
      "    https://scikit-learn.org/stable/modules/preprocessing.html\n",
      "Please also refer to the documentation for alternative solver options:\n",
      "    https://scikit-learn.org/stable/modules/linear_model.html#logistic-regression\n",
      "  n_iter_i = _check_optimize_result(\n",
      "/opt/conda/lib/python3.9/site-packages/sklearn/linear_model/_logistic.py:763: ConvergenceWarning: lbfgs failed to converge (status=1):\n",
      "STOP: TOTAL NO. of ITERATIONS REACHED LIMIT.\n",
      "\n",
      "Increase the number of iterations (max_iter) or scale the data as shown in:\n",
      "    https://scikit-learn.org/stable/modules/preprocessing.html\n",
      "Please also refer to the documentation for alternative solver options:\n",
      "    https://scikit-learn.org/stable/modules/linear_model.html#logistic-regression\n",
      "  n_iter_i = _check_optimize_result(\n",
      "/opt/conda/lib/python3.9/site-packages/sklearn/linear_model/_logistic.py:763: ConvergenceWarning: lbfgs failed to converge (status=1):\n",
      "STOP: TOTAL NO. of ITERATIONS REACHED LIMIT.\n",
      "\n",
      "Increase the number of iterations (max_iter) or scale the data as shown in:\n",
      "    https://scikit-learn.org/stable/modules/preprocessing.html\n",
      "Please also refer to the documentation for alternative solver options:\n",
      "    https://scikit-learn.org/stable/modules/linear_model.html#logistic-regression\n",
      "  n_iter_i = _check_optimize_result(\n",
      "/opt/conda/lib/python3.9/site-packages/sklearn/linear_model/_logistic.py:763: ConvergenceWarning: lbfgs failed to converge (status=1):\n",
      "STOP: TOTAL NO. of ITERATIONS REACHED LIMIT.\n",
      "\n",
      "Increase the number of iterations (max_iter) or scale the data as shown in:\n",
      "    https://scikit-learn.org/stable/modules/preprocessing.html\n",
      "Please also refer to the documentation for alternative solver options:\n",
      "    https://scikit-learn.org/stable/modules/linear_model.html#logistic-regression\n",
      "  n_iter_i = _check_optimize_result(\n",
      "/opt/conda/lib/python3.9/site-packages/sklearn/linear_model/_logistic.py:763: ConvergenceWarning: lbfgs failed to converge (status=1):\n",
      "STOP: TOTAL NO. of ITERATIONS REACHED LIMIT.\n",
      "\n",
      "Increase the number of iterations (max_iter) or scale the data as shown in:\n",
      "    https://scikit-learn.org/stable/modules/preprocessing.html\n",
      "Please also refer to the documentation for alternative solver options:\n",
      "    https://scikit-learn.org/stable/modules/linear_model.html#logistic-regression\n",
      "  n_iter_i = _check_optimize_result(\n",
      "/opt/conda/lib/python3.9/site-packages/sklearn/linear_model/_logistic.py:763: ConvergenceWarning: lbfgs failed to converge (status=1):\n",
      "STOP: TOTAL NO. of ITERATIONS REACHED LIMIT.\n",
      "\n",
      "Increase the number of iterations (max_iter) or scale the data as shown in:\n",
      "    https://scikit-learn.org/stable/modules/preprocessing.html\n",
      "Please also refer to the documentation for alternative solver options:\n",
      "    https://scikit-learn.org/stable/modules/linear_model.html#logistic-regression\n",
      "  n_iter_i = _check_optimize_result(\n",
      "/opt/conda/lib/python3.9/site-packages/sklearn/linear_model/_logistic.py:763: ConvergenceWarning: lbfgs failed to converge (status=1):\n",
      "STOP: TOTAL NO. of ITERATIONS REACHED LIMIT.\n",
      "\n",
      "Increase the number of iterations (max_iter) or scale the data as shown in:\n",
      "    https://scikit-learn.org/stable/modules/preprocessing.html\n",
      "Please also refer to the documentation for alternative solver options:\n",
      "    https://scikit-learn.org/stable/modules/linear_model.html#logistic-regression\n",
      "  n_iter_i = _check_optimize_result(\n",
      "/opt/conda/lib/python3.9/site-packages/sklearn/linear_model/_logistic.py:763: ConvergenceWarning: lbfgs failed to converge (status=1):\n",
      "STOP: TOTAL NO. of ITERATIONS REACHED LIMIT.\n",
      "\n",
      "Increase the number of iterations (max_iter) or scale the data as shown in:\n",
      "    https://scikit-learn.org/stable/modules/preprocessing.html\n",
      "Please also refer to the documentation for alternative solver options:\n",
      "    https://scikit-learn.org/stable/modules/linear_model.html#logistic-regression\n",
      "  n_iter_i = _check_optimize_result(\n",
      "/opt/conda/lib/python3.9/site-packages/sklearn/linear_model/_logistic.py:763: ConvergenceWarning: lbfgs failed to converge (status=1):\n",
      "STOP: TOTAL NO. of ITERATIONS REACHED LIMIT.\n",
      "\n",
      "Increase the number of iterations (max_iter) or scale the data as shown in:\n",
      "    https://scikit-learn.org/stable/modules/preprocessing.html\n",
      "Please also refer to the documentation for alternative solver options:\n",
      "    https://scikit-learn.org/stable/modules/linear_model.html#logistic-regression\n",
      "  n_iter_i = _check_optimize_result(\n",
      "/opt/conda/lib/python3.9/site-packages/sklearn/linear_model/_logistic.py:763: ConvergenceWarning: lbfgs failed to converge (status=1):\n",
      "STOP: TOTAL NO. of ITERATIONS REACHED LIMIT.\n",
      "\n",
      "Increase the number of iterations (max_iter) or scale the data as shown in:\n",
      "    https://scikit-learn.org/stable/modules/preprocessing.html\n",
      "Please also refer to the documentation for alternative solver options:\n",
      "    https://scikit-learn.org/stable/modules/linear_model.html#logistic-regression\n",
      "  n_iter_i = _check_optimize_result(\n",
      "/opt/conda/lib/python3.9/site-packages/sklearn/linear_model/_logistic.py:763: ConvergenceWarning: lbfgs failed to converge (status=1):\n",
      "STOP: TOTAL NO. of ITERATIONS REACHED LIMIT.\n",
      "\n",
      "Increase the number of iterations (max_iter) or scale the data as shown in:\n",
      "    https://scikit-learn.org/stable/modules/preprocessing.html\n",
      "Please also refer to the documentation for alternative solver options:\n",
      "    https://scikit-learn.org/stable/modules/linear_model.html#logistic-regression\n",
      "  n_iter_i = _check_optimize_result(\n",
      "/opt/conda/lib/python3.9/site-packages/sklearn/linear_model/_logistic.py:763: ConvergenceWarning: lbfgs failed to converge (status=1):\n",
      "STOP: TOTAL NO. of ITERATIONS REACHED LIMIT.\n",
      "\n",
      "Increase the number of iterations (max_iter) or scale the data as shown in:\n",
      "    https://scikit-learn.org/stable/modules/preprocessing.html\n",
      "Please also refer to the documentation for alternative solver options:\n",
      "    https://scikit-learn.org/stable/modules/linear_model.html#logistic-regression\n",
      "  n_iter_i = _check_optimize_result(\n",
      "/opt/conda/lib/python3.9/site-packages/sklearn/linear_model/_logistic.py:763: ConvergenceWarning: lbfgs failed to converge (status=1):\n",
      "STOP: TOTAL NO. of ITERATIONS REACHED LIMIT.\n",
      "\n",
      "Increase the number of iterations (max_iter) or scale the data as shown in:\n",
      "    https://scikit-learn.org/stable/modules/preprocessing.html\n",
      "Please also refer to the documentation for alternative solver options:\n",
      "    https://scikit-learn.org/stable/modules/linear_model.html#logistic-regression\n",
      "  n_iter_i = _check_optimize_result(\n",
      "/opt/conda/lib/python3.9/site-packages/sklearn/linear_model/_logistic.py:763: ConvergenceWarning: lbfgs failed to converge (status=1):\n",
      "STOP: TOTAL NO. of ITERATIONS REACHED LIMIT.\n",
      "\n",
      "Increase the number of iterations (max_iter) or scale the data as shown in:\n",
      "    https://scikit-learn.org/stable/modules/preprocessing.html\n",
      "Please also refer to the documentation for alternative solver options:\n",
      "    https://scikit-learn.org/stable/modules/linear_model.html#logistic-regression\n",
      "  n_iter_i = _check_optimize_result(\n",
      "/opt/conda/lib/python3.9/site-packages/sklearn/linear_model/_logistic.py:763: ConvergenceWarning: lbfgs failed to converge (status=1):\n",
      "STOP: TOTAL NO. of ITERATIONS REACHED LIMIT.\n",
      "\n",
      "Increase the number of iterations (max_iter) or scale the data as shown in:\n",
      "    https://scikit-learn.org/stable/modules/preprocessing.html\n",
      "Please also refer to the documentation for alternative solver options:\n",
      "    https://scikit-learn.org/stable/modules/linear_model.html#logistic-regression\n",
      "  n_iter_i = _check_optimize_result(\n",
      "/opt/conda/lib/python3.9/site-packages/sklearn/linear_model/_logistic.py:763: ConvergenceWarning: lbfgs failed to converge (status=1):\n",
      "STOP: TOTAL NO. of ITERATIONS REACHED LIMIT.\n",
      "\n",
      "Increase the number of iterations (max_iter) or scale the data as shown in:\n",
      "    https://scikit-learn.org/stable/modules/preprocessing.html\n",
      "Please also refer to the documentation for alternative solver options:\n",
      "    https://scikit-learn.org/stable/modules/linear_model.html#logistic-regression\n",
      "  n_iter_i = _check_optimize_result(\n",
      "/opt/conda/lib/python3.9/site-packages/sklearn/linear_model/_logistic.py:763: ConvergenceWarning: lbfgs failed to converge (status=1):\n",
      "STOP: TOTAL NO. of ITERATIONS REACHED LIMIT.\n",
      "\n",
      "Increase the number of iterations (max_iter) or scale the data as shown in:\n",
      "    https://scikit-learn.org/stable/modules/preprocessing.html\n",
      "Please also refer to the documentation for alternative solver options:\n",
      "    https://scikit-learn.org/stable/modules/linear_model.html#logistic-regression\n",
      "  n_iter_i = _check_optimize_result(\n",
      "/opt/conda/lib/python3.9/site-packages/sklearn/linear_model/_logistic.py:763: ConvergenceWarning: lbfgs failed to converge (status=1):\n",
      "STOP: TOTAL NO. of ITERATIONS REACHED LIMIT.\n",
      "\n",
      "Increase the number of iterations (max_iter) or scale the data as shown in:\n",
      "    https://scikit-learn.org/stable/modules/preprocessing.html\n",
      "Please also refer to the documentation for alternative solver options:\n",
      "    https://scikit-learn.org/stable/modules/linear_model.html#logistic-regression\n",
      "  n_iter_i = _check_optimize_result(\n",
      "/opt/conda/lib/python3.9/site-packages/sklearn/linear_model/_logistic.py:763: ConvergenceWarning: lbfgs failed to converge (status=1):\n",
      "STOP: TOTAL NO. of ITERATIONS REACHED LIMIT.\n",
      "\n",
      "Increase the number of iterations (max_iter) or scale the data as shown in:\n",
      "    https://scikit-learn.org/stable/modules/preprocessing.html\n",
      "Please also refer to the documentation for alternative solver options:\n",
      "    https://scikit-learn.org/stable/modules/linear_model.html#logistic-regression\n",
      "  n_iter_i = _check_optimize_result(\n",
      "/opt/conda/lib/python3.9/site-packages/sklearn/linear_model/_logistic.py:763: ConvergenceWarning: lbfgs failed to converge (status=1):\n",
      "STOP: TOTAL NO. of ITERATIONS REACHED LIMIT.\n",
      "\n",
      "Increase the number of iterations (max_iter) or scale the data as shown in:\n",
      "    https://scikit-learn.org/stable/modules/preprocessing.html\n",
      "Please also refer to the documentation for alternative solver options:\n",
      "    https://scikit-learn.org/stable/modules/linear_model.html#logistic-regression\n",
      "  n_iter_i = _check_optimize_result(\n",
      "/opt/conda/lib/python3.9/site-packages/sklearn/linear_model/_logistic.py:763: ConvergenceWarning: lbfgs failed to converge (status=1):\n",
      "STOP: TOTAL NO. of ITERATIONS REACHED LIMIT.\n",
      "\n",
      "Increase the number of iterations (max_iter) or scale the data as shown in:\n",
      "    https://scikit-learn.org/stable/modules/preprocessing.html\n",
      "Please also refer to the documentation for alternative solver options:\n",
      "    https://scikit-learn.org/stable/modules/linear_model.html#logistic-regression\n",
      "  n_iter_i = _check_optimize_result(\n",
      "/opt/conda/lib/python3.9/site-packages/sklearn/linear_model/_logistic.py:763: ConvergenceWarning: lbfgs failed to converge (status=1):\n",
      "STOP: TOTAL NO. of ITERATIONS REACHED LIMIT.\n",
      "\n",
      "Increase the number of iterations (max_iter) or scale the data as shown in:\n",
      "    https://scikit-learn.org/stable/modules/preprocessing.html\n",
      "Please also refer to the documentation for alternative solver options:\n",
      "    https://scikit-learn.org/stable/modules/linear_model.html#logistic-regression\n",
      "  n_iter_i = _check_optimize_result(\n",
      "/opt/conda/lib/python3.9/site-packages/sklearn/linear_model/_logistic.py:763: ConvergenceWarning: lbfgs failed to converge (status=1):\n",
      "STOP: TOTAL NO. of ITERATIONS REACHED LIMIT.\n",
      "\n",
      "Increase the number of iterations (max_iter) or scale the data as shown in:\n",
      "    https://scikit-learn.org/stable/modules/preprocessing.html\n",
      "Please also refer to the documentation for alternative solver options:\n",
      "    https://scikit-learn.org/stable/modules/linear_model.html#logistic-regression\n",
      "  n_iter_i = _check_optimize_result(\n",
      "/opt/conda/lib/python3.9/site-packages/sklearn/linear_model/_logistic.py:763: ConvergenceWarning: lbfgs failed to converge (status=1):\n",
      "STOP: TOTAL NO. of ITERATIONS REACHED LIMIT.\n",
      "\n",
      "Increase the number of iterations (max_iter) or scale the data as shown in:\n",
      "    https://scikit-learn.org/stable/modules/preprocessing.html\n",
      "Please also refer to the documentation for alternative solver options:\n",
      "    https://scikit-learn.org/stable/modules/linear_model.html#logistic-regression\n",
      "  n_iter_i = _check_optimize_result(\n",
      "/opt/conda/lib/python3.9/site-packages/sklearn/linear_model/_logistic.py:763: ConvergenceWarning: lbfgs failed to converge (status=1):\n",
      "STOP: TOTAL NO. of ITERATIONS REACHED LIMIT.\n",
      "\n",
      "Increase the number of iterations (max_iter) or scale the data as shown in:\n",
      "    https://scikit-learn.org/stable/modules/preprocessing.html\n",
      "Please also refer to the documentation for alternative solver options:\n",
      "    https://scikit-learn.org/stable/modules/linear_model.html#logistic-regression\n",
      "  n_iter_i = _check_optimize_result(\n",
      "/opt/conda/lib/python3.9/site-packages/sklearn/linear_model/_logistic.py:763: ConvergenceWarning: lbfgs failed to converge (status=1):\n",
      "STOP: TOTAL NO. of ITERATIONS REACHED LIMIT.\n",
      "\n",
      "Increase the number of iterations (max_iter) or scale the data as shown in:\n",
      "    https://scikit-learn.org/stable/modules/preprocessing.html\n",
      "Please also refer to the documentation for alternative solver options:\n",
      "    https://scikit-learn.org/stable/modules/linear_model.html#logistic-regression\n",
      "  n_iter_i = _check_optimize_result(\n",
      "/opt/conda/lib/python3.9/site-packages/sklearn/linear_model/_logistic.py:763: ConvergenceWarning: lbfgs failed to converge (status=1):\n",
      "STOP: TOTAL NO. of ITERATIONS REACHED LIMIT.\n",
      "\n",
      "Increase the number of iterations (max_iter) or scale the data as shown in:\n",
      "    https://scikit-learn.org/stable/modules/preprocessing.html\n",
      "Please also refer to the documentation for alternative solver options:\n",
      "    https://scikit-learn.org/stable/modules/linear_model.html#logistic-regression\n",
      "  n_iter_i = _check_optimize_result(\n",
      "/opt/conda/lib/python3.9/site-packages/sklearn/linear_model/_logistic.py:763: ConvergenceWarning: lbfgs failed to converge (status=1):\n",
      "STOP: TOTAL NO. of ITERATIONS REACHED LIMIT.\n",
      "\n",
      "Increase the number of iterations (max_iter) or scale the data as shown in:\n",
      "    https://scikit-learn.org/stable/modules/preprocessing.html\n",
      "Please also refer to the documentation for alternative solver options:\n",
      "    https://scikit-learn.org/stable/modules/linear_model.html#logistic-regression\n",
      "  n_iter_i = _check_optimize_result(\n"
     ]
    },
    {
     "name": "stdout",
     "output_type": "stream",
     "text": [
      "ЛУчшая модель получила результат метрики f1 равный 0.7669421010820224 при параметрах {'C': 9, 'class_weight': 'balanced'}\n"
     ]
    },
    {
     "name": "stderr",
     "output_type": "stream",
     "text": [
      "/opt/conda/lib/python3.9/site-packages/sklearn/linear_model/_logistic.py:763: ConvergenceWarning: lbfgs failed to converge (status=1):\n",
      "STOP: TOTAL NO. of ITERATIONS REACHED LIMIT.\n",
      "\n",
      "Increase the number of iterations (max_iter) or scale the data as shown in:\n",
      "    https://scikit-learn.org/stable/modules/preprocessing.html\n",
      "Please also refer to the documentation for alternative solver options:\n",
      "    https://scikit-learn.org/stable/modules/linear_model.html#logistic-regression\n",
      "  n_iter_i = _check_optimize_result(\n"
     ]
    }
   ],
   "source": [
    "param = { 'C': range(1, 11, 2), 'class_weight': [None, 'balanced'] }\n",
    "\n",
    "model_log = LogisticRegression()\n",
    "\n",
    "cv_log = GridSearchCV(estimator = model_log, \n",
    "                           param_grid = param, \n",
    "                           cv = 5,\n",
    "                           n_jobs = -1, \n",
    "                           verbose = 0, \n",
    "                           scoring = 'f1',\n",
    "                          )\n",
    "cv_log.fit(tf_idf_train, target_train)    \n",
    "print('ЛУчшая модель получила результат метрики f1 равный',cv_log.best_score_ ,'при параметрах',cv_log.best_params_)"
   ]
  },
  {
   "cell_type": "code",
   "execution_count": 10,
   "metadata": {},
   "outputs": [
    {
     "name": "stdout",
     "output_type": "stream",
     "text": [
      "Лучшая модель получила результат метрики f1 равный 0.5954379653011159 при параметрах {'class_weight': None, 'max_depth': 320, 'n_estimators': 4}\n"
     ]
    }
   ],
   "source": [
    "param = { 'max_depth': range(280, 350, 10), 'n_estimators': range(1,5,1),'class_weight': [None, 'balanced'] }\n",
    "\n",
    "model_forest = RandomForestClassifier(random_state=12345)\n",
    "\n",
    "cv_forest = GridSearchCV(estimator = model_forest, \n",
    "                           param_grid = param, \n",
    "                           cv = 5,\n",
    "                           n_jobs = -1, \n",
    "                           verbose = 0, \n",
    "                           scoring = 'f1',\n",
    "                          )\n",
    "#scores = cross_val_score(cv_forest,tf_idf_train,target_train,cv=5)\n",
    "cv_forest.fit(tf_idf_train, target_train)    \n",
    "print('Лучшая модель получила результат метрики f1 равный',cv_forest.best_score_ ,'при параметрах',cv_forest.best_params_)"
   ]
  },
  {
   "cell_type": "code",
   "execution_count": 11,
   "metadata": {},
   "outputs": [
    {
     "name": "stdout",
     "output_type": "stream",
     "text": [
      "Лeчшая модель получила результат метрики f1 равный 0.724747403425168 при параметрах {'class_weight': None, 'max_depth': 140}\n"
     ]
    }
   ],
   "source": [
    "param = { 'max_depth': range(100, 170, 10),'class_weight': [None, 'balanced']}\n",
    "\n",
    "model_tree = DecisionTreeClassifier(random_state=12345)\n",
    "\n",
    "cv_tree = GridSearchCV(estimator = model_tree, \n",
    "                           param_grid = param, \n",
    "                           cv = 5,\n",
    "                           n_jobs = -1, \n",
    "                           verbose = 0, \n",
    "                           scoring = 'f1',\n",
    "                          )\n",
    "cv_tree.fit(tf_idf_train, target_train)    \n",
    "print('Лeчшая модель получила результат метрики f1 равный',cv_tree.best_score_ ,'при параметрах',cv_tree.best_params_)"
   ]
  },
  {
   "cell_type": "code",
   "execution_count": 12,
   "metadata": {},
   "outputs": [
    {
     "data": {
      "text/plain": [
       "0.7679175864606327"
      ]
     },
     "execution_count": 12,
     "metadata": {},
     "output_type": "execute_result"
    }
   ],
   "source": [
    "predictions = cv_log.predict(tf_idf_test)\n",
    "f1_score(target_test,predictions)"
   ]
  },
  {
   "cell_type": "markdown",
   "metadata": {},
   "source": [
    "## Выводы"
   ]
  },
  {
   "cell_type": "markdown",
   "metadata": {},
   "source": [
    "Лучшей моделью оказалась модель логистической регрессии с результатом 0.762"
   ]
  }
 ],
 "metadata": {
  "ExecuteTimeLog": [
   {
    "duration": 356,
    "start_time": "2023-03-26T11:23:05.629Z"
   },
   {
    "duration": 114,
    "start_time": "2023-03-26T11:23:25.260Z"
   },
   {
    "duration": 1224,
    "start_time": "2023-03-26T11:23:41.122Z"
   },
   {
    "duration": 16,
    "start_time": "2023-03-26T11:23:45.627Z"
   },
   {
    "duration": 605,
    "start_time": "2023-03-26T11:25:34.331Z"
   },
   {
    "duration": 223,
    "start_time": "2023-03-26T11:25:46.720Z"
   },
   {
    "duration": 62,
    "start_time": "2023-03-26T11:28:47.189Z"
   },
   {
    "duration": 5,
    "start_time": "2023-03-26T11:28:57.789Z"
   },
   {
    "duration": 8,
    "start_time": "2023-03-26T11:29:01.340Z"
   },
   {
    "duration": 2136,
    "start_time": "2023-03-26T11:29:06.365Z"
   },
   {
    "duration": 4,
    "start_time": "2023-03-26T11:31:11.115Z"
   },
   {
    "duration": 10,
    "start_time": "2023-03-26T11:31:13.492Z"
   },
   {
    "duration": 38,
    "start_time": "2023-03-26T11:31:17.665Z"
   },
   {
    "duration": 27,
    "start_time": "2023-03-26T11:31:34.839Z"
   },
   {
    "duration": 62,
    "start_time": "2023-03-26T11:31:39.953Z"
   },
   {
    "duration": 9,
    "start_time": "2023-03-26T11:31:54.562Z"
   },
   {
    "duration": 44,
    "start_time": "2023-03-26T11:32:21.720Z"
   },
   {
    "duration": 33,
    "start_time": "2023-03-26T11:33:49.259Z"
   },
   {
    "duration": 51,
    "start_time": "2023-03-26T11:34:51.290Z"
   },
   {
    "duration": 3,
    "start_time": "2023-03-26T11:37:04.591Z"
   },
   {
    "duration": 38769,
    "start_time": "2023-03-26T11:37:28.167Z"
   },
   {
    "duration": 26,
    "start_time": "2023-03-26T11:38:08.722Z"
   },
   {
    "duration": 248,
    "start_time": "2023-03-26T11:39:09.362Z"
   },
   {
    "duration": 7947,
    "start_time": "2023-03-26T11:39:24.542Z"
   },
   {
    "duration": 4,
    "start_time": "2023-03-26T11:39:39.044Z"
   },
   {
    "duration": 4,
    "start_time": "2023-03-26T11:41:33.108Z"
   },
   {
    "duration": 26,
    "start_time": "2023-03-26T11:42:41.139Z"
   },
   {
    "duration": 7,
    "start_time": "2023-03-26T11:42:51.164Z"
   },
   {
    "duration": 25,
    "start_time": "2023-03-26T11:43:47.415Z"
   },
   {
    "duration": 6,
    "start_time": "2023-03-26T11:44:06.465Z"
   },
   {
    "duration": 882,
    "start_time": "2023-03-26T11:44:21.414Z"
   },
   {
    "duration": 955,
    "start_time": "2023-03-26T11:44:35.751Z"
   },
   {
    "duration": 918,
    "start_time": "2023-03-26T11:44:41.525Z"
   },
   {
    "duration": 6476,
    "start_time": "2023-03-26T11:44:54.010Z"
   },
   {
    "duration": 7767,
    "start_time": "2023-03-26T11:45:32.333Z"
   },
   {
    "duration": 6392,
    "start_time": "2023-03-26T11:46:11.590Z"
   },
   {
    "duration": 3,
    "start_time": "2023-03-26T11:46:46.438Z"
   },
   {
    "duration": 8366,
    "start_time": "2023-03-26T11:46:53.161Z"
   },
   {
    "duration": 5,
    "start_time": "2023-03-26T11:47:15.838Z"
   },
   {
    "duration": 43278,
    "start_time": "2023-03-26T11:47:48.115Z"
   },
   {
    "duration": 7,
    "start_time": "2023-03-26T11:48:34.211Z"
   },
   {
    "duration": 3,
    "start_time": "2023-03-26T11:48:39.684Z"
   },
   {
    "duration": 44621,
    "start_time": "2023-03-26T11:49:28.372Z"
   },
   {
    "duration": 25,
    "start_time": "2023-03-26T11:51:22.309Z"
   },
   {
    "duration": 52,
    "start_time": "2023-03-26T11:53:19.894Z"
   },
   {
    "duration": 15,
    "start_time": "2023-03-26T12:02:00.538Z"
   },
   {
    "duration": 5,
    "start_time": "2023-03-26T12:02:21.291Z"
   },
   {
    "duration": 10369,
    "start_time": "2023-03-26T12:02:24.149Z"
   },
   {
    "duration": 38,
    "start_time": "2023-03-26T12:02:53.287Z"
   },
   {
    "duration": 0,
    "start_time": "2023-03-26T12:03:58.787Z"
   },
   {
    "duration": 328382,
    "start_time": "2023-03-26T12:03:59.912Z"
   },
   {
    "duration": 343,
    "start_time": "2023-03-26T12:09:28.305Z"
   },
   {
    "duration": 446,
    "start_time": "2023-03-26T12:09:36.698Z"
   },
   {
    "duration": 478,
    "start_time": "2023-03-26T12:10:16.713Z"
   },
   {
    "duration": 390,
    "start_time": "2023-03-26T12:10:19.917Z"
   },
   {
    "duration": 456,
    "start_time": "2023-03-26T12:10:21.395Z"
   },
   {
    "duration": 376,
    "start_time": "2023-03-26T12:10:32.644Z"
   },
   {
    "duration": 452,
    "start_time": "2023-03-26T12:10:42.064Z"
   },
   {
    "duration": 5,
    "start_time": "2023-03-26T12:11:57.259Z"
   },
   {
    "duration": 3208,
    "start_time": "2023-03-26T12:12:39.144Z"
   },
   {
    "duration": 5622,
    "start_time": "2023-03-26T12:12:48.469Z"
   },
   {
    "duration": 18180,
    "start_time": "2023-03-26T12:12:57.187Z"
   },
   {
    "duration": 29657,
    "start_time": "2023-03-26T12:13:19.434Z"
   },
   {
    "duration": 41435,
    "start_time": "2023-03-26T12:14:02.410Z"
   },
   {
    "duration": 93670,
    "start_time": "2023-03-26T12:14:48.863Z"
   },
   {
    "duration": 143207,
    "start_time": "2023-03-26T12:16:31.698Z"
   },
   {
    "duration": 111283,
    "start_time": "2023-03-26T12:19:05.365Z"
   },
   {
    "duration": 84505,
    "start_time": "2023-03-26T12:21:06.293Z"
   },
   {
    "duration": 1400,
    "start_time": "2023-03-26T12:22:39.716Z"
   },
   {
    "duration": 8129,
    "start_time": "2023-03-26T12:22:48.583Z"
   },
   {
    "duration": 16545,
    "start_time": "2023-03-26T12:23:07.856Z"
   },
   {
    "duration": 8760,
    "start_time": "2023-03-26T12:23:40.265Z"
   },
   {
    "duration": 3354,
    "start_time": "2023-03-26T12:23:55.512Z"
   },
   {
    "duration": 933,
    "start_time": "2023-03-26T12:24:21.905Z"
   },
   {
    "duration": 1771,
    "start_time": "2023-03-26T12:24:27.293Z"
   },
   {
    "duration": 4366,
    "start_time": "2023-03-26T12:24:32.264Z"
   },
   {
    "duration": 2449,
    "start_time": "2023-03-26T12:24:40.443Z"
   },
   {
    "duration": 3155,
    "start_time": "2023-03-26T12:24:49.349Z"
   },
   {
    "duration": 8241,
    "start_time": "2023-03-26T12:24:56.582Z"
   },
   {
    "duration": 11303,
    "start_time": "2023-03-26T12:25:10.093Z"
   },
   {
    "duration": 28876,
    "start_time": "2023-03-26T12:25:31.957Z"
   },
   {
    "duration": 8308,
    "start_time": "2023-03-26T12:26:10.987Z"
   },
   {
    "duration": 13869,
    "start_time": "2023-03-26T12:26:24.087Z"
   },
   {
    "duration": 14043,
    "start_time": "2023-03-26T12:26:51.012Z"
   },
   {
    "duration": 13049,
    "start_time": "2023-03-26T12:27:13.405Z"
   },
   {
    "duration": 116016,
    "start_time": "2023-03-26T12:27:38.134Z"
   },
   {
    "duration": 12230,
    "start_time": "2023-03-26T12:30:00.185Z"
   },
   {
    "duration": 9,
    "start_time": "2023-03-26T12:33:00.050Z"
   },
   {
    "duration": 20,
    "start_time": "2023-03-26T12:33:30.143Z"
   },
   {
    "duration": 11,
    "start_time": "2023-03-26T12:33:33.087Z"
   },
   {
    "duration": 1331,
    "start_time": "2023-03-26T12:36:47.188Z"
   },
   {
    "duration": 3,
    "start_time": "2023-03-26T12:36:48.522Z"
   },
   {
    "duration": 1235,
    "start_time": "2023-03-26T12:36:48.526Z"
   },
   {
    "duration": 35624,
    "start_time": "2023-03-26T12:36:49.763Z"
   },
   {
    "duration": 23,
    "start_time": "2023-03-26T12:37:25.389Z"
   },
   {
    "duration": 28,
    "start_time": "2023-03-26T12:37:25.414Z"
   },
   {
    "duration": 9548,
    "start_time": "2023-03-26T12:37:25.443Z"
   },
   {
    "duration": 43397,
    "start_time": "2023-03-26T12:37:34.993Z"
   },
   {
    "duration": 11115,
    "start_time": "2023-03-26T12:38:18.394Z"
   },
   {
    "duration": 82085,
    "start_time": "2023-03-26T12:38:29.510Z"
   },
   {
    "duration": 1291,
    "start_time": "2023-04-03T11:01:57.623Z"
   },
   {
    "duration": 2,
    "start_time": "2023-04-03T11:01:59.277Z"
   },
   {
    "duration": 2264,
    "start_time": "2023-04-03T11:01:59.474Z"
   },
   {
    "duration": 30805,
    "start_time": "2023-04-03T11:02:01.740Z"
   },
   {
    "duration": 19,
    "start_time": "2023-04-03T11:02:32.547Z"
   },
   {
    "duration": 27,
    "start_time": "2023-04-03T11:02:32.643Z"
   },
   {
    "duration": 7844,
    "start_time": "2023-04-03T11:02:34.012Z"
   },
   {
    "duration": 0,
    "start_time": "2023-04-03T11:10:39.469Z"
   },
   {
    "duration": 73430,
    "start_time": "2023-04-03T11:10:40.845Z"
   },
   {
    "duration": 98305,
    "start_time": "2023-04-03T11:11:55.498Z"
   },
   {
    "duration": 0,
    "start_time": "2023-04-03T11:13:33.804Z"
   },
   {
    "duration": 0,
    "start_time": "2023-04-03T11:13:33.805Z"
   },
   {
    "duration": 1930692,
    "start_time": "2023-04-03T11:13:53.566Z"
   },
   {
    "duration": 1080160,
    "start_time": "2023-04-03T11:46:04.263Z"
   },
   {
    "duration": 0,
    "start_time": "2023-04-03T12:04:04.425Z"
   },
   {
    "duration": 0,
    "start_time": "2023-04-03T12:04:04.426Z"
   },
   {
    "duration": 3,
    "start_time": "2023-04-03T12:04:08.453Z"
   },
   {
    "duration": 9,
    "start_time": "2023-04-03T12:04:45.208Z"
   },
   {
    "duration": 12573,
    "start_time": "2023-04-03T12:05:16.144Z"
   },
   {
    "duration": 432389,
    "start_time": "2023-04-03T12:05:40.652Z"
   },
   {
    "duration": 324283,
    "start_time": "2023-04-03T12:14:11.989Z"
   },
   {
    "duration": 133179,
    "start_time": "2023-04-03T12:19:40.886Z"
   },
   {
    "duration": 1911238,
    "start_time": "2023-04-03T12:21:55.516Z"
   },
   {
    "duration": 4434607,
    "start_time": "2023-04-03T12:53:46.756Z"
   },
   {
    "duration": 0,
    "start_time": "2023-04-03T14:07:41.364Z"
   },
   {
    "duration": 13,
    "start_time": "2023-04-03T14:07:57.396Z"
   },
   {
    "duration": 1463,
    "start_time": "2023-08-08T21:13:21.730Z"
   },
   {
    "duration": 3,
    "start_time": "2023-08-08T21:13:23.195Z"
   },
   {
    "duration": 2620,
    "start_time": "2023-08-08T21:13:23.200Z"
   },
   {
    "duration": 34697,
    "start_time": "2023-08-08T21:13:25.822Z"
   },
   {
    "duration": 26,
    "start_time": "2023-08-08T21:14:00.521Z"
   },
   {
    "duration": 64,
    "start_time": "2023-08-08T21:14:00.549Z"
   },
   {
    "duration": 10478,
    "start_time": "2023-08-08T21:14:00.614Z"
   },
   {
    "duration": 2607002,
    "start_time": "2023-08-08T21:14:11.094Z"
   },
   {
    "duration": 15837514,
    "start_time": "2023-08-08T21:57:38.098Z"
   },
   {
    "duration": 0,
    "start_time": "2023-08-09T02:21:35.613Z"
   },
   {
    "duration": 0,
    "start_time": "2023-08-09T02:21:35.614Z"
   },
   {
    "duration": 4894964,
    "start_time": "2023-08-09T09:22:59.645Z"
   },
   {
    "duration": 6056884,
    "start_time": "2023-08-09T10:44:34.623Z"
   },
   {
    "duration": 24,
    "start_time": "2023-08-09T12:25:31.512Z"
   }
  ],
  "kernelspec": {
   "display_name": "Python 3 (ipykernel)",
   "language": "python",
   "name": "python3"
  },
  "language_info": {
   "codemirror_mode": {
    "name": "ipython",
    "version": 3
   },
   "file_extension": ".py",
   "mimetype": "text/x-python",
   "name": "python",
   "nbconvert_exporter": "python",
   "pygments_lexer": "ipython3",
   "version": "3.9.5"
  },
  "toc": {
   "base_numbering": 1,
   "nav_menu": {},
   "number_sections": true,
   "sideBar": true,
   "skip_h1_title": true,
   "title_cell": "Содержание",
   "title_sidebar": "Contents",
   "toc_cell": true,
   "toc_position": {
    "height": "calc(100% - 180px)",
    "left": "10px",
    "top": "150px",
    "width": "302.391px"
   },
   "toc_section_display": true,
   "toc_window_display": false
  }
 },
 "nbformat": 4,
 "nbformat_minor": 2
}
