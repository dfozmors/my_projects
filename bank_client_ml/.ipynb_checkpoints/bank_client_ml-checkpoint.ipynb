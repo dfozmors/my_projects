{
 "cells": [
  {
   "cell_type": "markdown",
   "metadata": {
    "toc": true
   },
   "source": [
    "<h1>Содержание<span class=\"tocSkip\"></span></h1>\n",
    "<div class=\"toc\"><ul class=\"toc-item\"><li><span><a href=\"#Подготовка-данных\" data-toc-modified-id=\"Подготовка-данных-1\"><span class=\"toc-item-num\">1&nbsp;&nbsp;</span>Подготовка данных</a></span></li><li><span><a href=\"#Исследование-задачи\" data-toc-modified-id=\"Исследование-задачи-2\"><span class=\"toc-item-num\">2&nbsp;&nbsp;</span>Исследование задачи</a></span></li><li><span><a href=\"#Борьба-с-дисбалансом\" data-toc-modified-id=\"Борьба-с-дисбалансом-3\"><span class=\"toc-item-num\">3&nbsp;&nbsp;</span>Борьба с дисбалансом</a></span></li><li><span><a href=\"#Тестирование-модели\" data-toc-modified-id=\"Тестирование-модели-4\"><span class=\"toc-item-num\">4&nbsp;&nbsp;</span>Тестирование модели</a></span></li></ul></div>"
   ]
  },
  {
   "cell_type": "markdown",
   "metadata": {},
   "source": [
    "# Отток клиентов"
   ]
  },
  {
   "cell_type": "markdown",
   "metadata": {},
   "source": [
    "## Подготовка данных"
   ]
  },
  {
   "cell_type": "code",
   "execution_count": 1,
   "metadata": {},
   "outputs": [],
   "source": [
    "import pandas as pd\n",
    "import matplotlib.pyplot as plt\n",
    "import numpy as np\n",
    "from sklearn.tree import DecisionTreeClassifier\n",
    "from sklearn.ensemble import RandomForestClassifier\n",
    "from sklearn.linear_model import LogisticRegression\n",
    "from sklearn.model_selection import train_test_split\n",
    "from sklearn.preprocessing import StandardScaler \n",
    "from sklearn.metrics import f1_score, roc_auc_score, roc_curve\n",
    "from sklearn.dummy import DummyClassifier\n",
    "from sklearn.utils import shuffle"
   ]
  },
  {
   "cell_type": "code",
   "execution_count": 36,
   "metadata": {},
   "outputs": [],
   "source": [
    "def upsample(features, target,repeat): #Функция для увеличения количества целевого признака равного 1\n",
    "    features_zeroes = features[target==0] #разделение данных на те, где целевой признак равен 1 и где целевой признак равен 0\n",
    "    features_ones = features[target==1]\n",
    "    target_zeroes = target[target==0]\n",
    "    target_ones = target[target==1]\n",
    "    features_upsampled = pd.concat([features_ones]*repeat\n",
    "                                  +[features_zeroes]) \n",
    "    target_upsampled = pd.concat([target_ones]*repeat\n",
    "                                +[target_zeroes])\n",
    "    features_upsampled, target_upsampled = shuffle(features_upsampled,target_upsampled,random_state=12345) #Перемешивание данных\n",
    "    return features_upsampled, target_upsampled\n",
    "\n",
    "def roc(model,features,target): #Функция для определения значения метрики AUC-ROC и вывода на экран графика\n",
    "    probabilities = model.predict_proba(features) \n",
    "    probabilities_one = probabilities[:, 1]\n",
    "    auc_roc = roc_auc_score(target, probabilities_one)\n",
    "    print('Значение AUC-ROC:', auc_roc)\n",
    "    fpr, tpr, thresholds = roc_curve(target, probabilities_one)\n",
    "    plt.figure()\n",
    "    plt.plot(fpr,tpr)\n",
    "    plt.plot([0,1],[0,1],linestyle='--')\n",
    "    plt.xlim([0.0,1.0])\n",
    "    plt.ylim([0.0,1.0])\n",
    "    plt.xlabel('False Positive Rate')\n",
    "    plt.ylabel('True Positive Rate')\n",
    "    plt.title('ROC-кривая')\n",
    "    plt.show()\n",
    "\n",
    "\n",
    "def threshold(model,features,target): #Функция для обределения лучшего порогового значения\n",
    "    f1_best_threshold = -10\n",
    "    best_threshold = -1\n",
    "    probabilities = model.predict_proba(features) \n",
    "    probabilities_one = probabilities[:, 1]\n",
    "    for threshold in np.arange(0,0.9,0.02):\n",
    "        predicted_valid = probabilities_one > threshold \n",
    "        f1 = f1_score(target,predicted_valid)\n",
    "        if f1 > f1_best_threshold:\n",
    "            f1_best_threshold = f1\n",
    "            best_threshold = threshold\n",
    "    print('Лучшее значение f1_score:',f1_best_threshold, 'при threshold равному:',best_threshold)\n"
   ]
  },
  {
   "cell_type": "code",
   "execution_count": 6,
   "metadata": {},
   "outputs": [
    {
     "name": "stdout",
     "output_type": "stream",
     "text": [
      "<class 'pandas.core.frame.DataFrame'>\n",
      "RangeIndex: 10000 entries, 0 to 9999\n",
      "Data columns (total 14 columns):\n",
      " #   Column           Non-Null Count  Dtype  \n",
      "---  ------           --------------  -----  \n",
      " 0   RowNumber        10000 non-null  int64  \n",
      " 1   CustomerId       10000 non-null  int64  \n",
      " 2   Surname          10000 non-null  object \n",
      " 3   CreditScore      10000 non-null  int64  \n",
      " 4   Geography        10000 non-null  object \n",
      " 5   Gender           10000 non-null  object \n",
      " 6   Age              10000 non-null  int64  \n",
      " 7   Tenure           9091 non-null   float64\n",
      " 8   Balance          10000 non-null  float64\n",
      " 9   NumOfProducts    10000 non-null  int64  \n",
      " 10  HasCrCard        10000 non-null  int64  \n",
      " 11  IsActiveMember   10000 non-null  int64  \n",
      " 12  EstimatedSalary  10000 non-null  float64\n",
      " 13  Exited           10000 non-null  int64  \n",
      "dtypes: float64(3), int64(8), object(3)\n",
      "memory usage: 1.1+ MB\n"
     ]
    },
    {
     "data": {
      "text/html": [
       "<div>\n",
       "<style scoped>\n",
       "    .dataframe tbody tr th:only-of-type {\n",
       "        vertical-align: middle;\n",
       "    }\n",
       "\n",
       "    .dataframe tbody tr th {\n",
       "        vertical-align: top;\n",
       "    }\n",
       "\n",
       "    .dataframe thead th {\n",
       "        text-align: right;\n",
       "    }\n",
       "</style>\n",
       "<table border=\"1\" class=\"dataframe\">\n",
       "  <thead>\n",
       "    <tr style=\"text-align: right;\">\n",
       "      <th></th>\n",
       "      <th>RowNumber</th>\n",
       "      <th>CustomerId</th>\n",
       "      <th>Surname</th>\n",
       "      <th>CreditScore</th>\n",
       "      <th>Geography</th>\n",
       "      <th>Gender</th>\n",
       "      <th>Age</th>\n",
       "      <th>Tenure</th>\n",
       "      <th>Balance</th>\n",
       "      <th>NumOfProducts</th>\n",
       "      <th>HasCrCard</th>\n",
       "      <th>IsActiveMember</th>\n",
       "      <th>EstimatedSalary</th>\n",
       "      <th>Exited</th>\n",
       "    </tr>\n",
       "  </thead>\n",
       "  <tbody>\n",
       "    <tr>\n",
       "      <th>0</th>\n",
       "      <td>1</td>\n",
       "      <td>15634602</td>\n",
       "      <td>Hargrave</td>\n",
       "      <td>619</td>\n",
       "      <td>France</td>\n",
       "      <td>Female</td>\n",
       "      <td>42</td>\n",
       "      <td>2.0</td>\n",
       "      <td>0.00</td>\n",
       "      <td>1</td>\n",
       "      <td>1</td>\n",
       "      <td>1</td>\n",
       "      <td>101348.88</td>\n",
       "      <td>1</td>\n",
       "    </tr>\n",
       "    <tr>\n",
       "      <th>1</th>\n",
       "      <td>2</td>\n",
       "      <td>15647311</td>\n",
       "      <td>Hill</td>\n",
       "      <td>608</td>\n",
       "      <td>Spain</td>\n",
       "      <td>Female</td>\n",
       "      <td>41</td>\n",
       "      <td>1.0</td>\n",
       "      <td>83807.86</td>\n",
       "      <td>1</td>\n",
       "      <td>0</td>\n",
       "      <td>1</td>\n",
       "      <td>112542.58</td>\n",
       "      <td>0</td>\n",
       "    </tr>\n",
       "    <tr>\n",
       "      <th>2</th>\n",
       "      <td>3</td>\n",
       "      <td>15619304</td>\n",
       "      <td>Onio</td>\n",
       "      <td>502</td>\n",
       "      <td>France</td>\n",
       "      <td>Female</td>\n",
       "      <td>42</td>\n",
       "      <td>8.0</td>\n",
       "      <td>159660.80</td>\n",
       "      <td>3</td>\n",
       "      <td>1</td>\n",
       "      <td>0</td>\n",
       "      <td>113931.57</td>\n",
       "      <td>1</td>\n",
       "    </tr>\n",
       "    <tr>\n",
       "      <th>3</th>\n",
       "      <td>4</td>\n",
       "      <td>15701354</td>\n",
       "      <td>Boni</td>\n",
       "      <td>699</td>\n",
       "      <td>France</td>\n",
       "      <td>Female</td>\n",
       "      <td>39</td>\n",
       "      <td>1.0</td>\n",
       "      <td>0.00</td>\n",
       "      <td>2</td>\n",
       "      <td>0</td>\n",
       "      <td>0</td>\n",
       "      <td>93826.63</td>\n",
       "      <td>0</td>\n",
       "    </tr>\n",
       "    <tr>\n",
       "      <th>4</th>\n",
       "      <td>5</td>\n",
       "      <td>15737888</td>\n",
       "      <td>Mitchell</td>\n",
       "      <td>850</td>\n",
       "      <td>Spain</td>\n",
       "      <td>Female</td>\n",
       "      <td>43</td>\n",
       "      <td>2.0</td>\n",
       "      <td>125510.82</td>\n",
       "      <td>1</td>\n",
       "      <td>1</td>\n",
       "      <td>1</td>\n",
       "      <td>79084.10</td>\n",
       "      <td>0</td>\n",
       "    </tr>\n",
       "    <tr>\n",
       "      <th>5</th>\n",
       "      <td>6</td>\n",
       "      <td>15574012</td>\n",
       "      <td>Chu</td>\n",
       "      <td>645</td>\n",
       "      <td>Spain</td>\n",
       "      <td>Male</td>\n",
       "      <td>44</td>\n",
       "      <td>8.0</td>\n",
       "      <td>113755.78</td>\n",
       "      <td>2</td>\n",
       "      <td>1</td>\n",
       "      <td>0</td>\n",
       "      <td>149756.71</td>\n",
       "      <td>1</td>\n",
       "    </tr>\n",
       "    <tr>\n",
       "      <th>6</th>\n",
       "      <td>7</td>\n",
       "      <td>15592531</td>\n",
       "      <td>Bartlett</td>\n",
       "      <td>822</td>\n",
       "      <td>France</td>\n",
       "      <td>Male</td>\n",
       "      <td>50</td>\n",
       "      <td>7.0</td>\n",
       "      <td>0.00</td>\n",
       "      <td>2</td>\n",
       "      <td>1</td>\n",
       "      <td>1</td>\n",
       "      <td>10062.80</td>\n",
       "      <td>0</td>\n",
       "    </tr>\n",
       "    <tr>\n",
       "      <th>7</th>\n",
       "      <td>8</td>\n",
       "      <td>15656148</td>\n",
       "      <td>Obinna</td>\n",
       "      <td>376</td>\n",
       "      <td>Germany</td>\n",
       "      <td>Female</td>\n",
       "      <td>29</td>\n",
       "      <td>4.0</td>\n",
       "      <td>115046.74</td>\n",
       "      <td>4</td>\n",
       "      <td>1</td>\n",
       "      <td>0</td>\n",
       "      <td>119346.88</td>\n",
       "      <td>1</td>\n",
       "    </tr>\n",
       "    <tr>\n",
       "      <th>8</th>\n",
       "      <td>9</td>\n",
       "      <td>15792365</td>\n",
       "      <td>He</td>\n",
       "      <td>501</td>\n",
       "      <td>France</td>\n",
       "      <td>Male</td>\n",
       "      <td>44</td>\n",
       "      <td>4.0</td>\n",
       "      <td>142051.07</td>\n",
       "      <td>2</td>\n",
       "      <td>0</td>\n",
       "      <td>1</td>\n",
       "      <td>74940.50</td>\n",
       "      <td>0</td>\n",
       "    </tr>\n",
       "    <tr>\n",
       "      <th>9</th>\n",
       "      <td>10</td>\n",
       "      <td>15592389</td>\n",
       "      <td>H?</td>\n",
       "      <td>684</td>\n",
       "      <td>France</td>\n",
       "      <td>Male</td>\n",
       "      <td>27</td>\n",
       "      <td>2.0</td>\n",
       "      <td>134603.88</td>\n",
       "      <td>1</td>\n",
       "      <td>1</td>\n",
       "      <td>1</td>\n",
       "      <td>71725.73</td>\n",
       "      <td>0</td>\n",
       "    </tr>\n",
       "  </tbody>\n",
       "</table>\n",
       "</div>"
      ],
      "text/plain": [
       "   RowNumber  CustomerId   Surname  CreditScore Geography  Gender  Age  \\\n",
       "0          1    15634602  Hargrave          619    France  Female   42   \n",
       "1          2    15647311      Hill          608     Spain  Female   41   \n",
       "2          3    15619304      Onio          502    France  Female   42   \n",
       "3          4    15701354      Boni          699    France  Female   39   \n",
       "4          5    15737888  Mitchell          850     Spain  Female   43   \n",
       "5          6    15574012       Chu          645     Spain    Male   44   \n",
       "6          7    15592531  Bartlett          822    France    Male   50   \n",
       "7          8    15656148    Obinna          376   Germany  Female   29   \n",
       "8          9    15792365        He          501    France    Male   44   \n",
       "9         10    15592389        H?          684    France    Male   27   \n",
       "\n",
       "   Tenure    Balance  NumOfProducts  HasCrCard  IsActiveMember  \\\n",
       "0     2.0       0.00              1          1               1   \n",
       "1     1.0   83807.86              1          0               1   \n",
       "2     8.0  159660.80              3          1               0   \n",
       "3     1.0       0.00              2          0               0   \n",
       "4     2.0  125510.82              1          1               1   \n",
       "5     8.0  113755.78              2          1               0   \n",
       "6     7.0       0.00              2          1               1   \n",
       "7     4.0  115046.74              4          1               0   \n",
       "8     4.0  142051.07              2          0               1   \n",
       "9     2.0  134603.88              1          1               1   \n",
       "\n",
       "   EstimatedSalary  Exited  \n",
       "0        101348.88       1  \n",
       "1        112542.58       0  \n",
       "2        113931.57       1  \n",
       "3         93826.63       0  \n",
       "4         79084.10       0  \n",
       "5        149756.71       1  \n",
       "6         10062.80       0  \n",
       "7        119346.88       1  \n",
       "8         74940.50       0  \n",
       "9         71725.73       0  "
      ]
     },
     "metadata": {},
     "output_type": "display_data"
    },
    {
     "name": "stdout",
     "output_type": "stream",
     "text": [
      "         RowNumber    CustomerId   CreditScore           Age       Tenure  \\\n",
      "count  10000.00000  1.000000e+04  10000.000000  10000.000000  9091.000000   \n",
      "mean    5000.50000  1.569094e+07    650.528800     38.921800     4.997690   \n",
      "std     2886.89568  7.193619e+04     96.653299     10.487806     2.894723   \n",
      "min        1.00000  1.556570e+07    350.000000     18.000000     0.000000   \n",
      "25%     2500.75000  1.562853e+07    584.000000     32.000000     2.000000   \n",
      "50%     5000.50000  1.569074e+07    652.000000     37.000000     5.000000   \n",
      "75%     7500.25000  1.575323e+07    718.000000     44.000000     7.000000   \n",
      "max    10000.00000  1.581569e+07    850.000000     92.000000    10.000000   \n",
      "\n",
      "             Balance  NumOfProducts    HasCrCard  IsActiveMember  \\\n",
      "count   10000.000000   10000.000000  10000.00000    10000.000000   \n",
      "mean    76485.889288       1.530200      0.70550        0.515100   \n",
      "std     62397.405202       0.581654      0.45584        0.499797   \n",
      "min         0.000000       1.000000      0.00000        0.000000   \n",
      "25%         0.000000       1.000000      0.00000        0.000000   \n",
      "50%     97198.540000       1.000000      1.00000        1.000000   \n",
      "75%    127644.240000       2.000000      1.00000        1.000000   \n",
      "max    250898.090000       4.000000      1.00000        1.000000   \n",
      "\n",
      "       EstimatedSalary        Exited  \n",
      "count     10000.000000  10000.000000  \n",
      "mean     100090.239881      0.203700  \n",
      "std       57510.492818      0.402769  \n",
      "min          11.580000      0.000000  \n",
      "25%       51002.110000      0.000000  \n",
      "50%      100193.915000      0.000000  \n",
      "75%      149388.247500      0.000000  \n",
      "max      199992.480000      1.000000  \n"
     ]
    }
   ],
   "source": [
    "df = pd.read_csv('/datasets/Churn.csv')\n",
    "df.info()\n",
    "display(df.head(10))\n",
    "print(df.describe())"
   ]
  },
  {
   "cell_type": "markdown",
   "metadata": {},
   "source": [
    "Исходя из первичного осмотра данных, можно увидеть пропуски в столбце `Tenure`, лучше всего пропуски будет заполнить нулями. Столбцы `RowNumber`, `CustomerId` и `Surname` содержат значения, которые не могут повлиять на факт ухода клиента, поэтому для дальнейшего анализа и обучения модели эти столбцы можно убрать. Столбцы `Geography` и `Gender` содержат категориальные данные, которые нужно перевести в числовые. Перевод будет выполнен методом One-Hot Encoding. Для удобства данные в столбце `Tenure` лучше будет перевести в тип integer.  \n",
    "  \n",
    "Далее данные будут поделены на 2 части: Признаки и целевой признак. А вся выборка будет поделена на 3 части: тренировочную (60%), валидационную (20%) и тестовую (20%)"
   ]
  },
  {
   "cell_type": "code",
   "execution_count": 7,
   "metadata": {},
   "outputs": [
    {
     "data": {
      "text/html": [
       "<div>\n",
       "<style scoped>\n",
       "    .dataframe tbody tr th:only-of-type {\n",
       "        vertical-align: middle;\n",
       "    }\n",
       "\n",
       "    .dataframe tbody tr th {\n",
       "        vertical-align: top;\n",
       "    }\n",
       "\n",
       "    .dataframe thead th {\n",
       "        text-align: right;\n",
       "    }\n",
       "</style>\n",
       "<table border=\"1\" class=\"dataframe\">\n",
       "  <thead>\n",
       "    <tr style=\"text-align: right;\">\n",
       "      <th></th>\n",
       "      <th>CreditScore</th>\n",
       "      <th>Geography</th>\n",
       "      <th>Gender</th>\n",
       "      <th>Age</th>\n",
       "      <th>Tenure</th>\n",
       "      <th>Balance</th>\n",
       "      <th>NumOfProducts</th>\n",
       "      <th>HasCrCard</th>\n",
       "      <th>IsActiveMember</th>\n",
       "      <th>EstimatedSalary</th>\n",
       "      <th>Exited</th>\n",
       "    </tr>\n",
       "  </thead>\n",
       "  <tbody>\n",
       "    <tr>\n",
       "      <th>0</th>\n",
       "      <td>619</td>\n",
       "      <td>France</td>\n",
       "      <td>Female</td>\n",
       "      <td>42</td>\n",
       "      <td>2.0</td>\n",
       "      <td>0.00</td>\n",
       "      <td>1</td>\n",
       "      <td>1</td>\n",
       "      <td>1</td>\n",
       "      <td>101348.88</td>\n",
       "      <td>1</td>\n",
       "    </tr>\n",
       "    <tr>\n",
       "      <th>1</th>\n",
       "      <td>608</td>\n",
       "      <td>Spain</td>\n",
       "      <td>Female</td>\n",
       "      <td>41</td>\n",
       "      <td>1.0</td>\n",
       "      <td>83807.86</td>\n",
       "      <td>1</td>\n",
       "      <td>0</td>\n",
       "      <td>1</td>\n",
       "      <td>112542.58</td>\n",
       "      <td>0</td>\n",
       "    </tr>\n",
       "    <tr>\n",
       "      <th>2</th>\n",
       "      <td>502</td>\n",
       "      <td>France</td>\n",
       "      <td>Female</td>\n",
       "      <td>42</td>\n",
       "      <td>8.0</td>\n",
       "      <td>159660.80</td>\n",
       "      <td>3</td>\n",
       "      <td>1</td>\n",
       "      <td>0</td>\n",
       "      <td>113931.57</td>\n",
       "      <td>1</td>\n",
       "    </tr>\n",
       "    <tr>\n",
       "      <th>3</th>\n",
       "      <td>699</td>\n",
       "      <td>France</td>\n",
       "      <td>Female</td>\n",
       "      <td>39</td>\n",
       "      <td>1.0</td>\n",
       "      <td>0.00</td>\n",
       "      <td>2</td>\n",
       "      <td>0</td>\n",
       "      <td>0</td>\n",
       "      <td>93826.63</td>\n",
       "      <td>0</td>\n",
       "    </tr>\n",
       "    <tr>\n",
       "      <th>4</th>\n",
       "      <td>850</td>\n",
       "      <td>Spain</td>\n",
       "      <td>Female</td>\n",
       "      <td>43</td>\n",
       "      <td>2.0</td>\n",
       "      <td>125510.82</td>\n",
       "      <td>1</td>\n",
       "      <td>1</td>\n",
       "      <td>1</td>\n",
       "      <td>79084.10</td>\n",
       "      <td>0</td>\n",
       "    </tr>\n",
       "    <tr>\n",
       "      <th>...</th>\n",
       "      <td>...</td>\n",
       "      <td>...</td>\n",
       "      <td>...</td>\n",
       "      <td>...</td>\n",
       "      <td>...</td>\n",
       "      <td>...</td>\n",
       "      <td>...</td>\n",
       "      <td>...</td>\n",
       "      <td>...</td>\n",
       "      <td>...</td>\n",
       "      <td>...</td>\n",
       "    </tr>\n",
       "    <tr>\n",
       "      <th>9995</th>\n",
       "      <td>771</td>\n",
       "      <td>France</td>\n",
       "      <td>Male</td>\n",
       "      <td>39</td>\n",
       "      <td>5.0</td>\n",
       "      <td>0.00</td>\n",
       "      <td>2</td>\n",
       "      <td>1</td>\n",
       "      <td>0</td>\n",
       "      <td>96270.64</td>\n",
       "      <td>0</td>\n",
       "    </tr>\n",
       "    <tr>\n",
       "      <th>9996</th>\n",
       "      <td>516</td>\n",
       "      <td>France</td>\n",
       "      <td>Male</td>\n",
       "      <td>35</td>\n",
       "      <td>10.0</td>\n",
       "      <td>57369.61</td>\n",
       "      <td>1</td>\n",
       "      <td>1</td>\n",
       "      <td>1</td>\n",
       "      <td>101699.77</td>\n",
       "      <td>0</td>\n",
       "    </tr>\n",
       "    <tr>\n",
       "      <th>9997</th>\n",
       "      <td>709</td>\n",
       "      <td>France</td>\n",
       "      <td>Female</td>\n",
       "      <td>36</td>\n",
       "      <td>7.0</td>\n",
       "      <td>0.00</td>\n",
       "      <td>1</td>\n",
       "      <td>0</td>\n",
       "      <td>1</td>\n",
       "      <td>42085.58</td>\n",
       "      <td>1</td>\n",
       "    </tr>\n",
       "    <tr>\n",
       "      <th>9998</th>\n",
       "      <td>772</td>\n",
       "      <td>Germany</td>\n",
       "      <td>Male</td>\n",
       "      <td>42</td>\n",
       "      <td>3.0</td>\n",
       "      <td>75075.31</td>\n",
       "      <td>2</td>\n",
       "      <td>1</td>\n",
       "      <td>0</td>\n",
       "      <td>92888.52</td>\n",
       "      <td>1</td>\n",
       "    </tr>\n",
       "    <tr>\n",
       "      <th>9999</th>\n",
       "      <td>792</td>\n",
       "      <td>France</td>\n",
       "      <td>Female</td>\n",
       "      <td>28</td>\n",
       "      <td>NaN</td>\n",
       "      <td>130142.79</td>\n",
       "      <td>1</td>\n",
       "      <td>1</td>\n",
       "      <td>0</td>\n",
       "      <td>38190.78</td>\n",
       "      <td>0</td>\n",
       "    </tr>\n",
       "  </tbody>\n",
       "</table>\n",
       "<p>10000 rows × 11 columns</p>\n",
       "</div>"
      ],
      "text/plain": [
       "      CreditScore Geography  Gender  Age  Tenure    Balance  NumOfProducts  \\\n",
       "0             619    France  Female   42     2.0       0.00              1   \n",
       "1             608     Spain  Female   41     1.0   83807.86              1   \n",
       "2             502    France  Female   42     8.0  159660.80              3   \n",
       "3             699    France  Female   39     1.0       0.00              2   \n",
       "4             850     Spain  Female   43     2.0  125510.82              1   \n",
       "...           ...       ...     ...  ...     ...        ...            ...   \n",
       "9995          771    France    Male   39     5.0       0.00              2   \n",
       "9996          516    France    Male   35    10.0   57369.61              1   \n",
       "9997          709    France  Female   36     7.0       0.00              1   \n",
       "9998          772   Germany    Male   42     3.0   75075.31              2   \n",
       "9999          792    France  Female   28     NaN  130142.79              1   \n",
       "\n",
       "      HasCrCard  IsActiveMember  EstimatedSalary  Exited  \n",
       "0             1               1        101348.88       1  \n",
       "1             0               1        112542.58       0  \n",
       "2             1               0        113931.57       1  \n",
       "3             0               0         93826.63       0  \n",
       "4             1               1         79084.10       0  \n",
       "...         ...             ...              ...     ...  \n",
       "9995          1               0         96270.64       0  \n",
       "9996          1               1        101699.77       0  \n",
       "9997          0               1         42085.58       1  \n",
       "9998          1               0         92888.52       1  \n",
       "9999          1               0         38190.78       0  \n",
       "\n",
       "[10000 rows x 11 columns]"
      ]
     },
     "execution_count": 7,
     "metadata": {},
     "output_type": "execute_result"
    }
   ],
   "source": [
    "df = df.drop(['RowNumber','CustomerId','Surname'],axis=1) #Удаление столбцов с именем и номером клиента\n",
    "df"
   ]
  },
  {
   "cell_type": "code",
   "execution_count": 8,
   "metadata": {},
   "outputs": [
    {
     "name": "stdout",
     "output_type": "stream",
     "text": [
      "Пропущенные значения в столбце Tenure: 909\n",
      "Пропущенные значения в столбце Tenure после заполнения 0: 0\n"
     ]
    }
   ],
   "source": [
    "print('Пропущенные значения в столбце Tenure:', df['Tenure'].isna().sum())\n",
    "df['Tenure'] = df['Tenure'].fillna(0)\n",
    "print('Пропущенные значения в столбце Tenure после заполнения 0:', df['Tenure'].isna().sum())"
   ]
  },
  {
   "cell_type": "code",
   "execution_count": 9,
   "metadata": {},
   "outputs": [
    {
     "name": "stdout",
     "output_type": "stream",
     "text": [
      "<class 'pandas.core.frame.DataFrame'>\n",
      "RangeIndex: 10000 entries, 0 to 9999\n",
      "Data columns (total 11 columns):\n",
      " #   Column           Non-Null Count  Dtype  \n",
      "---  ------           --------------  -----  \n",
      " 0   CreditScore      10000 non-null  int64  \n",
      " 1   Geography        10000 non-null  object \n",
      " 2   Gender           10000 non-null  object \n",
      " 3   Age              10000 non-null  int64  \n",
      " 4   Tenure           10000 non-null  int64  \n",
      " 5   Balance          10000 non-null  float64\n",
      " 6   NumOfProducts    10000 non-null  int64  \n",
      " 7   HasCrCard        10000 non-null  int64  \n",
      " 8   IsActiveMember   10000 non-null  int64  \n",
      " 9   EstimatedSalary  10000 non-null  float64\n",
      " 10  Exited           10000 non-null  int64  \n",
      "dtypes: float64(2), int64(7), object(2)\n",
      "memory usage: 859.5+ KB\n"
     ]
    }
   ],
   "source": [
    "df['Tenure'] = df['Tenure'].astype(int) #Перевод значений столбца Tenure к типу integer\n",
    "df.info()"
   ]
  },
  {
   "cell_type": "code",
   "execution_count": 10,
   "metadata": {
    "scrolled": true
   },
   "outputs": [],
   "source": [
    " df = pd.get_dummies(df,columns=['Geography','Gender'],drop_first=True) #Перевод категориальных значений к числовым по средством метода One-Hot Encoding с удалением первого столбца для избегания дамми ловушки"
   ]
  },
  {
   "cell_type": "code",
   "execution_count": 11,
   "metadata": {},
   "outputs": [
    {
     "data": {
      "text/plain": [
       "0    7963\n",
       "1    2037\n",
       "Name: Exited, dtype: int64"
      ]
     },
     "execution_count": 11,
     "metadata": {},
     "output_type": "execute_result"
    }
   ],
   "source": [
    "df['Exited'].value_counts()"
   ]
  },
  {
   "cell_type": "markdown",
   "metadata": {},
   "source": [
    "Как мы можем увидеть значений в столбце `Exited` равных 1 почти в 4 раза меньше, чем значений равных 0, для лучшего обучения модели можно продублировать значения равные 1 еще раз и перемешать. "
   ]
  },
  {
   "cell_type": "code",
   "execution_count": 12,
   "metadata": {},
   "outputs": [],
   "source": [
    "features = df.drop('Exited',axis=1) #Выделение признаков\n",
    "target = df['Exited'] #Выделение итоговой цели"
   ]
  },
  {
   "cell_type": "code",
   "execution_count": 13,
   "metadata": {},
   "outputs": [],
   "source": [
    "features_80, features_valid,  target_80, target_valid = train_test_split(\n",
    "features, target, test_size=0.2, random_state=12345) #Разделение выборки на валидационную и остальную с отношением 20% к 80%\n",
    "features_train, features_test, target_train, target_test = train_test_split(\n",
    "features_80, target_80, test_size=0.25, random_state=12345) #Разделение выборки на обучаемую и тестовую с отношением 25% к 75%"
   ]
  },
  {
   "cell_type": "markdown",
   "metadata": {},
   "source": [
    "\n",
    "\n",
    "## Исследование задачи"
   ]
  },
  {
   "cell_type": "code",
   "execution_count": 14,
   "metadata": {},
   "outputs": [],
   "source": [
    "#Переменные для определения лучшей модели\n",
    "best_model_tree = None\n",
    "best_model_forest = None\n",
    "best_model_regression = None\n",
    "best_f1_tree = 0\n",
    "best_f1_forest = 0\n",
    "best_f1_linear = 0\n",
    "best_depth_tree = 0\n",
    "best_depth_forest = 0\n",
    "best_est = 0"
   ]
  },
  {
   "cell_type": "code",
   "execution_count": 15,
   "metadata": {},
   "outputs": [],
   "source": [
    "for depth in range(1,30): #Определение лучшего результата DecisionTreeClassifier\n",
    "    model_tree = DecisionTreeClassifier(random_state=12345, max_depth=depth)\n",
    "    model_tree.fit(features_train,target_train) #Обучение модели\n",
    "    prediction_valid = model_tree.predict(features_valid) #Тест модели на валидационной выборке\n",
    "    f1 = f1_score(target_valid,prediction_valid) #Подсчет доли правильных ответов\n",
    "    if f1>best_f1_tree: #Проверка на наилучшее качество\n",
    "        best_f1_tree=f1\n",
    "        best_model_tree=model_tree\n",
    "        best_depth_tree=depth"
   ]
  },
  {
   "cell_type": "code",
   "execution_count": 16,
   "metadata": {},
   "outputs": [],
   "source": [
    "for est in range(10, 30): #Определение лучшего результата RandomForestClassifier\n",
    "    for depth in range (1, 20):\n",
    "        model_forest = RandomForestClassifier(random_state=12345,n_estimators=est,max_depth=depth)\n",
    "        model_forest.fit(features_train,target_train) #Обучение модели\n",
    "        prediction_valid = model_forest.predict(features_valid) #Тест модели на валидационной выборке\n",
    "        f1 = f1_score(target_valid,prediction_valid) #Подсчет доли правильных ответов\n",
    "        if f1 > best_f1_forest: #Проверка на наилучшее качество\n",
    "            best_model_forest = model_forest\n",
    "            best_f1_forest = f1\n",
    "            best_est = est\n",
    "            best_depth_forest = depth"
   ]
  },
  {
   "cell_type": "code",
   "execution_count": 17,
   "metadata": {},
   "outputs": [],
   "source": [
    "model_regression = LogisticRegression()  #Создание модели LogisticRegression\n",
    "model_regression.fit(features_train,target_train) #Обучение модели\n",
    "prediction_valid = model_regression.predict(features_valid) #Тест модели на валидационной выборке\n",
    "f1_regression = f1_score(target_valid,prediction_valid) #Подсчет доли правильных ответов"
   ]
  },
  {
   "cell_type": "code",
   "execution_count": 18,
   "metadata": {},
   "outputs": [
    {
     "name": "stdout",
     "output_type": "stream",
     "text": [
      "Лучший результат DecisionTreeClassifier: 0.5669515669515669  При глубине: 5\n",
      "Лучший результат RandomForestClassifier: 0.5892351274787535  При глубине: 17 и количестве лесов: 15\n",
      "Лучший результат LogisticRegression: 0.09896907216494845\n"
     ]
    }
   ],
   "source": [
    "print('Лучший результат DecisionTreeClassifier:',best_f1_tree,' При глубине:', best_depth_tree)\n",
    "print('Лучший результат RandomForestClassifier:',best_f1_forest,' При глубине:', best_depth_forest, 'и количестве лесов:',best_est)\n",
    "print('Лучший результат LogisticRegression:',f1_regression)\n",
    "            "
   ]
  },
  {
   "cell_type": "code",
   "execution_count": 19,
   "metadata": {},
   "outputs": [
    {
     "name": "stdout",
     "output_type": "stream",
     "text": [
      "Значение AUC-ROC: 0.8483788938334392\n"
     ]
    },
    {
     "data": {
      "image/png": "[encoded data removed]",
      "text/plain": [
       "<Figure size 432x288 with 1 Axes>"
      ]
     },
     "metadata": {
      "needs_background": "light"
     },
     "output_type": "display_data"
    }
   ],
   "source": [
    "roc(best_model_tree, features_valid, target_valid) #Просмотр результатов AUC-ROC лучшей модели RandomForestClassifier"
   ]
  },
  {
   "cell_type": "code",
   "execution_count": 20,
   "metadata": {},
   "outputs": [
    {
     "name": "stdout",
     "output_type": "stream",
     "text": [
      "Значение AUC-ROC: 0.8396908605552421\n"
     ]
    },
    {
     "data": {
      "image/png": "[encoded data removed]",
      "text/plain": [
       "<Figure size 432x288 with 1 Axes>"
      ]
     },
     "metadata": {
      "needs_background": "light"
     },
     "output_type": "display_data"
    }
   ],
   "source": [
    "roc(best_model_forest, features_valid, target_valid) #Просмотр результатов AUC-ROC лучшей модели DecisionTreeClassifier"
   ]
  },
  {
   "cell_type": "code",
   "execution_count": 21,
   "metadata": {},
   "outputs": [
    {
     "name": "stdout",
     "output_type": "stream",
     "text": [
      "Значение AUC-ROC: 0.6707539852100209\n"
     ]
    },
    {
     "data": {
      "image/png": "[encoded data removed]",
      "text/plain": [
       "<Figure size 432x288 with 1 Axes>"
      ]
     },
     "metadata": {
      "needs_background": "light"
     },
     "output_type": "display_data"
    }
   ],
   "source": [
    "roc(model_regression, features_valid, target_valid) #Просмотр результатов AUC-ROC лучшей модели  LogisticRegression\n",
    "plt.show()"
   ]
  },
  {
   "cell_type": "markdown",
   "metadata": {},
   "source": [
    "Исходя из результатов моделей, можем увидеть, что лучше всего себя показала модель RandomForestClassifier, как при сравнении значений метрики F1, так и при просмотре результатов модели в метрике AUC-ROC. При этом значения обеих метрик достаточно хороши."
   ]
  },
  {
   "cell_type": "markdown",
   "metadata": {},
   "source": [
    "## Борьба с дисбалансом"
   ]
  },
  {
   "cell_type": "markdown",
   "metadata": {},
   "source": [
    "Для усовершенствования качества модели нужно провести работу с дизбалансом признаков:\n",
    "- Увеличить количество строк со значением 1 в столбце `Tenure` дублировав их  \n",
    "- Сделать более правильное разделение данных с учетом количества элементов равных 1\n",
    "- Промасштаббировать признаки\n",
    "- Обозначить class_weight = balanced в моделях\n",
    "- Посмотреть как изменение порога классификации повлияет на результаты\n"
   ]
  },
  {
   "cell_type": "code",
   "execution_count": 22,
   "metadata": {},
   "outputs": [
    {
     "data": {
      "text/plain": [
       "0    7963\n",
       "1    4074\n",
       "Name: Exited, dtype: int64"
      ]
     },
     "execution_count": 22,
     "metadata": {},
     "output_type": "execute_result"
    }
   ],
   "source": [
    "features_upsampled, target_upsampled = upsample(features, target, 2) #Удвоение всех значений, где целовой признак равен 1\n",
    "target_upsampled.value_counts()"
   ]
  },
  {
   "cell_type": "code",
   "execution_count": 23,
   "metadata": {},
   "outputs": [],
   "source": [
    "features_80, features_valid,  target_80, target_valid = train_test_split(\n",
    "features_upsampled, target_upsampled, test_size=0.2, random_state=12345, stratify = target_upsampled) #Разделение выборки на валидационную и остальную с отношением 20% к 80%\n",
    "features_train, features_test, target_train, target_test = train_test_split(\n",
    "features_80, target_80, test_size=0.25, random_state=12345, stratify = target_80) #Разделение выборки на обучаемую и тестовую с отношением 25% к 75%\n"
   ]
  },
  {
   "cell_type": "code",
   "execution_count": 24,
   "metadata": {},
   "outputs": [],
   "source": [
    "scaler = StandardScaler()\n",
    "scaler.fit(features_train)\n",
    "features_train_scaled = scaler.transform(features_train)\n",
    "features_valid_scaled = scaler.transform(features_valid)\n",
    "features_test_scaled = scaler.transform(features_test)"
   ]
  },
  {
   "cell_type": "code",
   "execution_count": 25,
   "metadata": {},
   "outputs": [],
   "source": [
    "#Переменные для определения лучшей модели\n",
    "new_best_model_tree = None\n",
    "new_best_model_forest = None\n",
    "new_best_model_regression = None\n",
    "new_best_f1_tree = 0\n",
    "new_best_f1_forest = 0\n",
    "new_best_f1_linear = 0\n",
    "new_best_depth_tree = 0\n",
    "new_best_depth_forest = 0\n",
    "new_best_est = 0"
   ]
  },
  {
   "cell_type": "code",
   "execution_count": 26,
   "metadata": {},
   "outputs": [],
   "source": [
    "for depth in range(1,30): #Определение лучшего результата DecisionTreeClassifier\n",
    "    model_tree = DecisionTreeClassifier(random_state=12345, max_depth=depth, class_weight='balanced')\n",
    "    model_tree.fit(features_train_scaled,target_train) #Обучение модели\n",
    "    prediction_valid = model_tree.predict(features_valid_scaled) #Тест модели на валидационной выборке\n",
    "    f1 = f1_score(target_valid,prediction_valid) #Подсчет доли правильных ответов\n",
    "    if f1>new_best_f1_tree: #Проверка на наилучшее качество\n",
    "        new_best_f1_tree=f1\n",
    "        new_best_model_tree=model_tree\n",
    "        new_best_depth_tree=depth"
   ]
  },
  {
   "cell_type": "code",
   "execution_count": 27,
   "metadata": {},
   "outputs": [],
   "source": [
    "for est in range(10, 20): #Определение лучшего результата RandomForestClassifier\n",
    "    for depth in range (1, 20):\n",
    "        model_forest = RandomForestClassifier(random_state=12345,n_estimators=est,max_depth=depth, class_weight='balanced')\n",
    "        model_forest.fit(features_train_scaled,target_train) #Обучение модели\n",
    "        prediction_valid = model_forest.predict(features_valid_scaled) #Тест модели на валидационной выборке\n",
    "        f1 = f1_score(target_valid,prediction_valid) #Подсчет доли правильных ответов\n",
    "        if f1 > new_best_f1_forest: #Проверка на наилучшее качество\n",
    "            new_best_model_forest = model_forest\n",
    "            new_best_f1_forest = f1\n",
    "            new_best_est = est\n",
    "            new_best_depth_forest = depth"
   ]
  },
  {
   "cell_type": "code",
   "execution_count": 28,
   "metadata": {},
   "outputs": [],
   "source": [
    "new_model_regression = LogisticRegression()  #Создание модели LogisticRegression\n",
    "new_model_regression.fit(features_train_scaled,target_train) #Обучение модели\n",
    "prediction_valid = new_model_regression.predict(features_valid_scaled) #Тест модели на валидационной выборке\n",
    "new_f1_regression = f1_score(target_valid,prediction_valid) #Подсчет доли правильных ответов"
   ]
  },
  {
   "cell_type": "code",
   "execution_count": 29,
   "metadata": {},
   "outputs": [
    {
     "name": "stdout",
     "output_type": "stream",
     "text": [
      "Лучший результат DecisionTreeClassifier после борьбы с дисбалансом: 0.7579298831385642  При глубине: 17\n",
      "Старый результат DecisionTreeClassifier: 0.5669515669515669  При глубине: 5\n",
      "--------------------------------------------------------------------------------------------------------------------------\n",
      "Лучший результат RandomForestClassifier после борьбы с дисбалансом: 0.8268638324091189  При глубине: 16 и количестве лесов: 15\n",
      "Старый результат RandomForestClassifier: 0.5892351274787535  При глубине: 17 и количестве лесов: 15\n",
      "--------------------------------------------------------------------------------------------------------------------------\n",
      "Лучший результат LogisticRegression после борьбы с дисбалансом: 0.5199409158050221\n",
      "Старый результат LogisticRegression: 0.09896907216494845\n"
     ]
    }
   ],
   "source": [
    "print('Лучший результат DecisionTreeClassifier после борьбы с дисбалансом:',new_best_f1_tree,' При глубине:', new_best_depth_tree)\n",
    "print('Старый результат DecisionTreeClassifier:',best_f1_tree,' При глубине:', best_depth_tree)\n",
    "print('--------------------------------------------------------------------------------------------------------------------------')\n",
    "print('Лучший результат RandomForestClassifier после борьбы с дисбалансом:',new_best_f1_forest,' При глубине:', new_best_depth_forest, 'и количестве лесов:',best_est)\n",
    "print('Старый результат RandomForestClassifier:',best_f1_forest,' При глубине:', best_depth_forest, 'и количестве лесов:',best_est)\n",
    "print('--------------------------------------------------------------------------------------------------------------------------')\n",
    "print('Лучший результат LogisticRegression после борьбы с дисбалансом:',new_f1_regression)\n",
    "print('Старый результат LogisticRegression:',f1_regression)"
   ]
  },
  {
   "cell_type": "code",
   "execution_count": 30,
   "metadata": {},
   "outputs": [
    {
     "name": "stdout",
     "output_type": "stream",
     "text": [
      "Значение AUC-ROC: 0.8292841765546353\n"
     ]
    },
    {
     "data": {
      "image/png": "[encoded data removed]",
      "text/plain": [
       "<Figure size 432x288 with 1 Axes>"
      ]
     },
     "metadata": {
      "needs_background": "light"
     },
     "output_type": "display_data"
    }
   ],
   "source": [
    "roc(new_best_model_tree, features_valid_scaled, target_valid) #Просмотр результатов AUC-ROC лучшей модели DecisionTreeClassifier"
   ]
  },
  {
   "cell_type": "code",
   "execution_count": 31,
   "metadata": {},
   "outputs": [
    {
     "name": "stdout",
     "output_type": "stream",
     "text": [
      "Значение AUC-ROC: 0.9259698296612096\n"
     ]
    },
    {
     "data": {
      "image/png": "[encoded data removed]",
      "text/plain": [
       "<Figure size 432x288 with 1 Axes>"
      ]
     },
     "metadata": {
      "needs_background": "light"
     },
     "output_type": "display_data"
    }
   ],
   "source": [
    "roc(new_best_model_forest, features_valid_scaled, target_valid) #Просмотр результатов AUC-ROC лучшей модели RandomForestClassifier"
   ]
  },
  {
   "cell_type": "code",
   "execution_count": 32,
   "metadata": {},
   "outputs": [
    {
     "name": "stdout",
     "output_type": "stream",
     "text": [
      "Значение AUC-ROC: 0.7660115767217774\n"
     ]
    },
    {
     "data": {
      "image/png": "[encoded data removed]",
      "text/plain": [
       "<Figure size 432x288 with 1 Axes>"
      ]
     },
     "metadata": {
      "needs_background": "light"
     },
     "output_type": "display_data"
    }
   ],
   "source": [
    "roc(new_model_regression, features_valid_scaled, target_valid) #Просмотр результатов AUC-ROC лучшей модели  LogisticRegression\\\n"
   ]
  },
  {
   "cell_type": "markdown",
   "metadata": {},
   "source": [
    "Как мы можем увидеть, после увеличения количества строк, более правильного разделения данных, масштабирования признаков и взвешенного отношения к классам, значения метрики F1 увеличилось на всех моделях, лучшего всего показав себя снова в моделе RandomForestClassifier. Также у всех моделей увеличилась и метрика AUC-ROC, кроме DecisionTreeClassifier, где она, наоборот, уменьшилась. Возможно можно будет еще повысить точность модели RandomForestClassifier изменив порог классификации"
   ]
  },
  {
   "cell_type": "code",
   "execution_count": 33,
   "metadata": {
    "scrolled": false
   },
   "outputs": [
    {
     "name": "stdout",
     "output_type": "stream",
     "text": [
      "Лучшее значение f1_score: 0.8272506082725062 при threshold равному: 0.48\n"
     ]
    }
   ],
   "source": [
    "threshold(new_best_model_forest,features_valid_scaled,target_valid)"
   ]
  },
  {
   "cell_type": "markdown",
   "metadata": {},
   "source": [
    "Модель показывает еще более лучшие результаты при пороге раном 0.48"
   ]
  },
  {
   "cell_type": "markdown",
   "metadata": {},
   "source": [
    "## Тестирование модели"
   ]
  },
  {
   "cell_type": "code",
   "execution_count": 34,
   "metadata": {},
   "outputs": [
    {
     "data": {
      "text/plain": [
       "0.8155459592843923"
      ]
     },
     "execution_count": 34,
     "metadata": {},
     "output_type": "execute_result"
    }
   ],
   "source": [
    "prediction_test = new_best_model_forest.predict(features_test_scaled)\n",
    "f1 = f1_score(target_test,prediction_test)\n",
    "f1"
   ]
  },
  {
   "cell_type": "code",
   "execution_count": 35,
   "metadata": {},
   "outputs": [
    {
     "name": "stdout",
     "output_type": "stream",
     "text": [
      "Значение AUC-ROC: 0.9252284727276929\n"
     ]
    },
    {
     "data": {
      "image/png": "[encoded data removed]",
      "text/plain": [
       "<Figure size 432x288 with 1 Axes>"
      ]
     },
     "metadata": {
      "needs_background": "light"
     },
     "output_type": "display_data"
    }
   ],
   "source": [
    "roc(new_best_model_forest, features_test_scaled, target_test)"
   ]
  },
  {
   "cell_type": "markdown",
   "metadata": {},
   "source": [
    "По итогу работы и проверки на тестовой выборке,можно точно сказать, что модель предсказывает достаточно точно и полно целевой признак по данным. На тестовой выборке в метрике F1 модель RandomForestClassifier показала результат 0.815, что является намного большим количеством чем изначальная цель. Значение метрики AUC-ROC показали себя еще лучше и достигли 0.925 на тестовой выборке"
   ]
  }
 ],
 "metadata": {
  "ExecuteTimeLog": [
   {
    "duration": 1131,
    "start_time": "2022-06-01T15:50:13.015Z"
   },
   {
    "duration": 83,
    "start_time": "2022-06-01T15:50:52.742Z"
   },
   {
    "duration": 62,
    "start_time": "2022-06-01T15:50:56.748Z"
   },
   {
    "duration": 58,
    "start_time": "2022-06-01T15:51:18.748Z"
   },
   {
    "duration": 90,
    "start_time": "2022-06-01T15:51:29.023Z"
   },
   {
    "duration": 103,
    "start_time": "2022-06-01T15:51:49.639Z"
   },
   {
    "duration": 3,
    "start_time": "2022-06-01T15:53:52.102Z"
   },
   {
    "duration": 110,
    "start_time": "2022-06-01T16:07:00.475Z"
   },
   {
    "duration": 20,
    "start_time": "2022-06-01T16:07:26.756Z"
   },
   {
    "duration": 23,
    "start_time": "2022-06-01T16:07:30.155Z"
   },
   {
    "duration": 21,
    "start_time": "2022-06-01T16:07:35.492Z"
   },
   {
    "duration": 23,
    "start_time": "2022-06-01T16:07:55.538Z"
   },
   {
    "duration": 4,
    "start_time": "2022-06-01T16:08:18.237Z"
   },
   {
    "duration": 90,
    "start_time": "2022-06-01T16:08:18.245Z"
   },
   {
    "duration": 24,
    "start_time": "2022-06-01T16:08:18.337Z"
   },
   {
    "duration": 6,
    "start_time": "2022-06-01T16:10:55.691Z"
   },
   {
    "duration": 6,
    "start_time": "2022-06-01T16:11:37.921Z"
   },
   {
    "duration": 11,
    "start_time": "2022-06-01T16:11:56.788Z"
   },
   {
    "duration": 22,
    "start_time": "2022-06-01T16:12:09.841Z"
   },
   {
    "duration": 6,
    "start_time": "2022-06-01T16:12:37.968Z"
   },
   {
    "duration": 6,
    "start_time": "2022-06-01T16:12:47.993Z"
   },
   {
    "duration": 7,
    "start_time": "2022-06-01T16:13:38.759Z"
   },
   {
    "duration": 3,
    "start_time": "2022-06-01T16:13:43.443Z"
   },
   {
    "duration": 115,
    "start_time": "2022-06-01T16:13:43.448Z"
   },
   {
    "duration": 20,
    "start_time": "2022-06-01T16:13:43.565Z"
   },
   {
    "duration": 5,
    "start_time": "2022-06-01T16:13:43.587Z"
   },
   {
    "duration": 20,
    "start_time": "2022-06-01T16:14:39.544Z"
   },
   {
    "duration": 454,
    "start_time": "2022-06-01T16:16:38.748Z"
   },
   {
    "duration": 13,
    "start_time": "2022-06-01T16:17:04.976Z"
   },
   {
    "duration": 3,
    "start_time": "2022-06-01T16:17:12.946Z"
   },
   {
    "duration": 87,
    "start_time": "2022-06-01T16:17:12.960Z"
   },
   {
    "duration": 20,
    "start_time": "2022-06-01T16:17:13.049Z"
   },
   {
    "duration": 11,
    "start_time": "2022-06-01T16:17:13.070Z"
   },
   {
    "duration": 11,
    "start_time": "2022-06-01T16:17:13.083Z"
   },
   {
    "duration": 12,
    "start_time": "2022-06-01T16:17:13.095Z"
   },
   {
    "duration": 22,
    "start_time": "2022-06-01T16:17:24.593Z"
   },
   {
    "duration": 23,
    "start_time": "2022-06-01T16:18:42.976Z"
   },
   {
    "duration": 6,
    "start_time": "2022-06-01T16:21:38.050Z"
   },
   {
    "duration": 18,
    "start_time": "2022-06-01T16:25:16.106Z"
   },
   {
    "duration": 5,
    "start_time": "2022-06-01T16:25:27.874Z"
   },
   {
    "duration": 22,
    "start_time": "2022-06-01T16:25:31.800Z"
   },
   {
    "duration": 15,
    "start_time": "2022-06-01T16:25:43.401Z"
   },
   {
    "duration": 19,
    "start_time": "2022-06-01T16:26:00.446Z"
   },
   {
    "duration": 5,
    "start_time": "2022-06-01T16:26:13.537Z"
   },
   {
    "duration": 8,
    "start_time": "2022-06-01T16:26:17.847Z"
   },
   {
    "duration": 4,
    "start_time": "2022-06-01T16:31:40.466Z"
   },
   {
    "duration": 518,
    "start_time": "2022-06-01T16:32:24.092Z"
   },
   {
    "duration": 4,
    "start_time": "2022-06-01T16:32:43.365Z"
   },
   {
    "duration": 11,
    "start_time": "2022-06-01T16:32:43.370Z"
   },
   {
    "duration": 140,
    "start_time": "2022-06-01T16:32:43.383Z"
   },
   {
    "duration": 19,
    "start_time": "2022-06-01T16:32:43.526Z"
   },
   {
    "duration": 5,
    "start_time": "2022-06-01T16:32:43.551Z"
   },
   {
    "duration": 15,
    "start_time": "2022-06-01T16:32:43.559Z"
   },
   {
    "duration": 21,
    "start_time": "2022-06-01T16:32:43.576Z"
   },
   {
    "duration": 5,
    "start_time": "2022-06-01T16:32:43.599Z"
   },
   {
    "duration": 17,
    "start_time": "2022-06-01T16:32:43.606Z"
   },
   {
    "duration": 27,
    "start_time": "2022-06-01T16:32:53.607Z"
   },
   {
    "duration": 20,
    "start_time": "2022-06-01T16:33:14.084Z"
   },
   {
    "duration": 15,
    "start_time": "2022-06-01T16:38:59.755Z"
   },
   {
    "duration": 16,
    "start_time": "2022-06-01T16:39:16.815Z"
   },
   {
    "duration": 15,
    "start_time": "2022-06-01T16:39:25.676Z"
   },
   {
    "duration": 8,
    "start_time": "2022-06-01T16:43:19.559Z"
   },
   {
    "duration": 4,
    "start_time": "2022-06-01T16:43:22.929Z"
   },
   {
    "duration": 9,
    "start_time": "2022-06-01T16:43:22.935Z"
   },
   {
    "duration": 93,
    "start_time": "2022-06-01T16:43:22.946Z"
   },
   {
    "duration": 25,
    "start_time": "2022-06-01T16:43:23.041Z"
   },
   {
    "duration": 6,
    "start_time": "2022-06-01T16:43:23.068Z"
   },
   {
    "duration": 12,
    "start_time": "2022-06-01T16:43:23.076Z"
   },
   {
    "duration": 22,
    "start_time": "2022-06-01T16:43:23.089Z"
   },
   {
    "duration": 6,
    "start_time": "2022-06-01T16:43:23.112Z"
   },
   {
    "duration": 32,
    "start_time": "2022-06-01T16:43:23.120Z"
   },
   {
    "duration": 9,
    "start_time": "2022-06-01T16:43:23.154Z"
   },
   {
    "duration": 3,
    "start_time": "2022-06-01T16:46:20.845Z"
   },
   {
    "duration": 9,
    "start_time": "2022-06-01T16:46:20.851Z"
   },
   {
    "duration": 119,
    "start_time": "2022-06-01T16:46:20.862Z"
   },
   {
    "duration": 20,
    "start_time": "2022-06-01T16:46:20.984Z"
   },
   {
    "duration": 11,
    "start_time": "2022-06-01T16:46:21.006Z"
   },
   {
    "duration": 35,
    "start_time": "2022-06-01T16:46:21.019Z"
   },
   {
    "duration": 21,
    "start_time": "2022-06-01T16:46:21.056Z"
   },
   {
    "duration": 5,
    "start_time": "2022-06-01T16:46:21.079Z"
   },
   {
    "duration": 10,
    "start_time": "2022-06-01T16:46:21.086Z"
   },
   {
    "duration": 17,
    "start_time": "2022-06-01T16:46:21.097Z"
   },
   {
    "duration": 3,
    "start_time": "2022-06-01T16:46:57.121Z"
   },
   {
    "duration": 34,
    "start_time": "2022-06-01T16:53:52.003Z"
   },
   {
    "duration": 6,
    "start_time": "2022-06-01T16:54:14.760Z"
   },
   {
    "duration": 10,
    "start_time": "2022-06-01T16:54:14.768Z"
   },
   {
    "duration": 92,
    "start_time": "2022-06-01T16:54:14.780Z"
   },
   {
    "duration": 24,
    "start_time": "2022-06-01T16:54:14.875Z"
   },
   {
    "duration": 7,
    "start_time": "2022-06-01T16:54:14.901Z"
   },
   {
    "duration": 16,
    "start_time": "2022-06-01T16:54:14.911Z"
   },
   {
    "duration": 47,
    "start_time": "2022-06-01T16:54:14.929Z"
   },
   {
    "duration": 6,
    "start_time": "2022-06-01T16:54:14.977Z"
   },
   {
    "duration": 6,
    "start_time": "2022-06-01T16:54:14.984Z"
   },
   {
    "duration": 9,
    "start_time": "2022-06-01T16:54:14.992Z"
   },
   {
    "duration": 6,
    "start_time": "2022-06-01T16:54:15.003Z"
   },
   {
    "duration": 58,
    "start_time": "2022-06-01T16:54:15.012Z"
   },
   {
    "duration": 0,
    "start_time": "2022-06-01T16:54:15.072Z"
   },
   {
    "duration": 0,
    "start_time": "2022-06-01T16:54:15.073Z"
   },
   {
    "duration": 0,
    "start_time": "2022-06-01T16:54:15.074Z"
   },
   {
    "duration": 9,
    "start_time": "2022-06-01T16:54:26.775Z"
   },
   {
    "duration": 17,
    "start_time": "2022-06-01T16:54:30.399Z"
   },
   {
    "duration": 12,
    "start_time": "2022-06-01T16:54:38.026Z"
   },
   {
    "duration": 13,
    "start_time": "2022-06-01T16:54:40.840Z"
   },
   {
    "duration": 3,
    "start_time": "2022-06-01T16:54:44.929Z"
   },
   {
    "duration": 5,
    "start_time": "2022-06-01T16:54:44.937Z"
   },
   {
    "duration": 119,
    "start_time": "2022-06-01T16:54:44.945Z"
   },
   {
    "duration": 30,
    "start_time": "2022-06-01T16:54:45.066Z"
   },
   {
    "duration": 6,
    "start_time": "2022-06-01T16:54:45.099Z"
   },
   {
    "duration": 24,
    "start_time": "2022-06-01T16:54:45.107Z"
   },
   {
    "duration": 27,
    "start_time": "2022-06-01T16:54:45.134Z"
   },
   {
    "duration": 8,
    "start_time": "2022-06-01T16:54:45.164Z"
   },
   {
    "duration": 12,
    "start_time": "2022-06-01T16:54:45.174Z"
   },
   {
    "duration": 24,
    "start_time": "2022-06-01T16:54:45.189Z"
   },
   {
    "duration": 27,
    "start_time": "2022-06-01T16:54:45.215Z"
   },
   {
    "duration": 21,
    "start_time": "2022-06-01T16:54:45.244Z"
   },
   {
    "duration": 835,
    "start_time": "2022-06-01T16:54:45.270Z"
   },
   {
    "duration": 4,
    "start_time": "2022-06-01T18:29:30.972Z"
   },
   {
    "duration": 17,
    "start_time": "2022-06-01T18:29:30.978Z"
   },
   {
    "duration": 100,
    "start_time": "2022-06-01T18:29:30.997Z"
   },
   {
    "duration": 24,
    "start_time": "2022-06-01T18:29:31.099Z"
   },
   {
    "duration": 7,
    "start_time": "2022-06-01T18:29:31.125Z"
   },
   {
    "duration": 55,
    "start_time": "2022-06-01T18:29:31.133Z"
   },
   {
    "duration": 11,
    "start_time": "2022-06-01T18:29:31.190Z"
   },
   {
    "duration": 14,
    "start_time": "2022-06-01T18:29:31.203Z"
   },
   {
    "duration": 24,
    "start_time": "2022-06-01T18:29:31.219Z"
   },
   {
    "duration": 21,
    "start_time": "2022-06-01T18:29:31.245Z"
   },
   {
    "duration": 12,
    "start_time": "2022-06-01T18:29:31.267Z"
   },
   {
    "duration": 771,
    "start_time": "2022-06-01T18:29:31.280Z"
   },
   {
    "duration": 1196284,
    "start_time": "2022-06-01T18:29:32.058Z"
   },
   {
    "duration": 2521,
    "start_time": "2022-06-01T18:49:28.345Z"
   },
   {
    "duration": 86,
    "start_time": "2022-06-01T18:49:30.876Z"
   },
   {
    "duration": 7,
    "start_time": "2022-06-01T21:57:55.842Z"
   },
   {
    "duration": 55,
    "start_time": "2022-06-01T21:58:36.738Z"
   },
   {
    "duration": 1399,
    "start_time": "2022-06-01T21:58:45.509Z"
   },
   {
    "duration": 6,
    "start_time": "2022-06-01T21:58:46.910Z"
   },
   {
    "duration": 151,
    "start_time": "2022-06-01T21:58:46.918Z"
   },
   {
    "duration": 21,
    "start_time": "2022-06-01T21:58:47.071Z"
   },
   {
    "duration": 7,
    "start_time": "2022-06-01T21:58:47.100Z"
   },
   {
    "duration": 14,
    "start_time": "2022-06-01T21:58:47.109Z"
   },
   {
    "duration": 9,
    "start_time": "2022-06-01T21:58:47.125Z"
   },
   {
    "duration": 5,
    "start_time": "2022-06-01T21:58:47.136Z"
   },
   {
    "duration": 8,
    "start_time": "2022-06-01T21:58:47.143Z"
   },
   {
    "duration": 46,
    "start_time": "2022-06-01T21:58:47.153Z"
   },
   {
    "duration": 4,
    "start_time": "2022-06-01T21:58:47.201Z"
   },
   {
    "duration": 787,
    "start_time": "2022-06-01T21:58:47.206Z"
   },
   {
    "duration": 1014,
    "start_time": "2022-06-01T22:04:50.695Z"
   },
   {
    "duration": 7,
    "start_time": "2022-06-01T22:04:51.711Z"
   },
   {
    "duration": 142,
    "start_time": "2022-06-01T22:04:51.720Z"
   },
   {
    "duration": 27,
    "start_time": "2022-06-01T22:04:51.865Z"
   },
   {
    "duration": 7,
    "start_time": "2022-06-01T22:04:51.895Z"
   },
   {
    "duration": 30,
    "start_time": "2022-06-01T22:04:51.904Z"
   },
   {
    "duration": 20,
    "start_time": "2022-06-01T22:04:51.937Z"
   },
   {
    "duration": 10,
    "start_time": "2022-06-01T22:04:51.960Z"
   },
   {
    "duration": 27,
    "start_time": "2022-06-01T22:04:51.973Z"
   },
   {
    "duration": 11,
    "start_time": "2022-06-01T22:04:52.002Z"
   },
   {
    "duration": 4,
    "start_time": "2022-06-01T22:04:52.015Z"
   },
   {
    "duration": 809,
    "start_time": "2022-06-01T22:04:52.020Z"
   },
   {
    "duration": 136016,
    "start_time": "2022-06-01T22:04:52.830Z"
   },
   {
    "duration": 166,
    "start_time": "2022-06-01T22:07:08.848Z"
   },
   {
    "duration": 87,
    "start_time": "2022-06-01T22:07:09.016Z"
   },
   {
    "duration": 208,
    "start_time": "2022-06-01T22:07:09.110Z"
   },
   {
    "duration": 7,
    "start_time": "2022-06-01T22:07:48.199Z"
   },
   {
    "duration": 25,
    "start_time": "2022-06-01T22:08:01.955Z"
   },
   {
    "duration": 726,
    "start_time": "2022-06-01T22:08:15.631Z"
   },
   {
    "duration": 131,
    "start_time": "2022-06-01T22:08:19.763Z"
   },
   {
    "duration": 151,
    "start_time": "2022-06-01T22:08:40.158Z"
   },
   {
    "duration": 328,
    "start_time": "2022-06-01T22:09:00.871Z"
   },
   {
    "duration": 9,
    "start_time": "2022-06-01T22:14:11.358Z"
   },
   {
    "duration": 8,
    "start_time": "2022-06-01T22:14:14.770Z"
   },
   {
    "duration": 126,
    "start_time": "2022-06-01T22:14:52.363Z"
   },
   {
    "duration": 208,
    "start_time": "2022-06-01T22:20:01.855Z"
   },
   {
    "duration": 15,
    "start_time": "2022-06-01T22:21:10.729Z"
   },
   {
    "duration": 23,
    "start_time": "2022-06-01T22:21:30.817Z"
   },
   {
    "duration": 16,
    "start_time": "2022-06-01T22:21:47.762Z"
   },
   {
    "duration": 11,
    "start_time": "2022-06-01T22:21:58.586Z"
   },
   {
    "duration": 22,
    "start_time": "2022-06-01T22:22:07.588Z"
   },
   {
    "duration": 11,
    "start_time": "2022-06-01T22:22:15.044Z"
   },
   {
    "duration": 20,
    "start_time": "2022-06-01T22:22:19.447Z"
   },
   {
    "duration": 4,
    "start_time": "2022-06-01T22:24:16.154Z"
   },
   {
    "duration": 24,
    "start_time": "2022-06-01T22:26:06.564Z"
   },
   {
    "duration": 18,
    "start_time": "2022-06-01T22:26:16.825Z"
   },
   {
    "duration": 21,
    "start_time": "2022-06-01T22:26:33.219Z"
   },
   {
    "duration": 28,
    "start_time": "2022-06-01T22:26:39.711Z"
   },
   {
    "duration": 6,
    "start_time": "2022-06-01T22:26:50.443Z"
   },
   {
    "duration": 6,
    "start_time": "2022-06-01T22:26:57.100Z"
   },
   {
    "duration": 21,
    "start_time": "2022-06-01T22:28:51.617Z"
   },
   {
    "duration": 3,
    "start_time": "2022-06-01T22:28:57.122Z"
   },
   {
    "duration": 13,
    "start_time": "2022-06-01T22:29:01.317Z"
   },
   {
    "duration": 16,
    "start_time": "2022-06-01T22:29:06.650Z"
   },
   {
    "duration": 4,
    "start_time": "2022-06-01T22:40:10.521Z"
   },
   {
    "duration": 973,
    "start_time": "2022-06-01T22:40:11.584Z"
   },
   {
    "duration": 291,
    "start_time": "2022-06-01T22:42:33.912Z"
   },
   {
    "duration": 5,
    "start_time": "2022-06-01T22:44:07.894Z"
   },
   {
    "duration": 604400,
    "start_time": "2022-06-01T22:44:32.415Z"
   },
   {
    "duration": 12,
    "start_time": "2022-06-01T22:54:36.823Z"
   },
   {
    "duration": 240,
    "start_time": "2022-06-01T22:56:29.663Z"
   },
   {
    "duration": 238,
    "start_time": "2022-06-01T22:56:38.090Z"
   },
   {
    "duration": 143,
    "start_time": "2022-06-01T22:57:13.083Z"
   },
   {
    "duration": 193,
    "start_time": "2022-06-01T22:57:20.761Z"
   },
   {
    "duration": 246,
    "start_time": "2022-06-01T22:57:32.845Z"
   },
   {
    "duration": 249,
    "start_time": "2022-06-01T22:58:01.030Z"
   },
   {
    "duration": 295,
    "start_time": "2022-06-01T22:58:38.345Z"
   },
   {
    "duration": 123,
    "start_time": "2022-06-01T22:59:24.501Z"
   },
   {
    "duration": 188,
    "start_time": "2022-06-01T22:59:25.947Z"
   },
   {
    "duration": 126,
    "start_time": "2022-06-01T22:59:29.951Z"
   },
   {
    "duration": 246,
    "start_time": "2022-06-01T22:59:33.242Z"
   },
   {
    "duration": 170,
    "start_time": "2022-06-01T22:59:37.611Z"
   },
   {
    "duration": 122,
    "start_time": "2022-06-01T22:59:42.063Z"
   },
   {
    "duration": 294,
    "start_time": "2022-06-01T23:00:01.740Z"
   },
   {
    "duration": 315,
    "start_time": "2022-06-01T23:00:13.486Z"
   },
   {
    "duration": 4,
    "start_time": "2022-06-01T23:06:58.116Z"
   },
   {
    "duration": 8,
    "start_time": "2022-06-01T23:10:45.900Z"
   },
   {
    "duration": 70,
    "start_time": "2022-06-01T23:11:14.645Z"
   },
   {
    "duration": 71,
    "start_time": "2022-06-01T23:11:16.970Z"
   },
   {
    "duration": 7,
    "start_time": "2022-06-01T23:11:24.631Z"
   },
   {
    "duration": 8,
    "start_time": "2022-06-01T23:11:35.813Z"
   },
   {
    "duration": 72,
    "start_time": "2022-06-01T23:11:38.892Z"
   },
   {
    "duration": 69,
    "start_time": "2022-06-01T23:12:26.098Z"
   },
   {
    "duration": 8,
    "start_time": "2022-06-01T23:13:09.548Z"
   },
   {
    "duration": 33,
    "start_time": "2022-06-01T23:13:13.767Z"
   },
   {
    "duration": 78,
    "start_time": "2022-06-01T23:13:16.492Z"
   },
   {
    "duration": 3,
    "start_time": "2022-06-01T23:13:26.931Z"
   },
   {
    "duration": 10,
    "start_time": "2022-06-01T23:13:28.293Z"
   },
   {
    "duration": 74,
    "start_time": "2022-06-01T23:13:31.854Z"
   },
   {
    "duration": 11,
    "start_time": "2022-06-01T23:14:18.670Z"
   },
   {
    "duration": 121,
    "start_time": "2022-06-01T23:14:29.111Z"
   },
   {
    "duration": 8,
    "start_time": "2022-06-01T23:15:30.627Z"
   },
   {
    "duration": 124,
    "start_time": "2022-06-01T23:15:33.659Z"
   },
   {
    "duration": 12,
    "start_time": "2022-06-01T23:17:11.691Z"
   },
   {
    "duration": 64,
    "start_time": "2022-06-01T23:24:35.870Z"
   },
   {
    "duration": 228,
    "start_time": "2022-06-01T23:25:20.485Z"
   },
   {
    "duration": 1137,
    "start_time": "2022-06-01T23:28:43.030Z"
   },
   {
    "duration": 80,
    "start_time": "2022-06-01T23:28:44.171Z"
   },
   {
    "duration": 135,
    "start_time": "2022-06-01T23:28:44.253Z"
   },
   {
    "duration": 27,
    "start_time": "2022-06-01T23:28:44.391Z"
   },
   {
    "duration": 8,
    "start_time": "2022-06-01T23:28:44.420Z"
   },
   {
    "duration": 22,
    "start_time": "2022-06-01T23:28:44.429Z"
   },
   {
    "duration": 12,
    "start_time": "2022-06-01T23:28:44.453Z"
   },
   {
    "duration": 36,
    "start_time": "2022-06-01T23:28:44.467Z"
   },
   {
    "duration": 6,
    "start_time": "2022-06-01T23:28:44.505Z"
   },
   {
    "duration": 45,
    "start_time": "2022-06-01T23:28:44.514Z"
   },
   {
    "duration": 10,
    "start_time": "2022-06-01T23:28:44.561Z"
   },
   {
    "duration": 839,
    "start_time": "2022-06-01T23:28:44.573Z"
   },
   {
    "duration": 43509,
    "start_time": "2022-06-01T23:28:45.414Z"
   },
   {
    "duration": 383,
    "start_time": "2022-06-01T23:29:28.925Z"
   },
   {
    "duration": 91,
    "start_time": "2022-06-01T23:29:29.310Z"
   },
   {
    "duration": 233,
    "start_time": "2022-06-01T23:29:29.403Z"
   },
   {
    "duration": 151,
    "start_time": "2022-06-01T23:29:29.638Z"
   },
   {
    "duration": 316,
    "start_time": "2022-06-01T23:29:29.799Z"
   },
   {
    "duration": 19,
    "start_time": "2022-06-01T23:29:30.118Z"
   },
   {
    "duration": 15,
    "start_time": "2022-06-01T23:29:30.139Z"
   },
   {
    "duration": 15,
    "start_time": "2022-06-01T23:29:30.156Z"
   },
   {
    "duration": 35,
    "start_time": "2022-06-01T23:29:30.173Z"
   },
   {
    "duration": 895,
    "start_time": "2022-06-01T23:29:30.209Z"
   },
   {
    "duration": 18657,
    "start_time": "2022-06-01T23:29:31.106Z"
   },
   {
    "duration": 244,
    "start_time": "2022-06-01T23:29:49.764Z"
   },
   {
    "duration": 95,
    "start_time": "2022-06-01T23:29:50.012Z"
   },
   {
    "duration": 209,
    "start_time": "2022-06-01T23:29:50.110Z"
   },
   {
    "duration": 150,
    "start_time": "2022-06-01T23:29:50.323Z"
   },
   {
    "duration": 293,
    "start_time": "2022-06-01T23:29:50.475Z"
   },
   {
    "duration": 89,
    "start_time": "2022-06-01T23:29:50.770Z"
   },
   {
    "duration": 21,
    "start_time": "2022-06-01T23:29:50.860Z"
   },
   {
    "duration": 164,
    "start_time": "2022-06-01T23:29:50.884Z"
   },
   {
    "duration": 91,
    "start_time": "2022-06-01T23:38:03.885Z"
   },
   {
    "duration": 83,
    "start_time": "2022-06-01T23:38:05.707Z"
   },
   {
    "duration": 1261,
    "start_time": "2022-06-01T23:38:40.397Z"
   },
   {
    "duration": 78,
    "start_time": "2022-06-01T23:38:41.662Z"
   },
   {
    "duration": 182,
    "start_time": "2022-06-01T23:38:41.743Z"
   },
   {
    "duration": 21,
    "start_time": "2022-06-01T23:38:41.927Z"
   },
   {
    "duration": 6,
    "start_time": "2022-06-01T23:38:41.950Z"
   },
   {
    "duration": 18,
    "start_time": "2022-06-01T23:38:41.958Z"
   },
   {
    "duration": 29,
    "start_time": "2022-06-01T23:38:41.978Z"
   },
   {
    "duration": 11,
    "start_time": "2022-06-01T23:38:42.009Z"
   },
   {
    "duration": 7,
    "start_time": "2022-06-01T23:38:42.021Z"
   },
   {
    "duration": 9,
    "start_time": "2022-06-01T23:38:42.031Z"
   },
   {
    "duration": 3,
    "start_time": "2022-06-01T23:38:42.042Z"
   },
   {
    "duration": 841,
    "start_time": "2022-06-01T23:38:42.047Z"
   },
   {
    "duration": 42883,
    "start_time": "2022-06-01T23:38:42.889Z"
   },
   {
    "duration": 529,
    "start_time": "2022-06-01T23:39:25.773Z"
   },
   {
    "duration": 6,
    "start_time": "2022-06-01T23:39:26.304Z"
   },
   {
    "duration": 142,
    "start_time": "2022-06-01T23:39:26.400Z"
   },
   {
    "duration": 143,
    "start_time": "2022-06-01T23:39:26.544Z"
   },
   {
    "duration": 322,
    "start_time": "2022-06-01T23:39:26.689Z"
   },
   {
    "duration": 16,
    "start_time": "2022-06-01T23:39:27.012Z"
   },
   {
    "duration": 14,
    "start_time": "2022-06-01T23:39:27.029Z"
   },
   {
    "duration": 12,
    "start_time": "2022-06-01T23:39:27.045Z"
   },
   {
    "duration": 3,
    "start_time": "2022-06-01T23:39:27.058Z"
   },
   {
    "duration": 898,
    "start_time": "2022-06-01T23:39:27.063Z"
   },
   {
    "duration": 18505,
    "start_time": "2022-06-01T23:39:27.963Z"
   },
   {
    "duration": 331,
    "start_time": "2022-06-01T23:39:46.469Z"
   },
   {
    "duration": 102,
    "start_time": "2022-06-01T23:39:46.802Z"
   },
   {
    "duration": 139,
    "start_time": "2022-06-01T23:39:46.906Z"
   },
   {
    "duration": 179,
    "start_time": "2022-06-01T23:39:47.049Z"
   },
   {
    "duration": 284,
    "start_time": "2022-06-01T23:39:47.230Z"
   },
   {
    "duration": 93,
    "start_time": "2022-06-01T23:39:47.515Z"
   },
   {
    "duration": 18,
    "start_time": "2022-06-01T23:39:47.610Z"
   },
   {
    "duration": 157,
    "start_time": "2022-06-01T23:39:47.630Z"
   },
   {
    "duration": 1227,
    "start_time": "2022-06-02T12:14:37.204Z"
   },
   {
    "duration": 72,
    "start_time": "2022-06-02T12:14:38.434Z"
   },
   {
    "duration": 137,
    "start_time": "2022-06-02T12:14:38.507Z"
   },
   {
    "duration": 18,
    "start_time": "2022-06-02T12:14:52.421Z"
   },
   {
    "duration": 140,
    "start_time": "2022-06-02T12:17:01.184Z"
   },
   {
    "duration": 10,
    "start_time": "2022-06-02T12:17:14.523Z"
   },
   {
    "duration": 9,
    "start_time": "2022-06-02T12:17:55.317Z"
   },
   {
    "duration": 27,
    "start_time": "2022-06-02T12:18:15.226Z"
   },
   {
    "duration": 23,
    "start_time": "2022-06-02T12:20:19.180Z"
   },
   {
    "duration": 21,
    "start_time": "2022-06-02T12:20:29.911Z"
   },
   {
    "duration": 22,
    "start_time": "2022-06-02T12:20:44.384Z"
   },
   {
    "duration": 250,
    "start_time": "2022-06-02T12:21:17.904Z"
   },
   {
    "duration": 3,
    "start_time": "2022-06-02T12:28:45.373Z"
   },
   {
    "duration": 13,
    "start_time": "2022-06-02T12:28:45.378Z"
   },
   {
    "duration": 94,
    "start_time": "2022-06-02T12:28:45.392Z"
   },
   {
    "duration": 18,
    "start_time": "2022-06-02T12:28:45.488Z"
   },
   {
    "duration": 5,
    "start_time": "2022-06-02T12:28:45.508Z"
   },
   {
    "duration": 12,
    "start_time": "2022-06-02T12:28:45.515Z"
   },
   {
    "duration": 10,
    "start_time": "2022-06-02T12:28:45.529Z"
   },
   {
    "duration": 5,
    "start_time": "2022-06-02T12:28:45.540Z"
   },
   {
    "duration": 6,
    "start_time": "2022-06-02T12:28:45.547Z"
   },
   {
    "duration": 44,
    "start_time": "2022-06-02T12:28:45.554Z"
   },
   {
    "duration": 4,
    "start_time": "2022-06-02T12:28:48.199Z"
   },
   {
    "duration": 4,
    "start_time": "2022-06-02T12:35:34.440Z"
   },
   {
    "duration": 5,
    "start_time": "2022-06-02T12:36:00.288Z"
   },
   {
    "duration": 4727,
    "start_time": "2022-06-02T12:39:24.674Z"
   },
   {
    "duration": 11802,
    "start_time": "2022-06-02T12:40:28.890Z"
   },
   {
    "duration": 40,
    "start_time": "2022-06-02T12:42:03.080Z"
   },
   {
    "duration": 4,
    "start_time": "2022-06-02T12:44:30.797Z"
   },
   {
    "duration": 24,
    "start_time": "2022-06-02T12:44:30.806Z"
   },
   {
    "duration": 109,
    "start_time": "2022-06-02T12:44:30.832Z"
   },
   {
    "duration": 19,
    "start_time": "2022-06-02T12:44:30.943Z"
   },
   {
    "duration": 28,
    "start_time": "2022-06-02T12:44:30.964Z"
   },
   {
    "duration": 11,
    "start_time": "2022-06-02T12:44:30.993Z"
   },
   {
    "duration": 8,
    "start_time": "2022-06-02T12:44:31.006Z"
   },
   {
    "duration": 6,
    "start_time": "2022-06-02T12:44:31.017Z"
   },
   {
    "duration": 12,
    "start_time": "2022-06-02T12:44:31.024Z"
   },
   {
    "duration": 11,
    "start_time": "2022-06-02T12:44:31.037Z"
   },
   {
    "duration": 18,
    "start_time": "2022-06-02T12:44:31.050Z"
   },
   {
    "duration": 713,
    "start_time": "2022-06-02T12:44:31.069Z"
   },
   {
    "duration": 37905,
    "start_time": "2022-06-02T12:44:31.783Z"
   },
   {
    "duration": 801,
    "start_time": "2022-06-02T12:45:09.691Z"
   },
   {
    "duration": 98,
    "start_time": "2022-06-02T12:45:10.494Z"
   },
   {
    "duration": 128,
    "start_time": "2022-06-02T12:45:10.594Z"
   },
   {
    "duration": 120,
    "start_time": "2022-06-02T12:45:10.724Z"
   },
   {
    "duration": 268,
    "start_time": "2022-06-02T12:45:10.846Z"
   },
   {
    "duration": 558,
    "start_time": "2022-06-02T12:45:11.117Z"
   },
   {
    "duration": 1533,
    "start_time": "2022-06-02T14:24:40.621Z"
   },
   {
    "duration": 81,
    "start_time": "2022-06-02T14:32:17.669Z"
   },
   {
    "duration": 117,
    "start_time": "2022-06-02T14:32:23.332Z"
   },
   {
    "duration": 4,
    "start_time": "2022-06-02T14:33:05.043Z"
   },
   {
    "duration": 13,
    "start_time": "2022-06-02T14:33:05.049Z"
   },
   {
    "duration": 165,
    "start_time": "2022-06-02T14:33:05.064Z"
   },
   {
    "duration": 21,
    "start_time": "2022-06-02T14:33:05.230Z"
   },
   {
    "duration": 9,
    "start_time": "2022-06-02T14:33:05.253Z"
   },
   {
    "duration": 21,
    "start_time": "2022-06-02T14:33:05.280Z"
   },
   {
    "duration": 10,
    "start_time": "2022-06-02T14:33:05.302Z"
   },
   {
    "duration": 5,
    "start_time": "2022-06-02T14:33:05.314Z"
   },
   {
    "duration": 12,
    "start_time": "2022-06-02T14:33:05.321Z"
   },
   {
    "duration": 10,
    "start_time": "2022-06-02T14:33:05.334Z"
   },
   {
    "duration": 2,
    "start_time": "2022-06-02T14:33:05.347Z"
   },
   {
    "duration": 860,
    "start_time": "2022-06-02T14:33:05.351Z"
   },
   {
    "duration": 47081,
    "start_time": "2022-06-02T14:33:06.212Z"
   },
   {
    "duration": 1708,
    "start_time": "2022-06-02T14:33:53.294Z"
   },
   {
    "duration": 11,
    "start_time": "2022-06-02T14:33:55.084Z"
   },
   {
    "duration": 646,
    "start_time": "2022-06-02T14:33:55.097Z"
   },
   {
    "duration": 152,
    "start_time": "2022-06-02T14:33:55.745Z"
   },
   {
    "duration": 304,
    "start_time": "2022-06-02T14:33:55.899Z"
   },
   {
    "duration": 16,
    "start_time": "2022-06-02T14:33:56.205Z"
   },
   {
    "duration": 13,
    "start_time": "2022-06-02T14:33:56.223Z"
   },
   {
    "duration": 15,
    "start_time": "2022-06-02T14:33:56.238Z"
   },
   {
    "duration": 3,
    "start_time": "2022-06-02T14:33:56.255Z"
   },
   {
    "duration": 970,
    "start_time": "2022-06-02T14:33:56.292Z"
   },
   {
    "duration": 19731,
    "start_time": "2022-06-02T14:33:57.264Z"
   },
   {
    "duration": 93,
    "start_time": "2022-06-02T14:34:16.997Z"
   },
   {
    "duration": 208,
    "start_time": "2022-06-02T14:34:17.092Z"
   },
   {
    "duration": 131,
    "start_time": "2022-06-02T14:34:17.302Z"
   },
   {
    "duration": 167,
    "start_time": "2022-06-02T14:34:17.435Z"
   },
   {
    "duration": 298,
    "start_time": "2022-06-02T14:34:17.606Z"
   },
   {
    "duration": 93,
    "start_time": "2022-06-02T14:34:17.906Z"
   },
   {
    "duration": 18,
    "start_time": "2022-06-02T14:34:18.001Z"
   },
   {
    "duration": 156,
    "start_time": "2022-06-02T14:34:18.021Z"
   },
   {
    "duration": 13,
    "start_time": "2022-06-02T14:38:11.482Z"
   },
   {
    "duration": 1601,
    "start_time": "2022-08-19T20:35:45.908Z"
   }
  ],
  "kernelspec": {
   "display_name": "Python 3 (ipykernel)",
   "language": "python",
   "name": "python3"
  },
  "language_info": {
   "codemirror_mode": {
    "name": "ipython",
    "version": 3
   },
   "file_extension": ".py",
   "mimetype": "text/x-python",
   "name": "python",
   "nbconvert_exporter": "python",
   "pygments_lexer": "ipython3",
   "version": "3.9.12"
  },
  "toc": {
   "base_numbering": 1,
   "nav_menu": {},
   "number_sections": true,
   "sideBar": true,
   "skip_h1_title": true,
   "title_cell": "Содержание",
   "title_sidebar": "Contents",
   "toc_cell": true,
   "toc_position": {},
   "toc_section_display": true,
   "toc_window_display": true
  }
 },
 "nbformat": 4,
 "nbformat_minor": 2
}
