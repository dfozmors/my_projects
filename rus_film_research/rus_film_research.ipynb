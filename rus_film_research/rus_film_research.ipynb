{
 "cells": [
  {
   "cell_type": "markdown",
   "metadata": {
    "id": "sIfNaMOxgFyK"
   },
   "source": [
    "## Исследование данных о российском кинопрокате\n",
    "\n"
   ]
  },
  {
   "cell_type": "markdown",
   "metadata": {
    "id": "3bSlkCsbgFyL"
   },
   "source": [
    "### Первоначальное изучение данных и объединение их в один датафрейм. \n"
   ]
  },
  {
   "cell_type": "code",
   "execution_count": 1,
   "metadata": {
    "id": "dw87FlzMgFyM"
   },
   "outputs": [],
   "source": [
    "import pandas as pd #Импорт библитеки pandas\n",
    "import matplotlib.pyplot as plt #Импорт библиотеки matplotlib\n",
    "import numpy as np #Импорт библиотеки numpy"
   ]
  },
  {
   "cell_type": "code",
   "execution_count": 2,
   "metadata": {},
   "outputs": [],
   "source": [
    "pd.options.display.float_format = '{:.2f}'.format"
   ]
  },
  {
   "cell_type": "code",
   "execution_count": 3,
   "metadata": {},
   "outputs": [],
   "source": [
    "def uniquev(df_type,column): #функция для подсчета уникальных значений столбца\n",
    "    print(df_type[column].value_counts())\n",
    "    \n",
    "    \n",
    "def division(column_name,column_old): #функция для разделения строки и вывода первого значения в новый столбец\n",
    "     df[column_name] = df[column_old].str.split(',',n=1)\n",
    "     df[column_name] = df[column_old].str.split(',',n=1,expand=True)\n",
    "    \n",
    "def plotting(df,kind_plot,column):\n",
    "    df.plot(y=column,kind=kind_plot,grid=True)\n",
    "    \n",
    "def boxplotting(column):\n",
    "    df[column].boxplot()"
   ]
  },
  {
   "cell_type": "code",
   "execution_count": 4,
   "metadata": {},
   "outputs": [],
   "source": [
    "df = pd.read_csv('/datasets/mkrf_movies.csv')\n",
    "df_2 = pd.read_csv('/datasets/mkrf_shows.csv')"
   ]
  },
  {
   "cell_type": "code",
   "execution_count": 5,
   "metadata": {},
   "outputs": [
    {
     "name": "stdout",
     "output_type": "stream",
     "text": [
      "<class 'pandas.core.frame.DataFrame'>\n",
      "RangeIndex: 7486 entries, 0 to 7485\n",
      "Data columns (total 15 columns):\n",
      " #   Column                 Non-Null Count  Dtype  \n",
      "---  ------                 --------------  -----  \n",
      " 0   title                  7486 non-null   object \n",
      " 1   puNumber               7486 non-null   object \n",
      " 2   show_start_date        7486 non-null   object \n",
      " 3   type                   7486 non-null   object \n",
      " 4   film_studio            7468 non-null   object \n",
      " 5   production_country     7484 non-null   object \n",
      " 6   director               7477 non-null   object \n",
      " 7   producer               6918 non-null   object \n",
      " 8   age_restriction        7486 non-null   object \n",
      " 9   refundable_support     332 non-null    float64\n",
      " 10  nonrefundable_support  332 non-null    float64\n",
      " 11  budget                 332 non-null    float64\n",
      " 12  financing_source       332 non-null    object \n",
      " 13  ratings                6519 non-null   object \n",
      " 14  genres                 6510 non-null   object \n",
      "dtypes: float64(3), object(12)\n",
      "memory usage: 877.4+ KB\n",
      "<class 'pandas.core.frame.DataFrame'>\n",
      "RangeIndex: 3158 entries, 0 to 3157\n",
      "Data columns (total 2 columns):\n",
      " #   Column      Non-Null Count  Dtype  \n",
      "---  ------      --------------  -----  \n",
      " 0   puNumber    3158 non-null   int64  \n",
      " 1   box_office  3158 non-null   float64\n",
      "dtypes: float64(1), int64(1)\n",
      "memory usage: 49.5 KB\n"
     ]
    }
   ],
   "source": [
    "df.info()\n",
    "df_2.info()"
   ]
  },
  {
   "cell_type": "code",
   "execution_count": 6,
   "metadata": {},
   "outputs": [
    {
     "data": {
      "text/html": [
       "<div>\n",
       "<style scoped>\n",
       "    .dataframe tbody tr th:only-of-type {\n",
       "        vertical-align: middle;\n",
       "    }\n",
       "\n",
       "    .dataframe tbody tr th {\n",
       "        vertical-align: top;\n",
       "    }\n",
       "\n",
       "    .dataframe thead th {\n",
       "        text-align: right;\n",
       "    }\n",
       "</style>\n",
       "<table border=\"1\" class=\"dataframe\">\n",
       "  <thead>\n",
       "    <tr style=\"text-align: right;\">\n",
       "      <th></th>\n",
       "      <th>title</th>\n",
       "      <th>puNumber</th>\n",
       "      <th>show_start_date</th>\n",
       "      <th>type</th>\n",
       "      <th>film_studio</th>\n",
       "      <th>production_country</th>\n",
       "      <th>director</th>\n",
       "      <th>producer</th>\n",
       "      <th>age_restriction</th>\n",
       "      <th>refundable_support</th>\n",
       "      <th>nonrefundable_support</th>\n",
       "      <th>budget</th>\n",
       "      <th>financing_source</th>\n",
       "      <th>ratings</th>\n",
       "      <th>genres</th>\n",
       "    </tr>\n",
       "  </thead>\n",
       "  <tbody>\n",
       "    <tr>\n",
       "      <th>0</th>\n",
       "      <td>Открытый простор</td>\n",
       "      <td>221048915</td>\n",
       "      <td>2015-11-27T12:00:00.000Z</td>\n",
       "      <td>Художественный</td>\n",
       "      <td>Тачстоун Пикчерз, Кобальт Пикчерз, Бикон Пикче...</td>\n",
       "      <td>США</td>\n",
       "      <td>Кевин Костнер</td>\n",
       "      <td>Дэвид Валдес, Кевин Костнер, Джейк Эбертс</td>\n",
       "      <td>«18+» - запрещено для детей</td>\n",
       "      <td>NaN</td>\n",
       "      <td>NaN</td>\n",
       "      <td>NaN</td>\n",
       "      <td>NaN</td>\n",
       "      <td>7.2</td>\n",
       "      <td>боевик,драма,мелодрама</td>\n",
       "    </tr>\n",
       "    <tr>\n",
       "      <th>1</th>\n",
       "      <td>Особо важное задание</td>\n",
       "      <td>111013716</td>\n",
       "      <td>2016-09-13T12:00:00.000Z</td>\n",
       "      <td>Художественный</td>\n",
       "      <td>Киностудия \"Мосфильм\"</td>\n",
       "      <td>СССР</td>\n",
       "      <td>Е.Матвеев</td>\n",
       "      <td>NaN</td>\n",
       "      <td>«6+» - для детей старше 6 лет</td>\n",
       "      <td>NaN</td>\n",
       "      <td>NaN</td>\n",
       "      <td>NaN</td>\n",
       "      <td>NaN</td>\n",
       "      <td>6.6</td>\n",
       "      <td>драма,военный</td>\n",
       "    </tr>\n",
       "    <tr>\n",
       "      <th>2</th>\n",
       "      <td>Особо опасен</td>\n",
       "      <td>221038416</td>\n",
       "      <td>2016-10-10T12:00:00.000Z</td>\n",
       "      <td>Художественный</td>\n",
       "      <td>Юниверсал Пикчерз, Кикстарт Продакшнз, Марк Пл...</td>\n",
       "      <td>США</td>\n",
       "      <td>Тимур Бекмамбетов</td>\n",
       "      <td>Джим Лемли, Джейсон Нетер, Марк Е.Платт, Яйн Смит</td>\n",
       "      <td>«18+» - запрещено для детей</td>\n",
       "      <td>NaN</td>\n",
       "      <td>NaN</td>\n",
       "      <td>NaN</td>\n",
       "      <td>NaN</td>\n",
       "      <td>6.8</td>\n",
       "      <td>фантастика,боевик,триллер</td>\n",
       "    </tr>\n",
       "    <tr>\n",
       "      <th>3</th>\n",
       "      <td>Особо опасен</td>\n",
       "      <td>221026916</td>\n",
       "      <td>2016-06-10T12:00:00.000Z</td>\n",
       "      <td>Художественный</td>\n",
       "      <td>Юниверсал Пикчерз, Кикстарт Продакшнз, Марк Пл...</td>\n",
       "      <td>США</td>\n",
       "      <td>Тимур Бекмамбетов</td>\n",
       "      <td>Джим Лемли, Джейсон Нетер, Марк Е.Платт, Яйн Смит</td>\n",
       "      <td>«18+» - запрещено для детей</td>\n",
       "      <td>NaN</td>\n",
       "      <td>NaN</td>\n",
       "      <td>NaN</td>\n",
       "      <td>NaN</td>\n",
       "      <td>6.8</td>\n",
       "      <td>фантастика,боевик,триллер</td>\n",
       "    </tr>\n",
       "    <tr>\n",
       "      <th>4</th>\n",
       "      <td>Особо опасен</td>\n",
       "      <td>221030815</td>\n",
       "      <td>2015-07-29T12:00:00.000Z</td>\n",
       "      <td>Художественный</td>\n",
       "      <td>Юниверсал Пикчерз, Кикстарт Продакшнз, Марк Пл...</td>\n",
       "      <td>США</td>\n",
       "      <td>Тимур Бекмамбетов</td>\n",
       "      <td>Джим Лемли, Джейсон Нетер, Марк Е.Платт, Яйн Смит</td>\n",
       "      <td>«18+» - запрещено для детей</td>\n",
       "      <td>NaN</td>\n",
       "      <td>NaN</td>\n",
       "      <td>NaN</td>\n",
       "      <td>NaN</td>\n",
       "      <td>6.8</td>\n",
       "      <td>фантастика,боевик,триллер</td>\n",
       "    </tr>\n",
       "  </tbody>\n",
       "</table>\n",
       "</div>"
      ],
      "text/plain": [
       "                  title   puNumber           show_start_date            type  \\\n",
       "0      Открытый простор  221048915  2015-11-27T12:00:00.000Z  Художественный   \n",
       "1  Особо важное задание  111013716  2016-09-13T12:00:00.000Z  Художественный   \n",
       "2          Особо опасен  221038416  2016-10-10T12:00:00.000Z  Художественный   \n",
       "3          Особо опасен  221026916  2016-06-10T12:00:00.000Z  Художественный   \n",
       "4          Особо опасен  221030815  2015-07-29T12:00:00.000Z  Художественный   \n",
       "\n",
       "                                         film_studio production_country  \\\n",
       "0  Тачстоун Пикчерз, Кобальт Пикчерз, Бикон Пикче...                США   \n",
       "1                              Киностудия \"Мосфильм\"               СССР   \n",
       "2  Юниверсал Пикчерз, Кикстарт Продакшнз, Марк Пл...                США   \n",
       "3  Юниверсал Пикчерз, Кикстарт Продакшнз, Марк Пл...                США   \n",
       "4  Юниверсал Пикчерз, Кикстарт Продакшнз, Марк Пл...                США   \n",
       "\n",
       "            director                                           producer  \\\n",
       "0      Кевин Костнер          Дэвид Валдес, Кевин Костнер, Джейк Эбертс   \n",
       "1          Е.Матвеев                                                NaN   \n",
       "2  Тимур Бекмамбетов  Джим Лемли, Джейсон Нетер, Марк Е.Платт, Яйн Смит   \n",
       "3  Тимур Бекмамбетов  Джим Лемли, Джейсон Нетер, Марк Е.Платт, Яйн Смит   \n",
       "4  Тимур Бекмамбетов  Джим Лемли, Джейсон Нетер, Марк Е.Платт, Яйн Смит   \n",
       "\n",
       "                 age_restriction  refundable_support  nonrefundable_support  \\\n",
       "0    «18+» - запрещено для детей                 NaN                    NaN   \n",
       "1  «6+» - для детей старше 6 лет                 NaN                    NaN   \n",
       "2    «18+» - запрещено для детей                 NaN                    NaN   \n",
       "3    «18+» - запрещено для детей                 NaN                    NaN   \n",
       "4    «18+» - запрещено для детей                 NaN                    NaN   \n",
       "\n",
       "   budget financing_source ratings                     genres  \n",
       "0     NaN              NaN     7.2     боевик,драма,мелодрама  \n",
       "1     NaN              NaN     6.6              драма,военный  \n",
       "2     NaN              NaN     6.8  фантастика,боевик,триллер  \n",
       "3     NaN              NaN     6.8  фантастика,боевик,триллер  \n",
       "4     NaN              NaN     6.8  фантастика,боевик,триллер  "
      ]
     },
     "metadata": {},
     "output_type": "display_data"
    },
    {
     "data": {
      "text/html": [
       "<div>\n",
       "<style scoped>\n",
       "    .dataframe tbody tr th:only-of-type {\n",
       "        vertical-align: middle;\n",
       "    }\n",
       "\n",
       "    .dataframe tbody tr th {\n",
       "        vertical-align: top;\n",
       "    }\n",
       "\n",
       "    .dataframe thead th {\n",
       "        text-align: right;\n",
       "    }\n",
       "</style>\n",
       "<table border=\"1\" class=\"dataframe\">\n",
       "  <thead>\n",
       "    <tr style=\"text-align: right;\">\n",
       "      <th></th>\n",
       "      <th>puNumber</th>\n",
       "      <th>box_office</th>\n",
       "    </tr>\n",
       "  </thead>\n",
       "  <tbody>\n",
       "    <tr>\n",
       "      <th>0</th>\n",
       "      <td>111000113</td>\n",
       "      <td>2450.00</td>\n",
       "    </tr>\n",
       "    <tr>\n",
       "      <th>1</th>\n",
       "      <td>111000115</td>\n",
       "      <td>61040.00</td>\n",
       "    </tr>\n",
       "    <tr>\n",
       "      <th>2</th>\n",
       "      <td>111000116</td>\n",
       "      <td>153030013.40</td>\n",
       "    </tr>\n",
       "    <tr>\n",
       "      <th>3</th>\n",
       "      <td>111000117</td>\n",
       "      <td>12260956.00</td>\n",
       "    </tr>\n",
       "    <tr>\n",
       "      <th>4</th>\n",
       "      <td>111000118</td>\n",
       "      <td>163684057.79</td>\n",
       "    </tr>\n",
       "  </tbody>\n",
       "</table>\n",
       "</div>"
      ],
      "text/plain": [
       "    puNumber   box_office\n",
       "0  111000113      2450.00\n",
       "1  111000115     61040.00\n",
       "2  111000116 153030013.40\n",
       "3  111000117  12260956.00\n",
       "4  111000118 163684057.79"
      ]
     },
     "metadata": {},
     "output_type": "display_data"
    }
   ],
   "source": [
    "display(df.head())\n",
    "display(df_2.head())"
   ]
  },
  {
   "cell_type": "markdown",
   "metadata": {},
   "source": [
    "Получив первичную информацию о двух датафреймах можно увидеть что всего в первом датафрейме 7486 строк, при этом 332 фильма финансировались государством. В столбцах `producer`, `ratings`, `genres` присутствует большое количество пропущенных значений, а в столбцах `film_studio`, `director` присутствует малое (незначительное) количество пропущенных данных.\n",
    "\n",
    "Во втором датафрейме всего 3158 строк, при этом значения в столбце `pd_number` относятся к типу integer, в то время как в первом датафрейме к object и для правильного совмещения таблиц оба эти столбца нужно привести к типу object. \n",
    "\n",
    "Данные в столбцах `show_start_date` нужно привести к типу time, в `rating` к типу float"
   ]
  },
  {
   "cell_type": "code",
   "execution_count": 7,
   "metadata": {
    "scrolled": false
   },
   "outputs": [
    {
     "name": "stdout",
     "output_type": "stream",
     "text": [
      "<class 'pandas.core.frame.DataFrame'>\n",
      "RangeIndex: 3158 entries, 0 to 3157\n",
      "Data columns (total 2 columns):\n",
      " #   Column      Non-Null Count  Dtype  \n",
      "---  ------      --------------  -----  \n",
      " 0   puNumber    3158 non-null   object \n",
      " 1   box_office  3158 non-null   float64\n",
      "dtypes: float64(1), object(1)\n",
      "memory usage: 49.5+ KB\n"
     ]
    }
   ],
   "source": [
    "df_2['puNumber'] = df_2['puNumber'].astype(str) #Изменение типа данных в `puNumber` на строчный\n",
    "df_2.info()"
   ]
  },
  {
   "cell_type": "markdown",
   "metadata": {},
   "source": [
    "После изменения типов данных можно соединять два датафрейма в один"
   ]
  },
  {
   "cell_type": "code",
   "execution_count": 8,
   "metadata": {
    "scrolled": false
   },
   "outputs": [
    {
     "name": "stdout",
     "output_type": "stream",
     "text": [
      "<class 'pandas.core.frame.DataFrame'>\n",
      "Int64Index: 7486 entries, 0 to 7485\n",
      "Data columns (total 16 columns):\n",
      " #   Column                 Non-Null Count  Dtype  \n",
      "---  ------                 --------------  -----  \n",
      " 0   title                  7486 non-null   object \n",
      " 1   puNumber               7486 non-null   object \n",
      " 2   show_start_date        7486 non-null   object \n",
      " 3   type                   7486 non-null   object \n",
      " 4   film_studio            7468 non-null   object \n",
      " 5   production_country     7484 non-null   object \n",
      " 6   director               7477 non-null   object \n",
      " 7   producer               6918 non-null   object \n",
      " 8   age_restriction        7486 non-null   object \n",
      " 9   refundable_support     332 non-null    float64\n",
      " 10  nonrefundable_support  332 non-null    float64\n",
      " 11  budget                 332 non-null    float64\n",
      " 12  financing_source       332 non-null    object \n",
      " 13  ratings                6519 non-null   object \n",
      " 14  genres                 6510 non-null   object \n",
      " 15  box_office             3158 non-null   float64\n",
      "dtypes: float64(4), object(12)\n",
      "memory usage: 994.2+ KB\n"
     ]
    }
   ],
   "source": [
    "df = df.merge(df_2,  on='puNumber',how='outer') #Соединение двух таблиц в одну по столбцу `puNumber`\n",
    "df.info()"
   ]
  },
  {
   "cell_type": "markdown",
   "metadata": {},
   "source": [
    "Можно увидеть, что объединение прошло успешно, так как все данные столбцов `box office` из второго датафрейма вошли в общий датафрейм"
   ]
  },
  {
   "cell_type": "markdown",
   "metadata": {
    "id": "KLDGpPG0gFyM"
   },
   "source": [
    "### Предобработка данных"
   ]
  },
  {
   "cell_type": "markdown",
   "metadata": {},
   "source": [
    "#### Изменение типов данных"
   ]
  },
  {
   "cell_type": "markdown",
   "metadata": {},
   "source": [
    "Нужно заменить значения в столбце `ratings` на float"
   ]
  },
  {
   "cell_type": "code",
   "execution_count": 9,
   "metadata": {
    "id": "kVGSplJOgFyO"
   },
   "outputs": [
    {
     "name": "stdout",
     "output_type": "stream",
     "text": [
      "['7.2' '6.6' '6.8' '7.7' '8.3' '8.0' '7.8' '8.1' '7.1' '6.0' '7.4' '5.8'\n",
      " '8.7' '6.3' '6.9' '5.0' '4.3' '7.3' '7.0' '6.4' nan '8.2' '7.5' '6.7'\n",
      " '7.9' '5.9' '6.2' '5.6' '6.5' '2.4' '7.6' '6.1' '8.6' '8.5' '8.8' '5.5'\n",
      " '5.1' '5.7' '5.4' '99%' '4.4' '4.5' '5.3' '4.1' '8.4' '2.6' '3.8' '4.6'\n",
      " '4.8' '4.0' '3.0' '1.6' '4.2' '5.2' '4.7' '4.9' '3.9' '2.7' '3.3' '2.9'\n",
      " '28%' '3.7' '1.4' '3.1' '97%' '3.5' '3.2' '2.8' '1.5' '2.1' '2.5' '9.2'\n",
      " '3.4' '1.1' '3.6' '83%' '64%' '91%' '94%' '62%' '79%' '90%' '19%' '88%'\n",
      " '1.0' '89%' '1.3' '1.9' '1.8' '1.2' '1.7' '9.0' '98%' '8.9' '9.1']\n"
     ]
    }
   ],
   "source": [
    "print(df['ratings'].unique())\n",
    "#df['ratings'] = df['ratings'].astype(float)\n",
    "#df.info()"
   ]
  },
  {
   "cell_type": "markdown",
   "metadata": {},
   "source": [
    "По полученной информации мы видим, что часть значений записываются как число со знаком процента, из-за знака процента невозможно привести данные к типу float, значит нужно привести все оценки к единой системе"
   ]
  },
  {
   "cell_type": "code",
   "execution_count": 10,
   "metadata": {},
   "outputs": [
    {
     "name": "stdout",
     "output_type": "stream",
     "text": [
      "[7.2 6.6 6.8 7.7 8.3 8.  7.8 8.1 7.1 6.  7.4 5.8 8.7 6.3 6.9 5.  4.3 7.3\n",
      " 7.  6.4 nan 8.2 7.5 6.7 7.9 5.9 6.2 5.6 6.5 2.4 7.6 6.1 8.6 8.5 8.8 5.5\n",
      " 5.1 5.7 5.4 9.9 4.4 4.5 5.3 4.1 8.4 2.6 3.8 4.6 4.8 4.  3.  1.6 4.2 5.2\n",
      " 4.7 4.9 3.9 2.7 3.3 2.9 2.8 3.7 1.4 3.1 9.7 3.5 3.2 1.5 2.1 2.5 9.2 3.4\n",
      " 1.1 3.6 9.1 9.4 9.  1.9 1.  8.9 1.3 1.8 1.2 1.7 9.8]\n"
     ]
    }
   ],
   "source": [
    "df['ratings'] = df['ratings'].replace('%','',regex=True) #Удаление знака процента в строках\n",
    "df['ratings'] = df['ratings'].astype(float) #Приведение всех значений к типу float\n",
    "df.loc[df['ratings']>10, 'ratings'] = df['ratings']/10 #Приведение всех значений, которые были в процентах к 10 балльной системе оценивания\n",
    "print(df['ratings'].unique())"
   ]
  },
  {
   "cell_type": "markdown",
   "metadata": {},
   "source": [
    "Все значения в столбце `ratings` были приведены к единой систему оценок и к типу float"
   ]
  },
  {
   "cell_type": "markdown",
   "metadata": {},
   "source": [
    "Также значения в столбце `show_start_date` к типу date"
   ]
  },
  {
   "cell_type": "code",
   "execution_count": 11,
   "metadata": {},
   "outputs": [
    {
     "name": "stdout",
     "output_type": "stream",
     "text": [
      "<class 'pandas.core.frame.DataFrame'>\n",
      "Int64Index: 7486 entries, 0 to 7485\n",
      "Data columns (total 16 columns):\n",
      " #   Column                 Non-Null Count  Dtype         \n",
      "---  ------                 --------------  -----         \n",
      " 0   title                  7486 non-null   object        \n",
      " 1   puNumber               7486 non-null   object        \n",
      " 2   show_start_date        7486 non-null   datetime64[ns]\n",
      " 3   type                   7486 non-null   object        \n",
      " 4   film_studio            7468 non-null   object        \n",
      " 5   production_country     7484 non-null   object        \n",
      " 6   director               7477 non-null   object        \n",
      " 7   producer               6918 non-null   object        \n",
      " 8   age_restriction        7486 non-null   object        \n",
      " 9   refundable_support     332 non-null    float64       \n",
      " 10  nonrefundable_support  332 non-null    float64       \n",
      " 11  budget                 332 non-null    float64       \n",
      " 12  financing_source       332 non-null    object        \n",
      " 13  ratings                6519 non-null   float64       \n",
      " 14  genres                 6510 non-null   object        \n",
      " 15  box_office             3158 non-null   float64       \n",
      "dtypes: datetime64[ns](1), float64(5), object(10)\n",
      "memory usage: 1.2+ MB\n"
     ]
    },
    {
     "data": {
      "text/html": [
       "<div>\n",
       "<style scoped>\n",
       "    .dataframe tbody tr th:only-of-type {\n",
       "        vertical-align: middle;\n",
       "    }\n",
       "\n",
       "    .dataframe tbody tr th {\n",
       "        vertical-align: top;\n",
       "    }\n",
       "\n",
       "    .dataframe thead th {\n",
       "        text-align: right;\n",
       "    }\n",
       "</style>\n",
       "<table border=\"1\" class=\"dataframe\">\n",
       "  <thead>\n",
       "    <tr style=\"text-align: right;\">\n",
       "      <th></th>\n",
       "      <th>title</th>\n",
       "      <th>puNumber</th>\n",
       "      <th>show_start_date</th>\n",
       "      <th>type</th>\n",
       "      <th>film_studio</th>\n",
       "      <th>production_country</th>\n",
       "      <th>director</th>\n",
       "      <th>producer</th>\n",
       "      <th>age_restriction</th>\n",
       "      <th>refundable_support</th>\n",
       "      <th>nonrefundable_support</th>\n",
       "      <th>budget</th>\n",
       "      <th>financing_source</th>\n",
       "      <th>ratings</th>\n",
       "      <th>genres</th>\n",
       "      <th>box_office</th>\n",
       "    </tr>\n",
       "  </thead>\n",
       "  <tbody>\n",
       "    <tr>\n",
       "      <th>0</th>\n",
       "      <td>Открытый простор</td>\n",
       "      <td>221048915</td>\n",
       "      <td>2015-11-27 12:00:00</td>\n",
       "      <td>Художественный</td>\n",
       "      <td>Тачстоун Пикчерз, Кобальт Пикчерз, Бикон Пикче...</td>\n",
       "      <td>США</td>\n",
       "      <td>Кевин Костнер</td>\n",
       "      <td>Дэвид Валдес, Кевин Костнер, Джейк Эбертс</td>\n",
       "      <td>«18+» - запрещено для детей</td>\n",
       "      <td>NaN</td>\n",
       "      <td>NaN</td>\n",
       "      <td>NaN</td>\n",
       "      <td>NaN</td>\n",
       "      <td>7.20</td>\n",
       "      <td>боевик,драма,мелодрама</td>\n",
       "      <td>NaN</td>\n",
       "    </tr>\n",
       "    <tr>\n",
       "      <th>1</th>\n",
       "      <td>Особо важное задание</td>\n",
       "      <td>111013716</td>\n",
       "      <td>2016-09-13 12:00:00</td>\n",
       "      <td>Художественный</td>\n",
       "      <td>Киностудия \"Мосфильм\"</td>\n",
       "      <td>СССР</td>\n",
       "      <td>Е.Матвеев</td>\n",
       "      <td>NaN</td>\n",
       "      <td>«6+» - для детей старше 6 лет</td>\n",
       "      <td>NaN</td>\n",
       "      <td>NaN</td>\n",
       "      <td>NaN</td>\n",
       "      <td>NaN</td>\n",
       "      <td>6.60</td>\n",
       "      <td>драма,военный</td>\n",
       "      <td>NaN</td>\n",
       "    </tr>\n",
       "    <tr>\n",
       "      <th>2</th>\n",
       "      <td>Особо опасен</td>\n",
       "      <td>221038416</td>\n",
       "      <td>2016-10-10 12:00:00</td>\n",
       "      <td>Художественный</td>\n",
       "      <td>Юниверсал Пикчерз, Кикстарт Продакшнз, Марк Пл...</td>\n",
       "      <td>США</td>\n",
       "      <td>Тимур Бекмамбетов</td>\n",
       "      <td>Джим Лемли, Джейсон Нетер, Марк Е.Платт, Яйн Смит</td>\n",
       "      <td>«18+» - запрещено для детей</td>\n",
       "      <td>NaN</td>\n",
       "      <td>NaN</td>\n",
       "      <td>NaN</td>\n",
       "      <td>NaN</td>\n",
       "      <td>6.80</td>\n",
       "      <td>фантастика,боевик,триллер</td>\n",
       "      <td>NaN</td>\n",
       "    </tr>\n",
       "    <tr>\n",
       "      <th>3</th>\n",
       "      <td>Особо опасен</td>\n",
       "      <td>221026916</td>\n",
       "      <td>2016-06-10 12:00:00</td>\n",
       "      <td>Художественный</td>\n",
       "      <td>Юниверсал Пикчерз, Кикстарт Продакшнз, Марк Пл...</td>\n",
       "      <td>США</td>\n",
       "      <td>Тимур Бекмамбетов</td>\n",
       "      <td>Джим Лемли, Джейсон Нетер, Марк Е.Платт, Яйн Смит</td>\n",
       "      <td>«18+» - запрещено для детей</td>\n",
       "      <td>NaN</td>\n",
       "      <td>NaN</td>\n",
       "      <td>NaN</td>\n",
       "      <td>NaN</td>\n",
       "      <td>6.80</td>\n",
       "      <td>фантастика,боевик,триллер</td>\n",
       "      <td>NaN</td>\n",
       "    </tr>\n",
       "    <tr>\n",
       "      <th>4</th>\n",
       "      <td>Особо опасен</td>\n",
       "      <td>221030815</td>\n",
       "      <td>2015-07-29 12:00:00</td>\n",
       "      <td>Художественный</td>\n",
       "      <td>Юниверсал Пикчерз, Кикстарт Продакшнз, Марк Пл...</td>\n",
       "      <td>США</td>\n",
       "      <td>Тимур Бекмамбетов</td>\n",
       "      <td>Джим Лемли, Джейсон Нетер, Марк Е.Платт, Яйн Смит</td>\n",
       "      <td>«18+» - запрещено для детей</td>\n",
       "      <td>NaN</td>\n",
       "      <td>NaN</td>\n",
       "      <td>NaN</td>\n",
       "      <td>NaN</td>\n",
       "      <td>6.80</td>\n",
       "      <td>фантастика,боевик,триллер</td>\n",
       "      <td>NaN</td>\n",
       "    </tr>\n",
       "  </tbody>\n",
       "</table>\n",
       "</div>"
      ],
      "text/plain": [
       "                  title   puNumber     show_start_date            type  \\\n",
       "0      Открытый простор  221048915 2015-11-27 12:00:00  Художественный   \n",
       "1  Особо важное задание  111013716 2016-09-13 12:00:00  Художественный   \n",
       "2          Особо опасен  221038416 2016-10-10 12:00:00  Художественный   \n",
       "3          Особо опасен  221026916 2016-06-10 12:00:00  Художественный   \n",
       "4          Особо опасен  221030815 2015-07-29 12:00:00  Художественный   \n",
       "\n",
       "                                         film_studio production_country  \\\n",
       "0  Тачстоун Пикчерз, Кобальт Пикчерз, Бикон Пикче...                США   \n",
       "1                              Киностудия \"Мосфильм\"               СССР   \n",
       "2  Юниверсал Пикчерз, Кикстарт Продакшнз, Марк Пл...                США   \n",
       "3  Юниверсал Пикчерз, Кикстарт Продакшнз, Марк Пл...                США   \n",
       "4  Юниверсал Пикчерз, Кикстарт Продакшнз, Марк Пл...                США   \n",
       "\n",
       "            director                                           producer  \\\n",
       "0      Кевин Костнер          Дэвид Валдес, Кевин Костнер, Джейк Эбертс   \n",
       "1          Е.Матвеев                                                NaN   \n",
       "2  Тимур Бекмамбетов  Джим Лемли, Джейсон Нетер, Марк Е.Платт, Яйн Смит   \n",
       "3  Тимур Бекмамбетов  Джим Лемли, Джейсон Нетер, Марк Е.Платт, Яйн Смит   \n",
       "4  Тимур Бекмамбетов  Джим Лемли, Джейсон Нетер, Марк Е.Платт, Яйн Смит   \n",
       "\n",
       "                 age_restriction  refundable_support  nonrefundable_support  \\\n",
       "0    «18+» - запрещено для детей                 NaN                    NaN   \n",
       "1  «6+» - для детей старше 6 лет                 NaN                    NaN   \n",
       "2    «18+» - запрещено для детей                 NaN                    NaN   \n",
       "3    «18+» - запрещено для детей                 NaN                    NaN   \n",
       "4    «18+» - запрещено для детей                 NaN                    NaN   \n",
       "\n",
       "   budget financing_source  ratings                     genres  box_office  \n",
       "0     NaN              NaN     7.20     боевик,драма,мелодрама         NaN  \n",
       "1     NaN              NaN     6.60              драма,военный         NaN  \n",
       "2     NaN              NaN     6.80  фантастика,боевик,триллер         NaN  \n",
       "3     NaN              NaN     6.80  фантастика,боевик,триллер         NaN  \n",
       "4     NaN              NaN     6.80  фантастика,боевик,триллер         NaN  "
      ]
     },
     "metadata": {},
     "output_type": "display_data"
    }
   ],
   "source": [
    "df['show_start_date'] = pd.to_datetime(df['show_start_date'], format='%Y-%m-%dT%H:%M:%S.000Z')\n",
    "df.info()\n",
    "display(df.head())"
   ]
  },
  {
   "cell_type": "markdown",
   "metadata": {
    "id": "i0MOLbF-gFyP"
   },
   "source": [
    "#### Изучение пропусков в датафрейме"
   ]
  },
  {
   "cell_type": "code",
   "execution_count": 12,
   "metadata": {},
   "outputs": [
    {
     "data": {
      "text/plain": [
       "title                       0\n",
       "puNumber                    0\n",
       "show_start_date             0\n",
       "type                        0\n",
       "film_studio                18\n",
       "production_country          2\n",
       "director                    9\n",
       "producer                  568\n",
       "age_restriction             0\n",
       "refundable_support       7154\n",
       "nonrefundable_support    7154\n",
       "budget                   7154\n",
       "financing_source         7154\n",
       "ratings                   967\n",
       "genres                    976\n",
       "box_office               4328\n",
       "dtype: int64"
      ]
     },
     "execution_count": 12,
     "metadata": {},
     "output_type": "execute_result"
    }
   ],
   "source": [
    "df.isna().sum()"
   ]
  },
  {
   "cell_type": "markdown",
   "metadata": {},
   "source": [
    "Во время первичного обзора данных были обнаружены пропуски в столбцах `film_studio`, `production country`,`director`, `producer`, `refundable_suppor`, `nonrefundable_support`, `budget`, `financing_source`, `ratings`, `genres` и `box_office` \n",
    "\n",
    "В первых 4 столбцах мы не можем никак заменить пропуски, так как каждое значение должно быть уникальным, да и эти данные не являются важными для нашего исследования. Столбцы `refundable_suppor`, `nonrefundable_support`, `budget`, `financing_source` показывают какие фильмы финансировались государством, конечно, оставшиеся пропуски можно было заполнить нулями, но это повлияет при вычислении среднего и других показателей, так что лучше оставить их пропущенными. Тоже самое можно сказать и о столбце `box_office`. Столбец `raitings` также является важной частью нашего исследовании, но его значения могут колебаться от 0 до 10 и никак не зависит от среднего или медианного, так что пропуски придется просто оставить, также как и столбец `genres`"
   ]
  },
  {
   "cell_type": "markdown",
   "metadata": {
    "id": "4c6k1t9ygFyQ"
   },
   "source": [
    "#### Шаг 2.3. Изучение дубликатов в датафрейме\n"
   ]
  },
  {
   "cell_type": "code",
   "execution_count": 13,
   "metadata": {
    "id": "aKck8RIdgFyQ"
   },
   "outputs": [
    {
     "name": "stdout",
     "output_type": "stream",
     "text": [
      "0\n",
      "714\n"
     ]
    }
   ],
   "source": [
    "print(df.duplicated().sum())\n",
    "print(df.duplicated(subset=['title']).sum())"
   ]
  },
  {
   "cell_type": "markdown",
   "metadata": {},
   "source": [
    "При проверке на явные дубликаты, мы можем видеть, что такие отсутствуют, но при этом может быть так, что фильмы отличаются лишь номером прокатного удостоверения, например, было обнаружено 714 строк с одинаковым названием фильма, но мы не можем убирать эти строки как дубликаты, так как мы имеем данные российского проката, то эти фильмы просто могли выходить в прокат в разное время и удостроверения могли выдаваться разным компаниям, а следовательно данные этих фильмов не являются дубликатами, а всего лишь данными о разных прокатах и они нам нужны будут для дальнейшего исследования. Поэтому нужно проверить есть ли строки где все одинаковое, кроме номера удостоверения и убрать их."
   ]
  },
  {
   "cell_type": "code",
   "execution_count": 14,
   "metadata": {
    "scrolled": false
   },
   "outputs": [
    {
     "name": "stdout",
     "output_type": "stream",
     "text": [
      "8\n"
     ]
    }
   ],
   "source": [
    "print(df.duplicated(subset=['title','show_start_date','type','film_studio','production_country','director','producer','age_restriction','ratings','genres','genres']).sum())"
   ]
  },
  {
   "cell_type": "markdown",
   "metadata": {},
   "source": [
    " Было обнаружено 8 полных дубликатов, отличающихся лишь номером прокатного удостоверения, от них можно избавиться"
   ]
  },
  {
   "cell_type": "code",
   "execution_count": 15,
   "metadata": {},
   "outputs": [
    {
     "name": "stdout",
     "output_type": "stream",
     "text": [
      "0\n"
     ]
    }
   ],
   "source": [
    "df = df.drop_duplicates(subset=['title','show_start_date','type','film_studio','production_country','director','producer','age_restriction','ratings','genres','genres'])\n",
    "print(df.duplicated(subset=['title','show_start_date','type','film_studio','production_country','director','producer','age_restriction','ratings','genres','genres']).sum())"
   ]
  },
  {
   "cell_type": "code",
   "execution_count": 16,
   "metadata": {},
   "outputs": [
    {
     "name": "stdout",
     "output_type": "stream",
     "text": [
      "2\n",
      "0\n"
     ]
    }
   ],
   "source": [
    "print(df['puNumber'].duplicated().sum())\n",
    "df = df.drop_duplicates(subset='puNumber')\n",
    "print(df['puNumber'].duplicated().sum())"
   ]
  },
  {
   "cell_type": "markdown",
   "metadata": {},
   "source": [
    "Так как все номера прокатных удостоверений должны отличаться друг для друга, было решено проверить наличие одинаковых номеров. По итогу было обнаружено 2 совпадающих номера и выброшен дубликат, как ошибочный"
   ]
  },
  {
   "cell_type": "code",
   "execution_count": 17,
   "metadata": {},
   "outputs": [
    {
     "name": "stdout",
     "output_type": "stream",
     "text": [
      "Художественный                4514\n",
      " Художественный               1388\n",
      "Анимационный                   826\n",
      "Прочие                         406\n",
      "Документальный                 287\n",
      "Научно-популярный               53\n",
      "Музыкально-развлекательный       1\n",
      " Анимационный                    1\n",
      "Name: type, dtype: int64\n"
     ]
    }
   ],
   "source": [
    "uniquev(df,'type') #Проверка столбца type на уникальные значения"
   ]
  },
  {
   "cell_type": "code",
   "execution_count": 18,
   "metadata": {},
   "outputs": [
    {
     "name": "stdout",
     "output_type": "stream",
     "text": [
      "Киностудия \"Мосфильм\"                                                                                                                                                                                                                 341\n",
      "ООО \"Мульт в кино\"                                                                                                                                                                                                                     57\n",
      "Анимаккорд Лтд                                                                                                                                                                                                                         23\n",
      "ООО \"Мульт в кино\"                                                                                                                                                                                                                     18\n",
      "ФГУП \"ТПО \"Киностудия \"Союзмультфильм\"                                                                                                                                                                                                 16\n",
      "                                                                                                                                                                                                                                     ... \n",
      "ООО \"РУСЬ\"                                                                                                                                                                                                                              1\n",
      "ООО \"Реабилитационный центр \"Три сестры\"                                                                                                                                                                                                1\n",
      "Рой Андерссон Филмпродукцион, 4 1/2 Филм, Арт Франс Синема, Центр Националь дю Синема Лимаж Аниме, Эссенциаль Филмпродуцион,Фонд Еуроимаж дю Консьель де Лероп, Нордиск Филм, Сосьете Паризьен де Продюксьон, Свенска Филминститут      1\n",
      "Бристол Бэй Продакшнз, Парамаунт Пикчерз, Болдуин Интертейнмент, Канзаман Эс А                                                                                                                                                          1\n",
      "Корсо Продуцион, Вайс Студиос, Зэ Дэ Эф/Дас кляйне фернзешпиль                                                                                                                                                                          1\n",
      "Name: film_studio, Length: 5489, dtype: int64\n"
     ]
    }
   ],
   "source": [
    "uniquev(df,'film_studio')"
   ]
  },
  {
   "cell_type": "code",
   "execution_count": 19,
   "metadata": {},
   "outputs": [
    {
     "name": "stdout",
     "output_type": "stream",
     "text": [
      "США                                                               2169\n",
      "Россия                                                            1819\n",
      "СССР                                                               347\n",
      "Франция                                                            300\n",
      "Великобритания                                                     257\n",
      "                                                                  ... \n",
      "Франция-Германия-Великобритания                                      1\n",
      "Франция - Бельгия - Великобритания - США - Нидерланды - Канада       1\n",
      "Бельгия-Нидерланды                                                   1\n",
      "Германия - Италия - Франция                                          1\n",
      "КНР - США                                                            1\n",
      "Name: production_country, Length: 950, dtype: int64\n"
     ]
    }
   ],
   "source": [
    "uniquev(df,'production_country')"
   ]
  },
  {
   "cell_type": "code",
   "execution_count": 20,
   "metadata": {},
   "outputs": [
    {
     "name": "stdout",
     "output_type": "stream",
     "text": [
      "О.Семёнова                                          47\n",
      "Д.Червяцов                                          17\n",
      "Стивен Содерберг                                    17\n",
      "Ридли Скотт                                         16\n",
      "Тиль Швайгер                                        14\n",
      "                                                    ..\n",
      "Фред Вульф                                           1\n",
      "Барт Фрейндлих                                       1\n",
      "Н.Мубинов, А.Чернова, С.Горя, А.Черногоров и др.     1\n",
      "С.Аксенов                                            1\n",
      "Густаво Кова                                         1\n",
      "Name: director, Length: 4810, dtype: int64\n"
     ]
    }
   ],
   "source": [
    "uniquev(df,'director')"
   ]
  },
  {
   "cell_type": "code",
   "execution_count": 21,
   "metadata": {},
   "outputs": [
    {
     "name": "stdout",
     "output_type": "stream",
     "text": [
      "П.Смирнов                                                                                                                                      67\n",
      "Олег Кузовков, Дмитрий Ловейко, Марина Ратина                                                                                                  28\n",
      "С.Сельянов                                                                                                                                     18\n",
      "Д.Ловейко, О.Кузовков                                                                                                                          17\n",
      "Кевин Фейги                                                                                                                                    11\n",
      "                                                                                                                                               ..\n",
      "Элизабет Авеллан, Роберт Родригес, Эрика Стейнберг, Квентин Тарантино                                                                           1\n",
      "Г.Васильев,  М.Мэннис, И.Попов, А.Златопольский, С.Сельянов, А.Боярский, В.Сотсков, Т.Цыварёва, В.Воля, Е.Головин, А.Сметанкин, А.Полетаева     1\n",
      "Конрад Вернон, Эван Голдберг, Сет Роген, Меган Эллисон                                                                                          1\n",
      "Джизус Регуеро                                                                                                                                  1\n",
      "Дэвид Рэди, Дженно Топпинг, Питер Чернин                                                                                                        1\n",
      "Name: producer, Length: 5348, dtype: int64\n"
     ]
    }
   ],
   "source": [
    "uniquev(df,'producer')"
   ]
  },
  {
   "cell_type": "code",
   "execution_count": 22,
   "metadata": {},
   "outputs": [
    {
     "name": "stdout",
     "output_type": "stream",
     "text": [
      "«16+» - для детей старше 16 лет           2844\n",
      "«18+» - запрещено для детей               1605\n",
      "«12+» - для детей старше 12 лет           1591\n",
      "«0+» - для любой зрительской аудитории     810\n",
      "«6+» - для детей старше 6 лет              626\n",
      "Name: age_restriction, dtype: int64\n"
     ]
    }
   ],
   "source": [
    "uniquev(df,'age_restriction')"
   ]
  },
  {
   "cell_type": "code",
   "execution_count": 23,
   "metadata": {},
   "outputs": [
    {
     "name": "stdout",
     "output_type": "stream",
     "text": [
      "драма                              475\n",
      "комедия                            352\n",
      "мелодрама,комедия                  222\n",
      "драма,мелодрама,комедия            189\n",
      "драма,мелодрама                    183\n",
      "                                  ... \n",
      "драма,мелодрама,триллер              1\n",
      "приключения,фантастика,семейный      1\n",
      "семейный,приключения                 1\n",
      "ужасы,мелодрама,детектив             1\n",
      "приключения,детский,комедия          1\n",
      "Name: genres, Length: 742, dtype: int64\n"
     ]
    }
   ],
   "source": [
    "uniquev(df,'genres')"
   ]
  },
  {
   "cell_type": "code",
   "execution_count": 24,
   "metadata": {},
   "outputs": [
    {
     "name": "stdout",
     "output_type": "stream",
     "text": [
      "Министерство культуры               164\n",
      "Фонд кино                           146\n",
      "Министерство культуры, Фонд кино     22\n",
      "Name: financing_source, dtype: int64\n"
     ]
    }
   ],
   "source": [
    "uniquev(df,'financing_source')"
   ]
  },
  {
   "cell_type": "markdown",
   "metadata": {},
   "source": [
    "После проверки столбцов на уникальные значения, мы можем заметить, что в некоторых из них значения дублируют друг друга, отличаясь пробелом в начале столбец `type` , нужно от него избавиться и еще раз провести проверку на дубликаты"
   ]
  },
  {
   "cell_type": "markdown",
   "metadata": {
    "id": "52fOPrEBgFyQ"
   },
   "source": [
    "#### Шаг 2.4. Изучение категориальных значения\n",
    "\n"
   ]
  },
  {
   "cell_type": "code",
   "execution_count": 25,
   "metadata": {
    "id": "PnXKIVdFgFyR"
   },
   "outputs": [],
   "source": [
    "df['type'] = df['type'].str.strip()"
   ]
  },
  {
   "cell_type": "code",
   "execution_count": 26,
   "metadata": {},
   "outputs": [
    {
     "name": "stdout",
     "output_type": "stream",
     "text": [
      "Художественный                5902\n",
      "Анимационный                   827\n",
      "Прочие                         406\n",
      "Документальный                 287\n",
      "Научно-популярный               53\n",
      "Музыкально-развлекательный       1\n",
      "Name: type, dtype: int64\n"
     ]
    }
   ],
   "source": [
    "uniquev(df,'type')"
   ]
  },
  {
   "cell_type": "code",
   "execution_count": 27,
   "metadata": {},
   "outputs": [
    {
     "name": "stdout",
     "output_type": "stream",
     "text": [
      "0\n"
     ]
    }
   ],
   "source": [
    "print(df.duplicated(subset=['title','show_start_date','type','film_studio','production_country','director','producer','age_restriction','ratings','genres','genres']).sum())"
   ]
  },
  {
   "cell_type": "markdown",
   "metadata": {},
   "source": [
    "Проблемы с пробелами в начале столбца `type` были исправлены, но новые дубликаты не появились"
   ]
  },
  {
   "cell_type": "markdown",
   "metadata": {
    "id": "XFSN5lrEgFyR"
   },
   "source": [
    "#### Шаг 2.5. Проверка количественные значения\n",
    "\n"
   ]
  },
  {
   "cell_type": "code",
   "execution_count": 28,
   "metadata": {
    "id": "YbzClBxagFyS",
    "scrolled": true
   },
   "outputs": [
    {
     "data": {
      "text/html": [
       "<div>\n",
       "<style scoped>\n",
       "    .dataframe tbody tr th:only-of-type {\n",
       "        vertical-align: middle;\n",
       "    }\n",
       "\n",
       "    .dataframe tbody tr th {\n",
       "        vertical-align: top;\n",
       "    }\n",
       "\n",
       "    .dataframe thead th {\n",
       "        text-align: right;\n",
       "    }\n",
       "</style>\n",
       "<table border=\"1\" class=\"dataframe\">\n",
       "  <thead>\n",
       "    <tr style=\"text-align: right;\">\n",
       "      <th></th>\n",
       "      <th>title</th>\n",
       "      <th>refundable_support</th>\n",
       "      <th>nonrefundable_support</th>\n",
       "      <th>budget</th>\n",
       "      <th>budget_count</th>\n",
       "    </tr>\n",
       "  </thead>\n",
       "  <tbody>\n",
       "    <tr>\n",
       "      <th>1281</th>\n",
       "      <td>Пока еще жива</td>\n",
       "      <td>0.00</td>\n",
       "      <td>26500000.00</td>\n",
       "      <td>79411900.00</td>\n",
       "      <td>26500000.00</td>\n",
       "    </tr>\n",
       "    <tr>\n",
       "      <th>1448</th>\n",
       "      <td>Бесславные придурки</td>\n",
       "      <td>0.00</td>\n",
       "      <td>26000000.00</td>\n",
       "      <td>37142857.00</td>\n",
       "      <td>26000000.00</td>\n",
       "    </tr>\n",
       "    <tr>\n",
       "      <th>1498</th>\n",
       "      <td>Невидимки</td>\n",
       "      <td>0.00</td>\n",
       "      <td>107847945.00</td>\n",
       "      <td>176023490.00</td>\n",
       "      <td>107847945.00</td>\n",
       "    </tr>\n",
       "    <tr>\n",
       "      <th>1524</th>\n",
       "      <td>БЕРЦЫ</td>\n",
       "      <td>0.00</td>\n",
       "      <td>28000000.00</td>\n",
       "      <td>40574140.00</td>\n",
       "      <td>28000000.00</td>\n",
       "    </tr>\n",
       "    <tr>\n",
       "      <th>1792</th>\n",
       "      <td>Братья Ч</td>\n",
       "      <td>0.00</td>\n",
       "      <td>25000000.00</td>\n",
       "      <td>40015122.00</td>\n",
       "      <td>25000000.00</td>\n",
       "    </tr>\n",
       "    <tr>\n",
       "      <th>...</th>\n",
       "      <td>...</td>\n",
       "      <td>...</td>\n",
       "      <td>...</td>\n",
       "      <td>...</td>\n",
       "      <td>...</td>\n",
       "    </tr>\n",
       "    <tr>\n",
       "      <th>7464</th>\n",
       "      <td>Союз спасения</td>\n",
       "      <td>100000000.00</td>\n",
       "      <td>400000000.00</td>\n",
       "      <td>980000000.00</td>\n",
       "      <td>500000000.00</td>\n",
       "    </tr>\n",
       "    <tr>\n",
       "      <th>7466</th>\n",
       "      <td>Иван Царевич и Серый Волк 4</td>\n",
       "      <td>100000000.00</td>\n",
       "      <td>0.00</td>\n",
       "      <td>190000000.00</td>\n",
       "      <td>100000000.00</td>\n",
       "    </tr>\n",
       "    <tr>\n",
       "      <th>7474</th>\n",
       "      <td>Вторжение</td>\n",
       "      <td>100000000.00</td>\n",
       "      <td>400000000.00</td>\n",
       "      <td>944000000.00</td>\n",
       "      <td>500000000.00</td>\n",
       "    </tr>\n",
       "    <tr>\n",
       "      <th>7476</th>\n",
       "      <td>Я свободен</td>\n",
       "      <td>0.00</td>\n",
       "      <td>30000000.00</td>\n",
       "      <td>46154000.00</td>\n",
       "      <td>30000000.00</td>\n",
       "    </tr>\n",
       "    <tr>\n",
       "      <th>7478</th>\n",
       "      <td>(Не)идеальный мужчина</td>\n",
       "      <td>40000000.00</td>\n",
       "      <td>60000000.00</td>\n",
       "      <td>150147502.00</td>\n",
       "      <td>100000000.00</td>\n",
       "    </tr>\n",
       "  </tbody>\n",
       "</table>\n",
       "<p>332 rows × 5 columns</p>\n",
       "</div>"
      ],
      "text/plain": [
       "                            title  refundable_support  nonrefundable_support  \\\n",
       "1281                Пока еще жива                0.00            26500000.00   \n",
       "1448          Бесславные придурки                0.00            26000000.00   \n",
       "1498                    Невидимки                0.00           107847945.00   \n",
       "1524                        БЕРЦЫ                0.00            28000000.00   \n",
       "1792                     Братья Ч                0.00            25000000.00   \n",
       "...                           ...                 ...                    ...   \n",
       "7464                Союз спасения        100000000.00           400000000.00   \n",
       "7466  Иван Царевич и Серый Волк 4        100000000.00                   0.00   \n",
       "7474                    Вторжение        100000000.00           400000000.00   \n",
       "7476                   Я свободен                0.00            30000000.00   \n",
       "7478        (Не)идеальный мужчина         40000000.00            60000000.00   \n",
       "\n",
       "           budget  budget_count  \n",
       "1281  79411900.00   26500000.00  \n",
       "1448  37142857.00   26000000.00  \n",
       "1498 176023490.00  107847945.00  \n",
       "1524  40574140.00   28000000.00  \n",
       "1792  40015122.00   25000000.00  \n",
       "...           ...           ...  \n",
       "7464 980000000.00  500000000.00  \n",
       "7466 190000000.00  100000000.00  \n",
       "7474 944000000.00  500000000.00  \n",
       "7476  46154000.00   30000000.00  \n",
       "7478 150147502.00  100000000.00  \n",
       "\n",
       "[332 rows x 5 columns]"
      ]
     },
     "metadata": {},
     "output_type": "display_data"
    },
    {
     "data": {
      "text/html": [
       "<div>\n",
       "<style scoped>\n",
       "    .dataframe tbody tr th:only-of-type {\n",
       "        vertical-align: middle;\n",
       "    }\n",
       "\n",
       "    .dataframe tbody tr th {\n",
       "        vertical-align: top;\n",
       "    }\n",
       "\n",
       "    .dataframe thead th {\n",
       "        text-align: right;\n",
       "    }\n",
       "</style>\n",
       "<table border=\"1\" class=\"dataframe\">\n",
       "  <thead>\n",
       "    <tr style=\"text-align: right;\">\n",
       "      <th></th>\n",
       "      <th>title</th>\n",
       "      <th>refundable_support</th>\n",
       "      <th>nonrefundable_support</th>\n",
       "      <th>budget</th>\n",
       "      <th>budget_count</th>\n",
       "    </tr>\n",
       "  </thead>\n",
       "  <tbody>\n",
       "    <tr>\n",
       "      <th>2053</th>\n",
       "      <td>14+</td>\n",
       "      <td>0.00</td>\n",
       "      <td>23000000.00</td>\n",
       "      <td>0.00</td>\n",
       "      <td>23000000.00</td>\n",
       "    </tr>\n",
       "    <tr>\n",
       "      <th>2058</th>\n",
       "      <td>Дуxless 2</td>\n",
       "      <td>0.00</td>\n",
       "      <td>75000000.00</td>\n",
       "      <td>0.00</td>\n",
       "      <td>75000000.00</td>\n",
       "    </tr>\n",
       "    <tr>\n",
       "      <th>2472</th>\n",
       "      <td>Воин (2015)</td>\n",
       "      <td>10000000.00</td>\n",
       "      <td>70000000.00</td>\n",
       "      <td>0.00</td>\n",
       "      <td>80000000.00</td>\n",
       "    </tr>\n",
       "    <tr>\n",
       "      <th>2532</th>\n",
       "      <td>Бармен.</td>\n",
       "      <td>20000000.00</td>\n",
       "      <td>0.00</td>\n",
       "      <td>0.00</td>\n",
       "      <td>20000000.00</td>\n",
       "    </tr>\n",
       "    <tr>\n",
       "      <th>2615</th>\n",
       "      <td>Савва. Сердце воина</td>\n",
       "      <td>60000000.00</td>\n",
       "      <td>100000000.00</td>\n",
       "      <td>0.00</td>\n",
       "      <td>160000000.00</td>\n",
       "    </tr>\n",
       "    <tr>\n",
       "      <th>2684</th>\n",
       "      <td>Тряпичный союз</td>\n",
       "      <td>0.00</td>\n",
       "      <td>59000000.00</td>\n",
       "      <td>0.00</td>\n",
       "      <td>59000000.00</td>\n",
       "    </tr>\n",
       "    <tr>\n",
       "      <th>2788</th>\n",
       "      <td>Срочно выйду замуж</td>\n",
       "      <td>0.00</td>\n",
       "      <td>35000000.00</td>\n",
       "      <td>0.00</td>\n",
       "      <td>35000000.00</td>\n",
       "    </tr>\n",
       "    <tr>\n",
       "      <th>2874</th>\n",
       "      <td>Помню - не помню!</td>\n",
       "      <td>0.00</td>\n",
       "      <td>6000000.00</td>\n",
       "      <td>0.00</td>\n",
       "      <td>6000000.00</td>\n",
       "    </tr>\n",
       "    <tr>\n",
       "      <th>3047</th>\n",
       "      <td>Любовь с ограничениями</td>\n",
       "      <td>19000000.00</td>\n",
       "      <td>51000000.00</td>\n",
       "      <td>0.00</td>\n",
       "      <td>70000000.00</td>\n",
       "    </tr>\n",
       "    <tr>\n",
       "      <th>3565</th>\n",
       "      <td>Притяжение (2016)</td>\n",
       "      <td>0.00</td>\n",
       "      <td>250000000.00</td>\n",
       "      <td>0.00</td>\n",
       "      <td>250000000.00</td>\n",
       "    </tr>\n",
       "    <tr>\n",
       "      <th>3675</th>\n",
       "      <td>Чудо-юдо</td>\n",
       "      <td>20000000.00</td>\n",
       "      <td>20000000.00</td>\n",
       "      <td>0.00</td>\n",
       "      <td>40000000.00</td>\n",
       "    </tr>\n",
       "    <tr>\n",
       "      <th>3739</th>\n",
       "      <td>Мифы</td>\n",
       "      <td>25000000.00</td>\n",
       "      <td>20000000.00</td>\n",
       "      <td>0.00</td>\n",
       "      <td>45000000.00</td>\n",
       "    </tr>\n",
       "    <tr>\n",
       "      <th>5673</th>\n",
       "      <td>Селфи</td>\n",
       "      <td>20000000.00</td>\n",
       "      <td>40000000.00</td>\n",
       "      <td>0.00</td>\n",
       "      <td>60000000.00</td>\n",
       "    </tr>\n",
       "    <tr>\n",
       "      <th>5806</th>\n",
       "      <td>Два хвоста</td>\n",
       "      <td>10000000.00</td>\n",
       "      <td>60000000.00</td>\n",
       "      <td>0.00</td>\n",
       "      <td>70000000.00</td>\n",
       "    </tr>\n",
       "    <tr>\n",
       "      <th>6008</th>\n",
       "      <td>Принцесса и дракон</td>\n",
       "      <td>40000000.00</td>\n",
       "      <td>40000000.00</td>\n",
       "      <td>0.00</td>\n",
       "      <td>80000000.00</td>\n",
       "    </tr>\n",
       "    <tr>\n",
       "      <th>6323</th>\n",
       "      <td>Баба Яга</td>\n",
       "      <td>0.00</td>\n",
       "      <td>138969465.00</td>\n",
       "      <td>0.00</td>\n",
       "      <td>138969465.00</td>\n",
       "    </tr>\n",
       "    <tr>\n",
       "      <th>6823</th>\n",
       "      <td>Большое путешествие</td>\n",
       "      <td>60000000.00</td>\n",
       "      <td>120000000.00</td>\n",
       "      <td>0.00</td>\n",
       "      <td>180000000.00</td>\n",
       "    </tr>\n",
       "  </tbody>\n",
       "</table>\n",
       "</div>"
      ],
      "text/plain": [
       "                       title  refundable_support  nonrefundable_support  \\\n",
       "2053                     14+                0.00            23000000.00   \n",
       "2058               Дуxless 2                0.00            75000000.00   \n",
       "2472             Воин (2015)         10000000.00            70000000.00   \n",
       "2532                 Бармен.         20000000.00                   0.00   \n",
       "2615     Савва. Сердце воина         60000000.00           100000000.00   \n",
       "2684          Тряпичный союз                0.00            59000000.00   \n",
       "2788      Срочно выйду замуж                0.00            35000000.00   \n",
       "2874       Помню - не помню!                0.00             6000000.00   \n",
       "3047  Любовь с ограничениями         19000000.00            51000000.00   \n",
       "3565       Притяжение (2016)                0.00           250000000.00   \n",
       "3675                Чудо-юдо         20000000.00            20000000.00   \n",
       "3739                    Мифы         25000000.00            20000000.00   \n",
       "5673                   Селфи         20000000.00            40000000.00   \n",
       "5806              Два хвоста         10000000.00            60000000.00   \n",
       "6008      Принцесса и дракон         40000000.00            40000000.00   \n",
       "6323                Баба Яга                0.00           138969465.00   \n",
       "6823     Большое путешествие         60000000.00           120000000.00   \n",
       "\n",
       "      budget  budget_count  \n",
       "2053    0.00   23000000.00  \n",
       "2058    0.00   75000000.00  \n",
       "2472    0.00   80000000.00  \n",
       "2532    0.00   20000000.00  \n",
       "2615    0.00  160000000.00  \n",
       "2684    0.00   59000000.00  \n",
       "2788    0.00   35000000.00  \n",
       "2874    0.00    6000000.00  \n",
       "3047    0.00   70000000.00  \n",
       "3565    0.00  250000000.00  \n",
       "3675    0.00   40000000.00  \n",
       "3739    0.00   45000000.00  \n",
       "5673    0.00   60000000.00  \n",
       "5806    0.00   70000000.00  \n",
       "6008    0.00   80000000.00  \n",
       "6323    0.00  138969465.00  \n",
       "6823    0.00  180000000.00  "
      ]
     },
     "metadata": {},
     "output_type": "display_data"
    }
   ],
   "source": [
    "df_new = df[['title','refundable_support','nonrefundable_support','budget']] #создание нового датафрейма для просмотра данных с государственной поддержкой и бюджетом\n",
    "df_new = df_new.query('budget>=0') #оставляем лишь те строки где есть бюджет\n",
    "df_new['budget_count'] = df_new['refundable_support'] + df_new['nonrefundable_support'] #Создаем новый столбце где складываем значения государственной поддержки\n",
    "display(df_new) \n",
    "display(df_new.query('budget<budget_count'))"
   ]
  },
  {
   "cell_type": "markdown",
   "metadata": {},
   "source": [
    "Как мы можем видеть в нашем датафрейме присутствуют значения бюджета равные 0, при этом у нас есть данные государственной поддержки, лучше всего заполнить строки с нулевым бюджетом суммой государственной поддержки"
   ]
  },
  {
   "cell_type": "code",
   "execution_count": 29,
   "metadata": {},
   "outputs": [
    {
     "name": "stdout",
     "output_type": "stream",
     "text": [
      "title                    0\n",
      "puNumber                 0\n",
      "show_start_date          0\n",
      "type                     0\n",
      "film_studio              0\n",
      "production_country       0\n",
      "director                 0\n",
      "producer                 0\n",
      "age_restriction          0\n",
      "refundable_support       0\n",
      "nonrefundable_support    0\n",
      "budget                   0\n",
      "financing_source         0\n",
      "ratings                  0\n",
      "genres                   0\n",
      "box_office               0\n",
      "dtype: int64\n"
     ]
    }
   ],
   "source": [
    "\n",
    "df.loc[df['budget']==0,'budget'] = df['refundable_support'] + df['nonrefundable_support']\n",
    "print(df.query('budget<0').count())"
   ]
  },
  {
   "cell_type": "markdown",
   "metadata": {},
   "source": [
    "Мы избавились от 0 значений `budget`"
   ]
  },
  {
   "cell_type": "code",
   "execution_count": 30,
   "metadata": {},
   "outputs": [
    {
     "name": "stdout",
     "output_type": "stream",
     "text": [
      "AxesSubplot(0.125,0.125;0.775x0.755)\n"
     ]
    },
    {
     "data": {
      "image/png": "[encoded data removed]",
      "text/plain": [
       "<Figure size 432x288 with 1 Axes>"
      ]
     },
     "metadata": {
      "needs_background": "light"
     },
     "output_type": "display_data"
    }
   ],
   "source": [
    "plt.ylim(-100,80000000)\n",
    "print(df.boxplot())"
   ]
  },
  {
   "cell_type": "code",
   "execution_count": 31,
   "metadata": {
    "scrolled": false
   },
   "outputs": [
    {
     "data": {
      "text/html": [
       "<div>\n",
       "<style scoped>\n",
       "    .dataframe tbody tr th:only-of-type {\n",
       "        vertical-align: middle;\n",
       "    }\n",
       "\n",
       "    .dataframe tbody tr th {\n",
       "        vertical-align: top;\n",
       "    }\n",
       "\n",
       "    .dataframe thead th {\n",
       "        text-align: right;\n",
       "    }\n",
       "</style>\n",
       "<table border=\"1\" class=\"dataframe\">\n",
       "  <thead>\n",
       "    <tr style=\"text-align: right;\">\n",
       "      <th></th>\n",
       "      <th>refundable_support</th>\n",
       "      <th>nonrefundable_support</th>\n",
       "      <th>budget</th>\n",
       "      <th>ratings</th>\n",
       "      <th>box_office</th>\n",
       "    </tr>\n",
       "  </thead>\n",
       "  <tbody>\n",
       "    <tr>\n",
       "      <th>count</th>\n",
       "      <td>332.00</td>\n",
       "      <td>332.00</td>\n",
       "      <td>332.00</td>\n",
       "      <td>6510.00</td>\n",
       "      <td>3155.00</td>\n",
       "    </tr>\n",
       "    <tr>\n",
       "      <th>mean</th>\n",
       "      <td>11864457.83</td>\n",
       "      <td>48980988.89</td>\n",
       "      <td>131422395.80</td>\n",
       "      <td>6.49</td>\n",
       "      <td>76546809.86</td>\n",
       "    </tr>\n",
       "    <tr>\n",
       "      <th>std</th>\n",
       "      <td>24916555.26</td>\n",
       "      <td>59980117.92</td>\n",
       "      <td>187148242.67</td>\n",
       "      <td>1.11</td>\n",
       "      <td>240457160.40</td>\n",
       "    </tr>\n",
       "    <tr>\n",
       "      <th>min</th>\n",
       "      <td>0.00</td>\n",
       "      <td>0.00</td>\n",
       "      <td>6000000.00</td>\n",
       "      <td>1.00</td>\n",
       "      <td>0.00</td>\n",
       "    </tr>\n",
       "    <tr>\n",
       "      <th>25%</th>\n",
       "      <td>0.00</td>\n",
       "      <td>25000000.00</td>\n",
       "      <td>45524799.50</td>\n",
       "      <td>5.90</td>\n",
       "      <td>86288.00</td>\n",
       "    </tr>\n",
       "    <tr>\n",
       "      <th>50%</th>\n",
       "      <td>0.00</td>\n",
       "      <td>30000000.00</td>\n",
       "      <td>71196901.50</td>\n",
       "      <td>6.60</td>\n",
       "      <td>2330104.00</td>\n",
       "    </tr>\n",
       "    <tr>\n",
       "      <th>75%</th>\n",
       "      <td>15000000.00</td>\n",
       "      <td>40375000.00</td>\n",
       "      <td>150000000.00</td>\n",
       "      <td>7.20</td>\n",
       "      <td>23995460.84</td>\n",
       "    </tr>\n",
       "    <tr>\n",
       "      <th>max</th>\n",
       "      <td>180000000.00</td>\n",
       "      <td>400000000.00</td>\n",
       "      <td>2305074303.00</td>\n",
       "      <td>9.90</td>\n",
       "      <td>3073568690.79</td>\n",
       "    </tr>\n",
       "  </tbody>\n",
       "</table>\n",
       "</div>"
      ],
      "text/plain": [
       "       refundable_support  nonrefundable_support        budget  ratings  \\\n",
       "count              332.00                 332.00        332.00  6510.00   \n",
       "mean          11864457.83            48980988.89  131422395.80     6.49   \n",
       "std           24916555.26            59980117.92  187148242.67     1.11   \n",
       "min                  0.00                   0.00    6000000.00     1.00   \n",
       "25%                  0.00            25000000.00   45524799.50     5.90   \n",
       "50%                  0.00            30000000.00   71196901.50     6.60   \n",
       "75%           15000000.00            40375000.00  150000000.00     7.20   \n",
       "max          180000000.00           400000000.00 2305074303.00     9.90   \n",
       "\n",
       "         box_office  \n",
       "count       3155.00  \n",
       "mean    76546809.86  \n",
       "std    240457160.40  \n",
       "min            0.00  \n",
       "25%        86288.00  \n",
       "50%      2330104.00  \n",
       "75%     23995460.84  \n",
       "max   3073568690.79  "
      ]
     },
     "metadata": {},
     "output_type": "display_data"
    }
   ],
   "source": [
    "display(df.describe())"
   ]
  },
  {
   "cell_type": "markdown",
   "metadata": {},
   "source": [
    "Проведя небольшой анализ мы можем увидеть, что аномально большие значения присутствуют во всех из данных столбцов, но так как в столбцах `refundable_support`, `nonrefundable_support` и `budget` слишком мало значений, то убирать их нецелесообразно. В тоже время в столбце `ratings` мы можем избавиться от аномально больших значений"
   ]
  },
  {
   "cell_type": "code",
   "execution_count": 32,
   "metadata": {},
   "outputs": [
    {
     "data": {
      "text/html": [
       "<div>\n",
       "<style scoped>\n",
       "    .dataframe tbody tr th:only-of-type {\n",
       "        vertical-align: middle;\n",
       "    }\n",
       "\n",
       "    .dataframe tbody tr th {\n",
       "        vertical-align: top;\n",
       "    }\n",
       "\n",
       "    .dataframe thead th {\n",
       "        text-align: right;\n",
       "    }\n",
       "</style>\n",
       "<table border=\"1\" class=\"dataframe\">\n",
       "  <thead>\n",
       "    <tr style=\"text-align: right;\">\n",
       "      <th></th>\n",
       "      <th>refundable_support</th>\n",
       "      <th>nonrefundable_support</th>\n",
       "      <th>budget</th>\n",
       "      <th>ratings</th>\n",
       "      <th>box_office</th>\n",
       "    </tr>\n",
       "  </thead>\n",
       "  <tbody>\n",
       "    <tr>\n",
       "      <th>count</th>\n",
       "      <td>331.00</td>\n",
       "      <td>331.00</td>\n",
       "      <td>331.00</td>\n",
       "      <td>6493.00</td>\n",
       "      <td>3149.00</td>\n",
       "    </tr>\n",
       "    <tr>\n",
       "      <th>mean</th>\n",
       "      <td>11900302.11</td>\n",
       "      <td>49098756.23</td>\n",
       "      <td>131698596.39</td>\n",
       "      <td>6.48</td>\n",
       "      <td>76692027.97</td>\n",
       "    </tr>\n",
       "    <tr>\n",
       "      <th>std</th>\n",
       "      <td>24945704.90</td>\n",
       "      <td>60032473.70</td>\n",
       "      <td>187363805.25</td>\n",
       "      <td>1.10</td>\n",
       "      <td>240663157.83</td>\n",
       "    </tr>\n",
       "    <tr>\n",
       "      <th>min</th>\n",
       "      <td>0.00</td>\n",
       "      <td>0.00</td>\n",
       "      <td>6000000.00</td>\n",
       "      <td>1.00</td>\n",
       "      <td>0.00</td>\n",
       "    </tr>\n",
       "    <tr>\n",
       "      <th>25%</th>\n",
       "      <td>0.00</td>\n",
       "      <td>25000000.00</td>\n",
       "      <td>45846250.50</td>\n",
       "      <td>5.90</td>\n",
       "      <td>87810.00</td>\n",
       "    </tr>\n",
       "    <tr>\n",
       "      <th>50%</th>\n",
       "      <td>0.00</td>\n",
       "      <td>30000000.00</td>\n",
       "      <td>71517631.00</td>\n",
       "      <td>6.60</td>\n",
       "      <td>2347156.00</td>\n",
       "    </tr>\n",
       "    <tr>\n",
       "      <th>75%</th>\n",
       "      <td>15000000.00</td>\n",
       "      <td>40750000.00</td>\n",
       "      <td>150000000.00</td>\n",
       "      <td>7.20</td>\n",
       "      <td>24101208.37</td>\n",
       "    </tr>\n",
       "    <tr>\n",
       "      <th>max</th>\n",
       "      <td>180000000.00</td>\n",
       "      <td>400000000.00</td>\n",
       "      <td>2305074303.00</td>\n",
       "      <td>9.00</td>\n",
       "      <td>3073568690.79</td>\n",
       "    </tr>\n",
       "  </tbody>\n",
       "</table>\n",
       "</div>"
      ],
      "text/plain": [
       "       refundable_support  nonrefundable_support        budget  ratings  \\\n",
       "count              331.00                 331.00        331.00  6493.00   \n",
       "mean          11900302.11            49098756.23  131698596.39     6.48   \n",
       "std           24945704.90            60032473.70  187363805.25     1.10   \n",
       "min                  0.00                   0.00    6000000.00     1.00   \n",
       "25%                  0.00            25000000.00   45846250.50     5.90   \n",
       "50%                  0.00            30000000.00   71517631.00     6.60   \n",
       "75%           15000000.00            40750000.00  150000000.00     7.20   \n",
       "max          180000000.00           400000000.00 2305074303.00     9.00   \n",
       "\n",
       "         box_office  \n",
       "count       3149.00  \n",
       "mean    76692027.97  \n",
       "std    240663157.83  \n",
       "min            0.00  \n",
       "25%        87810.00  \n",
       "50%      2347156.00  \n",
       "75%     24101208.37  \n",
       "max   3073568690.79  "
      ]
     },
     "execution_count": 32,
     "metadata": {},
     "output_type": "execute_result"
    }
   ],
   "source": [
    "outliers = df.query('ratings > 9').index\n",
    "df = df.drop(index = outliers)\n",
    "df.describe()"
   ]
  },
  {
   "cell_type": "markdown",
   "metadata": {},
   "source": [
    "Как мы можем видеть после удаления аномально больших значений в столбце `ratings` у нас было удалено менее 1% в каждом столбце, что значит, что эти данные мы можем удалить без сильного влияния на результаты."
   ]
  },
  {
   "cell_type": "markdown",
   "metadata": {
    "id": "Eu6oWp2CgFyS"
   },
   "source": [
    "#### Шаг 2.6. Добавление новых столбцов\n",
    "\n",
    "\n",
    "\n"
   ]
  },
  {
   "cell_type": "code",
   "execution_count": 33,
   "metadata": {
    "id": "I-yd1DkWgFyT",
    "scrolled": true
   },
   "outputs": [
    {
     "data": {
      "text/html": [
       "<div>\n",
       "<style scoped>\n",
       "    .dataframe tbody tr th:only-of-type {\n",
       "        vertical-align: middle;\n",
       "    }\n",
       "\n",
       "    .dataframe tbody tr th {\n",
       "        vertical-align: top;\n",
       "    }\n",
       "\n",
       "    .dataframe thead th {\n",
       "        text-align: right;\n",
       "    }\n",
       "</style>\n",
       "<table border=\"1\" class=\"dataframe\">\n",
       "  <thead>\n",
       "    <tr style=\"text-align: right;\">\n",
       "      <th></th>\n",
       "      <th>title</th>\n",
       "      <th>puNumber</th>\n",
       "      <th>show_start_date</th>\n",
       "      <th>type</th>\n",
       "      <th>film_studio</th>\n",
       "      <th>production_country</th>\n",
       "      <th>director</th>\n",
       "      <th>producer</th>\n",
       "      <th>age_restriction</th>\n",
       "      <th>refundable_support</th>\n",
       "      <th>nonrefundable_support</th>\n",
       "      <th>budget</th>\n",
       "      <th>financing_source</th>\n",
       "      <th>ratings</th>\n",
       "      <th>genres</th>\n",
       "      <th>box_office</th>\n",
       "      <th>year</th>\n",
       "    </tr>\n",
       "  </thead>\n",
       "  <tbody>\n",
       "    <tr>\n",
       "      <th>0</th>\n",
       "      <td>Открытый простор</td>\n",
       "      <td>221048915</td>\n",
       "      <td>2015-11-27 12:00:00</td>\n",
       "      <td>Художественный</td>\n",
       "      <td>Тачстоун Пикчерз, Кобальт Пикчерз, Бикон Пикче...</td>\n",
       "      <td>США</td>\n",
       "      <td>Кевин Костнер</td>\n",
       "      <td>Дэвид Валдес, Кевин Костнер, Джейк Эбертс</td>\n",
       "      <td>«18+» - запрещено для детей</td>\n",
       "      <td>NaN</td>\n",
       "      <td>NaN</td>\n",
       "      <td>NaN</td>\n",
       "      <td>NaN</td>\n",
       "      <td>7.20</td>\n",
       "      <td>боевик,драма,мелодрама</td>\n",
       "      <td>NaN</td>\n",
       "      <td>2015</td>\n",
       "    </tr>\n",
       "    <tr>\n",
       "      <th>1</th>\n",
       "      <td>Особо важное задание</td>\n",
       "      <td>111013716</td>\n",
       "      <td>2016-09-13 12:00:00</td>\n",
       "      <td>Художественный</td>\n",
       "      <td>Киностудия \"Мосфильм\"</td>\n",
       "      <td>СССР</td>\n",
       "      <td>Е.Матвеев</td>\n",
       "      <td>NaN</td>\n",
       "      <td>«6+» - для детей старше 6 лет</td>\n",
       "      <td>NaN</td>\n",
       "      <td>NaN</td>\n",
       "      <td>NaN</td>\n",
       "      <td>NaN</td>\n",
       "      <td>6.60</td>\n",
       "      <td>драма,военный</td>\n",
       "      <td>NaN</td>\n",
       "      <td>2016</td>\n",
       "    </tr>\n",
       "    <tr>\n",
       "      <th>2</th>\n",
       "      <td>Особо опасен</td>\n",
       "      <td>221038416</td>\n",
       "      <td>2016-10-10 12:00:00</td>\n",
       "      <td>Художественный</td>\n",
       "      <td>Юниверсал Пикчерз, Кикстарт Продакшнз, Марк Пл...</td>\n",
       "      <td>США</td>\n",
       "      <td>Тимур Бекмамбетов</td>\n",
       "      <td>Джим Лемли, Джейсон Нетер, Марк Е.Платт, Яйн Смит</td>\n",
       "      <td>«18+» - запрещено для детей</td>\n",
       "      <td>NaN</td>\n",
       "      <td>NaN</td>\n",
       "      <td>NaN</td>\n",
       "      <td>NaN</td>\n",
       "      <td>6.80</td>\n",
       "      <td>фантастика,боевик,триллер</td>\n",
       "      <td>NaN</td>\n",
       "      <td>2016</td>\n",
       "    </tr>\n",
       "    <tr>\n",
       "      <th>3</th>\n",
       "      <td>Особо опасен</td>\n",
       "      <td>221026916</td>\n",
       "      <td>2016-06-10 12:00:00</td>\n",
       "      <td>Художественный</td>\n",
       "      <td>Юниверсал Пикчерз, Кикстарт Продакшнз, Марк Пл...</td>\n",
       "      <td>США</td>\n",
       "      <td>Тимур Бекмамбетов</td>\n",
       "      <td>Джим Лемли, Джейсон Нетер, Марк Е.Платт, Яйн Смит</td>\n",
       "      <td>«18+» - запрещено для детей</td>\n",
       "      <td>NaN</td>\n",
       "      <td>NaN</td>\n",
       "      <td>NaN</td>\n",
       "      <td>NaN</td>\n",
       "      <td>6.80</td>\n",
       "      <td>фантастика,боевик,триллер</td>\n",
       "      <td>NaN</td>\n",
       "      <td>2016</td>\n",
       "    </tr>\n",
       "    <tr>\n",
       "      <th>4</th>\n",
       "      <td>Особо опасен</td>\n",
       "      <td>221030815</td>\n",
       "      <td>2015-07-29 12:00:00</td>\n",
       "      <td>Художественный</td>\n",
       "      <td>Юниверсал Пикчерз, Кикстарт Продакшнз, Марк Пл...</td>\n",
       "      <td>США</td>\n",
       "      <td>Тимур Бекмамбетов</td>\n",
       "      <td>Джим Лемли, Джейсон Нетер, Марк Е.Платт, Яйн Смит</td>\n",
       "      <td>«18+» - запрещено для детей</td>\n",
       "      <td>NaN</td>\n",
       "      <td>NaN</td>\n",
       "      <td>NaN</td>\n",
       "      <td>NaN</td>\n",
       "      <td>6.80</td>\n",
       "      <td>фантастика,боевик,триллер</td>\n",
       "      <td>NaN</td>\n",
       "      <td>2015</td>\n",
       "    </tr>\n",
       "  </tbody>\n",
       "</table>\n",
       "</div>"
      ],
      "text/plain": [
       "                  title   puNumber     show_start_date            type  \\\n",
       "0      Открытый простор  221048915 2015-11-27 12:00:00  Художественный   \n",
       "1  Особо важное задание  111013716 2016-09-13 12:00:00  Художественный   \n",
       "2          Особо опасен  221038416 2016-10-10 12:00:00  Художественный   \n",
       "3          Особо опасен  221026916 2016-06-10 12:00:00  Художественный   \n",
       "4          Особо опасен  221030815 2015-07-29 12:00:00  Художественный   \n",
       "\n",
       "                                         film_studio production_country  \\\n",
       "0  Тачстоун Пикчерз, Кобальт Пикчерз, Бикон Пикче...                США   \n",
       "1                              Киностудия \"Мосфильм\"               СССР   \n",
       "2  Юниверсал Пикчерз, Кикстарт Продакшнз, Марк Пл...                США   \n",
       "3  Юниверсал Пикчерз, Кикстарт Продакшнз, Марк Пл...                США   \n",
       "4  Юниверсал Пикчерз, Кикстарт Продакшнз, Марк Пл...                США   \n",
       "\n",
       "            director                                           producer  \\\n",
       "0      Кевин Костнер          Дэвид Валдес, Кевин Костнер, Джейк Эбертс   \n",
       "1          Е.Матвеев                                                NaN   \n",
       "2  Тимур Бекмамбетов  Джим Лемли, Джейсон Нетер, Марк Е.Платт, Яйн Смит   \n",
       "3  Тимур Бекмамбетов  Джим Лемли, Джейсон Нетер, Марк Е.Платт, Яйн Смит   \n",
       "4  Тимур Бекмамбетов  Джим Лемли, Джейсон Нетер, Марк Е.Платт, Яйн Смит   \n",
       "\n",
       "                 age_restriction  refundable_support  nonrefundable_support  \\\n",
       "0    «18+» - запрещено для детей                 NaN                    NaN   \n",
       "1  «6+» - для детей старше 6 лет                 NaN                    NaN   \n",
       "2    «18+» - запрещено для детей                 NaN                    NaN   \n",
       "3    «18+» - запрещено для детей                 NaN                    NaN   \n",
       "4    «18+» - запрещено для детей                 NaN                    NaN   \n",
       "\n",
       "   budget financing_source  ratings                     genres  box_office  \\\n",
       "0     NaN              NaN     7.20     боевик,драма,мелодрама         NaN   \n",
       "1     NaN              NaN     6.60              драма,военный         NaN   \n",
       "2     NaN              NaN     6.80  фантастика,боевик,триллер         NaN   \n",
       "3     NaN              NaN     6.80  фантастика,боевик,триллер         NaN   \n",
       "4     NaN              NaN     6.80  фантастика,боевик,триллер         NaN   \n",
       "\n",
       "   year  \n",
       "0  2015  \n",
       "1  2016  \n",
       "2  2016  \n",
       "3  2016  \n",
       "4  2015  "
      ]
     },
     "metadata": {},
     "output_type": "display_data"
    }
   ],
   "source": [
    "df['year'] = df['show_start_date'].dt.year #Создание столбца с годом проката\n",
    "display(df.head())"
   ]
  },
  {
   "cell_type": "code",
   "execution_count": 34,
   "metadata": {
    "id": "LSbRZKbMgFyU",
    "scrolled": true
   },
   "outputs": [
    {
     "data": {
      "text/html": [
       "<div>\n",
       "<style scoped>\n",
       "    .dataframe tbody tr th:only-of-type {\n",
       "        vertical-align: middle;\n",
       "    }\n",
       "\n",
       "    .dataframe tbody tr th {\n",
       "        vertical-align: top;\n",
       "    }\n",
       "\n",
       "    .dataframe thead th {\n",
       "        text-align: right;\n",
       "    }\n",
       "</style>\n",
       "<table border=\"1\" class=\"dataframe\">\n",
       "  <thead>\n",
       "    <tr style=\"text-align: right;\">\n",
       "      <th></th>\n",
       "      <th>title</th>\n",
       "      <th>puNumber</th>\n",
       "      <th>show_start_date</th>\n",
       "      <th>type</th>\n",
       "      <th>film_studio</th>\n",
       "      <th>production_country</th>\n",
       "      <th>director</th>\n",
       "      <th>producer</th>\n",
       "      <th>age_restriction</th>\n",
       "      <th>refundable_support</th>\n",
       "      <th>nonrefundable_support</th>\n",
       "      <th>budget</th>\n",
       "      <th>financing_source</th>\n",
       "      <th>ratings</th>\n",
       "      <th>genres</th>\n",
       "      <th>box_office</th>\n",
       "      <th>year</th>\n",
       "      <th>director_ns</th>\n",
       "      <th>main_genre</th>\n",
       "    </tr>\n",
       "  </thead>\n",
       "  <tbody>\n",
       "    <tr>\n",
       "      <th>0</th>\n",
       "      <td>Открытый простор</td>\n",
       "      <td>221048915</td>\n",
       "      <td>2015-11-27 12:00:00</td>\n",
       "      <td>Художественный</td>\n",
       "      <td>Тачстоун Пикчерз, Кобальт Пикчерз, Бикон Пикче...</td>\n",
       "      <td>США</td>\n",
       "      <td>Кевин Костнер</td>\n",
       "      <td>Дэвид Валдес, Кевин Костнер, Джейк Эбертс</td>\n",
       "      <td>«18+» - запрещено для детей</td>\n",
       "      <td>NaN</td>\n",
       "      <td>NaN</td>\n",
       "      <td>NaN</td>\n",
       "      <td>NaN</td>\n",
       "      <td>7.20</td>\n",
       "      <td>боевик,драма,мелодрама</td>\n",
       "      <td>NaN</td>\n",
       "      <td>2015</td>\n",
       "      <td>Кевин Костнер</td>\n",
       "      <td>боевик</td>\n",
       "    </tr>\n",
       "    <tr>\n",
       "      <th>1</th>\n",
       "      <td>Особо важное задание</td>\n",
       "      <td>111013716</td>\n",
       "      <td>2016-09-13 12:00:00</td>\n",
       "      <td>Художественный</td>\n",
       "      <td>Киностудия \"Мосфильм\"</td>\n",
       "      <td>СССР</td>\n",
       "      <td>Е.Матвеев</td>\n",
       "      <td>NaN</td>\n",
       "      <td>«6+» - для детей старше 6 лет</td>\n",
       "      <td>NaN</td>\n",
       "      <td>NaN</td>\n",
       "      <td>NaN</td>\n",
       "      <td>NaN</td>\n",
       "      <td>6.60</td>\n",
       "      <td>драма,военный</td>\n",
       "      <td>NaN</td>\n",
       "      <td>2016</td>\n",
       "      <td>Е.Матвеев</td>\n",
       "      <td>драма</td>\n",
       "    </tr>\n",
       "    <tr>\n",
       "      <th>2</th>\n",
       "      <td>Особо опасен</td>\n",
       "      <td>221038416</td>\n",
       "      <td>2016-10-10 12:00:00</td>\n",
       "      <td>Художественный</td>\n",
       "      <td>Юниверсал Пикчерз, Кикстарт Продакшнз, Марк Пл...</td>\n",
       "      <td>США</td>\n",
       "      <td>Тимур Бекмамбетов</td>\n",
       "      <td>Джим Лемли, Джейсон Нетер, Марк Е.Платт, Яйн Смит</td>\n",
       "      <td>«18+» - запрещено для детей</td>\n",
       "      <td>NaN</td>\n",
       "      <td>NaN</td>\n",
       "      <td>NaN</td>\n",
       "      <td>NaN</td>\n",
       "      <td>6.80</td>\n",
       "      <td>фантастика,боевик,триллер</td>\n",
       "      <td>NaN</td>\n",
       "      <td>2016</td>\n",
       "      <td>Тимур Бекмамбетов</td>\n",
       "      <td>фантастика</td>\n",
       "    </tr>\n",
       "    <tr>\n",
       "      <th>3</th>\n",
       "      <td>Особо опасен</td>\n",
       "      <td>221026916</td>\n",
       "      <td>2016-06-10 12:00:00</td>\n",
       "      <td>Художественный</td>\n",
       "      <td>Юниверсал Пикчерз, Кикстарт Продакшнз, Марк Пл...</td>\n",
       "      <td>США</td>\n",
       "      <td>Тимур Бекмамбетов</td>\n",
       "      <td>Джим Лемли, Джейсон Нетер, Марк Е.Платт, Яйн Смит</td>\n",
       "      <td>«18+» - запрещено для детей</td>\n",
       "      <td>NaN</td>\n",
       "      <td>NaN</td>\n",
       "      <td>NaN</td>\n",
       "      <td>NaN</td>\n",
       "      <td>6.80</td>\n",
       "      <td>фантастика,боевик,триллер</td>\n",
       "      <td>NaN</td>\n",
       "      <td>2016</td>\n",
       "      <td>Тимур Бекмамбетов</td>\n",
       "      <td>фантастика</td>\n",
       "    </tr>\n",
       "    <tr>\n",
       "      <th>4</th>\n",
       "      <td>Особо опасен</td>\n",
       "      <td>221030815</td>\n",
       "      <td>2015-07-29 12:00:00</td>\n",
       "      <td>Художественный</td>\n",
       "      <td>Юниверсал Пикчерз, Кикстарт Продакшнз, Марк Пл...</td>\n",
       "      <td>США</td>\n",
       "      <td>Тимур Бекмамбетов</td>\n",
       "      <td>Джим Лемли, Джейсон Нетер, Марк Е.Платт, Яйн Смит</td>\n",
       "      <td>«18+» - запрещено для детей</td>\n",
       "      <td>NaN</td>\n",
       "      <td>NaN</td>\n",
       "      <td>NaN</td>\n",
       "      <td>NaN</td>\n",
       "      <td>6.80</td>\n",
       "      <td>фантастика,боевик,триллер</td>\n",
       "      <td>NaN</td>\n",
       "      <td>2015</td>\n",
       "      <td>Тимур Бекмамбетов</td>\n",
       "      <td>фантастика</td>\n",
       "    </tr>\n",
       "    <tr>\n",
       "      <th>5</th>\n",
       "      <td>Остановился поезд</td>\n",
       "      <td>111013816</td>\n",
       "      <td>2016-09-13 12:00:00</td>\n",
       "      <td>Художественный</td>\n",
       "      <td>Киностудия \"Мосфильм\"</td>\n",
       "      <td>СССР</td>\n",
       "      <td>В.Абдрашитов</td>\n",
       "      <td>NaN</td>\n",
       "      <td>«6+» - для детей старше 6 лет</td>\n",
       "      <td>NaN</td>\n",
       "      <td>NaN</td>\n",
       "      <td>NaN</td>\n",
       "      <td>NaN</td>\n",
       "      <td>7.70</td>\n",
       "      <td>драма</td>\n",
       "      <td>NaN</td>\n",
       "      <td>2016</td>\n",
       "      <td>В.Абдрашитов</td>\n",
       "      <td>драма</td>\n",
       "    </tr>\n",
       "    <tr>\n",
       "      <th>6</th>\n",
       "      <td>Любовь и голуби</td>\n",
       "      <td>111007013</td>\n",
       "      <td>2013-10-18 12:00:00</td>\n",
       "      <td>Художественный</td>\n",
       "      <td>Киностудия \"Мосфильм\"</td>\n",
       "      <td>СССР</td>\n",
       "      <td>В.Меньшов</td>\n",
       "      <td>NaN</td>\n",
       "      <td>«12+» - для детей старше 12 лет</td>\n",
       "      <td>NaN</td>\n",
       "      <td>NaN</td>\n",
       "      <td>NaN</td>\n",
       "      <td>NaN</td>\n",
       "      <td>8.30</td>\n",
       "      <td>мелодрама,комедия</td>\n",
       "      <td>2700.00</td>\n",
       "      <td>2013</td>\n",
       "      <td>В.Меньшов</td>\n",
       "      <td>мелодрама</td>\n",
       "    </tr>\n",
       "    <tr>\n",
       "      <th>7</th>\n",
       "      <td>Любовь и сигареты</td>\n",
       "      <td>221074614</td>\n",
       "      <td>2014-12-29 12:00:00</td>\n",
       "      <td>Художественный</td>\n",
       "      <td>Юнайтед Артистс, Грин Стрит Филмз, Айкон Интер...</td>\n",
       "      <td>США</td>\n",
       "      <td>Джон Туртурро</td>\n",
       "      <td>Джон Пенотти, Джон Туртурро</td>\n",
       "      <td>«18+» - запрещено для детей</td>\n",
       "      <td>NaN</td>\n",
       "      <td>NaN</td>\n",
       "      <td>NaN</td>\n",
       "      <td>NaN</td>\n",
       "      <td>6.60</td>\n",
       "      <td>мюзикл,мелодрама,комедия</td>\n",
       "      <td>NaN</td>\n",
       "      <td>2014</td>\n",
       "      <td>Джон Туртурро</td>\n",
       "      <td>мюзикл</td>\n",
       "    </tr>\n",
       "    <tr>\n",
       "      <th>8</th>\n",
       "      <td>Отпетые мошенники.</td>\n",
       "      <td>121011416</td>\n",
       "      <td>2016-05-05 12:00:00</td>\n",
       "      <td>Художественный</td>\n",
       "      <td>Пульсар Продюксьон, ТФ1 Фильм</td>\n",
       "      <td>Франция</td>\n",
       "      <td>Эрик Беснард</td>\n",
       "      <td>Патрис Леду</td>\n",
       "      <td>«18+» - запрещено для детей</td>\n",
       "      <td>NaN</td>\n",
       "      <td>NaN</td>\n",
       "      <td>NaN</td>\n",
       "      <td>NaN</td>\n",
       "      <td>8.00</td>\n",
       "      <td>комедия,криминал</td>\n",
       "      <td>NaN</td>\n",
       "      <td>2016</td>\n",
       "      <td>Эрик Беснард</td>\n",
       "      <td>комедия</td>\n",
       "    </tr>\n",
       "    <tr>\n",
       "      <th>9</th>\n",
       "      <td>Отпуск за свой счет</td>\n",
       "      <td>111019114</td>\n",
       "      <td>2014-12-01 12:00:00</td>\n",
       "      <td>Художественный</td>\n",
       "      <td>Киностудия \"Мосфильм\", Телевидение ВНР</td>\n",
       "      <td>СССР, Венгрия</td>\n",
       "      <td>В.Титов</td>\n",
       "      <td>NaN</td>\n",
       "      <td>«12+» - для детей старше 12 лет</td>\n",
       "      <td>NaN</td>\n",
       "      <td>NaN</td>\n",
       "      <td>NaN</td>\n",
       "      <td>NaN</td>\n",
       "      <td>7.80</td>\n",
       "      <td>мелодрама,комедия</td>\n",
       "      <td>NaN</td>\n",
       "      <td>2014</td>\n",
       "      <td>В.Титов</td>\n",
       "      <td>мелодрама</td>\n",
       "    </tr>\n",
       "    <tr>\n",
       "      <th>10</th>\n",
       "      <td>Превосходство Борна /По одноименной новелле Ро...</td>\n",
       "      <td>221031416</td>\n",
       "      <td>2016-06-29 12:00:00</td>\n",
       "      <td>Художественный</td>\n",
       "      <td>Кеннеди/Маршал Компани, Юниверсал Пикчерз, Гип...</td>\n",
       "      <td>США</td>\n",
       "      <td>Пол Грингросс</td>\n",
       "      <td>Патрик Кроули, Фрэнк Маршалл, Пол Сэндберг</td>\n",
       "      <td>«16+» - для детей старше 16 лет</td>\n",
       "      <td>NaN</td>\n",
       "      <td>NaN</td>\n",
       "      <td>NaN</td>\n",
       "      <td>NaN</td>\n",
       "      <td>7.70</td>\n",
       "      <td>боевик,триллер,детектив</td>\n",
       "      <td>NaN</td>\n",
       "      <td>2016</td>\n",
       "      <td>Пол Грингросс</td>\n",
       "      <td>боевик</td>\n",
       "    </tr>\n",
       "    <tr>\n",
       "      <th>11</th>\n",
       "      <td>Ответный ход</td>\n",
       "      <td>111019014</td>\n",
       "      <td>2014-12-01 12:00:00</td>\n",
       "      <td>Художественный</td>\n",
       "      <td>Киностудия \"Мосфильм\"</td>\n",
       "      <td>СССР</td>\n",
       "      <td>М.Туманишвили</td>\n",
       "      <td>NaN</td>\n",
       "      <td>«12+» - для детей старше 12 лет</td>\n",
       "      <td>NaN</td>\n",
       "      <td>NaN</td>\n",
       "      <td>NaN</td>\n",
       "      <td>NaN</td>\n",
       "      <td>7.80</td>\n",
       "      <td>боевик,драма,приключения</td>\n",
       "      <td>NaN</td>\n",
       "      <td>2014</td>\n",
       "      <td>М.Туманишвили</td>\n",
       "      <td>боевик</td>\n",
       "    </tr>\n",
       "    <tr>\n",
       "      <th>12</th>\n",
       "      <td>Малышка на миллион /По мотивам рассказов Ф.Х.Т...</td>\n",
       "      <td>221011415</td>\n",
       "      <td>2015-04-03 12:00:00</td>\n",
       "      <td>Художественный</td>\n",
       "      <td>Уорнер Бразерс, Лейкшор Интертейнмент, Малпасо...</td>\n",
       "      <td>США</td>\n",
       "      <td>Клинт Иствуд</td>\n",
       "      <td>Клинт Иствуд, Том Розенберг, Альберт С.Рудди, ...</td>\n",
       "      <td>«16+» - для детей старше 16 лет</td>\n",
       "      <td>NaN</td>\n",
       "      <td>NaN</td>\n",
       "      <td>NaN</td>\n",
       "      <td>NaN</td>\n",
       "      <td>8.10</td>\n",
       "      <td>драма,спорт</td>\n",
       "      <td>NaN</td>\n",
       "      <td>2015</td>\n",
       "      <td>Клинт Иствуд</td>\n",
       "      <td>драма</td>\n",
       "    </tr>\n",
       "    <tr>\n",
       "      <th>13</th>\n",
       "      <td>Преданный садовник</td>\n",
       "      <td>121003106</td>\n",
       "      <td>2013-08-26 12:00:00</td>\n",
       "      <td>Художественный</td>\n",
       "      <td>Потбойлер Продакшнз, Эпсилон Моушн Пикчерз, Ск...</td>\n",
       "      <td>Германия-Великобритания</td>\n",
       "      <td>Фернанду Мейрелльеш</td>\n",
       "      <td>Саймон Чэннинг Уильямс</td>\n",
       "      <td>«16+» - для детей старше 16 лет</td>\n",
       "      <td>NaN</td>\n",
       "      <td>NaN</td>\n",
       "      <td>NaN</td>\n",
       "      <td>NaN</td>\n",
       "      <td>7.10</td>\n",
       "      <td>триллер,драма,мелодрама</td>\n",
       "      <td>NaN</td>\n",
       "      <td>2013</td>\n",
       "      <td>Фернанду Мейрелльеш</td>\n",
       "      <td>триллер</td>\n",
       "    </tr>\n",
       "    <tr>\n",
       "      <th>14</th>\n",
       "      <td>Отель /По мотивам пьесы Джона Уэбстера/</td>\n",
       "      <td>221008812</td>\n",
       "      <td>2012-01-27 12:00:00</td>\n",
       "      <td>Художественный</td>\n",
       "      <td>Кэтлей, Отель Продакшнс, Мунстоун Интертейнмен...</td>\n",
       "      <td>Великобритания - Италия</td>\n",
       "      <td>Майк Фиггис</td>\n",
       "      <td>Этчи Стро, Анни Стюарт, Майк Фиггис</td>\n",
       "      <td>«18+» - запрещено для детей</td>\n",
       "      <td>NaN</td>\n",
       "      <td>NaN</td>\n",
       "      <td>NaN</td>\n",
       "      <td>NaN</td>\n",
       "      <td>6.00</td>\n",
       "      <td>комедия,мелодрама</td>\n",
       "      <td>NaN</td>\n",
       "      <td>2012</td>\n",
       "      <td>Майк Фиггис</td>\n",
       "      <td>комедия</td>\n",
       "    </tr>\n",
       "    <tr>\n",
       "      <th>15</th>\n",
       "      <td>Председатель</td>\n",
       "      <td>111014916</td>\n",
       "      <td>2016-09-13 12:00:00</td>\n",
       "      <td>Художественный</td>\n",
       "      <td>Киностудия \"Мосфильм\"</td>\n",
       "      <td>СССР</td>\n",
       "      <td>А.Салтыков</td>\n",
       "      <td>NaN</td>\n",
       "      <td>«12+» - для детей старше 12 лет</td>\n",
       "      <td>NaN</td>\n",
       "      <td>NaN</td>\n",
       "      <td>NaN</td>\n",
       "      <td>NaN</td>\n",
       "      <td>8.30</td>\n",
       "      <td>драма</td>\n",
       "      <td>NaN</td>\n",
       "      <td>2016</td>\n",
       "      <td>А.Салтыков</td>\n",
       "      <td>драма</td>\n",
       "    </tr>\n",
       "    <tr>\n",
       "      <th>16</th>\n",
       "      <td>Осенний марафон</td>\n",
       "      <td>111007513</td>\n",
       "      <td>2013-10-18 12:00:00</td>\n",
       "      <td>Художественный</td>\n",
       "      <td>Киностудия \"Мосфильм\"</td>\n",
       "      <td>СССР</td>\n",
       "      <td>Г.Данелия</td>\n",
       "      <td>NaN</td>\n",
       "      <td>«12+» - для детей старше 12 лет</td>\n",
       "      <td>NaN</td>\n",
       "      <td>NaN</td>\n",
       "      <td>NaN</td>\n",
       "      <td>NaN</td>\n",
       "      <td>8.00</td>\n",
       "      <td>драма,мелодрама,комедия</td>\n",
       "      <td>NaN</td>\n",
       "      <td>2013</td>\n",
       "      <td>Г.Данелия</td>\n",
       "      <td>драма</td>\n",
       "    </tr>\n",
       "    <tr>\n",
       "      <th>17</th>\n",
       "      <td>Осень</td>\n",
       "      <td>111027914</td>\n",
       "      <td>2014-12-24 12:00:00</td>\n",
       "      <td>Художественный</td>\n",
       "      <td>Киностудия \"Мосфильм\"</td>\n",
       "      <td>СССР</td>\n",
       "      <td>А.Смирнов</td>\n",
       "      <td>NaN</td>\n",
       "      <td>«12+» - для детей старше 12 лет</td>\n",
       "      <td>NaN</td>\n",
       "      <td>NaN</td>\n",
       "      <td>NaN</td>\n",
       "      <td>NaN</td>\n",
       "      <td>7.40</td>\n",
       "      <td>драма,мелодрама</td>\n",
       "      <td>NaN</td>\n",
       "      <td>2014</td>\n",
       "      <td>А.Смирнов</td>\n",
       "      <td>драма</td>\n",
       "    </tr>\n",
       "    <tr>\n",
       "      <th>18</th>\n",
       "      <td>Неподдающиеся</td>\n",
       "      <td>111003616</td>\n",
       "      <td>2016-02-12 12:00:00</td>\n",
       "      <td>Художественный</td>\n",
       "      <td>Киностудия \"Мосфильм\"</td>\n",
       "      <td>СССР</td>\n",
       "      <td>Ю.Чулюкин</td>\n",
       "      <td>NaN</td>\n",
       "      <td>«6+» - для детей старше 6 лет</td>\n",
       "      <td>NaN</td>\n",
       "      <td>NaN</td>\n",
       "      <td>NaN</td>\n",
       "      <td>NaN</td>\n",
       "      <td>8.00</td>\n",
       "      <td>мелодрама,комедия</td>\n",
       "      <td>360.00</td>\n",
       "      <td>2016</td>\n",
       "      <td>Ю.Чулюкин</td>\n",
       "      <td>мелодрама</td>\n",
       "    </tr>\n",
       "    <tr>\n",
       "      <th>19</th>\n",
       "      <td>Неподсуден</td>\n",
       "      <td>111003716</td>\n",
       "      <td>2016-02-12 12:00:00</td>\n",
       "      <td>Художественный</td>\n",
       "      <td>Киностудия \"Мосфильм\"</td>\n",
       "      <td>СССР</td>\n",
       "      <td>В.Краснопольский, В.Усков</td>\n",
       "      <td>NaN</td>\n",
       "      <td>«6+» - для детей старше 6 лет</td>\n",
       "      <td>NaN</td>\n",
       "      <td>NaN</td>\n",
       "      <td>NaN</td>\n",
       "      <td>NaN</td>\n",
       "      <td>7.70</td>\n",
       "      <td>драма</td>\n",
       "      <td>420.00</td>\n",
       "      <td>2016</td>\n",
       "      <td>В.Краснопольский</td>\n",
       "      <td>драма</td>\n",
       "    </tr>\n",
       "  </tbody>\n",
       "</table>\n",
       "</div>"
      ],
      "text/plain": [
       "                                                title   puNumber  \\\n",
       "0                                    Открытый простор  221048915   \n",
       "1                                Особо важное задание  111013716   \n",
       "2                                        Особо опасен  221038416   \n",
       "3                                        Особо опасен  221026916   \n",
       "4                                        Особо опасен  221030815   \n",
       "5                                   Остановился поезд  111013816   \n",
       "6                                     Любовь и голуби  111007013   \n",
       "7                                   Любовь и сигареты  221074614   \n",
       "8                                  Отпетые мошенники.  121011416   \n",
       "9                                 Отпуск за свой счет  111019114   \n",
       "10  Превосходство Борна /По одноименной новелле Ро...  221031416   \n",
       "11                                       Ответный ход  111019014   \n",
       "12  Малышка на миллион /По мотивам рассказов Ф.Х.Т...  221011415   \n",
       "13                                 Преданный садовник  121003106   \n",
       "14            Отель /По мотивам пьесы Джона Уэбстера/  221008812   \n",
       "15                                       Председатель  111014916   \n",
       "16                                    Осенний марафон  111007513   \n",
       "17                                              Осень  111027914   \n",
       "18                                      Неподдающиеся  111003616   \n",
       "19                                         Неподсуден  111003716   \n",
       "\n",
       "       show_start_date            type  \\\n",
       "0  2015-11-27 12:00:00  Художественный   \n",
       "1  2016-09-13 12:00:00  Художественный   \n",
       "2  2016-10-10 12:00:00  Художественный   \n",
       "3  2016-06-10 12:00:00  Художественный   \n",
       "4  2015-07-29 12:00:00  Художественный   \n",
       "5  2016-09-13 12:00:00  Художественный   \n",
       "6  2013-10-18 12:00:00  Художественный   \n",
       "7  2014-12-29 12:00:00  Художественный   \n",
       "8  2016-05-05 12:00:00  Художественный   \n",
       "9  2014-12-01 12:00:00  Художественный   \n",
       "10 2016-06-29 12:00:00  Художественный   \n",
       "11 2014-12-01 12:00:00  Художественный   \n",
       "12 2015-04-03 12:00:00  Художественный   \n",
       "13 2013-08-26 12:00:00  Художественный   \n",
       "14 2012-01-27 12:00:00  Художественный   \n",
       "15 2016-09-13 12:00:00  Художественный   \n",
       "16 2013-10-18 12:00:00  Художественный   \n",
       "17 2014-12-24 12:00:00  Художественный   \n",
       "18 2016-02-12 12:00:00  Художественный   \n",
       "19 2016-02-12 12:00:00  Художественный   \n",
       "\n",
       "                                          film_studio  \\\n",
       "0   Тачстоун Пикчерз, Кобальт Пикчерз, Бикон Пикче...   \n",
       "1                               Киностудия \"Мосфильм\"   \n",
       "2   Юниверсал Пикчерз, Кикстарт Продакшнз, Марк Пл...   \n",
       "3   Юниверсал Пикчерз, Кикстарт Продакшнз, Марк Пл...   \n",
       "4   Юниверсал Пикчерз, Кикстарт Продакшнз, Марк Пл...   \n",
       "5                               Киностудия \"Мосфильм\"   \n",
       "6                               Киностудия \"Мосфильм\"   \n",
       "7   Юнайтед Артистс, Грин Стрит Филмз, Айкон Интер...   \n",
       "8                      Пульсар Продюксьон, ТФ1 Фильм    \n",
       "9              Киностудия \"Мосфильм\", Телевидение ВНР   \n",
       "10  Кеннеди/Маршал Компани, Юниверсал Пикчерз, Гип...   \n",
       "11                              Киностудия \"Мосфильм\"   \n",
       "12  Уорнер Бразерс, Лейкшор Интертейнмент, Малпасо...   \n",
       "13  Потбойлер Продакшнз, Эпсилон Моушн Пикчерз, Ск...   \n",
       "14  Кэтлей, Отель Продакшнс, Мунстоун Интертейнмен...   \n",
       "15                              Киностудия \"Мосфильм\"   \n",
       "16                              Киностудия \"Мосфильм\"   \n",
       "17                              Киностудия \"Мосфильм\"   \n",
       "18                              Киностудия \"Мосфильм\"   \n",
       "19                              Киностудия \"Мосфильм\"   \n",
       "\n",
       "         production_country                   director  \\\n",
       "0                       США              Кевин Костнер   \n",
       "1                      СССР                  Е.Матвеев   \n",
       "2                       США          Тимур Бекмамбетов   \n",
       "3                       США          Тимур Бекмамбетов   \n",
       "4                       США          Тимур Бекмамбетов   \n",
       "5                      СССР               В.Абдрашитов   \n",
       "6                      СССР                  В.Меньшов   \n",
       "7                       США              Джон Туртурро   \n",
       "8                   Франция               Эрик Беснард   \n",
       "9             СССР, Венгрия                    В.Титов   \n",
       "10                      США              Пол Грингросс   \n",
       "11                     СССР              М.Туманишвили   \n",
       "12                      США               Клинт Иствуд   \n",
       "13  Германия-Великобритания        Фернанду Мейрелльеш   \n",
       "14  Великобритания - Италия                Майк Фиггис   \n",
       "15                     СССР                 А.Салтыков   \n",
       "16                     СССР                  Г.Данелия   \n",
       "17                     СССР                  А.Смирнов   \n",
       "18                     СССР                  Ю.Чулюкин   \n",
       "19                     СССР  В.Краснопольский, В.Усков   \n",
       "\n",
       "                                             producer  \\\n",
       "0           Дэвид Валдес, Кевин Костнер, Джейк Эбертс   \n",
       "1                                                 NaN   \n",
       "2   Джим Лемли, Джейсон Нетер, Марк Е.Платт, Яйн Смит   \n",
       "3   Джим Лемли, Джейсон Нетер, Марк Е.Платт, Яйн Смит   \n",
       "4   Джим Лемли, Джейсон Нетер, Марк Е.Платт, Яйн Смит   \n",
       "5                                                 NaN   \n",
       "6                                                 NaN   \n",
       "7                         Джон Пенотти, Джон Туртурро   \n",
       "8                                         Патрис Леду   \n",
       "9                                                 NaN   \n",
       "10         Патрик Кроули, Фрэнк Маршалл, Пол Сэндберг   \n",
       "11                                                NaN   \n",
       "12  Клинт Иствуд, Том Розенберг, Альберт С.Рудди, ...   \n",
       "13                             Саймон Чэннинг Уильямс   \n",
       "14                Этчи Стро, Анни Стюарт, Майк Фиггис   \n",
       "15                                                NaN   \n",
       "16                                                NaN   \n",
       "17                                                NaN   \n",
       "18                                                NaN   \n",
       "19                                                NaN   \n",
       "\n",
       "                    age_restriction  refundable_support  \\\n",
       "0       «18+» - запрещено для детей                 NaN   \n",
       "1     «6+» - для детей старше 6 лет                 NaN   \n",
       "2       «18+» - запрещено для детей                 NaN   \n",
       "3       «18+» - запрещено для детей                 NaN   \n",
       "4       «18+» - запрещено для детей                 NaN   \n",
       "5     «6+» - для детей старше 6 лет                 NaN   \n",
       "6   «12+» - для детей старше 12 лет                 NaN   \n",
       "7       «18+» - запрещено для детей                 NaN   \n",
       "8       «18+» - запрещено для детей                 NaN   \n",
       "9   «12+» - для детей старше 12 лет                 NaN   \n",
       "10  «16+» - для детей старше 16 лет                 NaN   \n",
       "11  «12+» - для детей старше 12 лет                 NaN   \n",
       "12  «16+» - для детей старше 16 лет                 NaN   \n",
       "13  «16+» - для детей старше 16 лет                 NaN   \n",
       "14      «18+» - запрещено для детей                 NaN   \n",
       "15  «12+» - для детей старше 12 лет                 NaN   \n",
       "16  «12+» - для детей старше 12 лет                 NaN   \n",
       "17  «12+» - для детей старше 12 лет                 NaN   \n",
       "18    «6+» - для детей старше 6 лет                 NaN   \n",
       "19    «6+» - для детей старше 6 лет                 NaN   \n",
       "\n",
       "    nonrefundable_support  budget financing_source  ratings  \\\n",
       "0                     NaN     NaN              NaN     7.20   \n",
       "1                     NaN     NaN              NaN     6.60   \n",
       "2                     NaN     NaN              NaN     6.80   \n",
       "3                     NaN     NaN              NaN     6.80   \n",
       "4                     NaN     NaN              NaN     6.80   \n",
       "5                     NaN     NaN              NaN     7.70   \n",
       "6                     NaN     NaN              NaN     8.30   \n",
       "7                     NaN     NaN              NaN     6.60   \n",
       "8                     NaN     NaN              NaN     8.00   \n",
       "9                     NaN     NaN              NaN     7.80   \n",
       "10                    NaN     NaN              NaN     7.70   \n",
       "11                    NaN     NaN              NaN     7.80   \n",
       "12                    NaN     NaN              NaN     8.10   \n",
       "13                    NaN     NaN              NaN     7.10   \n",
       "14                    NaN     NaN              NaN     6.00   \n",
       "15                    NaN     NaN              NaN     8.30   \n",
       "16                    NaN     NaN              NaN     8.00   \n",
       "17                    NaN     NaN              NaN     7.40   \n",
       "18                    NaN     NaN              NaN     8.00   \n",
       "19                    NaN     NaN              NaN     7.70   \n",
       "\n",
       "                       genres  box_office  year          director_ns  \\\n",
       "0      боевик,драма,мелодрама         NaN  2015        Кевин Костнер   \n",
       "1               драма,военный         NaN  2016            Е.Матвеев   \n",
       "2   фантастика,боевик,триллер         NaN  2016    Тимур Бекмамбетов   \n",
       "3   фантастика,боевик,триллер         NaN  2016    Тимур Бекмамбетов   \n",
       "4   фантастика,боевик,триллер         NaN  2015    Тимур Бекмамбетов   \n",
       "5                       драма         NaN  2016         В.Абдрашитов   \n",
       "6           мелодрама,комедия     2700.00  2013            В.Меньшов   \n",
       "7    мюзикл,мелодрама,комедия         NaN  2014        Джон Туртурро   \n",
       "8            комедия,криминал         NaN  2016         Эрик Беснард   \n",
       "9           мелодрама,комедия         NaN  2014              В.Титов   \n",
       "10    боевик,триллер,детектив         NaN  2016        Пол Грингросс   \n",
       "11   боевик,драма,приключения         NaN  2014        М.Туманишвили   \n",
       "12                драма,спорт         NaN  2015         Клинт Иствуд   \n",
       "13    триллер,драма,мелодрама         NaN  2013  Фернанду Мейрелльеш   \n",
       "14          комедия,мелодрама         NaN  2012          Майк Фиггис   \n",
       "15                      драма         NaN  2016           А.Салтыков   \n",
       "16    драма,мелодрама,комедия         NaN  2013            Г.Данелия   \n",
       "17            драма,мелодрама         NaN  2014            А.Смирнов   \n",
       "18          мелодрама,комедия      360.00  2016            Ю.Чулюкин   \n",
       "19                      драма      420.00  2016     В.Краснопольский   \n",
       "\n",
       "    main_genre  \n",
       "0       боевик  \n",
       "1        драма  \n",
       "2   фантастика  \n",
       "3   фантастика  \n",
       "4   фантастика  \n",
       "5        драма  \n",
       "6    мелодрама  \n",
       "7       мюзикл  \n",
       "8      комедия  \n",
       "9    мелодрама  \n",
       "10      боевик  \n",
       "11      боевик  \n",
       "12       драма  \n",
       "13     триллер  \n",
       "14     комедия  \n",
       "15       драма  \n",
       "16       драма  \n",
       "17       драма  \n",
       "18   мелодрама  \n",
       "19       драма  "
      ]
     },
     "metadata": {},
     "output_type": "display_data"
    }
   ],
   "source": [
    "division('director_ns','director') #Создание новых столбцов с главными режиссерами и жанрами\n",
    "division('main_genre','genres')\n",
    "display(df.head(20))"
   ]
  },
  {
   "cell_type": "code",
   "execution_count": 35,
   "metadata": {
    "id": "LV6qFuZLgFyV"
   },
   "outputs": [
    {
     "data": {
      "text/html": [
       "<div>\n",
       "<style scoped>\n",
       "    .dataframe tbody tr th:only-of-type {\n",
       "        vertical-align: middle;\n",
       "    }\n",
       "\n",
       "    .dataframe tbody tr th {\n",
       "        vertical-align: top;\n",
       "    }\n",
       "\n",
       "    .dataframe thead th {\n",
       "        text-align: right;\n",
       "    }\n",
       "</style>\n",
       "<table border=\"1\" class=\"dataframe\">\n",
       "  <thead>\n",
       "    <tr style=\"text-align: right;\">\n",
       "      <th></th>\n",
       "      <th>title</th>\n",
       "      <th>puNumber</th>\n",
       "      <th>show_start_date</th>\n",
       "      <th>type</th>\n",
       "      <th>film_studio</th>\n",
       "      <th>production_country</th>\n",
       "      <th>director</th>\n",
       "      <th>producer</th>\n",
       "      <th>age_restriction</th>\n",
       "      <th>refundable_support</th>\n",
       "      <th>nonrefundable_support</th>\n",
       "      <th>budget</th>\n",
       "      <th>financing_source</th>\n",
       "      <th>ratings</th>\n",
       "      <th>genres</th>\n",
       "      <th>box_office</th>\n",
       "      <th>year</th>\n",
       "      <th>director_ns</th>\n",
       "      <th>main_genre</th>\n",
       "      <th>sup_part</th>\n",
       "    </tr>\n",
       "  </thead>\n",
       "  <tbody>\n",
       "    <tr>\n",
       "      <th>1281</th>\n",
       "      <td>Пока еще жива</td>\n",
       "      <td>111005313</td>\n",
       "      <td>2013-10-11 12:00:00</td>\n",
       "      <td>Художественный</td>\n",
       "      <td>АНО содействия развитию кинематографии \"Ангел-...</td>\n",
       "      <td>Россия</td>\n",
       "      <td>А.Атанесян</td>\n",
       "      <td>А.Атанесян, М.Бабаханов, Р.Бутко</td>\n",
       "      <td>«16+» - для детей старше 16 лет</td>\n",
       "      <td>0.00</td>\n",
       "      <td>26500000.00</td>\n",
       "      <td>79411900.00</td>\n",
       "      <td>Министерство культуры</td>\n",
       "      <td>8.10</td>\n",
       "      <td>драма,мелодрама</td>\n",
       "      <td>365353.60</td>\n",
       "      <td>2013</td>\n",
       "      <td>А.Атанесян</td>\n",
       "      <td>драма</td>\n",
       "      <td>33.37</td>\n",
       "    </tr>\n",
       "    <tr>\n",
       "      <th>1448</th>\n",
       "      <td>Бесславные придурки</td>\n",
       "      <td>111003314</td>\n",
       "      <td>2014-03-28 12:00:00</td>\n",
       "      <td>Художественный</td>\n",
       "      <td>ООО \"Компания \"АТК-Студио\"</td>\n",
       "      <td>Россия</td>\n",
       "      <td>А.Якимчук</td>\n",
       "      <td>А.Тютрюмов</td>\n",
       "      <td>«12+» - для детей старше 12 лет</td>\n",
       "      <td>0.00</td>\n",
       "      <td>26000000.00</td>\n",
       "      <td>37142857.00</td>\n",
       "      <td>Министерство культуры</td>\n",
       "      <td>NaN</td>\n",
       "      <td>NaN</td>\n",
       "      <td>28140.00</td>\n",
       "      <td>2014</td>\n",
       "      <td>А.Якимчук</td>\n",
       "      <td>NaN</td>\n",
       "      <td>70.00</td>\n",
       "    </tr>\n",
       "    <tr>\n",
       "      <th>1498</th>\n",
       "      <td>Невидимки</td>\n",
       "      <td>111004213</td>\n",
       "      <td>2013-09-10 12:00:00</td>\n",
       "      <td>Художественный</td>\n",
       "      <td>ООО \"Компания \"РЕАЛ-ДАКОТА\"</td>\n",
       "      <td>Россия</td>\n",
       "      <td>Р.Давлетьяров, С.Комаров</td>\n",
       "      <td>Р.Давлетьяров, А.Котелевский, А.Олейников</td>\n",
       "      <td>«12+» - для детей старше 12 лет</td>\n",
       "      <td>0.00</td>\n",
       "      <td>107847945.00</td>\n",
       "      <td>176023490.00</td>\n",
       "      <td>Фонд кино</td>\n",
       "      <td>5.30</td>\n",
       "      <td>комедия,фантастика</td>\n",
       "      <td>19957031.50</td>\n",
       "      <td>2013</td>\n",
       "      <td>Р.Давлетьяров</td>\n",
       "      <td>комедия</td>\n",
       "      <td>61.27</td>\n",
       "    </tr>\n",
       "    <tr>\n",
       "      <th>1524</th>\n",
       "      <td>БЕРЦЫ</td>\n",
       "      <td>111004314</td>\n",
       "      <td>2014-05-05 12:00:00</td>\n",
       "      <td>Художественный</td>\n",
       "      <td>ООО \"Студия \"Пассажир\"</td>\n",
       "      <td>Россия</td>\n",
       "      <td>Е.Миндадзе (псевдоним Катя Шагалова)</td>\n",
       "      <td>Л.Антонова</td>\n",
       "      <td>«16+» - для детей старше 16 лет</td>\n",
       "      <td>0.00</td>\n",
       "      <td>28000000.00</td>\n",
       "      <td>40574140.00</td>\n",
       "      <td>Министерство культуры</td>\n",
       "      <td>4.20</td>\n",
       "      <td>драма</td>\n",
       "      <td>55917.50</td>\n",
       "      <td>2014</td>\n",
       "      <td>Е.Миндадзе (псевдоним Катя Шагалова)</td>\n",
       "      <td>драма</td>\n",
       "      <td>69.01</td>\n",
       "    </tr>\n",
       "    <tr>\n",
       "      <th>1792</th>\n",
       "      <td>Братья Ч</td>\n",
       "      <td>111004414</td>\n",
       "      <td>2014-04-23 12:00:00</td>\n",
       "      <td>Художественный</td>\n",
       "      <td>ООО \"Студия \"Пассажир\"</td>\n",
       "      <td>Россия</td>\n",
       "      <td>М.Угаров</td>\n",
       "      <td>А.Миндадзе, Л.Антонова</td>\n",
       "      <td>«16+» - для детей старше 16 лет</td>\n",
       "      <td>0.00</td>\n",
       "      <td>25000000.00</td>\n",
       "      <td>40015122.00</td>\n",
       "      <td>Министерство культуры</td>\n",
       "      <td>6.40</td>\n",
       "      <td>драма</td>\n",
       "      <td>232100.00</td>\n",
       "      <td>2014</td>\n",
       "      <td>М.Угаров</td>\n",
       "      <td>драма</td>\n",
       "      <td>62.48</td>\n",
       "    </tr>\n",
       "    <tr>\n",
       "      <th>...</th>\n",
       "      <td>...</td>\n",
       "      <td>...</td>\n",
       "      <td>...</td>\n",
       "      <td>...</td>\n",
       "      <td>...</td>\n",
       "      <td>...</td>\n",
       "      <td>...</td>\n",
       "      <td>...</td>\n",
       "      <td>...</td>\n",
       "      <td>...</td>\n",
       "      <td>...</td>\n",
       "      <td>...</td>\n",
       "      <td>...</td>\n",
       "      <td>...</td>\n",
       "      <td>...</td>\n",
       "      <td>...</td>\n",
       "      <td>...</td>\n",
       "      <td>...</td>\n",
       "      <td>...</td>\n",
       "      <td>...</td>\n",
       "    </tr>\n",
       "    <tr>\n",
       "      <th>7464</th>\n",
       "      <td>Союз спасения</td>\n",
       "      <td>111022019</td>\n",
       "      <td>2019-12-26 12:00:00</td>\n",
       "      <td>Художественный</td>\n",
       "      <td>ЗАО \"Дирекция кино\"</td>\n",
       "      <td>Россия</td>\n",
       "      <td>А.Кравчук</td>\n",
       "      <td>А.Максимов, К.Эрнст</td>\n",
       "      <td>«12+» - для детей старше 12 лет</td>\n",
       "      <td>100000000.00</td>\n",
       "      <td>400000000.00</td>\n",
       "      <td>980000000.00</td>\n",
       "      <td>Фонд кино</td>\n",
       "      <td>6.00</td>\n",
       "      <td>история,биография,драма</td>\n",
       "      <td>717703185.53</td>\n",
       "      <td>2019</td>\n",
       "      <td>А.Кравчук</td>\n",
       "      <td>история</td>\n",
       "      <td>51.02</td>\n",
       "    </tr>\n",
       "    <tr>\n",
       "      <th>7466</th>\n",
       "      <td>Иван Царевич и Серый Волк 4</td>\n",
       "      <td>114005019</td>\n",
       "      <td>2019-12-20 12:00:00</td>\n",
       "      <td>Анимационный</td>\n",
       "      <td>ООО \"Студия анимационного кино \"Мельница\"</td>\n",
       "      <td>Россия</td>\n",
       "      <td>Д.Шмидт, К.Феоктистов</td>\n",
       "      <td>С.Сельянов, А.Боярский</td>\n",
       "      <td>«6+» - для детей старше 6 лет</td>\n",
       "      <td>100000000.00</td>\n",
       "      <td>0.00</td>\n",
       "      <td>190000000.00</td>\n",
       "      <td>Фонд кино</td>\n",
       "      <td>6.70</td>\n",
       "      <td>мультфильм,приключения,семейный</td>\n",
       "      <td>501069235.00</td>\n",
       "      <td>2019</td>\n",
       "      <td>Д.Шмидт</td>\n",
       "      <td>мультфильм</td>\n",
       "      <td>52.63</td>\n",
       "    </tr>\n",
       "    <tr>\n",
       "      <th>7474</th>\n",
       "      <td>Вторжение</td>\n",
       "      <td>111022519</td>\n",
       "      <td>2019-12-23 12:00:00</td>\n",
       "      <td>Художественный</td>\n",
       "      <td>ООО \"Арт Пикчерс Студия\", ООО \"Водород 2011\"</td>\n",
       "      <td>Россия</td>\n",
       "      <td>Ф.Бондарчук</td>\n",
       "      <td>Ф.Бондарчук, М.Врубель, А.Андрющенко, Д.Рудовский</td>\n",
       "      <td>«12+» - для детей старше 12 лет</td>\n",
       "      <td>100000000.00</td>\n",
       "      <td>400000000.00</td>\n",
       "      <td>944000000.00</td>\n",
       "      <td>Фонд кино</td>\n",
       "      <td>5.70</td>\n",
       "      <td>фантастика,боевик</td>\n",
       "      <td>NaN</td>\n",
       "      <td>2019</td>\n",
       "      <td>Ф.Бондарчук</td>\n",
       "      <td>фантастика</td>\n",
       "      <td>52.97</td>\n",
       "    </tr>\n",
       "    <tr>\n",
       "      <th>7476</th>\n",
       "      <td>Я свободен</td>\n",
       "      <td>111023019</td>\n",
       "      <td>2019-12-26 12:00:00</td>\n",
       "      <td>Художественный</td>\n",
       "      <td>АО \"ТПО \"Киностудия им. М.Горького\"</td>\n",
       "      <td>Россия</td>\n",
       "      <td>И.Северов</td>\n",
       "      <td>С.Зернов</td>\n",
       "      <td>«12+» - для детей старше 12 лет</td>\n",
       "      <td>0.00</td>\n",
       "      <td>30000000.00</td>\n",
       "      <td>46154000.00</td>\n",
       "      <td>Министерство культуры</td>\n",
       "      <td>5.90</td>\n",
       "      <td>драма</td>\n",
       "      <td>NaN</td>\n",
       "      <td>2019</td>\n",
       "      <td>И.Северов</td>\n",
       "      <td>драма</td>\n",
       "      <td>65.00</td>\n",
       "    </tr>\n",
       "    <tr>\n",
       "      <th>7478</th>\n",
       "      <td>(Не)идеальный мужчина</td>\n",
       "      <td>111023119</td>\n",
       "      <td>2019-12-24 12:00:00</td>\n",
       "      <td>Художественный</td>\n",
       "      <td>ООО \"Нон-Стоп Продакшн\"</td>\n",
       "      <td>Россия</td>\n",
       "      <td>М.Бальчюнас (псевдоним М.Вайсберг)</td>\n",
       "      <td>С.Мелькумов, А.Роднянский, М.Вайсберг, Р.Минас...</td>\n",
       "      <td>«12+» - для детей старше 12 лет</td>\n",
       "      <td>40000000.00</td>\n",
       "      <td>60000000.00</td>\n",
       "      <td>150147502.00</td>\n",
       "      <td>Фонд кино</td>\n",
       "      <td>4.50</td>\n",
       "      <td>комедия,фантастика,мелодрама</td>\n",
       "      <td>NaN</td>\n",
       "      <td>2019</td>\n",
       "      <td>М.Бальчюнас (псевдоним М.Вайсберг)</td>\n",
       "      <td>комедия</td>\n",
       "      <td>66.60</td>\n",
       "    </tr>\n",
       "  </tbody>\n",
       "</table>\n",
       "<p>331 rows × 20 columns</p>\n",
       "</div>"
      ],
      "text/plain": [
       "                            title   puNumber     show_start_date  \\\n",
       "1281                Пока еще жива  111005313 2013-10-11 12:00:00   \n",
       "1448          Бесславные придурки  111003314 2014-03-28 12:00:00   \n",
       "1498                    Невидимки  111004213 2013-09-10 12:00:00   \n",
       "1524                        БЕРЦЫ  111004314 2014-05-05 12:00:00   \n",
       "1792                     Братья Ч  111004414 2014-04-23 12:00:00   \n",
       "...                           ...        ...                 ...   \n",
       "7464                Союз спасения  111022019 2019-12-26 12:00:00   \n",
       "7466  Иван Царевич и Серый Волк 4  114005019 2019-12-20 12:00:00   \n",
       "7474                    Вторжение  111022519 2019-12-23 12:00:00   \n",
       "7476                   Я свободен  111023019 2019-12-26 12:00:00   \n",
       "7478        (Не)идеальный мужчина  111023119 2019-12-24 12:00:00   \n",
       "\n",
       "                type                                        film_studio  \\\n",
       "1281  Художественный  АНО содействия развитию кинематографии \"Ангел-...   \n",
       "1448  Художественный                         ООО \"Компания \"АТК-Студио\"   \n",
       "1498  Художественный                        ООО \"Компания \"РЕАЛ-ДАКОТА\"   \n",
       "1524  Художественный                             ООО \"Студия \"Пассажир\"   \n",
       "1792  Художественный                             ООО \"Студия \"Пассажир\"   \n",
       "...              ...                                                ...   \n",
       "7464  Художественный                                ЗАО \"Дирекция кино\"   \n",
       "7466    Анимационный          ООО \"Студия анимационного кино \"Мельница\"   \n",
       "7474  Художественный       ООО \"Арт Пикчерс Студия\", ООО \"Водород 2011\"   \n",
       "7476  Художественный                АО \"ТПО \"Киностудия им. М.Горького\"   \n",
       "7478  Художественный                           ООО \"Нон-Стоп Продакшн\"    \n",
       "\n",
       "     production_country                              director  \\\n",
       "1281             Россия                            А.Атанесян   \n",
       "1448             Россия                             А.Якимчук   \n",
       "1498             Россия              Р.Давлетьяров, С.Комаров   \n",
       "1524             Россия  Е.Миндадзе (псевдоним Катя Шагалова)   \n",
       "1792             Россия                              М.Угаров   \n",
       "...                 ...                                   ...   \n",
       "7464             Россия                             А.Кравчук   \n",
       "7466             Россия                 Д.Шмидт, К.Феоктистов   \n",
       "7474             Россия                           Ф.Бондарчук   \n",
       "7476             Россия                             И.Северов   \n",
       "7478             Россия    М.Бальчюнас (псевдоним М.Вайсберг)   \n",
       "\n",
       "                                               producer  \\\n",
       "1281                   А.Атанесян, М.Бабаханов, Р.Бутко   \n",
       "1448                                         А.Тютрюмов   \n",
       "1498          Р.Давлетьяров, А.Котелевский, А.Олейников   \n",
       "1524                                         Л.Антонова   \n",
       "1792                             А.Миндадзе, Л.Антонова   \n",
       "...                                                 ...   \n",
       "7464                                А.Максимов, К.Эрнст   \n",
       "7466                             С.Сельянов, А.Боярский   \n",
       "7474  Ф.Бондарчук, М.Врубель, А.Андрющенко, Д.Рудовский   \n",
       "7476                                           С.Зернов   \n",
       "7478  С.Мелькумов, А.Роднянский, М.Вайсберг, Р.Минас...   \n",
       "\n",
       "                      age_restriction  refundable_support  \\\n",
       "1281  «16+» - для детей старше 16 лет                0.00   \n",
       "1448  «12+» - для детей старше 12 лет                0.00   \n",
       "1498  «12+» - для детей старше 12 лет                0.00   \n",
       "1524  «16+» - для детей старше 16 лет                0.00   \n",
       "1792  «16+» - для детей старше 16 лет                0.00   \n",
       "...                               ...                 ...   \n",
       "7464  «12+» - для детей старше 12 лет        100000000.00   \n",
       "7466    «6+» - для детей старше 6 лет        100000000.00   \n",
       "7474  «12+» - для детей старше 12 лет        100000000.00   \n",
       "7476  «12+» - для детей старше 12 лет                0.00   \n",
       "7478  «12+» - для детей старше 12 лет         40000000.00   \n",
       "\n",
       "      nonrefundable_support       budget       financing_source  ratings  \\\n",
       "1281            26500000.00  79411900.00  Министерство культуры     8.10   \n",
       "1448            26000000.00  37142857.00  Министерство культуры      NaN   \n",
       "1498           107847945.00 176023490.00              Фонд кино     5.30   \n",
       "1524            28000000.00  40574140.00  Министерство культуры     4.20   \n",
       "1792            25000000.00  40015122.00  Министерство культуры     6.40   \n",
       "...                     ...          ...                    ...      ...   \n",
       "7464           400000000.00 980000000.00              Фонд кино     6.00   \n",
       "7466                   0.00 190000000.00              Фонд кино     6.70   \n",
       "7474           400000000.00 944000000.00              Фонд кино     5.70   \n",
       "7476            30000000.00  46154000.00  Министерство культуры     5.90   \n",
       "7478            60000000.00 150147502.00              Фонд кино     4.50   \n",
       "\n",
       "                               genres   box_office  year  \\\n",
       "1281                  драма,мелодрама    365353.60  2013   \n",
       "1448                              NaN     28140.00  2014   \n",
       "1498               комедия,фантастика  19957031.50  2013   \n",
       "1524                            драма     55917.50  2014   \n",
       "1792                            драма    232100.00  2014   \n",
       "...                               ...          ...   ...   \n",
       "7464          история,биография,драма 717703185.53  2019   \n",
       "7466  мультфильм,приключения,семейный 501069235.00  2019   \n",
       "7474                фантастика,боевик          NaN  2019   \n",
       "7476                            драма          NaN  2019   \n",
       "7478     комедия,фантастика,мелодрама          NaN  2019   \n",
       "\n",
       "                               director_ns  main_genre  sup_part  \n",
       "1281                            А.Атанесян       драма     33.37  \n",
       "1448                             А.Якимчук         NaN     70.00  \n",
       "1498                         Р.Давлетьяров     комедия     61.27  \n",
       "1524  Е.Миндадзе (псевдоним Катя Шагалова)       драма     69.01  \n",
       "1792                              М.Угаров       драма     62.48  \n",
       "...                                    ...         ...       ...  \n",
       "7464                             А.Кравчук     история     51.02  \n",
       "7466                               Д.Шмидт  мультфильм     52.63  \n",
       "7474                           Ф.Бондарчук  фантастика     52.97  \n",
       "7476                             И.Северов       драма     65.00  \n",
       "7478    М.Бальчюнас (псевдоним М.Вайсберг)     комедия     66.60  \n",
       "\n",
       "[331 rows x 20 columns]"
      ]
     },
     "metadata": {},
     "output_type": "display_data"
    }
   ],
   "source": [
    "df['sup_part'] =  (df['refundable_support'] + df['nonrefundable_support'])/df['budget']*100 #определение части гос поддержки\n",
    "#от общего бюджета в процентах\n",
    "display(df.loc[df['budget']>0]) "
   ]
  },
  {
   "cell_type": "markdown",
   "metadata": {
    "id": "6t4EukPLgFyV"
   },
   "source": [
    "### Исследовательский анализ данных\n"
   ]
  },
  {
   "cell_type": "code",
   "execution_count": 36,
   "metadata": {
    "id": "ABeV47y7gFyW"
   },
   "outputs": [
    {
     "name": "stdout",
     "output_type": "stream",
     "text": [
      "2010    981\n",
      "2019    926\n",
      "2018    886\n",
      "2016    815\n",
      "2014    805\n",
      "2015    700\n",
      "2013    627\n",
      "2011    622\n",
      "2012    592\n",
      "2017    505\n",
      "Name: year, dtype: int64\n"
     ]
    },
    {
     "data": {
      "text/plain": [
       "<AxesSubplot:ylabel='Frequency'>"
      ]
     },
     "execution_count": 36,
     "metadata": {},
     "output_type": "execute_result"
    },
    {
     "data": {
      "image/png": "[encoded data removed]",
      "text/plain": [
       "<Figure size 432x288 with 1 Axes>"
      ]
     },
     "metadata": {
      "needs_background": "light"
     },
     "output_type": "display_data"
    }
   ],
   "source": [
    "print(df['year'].value_counts())\n",
    "df['year'].plot(kind='hist',bins=19 )"
   ]
  },
  {
   "cell_type": "markdown",
   "metadata": {},
   "source": [
    "Больше всего выходило в прокат фильмов в 2010 и 2019 годах, меньше всего в 2012 и 2017 годах. "
   ]
  },
  {
   "cell_type": "code",
   "execution_count": 37,
   "metadata": {
    "scrolled": true
   },
   "outputs": [
    {
     "name": "stdout",
     "output_type": "stream",
     "text": [
      "0.4221745542297895\n"
     ]
    }
   ],
   "source": [
    "office_count = df['box_office'][df['box_office']>=0].count() #Находим количество строк для которых известны сборы\n",
    "print(office_count/df['title'].count()) #находим часть известных данных ко всем данным"
   ]
  },
  {
   "cell_type": "markdown",
   "metadata": {},
   "source": [
    "Всего лишь 42 процента фильмов имеют данные о прокате"
   ]
  },
  {
   "cell_type": "code",
   "execution_count": 38,
   "metadata": {},
   "outputs": [
    {
     "data": {
      "image/png": "[encoded data removed]",
      "text/plain": [
       "<Figure size 432x288 with 1 Axes>"
      ]
     },
     "metadata": {
      "needs_background": "light"
     },
     "output_type": "display_data"
    }
   ],
   "source": [
    "group_df = df.groupby(by=['year']).count()\n",
    "group_df['office_count'] = group_df['box_office']/group_df['title']\n",
    "plotting(group_df,'bar','office_count')"
   ]
  },
  {
   "cell_type": "markdown",
   "metadata": {},
   "source": [
    "По графику мы можем видеть, что хуже всего информация представлена в 2010 и 2011 годах, больше всего информации имеется о 2015-2017 годах, при этом мы видим, что после 2014 года полнота информации резко растет, возможно с 2015 года сбору информации стали уделять больше внимания"
   ]
  },
  {
   "cell_type": "code",
   "execution_count": 39,
   "metadata": {},
   "outputs": [
    {
     "data": {
      "text/html": [
       "<div>\n",
       "<style scoped>\n",
       "    .dataframe tbody tr th:only-of-type {\n",
       "        vertical-align: middle;\n",
       "    }\n",
       "\n",
       "    .dataframe tbody tr th {\n",
       "        vertical-align: top;\n",
       "    }\n",
       "\n",
       "    .dataframe thead th {\n",
       "        text-align: right;\n",
       "    }\n",
       "</style>\n",
       "<table border=\"1\" class=\"dataframe\">\n",
       "  <thead>\n",
       "    <tr style=\"text-align: right;\">\n",
       "      <th></th>\n",
       "      <th>refundable_support</th>\n",
       "      <th>nonrefundable_support</th>\n",
       "      <th>budget</th>\n",
       "      <th>ratings</th>\n",
       "      <th>box_office</th>\n",
       "      <th>sup_part</th>\n",
       "    </tr>\n",
       "    <tr>\n",
       "      <th>year</th>\n",
       "      <th></th>\n",
       "      <th></th>\n",
       "      <th></th>\n",
       "      <th></th>\n",
       "      <th></th>\n",
       "      <th></th>\n",
       "    </tr>\n",
       "  </thead>\n",
       "  <tbody>\n",
       "    <tr>\n",
       "      <th>2010</th>\n",
       "      <td>0.00</td>\n",
       "      <td>0.00</td>\n",
       "      <td>0.00</td>\n",
       "      <td>6104.80</td>\n",
       "      <td>2428654.00</td>\n",
       "      <td>0.00</td>\n",
       "    </tr>\n",
       "    <tr>\n",
       "      <th>2011</th>\n",
       "      <td>0.00</td>\n",
       "      <td>0.00</td>\n",
       "      <td>0.00</td>\n",
       "      <td>3761.70</td>\n",
       "      <td>14102765.00</td>\n",
       "      <td>0.00</td>\n",
       "    </tr>\n",
       "    <tr>\n",
       "      <th>2012</th>\n",
       "      <td>0.00</td>\n",
       "      <td>0.00</td>\n",
       "      <td>0.00</td>\n",
       "      <td>3570.50</td>\n",
       "      <td>6955423.00</td>\n",
       "      <td>0.00</td>\n",
       "    </tr>\n",
       "    <tr>\n",
       "      <th>2013</th>\n",
       "      <td>0.00</td>\n",
       "      <td>134347945.00</td>\n",
       "      <td>255435390.00</td>\n",
       "      <td>3771.20</td>\n",
       "      <td>29771926.20</td>\n",
       "      <td>94.64</td>\n",
       "    </tr>\n",
       "    <tr>\n",
       "      <th>2014</th>\n",
       "      <td>71000000.00</td>\n",
       "      <td>501002299.00</td>\n",
       "      <td>1302484783.00</td>\n",
       "      <td>4812.10</td>\n",
       "      <td>7444947564.20</td>\n",
       "      <td>882.11</td>\n",
       "    </tr>\n",
       "    <tr>\n",
       "      <th>2015</th>\n",
       "      <td>637153119.00</td>\n",
       "      <td>3009088340.00</td>\n",
       "      <td>7698669207.00</td>\n",
       "      <td>3903.50</td>\n",
       "      <td>39482825455.50</td>\n",
       "      <td>4807.99</td>\n",
       "    </tr>\n",
       "    <tr>\n",
       "      <th>2016</th>\n",
       "      <td>921500000.00</td>\n",
       "      <td>3381655482.00</td>\n",
       "      <td>7554942748.00</td>\n",
       "      <td>4532.60</td>\n",
       "      <td>47865967370.91</td>\n",
       "      <td>3505.50</td>\n",
       "    </tr>\n",
       "    <tr>\n",
       "      <th>2017</th>\n",
       "      <td>719346881.00</td>\n",
       "      <td>2464624781.00</td>\n",
       "      <td>7057172568.00</td>\n",
       "      <td>2752.90</td>\n",
       "      <td>48563707217.51</td>\n",
       "      <td>2075.51</td>\n",
       "    </tr>\n",
       "    <tr>\n",
       "      <th>2018</th>\n",
       "      <td>662000000.00</td>\n",
       "      <td>2784969465.00</td>\n",
       "      <td>7000664099.00</td>\n",
       "      <td>4182.30</td>\n",
       "      <td>49666815912.81</td>\n",
       "      <td>3051.33</td>\n",
       "    </tr>\n",
       "    <tr>\n",
       "      <th>2019</th>\n",
       "      <td>928000000.00</td>\n",
       "      <td>3976000000.00</td>\n",
       "      <td>12722866609.00</td>\n",
       "      <td>4690.50</td>\n",
       "      <td>48425673787.59</td>\n",
       "      <td>3555.58</td>\n",
       "    </tr>\n",
       "  </tbody>\n",
       "</table>\n",
       "</div>"
      ],
      "text/plain": [
       "      refundable_support  nonrefundable_support         budget  ratings  \\\n",
       "year                                                                      \n",
       "2010                0.00                   0.00           0.00  6104.80   \n",
       "2011                0.00                   0.00           0.00  3761.70   \n",
       "2012                0.00                   0.00           0.00  3570.50   \n",
       "2013                0.00           134347945.00   255435390.00  3771.20   \n",
       "2014         71000000.00           501002299.00  1302484783.00  4812.10   \n",
       "2015        637153119.00          3009088340.00  7698669207.00  3903.50   \n",
       "2016        921500000.00          3381655482.00  7554942748.00  4532.60   \n",
       "2017        719346881.00          2464624781.00  7057172568.00  2752.90   \n",
       "2018        662000000.00          2784969465.00  7000664099.00  4182.30   \n",
       "2019        928000000.00          3976000000.00 12722866609.00  4690.50   \n",
       "\n",
       "         box_office  sup_part  \n",
       "year                           \n",
       "2010     2428654.00      0.00  \n",
       "2011    14102765.00      0.00  \n",
       "2012     6955423.00      0.00  \n",
       "2013    29771926.20     94.64  \n",
       "2014  7444947564.20    882.11  \n",
       "2015 39482825455.50   4807.99  \n",
       "2016 47865967370.91   3505.50  \n",
       "2017 48563707217.51   2075.51  \n",
       "2018 49666815912.81   3051.33  \n",
       "2019 48425673787.59   3555.58  "
      ]
     },
     "metadata": {},
     "output_type": "display_data"
    },
    {
     "data": {
      "image/png": "[encoded data removed]",
      "text/plain": [
       "<Figure size 432x288 with 1 Axes>"
      ]
     },
     "metadata": {
      "needs_background": "light"
     },
     "output_type": "display_data"
    },
    {
     "data": {
      "image/png": "[encoded data removed]",
      "text/plain": [
       "<Figure size 432x288 with 1 Axes>"
      ]
     },
     "metadata": {
      "needs_background": "light"
     },
     "output_type": "display_data"
    }
   ],
   "source": [
    "group_df = df.groupby(by=['year']).sum()\n",
    "display(group_df)\n",
    "plotting(group_df,'line','box_office')\n",
    "plotting(group_df,'bar','box_office')"
   ]
  },
  {
   "cell_type": "markdown",
   "metadata": {},
   "source": [
    "Как мы видим, до 2015 года суммы сборов были намного меньше (доастигая минимального значения в 2010 году), но в первую очередь это связано с маленьким количеством информации о сборах в этих года, максимальная сумма сборов была в 2018 году, даже не смотря на то, что данных о нем меньше чем о 2015-2017 годах.\n"
   ]
  },
  {
   "cell_type": "code",
   "execution_count": 40,
   "metadata": {
    "id": "jmp-rgg9gFyY"
   },
   "outputs": [
    {
     "data": {
      "text/html": [
       "<div>\n",
       "<style scoped>\n",
       "    .dataframe tbody tr th:only-of-type {\n",
       "        vertical-align: middle;\n",
       "    }\n",
       "\n",
       "    .dataframe tbody tr th {\n",
       "        vertical-align: top;\n",
       "    }\n",
       "\n",
       "    .dataframe thead th {\n",
       "        text-align: right;\n",
       "    }\n",
       "</style>\n",
       "<table border=\"1\" class=\"dataframe\">\n",
       "  <thead>\n",
       "    <tr style=\"text-align: right;\">\n",
       "      <th></th>\n",
       "      <th>mean_box</th>\n",
       "      <th>median_box</th>\n",
       "    </tr>\n",
       "    <tr>\n",
       "      <th>year</th>\n",
       "      <th></th>\n",
       "      <th></th>\n",
       "    </tr>\n",
       "  </thead>\n",
       "  <tbody>\n",
       "    <tr>\n",
       "      <th>2010</th>\n",
       "      <td>23130.04</td>\n",
       "      <td>1700.00</td>\n",
       "    </tr>\n",
       "    <tr>\n",
       "      <th>2011</th>\n",
       "      <td>129383.17</td>\n",
       "      <td>3000.00</td>\n",
       "    </tr>\n",
       "    <tr>\n",
       "      <th>2012</th>\n",
       "      <td>54339.24</td>\n",
       "      <td>5660.00</td>\n",
       "    </tr>\n",
       "    <tr>\n",
       "      <th>2013</th>\n",
       "      <td>162688.12</td>\n",
       "      <td>3500.00</td>\n",
       "    </tr>\n",
       "    <tr>\n",
       "      <th>2014</th>\n",
       "      <td>26780386.92</td>\n",
       "      <td>18885.00</td>\n",
       "    </tr>\n",
       "    <tr>\n",
       "      <th>2015</th>\n",
       "      <td>85646042.20</td>\n",
       "      <td>4972557.90</td>\n",
       "    </tr>\n",
       "    <tr>\n",
       "      <th>2016</th>\n",
       "      <td>91173271.18</td>\n",
       "      <td>3915041.02</td>\n",
       "    </tr>\n",
       "    <tr>\n",
       "      <th>2017</th>\n",
       "      <td>136032793.33</td>\n",
       "      <td>9968340.00</td>\n",
       "    </tr>\n",
       "    <tr>\n",
       "      <th>2018</th>\n",
       "      <td>104782312.05</td>\n",
       "      <td>8911533.94</td>\n",
       "    </tr>\n",
       "    <tr>\n",
       "      <th>2019</th>\n",
       "      <td>91541916.42</td>\n",
       "      <td>4654563.09</td>\n",
       "    </tr>\n",
       "  </tbody>\n",
       "</table>\n",
       "</div>"
      ],
      "text/plain": [
       "         mean_box  median_box\n",
       "year                         \n",
       "2010     23130.04     1700.00\n",
       "2011    129383.17     3000.00\n",
       "2012     54339.24     5660.00\n",
       "2013    162688.12     3500.00\n",
       "2014  26780386.92    18885.00\n",
       "2015  85646042.20  4972557.90\n",
       "2016  91173271.18  3915041.02\n",
       "2017 136032793.33  9968340.00\n",
       "2018 104782312.05  8911533.94\n",
       "2019  91541916.42  4654563.09"
      ]
     },
     "metadata": {},
     "output_type": "display_data"
    },
    {
     "data": {
      "image/png": "[encoded data removed]",
      "text/plain": [
       "<Figure size 432x288 with 1 Axes>"
      ]
     },
     "metadata": {
      "needs_background": "light"
     },
     "output_type": "display_data"
    },
    {
     "data": {
      "image/png": "[encoded data removed]",
      "text/plain": [
       "<Figure size 432x288 with 1 Axes>"
      ]
     },
     "metadata": {
      "needs_background": "light"
     },
     "output_type": "display_data"
    },
    {
     "data": {
      "image/png": "[encoded data removed]",
      "text/plain": [
       "<Figure size 432x288 with 1 Axes>"
      ]
     },
     "metadata": {
      "needs_background": "light"
     },
     "output_type": "display_data"
    },
    {
     "data": {
      "image/png": "[encoded data removed]",
      "text/plain": [
       "<Figure size 432x288 with 1 Axes>"
      ]
     },
     "metadata": {
      "needs_background": "light"
     },
     "output_type": "display_data"
    }
   ],
   "source": [
    "new_df = pd.pivot_table(df[df['box_office']>=0], index=['year'], values=['box_office'],aggfunc=[np.mean,np.median]) #Создание сводной таблицы\n",
    "#где года взяты за индексы, а столбцы представлены средними и медианными сборами\n",
    "new_df.columns = ['mean_box','median_box']\n",
    "display(new_df)\n",
    "plotting(new_df,'bar','mean_box')\n",
    "plotting(new_df,'line','mean_box')\n",
    "plotting(new_df,'bar','median_box')\n",
    "plotting(new_df,'bar','median_box')\n"
   ]
  },
  {
   "cell_type": "markdown",
   "metadata": {},
   "source": [
    "По данным мы можем увидеть, что средние значения очень сильно отличаются от медианных, так как лишь малое количество фильмов собирют большие кассовые сборы и они сильно влияют на средние значения, но при этом, как средние, так и медианные значения достигают своего максимума в 2017 году, что означает, что в тот год было больше успешных фильмов чем в другие года, наименьшие значения мы можем наблюдать в период с 2010 - 2014 года, что связано с малым количеством данных о данном периоде"
   ]
  },
  {
   "cell_type": "code",
   "execution_count": 41,
   "metadata": {
    "id": "jsSbEqfjgFya",
    "scrolled": false
   },
   "outputs": [
    {
     "data": {
      "text/html": [
       "<div>\n",
       "<style scoped>\n",
       "    .dataframe tbody tr th:only-of-type {\n",
       "        vertical-align: middle;\n",
       "    }\n",
       "\n",
       "    .dataframe tbody tr th {\n",
       "        vertical-align: top;\n",
       "    }\n",
       "\n",
       "    .dataframe thead th {\n",
       "        text-align: right;\n",
       "    }\n",
       "</style>\n",
       "<table border=\"1\" class=\"dataframe\">\n",
       "  <thead>\n",
       "    <tr style=\"text-align: right;\">\n",
       "      <th></th>\n",
       "      <th></th>\n",
       "      <th>title</th>\n",
       "      <th>puNumber</th>\n",
       "      <th>show_start_date</th>\n",
       "      <th>type</th>\n",
       "      <th>film_studio</th>\n",
       "      <th>production_country</th>\n",
       "      <th>director</th>\n",
       "      <th>producer</th>\n",
       "      <th>refundable_support</th>\n",
       "      <th>nonrefundable_support</th>\n",
       "      <th>budget</th>\n",
       "      <th>financing_source</th>\n",
       "      <th>ratings</th>\n",
       "      <th>genres</th>\n",
       "      <th>box_office</th>\n",
       "      <th>director_ns</th>\n",
       "      <th>main_genre</th>\n",
       "      <th>sup_part</th>\n",
       "    </tr>\n",
       "    <tr>\n",
       "      <th>year</th>\n",
       "      <th>age_restriction</th>\n",
       "      <th></th>\n",
       "      <th></th>\n",
       "      <th></th>\n",
       "      <th></th>\n",
       "      <th></th>\n",
       "      <th></th>\n",
       "      <th></th>\n",
       "      <th></th>\n",
       "      <th></th>\n",
       "      <th></th>\n",
       "      <th></th>\n",
       "      <th></th>\n",
       "      <th></th>\n",
       "      <th></th>\n",
       "      <th></th>\n",
       "      <th></th>\n",
       "      <th></th>\n",
       "      <th></th>\n",
       "    </tr>\n",
       "  </thead>\n",
       "  <tbody>\n",
       "    <tr>\n",
       "      <th rowspan=\"5\" valign=\"top\">2015</th>\n",
       "      <th>«0+» - для любой зрительской аудитории</th>\n",
       "      <td>49</td>\n",
       "      <td>49</td>\n",
       "      <td>49</td>\n",
       "      <td>49</td>\n",
       "      <td>49</td>\n",
       "      <td>49</td>\n",
       "      <td>49</td>\n",
       "      <td>45</td>\n",
       "      <td>1</td>\n",
       "      <td>1</td>\n",
       "      <td>1</td>\n",
       "      <td>1</td>\n",
       "      <td>28</td>\n",
       "      <td>28</td>\n",
       "      <td>38</td>\n",
       "      <td>49</td>\n",
       "      <td>28</td>\n",
       "      <td>1</td>\n",
       "    </tr>\n",
       "    <tr>\n",
       "      <th>«12+» - для детей старше 12 лет</th>\n",
       "      <td>137</td>\n",
       "      <td>137</td>\n",
       "      <td>137</td>\n",
       "      <td>137</td>\n",
       "      <td>137</td>\n",
       "      <td>137</td>\n",
       "      <td>137</td>\n",
       "      <td>91</td>\n",
       "      <td>24</td>\n",
       "      <td>24</td>\n",
       "      <td>24</td>\n",
       "      <td>24</td>\n",
       "      <td>116</td>\n",
       "      <td>116</td>\n",
       "      <td>73</td>\n",
       "      <td>137</td>\n",
       "      <td>116</td>\n",
       "      <td>24</td>\n",
       "    </tr>\n",
       "    <tr>\n",
       "      <th>«16+» - для детей старше 16 лет</th>\n",
       "      <td>246</td>\n",
       "      <td>246</td>\n",
       "      <td>246</td>\n",
       "      <td>246</td>\n",
       "      <td>246</td>\n",
       "      <td>246</td>\n",
       "      <td>246</td>\n",
       "      <td>239</td>\n",
       "      <td>39</td>\n",
       "      <td>39</td>\n",
       "      <td>39</td>\n",
       "      <td>39</td>\n",
       "      <td>226</td>\n",
       "      <td>226</td>\n",
       "      <td>166</td>\n",
       "      <td>246</td>\n",
       "      <td>226</td>\n",
       "      <td>39</td>\n",
       "    </tr>\n",
       "    <tr>\n",
       "      <th>«18+» - запрещено для детей</th>\n",
       "      <td>192</td>\n",
       "      <td>192</td>\n",
       "      <td>192</td>\n",
       "      <td>192</td>\n",
       "      <td>192</td>\n",
       "      <td>192</td>\n",
       "      <td>192</td>\n",
       "      <td>190</td>\n",
       "      <td>5</td>\n",
       "      <td>5</td>\n",
       "      <td>5</td>\n",
       "      <td>5</td>\n",
       "      <td>181</td>\n",
       "      <td>180</td>\n",
       "      <td>132</td>\n",
       "      <td>192</td>\n",
       "      <td>180</td>\n",
       "      <td>5</td>\n",
       "    </tr>\n",
       "    <tr>\n",
       "      <th>«6+» - для детей старше 6 лет</th>\n",
       "      <td>76</td>\n",
       "      <td>76</td>\n",
       "      <td>76</td>\n",
       "      <td>76</td>\n",
       "      <td>76</td>\n",
       "      <td>76</td>\n",
       "      <td>76</td>\n",
       "      <td>58</td>\n",
       "      <td>16</td>\n",
       "      <td>16</td>\n",
       "      <td>16</td>\n",
       "      <td>16</td>\n",
       "      <td>67</td>\n",
       "      <td>67</td>\n",
       "      <td>52</td>\n",
       "      <td>76</td>\n",
       "      <td>67</td>\n",
       "      <td>16</td>\n",
       "    </tr>\n",
       "    <tr>\n",
       "      <th rowspan=\"5\" valign=\"top\">2016</th>\n",
       "      <th>«0+» - для любой зрительской аудитории</th>\n",
       "      <td>72</td>\n",
       "      <td>72</td>\n",
       "      <td>72</td>\n",
       "      <td>72</td>\n",
       "      <td>72</td>\n",
       "      <td>71</td>\n",
       "      <td>72</td>\n",
       "      <td>67</td>\n",
       "      <td>2</td>\n",
       "      <td>2</td>\n",
       "      <td>2</td>\n",
       "      <td>2</td>\n",
       "      <td>34</td>\n",
       "      <td>34</td>\n",
       "      <td>41</td>\n",
       "      <td>72</td>\n",
       "      <td>34</td>\n",
       "      <td>2</td>\n",
       "    </tr>\n",
       "    <tr>\n",
       "      <th>«12+» - для детей старше 12 лет</th>\n",
       "      <td>135</td>\n",
       "      <td>135</td>\n",
       "      <td>135</td>\n",
       "      <td>135</td>\n",
       "      <td>135</td>\n",
       "      <td>135</td>\n",
       "      <td>135</td>\n",
       "      <td>108</td>\n",
       "      <td>24</td>\n",
       "      <td>24</td>\n",
       "      <td>24</td>\n",
       "      <td>24</td>\n",
       "      <td>115</td>\n",
       "      <td>115</td>\n",
       "      <td>82</td>\n",
       "      <td>135</td>\n",
       "      <td>115</td>\n",
       "      <td>24</td>\n",
       "    </tr>\n",
       "    <tr>\n",
       "      <th>«16+» - для детей старше 16 лет</th>\n",
       "      <td>268</td>\n",
       "      <td>268</td>\n",
       "      <td>268</td>\n",
       "      <td>268</td>\n",
       "      <td>268</td>\n",
       "      <td>268</td>\n",
       "      <td>268</td>\n",
       "      <td>264</td>\n",
       "      <td>21</td>\n",
       "      <td>21</td>\n",
       "      <td>21</td>\n",
       "      <td>21</td>\n",
       "      <td>253</td>\n",
       "      <td>253</td>\n",
       "      <td>181</td>\n",
       "      <td>268</td>\n",
       "      <td>253</td>\n",
       "      <td>21</td>\n",
       "    </tr>\n",
       "    <tr>\n",
       "      <th>«18+» - запрещено для детей</th>\n",
       "      <td>245</td>\n",
       "      <td>245</td>\n",
       "      <td>245</td>\n",
       "      <td>245</td>\n",
       "      <td>245</td>\n",
       "      <td>245</td>\n",
       "      <td>245</td>\n",
       "      <td>242</td>\n",
       "      <td>3</td>\n",
       "      <td>3</td>\n",
       "      <td>3</td>\n",
       "      <td>3</td>\n",
       "      <td>232</td>\n",
       "      <td>228</td>\n",
       "      <td>151</td>\n",
       "      <td>245</td>\n",
       "      <td>228</td>\n",
       "      <td>3</td>\n",
       "    </tr>\n",
       "    <tr>\n",
       "      <th>«6+» - для детей старше 6 лет</th>\n",
       "      <td>95</td>\n",
       "      <td>95</td>\n",
       "      <td>95</td>\n",
       "      <td>95</td>\n",
       "      <td>95</td>\n",
       "      <td>95</td>\n",
       "      <td>95</td>\n",
       "      <td>80</td>\n",
       "      <td>11</td>\n",
       "      <td>11</td>\n",
       "      <td>11</td>\n",
       "      <td>11</td>\n",
       "      <td>79</td>\n",
       "      <td>79</td>\n",
       "      <td>70</td>\n",
       "      <td>95</td>\n",
       "      <td>79</td>\n",
       "      <td>11</td>\n",
       "    </tr>\n",
       "    <tr>\n",
       "      <th rowspan=\"5\" valign=\"top\">2017</th>\n",
       "      <th>«0+» - для любой зрительской аудитории</th>\n",
       "      <td>44</td>\n",
       "      <td>44</td>\n",
       "      <td>44</td>\n",
       "      <td>44</td>\n",
       "      <td>44</td>\n",
       "      <td>44</td>\n",
       "      <td>44</td>\n",
       "      <td>36</td>\n",
       "      <td>2</td>\n",
       "      <td>2</td>\n",
       "      <td>2</td>\n",
       "      <td>2</td>\n",
       "      <td>22</td>\n",
       "      <td>22</td>\n",
       "      <td>3</td>\n",
       "      <td>44</td>\n",
       "      <td>22</td>\n",
       "      <td>2</td>\n",
       "    </tr>\n",
       "    <tr>\n",
       "      <th>«12+» - для детей старше 12 лет</th>\n",
       "      <td>70</td>\n",
       "      <td>70</td>\n",
       "      <td>70</td>\n",
       "      <td>70</td>\n",
       "      <td>70</td>\n",
       "      <td>70</td>\n",
       "      <td>70</td>\n",
       "      <td>59</td>\n",
       "      <td>15</td>\n",
       "      <td>15</td>\n",
       "      <td>15</td>\n",
       "      <td>15</td>\n",
       "      <td>59</td>\n",
       "      <td>59</td>\n",
       "      <td>41</td>\n",
       "      <td>70</td>\n",
       "      <td>59</td>\n",
       "      <td>15</td>\n",
       "    </tr>\n",
       "    <tr>\n",
       "      <th>«16+» - для детей старше 16 лет</th>\n",
       "      <td>153</td>\n",
       "      <td>153</td>\n",
       "      <td>153</td>\n",
       "      <td>153</td>\n",
       "      <td>153</td>\n",
       "      <td>153</td>\n",
       "      <td>153</td>\n",
       "      <td>151</td>\n",
       "      <td>11</td>\n",
       "      <td>11</td>\n",
       "      <td>11</td>\n",
       "      <td>11</td>\n",
       "      <td>136</td>\n",
       "      <td>135</td>\n",
       "      <td>121</td>\n",
       "      <td>153</td>\n",
       "      <td>135</td>\n",
       "      <td>11</td>\n",
       "    </tr>\n",
       "    <tr>\n",
       "      <th>«18+» - запрещено для детей</th>\n",
       "      <td>172</td>\n",
       "      <td>172</td>\n",
       "      <td>172</td>\n",
       "      <td>172</td>\n",
       "      <td>172</td>\n",
       "      <td>172</td>\n",
       "      <td>172</td>\n",
       "      <td>172</td>\n",
       "      <td>4</td>\n",
       "      <td>4</td>\n",
       "      <td>4</td>\n",
       "      <td>4</td>\n",
       "      <td>164</td>\n",
       "      <td>164</td>\n",
       "      <td>147</td>\n",
       "      <td>172</td>\n",
       "      <td>164</td>\n",
       "      <td>4</td>\n",
       "    </tr>\n",
       "    <tr>\n",
       "      <th>«6+» - для детей старше 6 лет</th>\n",
       "      <td>66</td>\n",
       "      <td>66</td>\n",
       "      <td>66</td>\n",
       "      <td>66</td>\n",
       "      <td>66</td>\n",
       "      <td>66</td>\n",
       "      <td>66</td>\n",
       "      <td>53</td>\n",
       "      <td>9</td>\n",
       "      <td>9</td>\n",
       "      <td>9</td>\n",
       "      <td>9</td>\n",
       "      <td>55</td>\n",
       "      <td>55</td>\n",
       "      <td>45</td>\n",
       "      <td>66</td>\n",
       "      <td>55</td>\n",
       "      <td>9</td>\n",
       "    </tr>\n",
       "    <tr>\n",
       "      <th rowspan=\"5\" valign=\"top\">2018</th>\n",
       "      <th>«0+» - для любой зрительской аудитории</th>\n",
       "      <td>77</td>\n",
       "      <td>77</td>\n",
       "      <td>77</td>\n",
       "      <td>77</td>\n",
       "      <td>77</td>\n",
       "      <td>77</td>\n",
       "      <td>77</td>\n",
       "      <td>77</td>\n",
       "      <td>0</td>\n",
       "      <td>0</td>\n",
       "      <td>0</td>\n",
       "      <td>0</td>\n",
       "      <td>19</td>\n",
       "      <td>19</td>\n",
       "      <td>5</td>\n",
       "      <td>77</td>\n",
       "      <td>19</td>\n",
       "      <td>0</td>\n",
       "    </tr>\n",
       "    <tr>\n",
       "      <th>«12+» - для детей старше 12 лет</th>\n",
       "      <td>241</td>\n",
       "      <td>241</td>\n",
       "      <td>241</td>\n",
       "      <td>241</td>\n",
       "      <td>236</td>\n",
       "      <td>241</td>\n",
       "      <td>241</td>\n",
       "      <td>233</td>\n",
       "      <td>18</td>\n",
       "      <td>18</td>\n",
       "      <td>18</td>\n",
       "      <td>18</td>\n",
       "      <td>152</td>\n",
       "      <td>152</td>\n",
       "      <td>67</td>\n",
       "      <td>241</td>\n",
       "      <td>152</td>\n",
       "      <td>18</td>\n",
       "    </tr>\n",
       "    <tr>\n",
       "      <th>«16+» - для детей старше 16 лет</th>\n",
       "      <td>234</td>\n",
       "      <td>234</td>\n",
       "      <td>234</td>\n",
       "      <td>234</td>\n",
       "      <td>234</td>\n",
       "      <td>234</td>\n",
       "      <td>234</td>\n",
       "      <td>231</td>\n",
       "      <td>19</td>\n",
       "      <td>19</td>\n",
       "      <td>19</td>\n",
       "      <td>19</td>\n",
       "      <td>200</td>\n",
       "      <td>200</td>\n",
       "      <td>156</td>\n",
       "      <td>234</td>\n",
       "      <td>200</td>\n",
       "      <td>19</td>\n",
       "    </tr>\n",
       "    <tr>\n",
       "      <th>«18+» - запрещено для детей</th>\n",
       "      <td>220</td>\n",
       "      <td>220</td>\n",
       "      <td>220</td>\n",
       "      <td>220</td>\n",
       "      <td>216</td>\n",
       "      <td>220</td>\n",
       "      <td>220</td>\n",
       "      <td>218</td>\n",
       "      <td>9</td>\n",
       "      <td>9</td>\n",
       "      <td>9</td>\n",
       "      <td>9</td>\n",
       "      <td>200</td>\n",
       "      <td>200</td>\n",
       "      <td>178</td>\n",
       "      <td>220</td>\n",
       "      <td>200</td>\n",
       "      <td>9</td>\n",
       "    </tr>\n",
       "    <tr>\n",
       "      <th>«6+» - для детей старше 6 лет</th>\n",
       "      <td>114</td>\n",
       "      <td>114</td>\n",
       "      <td>114</td>\n",
       "      <td>114</td>\n",
       "      <td>112</td>\n",
       "      <td>114</td>\n",
       "      <td>114</td>\n",
       "      <td>113</td>\n",
       "      <td>10</td>\n",
       "      <td>10</td>\n",
       "      <td>10</td>\n",
       "      <td>10</td>\n",
       "      <td>84</td>\n",
       "      <td>84</td>\n",
       "      <td>68</td>\n",
       "      <td>114</td>\n",
       "      <td>84</td>\n",
       "      <td>10</td>\n",
       "    </tr>\n",
       "    <tr>\n",
       "      <th rowspan=\"5\" valign=\"top\">2019</th>\n",
       "      <th>«0+» - для любой зрительской аудитории</th>\n",
       "      <td>72</td>\n",
       "      <td>72</td>\n",
       "      <td>72</td>\n",
       "      <td>72</td>\n",
       "      <td>72</td>\n",
       "      <td>72</td>\n",
       "      <td>72</td>\n",
       "      <td>72</td>\n",
       "      <td>1</td>\n",
       "      <td>1</td>\n",
       "      <td>1</td>\n",
       "      <td>1</td>\n",
       "      <td>19</td>\n",
       "      <td>19</td>\n",
       "      <td>3</td>\n",
       "      <td>72</td>\n",
       "      <td>19</td>\n",
       "      <td>1</td>\n",
       "    </tr>\n",
       "    <tr>\n",
       "      <th>«12+» - для детей старше 12 лет</th>\n",
       "      <td>202</td>\n",
       "      <td>202</td>\n",
       "      <td>202</td>\n",
       "      <td>202</td>\n",
       "      <td>201</td>\n",
       "      <td>202</td>\n",
       "      <td>202</td>\n",
       "      <td>189</td>\n",
       "      <td>19</td>\n",
       "      <td>19</td>\n",
       "      <td>19</td>\n",
       "      <td>19</td>\n",
       "      <td>142</td>\n",
       "      <td>142</td>\n",
       "      <td>85</td>\n",
       "      <td>202</td>\n",
       "      <td>142</td>\n",
       "      <td>19</td>\n",
       "    </tr>\n",
       "    <tr>\n",
       "      <th>«16+» - для детей старше 16 лет</th>\n",
       "      <td>265</td>\n",
       "      <td>265</td>\n",
       "      <td>265</td>\n",
       "      <td>265</td>\n",
       "      <td>263</td>\n",
       "      <td>265</td>\n",
       "      <td>265</td>\n",
       "      <td>254</td>\n",
       "      <td>28</td>\n",
       "      <td>28</td>\n",
       "      <td>28</td>\n",
       "      <td>28</td>\n",
       "      <td>223</td>\n",
       "      <td>220</td>\n",
       "      <td>178</td>\n",
       "      <td>265</td>\n",
       "      <td>220</td>\n",
       "      <td>28</td>\n",
       "    </tr>\n",
       "    <tr>\n",
       "      <th>«18+» - запрещено для детей</th>\n",
       "      <td>255</td>\n",
       "      <td>255</td>\n",
       "      <td>255</td>\n",
       "      <td>255</td>\n",
       "      <td>255</td>\n",
       "      <td>255</td>\n",
       "      <td>255</td>\n",
       "      <td>253</td>\n",
       "      <td>5</td>\n",
       "      <td>5</td>\n",
       "      <td>5</td>\n",
       "      <td>5</td>\n",
       "      <td>235</td>\n",
       "      <td>235</td>\n",
       "      <td>183</td>\n",
       "      <td>255</td>\n",
       "      <td>235</td>\n",
       "      <td>5</td>\n",
       "    </tr>\n",
       "    <tr>\n",
       "      <th>«6+» - для детей старше 6 лет</th>\n",
       "      <td>132</td>\n",
       "      <td>132</td>\n",
       "      <td>132</td>\n",
       "      <td>132</td>\n",
       "      <td>131</td>\n",
       "      <td>132</td>\n",
       "      <td>132</td>\n",
       "      <td>128</td>\n",
       "      <td>17</td>\n",
       "      <td>17</td>\n",
       "      <td>17</td>\n",
       "      <td>17</td>\n",
       "      <td>104</td>\n",
       "      <td>104</td>\n",
       "      <td>80</td>\n",
       "      <td>132</td>\n",
       "      <td>104</td>\n",
       "      <td>17</td>\n",
       "    </tr>\n",
       "  </tbody>\n",
       "</table>\n",
       "</div>"
      ],
      "text/plain": [
       "                                             title  puNumber  show_start_date  \\\n",
       "year age_restriction                                                            \n",
       "2015 «0+» - для любой зрительской аудитории     49        49               49   \n",
       "     «12+» - для детей старше 12 лет           137       137              137   \n",
       "     «16+» - для детей старше 16 лет           246       246              246   \n",
       "     «18+» - запрещено для детей               192       192              192   \n",
       "     «6+» - для детей старше 6 лет              76        76               76   \n",
       "2016 «0+» - для любой зрительской аудитории     72        72               72   \n",
       "     «12+» - для детей старше 12 лет           135       135              135   \n",
       "     «16+» - для детей старше 16 лет           268       268              268   \n",
       "     «18+» - запрещено для детей               245       245              245   \n",
       "     «6+» - для детей старше 6 лет              95        95               95   \n",
       "2017 «0+» - для любой зрительской аудитории     44        44               44   \n",
       "     «12+» - для детей старше 12 лет            70        70               70   \n",
       "     «16+» - для детей старше 16 лет           153       153              153   \n",
       "     «18+» - запрещено для детей               172       172              172   \n",
       "     «6+» - для детей старше 6 лет              66        66               66   \n",
       "2018 «0+» - для любой зрительской аудитории     77        77               77   \n",
       "     «12+» - для детей старше 12 лет           241       241              241   \n",
       "     «16+» - для детей старше 16 лет           234       234              234   \n",
       "     «18+» - запрещено для детей               220       220              220   \n",
       "     «6+» - для детей старше 6 лет             114       114              114   \n",
       "2019 «0+» - для любой зрительской аудитории     72        72               72   \n",
       "     «12+» - для детей старше 12 лет           202       202              202   \n",
       "     «16+» - для детей старше 16 лет           265       265              265   \n",
       "     «18+» - запрещено для детей               255       255              255   \n",
       "     «6+» - для детей старше 6 лет             132       132              132   \n",
       "\n",
       "                                             type  film_studio  \\\n",
       "year age_restriction                                             \n",
       "2015 «0+» - для любой зрительской аудитории    49           49   \n",
       "     «12+» - для детей старше 12 лет          137          137   \n",
       "     «16+» - для детей старше 16 лет          246          246   \n",
       "     «18+» - запрещено для детей              192          192   \n",
       "     «6+» - для детей старше 6 лет             76           76   \n",
       "2016 «0+» - для любой зрительской аудитории    72           72   \n",
       "     «12+» - для детей старше 12 лет          135          135   \n",
       "     «16+» - для детей старше 16 лет          268          268   \n",
       "     «18+» - запрещено для детей              245          245   \n",
       "     «6+» - для детей старше 6 лет             95           95   \n",
       "2017 «0+» - для любой зрительской аудитории    44           44   \n",
       "     «12+» - для детей старше 12 лет           70           70   \n",
       "     «16+» - для детей старше 16 лет          153          153   \n",
       "     «18+» - запрещено для детей              172          172   \n",
       "     «6+» - для детей старше 6 лет             66           66   \n",
       "2018 «0+» - для любой зрительской аудитории    77           77   \n",
       "     «12+» - для детей старше 12 лет          241          236   \n",
       "     «16+» - для детей старше 16 лет          234          234   \n",
       "     «18+» - запрещено для детей              220          216   \n",
       "     «6+» - для детей старше 6 лет            114          112   \n",
       "2019 «0+» - для любой зрительской аудитории    72           72   \n",
       "     «12+» - для детей старше 12 лет          202          201   \n",
       "     «16+» - для детей старше 16 лет          265          263   \n",
       "     «18+» - запрещено для детей              255          255   \n",
       "     «6+» - для детей старше 6 лет            132          131   \n",
       "\n",
       "                                             production_country  director  \\\n",
       "year age_restriction                                                        \n",
       "2015 «0+» - для любой зрительской аудитории                  49        49   \n",
       "     «12+» - для детей старше 12 лет                        137       137   \n",
       "     «16+» - для детей старше 16 лет                        246       246   \n",
       "     «18+» - запрещено для детей                            192       192   \n",
       "     «6+» - для детей старше 6 лет                           76        76   \n",
       "2016 «0+» - для любой зрительской аудитории                  71        72   \n",
       "     «12+» - для детей старше 12 лет                        135       135   \n",
       "     «16+» - для детей старше 16 лет                        268       268   \n",
       "     «18+» - запрещено для детей                            245       245   \n",
       "     «6+» - для детей старше 6 лет                           95        95   \n",
       "2017 «0+» - для любой зрительской аудитории                  44        44   \n",
       "     «12+» - для детей старше 12 лет                         70        70   \n",
       "     «16+» - для детей старше 16 лет                        153       153   \n",
       "     «18+» - запрещено для детей                            172       172   \n",
       "     «6+» - для детей старше 6 лет                           66        66   \n",
       "2018 «0+» - для любой зрительской аудитории                  77        77   \n",
       "     «12+» - для детей старше 12 лет                        241       241   \n",
       "     «16+» - для детей старше 16 лет                        234       234   \n",
       "     «18+» - запрещено для детей                            220       220   \n",
       "     «6+» - для детей старше 6 лет                          114       114   \n",
       "2019 «0+» - для любой зрительской аудитории                  72        72   \n",
       "     «12+» - для детей старше 12 лет                        202       202   \n",
       "     «16+» - для детей старше 16 лет                        265       265   \n",
       "     «18+» - запрещено для детей                            255       255   \n",
       "     «6+» - для детей старше 6 лет                          132       132   \n",
       "\n",
       "                                             producer  refundable_support  \\\n",
       "year age_restriction                                                        \n",
       "2015 «0+» - для любой зрительской аудитории        45                   1   \n",
       "     «12+» - для детей старше 12 лет               91                  24   \n",
       "     «16+» - для детей старше 16 лет              239                  39   \n",
       "     «18+» - запрещено для детей                  190                   5   \n",
       "     «6+» - для детей старше 6 лет                 58                  16   \n",
       "2016 «0+» - для любой зрительской аудитории        67                   2   \n",
       "     «12+» - для детей старше 12 лет              108                  24   \n",
       "     «16+» - для детей старше 16 лет              264                  21   \n",
       "     «18+» - запрещено для детей                  242                   3   \n",
       "     «6+» - для детей старше 6 лет                 80                  11   \n",
       "2017 «0+» - для любой зрительской аудитории        36                   2   \n",
       "     «12+» - для детей старше 12 лет               59                  15   \n",
       "     «16+» - для детей старше 16 лет              151                  11   \n",
       "     «18+» - запрещено для детей                  172                   4   \n",
       "     «6+» - для детей старше 6 лет                 53                   9   \n",
       "2018 «0+» - для любой зрительской аудитории        77                   0   \n",
       "     «12+» - для детей старше 12 лет              233                  18   \n",
       "     «16+» - для детей старше 16 лет              231                  19   \n",
       "     «18+» - запрещено для детей                  218                   9   \n",
       "     «6+» - для детей старше 6 лет                113                  10   \n",
       "2019 «0+» - для любой зрительской аудитории        72                   1   \n",
       "     «12+» - для детей старше 12 лет              189                  19   \n",
       "     «16+» - для детей старше 16 лет              254                  28   \n",
       "     «18+» - запрещено для детей                  253                   5   \n",
       "     «6+» - для детей старше 6 лет                128                  17   \n",
       "\n",
       "                                             nonrefundable_support  budget  \\\n",
       "year age_restriction                                                         \n",
       "2015 «0+» - для любой зрительской аудитории                      1       1   \n",
       "     «12+» - для детей старше 12 лет                            24      24   \n",
       "     «16+» - для детей старше 16 лет                            39      39   \n",
       "     «18+» - запрещено для детей                                 5       5   \n",
       "     «6+» - для детей старше 6 лет                              16      16   \n",
       "2016 «0+» - для любой зрительской аудитории                      2       2   \n",
       "     «12+» - для детей старше 12 лет                            24      24   \n",
       "     «16+» - для детей старше 16 лет                            21      21   \n",
       "     «18+» - запрещено для детей                                 3       3   \n",
       "     «6+» - для детей старше 6 лет                              11      11   \n",
       "2017 «0+» - для любой зрительской аудитории                      2       2   \n",
       "     «12+» - для детей старше 12 лет                            15      15   \n",
       "     «16+» - для детей старше 16 лет                            11      11   \n",
       "     «18+» - запрещено для детей                                 4       4   \n",
       "     «6+» - для детей старше 6 лет                               9       9   \n",
       "2018 «0+» - для любой зрительской аудитории                      0       0   \n",
       "     «12+» - для детей старше 12 лет                            18      18   \n",
       "     «16+» - для детей старше 16 лет                            19      19   \n",
       "     «18+» - запрещено для детей                                 9       9   \n",
       "     «6+» - для детей старше 6 лет                              10      10   \n",
       "2019 «0+» - для любой зрительской аудитории                      1       1   \n",
       "     «12+» - для детей старше 12 лет                            19      19   \n",
       "     «16+» - для детей старше 16 лет                            28      28   \n",
       "     «18+» - запрещено для детей                                 5       5   \n",
       "     «6+» - для детей старше 6 лет                              17      17   \n",
       "\n",
       "                                             financing_source  ratings  \\\n",
       "year age_restriction                                                     \n",
       "2015 «0+» - для любой зрительской аудитории                 1       28   \n",
       "     «12+» - для детей старше 12 лет                       24      116   \n",
       "     «16+» - для детей старше 16 лет                       39      226   \n",
       "     «18+» - запрещено для детей                            5      181   \n",
       "     «6+» - для детей старше 6 лет                         16       67   \n",
       "2016 «0+» - для любой зрительской аудитории                 2       34   \n",
       "     «12+» - для детей старше 12 лет                       24      115   \n",
       "     «16+» - для детей старше 16 лет                       21      253   \n",
       "     «18+» - запрещено для детей                            3      232   \n",
       "     «6+» - для детей старше 6 лет                         11       79   \n",
       "2017 «0+» - для любой зрительской аудитории                 2       22   \n",
       "     «12+» - для детей старше 12 лет                       15       59   \n",
       "     «16+» - для детей старше 16 лет                       11      136   \n",
       "     «18+» - запрещено для детей                            4      164   \n",
       "     «6+» - для детей старше 6 лет                          9       55   \n",
       "2018 «0+» - для любой зрительской аудитории                 0       19   \n",
       "     «12+» - для детей старше 12 лет                       18      152   \n",
       "     «16+» - для детей старше 16 лет                       19      200   \n",
       "     «18+» - запрещено для детей                            9      200   \n",
       "     «6+» - для детей старше 6 лет                         10       84   \n",
       "2019 «0+» - для любой зрительской аудитории                 1       19   \n",
       "     «12+» - для детей старше 12 лет                       19      142   \n",
       "     «16+» - для детей старше 16 лет                       28      223   \n",
       "     «18+» - запрещено для детей                            5      235   \n",
       "     «6+» - для детей старше 6 лет                         17      104   \n",
       "\n",
       "                                             genres  box_office  director_ns  \\\n",
       "year age_restriction                                                           \n",
       "2015 «0+» - для любой зрительской аудитории      28          38           49   \n",
       "     «12+» - для детей старше 12 лет            116          73          137   \n",
       "     «16+» - для детей старше 16 лет            226         166          246   \n",
       "     «18+» - запрещено для детей                180         132          192   \n",
       "     «6+» - для детей старше 6 лет               67          52           76   \n",
       "2016 «0+» - для любой зрительской аудитории      34          41           72   \n",
       "     «12+» - для детей старше 12 лет            115          82          135   \n",
       "     «16+» - для детей старше 16 лет            253         181          268   \n",
       "     «18+» - запрещено для детей                228         151          245   \n",
       "     «6+» - для детей старше 6 лет               79          70           95   \n",
       "2017 «0+» - для любой зрительской аудитории      22           3           44   \n",
       "     «12+» - для детей старше 12 лет             59          41           70   \n",
       "     «16+» - для детей старше 16 лет            135         121          153   \n",
       "     «18+» - запрещено для детей                164         147          172   \n",
       "     «6+» - для детей старше 6 лет               55          45           66   \n",
       "2018 «0+» - для любой зрительской аудитории      19           5           77   \n",
       "     «12+» - для детей старше 12 лет            152          67          241   \n",
       "     «16+» - для детей старше 16 лет            200         156          234   \n",
       "     «18+» - запрещено для детей                200         178          220   \n",
       "     «6+» - для детей старше 6 лет               84          68          114   \n",
       "2019 «0+» - для любой зрительской аудитории      19           3           72   \n",
       "     «12+» - для детей старше 12 лет            142          85          202   \n",
       "     «16+» - для детей старше 16 лет            220         178          265   \n",
       "     «18+» - запрещено для детей                235         183          255   \n",
       "     «6+» - для детей старше 6 лет              104          80          132   \n",
       "\n",
       "                                             main_genre  sup_part  \n",
       "year age_restriction                                               \n",
       "2015 «0+» - для любой зрительской аудитории          28         1  \n",
       "     «12+» - для детей старше 12 лет                116        24  \n",
       "     «16+» - для детей старше 16 лет                226        39  \n",
       "     «18+» - запрещено для детей                    180         5  \n",
       "     «6+» - для детей старше 6 лет                   67        16  \n",
       "2016 «0+» - для любой зрительской аудитории          34         2  \n",
       "     «12+» - для детей старше 12 лет                115        24  \n",
       "     «16+» - для детей старше 16 лет                253        21  \n",
       "     «18+» - запрещено для детей                    228         3  \n",
       "     «6+» - для детей старше 6 лет                   79        11  \n",
       "2017 «0+» - для любой зрительской аудитории          22         2  \n",
       "     «12+» - для детей старше 12 лет                 59        15  \n",
       "     «16+» - для детей старше 16 лет                135        11  \n",
       "     «18+» - запрещено для детей                    164         4  \n",
       "     «6+» - для детей старше 6 лет                   55         9  \n",
       "2018 «0+» - для любой зрительской аудитории          19         0  \n",
       "     «12+» - для детей старше 12 лет                152        18  \n",
       "     «16+» - для детей старше 16 лет                200        19  \n",
       "     «18+» - запрещено для детей                    200         9  \n",
       "     «6+» - для детей старше 6 лет                   84        10  \n",
       "2019 «0+» - для любой зрительской аудитории          19         1  \n",
       "     «12+» - для детей старше 12 лет                142        19  \n",
       "     «16+» - для детей старше 16 лет                220        28  \n",
       "     «18+» - запрещено для детей                    235         5  \n",
       "     «6+» - для детей старше 6 лет                  104        17  "
      ]
     },
     "metadata": {},
     "output_type": "display_data"
    },
    {
     "data": {
      "text/html": [
       "<div>\n",
       "<style scoped>\n",
       "    .dataframe tbody tr th:only-of-type {\n",
       "        vertical-align: middle;\n",
       "    }\n",
       "\n",
       "    .dataframe tbody tr th {\n",
       "        vertical-align: top;\n",
       "    }\n",
       "\n",
       "    .dataframe thead th {\n",
       "        text-align: right;\n",
       "    }\n",
       "</style>\n",
       "<table border=\"1\" class=\"dataframe\">\n",
       "  <thead>\n",
       "    <tr style=\"text-align: right;\">\n",
       "      <th></th>\n",
       "      <th></th>\n",
       "      <th>sum_box</th>\n",
       "      <th>mean_box</th>\n",
       "      <th>median_box</th>\n",
       "    </tr>\n",
       "    <tr>\n",
       "      <th>year</th>\n",
       "      <th>age_restriction</th>\n",
       "      <th></th>\n",
       "      <th></th>\n",
       "      <th></th>\n",
       "    </tr>\n",
       "  </thead>\n",
       "  <tbody>\n",
       "    <tr>\n",
       "      <th rowspan=\"5\" valign=\"top\">2015</th>\n",
       "      <th>«0+» - для любой зрительской аудитории</th>\n",
       "      <td>364902082.47</td>\n",
       "      <td>9602686.38</td>\n",
       "      <td>2767310.60</td>\n",
       "    </tr>\n",
       "    <tr>\n",
       "      <th>«12+» - для детей старше 12 лет</th>\n",
       "      <td>13616082008.91</td>\n",
       "      <td>186521671.35</td>\n",
       "      <td>15351562.50</td>\n",
       "    </tr>\n",
       "    <tr>\n",
       "      <th>«16+» - для детей старше 16 лет</th>\n",
       "      <td>11368068375.27</td>\n",
       "      <td>68482339.61</td>\n",
       "      <td>4878669.70</td>\n",
       "    </tr>\n",
       "    <tr>\n",
       "      <th>«18+» - запрещено для детей</th>\n",
       "      <td>5432308367.44</td>\n",
       "      <td>41153851.27</td>\n",
       "      <td>4616614.70</td>\n",
       "    </tr>\n",
       "    <tr>\n",
       "      <th>«6+» - для детей старше 6 лет</th>\n",
       "      <td>8701464621.41</td>\n",
       "      <td>167335858.10</td>\n",
       "      <td>23125984.70</td>\n",
       "    </tr>\n",
       "    <tr>\n",
       "      <th rowspan=\"5\" valign=\"top\">2016</th>\n",
       "      <th>«0+» - для любой зрительской аудитории</th>\n",
       "      <td>150228848.67</td>\n",
       "      <td>3664118.26</td>\n",
       "      <td>2571294.10</td>\n",
       "    </tr>\n",
       "    <tr>\n",
       "      <th>«12+» - для детей старше 12 лет</th>\n",
       "      <td>12204446524.39</td>\n",
       "      <td>148834713.71</td>\n",
       "      <td>4690635.25</td>\n",
       "    </tr>\n",
       "    <tr>\n",
       "      <th>«16+» - для детей старше 16 лет</th>\n",
       "      <td>16664216170.74</td>\n",
       "      <td>92067492.66</td>\n",
       "      <td>5180850.50</td>\n",
       "    </tr>\n",
       "    <tr>\n",
       "      <th>«18+» - запрещено для детей</th>\n",
       "      <td>6793929818.87</td>\n",
       "      <td>44992912.71</td>\n",
       "      <td>6107001.74</td>\n",
       "    </tr>\n",
       "    <tr>\n",
       "      <th>«6+» - для детей старше 6 лет</th>\n",
       "      <td>12053146008.24</td>\n",
       "      <td>172187800.12</td>\n",
       "      <td>3026256.15</td>\n",
       "    </tr>\n",
       "    <tr>\n",
       "      <th rowspan=\"5\" valign=\"top\">2017</th>\n",
       "      <th>«0+» - для любой зрительской аудитории</th>\n",
       "      <td>229598930.00</td>\n",
       "      <td>76532976.67</td>\n",
       "      <td>22178956.00</td>\n",
       "    </tr>\n",
       "    <tr>\n",
       "      <th>«12+» - для детей старше 12 лет</th>\n",
       "      <td>7851427660.67</td>\n",
       "      <td>191498235.63</td>\n",
       "      <td>9010548.00</td>\n",
       "    </tr>\n",
       "    <tr>\n",
       "      <th>«16+» - для детей старше 16 лет</th>\n",
       "      <td>18745042900.06</td>\n",
       "      <td>154917709.92</td>\n",
       "      <td>9702077.00</td>\n",
       "    </tr>\n",
       "    <tr>\n",
       "      <th>«18+» - запрещено для детей</th>\n",
       "      <td>9651495581.02</td>\n",
       "      <td>65656432.52</td>\n",
       "      <td>8212677.00</td>\n",
       "    </tr>\n",
       "    <tr>\n",
       "      <th>«6+» - для детей старше 6 лет</th>\n",
       "      <td>12086142145.76</td>\n",
       "      <td>268580936.57</td>\n",
       "      <td>51992103.00</td>\n",
       "    </tr>\n",
       "    <tr>\n",
       "      <th rowspan=\"5\" valign=\"top\">2018</th>\n",
       "      <th>«0+» - для любой зрительской аудитории</th>\n",
       "      <td>32449002.11</td>\n",
       "      <td>6489800.42</td>\n",
       "      <td>3616937.28</td>\n",
       "    </tr>\n",
       "    <tr>\n",
       "      <th>«12+» - для детей старше 12 лет</th>\n",
       "      <td>14267291660.69</td>\n",
       "      <td>212944651.65</td>\n",
       "      <td>8931965.66</td>\n",
       "    </tr>\n",
       "    <tr>\n",
       "      <th>«16+» - для детей старше 16 лет</th>\n",
       "      <td>16503602346.96</td>\n",
       "      <td>105792322.74</td>\n",
       "      <td>9010638.62</td>\n",
       "    </tr>\n",
       "    <tr>\n",
       "      <th>«18+» - запрещено для детей</th>\n",
       "      <td>8758498279.64</td>\n",
       "      <td>49205046.51</td>\n",
       "      <td>7604029.00</td>\n",
       "    </tr>\n",
       "    <tr>\n",
       "      <th>«6+» - для детей старше 6 лет</th>\n",
       "      <td>10104974623.41</td>\n",
       "      <td>148602567.99</td>\n",
       "      <td>14688850.32</td>\n",
       "    </tr>\n",
       "    <tr>\n",
       "      <th rowspan=\"5\" valign=\"top\">2019</th>\n",
       "      <th>«0+» - для любой зрительской аудитории</th>\n",
       "      <td>17746066.82</td>\n",
       "      <td>5915355.61</td>\n",
       "      <td>3885434.50</td>\n",
       "    </tr>\n",
       "    <tr>\n",
       "      <th>«12+» - для детей старше 12 лет</th>\n",
       "      <td>12680198773.67</td>\n",
       "      <td>149178809.10</td>\n",
       "      <td>3405545.76</td>\n",
       "    </tr>\n",
       "    <tr>\n",
       "      <th>«16+» - для детей старше 16 лет</th>\n",
       "      <td>12753418984.60</td>\n",
       "      <td>71648421.26</td>\n",
       "      <td>3210717.81</td>\n",
       "    </tr>\n",
       "    <tr>\n",
       "      <th>«18+» - запрещено для детей</th>\n",
       "      <td>10121796303.64</td>\n",
       "      <td>55310362.31</td>\n",
       "      <td>5603216.55</td>\n",
       "    </tr>\n",
       "    <tr>\n",
       "      <th>«6+» - для детей старше 6 лет</th>\n",
       "      <td>12852513658.86</td>\n",
       "      <td>160656420.74</td>\n",
       "      <td>14199614.88</td>\n",
       "    </tr>\n",
       "  </tbody>\n",
       "</table>\n",
       "</div>"
      ],
      "text/plain": [
       "                                                   sum_box     mean_box  \\\n",
       "year age_restriction                                                      \n",
       "2015 «0+» - для любой зрительской аудитории   364902082.47   9602686.38   \n",
       "     «12+» - для детей старше 12 лет        13616082008.91 186521671.35   \n",
       "     «16+» - для детей старше 16 лет        11368068375.27  68482339.61   \n",
       "     «18+» - запрещено для детей             5432308367.44  41153851.27   \n",
       "     «6+» - для детей старше 6 лет           8701464621.41 167335858.10   \n",
       "2016 «0+» - для любой зрительской аудитории   150228848.67   3664118.26   \n",
       "     «12+» - для детей старше 12 лет        12204446524.39 148834713.71   \n",
       "     «16+» - для детей старше 16 лет        16664216170.74  92067492.66   \n",
       "     «18+» - запрещено для детей             6793929818.87  44992912.71   \n",
       "     «6+» - для детей старше 6 лет          12053146008.24 172187800.12   \n",
       "2017 «0+» - для любой зрительской аудитории   229598930.00  76532976.67   \n",
       "     «12+» - для детей старше 12 лет         7851427660.67 191498235.63   \n",
       "     «16+» - для детей старше 16 лет        18745042900.06 154917709.92   \n",
       "     «18+» - запрещено для детей             9651495581.02  65656432.52   \n",
       "     «6+» - для детей старше 6 лет          12086142145.76 268580936.57   \n",
       "2018 «0+» - для любой зрительской аудитории    32449002.11   6489800.42   \n",
       "     «12+» - для детей старше 12 лет        14267291660.69 212944651.65   \n",
       "     «16+» - для детей старше 16 лет        16503602346.96 105792322.74   \n",
       "     «18+» - запрещено для детей             8758498279.64  49205046.51   \n",
       "     «6+» - для детей старше 6 лет          10104974623.41 148602567.99   \n",
       "2019 «0+» - для любой зрительской аудитории    17746066.82   5915355.61   \n",
       "     «12+» - для детей старше 12 лет        12680198773.67 149178809.10   \n",
       "     «16+» - для детей старше 16 лет        12753418984.60  71648421.26   \n",
       "     «18+» - запрещено для детей            10121796303.64  55310362.31   \n",
       "     «6+» - для детей старше 6 лет          12852513658.86 160656420.74   \n",
       "\n",
       "                                             median_box  \n",
       "year age_restriction                                     \n",
       "2015 «0+» - для любой зрительской аудитории  2767310.60  \n",
       "     «12+» - для детей старше 12 лет        15351562.50  \n",
       "     «16+» - для детей старше 16 лет         4878669.70  \n",
       "     «18+» - запрещено для детей             4616614.70  \n",
       "     «6+» - для детей старше 6 лет          23125984.70  \n",
       "2016 «0+» - для любой зрительской аудитории  2571294.10  \n",
       "     «12+» - для детей старше 12 лет         4690635.25  \n",
       "     «16+» - для детей старше 16 лет         5180850.50  \n",
       "     «18+» - запрещено для детей             6107001.74  \n",
       "     «6+» - для детей старше 6 лет           3026256.15  \n",
       "2017 «0+» - для любой зрительской аудитории 22178956.00  \n",
       "     «12+» - для детей старше 12 лет         9010548.00  \n",
       "     «16+» - для детей старше 16 лет         9702077.00  \n",
       "     «18+» - запрещено для детей             8212677.00  \n",
       "     «6+» - для детей старше 6 лет          51992103.00  \n",
       "2018 «0+» - для любой зрительской аудитории  3616937.28  \n",
       "     «12+» - для детей старше 12 лет         8931965.66  \n",
       "     «16+» - для детей старше 16 лет         9010638.62  \n",
       "     «18+» - запрещено для детей             7604029.00  \n",
       "     «6+» - для детей старше 6 лет          14688850.32  \n",
       "2019 «0+» - для любой зрительской аудитории  3885434.50  \n",
       "     «12+» - для детей старше 12 лет         3405545.76  \n",
       "     «16+» - для детей старше 16 лет         3210717.81  \n",
       "     «18+» - запрещено для детей             5603216.55  \n",
       "     «6+» - для детей старше 6 лет          14199614.88  "
      ]
     },
     "metadata": {},
     "output_type": "display_data"
    },
    {
     "data": {
      "image/png": "[encoded data removed]",
      "text/plain": [
       "<Figure size 432x288 with 1 Axes>"
      ]
     },
     "metadata": {
      "needs_background": "light"
     },
     "output_type": "display_data"
    }
   ],
   "source": [
    "display(df[df['year']>2014].groupby(['year','age_restriction']).count())\n",
    "new_df = pd.pivot_table(df[df['year']>2014],index=['year','age_restriction'],  values=['box_office'], aggfunc=[sum,np.mean,np.median])\n",
    "new_df.columns = ['sum_box','mean_box','median_box']\n",
    "display(new_df)\n",
    "plotting(new_df,'bar','sum_box')\n"
   ]
  },
  {
   "cell_type": "markdown",
   "metadata": {},
   "source": [
    "Исходя из графиков, мы можем увидеть, что меньше всего из года в год собирают фильм с возрастным ограничением 0+, но также стоит заметить, что таких фильмов и меньше всего. Больше всего собирают фильмы с рейтингом 16+, кроме 2015 и 2019 года (12+ и 6+ соответственно). Это может быть связано с тем, что большинство фильмов относятся к данным возврастным ограничениям"
   ]
  },
  {
   "cell_type": "markdown",
   "metadata": {
    "id": "l_Kg6Ku4gFya"
   },
   "source": [
    "### Исследование фильмов, которые получили государственную поддержку\n",
    "\n"
   ]
  },
  {
   "cell_type": "code",
   "execution_count": 42,
   "metadata": {
    "id": "W9QKpjUdgFyb",
    "scrolled": false
   },
   "outputs": [
    {
     "data": {
      "text/html": [
       "<div>\n",
       "<style scoped>\n",
       "    .dataframe tbody tr th:only-of-type {\n",
       "        vertical-align: middle;\n",
       "    }\n",
       "\n",
       "    .dataframe tbody tr th {\n",
       "        vertical-align: top;\n",
       "    }\n",
       "\n",
       "    .dataframe thead th {\n",
       "        text-align: right;\n",
       "    }\n",
       "</style>\n",
       "<table border=\"1\" class=\"dataframe\">\n",
       "  <thead>\n",
       "    <tr style=\"text-align: right;\">\n",
       "      <th></th>\n",
       "      <th>title</th>\n",
       "      <th>puNumber</th>\n",
       "      <th>show_start_date</th>\n",
       "      <th>type</th>\n",
       "      <th>film_studio</th>\n",
       "      <th>production_country</th>\n",
       "      <th>director</th>\n",
       "      <th>producer</th>\n",
       "      <th>age_restriction</th>\n",
       "      <th>refundable_support</th>\n",
       "      <th>...</th>\n",
       "      <th>financing_source</th>\n",
       "      <th>ratings</th>\n",
       "      <th>genres</th>\n",
       "      <th>box_office</th>\n",
       "      <th>year</th>\n",
       "      <th>director_ns</th>\n",
       "      <th>main_genre</th>\n",
       "      <th>sup_part</th>\n",
       "      <th>income</th>\n",
       "      <th>all_sup</th>\n",
       "    </tr>\n",
       "  </thead>\n",
       "  <tbody>\n",
       "    <tr>\n",
       "      <th>1281</th>\n",
       "      <td>Пока еще жива</td>\n",
       "      <td>111005313</td>\n",
       "      <td>2013-10-11 12:00:00</td>\n",
       "      <td>Художественный</td>\n",
       "      <td>АНО содействия развитию кинематографии \"Ангел-...</td>\n",
       "      <td>Россия</td>\n",
       "      <td>А.Атанесян</td>\n",
       "      <td>А.Атанесян, М.Бабаханов, Р.Бутко</td>\n",
       "      <td>«16+» - для детей старше 16 лет</td>\n",
       "      <td>0.00</td>\n",
       "      <td>...</td>\n",
       "      <td>Министерство культуры</td>\n",
       "      <td>8.10</td>\n",
       "      <td>драма,мелодрама</td>\n",
       "      <td>365353.60</td>\n",
       "      <td>2013</td>\n",
       "      <td>А.Атанесян</td>\n",
       "      <td>драма</td>\n",
       "      <td>33.37</td>\n",
       "      <td>-79046546.40</td>\n",
       "      <td>26500000.00</td>\n",
       "    </tr>\n",
       "    <tr>\n",
       "      <th>1448</th>\n",
       "      <td>Бесславные придурки</td>\n",
       "      <td>111003314</td>\n",
       "      <td>2014-03-28 12:00:00</td>\n",
       "      <td>Художественный</td>\n",
       "      <td>ООО \"Компания \"АТК-Студио\"</td>\n",
       "      <td>Россия</td>\n",
       "      <td>А.Якимчук</td>\n",
       "      <td>А.Тютрюмов</td>\n",
       "      <td>«12+» - для детей старше 12 лет</td>\n",
       "      <td>0.00</td>\n",
       "      <td>...</td>\n",
       "      <td>Министерство культуры</td>\n",
       "      <td>NaN</td>\n",
       "      <td>NaN</td>\n",
       "      <td>28140.00</td>\n",
       "      <td>2014</td>\n",
       "      <td>А.Якимчук</td>\n",
       "      <td>NaN</td>\n",
       "      <td>70.00</td>\n",
       "      <td>-37114717.00</td>\n",
       "      <td>26000000.00</td>\n",
       "    </tr>\n",
       "    <tr>\n",
       "      <th>1498</th>\n",
       "      <td>Невидимки</td>\n",
       "      <td>111004213</td>\n",
       "      <td>2013-09-10 12:00:00</td>\n",
       "      <td>Художественный</td>\n",
       "      <td>ООО \"Компания \"РЕАЛ-ДАКОТА\"</td>\n",
       "      <td>Россия</td>\n",
       "      <td>Р.Давлетьяров, С.Комаров</td>\n",
       "      <td>Р.Давлетьяров, А.Котелевский, А.Олейников</td>\n",
       "      <td>«12+» - для детей старше 12 лет</td>\n",
       "      <td>0.00</td>\n",
       "      <td>...</td>\n",
       "      <td>Фонд кино</td>\n",
       "      <td>5.30</td>\n",
       "      <td>комедия,фантастика</td>\n",
       "      <td>19957031.50</td>\n",
       "      <td>2013</td>\n",
       "      <td>Р.Давлетьяров</td>\n",
       "      <td>комедия</td>\n",
       "      <td>61.27</td>\n",
       "      <td>-156066458.50</td>\n",
       "      <td>107847945.00</td>\n",
       "    </tr>\n",
       "    <tr>\n",
       "      <th>1524</th>\n",
       "      <td>БЕРЦЫ</td>\n",
       "      <td>111004314</td>\n",
       "      <td>2014-05-05 12:00:00</td>\n",
       "      <td>Художественный</td>\n",
       "      <td>ООО \"Студия \"Пассажир\"</td>\n",
       "      <td>Россия</td>\n",
       "      <td>Е.Миндадзе (псевдоним Катя Шагалова)</td>\n",
       "      <td>Л.Антонова</td>\n",
       "      <td>«16+» - для детей старше 16 лет</td>\n",
       "      <td>0.00</td>\n",
       "      <td>...</td>\n",
       "      <td>Министерство культуры</td>\n",
       "      <td>4.20</td>\n",
       "      <td>драма</td>\n",
       "      <td>55917.50</td>\n",
       "      <td>2014</td>\n",
       "      <td>Е.Миндадзе (псевдоним Катя Шагалова)</td>\n",
       "      <td>драма</td>\n",
       "      <td>69.01</td>\n",
       "      <td>-40518222.50</td>\n",
       "      <td>28000000.00</td>\n",
       "    </tr>\n",
       "    <tr>\n",
       "      <th>1792</th>\n",
       "      <td>Братья Ч</td>\n",
       "      <td>111004414</td>\n",
       "      <td>2014-04-23 12:00:00</td>\n",
       "      <td>Художественный</td>\n",
       "      <td>ООО \"Студия \"Пассажир\"</td>\n",
       "      <td>Россия</td>\n",
       "      <td>М.Угаров</td>\n",
       "      <td>А.Миндадзе, Л.Антонова</td>\n",
       "      <td>«16+» - для детей старше 16 лет</td>\n",
       "      <td>0.00</td>\n",
       "      <td>...</td>\n",
       "      <td>Министерство культуры</td>\n",
       "      <td>6.40</td>\n",
       "      <td>драма</td>\n",
       "      <td>232100.00</td>\n",
       "      <td>2014</td>\n",
       "      <td>М.Угаров</td>\n",
       "      <td>драма</td>\n",
       "      <td>62.48</td>\n",
       "      <td>-39783022.00</td>\n",
       "      <td>25000000.00</td>\n",
       "    </tr>\n",
       "    <tr>\n",
       "      <th>...</th>\n",
       "      <td>...</td>\n",
       "      <td>...</td>\n",
       "      <td>...</td>\n",
       "      <td>...</td>\n",
       "      <td>...</td>\n",
       "      <td>...</td>\n",
       "      <td>...</td>\n",
       "      <td>...</td>\n",
       "      <td>...</td>\n",
       "      <td>...</td>\n",
       "      <td>...</td>\n",
       "      <td>...</td>\n",
       "      <td>...</td>\n",
       "      <td>...</td>\n",
       "      <td>...</td>\n",
       "      <td>...</td>\n",
       "      <td>...</td>\n",
       "      <td>...</td>\n",
       "      <td>...</td>\n",
       "      <td>...</td>\n",
       "      <td>...</td>\n",
       "    </tr>\n",
       "    <tr>\n",
       "      <th>7464</th>\n",
       "      <td>Союз спасения</td>\n",
       "      <td>111022019</td>\n",
       "      <td>2019-12-26 12:00:00</td>\n",
       "      <td>Художественный</td>\n",
       "      <td>ЗАО \"Дирекция кино\"</td>\n",
       "      <td>Россия</td>\n",
       "      <td>А.Кравчук</td>\n",
       "      <td>А.Максимов, К.Эрнст</td>\n",
       "      <td>«12+» - для детей старше 12 лет</td>\n",
       "      <td>100000000.00</td>\n",
       "      <td>...</td>\n",
       "      <td>Фонд кино</td>\n",
       "      <td>6.00</td>\n",
       "      <td>история,биография,драма</td>\n",
       "      <td>717703185.53</td>\n",
       "      <td>2019</td>\n",
       "      <td>А.Кравчук</td>\n",
       "      <td>история</td>\n",
       "      <td>51.02</td>\n",
       "      <td>-262296814.47</td>\n",
       "      <td>500000000.00</td>\n",
       "    </tr>\n",
       "    <tr>\n",
       "      <th>7466</th>\n",
       "      <td>Иван Царевич и Серый Волк 4</td>\n",
       "      <td>114005019</td>\n",
       "      <td>2019-12-20 12:00:00</td>\n",
       "      <td>Анимационный</td>\n",
       "      <td>ООО \"Студия анимационного кино \"Мельница\"</td>\n",
       "      <td>Россия</td>\n",
       "      <td>Д.Шмидт, К.Феоктистов</td>\n",
       "      <td>С.Сельянов, А.Боярский</td>\n",
       "      <td>«6+» - для детей старше 6 лет</td>\n",
       "      <td>100000000.00</td>\n",
       "      <td>...</td>\n",
       "      <td>Фонд кино</td>\n",
       "      <td>6.70</td>\n",
       "      <td>мультфильм,приключения,семейный</td>\n",
       "      <td>501069235.00</td>\n",
       "      <td>2019</td>\n",
       "      <td>Д.Шмидт</td>\n",
       "      <td>мультфильм</td>\n",
       "      <td>52.63</td>\n",
       "      <td>311069235.00</td>\n",
       "      <td>100000000.00</td>\n",
       "    </tr>\n",
       "    <tr>\n",
       "      <th>7474</th>\n",
       "      <td>Вторжение</td>\n",
       "      <td>111022519</td>\n",
       "      <td>2019-12-23 12:00:00</td>\n",
       "      <td>Художественный</td>\n",
       "      <td>ООО \"Арт Пикчерс Студия\", ООО \"Водород 2011\"</td>\n",
       "      <td>Россия</td>\n",
       "      <td>Ф.Бондарчук</td>\n",
       "      <td>Ф.Бондарчук, М.Врубель, А.Андрющенко, Д.Рудовский</td>\n",
       "      <td>«12+» - для детей старше 12 лет</td>\n",
       "      <td>100000000.00</td>\n",
       "      <td>...</td>\n",
       "      <td>Фонд кино</td>\n",
       "      <td>5.70</td>\n",
       "      <td>фантастика,боевик</td>\n",
       "      <td>NaN</td>\n",
       "      <td>2019</td>\n",
       "      <td>Ф.Бондарчук</td>\n",
       "      <td>фантастика</td>\n",
       "      <td>52.97</td>\n",
       "      <td>NaN</td>\n",
       "      <td>500000000.00</td>\n",
       "    </tr>\n",
       "    <tr>\n",
       "      <th>7476</th>\n",
       "      <td>Я свободен</td>\n",
       "      <td>111023019</td>\n",
       "      <td>2019-12-26 12:00:00</td>\n",
       "      <td>Художественный</td>\n",
       "      <td>АО \"ТПО \"Киностудия им. М.Горького\"</td>\n",
       "      <td>Россия</td>\n",
       "      <td>И.Северов</td>\n",
       "      <td>С.Зернов</td>\n",
       "      <td>«12+» - для детей старше 12 лет</td>\n",
       "      <td>0.00</td>\n",
       "      <td>...</td>\n",
       "      <td>Министерство культуры</td>\n",
       "      <td>5.90</td>\n",
       "      <td>драма</td>\n",
       "      <td>NaN</td>\n",
       "      <td>2019</td>\n",
       "      <td>И.Северов</td>\n",
       "      <td>драма</td>\n",
       "      <td>65.00</td>\n",
       "      <td>NaN</td>\n",
       "      <td>30000000.00</td>\n",
       "    </tr>\n",
       "    <tr>\n",
       "      <th>7478</th>\n",
       "      <td>(Не)идеальный мужчина</td>\n",
       "      <td>111023119</td>\n",
       "      <td>2019-12-24 12:00:00</td>\n",
       "      <td>Художественный</td>\n",
       "      <td>ООО \"Нон-Стоп Продакшн\"</td>\n",
       "      <td>Россия</td>\n",
       "      <td>М.Бальчюнас (псевдоним М.Вайсберг)</td>\n",
       "      <td>С.Мелькумов, А.Роднянский, М.Вайсберг, Р.Минас...</td>\n",
       "      <td>«12+» - для детей старше 12 лет</td>\n",
       "      <td>40000000.00</td>\n",
       "      <td>...</td>\n",
       "      <td>Фонд кино</td>\n",
       "      <td>4.50</td>\n",
       "      <td>комедия,фантастика,мелодрама</td>\n",
       "      <td>NaN</td>\n",
       "      <td>2019</td>\n",
       "      <td>М.Бальчюнас (псевдоним М.Вайсберг)</td>\n",
       "      <td>комедия</td>\n",
       "      <td>66.60</td>\n",
       "      <td>NaN</td>\n",
       "      <td>100000000.00</td>\n",
       "    </tr>\n",
       "  </tbody>\n",
       "</table>\n",
       "<p>331 rows × 22 columns</p>\n",
       "</div>"
      ],
      "text/plain": [
       "                            title   puNumber     show_start_date  \\\n",
       "1281                Пока еще жива  111005313 2013-10-11 12:00:00   \n",
       "1448          Бесславные придурки  111003314 2014-03-28 12:00:00   \n",
       "1498                    Невидимки  111004213 2013-09-10 12:00:00   \n",
       "1524                        БЕРЦЫ  111004314 2014-05-05 12:00:00   \n",
       "1792                     Братья Ч  111004414 2014-04-23 12:00:00   \n",
       "...                           ...        ...                 ...   \n",
       "7464                Союз спасения  111022019 2019-12-26 12:00:00   \n",
       "7466  Иван Царевич и Серый Волк 4  114005019 2019-12-20 12:00:00   \n",
       "7474                    Вторжение  111022519 2019-12-23 12:00:00   \n",
       "7476                   Я свободен  111023019 2019-12-26 12:00:00   \n",
       "7478        (Не)идеальный мужчина  111023119 2019-12-24 12:00:00   \n",
       "\n",
       "                type                                        film_studio  \\\n",
       "1281  Художественный  АНО содействия развитию кинематографии \"Ангел-...   \n",
       "1448  Художественный                         ООО \"Компания \"АТК-Студио\"   \n",
       "1498  Художественный                        ООО \"Компания \"РЕАЛ-ДАКОТА\"   \n",
       "1524  Художественный                             ООО \"Студия \"Пассажир\"   \n",
       "1792  Художественный                             ООО \"Студия \"Пассажир\"   \n",
       "...              ...                                                ...   \n",
       "7464  Художественный                                ЗАО \"Дирекция кино\"   \n",
       "7466    Анимационный          ООО \"Студия анимационного кино \"Мельница\"   \n",
       "7474  Художественный       ООО \"Арт Пикчерс Студия\", ООО \"Водород 2011\"   \n",
       "7476  Художественный                АО \"ТПО \"Киностудия им. М.Горького\"   \n",
       "7478  Художественный                           ООО \"Нон-Стоп Продакшн\"    \n",
       "\n",
       "     production_country                              director  \\\n",
       "1281             Россия                            А.Атанесян   \n",
       "1448             Россия                             А.Якимчук   \n",
       "1498             Россия              Р.Давлетьяров, С.Комаров   \n",
       "1524             Россия  Е.Миндадзе (псевдоним Катя Шагалова)   \n",
       "1792             Россия                              М.Угаров   \n",
       "...                 ...                                   ...   \n",
       "7464             Россия                             А.Кравчук   \n",
       "7466             Россия                 Д.Шмидт, К.Феоктистов   \n",
       "7474             Россия                           Ф.Бондарчук   \n",
       "7476             Россия                             И.Северов   \n",
       "7478             Россия    М.Бальчюнас (псевдоним М.Вайсберг)   \n",
       "\n",
       "                                               producer  \\\n",
       "1281                   А.Атанесян, М.Бабаханов, Р.Бутко   \n",
       "1448                                         А.Тютрюмов   \n",
       "1498          Р.Давлетьяров, А.Котелевский, А.Олейников   \n",
       "1524                                         Л.Антонова   \n",
       "1792                             А.Миндадзе, Л.Антонова   \n",
       "...                                                 ...   \n",
       "7464                                А.Максимов, К.Эрнст   \n",
       "7466                             С.Сельянов, А.Боярский   \n",
       "7474  Ф.Бондарчук, М.Врубель, А.Андрющенко, Д.Рудовский   \n",
       "7476                                           С.Зернов   \n",
       "7478  С.Мелькумов, А.Роднянский, М.Вайсберг, Р.Минас...   \n",
       "\n",
       "                      age_restriction  refundable_support  ...  \\\n",
       "1281  «16+» - для детей старше 16 лет                0.00  ...   \n",
       "1448  «12+» - для детей старше 12 лет                0.00  ...   \n",
       "1498  «12+» - для детей старше 12 лет                0.00  ...   \n",
       "1524  «16+» - для детей старше 16 лет                0.00  ...   \n",
       "1792  «16+» - для детей старше 16 лет                0.00  ...   \n",
       "...                               ...                 ...  ...   \n",
       "7464  «12+» - для детей старше 12 лет        100000000.00  ...   \n",
       "7466    «6+» - для детей старше 6 лет        100000000.00  ...   \n",
       "7474  «12+» - для детей старше 12 лет        100000000.00  ...   \n",
       "7476  «12+» - для детей старше 12 лет                0.00  ...   \n",
       "7478  «12+» - для детей старше 12 лет         40000000.00  ...   \n",
       "\n",
       "           financing_source  ratings                           genres  \\\n",
       "1281  Министерство культуры     8.10                  драма,мелодрама   \n",
       "1448  Министерство культуры      NaN                              NaN   \n",
       "1498              Фонд кино     5.30               комедия,фантастика   \n",
       "1524  Министерство культуры     4.20                            драма   \n",
       "1792  Министерство культуры     6.40                            драма   \n",
       "...                     ...      ...                              ...   \n",
       "7464              Фонд кино     6.00          история,биография,драма   \n",
       "7466              Фонд кино     6.70  мультфильм,приключения,семейный   \n",
       "7474              Фонд кино     5.70                фантастика,боевик   \n",
       "7476  Министерство культуры     5.90                            драма   \n",
       "7478              Фонд кино     4.50     комедия,фантастика,мелодрама   \n",
       "\n",
       "       box_office  year                           director_ns  main_genre  \\\n",
       "1281    365353.60  2013                            А.Атанесян       драма   \n",
       "1448     28140.00  2014                             А.Якимчук         NaN   \n",
       "1498  19957031.50  2013                         Р.Давлетьяров     комедия   \n",
       "1524     55917.50  2014  Е.Миндадзе (псевдоним Катя Шагалова)       драма   \n",
       "1792    232100.00  2014                              М.Угаров       драма   \n",
       "...           ...   ...                                   ...         ...   \n",
       "7464 717703185.53  2019                             А.Кравчук     история   \n",
       "7466 501069235.00  2019                               Д.Шмидт  мультфильм   \n",
       "7474          NaN  2019                           Ф.Бондарчук  фантастика   \n",
       "7476          NaN  2019                             И.Северов       драма   \n",
       "7478          NaN  2019    М.Бальчюнас (псевдоним М.Вайсберг)     комедия   \n",
       "\n",
       "     sup_part        income      all_sup  \n",
       "1281    33.37  -79046546.40  26500000.00  \n",
       "1448    70.00  -37114717.00  26000000.00  \n",
       "1498    61.27 -156066458.50 107847945.00  \n",
       "1524    69.01  -40518222.50  28000000.00  \n",
       "1792    62.48  -39783022.00  25000000.00  \n",
       "...       ...           ...          ...  \n",
       "7464    51.02 -262296814.47 500000000.00  \n",
       "7466    52.63  311069235.00 100000000.00  \n",
       "7474    52.97           NaN 500000000.00  \n",
       "7476    65.00           NaN  30000000.00  \n",
       "7478    66.60           NaN 100000000.00  \n",
       "\n",
       "[331 rows x 22 columns]"
      ]
     },
     "metadata": {},
     "output_type": "display_data"
    }
   ],
   "source": [
    "df_gover = df.loc[df['budget']>0].copy()\n",
    "df_gover['income'] = df_gover['box_office'] - df_gover['budget'] #Создаем столбце в котором будут данные по доходности фильмов\n",
    "df_gover['all_sup'] = df_gover['refundable_support']+df_gover['nonrefundable_support']\n",
    "display(df_gover)"
   ]
  },
  {
   "cell_type": "code",
   "execution_count": 43,
   "metadata": {},
   "outputs": [
    {
     "data": {
      "text/html": [
       "<div>\n",
       "<style scoped>\n",
       "    .dataframe tbody tr th:only-of-type {\n",
       "        vertical-align: middle;\n",
       "    }\n",
       "\n",
       "    .dataframe tbody tr th {\n",
       "        vertical-align: top;\n",
       "    }\n",
       "\n",
       "    .dataframe thead th {\n",
       "        text-align: right;\n",
       "    }\n",
       "</style>\n",
       "<table border=\"1\" class=\"dataframe\">\n",
       "  <thead>\n",
       "    <tr style=\"text-align: right;\">\n",
       "      <th></th>\n",
       "      <th>refundable_support</th>\n",
       "      <th>nonrefundable_support</th>\n",
       "      <th>budget</th>\n",
       "      <th>ratings</th>\n",
       "      <th>box_office</th>\n",
       "      <th>year</th>\n",
       "      <th>sup_part</th>\n",
       "      <th>income</th>\n",
       "      <th>all_sup</th>\n",
       "    </tr>\n",
       "  </thead>\n",
       "  <tbody>\n",
       "    <tr>\n",
       "      <th>count</th>\n",
       "      <td>331.00</td>\n",
       "      <td>331.00</td>\n",
       "      <td>331.00</td>\n",
       "      <td>315.00</td>\n",
       "      <td>317.00</td>\n",
       "      <td>331.00</td>\n",
       "      <td>331.00</td>\n",
       "      <td>317.00</td>\n",
       "      <td>331.00</td>\n",
       "    </tr>\n",
       "    <tr>\n",
       "      <th>mean</th>\n",
       "      <td>11900302.11</td>\n",
       "      <td>49098756.23</td>\n",
       "      <td>131698596.39</td>\n",
       "      <td>6.01</td>\n",
       "      <td>132849131.94</td>\n",
       "      <td>2016.73</td>\n",
       "      <td>54.30</td>\n",
       "      <td>552167.83</td>\n",
       "      <td>60999058.34</td>\n",
       "    </tr>\n",
       "    <tr>\n",
       "      <th>std</th>\n",
       "      <td>24945704.90</td>\n",
       "      <td>60032473.70</td>\n",
       "      <td>187363805.25</td>\n",
       "      <td>1.13</td>\n",
       "      <td>335284646.39</td>\n",
       "      <td>1.64</td>\n",
       "      <td>19.66</td>\n",
       "      <td>316401832.68</td>\n",
       "      <td>72811671.94</td>\n",
       "    </tr>\n",
       "    <tr>\n",
       "      <th>min</th>\n",
       "      <td>0.00</td>\n",
       "      <td>0.00</td>\n",
       "      <td>6000000.00</td>\n",
       "      <td>1.00</td>\n",
       "      <td>1550.00</td>\n",
       "      <td>2013.00</td>\n",
       "      <td>4.40</td>\n",
       "      <td>-1971477243.41</td>\n",
       "      <td>3000000.00</td>\n",
       "    </tr>\n",
       "    <tr>\n",
       "      <th>25%</th>\n",
       "      <td>0.00</td>\n",
       "      <td>25000000.00</td>\n",
       "      <td>45846250.50</td>\n",
       "      <td>5.30</td>\n",
       "      <td>1250996.00</td>\n",
       "      <td>2015.00</td>\n",
       "      <td>38.61</td>\n",
       "      <td>-70903859.00</td>\n",
       "      <td>25422500.00</td>\n",
       "    </tr>\n",
       "    <tr>\n",
       "      <th>50%</th>\n",
       "      <td>0.00</td>\n",
       "      <td>30000000.00</td>\n",
       "      <td>71517631.00</td>\n",
       "      <td>6.20</td>\n",
       "      <td>16077204.00</td>\n",
       "      <td>2017.00</td>\n",
       "      <td>61.54</td>\n",
       "      <td>-40843410.00</td>\n",
       "      <td>35000000.00</td>\n",
       "    </tr>\n",
       "    <tr>\n",
       "      <th>75%</th>\n",
       "      <td>15000000.00</td>\n",
       "      <td>40750000.00</td>\n",
       "      <td>150000000.00</td>\n",
       "      <td>6.70</td>\n",
       "      <td>106514301.03</td>\n",
       "      <td>2018.00</td>\n",
       "      <td>66.16</td>\n",
       "      <td>-2312697.88</td>\n",
       "      <td>60000000.00</td>\n",
       "    </tr>\n",
       "    <tr>\n",
       "      <th>max</th>\n",
       "      <td>180000000.00</td>\n",
       "      <td>400000000.00</td>\n",
       "      <td>2305074303.00</td>\n",
       "      <td>9.00</td>\n",
       "      <td>3073568690.79</td>\n",
       "      <td>2019.00</td>\n",
       "      <td>100.00</td>\n",
       "      <td>2913568690.79</td>\n",
       "      <td>500000000.00</td>\n",
       "    </tr>\n",
       "  </tbody>\n",
       "</table>\n",
       "</div>"
      ],
      "text/plain": [
       "       refundable_support  nonrefundable_support        budget  ratings  \\\n",
       "count              331.00                 331.00        331.00   315.00   \n",
       "mean          11900302.11            49098756.23  131698596.39     6.01   \n",
       "std           24945704.90            60032473.70  187363805.25     1.13   \n",
       "min                  0.00                   0.00    6000000.00     1.00   \n",
       "25%                  0.00            25000000.00   45846250.50     5.30   \n",
       "50%                  0.00            30000000.00   71517631.00     6.20   \n",
       "75%           15000000.00            40750000.00  150000000.00     6.70   \n",
       "max          180000000.00           400000000.00 2305074303.00     9.00   \n",
       "\n",
       "         box_office    year  sup_part         income      all_sup  \n",
       "count        317.00  331.00    331.00         317.00       331.00  \n",
       "mean   132849131.94 2016.73     54.30      552167.83  60999058.34  \n",
       "std    335284646.39    1.64     19.66   316401832.68  72811671.94  \n",
       "min         1550.00 2013.00      4.40 -1971477243.41   3000000.00  \n",
       "25%      1250996.00 2015.00     38.61   -70903859.00  25422500.00  \n",
       "50%     16077204.00 2017.00     61.54   -40843410.00  35000000.00  \n",
       "75%    106514301.03 2018.00     66.16    -2312697.88  60000000.00  \n",
       "max   3073568690.79 2019.00    100.00  2913568690.79 500000000.00  "
      ]
     },
     "execution_count": 43,
     "metadata": {},
     "output_type": "execute_result"
    }
   ],
   "source": [
    "df_gover.describe()"
   ]
  },
  {
   "cell_type": "markdown",
   "metadata": {},
   "source": [
    "Как мы можем увидеть, большинство фильмов получают государственную поддержку в районе 50%, средний рейтинг фильмов с государственной поддержкой находитсяв районе 6, при этом минимальная оценка равна 1, а максимальная 9,4. "
   ]
  },
  {
   "cell_type": "code",
   "execution_count": 44,
   "metadata": {},
   "outputs": [
    {
     "name": "stdout",
     "output_type": "stream",
     "text": [
      "Художественный    299\n",
      "Анимационный       31\n",
      "Документальный      1\n",
      "Name: type, dtype: int64\n"
     ]
    }
   ],
   "source": [
    "uniquev(df_gover,'type')"
   ]
  },
  {
   "cell_type": "markdown",
   "metadata": {},
   "source": [
    "Практически все фильмы получившие государственную поддержку относятся к художественным (90%), 31 фильм является анимационным (9%) и всего 1 фильм является документальным"
   ]
  },
  {
   "cell_type": "code",
   "execution_count": 45,
   "metadata": {},
   "outputs": [
    {
     "name": "stdout",
     "output_type": "stream",
     "text": [
      "драма          93\n",
      "комедия        74\n",
      "мультфильм     31\n",
      "мелодрама      15\n",
      "триллер        15\n",
      "фэнтези        11\n",
      "фантастика     10\n",
      "ужасы          10\n",
      "военный         9\n",
      "приключения     7\n",
      "семейный        7\n",
      "боевик          6\n",
      "детектив        5\n",
      "мюзикл          4\n",
      "детский         4\n",
      "история         4\n",
      "биография       3\n",
      "криминал        3\n",
      "спорт           3\n",
      "реальное ТВ     1\n",
      "Name: main_genre, dtype: int64\n"
     ]
    }
   ],
   "source": [
    "uniquev(df_gover,'main_genre')"
   ]
  },
  {
   "cell_type": "markdown",
   "metadata": {},
   "source": [
    "Большинство фильмов относятся к жанру драма и комедия"
   ]
  },
  {
   "cell_type": "code",
   "execution_count": 46,
   "metadata": {},
   "outputs": [
    {
     "name": "stdout",
     "output_type": "stream",
     "text": [
      "Министерство культуры               163\n",
      "Фонд кино                           146\n",
      "Министерство культуры, Фонд кино     22\n",
      "Name: financing_source, dtype: int64\n"
     ]
    }
   ],
   "source": [
    "uniquev(df_gover,'financing_source')"
   ]
  },
  {
   "cell_type": "markdown",
   "metadata": {},
   "source": [
    "Все фильмы спонсируются или Министерством культуры или Фондом кино"
   ]
  },
  {
   "cell_type": "code",
   "execution_count": 47,
   "metadata": {},
   "outputs": [
    {
     "name": "stdout",
     "output_type": "stream",
     "text": [
      "«16+» - для детей старше 16 лет           125\n",
      "«12+» - для детей старше 12 лет           106\n",
      "«6+» - для детей старше 6 лет              64\n",
      "«18+» - запрещено для детей                28\n",
      "«0+» - для любой зрительской аудитории      8\n",
      "Name: age_restriction, dtype: int64\n"
     ]
    }
   ],
   "source": [
    "uniquev(df_gover,'age_restriction')"
   ]
  },
  {
   "cell_type": "markdown",
   "metadata": {},
   "source": [
    "Большинство фильмов относятся к возрастным группам 16+ и 12+"
   ]
  },
  {
   "cell_type": "code",
   "execution_count": 48,
   "metadata": {},
   "outputs": [
    {
     "data": {
      "text/html": [
       "<div>\n",
       "<style scoped>\n",
       "    .dataframe tbody tr th:only-of-type {\n",
       "        vertical-align: middle;\n",
       "    }\n",
       "\n",
       "    .dataframe tbody tr th {\n",
       "        vertical-align: top;\n",
       "    }\n",
       "\n",
       "    .dataframe thead th {\n",
       "        text-align: right;\n",
       "    }\n",
       "</style>\n",
       "<table border=\"1\" class=\"dataframe\">\n",
       "  <thead>\n",
       "    <tr style=\"text-align: right;\">\n",
       "      <th></th>\n",
       "      <th>refundable_support</th>\n",
       "      <th>nonrefundable_support</th>\n",
       "      <th>budget</th>\n",
       "      <th>ratings</th>\n",
       "      <th>box_office</th>\n",
       "      <th>sup_part</th>\n",
       "      <th>income</th>\n",
       "      <th>all_sup</th>\n",
       "    </tr>\n",
       "    <tr>\n",
       "      <th>year</th>\n",
       "      <th></th>\n",
       "      <th></th>\n",
       "      <th></th>\n",
       "      <th></th>\n",
       "      <th></th>\n",
       "      <th></th>\n",
       "      <th></th>\n",
       "      <th></th>\n",
       "    </tr>\n",
       "  </thead>\n",
       "  <tbody>\n",
       "    <tr>\n",
       "      <th>2013</th>\n",
       "      <td>0.00</td>\n",
       "      <td>134347945.00</td>\n",
       "      <td>255435390.00</td>\n",
       "      <td>13.40</td>\n",
       "      <td>20322385.10</td>\n",
       "      <td>94.64</td>\n",
       "      <td>-235113004.90</td>\n",
       "      <td>134347945.00</td>\n",
       "    </tr>\n",
       "    <tr>\n",
       "      <th>2014</th>\n",
       "      <td>71000000.00</td>\n",
       "      <td>501002299.00</td>\n",
       "      <td>1302484783.00</td>\n",
       "      <td>90.10</td>\n",
       "      <td>1017422166.60</td>\n",
       "      <td>882.11</td>\n",
       "      <td>-285062616.40</td>\n",
       "      <td>572002299.00</td>\n",
       "    </tr>\n",
       "    <tr>\n",
       "      <th>2015</th>\n",
       "      <td>637153119.00</td>\n",
       "      <td>3009088340.00</td>\n",
       "      <td>7698669207.00</td>\n",
       "      <td>500.20</td>\n",
       "      <td>5784950668.14</td>\n",
       "      <td>4807.99</td>\n",
       "      <td>-1871719554.86</td>\n",
       "      <td>3646241459.00</td>\n",
       "    </tr>\n",
       "    <tr>\n",
       "      <th>2016</th>\n",
       "      <td>921500000.00</td>\n",
       "      <td>3381655482.00</td>\n",
       "      <td>7554942748.00</td>\n",
       "      <td>323.60</td>\n",
       "      <td>6081707839.10</td>\n",
       "      <td>3505.50</td>\n",
       "      <td>-1454528828.90</td>\n",
       "      <td>4303155482.00</td>\n",
       "    </tr>\n",
       "    <tr>\n",
       "      <th>2017</th>\n",
       "      <td>719346881.00</td>\n",
       "      <td>2464624781.00</td>\n",
       "      <td>7057172568.00</td>\n",
       "      <td>234.00</td>\n",
       "      <td>10865075300.96</td>\n",
       "      <td>2075.51</td>\n",
       "      <td>3913502732.96</td>\n",
       "      <td>3183971662.00</td>\n",
       "    </tr>\n",
       "    <tr>\n",
       "      <th>2018</th>\n",
       "      <td>662000000.00</td>\n",
       "      <td>2784969465.00</td>\n",
       "      <td>7000664099.00</td>\n",
       "      <td>318.10</td>\n",
       "      <td>9934069010.25</td>\n",
       "      <td>3051.33</td>\n",
       "      <td>2933404911.25</td>\n",
       "      <td>3446969465.00</td>\n",
       "    </tr>\n",
       "    <tr>\n",
       "      <th>2019</th>\n",
       "      <td>928000000.00</td>\n",
       "      <td>3976000000.00</td>\n",
       "      <td>12722866609.00</td>\n",
       "      <td>413.80</td>\n",
       "      <td>8409627454.63</td>\n",
       "      <td>3555.58</td>\n",
       "      <td>-2825446437.37</td>\n",
       "      <td>4904000000.00</td>\n",
       "    </tr>\n",
       "  </tbody>\n",
       "</table>\n",
       "</div>"
      ],
      "text/plain": [
       "      refundable_support  nonrefundable_support         budget  ratings  \\\n",
       "year                                                                      \n",
       "2013                0.00           134347945.00   255435390.00    13.40   \n",
       "2014         71000000.00           501002299.00  1302484783.00    90.10   \n",
       "2015        637153119.00          3009088340.00  7698669207.00   500.20   \n",
       "2016        921500000.00          3381655482.00  7554942748.00   323.60   \n",
       "2017        719346881.00          2464624781.00  7057172568.00   234.00   \n",
       "2018        662000000.00          2784969465.00  7000664099.00   318.10   \n",
       "2019        928000000.00          3976000000.00 12722866609.00   413.80   \n",
       "\n",
       "         box_office  sup_part         income       all_sup  \n",
       "year                                                        \n",
       "2013    20322385.10     94.64  -235113004.90  134347945.00  \n",
       "2014  1017422166.60    882.11  -285062616.40  572002299.00  \n",
       "2015  5784950668.14   4807.99 -1871719554.86 3646241459.00  \n",
       "2016  6081707839.10   3505.50 -1454528828.90 4303155482.00  \n",
       "2017 10865075300.96   2075.51  3913502732.96 3183971662.00  \n",
       "2018  9934069010.25   3051.33  2933404911.25 3446969465.00  \n",
       "2019  8409627454.63   3555.58 -2825446437.37 4904000000.00  "
      ]
     },
     "metadata": {},
     "output_type": "display_data"
    }
   ],
   "source": [
    "df_gover_group = df_gover.groupby('year').sum()\n",
    "display(df_gover_group)"
   ]
  },
  {
   "cell_type": "code",
   "execution_count": 49,
   "metadata": {},
   "outputs": [
    {
     "data": {
      "image/png": "[encoded data removed]",
      "text/plain": [
       "<Figure size 432x288 with 1 Axes>"
      ]
     },
     "metadata": {
      "needs_background": "light"
     },
     "output_type": "display_data"
    },
    {
     "data": {
      "image/png": "[encoded data removed]",
      "text/plain": [
       "<Figure size 432x288 with 1 Axes>"
      ]
     },
     "metadata": {
      "needs_background": "light"
     },
     "output_type": "display_data"
    },
    {
     "data": {
      "image/png": "[encoded data removed]",
      "text/plain": [
       "<Figure size 432x288 with 1 Axes>"
      ]
     },
     "metadata": {
      "needs_background": "light"
     },
     "output_type": "display_data"
    },
    {
     "data": {
      "image/png": "[encoded data removed]",
      "text/plain": [
       "<Figure size 432x288 with 1 Axes>"
      ]
     },
     "metadata": {
      "needs_background": "light"
     },
     "output_type": "display_data"
    },
    {
     "data": {
      "image/png": "[encoded data removed]",
      "text/plain": [
       "<Figure size 432x288 with 1 Axes>"
      ]
     },
     "metadata": {
      "needs_background": "light"
     },
     "output_type": "display_data"
    }
   ],
   "source": [
    "plotting(df_gover_group,'line','box_office')\n",
    "plotting(df_gover_group,'line','budget')\n",
    "plotting(df_gover_group,'line','nonrefundable_support')\n",
    "plotting(df_gover_group,'line','refundable_support')\n",
    "plotting(df_gover_group,'bar','income')"
   ]
  },
  {
   "cell_type": "markdown",
   "metadata": {},
   "source": [
    "Как мы можем видеть, общий бюджет фильмов стал расти с 2018 года, при этом общие сборы фильмов стали падать в тот же год. Количество государственной поддержки в период с 2014 по 2019 года увеличилось в разы, при этом все фильмы получившие государственную поддержку окупились лишь в 2017 и 2018 годах, больше всего денежных потерь было в 2019 году."
   ]
  },
  {
   "cell_type": "code",
   "execution_count": 50,
   "metadata": {},
   "outputs": [
    {
     "data": {
      "text/html": [
       "<div>\n",
       "<style scoped>\n",
       "    .dataframe tbody tr th:only-of-type {\n",
       "        vertical-align: middle;\n",
       "    }\n",
       "\n",
       "    .dataframe tbody tr th {\n",
       "        vertical-align: top;\n",
       "    }\n",
       "\n",
       "    .dataframe thead th {\n",
       "        text-align: right;\n",
       "    }\n",
       "</style>\n",
       "<table border=\"1\" class=\"dataframe\">\n",
       "  <thead>\n",
       "    <tr style=\"text-align: right;\">\n",
       "      <th></th>\n",
       "      <th>budget</th>\n",
       "      <th>ratings</th>\n",
       "      <th>box_office</th>\n",
       "      <th>year</th>\n",
       "      <th>sup_part</th>\n",
       "      <th>income</th>\n",
       "      <th>all_sup</th>\n",
       "    </tr>\n",
       "  </thead>\n",
       "  <tbody>\n",
       "    <tr>\n",
       "      <th>1281</th>\n",
       "      <td>79411900.00</td>\n",
       "      <td>8.10</td>\n",
       "      <td>365353.60</td>\n",
       "      <td>2013</td>\n",
       "      <td>33.37</td>\n",
       "      <td>-79046546.40</td>\n",
       "      <td>26500000.00</td>\n",
       "    </tr>\n",
       "    <tr>\n",
       "      <th>1448</th>\n",
       "      <td>37142857.00</td>\n",
       "      <td>NaN</td>\n",
       "      <td>28140.00</td>\n",
       "      <td>2014</td>\n",
       "      <td>70.00</td>\n",
       "      <td>-37114717.00</td>\n",
       "      <td>26000000.00</td>\n",
       "    </tr>\n",
       "    <tr>\n",
       "      <th>1498</th>\n",
       "      <td>176023490.00</td>\n",
       "      <td>5.30</td>\n",
       "      <td>19957031.50</td>\n",
       "      <td>2013</td>\n",
       "      <td>61.27</td>\n",
       "      <td>-156066458.50</td>\n",
       "      <td>107847945.00</td>\n",
       "    </tr>\n",
       "    <tr>\n",
       "      <th>1524</th>\n",
       "      <td>40574140.00</td>\n",
       "      <td>4.20</td>\n",
       "      <td>55917.50</td>\n",
       "      <td>2014</td>\n",
       "      <td>69.01</td>\n",
       "      <td>-40518222.50</td>\n",
       "      <td>28000000.00</td>\n",
       "    </tr>\n",
       "    <tr>\n",
       "      <th>1792</th>\n",
       "      <td>40015122.00</td>\n",
       "      <td>6.40</td>\n",
       "      <td>232100.00</td>\n",
       "      <td>2014</td>\n",
       "      <td>62.48</td>\n",
       "      <td>-39783022.00</td>\n",
       "      <td>25000000.00</td>\n",
       "    </tr>\n",
       "    <tr>\n",
       "      <th>...</th>\n",
       "      <td>...</td>\n",
       "      <td>...</td>\n",
       "      <td>...</td>\n",
       "      <td>...</td>\n",
       "      <td>...</td>\n",
       "      <td>...</td>\n",
       "      <td>...</td>\n",
       "    </tr>\n",
       "    <tr>\n",
       "      <th>7464</th>\n",
       "      <td>980000000.00</td>\n",
       "      <td>6.00</td>\n",
       "      <td>717703185.53</td>\n",
       "      <td>2019</td>\n",
       "      <td>51.02</td>\n",
       "      <td>-262296814.47</td>\n",
       "      <td>500000000.00</td>\n",
       "    </tr>\n",
       "    <tr>\n",
       "      <th>7466</th>\n",
       "      <td>190000000.00</td>\n",
       "      <td>6.70</td>\n",
       "      <td>501069235.00</td>\n",
       "      <td>2019</td>\n",
       "      <td>52.63</td>\n",
       "      <td>311069235.00</td>\n",
       "      <td>100000000.00</td>\n",
       "    </tr>\n",
       "    <tr>\n",
       "      <th>7474</th>\n",
       "      <td>944000000.00</td>\n",
       "      <td>5.70</td>\n",
       "      <td>NaN</td>\n",
       "      <td>2019</td>\n",
       "      <td>52.97</td>\n",
       "      <td>NaN</td>\n",
       "      <td>500000000.00</td>\n",
       "    </tr>\n",
       "    <tr>\n",
       "      <th>7476</th>\n",
       "      <td>46154000.00</td>\n",
       "      <td>5.90</td>\n",
       "      <td>NaN</td>\n",
       "      <td>2019</td>\n",
       "      <td>65.00</td>\n",
       "      <td>NaN</td>\n",
       "      <td>30000000.00</td>\n",
       "    </tr>\n",
       "    <tr>\n",
       "      <th>7478</th>\n",
       "      <td>150147502.00</td>\n",
       "      <td>4.50</td>\n",
       "      <td>NaN</td>\n",
       "      <td>2019</td>\n",
       "      <td>66.60</td>\n",
       "      <td>NaN</td>\n",
       "      <td>100000000.00</td>\n",
       "    </tr>\n",
       "  </tbody>\n",
       "</table>\n",
       "<p>331 rows × 7 columns</p>\n",
       "</div>"
      ],
      "text/plain": [
       "           budget  ratings   box_office  year  sup_part        income  \\\n",
       "1281  79411900.00     8.10    365353.60  2013     33.37  -79046546.40   \n",
       "1448  37142857.00      NaN     28140.00  2014     70.00  -37114717.00   \n",
       "1498 176023490.00     5.30  19957031.50  2013     61.27 -156066458.50   \n",
       "1524  40574140.00     4.20     55917.50  2014     69.01  -40518222.50   \n",
       "1792  40015122.00     6.40    232100.00  2014     62.48  -39783022.00   \n",
       "...           ...      ...          ...   ...       ...           ...   \n",
       "7464 980000000.00     6.00 717703185.53  2019     51.02 -262296814.47   \n",
       "7466 190000000.00     6.70 501069235.00  2019     52.63  311069235.00   \n",
       "7474 944000000.00     5.70          NaN  2019     52.97           NaN   \n",
       "7476  46154000.00     5.90          NaN  2019     65.00           NaN   \n",
       "7478 150147502.00     4.50          NaN  2019     66.60           NaN   \n",
       "\n",
       "          all_sup  \n",
       "1281  26500000.00  \n",
       "1448  26000000.00  \n",
       "1498 107847945.00  \n",
       "1524  28000000.00  \n",
       "1792  25000000.00  \n",
       "...           ...  \n",
       "7464 500000000.00  \n",
       "7466 100000000.00  \n",
       "7474 500000000.00  \n",
       "7476  30000000.00  \n",
       "7478 100000000.00  \n",
       "\n",
       "[331 rows x 7 columns]"
      ]
     },
     "metadata": {},
     "output_type": "display_data"
    }
   ],
   "source": [
    "df_gover_group = df_gover.drop(['nonrefundable_support','refundable_support','puNumber','show_start_date','title','type','film_studio','production_country','director','producer','age_restriction','financing_source','genres','main_genre','director_ns'],axis=1)\n",
    "display(df_gover_group)"
   ]
  },
  {
   "cell_type": "code",
   "execution_count": 51,
   "metadata": {},
   "outputs": [
    {
     "name": "stdout",
     "output_type": "stream",
     "text": [
      "            budget  ratings  box_office  year  sup_part  income  all_sup\n",
      "budget        1.00     0.09        0.38  0.16     -0.29   -0.19     0.74\n",
      "ratings       0.09     1.00        0.15  0.04     -0.06    0.09     0.11\n",
      "box_office    0.38     0.15        1.00  0.12     -0.09    0.84     0.49\n",
      "year          0.16     0.04        0.12  1.00     -0.10    0.03     0.13\n",
      "sup_part     -0.29    -0.06       -0.09 -0.10      1.00    0.09     0.11\n",
      "income       -0.19     0.09        0.84  0.03      0.09    1.00     0.10\n",
      "all_sup       0.74     0.11        0.49  0.13      0.11    0.10     1.00\n"
     ]
    },
    {
     "data": {
      "text/plain": [
       "array([[<AxesSubplot:xlabel='budget', ylabel='budget'>,\n",
       "        <AxesSubplot:xlabel='ratings', ylabel='budget'>,\n",
       "        <AxesSubplot:xlabel='box_office', ylabel='budget'>,\n",
       "        <AxesSubplot:xlabel='year', ylabel='budget'>,\n",
       "        <AxesSubplot:xlabel='sup_part', ylabel='budget'>,\n",
       "        <AxesSubplot:xlabel='income', ylabel='budget'>,\n",
       "        <AxesSubplot:xlabel='all_sup', ylabel='budget'>],\n",
       "       [<AxesSubplot:xlabel='budget', ylabel='ratings'>,\n",
       "        <AxesSubplot:xlabel='ratings', ylabel='ratings'>,\n",
       "        <AxesSubplot:xlabel='box_office', ylabel='ratings'>,\n",
       "        <AxesSubplot:xlabel='year', ylabel='ratings'>,\n",
       "        <AxesSubplot:xlabel='sup_part', ylabel='ratings'>,\n",
       "        <AxesSubplot:xlabel='income', ylabel='ratings'>,\n",
       "        <AxesSubplot:xlabel='all_sup', ylabel='ratings'>],\n",
       "       [<AxesSubplot:xlabel='budget', ylabel='box_office'>,\n",
       "        <AxesSubplot:xlabel='ratings', ylabel='box_office'>,\n",
       "        <AxesSubplot:xlabel='box_office', ylabel='box_office'>,\n",
       "        <AxesSubplot:xlabel='year', ylabel='box_office'>,\n",
       "        <AxesSubplot:xlabel='sup_part', ylabel='box_office'>,\n",
       "        <AxesSubplot:xlabel='income', ylabel='box_office'>,\n",
       "        <AxesSubplot:xlabel='all_sup', ylabel='box_office'>],\n",
       "       [<AxesSubplot:xlabel='budget', ylabel='year'>,\n",
       "        <AxesSubplot:xlabel='ratings', ylabel='year'>,\n",
       "        <AxesSubplot:xlabel='box_office', ylabel='year'>,\n",
       "        <AxesSubplot:xlabel='year', ylabel='year'>,\n",
       "        <AxesSubplot:xlabel='sup_part', ylabel='year'>,\n",
       "        <AxesSubplot:xlabel='income', ylabel='year'>,\n",
       "        <AxesSubplot:xlabel='all_sup', ylabel='year'>],\n",
       "       [<AxesSubplot:xlabel='budget', ylabel='sup_part'>,\n",
       "        <AxesSubplot:xlabel='ratings', ylabel='sup_part'>,\n",
       "        <AxesSubplot:xlabel='box_office', ylabel='sup_part'>,\n",
       "        <AxesSubplot:xlabel='year', ylabel='sup_part'>,\n",
       "        <AxesSubplot:xlabel='sup_part', ylabel='sup_part'>,\n",
       "        <AxesSubplot:xlabel='income', ylabel='sup_part'>,\n",
       "        <AxesSubplot:xlabel='all_sup', ylabel='sup_part'>],\n",
       "       [<AxesSubplot:xlabel='budget', ylabel='income'>,\n",
       "        <AxesSubplot:xlabel='ratings', ylabel='income'>,\n",
       "        <AxesSubplot:xlabel='box_office', ylabel='income'>,\n",
       "        <AxesSubplot:xlabel='year', ylabel='income'>,\n",
       "        <AxesSubplot:xlabel='sup_part', ylabel='income'>,\n",
       "        <AxesSubplot:xlabel='income', ylabel='income'>,\n",
       "        <AxesSubplot:xlabel='all_sup', ylabel='income'>],\n",
       "       [<AxesSubplot:xlabel='budget', ylabel='all_sup'>,\n",
       "        <AxesSubplot:xlabel='ratings', ylabel='all_sup'>,\n",
       "        <AxesSubplot:xlabel='box_office', ylabel='all_sup'>,\n",
       "        <AxesSubplot:xlabel='year', ylabel='all_sup'>,\n",
       "        <AxesSubplot:xlabel='sup_part', ylabel='all_sup'>,\n",
       "        <AxesSubplot:xlabel='income', ylabel='all_sup'>,\n",
       "        <AxesSubplot:xlabel='all_sup', ylabel='all_sup'>]], dtype=object)"
      ]
     },
     "execution_count": 51,
     "metadata": {},
     "output_type": "execute_result"
    },
    {
     "data": {
      "image/png": "[encoded data removed]",
      "text/plain": [
       "<Figure size 648x648 with 49 Axes>"
      ]
     },
     "metadata": {
      "needs_background": "light"
     },
     "output_type": "display_data"
    }
   ],
   "source": [
    "print(df_gover_group.corr())\n",
    "pd.plotting.scatter_matrix(df_gover_group, figsize=(9, 9)) "
   ]
  },
  {
   "cell_type": "markdown",
   "metadata": {},
   "source": [
    "Как мы видим существует очень высокая взаимосвязь между общим бюджетом и общей поддержкой, что неудивительно. Рейтинг имеет очень слабую зависимость с любым из факторов, что значит что он не зависит не от чего. Общий доход завсисит от прибыли, что также неудивительно. Все остальные факторы, такие как год выпуска фильма или части поддержки никак не влияют на рейтинги или доходность фильмов."
   ]
  },
  {
   "cell_type": "markdown",
   "metadata": {
    "id": "V2gYwMcPgFyd"
   },
   "source": [
    "### Общий вывод"
   ]
  },
  {
   "cell_type": "markdown",
   "metadata": {},
   "source": [
    "По итогу можно сказать, что Министерство культуры правильно выделило основные популярные жанры и типы фильмов в данный момент, при этом количество поддержки, оказываемой отечественной киноиндустрии, сильно влияет на общее качество фильмов и большинству зрителей они интересны."
   ]
  }
 ],
 "metadata": {
  "ExecuteTimeLog": [
   {
    "duration": 537,
    "start_time": "2021-07-07T10:12:08.634Z"
   },
   {
    "duration": 206,
    "start_time": "2021-07-07T10:12:30.191Z"
   },
   {
    "duration": 227,
    "start_time": "2021-07-07T10:12:33.078Z"
   },
   {
    "duration": 153,
    "start_time": "2021-07-07T10:13:42.146Z"
   },
   {
    "duration": 233,
    "start_time": "2021-07-07T10:30:09.252Z"
   },
   {
    "duration": 19,
    "start_time": "2021-07-07T10:30:15.577Z"
   },
   {
    "duration": 18,
    "start_time": "2021-07-07T10:30:57.348Z"
   },
   {
    "duration": 19,
    "start_time": "2021-07-07T10:31:17.452Z"
   },
   {
    "duration": 21,
    "start_time": "2021-07-07T10:31:32.227Z"
   },
   {
    "duration": 27,
    "start_time": "2021-07-07T10:32:06.588Z"
   },
   {
    "duration": 23,
    "start_time": "2021-07-07T10:32:43.645Z"
   },
   {
    "duration": 24,
    "start_time": "2021-07-07T10:33:06.948Z"
   },
   {
    "duration": 7,
    "start_time": "2021-07-07T10:33:28.558Z"
   },
   {
    "duration": 23,
    "start_time": "2021-07-07T10:33:43.761Z"
   },
   {
    "duration": 28,
    "start_time": "2021-07-07T10:34:13.466Z"
   },
   {
    "duration": 23,
    "start_time": "2021-07-07T10:35:56.187Z"
   },
   {
    "duration": 6,
    "start_time": "2021-07-07T10:36:48.182Z"
   },
   {
    "duration": 14,
    "start_time": "2021-07-07T10:37:49.641Z"
   },
   {
    "duration": 6,
    "start_time": "2021-07-07T10:38:06.694Z"
   },
   {
    "duration": 6,
    "start_time": "2021-07-07T10:38:13.493Z"
   },
   {
    "duration": 19,
    "start_time": "2021-07-07T10:38:44.056Z"
   },
   {
    "duration": 186,
    "start_time": "2021-07-07T10:48:35.618Z"
   },
   {
    "duration": 24,
    "start_time": "2021-07-07T10:48:51.498Z"
   },
   {
    "duration": 20,
    "start_time": "2021-07-07T10:48:59.415Z"
   },
   {
    "duration": 20,
    "start_time": "2021-07-07T10:53:02.195Z"
   },
   {
    "duration": 188,
    "start_time": "2021-07-07T10:54:40.486Z"
   },
   {
    "duration": 115,
    "start_time": "2021-07-07T10:54:52.552Z"
   },
   {
    "duration": 214,
    "start_time": "2021-07-07T10:54:56.354Z"
   },
   {
    "duration": 47,
    "start_time": "2021-07-07T10:54:58.282Z"
   },
   {
    "duration": 217,
    "start_time": "2021-07-07T10:59:16.075Z"
   },
   {
    "duration": 51,
    "start_time": "2021-07-07T10:59:16.243Z"
   },
   {
    "duration": 578,
    "start_time": "2021-07-07T10:59:18.774Z"
   },
   {
    "duration": 161,
    "start_time": "2021-07-07T10:59:21.238Z"
   },
   {
    "duration": 59,
    "start_time": "2021-07-07T10:59:21.453Z"
   },
   {
    "duration": 3,
    "start_time": "2021-07-07T11:02:10.786Z"
   },
   {
    "duration": 13,
    "start_time": "2021-07-07T11:07:07.722Z"
   },
   {
    "duration": 26,
    "start_time": "2021-07-07T11:07:17.958Z"
   },
   {
    "duration": 22,
    "start_time": "2021-07-07T11:08:17.939Z"
   },
   {
    "duration": 212,
    "start_time": "2021-07-07T11:08:19.665Z"
   },
   {
    "duration": 21,
    "start_time": "2021-07-07T11:08:29.945Z"
   },
   {
    "duration": 31,
    "start_time": "2021-07-07T11:08:38.899Z"
   },
   {
    "duration": 23,
    "start_time": "2021-07-07T11:08:54.527Z"
   },
   {
    "duration": 8,
    "start_time": "2021-07-07T11:18:55.974Z"
   },
   {
    "duration": 7,
    "start_time": "2021-07-07T11:19:03.639Z"
   },
   {
    "duration": 7,
    "start_time": "2021-07-07T11:19:06.444Z"
   },
   {
    "duration": 578,
    "start_time": "2021-07-07T12:09:59.576Z"
   },
   {
    "duration": 195,
    "start_time": "2021-07-07T12:10:00.156Z"
   },
   {
    "duration": 115,
    "start_time": "2021-07-07T12:10:00.353Z"
   },
   {
    "duration": 3,
    "start_time": "2021-07-07T12:10:00.470Z"
   },
   {
    "duration": 32,
    "start_time": "2021-07-07T12:10:00.474Z"
   },
   {
    "duration": 23,
    "start_time": "2021-07-07T12:10:00.508Z"
   },
   {
    "duration": 19,
    "start_time": "2021-07-07T12:10:00.533Z"
   },
   {
    "duration": 44,
    "start_time": "2021-07-07T12:10:00.553Z"
   },
   {
    "duration": 7,
    "start_time": "2021-07-07T12:10:00.600Z"
   },
   {
    "duration": 7,
    "start_time": "2021-07-07T12:19:45.761Z"
   },
   {
    "duration": 21,
    "start_time": "2021-07-07T12:21:35.482Z"
   },
   {
    "duration": 21,
    "start_time": "2021-07-07T12:29:23.569Z"
   },
   {
    "duration": 525,
    "start_time": "2021-07-07T12:29:44.542Z"
   },
   {
    "duration": 214,
    "start_time": "2021-07-07T12:29:45.069Z"
   },
   {
    "duration": 92,
    "start_time": "2021-07-07T12:29:45.285Z"
   },
   {
    "duration": 3,
    "start_time": "2021-07-07T12:29:45.379Z"
   },
   {
    "duration": 28,
    "start_time": "2021-07-07T12:29:45.384Z"
   },
   {
    "duration": 23,
    "start_time": "2021-07-07T12:29:45.413Z"
   },
   {
    "duration": 21,
    "start_time": "2021-07-07T12:29:45.437Z"
   },
   {
    "duration": 41,
    "start_time": "2021-07-07T12:29:45.460Z"
   },
   {
    "duration": 7,
    "start_time": "2021-07-07T12:29:45.502Z"
   },
   {
    "duration": 20,
    "start_time": "2021-07-07T12:29:45.511Z"
   },
   {
    "duration": 12,
    "start_time": "2021-07-07T12:34:02.800Z"
   },
   {
    "duration": 7,
    "start_time": "2021-07-07T12:35:10.479Z"
   },
   {
    "duration": 8,
    "start_time": "2021-07-07T12:35:22.440Z"
   },
   {
    "duration": 6,
    "start_time": "2021-07-07T12:35:35.649Z"
   },
   {
    "duration": 6,
    "start_time": "2021-07-07T12:35:43.107Z"
   },
   {
    "duration": 22,
    "start_time": "2021-07-07T12:38:03.029Z"
   },
   {
    "duration": 10,
    "start_time": "2021-07-07T12:38:06.592Z"
   },
   {
    "duration": 563,
    "start_time": "2021-07-07T12:38:46.493Z"
   },
   {
    "duration": 265,
    "start_time": "2021-07-07T12:38:47.058Z"
   },
   {
    "duration": 94,
    "start_time": "2021-07-07T12:38:47.325Z"
   },
   {
    "duration": 3,
    "start_time": "2021-07-07T12:38:47.422Z"
   },
   {
    "duration": 30,
    "start_time": "2021-07-07T12:38:47.427Z"
   },
   {
    "duration": 16,
    "start_time": "2021-07-07T12:38:53.305Z"
   },
   {
    "duration": 10,
    "start_time": "2021-07-07T12:38:53.499Z"
   },
   {
    "duration": 8,
    "start_time": "2021-07-07T12:39:48.161Z"
   },
   {
    "duration": 27,
    "start_time": "2021-07-07T12:41:17.629Z"
   },
   {
    "duration": 17,
    "start_time": "2021-07-07T12:41:17.867Z"
   },
   {
    "duration": 21,
    "start_time": "2021-07-07T12:41:19.310Z"
   },
   {
    "duration": 7,
    "start_time": "2021-07-07T12:41:19.544Z"
   },
   {
    "duration": 20,
    "start_time": "2021-07-07T12:41:20.504Z"
   },
   {
    "duration": 554,
    "start_time": "2021-07-07T12:56:23.696Z"
   },
   {
    "duration": 200,
    "start_time": "2021-07-07T12:56:25.234Z"
   },
   {
    "duration": 119,
    "start_time": "2021-07-07T12:56:25.480Z"
   },
   {
    "duration": 4,
    "start_time": "2021-07-07T12:56:25.762Z"
   },
   {
    "duration": 26,
    "start_time": "2021-07-07T12:56:27.172Z"
   },
   {
    "duration": 12,
    "start_time": "2021-07-07T12:56:29.051Z"
   },
   {
    "duration": 10,
    "start_time": "2021-07-07T12:56:29.291Z"
   },
   {
    "duration": 8,
    "start_time": "2021-07-07T12:56:29.623Z"
   },
   {
    "duration": 28,
    "start_time": "2021-07-07T12:56:32.137Z"
   },
   {
    "duration": 19,
    "start_time": "2021-07-07T12:56:39.785Z"
   },
   {
    "duration": 20,
    "start_time": "2021-07-07T12:56:44.297Z"
   },
   {
    "duration": 7,
    "start_time": "2021-07-07T12:56:45.392Z"
   },
   {
    "duration": 23,
    "start_time": "2021-07-07T12:56:46.615Z"
   },
   {
    "duration": 4,
    "start_time": "2021-07-07T12:57:06.625Z"
   },
   {
    "duration": 32,
    "start_time": "2021-07-07T12:57:36.690Z"
   },
   {
    "duration": 18,
    "start_time": "2021-07-07T12:58:00.149Z"
   },
   {
    "duration": 15,
    "start_time": "2021-07-07T12:59:16.793Z"
   },
   {
    "duration": 7,
    "start_time": "2021-07-07T13:19:22.624Z"
   },
   {
    "duration": 6,
    "start_time": "2021-07-07T14:17:33.527Z"
   },
   {
    "duration": 9,
    "start_time": "2021-07-07T14:17:48.409Z"
   },
   {
    "duration": 8,
    "start_time": "2021-07-07T14:20:13.060Z"
   },
   {
    "duration": 8,
    "start_time": "2021-07-07T14:20:37.957Z"
   },
   {
    "duration": 8,
    "start_time": "2021-07-07T14:20:47.470Z"
   },
   {
    "duration": 9,
    "start_time": "2021-07-07T14:20:54.503Z"
   },
   {
    "duration": 10,
    "start_time": "2021-07-07T14:28:57.763Z"
   },
   {
    "duration": 3,
    "start_time": "2021-07-07T14:30:23.377Z"
   },
   {
    "duration": 3,
    "start_time": "2021-07-07T14:30:36.489Z"
   },
   {
    "duration": 103,
    "start_time": "2021-07-07T14:30:52.351Z"
   },
   {
    "duration": 8,
    "start_time": "2021-07-07T14:30:54.763Z"
   },
   {
    "duration": 8,
    "start_time": "2021-07-07T14:31:29.301Z"
   },
   {
    "duration": 13,
    "start_time": "2021-07-07T14:31:44.516Z"
   },
   {
    "duration": 7,
    "start_time": "2021-07-07T14:33:10.972Z"
   },
   {
    "duration": 11,
    "start_time": "2021-07-07T14:33:27.780Z"
   },
   {
    "duration": 8,
    "start_time": "2021-07-07T14:34:44.588Z"
   },
   {
    "duration": 57,
    "start_time": "2021-07-07T14:35:59.042Z"
   },
   {
    "duration": 3,
    "start_time": "2021-07-07T14:36:28.168Z"
   },
   {
    "duration": 5,
    "start_time": "2021-07-07T14:36:46.254Z"
   },
   {
    "duration": 4,
    "start_time": "2021-07-07T14:36:52.714Z"
   },
   {
    "duration": 3,
    "start_time": "2021-07-07T14:36:56.612Z"
   },
   {
    "duration": 4,
    "start_time": "2021-07-07T14:36:57.049Z"
   },
   {
    "duration": 3,
    "start_time": "2021-07-07T14:39:21.214Z"
   },
   {
    "duration": 7,
    "start_time": "2021-07-07T14:39:52.406Z"
   },
   {
    "duration": 11,
    "start_time": "2021-07-07T14:39:58.576Z"
   },
   {
    "duration": 9,
    "start_time": "2021-07-07T14:40:26.301Z"
   },
   {
    "duration": 10,
    "start_time": "2021-07-07T14:40:31.704Z"
   },
   {
    "duration": 11,
    "start_time": "2021-07-07T14:40:36.249Z"
   },
   {
    "duration": 10,
    "start_time": "2021-07-07T14:40:39.783Z"
   },
   {
    "duration": 9,
    "start_time": "2021-07-07T14:40:48.558Z"
   },
   {
    "duration": 10,
    "start_time": "2021-07-07T14:40:57.143Z"
   },
   {
    "duration": 9,
    "start_time": "2021-07-07T14:41:06.074Z"
   },
   {
    "duration": 4324,
    "start_time": "2021-07-07T14:41:22.004Z"
   },
   {
    "duration": 11,
    "start_time": "2021-07-07T14:41:33.392Z"
   },
   {
    "duration": 9,
    "start_time": "2021-07-07T14:41:39.288Z"
   },
   {
    "duration": 569,
    "start_time": "2021-07-07T14:42:14.387Z"
   },
   {
    "duration": 197,
    "start_time": "2021-07-07T14:42:14.959Z"
   },
   {
    "duration": 84,
    "start_time": "2021-07-07T14:42:16.052Z"
   },
   {
    "duration": 4,
    "start_time": "2021-07-07T14:42:16.900Z"
   },
   {
    "duration": 27,
    "start_time": "2021-07-07T14:42:19.898Z"
   },
   {
    "duration": 12,
    "start_time": "2021-07-07T14:42:21.577Z"
   },
   {
    "duration": 9,
    "start_time": "2021-07-07T14:42:21.813Z"
   },
   {
    "duration": 9,
    "start_time": "2021-07-07T14:42:22.569Z"
   },
   {
    "duration": 29,
    "start_time": "2021-07-07T14:42:25.837Z"
   },
   {
    "duration": 20,
    "start_time": "2021-07-07T14:42:27.003Z"
   },
   {
    "duration": 21,
    "start_time": "2021-07-07T14:42:28.767Z"
   },
   {
    "duration": 7,
    "start_time": "2021-07-07T14:42:29.838Z"
   },
   {
    "duration": 4,
    "start_time": "2021-07-07T14:43:25.493Z"
   },
   {
    "duration": 7,
    "start_time": "2021-07-07T14:43:26.573Z"
   },
   {
    "duration": 10,
    "start_time": "2021-07-07T14:43:31.639Z"
   },
   {
    "duration": 9,
    "start_time": "2021-07-07T14:43:32.046Z"
   },
   {
    "duration": 10,
    "start_time": "2021-07-07T14:43:33.301Z"
   },
   {
    "duration": 12,
    "start_time": "2021-07-07T14:43:33.658Z"
   },
   {
    "duration": 8,
    "start_time": "2021-07-07T14:43:34.552Z"
   },
   {
    "duration": 9,
    "start_time": "2021-07-07T14:43:35.058Z"
   },
   {
    "duration": 12,
    "start_time": "2021-07-07T14:43:35.914Z"
   },
   {
    "duration": 17,
    "start_time": "2021-07-07T14:45:34.368Z"
   },
   {
    "duration": 512,
    "start_time": "2021-07-07T14:51:58.236Z"
   },
   {
    "duration": 223,
    "start_time": "2021-07-07T14:51:58.750Z"
   },
   {
    "duration": 93,
    "start_time": "2021-07-07T14:51:58.977Z"
   },
   {
    "duration": 4,
    "start_time": "2021-07-07T14:51:59.071Z"
   },
   {
    "duration": 37,
    "start_time": "2021-07-07T14:51:59.077Z"
   },
   {
    "duration": 18,
    "start_time": "2021-07-07T14:51:59.116Z"
   },
   {
    "duration": 10,
    "start_time": "2021-07-07T14:51:59.137Z"
   },
   {
    "duration": 8,
    "start_time": "2021-07-07T14:51:59.149Z"
   },
   {
    "duration": 54,
    "start_time": "2021-07-07T14:51:59.158Z"
   },
   {
    "duration": 18,
    "start_time": "2021-07-07T14:51:59.213Z"
   },
   {
    "duration": 22,
    "start_time": "2021-07-07T14:51:59.232Z"
   },
   {
    "duration": 36,
    "start_time": "2021-07-07T14:51:59.255Z"
   },
   {
    "duration": 7,
    "start_time": "2021-07-07T14:51:59.293Z"
   },
   {
    "duration": 10,
    "start_time": "2021-07-07T14:51:59.302Z"
   },
   {
    "duration": 9,
    "start_time": "2021-07-07T14:51:59.313Z"
   },
   {
    "duration": 11,
    "start_time": "2021-07-07T14:51:59.324Z"
   },
   {
    "duration": 8,
    "start_time": "2021-07-07T14:51:59.337Z"
   },
   {
    "duration": 46,
    "start_time": "2021-07-07T14:51:59.347Z"
   },
   {
    "duration": 22,
    "start_time": "2021-07-07T14:51:59.395Z"
   },
   {
    "duration": 24,
    "start_time": "2021-07-07T14:57:32.911Z"
   },
   {
    "duration": 7,
    "start_time": "2021-07-07T14:58:22.070Z"
   },
   {
    "duration": 4,
    "start_time": "2021-07-07T14:59:11.239Z"
   },
   {
    "duration": 25,
    "start_time": "2021-07-07T15:07:22.208Z"
   },
   {
    "duration": 16,
    "start_time": "2021-07-07T15:08:25.560Z"
   },
   {
    "duration": 15,
    "start_time": "2021-07-07T15:08:40.647Z"
   },
   {
    "duration": 14,
    "start_time": "2021-07-07T15:08:46.669Z"
   },
   {
    "duration": 533,
    "start_time": "2021-07-07T15:18:07.440Z"
   },
   {
    "duration": 173,
    "start_time": "2021-07-07T15:18:07.974Z"
   },
   {
    "duration": 84,
    "start_time": "2021-07-07T15:18:08.149Z"
   },
   {
    "duration": 3,
    "start_time": "2021-07-07T15:18:08.235Z"
   },
   {
    "duration": 30,
    "start_time": "2021-07-07T15:18:08.240Z"
   },
   {
    "duration": 22,
    "start_time": "2021-07-07T15:18:08.272Z"
   },
   {
    "duration": 11,
    "start_time": "2021-07-07T15:18:08.295Z"
   },
   {
    "duration": 11,
    "start_time": "2021-07-07T15:18:08.309Z"
   },
   {
    "duration": 40,
    "start_time": "2021-07-07T15:18:08.322Z"
   },
   {
    "duration": 42,
    "start_time": "2021-07-07T15:18:08.364Z"
   },
   {
    "duration": 22,
    "start_time": "2021-07-07T15:18:08.408Z"
   },
   {
    "duration": 5,
    "start_time": "2021-07-07T15:18:08.432Z"
   },
   {
    "duration": 13,
    "start_time": "2021-07-07T15:18:08.439Z"
   },
   {
    "duration": 9,
    "start_time": "2021-07-07T15:18:08.454Z"
   },
   {
    "duration": 32,
    "start_time": "2021-07-07T15:18:08.465Z"
   },
   {
    "duration": 10,
    "start_time": "2021-07-07T15:18:08.501Z"
   },
   {
    "duration": 7,
    "start_time": "2021-07-07T15:18:08.513Z"
   },
   {
    "duration": 11,
    "start_time": "2021-07-07T15:18:08.521Z"
   },
   {
    "duration": 17,
    "start_time": "2021-07-07T15:18:08.534Z"
   },
   {
    "duration": 44,
    "start_time": "2021-07-07T15:18:08.553Z"
   },
   {
    "duration": 22,
    "start_time": "2021-07-07T15:18:08.599Z"
   },
   {
    "duration": 61,
    "start_time": "2021-07-07T15:18:08.622Z"
   },
   {
    "duration": 7,
    "start_time": "2021-07-07T15:18:39.457Z"
   },
   {
    "duration": 5,
    "start_time": "2021-07-07T16:05:17.020Z"
   },
   {
    "duration": 5,
    "start_time": "2021-07-07T16:51:28.794Z"
   },
   {
    "duration": 546,
    "start_time": "2021-07-07T16:52:26.306Z"
   },
   {
    "duration": 203,
    "start_time": "2021-07-07T16:52:27.523Z"
   },
   {
    "duration": 85,
    "start_time": "2021-07-07T16:52:27.736Z"
   },
   {
    "duration": 4,
    "start_time": "2021-07-07T16:52:27.899Z"
   },
   {
    "duration": 25,
    "start_time": "2021-07-07T16:52:28.674Z"
   },
   {
    "duration": 8,
    "start_time": "2021-07-07T16:52:32.956Z"
   },
   {
    "duration": 18,
    "start_time": "2021-07-07T16:52:35.616Z"
   },
   {
    "duration": 6,
    "start_time": "2021-07-07T16:52:36.913Z"
   },
   {
    "duration": 11,
    "start_time": "2021-07-07T16:52:40.258Z"
   },
   {
    "duration": 10,
    "start_time": "2021-07-07T16:52:46.251Z"
   },
   {
    "duration": 8,
    "start_time": "2021-07-07T16:52:47.182Z"
   },
   {
    "duration": 27,
    "start_time": "2021-07-07T16:53:20.391Z"
   },
   {
    "duration": 20,
    "start_time": "2021-07-07T16:53:22.022Z"
   },
   {
    "duration": 23,
    "start_time": "2021-07-07T16:53:23.690Z"
   },
   {
    "duration": 8,
    "start_time": "2021-07-07T16:53:24.261Z"
   },
   {
    "duration": 4,
    "start_time": "2021-07-07T16:53:38.733Z"
   },
   {
    "duration": 7,
    "start_time": "2021-07-07T16:53:40.445Z"
   },
   {
    "duration": 11,
    "start_time": "2021-07-07T16:53:41.348Z"
   },
   {
    "duration": 13,
    "start_time": "2021-07-07T16:53:45.250Z"
   },
   {
    "duration": 12,
    "start_time": "2021-07-07T16:53:45.467Z"
   },
   {
    "duration": 4,
    "start_time": "2021-07-07T16:55:32.704Z"
   },
   {
    "duration": 12,
    "start_time": "2021-07-07T16:55:49.012Z"
   },
   {
    "duration": 18,
    "start_time": "2021-07-07T16:55:49.547Z"
   },
   {
    "duration": 611,
    "start_time": "2021-07-07T16:58:35.156Z"
   },
   {
    "duration": 200,
    "start_time": "2021-07-07T16:58:35.770Z"
   },
   {
    "duration": 86,
    "start_time": "2021-07-07T16:58:35.972Z"
   },
   {
    "duration": 3,
    "start_time": "2021-07-07T16:58:36.060Z"
   },
   {
    "duration": 27,
    "start_time": "2021-07-07T16:58:36.065Z"
   },
   {
    "duration": 8,
    "start_time": "2021-07-07T16:58:36.094Z"
   },
   {
    "duration": 17,
    "start_time": "2021-07-07T16:58:36.103Z"
   },
   {
    "duration": 5,
    "start_time": "2021-07-07T16:58:36.123Z"
   },
   {
    "duration": 11,
    "start_time": "2021-07-07T16:58:36.130Z"
   },
   {
    "duration": 7,
    "start_time": "2021-07-07T16:58:36.143Z"
   },
   {
    "duration": 37,
    "start_time": "2021-07-07T16:58:36.152Z"
   },
   {
    "duration": 27,
    "start_time": "2021-07-07T16:58:36.191Z"
   },
   {
    "duration": 19,
    "start_time": "2021-07-07T16:58:36.219Z"
   },
   {
    "duration": 49,
    "start_time": "2021-07-07T16:58:36.240Z"
   },
   {
    "duration": 6,
    "start_time": "2021-07-07T16:58:36.291Z"
   },
   {
    "duration": 3,
    "start_time": "2021-07-07T16:58:36.299Z"
   },
   {
    "duration": 13,
    "start_time": "2021-07-07T16:58:36.304Z"
   },
   {
    "duration": 10,
    "start_time": "2021-07-07T16:58:36.319Z"
   },
   {
    "duration": 10,
    "start_time": "2021-07-07T16:58:36.331Z"
   },
   {
    "duration": 44,
    "start_time": "2021-07-07T16:58:36.343Z"
   },
   {
    "duration": 4,
    "start_time": "2021-07-07T16:58:36.388Z"
   },
   {
    "duration": 13,
    "start_time": "2021-07-07T16:58:36.394Z"
   },
   {
    "duration": 16,
    "start_time": "2021-07-07T16:58:36.410Z"
   },
   {
    "duration": 8,
    "start_time": "2021-07-07T17:02:31.629Z"
   },
   {
    "duration": 8,
    "start_time": "2021-07-07T17:02:34.308Z"
   },
   {
    "duration": 6,
    "start_time": "2021-07-07T17:05:13.483Z"
   },
   {
    "duration": 17,
    "start_time": "2021-07-07T17:05:20.606Z"
   },
   {
    "duration": 7,
    "start_time": "2021-07-07T17:05:34.638Z"
   },
   {
    "duration": 3,
    "start_time": "2021-07-07T17:06:31.883Z"
   },
   {
    "duration": 570,
    "start_time": "2021-07-07T17:06:37.165Z"
   },
   {
    "duration": 174,
    "start_time": "2021-07-07T17:06:37.737Z"
   },
   {
    "duration": 47,
    "start_time": "2021-07-07T17:06:37.913Z"
   },
   {
    "duration": 3,
    "start_time": "2021-07-07T17:06:37.962Z"
   },
   {
    "duration": 27,
    "start_time": "2021-07-07T17:06:37.967Z"
   },
   {
    "duration": 7,
    "start_time": "2021-07-07T17:06:37.996Z"
   },
   {
    "duration": 16,
    "start_time": "2021-07-07T17:06:38.005Z"
   },
   {
    "duration": 6,
    "start_time": "2021-07-07T17:06:38.024Z"
   },
   {
    "duration": 12,
    "start_time": "2021-07-07T17:06:38.031Z"
   },
   {
    "duration": 41,
    "start_time": "2021-07-07T17:06:38.045Z"
   },
   {
    "duration": 8,
    "start_time": "2021-07-07T17:06:38.088Z"
   },
   {
    "duration": 26,
    "start_time": "2021-07-07T17:06:38.098Z"
   },
   {
    "duration": 17,
    "start_time": "2021-07-07T17:06:38.126Z"
   },
   {
    "duration": 43,
    "start_time": "2021-07-07T17:06:38.144Z"
   },
   {
    "duration": 6,
    "start_time": "2021-07-07T17:06:38.188Z"
   },
   {
    "duration": 5,
    "start_time": "2021-07-07T17:06:38.195Z"
   },
   {
    "duration": 9,
    "start_time": "2021-07-07T17:06:38.201Z"
   },
   {
    "duration": 12,
    "start_time": "2021-07-07T17:06:38.212Z"
   },
   {
    "duration": 11,
    "start_time": "2021-07-07T17:06:38.226Z"
   },
   {
    "duration": 47,
    "start_time": "2021-07-07T17:06:38.239Z"
   },
   {
    "duration": 4,
    "start_time": "2021-07-07T17:06:38.288Z"
   },
   {
    "duration": 13,
    "start_time": "2021-07-07T17:06:38.293Z"
   },
   {
    "duration": 5,
    "start_time": "2021-07-07T17:06:38.309Z"
   },
   {
    "duration": 18,
    "start_time": "2021-07-07T17:06:38.325Z"
   },
   {
    "duration": 20,
    "start_time": "2021-07-07T17:07:02.805Z"
   },
   {
    "duration": 19,
    "start_time": "2021-07-07T17:07:08.527Z"
   },
   {
    "duration": 19,
    "start_time": "2021-07-07T17:07:12.758Z"
   },
   {
    "duration": 22,
    "start_time": "2021-07-07T17:07:17.497Z"
   },
   {
    "duration": 19,
    "start_time": "2021-07-07T17:07:19.645Z"
   },
   {
    "duration": 10,
    "start_time": "2021-07-07T17:07:34.239Z"
   },
   {
    "duration": 17,
    "start_time": "2021-07-07T17:07:54.144Z"
   },
   {
    "duration": 14,
    "start_time": "2021-07-07T17:08:14.357Z"
   },
   {
    "duration": 616,
    "start_time": "2021-07-07T17:08:45.254Z"
   },
   {
    "duration": 178,
    "start_time": "2021-07-07T17:08:45.872Z"
   },
   {
    "duration": 60,
    "start_time": "2021-07-07T17:08:46.054Z"
   },
   {
    "duration": 3,
    "start_time": "2021-07-07T17:08:46.116Z"
   },
   {
    "duration": 26,
    "start_time": "2021-07-07T17:08:46.121Z"
   },
   {
    "duration": 7,
    "start_time": "2021-07-07T17:08:46.149Z"
   },
   {
    "duration": 17,
    "start_time": "2021-07-07T17:08:46.158Z"
   },
   {
    "duration": 14,
    "start_time": "2021-07-07T17:08:46.176Z"
   },
   {
    "duration": 17,
    "start_time": "2021-07-07T17:08:46.193Z"
   },
   {
    "duration": 9,
    "start_time": "2021-07-07T17:08:46.211Z"
   },
   {
    "duration": 21,
    "start_time": "2021-07-07T17:08:46.221Z"
   },
   {
    "duration": 49,
    "start_time": "2021-07-07T17:08:46.244Z"
   },
   {
    "duration": 24,
    "start_time": "2021-07-07T17:08:46.295Z"
   },
   {
    "duration": 22,
    "start_time": "2021-07-07T17:08:46.321Z"
   },
   {
    "duration": 6,
    "start_time": "2021-07-07T17:08:46.345Z"
   },
   {
    "duration": 5,
    "start_time": "2021-07-07T17:08:46.353Z"
   },
   {
    "duration": 13,
    "start_time": "2021-07-07T17:08:46.386Z"
   },
   {
    "duration": 12,
    "start_time": "2021-07-07T17:08:46.402Z"
   },
   {
    "duration": 10,
    "start_time": "2021-07-07T17:08:46.415Z"
   },
   {
    "duration": 7,
    "start_time": "2021-07-07T17:08:46.427Z"
   },
   {
    "duration": 8,
    "start_time": "2021-07-07T17:08:46.435Z"
   },
   {
    "duration": 68,
    "start_time": "2021-07-07T17:08:46.446Z"
   },
   {
    "duration": 13,
    "start_time": "2021-07-07T17:08:46.516Z"
   },
   {
    "duration": 78,
    "start_time": "2021-07-07T17:08:46.530Z"
   },
   {
    "duration": 40,
    "start_time": "2021-07-07T17:09:08.185Z"
   },
   {
    "duration": 16,
    "start_time": "2021-07-07T17:09:19.324Z"
   },
   {
    "duration": 21,
    "start_time": "2021-07-07T17:09:23.290Z"
   },
   {
    "duration": 13,
    "start_time": "2021-07-07T17:09:54.812Z"
   },
   {
    "duration": 13,
    "start_time": "2021-07-07T17:10:02.039Z"
   },
   {
    "duration": 10,
    "start_time": "2021-07-07T17:10:29.632Z"
   },
   {
    "duration": 13,
    "start_time": "2021-07-07T17:10:52.372Z"
   },
   {
    "duration": 13,
    "start_time": "2021-07-07T17:11:17.270Z"
   },
   {
    "duration": 13,
    "start_time": "2021-07-07T17:14:59.284Z"
   },
   {
    "duration": 547,
    "start_time": "2021-07-07T17:18:52.403Z"
   },
   {
    "duration": 163,
    "start_time": "2021-07-07T17:18:52.952Z"
   },
   {
    "duration": 44,
    "start_time": "2021-07-07T17:18:53.117Z"
   },
   {
    "duration": 3,
    "start_time": "2021-07-07T17:18:53.162Z"
   },
   {
    "duration": 26,
    "start_time": "2021-07-07T17:18:53.167Z"
   },
   {
    "duration": 6,
    "start_time": "2021-07-07T17:18:53.195Z"
   },
   {
    "duration": 15,
    "start_time": "2021-07-07T17:18:53.203Z"
   },
   {
    "duration": 5,
    "start_time": "2021-07-07T17:18:53.220Z"
   },
   {
    "duration": 11,
    "start_time": "2021-07-07T17:18:53.228Z"
   },
   {
    "duration": 9,
    "start_time": "2021-07-07T17:18:53.241Z"
   },
   {
    "duration": 41,
    "start_time": "2021-07-07T17:18:53.252Z"
   },
   {
    "duration": 33,
    "start_time": "2021-07-07T17:18:53.295Z"
   },
   {
    "duration": 19,
    "start_time": "2021-07-07T17:18:53.330Z"
   },
   {
    "duration": 49,
    "start_time": "2021-07-07T17:18:53.350Z"
   },
   {
    "duration": 5,
    "start_time": "2021-07-07T17:18:53.401Z"
   },
   {
    "duration": 5,
    "start_time": "2021-07-07T17:18:53.408Z"
   },
   {
    "duration": 11,
    "start_time": "2021-07-07T17:18:53.414Z"
   },
   {
    "duration": 9,
    "start_time": "2021-07-07T17:18:53.427Z"
   },
   {
    "duration": 10,
    "start_time": "2021-07-07T17:18:53.437Z"
   },
   {
    "duration": 39,
    "start_time": "2021-07-07T17:18:53.448Z"
   },
   {
    "duration": 26,
    "start_time": "2021-07-07T17:18:55.799Z"
   },
   {
    "duration": 598,
    "start_time": "2021-07-07T17:20:17.862Z"
   },
   {
    "duration": 161,
    "start_time": "2021-07-07T17:20:18.462Z"
   },
   {
    "duration": 45,
    "start_time": "2021-07-07T17:20:18.626Z"
   },
   {
    "duration": 4,
    "start_time": "2021-07-07T17:20:18.673Z"
   },
   {
    "duration": 38,
    "start_time": "2021-07-07T17:20:26.877Z"
   },
   {
    "duration": 7,
    "start_time": "2021-07-07T17:20:37.405Z"
   },
   {
    "duration": 19,
    "start_time": "2021-07-07T17:20:51.534Z"
   },
   {
    "duration": 5,
    "start_time": "2021-07-07T17:20:57.228Z"
   },
   {
    "duration": 7,
    "start_time": "2021-07-07T17:21:08.235Z"
   },
   {
    "duration": 19,
    "start_time": "2021-07-07T17:21:42.158Z"
   },
   {
    "duration": 14,
    "start_time": "2021-07-07T17:21:50.225Z"
   },
   {
    "duration": 22,
    "start_time": "2021-07-07T17:22:54.104Z"
   },
   {
    "duration": 5,
    "start_time": "2021-07-07T17:22:56.371Z"
   },
   {
    "duration": 14,
    "start_time": "2021-07-07T17:22:58.316Z"
   },
   {
    "duration": 5,
    "start_time": "2021-07-07T17:22:58.493Z"
   },
   {
    "duration": 35,
    "start_time": "2021-07-07T17:22:59.666Z"
   },
   {
    "duration": 6,
    "start_time": "2021-07-07T17:23:02.410Z"
   },
   {
    "duration": 611,
    "start_time": "2021-07-07T17:24:59.664Z"
   },
   {
    "duration": 178,
    "start_time": "2021-07-07T17:25:01.945Z"
   },
   {
    "duration": 47,
    "start_time": "2021-07-07T17:25:02.125Z"
   },
   {
    "duration": 2,
    "start_time": "2021-07-07T17:25:07.903Z"
   },
   {
    "duration": 254,
    "start_time": "2021-07-07T17:25:08.232Z"
   },
   {
    "duration": 182,
    "start_time": "2021-07-07T17:25:08.671Z"
   },
   {
    "duration": 6,
    "start_time": "2021-07-07T17:25:13.104Z"
   },
   {
    "duration": 36,
    "start_time": "2021-07-07T17:25:13.662Z"
   },
   {
    "duration": 7,
    "start_time": "2021-07-07T17:25:14.528Z"
   },
   {
    "duration": 24,
    "start_time": "2021-07-07T17:25:27.982Z"
   },
   {
    "duration": 3,
    "start_time": "2021-07-07T17:25:48.982Z"
   },
   {
    "duration": 165,
    "start_time": "2021-07-07T17:25:48.987Z"
   },
   {
    "duration": 50,
    "start_time": "2021-07-07T17:25:49.154Z"
   },
   {
    "duration": 4,
    "start_time": "2021-07-07T17:25:49.206Z"
   },
   {
    "duration": 26,
    "start_time": "2021-07-07T17:25:49.212Z"
   },
   {
    "duration": 7,
    "start_time": "2021-07-07T17:25:49.240Z"
   },
   {
    "duration": 16,
    "start_time": "2021-07-07T17:25:49.249Z"
   },
   {
    "duration": 22,
    "start_time": "2021-07-07T17:25:49.266Z"
   },
   {
    "duration": 16,
    "start_time": "2021-07-07T17:25:49.291Z"
   },
   {
    "duration": 9,
    "start_time": "2021-07-07T17:25:49.309Z"
   },
   {
    "duration": 7,
    "start_time": "2021-07-07T17:25:49.319Z"
   },
   {
    "duration": 28,
    "start_time": "2021-07-07T17:25:49.328Z"
   },
   {
    "duration": 44,
    "start_time": "2021-07-07T17:25:49.357Z"
   },
   {
    "duration": 22,
    "start_time": "2021-07-07T17:25:49.403Z"
   },
   {
    "duration": 7,
    "start_time": "2021-07-07T17:25:49.427Z"
   },
   {
    "duration": 3,
    "start_time": "2021-07-07T17:25:49.436Z"
   },
   {
    "duration": 44,
    "start_time": "2021-07-07T17:25:49.441Z"
   },
   {
    "duration": 12,
    "start_time": "2021-07-07T17:25:49.488Z"
   },
   {
    "duration": 13,
    "start_time": "2021-07-07T17:25:49.502Z"
   },
   {
    "duration": 10,
    "start_time": "2021-07-07T17:25:49.516Z"
   },
   {
    "duration": 62,
    "start_time": "2021-07-07T17:25:49.527Z"
   },
   {
    "duration": 26,
    "start_time": "2021-07-07T17:26:51.809Z"
   },
   {
    "duration": 26,
    "start_time": "2021-07-07T17:26:55.759Z"
   },
   {
    "duration": 26,
    "start_time": "2021-07-07T17:27:04.501Z"
   },
   {
    "duration": 25,
    "start_time": "2021-07-07T17:28:24.859Z"
   },
   {
    "duration": 21,
    "start_time": "2021-07-07T17:28:55.250Z"
   },
   {
    "duration": 21,
    "start_time": "2021-07-07T17:28:58.885Z"
   },
   {
    "duration": 7,
    "start_time": "2021-07-07T17:45:40.972Z"
   },
   {
    "duration": 13,
    "start_time": "2021-07-07T17:45:42.529Z"
   },
   {
    "duration": 27,
    "start_time": "2021-07-07T17:45:51.026Z"
   },
   {
    "duration": 518,
    "start_time": "2021-07-07T17:46:15.532Z"
   },
   {
    "duration": 235,
    "start_time": "2021-07-07T17:46:16.053Z"
   },
   {
    "duration": 80,
    "start_time": "2021-07-07T17:46:16.292Z"
   },
   {
    "duration": 5,
    "start_time": "2021-07-07T17:46:16.373Z"
   },
   {
    "duration": 26,
    "start_time": "2021-07-07T17:46:16.380Z"
   },
   {
    "duration": 7,
    "start_time": "2021-07-07T17:46:16.408Z"
   },
   {
    "duration": 16,
    "start_time": "2021-07-07T17:46:16.418Z"
   },
   {
    "duration": 5,
    "start_time": "2021-07-07T17:46:16.436Z"
   },
   {
    "duration": 13,
    "start_time": "2021-07-07T17:46:16.442Z"
   },
   {
    "duration": 35,
    "start_time": "2021-07-07T17:46:16.456Z"
   },
   {
    "duration": 8,
    "start_time": "2021-07-07T17:46:16.493Z"
   },
   {
    "duration": 28,
    "start_time": "2021-07-07T17:46:16.502Z"
   },
   {
    "duration": 17,
    "start_time": "2021-07-07T17:46:16.532Z"
   },
   {
    "duration": 44,
    "start_time": "2021-07-07T17:46:16.551Z"
   },
   {
    "duration": 6,
    "start_time": "2021-07-07T17:46:16.597Z"
   },
   {
    "duration": 4,
    "start_time": "2021-07-07T17:46:16.605Z"
   },
   {
    "duration": 9,
    "start_time": "2021-07-07T17:46:16.610Z"
   },
   {
    "duration": 9,
    "start_time": "2021-07-07T17:46:16.621Z"
   },
   {
    "duration": 10,
    "start_time": "2021-07-07T17:46:16.632Z"
   },
   {
    "duration": 43,
    "start_time": "2021-07-07T17:46:16.644Z"
   },
   {
    "duration": 26,
    "start_time": "2021-07-07T17:46:16.689Z"
   },
   {
    "duration": 19,
    "start_time": "2021-07-07T17:46:16.718Z"
   },
   {
    "duration": 8,
    "start_time": "2021-07-07T17:46:16.738Z"
   },
   {
    "duration": 43,
    "start_time": "2021-07-07T17:46:16.747Z"
   },
   {
    "duration": 19,
    "start_time": "2021-07-07T17:46:16.791Z"
   },
   {
    "duration": 9,
    "start_time": "2021-07-07T17:46:16.812Z"
   },
   {
    "duration": 60,
    "start_time": "2021-07-07T17:46:16.822Z"
   },
   {
    "duration": -8,
    "start_time": "2021-07-07T17:46:16.892Z"
   },
   {
    "duration": 12,
    "start_time": "2021-07-07T17:48:47.707Z"
   },
   {
    "duration": 553,
    "start_time": "2021-07-07T18:10:09.350Z"
   },
   {
    "duration": 230,
    "start_time": "2021-07-07T18:10:09.905Z"
   },
   {
    "duration": 97,
    "start_time": "2021-07-07T18:10:10.137Z"
   },
   {
    "duration": 5,
    "start_time": "2021-07-07T18:10:10.236Z"
   },
   {
    "duration": 29,
    "start_time": "2021-07-07T18:10:10.242Z"
   },
   {
    "duration": 7,
    "start_time": "2021-07-07T18:10:10.272Z"
   },
   {
    "duration": 15,
    "start_time": "2021-07-07T18:10:10.281Z"
   },
   {
    "duration": 4,
    "start_time": "2021-07-07T18:10:10.299Z"
   },
   {
    "duration": 14,
    "start_time": "2021-07-07T18:10:10.305Z"
   },
   {
    "duration": 8,
    "start_time": "2021-07-07T18:10:10.321Z"
   },
   {
    "duration": 8,
    "start_time": "2021-07-07T18:10:10.331Z"
   },
   {
    "duration": 56,
    "start_time": "2021-07-07T18:10:10.341Z"
   },
   {
    "duration": 19,
    "start_time": "2021-07-07T18:10:10.399Z"
   },
   {
    "duration": 23,
    "start_time": "2021-07-07T18:10:10.419Z"
   },
   {
    "duration": 6,
    "start_time": "2021-07-07T18:10:10.444Z"
   },
   {
    "duration": 9,
    "start_time": "2021-07-07T18:10:10.451Z"
   },
   {
    "duration": 30,
    "start_time": "2021-07-07T18:10:10.462Z"
   },
   {
    "duration": 9,
    "start_time": "2021-07-07T18:10:10.494Z"
   },
   {
    "duration": 14,
    "start_time": "2021-07-07T18:10:10.505Z"
   },
   {
    "duration": 7,
    "start_time": "2021-07-07T18:10:10.521Z"
   },
   {
    "duration": 26,
    "start_time": "2021-07-07T18:10:10.530Z"
   },
   {
    "duration": 44,
    "start_time": "2021-07-07T18:10:10.558Z"
   },
   {
    "duration": 7,
    "start_time": "2021-07-07T18:10:10.605Z"
   },
   {
    "duration": 11,
    "start_time": "2021-07-07T18:10:10.614Z"
   },
   {
    "duration": 19,
    "start_time": "2021-07-07T18:10:10.626Z"
   },
   {
    "duration": 44,
    "start_time": "2021-07-07T18:10:10.646Z"
   },
   {
    "duration": 516,
    "start_time": "2021-07-07T18:14:00.826Z"
   },
   {
    "duration": 230,
    "start_time": "2021-07-07T18:14:01.344Z"
   },
   {
    "duration": 105,
    "start_time": "2021-07-07T18:14:01.576Z"
   },
   {
    "duration": 5,
    "start_time": "2021-07-07T18:14:01.683Z"
   },
   {
    "duration": 46,
    "start_time": "2021-07-07T18:14:01.690Z"
   },
   {
    "duration": 7,
    "start_time": "2021-07-07T18:14:01.738Z"
   },
   {
    "duration": 20,
    "start_time": "2021-07-07T18:14:01.747Z"
   },
   {
    "duration": 16,
    "start_time": "2021-07-07T18:14:01.769Z"
   },
   {
    "duration": 14,
    "start_time": "2021-07-07T18:14:01.787Z"
   },
   {
    "duration": 15,
    "start_time": "2021-07-07T18:14:01.803Z"
   },
   {
    "duration": 12,
    "start_time": "2021-07-07T18:14:01.820Z"
   },
   {
    "duration": 35,
    "start_time": "2021-07-07T18:14:01.833Z"
   },
   {
    "duration": 31,
    "start_time": "2021-07-07T18:14:01.869Z"
   },
   {
    "duration": 37,
    "start_time": "2021-07-07T18:14:01.902Z"
   },
   {
    "duration": 8,
    "start_time": "2021-07-07T18:14:01.942Z"
   },
   {
    "duration": 16,
    "start_time": "2021-07-07T18:14:01.952Z"
   },
   {
    "duration": 13,
    "start_time": "2021-07-07T18:14:01.970Z"
   },
   {
    "duration": 32,
    "start_time": "2021-07-07T18:14:01.985Z"
   },
   {
    "duration": 11,
    "start_time": "2021-07-07T18:14:02.019Z"
   },
   {
    "duration": 22,
    "start_time": "2021-07-07T18:14:02.031Z"
   },
   {
    "duration": 27,
    "start_time": "2021-07-07T18:14:02.055Z"
   },
   {
    "duration": 18,
    "start_time": "2021-07-07T18:14:02.084Z"
   },
   {
    "duration": 18,
    "start_time": "2021-07-07T18:14:02.106Z"
   },
   {
    "duration": 11,
    "start_time": "2021-07-07T18:14:02.126Z"
   },
   {
    "duration": 21,
    "start_time": "2021-07-07T18:14:02.138Z"
   },
   {
    "duration": 32,
    "start_time": "2021-07-07T18:14:02.161Z"
   },
   {
    "duration": 28,
    "start_time": "2021-07-07T18:14:44.295Z"
   },
   {
    "duration": 6,
    "start_time": "2021-07-07T18:15:05.834Z"
   },
   {
    "duration": 511,
    "start_time": "2021-07-07T18:15:41.541Z"
   },
   {
    "duration": 183,
    "start_time": "2021-07-07T18:15:42.054Z"
   },
   {
    "duration": 50,
    "start_time": "2021-07-07T18:15:42.239Z"
   },
   {
    "duration": 5,
    "start_time": "2021-07-07T18:15:42.291Z"
   },
   {
    "duration": 48,
    "start_time": "2021-07-07T18:15:42.297Z"
   },
   {
    "duration": 8,
    "start_time": "2021-07-07T18:15:42.346Z"
   },
   {
    "duration": 17,
    "start_time": "2021-07-07T18:15:42.356Z"
   },
   {
    "duration": 15,
    "start_time": "2021-07-07T18:15:42.375Z"
   },
   {
    "duration": 12,
    "start_time": "2021-07-07T18:15:42.392Z"
   },
   {
    "duration": 7,
    "start_time": "2021-07-07T18:15:42.406Z"
   },
   {
    "duration": 7,
    "start_time": "2021-07-07T18:15:42.415Z"
   },
   {
    "duration": 29,
    "start_time": "2021-07-07T18:15:42.423Z"
   },
   {
    "duration": 43,
    "start_time": "2021-07-07T18:15:42.453Z"
   },
   {
    "duration": 18,
    "start_time": "2021-07-07T18:15:42.497Z"
   },
   {
    "duration": 6,
    "start_time": "2021-07-07T18:15:42.516Z"
   },
   {
    "duration": 3,
    "start_time": "2021-07-07T18:15:42.523Z"
   },
   {
    "duration": 18,
    "start_time": "2021-07-07T18:15:42.528Z"
   },
   {
    "duration": 10,
    "start_time": "2021-07-07T18:15:42.547Z"
   },
   {
    "duration": 36,
    "start_time": "2021-07-07T18:15:42.559Z"
   },
   {
    "duration": 8,
    "start_time": "2021-07-07T18:15:42.597Z"
   },
   {
    "duration": 28,
    "start_time": "2021-07-07T18:15:42.606Z"
   },
   {
    "duration": 52,
    "start_time": "2021-07-07T18:15:42.635Z"
   },
   {
    "duration": 7,
    "start_time": "2021-07-07T18:15:42.690Z"
   },
   {
    "duration": 10,
    "start_time": "2021-07-07T18:15:42.699Z"
   },
   {
    "duration": 19,
    "start_time": "2021-07-07T18:15:42.711Z"
   },
   {
    "duration": 9,
    "start_time": "2021-07-07T18:15:42.732Z"
   },
   {
    "duration": 5,
    "start_time": "2021-07-07T18:15:42.743Z"
   },
   {
    "duration": 1450,
    "start_time": "2021-07-07T18:15:51.984Z"
   },
   {
    "duration": 161,
    "start_time": "2021-07-07T18:15:53.435Z"
   },
   {
    "duration": 124,
    "start_time": "2021-07-07T18:15:53.598Z"
   },
   {
    "duration": 5,
    "start_time": "2021-07-07T18:15:53.724Z"
   },
   {
    "duration": 34,
    "start_time": "2021-07-07T18:15:53.730Z"
   },
   {
    "duration": 7,
    "start_time": "2021-07-07T18:15:53.765Z"
   },
   {
    "duration": 15,
    "start_time": "2021-07-07T18:15:53.773Z"
   },
   {
    "duration": 5,
    "start_time": "2021-07-07T18:15:53.791Z"
   },
   {
    "duration": 19,
    "start_time": "2021-07-07T18:15:53.798Z"
   },
   {
    "duration": 9,
    "start_time": "2021-07-07T18:15:53.818Z"
   },
   {
    "duration": 19,
    "start_time": "2021-07-07T18:15:53.828Z"
   },
   {
    "duration": 27,
    "start_time": "2021-07-07T18:15:53.848Z"
   },
   {
    "duration": 16,
    "start_time": "2021-07-07T18:15:53.884Z"
   },
   {
    "duration": 29,
    "start_time": "2021-07-07T18:15:53.901Z"
   },
   {
    "duration": 5,
    "start_time": "2021-07-07T18:15:53.932Z"
   },
   {
    "duration": 15,
    "start_time": "2021-07-07T18:15:53.939Z"
   },
   {
    "duration": 13,
    "start_time": "2021-07-07T18:15:53.956Z"
   },
   {
    "duration": 20,
    "start_time": "2021-07-07T18:15:53.971Z"
   },
   {
    "duration": 14,
    "start_time": "2021-07-07T18:15:53.992Z"
   },
   {
    "duration": 9,
    "start_time": "2021-07-07T18:15:54.009Z"
   },
   {
    "duration": 28,
    "start_time": "2021-07-07T18:15:54.020Z"
   },
   {
    "duration": 50,
    "start_time": "2021-07-07T18:15:54.051Z"
   },
   {
    "duration": 8,
    "start_time": "2021-07-07T18:15:54.105Z"
   },
   {
    "duration": 11,
    "start_time": "2021-07-07T18:15:54.115Z"
   },
   {
    "duration": 20,
    "start_time": "2021-07-07T18:15:54.128Z"
   },
   {
    "duration": 13,
    "start_time": "2021-07-07T18:15:54.184Z"
   },
   {
    "duration": 7,
    "start_time": "2021-07-07T18:15:54.199Z"
   },
   {
    "duration": 7,
    "start_time": "2021-07-07T18:17:08.042Z"
   },
   {
    "duration": 8,
    "start_time": "2021-07-07T18:17:21.008Z"
   },
   {
    "duration": 7,
    "start_time": "2021-07-07T18:17:29.003Z"
   },
   {
    "duration": 8,
    "start_time": "2021-07-07T18:17:32.492Z"
   },
   {
    "duration": 9,
    "start_time": "2021-07-07T18:17:41.758Z"
   },
   {
    "duration": 255,
    "start_time": "2021-07-07T18:20:20.897Z"
   },
   {
    "duration": 173,
    "start_time": "2021-07-07T18:20:26.636Z"
   },
   {
    "duration": 7,
    "start_time": "2021-07-07T18:21:47.164Z"
   },
   {
    "duration": 254,
    "start_time": "2021-07-07T18:23:08.703Z"
   },
   {
    "duration": 21,
    "start_time": "2021-07-07T18:23:22.506Z"
   },
   {
    "duration": 315,
    "start_time": "2021-07-07T18:25:54.801Z"
   },
   {
    "duration": 34,
    "start_time": "2021-07-07T18:26:51.817Z"
   },
   {
    "duration": 327,
    "start_time": "2021-07-07T18:26:56.147Z"
   },
   {
    "duration": 342,
    "start_time": "2021-07-07T18:27:15.887Z"
   },
   {
    "duration": 302,
    "start_time": "2021-07-07T18:28:18.569Z"
   },
   {
    "duration": 226,
    "start_time": "2021-07-07T18:29:20.879Z"
   },
   {
    "duration": 207,
    "start_time": "2021-07-07T18:29:58.114Z"
   },
   {
    "duration": 140,
    "start_time": "2021-07-07T18:32:04.372Z"
   },
   {
    "duration": 158,
    "start_time": "2021-07-07T18:32:32.508Z"
   },
   {
    "duration": 145,
    "start_time": "2021-07-07T18:32:41.365Z"
   },
   {
    "duration": 132,
    "start_time": "2021-07-07T18:32:45.199Z"
   },
   {
    "duration": 11,
    "start_time": "2021-07-07T18:35:24.679Z"
   },
   {
    "duration": 268,
    "start_time": "2021-07-07T18:36:16.145Z"
   },
   {
    "duration": 227,
    "start_time": "2021-07-07T18:37:04.918Z"
   },
   {
    "duration": 3,
    "start_time": "2021-07-07T18:37:33.012Z"
   },
   {
    "duration": 671,
    "start_time": "2021-07-07T18:37:38.295Z"
   },
   {
    "duration": 54,
    "start_time": "2021-07-07T18:37:53.406Z"
   },
   {
    "duration": 631,
    "start_time": "2021-07-07T18:37:56.463Z"
   },
   {
    "duration": 19,
    "start_time": "2021-07-07T18:39:40.535Z"
   },
   {
    "duration": 20,
    "start_time": "2021-07-07T18:40:12.236Z"
   },
   {
    "duration": 633,
    "start_time": "2021-07-07T18:42:00.398Z"
   },
   {
    "duration": 218,
    "start_time": "2021-07-07T18:42:01.033Z"
   },
   {
    "duration": 49,
    "start_time": "2021-07-07T18:42:01.253Z"
   },
   {
    "duration": 5,
    "start_time": "2021-07-07T18:42:01.303Z"
   },
   {
    "duration": 27,
    "start_time": "2021-07-07T18:42:01.310Z"
   },
   {
    "duration": 8,
    "start_time": "2021-07-07T18:42:01.339Z"
   },
   {
    "duration": 20,
    "start_time": "2021-07-07T18:42:01.348Z"
   },
   {
    "duration": 6,
    "start_time": "2021-07-07T18:42:01.386Z"
   },
   {
    "duration": 16,
    "start_time": "2021-07-07T18:42:01.394Z"
   },
   {
    "duration": 9,
    "start_time": "2021-07-07T18:42:01.411Z"
   },
   {
    "duration": 11,
    "start_time": "2021-07-07T18:42:01.421Z"
   },
   {
    "duration": 31,
    "start_time": "2021-07-07T18:42:01.434Z"
   },
   {
    "duration": 18,
    "start_time": "2021-07-07T18:42:01.485Z"
   },
   {
    "duration": 23,
    "start_time": "2021-07-07T18:42:01.505Z"
   },
   {
    "duration": 6,
    "start_time": "2021-07-07T18:42:01.530Z"
   },
   {
    "duration": 10,
    "start_time": "2021-07-07T18:42:01.538Z"
   },
   {
    "duration": 13,
    "start_time": "2021-07-07T18:42:01.550Z"
   },
   {
    "duration": 24,
    "start_time": "2021-07-07T18:42:01.564Z"
   },
   {
    "duration": 20,
    "start_time": "2021-07-07T18:42:01.590Z"
   },
   {
    "duration": 8,
    "start_time": "2021-07-07T18:42:01.611Z"
   },
   {
    "duration": 31,
    "start_time": "2021-07-07T18:42:01.620Z"
   },
   {
    "duration": 39,
    "start_time": "2021-07-07T18:42:01.653Z"
   },
   {
    "duration": 8,
    "start_time": "2021-07-07T18:42:01.696Z"
   },
   {
    "duration": 13,
    "start_time": "2021-07-07T18:42:01.705Z"
   },
   {
    "duration": 20,
    "start_time": "2021-07-07T18:42:01.720Z"
   },
   {
    "duration": 12,
    "start_time": "2021-07-07T18:42:01.741Z"
   },
   {
    "duration": 35,
    "start_time": "2021-07-07T18:42:01.755Z"
   },
   {
    "duration": 14,
    "start_time": "2021-07-07T18:42:01.792Z"
   },
   {
    "duration": 188,
    "start_time": "2021-07-07T18:42:01.808Z"
   },
   {
    "duration": 19,
    "start_time": "2021-07-07T18:42:01.998Z"
   },
   {
    "duration": 175,
    "start_time": "2021-07-07T18:42:02.019Z"
   },
   {
    "duration": 134,
    "start_time": "2021-07-07T18:42:02.196Z"
   },
   {
    "duration": 10,
    "start_time": "2021-07-07T18:42:02.331Z"
   },
   {
    "duration": 19,
    "start_time": "2021-07-07T18:42:02.343Z"
   },
   {
    "duration": 628,
    "start_time": "2021-07-07T18:46:30.701Z"
   },
   {
    "duration": 183,
    "start_time": "2021-07-07T18:46:31.331Z"
   },
   {
    "duration": 48,
    "start_time": "2021-07-07T18:46:31.516Z"
   },
   {
    "duration": 5,
    "start_time": "2021-07-07T18:46:31.566Z"
   },
   {
    "duration": 28,
    "start_time": "2021-07-07T18:46:31.572Z"
   },
   {
    "duration": 8,
    "start_time": "2021-07-07T18:46:31.602Z"
   },
   {
    "duration": 19,
    "start_time": "2021-07-07T18:46:31.611Z"
   },
   {
    "duration": 6,
    "start_time": "2021-07-07T18:46:31.633Z"
   },
   {
    "duration": 17,
    "start_time": "2021-07-07T18:46:31.642Z"
   },
   {
    "duration": 10,
    "start_time": "2021-07-07T18:46:31.684Z"
   },
   {
    "duration": 9,
    "start_time": "2021-07-07T18:46:31.695Z"
   },
   {
    "duration": 28,
    "start_time": "2021-07-07T18:46:31.705Z"
   },
   {
    "duration": 18,
    "start_time": "2021-07-07T18:46:31.735Z"
   },
   {
    "duration": 48,
    "start_time": "2021-07-07T18:46:31.755Z"
   },
   {
    "duration": 6,
    "start_time": "2021-07-07T18:46:31.804Z"
   },
   {
    "duration": 4,
    "start_time": "2021-07-07T18:46:31.812Z"
   },
   {
    "duration": 9,
    "start_time": "2021-07-07T18:46:31.817Z"
   },
   {
    "duration": 10,
    "start_time": "2021-07-07T18:46:31.827Z"
   },
   {
    "duration": 12,
    "start_time": "2021-07-07T18:46:31.838Z"
   },
   {
    "duration": 39,
    "start_time": "2021-07-07T18:46:31.851Z"
   },
   {
    "duration": 24,
    "start_time": "2021-07-07T18:46:31.892Z"
   },
   {
    "duration": 15,
    "start_time": "2021-07-07T18:46:31.918Z"
   },
   {
    "duration": 7,
    "start_time": "2021-07-07T18:46:31.936Z"
   },
   {
    "duration": 8,
    "start_time": "2021-07-07T18:46:31.944Z"
   },
   {
    "duration": 19,
    "start_time": "2021-07-07T18:46:31.984Z"
   },
   {
    "duration": 10,
    "start_time": "2021-07-07T18:46:32.004Z"
   },
   {
    "duration": 5,
    "start_time": "2021-07-07T18:46:32.016Z"
   },
   {
    "duration": 9,
    "start_time": "2021-07-07T18:46:32.023Z"
   },
   {
    "duration": 199,
    "start_time": "2021-07-07T18:46:32.033Z"
   },
   {
    "duration": 19,
    "start_time": "2021-07-07T18:46:32.234Z"
   },
   {
    "duration": 159,
    "start_time": "2021-07-07T18:46:32.255Z"
   },
   {
    "duration": 134,
    "start_time": "2021-07-07T18:46:32.416Z"
   },
   {
    "duration": 10,
    "start_time": "2021-07-07T18:46:32.552Z"
   },
   {
    "duration": 34,
    "start_time": "2021-07-07T18:46:32.563Z"
   },
   {
    "duration": 1039,
    "start_time": "2021-07-08T08:41:09.419Z"
   },
   {
    "duration": 333,
    "start_time": "2021-07-08T08:41:10.459Z"
   },
   {
    "duration": 173,
    "start_time": "2021-07-08T08:41:10.794Z"
   },
   {
    "duration": 5,
    "start_time": "2021-07-08T08:41:10.968Z"
   },
   {
    "duration": 25,
    "start_time": "2021-07-08T08:41:10.975Z"
   },
   {
    "duration": 9,
    "start_time": "2021-07-08T08:41:11.002Z"
   },
   {
    "duration": 18,
    "start_time": "2021-07-08T08:41:11.013Z"
   },
   {
    "duration": 6,
    "start_time": "2021-07-08T08:41:11.033Z"
   },
   {
    "duration": 44,
    "start_time": "2021-07-08T08:41:11.042Z"
   },
   {
    "duration": 10,
    "start_time": "2021-07-08T08:41:11.088Z"
   },
   {
    "duration": 9,
    "start_time": "2021-07-08T08:41:11.100Z"
   },
   {
    "duration": 27,
    "start_time": "2021-07-08T08:41:11.111Z"
   },
   {
    "duration": 46,
    "start_time": "2021-07-08T08:41:11.140Z"
   },
   {
    "duration": 17,
    "start_time": "2021-07-08T08:41:11.187Z"
   },
   {
    "duration": 6,
    "start_time": "2021-07-08T08:41:11.206Z"
   },
   {
    "duration": 5,
    "start_time": "2021-07-08T08:41:11.213Z"
   },
   {
    "duration": 10,
    "start_time": "2021-07-08T08:41:11.219Z"
   },
   {
    "duration": 9,
    "start_time": "2021-07-08T08:41:11.230Z"
   },
   {
    "duration": 45,
    "start_time": "2021-07-08T08:41:11.241Z"
   },
   {
    "duration": 7,
    "start_time": "2021-07-08T08:41:11.287Z"
   },
   {
    "duration": 24,
    "start_time": "2021-07-08T08:41:11.296Z"
   },
   {
    "duration": 16,
    "start_time": "2021-07-08T08:41:11.322Z"
   },
   {
    "duration": 7,
    "start_time": "2021-07-08T08:41:11.341Z"
   },
   {
    "duration": 41,
    "start_time": "2021-07-08T08:41:11.349Z"
   },
   {
    "duration": 17,
    "start_time": "2021-07-08T08:41:11.391Z"
   },
   {
    "duration": 9,
    "start_time": "2021-07-08T08:41:11.410Z"
   },
   {
    "duration": 5,
    "start_time": "2021-07-08T08:41:11.421Z"
   },
   {
    "duration": 6,
    "start_time": "2021-07-08T08:41:11.428Z"
   },
   {
    "duration": 198,
    "start_time": "2021-07-08T08:41:11.435Z"
   },
   {
    "duration": 18,
    "start_time": "2021-07-08T08:41:11.635Z"
   },
   {
    "duration": 155,
    "start_time": "2021-07-08T08:41:11.655Z"
   },
   {
    "duration": 138,
    "start_time": "2021-07-08T08:41:11.811Z"
   },
   {
    "duration": 10,
    "start_time": "2021-07-08T08:41:11.950Z"
   },
   {
    "duration": 29,
    "start_time": "2021-07-08T08:41:11.961Z"
   },
   {
    "duration": 171,
    "start_time": "2021-07-08T08:47:44.522Z"
   },
   {
    "duration": 124,
    "start_time": "2021-07-08T08:47:46.872Z"
   },
   {
    "duration": 191,
    "start_time": "2021-07-08T08:47:58.148Z"
   },
   {
    "duration": 191,
    "start_time": "2021-07-08T08:48:07.412Z"
   },
   {
    "duration": 261,
    "start_time": "2021-07-08T08:48:10.385Z"
   },
   {
    "duration": 255,
    "start_time": "2021-07-08T08:48:14.494Z"
   },
   {
    "duration": 219,
    "start_time": "2021-07-08T08:48:22.752Z"
   },
   {
    "duration": 173,
    "start_time": "2021-07-08T08:49:06.395Z"
   },
   {
    "duration": 180,
    "start_time": "2021-07-08T08:49:21.011Z"
   },
   {
    "duration": 6,
    "start_time": "2021-07-08T08:50:31.697Z"
   },
   {
    "duration": 10,
    "start_time": "2021-07-08T08:50:47.394Z"
   },
   {
    "duration": 11,
    "start_time": "2021-07-08T08:53:49.332Z"
   },
   {
    "duration": 171,
    "start_time": "2021-07-08T08:54:28.408Z"
   },
   {
    "duration": 636,
    "start_time": "2021-07-08T09:02:48.385Z"
   },
   {
    "duration": 227,
    "start_time": "2021-07-08T09:02:49.023Z"
   },
   {
    "duration": 104,
    "start_time": "2021-07-08T09:02:49.252Z"
   },
   {
    "duration": 5,
    "start_time": "2021-07-08T09:02:49.358Z"
   },
   {
    "duration": 27,
    "start_time": "2021-07-08T09:02:49.365Z"
   },
   {
    "duration": 8,
    "start_time": "2021-07-08T09:02:49.394Z"
   },
   {
    "duration": 18,
    "start_time": "2021-07-08T09:02:49.404Z"
   },
   {
    "duration": 6,
    "start_time": "2021-07-08T09:02:49.424Z"
   },
   {
    "duration": 11,
    "start_time": "2021-07-08T09:02:49.433Z"
   },
   {
    "duration": 13,
    "start_time": "2021-07-08T09:02:49.485Z"
   },
   {
    "duration": 9,
    "start_time": "2021-07-08T09:02:49.500Z"
   },
   {
    "duration": 38,
    "start_time": "2021-07-08T09:02:49.511Z"
   },
   {
    "duration": 42,
    "start_time": "2021-07-08T09:02:49.551Z"
   },
   {
    "duration": 21,
    "start_time": "2021-07-08T09:02:49.594Z"
   },
   {
    "duration": 6,
    "start_time": "2021-07-08T09:02:49.616Z"
   },
   {
    "duration": 3,
    "start_time": "2021-07-08T09:02:49.623Z"
   },
   {
    "duration": 9,
    "start_time": "2021-07-08T09:02:49.628Z"
   },
   {
    "duration": 52,
    "start_time": "2021-07-08T09:02:49.638Z"
   },
   {
    "duration": 11,
    "start_time": "2021-07-08T09:02:49.692Z"
   },
   {
    "duration": 8,
    "start_time": "2021-07-08T09:02:49.704Z"
   },
   {
    "duration": 27,
    "start_time": "2021-07-08T09:02:49.713Z"
   },
   {
    "duration": 59,
    "start_time": "2021-07-08T09:02:49.741Z"
   },
   {
    "duration": 8,
    "start_time": "2021-07-08T09:02:49.803Z"
   },
   {
    "duration": 14,
    "start_time": "2021-07-08T09:02:49.813Z"
   },
   {
    "duration": 20,
    "start_time": "2021-07-08T09:02:49.829Z"
   },
   {
    "duration": 44,
    "start_time": "2021-07-08T09:02:49.851Z"
   },
   {
    "duration": 14,
    "start_time": "2021-07-08T09:02:49.896Z"
   },
   {
    "duration": 221,
    "start_time": "2021-07-08T09:02:49.912Z"
   },
   {
    "duration": 6,
    "start_time": "2021-07-08T09:02:50.134Z"
   },
   {
    "duration": 206,
    "start_time": "2021-07-08T09:02:50.142Z"
   },
   {
    "duration": 19,
    "start_time": "2021-07-08T09:02:50.350Z"
   },
   {
    "duration": 21,
    "start_time": "2021-07-08T09:02:50.370Z"
   },
   {
    "duration": 20,
    "start_time": "2021-07-08T09:02:50.393Z"
   },
   {
    "duration": 5,
    "start_time": "2021-07-08T09:02:50.414Z"
   },
   {
    "duration": 5,
    "start_time": "2021-07-08T09:03:34.173Z"
   },
   {
    "duration": 6,
    "start_time": "2021-07-08T09:04:49.062Z"
   },
   {
    "duration": 9,
    "start_time": "2021-07-08T09:04:50.118Z"
   },
   {
    "duration": 14,
    "start_time": "2021-07-08T09:04:58.512Z"
   },
   {
    "duration": 9,
    "start_time": "2021-07-08T09:05:10.988Z"
   },
   {
    "duration": 11,
    "start_time": "2021-07-08T09:05:11.743Z"
   },
   {
    "duration": 7,
    "start_time": "2021-07-08T09:05:25.677Z"
   },
   {
    "duration": 13,
    "start_time": "2021-07-08T09:05:47.189Z"
   },
   {
    "duration": 13,
    "start_time": "2021-07-08T09:05:54.755Z"
   },
   {
    "duration": 4,
    "start_time": "2021-07-08T09:06:29.189Z"
   },
   {
    "duration": 244,
    "start_time": "2021-07-08T09:06:29.195Z"
   },
   {
    "duration": 91,
    "start_time": "2021-07-08T09:06:29.441Z"
   },
   {
    "duration": 4,
    "start_time": "2021-07-08T09:06:29.534Z"
   },
   {
    "duration": 28,
    "start_time": "2021-07-08T09:06:29.540Z"
   },
   {
    "duration": 6,
    "start_time": "2021-07-08T09:06:29.570Z"
   },
   {
    "duration": 18,
    "start_time": "2021-07-08T09:06:29.578Z"
   },
   {
    "duration": 5,
    "start_time": "2021-07-08T09:06:29.597Z"
   },
   {
    "duration": 13,
    "start_time": "2021-07-08T09:06:29.605Z"
   },
   {
    "duration": 8,
    "start_time": "2021-07-08T09:06:29.620Z"
   },
   {
    "duration": 7,
    "start_time": "2021-07-08T09:06:29.630Z"
   },
   {
    "duration": 63,
    "start_time": "2021-07-08T09:06:29.639Z"
   },
   {
    "duration": 17,
    "start_time": "2021-07-08T09:06:29.704Z"
   },
   {
    "duration": 20,
    "start_time": "2021-07-08T09:06:29.723Z"
   },
   {
    "duration": 6,
    "start_time": "2021-07-08T09:06:29.745Z"
   },
   {
    "duration": 3,
    "start_time": "2021-07-08T09:06:29.752Z"
   },
   {
    "duration": 7,
    "start_time": "2021-07-08T09:06:29.785Z"
   },
   {
    "duration": 11,
    "start_time": "2021-07-08T09:06:29.794Z"
   },
   {
    "duration": 15,
    "start_time": "2021-07-08T09:06:29.807Z"
   },
   {
    "duration": 8,
    "start_time": "2021-07-08T09:06:29.823Z"
   },
   {
    "duration": 70,
    "start_time": "2021-07-08T09:06:29.832Z"
   },
   {
    "duration": 17,
    "start_time": "2021-07-08T09:06:29.903Z"
   },
   {
    "duration": 9,
    "start_time": "2021-07-08T09:06:29.921Z"
   },
   {
    "duration": 9,
    "start_time": "2021-07-08T09:06:29.932Z"
   },
   {
    "duration": 57,
    "start_time": "2021-07-08T09:06:29.942Z"
   },
   {
    "duration": 11,
    "start_time": "2021-07-08T09:06:30.001Z"
   },
   {
    "duration": 19,
    "start_time": "2021-07-08T09:06:30.016Z"
   },
   {
    "duration": 217,
    "start_time": "2021-07-08T09:06:30.037Z"
   },
   {
    "duration": 6,
    "start_time": "2021-07-08T09:06:30.255Z"
   },
   {
    "duration": 205,
    "start_time": "2021-07-08T09:06:30.263Z"
   },
   {
    "duration": 27,
    "start_time": "2021-07-08T09:06:30.470Z"
   },
   {
    "duration": 11,
    "start_time": "2021-07-08T09:06:30.500Z"
   },
   {
    "duration": 31,
    "start_time": "2021-07-08T09:06:30.513Z"
   },
   {
    "duration": 18,
    "start_time": "2021-07-08T09:06:30.546Z"
   },
   {
    "duration": 11,
    "start_time": "2021-07-08T09:06:30.566Z"
   },
   {
    "duration": 19,
    "start_time": "2021-07-08T09:06:30.579Z"
   },
   {
    "duration": 20,
    "start_time": "2021-07-08T09:06:49.466Z"
   },
   {
    "duration": 9,
    "start_time": "2021-07-08T09:06:51.994Z"
   },
   {
    "duration": 20,
    "start_time": "2021-07-08T09:06:52.273Z"
   },
   {
    "duration": 246,
    "start_time": "2021-07-08T09:10:21.272Z"
   },
   {
    "duration": 84,
    "start_time": "2021-07-08T09:10:21.436Z"
   },
   {
    "duration": 7,
    "start_time": "2021-07-08T09:10:37.608Z"
   },
   {
    "duration": 189,
    "start_time": "2021-07-08T09:10:38.573Z"
   },
   {
    "duration": 185,
    "start_time": "2021-07-08T09:10:53.181Z"
   },
   {
    "duration": 11,
    "start_time": "2021-07-08T09:10:59.549Z"
   },
   {
    "duration": 42,
    "start_time": "2021-07-08T09:10:59.709Z"
   },
   {
    "duration": 12,
    "start_time": "2021-07-08T09:11:02.857Z"
   },
   {
    "duration": 28,
    "start_time": "2021-07-08T09:11:10.062Z"
   },
   {
    "duration": 249,
    "start_time": "2021-07-08T09:11:37.388Z"
   },
   {
    "duration": 232,
    "start_time": "2021-07-08T09:11:49.485Z"
   },
   {
    "duration": 453,
    "start_time": "2021-07-08T09:12:01.546Z"
   },
   {
    "duration": 440,
    "start_time": "2021-07-08T09:12:12.347Z"
   },
   {
    "duration": 213,
    "start_time": "2021-07-08T09:13:32.196Z"
   },
   {
    "duration": 172,
    "start_time": "2021-07-08T09:14:07.400Z"
   },
   {
    "duration": 185,
    "start_time": "2021-07-08T09:14:14.905Z"
   },
   {
    "duration": 209,
    "start_time": "2021-07-08T09:14:40.109Z"
   },
   {
    "duration": 201,
    "start_time": "2021-07-08T09:14:54.506Z"
   },
   {
    "duration": 622,
    "start_time": "2021-07-08T09:18:14.497Z"
   },
   {
    "duration": 220,
    "start_time": "2021-07-08T09:18:15.121Z"
   },
   {
    "duration": 79,
    "start_time": "2021-07-08T09:18:15.343Z"
   },
   {
    "duration": 4,
    "start_time": "2021-07-08T09:18:15.425Z"
   },
   {
    "duration": 24,
    "start_time": "2021-07-08T09:18:15.431Z"
   },
   {
    "duration": 8,
    "start_time": "2021-07-08T09:18:15.457Z"
   },
   {
    "duration": 16,
    "start_time": "2021-07-08T09:18:15.466Z"
   },
   {
    "duration": 5,
    "start_time": "2021-07-08T09:18:15.484Z"
   },
   {
    "duration": 10,
    "start_time": "2021-07-08T09:18:15.493Z"
   },
   {
    "duration": 8,
    "start_time": "2021-07-08T09:18:15.504Z"
   },
   {
    "duration": 7,
    "start_time": "2021-07-08T09:18:15.513Z"
   },
   {
    "duration": 26,
    "start_time": "2021-07-08T09:18:15.522Z"
   },
   {
    "duration": 49,
    "start_time": "2021-07-08T09:18:15.550Z"
   },
   {
    "duration": 21,
    "start_time": "2021-07-08T09:18:15.601Z"
   },
   {
    "duration": 8,
    "start_time": "2021-07-08T09:18:15.624Z"
   },
   {
    "duration": 3,
    "start_time": "2021-07-08T09:18:15.634Z"
   },
   {
    "duration": 8,
    "start_time": "2021-07-08T09:18:15.639Z"
   },
   {
    "duration": 45,
    "start_time": "2021-07-08T09:18:15.649Z"
   },
   {
    "duration": 13,
    "start_time": "2021-07-08T09:18:15.696Z"
   },
   {
    "duration": 10,
    "start_time": "2021-07-08T09:18:15.711Z"
   },
   {
    "duration": 64,
    "start_time": "2021-07-08T09:18:15.722Z"
   },
   {
    "duration": 19,
    "start_time": "2021-07-08T09:18:15.788Z"
   },
   {
    "duration": 9,
    "start_time": "2021-07-08T09:18:15.809Z"
   },
   {
    "duration": 9,
    "start_time": "2021-07-08T09:18:15.820Z"
   },
   {
    "duration": 18,
    "start_time": "2021-07-08T09:18:15.831Z"
   },
   {
    "duration": 43,
    "start_time": "2021-07-08T09:18:15.851Z"
   },
   {
    "duration": 12,
    "start_time": "2021-07-08T09:18:15.897Z"
   },
   {
    "duration": 219,
    "start_time": "2021-07-08T09:18:15.911Z"
   },
   {
    "duration": 8,
    "start_time": "2021-07-08T09:18:16.132Z"
   },
   {
    "duration": 199,
    "start_time": "2021-07-08T09:18:16.141Z"
   },
   {
    "duration": 18,
    "start_time": "2021-07-08T09:18:16.341Z"
   },
   {
    "duration": 24,
    "start_time": "2021-07-08T09:18:16.361Z"
   },
   {
    "duration": 24,
    "start_time": "2021-07-08T09:18:16.387Z"
   },
   {
    "duration": 211,
    "start_time": "2021-07-08T09:18:16.413Z"
   },
   {
    "duration": 18,
    "start_time": "2021-07-08T09:18:16.626Z"
   },
   {
    "duration": 596,
    "start_time": "2021-07-08T10:06:33.623Z"
   },
   {
    "duration": 181,
    "start_time": "2021-07-08T10:06:34.221Z"
   },
   {
    "duration": 176,
    "start_time": "2021-07-08T10:06:34.635Z"
   },
   {
    "duration": 239,
    "start_time": "2021-07-08T10:06:55.572Z"
   },
   {
    "duration": 6,
    "start_time": "2021-07-08T10:06:57.687Z"
   },
   {
    "duration": 4,
    "start_time": "2021-07-08T10:07:03.956Z"
   },
   {
    "duration": 4,
    "start_time": "2021-07-08T10:07:10.376Z"
   },
   {
    "duration": 4,
    "start_time": "2021-07-08T10:17:19.889Z"
   },
   {
    "duration": 3,
    "start_time": "2021-07-08T10:19:19.407Z"
   },
   {
    "duration": 197,
    "start_time": "2021-07-08T10:19:19.412Z"
   },
   {
    "duration": 127,
    "start_time": "2021-07-08T10:19:19.611Z"
   },
   {
    "duration": 4,
    "start_time": "2021-07-08T10:19:19.740Z"
   },
   {
    "duration": 27,
    "start_time": "2021-07-08T10:19:19.746Z"
   },
   {
    "duration": 7,
    "start_time": "2021-07-08T10:19:19.775Z"
   },
   {
    "duration": 30,
    "start_time": "2021-07-08T10:19:19.784Z"
   },
   {
    "duration": 7,
    "start_time": "2021-07-08T10:19:19.817Z"
   },
   {
    "duration": 26,
    "start_time": "2021-07-08T10:19:19.826Z"
   },
   {
    "duration": 18,
    "start_time": "2021-07-08T10:19:19.854Z"
   },
   {
    "duration": 14,
    "start_time": "2021-07-08T10:19:19.874Z"
   },
   {
    "duration": 48,
    "start_time": "2021-07-08T10:19:19.890Z"
   },
   {
    "duration": 17,
    "start_time": "2021-07-08T10:19:19.940Z"
   },
   {
    "duration": 38,
    "start_time": "2021-07-08T10:19:19.959Z"
   },
   {
    "duration": 8,
    "start_time": "2021-07-08T10:19:19.999Z"
   },
   {
    "duration": 15,
    "start_time": "2021-07-08T10:19:20.009Z"
   },
   {
    "duration": 22,
    "start_time": "2021-07-08T10:19:20.026Z"
   },
   {
    "duration": 10,
    "start_time": "2021-07-08T10:19:20.050Z"
   },
   {
    "duration": 10,
    "start_time": "2021-07-08T10:19:20.062Z"
   },
   {
    "duration": 20,
    "start_time": "2021-07-08T10:19:20.073Z"
   },
   {
    "duration": 29,
    "start_time": "2021-07-08T10:19:20.095Z"
   },
   {
    "duration": 17,
    "start_time": "2021-07-08T10:19:20.126Z"
   },
   {
    "duration": 40,
    "start_time": "2021-07-08T10:19:20.146Z"
   },
   {
    "duration": 15,
    "start_time": "2021-07-08T10:19:20.189Z"
   },
   {
    "duration": 19,
    "start_time": "2021-07-08T10:19:20.206Z"
   },
   {
    "duration": 10,
    "start_time": "2021-07-08T10:19:20.226Z"
   },
   {
    "duration": 11,
    "start_time": "2021-07-08T10:19:20.238Z"
   },
   {
    "duration": 297,
    "start_time": "2021-07-08T10:19:20.250Z"
   },
   {
    "duration": 6,
    "start_time": "2021-07-08T10:19:20.549Z"
   },
   {
    "duration": 191,
    "start_time": "2021-07-08T10:19:20.557Z"
   },
   {
    "duration": 19,
    "start_time": "2021-07-08T10:19:20.750Z"
   },
   {
    "duration": 20,
    "start_time": "2021-07-08T10:19:20.771Z"
   },
   {
    "duration": 15,
    "start_time": "2021-07-08T10:19:20.793Z"
   },
   {
    "duration": 222,
    "start_time": "2021-07-08T10:19:20.809Z"
   },
   {
    "duration": 20,
    "start_time": "2021-07-08T10:19:21.033Z"
   },
   {
    "duration": 27,
    "start_time": "2021-07-08T10:45:04.055Z"
   },
   {
    "duration": 8,
    "start_time": "2021-07-08T10:45:08.478Z"
   },
   {
    "duration": 8,
    "start_time": "2021-07-08T10:45:31.982Z"
   },
   {
    "duration": 10,
    "start_time": "2021-07-08T10:46:01.221Z"
   },
   {
    "duration": 17,
    "start_time": "2021-07-08T10:46:40.011Z"
   },
   {
    "duration": 193,
    "start_time": "2021-07-08T10:48:19.471Z"
   },
   {
    "duration": 225,
    "start_time": "2021-07-08T10:49:26.480Z"
   },
   {
    "duration": 204,
    "start_time": "2021-07-08T10:49:59.992Z"
   },
   {
    "duration": 435,
    "start_time": "2021-07-08T10:50:06.779Z"
   },
   {
    "duration": 199,
    "start_time": "2021-07-08T10:50:14.891Z"
   },
   {
    "duration": 204,
    "start_time": "2021-07-08T10:50:18.501Z"
   },
   {
    "duration": 244,
    "start_time": "2021-07-08T10:50:23.359Z"
   },
   {
    "duration": 192,
    "start_time": "2021-07-08T10:50:29.135Z"
   },
   {
    "duration": 218,
    "start_time": "2021-07-08T10:50:33.092Z"
   },
   {
    "duration": 207,
    "start_time": "2021-07-08T10:52:45.381Z"
   },
   {
    "duration": 5,
    "start_time": "2021-07-08T10:53:34.641Z"
   },
   {
    "duration": 196,
    "start_time": "2021-07-08T10:53:41.478Z"
   },
   {
    "duration": 43,
    "start_time": "2021-07-08T10:53:50.335Z"
   },
   {
    "duration": 32,
    "start_time": "2021-07-08T10:53:55.294Z"
   },
   {
    "duration": 55,
    "start_time": "2021-07-08T10:54:09.675Z"
   },
   {
    "duration": 16,
    "start_time": "2021-07-08T10:54:12.260Z"
   },
   {
    "duration": 15,
    "start_time": "2021-07-08T10:54:49.150Z"
   },
   {
    "duration": 20,
    "start_time": "2021-07-08T10:56:07.596Z"
   },
   {
    "duration": 16,
    "start_time": "2021-07-08T10:58:26.276Z"
   },
   {
    "duration": 22,
    "start_time": "2021-07-08T10:59:00.486Z"
   },
   {
    "duration": 18,
    "start_time": "2021-07-08T11:02:09.653Z"
   },
   {
    "duration": 10,
    "start_time": "2021-07-08T11:03:44.331Z"
   },
   {
    "duration": 10,
    "start_time": "2021-07-08T11:03:54.055Z"
   },
   {
    "duration": 12,
    "start_time": "2021-07-08T11:04:41.967Z"
   },
   {
    "duration": 24,
    "start_time": "2021-07-08T11:07:30.732Z"
   },
   {
    "duration": 6,
    "start_time": "2021-07-08T11:07:37.364Z"
   },
   {
    "duration": 16,
    "start_time": "2021-07-08T11:08:01.819Z"
   },
   {
    "duration": 17,
    "start_time": "2021-07-08T11:09:47.488Z"
   },
   {
    "duration": 246,
    "start_time": "2021-07-08T11:10:00.830Z"
   },
   {
    "duration": 18,
    "start_time": "2021-07-08T11:13:55.195Z"
   },
   {
    "duration": 204,
    "start_time": "2021-07-08T11:14:04.951Z"
   },
   {
    "duration": 19,
    "start_time": "2021-07-08T11:15:10.613Z"
   },
   {
    "duration": 680,
    "start_time": "2021-07-08T11:16:25.793Z"
   },
   {
    "duration": 451,
    "start_time": "2021-07-08T11:16:40.313Z"
   },
   {
    "duration": 469,
    "start_time": "2021-07-08T11:17:21.286Z"
   },
   {
    "duration": 20,
    "start_time": "2021-07-08T11:19:12.554Z"
   },
   {
    "duration": 35,
    "start_time": "2021-07-08T11:20:05.484Z"
   },
   {
    "duration": 53,
    "start_time": "2021-07-08T11:21:40.050Z"
   },
   {
    "duration": 13,
    "start_time": "2021-07-08T11:22:26.059Z"
   },
   {
    "duration": 19,
    "start_time": "2021-07-08T11:22:47.419Z"
   },
   {
    "duration": 25,
    "start_time": "2021-07-08T11:23:19.958Z"
   },
   {
    "duration": 29,
    "start_time": "2021-07-08T11:23:25.415Z"
   },
   {
    "duration": 10,
    "start_time": "2021-07-08T11:24:45.138Z"
   },
   {
    "duration": 19,
    "start_time": "2021-07-08T11:24:54.498Z"
   },
   {
    "duration": 12,
    "start_time": "2021-07-08T11:25:32.225Z"
   },
   {
    "duration": 19,
    "start_time": "2021-07-08T11:25:37.092Z"
   },
   {
    "duration": 17,
    "start_time": "2021-07-08T11:25:58.116Z"
   },
   {
    "duration": 15,
    "start_time": "2021-07-08T11:26:02.258Z"
   },
   {
    "duration": 8,
    "start_time": "2021-07-08T11:26:59.682Z"
   },
   {
    "duration": 184,
    "start_time": "2021-07-08T11:27:21.894Z"
   },
   {
    "duration": 8,
    "start_time": "2021-07-08T11:27:23.824Z"
   },
   {
    "duration": 202,
    "start_time": "2021-07-08T11:27:23.962Z"
   },
   {
    "duration": 360,
    "start_time": "2021-07-08T11:28:33.215Z"
   },
   {
    "duration": 231,
    "start_time": "2021-07-08T11:32:05.542Z"
   },
   {
    "duration": 607,
    "start_time": "2021-07-08T11:36:27.854Z"
   },
   {
    "duration": 241,
    "start_time": "2021-07-08T11:36:28.463Z"
   },
   {
    "duration": 67,
    "start_time": "2021-07-08T11:36:28.709Z"
   },
   {
    "duration": 5,
    "start_time": "2021-07-08T11:36:28.778Z"
   },
   {
    "duration": 32,
    "start_time": "2021-07-08T11:36:28.784Z"
   },
   {
    "duration": 11,
    "start_time": "2021-07-08T11:36:28.819Z"
   },
   {
    "duration": 20,
    "start_time": "2021-07-08T11:36:28.834Z"
   },
   {
    "duration": 36,
    "start_time": "2021-07-08T11:36:28.857Z"
   },
   {
    "duration": 16,
    "start_time": "2021-07-08T11:36:28.895Z"
   },
   {
    "duration": 14,
    "start_time": "2021-07-08T11:36:28.913Z"
   },
   {
    "duration": 9,
    "start_time": "2021-07-08T11:36:28.930Z"
   },
   {
    "duration": 55,
    "start_time": "2021-07-08T11:36:28.941Z"
   },
   {
    "duration": 27,
    "start_time": "2021-07-08T11:36:28.999Z"
   },
   {
    "duration": 30,
    "start_time": "2021-07-08T11:36:29.028Z"
   },
   {
    "duration": 31,
    "start_time": "2021-07-08T11:36:29.060Z"
   },
   {
    "duration": 3,
    "start_time": "2021-07-08T11:36:29.093Z"
   },
   {
    "duration": 12,
    "start_time": "2021-07-08T11:36:29.099Z"
   },
   {
    "duration": 11,
    "start_time": "2021-07-08T11:36:29.112Z"
   },
   {
    "duration": 12,
    "start_time": "2021-07-08T11:36:29.125Z"
   },
   {
    "duration": 9,
    "start_time": "2021-07-08T11:36:29.139Z"
   },
   {
    "duration": 31,
    "start_time": "2021-07-08T11:36:29.191Z"
   },
   {
    "duration": 17,
    "start_time": "2021-07-08T11:36:29.226Z"
   },
   {
    "duration": 7,
    "start_time": "2021-07-08T11:36:29.245Z"
   },
   {
    "duration": 10,
    "start_time": "2021-07-08T11:36:29.254Z"
   },
   {
    "duration": 30,
    "start_time": "2021-07-08T11:36:29.292Z"
   },
   {
    "duration": 11,
    "start_time": "2021-07-08T11:36:29.324Z"
   },
   {
    "duration": 11,
    "start_time": "2021-07-08T11:36:29.337Z"
   },
   {
    "duration": 230,
    "start_time": "2021-07-08T11:36:29.349Z"
   },
   {
    "duration": 13,
    "start_time": "2021-07-08T11:36:29.588Z"
   },
   {
    "duration": 205,
    "start_time": "2021-07-08T11:36:29.603Z"
   },
   {
    "duration": 20,
    "start_time": "2021-07-08T11:36:29.810Z"
   },
   {
    "duration": 9,
    "start_time": "2021-07-08T11:36:29.832Z"
   },
   {
    "duration": 16,
    "start_time": "2021-07-08T11:36:29.843Z"
   },
   {
    "duration": 283,
    "start_time": "2021-07-08T11:36:29.861Z"
   },
   {
    "duration": 50,
    "start_time": "2021-07-08T11:36:30.146Z"
   },
   {
    "duration": 14,
    "start_time": "2021-07-08T11:36:30.198Z"
   },
   {
    "duration": 11,
    "start_time": "2021-07-08T11:36:30.214Z"
   },
   {
    "duration": 245,
    "start_time": "2021-07-08T11:36:30.227Z"
   },
   {
    "duration": 439,
    "start_time": "2021-07-08T11:36:30.474Z"
   },
   {
    "duration": 210,
    "start_time": "2021-07-08T11:36:30.915Z"
   },
   {
    "duration": 15,
    "start_time": "2021-07-08T11:36:31.127Z"
   },
   {
    "duration": 17,
    "start_time": "2021-07-08T11:38:20.451Z"
   },
   {
    "duration": 642,
    "start_time": "2021-07-08T11:46:17.881Z"
   },
   {
    "duration": 210,
    "start_time": "2021-07-08T11:46:18.525Z"
   },
   {
    "duration": 104,
    "start_time": "2021-07-08T11:46:18.741Z"
   },
   {
    "duration": 8,
    "start_time": "2021-07-08T11:46:18.847Z"
   },
   {
    "duration": 25,
    "start_time": "2021-07-08T11:46:18.857Z"
   },
   {
    "duration": 14,
    "start_time": "2021-07-08T11:46:18.884Z"
   },
   {
    "duration": 22,
    "start_time": "2021-07-08T11:46:18.900Z"
   },
   {
    "duration": 5,
    "start_time": "2021-07-08T11:46:18.924Z"
   },
   {
    "duration": 13,
    "start_time": "2021-07-08T11:46:18.931Z"
   },
   {
    "duration": 45,
    "start_time": "2021-07-08T11:46:18.946Z"
   },
   {
    "duration": 12,
    "start_time": "2021-07-08T11:46:18.993Z"
   },
   {
    "duration": 38,
    "start_time": "2021-07-08T11:46:19.006Z"
   },
   {
    "duration": 50,
    "start_time": "2021-07-08T11:46:19.046Z"
   },
   {
    "duration": 29,
    "start_time": "2021-07-08T11:46:19.099Z"
   },
   {
    "duration": 7,
    "start_time": "2021-07-08T11:46:19.130Z"
   },
   {
    "duration": 3,
    "start_time": "2021-07-08T11:46:19.139Z"
   },
   {
    "duration": 11,
    "start_time": "2021-07-08T11:46:19.144Z"
   },
   {
    "duration": 40,
    "start_time": "2021-07-08T11:46:19.157Z"
   },
   {
    "duration": 15,
    "start_time": "2021-07-08T11:46:19.199Z"
   },
   {
    "duration": 10,
    "start_time": "2021-07-08T11:46:19.217Z"
   },
   {
    "duration": 68,
    "start_time": "2021-07-08T11:46:19.230Z"
   },
   {
    "duration": 17,
    "start_time": "2021-07-08T11:46:19.301Z"
   },
   {
    "duration": 7,
    "start_time": "2021-07-08T11:46:19.321Z"
   },
   {
    "duration": 11,
    "start_time": "2021-07-08T11:46:19.330Z"
   },
   {
    "duration": 59,
    "start_time": "2021-07-08T11:46:19.343Z"
   },
   {
    "duration": 17,
    "start_time": "2021-07-08T11:46:19.405Z"
   },
   {
    "duration": 16,
    "start_time": "2021-07-08T11:46:19.424Z"
   },
   {
    "duration": 252,
    "start_time": "2021-07-08T11:46:19.443Z"
   },
   {
    "duration": 9,
    "start_time": "2021-07-08T11:46:19.697Z"
   },
   {
    "duration": 224,
    "start_time": "2021-07-08T11:46:19.708Z"
   },
   {
    "duration": 21,
    "start_time": "2021-07-08T11:46:19.934Z"
   },
   {
    "duration": 9,
    "start_time": "2021-07-08T11:46:19.956Z"
   },
   {
    "duration": 32,
    "start_time": "2021-07-08T11:46:19.967Z"
   },
   {
    "duration": 288,
    "start_time": "2021-07-08T11:46:20.004Z"
   },
   {
    "duration": 23,
    "start_time": "2021-07-08T11:46:20.300Z"
   },
   {
    "duration": 11,
    "start_time": "2021-07-08T11:46:20.325Z"
   },
   {
    "duration": 11,
    "start_time": "2021-07-08T11:46:20.339Z"
   },
   {
    "duration": 259,
    "start_time": "2021-07-08T11:46:20.352Z"
   },
   {
    "duration": 438,
    "start_time": "2021-07-08T11:46:20.613Z"
   },
   {
    "duration": 207,
    "start_time": "2021-07-08T11:46:21.054Z"
   },
   {
    "duration": 27,
    "start_time": "2021-07-08T11:46:21.262Z"
   },
   {
    "duration": 19,
    "start_time": "2021-07-08T11:46:21.291Z"
   },
   {
    "duration": 820,
    "start_time": "2021-07-08T11:49:01.655Z"
   },
   {
    "duration": 372,
    "start_time": "2021-07-08T11:49:02.478Z"
   },
   {
    "duration": 98,
    "start_time": "2021-07-08T11:49:02.853Z"
   },
   {
    "duration": 6,
    "start_time": "2021-07-08T11:49:02.953Z"
   },
   {
    "duration": 39,
    "start_time": "2021-07-08T11:49:02.960Z"
   },
   {
    "duration": 9,
    "start_time": "2021-07-08T11:49:03.003Z"
   },
   {
    "duration": 23,
    "start_time": "2021-07-08T11:49:03.014Z"
   },
   {
    "duration": 6,
    "start_time": "2021-07-08T11:49:03.041Z"
   },
   {
    "duration": 20,
    "start_time": "2021-07-08T11:49:03.049Z"
   },
   {
    "duration": 18,
    "start_time": "2021-07-08T11:49:03.084Z"
   },
   {
    "duration": 14,
    "start_time": "2021-07-08T11:49:03.104Z"
   },
   {
    "duration": 39,
    "start_time": "2021-07-08T11:49:03.119Z"
   },
   {
    "duration": 38,
    "start_time": "2021-07-08T11:49:03.160Z"
   },
   {
    "duration": 26,
    "start_time": "2021-07-08T11:49:03.200Z"
   },
   {
    "duration": 7,
    "start_time": "2021-07-08T11:49:03.227Z"
   },
   {
    "duration": 4,
    "start_time": "2021-07-08T11:49:03.236Z"
   },
   {
    "duration": 15,
    "start_time": "2021-07-08T11:49:03.243Z"
   },
   {
    "duration": 21,
    "start_time": "2021-07-08T11:49:03.285Z"
   },
   {
    "duration": 17,
    "start_time": "2021-07-08T11:49:03.309Z"
   },
   {
    "duration": 10,
    "start_time": "2021-07-08T11:49:03.328Z"
   },
   {
    "duration": 65,
    "start_time": "2021-07-08T11:49:03.340Z"
   },
   {
    "duration": 18,
    "start_time": "2021-07-08T11:49:03.407Z"
   },
   {
    "duration": 8,
    "start_time": "2021-07-08T11:49:03.428Z"
   },
   {
    "duration": 15,
    "start_time": "2021-07-08T11:49:03.438Z"
   },
   {
    "duration": 40,
    "start_time": "2021-07-08T11:49:03.455Z"
   },
   {
    "duration": 12,
    "start_time": "2021-07-08T11:49:03.497Z"
   },
   {
    "duration": 29,
    "start_time": "2021-07-08T11:49:03.511Z"
   },
   {
    "duration": 285,
    "start_time": "2021-07-08T11:49:03.542Z"
   },
   {
    "duration": 8,
    "start_time": "2021-07-08T11:49:03.829Z"
   },
   {
    "duration": 227,
    "start_time": "2021-07-08T11:49:03.838Z"
   },
   {
    "duration": 40,
    "start_time": "2021-07-08T11:49:04.066Z"
   },
   {
    "duration": 10,
    "start_time": "2021-07-08T11:49:04.108Z"
   },
   {
    "duration": 26,
    "start_time": "2021-07-08T11:49:04.121Z"
   },
   {
    "duration": 290,
    "start_time": "2021-07-08T11:49:04.149Z"
   },
   {
    "duration": 26,
    "start_time": "2021-07-08T11:49:04.441Z"
   },
   {
    "duration": 31,
    "start_time": "2021-07-08T11:49:04.470Z"
   },
   {
    "duration": 14,
    "start_time": "2021-07-08T11:49:04.503Z"
   },
   {
    "duration": 259,
    "start_time": "2021-07-08T11:49:04.521Z"
   },
   {
    "duration": 480,
    "start_time": "2021-07-08T11:49:04.782Z"
   },
   {
    "duration": 225,
    "start_time": "2021-07-08T11:49:05.264Z"
   },
   {
    "duration": 22,
    "start_time": "2021-07-08T11:49:05.491Z"
   },
   {
    "duration": 24,
    "start_time": "2021-07-08T11:49:05.515Z"
   },
   {
    "duration": 634,
    "start_time": "2021-07-08T11:52:24.960Z"
   },
   {
    "duration": 199,
    "start_time": "2021-07-08T11:52:25.599Z"
   },
   {
    "duration": 106,
    "start_time": "2021-07-08T11:52:25.803Z"
   },
   {
    "duration": 7,
    "start_time": "2021-07-08T11:52:25.911Z"
   },
   {
    "duration": 29,
    "start_time": "2021-07-08T11:52:25.920Z"
   },
   {
    "duration": 7,
    "start_time": "2021-07-08T11:52:25.951Z"
   },
   {
    "duration": 26,
    "start_time": "2021-07-08T11:52:25.961Z"
   },
   {
    "duration": 11,
    "start_time": "2021-07-08T11:52:25.990Z"
   },
   {
    "duration": 29,
    "start_time": "2021-07-08T11:52:26.005Z"
   },
   {
    "duration": 9,
    "start_time": "2021-07-08T11:52:26.036Z"
   },
   {
    "duration": 8,
    "start_time": "2021-07-08T11:52:26.047Z"
   },
   {
    "duration": 63,
    "start_time": "2021-07-08T11:52:26.057Z"
   },
   {
    "duration": 17,
    "start_time": "2021-07-08T11:52:26.122Z"
   },
   {
    "duration": 43,
    "start_time": "2021-07-08T11:52:26.142Z"
   },
   {
    "duration": 17,
    "start_time": "2021-07-08T11:52:26.187Z"
   },
   {
    "duration": 5,
    "start_time": "2021-07-08T11:52:26.206Z"
   },
   {
    "duration": 12,
    "start_time": "2021-07-08T11:52:26.212Z"
   },
   {
    "duration": 11,
    "start_time": "2021-07-08T11:52:26.226Z"
   },
   {
    "duration": 12,
    "start_time": "2021-07-08T11:52:26.238Z"
   },
   {
    "duration": 38,
    "start_time": "2021-07-08T11:52:26.252Z"
   },
   {
    "duration": 40,
    "start_time": "2021-07-08T11:52:26.292Z"
   },
   {
    "duration": 17,
    "start_time": "2021-07-08T11:52:26.336Z"
   },
   {
    "duration": 39,
    "start_time": "2021-07-08T11:52:26.355Z"
   },
   {
    "duration": 11,
    "start_time": "2021-07-08T11:52:26.395Z"
   },
   {
    "duration": 23,
    "start_time": "2021-07-08T11:52:26.408Z"
   },
   {
    "duration": 12,
    "start_time": "2021-07-08T11:52:26.432Z"
   },
   {
    "duration": 41,
    "start_time": "2021-07-08T11:52:26.446Z"
   },
   {
    "duration": 215,
    "start_time": "2021-07-08T11:52:26.493Z"
   },
   {
    "duration": 8,
    "start_time": "2021-07-08T11:52:26.710Z"
   },
   {
    "duration": 228,
    "start_time": "2021-07-08T11:52:26.720Z"
   },
   {
    "duration": 18,
    "start_time": "2021-07-08T11:52:26.950Z"
   },
   {
    "duration": 35,
    "start_time": "2021-07-08T11:52:26.969Z"
   },
   {
    "duration": 23,
    "start_time": "2021-07-08T11:52:27.006Z"
   },
   {
    "duration": 258,
    "start_time": "2021-07-08T11:52:27.030Z"
   },
   {
    "duration": 24,
    "start_time": "2021-07-08T11:52:27.290Z"
   },
   {
    "duration": 12,
    "start_time": "2021-07-08T11:52:27.316Z"
   },
   {
    "duration": 10,
    "start_time": "2021-07-08T11:52:27.329Z"
   },
   {
    "duration": 298,
    "start_time": "2021-07-08T11:52:27.341Z"
   },
   {
    "duration": 436,
    "start_time": "2021-07-08T11:52:27.641Z"
   },
   {
    "duration": 216,
    "start_time": "2021-07-08T11:52:28.079Z"
   },
   {
    "duration": 20,
    "start_time": "2021-07-08T11:52:28.297Z"
   },
   {
    "duration": 17,
    "start_time": "2021-07-08T11:52:28.319Z"
   },
   {
    "duration": 48,
    "start_time": "2022-04-05T10:33:55.381Z"
   },
   {
    "duration": 1237,
    "start_time": "2022-04-05T10:33:58.551Z"
   },
   {
    "duration": 103,
    "start_time": "2022-04-05T10:33:59.790Z"
   },
   {
    "duration": 23,
    "start_time": "2022-04-05T10:34:13.982Z"
   },
   {
    "duration": 1559,
    "start_time": "2022-04-05T10:49:26.068Z"
   },
   {
    "duration": 7,
    "start_time": "2022-04-05T10:49:36.677Z"
   },
   {
    "duration": 10,
    "start_time": "2022-04-05T10:49:46.358Z"
   },
   {
    "duration": 11,
    "start_time": "2022-04-05T10:50:08.449Z"
   },
   {
    "duration": 23,
    "start_time": "2022-04-05T10:54:57.128Z"
   },
   {
    "duration": 24,
    "start_time": "2022-04-05T10:55:08.842Z"
   },
   {
    "duration": 22,
    "start_time": "2022-04-05T10:55:20.589Z"
   },
   {
    "duration": 3,
    "start_time": "2022-04-05T10:55:25.374Z"
   },
   {
    "duration": 96,
    "start_time": "2022-04-05T10:55:25.378Z"
   },
   {
    "duration": 19,
    "start_time": "2022-04-05T10:55:25.476Z"
   },
   {
    "duration": 10,
    "start_time": "2022-04-05T10:55:25.496Z"
   },
   {
    "duration": 20,
    "start_time": "2022-04-05T10:55:25.507Z"
   },
   {
    "duration": 17,
    "start_time": "2022-04-05T10:55:36.631Z"
   },
   {
    "duration": 2,
    "start_time": "2022-04-05T10:55:39.659Z"
   },
   {
    "duration": 88,
    "start_time": "2022-04-05T10:55:39.673Z"
   },
   {
    "duration": 20,
    "start_time": "2022-04-05T10:55:39.763Z"
   },
   {
    "duration": 10,
    "start_time": "2022-04-05T10:55:39.785Z"
   },
   {
    "duration": 16,
    "start_time": "2022-04-05T10:55:39.796Z"
   },
   {
    "duration": 15,
    "start_time": "2022-04-05T10:55:49.350Z"
   },
   {
    "duration": 2,
    "start_time": "2022-04-05T10:55:52.201Z"
   },
   {
    "duration": 93,
    "start_time": "2022-04-05T10:55:52.205Z"
   },
   {
    "duration": 19,
    "start_time": "2022-04-05T10:55:52.299Z"
   },
   {
    "duration": 9,
    "start_time": "2022-04-05T10:55:52.320Z"
   },
   {
    "duration": 23,
    "start_time": "2022-04-05T10:55:52.330Z"
   },
   {
    "duration": 17,
    "start_time": "2022-04-05T10:56:40.998Z"
   },
   {
    "duration": 3,
    "start_time": "2022-04-05T10:56:43.629Z"
   },
   {
    "duration": 94,
    "start_time": "2022-04-05T10:56:43.634Z"
   },
   {
    "duration": 20,
    "start_time": "2022-04-05T10:56:43.729Z"
   },
   {
    "duration": 10,
    "start_time": "2022-04-05T10:56:43.750Z"
   },
   {
    "duration": 15,
    "start_time": "2022-04-05T10:56:43.762Z"
   },
   {
    "duration": 14,
    "start_time": "2022-04-05T10:57:07.378Z"
   },
   {
    "duration": 3,
    "start_time": "2022-04-05T10:57:17.036Z"
   },
   {
    "duration": 92,
    "start_time": "2022-04-05T10:57:17.041Z"
   },
   {
    "duration": 22,
    "start_time": "2022-04-05T10:57:17.134Z"
   },
   {
    "duration": 10,
    "start_time": "2022-04-05T10:57:17.158Z"
   },
   {
    "duration": 15,
    "start_time": "2022-04-05T10:57:17.170Z"
   },
   {
    "duration": 18,
    "start_time": "2022-04-05T10:57:57.312Z"
   },
   {
    "duration": 4,
    "start_time": "2022-04-05T10:58:13.927Z"
   },
   {
    "duration": 90,
    "start_time": "2022-04-05T10:58:13.933Z"
   },
   {
    "duration": 22,
    "start_time": "2022-04-05T10:58:14.025Z"
   },
   {
    "duration": 29,
    "start_time": "2022-04-05T10:58:14.050Z"
   },
   {
    "duration": 39,
    "start_time": "2022-04-05T10:58:14.081Z"
   },
   {
    "duration": 3,
    "start_time": "2022-04-05T10:58:57.940Z"
   },
   {
    "duration": 85,
    "start_time": "2022-04-05T10:58:57.945Z"
   },
   {
    "duration": 19,
    "start_time": "2022-04-05T10:58:58.031Z"
   },
   {
    "duration": 293,
    "start_time": "2022-04-05T10:58:58.052Z"
   },
   {
    "duration": 0,
    "start_time": "2022-04-05T10:58:58.348Z"
   },
   {
    "duration": 28,
    "start_time": "2022-04-05T10:59:32.849Z"
   },
   {
    "duration": 24,
    "start_time": "2022-04-05T10:59:44.338Z"
   },
   {
    "duration": 3,
    "start_time": "2022-04-05T10:59:49.578Z"
   },
   {
    "duration": 92,
    "start_time": "2022-04-05T10:59:49.583Z"
   },
   {
    "duration": 19,
    "start_time": "2022-04-05T10:59:49.677Z"
   },
   {
    "duration": 25,
    "start_time": "2022-04-05T10:59:49.698Z"
   },
   {
    "duration": 22,
    "start_time": "2022-04-05T10:59:49.725Z"
   },
   {
    "duration": 26,
    "start_time": "2022-04-05T11:00:25.010Z"
   },
   {
    "duration": 3,
    "start_time": "2022-04-05T11:00:28.796Z"
   },
   {
    "duration": 97,
    "start_time": "2022-04-05T11:00:28.802Z"
   },
   {
    "duration": 21,
    "start_time": "2022-04-05T11:00:28.901Z"
   },
   {
    "duration": 27,
    "start_time": "2022-04-05T11:00:28.924Z"
   },
   {
    "duration": 26,
    "start_time": "2022-04-05T11:00:28.953Z"
   },
   {
    "duration": 22,
    "start_time": "2022-04-05T11:01:00.259Z"
   },
   {
    "duration": 2,
    "start_time": "2022-04-05T11:01:18.481Z"
   },
   {
    "duration": 99,
    "start_time": "2022-04-05T11:01:18.486Z"
   },
   {
    "duration": 22,
    "start_time": "2022-04-05T11:01:18.587Z"
   },
   {
    "duration": 20,
    "start_time": "2022-04-05T11:01:18.611Z"
   },
   {
    "duration": 10,
    "start_time": "2022-04-05T11:01:18.634Z"
   },
   {
    "duration": 37,
    "start_time": "2022-04-05T11:01:18.647Z"
   },
   {
    "duration": 29,
    "start_time": "2022-04-05T11:03:07.549Z"
   },
   {
    "duration": 27,
    "start_time": "2022-04-05T11:03:31.028Z"
   },
   {
    "duration": 27,
    "start_time": "2022-04-05T11:03:50.796Z"
   },
   {
    "duration": 25,
    "start_time": "2022-04-05T11:20:44.979Z"
   },
   {
    "duration": 32,
    "start_time": "2022-04-05T11:22:58.297Z"
   },
   {
    "duration": 3,
    "start_time": "2022-04-05T11:23:03.407Z"
   },
   {
    "duration": 92,
    "start_time": "2022-04-05T11:23:03.415Z"
   },
   {
    "duration": 31,
    "start_time": "2022-04-05T11:23:03.509Z"
   },
   {
    "duration": 18,
    "start_time": "2022-04-05T11:23:03.541Z"
   },
   {
    "duration": 11,
    "start_time": "2022-04-05T11:23:03.561Z"
   },
   {
    "duration": 59,
    "start_time": "2022-04-05T11:23:03.574Z"
   },
   {
    "duration": 9,
    "start_time": "2022-04-05T11:23:03.635Z"
   },
   {
    "duration": 2,
    "start_time": "2022-04-05T11:23:57.677Z"
   },
   {
    "duration": 100,
    "start_time": "2022-04-05T11:23:57.681Z"
   },
   {
    "duration": 20,
    "start_time": "2022-04-05T11:23:57.782Z"
   },
   {
    "duration": 30,
    "start_time": "2022-04-05T11:23:57.804Z"
   },
   {
    "duration": 10,
    "start_time": "2022-04-05T11:23:57.836Z"
   },
   {
    "duration": 18,
    "start_time": "2022-04-05T11:23:57.848Z"
   },
   {
    "duration": 9,
    "start_time": "2022-04-05T11:23:57.868Z"
   },
   {
    "duration": 2,
    "start_time": "2022-04-05T11:29:33.996Z"
   },
   {
    "duration": 103,
    "start_time": "2022-04-05T11:29:34.000Z"
   },
   {
    "duration": 34,
    "start_time": "2022-04-05T11:29:34.104Z"
   },
   {
    "duration": 18,
    "start_time": "2022-04-05T11:29:34.139Z"
   },
   {
    "duration": 10,
    "start_time": "2022-04-05T11:29:34.159Z"
   },
   {
    "duration": 39,
    "start_time": "2022-04-05T11:29:34.171Z"
   },
   {
    "duration": 0,
    "start_time": "2022-04-05T11:29:34.213Z"
   },
   {
    "duration": 17,
    "start_time": "2022-04-05T11:29:57.131Z"
   },
   {
    "duration": 11,
    "start_time": "2022-04-05T11:30:08.466Z"
   },
   {
    "duration": 3,
    "start_time": "2022-04-05T11:30:12.234Z"
   },
   {
    "duration": 116,
    "start_time": "2022-04-05T11:30:12.239Z"
   },
   {
    "duration": 22,
    "start_time": "2022-04-05T11:30:12.357Z"
   },
   {
    "duration": 18,
    "start_time": "2022-04-05T11:30:12.380Z"
   },
   {
    "duration": 15,
    "start_time": "2022-04-05T11:30:12.401Z"
   },
   {
    "duration": 27,
    "start_time": "2022-04-05T11:30:12.419Z"
   },
   {
    "duration": 27,
    "start_time": "2022-04-05T11:30:12.448Z"
   },
   {
    "duration": 19,
    "start_time": "2022-04-05T11:30:27.237Z"
   },
   {
    "duration": 3,
    "start_time": "2022-04-05T11:30:30.564Z"
   },
   {
    "duration": 114,
    "start_time": "2022-04-05T11:30:30.569Z"
   },
   {
    "duration": 22,
    "start_time": "2022-04-05T11:30:30.685Z"
   },
   {
    "duration": 33,
    "start_time": "2022-04-05T11:30:30.709Z"
   },
   {
    "duration": 13,
    "start_time": "2022-04-05T11:30:30.744Z"
   },
   {
    "duration": 29,
    "start_time": "2022-04-05T11:30:30.758Z"
   },
   {
    "duration": 56,
    "start_time": "2022-04-05T11:30:30.788Z"
   },
   {
    "duration": 25,
    "start_time": "2022-04-05T11:39:16.221Z"
   },
   {
    "duration": 26,
    "start_time": "2022-04-05T11:39:26.851Z"
   },
   {
    "duration": 27,
    "start_time": "2022-04-05T11:42:36.991Z"
   },
   {
    "duration": 27,
    "start_time": "2022-04-05T11:45:38.434Z"
   },
   {
    "duration": 30,
    "start_time": "2022-04-05T11:45:45.105Z"
   },
   {
    "duration": 1643,
    "start_time": "2022-04-06T10:46:29.301Z"
   },
   {
    "duration": 93,
    "start_time": "2022-04-06T10:46:30.946Z"
   },
   {
    "duration": 33,
    "start_time": "2022-04-06T10:46:31.040Z"
   },
   {
    "duration": 24,
    "start_time": "2022-04-06T10:46:31.075Z"
   },
   {
    "duration": 38,
    "start_time": "2022-04-06T10:46:31.101Z"
   },
   {
    "duration": 32,
    "start_time": "2022-04-06T10:46:31.142Z"
   },
   {
    "duration": 27,
    "start_time": "2022-04-06T10:47:05.672Z"
   },
   {
    "duration": 12,
    "start_time": "2022-04-06T10:47:35.779Z"
   },
   {
    "duration": 2016,
    "start_time": "2022-04-06T10:49:52.071Z"
   },
   {
    "duration": 19,
    "start_time": "2022-04-06T10:50:14.051Z"
   },
   {
    "duration": 3,
    "start_time": "2022-04-06T10:50:21.004Z"
   },
   {
    "duration": 112,
    "start_time": "2022-04-06T10:50:21.009Z"
   },
   {
    "duration": 24,
    "start_time": "2022-04-06T10:50:21.122Z"
   },
   {
    "duration": 39,
    "start_time": "2022-04-06T10:50:21.149Z"
   },
   {
    "duration": 13,
    "start_time": "2022-04-06T10:50:21.190Z"
   },
   {
    "duration": 46,
    "start_time": "2022-04-06T10:50:21.205Z"
   },
   {
    "duration": 13,
    "start_time": "2022-04-06T10:50:21.253Z"
   },
   {
    "duration": 5,
    "start_time": "2022-04-06T10:51:28.828Z"
   },
   {
    "duration": 32,
    "start_time": "2022-04-06T10:53:13.378Z"
   },
   {
    "duration": 34,
    "start_time": "2022-04-06T10:54:30.729Z"
   },
   {
    "duration": 5,
    "start_time": "2022-04-06T10:55:13.369Z"
   },
   {
    "duration": 6,
    "start_time": "2022-04-06T10:55:19.382Z"
   },
   {
    "duration": 5,
    "start_time": "2022-04-06T10:56:16.756Z"
   },
   {
    "duration": 15,
    "start_time": "2022-04-06T10:56:24.766Z"
   },
   {
    "duration": 16,
    "start_time": "2022-04-06T10:56:29.921Z"
   },
   {
    "duration": 5,
    "start_time": "2022-04-06T10:56:45.053Z"
   },
   {
    "duration": 4,
    "start_time": "2022-04-06T11:01:51.166Z"
   },
   {
    "duration": 5,
    "start_time": "2022-04-06T11:01:59.862Z"
   },
   {
    "duration": 3,
    "start_time": "2022-04-06T11:03:36.468Z"
   },
   {
    "duration": 96,
    "start_time": "2022-04-06T11:03:36.476Z"
   },
   {
    "duration": 26,
    "start_time": "2022-04-06T11:03:36.575Z"
   },
   {
    "duration": 20,
    "start_time": "2022-04-06T11:03:36.603Z"
   },
   {
    "duration": 16,
    "start_time": "2022-04-06T11:03:36.625Z"
   },
   {
    "duration": 35,
    "start_time": "2022-04-06T11:03:36.643Z"
   },
   {
    "duration": 4,
    "start_time": "2022-04-06T11:03:36.680Z"
   },
   {
    "duration": 16,
    "start_time": "2022-04-06T11:03:36.686Z"
   },
   {
    "duration": 3,
    "start_time": "2022-04-06T11:03:51.803Z"
   },
   {
    "duration": 124,
    "start_time": "2022-04-06T11:03:51.837Z"
   },
   {
    "duration": 21,
    "start_time": "2022-04-06T11:03:51.963Z"
   },
   {
    "duration": 26,
    "start_time": "2022-04-06T11:03:51.986Z"
   },
   {
    "duration": 13,
    "start_time": "2022-04-06T11:03:52.015Z"
   },
   {
    "duration": 36,
    "start_time": "2022-04-06T11:03:52.032Z"
   },
   {
    "duration": 5,
    "start_time": "2022-04-06T11:03:52.070Z"
   },
   {
    "duration": 11,
    "start_time": "2022-04-06T11:03:52.076Z"
   },
   {
    "duration": 117,
    "start_time": "2022-04-06T11:06:18.309Z"
   },
   {
    "duration": 3,
    "start_time": "2022-04-06T11:06:24.332Z"
   },
   {
    "duration": 94,
    "start_time": "2022-04-06T11:06:24.499Z"
   },
   {
    "duration": 21,
    "start_time": "2022-04-06T11:06:24.595Z"
   },
   {
    "duration": 20,
    "start_time": "2022-04-06T11:06:24.617Z"
   },
   {
    "duration": 23,
    "start_time": "2022-04-06T11:06:24.639Z"
   },
   {
    "duration": 21,
    "start_time": "2022-04-06T11:06:24.666Z"
   },
   {
    "duration": 4,
    "start_time": "2022-04-06T11:06:24.689Z"
   },
   {
    "duration": 155,
    "start_time": "2022-04-06T11:06:24.694Z"
   },
   {
    "duration": 529,
    "start_time": "2022-04-06T11:06:32.884Z"
   },
   {
    "duration": 20,
    "start_time": "2022-04-06T11:06:57.001Z"
   },
   {
    "duration": 3,
    "start_time": "2022-04-06T11:07:04.752Z"
   },
   {
    "duration": 100,
    "start_time": "2022-04-06T11:07:04.757Z"
   },
   {
    "duration": 24,
    "start_time": "2022-04-06T11:07:04.859Z"
   },
   {
    "duration": 18,
    "start_time": "2022-04-06T11:07:04.884Z"
   },
   {
    "duration": 13,
    "start_time": "2022-04-06T11:07:04.904Z"
   },
   {
    "duration": 39,
    "start_time": "2022-04-06T11:07:04.918Z"
   },
   {
    "duration": 5,
    "start_time": "2022-04-06T11:07:04.958Z"
   },
   {
    "duration": 21,
    "start_time": "2022-04-06T11:07:04.964Z"
   },
   {
    "duration": 9,
    "start_time": "2022-04-06T11:11:48.248Z"
   },
   {
    "duration": 2,
    "start_time": "2022-04-06T11:11:52.408Z"
   },
   {
    "duration": 93,
    "start_time": "2022-04-06T11:11:52.412Z"
   },
   {
    "duration": 20,
    "start_time": "2022-04-06T11:11:52.506Z"
   },
   {
    "duration": 23,
    "start_time": "2022-04-06T11:11:52.528Z"
   },
   {
    "duration": 12,
    "start_time": "2022-04-06T11:11:52.554Z"
   },
   {
    "duration": 27,
    "start_time": "2022-04-06T11:11:52.568Z"
   },
   {
    "duration": 4,
    "start_time": "2022-04-06T11:11:52.596Z"
   },
   {
    "duration": 46,
    "start_time": "2022-04-06T11:11:52.602Z"
   },
   {
    "duration": 21,
    "start_time": "2022-04-06T11:14:18.083Z"
   },
   {
    "duration": 19,
    "start_time": "2022-04-06T11:14:30.414Z"
   },
   {
    "duration": 21,
    "start_time": "2022-04-06T11:14:39.880Z"
   },
   {
    "duration": 23,
    "start_time": "2022-04-06T11:14:47.375Z"
   },
   {
    "duration": 28,
    "start_time": "2022-04-06T11:14:55.851Z"
   },
   {
    "duration": 32,
    "start_time": "2022-04-06T11:15:02.985Z"
   },
   {
    "duration": 3,
    "start_time": "2022-04-06T11:15:09.489Z"
   },
   {
    "duration": 91,
    "start_time": "2022-04-06T11:15:09.494Z"
   },
   {
    "duration": 21,
    "start_time": "2022-04-06T11:15:09.587Z"
   },
   {
    "duration": 35,
    "start_time": "2022-04-06T11:15:09.610Z"
   },
   {
    "duration": 14,
    "start_time": "2022-04-06T11:15:09.647Z"
   },
   {
    "duration": 25,
    "start_time": "2022-04-06T11:15:09.662Z"
   },
   {
    "duration": 4,
    "start_time": "2022-04-06T11:15:09.689Z"
   },
   {
    "duration": 61,
    "start_time": "2022-04-06T11:15:09.694Z"
   },
   {
    "duration": 24,
    "start_time": "2022-04-06T11:15:39.577Z"
   },
   {
    "duration": 7,
    "start_time": "2022-04-06T11:16:58.665Z"
   },
   {
    "duration": 127,
    "start_time": "2022-04-06T11:27:25.551Z"
   },
   {
    "duration": 142,
    "start_time": "2022-04-06T11:27:42.434Z"
   },
   {
    "duration": 3,
    "start_time": "2022-04-06T11:27:45.506Z"
   },
   {
    "duration": 96,
    "start_time": "2022-04-06T11:27:45.511Z"
   },
   {
    "duration": 22,
    "start_time": "2022-04-06T11:27:45.609Z"
   },
   {
    "duration": 26,
    "start_time": "2022-04-06T11:27:45.636Z"
   },
   {
    "duration": 12,
    "start_time": "2022-04-06T11:27:45.664Z"
   },
   {
    "duration": 26,
    "start_time": "2022-04-06T11:27:45.678Z"
   },
   {
    "duration": 4,
    "start_time": "2022-04-06T11:27:45.706Z"
   },
   {
    "duration": 45,
    "start_time": "2022-04-06T11:27:45.711Z"
   },
   {
    "duration": 0,
    "start_time": "2022-04-06T11:27:45.758Z"
   },
   {
    "duration": 4,
    "start_time": "2022-04-06T11:28:23.377Z"
   },
   {
    "duration": 92,
    "start_time": "2022-04-06T11:28:23.386Z"
   },
   {
    "duration": 24,
    "start_time": "2022-04-06T11:28:23.480Z"
   },
   {
    "duration": 25,
    "start_time": "2022-04-06T11:28:23.505Z"
   },
   {
    "duration": 20,
    "start_time": "2022-04-06T11:28:23.532Z"
   },
   {
    "duration": 26,
    "start_time": "2022-04-06T11:28:23.554Z"
   },
   {
    "duration": 4,
    "start_time": "2022-04-06T11:28:23.581Z"
   },
   {
    "duration": 49,
    "start_time": "2022-04-06T11:28:23.587Z"
   },
   {
    "duration": 0,
    "start_time": "2022-04-06T11:28:23.638Z"
   },
   {
    "duration": 7,
    "start_time": "2022-04-06T11:28:43.005Z"
   },
   {
    "duration": 7,
    "start_time": "2022-04-06T11:28:48.099Z"
   },
   {
    "duration": 119,
    "start_time": "2022-04-06T11:28:51.079Z"
   },
   {
    "duration": 954,
    "start_time": "2022-04-06T11:29:31.084Z"
   },
   {
    "duration": 1843,
    "start_time": "2022-04-06T11:30:01.026Z"
   },
   {
    "duration": 1506,
    "start_time": "2022-04-06T11:30:22.551Z"
   },
   {
    "duration": 2,
    "start_time": "2022-04-06T11:30:34.269Z"
   },
   {
    "duration": 90,
    "start_time": "2022-04-06T11:30:34.273Z"
   },
   {
    "duration": 22,
    "start_time": "2022-04-06T11:30:34.365Z"
   },
   {
    "duration": 18,
    "start_time": "2022-04-06T11:30:34.389Z"
   },
   {
    "duration": 12,
    "start_time": "2022-04-06T11:30:34.409Z"
   },
   {
    "duration": 32,
    "start_time": "2022-04-06T11:30:34.423Z"
   },
   {
    "duration": 4,
    "start_time": "2022-04-06T11:30:34.456Z"
   },
   {
    "duration": 24,
    "start_time": "2022-04-06T11:30:34.462Z"
   },
   {
    "duration": 0,
    "start_time": "2022-04-06T11:30:34.488Z"
   },
   {
    "duration": 8,
    "start_time": "2022-04-06T11:30:51.335Z"
   },
   {
    "duration": 2,
    "start_time": "2022-04-06T11:30:55.652Z"
   },
   {
    "duration": 88,
    "start_time": "2022-04-06T11:30:55.656Z"
   },
   {
    "duration": 21,
    "start_time": "2022-04-06T11:30:55.745Z"
   },
   {
    "duration": 18,
    "start_time": "2022-04-06T11:30:55.768Z"
   },
   {
    "duration": 11,
    "start_time": "2022-04-06T11:30:55.789Z"
   },
   {
    "duration": 41,
    "start_time": "2022-04-06T11:30:55.802Z"
   },
   {
    "duration": 4,
    "start_time": "2022-04-06T11:30:55.844Z"
   },
   {
    "duration": 18,
    "start_time": "2022-04-06T11:30:55.849Z"
   },
   {
    "duration": 22,
    "start_time": "2022-04-06T11:30:55.869Z"
   },
   {
    "duration": 7,
    "start_time": "2022-04-06T11:31:59.697Z"
   },
   {
    "duration": 3,
    "start_time": "2022-04-06T11:32:02.968Z"
   },
   {
    "duration": 90,
    "start_time": "2022-04-06T11:32:02.973Z"
   },
   {
    "duration": 22,
    "start_time": "2022-04-06T11:32:03.065Z"
   },
   {
    "duration": 18,
    "start_time": "2022-04-06T11:32:03.089Z"
   },
   {
    "duration": 12,
    "start_time": "2022-04-06T11:32:03.109Z"
   },
   {
    "duration": 29,
    "start_time": "2022-04-06T11:32:03.123Z"
   },
   {
    "duration": 4,
    "start_time": "2022-04-06T11:32:03.154Z"
   },
   {
    "duration": 24,
    "start_time": "2022-04-06T11:32:03.160Z"
   },
   {
    "duration": 0,
    "start_time": "2022-04-06T11:32:03.186Z"
   },
   {
    "duration": 13,
    "start_time": "2022-04-06T11:32:09.950Z"
   },
   {
    "duration": 8,
    "start_time": "2022-04-06T11:32:54.125Z"
   },
   {
    "duration": 36,
    "start_time": "2022-04-06T11:33:16.854Z"
   },
   {
    "duration": 69,
    "start_time": "2022-04-07T21:04:08.198Z"
   },
   {
    "duration": 2013,
    "start_time": "2022-04-07T21:04:15.340Z"
   },
   {
    "duration": 155,
    "start_time": "2022-04-07T21:04:17.355Z"
   },
   {
    "duration": 32,
    "start_time": "2022-04-07T21:04:17.512Z"
   },
   {
    "duration": 40,
    "start_time": "2022-04-07T21:04:17.548Z"
   },
   {
    "duration": 22,
    "start_time": "2022-04-07T21:04:17.591Z"
   },
   {
    "duration": 40,
    "start_time": "2022-04-07T21:04:17.616Z"
   },
   {
    "duration": 7,
    "start_time": "2022-04-07T21:04:17.673Z"
   },
   {
    "duration": 166,
    "start_time": "2022-04-07T21:04:17.684Z"
   },
   {
    "duration": 0,
    "start_time": "2022-04-07T21:04:17.852Z"
   },
   {
    "duration": 4,
    "start_time": "2022-04-07T21:04:53.937Z"
   },
   {
    "duration": 109,
    "start_time": "2022-04-07T21:04:53.965Z"
   },
   {
    "duration": 28,
    "start_time": "2022-04-07T21:04:54.076Z"
   },
   {
    "duration": 28,
    "start_time": "2022-04-07T21:04:54.106Z"
   },
   {
    "duration": 42,
    "start_time": "2022-04-07T21:04:54.136Z"
   },
   {
    "duration": 32,
    "start_time": "2022-04-07T21:04:54.180Z"
   },
   {
    "duration": 7,
    "start_time": "2022-04-07T21:04:54.215Z"
   },
   {
    "duration": 65,
    "start_time": "2022-04-07T21:04:54.225Z"
   },
   {
    "duration": 81,
    "start_time": "2022-04-07T21:04:54.293Z"
   },
   {
    "duration": 1531,
    "start_time": "2022-04-15T16:30:05.253Z"
   },
   {
    "duration": 104,
    "start_time": "2022-04-15T16:30:06.786Z"
   },
   {
    "duration": 26,
    "start_time": "2022-04-15T16:30:06.892Z"
   },
   {
    "duration": 25,
    "start_time": "2022-04-15T16:30:06.921Z"
   },
   {
    "duration": 27,
    "start_time": "2022-04-15T16:30:06.949Z"
   },
   {
    "duration": 30,
    "start_time": "2022-04-15T16:30:06.979Z"
   },
   {
    "duration": 4,
    "start_time": "2022-04-15T16:30:07.012Z"
   },
   {
    "duration": 25,
    "start_time": "2022-04-15T16:30:07.018Z"
   },
   {
    "duration": 40,
    "start_time": "2022-04-15T16:30:07.072Z"
   },
   {
    "duration": 99,
    "start_time": "2022-04-15T16:35:15.074Z"
   },
   {
    "duration": 10,
    "start_time": "2022-04-15T16:35:20.445Z"
   },
   {
    "duration": 9,
    "start_time": "2022-04-15T16:35:34.879Z"
   },
   {
    "duration": 20,
    "start_time": "2022-04-15T16:35:43.915Z"
   },
   {
    "duration": 3,
    "start_time": "2022-04-15T16:35:51.989Z"
   },
   {
    "duration": 114,
    "start_time": "2022-04-15T16:35:51.994Z"
   },
   {
    "duration": 22,
    "start_time": "2022-04-15T16:35:52.110Z"
   },
   {
    "duration": 19,
    "start_time": "2022-04-15T16:35:52.135Z"
   },
   {
    "duration": 13,
    "start_time": "2022-04-15T16:35:52.156Z"
   },
   {
    "duration": 24,
    "start_time": "2022-04-15T16:35:52.171Z"
   },
   {
    "duration": 4,
    "start_time": "2022-04-15T16:35:52.198Z"
   },
   {
    "duration": 17,
    "start_time": "2022-04-15T16:35:52.204Z"
   },
   {
    "duration": 58,
    "start_time": "2022-04-15T16:35:52.223Z"
   },
   {
    "duration": 16,
    "start_time": "2022-04-15T16:35:52.283Z"
   },
   {
    "duration": 7,
    "start_time": "2022-04-15T16:41:50.175Z"
   },
   {
    "duration": 31,
    "start_time": "2022-04-15T16:46:34.801Z"
   },
   {
    "duration": 3,
    "start_time": "2022-04-15T16:48:32.748Z"
   },
   {
    "duration": 98,
    "start_time": "2022-04-15T16:48:32.753Z"
   },
   {
    "duration": 21,
    "start_time": "2022-04-15T16:48:32.852Z"
   },
   {
    "duration": 18,
    "start_time": "2022-04-15T16:48:32.875Z"
   },
   {
    "duration": 17,
    "start_time": "2022-04-15T16:48:32.895Z"
   },
   {
    "duration": 25,
    "start_time": "2022-04-15T16:48:32.913Z"
   },
   {
    "duration": 4,
    "start_time": "2022-04-15T16:48:32.940Z"
   },
   {
    "duration": 42,
    "start_time": "2022-04-15T16:48:32.945Z"
   },
   {
    "duration": 38,
    "start_time": "2022-04-15T16:48:32.989Z"
   },
   {
    "duration": 18,
    "start_time": "2022-04-15T16:48:33.028Z"
   },
   {
    "duration": 51,
    "start_time": "2022-04-15T16:48:33.048Z"
   },
   {
    "duration": 32,
    "start_time": "2022-04-15T16:48:41.864Z"
   },
   {
    "duration": 3,
    "start_time": "2022-04-15T16:48:51.157Z"
   },
   {
    "duration": 92,
    "start_time": "2022-04-15T16:48:51.163Z"
   },
   {
    "duration": 22,
    "start_time": "2022-04-15T16:48:51.257Z"
   },
   {
    "duration": 18,
    "start_time": "2022-04-15T16:48:51.281Z"
   },
   {
    "duration": 12,
    "start_time": "2022-04-15T16:48:51.301Z"
   },
   {
    "duration": 26,
    "start_time": "2022-04-15T16:48:51.314Z"
   },
   {
    "duration": 3,
    "start_time": "2022-04-15T16:48:51.342Z"
   },
   {
    "duration": 41,
    "start_time": "2022-04-15T16:48:51.347Z"
   },
   {
    "duration": 39,
    "start_time": "2022-04-15T16:48:51.390Z"
   },
   {
    "duration": 19,
    "start_time": "2022-04-15T16:48:51.431Z"
   },
   {
    "duration": 35,
    "start_time": "2022-04-15T16:48:51.474Z"
   },
   {
    "duration": 46,
    "start_time": "2022-04-15T16:50:36.255Z"
   },
   {
    "duration": 4,
    "start_time": "2022-04-15T16:50:39.240Z"
   },
   {
    "duration": 117,
    "start_time": "2022-04-15T16:50:39.246Z"
   },
   {
    "duration": 22,
    "start_time": "2022-04-15T16:50:39.364Z"
   },
   {
    "duration": 19,
    "start_time": "2022-04-15T16:50:39.388Z"
   },
   {
    "duration": 13,
    "start_time": "2022-04-15T16:50:39.409Z"
   },
   {
    "duration": 53,
    "start_time": "2022-04-15T16:50:39.424Z"
   },
   {
    "duration": 4,
    "start_time": "2022-04-15T16:50:39.479Z"
   },
   {
    "duration": 25,
    "start_time": "2022-04-15T16:50:39.485Z"
   },
   {
    "duration": 69,
    "start_time": "2022-04-15T16:50:39.513Z"
   },
   {
    "duration": 33,
    "start_time": "2022-04-15T16:50:39.584Z"
   },
   {
    "duration": 36,
    "start_time": "2022-04-15T16:50:39.620Z"
   },
   {
    "duration": 30,
    "start_time": "2022-04-15T16:55:42.911Z"
   },
   {
    "duration": 3,
    "start_time": "2022-04-15T16:55:47.213Z"
   },
   {
    "duration": 98,
    "start_time": "2022-04-15T16:55:47.218Z"
   },
   {
    "duration": 21,
    "start_time": "2022-04-15T16:55:47.317Z"
   },
   {
    "duration": 23,
    "start_time": "2022-04-15T16:55:47.340Z"
   },
   {
    "duration": 12,
    "start_time": "2022-04-15T16:55:47.365Z"
   },
   {
    "duration": 27,
    "start_time": "2022-04-15T16:55:47.378Z"
   },
   {
    "duration": 4,
    "start_time": "2022-04-15T16:55:47.406Z"
   },
   {
    "duration": 19,
    "start_time": "2022-04-15T16:55:47.411Z"
   },
   {
    "duration": 56,
    "start_time": "2022-04-15T16:55:47.432Z"
   },
   {
    "duration": 19,
    "start_time": "2022-04-15T16:55:47.490Z"
   },
   {
    "duration": 31,
    "start_time": "2022-04-15T16:55:47.511Z"
   },
   {
    "duration": 10,
    "start_time": "2022-04-15T17:00:07.445Z"
   },
   {
    "duration": 3,
    "start_time": "2022-04-15T17:00:14.582Z"
   },
   {
    "duration": 101,
    "start_time": "2022-04-15T17:00:14.587Z"
   },
   {
    "duration": 21,
    "start_time": "2022-04-15T17:00:14.690Z"
   },
   {
    "duration": 19,
    "start_time": "2022-04-15T17:00:14.712Z"
   },
   {
    "duration": 11,
    "start_time": "2022-04-15T17:00:14.733Z"
   },
   {
    "duration": 44,
    "start_time": "2022-04-15T17:00:14.746Z"
   },
   {
    "duration": 4,
    "start_time": "2022-04-15T17:00:14.791Z"
   },
   {
    "duration": 21,
    "start_time": "2022-04-15T17:00:14.797Z"
   },
   {
    "duration": 54,
    "start_time": "2022-04-15T17:00:14.820Z"
   },
   {
    "duration": 19,
    "start_time": "2022-04-15T17:00:14.876Z"
   },
   {
    "duration": 20,
    "start_time": "2022-04-15T17:00:14.897Z"
   },
   {
    "duration": 14,
    "start_time": "2022-04-15T17:07:29.205Z"
   },
   {
    "duration": 2,
    "start_time": "2022-04-15T17:07:32.316Z"
   },
   {
    "duration": 102,
    "start_time": "2022-04-15T17:07:32.320Z"
   },
   {
    "duration": 21,
    "start_time": "2022-04-15T17:07:32.424Z"
   },
   {
    "duration": 19,
    "start_time": "2022-04-15T17:07:32.446Z"
   },
   {
    "duration": 13,
    "start_time": "2022-04-15T17:07:32.467Z"
   },
   {
    "duration": 26,
    "start_time": "2022-04-15T17:07:32.481Z"
   },
   {
    "duration": 4,
    "start_time": "2022-04-15T17:07:32.509Z"
   },
   {
    "duration": 15,
    "start_time": "2022-04-15T17:07:32.515Z"
   },
   {
    "duration": 65,
    "start_time": "2022-04-15T17:07:32.532Z"
   },
   {
    "duration": 24,
    "start_time": "2022-04-15T17:07:32.599Z"
   },
   {
    "duration": 14,
    "start_time": "2022-04-15T17:07:32.626Z"
   },
   {
    "duration": 100,
    "start_time": "2022-04-15T17:08:06.770Z"
   },
   {
    "duration": 18,
    "start_time": "2022-04-15T17:08:38.531Z"
   },
   {
    "duration": 28,
    "start_time": "2022-04-15T17:08:50.116Z"
   },
   {
    "duration": 4,
    "start_time": "2022-04-15T17:10:29.509Z"
   },
   {
    "duration": 5,
    "start_time": "2022-04-15T17:11:21.587Z"
   },
   {
    "duration": 8,
    "start_time": "2022-04-15T17:11:33.726Z"
   },
   {
    "duration": 1737,
    "start_time": "2022-04-15T17:12:51.197Z"
   },
   {
    "duration": 6,
    "start_time": "2022-04-15T17:12:57.576Z"
   },
   {
    "duration": 8,
    "start_time": "2022-04-15T17:13:41.827Z"
   },
   {
    "duration": 8,
    "start_time": "2022-04-15T17:14:51.553Z"
   },
   {
    "duration": 5,
    "start_time": "2022-04-15T17:14:54.928Z"
   },
   {
    "duration": 7,
    "start_time": "2022-04-15T17:15:19.845Z"
   },
   {
    "duration": 3,
    "start_time": "2022-04-15T17:16:45.172Z"
   },
   {
    "duration": 5,
    "start_time": "2022-04-15T17:17:15.544Z"
   },
   {
    "duration": 11,
    "start_time": "2022-04-15T17:18:03.195Z"
   },
   {
    "duration": 3,
    "start_time": "2022-04-15T17:19:07.842Z"
   },
   {
    "duration": 2,
    "start_time": "2022-04-15T17:19:07.864Z"
   },
   {
    "duration": 101,
    "start_time": "2022-04-15T17:19:07.868Z"
   },
   {
    "duration": 23,
    "start_time": "2022-04-15T17:19:07.971Z"
   },
   {
    "duration": 19,
    "start_time": "2022-04-15T17:19:07.996Z"
   },
   {
    "duration": 13,
    "start_time": "2022-04-15T17:19:08.017Z"
   },
   {
    "duration": 42,
    "start_time": "2022-04-15T17:19:08.032Z"
   },
   {
    "duration": 4,
    "start_time": "2022-04-15T17:19:08.076Z"
   },
   {
    "duration": 20,
    "start_time": "2022-04-15T17:19:08.082Z"
   },
   {
    "duration": 35,
    "start_time": "2022-04-15T17:19:08.104Z"
   },
   {
    "duration": 46,
    "start_time": "2022-04-15T17:19:08.141Z"
   },
   {
    "duration": 14,
    "start_time": "2022-04-15T17:19:08.189Z"
   },
   {
    "duration": 28,
    "start_time": "2022-04-15T17:19:08.205Z"
   },
   {
    "duration": 6,
    "start_time": "2022-04-15T17:19:08.234Z"
   },
   {
    "duration": 9,
    "start_time": "2022-04-15T17:19:08.272Z"
   },
   {
    "duration": 9,
    "start_time": "2022-04-15T17:19:08.283Z"
   },
   {
    "duration": 13,
    "start_time": "2022-04-15T17:19:08.294Z"
   },
   {
    "duration": 10,
    "start_time": "2022-04-15T17:19:08.309Z"
   },
   {
    "duration": 8,
    "start_time": "2022-04-15T17:19:08.320Z"
   },
   {
    "duration": 8,
    "start_time": "2022-04-15T17:19:08.330Z"
   },
   {
    "duration": 1694,
    "start_time": "2022-04-15T17:23:55.164Z"
   },
   {
    "duration": 12,
    "start_time": "2022-04-15T17:24:10.946Z"
   },
   {
    "duration": 6,
    "start_time": "2022-04-15T17:24:21.593Z"
   },
   {
    "duration": 1357,
    "start_time": "2022-04-15T17:24:28.654Z"
   },
   {
    "duration": 3,
    "start_time": "2022-04-15T17:24:30.931Z"
   },
   {
    "duration": 18,
    "start_time": "2022-04-15T17:24:30.937Z"
   },
   {
    "duration": 120,
    "start_time": "2022-04-15T17:24:30.957Z"
   },
   {
    "duration": 23,
    "start_time": "2022-04-15T17:24:31.079Z"
   },
   {
    "duration": 27,
    "start_time": "2022-04-15T17:24:31.104Z"
   },
   {
    "duration": 21,
    "start_time": "2022-04-15T17:24:31.134Z"
   },
   {
    "duration": 45,
    "start_time": "2022-04-15T17:24:31.157Z"
   },
   {
    "duration": 4,
    "start_time": "2022-04-15T17:24:31.204Z"
   },
   {
    "duration": 28,
    "start_time": "2022-04-15T17:24:31.209Z"
   },
   {
    "duration": 55,
    "start_time": "2022-04-15T17:24:31.238Z"
   },
   {
    "duration": 20,
    "start_time": "2022-04-15T17:24:31.295Z"
   },
   {
    "duration": 13,
    "start_time": "2022-04-15T17:24:31.317Z"
   },
   {
    "duration": 45,
    "start_time": "2022-04-15T17:24:31.332Z"
   },
   {
    "duration": 5,
    "start_time": "2022-04-15T17:24:31.379Z"
   },
   {
    "duration": 21,
    "start_time": "2022-04-15T17:24:31.387Z"
   },
   {
    "duration": 20,
    "start_time": "2022-04-15T17:24:31.409Z"
   },
   {
    "duration": 21,
    "start_time": "2022-04-15T17:24:31.431Z"
   },
   {
    "duration": 20,
    "start_time": "2022-04-15T17:24:31.455Z"
   },
   {
    "duration": 24,
    "start_time": "2022-04-15T17:24:31.477Z"
   },
   {
    "duration": 13,
    "start_time": "2022-04-15T17:24:31.503Z"
   },
   {
    "duration": 30,
    "start_time": "2022-04-15T17:24:31.517Z"
   },
   {
    "duration": 6,
    "start_time": "2022-04-15T17:24:49.829Z"
   },
   {
    "duration": 16,
    "start_time": "2022-04-15T17:25:23.978Z"
   },
   {
    "duration": 3,
    "start_time": "2022-04-15T17:25:34.530Z"
   },
   {
    "duration": 7,
    "start_time": "2022-04-15T17:25:34.535Z"
   },
   {
    "duration": 94,
    "start_time": "2022-04-15T17:25:34.544Z"
   },
   {
    "duration": 20,
    "start_time": "2022-04-15T17:25:34.640Z"
   },
   {
    "duration": 18,
    "start_time": "2022-04-15T17:25:34.663Z"
   },
   {
    "duration": 12,
    "start_time": "2022-04-15T17:25:34.683Z"
   },
   {
    "duration": 26,
    "start_time": "2022-04-15T17:25:34.697Z"
   },
   {
    "duration": 3,
    "start_time": "2022-04-15T17:25:34.725Z"
   },
   {
    "duration": 44,
    "start_time": "2022-04-15T17:25:34.730Z"
   },
   {
    "duration": 37,
    "start_time": "2022-04-15T17:25:34.776Z"
   },
   {
    "duration": 22,
    "start_time": "2022-04-15T17:25:34.815Z"
   },
   {
    "duration": 39,
    "start_time": "2022-04-15T17:25:34.839Z"
   },
   {
    "duration": 26,
    "start_time": "2022-04-15T17:25:34.880Z"
   },
   {
    "duration": 5,
    "start_time": "2022-04-15T17:25:34.907Z"
   },
   {
    "duration": 10,
    "start_time": "2022-04-15T17:25:34.913Z"
   },
   {
    "duration": 13,
    "start_time": "2022-04-15T17:25:34.925Z"
   },
   {
    "duration": 9,
    "start_time": "2022-04-15T17:25:34.940Z"
   },
   {
    "duration": 8,
    "start_time": "2022-04-15T17:25:34.973Z"
   },
   {
    "duration": 13,
    "start_time": "2022-04-15T17:25:34.983Z"
   },
   {
    "duration": 9,
    "start_time": "2022-04-15T17:25:34.998Z"
   },
   {
    "duration": 7,
    "start_time": "2022-04-15T17:25:35.009Z"
   },
   {
    "duration": 10,
    "start_time": "2022-04-15T17:25:35.018Z"
   },
   {
    "duration": 20,
    "start_time": "2022-04-15T17:25:35.029Z"
   },
   {
    "duration": 13,
    "start_time": "2022-04-15T17:30:13.299Z"
   },
   {
    "duration": 13,
    "start_time": "2022-04-15T17:30:53.435Z"
   },
   {
    "duration": 3,
    "start_time": "2022-04-15T17:30:57.246Z"
   },
   {
    "duration": 6,
    "start_time": "2022-04-15T17:30:57.252Z"
   },
   {
    "duration": 92,
    "start_time": "2022-04-15T17:30:57.260Z"
   },
   {
    "duration": 20,
    "start_time": "2022-04-15T17:30:57.354Z"
   },
   {
    "duration": 18,
    "start_time": "2022-04-15T17:30:57.376Z"
   },
   {
    "duration": 11,
    "start_time": "2022-04-15T17:30:57.396Z"
   },
   {
    "duration": 27,
    "start_time": "2022-04-15T17:30:57.409Z"
   },
   {
    "duration": 4,
    "start_time": "2022-04-15T17:30:57.438Z"
   },
   {
    "duration": 45,
    "start_time": "2022-04-15T17:30:57.444Z"
   },
   {
    "duration": 36,
    "start_time": "2022-04-15T17:30:57.493Z"
   },
   {
    "duration": 45,
    "start_time": "2022-04-15T17:30:57.531Z"
   },
   {
    "duration": 12,
    "start_time": "2022-04-15T17:30:57.578Z"
   },
   {
    "duration": 24,
    "start_time": "2022-04-15T17:30:57.592Z"
   },
   {
    "duration": 5,
    "start_time": "2022-04-15T17:30:57.618Z"
   },
   {
    "duration": 9,
    "start_time": "2022-04-15T17:30:57.624Z"
   },
   {
    "duration": 42,
    "start_time": "2022-04-15T17:30:57.634Z"
   },
   {
    "duration": 7,
    "start_time": "2022-04-15T17:30:57.678Z"
   },
   {
    "duration": 11,
    "start_time": "2022-04-15T17:30:57.687Z"
   },
   {
    "duration": 7,
    "start_time": "2022-04-15T17:30:57.700Z"
   },
   {
    "duration": 9,
    "start_time": "2022-04-15T17:30:57.708Z"
   },
   {
    "duration": 6,
    "start_time": "2022-04-15T17:30:57.718Z"
   },
   {
    "duration": 5,
    "start_time": "2022-04-15T17:30:57.726Z"
   },
   {
    "duration": 53,
    "start_time": "2022-04-15T17:30:57.732Z"
   },
   {
    "duration": 11,
    "start_time": "2022-04-15T17:30:57.786Z"
   },
   {
    "duration": 24,
    "start_time": "2022-04-15T17:31:45.605Z"
   },
   {
    "duration": 16,
    "start_time": "2022-04-15T17:32:03.301Z"
   },
   {
    "duration": 17,
    "start_time": "2022-04-15T17:32:49.994Z"
   },
   {
    "duration": 41,
    "start_time": "2022-04-15T17:33:09.281Z"
   },
   {
    "duration": 4,
    "start_time": "2022-04-15T17:33:21.021Z"
   },
   {
    "duration": 7,
    "start_time": "2022-04-15T17:33:21.027Z"
   },
   {
    "duration": 104,
    "start_time": "2022-04-15T17:33:21.036Z"
   },
   {
    "duration": 23,
    "start_time": "2022-04-15T17:33:21.142Z"
   },
   {
    "duration": 20,
    "start_time": "2022-04-15T17:33:21.167Z"
   },
   {
    "duration": 14,
    "start_time": "2022-04-15T17:33:21.188Z"
   },
   {
    "duration": 28,
    "start_time": "2022-04-15T17:33:21.204Z"
   },
   {
    "duration": 4,
    "start_time": "2022-04-15T17:33:21.234Z"
   },
   {
    "duration": 40,
    "start_time": "2022-04-15T17:33:21.240Z"
   },
   {
    "duration": 39,
    "start_time": "2022-04-15T17:33:21.282Z"
   },
   {
    "duration": 49,
    "start_time": "2022-04-15T17:33:21.324Z"
   },
   {
    "duration": 15,
    "start_time": "2022-04-15T17:33:21.375Z"
   },
   {
    "duration": 26,
    "start_time": "2022-04-15T17:33:21.392Z"
   },
   {
    "duration": 4,
    "start_time": "2022-04-15T17:33:21.420Z"
   },
   {
    "duration": 10,
    "start_time": "2022-04-15T17:33:21.426Z"
   },
   {
    "duration": 36,
    "start_time": "2022-04-15T17:33:21.438Z"
   },
   {
    "duration": 10,
    "start_time": "2022-04-15T17:33:21.476Z"
   },
   {
    "duration": 11,
    "start_time": "2022-04-15T17:33:21.488Z"
   },
   {
    "duration": 4,
    "start_time": "2022-04-15T17:33:21.501Z"
   },
   {
    "duration": 13,
    "start_time": "2022-04-15T17:33:21.507Z"
   },
   {
    "duration": 8,
    "start_time": "2022-04-15T17:33:21.522Z"
   },
   {
    "duration": 5,
    "start_time": "2022-04-15T17:33:21.531Z"
   },
   {
    "duration": 41,
    "start_time": "2022-04-15T17:33:21.537Z"
   },
   {
    "duration": 32,
    "start_time": "2022-04-15T17:33:21.579Z"
   },
   {
    "duration": 21,
    "start_time": "2022-04-15T17:33:31.660Z"
   },
   {
    "duration": 30,
    "start_time": "2022-04-15T17:33:37.596Z"
   },
   {
    "duration": 30,
    "start_time": "2022-04-15T17:33:54.085Z"
   },
   {
    "duration": 2,
    "start_time": "2022-04-15T17:33:56.676Z"
   },
   {
    "duration": 6,
    "start_time": "2022-04-15T17:33:56.680Z"
   },
   {
    "duration": 99,
    "start_time": "2022-04-15T17:33:56.688Z"
   },
   {
    "duration": 21,
    "start_time": "2022-04-15T17:33:56.788Z"
   },
   {
    "duration": 18,
    "start_time": "2022-04-15T17:33:56.811Z"
   },
   {
    "duration": 12,
    "start_time": "2022-04-15T17:33:56.831Z"
   },
   {
    "duration": 43,
    "start_time": "2022-04-15T17:33:56.844Z"
   },
   {
    "duration": 3,
    "start_time": "2022-04-15T17:33:56.889Z"
   },
   {
    "duration": 17,
    "start_time": "2022-04-15T17:33:56.894Z"
   },
   {
    "duration": 34,
    "start_time": "2022-04-15T17:33:56.913Z"
   },
   {
    "duration": 23,
    "start_time": "2022-04-15T17:33:56.973Z"
   },
   {
    "duration": 14,
    "start_time": "2022-04-15T17:33:56.998Z"
   },
   {
    "duration": 26,
    "start_time": "2022-04-15T17:33:57.014Z"
   },
   {
    "duration": 35,
    "start_time": "2022-04-15T17:33:57.042Z"
   },
   {
    "duration": 10,
    "start_time": "2022-04-15T17:33:57.078Z"
   },
   {
    "duration": 7,
    "start_time": "2022-04-15T17:33:57.090Z"
   },
   {
    "duration": 8,
    "start_time": "2022-04-15T17:33:57.099Z"
   },
   {
    "duration": 7,
    "start_time": "2022-04-15T17:33:57.108Z"
   },
   {
    "duration": 5,
    "start_time": "2022-04-15T17:33:57.116Z"
   },
   {
    "duration": 8,
    "start_time": "2022-04-15T17:33:57.122Z"
   },
   {
    "duration": 6,
    "start_time": "2022-04-15T17:33:57.131Z"
   },
   {
    "duration": 6,
    "start_time": "2022-04-15T17:33:57.173Z"
   },
   {
    "duration": 17,
    "start_time": "2022-04-15T17:33:57.180Z"
   },
   {
    "duration": 32,
    "start_time": "2022-04-15T17:33:57.199Z"
   },
   {
    "duration": 16,
    "start_time": "2022-04-15T17:34:01.512Z"
   },
   {
    "duration": 13,
    "start_time": "2022-04-15T17:34:09.586Z"
   },
   {
    "duration": 3,
    "start_time": "2022-04-15T17:34:15.244Z"
   },
   {
    "duration": 8,
    "start_time": "2022-04-15T17:34:15.249Z"
   },
   {
    "duration": 93,
    "start_time": "2022-04-15T17:34:15.258Z"
   },
   {
    "duration": 22,
    "start_time": "2022-04-15T17:34:15.353Z"
   },
   {
    "duration": 19,
    "start_time": "2022-04-15T17:34:15.377Z"
   },
   {
    "duration": 14,
    "start_time": "2022-04-15T17:34:15.397Z"
   },
   {
    "duration": 31,
    "start_time": "2022-04-15T17:34:15.412Z"
   },
   {
    "duration": 3,
    "start_time": "2022-04-15T17:34:15.445Z"
   },
   {
    "duration": 36,
    "start_time": "2022-04-15T17:34:15.450Z"
   },
   {
    "duration": 39,
    "start_time": "2022-04-15T17:34:15.488Z"
   },
   {
    "duration": 27,
    "start_time": "2022-04-15T17:34:15.529Z"
   },
   {
    "duration": 14,
    "start_time": "2022-04-15T17:34:15.574Z"
   },
   {
    "duration": 29,
    "start_time": "2022-04-15T17:34:15.590Z"
   },
   {
    "duration": 4,
    "start_time": "2022-04-15T17:34:15.622Z"
   },
   {
    "duration": 11,
    "start_time": "2022-04-15T17:34:15.628Z"
   },
   {
    "duration": 33,
    "start_time": "2022-04-15T17:34:15.640Z"
   },
   {
    "duration": 7,
    "start_time": "2022-04-15T17:34:15.675Z"
   },
   {
    "duration": 11,
    "start_time": "2022-04-15T17:34:15.684Z"
   },
   {
    "duration": 5,
    "start_time": "2022-04-15T17:34:15.697Z"
   },
   {
    "duration": 3,
    "start_time": "2022-04-15T17:34:17.593Z"
   },
   {
    "duration": 4,
    "start_time": "2022-04-15T17:34:17.600Z"
   },
   {
    "duration": 99,
    "start_time": "2022-04-15T17:34:17.606Z"
   },
   {
    "duration": 21,
    "start_time": "2022-04-15T17:34:17.707Z"
   },
   {
    "duration": 18,
    "start_time": "2022-04-15T17:34:17.730Z"
   },
   {
    "duration": 14,
    "start_time": "2022-04-15T17:34:17.750Z"
   },
   {
    "duration": 24,
    "start_time": "2022-04-15T17:34:17.766Z"
   },
   {
    "duration": 4,
    "start_time": "2022-04-15T17:34:17.791Z"
   },
   {
    "duration": 16,
    "start_time": "2022-04-15T17:34:17.796Z"
   },
   {
    "duration": 34,
    "start_time": "2022-04-15T17:34:17.813Z"
   },
   {
    "duration": 44,
    "start_time": "2022-04-15T17:34:17.848Z"
   },
   {
    "duration": 14,
    "start_time": "2022-04-15T17:34:17.893Z"
   },
   {
    "duration": 28,
    "start_time": "2022-04-15T17:34:17.908Z"
   },
   {
    "duration": 5,
    "start_time": "2022-04-15T17:34:17.937Z"
   },
   {
    "duration": 7,
    "start_time": "2022-04-15T17:34:17.974Z"
   },
   {
    "duration": 8,
    "start_time": "2022-04-15T17:34:17.983Z"
   },
   {
    "duration": 10,
    "start_time": "2022-04-15T17:34:17.993Z"
   },
   {
    "duration": 8,
    "start_time": "2022-04-15T17:34:18.005Z"
   },
   {
    "duration": 6,
    "start_time": "2022-04-15T17:34:18.015Z"
   },
   {
    "duration": 6,
    "start_time": "2022-04-15T17:34:18.023Z"
   },
   {
    "duration": 44,
    "start_time": "2022-04-15T17:34:18.031Z"
   },
   {
    "duration": 9,
    "start_time": "2022-04-15T17:34:18.077Z"
   },
   {
    "duration": 16,
    "start_time": "2022-04-15T17:34:18.088Z"
   },
   {
    "duration": 14,
    "start_time": "2022-04-15T17:34:18.106Z"
   },
   {
    "duration": 20,
    "start_time": "2022-04-15T17:34:39.755Z"
   },
   {
    "duration": 28,
    "start_time": "2022-04-15T17:34:51.637Z"
   },
   {
    "duration": 28,
    "start_time": "2022-04-15T17:36:35.167Z"
   },
   {
    "duration": 33,
    "start_time": "2022-04-15T17:37:22.753Z"
   },
   {
    "duration": 3,
    "start_time": "2022-04-15T17:37:30.663Z"
   },
   {
    "duration": 17,
    "start_time": "2022-04-15T17:37:30.667Z"
   },
   {
    "duration": 108,
    "start_time": "2022-04-15T17:37:30.686Z"
   },
   {
    "duration": 21,
    "start_time": "2022-04-15T17:37:30.795Z"
   },
   {
    "duration": 23,
    "start_time": "2022-04-15T17:37:30.818Z"
   },
   {
    "duration": 14,
    "start_time": "2022-04-15T17:37:30.843Z"
   },
   {
    "duration": 27,
    "start_time": "2022-04-15T17:37:30.859Z"
   },
   {
    "duration": 4,
    "start_time": "2022-04-15T17:37:30.888Z"
   },
   {
    "duration": 22,
    "start_time": "2022-04-15T17:37:30.894Z"
   },
   {
    "duration": 35,
    "start_time": "2022-04-15T17:37:30.918Z"
   },
   {
    "duration": 24,
    "start_time": "2022-04-15T17:37:30.973Z"
   },
   {
    "duration": 14,
    "start_time": "2022-04-15T17:37:30.999Z"
   },
   {
    "duration": 30,
    "start_time": "2022-04-15T17:37:31.015Z"
   },
   {
    "duration": 29,
    "start_time": "2022-04-15T17:37:31.046Z"
   },
   {
    "duration": 37,
    "start_time": "2022-04-15T17:37:31.076Z"
   },
   {
    "duration": 9,
    "start_time": "2022-04-15T17:37:31.115Z"
   },
   {
    "duration": 12,
    "start_time": "2022-04-15T17:37:31.126Z"
   },
   {
    "duration": 17,
    "start_time": "2022-04-15T17:37:31.140Z"
   },
   {
    "duration": 10,
    "start_time": "2022-04-15T17:37:31.158Z"
   },
   {
    "duration": 13,
    "start_time": "2022-04-15T17:37:31.169Z"
   },
   {
    "duration": 21,
    "start_time": "2022-04-15T17:37:31.184Z"
   },
   {
    "duration": 18,
    "start_time": "2022-04-15T17:37:31.207Z"
   },
   {
    "duration": 30,
    "start_time": "2022-04-15T17:37:31.227Z"
   },
   {
    "duration": 31,
    "start_time": "2022-04-15T17:37:31.258Z"
   },
   {
    "duration": 38,
    "start_time": "2022-04-15T17:37:41.927Z"
   },
   {
    "duration": 32,
    "start_time": "2022-04-15T17:39:01.839Z"
   },
   {
    "duration": 31,
    "start_time": "2022-04-15T17:40:50.828Z"
   },
   {
    "duration": 35,
    "start_time": "2022-04-15T17:42:18.775Z"
   },
   {
    "duration": 106,
    "start_time": "2022-04-15T17:45:55.770Z"
   },
   {
    "duration": 7,
    "start_time": "2022-04-15T17:46:00.893Z"
   },
   {
    "duration": 3,
    "start_time": "2022-04-15T17:46:04.913Z"
   },
   {
    "duration": 12,
    "start_time": "2022-04-15T17:46:04.918Z"
   },
   {
    "duration": 102,
    "start_time": "2022-04-15T17:46:04.932Z"
   },
   {
    "duration": 23,
    "start_time": "2022-04-15T17:46:05.036Z"
   },
   {
    "duration": 29,
    "start_time": "2022-04-15T17:46:05.063Z"
   },
   {
    "duration": 12,
    "start_time": "2022-04-15T17:46:05.094Z"
   },
   {
    "duration": 38,
    "start_time": "2022-04-15T17:46:05.108Z"
   },
   {
    "duration": 4,
    "start_time": "2022-04-15T17:46:05.147Z"
   },
   {
    "duration": 26,
    "start_time": "2022-04-15T17:46:05.153Z"
   },
   {
    "duration": 36,
    "start_time": "2022-04-15T17:46:05.181Z"
   },
   {
    "duration": 23,
    "start_time": "2022-04-15T17:46:05.220Z"
   },
   {
    "duration": 15,
    "start_time": "2022-04-15T17:46:05.274Z"
   },
   {
    "duration": 31,
    "start_time": "2022-04-15T17:46:05.291Z"
   },
   {
    "duration": 6,
    "start_time": "2022-04-15T17:46:05.323Z"
   },
   {
    "duration": 15,
    "start_time": "2022-04-15T17:46:05.330Z"
   },
   {
    "duration": 26,
    "start_time": "2022-04-15T17:46:05.347Z"
   },
   {
    "duration": 37,
    "start_time": "2022-04-15T17:46:05.375Z"
   },
   {
    "duration": 15,
    "start_time": "2022-04-15T17:46:05.414Z"
   },
   {
    "duration": 10,
    "start_time": "2022-04-15T17:46:05.430Z"
   },
   {
    "duration": 19,
    "start_time": "2022-04-15T17:46:05.442Z"
   },
   {
    "duration": 25,
    "start_time": "2022-04-15T17:46:05.463Z"
   },
   {
    "duration": 13,
    "start_time": "2022-04-15T17:46:05.489Z"
   },
   {
    "duration": 33,
    "start_time": "2022-04-15T17:46:05.504Z"
   },
   {
    "duration": 39,
    "start_time": "2022-04-15T17:46:05.538Z"
   },
   {
    "duration": 5,
    "start_time": "2022-04-15T17:46:05.579Z"
   },
   {
    "duration": 116,
    "start_time": "2022-04-15T17:46:18.704Z"
   },
   {
    "duration": 97,
    "start_time": "2022-04-15T17:47:48.321Z"
   },
   {
    "duration": 110,
    "start_time": "2022-04-15T17:48:01.214Z"
   },
   {
    "duration": 12,
    "start_time": "2022-04-15T17:48:37.733Z"
   },
   {
    "duration": 6,
    "start_time": "2022-04-15T17:48:41.114Z"
   },
   {
    "duration": 10,
    "start_time": "2022-04-15T17:49:07.890Z"
   },
   {
    "duration": 9,
    "start_time": "2022-04-15T17:49:30.229Z"
   },
   {
    "duration": 12,
    "start_time": "2022-04-15T17:49:40.607Z"
   },
   {
    "duration": 10,
    "start_time": "2022-04-15T17:49:49.791Z"
   },
   {
    "duration": 13,
    "start_time": "2022-04-15T17:49:56.254Z"
   },
   {
    "duration": 11,
    "start_time": "2022-04-15T17:50:07.456Z"
   },
   {
    "duration": 25,
    "start_time": "2022-04-15T17:50:40.934Z"
   },
   {
    "duration": 135,
    "start_time": "2022-04-15T17:51:10.712Z"
   },
   {
    "duration": 42,
    "start_time": "2022-04-15T22:56:00.869Z"
   },
   {
    "duration": 1215,
    "start_time": "2022-04-15T22:56:05.454Z"
   },
   {
    "duration": 3,
    "start_time": "2022-04-15T22:56:06.671Z"
   },
   {
    "duration": 90,
    "start_time": "2022-04-15T22:56:06.675Z"
   },
   {
    "duration": 19,
    "start_time": "2022-04-15T22:56:06.767Z"
   },
   {
    "duration": 20,
    "start_time": "2022-04-15T22:56:06.788Z"
   },
   {
    "duration": 14,
    "start_time": "2022-04-15T22:56:06.809Z"
   },
   {
    "duration": 22,
    "start_time": "2022-04-15T22:56:06.825Z"
   },
   {
    "duration": 3,
    "start_time": "2022-04-15T22:56:06.849Z"
   },
   {
    "duration": 18,
    "start_time": "2022-04-15T22:56:06.853Z"
   },
   {
    "duration": 54,
    "start_time": "2022-04-15T22:56:06.873Z"
   },
   {
    "duration": 21,
    "start_time": "2022-04-15T22:56:06.929Z"
   },
   {
    "duration": 11,
    "start_time": "2022-04-15T22:56:06.952Z"
   },
   {
    "duration": 23,
    "start_time": "2022-04-15T22:56:06.965Z"
   },
   {
    "duration": 4,
    "start_time": "2022-04-15T22:56:06.990Z"
   },
   {
    "duration": 8,
    "start_time": "2022-04-15T22:56:07.024Z"
   },
   {
    "duration": 5,
    "start_time": "2022-04-15T22:56:07.033Z"
   },
   {
    "duration": 6,
    "start_time": "2022-04-15T22:56:07.040Z"
   },
   {
    "duration": 6,
    "start_time": "2022-04-15T22:56:07.047Z"
   },
   {
    "duration": 6,
    "start_time": "2022-04-15T22:56:07.054Z"
   },
   {
    "duration": 8,
    "start_time": "2022-04-15T22:56:07.061Z"
   },
   {
    "duration": 5,
    "start_time": "2022-04-15T22:56:07.070Z"
   },
   {
    "duration": 7,
    "start_time": "2022-04-15T22:56:07.076Z"
   },
   {
    "duration": 51,
    "start_time": "2022-04-15T22:56:07.085Z"
   },
   {
    "duration": 27,
    "start_time": "2022-04-15T22:56:07.137Z"
   },
   {
    "duration": 8,
    "start_time": "2022-04-15T22:56:07.166Z"
   },
   {
    "duration": 12,
    "start_time": "2022-04-15T22:56:07.175Z"
   },
   {
    "duration": 58,
    "start_time": "2022-04-15T22:56:39.594Z"
   },
   {
    "duration": 5,
    "start_time": "2022-04-15T22:56:47.782Z"
   },
   {
    "duration": 4,
    "start_time": "2022-04-15T23:00:26.520Z"
   },
   {
    "duration": 16,
    "start_time": "2022-04-15T23:00:35.084Z"
   },
   {
    "duration": 11,
    "start_time": "2022-04-15T23:05:39.537Z"
   },
   {
    "duration": 9,
    "start_time": "2022-04-15T23:12:26.798Z"
   },
   {
    "duration": 22,
    "start_time": "2022-04-15T23:13:46.217Z"
   },
   {
    "duration": 843,
    "start_time": "2022-04-15T23:14:13.070Z"
   },
   {
    "duration": 713,
    "start_time": "2022-04-15T23:14:35.212Z"
   },
   {
    "duration": 822,
    "start_time": "2022-04-15T23:15:04.947Z"
   },
   {
    "duration": 820,
    "start_time": "2022-04-15T23:15:57.422Z"
   },
   {
    "duration": 817,
    "start_time": "2022-04-15T23:16:01.233Z"
   },
   {
    "duration": 981,
    "start_time": "2022-04-15T23:16:09.614Z"
   },
   {
    "duration": 812,
    "start_time": "2022-04-15T23:16:13.903Z"
   },
   {
    "duration": 2,
    "start_time": "2022-04-15T23:16:16.520Z"
   },
   {
    "duration": 578,
    "start_time": "2022-04-15T23:16:16.524Z"
   },
   {
    "duration": 86,
    "start_time": "2022-04-15T23:16:17.104Z"
   },
   {
    "duration": 21,
    "start_time": "2022-04-15T23:16:17.192Z"
   },
   {
    "duration": 19,
    "start_time": "2022-04-15T23:16:17.215Z"
   },
   {
    "duration": 15,
    "start_time": "2022-04-15T23:16:17.236Z"
   },
   {
    "duration": 33,
    "start_time": "2022-04-15T23:16:17.253Z"
   },
   {
    "duration": 4,
    "start_time": "2022-04-15T23:16:17.288Z"
   },
   {
    "duration": 47,
    "start_time": "2022-04-15T23:16:17.294Z"
   },
   {
    "duration": 48,
    "start_time": "2022-04-15T23:16:17.343Z"
   },
   {
    "duration": 41,
    "start_time": "2022-04-15T23:16:17.394Z"
   },
   {
    "duration": 13,
    "start_time": "2022-04-15T23:16:17.436Z"
   },
   {
    "duration": 25,
    "start_time": "2022-04-15T23:16:17.451Z"
   },
   {
    "duration": 4,
    "start_time": "2022-04-15T23:16:17.478Z"
   },
   {
    "duration": 8,
    "start_time": "2022-04-15T23:16:17.484Z"
   },
   {
    "duration": 35,
    "start_time": "2022-04-15T23:16:17.493Z"
   },
   {
    "duration": 7,
    "start_time": "2022-04-15T23:16:17.530Z"
   },
   {
    "duration": 5,
    "start_time": "2022-04-15T23:16:17.539Z"
   },
   {
    "duration": 5,
    "start_time": "2022-04-15T23:16:17.546Z"
   },
   {
    "duration": 6,
    "start_time": "2022-04-15T23:16:17.553Z"
   },
   {
    "duration": 6,
    "start_time": "2022-04-15T23:16:17.560Z"
   },
   {
    "duration": 6,
    "start_time": "2022-04-15T23:16:17.567Z"
   },
   {
    "duration": 19,
    "start_time": "2022-04-15T23:16:17.574Z"
   },
   {
    "duration": 28,
    "start_time": "2022-04-15T23:16:17.624Z"
   },
   {
    "duration": 7,
    "start_time": "2022-04-15T23:16:17.653Z"
   },
   {
    "duration": 18,
    "start_time": "2022-04-15T23:16:17.662Z"
   },
   {
    "duration": 918,
    "start_time": "2022-04-15T23:16:17.682Z"
   },
   {
    "duration": 733,
    "start_time": "2022-04-15T23:16:53.702Z"
   },
   {
    "duration": 87,
    "start_time": "2022-04-15T23:18:10.558Z"
   },
   {
    "duration": 714,
    "start_time": "2022-04-15T23:18:21.703Z"
   },
   {
    "duration": 28,
    "start_time": "2022-04-15T23:18:28.805Z"
   },
   {
    "duration": 26,
    "start_time": "2022-04-15T23:18:57.212Z"
   },
   {
    "duration": 33,
    "start_time": "2022-04-15T23:20:21.370Z"
   },
   {
    "duration": 22,
    "start_time": "2022-04-15T23:20:36.301Z"
   },
   {
    "duration": 20,
    "start_time": "2022-04-15T23:20:57.716Z"
   },
   {
    "duration": 32,
    "start_time": "2022-04-15T23:21:15.572Z"
   },
   {
    "duration": 15,
    "start_time": "2022-04-15T23:21:34.951Z"
   },
   {
    "duration": 8,
    "start_time": "2022-04-15T23:23:21.864Z"
   },
   {
    "duration": 3,
    "start_time": "2022-04-15T23:23:54.532Z"
   },
   {
    "duration": 6,
    "start_time": "2022-04-15T23:23:54.536Z"
   },
   {
    "duration": 86,
    "start_time": "2022-04-15T23:23:54.543Z"
   },
   {
    "duration": 19,
    "start_time": "2022-04-15T23:23:54.631Z"
   },
   {
    "duration": 18,
    "start_time": "2022-04-15T23:23:54.651Z"
   },
   {
    "duration": 10,
    "start_time": "2022-04-15T23:23:54.671Z"
   },
   {
    "duration": 21,
    "start_time": "2022-04-15T23:23:54.683Z"
   },
   {
    "duration": 3,
    "start_time": "2022-04-15T23:23:54.724Z"
   },
   {
    "duration": 15,
    "start_time": "2022-04-15T23:23:54.729Z"
   },
   {
    "duration": 29,
    "start_time": "2022-04-15T23:23:54.745Z"
   },
   {
    "duration": 18,
    "start_time": "2022-04-15T23:23:54.776Z"
   },
   {
    "duration": 38,
    "start_time": "2022-04-15T23:23:54.795Z"
   },
   {
    "duration": 24,
    "start_time": "2022-04-15T23:23:54.834Z"
   },
   {
    "duration": 4,
    "start_time": "2022-04-15T23:23:54.860Z"
   },
   {
    "duration": 9,
    "start_time": "2022-04-15T23:23:54.866Z"
   },
   {
    "duration": 5,
    "start_time": "2022-04-15T23:23:54.877Z"
   },
   {
    "duration": 6,
    "start_time": "2022-04-15T23:23:54.884Z"
   },
   {
    "duration": 36,
    "start_time": "2022-04-15T23:23:54.892Z"
   },
   {
    "duration": 4,
    "start_time": "2022-04-15T23:23:54.931Z"
   },
   {
    "duration": 7,
    "start_time": "2022-04-15T23:23:54.937Z"
   },
   {
    "duration": 6,
    "start_time": "2022-04-15T23:23:54.945Z"
   },
   {
    "duration": 6,
    "start_time": "2022-04-15T23:23:54.953Z"
   },
   {
    "duration": 15,
    "start_time": "2022-04-15T23:23:54.960Z"
   },
   {
    "duration": 66,
    "start_time": "2022-04-15T23:23:54.979Z"
   },
   {
    "duration": 8,
    "start_time": "2022-04-15T23:23:55.047Z"
   },
   {
    "duration": 14,
    "start_time": "2022-04-15T23:23:55.057Z"
   },
   {
    "duration": 2123,
    "start_time": "2022-04-15T23:23:55.073Z"
   },
   {
    "duration": 2044,
    "start_time": "2022-04-15T23:25:38.096Z"
   },
   {
    "duration": 2189,
    "start_time": "2022-04-15T23:25:52.073Z"
   },
   {
    "duration": 2,
    "start_time": "2022-04-15T23:26:33.969Z"
   },
   {
    "duration": 4,
    "start_time": "2022-04-15T23:26:33.974Z"
   },
   {
    "duration": 79,
    "start_time": "2022-04-15T23:26:33.980Z"
   },
   {
    "duration": 18,
    "start_time": "2022-04-15T23:26:34.060Z"
   },
   {
    "duration": 15,
    "start_time": "2022-04-15T23:26:34.080Z"
   },
   {
    "duration": 12,
    "start_time": "2022-04-15T23:26:34.097Z"
   },
   {
    "duration": 43,
    "start_time": "2022-04-15T23:26:34.111Z"
   },
   {
    "duration": 33,
    "start_time": "2022-04-15T23:26:34.156Z"
   },
   {
    "duration": 18,
    "start_time": "2022-04-15T23:26:34.190Z"
   },
   {
    "duration": 31,
    "start_time": "2022-04-15T23:26:34.210Z"
   },
   {
    "duration": 20,
    "start_time": "2022-04-15T23:26:34.242Z"
   },
   {
    "duration": 12,
    "start_time": "2022-04-15T23:26:34.263Z"
   },
   {
    "duration": 23,
    "start_time": "2022-04-15T23:26:34.277Z"
   },
   {
    "duration": 4,
    "start_time": "2022-04-15T23:26:34.323Z"
   },
   {
    "duration": 9,
    "start_time": "2022-04-15T23:26:34.328Z"
   },
   {
    "duration": 5,
    "start_time": "2022-04-15T23:26:34.338Z"
   },
   {
    "duration": 6,
    "start_time": "2022-04-15T23:26:34.345Z"
   },
   {
    "duration": 10,
    "start_time": "2022-04-15T23:26:34.352Z"
   },
   {
    "duration": 8,
    "start_time": "2022-04-15T23:26:34.363Z"
   },
   {
    "duration": 9,
    "start_time": "2022-04-15T23:26:34.372Z"
   },
   {
    "duration": 7,
    "start_time": "2022-04-15T23:26:34.382Z"
   },
   {
    "duration": 8,
    "start_time": "2022-04-15T23:26:34.391Z"
   },
   {
    "duration": 32,
    "start_time": "2022-04-15T23:26:34.401Z"
   },
   {
    "duration": 25,
    "start_time": "2022-04-15T23:26:34.434Z"
   },
   {
    "duration": 7,
    "start_time": "2022-04-15T23:26:34.460Z"
   },
   {
    "duration": 16,
    "start_time": "2022-04-15T23:26:34.469Z"
   },
   {
    "duration": 2120,
    "start_time": "2022-04-15T23:26:34.486Z"
   },
   {
    "duration": 2,
    "start_time": "2022-04-15T23:26:54.396Z"
   },
   {
    "duration": 7,
    "start_time": "2022-04-15T23:26:54.400Z"
   },
   {
    "duration": 81,
    "start_time": "2022-04-15T23:26:54.408Z"
   },
   {
    "duration": 18,
    "start_time": "2022-04-15T23:26:54.491Z"
   },
   {
    "duration": 17,
    "start_time": "2022-04-15T23:26:54.511Z"
   },
   {
    "duration": 12,
    "start_time": "2022-04-15T23:26:54.529Z"
   },
   {
    "duration": 24,
    "start_time": "2022-04-15T23:26:54.542Z"
   },
   {
    "duration": 3,
    "start_time": "2022-04-15T23:26:54.567Z"
   },
   {
    "duration": 30,
    "start_time": "2022-04-15T23:26:54.572Z"
   },
   {
    "duration": 45,
    "start_time": "2022-04-15T23:26:54.604Z"
   },
   {
    "duration": 20,
    "start_time": "2022-04-15T23:26:54.650Z"
   },
   {
    "duration": 11,
    "start_time": "2022-04-15T23:26:54.672Z"
   },
   {
    "duration": 49,
    "start_time": "2022-04-15T23:26:54.685Z"
   },
   {
    "duration": 4,
    "start_time": "2022-04-15T23:26:54.735Z"
   },
   {
    "duration": 10,
    "start_time": "2022-04-15T23:26:54.741Z"
   },
   {
    "duration": 6,
    "start_time": "2022-04-15T23:26:54.752Z"
   },
   {
    "duration": 8,
    "start_time": "2022-04-15T23:26:54.760Z"
   },
   {
    "duration": 9,
    "start_time": "2022-04-15T23:26:54.770Z"
   },
   {
    "duration": 6,
    "start_time": "2022-04-15T23:26:54.780Z"
   },
   {
    "duration": 8,
    "start_time": "2022-04-15T23:26:54.787Z"
   },
   {
    "duration": 30,
    "start_time": "2022-04-15T23:26:54.796Z"
   },
   {
    "duration": 8,
    "start_time": "2022-04-15T23:26:54.827Z"
   },
   {
    "duration": 15,
    "start_time": "2022-04-15T23:26:54.837Z"
   },
   {
    "duration": 28,
    "start_time": "2022-04-15T23:26:54.854Z"
   },
   {
    "duration": 7,
    "start_time": "2022-04-15T23:26:54.883Z"
   },
   {
    "duration": 41,
    "start_time": "2022-04-15T23:26:54.892Z"
   },
   {
    "duration": 2277,
    "start_time": "2022-04-15T23:26:54.935Z"
   },
   {
    "duration": 2,
    "start_time": "2022-04-15T23:28:25.712Z"
   },
   {
    "duration": 7,
    "start_time": "2022-04-15T23:28:25.716Z"
   },
   {
    "duration": 4,
    "start_time": "2022-04-15T23:28:25.724Z"
   },
   {
    "duration": 78,
    "start_time": "2022-04-15T23:28:25.730Z"
   },
   {
    "duration": 19,
    "start_time": "2022-04-15T23:28:25.810Z"
   },
   {
    "duration": 17,
    "start_time": "2022-04-15T23:28:25.831Z"
   },
   {
    "duration": 11,
    "start_time": "2022-04-15T23:28:25.850Z"
   },
   {
    "duration": 20,
    "start_time": "2022-04-15T23:28:25.863Z"
   },
   {
    "duration": 4,
    "start_time": "2022-04-15T23:28:25.885Z"
   },
   {
    "duration": 44,
    "start_time": "2022-04-15T23:28:25.890Z"
   },
   {
    "duration": 30,
    "start_time": "2022-04-15T23:28:25.935Z"
   },
   {
    "duration": 17,
    "start_time": "2022-04-15T23:28:25.966Z"
   },
   {
    "duration": 11,
    "start_time": "2022-04-15T23:28:25.985Z"
   },
   {
    "duration": 48,
    "start_time": "2022-04-15T23:28:25.997Z"
   },
   {
    "duration": 5,
    "start_time": "2022-04-15T23:28:26.046Z"
   },
   {
    "duration": 8,
    "start_time": "2022-04-15T23:28:26.052Z"
   },
   {
    "duration": 6,
    "start_time": "2022-04-15T23:28:26.061Z"
   },
   {
    "duration": 8,
    "start_time": "2022-04-15T23:28:26.068Z"
   },
   {
    "duration": 6,
    "start_time": "2022-04-15T23:28:26.077Z"
   },
   {
    "duration": 4,
    "start_time": "2022-04-15T23:28:26.085Z"
   },
   {
    "duration": 5,
    "start_time": "2022-04-15T23:28:26.123Z"
   },
   {
    "duration": 5,
    "start_time": "2022-04-15T23:28:26.129Z"
   },
   {
    "duration": 6,
    "start_time": "2022-04-15T23:28:26.136Z"
   },
   {
    "duration": 15,
    "start_time": "2022-04-15T23:28:26.144Z"
   },
   {
    "duration": 27,
    "start_time": "2022-04-15T23:28:26.160Z"
   },
   {
    "duration": 36,
    "start_time": "2022-04-15T23:28:26.188Z"
   },
   {
    "duration": 14,
    "start_time": "2022-04-15T23:28:26.225Z"
   },
   {
    "duration": 2149,
    "start_time": "2022-04-15T23:28:26.241Z"
   },
   {
    "duration": 135,
    "start_time": "2022-04-15T23:28:38.770Z"
   },
   {
    "duration": 2182,
    "start_time": "2022-04-15T23:28:42.756Z"
   },
   {
    "duration": 152,
    "start_time": "2022-04-15T23:29:45.895Z"
   },
   {
    "duration": 4,
    "start_time": "2022-04-15T23:29:50.465Z"
   },
   {
    "duration": 2118,
    "start_time": "2022-04-15T23:30:12.305Z"
   },
   {
    "duration": 2,
    "start_time": "2022-04-15T23:30:16.799Z"
   },
   {
    "duration": 4,
    "start_time": "2022-04-15T23:30:16.803Z"
   },
   {
    "duration": 6,
    "start_time": "2022-04-15T23:30:16.809Z"
   },
   {
    "duration": 78,
    "start_time": "2022-04-15T23:30:16.816Z"
   },
   {
    "duration": 19,
    "start_time": "2022-04-15T23:30:16.896Z"
   },
   {
    "duration": 16,
    "start_time": "2022-04-15T23:30:16.916Z"
   },
   {
    "duration": 11,
    "start_time": "2022-04-15T23:30:16.933Z"
   },
   {
    "duration": 23,
    "start_time": "2022-04-15T23:30:16.945Z"
   },
   {
    "duration": 3,
    "start_time": "2022-04-15T23:30:16.969Z"
   },
   {
    "duration": 15,
    "start_time": "2022-04-15T23:30:16.973Z"
   },
   {
    "duration": 53,
    "start_time": "2022-04-15T23:30:16.990Z"
   },
   {
    "duration": 20,
    "start_time": "2022-04-15T23:30:17.044Z"
   },
   {
    "duration": 12,
    "start_time": "2022-04-15T23:30:17.065Z"
   },
   {
    "duration": 45,
    "start_time": "2022-04-15T23:30:17.078Z"
   },
   {
    "duration": 4,
    "start_time": "2022-04-15T23:30:17.125Z"
   },
   {
    "duration": 8,
    "start_time": "2022-04-15T23:30:17.131Z"
   },
   {
    "duration": 5,
    "start_time": "2022-04-15T23:30:17.141Z"
   },
   {
    "duration": 7,
    "start_time": "2022-04-15T23:30:17.147Z"
   },
   {
    "duration": 8,
    "start_time": "2022-04-15T23:30:17.156Z"
   },
   {
    "duration": 5,
    "start_time": "2022-04-15T23:30:17.165Z"
   },
   {
    "duration": 13,
    "start_time": "2022-04-15T23:30:17.172Z"
   },
   {
    "duration": 17,
    "start_time": "2022-04-15T23:30:17.186Z"
   },
   {
    "duration": 19,
    "start_time": "2022-04-15T23:30:17.205Z"
   },
   {
    "duration": 15,
    "start_time": "2022-04-15T23:30:17.225Z"
   },
   {
    "duration": 27,
    "start_time": "2022-04-15T23:30:17.241Z"
   },
   {
    "duration": 8,
    "start_time": "2022-04-15T23:30:17.269Z"
   },
   {
    "duration": 15,
    "start_time": "2022-04-15T23:30:17.278Z"
   },
   {
    "duration": 2282,
    "start_time": "2022-04-15T23:30:17.323Z"
   },
   {
    "duration": 2194,
    "start_time": "2022-04-15T23:32:22.856Z"
   },
   {
    "duration": 3,
    "start_time": "2022-04-15T23:32:42.543Z"
   },
   {
    "duration": 10,
    "start_time": "2022-04-15T23:32:42.548Z"
   },
   {
    "duration": 75,
    "start_time": "2022-04-15T23:32:42.560Z"
   },
   {
    "duration": 21,
    "start_time": "2022-04-15T23:32:42.637Z"
   },
   {
    "duration": 16,
    "start_time": "2022-04-15T23:32:42.660Z"
   },
   {
    "duration": 11,
    "start_time": "2022-04-15T23:32:42.678Z"
   },
   {
    "duration": 42,
    "start_time": "2022-04-15T23:32:42.690Z"
   },
   {
    "duration": 5,
    "start_time": "2022-04-15T23:32:42.734Z"
   },
   {
    "duration": 17,
    "start_time": "2022-04-15T23:32:42.741Z"
   },
   {
    "duration": 30,
    "start_time": "2022-04-15T23:32:42.760Z"
   },
   {
    "duration": 48,
    "start_time": "2022-04-15T23:32:42.792Z"
   },
   {
    "duration": 13,
    "start_time": "2022-04-15T23:32:42.841Z"
   },
   {
    "duration": 27,
    "start_time": "2022-04-15T23:32:42.855Z"
   },
   {
    "duration": 5,
    "start_time": "2022-04-15T23:32:42.883Z"
   },
   {
    "duration": 34,
    "start_time": "2022-04-15T23:32:42.889Z"
   },
   {
    "duration": 5,
    "start_time": "2022-04-15T23:32:42.925Z"
   },
   {
    "duration": 9,
    "start_time": "2022-04-15T23:32:42.932Z"
   },
   {
    "duration": 6,
    "start_time": "2022-04-15T23:32:42.943Z"
   },
   {
    "duration": 6,
    "start_time": "2022-04-15T23:32:42.951Z"
   },
   {
    "duration": 7,
    "start_time": "2022-04-15T23:32:42.959Z"
   },
   {
    "duration": 6,
    "start_time": "2022-04-15T23:32:42.967Z"
   },
   {
    "duration": 6,
    "start_time": "2022-04-15T23:32:42.974Z"
   },
   {
    "duration": 45,
    "start_time": "2022-04-15T23:32:42.982Z"
   },
   {
    "duration": 28,
    "start_time": "2022-04-15T23:32:43.030Z"
   },
   {
    "duration": 8,
    "start_time": "2022-04-15T23:32:43.059Z"
   },
   {
    "duration": 21,
    "start_time": "2022-04-15T23:32:43.069Z"
   },
   {
    "duration": 2119,
    "start_time": "2022-04-15T23:32:43.092Z"
   },
   {
    "duration": 2173,
    "start_time": "2022-04-15T23:32:52.820Z"
   },
   {
    "duration": 35,
    "start_time": "2022-04-15T23:33:01.234Z"
   },
   {
    "duration": 38,
    "start_time": "2022-04-15T23:33:17.656Z"
   },
   {
    "duration": 39,
    "start_time": "2022-04-15T23:33:25.315Z"
   },
   {
    "duration": 3,
    "start_time": "2022-04-15T23:33:29.095Z"
   },
   {
    "duration": 6,
    "start_time": "2022-04-15T23:33:29.099Z"
   },
   {
    "duration": 84,
    "start_time": "2022-04-15T23:33:29.106Z"
   },
   {
    "duration": 18,
    "start_time": "2022-04-15T23:33:29.192Z"
   },
   {
    "duration": 17,
    "start_time": "2022-04-15T23:33:29.212Z"
   },
   {
    "duration": 11,
    "start_time": "2022-04-15T23:33:29.230Z"
   },
   {
    "duration": 21,
    "start_time": "2022-04-15T23:33:29.243Z"
   },
   {
    "duration": 4,
    "start_time": "2022-04-15T23:33:29.266Z"
   },
   {
    "duration": 15,
    "start_time": "2022-04-15T23:33:29.272Z"
   },
   {
    "duration": 62,
    "start_time": "2022-04-15T23:33:29.291Z"
   },
   {
    "duration": 21,
    "start_time": "2022-04-15T23:33:29.355Z"
   },
   {
    "duration": 13,
    "start_time": "2022-04-15T23:33:29.378Z"
   },
   {
    "duration": 55,
    "start_time": "2022-04-15T23:33:29.393Z"
   },
   {
    "duration": 5,
    "start_time": "2022-04-15T23:33:29.450Z"
   },
   {
    "duration": 8,
    "start_time": "2022-04-15T23:33:29.457Z"
   },
   {
    "duration": 6,
    "start_time": "2022-04-15T23:33:29.467Z"
   },
   {
    "duration": 9,
    "start_time": "2022-04-15T23:33:29.474Z"
   },
   {
    "duration": 40,
    "start_time": "2022-04-15T23:33:29.485Z"
   },
   {
    "duration": 5,
    "start_time": "2022-04-15T23:33:29.527Z"
   },
   {
    "duration": 6,
    "start_time": "2022-04-15T23:33:29.534Z"
   },
   {
    "duration": 6,
    "start_time": "2022-04-15T23:33:29.542Z"
   },
   {
    "duration": 5,
    "start_time": "2022-04-15T23:33:29.549Z"
   },
   {
    "duration": 16,
    "start_time": "2022-04-15T23:33:29.556Z"
   },
   {
    "duration": 63,
    "start_time": "2022-04-15T23:33:29.573Z"
   },
   {
    "duration": 9,
    "start_time": "2022-04-15T23:33:29.638Z"
   },
   {
    "duration": 16,
    "start_time": "2022-04-15T23:33:29.648Z"
   },
   {
    "duration": 2284,
    "start_time": "2022-04-15T23:33:29.666Z"
   },
   {
    "duration": 52,
    "start_time": "2022-04-15T23:34:00.597Z"
   },
   {
    "duration": 3,
    "start_time": "2022-04-15T23:35:21.850Z"
   },
   {
    "duration": 5,
    "start_time": "2022-04-15T23:35:21.855Z"
   },
   {
    "duration": 81,
    "start_time": "2022-04-15T23:35:21.862Z"
   },
   {
    "duration": 20,
    "start_time": "2022-04-15T23:35:21.945Z"
   },
   {
    "duration": 16,
    "start_time": "2022-04-15T23:35:21.967Z"
   },
   {
    "duration": 10,
    "start_time": "2022-04-15T23:35:21.984Z"
   },
   {
    "duration": 25,
    "start_time": "2022-04-15T23:35:21.996Z"
   },
   {
    "duration": 3,
    "start_time": "2022-04-15T23:35:22.023Z"
   },
   {
    "duration": 16,
    "start_time": "2022-04-15T23:35:22.028Z"
   },
   {
    "duration": 33,
    "start_time": "2022-04-15T23:35:22.046Z"
   },
   {
    "duration": 51,
    "start_time": "2022-04-15T23:35:22.081Z"
   },
   {
    "duration": 15,
    "start_time": "2022-04-15T23:35:22.134Z"
   },
   {
    "duration": 27,
    "start_time": "2022-04-15T23:35:22.151Z"
   },
   {
    "duration": 5,
    "start_time": "2022-04-15T23:35:22.181Z"
   },
   {
    "duration": 39,
    "start_time": "2022-04-15T23:35:22.188Z"
   },
   {
    "duration": 7,
    "start_time": "2022-04-15T23:35:22.229Z"
   },
   {
    "duration": 9,
    "start_time": "2022-04-15T23:35:22.237Z"
   },
   {
    "duration": 10,
    "start_time": "2022-04-15T23:35:22.248Z"
   },
   {
    "duration": 4,
    "start_time": "2022-04-15T23:35:22.260Z"
   },
   {
    "duration": 6,
    "start_time": "2022-04-15T23:35:22.266Z"
   },
   {
    "duration": 4,
    "start_time": "2022-04-15T23:35:22.274Z"
   },
   {
    "duration": 7,
    "start_time": "2022-04-15T23:35:22.280Z"
   },
   {
    "duration": 45,
    "start_time": "2022-04-15T23:35:22.288Z"
   },
   {
    "duration": 32,
    "start_time": "2022-04-15T23:35:22.334Z"
   },
   {
    "duration": 8,
    "start_time": "2022-04-15T23:35:22.368Z"
   },
   {
    "duration": 47,
    "start_time": "2022-04-15T23:35:22.378Z"
   },
   {
    "duration": 38,
    "start_time": "2022-04-15T23:35:22.427Z"
   },
   {
    "duration": 50,
    "start_time": "2022-04-15T23:35:38.903Z"
   },
   {
    "duration": 31,
    "start_time": "2022-04-15T23:38:19.501Z"
   },
   {
    "duration": 31,
    "start_time": "2022-04-15T23:38:52.714Z"
   },
   {
    "duration": 7,
    "start_time": "2022-04-15T23:40:26.650Z"
   },
   {
    "duration": 4,
    "start_time": "2022-04-15T23:41:32.390Z"
   },
   {
    "duration": 9,
    "start_time": "2022-04-15T23:42:01.795Z"
   },
   {
    "duration": 9,
    "start_time": "2022-04-15T23:42:05.740Z"
   },
   {
    "duration": 4,
    "start_time": "2022-04-15T23:42:49.344Z"
   },
   {
    "duration": 5,
    "start_time": "2022-04-15T23:44:15.797Z"
   },
   {
    "duration": 1736,
    "start_time": "2022-04-16T10:30:45.227Z"
   },
   {
    "duration": 5,
    "start_time": "2022-04-16T10:30:46.966Z"
   },
   {
    "duration": 136,
    "start_time": "2022-04-16T10:30:46.974Z"
   },
   {
    "duration": 32,
    "start_time": "2022-04-16T10:30:47.113Z"
   },
   {
    "duration": 40,
    "start_time": "2022-04-16T10:30:47.147Z"
   },
   {
    "duration": 18,
    "start_time": "2022-04-16T10:30:47.189Z"
   },
   {
    "duration": 49,
    "start_time": "2022-04-16T10:30:47.209Z"
   },
   {
    "duration": 5,
    "start_time": "2022-04-16T10:30:47.261Z"
   },
   {
    "duration": 58,
    "start_time": "2022-04-16T10:30:47.268Z"
   },
   {
    "duration": 54,
    "start_time": "2022-04-16T10:30:47.330Z"
   },
   {
    "duration": 31,
    "start_time": "2022-04-16T10:30:47.386Z"
   },
   {
    "duration": 40,
    "start_time": "2022-04-16T10:30:47.419Z"
   },
   {
    "duration": 39,
    "start_time": "2022-04-16T10:30:47.460Z"
   },
   {
    "duration": 6,
    "start_time": "2022-04-16T10:30:47.501Z"
   },
   {
    "duration": 43,
    "start_time": "2022-04-16T10:30:47.509Z"
   },
   {
    "duration": 8,
    "start_time": "2022-04-16T10:30:47.554Z"
   },
   {
    "duration": 20,
    "start_time": "2022-04-16T10:30:47.564Z"
   },
   {
    "duration": 27,
    "start_time": "2022-04-16T10:30:47.586Z"
   },
   {
    "duration": 17,
    "start_time": "2022-04-16T10:30:47.615Z"
   },
   {
    "duration": 25,
    "start_time": "2022-04-16T10:30:47.634Z"
   },
   {
    "duration": 15,
    "start_time": "2022-04-16T10:30:47.661Z"
   },
   {
    "duration": 18,
    "start_time": "2022-04-16T10:30:47.678Z"
   },
   {
    "duration": 35,
    "start_time": "2022-04-16T10:30:47.698Z"
   },
   {
    "duration": 45,
    "start_time": "2022-04-16T10:30:47.735Z"
   },
   {
    "duration": 11,
    "start_time": "2022-04-16T10:30:47.782Z"
   },
   {
    "duration": 57,
    "start_time": "2022-04-16T10:30:47.795Z"
   },
   {
    "duration": 98,
    "start_time": "2022-04-16T10:30:47.854Z"
   },
   {
    "duration": 50,
    "start_time": "2022-04-16T10:30:47.956Z"
   },
   {
    "duration": 6,
    "start_time": "2022-04-16T10:30:48.008Z"
   },
   {
    "duration": 235,
    "start_time": "2022-04-16T10:32:20.776Z"
   },
   {
    "duration": 189,
    "start_time": "2022-04-16T10:32:48.809Z"
   },
   {
    "duration": 199,
    "start_time": "2022-04-16T10:32:51.416Z"
   },
   {
    "duration": 193,
    "start_time": "2022-04-16T10:33:13.569Z"
   },
   {
    "duration": 209,
    "start_time": "2022-04-16T10:33:17.387Z"
   },
   {
    "duration": 17,
    "start_time": "2022-04-16T10:41:23.215Z"
   },
   {
    "duration": 102,
    "start_time": "2022-04-16T10:41:43.589Z"
   },
   {
    "duration": 152,
    "start_time": "2022-04-16T10:41:48.047Z"
   },
   {
    "duration": 24,
    "start_time": "2022-04-16T10:44:09.070Z"
   },
   {
    "duration": 6,
    "start_time": "2022-04-16T10:44:18.641Z"
   },
   {
    "duration": 7,
    "start_time": "2022-04-16T10:45:53.717Z"
   },
   {
    "duration": 7,
    "start_time": "2022-04-16T10:46:02.886Z"
   },
   {
    "duration": 6,
    "start_time": "2022-04-16T10:47:59.696Z"
   },
   {
    "duration": 30,
    "start_time": "2022-04-16T10:48:52.839Z"
   },
   {
    "duration": 85,
    "start_time": "2022-04-16T10:50:40.007Z"
   },
   {
    "duration": 1528,
    "start_time": "2022-04-16T10:51:20.416Z"
   },
   {
    "duration": 218,
    "start_time": "2022-04-16T10:51:32.297Z"
   },
   {
    "duration": 225,
    "start_time": "2022-04-16T10:51:39.217Z"
   },
   {
    "duration": 241,
    "start_time": "2022-04-16T10:51:42.329Z"
   },
   {
    "duration": 1647,
    "start_time": "2022-04-16T10:52:12.483Z"
   },
   {
    "duration": 1745,
    "start_time": "2022-04-16T10:52:51.805Z"
   },
   {
    "duration": 4,
    "start_time": "2022-04-16T10:53:00.139Z"
   },
   {
    "duration": 7,
    "start_time": "2022-04-16T10:53:00.146Z"
   },
   {
    "duration": 134,
    "start_time": "2022-04-16T10:53:00.155Z"
   },
   {
    "duration": 31,
    "start_time": "2022-04-16T10:53:00.291Z"
   },
   {
    "duration": 47,
    "start_time": "2022-04-16T10:53:00.323Z"
   },
   {
    "duration": 21,
    "start_time": "2022-04-16T10:53:00.372Z"
   },
   {
    "duration": 56,
    "start_time": "2022-04-16T10:53:00.396Z"
   },
   {
    "duration": 6,
    "start_time": "2022-04-16T10:53:00.454Z"
   },
   {
    "duration": 37,
    "start_time": "2022-04-16T10:53:00.467Z"
   },
   {
    "duration": 72,
    "start_time": "2022-04-16T10:53:00.507Z"
   },
   {
    "duration": 31,
    "start_time": "2022-04-16T10:53:00.582Z"
   },
   {
    "duration": 48,
    "start_time": "2022-04-16T10:53:00.615Z"
   },
   {
    "duration": 39,
    "start_time": "2022-04-16T10:53:00.665Z"
   },
   {
    "duration": 6,
    "start_time": "2022-04-16T10:53:00.706Z"
   },
   {
    "duration": 39,
    "start_time": "2022-04-16T10:53:00.714Z"
   },
   {
    "duration": 23,
    "start_time": "2022-04-16T10:53:00.756Z"
   },
   {
    "duration": 31,
    "start_time": "2022-04-16T10:53:00.781Z"
   },
   {
    "duration": 35,
    "start_time": "2022-04-16T10:53:00.815Z"
   },
   {
    "duration": 14,
    "start_time": "2022-04-16T10:53:00.853Z"
   },
   {
    "duration": 28,
    "start_time": "2022-04-16T10:53:00.869Z"
   },
   {
    "duration": 30,
    "start_time": "2022-04-16T10:53:00.899Z"
   },
   {
    "duration": 17,
    "start_time": "2022-04-16T10:53:00.931Z"
   },
   {
    "duration": 49,
    "start_time": "2022-04-16T10:53:00.950Z"
   },
   {
    "duration": 47,
    "start_time": "2022-04-16T10:53:01.003Z"
   },
   {
    "duration": 12,
    "start_time": "2022-04-16T10:53:01.052Z"
   },
   {
    "duration": 41,
    "start_time": "2022-04-16T10:53:01.066Z"
   },
   {
    "duration": 191,
    "start_time": "2022-04-16T10:53:01.109Z"
   },
   {
    "duration": 61,
    "start_time": "2022-04-16T10:53:01.302Z"
   },
   {
    "duration": 226,
    "start_time": "2022-04-16T10:53:01.365Z"
   },
   {
    "duration": 7,
    "start_time": "2022-04-16T10:53:01.594Z"
   },
   {
    "duration": 1416,
    "start_time": "2022-04-16T10:53:01.603Z"
   },
   {
    "duration": 284,
    "start_time": "2022-04-16T10:53:08.815Z"
   },
   {
    "duration": 1398,
    "start_time": "2022-04-16T10:53:27.304Z"
   },
   {
    "duration": 31,
    "start_time": "2022-04-16T10:53:43.729Z"
   },
   {
    "duration": 23,
    "start_time": "2022-04-16T10:56:33.875Z"
   },
   {
    "duration": 33,
    "start_time": "2022-04-16T10:56:41.234Z"
   },
   {
    "duration": 25,
    "start_time": "2022-04-16T10:56:58.709Z"
   },
   {
    "duration": 18,
    "start_time": "2022-04-16T10:57:01.482Z"
   },
   {
    "duration": 1514,
    "start_time": "2022-04-16T10:59:53.462Z"
   },
   {
    "duration": 1448,
    "start_time": "2022-04-16T11:02:21.271Z"
   },
   {
    "duration": 25,
    "start_time": "2022-04-16T11:02:38.360Z"
   },
   {
    "duration": 260,
    "start_time": "2022-04-16T11:04:26.735Z"
   },
   {
    "duration": 262,
    "start_time": "2022-04-16T11:04:46.257Z"
   },
   {
    "duration": 254,
    "start_time": "2022-04-16T11:05:33.315Z"
   },
   {
    "duration": 9,
    "start_time": "2022-04-16T11:08:28.381Z"
   },
   {
    "duration": 25,
    "start_time": "2022-04-16T11:08:39.805Z"
   },
   {
    "duration": 238,
    "start_time": "2022-04-16T11:10:00.303Z"
   },
   {
    "duration": 436,
    "start_time": "2022-04-16T11:10:15.020Z"
   },
   {
    "duration": 4,
    "start_time": "2022-04-16T12:03:59.833Z"
   },
   {
    "duration": 4,
    "start_time": "2022-04-16T12:03:59.849Z"
   },
   {
    "duration": 117,
    "start_time": "2022-04-16T12:03:59.856Z"
   },
   {
    "duration": 31,
    "start_time": "2022-04-16T12:03:59.975Z"
   },
   {
    "duration": 44,
    "start_time": "2022-04-16T12:04:00.011Z"
   },
   {
    "duration": 19,
    "start_time": "2022-04-16T12:04:00.057Z"
   },
   {
    "duration": 36,
    "start_time": "2022-04-16T12:04:00.078Z"
   },
   {
    "duration": 5,
    "start_time": "2022-04-16T12:04:00.116Z"
   },
   {
    "duration": 24,
    "start_time": "2022-04-16T12:04:00.152Z"
   },
   {
    "duration": 74,
    "start_time": "2022-04-16T12:04:00.180Z"
   },
   {
    "duration": 31,
    "start_time": "2022-04-16T12:04:00.257Z"
   },
   {
    "duration": 19,
    "start_time": "2022-04-16T12:04:00.290Z"
   },
   {
    "duration": 76,
    "start_time": "2022-04-16T12:04:00.311Z"
   },
   {
    "duration": 7,
    "start_time": "2022-04-16T12:04:00.389Z"
   },
   {
    "duration": 30,
    "start_time": "2022-04-16T12:04:00.398Z"
   },
   {
    "duration": 28,
    "start_time": "2022-04-16T12:04:00.431Z"
   },
   {
    "duration": 21,
    "start_time": "2022-04-16T12:04:00.462Z"
   },
   {
    "duration": 18,
    "start_time": "2022-04-16T12:04:00.485Z"
   },
   {
    "duration": 22,
    "start_time": "2022-04-16T12:04:00.505Z"
   },
   {
    "duration": 16,
    "start_time": "2022-04-16T12:04:00.530Z"
   },
   {
    "duration": 18,
    "start_time": "2022-04-16T12:04:00.548Z"
   },
   {
    "duration": 25,
    "start_time": "2022-04-16T12:04:00.569Z"
   },
   {
    "duration": 40,
    "start_time": "2022-04-16T12:04:00.596Z"
   },
   {
    "duration": 46,
    "start_time": "2022-04-16T12:04:00.638Z"
   },
   {
    "duration": 17,
    "start_time": "2022-04-16T12:04:00.688Z"
   },
   {
    "duration": 47,
    "start_time": "2022-04-16T12:04:00.707Z"
   },
   {
    "duration": 203,
    "start_time": "2022-04-16T12:04:00.756Z"
   },
   {
    "duration": 50,
    "start_time": "2022-04-16T12:04:00.961Z"
   },
   {
    "duration": 233,
    "start_time": "2022-04-16T12:04:01.013Z"
   },
   {
    "duration": 7,
    "start_time": "2022-04-16T12:04:01.251Z"
   },
   {
    "duration": 272,
    "start_time": "2022-04-16T12:04:01.261Z"
   },
   {
    "duration": 463,
    "start_time": "2022-04-16T12:04:01.535Z"
   },
   {
    "duration": 422,
    "start_time": "2022-04-16T12:04:42.572Z"
   },
   {
    "duration": 14,
    "start_time": "2022-04-16T12:07:18.637Z"
   },
   {
    "duration": 14,
    "start_time": "2022-04-16T12:07:36.193Z"
   },
   {
    "duration": 11,
    "start_time": "2022-04-16T12:10:30.591Z"
   },
   {
    "duration": 12,
    "start_time": "2022-04-16T12:10:45.233Z"
   },
   {
    "duration": 4,
    "start_time": "2022-04-16T12:12:05.947Z"
   },
   {
    "duration": 19,
    "start_time": "2022-04-16T12:12:05.954Z"
   },
   {
    "duration": 111,
    "start_time": "2022-04-16T12:12:05.994Z"
   },
   {
    "duration": 45,
    "start_time": "2022-04-16T12:12:06.108Z"
   },
   {
    "duration": 29,
    "start_time": "2022-04-16T12:12:06.156Z"
   },
   {
    "duration": 28,
    "start_time": "2022-04-16T12:12:06.187Z"
   },
   {
    "duration": 74,
    "start_time": "2022-04-16T12:12:06.220Z"
   },
   {
    "duration": 6,
    "start_time": "2022-04-16T12:12:06.297Z"
   },
   {
    "duration": 49,
    "start_time": "2022-04-16T12:12:06.306Z"
   },
   {
    "duration": 103,
    "start_time": "2022-04-16T12:12:06.358Z"
   },
   {
    "duration": 47,
    "start_time": "2022-04-16T12:12:06.464Z"
   },
   {
    "duration": 53,
    "start_time": "2022-04-16T12:12:06.513Z"
   },
   {
    "duration": 42,
    "start_time": "2022-04-16T12:12:06.568Z"
   },
   {
    "duration": 10,
    "start_time": "2022-04-16T12:12:06.613Z"
   },
   {
    "duration": 15,
    "start_time": "2022-04-16T12:12:06.653Z"
   },
   {
    "duration": 18,
    "start_time": "2022-04-16T12:12:06.675Z"
   },
   {
    "duration": 21,
    "start_time": "2022-04-16T12:12:06.696Z"
   },
   {
    "duration": 38,
    "start_time": "2022-04-16T12:12:06.720Z"
   },
   {
    "duration": 8,
    "start_time": "2022-04-16T12:12:06.761Z"
   },
   {
    "duration": 19,
    "start_time": "2022-04-16T12:12:06.771Z"
   },
   {
    "duration": 10,
    "start_time": "2022-04-16T12:12:06.792Z"
   },
   {
    "duration": 10,
    "start_time": "2022-04-16T12:12:06.804Z"
   },
   {
    "duration": 57,
    "start_time": "2022-04-16T12:12:06.817Z"
   },
   {
    "duration": 51,
    "start_time": "2022-04-16T12:12:06.877Z"
   },
   {
    "duration": 13,
    "start_time": "2022-04-16T12:12:06.954Z"
   },
   {
    "duration": 29,
    "start_time": "2022-04-16T12:12:06.971Z"
   },
   {
    "duration": 125,
    "start_time": "2022-04-16T12:12:07.002Z"
   },
   {
    "duration": 73,
    "start_time": "2022-04-16T12:12:07.130Z"
   },
   {
    "duration": 235,
    "start_time": "2022-04-16T12:12:07.205Z"
   },
   {
    "duration": 12,
    "start_time": "2022-04-16T12:12:07.443Z"
   },
   {
    "duration": 273,
    "start_time": "2022-04-16T12:12:07.457Z"
   },
   {
    "duration": 446,
    "start_time": "2022-04-16T12:12:07.732Z"
   },
   {
    "duration": 11,
    "start_time": "2022-04-16T12:12:08.181Z"
   },
   {
    "duration": 21,
    "start_time": "2022-04-16T12:12:15.873Z"
   },
   {
    "duration": 30,
    "start_time": "2022-04-16T12:12:23.575Z"
   },
   {
    "duration": 29,
    "start_time": "2022-04-16T12:14:08.031Z"
   },
   {
    "duration": 27,
    "start_time": "2022-04-16T12:16:24.038Z"
   },
   {
    "duration": 29,
    "start_time": "2022-04-16T12:17:36.569Z"
   },
   {
    "duration": 4,
    "start_time": "2022-04-16T12:18:58.159Z"
   },
   {
    "duration": 12,
    "start_time": "2022-04-16T12:18:58.166Z"
   },
   {
    "duration": 122,
    "start_time": "2022-04-16T12:18:58.180Z"
   },
   {
    "duration": 29,
    "start_time": "2022-04-16T12:18:58.305Z"
   },
   {
    "duration": 36,
    "start_time": "2022-04-16T12:18:58.337Z"
   },
   {
    "duration": 31,
    "start_time": "2022-04-16T12:18:58.375Z"
   },
   {
    "duration": 44,
    "start_time": "2022-04-16T12:18:58.408Z"
   },
   {
    "duration": 5,
    "start_time": "2022-04-16T12:18:58.455Z"
   },
   {
    "duration": 38,
    "start_time": "2022-04-16T12:18:58.463Z"
   },
   {
    "duration": 76,
    "start_time": "2022-04-16T12:18:58.503Z"
   },
   {
    "duration": 30,
    "start_time": "2022-04-16T12:18:58.581Z"
   },
   {
    "duration": 43,
    "start_time": "2022-04-16T12:18:58.613Z"
   },
   {
    "duration": 41,
    "start_time": "2022-04-16T12:18:58.698Z"
   },
   {
    "duration": 7,
    "start_time": "2022-04-16T12:18:58.742Z"
   },
   {
    "duration": 49,
    "start_time": "2022-04-16T12:18:58.751Z"
   },
   {
    "duration": 22,
    "start_time": "2022-04-16T12:18:58.802Z"
   },
   {
    "duration": 28,
    "start_time": "2022-04-16T12:18:58.828Z"
   },
   {
    "duration": 20,
    "start_time": "2022-04-16T12:18:58.858Z"
   },
   {
    "duration": 31,
    "start_time": "2022-04-16T12:18:58.880Z"
   },
   {
    "duration": 27,
    "start_time": "2022-04-16T12:18:58.913Z"
   },
   {
    "duration": 25,
    "start_time": "2022-04-16T12:18:58.942Z"
   },
   {
    "duration": 30,
    "start_time": "2022-04-16T12:18:58.969Z"
   },
   {
    "duration": 35,
    "start_time": "2022-04-16T12:18:59.001Z"
   },
   {
    "duration": 44,
    "start_time": "2022-04-16T12:18:59.039Z"
   },
   {
    "duration": 15,
    "start_time": "2022-04-16T12:18:59.085Z"
   },
   {
    "duration": 47,
    "start_time": "2022-04-16T12:18:59.104Z"
   },
   {
    "duration": 99,
    "start_time": "2022-04-16T12:18:59.153Z"
   },
   {
    "duration": 75,
    "start_time": "2022-04-16T12:18:59.254Z"
   },
   {
    "duration": 204,
    "start_time": "2022-04-16T12:18:59.331Z"
   },
   {
    "duration": 16,
    "start_time": "2022-04-16T12:18:59.537Z"
   },
   {
    "duration": 266,
    "start_time": "2022-04-16T12:18:59.555Z"
   },
   {
    "duration": 460,
    "start_time": "2022-04-16T12:18:59.823Z"
   },
   {
    "duration": 529,
    "start_time": "2022-04-16T12:19:00.286Z"
   },
   {
    "duration": 898,
    "start_time": "2022-04-16T12:19:57.503Z"
   },
   {
    "duration": 877,
    "start_time": "2022-04-16T12:22:33.114Z"
   },
   {
    "duration": 1032,
    "start_time": "2022-04-16T12:22:36.634Z"
   },
   {
    "duration": 24,
    "start_time": "2022-04-16T12:28:32.290Z"
   },
   {
    "duration": 37,
    "start_time": "2022-04-16T12:28:57.617Z"
   },
   {
    "duration": 37,
    "start_time": "2022-04-16T12:29:29.448Z"
   },
   {
    "duration": 58,
    "start_time": "2022-04-16T12:29:41.013Z"
   },
   {
    "duration": 61,
    "start_time": "2022-04-16T12:31:28.363Z"
   },
   {
    "duration": 707,
    "start_time": "2022-04-16T12:31:38.925Z"
   },
   {
    "duration": 682,
    "start_time": "2022-04-16T12:32:07.358Z"
   },
   {
    "duration": 561,
    "start_time": "2022-04-16T12:33:34.115Z"
   },
   {
    "duration": 592,
    "start_time": "2022-04-16T12:33:42.832Z"
   },
   {
    "duration": 607,
    "start_time": "2022-04-16T12:34:21.086Z"
   },
   {
    "duration": 629,
    "start_time": "2022-04-16T12:35:11.575Z"
   },
   {
    "duration": 51,
    "start_time": "2022-04-16T12:37:16.577Z"
   },
   {
    "duration": 50,
    "start_time": "2022-04-16T12:37:28.945Z"
   },
   {
    "duration": 99,
    "start_time": "2022-04-16T12:37:46.206Z"
   },
   {
    "duration": 609,
    "start_time": "2022-04-16T12:37:50.892Z"
   },
   {
    "duration": 401,
    "start_time": "2022-04-16T12:44:05.567Z"
   },
   {
    "duration": 1356,
    "start_time": "2022-04-21T19:54:25.449Z"
   },
   {
    "duration": 3,
    "start_time": "2022-04-21T19:54:26.807Z"
   },
   {
    "duration": 460,
    "start_time": "2022-04-21T19:54:26.811Z"
   },
   {
    "duration": 24,
    "start_time": "2022-04-21T19:54:27.273Z"
   },
   {
    "duration": 22,
    "start_time": "2022-04-21T19:54:27.299Z"
   },
   {
    "duration": 12,
    "start_time": "2022-04-21T19:54:27.323Z"
   },
   {
    "duration": 25,
    "start_time": "2022-04-21T19:54:27.336Z"
   },
   {
    "duration": 4,
    "start_time": "2022-04-21T19:54:27.362Z"
   },
   {
    "duration": 17,
    "start_time": "2022-04-21T19:54:27.367Z"
   },
   {
    "duration": 58,
    "start_time": "2022-04-21T19:54:27.387Z"
   },
   {
    "duration": 18,
    "start_time": "2022-04-21T19:54:27.447Z"
   },
   {
    "duration": 12,
    "start_time": "2022-04-21T19:54:27.467Z"
   },
   {
    "duration": 50,
    "start_time": "2022-04-21T19:54:27.480Z"
   },
   {
    "duration": 5,
    "start_time": "2022-04-21T19:54:27.532Z"
   },
   {
    "duration": 9,
    "start_time": "2022-04-21T19:54:27.539Z"
   },
   {
    "duration": 7,
    "start_time": "2022-04-21T19:54:27.550Z"
   },
   {
    "duration": 8,
    "start_time": "2022-04-21T19:54:27.558Z"
   },
   {
    "duration": 7,
    "start_time": "2022-04-21T19:54:27.567Z"
   },
   {
    "duration": 4,
    "start_time": "2022-04-21T19:54:27.577Z"
   },
   {
    "duration": 41,
    "start_time": "2022-04-21T19:54:27.583Z"
   },
   {
    "duration": 8,
    "start_time": "2022-04-21T19:54:27.625Z"
   },
   {
    "duration": 6,
    "start_time": "2022-04-21T19:54:27.634Z"
   },
   {
    "duration": 19,
    "start_time": "2022-04-21T19:54:27.642Z"
   },
   {
    "duration": 30,
    "start_time": "2022-04-21T19:54:27.662Z"
   },
   {
    "duration": 8,
    "start_time": "2022-04-21T19:54:27.723Z"
   },
   {
    "duration": 17,
    "start_time": "2022-04-21T19:54:27.733Z"
   },
   {
    "duration": 72,
    "start_time": "2022-04-21T19:54:27.752Z"
   },
   {
    "duration": 33,
    "start_time": "2022-04-21T19:54:27.827Z"
   },
   {
    "duration": 154,
    "start_time": "2022-04-21T19:54:27.862Z"
   },
   {
    "duration": 5,
    "start_time": "2022-04-21T19:54:28.023Z"
   },
   {
    "duration": 161,
    "start_time": "2022-04-21T19:54:28.030Z"
   },
   {
    "duration": 273,
    "start_time": "2022-04-21T19:54:28.193Z"
   },
   {
    "duration": 542,
    "start_time": "2022-04-21T19:54:28.467Z"
   },
   {
    "duration": 501,
    "start_time": "2022-04-21T19:54:29.011Z"
   },
   {
    "duration": 5,
    "start_time": "2022-04-21T19:56:55.216Z"
   },
   {
    "duration": 287,
    "start_time": "2022-04-21T19:57:33.456Z"
   },
   {
    "duration": 545,
    "start_time": "2022-04-21T19:58:49.597Z"
   },
   {
    "duration": 275,
    "start_time": "2022-04-21T19:58:55.507Z"
   },
   {
    "duration": 1063,
    "start_time": "2022-04-21T20:00:29.325Z"
   },
   {
    "duration": 621,
    "start_time": "2022-04-21T20:00:38.587Z"
   },
   {
    "duration": 397,
    "start_time": "2022-04-21T20:01:15.136Z"
   },
   {
    "duration": 3,
    "start_time": "2022-04-21T20:59:05.118Z"
   },
   {
    "duration": 21,
    "start_time": "2022-04-21T20:59:05.123Z"
   },
   {
    "duration": 130,
    "start_time": "2022-04-21T20:59:05.146Z"
   },
   {
    "duration": 23,
    "start_time": "2022-04-21T20:59:05.278Z"
   },
   {
    "duration": 26,
    "start_time": "2022-04-21T20:59:05.303Z"
   },
   {
    "duration": 17,
    "start_time": "2022-04-21T20:59:05.331Z"
   },
   {
    "duration": 44,
    "start_time": "2022-04-21T20:59:05.350Z"
   },
   {
    "duration": 4,
    "start_time": "2022-04-21T20:59:05.396Z"
   },
   {
    "duration": 34,
    "start_time": "2022-04-21T20:59:05.402Z"
   },
   {
    "duration": 60,
    "start_time": "2022-04-21T20:59:05.438Z"
   },
   {
    "duration": 48,
    "start_time": "2022-04-21T20:59:05.500Z"
   },
   {
    "duration": 23,
    "start_time": "2022-04-21T20:59:05.550Z"
   },
   {
    "duration": 50,
    "start_time": "2022-04-21T20:59:05.575Z"
   },
   {
    "duration": 5,
    "start_time": "2022-04-21T20:59:05.629Z"
   },
   {
    "duration": 36,
    "start_time": "2022-04-21T20:59:05.636Z"
   },
   {
    "duration": 21,
    "start_time": "2022-04-21T20:59:05.674Z"
   },
   {
    "duration": 14,
    "start_time": "2022-04-21T20:59:05.697Z"
   },
   {
    "duration": 20,
    "start_time": "2022-04-21T20:59:05.713Z"
   },
   {
    "duration": 20,
    "start_time": "2022-04-21T20:59:05.735Z"
   },
   {
    "duration": 33,
    "start_time": "2022-04-21T20:59:05.757Z"
   },
   {
    "duration": 22,
    "start_time": "2022-04-21T20:59:05.792Z"
   },
   {
    "duration": 28,
    "start_time": "2022-04-21T20:59:05.816Z"
   },
   {
    "duration": 23,
    "start_time": "2022-04-21T20:59:05.845Z"
   },
   {
    "duration": 39,
    "start_time": "2022-04-21T20:59:05.870Z"
   },
   {
    "duration": 8,
    "start_time": "2022-04-21T20:59:05.911Z"
   },
   {
    "duration": 39,
    "start_time": "2022-04-21T20:59:05.921Z"
   },
   {
    "duration": 55,
    "start_time": "2022-04-21T20:59:05.962Z"
   },
   {
    "duration": 29,
    "start_time": "2022-04-21T20:59:06.019Z"
   },
   {
    "duration": 128,
    "start_time": "2022-04-21T20:59:06.050Z"
   },
   {
    "duration": 5,
    "start_time": "2022-04-21T20:59:06.180Z"
   },
   {
    "duration": 155,
    "start_time": "2022-04-21T20:59:06.186Z"
   },
   {
    "duration": 264,
    "start_time": "2022-04-21T20:59:06.342Z"
   },
   {
    "duration": 652,
    "start_time": "2022-04-21T20:59:06.607Z"
   },
   {
    "duration": 396,
    "start_time": "2022-04-21T20:59:07.261Z"
   },
   {
    "duration": 28,
    "start_time": "2022-04-21T20:59:51.186Z"
   },
   {
    "duration": 2386,
    "start_time": "2022-04-21T21:00:23.843Z"
   },
   {
    "duration": 2259,
    "start_time": "2022-04-21T21:00:32.137Z"
   },
   {
    "duration": 175,
    "start_time": "2022-04-21T21:00:56.488Z"
   },
   {
    "duration": 210,
    "start_time": "2022-04-21T21:01:11.250Z"
   },
   {
    "duration": 205,
    "start_time": "2022-04-21T21:01:23.526Z"
   },
   {
    "duration": 3,
    "start_time": "2022-04-21T21:01:57.540Z"
   },
   {
    "duration": 4,
    "start_time": "2022-04-21T21:02:24.788Z"
   },
   {
    "duration": 27,
    "start_time": "2022-04-21T21:02:40.034Z"
   },
   {
    "duration": 5,
    "start_time": "2022-04-21T21:03:15.964Z"
   },
   {
    "duration": 14,
    "start_time": "2022-04-21T21:03:38.337Z"
   },
   {
    "duration": 14,
    "start_time": "2022-04-21T21:03:50.561Z"
   },
   {
    "duration": 8,
    "start_time": "2022-04-21T21:05:16.077Z"
   },
   {
    "duration": 6,
    "start_time": "2022-04-21T21:05:19.436Z"
   },
   {
    "duration": 131,
    "start_time": "2022-04-21T21:05:21.768Z"
   },
   {
    "duration": 13,
    "start_time": "2022-04-21T21:05:31.971Z"
   },
   {
    "duration": 249,
    "start_time": "2022-04-21T21:07:12.312Z"
   },
   {
    "duration": 449,
    "start_time": "2022-04-21T21:08:29.038Z"
   },
   {
    "duration": 33,
    "start_time": "2022-04-21T21:12:31.961Z"
   },
   {
    "duration": 3,
    "start_time": "2022-04-21T21:13:49.042Z"
   },
   {
    "duration": 6,
    "start_time": "2022-04-21T21:13:49.047Z"
   },
   {
    "duration": 121,
    "start_time": "2022-04-21T21:13:49.055Z"
   },
   {
    "duration": 22,
    "start_time": "2022-04-21T21:13:49.178Z"
   },
   {
    "duration": 17,
    "start_time": "2022-04-21T21:13:49.202Z"
   },
   {
    "duration": 12,
    "start_time": "2022-04-21T21:13:49.220Z"
   },
   {
    "duration": 26,
    "start_time": "2022-04-21T21:13:49.234Z"
   },
   {
    "duration": 3,
    "start_time": "2022-04-21T21:13:49.262Z"
   },
   {
    "duration": 17,
    "start_time": "2022-04-21T21:13:49.267Z"
   },
   {
    "duration": 64,
    "start_time": "2022-04-21T21:13:49.287Z"
   },
   {
    "duration": 21,
    "start_time": "2022-04-21T21:13:49.353Z"
   },
   {
    "duration": 13,
    "start_time": "2022-04-21T21:13:49.376Z"
   },
   {
    "duration": 55,
    "start_time": "2022-04-21T21:13:49.390Z"
   },
   {
    "duration": 5,
    "start_time": "2022-04-21T21:13:49.446Z"
   },
   {
    "duration": 8,
    "start_time": "2022-04-21T21:13:49.452Z"
   },
   {
    "duration": 7,
    "start_time": "2022-04-21T21:13:49.461Z"
   },
   {
    "duration": 8,
    "start_time": "2022-04-21T21:13:49.469Z"
   },
   {
    "duration": 11,
    "start_time": "2022-04-21T21:13:49.478Z"
   },
   {
    "duration": 33,
    "start_time": "2022-04-21T21:13:49.490Z"
   },
   {
    "duration": 10,
    "start_time": "2022-04-21T21:13:49.524Z"
   },
   {
    "duration": 8,
    "start_time": "2022-04-21T21:13:49.536Z"
   },
   {
    "duration": 14,
    "start_time": "2022-04-21T21:13:49.546Z"
   },
   {
    "duration": 21,
    "start_time": "2022-04-21T21:13:49.561Z"
   },
   {
    "duration": 45,
    "start_time": "2022-04-21T21:13:49.583Z"
   },
   {
    "duration": 11,
    "start_time": "2022-04-21T21:13:49.631Z"
   },
   {
    "duration": 17,
    "start_time": "2022-04-21T21:13:49.644Z"
   },
   {
    "duration": 79,
    "start_time": "2022-04-21T21:13:49.663Z"
   },
   {
    "duration": 51,
    "start_time": "2022-04-21T21:13:49.746Z"
   },
   {
    "duration": 292,
    "start_time": "2022-04-21T21:13:49.799Z"
   },
   {
    "duration": 5,
    "start_time": "2022-04-21T21:13:50.093Z"
   },
   {
    "duration": 161,
    "start_time": "2022-04-21T21:13:50.099Z"
   },
   {
    "duration": 270,
    "start_time": "2022-04-21T21:13:50.262Z"
   },
   {
    "duration": 562,
    "start_time": "2022-04-21T21:13:50.534Z"
   },
   {
    "duration": 362,
    "start_time": "2022-04-21T21:13:51.097Z"
   },
   {
    "duration": 35,
    "start_time": "2022-04-21T21:13:51.461Z"
   },
   {
    "duration": 30,
    "start_time": "2022-04-21T21:13:51.497Z"
   },
   {
    "duration": 470,
    "start_time": "2022-04-21T21:13:51.529Z"
   },
   {
    "duration": 724,
    "start_time": "2022-04-21T21:14:27.482Z"
   },
   {
    "duration": 627,
    "start_time": "2022-04-21T21:14:37.140Z"
   },
   {
    "duration": 28,
    "start_time": "2022-04-21T21:19:55.056Z"
   },
   {
    "duration": 58,
    "start_time": "2022-04-21T21:23:16.252Z"
   },
   {
    "duration": 19,
    "start_time": "2022-04-21T21:23:44.901Z"
   },
   {
    "duration": 26,
    "start_time": "2022-04-21T21:23:49.374Z"
   },
   {
    "duration": 6,
    "start_time": "2022-04-21T21:24:05.643Z"
   },
   {
    "duration": 4,
    "start_time": "2022-04-21T21:26:55.360Z"
   },
   {
    "duration": 6,
    "start_time": "2022-04-21T21:27:00.188Z"
   },
   {
    "duration": 5,
    "start_time": "2022-04-21T21:27:32.331Z"
   },
   {
    "duration": 5,
    "start_time": "2022-04-21T21:27:52.157Z"
   },
   {
    "duration": 4,
    "start_time": "2022-04-21T21:28:34.252Z"
   },
   {
    "duration": 8,
    "start_time": "2022-04-21T21:29:03.027Z"
   },
   {
    "duration": 4,
    "start_time": "2022-04-21T21:29:15.151Z"
   },
   {
    "duration": 5,
    "start_time": "2022-04-21T21:30:37.617Z"
   },
   {
    "duration": 39,
    "start_time": "2022-04-21T21:33:02.922Z"
   },
   {
    "duration": 12,
    "start_time": "2022-04-21T21:33:36.374Z"
   },
   {
    "duration": 5,
    "start_time": "2022-04-21T21:36:37.986Z"
   },
   {
    "duration": 3,
    "start_time": "2022-04-21T21:37:01.768Z"
   },
   {
    "duration": 13,
    "start_time": "2022-04-21T21:37:01.773Z"
   },
   {
    "duration": 125,
    "start_time": "2022-04-21T21:37:01.788Z"
   },
   {
    "duration": 22,
    "start_time": "2022-04-21T21:37:01.916Z"
   },
   {
    "duration": 26,
    "start_time": "2022-04-21T21:37:01.940Z"
   },
   {
    "duration": 11,
    "start_time": "2022-04-21T21:37:01.968Z"
   },
   {
    "duration": 42,
    "start_time": "2022-04-21T21:37:01.982Z"
   },
   {
    "duration": 4,
    "start_time": "2022-04-21T21:37:02.026Z"
   },
   {
    "duration": 19,
    "start_time": "2022-04-21T21:37:02.032Z"
   },
   {
    "duration": 44,
    "start_time": "2022-04-21T21:37:02.053Z"
   },
   {
    "duration": 35,
    "start_time": "2022-04-21T21:37:02.098Z"
   },
   {
    "duration": 14,
    "start_time": "2022-04-21T21:37:02.135Z"
   },
   {
    "duration": 26,
    "start_time": "2022-04-21T21:37:02.150Z"
   },
   {
    "duration": 5,
    "start_time": "2022-04-21T21:37:02.178Z"
   },
   {
    "duration": 38,
    "start_time": "2022-04-21T21:37:02.185Z"
   },
   {
    "duration": 7,
    "start_time": "2022-04-21T21:37:02.224Z"
   },
   {
    "duration": 10,
    "start_time": "2022-04-21T21:37:02.232Z"
   },
   {
    "duration": 11,
    "start_time": "2022-04-21T21:37:02.243Z"
   },
   {
    "duration": 12,
    "start_time": "2022-04-21T21:37:02.256Z"
   },
   {
    "duration": 10,
    "start_time": "2022-04-21T21:37:02.270Z"
   },
   {
    "duration": 40,
    "start_time": "2022-04-21T21:37:02.284Z"
   },
   {
    "duration": 7,
    "start_time": "2022-04-21T21:37:02.326Z"
   },
   {
    "duration": 28,
    "start_time": "2022-04-21T21:37:02.335Z"
   },
   {
    "duration": 58,
    "start_time": "2022-04-21T21:37:02.365Z"
   },
   {
    "duration": 10,
    "start_time": "2022-04-21T21:37:02.424Z"
   },
   {
    "duration": 16,
    "start_time": "2022-04-21T21:37:02.435Z"
   },
   {
    "duration": 78,
    "start_time": "2022-04-21T21:37:02.453Z"
   },
   {
    "duration": 32,
    "start_time": "2022-04-21T21:37:02.532Z"
   },
   {
    "duration": 131,
    "start_time": "2022-04-21T21:37:02.566Z"
   },
   {
    "duration": 6,
    "start_time": "2022-04-21T21:37:02.699Z"
   },
   {
    "duration": 160,
    "start_time": "2022-04-21T21:37:02.706Z"
   },
   {
    "duration": 269,
    "start_time": "2022-04-21T21:37:02.867Z"
   },
   {
    "duration": 677,
    "start_time": "2022-04-21T21:37:03.138Z"
   },
   {
    "duration": 386,
    "start_time": "2022-04-21T21:37:03.817Z"
   },
   {
    "duration": 47,
    "start_time": "2022-04-21T21:37:04.204Z"
   },
   {
    "duration": 34,
    "start_time": "2022-04-21T21:37:04.253Z"
   },
   {
    "duration": 4,
    "start_time": "2022-04-21T21:37:04.289Z"
   },
   {
    "duration": 29,
    "start_time": "2022-04-21T21:37:04.295Z"
   },
   {
    "duration": 5,
    "start_time": "2022-04-21T21:37:04.325Z"
   },
   {
    "duration": 6,
    "start_time": "2022-04-21T21:37:04.332Z"
   },
   {
    "duration": 19,
    "start_time": "2022-04-21T21:37:04.340Z"
   },
   {
    "duration": 646,
    "start_time": "2022-04-21T21:37:04.361Z"
   },
   {
    "duration": 16,
    "start_time": "2022-04-21T21:37:05.009Z"
   },
   {
    "duration": 7,
    "start_time": "2022-04-21T21:38:03.784Z"
   },
   {
    "duration": 9,
    "start_time": "2022-04-21T21:38:26.652Z"
   },
   {
    "duration": 13,
    "start_time": "2022-04-21T21:40:02.431Z"
   },
   {
    "duration": 5,
    "start_time": "2022-04-21T21:40:17.965Z"
   },
   {
    "duration": 3031,
    "start_time": "2022-04-21T21:40:20.680Z"
   },
   {
    "duration": 14,
    "start_time": "2022-04-21T21:40:35.485Z"
   },
   {
    "duration": 3,
    "start_time": "2022-04-21T21:40:41.467Z"
   },
   {
    "duration": 5,
    "start_time": "2022-04-21T21:40:41.472Z"
   },
   {
    "duration": 118,
    "start_time": "2022-04-21T21:40:41.478Z"
   },
   {
    "duration": 22,
    "start_time": "2022-04-21T21:40:41.599Z"
   },
   {
    "duration": 21,
    "start_time": "2022-04-21T21:40:41.623Z"
   },
   {
    "duration": 13,
    "start_time": "2022-04-21T21:40:41.645Z"
   },
   {
    "duration": 25,
    "start_time": "2022-04-21T21:40:41.660Z"
   },
   {
    "duration": 4,
    "start_time": "2022-04-21T21:40:41.687Z"
   },
   {
    "duration": 17,
    "start_time": "2022-04-21T21:40:41.725Z"
   },
   {
    "duration": 36,
    "start_time": "2022-04-21T21:40:41.744Z"
   },
   {
    "duration": 52,
    "start_time": "2022-04-21T21:40:41.783Z"
   },
   {
    "duration": 15,
    "start_time": "2022-04-21T21:40:41.836Z"
   },
   {
    "duration": 29,
    "start_time": "2022-04-21T21:40:41.854Z"
   },
   {
    "duration": 5,
    "start_time": "2022-04-21T21:40:41.885Z"
   },
   {
    "duration": 36,
    "start_time": "2022-04-21T21:40:41.892Z"
   },
   {
    "duration": 6,
    "start_time": "2022-04-21T21:40:41.931Z"
   },
   {
    "duration": 8,
    "start_time": "2022-04-21T21:40:41.939Z"
   },
   {
    "duration": 8,
    "start_time": "2022-04-21T21:40:41.949Z"
   },
   {
    "duration": 5,
    "start_time": "2022-04-21T21:40:41.958Z"
   },
   {
    "duration": 7,
    "start_time": "2022-04-21T21:40:41.965Z"
   },
   {
    "duration": 52,
    "start_time": "2022-04-21T21:40:41.973Z"
   },
   {
    "duration": 12,
    "start_time": "2022-04-21T21:40:42.027Z"
   },
   {
    "duration": 21,
    "start_time": "2022-04-21T21:40:42.040Z"
   },
   {
    "duration": 30,
    "start_time": "2022-04-21T21:40:42.065Z"
   },
   {
    "duration": 29,
    "start_time": "2022-04-21T21:40:42.096Z"
   },
   {
    "duration": 17,
    "start_time": "2022-04-21T21:40:42.127Z"
   },
   {
    "duration": 198,
    "start_time": "2022-04-21T21:40:42.146Z"
   },
   {
    "duration": 31,
    "start_time": "2022-04-21T21:40:42.345Z"
   },
   {
    "duration": 144,
    "start_time": "2022-04-21T21:40:42.378Z"
   },
   {
    "duration": 5,
    "start_time": "2022-04-21T21:40:42.524Z"
   },
   {
    "duration": 157,
    "start_time": "2022-04-21T21:40:42.531Z"
   },
   {
    "duration": 276,
    "start_time": "2022-04-21T21:40:42.690Z"
   },
   {
    "duration": 562,
    "start_time": "2022-04-21T21:40:42.968Z"
   },
   {
    "duration": 404,
    "start_time": "2022-04-21T21:40:43.532Z"
   },
   {
    "duration": 39,
    "start_time": "2022-04-21T21:40:43.938Z"
   },
   {
    "duration": 54,
    "start_time": "2022-04-21T21:40:43.979Z"
   },
   {
    "duration": 5,
    "start_time": "2022-04-21T21:40:44.034Z"
   },
   {
    "duration": 4,
    "start_time": "2022-04-21T21:40:44.041Z"
   },
   {
    "duration": 6,
    "start_time": "2022-04-21T21:40:44.047Z"
   },
   {
    "duration": 6,
    "start_time": "2022-04-21T21:40:44.054Z"
   },
   {
    "duration": 15,
    "start_time": "2022-04-21T21:40:44.061Z"
   },
   {
    "duration": 677,
    "start_time": "2022-04-21T21:40:44.077Z"
   },
   {
    "duration": 14,
    "start_time": "2022-04-21T21:40:44.756Z"
   },
   {
    "duration": 3173,
    "start_time": "2022-04-21T21:40:44.771Z"
   },
   {
    "duration": 1245,
    "start_time": "2022-04-21T21:40:51.070Z"
   },
   {
    "duration": 1526,
    "start_time": "2022-04-21T21:40:58.966Z"
   },
   {
    "duration": 1372,
    "start_time": "2022-04-27T08:46:34.432Z"
   },
   {
    "duration": 5,
    "start_time": "2022-04-27T08:46:35.806Z"
   },
   {
    "duration": 99,
    "start_time": "2022-04-27T08:46:35.812Z"
   },
   {
    "duration": 24,
    "start_time": "2022-04-27T08:46:35.914Z"
   },
   {
    "duration": 26,
    "start_time": "2022-04-27T08:46:35.940Z"
   },
   {
    "duration": 19,
    "start_time": "2022-04-27T08:46:35.967Z"
   },
   {
    "duration": 52,
    "start_time": "2022-04-27T08:46:35.988Z"
   },
   {
    "duration": 4,
    "start_time": "2022-04-27T08:46:36.042Z"
   },
   {
    "duration": 18,
    "start_time": "2022-04-27T08:46:36.049Z"
   },
   {
    "duration": 62,
    "start_time": "2022-04-27T08:46:36.070Z"
   },
   {
    "duration": 22,
    "start_time": "2022-04-27T08:46:36.134Z"
   },
   {
    "duration": 13,
    "start_time": "2022-04-27T08:46:36.158Z"
   },
   {
    "duration": 25,
    "start_time": "2022-04-27T08:46:36.172Z"
   },
   {
    "duration": 5,
    "start_time": "2022-04-27T08:46:36.224Z"
   },
   {
    "duration": 12,
    "start_time": "2022-04-27T08:46:36.231Z"
   },
   {
    "duration": 10,
    "start_time": "2022-04-27T08:46:36.244Z"
   },
   {
    "duration": 13,
    "start_time": "2022-04-27T08:46:36.256Z"
   },
   {
    "duration": 6,
    "start_time": "2022-04-27T08:46:36.271Z"
   },
   {
    "duration": 7,
    "start_time": "2022-04-27T08:46:36.279Z"
   },
   {
    "duration": 10,
    "start_time": "2022-04-27T08:46:36.287Z"
   },
   {
    "duration": 30,
    "start_time": "2022-04-27T08:46:36.299Z"
   },
   {
    "duration": 8,
    "start_time": "2022-04-27T08:46:36.331Z"
   },
   {
    "duration": 20,
    "start_time": "2022-04-27T08:46:36.341Z"
   },
   {
    "duration": 30,
    "start_time": "2022-04-27T08:46:36.363Z"
   },
   {
    "duration": 36,
    "start_time": "2022-04-27T08:46:36.394Z"
   },
   {
    "duration": 20,
    "start_time": "2022-04-27T08:46:36.432Z"
   },
   {
    "duration": 75,
    "start_time": "2022-04-27T08:46:36.454Z"
   },
   {
    "duration": 34,
    "start_time": "2022-04-27T08:46:36.534Z"
   },
   {
    "duration": 174,
    "start_time": "2022-04-27T08:46:36.570Z"
   },
   {
    "duration": 6,
    "start_time": "2022-04-27T08:46:36.746Z"
   },
   {
    "duration": 169,
    "start_time": "2022-04-27T08:46:36.754Z"
   },
   {
    "duration": 317,
    "start_time": "2022-04-27T08:46:36.925Z"
   },
   {
    "duration": 668,
    "start_time": "2022-04-27T08:46:37.244Z"
   },
   {
    "duration": 384,
    "start_time": "2022-04-27T08:46:37.914Z"
   },
   {
    "duration": 48,
    "start_time": "2022-04-27T08:46:38.300Z"
   },
   {
    "duration": 33,
    "start_time": "2022-04-27T08:46:38.350Z"
   },
   {
    "duration": 4,
    "start_time": "2022-04-27T08:46:38.385Z"
   },
   {
    "duration": 34,
    "start_time": "2022-04-27T08:46:38.390Z"
   },
   {
    "duration": 9,
    "start_time": "2022-04-27T08:46:38.426Z"
   },
   {
    "duration": 13,
    "start_time": "2022-04-27T08:46:38.436Z"
   },
   {
    "duration": 20,
    "start_time": "2022-04-27T08:46:38.450Z"
   },
   {
    "duration": 651,
    "start_time": "2022-04-27T08:46:38.472Z"
   },
   {
    "duration": 13,
    "start_time": "2022-04-27T08:46:39.125Z"
   },
   {
    "duration": 1424,
    "start_time": "2022-04-27T08:46:39.139Z"
   },
   {
    "duration": 1076,
    "start_time": "2022-04-27T09:23:21.442Z"
   },
   {
    "duration": 4,
    "start_time": "2022-04-27T09:23:22.520Z"
   },
   {
    "duration": 86,
    "start_time": "2022-04-27T09:23:22.525Z"
   },
   {
    "duration": 19,
    "start_time": "2022-04-27T09:23:22.613Z"
   },
   {
    "duration": 28,
    "start_time": "2022-04-27T09:23:22.634Z"
   },
   {
    "duration": 11,
    "start_time": "2022-04-27T09:23:22.664Z"
   },
   {
    "duration": 27,
    "start_time": "2022-04-27T09:23:22.676Z"
   },
   {
    "duration": 4,
    "start_time": "2022-04-27T09:23:24.735Z"
   },
   {
    "duration": 34,
    "start_time": "2022-04-27T09:24:09.349Z"
   },
   {
    "duration": 7,
    "start_time": "2022-04-27T09:24:46.249Z"
   },
   {
    "duration": 18,
    "start_time": "2022-04-27T09:24:48.871Z"
   },
   {
    "duration": 25,
    "start_time": "2022-04-27T09:25:00.545Z"
   },
   {
    "duration": 1123,
    "start_time": "2022-04-27T09:26:03.903Z"
   },
   {
    "duration": 4,
    "start_time": "2022-04-27T09:26:05.028Z"
   },
   {
    "duration": 84,
    "start_time": "2022-04-27T09:26:05.033Z"
   },
   {
    "duration": 18,
    "start_time": "2022-04-27T09:26:05.119Z"
   },
   {
    "duration": 20,
    "start_time": "2022-04-27T09:26:05.139Z"
   },
   {
    "duration": 11,
    "start_time": "2022-04-27T09:26:05.161Z"
   },
   {
    "duration": 22,
    "start_time": "2022-04-27T09:26:05.173Z"
   },
   {
    "duration": 4,
    "start_time": "2022-04-27T09:26:06.605Z"
   },
   {
    "duration": 20,
    "start_time": "2022-04-27T09:26:09.347Z"
   },
   {
    "duration": 7,
    "start_time": "2022-04-27T09:27:02.716Z"
   },
   {
    "duration": 1061,
    "start_time": "2022-04-27T09:27:21.660Z"
   },
   {
    "duration": 4,
    "start_time": "2022-04-27T09:27:22.723Z"
   },
   {
    "duration": 87,
    "start_time": "2022-04-27T09:27:22.728Z"
   },
   {
    "duration": 19,
    "start_time": "2022-04-27T09:27:22.818Z"
   },
   {
    "duration": 25,
    "start_time": "2022-04-27T09:27:22.839Z"
   },
   {
    "duration": 12,
    "start_time": "2022-04-27T09:27:22.865Z"
   },
   {
    "duration": 24,
    "start_time": "2022-04-27T09:27:22.879Z"
   },
   {
    "duration": 5,
    "start_time": "2022-04-27T09:27:25.237Z"
   },
   {
    "duration": 16,
    "start_time": "2022-04-27T09:27:27.654Z"
   },
   {
    "duration": 196,
    "start_time": "2022-04-27T10:36:54.293Z"
   },
   {
    "duration": 7,
    "start_time": "2022-04-27T10:36:59.342Z"
   },
   {
    "duration": 1137,
    "start_time": "2022-04-27T10:46:13.179Z"
   },
   {
    "duration": 8,
    "start_time": "2022-04-27T10:46:14.318Z"
   },
   {
    "duration": 88,
    "start_time": "2022-04-27T10:46:14.328Z"
   },
   {
    "duration": 20,
    "start_time": "2022-04-27T10:46:14.418Z"
   },
   {
    "duration": 22,
    "start_time": "2022-04-27T10:46:14.439Z"
   },
   {
    "duration": 13,
    "start_time": "2022-04-27T10:46:14.463Z"
   },
   {
    "duration": 47,
    "start_time": "2022-04-27T10:46:14.477Z"
   },
   {
    "duration": 4,
    "start_time": "2022-04-27T10:46:14.525Z"
   },
   {
    "duration": 20,
    "start_time": "2022-04-27T10:46:14.531Z"
   },
   {
    "duration": 37,
    "start_time": "2022-04-27T10:46:14.554Z"
   },
   {
    "duration": 40,
    "start_time": "2022-04-27T10:46:14.593Z"
   },
   {
    "duration": 13,
    "start_time": "2022-04-27T10:46:14.635Z"
   },
   {
    "duration": 25,
    "start_time": "2022-04-27T10:46:14.650Z"
   },
   {
    "duration": 4,
    "start_time": "2022-04-27T10:46:14.677Z"
   },
   {
    "duration": 8,
    "start_time": "2022-04-27T10:46:14.683Z"
   },
   {
    "duration": 35,
    "start_time": "2022-04-27T10:46:14.693Z"
   },
   {
    "duration": 8,
    "start_time": "2022-04-27T10:46:14.730Z"
   },
   {
    "duration": 7,
    "start_time": "2022-04-27T10:46:14.740Z"
   },
   {
    "duration": 5,
    "start_time": "2022-04-27T10:46:14.748Z"
   },
   {
    "duration": 7,
    "start_time": "2022-04-27T10:46:14.755Z"
   },
   {
    "duration": 7,
    "start_time": "2022-04-27T10:46:14.764Z"
   },
   {
    "duration": 6,
    "start_time": "2022-04-27T10:46:14.772Z"
   },
   {
    "duration": 53,
    "start_time": "2022-04-27T10:46:14.779Z"
   },
   {
    "duration": 30,
    "start_time": "2022-04-27T10:46:14.833Z"
   },
   {
    "duration": 8,
    "start_time": "2022-04-27T10:46:14.865Z"
   },
   {
    "duration": 17,
    "start_time": "2022-04-27T10:46:14.874Z"
   },
   {
    "duration": 79,
    "start_time": "2022-04-27T10:46:14.893Z"
   },
   {
    "duration": 50,
    "start_time": "2022-04-27T10:46:14.975Z"
   },
   {
    "duration": 146,
    "start_time": "2022-04-27T10:46:15.027Z"
   },
   {
    "duration": 5,
    "start_time": "2022-04-27T10:46:15.174Z"
   },
   {
    "duration": 163,
    "start_time": "2022-04-27T10:46:15.180Z"
   },
   {
    "duration": 274,
    "start_time": "2022-04-27T10:46:15.345Z"
   },
   {
    "duration": 632,
    "start_time": "2022-04-27T10:46:15.623Z"
   },
   {
    "duration": 383,
    "start_time": "2022-04-27T10:46:16.256Z"
   },
   {
    "duration": 40,
    "start_time": "2022-04-27T10:46:16.641Z"
   },
   {
    "duration": 53,
    "start_time": "2022-04-27T10:46:16.683Z"
   },
   {
    "duration": 4,
    "start_time": "2022-04-27T10:46:16.737Z"
   },
   {
    "duration": 27,
    "start_time": "2022-04-27T10:46:16.743Z"
   },
   {
    "duration": 22,
    "start_time": "2022-04-27T10:46:16.772Z"
   },
   {
    "duration": 21,
    "start_time": "2022-04-27T10:46:16.795Z"
   },
   {
    "duration": 32,
    "start_time": "2022-04-27T10:46:16.818Z"
   },
   {
    "duration": 640,
    "start_time": "2022-04-27T10:46:16.852Z"
   },
   {
    "duration": 13,
    "start_time": "2022-04-27T10:46:17.494Z"
   },
   {
    "duration": 1390,
    "start_time": "2022-04-27T10:46:17.523Z"
   },
   {
    "duration": 7,
    "start_time": "2022-04-27T10:46:45.314Z"
   },
   {
    "duration": 1283,
    "start_time": "2022-04-27T16:39:58.949Z"
   },
   {
    "duration": 4,
    "start_time": "2022-04-27T16:40:00.234Z"
   },
   {
    "duration": 96,
    "start_time": "2022-04-27T16:40:00.239Z"
   },
   {
    "duration": 21,
    "start_time": "2022-04-27T16:40:00.337Z"
   },
   {
    "duration": 27,
    "start_time": "2022-04-27T16:40:00.360Z"
   },
   {
    "duration": 12,
    "start_time": "2022-04-27T16:40:00.389Z"
   },
   {
    "duration": 45,
    "start_time": "2022-04-27T16:40:00.403Z"
   },
   {
    "duration": 7,
    "start_time": "2022-04-27T16:40:00.450Z"
   },
   {
    "duration": 31,
    "start_time": "2022-04-27T16:40:00.459Z"
   },
   {
    "duration": 40,
    "start_time": "2022-04-27T16:40:00.493Z"
   },
   {
    "duration": 20,
    "start_time": "2022-04-27T16:40:00.535Z"
   },
   {
    "duration": 20,
    "start_time": "2022-04-27T16:40:00.557Z"
   },
   {
    "duration": 46,
    "start_time": "2022-04-27T16:40:00.579Z"
   },
   {
    "duration": 5,
    "start_time": "2022-04-27T16:40:00.626Z"
   },
   {
    "duration": 20,
    "start_time": "2022-04-27T16:40:00.633Z"
   },
   {
    "duration": 15,
    "start_time": "2022-04-27T16:40:00.655Z"
   },
   {
    "duration": 9,
    "start_time": "2022-04-27T16:40:00.672Z"
   },
   {
    "duration": 11,
    "start_time": "2022-04-27T16:40:00.683Z"
   },
   {
    "duration": 12,
    "start_time": "2022-04-27T16:40:00.696Z"
   },
   {
    "duration": 16,
    "start_time": "2022-04-27T16:40:00.710Z"
   },
   {
    "duration": 18,
    "start_time": "2022-04-27T16:40:00.728Z"
   },
   {
    "duration": 24,
    "start_time": "2022-04-27T16:40:00.747Z"
   },
   {
    "duration": 19,
    "start_time": "2022-04-27T16:40:00.773Z"
   },
   {
    "duration": 31,
    "start_time": "2022-04-27T16:40:00.794Z"
   },
   {
    "duration": 10,
    "start_time": "2022-04-27T16:40:00.827Z"
   },
   {
    "duration": 24,
    "start_time": "2022-04-27T16:40:00.838Z"
   },
   {
    "duration": 106,
    "start_time": "2022-04-27T16:40:00.864Z"
   },
   {
    "duration": 59,
    "start_time": "2022-04-27T16:40:00.974Z"
   },
   {
    "duration": 210,
    "start_time": "2022-04-27T16:40:01.035Z"
   },
   {
    "duration": 6,
    "start_time": "2022-04-27T16:40:01.247Z"
   },
   {
    "duration": 237,
    "start_time": "2022-04-27T16:40:01.255Z"
   },
   {
    "duration": 350,
    "start_time": "2022-04-27T16:40:01.494Z"
   },
   {
    "duration": 891,
    "start_time": "2022-04-27T16:40:01.847Z"
   },
   {
    "duration": 388,
    "start_time": "2022-04-27T16:40:02.740Z"
   },
   {
    "duration": 39,
    "start_time": "2022-04-27T16:40:03.130Z"
   },
   {
    "duration": 55,
    "start_time": "2022-04-27T16:40:03.171Z"
   },
   {
    "duration": 5,
    "start_time": "2022-04-27T16:40:03.228Z"
   },
   {
    "duration": 35,
    "start_time": "2022-04-27T16:40:03.235Z"
   },
   {
    "duration": 32,
    "start_time": "2022-04-27T16:40:03.272Z"
   },
   {
    "duration": 13,
    "start_time": "2022-04-27T16:40:03.306Z"
   },
   {
    "duration": 46,
    "start_time": "2022-04-27T16:40:03.321Z"
   },
   {
    "duration": 1085,
    "start_time": "2022-04-27T16:40:03.369Z"
   },
   {
    "duration": 19,
    "start_time": "2022-04-27T16:40:04.456Z"
   },
   {
    "duration": 2355,
    "start_time": "2022-04-27T16:40:04.477Z"
   },
   {
    "duration": 2283,
    "start_time": "2022-04-27T16:41:09.324Z"
   },
   {
    "duration": 29,
    "start_time": "2022-04-27T16:41:16.482Z"
   },
   {
    "duration": 13,
    "start_time": "2022-04-27T16:41:28.108Z"
   },
   {
    "duration": 38,
    "start_time": "2022-04-27T16:44:16.129Z"
   },
   {
    "duration": 19,
    "start_time": "2022-04-27T16:45:22.418Z"
   },
   {
    "duration": 20,
    "start_time": "2022-04-27T16:45:34.368Z"
   },
   {
    "duration": 27,
    "start_time": "2022-04-27T16:45:38.503Z"
   },
   {
    "duration": 23,
    "start_time": "2022-04-27T17:03:16.492Z"
   },
   {
    "duration": 355,
    "start_time": "2022-04-27T17:03:33.658Z"
   },
   {
    "duration": 250,
    "start_time": "2022-04-27T17:03:54.186Z"
   },
   {
    "duration": 1132,
    "start_time": "2022-04-27T17:40:41.921Z"
   },
   {
    "duration": 3,
    "start_time": "2022-04-27T17:40:43.055Z"
   },
   {
    "duration": 121,
    "start_time": "2022-04-27T17:40:43.062Z"
   },
   {
    "duration": 29,
    "start_time": "2022-04-27T17:40:43.185Z"
   },
   {
    "duration": 33,
    "start_time": "2022-04-27T17:40:43.216Z"
   },
   {
    "duration": 25,
    "start_time": "2022-04-27T17:40:43.250Z"
   },
   {
    "duration": 43,
    "start_time": "2022-04-27T17:40:43.276Z"
   },
   {
    "duration": 5,
    "start_time": "2022-04-27T17:40:43.321Z"
   },
   {
    "duration": 39,
    "start_time": "2022-04-27T17:40:43.328Z"
   },
   {
    "duration": 39,
    "start_time": "2022-04-27T17:40:43.369Z"
   },
   {
    "duration": 33,
    "start_time": "2022-04-27T17:40:43.410Z"
   },
   {
    "duration": 14,
    "start_time": "2022-04-27T17:40:43.445Z"
   },
   {
    "duration": 26,
    "start_time": "2022-04-27T17:40:43.462Z"
   },
   {
    "duration": 37,
    "start_time": "2022-04-27T17:40:43.489Z"
   },
   {
    "duration": 30,
    "start_time": "2022-04-27T17:40:43.527Z"
   },
   {
    "duration": 10,
    "start_time": "2022-04-27T17:40:43.559Z"
   },
   {
    "duration": 29,
    "start_time": "2022-04-27T17:40:43.571Z"
   },
   {
    "duration": 21,
    "start_time": "2022-04-27T17:40:43.602Z"
   },
   {
    "duration": 16,
    "start_time": "2022-04-27T17:40:43.625Z"
   },
   {
    "duration": 31,
    "start_time": "2022-04-27T17:40:43.644Z"
   },
   {
    "duration": 13,
    "start_time": "2022-04-27T17:40:43.678Z"
   },
   {
    "duration": 10,
    "start_time": "2022-04-27T17:40:43.693Z"
   },
   {
    "duration": 25,
    "start_time": "2022-04-27T17:40:43.705Z"
   },
   {
    "duration": 37,
    "start_time": "2022-04-27T17:40:43.732Z"
   },
   {
    "duration": 8,
    "start_time": "2022-04-27T17:40:43.770Z"
   },
   {
    "duration": 45,
    "start_time": "2022-04-27T17:40:43.780Z"
   },
   {
    "duration": 59,
    "start_time": "2022-04-27T17:40:43.827Z"
   },
   {
    "duration": 47,
    "start_time": "2022-04-27T17:40:43.887Z"
   },
   {
    "duration": 152,
    "start_time": "2022-04-27T17:40:43.936Z"
   },
   {
    "duration": 5,
    "start_time": "2022-04-27T17:40:44.090Z"
   },
   {
    "duration": 171,
    "start_time": "2022-04-27T17:40:44.097Z"
   },
   {
    "duration": 286,
    "start_time": "2022-04-27T17:40:44.269Z"
   },
   {
    "duration": 681,
    "start_time": "2022-04-27T17:40:44.557Z"
   },
   {
    "duration": 399,
    "start_time": "2022-04-27T17:40:45.239Z"
   },
   {
    "duration": 41,
    "start_time": "2022-04-27T17:40:45.640Z"
   },
   {
    "duration": 56,
    "start_time": "2022-04-27T17:40:45.682Z"
   },
   {
    "duration": 4,
    "start_time": "2022-04-27T17:40:45.740Z"
   },
   {
    "duration": 9,
    "start_time": "2022-04-27T17:40:45.746Z"
   },
   {
    "duration": 20,
    "start_time": "2022-04-27T17:40:45.757Z"
   },
   {
    "duration": 7,
    "start_time": "2022-04-27T17:40:45.781Z"
   },
   {
    "duration": 22,
    "start_time": "2022-04-27T17:40:45.789Z"
   },
   {
    "duration": 879,
    "start_time": "2022-04-27T17:40:45.824Z"
   },
   {
    "duration": 20,
    "start_time": "2022-04-27T17:40:46.705Z"
   },
   {
    "duration": 1745,
    "start_time": "2022-04-27T17:40:46.727Z"
   },
   {
    "duration": 72,
    "start_time": "2022-04-29T09:07:41.325Z"
   },
   {
    "duration": 1844,
    "start_time": "2022-04-29T09:07:46.066Z"
   },
   {
    "duration": 6,
    "start_time": "2022-04-29T09:07:47.913Z"
   },
   {
    "duration": 217,
    "start_time": "2022-04-29T09:07:47.921Z"
   },
   {
    "duration": 35,
    "start_time": "2022-04-29T09:07:48.141Z"
   },
   {
    "duration": 37,
    "start_time": "2022-04-29T09:07:48.184Z"
   },
   {
    "duration": 19,
    "start_time": "2022-04-29T09:07:48.223Z"
   },
   {
    "duration": 69,
    "start_time": "2022-04-29T09:07:48.245Z"
   },
   {
    "duration": 6,
    "start_time": "2022-04-29T09:07:48.317Z"
   },
   {
    "duration": 32,
    "start_time": "2022-04-29T09:07:48.326Z"
   },
   {
    "duration": 55,
    "start_time": "2022-04-29T09:07:48.382Z"
   },
   {
    "duration": 62,
    "start_time": "2022-04-29T09:07:48.439Z"
   },
   {
    "duration": 22,
    "start_time": "2022-04-29T09:07:48.504Z"
   },
   {
    "duration": 73,
    "start_time": "2022-04-29T09:07:48.529Z"
   },
   {
    "duration": 7,
    "start_time": "2022-04-29T09:07:48.608Z"
   },
   {
    "duration": 15,
    "start_time": "2022-04-29T09:07:48.617Z"
   },
   {
    "duration": 11,
    "start_time": "2022-04-29T09:07:48.634Z"
   },
   {
    "duration": 41,
    "start_time": "2022-04-29T09:07:48.647Z"
   },
   {
    "duration": 15,
    "start_time": "2022-04-29T09:07:48.690Z"
   },
   {
    "duration": 10,
    "start_time": "2022-04-29T09:07:48.707Z"
   },
   {
    "duration": 11,
    "start_time": "2022-04-29T09:07:48.719Z"
   },
   {
    "duration": 8,
    "start_time": "2022-04-29T09:07:48.732Z"
   },
   {
    "duration": 42,
    "start_time": "2022-04-29T09:07:48.742Z"
   },
   {
    "duration": 30,
    "start_time": "2022-04-29T09:07:48.786Z"
   },
   {
    "duration": 36,
    "start_time": "2022-04-29T09:07:48.818Z"
   },
   {
    "duration": 31,
    "start_time": "2022-04-29T09:07:48.857Z"
   },
   {
    "duration": 23,
    "start_time": "2022-04-29T09:07:48.891Z"
   },
   {
    "duration": 114,
    "start_time": "2022-04-29T09:07:48.916Z"
   },
   {
    "duration": 62,
    "start_time": "2022-04-29T09:07:49.032Z"
   },
   {
    "duration": 241,
    "start_time": "2022-04-29T09:07:49.097Z"
   },
   {
    "duration": 8,
    "start_time": "2022-04-29T09:07:49.340Z"
   },
   {
    "duration": 272,
    "start_time": "2022-04-29T09:07:49.350Z"
   },
   {
    "duration": 446,
    "start_time": "2022-04-29T09:07:49.624Z"
   },
   {
    "duration": 1053,
    "start_time": "2022-04-29T09:07:50.073Z"
   },
   {
    "duration": 641,
    "start_time": "2022-04-29T09:07:51.129Z"
   },
   {
    "duration": 61,
    "start_time": "2022-04-29T09:07:51.772Z"
   },
   {
    "duration": 68,
    "start_time": "2022-04-29T09:07:51.836Z"
   },
   {
    "duration": 6,
    "start_time": "2022-04-29T09:07:51.906Z"
   },
   {
    "duration": 12,
    "start_time": "2022-04-29T09:07:51.915Z"
   },
   {
    "duration": 8,
    "start_time": "2022-04-29T09:07:51.929Z"
   },
   {
    "duration": 7,
    "start_time": "2022-04-29T09:07:51.940Z"
   },
   {
    "duration": 18,
    "start_time": "2022-04-29T09:07:51.984Z"
   },
   {
    "duration": 1315,
    "start_time": "2022-04-29T09:07:52.004Z"
   },
   {
    "duration": 14,
    "start_time": "2022-04-29T09:07:53.321Z"
   },
   {
    "duration": 2579,
    "start_time": "2022-04-29T09:07:53.337Z"
   },
   {
    "duration": 5,
    "start_time": "2022-04-29T09:08:55.433Z"
   },
   {
    "duration": 32,
    "start_time": "2022-04-29T09:08:59.985Z"
   },
   {
    "duration": 9,
    "start_time": "2022-04-29T09:17:16.435Z"
   },
   {
    "duration": 14,
    "start_time": "2022-04-29T09:22:41.729Z"
   },
   {
    "duration": 4,
    "start_time": "2022-04-29T09:23:22.417Z"
   },
   {
    "duration": 6,
    "start_time": "2022-04-29T09:23:22.426Z"
   },
   {
    "duration": 7,
    "start_time": "2022-04-29T09:23:22.434Z"
   },
   {
    "duration": 123,
    "start_time": "2022-04-29T09:23:22.443Z"
   },
   {
    "duration": 29,
    "start_time": "2022-04-29T09:23:22.569Z"
   },
   {
    "duration": 29,
    "start_time": "2022-04-29T09:23:22.600Z"
   },
   {
    "duration": 17,
    "start_time": "2022-04-29T09:23:22.631Z"
   },
   {
    "duration": 61,
    "start_time": "2022-04-29T09:23:22.650Z"
   },
   {
    "duration": 5,
    "start_time": "2022-04-29T09:23:22.714Z"
   },
   {
    "duration": 23,
    "start_time": "2022-04-29T09:23:22.722Z"
   },
   {
    "duration": 84,
    "start_time": "2022-04-29T09:23:22.747Z"
   },
   {
    "duration": 14,
    "start_time": "2022-04-29T09:23:22.833Z"
   },
   {
    "duration": 61,
    "start_time": "2022-04-29T09:23:22.849Z"
   },
   {
    "duration": 18,
    "start_time": "2022-04-29T09:23:22.912Z"
   },
   {
    "duration": 69,
    "start_time": "2022-04-29T09:23:22.933Z"
   },
   {
    "duration": 6,
    "start_time": "2022-04-29T09:23:23.004Z"
   },
   {
    "duration": 14,
    "start_time": "2022-04-29T09:23:23.012Z"
   },
   {
    "duration": 7,
    "start_time": "2022-04-29T09:23:23.028Z"
   },
   {
    "duration": 44,
    "start_time": "2022-04-29T09:23:23.038Z"
   },
   {
    "duration": 12,
    "start_time": "2022-04-29T09:23:23.084Z"
   },
   {
    "duration": 7,
    "start_time": "2022-04-29T09:23:23.098Z"
   },
   {
    "duration": 13,
    "start_time": "2022-04-29T09:23:23.108Z"
   },
   {
    "duration": 20,
    "start_time": "2022-04-29T09:23:23.124Z"
   },
   {
    "duration": 39,
    "start_time": "2022-04-29T09:23:23.146Z"
   },
   {
    "duration": 31,
    "start_time": "2022-04-29T09:23:23.190Z"
   },
   {
    "duration": 35,
    "start_time": "2022-04-29T09:23:23.223Z"
   },
   {
    "duration": 12,
    "start_time": "2022-04-29T09:23:23.281Z"
   },
   {
    "duration": 28,
    "start_time": "2022-04-29T09:23:23.296Z"
   },
   {
    "duration": 108,
    "start_time": "2022-04-29T09:23:23.327Z"
   },
   {
    "duration": 57,
    "start_time": "2022-04-29T09:23:23.437Z"
   },
   {
    "duration": 230,
    "start_time": "2022-04-29T09:23:23.496Z"
   },
   {
    "duration": 7,
    "start_time": "2022-04-29T09:23:23.728Z"
   },
   {
    "duration": 265,
    "start_time": "2022-04-29T09:23:23.737Z"
   },
   {
    "duration": 563,
    "start_time": "2022-04-29T09:23:24.004Z"
   },
   {
    "duration": 972,
    "start_time": "2022-04-29T09:23:24.569Z"
   },
   {
    "duration": 633,
    "start_time": "2022-04-29T09:23:25.544Z"
   },
   {
    "duration": 57,
    "start_time": "2022-04-29T09:23:26.179Z"
   },
   {
    "duration": 477,
    "start_time": "2022-04-29T09:23:26.239Z"
   },
   {
    "duration": 6,
    "start_time": "2022-04-29T09:23:26.718Z"
   },
   {
    "duration": 17,
    "start_time": "2022-04-29T09:23:26.726Z"
   },
   {
    "duration": 16,
    "start_time": "2022-04-29T09:23:26.745Z"
   },
   {
    "duration": 24,
    "start_time": "2022-04-29T09:23:26.763Z"
   },
   {
    "duration": 26,
    "start_time": "2022-04-29T09:23:26.789Z"
   },
   {
    "duration": 1115,
    "start_time": "2022-04-29T09:23:26.817Z"
   },
   {
    "duration": 14,
    "start_time": "2022-04-29T09:23:27.934Z"
   },
   {
    "duration": 2605,
    "start_time": "2022-04-29T09:23:27.951Z"
   },
   {
    "duration": 6,
    "start_time": "2022-04-29T09:28:25.668Z"
   },
   {
    "duration": 15,
    "start_time": "2022-04-29T09:29:37.528Z"
   },
   {
    "duration": 112,
    "start_time": "2022-04-29T09:32:15.318Z"
   },
   {
    "duration": 7,
    "start_time": "2022-04-29T09:32:19.607Z"
   },
   {
    "duration": 5,
    "start_time": "2022-04-29T09:35:12.018Z"
   },
   {
    "duration": 8,
    "start_time": "2022-04-29T09:35:12.025Z"
   },
   {
    "duration": 12,
    "start_time": "2022-04-29T09:35:12.035Z"
   },
   {
    "duration": 119,
    "start_time": "2022-04-29T09:35:12.049Z"
   },
   {
    "duration": 30,
    "start_time": "2022-04-29T09:35:12.171Z"
   },
   {
    "duration": 30,
    "start_time": "2022-04-29T09:35:12.204Z"
   },
   {
    "duration": 54,
    "start_time": "2022-04-29T09:35:12.237Z"
   },
   {
    "duration": 36,
    "start_time": "2022-04-29T09:35:12.293Z"
   },
   {
    "duration": 6,
    "start_time": "2022-04-29T09:35:12.331Z"
   },
   {
    "duration": 56,
    "start_time": "2022-04-29T09:35:12.339Z"
   },
   {
    "duration": 83,
    "start_time": "2022-04-29T09:35:12.399Z"
   },
   {
    "duration": 13,
    "start_time": "2022-04-29T09:35:12.484Z"
   },
   {
    "duration": 31,
    "start_time": "2022-04-29T09:35:12.499Z"
   },
   {
    "duration": 53,
    "start_time": "2022-04-29T09:35:12.532Z"
   },
   {
    "duration": 38,
    "start_time": "2022-04-29T09:35:12.587Z"
   },
   {
    "duration": 12,
    "start_time": "2022-04-29T09:35:12.628Z"
   },
   {
    "duration": 6,
    "start_time": "2022-04-29T09:35:12.643Z"
   },
   {
    "duration": 12,
    "start_time": "2022-04-29T09:35:12.681Z"
   },
   {
    "duration": 12,
    "start_time": "2022-04-29T09:35:12.695Z"
   },
   {
    "duration": 11,
    "start_time": "2022-04-29T09:35:12.709Z"
   },
   {
    "duration": 12,
    "start_time": "2022-04-29T09:35:12.722Z"
   },
   {
    "duration": 46,
    "start_time": "2022-04-29T09:35:12.736Z"
   },
   {
    "duration": 12,
    "start_time": "2022-04-29T09:35:12.785Z"
   },
   {
    "duration": 13,
    "start_time": "2022-04-29T09:35:12.799Z"
   },
   {
    "duration": 17,
    "start_time": "2022-04-29T09:35:12.814Z"
   },
   {
    "duration": 13,
    "start_time": "2022-04-29T09:35:12.837Z"
   },
   {
    "duration": 42,
    "start_time": "2022-04-29T09:35:12.852Z"
   },
   {
    "duration": 35,
    "start_time": "2022-04-29T09:35:12.897Z"
   },
   {
    "duration": 6,
    "start_time": "2022-04-29T09:35:12.935Z"
   },
   {
    "duration": 0,
    "start_time": "2022-04-29T09:35:12.944Z"
   },
   {
    "duration": 0,
    "start_time": "2022-04-29T09:35:12.947Z"
   },
   {
    "duration": 0,
    "start_time": "2022-04-29T09:35:12.982Z"
   },
   {
    "duration": 0,
    "start_time": "2022-04-29T09:35:12.984Z"
   },
   {
    "duration": 0,
    "start_time": "2022-04-29T09:35:12.986Z"
   },
   {
    "duration": 0,
    "start_time": "2022-04-29T09:35:12.989Z"
   },
   {
    "duration": 0,
    "start_time": "2022-04-29T09:35:12.991Z"
   },
   {
    "duration": 0,
    "start_time": "2022-04-29T09:35:12.993Z"
   },
   {
    "duration": 0,
    "start_time": "2022-04-29T09:35:12.996Z"
   },
   {
    "duration": 0,
    "start_time": "2022-04-29T09:35:12.997Z"
   },
   {
    "duration": 0,
    "start_time": "2022-04-29T09:35:13.000Z"
   },
   {
    "duration": 0,
    "start_time": "2022-04-29T09:35:13.002Z"
   },
   {
    "duration": 0,
    "start_time": "2022-04-29T09:35:13.004Z"
   },
   {
    "duration": 0,
    "start_time": "2022-04-29T09:35:13.005Z"
   },
   {
    "duration": 0,
    "start_time": "2022-04-29T09:35:13.007Z"
   },
   {
    "duration": 0,
    "start_time": "2022-04-29T09:35:13.008Z"
   },
   {
    "duration": 0,
    "start_time": "2022-04-29T09:35:13.010Z"
   },
   {
    "duration": 0,
    "start_time": "2022-04-29T09:35:13.011Z"
   },
   {
    "duration": 0,
    "start_time": "2022-04-29T09:35:13.012Z"
   },
   {
    "duration": 6,
    "start_time": "2022-04-29T09:36:09.448Z"
   },
   {
    "duration": 13,
    "start_time": "2022-04-29T09:36:57.947Z"
   },
   {
    "duration": 9,
    "start_time": "2022-04-29T09:37:03.118Z"
   },
   {
    "duration": 9,
    "start_time": "2022-04-29T09:39:15.377Z"
   },
   {
    "duration": 22,
    "start_time": "2022-04-29T09:39:48.909Z"
   },
   {
    "duration": 27,
    "start_time": "2022-04-29T09:40:41.324Z"
   },
   {
    "duration": 274,
    "start_time": "2022-04-29T09:43:25.777Z"
   },
   {
    "duration": 7,
    "start_time": "2022-04-29T09:44:30.387Z"
   },
   {
    "duration": 122,
    "start_time": "2022-04-29T09:46:25.119Z"
   },
   {
    "duration": 4,
    "start_time": "2022-04-29T09:46:33.410Z"
   },
   {
    "duration": 6,
    "start_time": "2022-04-29T09:46:33.418Z"
   },
   {
    "duration": 8,
    "start_time": "2022-04-29T09:46:33.426Z"
   },
   {
    "duration": 118,
    "start_time": "2022-04-29T09:46:33.437Z"
   },
   {
    "duration": 32,
    "start_time": "2022-04-29T09:46:33.558Z"
   },
   {
    "duration": 29,
    "start_time": "2022-04-29T09:46:33.592Z"
   },
   {
    "duration": 18,
    "start_time": "2022-04-29T09:46:33.625Z"
   },
   {
    "duration": 68,
    "start_time": "2022-04-29T09:46:33.646Z"
   },
   {
    "duration": 4,
    "start_time": "2022-04-29T09:46:33.717Z"
   },
   {
    "duration": 26,
    "start_time": "2022-04-29T09:46:33.724Z"
   },
   {
    "duration": 78,
    "start_time": "2022-04-29T09:46:33.752Z"
   },
   {
    "duration": 13,
    "start_time": "2022-04-29T09:46:33.832Z"
   },
   {
    "duration": 55,
    "start_time": "2022-04-29T09:46:33.848Z"
   },
   {
    "duration": 20,
    "start_time": "2022-04-29T09:46:33.907Z"
   },
   {
    "duration": 69,
    "start_time": "2022-04-29T09:46:33.929Z"
   },
   {
    "duration": 12,
    "start_time": "2022-04-29T09:46:34.001Z"
   },
   {
    "duration": 7,
    "start_time": "2022-04-29T09:46:34.015Z"
   },
   {
    "duration": 14,
    "start_time": "2022-04-29T09:46:34.024Z"
   },
   {
    "duration": 42,
    "start_time": "2022-04-29T09:46:34.040Z"
   },
   {
    "duration": 9,
    "start_time": "2022-04-29T09:46:34.085Z"
   },
   {
    "duration": 12,
    "start_time": "2022-04-29T09:46:34.097Z"
   },
   {
    "duration": 11,
    "start_time": "2022-04-29T09:46:34.111Z"
   },
   {
    "duration": 14,
    "start_time": "2022-04-29T09:46:34.125Z"
   },
   {
    "duration": 9,
    "start_time": "2022-04-29T09:46:34.181Z"
   },
   {
    "duration": 14,
    "start_time": "2022-04-29T09:46:34.193Z"
   },
   {
    "duration": 10,
    "start_time": "2022-04-29T09:46:34.210Z"
   },
   {
    "duration": 64,
    "start_time": "2022-04-29T09:46:34.224Z"
   },
   {
    "duration": 37,
    "start_time": "2022-04-29T09:46:34.290Z"
   },
   {
    "duration": 13,
    "start_time": "2022-04-29T09:46:34.329Z"
   },
   {
    "duration": 90,
    "start_time": "2022-04-29T09:46:34.344Z"
   },
   {
    "duration": 1,
    "start_time": "2022-04-29T09:46:34.437Z"
   },
   {
    "duration": 0,
    "start_time": "2022-04-29T09:46:34.439Z"
   },
   {
    "duration": 0,
    "start_time": "2022-04-29T09:46:34.441Z"
   },
   {
    "duration": 0,
    "start_time": "2022-04-29T09:46:34.443Z"
   },
   {
    "duration": 0,
    "start_time": "2022-04-29T09:46:34.445Z"
   },
   {
    "duration": 0,
    "start_time": "2022-04-29T09:46:34.447Z"
   },
   {
    "duration": 0,
    "start_time": "2022-04-29T09:46:34.450Z"
   },
   {
    "duration": 0,
    "start_time": "2022-04-29T09:46:34.452Z"
   },
   {
    "duration": 0,
    "start_time": "2022-04-29T09:46:34.483Z"
   },
   {
    "duration": 0,
    "start_time": "2022-04-29T09:46:34.485Z"
   },
   {
    "duration": 0,
    "start_time": "2022-04-29T09:46:34.487Z"
   },
   {
    "duration": 0,
    "start_time": "2022-04-29T09:46:34.489Z"
   },
   {
    "duration": 0,
    "start_time": "2022-04-29T09:46:34.491Z"
   },
   {
    "duration": 0,
    "start_time": "2022-04-29T09:46:34.493Z"
   },
   {
    "duration": 0,
    "start_time": "2022-04-29T09:46:34.495Z"
   },
   {
    "duration": 0,
    "start_time": "2022-04-29T09:46:34.497Z"
   },
   {
    "duration": 0,
    "start_time": "2022-04-29T09:46:34.499Z"
   },
   {
    "duration": 0,
    "start_time": "2022-04-29T09:46:34.501Z"
   },
   {
    "duration": 0,
    "start_time": "2022-04-29T09:46:34.503Z"
   },
   {
    "duration": 13,
    "start_time": "2022-04-29T09:47:24.329Z"
   },
   {
    "duration": 13,
    "start_time": "2022-04-29T09:47:35.067Z"
   },
   {
    "duration": 250,
    "start_time": "2022-04-29T09:48:54.019Z"
   },
   {
    "duration": 525,
    "start_time": "2022-04-29T09:51:15.018Z"
   },
   {
    "duration": 381,
    "start_time": "2022-04-29T09:51:21.878Z"
   },
   {
    "duration": 241,
    "start_time": "2022-04-29T09:51:26.034Z"
   },
   {
    "duration": 242,
    "start_time": "2022-04-29T09:51:32.657Z"
   },
   {
    "duration": 235,
    "start_time": "2022-04-29T09:51:40.256Z"
   },
   {
    "duration": 249,
    "start_time": "2022-04-29T09:51:50.858Z"
   },
   {
    "duration": 259,
    "start_time": "2022-04-29T09:51:54.617Z"
   },
   {
    "duration": 27,
    "start_time": "2022-04-29T09:52:58.187Z"
   },
   {
    "duration": 4,
    "start_time": "2022-04-29T09:53:19.561Z"
   },
   {
    "duration": 8,
    "start_time": "2022-04-29T09:53:19.567Z"
   },
   {
    "duration": 8,
    "start_time": "2022-04-29T09:53:19.577Z"
   },
   {
    "duration": 128,
    "start_time": "2022-04-29T09:53:19.587Z"
   },
   {
    "duration": 30,
    "start_time": "2022-04-29T09:53:19.719Z"
   },
   {
    "duration": 43,
    "start_time": "2022-04-29T09:53:19.752Z"
   },
   {
    "duration": 25,
    "start_time": "2022-04-29T09:53:19.797Z"
   },
   {
    "duration": 58,
    "start_time": "2022-04-29T09:53:19.824Z"
   },
   {
    "duration": 5,
    "start_time": "2022-04-29T09:53:19.884Z"
   },
   {
    "duration": 30,
    "start_time": "2022-04-29T09:53:19.891Z"
   },
   {
    "duration": 76,
    "start_time": "2022-04-29T09:53:19.924Z"
   },
   {
    "duration": 15,
    "start_time": "2022-04-29T09:53:20.002Z"
   },
   {
    "duration": 36,
    "start_time": "2022-04-29T09:53:20.019Z"
   },
   {
    "duration": 33,
    "start_time": "2022-04-29T09:53:20.083Z"
   },
   {
    "duration": 89,
    "start_time": "2022-04-29T09:53:20.119Z"
   },
   {
    "duration": 19,
    "start_time": "2022-04-29T09:53:20.211Z"
   },
   {
    "duration": 8,
    "start_time": "2022-04-29T09:53:20.233Z"
   },
   {
    "duration": 42,
    "start_time": "2022-04-29T09:53:20.244Z"
   },
   {
    "duration": 8,
    "start_time": "2022-04-29T09:53:20.289Z"
   },
   {
    "duration": 15,
    "start_time": "2022-04-29T09:53:20.300Z"
   },
   {
    "duration": 14,
    "start_time": "2022-04-29T09:53:20.318Z"
   },
   {
    "duration": 47,
    "start_time": "2022-04-29T09:53:20.335Z"
   },
   {
    "duration": 14,
    "start_time": "2022-04-29T09:53:20.385Z"
   },
   {
    "duration": 19,
    "start_time": "2022-04-29T09:53:20.402Z"
   },
   {
    "duration": 16,
    "start_time": "2022-04-29T09:53:20.423Z"
   },
   {
    "duration": 11,
    "start_time": "2022-04-29T09:53:20.442Z"
   },
   {
    "duration": 53,
    "start_time": "2022-04-29T09:53:20.455Z"
   },
   {
    "duration": 74,
    "start_time": "2022-04-29T09:53:20.510Z"
   },
   {
    "duration": 13,
    "start_time": "2022-04-29T09:53:20.586Z"
   },
   {
    "duration": 287,
    "start_time": "2022-04-29T09:53:20.602Z"
   },
   {
    "duration": 28,
    "start_time": "2022-04-29T09:53:20.892Z"
   },
   {
    "duration": 24,
    "start_time": "2022-04-29T09:53:20.923Z"
   },
   {
    "duration": 104,
    "start_time": "2022-04-29T09:53:20.950Z"
   },
   {
    "duration": 61,
    "start_time": "2022-04-29T09:53:21.057Z"
   },
   {
    "duration": 228,
    "start_time": "2022-04-29T09:53:21.121Z"
   },
   {
    "duration": 7,
    "start_time": "2022-04-29T09:53:21.352Z"
   },
   {
    "duration": 374,
    "start_time": "2022-04-29T09:53:21.361Z"
   },
   {
    "duration": 458,
    "start_time": "2022-04-29T09:53:21.737Z"
   },
   {
    "duration": 1117,
    "start_time": "2022-04-29T09:53:22.198Z"
   },
   {
    "duration": 622,
    "start_time": "2022-04-29T09:53:23.317Z"
   },
   {
    "duration": 74,
    "start_time": "2022-04-29T09:53:23.945Z"
   },
   {
    "duration": 67,
    "start_time": "2022-04-29T09:53:24.021Z"
   },
   {
    "duration": 6,
    "start_time": "2022-04-29T09:53:24.090Z"
   },
   {
    "duration": 10,
    "start_time": "2022-04-29T09:53:24.098Z"
   },
   {
    "duration": 9,
    "start_time": "2022-04-29T09:53:24.110Z"
   },
   {
    "duration": 11,
    "start_time": "2022-04-29T09:53:24.121Z"
   },
   {
    "duration": 54,
    "start_time": "2022-04-29T09:53:24.135Z"
   },
   {
    "duration": 1669,
    "start_time": "2022-04-29T09:53:24.191Z"
   },
   {
    "duration": 22,
    "start_time": "2022-04-29T09:53:25.862Z"
   },
   {
    "duration": 2716,
    "start_time": "2022-04-29T09:53:25.886Z"
   },
   {
    "duration": 7,
    "start_time": "2022-04-29T09:55:05.307Z"
   },
   {
    "duration": 8,
    "start_time": "2022-04-29T09:55:28.067Z"
   },
   {
    "duration": 8,
    "start_time": "2022-04-29T09:55:38.097Z"
   },
   {
    "duration": 9,
    "start_time": "2022-04-29T09:56:07.100Z"
   },
   {
    "duration": 9,
    "start_time": "2022-04-29T09:56:32.591Z"
   },
   {
    "duration": 10,
    "start_time": "2022-04-29T09:56:40.894Z"
   },
   {
    "duration": 9,
    "start_time": "2022-04-29T09:56:44.937Z"
   },
   {
    "duration": 8,
    "start_time": "2022-04-29T09:57:29.148Z"
   },
   {
    "duration": 11,
    "start_time": "2022-04-29T09:57:38.468Z"
   },
   {
    "duration": 10,
    "start_time": "2022-04-29T09:58:40.298Z"
   },
   {
    "duration": 10,
    "start_time": "2022-04-29T09:59:09.467Z"
   },
   {
    "duration": 8,
    "start_time": "2022-04-29T09:59:24.885Z"
   },
   {
    "duration": 274,
    "start_time": "2022-04-29T10:00:28.887Z"
   },
   {
    "duration": 266,
    "start_time": "2022-04-29T10:00:38.138Z"
   },
   {
    "duration": 294,
    "start_time": "2022-04-29T10:00:52.435Z"
   },
   {
    "duration": 2037,
    "start_time": "2022-04-29T10:02:30.586Z"
   },
   {
    "duration": 9,
    "start_time": "2022-04-29T10:02:40.628Z"
   },
   {
    "duration": 9,
    "start_time": "2022-04-29T10:02:48.857Z"
   },
   {
    "duration": 9,
    "start_time": "2022-04-29T10:02:53.077Z"
   },
   {
    "duration": 9,
    "start_time": "2022-04-29T10:02:56.906Z"
   },
   {
    "duration": 9,
    "start_time": "2022-04-29T10:03:11.947Z"
   },
   {
    "duration": 9,
    "start_time": "2022-04-29T10:03:15.067Z"
   },
   {
    "duration": 274,
    "start_time": "2022-04-29T10:03:30.915Z"
   },
   {
    "duration": 277,
    "start_time": "2022-04-29T10:03:38.988Z"
   },
   {
    "duration": 273,
    "start_time": "2022-04-29T10:03:43.317Z"
   },
   {
    "duration": 273,
    "start_time": "2022-04-29T10:03:47.235Z"
   },
   {
    "duration": 279,
    "start_time": "2022-04-29T10:03:50.379Z"
   },
   {
    "duration": 278,
    "start_time": "2022-04-29T10:04:01.910Z"
   },
   {
    "duration": 502,
    "start_time": "2022-04-29T10:04:05.991Z"
   },
   {
    "duration": 5,
    "start_time": "2022-04-29T10:04:08.509Z"
   },
   {
    "duration": 292,
    "start_time": "2022-04-29T10:04:12.027Z"
   },
   {
    "duration": 8,
    "start_time": "2022-04-29T10:04:25.807Z"
   },
   {
    "duration": 9,
    "start_time": "2022-04-29T10:04:51.523Z"
   },
   {
    "duration": 10,
    "start_time": "2022-04-29T10:04:57.377Z"
   },
   {
    "duration": 9,
    "start_time": "2022-04-29T10:06:07.432Z"
   },
   {
    "duration": 7,
    "start_time": "2022-04-29T10:07:13.231Z"
   },
   {
    "duration": 1799,
    "start_time": "2022-04-29T10:07:21.151Z"
   },
   {
    "duration": 10,
    "start_time": "2022-04-29T10:07:36.789Z"
   },
   {
    "duration": 25,
    "start_time": "2022-04-29T10:08:17.649Z"
   },
   {
    "duration": 5,
    "start_time": "2022-04-29T10:10:32.678Z"
   },
   {
    "duration": 9,
    "start_time": "2022-04-29T10:10:32.685Z"
   },
   {
    "duration": 7,
    "start_time": "2022-04-29T10:10:32.696Z"
   },
   {
    "duration": 141,
    "start_time": "2022-04-29T10:10:32.706Z"
   },
   {
    "duration": 30,
    "start_time": "2022-04-29T10:10:32.849Z"
   },
   {
    "duration": 29,
    "start_time": "2022-04-29T10:10:32.881Z"
   },
   {
    "duration": 19,
    "start_time": "2022-04-29T10:10:32.912Z"
   },
   {
    "duration": 68,
    "start_time": "2022-04-29T10:10:32.934Z"
   },
   {
    "duration": 5,
    "start_time": "2022-04-29T10:10:33.004Z"
   },
   {
    "duration": 31,
    "start_time": "2022-04-29T10:10:33.011Z"
   },
   {
    "duration": 76,
    "start_time": "2022-04-29T10:10:33.044Z"
   },
   {
    "duration": 15,
    "start_time": "2022-04-29T10:10:33.122Z"
   },
   {
    "duration": 62,
    "start_time": "2022-04-29T10:10:33.140Z"
   },
   {
    "duration": 21,
    "start_time": "2022-04-29T10:10:33.205Z"
   },
   {
    "duration": 72,
    "start_time": "2022-04-29T10:10:33.229Z"
   },
   {
    "duration": 15,
    "start_time": "2022-04-29T10:10:33.303Z"
   },
   {
    "duration": 8,
    "start_time": "2022-04-29T10:10:33.321Z"
   },
   {
    "duration": 17,
    "start_time": "2022-04-29T10:10:33.331Z"
   },
   {
    "duration": 8,
    "start_time": "2022-04-29T10:10:33.385Z"
   },
   {
    "duration": 17,
    "start_time": "2022-04-29T10:10:33.395Z"
   },
   {
    "duration": 9,
    "start_time": "2022-04-29T10:10:33.414Z"
   },
   {
    "duration": 7,
    "start_time": "2022-04-29T10:10:33.426Z"
   },
   {
    "duration": 53,
    "start_time": "2022-04-29T10:10:33.435Z"
   },
   {
    "duration": 15,
    "start_time": "2022-04-29T10:10:33.490Z"
   },
   {
    "duration": 11,
    "start_time": "2022-04-29T10:10:33.507Z"
   },
   {
    "duration": 17,
    "start_time": "2022-04-29T10:10:33.520Z"
   },
   {
    "duration": 46,
    "start_time": "2022-04-29T10:10:33.540Z"
   },
   {
    "duration": 49,
    "start_time": "2022-04-29T10:10:33.589Z"
   },
   {
    "duration": 46,
    "start_time": "2022-04-29T10:10:33.640Z"
   },
   {
    "duration": 286,
    "start_time": "2022-04-29T10:10:33.689Z"
   },
   {
    "duration": 27,
    "start_time": "2022-04-29T10:10:33.981Z"
   },
   {
    "duration": 39,
    "start_time": "2022-04-29T10:10:34.010Z"
   },
   {
    "duration": 51,
    "start_time": "2022-04-29T10:10:34.051Z"
   },
   {
    "duration": 45,
    "start_time": "2022-04-29T10:10:34.104Z"
   },
   {
    "duration": 72,
    "start_time": "2022-04-29T10:10:34.152Z"
   },
   {
    "duration": 277,
    "start_time": "2022-04-29T10:10:34.227Z"
   },
   {
    "duration": 6,
    "start_time": "2022-04-29T10:10:34.506Z"
   },
   {
    "duration": 238,
    "start_time": "2022-04-29T10:10:34.514Z"
   },
   {
    "duration": 474,
    "start_time": "2022-04-29T10:10:34.754Z"
   },
   {
    "duration": 1070,
    "start_time": "2022-04-29T10:10:35.231Z"
   },
   {
    "duration": 872,
    "start_time": "2022-04-29T10:10:36.304Z"
   },
   {
    "duration": 59,
    "start_time": "2022-04-29T10:10:37.182Z"
   },
   {
    "duration": 87,
    "start_time": "2022-04-29T10:10:37.243Z"
   },
   {
    "duration": 7,
    "start_time": "2022-04-29T10:10:37.332Z"
   },
   {
    "duration": 8,
    "start_time": "2022-04-29T10:10:37.342Z"
   },
   {
    "duration": 30,
    "start_time": "2022-04-29T10:10:37.353Z"
   },
   {
    "duration": 11,
    "start_time": "2022-04-29T10:10:37.386Z"
   },
   {
    "duration": 27,
    "start_time": "2022-04-29T10:10:37.399Z"
   },
   {
    "duration": 1272,
    "start_time": "2022-04-29T10:10:37.429Z"
   },
   {
    "duration": 15,
    "start_time": "2022-04-29T10:10:38.704Z"
   },
   {
    "duration": 2747,
    "start_time": "2022-04-29T10:10:38.721Z"
   },
   {
    "duration": 5,
    "start_time": "2022-04-29T10:12:49.928Z"
   },
   {
    "duration": 4,
    "start_time": "2022-04-29T10:12:49.943Z"
   },
   {
    "duration": 49,
    "start_time": "2022-04-29T10:12:49.950Z"
   },
   {
    "duration": 117,
    "start_time": "2022-04-29T10:12:50.002Z"
   },
   {
    "duration": 30,
    "start_time": "2022-04-29T10:12:50.121Z"
   },
   {
    "duration": 31,
    "start_time": "2022-04-29T10:12:50.154Z"
   },
   {
    "duration": 18,
    "start_time": "2022-04-29T10:12:50.187Z"
   },
   {
    "duration": 40,
    "start_time": "2022-04-29T10:12:50.208Z"
   },
   {
    "duration": 32,
    "start_time": "2022-04-29T10:12:50.250Z"
   },
   {
    "duration": 35,
    "start_time": "2022-04-29T10:12:50.285Z"
   },
   {
    "duration": 79,
    "start_time": "2022-04-29T10:12:50.323Z"
   },
   {
    "duration": 14,
    "start_time": "2022-04-29T10:12:50.404Z"
   },
   {
    "duration": 32,
    "start_time": "2022-04-29T10:12:50.420Z"
   },
   {
    "duration": 20,
    "start_time": "2022-04-29T10:12:50.482Z"
   },
   {
    "duration": 42,
    "start_time": "2022-04-29T10:12:50.507Z"
   },
   {
    "duration": 14,
    "start_time": "2022-04-29T10:12:50.581Z"
   },
   {
    "duration": 9,
    "start_time": "2022-04-29T10:12:50.597Z"
   },
   {
    "duration": 19,
    "start_time": "2022-04-29T10:12:50.608Z"
   },
   {
    "duration": 8,
    "start_time": "2022-04-29T10:12:50.629Z"
   },
   {
    "duration": 51,
    "start_time": "2022-04-29T10:12:50.639Z"
   },
   {
    "duration": 12,
    "start_time": "2022-04-29T10:12:50.692Z"
   },
   {
    "duration": 7,
    "start_time": "2022-04-29T10:12:50.707Z"
   },
   {
    "duration": 18,
    "start_time": "2022-04-29T10:12:50.717Z"
   },
   {
    "duration": 8,
    "start_time": "2022-04-29T10:12:50.738Z"
   },
   {
    "duration": 8,
    "start_time": "2022-04-29T10:12:50.783Z"
   },
   {
    "duration": 11,
    "start_time": "2022-04-29T10:12:50.793Z"
   },
   {
    "duration": 27,
    "start_time": "2022-04-29T10:12:50.806Z"
   },
   {
    "duration": 68,
    "start_time": "2022-04-29T10:12:50.835Z"
   },
   {
    "duration": 13,
    "start_time": "2022-04-29T10:12:50.906Z"
   },
   {
    "duration": 288,
    "start_time": "2022-04-29T10:12:50.921Z"
   },
   {
    "duration": 32,
    "start_time": "2022-04-29T10:12:51.211Z"
   },
   {
    "duration": 60,
    "start_time": "2022-04-29T10:12:51.245Z"
   },
   {
    "duration": 25,
    "start_time": "2022-04-29T10:12:51.308Z"
   },
   {
    "duration": 82,
    "start_time": "2022-04-29T10:12:51.335Z"
   },
   {
    "duration": 48,
    "start_time": "2022-04-29T10:12:51.420Z"
   },
   {
    "duration": 226,
    "start_time": "2022-04-29T10:12:51.482Z"
   },
   {
    "duration": 8,
    "start_time": "2022-04-29T10:12:51.710Z"
   },
   {
    "duration": 260,
    "start_time": "2022-04-29T10:12:51.721Z"
   },
   {
    "duration": 726,
    "start_time": "2022-04-29T10:12:51.984Z"
   },
   {
    "duration": 1394,
    "start_time": "2022-04-29T10:12:52.713Z"
   },
   {
    "duration": 847,
    "start_time": "2022-04-29T10:12:54.110Z"
   },
   {
    "duration": 68,
    "start_time": "2022-04-29T10:12:54.963Z"
   },
   {
    "duration": 75,
    "start_time": "2022-04-29T10:12:55.034Z"
   },
   {
    "duration": 7,
    "start_time": "2022-04-29T10:12:55.112Z"
   },
   {
    "duration": 9,
    "start_time": "2022-04-29T10:12:55.121Z"
   },
   {
    "duration": 8,
    "start_time": "2022-04-29T10:12:55.133Z"
   },
   {
    "duration": 40,
    "start_time": "2022-04-29T10:12:55.143Z"
   },
   {
    "duration": 21,
    "start_time": "2022-04-29T10:12:55.186Z"
   },
   {
    "duration": 1579,
    "start_time": "2022-04-29T10:12:55.209Z"
   },
   {
    "duration": 15,
    "start_time": "2022-04-29T10:12:56.790Z"
   },
   {
    "duration": 2312,
    "start_time": "2022-04-29T10:12:56.807Z"
   },
   {
    "duration": 3,
    "start_time": "2022-04-29T10:13:44.941Z"
   },
   {
    "duration": 11,
    "start_time": "2022-04-29T10:13:44.947Z"
   },
   {
    "duration": 9,
    "start_time": "2022-04-29T10:13:44.960Z"
   },
   {
    "duration": 114,
    "start_time": "2022-04-29T10:13:44.971Z"
   },
   {
    "duration": 31,
    "start_time": "2022-04-29T10:13:45.088Z"
   },
   {
    "duration": 26,
    "start_time": "2022-04-29T10:13:45.121Z"
   },
   {
    "duration": 17,
    "start_time": "2022-04-29T10:13:45.181Z"
   },
   {
    "duration": 38,
    "start_time": "2022-04-29T10:13:45.201Z"
   },
   {
    "duration": 6,
    "start_time": "2022-04-29T10:13:45.242Z"
   },
   {
    "duration": 52,
    "start_time": "2022-04-29T10:13:45.251Z"
   },
   {
    "duration": 52,
    "start_time": "2022-04-29T10:13:45.305Z"
   },
   {
    "duration": 31,
    "start_time": "2022-04-29T10:13:45.360Z"
   },
   {
    "duration": 31,
    "start_time": "2022-04-29T10:13:45.393Z"
   },
   {
    "duration": 54,
    "start_time": "2022-04-29T10:13:45.429Z"
   },
   {
    "duration": 42,
    "start_time": "2022-04-29T10:13:45.485Z"
   },
   {
    "duration": 14,
    "start_time": "2022-04-29T10:13:45.529Z"
   },
   {
    "duration": 41,
    "start_time": "2022-04-29T10:13:45.546Z"
   },
   {
    "duration": 35,
    "start_time": "2022-04-29T10:13:45.589Z"
   },
   {
    "duration": 12,
    "start_time": "2022-04-29T10:13:45.626Z"
   },
   {
    "duration": 15,
    "start_time": "2022-04-29T10:13:45.640Z"
   },
   {
    "duration": 15,
    "start_time": "2022-04-29T10:13:45.657Z"
   },
   {
    "duration": 10,
    "start_time": "2022-04-29T10:13:45.675Z"
   },
   {
    "duration": 10,
    "start_time": "2022-04-29T10:13:45.688Z"
   },
   {
    "duration": 9,
    "start_time": "2022-04-29T10:13:45.701Z"
   },
   {
    "duration": 15,
    "start_time": "2022-04-29T10:13:45.712Z"
   },
   {
    "duration": 11,
    "start_time": "2022-04-29T10:13:45.729Z"
   },
   {
    "duration": 57,
    "start_time": "2022-04-29T10:13:45.742Z"
   },
   {
    "duration": 36,
    "start_time": "2022-04-29T10:13:45.801Z"
   },
   {
    "duration": 18,
    "start_time": "2022-04-29T10:13:45.839Z"
   },
   {
    "duration": 275,
    "start_time": "2022-04-29T10:13:45.881Z"
   },
   {
    "duration": 44,
    "start_time": "2022-04-29T10:13:46.158Z"
   },
   {
    "duration": 33,
    "start_time": "2022-04-29T10:13:46.204Z"
   },
   {
    "duration": 44,
    "start_time": "2022-04-29T10:13:46.239Z"
   },
   {
    "duration": 76,
    "start_time": "2022-04-29T10:13:46.286Z"
   },
   {
    "duration": 58,
    "start_time": "2022-04-29T10:13:46.364Z"
   },
   {
    "duration": 242,
    "start_time": "2022-04-29T10:13:46.424Z"
   },
   {
    "duration": 12,
    "start_time": "2022-04-29T10:13:46.669Z"
   },
   {
    "duration": 286,
    "start_time": "2022-04-29T10:13:46.684Z"
   },
   {
    "duration": 450,
    "start_time": "2022-04-29T10:13:46.972Z"
   },
   {
    "duration": 1205,
    "start_time": "2022-04-29T10:13:47.424Z"
   },
   {
    "duration": 630,
    "start_time": "2022-04-29T10:13:48.634Z"
   },
   {
    "duration": 65,
    "start_time": "2022-04-29T10:13:49.266Z"
   },
   {
    "duration": 64,
    "start_time": "2022-04-29T10:13:49.333Z"
   },
   {
    "duration": 5,
    "start_time": "2022-04-29T10:13:49.399Z"
   },
   {
    "duration": 21,
    "start_time": "2022-04-29T10:13:49.406Z"
   },
   {
    "duration": 8,
    "start_time": "2022-04-29T10:13:49.429Z"
   },
   {
    "duration": 10,
    "start_time": "2022-04-29T10:13:49.439Z"
   },
   {
    "duration": 43,
    "start_time": "2022-04-29T10:13:49.451Z"
   },
   {
    "duration": 1097,
    "start_time": "2022-04-29T10:13:49.496Z"
   },
   {
    "duration": 14,
    "start_time": "2022-04-29T10:13:50.595Z"
   },
   {
    "duration": 2494,
    "start_time": "2022-04-29T10:13:50.612Z"
   },
   {
    "duration": 43,
    "start_time": "2022-04-29T10:14:12.159Z"
   },
   {
    "duration": 4,
    "start_time": "2022-04-29T10:14:23.332Z"
   },
   {
    "duration": 5,
    "start_time": "2022-04-29T10:14:23.339Z"
   },
   {
    "duration": 9,
    "start_time": "2022-04-29T10:14:23.346Z"
   },
   {
    "duration": 116,
    "start_time": "2022-04-29T10:14:23.358Z"
   },
   {
    "duration": 32,
    "start_time": "2022-04-29T10:14:23.477Z"
   },
   {
    "duration": 27,
    "start_time": "2022-04-29T10:14:23.511Z"
   },
   {
    "duration": 43,
    "start_time": "2022-04-29T10:14:23.541Z"
   },
   {
    "duration": 37,
    "start_time": "2022-04-29T10:14:23.587Z"
   },
   {
    "duration": 5,
    "start_time": "2022-04-29T10:14:23.626Z"
   },
   {
    "duration": 50,
    "start_time": "2022-04-29T10:14:23.633Z"
   },
   {
    "duration": 61,
    "start_time": "2022-04-29T10:14:23.685Z"
   },
   {
    "duration": 15,
    "start_time": "2022-04-29T10:14:23.748Z"
   },
   {
    "duration": 46,
    "start_time": "2022-04-29T10:14:23.765Z"
   },
   {
    "duration": 20,
    "start_time": "2022-04-29T10:14:23.816Z"
   },
   {
    "duration": 72,
    "start_time": "2022-04-29T10:14:23.838Z"
   },
   {
    "duration": 14,
    "start_time": "2022-04-29T10:14:23.912Z"
   },
   {
    "duration": 6,
    "start_time": "2022-04-29T10:14:23.928Z"
   },
   {
    "duration": 13,
    "start_time": "2022-04-29T10:14:23.936Z"
   },
   {
    "duration": 36,
    "start_time": "2022-04-29T10:14:23.951Z"
   },
   {
    "duration": 14,
    "start_time": "2022-04-29T10:14:23.989Z"
   },
   {
    "duration": 19,
    "start_time": "2022-04-29T10:14:24.005Z"
   },
   {
    "duration": 9,
    "start_time": "2022-04-29T10:14:24.026Z"
   },
   {
    "duration": 13,
    "start_time": "2022-04-29T10:14:24.037Z"
   },
   {
    "duration": 37,
    "start_time": "2022-04-29T10:14:24.052Z"
   },
   {
    "duration": 11,
    "start_time": "2022-04-29T10:14:24.091Z"
   },
   {
    "duration": 12,
    "start_time": "2022-04-29T10:14:24.104Z"
   },
   {
    "duration": 27,
    "start_time": "2022-04-29T10:14:24.118Z"
   },
   {
    "duration": 65,
    "start_time": "2022-04-29T10:14:24.147Z"
   },
   {
    "duration": 22,
    "start_time": "2022-04-29T10:14:24.214Z"
   },
   {
    "duration": 286,
    "start_time": "2022-04-29T10:14:24.238Z"
   },
   {
    "duration": 33,
    "start_time": "2022-04-29T10:14:24.526Z"
   },
   {
    "duration": 51,
    "start_time": "2022-04-29T10:14:24.561Z"
   },
   {
    "duration": 24,
    "start_time": "2022-04-29T10:14:24.614Z"
   },
   {
    "duration": 394,
    "start_time": "2022-04-29T10:14:24.641Z"
   },
   {
    "duration": 72,
    "start_time": "2022-04-29T10:14:25.038Z"
   },
   {
    "duration": 226,
    "start_time": "2022-04-29T10:14:25.112Z"
   },
   {
    "duration": 9,
    "start_time": "2022-04-29T10:14:25.341Z"
   },
   {
    "duration": 296,
    "start_time": "2022-04-29T10:14:25.352Z"
   },
   {
    "duration": 473,
    "start_time": "2022-04-29T10:14:25.651Z"
   },
   {
    "duration": 974,
    "start_time": "2022-04-29T10:14:26.126Z"
   },
   {
    "duration": 744,
    "start_time": "2022-04-29T10:14:27.105Z"
   },
   {
    "duration": 88,
    "start_time": "2022-04-29T10:14:27.851Z"
   },
   {
    "duration": 62,
    "start_time": "2022-04-29T10:14:27.941Z"
   },
   {
    "duration": 7,
    "start_time": "2022-04-29T10:14:28.005Z"
   },
   {
    "duration": 10,
    "start_time": "2022-04-29T10:14:28.015Z"
   },
   {
    "duration": 10,
    "start_time": "2022-04-29T10:14:28.028Z"
   },
   {
    "duration": 43,
    "start_time": "2022-04-29T10:14:28.040Z"
   },
   {
    "duration": 20,
    "start_time": "2022-04-29T10:14:28.086Z"
   },
   {
    "duration": 1136,
    "start_time": "2022-04-29T10:14:28.108Z"
   },
   {
    "duration": 15,
    "start_time": "2022-04-29T10:14:29.247Z"
   },
   {
    "duration": 3328,
    "start_time": "2022-04-29T10:14:29.282Z"
   },
   {
    "duration": 46,
    "start_time": "2022-04-29T10:15:14.056Z"
   },
   {
    "duration": 4,
    "start_time": "2022-04-29T10:15:18.102Z"
   },
   {
    "duration": 8,
    "start_time": "2022-04-29T10:15:18.109Z"
   },
   {
    "duration": 8,
    "start_time": "2022-04-29T10:15:18.119Z"
   },
   {
    "duration": 106,
    "start_time": "2022-04-29T10:15:18.129Z"
   },
   {
    "duration": 29,
    "start_time": "2022-04-29T10:15:18.239Z"
   },
   {
    "duration": 26,
    "start_time": "2022-04-29T10:15:18.282Z"
   },
   {
    "duration": 18,
    "start_time": "2022-04-29T10:15:18.310Z"
   },
   {
    "duration": 66,
    "start_time": "2022-04-29T10:15:18.330Z"
   },
   {
    "duration": 5,
    "start_time": "2022-04-29T10:15:18.399Z"
   },
   {
    "duration": 24,
    "start_time": "2022-04-29T10:15:18.406Z"
   },
   {
    "duration": 78,
    "start_time": "2022-04-29T10:15:18.432Z"
   },
   {
    "duration": 14,
    "start_time": "2022-04-29T10:15:18.512Z"
   },
   {
    "duration": 56,
    "start_time": "2022-04-29T10:15:18.528Z"
   },
   {
    "duration": 20,
    "start_time": "2022-04-29T10:15:18.588Z"
   },
   {
    "duration": 41,
    "start_time": "2022-04-29T10:15:18.610Z"
   },
   {
    "duration": 39,
    "start_time": "2022-04-29T10:15:18.652Z"
   },
   {
    "duration": 7,
    "start_time": "2022-04-29T10:15:18.693Z"
   },
   {
    "duration": 11,
    "start_time": "2022-04-29T10:15:18.702Z"
   },
   {
    "duration": 7,
    "start_time": "2022-04-29T10:15:18.716Z"
   },
   {
    "duration": 12,
    "start_time": "2022-04-29T10:15:18.725Z"
   },
   {
    "duration": 51,
    "start_time": "2022-04-29T10:15:18.739Z"
   },
   {
    "duration": 10,
    "start_time": "2022-04-29T10:15:18.792Z"
   },
   {
    "duration": 12,
    "start_time": "2022-04-29T10:15:18.804Z"
   },
   {
    "duration": 12,
    "start_time": "2022-04-29T10:15:18.818Z"
   },
   {
    "duration": 12,
    "start_time": "2022-04-29T10:15:18.833Z"
   },
   {
    "duration": 35,
    "start_time": "2022-04-29T10:15:18.847Z"
   },
   {
    "duration": 23,
    "start_time": "2022-04-29T10:15:18.885Z"
   },
   {
    "duration": 37,
    "start_time": "2022-04-29T10:15:18.910Z"
   },
   {
    "duration": 41,
    "start_time": "2022-04-29T10:15:18.950Z"
   },
   {
    "duration": 287,
    "start_time": "2022-04-29T10:15:18.994Z"
   },
   {
    "duration": 30,
    "start_time": "2022-04-29T10:15:19.284Z"
   },
   {
    "duration": 35,
    "start_time": "2022-04-29T10:15:19.317Z"
   },
   {
    "duration": 48,
    "start_time": "2022-04-29T10:15:19.354Z"
   },
   {
    "duration": 56,
    "start_time": "2022-04-29T10:15:19.404Z"
   },
   {
    "duration": 46,
    "start_time": "2022-04-29T10:15:19.482Z"
   },
   {
    "duration": 237,
    "start_time": "2022-04-29T10:15:19.530Z"
   },
   {
    "duration": 14,
    "start_time": "2022-04-29T10:15:19.769Z"
   },
   {
    "duration": 256,
    "start_time": "2022-04-29T10:15:19.786Z"
   },
   {
    "duration": 469,
    "start_time": "2022-04-29T10:15:20.044Z"
   },
   {
    "duration": 1265,
    "start_time": "2022-04-29T10:15:20.516Z"
   },
   {
    "duration": 613,
    "start_time": "2022-04-29T10:15:21.787Z"
   },
   {
    "duration": 56,
    "start_time": "2022-04-29T10:15:22.403Z"
   },
   {
    "duration": 61,
    "start_time": "2022-04-29T10:15:22.461Z"
   },
   {
    "duration": 6,
    "start_time": "2022-04-29T10:15:22.524Z"
   },
   {
    "duration": 14,
    "start_time": "2022-04-29T10:15:22.532Z"
   },
   {
    "duration": 35,
    "start_time": "2022-04-29T10:15:22.548Z"
   },
   {
    "duration": 7,
    "start_time": "2022-04-29T10:15:22.585Z"
   },
   {
    "duration": 20,
    "start_time": "2022-04-29T10:15:22.594Z"
   },
   {
    "duration": 1090,
    "start_time": "2022-04-29T10:15:22.616Z"
   },
   {
    "duration": 14,
    "start_time": "2022-04-29T10:15:23.708Z"
   },
   {
    "duration": 2612,
    "start_time": "2022-04-29T10:15:23.724Z"
   },
   {
    "duration": 44,
    "start_time": "2022-04-29T10:15:28.671Z"
   },
   {
    "duration": 5,
    "start_time": "2022-04-29T10:15:31.220Z"
   },
   {
    "duration": 13,
    "start_time": "2022-04-29T10:15:31.229Z"
   },
   {
    "duration": 9,
    "start_time": "2022-04-29T10:15:31.244Z"
   },
   {
    "duration": 120,
    "start_time": "2022-04-29T10:15:31.256Z"
   },
   {
    "duration": 32,
    "start_time": "2022-04-29T10:15:31.379Z"
   },
   {
    "duration": 26,
    "start_time": "2022-04-29T10:15:31.413Z"
   },
   {
    "duration": 49,
    "start_time": "2022-04-29T10:15:31.441Z"
   },
   {
    "duration": 47,
    "start_time": "2022-04-29T10:15:31.492Z"
   },
   {
    "duration": 48,
    "start_time": "2022-04-29T10:15:31.541Z"
   },
   {
    "duration": 39,
    "start_time": "2022-04-29T10:15:31.591Z"
   },
   {
    "duration": 71,
    "start_time": "2022-04-29T10:15:31.633Z"
   },
   {
    "duration": 14,
    "start_time": "2022-04-29T10:15:31.707Z"
   },
   {
    "duration": 39,
    "start_time": "2022-04-29T10:15:31.723Z"
   },
   {
    "duration": 22,
    "start_time": "2022-04-29T10:15:31.784Z"
   },
   {
    "duration": 43,
    "start_time": "2022-04-29T10:15:31.808Z"
   },
   {
    "duration": 37,
    "start_time": "2022-04-29T10:15:31.853Z"
   },
   {
    "duration": 7,
    "start_time": "2022-04-29T10:15:31.892Z"
   },
   {
    "duration": 14,
    "start_time": "2022-04-29T10:15:31.901Z"
   },
   {
    "duration": 18,
    "start_time": "2022-04-29T10:15:31.917Z"
   },
   {
    "duration": 17,
    "start_time": "2022-04-29T10:15:31.937Z"
   },
   {
    "duration": 12,
    "start_time": "2022-04-29T10:15:31.982Z"
   },
   {
    "duration": 8,
    "start_time": "2022-04-29T10:15:31.997Z"
   },
   {
    "duration": 13,
    "start_time": "2022-04-29T10:15:32.007Z"
   },
   {
    "duration": 9,
    "start_time": "2022-04-29T10:15:32.022Z"
   },
   {
    "duration": 13,
    "start_time": "2022-04-29T10:15:32.034Z"
   },
   {
    "duration": 8,
    "start_time": "2022-04-29T10:15:32.082Z"
   },
   {
    "duration": 25,
    "start_time": "2022-04-29T10:15:32.092Z"
   },
   {
    "duration": 65,
    "start_time": "2022-04-29T10:15:32.119Z"
   },
   {
    "duration": 12,
    "start_time": "2022-04-29T10:15:32.186Z"
   },
   {
    "duration": 286,
    "start_time": "2022-04-29T10:15:32.200Z"
   },
   {
    "duration": 33,
    "start_time": "2022-04-29T10:15:32.489Z"
   },
   {
    "duration": 62,
    "start_time": "2022-04-29T10:15:32.525Z"
   },
   {
    "duration": 24,
    "start_time": "2022-04-29T10:15:32.590Z"
   },
   {
    "duration": 84,
    "start_time": "2022-04-29T10:15:32.616Z"
   },
   {
    "duration": 44,
    "start_time": "2022-04-29T10:15:32.703Z"
   },
   {
    "duration": 237,
    "start_time": "2022-04-29T10:15:32.749Z"
   },
   {
    "duration": 7,
    "start_time": "2022-04-29T10:15:32.988Z"
   },
   {
    "duration": 263,
    "start_time": "2022-04-29T10:15:32.997Z"
   },
   {
    "duration": 476,
    "start_time": "2022-04-29T10:15:33.262Z"
   },
   {
    "duration": 933,
    "start_time": "2022-04-29T10:15:33.740Z"
   },
   {
    "duration": 601,
    "start_time": "2022-04-29T10:15:34.682Z"
   },
   {
    "duration": 56,
    "start_time": "2022-04-29T10:15:35.285Z"
   },
   {
    "duration": 69,
    "start_time": "2022-04-29T10:15:35.344Z"
   },
   {
    "duration": 6,
    "start_time": "2022-04-29T10:15:35.415Z"
   },
   {
    "duration": 11,
    "start_time": "2022-04-29T10:15:35.423Z"
   },
   {
    "duration": 9,
    "start_time": "2022-04-29T10:15:35.436Z"
   },
   {
    "duration": 36,
    "start_time": "2022-04-29T10:15:35.447Z"
   },
   {
    "duration": 19,
    "start_time": "2022-04-29T10:15:35.486Z"
   },
   {
    "duration": 1102,
    "start_time": "2022-04-29T10:15:35.508Z"
   },
   {
    "duration": 14,
    "start_time": "2022-04-29T10:15:36.612Z"
   },
   {
    "duration": 2701,
    "start_time": "2022-04-29T10:15:36.628Z"
   },
   {
    "duration": 6,
    "start_time": "2022-04-29T10:15:54.838Z"
   },
   {
    "duration": 8,
    "start_time": "2022-04-29T10:15:54.847Z"
   },
   {
    "duration": 10,
    "start_time": "2022-04-29T10:15:54.857Z"
   },
   {
    "duration": 107,
    "start_time": "2022-04-29T10:15:54.869Z"
   },
   {
    "duration": 37,
    "start_time": "2022-04-29T10:15:54.981Z"
   },
   {
    "duration": 27,
    "start_time": "2022-04-29T10:15:55.021Z"
   },
   {
    "duration": 48,
    "start_time": "2022-04-29T10:15:55.051Z"
   },
   {
    "duration": 40,
    "start_time": "2022-04-29T10:15:55.102Z"
   },
   {
    "duration": 6,
    "start_time": "2022-04-29T10:15:55.145Z"
   },
   {
    "duration": 51,
    "start_time": "2022-04-29T10:15:55.154Z"
   },
   {
    "duration": 74,
    "start_time": "2022-04-29T10:15:55.207Z"
   },
   {
    "duration": 15,
    "start_time": "2022-04-29T10:15:55.284Z"
   },
   {
    "duration": 49,
    "start_time": "2022-04-29T10:15:55.302Z"
   },
   {
    "duration": 32,
    "start_time": "2022-04-29T10:15:55.383Z"
   },
   {
    "duration": 87,
    "start_time": "2022-04-29T10:15:55.418Z"
   },
   {
    "duration": 17,
    "start_time": "2022-04-29T10:15:55.508Z"
   },
   {
    "duration": 14,
    "start_time": "2022-04-29T10:15:55.527Z"
   },
   {
    "duration": 16,
    "start_time": "2022-04-29T10:15:55.544Z"
   },
   {
    "duration": 30,
    "start_time": "2022-04-29T10:15:55.562Z"
   },
   {
    "duration": 15,
    "start_time": "2022-04-29T10:15:55.594Z"
   },
   {
    "duration": 13,
    "start_time": "2022-04-29T10:15:55.611Z"
   },
   {
    "duration": 11,
    "start_time": "2022-04-29T10:15:55.626Z"
   },
   {
    "duration": 43,
    "start_time": "2022-04-29T10:15:55.639Z"
   },
   {
    "duration": 13,
    "start_time": "2022-04-29T10:15:55.685Z"
   },
   {
    "duration": 10,
    "start_time": "2022-04-29T10:15:55.700Z"
   },
   {
    "duration": 10,
    "start_time": "2022-04-29T10:15:55.713Z"
   },
   {
    "duration": 74,
    "start_time": "2022-04-29T10:15:55.726Z"
   },
   {
    "duration": 79,
    "start_time": "2022-04-29T10:15:55.803Z"
   },
   {
    "duration": 19,
    "start_time": "2022-04-29T10:15:55.884Z"
   },
   {
    "duration": 350,
    "start_time": "2022-04-29T10:15:55.906Z"
   },
   {
    "duration": 44,
    "start_time": "2022-04-29T10:15:56.258Z"
   },
   {
    "duration": 36,
    "start_time": "2022-04-29T10:15:56.305Z"
   },
   {
    "duration": 49,
    "start_time": "2022-04-29T10:15:56.343Z"
   },
   {
    "duration": 65,
    "start_time": "2022-04-29T10:15:56.395Z"
   },
   {
    "duration": 57,
    "start_time": "2022-04-29T10:15:56.462Z"
   },
   {
    "duration": 241,
    "start_time": "2022-04-29T10:15:56.521Z"
   },
   {
    "duration": 8,
    "start_time": "2022-04-29T10:15:56.764Z"
   },
   {
    "duration": 255,
    "start_time": "2022-04-29T10:15:56.782Z"
   },
   {
    "duration": 454,
    "start_time": "2022-04-29T10:15:57.039Z"
   },
   {
    "duration": 954,
    "start_time": "2022-04-29T10:15:57.496Z"
   },
   {
    "duration": 634,
    "start_time": "2022-04-29T10:15:58.455Z"
   },
   {
    "duration": 61,
    "start_time": "2022-04-29T10:15:59.092Z"
   },
   {
    "duration": 43,
    "start_time": "2022-04-29T10:15:59.181Z"
   },
   {
    "duration": 7,
    "start_time": "2022-04-29T10:15:59.226Z"
   },
   {
    "duration": 8,
    "start_time": "2022-04-29T10:15:59.234Z"
   },
   {
    "duration": 7,
    "start_time": "2022-04-29T10:15:59.244Z"
   },
   {
    "duration": 33,
    "start_time": "2022-04-29T10:15:59.253Z"
   },
   {
    "duration": 20,
    "start_time": "2022-04-29T10:15:59.288Z"
   },
   {
    "duration": 1089,
    "start_time": "2022-04-29T10:15:59.310Z"
   },
   {
    "duration": 16,
    "start_time": "2022-04-29T10:16:00.402Z"
   },
   {
    "duration": 2755,
    "start_time": "2022-04-29T10:16:00.421Z"
   },
   {
    "duration": 3,
    "start_time": "2022-04-29T10:16:37.170Z"
   },
   {
    "duration": 7,
    "start_time": "2022-04-29T10:16:37.176Z"
   },
   {
    "duration": 6,
    "start_time": "2022-04-29T10:16:37.186Z"
   },
   {
    "duration": 131,
    "start_time": "2022-04-29T10:16:37.194Z"
   },
   {
    "duration": 35,
    "start_time": "2022-04-29T10:16:37.329Z"
   },
   {
    "duration": 28,
    "start_time": "2022-04-29T10:16:37.382Z"
   },
   {
    "duration": 19,
    "start_time": "2022-04-29T10:16:37.412Z"
   },
   {
    "duration": 65,
    "start_time": "2022-04-29T10:16:37.433Z"
   },
   {
    "duration": 5,
    "start_time": "2022-04-29T10:16:37.501Z"
   },
   {
    "duration": 32,
    "start_time": "2022-04-29T10:16:37.508Z"
   },
   {
    "duration": 78,
    "start_time": "2022-04-29T10:16:37.542Z"
   },
   {
    "duration": 16,
    "start_time": "2022-04-29T10:16:37.622Z"
   },
   {
    "duration": 58,
    "start_time": "2022-04-29T10:16:37.640Z"
   },
   {
    "duration": 24,
    "start_time": "2022-04-29T10:16:37.702Z"
   },
   {
    "duration": 70,
    "start_time": "2022-04-29T10:16:37.728Z"
   },
   {
    "duration": 14,
    "start_time": "2022-04-29T10:16:37.800Z"
   },
   {
    "duration": 7,
    "start_time": "2022-04-29T10:16:37.816Z"
   },
   {
    "duration": 11,
    "start_time": "2022-04-29T10:16:37.826Z"
   },
   {
    "duration": 49,
    "start_time": "2022-04-29T10:16:37.839Z"
   },
   {
    "duration": 13,
    "start_time": "2022-04-29T10:16:37.890Z"
   },
   {
    "duration": 10,
    "start_time": "2022-04-29T10:16:37.905Z"
   },
   {
    "duration": 12,
    "start_time": "2022-04-29T10:16:37.917Z"
   },
   {
    "duration": 52,
    "start_time": "2022-04-29T10:16:37.931Z"
   },
   {
    "duration": 7,
    "start_time": "2022-04-29T10:16:37.985Z"
   },
   {
    "duration": 14,
    "start_time": "2022-04-29T10:16:37.994Z"
   },
   {
    "duration": 12,
    "start_time": "2022-04-29T10:16:38.010Z"
   },
   {
    "duration": 26,
    "start_time": "2022-04-29T10:16:38.024Z"
   },
   {
    "duration": 62,
    "start_time": "2022-04-29T10:16:38.052Z"
   },
   {
    "duration": 12,
    "start_time": "2022-04-29T10:16:38.116Z"
   },
   {
    "duration": 292,
    "start_time": "2022-04-29T10:16:38.131Z"
   },
   {
    "duration": 32,
    "start_time": "2022-04-29T10:16:38.426Z"
   },
   {
    "duration": 54,
    "start_time": "2022-04-29T10:16:38.461Z"
   },
   {
    "duration": 26,
    "start_time": "2022-04-29T10:16:38.517Z"
   },
   {
    "duration": 85,
    "start_time": "2022-04-29T10:16:38.545Z"
   },
   {
    "duration": 68,
    "start_time": "2022-04-29T10:16:38.633Z"
   },
   {
    "duration": 233,
    "start_time": "2022-04-29T10:16:38.704Z"
   },
   {
    "duration": 8,
    "start_time": "2022-04-29T10:16:38.940Z"
   },
   {
    "duration": 260,
    "start_time": "2022-04-29T10:16:38.950Z"
   },
   {
    "duration": 450,
    "start_time": "2022-04-29T10:16:39.212Z"
   },
   {
    "duration": 961,
    "start_time": "2022-04-29T10:16:39.665Z"
   },
   {
    "duration": 608,
    "start_time": "2022-04-29T10:16:40.632Z"
   },
   {
    "duration": 90,
    "start_time": "2022-04-29T10:16:41.242Z"
   },
   {
    "duration": 80,
    "start_time": "2022-04-29T10:16:41.335Z"
   },
   {
    "duration": 8,
    "start_time": "2022-04-29T10:16:41.418Z"
   },
   {
    "duration": 8,
    "start_time": "2022-04-29T10:16:41.429Z"
   },
   {
    "duration": 7,
    "start_time": "2022-04-29T10:16:41.440Z"
   },
   {
    "duration": 36,
    "start_time": "2022-04-29T10:16:41.450Z"
   },
   {
    "duration": 24,
    "start_time": "2022-04-29T10:16:41.490Z"
   },
   {
    "duration": 1125,
    "start_time": "2022-04-29T10:16:41.517Z"
   },
   {
    "duration": 15,
    "start_time": "2022-04-29T10:16:42.646Z"
   },
   {
    "duration": 2618,
    "start_time": "2022-04-29T10:16:42.682Z"
   },
   {
    "duration": 4,
    "start_time": "2022-04-29T10:20:59.614Z"
   },
   {
    "duration": 9,
    "start_time": "2022-04-29T10:20:59.621Z"
   },
   {
    "duration": 11,
    "start_time": "2022-04-29T10:20:59.632Z"
   },
   {
    "duration": 118,
    "start_time": "2022-04-29T10:20:59.645Z"
   },
   {
    "duration": 30,
    "start_time": "2022-04-29T10:20:59.766Z"
   },
   {
    "duration": 26,
    "start_time": "2022-04-29T10:20:59.798Z"
   },
   {
    "duration": 19,
    "start_time": "2022-04-29T10:20:59.826Z"
   },
   {
    "duration": 62,
    "start_time": "2022-04-29T10:20:59.847Z"
   },
   {
    "duration": 6,
    "start_time": "2022-04-29T10:20:59.911Z"
   },
   {
    "duration": 24,
    "start_time": "2022-04-29T10:20:59.919Z"
   },
   {
    "duration": 78,
    "start_time": "2022-04-29T10:20:59.945Z"
   },
   {
    "duration": 14,
    "start_time": "2022-04-29T10:21:00.026Z"
   },
   {
    "duration": 55,
    "start_time": "2022-04-29T10:21:00.042Z"
   },
   {
    "duration": 20,
    "start_time": "2022-04-29T10:21:00.102Z"
   },
   {
    "duration": 62,
    "start_time": "2022-04-29T10:21:00.124Z"
   },
   {
    "duration": 13,
    "start_time": "2022-04-29T10:21:00.188Z"
   },
   {
    "duration": 14,
    "start_time": "2022-04-29T10:21:00.203Z"
   },
   {
    "duration": 33,
    "start_time": "2022-04-29T10:21:00.219Z"
   },
   {
    "duration": 19,
    "start_time": "2022-04-29T10:21:00.255Z"
   },
   {
    "duration": 21,
    "start_time": "2022-04-29T10:21:00.277Z"
   },
   {
    "duration": 34,
    "start_time": "2022-04-29T10:21:00.300Z"
   },
   {
    "duration": 13,
    "start_time": "2022-04-29T10:21:00.336Z"
   },
   {
    "duration": 16,
    "start_time": "2022-04-29T10:21:00.351Z"
   },
   {
    "duration": 15,
    "start_time": "2022-04-29T10:21:00.369Z"
   },
   {
    "duration": 15,
    "start_time": "2022-04-29T10:21:00.386Z"
   },
   {
    "duration": 28,
    "start_time": "2022-04-29T10:21:00.404Z"
   },
   {
    "duration": 34,
    "start_time": "2022-04-29T10:21:00.434Z"
   },
   {
    "duration": 39,
    "start_time": "2022-04-29T10:21:00.470Z"
   },
   {
    "duration": 15,
    "start_time": "2022-04-29T10:21:00.511Z"
   },
   {
    "duration": 294,
    "start_time": "2022-04-29T10:21:00.528Z"
   },
   {
    "duration": 33,
    "start_time": "2022-04-29T10:21:00.825Z"
   },
   {
    "duration": 25,
    "start_time": "2022-04-29T10:21:00.860Z"
   },
   {
    "duration": 0,
    "start_time": "2022-04-29T10:21:00.889Z"
   },
   {
    "duration": 0,
    "start_time": "2022-04-29T10:21:00.891Z"
   },
   {
    "duration": 0,
    "start_time": "2022-04-29T10:21:00.893Z"
   },
   {
    "duration": 0,
    "start_time": "2022-04-29T10:21:00.895Z"
   },
   {
    "duration": 0,
    "start_time": "2022-04-29T10:21:00.897Z"
   },
   {
    "duration": 0,
    "start_time": "2022-04-29T10:21:00.899Z"
   },
   {
    "duration": 0,
    "start_time": "2022-04-29T10:21:00.901Z"
   },
   {
    "duration": 0,
    "start_time": "2022-04-29T10:21:00.903Z"
   },
   {
    "duration": 0,
    "start_time": "2022-04-29T10:21:00.905Z"
   },
   {
    "duration": 0,
    "start_time": "2022-04-29T10:21:00.907Z"
   },
   {
    "duration": 0,
    "start_time": "2022-04-29T10:21:00.908Z"
   },
   {
    "duration": 0,
    "start_time": "2022-04-29T10:21:00.910Z"
   },
   {
    "duration": 0,
    "start_time": "2022-04-29T10:21:00.911Z"
   },
   {
    "duration": 0,
    "start_time": "2022-04-29T10:21:00.913Z"
   },
   {
    "duration": 1,
    "start_time": "2022-04-29T10:21:00.914Z"
   },
   {
    "duration": 0,
    "start_time": "2022-04-29T10:21:00.916Z"
   },
   {
    "duration": 0,
    "start_time": "2022-04-29T10:21:00.918Z"
   },
   {
    "duration": 0,
    "start_time": "2022-04-29T10:21:00.919Z"
   },
   {
    "duration": 0,
    "start_time": "2022-04-29T10:21:00.920Z"
   },
   {
    "duration": 4,
    "start_time": "2022-04-29T10:21:23.070Z"
   },
   {
    "duration": 13,
    "start_time": "2022-04-29T10:21:23.077Z"
   },
   {
    "duration": 7,
    "start_time": "2022-04-29T10:21:23.093Z"
   },
   {
    "duration": 123,
    "start_time": "2022-04-29T10:21:23.102Z"
   },
   {
    "duration": 29,
    "start_time": "2022-04-29T10:21:23.229Z"
   },
   {
    "duration": 31,
    "start_time": "2022-04-29T10:21:23.260Z"
   },
   {
    "duration": 20,
    "start_time": "2022-04-29T10:21:23.293Z"
   },
   {
    "duration": 37,
    "start_time": "2022-04-29T10:21:23.315Z"
   },
   {
    "duration": 5,
    "start_time": "2022-04-29T10:21:23.354Z"
   },
   {
    "duration": 27,
    "start_time": "2022-04-29T10:21:23.382Z"
   },
   {
    "duration": 76,
    "start_time": "2022-04-29T10:21:23.411Z"
   },
   {
    "duration": 15,
    "start_time": "2022-04-29T10:21:23.489Z"
   },
   {
    "duration": 33,
    "start_time": "2022-04-29T10:21:23.506Z"
   },
   {
    "duration": 49,
    "start_time": "2022-04-29T10:21:23.543Z"
   },
   {
    "duration": 42,
    "start_time": "2022-04-29T10:21:23.595Z"
   },
   {
    "duration": 44,
    "start_time": "2022-04-29T10:21:23.640Z"
   },
   {
    "duration": 6,
    "start_time": "2022-04-29T10:21:23.686Z"
   },
   {
    "duration": 14,
    "start_time": "2022-04-29T10:21:23.694Z"
   },
   {
    "duration": 13,
    "start_time": "2022-04-29T10:21:23.710Z"
   },
   {
    "duration": 12,
    "start_time": "2022-04-29T10:21:23.725Z"
   },
   {
    "duration": 43,
    "start_time": "2022-04-29T10:21:23.739Z"
   },
   {
    "duration": 7,
    "start_time": "2022-04-29T10:21:23.784Z"
   },
   {
    "duration": 11,
    "start_time": "2022-04-29T10:21:23.793Z"
   },
   {
    "duration": 19,
    "start_time": "2022-04-29T10:21:23.806Z"
   },
   {
    "duration": 8,
    "start_time": "2022-04-29T10:21:23.828Z"
   },
   {
    "duration": 9,
    "start_time": "2022-04-29T10:21:23.838Z"
   },
   {
    "duration": 49,
    "start_time": "2022-04-29T10:21:23.849Z"
   },
   {
    "duration": 37,
    "start_time": "2022-04-29T10:21:23.900Z"
   },
   {
    "duration": 49,
    "start_time": "2022-04-29T10:21:23.939Z"
   },
   {
    "duration": 272,
    "start_time": "2022-04-29T10:21:23.990Z"
   },
   {
    "duration": 40,
    "start_time": "2022-04-29T10:21:24.264Z"
   },
   {
    "duration": 12,
    "start_time": "2022-04-29T10:21:27.969Z"
   },
   {
    "duration": 5,
    "start_time": "2022-04-29T10:22:03.891Z"
   },
   {
    "duration": 7,
    "start_time": "2022-04-29T10:22:03.898Z"
   },
   {
    "duration": 8,
    "start_time": "2022-04-29T10:22:03.908Z"
   },
   {
    "duration": 131,
    "start_time": "2022-04-29T10:22:03.918Z"
   },
   {
    "duration": 42,
    "start_time": "2022-04-29T10:22:04.052Z"
   },
   {
    "duration": 27,
    "start_time": "2022-04-29T10:22:04.096Z"
   },
   {
    "duration": 18,
    "start_time": "2022-04-29T10:22:04.125Z"
   },
   {
    "duration": 63,
    "start_time": "2022-04-29T10:22:04.145Z"
   },
   {
    "duration": 5,
    "start_time": "2022-04-29T10:22:04.210Z"
   },
   {
    "duration": 26,
    "start_time": "2022-04-29T10:22:04.218Z"
   },
   {
    "duration": 82,
    "start_time": "2022-04-29T10:22:04.247Z"
   },
   {
    "duration": 17,
    "start_time": "2022-04-29T10:22:04.332Z"
   },
   {
    "duration": 64,
    "start_time": "2022-04-29T10:22:04.351Z"
   },
   {
    "duration": 21,
    "start_time": "2022-04-29T10:22:04.421Z"
   },
   {
    "duration": 72,
    "start_time": "2022-04-29T10:22:04.445Z"
   },
   {
    "duration": 15,
    "start_time": "2022-04-29T10:22:04.519Z"
   },
   {
    "duration": 18,
    "start_time": "2022-04-29T10:22:04.537Z"
   },
   {
    "duration": 13,
    "start_time": "2022-04-29T10:22:04.582Z"
   },
   {
    "duration": 13,
    "start_time": "2022-04-29T10:22:04.597Z"
   },
   {
    "duration": 23,
    "start_time": "2022-04-29T10:22:04.613Z"
   },
   {
    "duration": 25,
    "start_time": "2022-04-29T10:22:04.638Z"
   },
   {
    "duration": 22,
    "start_time": "2022-04-29T10:22:04.665Z"
   },
   {
    "duration": 17,
    "start_time": "2022-04-29T10:22:04.689Z"
   },
   {
    "duration": 17,
    "start_time": "2022-04-29T10:22:04.708Z"
   },
   {
    "duration": 17,
    "start_time": "2022-04-29T10:22:04.728Z"
   },
   {
    "duration": 33,
    "start_time": "2022-04-29T10:22:04.747Z"
   },
   {
    "duration": 32,
    "start_time": "2022-04-29T10:22:04.782Z"
   },
   {
    "duration": 39,
    "start_time": "2022-04-29T10:22:04.817Z"
   },
   {
    "duration": 32,
    "start_time": "2022-04-29T10:22:04.859Z"
   },
   {
    "duration": 280,
    "start_time": "2022-04-29T10:22:04.894Z"
   },
   {
    "duration": 35,
    "start_time": "2022-04-29T10:22:05.177Z"
   },
   {
    "duration": 68,
    "start_time": "2022-04-29T10:22:05.215Z"
   },
   {
    "duration": 26,
    "start_time": "2022-04-29T10:22:05.286Z"
   },
   {
    "duration": 79,
    "start_time": "2022-04-29T10:22:05.315Z"
   },
   {
    "duration": 42,
    "start_time": "2022-04-29T10:22:05.396Z"
   },
   {
    "duration": 244,
    "start_time": "2022-04-29T10:22:05.440Z"
   },
   {
    "duration": 7,
    "start_time": "2022-04-29T10:22:05.686Z"
   },
   {
    "duration": 255,
    "start_time": "2022-04-29T10:22:05.695Z"
   },
   {
    "duration": 461,
    "start_time": "2022-04-29T10:22:05.952Z"
   },
   {
    "duration": 1023,
    "start_time": "2022-04-29T10:22:06.416Z"
   },
   {
    "duration": 618,
    "start_time": "2022-04-29T10:22:07.445Z"
   },
   {
    "duration": 62,
    "start_time": "2022-04-29T10:22:08.065Z"
   },
   {
    "duration": 64,
    "start_time": "2022-04-29T10:22:08.130Z"
   },
   {
    "duration": 6,
    "start_time": "2022-04-29T10:22:08.196Z"
   },
   {
    "duration": 9,
    "start_time": "2022-04-29T10:22:08.204Z"
   },
   {
    "duration": 8,
    "start_time": "2022-04-29T10:22:08.215Z"
   },
   {
    "duration": 7,
    "start_time": "2022-04-29T10:22:08.225Z"
   },
   {
    "duration": 53,
    "start_time": "2022-04-29T10:22:08.234Z"
   },
   {
    "duration": 1095,
    "start_time": "2022-04-29T10:22:08.289Z"
   },
   {
    "duration": 19,
    "start_time": "2022-04-29T10:22:09.386Z"
   },
   {
    "duration": 3031,
    "start_time": "2022-04-29T10:22:09.407Z"
   },
   {
    "duration": 44,
    "start_time": "2022-04-29T10:22:54.903Z"
   },
   {
    "duration": 3,
    "start_time": "2022-04-29T10:23:16.480Z"
   },
   {
    "duration": 6,
    "start_time": "2022-04-29T10:23:16.486Z"
   },
   {
    "duration": 7,
    "start_time": "2022-04-29T10:23:16.494Z"
   },
   {
    "duration": 133,
    "start_time": "2022-04-29T10:23:16.503Z"
   },
   {
    "duration": 33,
    "start_time": "2022-04-29T10:23:16.639Z"
   },
   {
    "duration": 31,
    "start_time": "2022-04-29T10:23:16.674Z"
   },
   {
    "duration": 18,
    "start_time": "2022-04-29T10:23:16.708Z"
   },
   {
    "duration": 71,
    "start_time": "2022-04-29T10:23:16.729Z"
   },
   {
    "duration": 5,
    "start_time": "2022-04-29T10:23:16.802Z"
   },
   {
    "duration": 25,
    "start_time": "2022-04-29T10:23:16.809Z"
   },
   {
    "duration": 75,
    "start_time": "2022-04-29T10:23:16.836Z"
   },
   {
    "duration": 15,
    "start_time": "2022-04-29T10:23:16.913Z"
   },
   {
    "duration": 52,
    "start_time": "2022-04-29T10:23:16.930Z"
   },
   {
    "duration": 22,
    "start_time": "2022-04-29T10:23:16.987Z"
   },
   {
    "duration": 42,
    "start_time": "2022-04-29T10:23:17.011Z"
   },
   {
    "duration": 15,
    "start_time": "2022-04-29T10:23:17.081Z"
   },
   {
    "duration": 6,
    "start_time": "2022-04-29T10:23:17.098Z"
   },
   {
    "duration": 11,
    "start_time": "2022-04-29T10:23:17.106Z"
   },
   {
    "duration": 8,
    "start_time": "2022-04-29T10:23:17.119Z"
   },
   {
    "duration": 55,
    "start_time": "2022-04-29T10:23:17.129Z"
   },
   {
    "duration": 19,
    "start_time": "2022-04-29T10:23:17.186Z"
   },
   {
    "duration": 14,
    "start_time": "2022-04-29T10:23:17.207Z"
   },
   {
    "duration": 16,
    "start_time": "2022-04-29T10:23:17.223Z"
   },
   {
    "duration": 10,
    "start_time": "2022-04-29T10:23:17.241Z"
   },
   {
    "duration": 11,
    "start_time": "2022-04-29T10:23:17.253Z"
   },
   {
    "duration": 7,
    "start_time": "2022-04-29T10:23:17.282Z"
   },
   {
    "duration": 25,
    "start_time": "2022-04-29T10:23:17.292Z"
   },
   {
    "duration": 70,
    "start_time": "2022-04-29T10:23:17.319Z"
   },
   {
    "duration": 12,
    "start_time": "2022-04-29T10:23:17.391Z"
   },
   {
    "duration": 288,
    "start_time": "2022-04-29T10:23:17.405Z"
   },
   {
    "duration": 32,
    "start_time": "2022-04-29T10:23:17.695Z"
   },
   {
    "duration": 60,
    "start_time": "2022-04-29T10:23:17.729Z"
   },
   {
    "duration": 25,
    "start_time": "2022-04-29T10:23:17.791Z"
   },
   {
    "duration": 95,
    "start_time": "2022-04-29T10:23:17.818Z"
   },
   {
    "duration": 46,
    "start_time": "2022-04-29T10:23:17.915Z"
   },
   {
    "duration": 234,
    "start_time": "2022-04-29T10:23:17.963Z"
   },
   {
    "duration": 7,
    "start_time": "2022-04-29T10:23:18.199Z"
   },
   {
    "duration": 276,
    "start_time": "2022-04-29T10:23:18.208Z"
   },
   {
    "duration": 463,
    "start_time": "2022-04-29T10:23:18.486Z"
   },
   {
    "duration": 1074,
    "start_time": "2022-04-29T10:23:18.952Z"
   },
   {
    "duration": 744,
    "start_time": "2022-04-29T10:23:20.034Z"
   },
   {
    "duration": 60,
    "start_time": "2022-04-29T10:23:20.782Z"
   },
   {
    "duration": 74,
    "start_time": "2022-04-29T10:23:20.845Z"
   },
   {
    "duration": 5,
    "start_time": "2022-04-29T10:23:20.921Z"
   },
   {
    "duration": 9,
    "start_time": "2022-04-29T10:23:20.929Z"
   },
   {
    "duration": 11,
    "start_time": "2022-04-29T10:23:20.940Z"
   },
   {
    "duration": 34,
    "start_time": "2022-04-29T10:23:20.953Z"
   },
   {
    "duration": 25,
    "start_time": "2022-04-29T10:23:20.989Z"
   },
   {
    "duration": 1126,
    "start_time": "2022-04-29T10:23:21.016Z"
   },
   {
    "duration": 13,
    "start_time": "2022-04-29T10:23:22.144Z"
   },
   {
    "duration": 2338,
    "start_time": "2022-04-29T10:23:22.159Z"
   },
   {
    "duration": 5,
    "start_time": "2022-04-29T10:25:42.099Z"
   },
   {
    "duration": 6,
    "start_time": "2022-04-29T10:25:42.106Z"
   },
   {
    "duration": 8,
    "start_time": "2022-04-29T10:25:42.114Z"
   },
   {
    "duration": 114,
    "start_time": "2022-04-29T10:25:42.123Z"
   },
   {
    "duration": 42,
    "start_time": "2022-04-29T10:25:42.240Z"
   },
   {
    "duration": 26,
    "start_time": "2022-04-29T10:25:42.284Z"
   },
   {
    "duration": 17,
    "start_time": "2022-04-29T10:25:42.313Z"
   },
   {
    "duration": 69,
    "start_time": "2022-04-29T10:25:42.333Z"
   },
   {
    "duration": 5,
    "start_time": "2022-04-29T10:25:42.404Z"
   },
   {
    "duration": 24,
    "start_time": "2022-04-29T10:25:42.411Z"
   },
   {
    "duration": 72,
    "start_time": "2022-04-29T10:25:42.437Z"
   },
   {
    "duration": 14,
    "start_time": "2022-04-29T10:25:42.511Z"
   },
   {
    "duration": 59,
    "start_time": "2022-04-29T10:25:42.530Z"
   },
   {
    "duration": 20,
    "start_time": "2022-04-29T10:25:42.591Z"
   },
   {
    "duration": 41,
    "start_time": "2022-04-29T10:25:42.613Z"
   },
   {
    "duration": 14,
    "start_time": "2022-04-29T10:25:42.682Z"
   },
   {
    "duration": 7,
    "start_time": "2022-04-29T10:25:42.698Z"
   },
   {
    "duration": 12,
    "start_time": "2022-04-29T10:25:42.707Z"
   },
   {
    "duration": 7,
    "start_time": "2022-04-29T10:25:42.721Z"
   },
   {
    "duration": 52,
    "start_time": "2022-04-29T10:25:42.730Z"
   },
   {
    "duration": 11,
    "start_time": "2022-04-29T10:25:42.784Z"
   },
   {
    "duration": 11,
    "start_time": "2022-04-29T10:25:42.797Z"
   },
   {
    "duration": 10,
    "start_time": "2022-04-29T10:25:42.810Z"
   },
   {
    "duration": 7,
    "start_time": "2022-04-29T10:25:42.822Z"
   },
   {
    "duration": 15,
    "start_time": "2022-04-29T10:25:42.831Z"
   },
   {
    "duration": 40,
    "start_time": "2022-04-29T10:25:42.848Z"
   },
   {
    "duration": 24,
    "start_time": "2022-04-29T10:25:42.890Z"
   },
   {
    "duration": 66,
    "start_time": "2022-04-29T10:25:42.917Z"
   },
   {
    "duration": 15,
    "start_time": "2022-04-29T10:25:42.986Z"
   },
   {
    "duration": 294,
    "start_time": "2022-04-29T10:25:43.003Z"
   },
   {
    "duration": 34,
    "start_time": "2022-04-29T10:25:43.300Z"
   },
   {
    "duration": 68,
    "start_time": "2022-04-29T10:25:43.336Z"
   },
   {
    "duration": 24,
    "start_time": "2022-04-29T10:25:43.406Z"
   },
   {
    "duration": 2611,
    "start_time": "2022-04-29T10:25:43.432Z"
   },
   {
    "duration": 0,
    "start_time": "2022-04-29T10:25:46.048Z"
   },
   {
    "duration": 0,
    "start_time": "2022-04-29T10:25:46.050Z"
   },
   {
    "duration": 0,
    "start_time": "2022-04-29T10:25:46.053Z"
   },
   {
    "duration": 0,
    "start_time": "2022-04-29T10:25:46.055Z"
   },
   {
    "duration": 0,
    "start_time": "2022-04-29T10:25:46.057Z"
   },
   {
    "duration": 0,
    "start_time": "2022-04-29T10:25:46.059Z"
   },
   {
    "duration": 1,
    "start_time": "2022-04-29T10:25:46.061Z"
   },
   {
    "duration": 0,
    "start_time": "2022-04-29T10:25:46.064Z"
   },
   {
    "duration": 0,
    "start_time": "2022-04-29T10:25:46.066Z"
   },
   {
    "duration": 0,
    "start_time": "2022-04-29T10:25:46.068Z"
   },
   {
    "duration": 0,
    "start_time": "2022-04-29T10:25:46.070Z"
   },
   {
    "duration": 0,
    "start_time": "2022-04-29T10:25:46.072Z"
   },
   {
    "duration": 0,
    "start_time": "2022-04-29T10:25:46.074Z"
   },
   {
    "duration": 0,
    "start_time": "2022-04-29T10:25:46.076Z"
   },
   {
    "duration": 0,
    "start_time": "2022-04-29T10:25:46.078Z"
   },
   {
    "duration": 0,
    "start_time": "2022-04-29T10:25:46.080Z"
   },
   {
    "duration": 0,
    "start_time": "2022-04-29T10:25:46.082Z"
   },
   {
    "duration": 6,
    "start_time": "2022-04-29T10:26:24.481Z"
   },
   {
    "duration": 5,
    "start_time": "2022-04-29T10:26:28.889Z"
   },
   {
    "duration": 10,
    "start_time": "2022-04-29T10:26:28.896Z"
   },
   {
    "duration": 9,
    "start_time": "2022-04-29T10:26:28.908Z"
   },
   {
    "duration": 127,
    "start_time": "2022-04-29T10:26:28.919Z"
   },
   {
    "duration": 44,
    "start_time": "2022-04-29T10:26:29.049Z"
   },
   {
    "duration": 27,
    "start_time": "2022-04-29T10:26:29.095Z"
   },
   {
    "duration": 24,
    "start_time": "2022-04-29T10:26:29.125Z"
   },
   {
    "duration": 58,
    "start_time": "2022-04-29T10:26:29.152Z"
   },
   {
    "duration": 6,
    "start_time": "2022-04-29T10:26:29.213Z"
   },
   {
    "duration": 30,
    "start_time": "2022-04-29T10:26:29.221Z"
   },
   {
    "duration": 77,
    "start_time": "2022-04-29T10:26:29.254Z"
   },
   {
    "duration": 14,
    "start_time": "2022-04-29T10:26:29.334Z"
   },
   {
    "duration": 58,
    "start_time": "2022-04-29T10:26:29.350Z"
   },
   {
    "duration": 19,
    "start_time": "2022-04-29T10:26:29.412Z"
   },
   {
    "duration": 69,
    "start_time": "2022-04-29T10:26:29.433Z"
   },
   {
    "duration": 12,
    "start_time": "2022-04-29T10:26:29.504Z"
   },
   {
    "duration": 10,
    "start_time": "2022-04-29T10:26:29.518Z"
   },
   {
    "duration": 15,
    "start_time": "2022-04-29T10:26:29.530Z"
   },
   {
    "duration": 36,
    "start_time": "2022-04-29T10:26:29.547Z"
   },
   {
    "duration": 15,
    "start_time": "2022-04-29T10:26:29.585Z"
   },
   {
    "duration": 10,
    "start_time": "2022-04-29T10:26:29.602Z"
   },
   {
    "duration": 13,
    "start_time": "2022-04-29T10:26:29.615Z"
   },
   {
    "duration": 15,
    "start_time": "2022-04-29T10:26:29.630Z"
   },
   {
    "duration": 8,
    "start_time": "2022-04-29T10:26:29.647Z"
   },
   {
    "duration": 8,
    "start_time": "2022-04-29T10:26:29.682Z"
   },
   {
    "duration": 12,
    "start_time": "2022-04-29T10:26:29.692Z"
   },
   {
    "duration": 25,
    "start_time": "2022-04-29T10:26:29.706Z"
   },
   {
    "duration": 69,
    "start_time": "2022-04-29T10:26:29.733Z"
   },
   {
    "duration": 13,
    "start_time": "2022-04-29T10:26:29.805Z"
   },
   {
    "duration": 296,
    "start_time": "2022-04-29T10:26:29.821Z"
   },
   {
    "duration": 33,
    "start_time": "2022-04-29T10:26:30.120Z"
   },
   {
    "duration": 57,
    "start_time": "2022-04-29T10:26:30.156Z"
   },
   {
    "duration": 27,
    "start_time": "2022-04-29T10:26:30.216Z"
   },
   {
    "duration": 107,
    "start_time": "2022-04-29T10:26:30.245Z"
   },
   {
    "duration": 57,
    "start_time": "2022-04-29T10:26:30.354Z"
   },
   {
    "duration": 982,
    "start_time": "2022-04-29T10:26:30.413Z"
   },
   {
    "duration": 8,
    "start_time": "2022-04-29T10:26:31.397Z"
   },
   {
    "duration": 297,
    "start_time": "2022-04-29T10:26:31.407Z"
   },
   {
    "duration": 482,
    "start_time": "2022-04-29T10:26:31.706Z"
   },
   {
    "duration": 999,
    "start_time": "2022-04-29T10:26:32.191Z"
   },
   {
    "duration": 664,
    "start_time": "2022-04-29T10:26:33.196Z"
   },
   {
    "duration": 68,
    "start_time": "2022-04-29T10:26:33.862Z"
   },
   {
    "duration": 71,
    "start_time": "2022-04-29T10:26:33.933Z"
   },
   {
    "duration": 8,
    "start_time": "2022-04-29T10:26:34.007Z"
   },
   {
    "duration": 8,
    "start_time": "2022-04-29T10:26:34.018Z"
   },
   {
    "duration": 9,
    "start_time": "2022-04-29T10:26:34.029Z"
   },
   {
    "duration": 43,
    "start_time": "2022-04-29T10:26:34.041Z"
   },
   {
    "duration": 19,
    "start_time": "2022-04-29T10:26:34.087Z"
   },
   {
    "duration": 1139,
    "start_time": "2022-04-29T10:26:34.108Z"
   },
   {
    "duration": 15,
    "start_time": "2022-04-29T10:26:35.250Z"
   },
   {
    "duration": 2315,
    "start_time": "2022-04-29T10:26:35.282Z"
   },
   {
    "duration": 120,
    "start_time": "2022-04-29T10:30:22.190Z"
   },
   {
    "duration": 642,
    "start_time": "2022-04-29T10:30:30.760Z"
   },
   {
    "duration": 3,
    "start_time": "2022-04-29T10:30:34.936Z"
   },
   {
    "duration": 8,
    "start_time": "2022-04-29T10:30:34.942Z"
   },
   {
    "duration": 8,
    "start_time": "2022-04-29T10:30:34.952Z"
   },
   {
    "duration": 120,
    "start_time": "2022-04-29T10:30:34.962Z"
   },
   {
    "duration": 31,
    "start_time": "2022-04-29T10:30:35.085Z"
   },
   {
    "duration": 32,
    "start_time": "2022-04-29T10:30:35.118Z"
   },
   {
    "duration": 39,
    "start_time": "2022-04-29T10:30:35.152Z"
   },
   {
    "duration": 48,
    "start_time": "2022-04-29T10:30:35.194Z"
   },
   {
    "duration": 6,
    "start_time": "2022-04-29T10:30:35.244Z"
   },
   {
    "duration": 48,
    "start_time": "2022-04-29T10:30:35.252Z"
   },
   {
    "duration": 52,
    "start_time": "2022-04-29T10:30:35.302Z"
   },
   {
    "duration": 33,
    "start_time": "2022-04-29T10:30:35.356Z"
   },
   {
    "duration": 33,
    "start_time": "2022-04-29T10:30:35.392Z"
   },
   {
    "duration": 21,
    "start_time": "2022-04-29T10:30:35.429Z"
   },
   {
    "duration": 44,
    "start_time": "2022-04-29T10:30:35.483Z"
   },
   {
    "duration": 13,
    "start_time": "2022-04-29T10:30:35.529Z"
   },
   {
    "duration": 38,
    "start_time": "2022-04-29T10:30:35.544Z"
   },
   {
    "duration": 13,
    "start_time": "2022-04-29T10:30:35.584Z"
   },
   {
    "duration": 11,
    "start_time": "2022-04-29T10:30:35.599Z"
   },
   {
    "duration": 18,
    "start_time": "2022-04-29T10:30:35.612Z"
   },
   {
    "duration": 22,
    "start_time": "2022-04-29T10:30:35.633Z"
   },
   {
    "duration": 32,
    "start_time": "2022-04-29T10:30:35.657Z"
   },
   {
    "duration": 9,
    "start_time": "2022-04-29T10:30:35.691Z"
   },
   {
    "duration": 9,
    "start_time": "2022-04-29T10:30:35.702Z"
   },
   {
    "duration": 11,
    "start_time": "2022-04-29T10:30:35.713Z"
   },
   {
    "duration": 9,
    "start_time": "2022-04-29T10:30:35.726Z"
   },
   {
    "duration": 55,
    "start_time": "2022-04-29T10:30:35.737Z"
   },
   {
    "duration": 38,
    "start_time": "2022-04-29T10:30:35.795Z"
   },
   {
    "duration": 13,
    "start_time": "2022-04-29T10:30:35.835Z"
   },
   {
    "duration": 302,
    "start_time": "2022-04-29T10:30:35.850Z"
   },
   {
    "duration": 44,
    "start_time": "2022-04-29T10:30:36.155Z"
   },
   {
    "duration": 38,
    "start_time": "2022-04-29T10:30:36.201Z"
   },
   {
    "duration": 49,
    "start_time": "2022-04-29T10:30:36.241Z"
   },
   {
    "duration": 77,
    "start_time": "2022-04-29T10:30:36.292Z"
   },
   {
    "duration": 47,
    "start_time": "2022-04-29T10:30:36.382Z"
   },
   {
    "duration": 237,
    "start_time": "2022-04-29T10:30:36.431Z"
   },
   {
    "duration": 12,
    "start_time": "2022-04-29T10:30:36.671Z"
   },
   {
    "duration": 285,
    "start_time": "2022-04-29T10:30:36.686Z"
   },
   {
    "duration": 471,
    "start_time": "2022-04-29T10:30:36.973Z"
   },
   {
    "duration": 999,
    "start_time": "2022-04-29T10:30:37.446Z"
   },
   {
    "duration": 597,
    "start_time": "2022-04-29T10:30:38.452Z"
   },
   {
    "duration": 0,
    "start_time": "2022-04-29T10:30:39.052Z"
   },
   {
    "duration": 0,
    "start_time": "2022-04-29T10:30:39.053Z"
   },
   {
    "duration": 0,
    "start_time": "2022-04-29T10:30:39.056Z"
   },
   {
    "duration": 0,
    "start_time": "2022-04-29T10:30:39.058Z"
   },
   {
    "duration": 0,
    "start_time": "2022-04-29T10:30:39.061Z"
   },
   {
    "duration": 0,
    "start_time": "2022-04-29T10:30:39.063Z"
   },
   {
    "duration": 0,
    "start_time": "2022-04-29T10:30:39.065Z"
   },
   {
    "duration": 0,
    "start_time": "2022-04-29T10:30:39.068Z"
   },
   {
    "duration": 0,
    "start_time": "2022-04-29T10:30:39.070Z"
   },
   {
    "duration": 0,
    "start_time": "2022-04-29T10:30:39.072Z"
   },
   {
    "duration": 1455,
    "start_time": "2022-04-29T12:11:46.561Z"
   },
   {
    "duration": 6,
    "start_time": "2022-04-29T12:11:48.018Z"
   },
   {
    "duration": 15,
    "start_time": "2022-04-29T12:11:48.026Z"
   },
   {
    "duration": 140,
    "start_time": "2022-04-29T12:11:48.043Z"
   },
   {
    "duration": 30,
    "start_time": "2022-04-29T12:11:48.185Z"
   },
   {
    "duration": 23,
    "start_time": "2022-04-29T12:11:48.217Z"
   },
   {
    "duration": 14,
    "start_time": "2022-04-29T12:11:48.242Z"
   },
   {
    "duration": 28,
    "start_time": "2022-04-29T12:11:48.258Z"
   },
   {
    "duration": 4,
    "start_time": "2022-04-29T12:11:48.289Z"
   },
   {
    "duration": 45,
    "start_time": "2022-04-29T12:11:48.295Z"
   },
   {
    "duration": 41,
    "start_time": "2022-04-29T12:11:48.342Z"
   },
   {
    "duration": 11,
    "start_time": "2022-04-29T12:11:48.385Z"
   },
   {
    "duration": 55,
    "start_time": "2022-04-29T12:11:48.397Z"
   },
   {
    "duration": 15,
    "start_time": "2022-04-29T12:11:48.455Z"
   },
   {
    "duration": 30,
    "start_time": "2022-04-29T12:11:48.471Z"
   },
   {
    "duration": 36,
    "start_time": "2022-04-29T12:11:48.503Z"
   },
   {
    "duration": 5,
    "start_time": "2022-04-29T12:11:48.541Z"
   },
   {
    "duration": 13,
    "start_time": "2022-04-29T12:11:48.548Z"
   },
   {
    "duration": 9,
    "start_time": "2022-04-29T12:11:48.563Z"
   },
   {
    "duration": 11,
    "start_time": "2022-04-29T12:11:48.574Z"
   },
   {
    "duration": 9,
    "start_time": "2022-04-29T12:11:48.587Z"
   },
   {
    "duration": 40,
    "start_time": "2022-04-29T12:11:48.599Z"
   },
   {
    "duration": 14,
    "start_time": "2022-04-29T12:11:48.640Z"
   },
   {
    "duration": 9,
    "start_time": "2022-04-29T12:11:48.656Z"
   },
   {
    "duration": 13,
    "start_time": "2022-04-29T12:11:48.666Z"
   },
   {
    "duration": 11,
    "start_time": "2022-04-29T12:11:48.680Z"
   },
   {
    "duration": 21,
    "start_time": "2022-04-29T12:11:48.693Z"
   },
   {
    "duration": 30,
    "start_time": "2022-04-29T12:11:48.735Z"
   },
   {
    "duration": 9,
    "start_time": "2022-04-29T12:11:48.767Z"
   },
   {
    "duration": 234,
    "start_time": "2022-04-29T12:11:48.778Z"
   },
   {
    "duration": 36,
    "start_time": "2022-04-29T12:11:49.014Z"
   },
   {
    "duration": 27,
    "start_time": "2022-04-29T12:11:49.052Z"
   },
   {
    "duration": 16,
    "start_time": "2022-04-29T12:11:49.081Z"
   },
   {
    "duration": 80,
    "start_time": "2022-04-29T12:11:49.099Z"
   },
   {
    "duration": 33,
    "start_time": "2022-04-29T12:11:49.181Z"
   },
   {
    "duration": 174,
    "start_time": "2022-04-29T12:11:49.216Z"
   },
   {
    "duration": 6,
    "start_time": "2022-04-29T12:11:49.392Z"
   },
   {
    "duration": 224,
    "start_time": "2022-04-29T12:11:49.400Z"
   },
   {
    "duration": 342,
    "start_time": "2022-04-29T12:11:49.626Z"
   },
   {
    "duration": 777,
    "start_time": "2022-04-29T12:11:49.970Z"
   },
   {
    "duration": 840,
    "start_time": "2022-04-29T12:11:50.752Z"
   },
   {
    "duration": 0,
    "start_time": "2022-04-29T12:11:51.595Z"
   },
   {
    "duration": 0,
    "start_time": "2022-04-29T12:11:51.596Z"
   },
   {
    "duration": 0,
    "start_time": "2022-04-29T12:11:51.597Z"
   },
   {
    "duration": 0,
    "start_time": "2022-04-29T12:11:51.598Z"
   },
   {
    "duration": 0,
    "start_time": "2022-04-29T12:11:51.599Z"
   },
   {
    "duration": 0,
    "start_time": "2022-04-29T12:11:51.600Z"
   },
   {
    "duration": 0,
    "start_time": "2022-04-29T12:11:51.601Z"
   },
   {
    "duration": 0,
    "start_time": "2022-04-29T12:11:51.603Z"
   },
   {
    "duration": 0,
    "start_time": "2022-04-29T12:11:51.604Z"
   },
   {
    "duration": 0,
    "start_time": "2022-04-29T12:11:51.605Z"
   },
   {
    "duration": 44,
    "start_time": "2022-04-29T12:12:02.251Z"
   },
   {
    "duration": 3,
    "start_time": "2022-04-29T12:12:08.882Z"
   },
   {
    "duration": 4,
    "start_time": "2022-04-29T12:12:08.889Z"
   },
   {
    "duration": 4,
    "start_time": "2022-04-29T12:12:08.905Z"
   },
   {
    "duration": 111,
    "start_time": "2022-04-29T12:12:08.960Z"
   },
   {
    "duration": 23,
    "start_time": "2022-04-29T12:12:09.073Z"
   },
   {
    "duration": 19,
    "start_time": "2022-04-29T12:12:09.098Z"
   },
   {
    "duration": 14,
    "start_time": "2022-04-29T12:12:09.118Z"
   },
   {
    "duration": 29,
    "start_time": "2022-04-29T12:12:09.135Z"
   },
   {
    "duration": 4,
    "start_time": "2022-04-29T12:12:09.166Z"
   },
   {
    "duration": 19,
    "start_time": "2022-04-29T12:12:09.172Z"
   },
   {
    "duration": 63,
    "start_time": "2022-04-29T12:12:09.193Z"
   },
   {
    "duration": 11,
    "start_time": "2022-04-29T12:12:09.258Z"
   },
   {
    "duration": 24,
    "start_time": "2022-04-29T12:12:09.271Z"
   },
   {
    "duration": 44,
    "start_time": "2022-04-29T12:12:09.297Z"
   },
   {
    "duration": 31,
    "start_time": "2022-04-29T12:12:09.343Z"
   },
   {
    "duration": 11,
    "start_time": "2022-04-29T12:12:09.375Z"
   },
   {
    "duration": 5,
    "start_time": "2022-04-29T12:12:09.390Z"
   },
   {
    "duration": 8,
    "start_time": "2022-04-29T12:12:09.434Z"
   },
   {
    "duration": 7,
    "start_time": "2022-04-29T12:12:09.444Z"
   },
   {
    "duration": 10,
    "start_time": "2022-04-29T12:12:09.453Z"
   },
   {
    "duration": 10,
    "start_time": "2022-04-29T12:12:09.465Z"
   },
   {
    "duration": 8,
    "start_time": "2022-04-29T12:12:09.477Z"
   },
   {
    "duration": 11,
    "start_time": "2022-04-29T12:12:09.487Z"
   },
   {
    "duration": 41,
    "start_time": "2022-04-29T12:12:09.500Z"
   },
   {
    "duration": 12,
    "start_time": "2022-04-29T12:12:09.542Z"
   },
   {
    "duration": 10,
    "start_time": "2022-04-29T12:12:09.555Z"
   },
   {
    "duration": 22,
    "start_time": "2022-04-29T12:12:09.567Z"
   },
   {
    "duration": 48,
    "start_time": "2022-04-29T12:12:09.591Z"
   },
   {
    "duration": 9,
    "start_time": "2022-04-29T12:12:09.641Z"
   },
   {
    "duration": 206,
    "start_time": "2022-04-29T12:12:09.652Z"
   },
   {
    "duration": 25,
    "start_time": "2022-04-29T12:12:09.860Z"
   },
   {
    "duration": 48,
    "start_time": "2022-04-29T12:12:09.886Z"
   },
   {
    "duration": 18,
    "start_time": "2022-04-29T12:12:09.936Z"
   },
   {
    "duration": 56,
    "start_time": "2022-04-29T12:12:09.957Z"
   },
   {
    "duration": 36,
    "start_time": "2022-04-29T12:12:10.033Z"
   },
   {
    "duration": 171,
    "start_time": "2022-04-29T12:12:10.071Z"
   },
   {
    "duration": 5,
    "start_time": "2022-04-29T12:12:10.244Z"
   },
   {
    "duration": 201,
    "start_time": "2022-04-29T12:12:10.251Z"
   },
   {
    "duration": 321,
    "start_time": "2022-04-29T12:12:10.453Z"
   },
   {
    "duration": 767,
    "start_time": "2022-04-29T12:12:10.776Z"
   },
   {
    "duration": 755,
    "start_time": "2022-04-29T12:12:11.545Z"
   },
   {
    "duration": 0,
    "start_time": "2022-04-29T12:12:12.301Z"
   },
   {
    "duration": 0,
    "start_time": "2022-04-29T12:12:12.303Z"
   },
   {
    "duration": 0,
    "start_time": "2022-04-29T12:12:12.304Z"
   },
   {
    "duration": 0,
    "start_time": "2022-04-29T12:12:12.305Z"
   },
   {
    "duration": 0,
    "start_time": "2022-04-29T12:12:12.306Z"
   },
   {
    "duration": 0,
    "start_time": "2022-04-29T12:12:12.307Z"
   },
   {
    "duration": 0,
    "start_time": "2022-04-29T12:12:12.308Z"
   },
   {
    "duration": 0,
    "start_time": "2022-04-29T12:12:12.309Z"
   },
   {
    "duration": 0,
    "start_time": "2022-04-29T12:12:12.310Z"
   },
   {
    "duration": 0,
    "start_time": "2022-04-29T12:12:12.311Z"
   },
   {
    "duration": 456,
    "start_time": "2022-04-29T12:12:49.272Z"
   },
   {
    "duration": 4,
    "start_time": "2022-04-29T12:12:53.128Z"
   },
   {
    "duration": 12,
    "start_time": "2022-04-29T12:12:53.134Z"
   },
   {
    "duration": 4,
    "start_time": "2022-04-29T12:12:53.186Z"
   },
   {
    "duration": 118,
    "start_time": "2022-04-29T12:12:53.193Z"
   },
   {
    "duration": 24,
    "start_time": "2022-04-29T12:12:53.313Z"
   },
   {
    "duration": 28,
    "start_time": "2022-04-29T12:12:53.339Z"
   },
   {
    "duration": 14,
    "start_time": "2022-04-29T12:12:53.370Z"
   },
   {
    "duration": 47,
    "start_time": "2022-04-29T12:12:53.386Z"
   },
   {
    "duration": 4,
    "start_time": "2022-04-29T12:12:53.435Z"
   },
   {
    "duration": 22,
    "start_time": "2022-04-29T12:12:53.441Z"
   },
   {
    "duration": 70,
    "start_time": "2022-04-29T12:12:53.465Z"
   },
   {
    "duration": 11,
    "start_time": "2022-04-29T12:12:53.537Z"
   },
   {
    "duration": 30,
    "start_time": "2022-04-29T12:12:53.550Z"
   },
   {
    "duration": 15,
    "start_time": "2022-04-29T12:12:53.582Z"
   },
   {
    "duration": 31,
    "start_time": "2022-04-29T12:12:53.634Z"
   },
   {
    "duration": 10,
    "start_time": "2022-04-29T12:12:53.666Z"
   },
   {
    "duration": 9,
    "start_time": "2022-04-29T12:12:53.678Z"
   },
   {
    "duration": 17,
    "start_time": "2022-04-29T12:12:53.688Z"
   },
   {
    "duration": 8,
    "start_time": "2022-04-29T12:12:53.734Z"
   },
   {
    "duration": 14,
    "start_time": "2022-04-29T12:12:53.743Z"
   },
   {
    "duration": 15,
    "start_time": "2022-04-29T12:12:53.758Z"
   },
   {
    "duration": 13,
    "start_time": "2022-04-29T12:12:53.775Z"
   },
   {
    "duration": 11,
    "start_time": "2022-04-29T12:12:53.790Z"
   },
   {
    "duration": 10,
    "start_time": "2022-04-29T12:12:53.804Z"
   },
   {
    "duration": 10,
    "start_time": "2022-04-29T12:12:53.835Z"
   },
   {
    "duration": 9,
    "start_time": "2022-04-29T12:12:53.847Z"
   },
   {
    "duration": 21,
    "start_time": "2022-04-29T12:12:53.858Z"
   },
   {
    "duration": 54,
    "start_time": "2022-04-29T12:12:53.881Z"
   },
   {
    "duration": 10,
    "start_time": "2022-04-29T12:12:53.937Z"
   },
   {
    "duration": 214,
    "start_time": "2022-04-29T12:12:53.949Z"
   },
   {
    "duration": 26,
    "start_time": "2022-04-29T12:12:54.165Z"
   },
   {
    "duration": 60,
    "start_time": "2022-04-29T12:12:54.193Z"
   },
   {
    "duration": 19,
    "start_time": "2022-04-29T12:12:54.255Z"
   },
   {
    "duration": 73,
    "start_time": "2022-04-29T12:12:54.275Z"
   },
   {
    "duration": 34,
    "start_time": "2022-04-29T12:12:54.350Z"
   },
   {
    "duration": 176,
    "start_time": "2022-04-29T12:12:54.385Z"
   },
   {
    "duration": 7,
    "start_time": "2022-04-29T12:12:54.563Z"
   },
   {
    "duration": 357,
    "start_time": "2022-04-29T12:12:54.572Z"
   },
   {
    "duration": 329,
    "start_time": "2022-04-29T12:12:54.936Z"
   },
   {
    "duration": 930,
    "start_time": "2022-04-29T12:12:55.267Z"
   },
   {
    "duration": 485,
    "start_time": "2022-04-29T12:12:56.199Z"
   },
   {
    "duration": 56,
    "start_time": "2022-04-29T12:12:56.685Z"
   },
   {
    "duration": 36,
    "start_time": "2022-04-29T12:12:56.743Z"
   },
   {
    "duration": 5,
    "start_time": "2022-04-29T12:12:56.781Z"
   },
   {
    "duration": 9,
    "start_time": "2022-04-29T12:12:56.788Z"
   },
   {
    "duration": 36,
    "start_time": "2022-04-29T12:12:56.799Z"
   },
   {
    "duration": 8,
    "start_time": "2022-04-29T12:12:56.837Z"
   },
   {
    "duration": 18,
    "start_time": "2022-04-29T12:12:56.847Z"
   },
   {
    "duration": 820,
    "start_time": "2022-04-29T12:12:56.867Z"
   },
   {
    "duration": 11,
    "start_time": "2022-04-29T12:12:57.689Z"
   },
   {
    "duration": 1682,
    "start_time": "2022-04-29T12:12:57.702Z"
   },
   {
    "duration": 37,
    "start_time": "2022-04-29T12:22:18.016Z"
   },
   {
    "duration": 3,
    "start_time": "2022-04-29T12:22:22.998Z"
   },
   {
    "duration": 6,
    "start_time": "2022-04-29T12:22:23.004Z"
   },
   {
    "duration": 7,
    "start_time": "2022-04-29T12:22:23.012Z"
   },
   {
    "duration": 129,
    "start_time": "2022-04-29T12:22:23.021Z"
   },
   {
    "duration": 23,
    "start_time": "2022-04-29T12:22:23.153Z"
   },
   {
    "duration": 18,
    "start_time": "2022-04-29T12:22:23.177Z"
   },
   {
    "duration": 13,
    "start_time": "2022-04-29T12:22:23.197Z"
   },
   {
    "duration": 50,
    "start_time": "2022-04-29T12:22:23.212Z"
   },
   {
    "duration": 4,
    "start_time": "2022-04-29T12:22:23.264Z"
   },
   {
    "duration": 23,
    "start_time": "2022-04-29T12:22:23.270Z"
   },
   {
    "duration": 59,
    "start_time": "2022-04-29T12:22:23.295Z"
   },
   {
    "duration": 11,
    "start_time": "2022-04-29T12:22:23.355Z"
   },
   {
    "duration": 24,
    "start_time": "2022-04-29T12:22:23.368Z"
   },
   {
    "duration": 40,
    "start_time": "2022-04-29T12:22:23.395Z"
   },
   {
    "duration": 31,
    "start_time": "2022-04-29T12:22:23.436Z"
   },
   {
    "duration": 10,
    "start_time": "2022-04-29T12:22:23.469Z"
   },
   {
    "duration": 5,
    "start_time": "2022-04-29T12:22:23.480Z"
   },
   {
    "duration": 10,
    "start_time": "2022-04-29T12:22:23.487Z"
   },
   {
    "duration": 39,
    "start_time": "2022-04-29T12:22:23.499Z"
   },
   {
    "duration": 10,
    "start_time": "2022-04-29T12:22:23.540Z"
   },
   {
    "duration": 10,
    "start_time": "2022-04-29T12:22:23.552Z"
   },
   {
    "duration": 9,
    "start_time": "2022-04-29T12:22:23.564Z"
   },
   {
    "duration": 13,
    "start_time": "2022-04-29T12:22:23.574Z"
   },
   {
    "duration": 7,
    "start_time": "2022-04-29T12:22:23.589Z"
   },
   {
    "duration": 11,
    "start_time": "2022-04-29T12:22:23.598Z"
   },
   {
    "duration": 23,
    "start_time": "2022-04-29T12:22:23.611Z"
   },
   {
    "duration": 22,
    "start_time": "2022-04-29T12:22:23.635Z"
   },
   {
    "duration": 27,
    "start_time": "2022-04-29T12:22:23.659Z"
   },
   {
    "duration": 9,
    "start_time": "2022-04-29T12:22:23.689Z"
   },
   {
    "duration": 179,
    "start_time": "2022-04-29T12:22:23.733Z"
   },
   {
    "duration": 36,
    "start_time": "2022-04-29T12:22:23.914Z"
   },
   {
    "duration": 27,
    "start_time": "2022-04-29T12:22:23.951Z"
   },
   {
    "duration": 17,
    "start_time": "2022-04-29T12:22:23.979Z"
   },
   {
    "duration": 170,
    "start_time": "2022-04-29T12:22:23.998Z"
   },
   {
    "duration": 32,
    "start_time": "2022-04-29T12:22:24.169Z"
   },
   {
    "duration": 160,
    "start_time": "2022-04-29T12:22:24.202Z"
   },
   {
    "duration": 6,
    "start_time": "2022-04-29T12:22:24.363Z"
   },
   {
    "duration": 202,
    "start_time": "2022-04-29T12:22:24.371Z"
   },
   {
    "duration": 320,
    "start_time": "2022-04-29T12:22:24.574Z"
   },
   {
    "duration": 683,
    "start_time": "2022-04-29T12:22:24.896Z"
   },
   {
    "duration": 447,
    "start_time": "2022-04-29T12:22:25.582Z"
   },
   {
    "duration": 39,
    "start_time": "2022-04-29T12:22:26.031Z"
   },
   {
    "duration": 33,
    "start_time": "2022-04-29T12:22:26.072Z"
   },
   {
    "duration": 29,
    "start_time": "2022-04-29T12:22:26.106Z"
   },
   {
    "duration": 9,
    "start_time": "2022-04-29T12:22:26.137Z"
   },
   {
    "duration": 7,
    "start_time": "2022-04-29T12:22:26.148Z"
   },
   {
    "duration": 6,
    "start_time": "2022-04-29T12:22:26.157Z"
   },
   {
    "duration": 16,
    "start_time": "2022-04-29T12:22:26.165Z"
   },
   {
    "duration": 881,
    "start_time": "2022-04-29T12:22:26.183Z"
   },
   {
    "duration": 10,
    "start_time": "2022-04-29T12:22:27.066Z"
   },
   {
    "duration": 1683,
    "start_time": "2022-04-29T12:22:27.078Z"
   },
   {
    "duration": 30,
    "start_time": "2022-04-29T12:26:24.337Z"
   },
   {
    "duration": 15,
    "start_time": "2022-04-29T12:28:46.329Z"
   },
   {
    "duration": 14,
    "start_time": "2022-04-29T12:28:52.718Z"
   },
   {
    "duration": 17,
    "start_time": "2022-04-29T12:28:58.481Z"
   },
   {
    "duration": 15,
    "start_time": "2022-04-29T12:29:08.709Z"
   },
   {
    "duration": 2153,
    "start_time": "2022-04-29T12:29:19.489Z"
   },
   {
    "duration": 3,
    "start_time": "2022-04-29T12:54:37.968Z"
   },
   {
    "duration": 6,
    "start_time": "2022-04-29T12:54:37.973Z"
   },
   {
    "duration": 6,
    "start_time": "2022-04-29T12:54:37.981Z"
   },
   {
    "duration": 123,
    "start_time": "2022-04-29T12:54:38.031Z"
   },
   {
    "duration": 24,
    "start_time": "2022-04-29T12:54:38.156Z"
   },
   {
    "duration": 22,
    "start_time": "2022-04-29T12:54:38.181Z"
   },
   {
    "duration": 14,
    "start_time": "2022-04-29T12:54:38.204Z"
   },
   {
    "duration": 31,
    "start_time": "2022-04-29T12:54:38.221Z"
   },
   {
    "duration": 4,
    "start_time": "2022-04-29T12:54:38.254Z"
   },
   {
    "duration": 19,
    "start_time": "2022-04-29T12:54:38.259Z"
   },
   {
    "duration": 59,
    "start_time": "2022-04-29T12:54:38.280Z"
   },
   {
    "duration": 12,
    "start_time": "2022-04-29T12:54:38.341Z"
   },
   {
    "duration": 25,
    "start_time": "2022-04-29T12:54:38.354Z"
   },
   {
    "duration": 15,
    "start_time": "2022-04-29T12:54:38.380Z"
   },
   {
    "duration": 32,
    "start_time": "2022-04-29T12:54:38.433Z"
   },
   {
    "duration": 10,
    "start_time": "2022-04-29T12:54:38.466Z"
   },
   {
    "duration": 6,
    "start_time": "2022-04-29T12:54:38.479Z"
   },
   {
    "duration": 10,
    "start_time": "2022-04-29T12:54:38.487Z"
   },
   {
    "duration": 39,
    "start_time": "2022-04-29T12:54:38.499Z"
   },
   {
    "duration": 14,
    "start_time": "2022-04-29T12:54:38.540Z"
   },
   {
    "duration": 10,
    "start_time": "2022-04-29T12:54:38.556Z"
   },
   {
    "duration": 8,
    "start_time": "2022-04-29T12:54:38.568Z"
   },
   {
    "duration": 8,
    "start_time": "2022-04-29T12:54:38.578Z"
   },
   {
    "duration": 6,
    "start_time": "2022-04-29T12:54:38.588Z"
   },
   {
    "duration": 9,
    "start_time": "2022-04-29T12:54:38.596Z"
   },
   {
    "duration": 32,
    "start_time": "2022-04-29T12:54:38.606Z"
   },
   {
    "duration": 21,
    "start_time": "2022-04-29T12:54:38.639Z"
   },
   {
    "duration": 26,
    "start_time": "2022-04-29T12:54:38.661Z"
   },
   {
    "duration": 10,
    "start_time": "2022-04-29T12:54:38.688Z"
   },
   {
    "duration": 221,
    "start_time": "2022-04-29T12:54:38.700Z"
   },
   {
    "duration": 25,
    "start_time": "2022-04-29T12:54:38.923Z"
   },
   {
    "duration": 28,
    "start_time": "2022-04-29T12:54:38.950Z"
   },
   {
    "duration": 18,
    "start_time": "2022-04-29T12:54:38.980Z"
   },
   {
    "duration": 85,
    "start_time": "2022-04-29T12:54:39.000Z"
   },
   {
    "duration": 54,
    "start_time": "2022-04-29T12:54:39.087Z"
   },
   {
    "duration": 150,
    "start_time": "2022-04-29T12:54:39.143Z"
   },
   {
    "duration": 6,
    "start_time": "2022-04-29T12:54:39.295Z"
   },
   {
    "duration": 193,
    "start_time": "2022-04-29T12:54:39.302Z"
   },
   {
    "duration": 308,
    "start_time": "2022-04-29T12:54:39.497Z"
   },
   {
    "duration": 834,
    "start_time": "2022-04-29T12:54:39.806Z"
   },
   {
    "duration": 430,
    "start_time": "2022-04-29T12:54:40.641Z"
   },
   {
    "duration": 38,
    "start_time": "2022-04-29T12:54:41.073Z"
   },
   {
    "duration": 51,
    "start_time": "2022-04-29T12:54:41.112Z"
   },
   {
    "duration": 5,
    "start_time": "2022-04-29T12:54:41.167Z"
   },
   {
    "duration": 8,
    "start_time": "2022-04-29T12:54:41.173Z"
   },
   {
    "duration": 8,
    "start_time": "2022-04-29T12:54:41.183Z"
   },
   {
    "duration": 7,
    "start_time": "2022-04-29T12:54:41.193Z"
   },
   {
    "duration": 40,
    "start_time": "2022-04-29T12:54:41.202Z"
   },
   {
    "duration": 739,
    "start_time": "2022-04-29T12:54:41.244Z"
   },
   {
    "duration": 15,
    "start_time": "2022-04-29T12:54:41.984Z"
   },
   {
    "duration": 2205,
    "start_time": "2022-04-29T12:54:42.001Z"
   },
   {
    "duration": 1217,
    "start_time": "2022-04-29T13:06:20.876Z"
   },
   {
    "duration": 4,
    "start_time": "2022-04-29T13:06:22.095Z"
   },
   {
    "duration": 5,
    "start_time": "2022-04-29T13:06:22.107Z"
   },
   {
    "duration": 111,
    "start_time": "2022-04-29T13:06:22.115Z"
   },
   {
    "duration": 31,
    "start_time": "2022-04-29T13:06:22.229Z"
   },
   {
    "duration": 32,
    "start_time": "2022-04-29T13:06:22.262Z"
   },
   {
    "duration": 24,
    "start_time": "2022-04-29T13:06:22.297Z"
   },
   {
    "duration": 34,
    "start_time": "2022-04-29T13:06:22.323Z"
   },
   {
    "duration": 5,
    "start_time": "2022-04-29T13:06:22.360Z"
   },
   {
    "duration": 47,
    "start_time": "2022-04-29T13:06:22.367Z"
   },
   {
    "duration": 49,
    "start_time": "2022-04-29T13:06:22.416Z"
   },
   {
    "duration": 11,
    "start_time": "2022-04-29T13:06:22.468Z"
   },
   {
    "duration": 42,
    "start_time": "2022-04-29T13:06:22.481Z"
   },
   {
    "duration": 14,
    "start_time": "2022-04-29T13:06:22.526Z"
   },
   {
    "duration": 34,
    "start_time": "2022-04-29T13:06:22.543Z"
   },
   {
    "duration": 32,
    "start_time": "2022-04-29T13:06:22.580Z"
   },
   {
    "duration": 24,
    "start_time": "2022-04-29T13:06:22.615Z"
   },
   {
    "duration": 26,
    "start_time": "2022-04-29T13:06:22.641Z"
   },
   {
    "duration": 15,
    "start_time": "2022-04-29T13:06:22.669Z"
   },
   {
    "duration": 16,
    "start_time": "2022-04-29T13:06:22.686Z"
   },
   {
    "duration": 19,
    "start_time": "2022-04-29T13:06:22.704Z"
   },
   {
    "duration": 8,
    "start_time": "2022-04-29T13:06:22.725Z"
   },
   {
    "duration": 17,
    "start_time": "2022-04-29T13:06:22.735Z"
   },
   {
    "duration": 6,
    "start_time": "2022-04-29T13:06:22.754Z"
   },
   {
    "duration": 22,
    "start_time": "2022-04-29T13:06:22.762Z"
   },
   {
    "duration": 20,
    "start_time": "2022-04-29T13:06:22.785Z"
   },
   {
    "duration": 28,
    "start_time": "2022-04-29T13:06:22.807Z"
   },
   {
    "duration": 40,
    "start_time": "2022-04-29T13:06:22.838Z"
   },
   {
    "duration": 29,
    "start_time": "2022-04-29T13:06:22.880Z"
   },
   {
    "duration": 210,
    "start_time": "2022-04-29T13:06:22.911Z"
   },
   {
    "duration": 32,
    "start_time": "2022-04-29T13:06:23.123Z"
   },
   {
    "duration": 57,
    "start_time": "2022-04-29T13:06:23.157Z"
   },
   {
    "duration": 23,
    "start_time": "2022-04-29T13:06:23.216Z"
   },
   {
    "duration": 75,
    "start_time": "2022-04-29T13:06:23.241Z"
   },
   {
    "duration": 45,
    "start_time": "2022-04-29T13:06:23.318Z"
   },
   {
    "duration": 190,
    "start_time": "2022-04-29T13:06:23.365Z"
   },
   {
    "duration": 6,
    "start_time": "2022-04-29T13:06:23.557Z"
   },
   {
    "duration": 197,
    "start_time": "2022-04-29T13:06:23.565Z"
   },
   {
    "duration": 327,
    "start_time": "2022-04-29T13:06:23.764Z"
   },
   {
    "duration": 789,
    "start_time": "2022-04-29T13:06:24.092Z"
   },
   {
    "duration": 475,
    "start_time": "2022-04-29T13:06:24.885Z"
   },
   {
    "duration": 47,
    "start_time": "2022-04-29T13:06:25.362Z"
   },
   {
    "duration": 33,
    "start_time": "2022-04-29T13:06:25.412Z"
   },
   {
    "duration": 6,
    "start_time": "2022-04-29T13:06:25.447Z"
   },
   {
    "duration": 7,
    "start_time": "2022-04-29T13:06:25.454Z"
   },
   {
    "duration": 7,
    "start_time": "2022-04-29T13:06:25.463Z"
   },
   {
    "duration": 7,
    "start_time": "2022-04-29T13:06:25.507Z"
   },
   {
    "duration": 18,
    "start_time": "2022-04-29T13:06:25.516Z"
   },
   {
    "duration": 802,
    "start_time": "2022-04-29T13:06:25.537Z"
   },
   {
    "duration": 20,
    "start_time": "2022-04-29T13:06:26.341Z"
   },
   {
    "duration": 2249,
    "start_time": "2022-04-29T13:06:26.363Z"
   },
   {
    "duration": 1839,
    "start_time": "2022-04-29T22:17:24.837Z"
   },
   {
    "duration": 5,
    "start_time": "2022-04-29T22:17:26.678Z"
   },
   {
    "duration": 8,
    "start_time": "2022-04-29T22:17:26.685Z"
   },
   {
    "duration": 135,
    "start_time": "2022-04-29T22:17:26.696Z"
   },
   {
    "duration": 35,
    "start_time": "2022-04-29T22:17:26.834Z"
   },
   {
    "duration": 32,
    "start_time": "2022-04-29T22:17:26.872Z"
   },
   {
    "duration": 19,
    "start_time": "2022-04-29T22:17:26.906Z"
   },
   {
    "duration": 41,
    "start_time": "2022-04-29T22:17:26.927Z"
   },
   {
    "duration": 5,
    "start_time": "2022-04-29T22:17:26.982Z"
   },
   {
    "duration": 29,
    "start_time": "2022-04-29T22:17:26.992Z"
   },
   {
    "duration": 79,
    "start_time": "2022-04-29T22:17:27.023Z"
   },
   {
    "duration": 16,
    "start_time": "2022-04-29T22:17:27.104Z"
   },
   {
    "duration": 32,
    "start_time": "2022-04-29T22:17:27.122Z"
   },
   {
    "duration": 20,
    "start_time": "2022-04-29T22:17:27.182Z"
   },
   {
    "duration": 38,
    "start_time": "2022-04-29T22:17:27.204Z"
   },
   {
    "duration": 43,
    "start_time": "2022-04-29T22:17:27.244Z"
   },
   {
    "duration": 7,
    "start_time": "2022-04-29T22:17:27.289Z"
   },
   {
    "duration": 11,
    "start_time": "2022-04-29T22:17:27.299Z"
   },
   {
    "duration": 8,
    "start_time": "2022-04-29T22:17:27.313Z"
   },
   {
    "duration": 12,
    "start_time": "2022-04-29T22:17:27.323Z"
   },
   {
    "duration": 53,
    "start_time": "2022-04-29T22:17:27.337Z"
   },
   {
    "duration": 8,
    "start_time": "2022-04-29T22:17:27.392Z"
   },
   {
    "duration": 11,
    "start_time": "2022-04-29T22:17:27.402Z"
   },
   {
    "duration": 7,
    "start_time": "2022-04-29T22:17:27.415Z"
   },
   {
    "duration": 15,
    "start_time": "2022-04-29T22:17:27.425Z"
   },
   {
    "duration": 44,
    "start_time": "2022-04-29T22:17:27.443Z"
   },
   {
    "duration": 25,
    "start_time": "2022-04-29T22:17:27.489Z"
   },
   {
    "duration": 67,
    "start_time": "2022-04-29T22:17:27.519Z"
   },
   {
    "duration": 13,
    "start_time": "2022-04-29T22:17:27.588Z"
   },
   {
    "duration": 342,
    "start_time": "2022-04-29T22:17:27.604Z"
   },
   {
    "duration": 49,
    "start_time": "2022-04-29T22:17:27.948Z"
   },
   {
    "duration": 37,
    "start_time": "2022-04-29T22:17:28.000Z"
   },
   {
    "duration": 48,
    "start_time": "2022-04-29T22:17:28.040Z"
   },
   {
    "duration": 93,
    "start_time": "2022-04-29T22:17:28.090Z"
   },
   {
    "duration": 48,
    "start_time": "2022-04-29T22:17:28.185Z"
   },
   {
    "duration": 244,
    "start_time": "2022-04-29T22:17:28.236Z"
   },
   {
    "duration": 8,
    "start_time": "2022-04-29T22:17:28.482Z"
   },
   {
    "duration": 290,
    "start_time": "2022-04-29T22:17:28.492Z"
   },
   {
    "duration": 469,
    "start_time": "2022-04-29T22:17:28.784Z"
   },
   {
    "duration": 1058,
    "start_time": "2022-04-29T22:17:29.256Z"
   },
   {
    "duration": 659,
    "start_time": "2022-04-29T22:17:30.316Z"
   },
   {
    "duration": 59,
    "start_time": "2022-04-29T22:17:30.978Z"
   },
   {
    "duration": 73,
    "start_time": "2022-04-29T22:17:31.039Z"
   },
   {
    "duration": 6,
    "start_time": "2022-04-29T22:17:31.114Z"
   },
   {
    "duration": 43,
    "start_time": "2022-04-29T22:17:31.123Z"
   },
   {
    "duration": 47,
    "start_time": "2022-04-29T22:17:31.168Z"
   },
   {
    "duration": 31,
    "start_time": "2022-04-29T22:17:31.217Z"
   },
   {
    "duration": 34,
    "start_time": "2022-04-29T22:17:31.251Z"
   },
   {
    "duration": 1135,
    "start_time": "2022-04-29T22:17:31.288Z"
   },
   {
    "duration": 20,
    "start_time": "2022-04-29T22:17:32.425Z"
   },
   {
    "duration": 3286,
    "start_time": "2022-04-29T22:17:32.448Z"
   },
   {
    "duration": 1617,
    "start_time": "2022-04-29T22:19:13.400Z"
   },
   {
    "duration": 4,
    "start_time": "2022-04-29T22:19:15.020Z"
   },
   {
    "duration": 32,
    "start_time": "2022-04-29T22:19:15.026Z"
   },
   {
    "duration": 133,
    "start_time": "2022-04-29T22:19:15.060Z"
   },
   {
    "duration": 35,
    "start_time": "2022-04-29T22:19:15.197Z"
   },
   {
    "duration": 52,
    "start_time": "2022-04-29T22:19:15.234Z"
   },
   {
    "duration": 25,
    "start_time": "2022-04-29T22:19:15.288Z"
   },
   {
    "duration": 35,
    "start_time": "2022-04-29T22:19:15.316Z"
   },
   {
    "duration": 5,
    "start_time": "2022-04-29T22:19:15.382Z"
   },
   {
    "duration": 29,
    "start_time": "2022-04-29T22:19:15.389Z"
   },
   {
    "duration": 72,
    "start_time": "2022-04-29T22:19:15.421Z"
   },
   {
    "duration": 17,
    "start_time": "2022-04-29T22:19:15.495Z"
   },
   {
    "duration": 32,
    "start_time": "2022-04-29T22:19:15.515Z"
   },
   {
    "duration": 20,
    "start_time": "2022-04-29T22:19:15.584Z"
   },
   {
    "duration": 40,
    "start_time": "2022-04-29T22:19:15.606Z"
   },
   {
    "duration": 39,
    "start_time": "2022-04-29T22:19:15.649Z"
   },
   {
    "duration": 7,
    "start_time": "2022-04-29T22:19:15.690Z"
   },
   {
    "duration": 14,
    "start_time": "2022-04-29T22:19:15.698Z"
   },
   {
    "duration": 8,
    "start_time": "2022-04-29T22:19:15.714Z"
   },
   {
    "duration": 18,
    "start_time": "2022-04-29T22:19:15.724Z"
   },
   {
    "duration": 41,
    "start_time": "2022-04-29T22:19:15.745Z"
   },
   {
    "duration": 7,
    "start_time": "2022-04-29T22:19:15.788Z"
   },
   {
    "duration": 9,
    "start_time": "2022-04-29T22:19:15.797Z"
   },
   {
    "duration": 8,
    "start_time": "2022-04-29T22:19:15.808Z"
   },
   {
    "duration": 9,
    "start_time": "2022-04-29T22:19:15.818Z"
   },
   {
    "duration": 9,
    "start_time": "2022-04-29T22:19:15.829Z"
   },
   {
    "duration": 24,
    "start_time": "2022-04-29T22:19:15.883Z"
   },
   {
    "duration": 39,
    "start_time": "2022-04-29T22:19:15.910Z"
   },
   {
    "duration": 15,
    "start_time": "2022-04-29T22:19:15.983Z"
   },
   {
    "duration": 314,
    "start_time": "2022-04-29T22:19:16.001Z"
   },
   {
    "duration": 34,
    "start_time": "2022-04-29T22:19:16.318Z"
   },
   {
    "duration": 12,
    "start_time": "2022-04-29T22:19:44.160Z"
   },
   {
    "duration": 6,
    "start_time": "2022-04-29T22:20:01.079Z"
   },
   {
    "duration": 1539,
    "start_time": "2022-04-29T22:41:27.971Z"
   },
   {
    "duration": 3,
    "start_time": "2022-04-29T22:41:29.513Z"
   },
   {
    "duration": 11,
    "start_time": "2022-04-29T22:41:29.518Z"
   },
   {
    "duration": 121,
    "start_time": "2022-04-29T22:41:29.532Z"
   },
   {
    "duration": 32,
    "start_time": "2022-04-29T22:41:29.655Z"
   },
   {
    "duration": 31,
    "start_time": "2022-04-29T22:41:29.690Z"
   },
   {
    "duration": 18,
    "start_time": "2022-04-29T22:41:29.723Z"
   },
   {
    "duration": 68,
    "start_time": "2022-04-29T22:41:29.743Z"
   },
   {
    "duration": 5,
    "start_time": "2022-04-29T22:41:29.813Z"
   },
   {
    "duration": 25,
    "start_time": "2022-04-29T22:41:29.822Z"
   },
   {
    "duration": 79,
    "start_time": "2022-04-29T22:41:29.849Z"
   },
   {
    "duration": 14,
    "start_time": "2022-04-29T22:41:29.930Z"
   },
   {
    "duration": 58,
    "start_time": "2022-04-29T22:41:29.947Z"
   },
   {
    "duration": 20,
    "start_time": "2022-04-29T22:41:30.007Z"
   },
   {
    "duration": 70,
    "start_time": "2022-04-29T22:41:30.029Z"
   },
   {
    "duration": 14,
    "start_time": "2022-04-29T22:41:30.101Z"
   },
   {
    "duration": 16,
    "start_time": "2022-04-29T22:41:30.117Z"
   },
   {
    "duration": 18,
    "start_time": "2022-04-29T22:41:30.135Z"
   },
   {
    "duration": 30,
    "start_time": "2022-04-29T22:41:30.155Z"
   },
   {
    "duration": 10,
    "start_time": "2022-04-29T22:41:30.187Z"
   },
   {
    "duration": 17,
    "start_time": "2022-04-29T22:41:30.199Z"
   },
   {
    "duration": 15,
    "start_time": "2022-04-29T22:41:30.218Z"
   },
   {
    "duration": 17,
    "start_time": "2022-04-29T22:41:30.235Z"
   },
   {
    "duration": 35,
    "start_time": "2022-04-29T22:41:30.254Z"
   },
   {
    "duration": 25,
    "start_time": "2022-04-29T22:41:30.291Z"
   },
   {
    "duration": 16,
    "start_time": "2022-04-29T22:41:30.318Z"
   },
   {
    "duration": 37,
    "start_time": "2022-04-29T22:41:30.336Z"
   },
   {
    "duration": 37,
    "start_time": "2022-04-29T22:41:30.380Z"
   },
   {
    "duration": 12,
    "start_time": "2022-04-29T22:41:30.419Z"
   },
   {
    "duration": 324,
    "start_time": "2022-04-29T22:41:30.434Z"
   },
   {
    "duration": 36,
    "start_time": "2022-04-29T22:41:30.761Z"
   },
   {
    "duration": 37,
    "start_time": "2022-04-29T22:41:30.799Z"
   },
   {
    "duration": 46,
    "start_time": "2022-04-29T22:41:30.838Z"
   },
   {
    "duration": 79,
    "start_time": "2022-04-29T22:41:30.886Z"
   },
   {
    "duration": 61,
    "start_time": "2022-04-29T22:41:30.967Z"
   },
   {
    "duration": 244,
    "start_time": "2022-04-29T22:41:31.031Z"
   },
   {
    "duration": 8,
    "start_time": "2022-04-29T22:41:31.281Z"
   },
   {
    "duration": 291,
    "start_time": "2022-04-29T22:41:31.291Z"
   },
   {
    "duration": 669,
    "start_time": "2022-04-29T22:41:31.584Z"
   },
   {
    "duration": 1065,
    "start_time": "2022-04-29T22:41:32.256Z"
   },
   {
    "duration": 645,
    "start_time": "2022-04-29T22:41:33.323Z"
   },
   {
    "duration": 64,
    "start_time": "2022-04-29T22:41:33.971Z"
   },
   {
    "duration": 77,
    "start_time": "2022-04-29T22:41:34.038Z"
   },
   {
    "duration": 6,
    "start_time": "2022-04-29T22:41:34.117Z"
   },
   {
    "duration": 12,
    "start_time": "2022-04-29T22:41:34.124Z"
   },
   {
    "duration": 8,
    "start_time": "2022-04-29T22:41:34.138Z"
   },
   {
    "duration": 37,
    "start_time": "2022-04-29T22:41:34.148Z"
   },
   {
    "duration": 18,
    "start_time": "2022-04-29T22:41:34.187Z"
   },
   {
    "duration": 1134,
    "start_time": "2022-04-29T22:41:34.208Z"
   },
   {
    "duration": 36,
    "start_time": "2022-04-29T22:41:35.345Z"
   },
   {
    "duration": 3275,
    "start_time": "2022-04-29T22:41:35.384Z"
   },
   {
    "duration": 1847,
    "start_time": "2022-05-12T13:17:37.681Z"
   },
   {
    "duration": 4,
    "start_time": "2022-05-12T13:17:39.531Z"
   },
   {
    "duration": 9,
    "start_time": "2022-05-12T13:17:39.537Z"
   },
   {
    "duration": 178,
    "start_time": "2022-05-12T13:17:39.549Z"
   },
   {
    "duration": 36,
    "start_time": "2022-05-12T13:17:39.729Z"
   },
   {
    "duration": 63,
    "start_time": "2022-05-12T13:17:39.768Z"
   },
   {
    "duration": 21,
    "start_time": "2022-05-12T13:17:39.833Z"
   },
   {
    "duration": 67,
    "start_time": "2022-05-12T13:17:39.857Z"
   },
   {
    "duration": 7,
    "start_time": "2022-05-12T13:17:39.927Z"
   },
   {
    "duration": 32,
    "start_time": "2022-05-12T13:17:39.940Z"
   },
   {
    "duration": 80,
    "start_time": "2022-05-12T13:17:39.974Z"
   },
   {
    "duration": 14,
    "start_time": "2022-05-12T13:17:40.056Z"
   },
   {
    "duration": 58,
    "start_time": "2022-05-12T13:17:40.073Z"
   },
   {
    "duration": 18,
    "start_time": "2022-05-12T13:17:40.134Z"
   },
   {
    "duration": 41,
    "start_time": "2022-05-12T13:17:40.155Z"
   },
   {
    "duration": 34,
    "start_time": "2022-05-12T13:17:40.198Z"
   },
   {
    "duration": 17,
    "start_time": "2022-05-12T13:17:40.234Z"
   },
   {
    "duration": 18,
    "start_time": "2022-05-12T13:17:40.253Z"
   },
   {
    "duration": 14,
    "start_time": "2022-05-12T13:17:40.273Z"
   },
   {
    "duration": 33,
    "start_time": "2022-05-12T13:17:40.289Z"
   },
   {
    "duration": 18,
    "start_time": "2022-05-12T13:17:40.325Z"
   },
   {
    "duration": 19,
    "start_time": "2022-05-12T13:17:40.345Z"
   },
   {
    "duration": 26,
    "start_time": "2022-05-12T13:17:40.366Z"
   },
   {
    "duration": 16,
    "start_time": "2022-05-12T13:17:40.394Z"
   },
   {
    "duration": 23,
    "start_time": "2022-05-12T13:17:40.412Z"
   },
   {
    "duration": 20,
    "start_time": "2022-05-12T13:17:40.437Z"
   },
   {
    "duration": 33,
    "start_time": "2022-05-12T13:17:40.459Z"
   },
   {
    "duration": 43,
    "start_time": "2022-05-12T13:17:40.498Z"
   },
   {
    "duration": 13,
    "start_time": "2022-05-12T13:17:40.543Z"
   },
   {
    "duration": 305,
    "start_time": "2022-05-12T13:17:40.558Z"
   },
   {
    "duration": 32,
    "start_time": "2022-05-12T13:17:40.865Z"
   },
   {
    "duration": 58,
    "start_time": "2022-05-12T13:17:40.899Z"
   },
   {
    "duration": 25,
    "start_time": "2022-05-12T13:17:40.959Z"
   },
   {
    "duration": 107,
    "start_time": "2022-05-12T13:17:40.986Z"
   },
   {
    "duration": 63,
    "start_time": "2022-05-12T13:17:41.094Z"
   },
   {
    "duration": 241,
    "start_time": "2022-05-12T13:17:41.159Z"
   },
   {
    "duration": 7,
    "start_time": "2022-05-12T13:17:41.402Z"
   },
   {
    "duration": 289,
    "start_time": "2022-05-12T13:17:41.411Z"
   },
   {
    "duration": 482,
    "start_time": "2022-05-12T13:17:41.703Z"
   },
   {
    "duration": 1078,
    "start_time": "2022-05-12T13:17:42.187Z"
   },
   {
    "duration": 651,
    "start_time": "2022-05-12T13:17:43.267Z"
   },
   {
    "duration": 59,
    "start_time": "2022-05-12T13:17:43.920Z"
   },
   {
    "duration": 74,
    "start_time": "2022-05-12T13:17:43.981Z"
   },
   {
    "duration": 7,
    "start_time": "2022-05-12T13:17:44.057Z"
   },
   {
    "duration": 33,
    "start_time": "2022-05-12T13:17:44.066Z"
   },
   {
    "duration": 33,
    "start_time": "2022-05-12T13:17:44.102Z"
   },
   {
    "duration": 23,
    "start_time": "2022-05-12T13:17:44.137Z"
   },
   {
    "duration": 45,
    "start_time": "2022-05-12T13:17:44.162Z"
   },
   {
    "duration": 1194,
    "start_time": "2022-05-12T13:17:44.209Z"
   },
   {
    "duration": 29,
    "start_time": "2022-05-12T13:17:45.405Z"
   },
   {
    "duration": 3728,
    "start_time": "2022-05-12T13:17:45.437Z"
   },
   {
    "duration": 4,
    "start_time": "2022-05-12T13:18:02.289Z"
   },
   {
    "duration": 12,
    "start_time": "2022-05-12T13:18:02.296Z"
   },
   {
    "duration": 22,
    "start_time": "2022-05-12T13:18:02.310Z"
   },
   {
    "duration": 162,
    "start_time": "2022-05-12T13:18:02.334Z"
   },
   {
    "duration": 47,
    "start_time": "2022-05-12T13:18:02.499Z"
   },
   {
    "duration": 36,
    "start_time": "2022-05-12T13:18:02.548Z"
   },
   {
    "duration": 53,
    "start_time": "2022-05-12T13:18:02.587Z"
   },
   {
    "duration": 49,
    "start_time": "2022-05-12T13:18:02.642Z"
   },
   {
    "duration": 6,
    "start_time": "2022-05-12T13:18:02.693Z"
   },
   {
    "duration": 26,
    "start_time": "2022-05-12T13:18:02.724Z"
   },
   {
    "duration": 78,
    "start_time": "2022-05-12T13:18:02.756Z"
   },
   {
    "duration": 15,
    "start_time": "2022-05-12T13:18:02.837Z"
   },
   {
    "duration": 70,
    "start_time": "2022-05-12T13:18:02.855Z"
   },
   {
    "duration": 20,
    "start_time": "2022-05-12T13:18:02.927Z"
   },
   {
    "duration": 42,
    "start_time": "2022-05-12T13:18:02.950Z"
   },
   {
    "duration": 43,
    "start_time": "2022-05-12T13:18:02.994Z"
   },
   {
    "duration": 7,
    "start_time": "2022-05-12T13:18:03.039Z"
   },
   {
    "duration": 15,
    "start_time": "2022-05-12T13:18:03.048Z"
   },
   {
    "duration": 12,
    "start_time": "2022-05-12T13:18:03.066Z"
   },
   {
    "duration": 49,
    "start_time": "2022-05-12T13:18:03.080Z"
   },
   {
    "duration": 61,
    "start_time": "2022-05-12T13:18:03.131Z"
   },
   {
    "duration": 13,
    "start_time": "2022-05-12T13:18:03.195Z"
   },
   {
    "duration": 14,
    "start_time": "2022-05-12T13:18:03.210Z"
   },
   {
    "duration": 30,
    "start_time": "2022-05-12T13:18:03.226Z"
   },
   {
    "duration": 12,
    "start_time": "2022-05-12T13:18:03.258Z"
   },
   {
    "duration": 24,
    "start_time": "2022-05-12T13:18:03.272Z"
   },
   {
    "duration": 33,
    "start_time": "2022-05-12T13:18:03.298Z"
   },
   {
    "duration": 41,
    "start_time": "2022-05-12T13:18:03.333Z"
   },
   {
    "duration": 47,
    "start_time": "2022-05-12T13:18:03.380Z"
   },
   {
    "duration": 335,
    "start_time": "2022-05-12T13:18:03.429Z"
   },
   {
    "duration": 31,
    "start_time": "2022-05-12T13:18:03.766Z"
   },
   {
    "duration": 54,
    "start_time": "2022-05-12T13:18:03.800Z"
   },
   {
    "duration": 26,
    "start_time": "2022-05-12T13:18:03.856Z"
   },
   {
    "duration": 108,
    "start_time": "2022-05-12T13:18:03.884Z"
   },
   {
    "duration": 58,
    "start_time": "2022-05-12T13:18:03.994Z"
   },
   {
    "duration": 222,
    "start_time": "2022-05-12T13:18:04.054Z"
   },
   {
    "duration": 7,
    "start_time": "2022-05-12T13:18:04.279Z"
   },
   {
    "duration": 291,
    "start_time": "2022-05-12T13:18:04.289Z"
   },
   {
    "duration": 479,
    "start_time": "2022-05-12T13:18:04.582Z"
   },
   {
    "duration": 1230,
    "start_time": "2022-05-12T13:18:05.063Z"
   },
   {
    "duration": 762,
    "start_time": "2022-05-12T13:18:06.295Z"
   },
   {
    "duration": 171,
    "start_time": "2022-05-12T13:18:07.059Z"
   },
   {
    "duration": 47,
    "start_time": "2022-05-12T13:18:07.232Z"
   },
   {
    "duration": 6,
    "start_time": "2022-05-12T13:18:07.282Z"
   },
   {
    "duration": 40,
    "start_time": "2022-05-12T13:18:07.290Z"
   },
   {
    "duration": 22,
    "start_time": "2022-05-12T13:18:07.333Z"
   },
   {
    "duration": 7,
    "start_time": "2022-05-12T13:18:07.358Z"
   },
   {
    "duration": 19,
    "start_time": "2022-05-12T13:18:07.367Z"
   },
   {
    "duration": 1231,
    "start_time": "2022-05-12T13:18:07.389Z"
   },
   {
    "duration": 20,
    "start_time": "2022-05-12T13:18:08.622Z"
   },
   {
    "duration": 3249,
    "start_time": "2022-05-12T13:18:08.644Z"
   },
   {
    "duration": 46,
    "start_time": "2022-05-12T13:20:22.580Z"
   },
   {
    "duration": 4,
    "start_time": "2022-05-12T13:20:29.540Z"
   },
   {
    "duration": 12,
    "start_time": "2022-05-12T13:20:29.547Z"
   },
   {
    "duration": 9,
    "start_time": "2022-05-12T13:20:29.562Z"
   },
   {
    "duration": 133,
    "start_time": "2022-05-12T13:20:29.574Z"
   },
   {
    "duration": 45,
    "start_time": "2022-05-12T13:20:29.710Z"
   },
   {
    "duration": 32,
    "start_time": "2022-05-12T13:20:29.758Z"
   },
   {
    "duration": 19,
    "start_time": "2022-05-12T13:20:29.826Z"
   },
   {
    "duration": 40,
    "start_time": "2022-05-12T13:20:29.847Z"
   },
   {
    "duration": 6,
    "start_time": "2022-05-12T13:20:29.889Z"
   },
   {
    "duration": 25,
    "start_time": "2022-05-12T13:20:29.925Z"
   },
   {
    "duration": 94,
    "start_time": "2022-05-12T13:20:29.954Z"
   },
   {
    "duration": 23,
    "start_time": "2022-05-12T13:20:30.051Z"
   },
   {
    "duration": 56,
    "start_time": "2022-05-12T13:20:30.077Z"
   },
   {
    "duration": 21,
    "start_time": "2022-05-12T13:20:30.136Z"
   },
   {
    "duration": 67,
    "start_time": "2022-05-12T13:20:30.159Z"
   },
   {
    "duration": 15,
    "start_time": "2022-05-12T13:20:30.228Z"
   },
   {
    "duration": 23,
    "start_time": "2022-05-12T13:20:30.245Z"
   },
   {
    "duration": 14,
    "start_time": "2022-05-12T13:20:30.271Z"
   },
   {
    "duration": 9,
    "start_time": "2022-05-12T13:20:30.288Z"
   },
   {
    "duration": 34,
    "start_time": "2022-05-12T13:20:30.299Z"
   },
   {
    "duration": 28,
    "start_time": "2022-05-12T13:20:30.335Z"
   },
   {
    "duration": 21,
    "start_time": "2022-05-12T13:20:30.365Z"
   },
   {
    "duration": 19,
    "start_time": "2022-05-12T13:20:30.389Z"
   },
   {
    "duration": 21,
    "start_time": "2022-05-12T13:20:30.410Z"
   },
   {
    "duration": 22,
    "start_time": "2022-05-12T13:20:30.433Z"
   },
   {
    "duration": 29,
    "start_time": "2022-05-12T13:20:30.457Z"
   },
   {
    "duration": 33,
    "start_time": "2022-05-12T13:20:30.488Z"
   },
   {
    "duration": 39,
    "start_time": "2022-05-12T13:20:30.523Z"
   },
   {
    "duration": 13,
    "start_time": "2022-05-12T13:20:30.568Z"
   },
   {
    "duration": 312,
    "start_time": "2022-05-12T13:20:30.583Z"
   },
   {
    "duration": 46,
    "start_time": "2022-05-12T13:20:30.898Z"
   },
   {
    "duration": 41,
    "start_time": "2022-05-12T13:20:30.946Z"
   },
   {
    "duration": 50,
    "start_time": "2022-05-12T13:20:30.989Z"
   },
   {
    "duration": 251,
    "start_time": "2022-05-12T13:20:31.041Z"
   },
   {
    "duration": 63,
    "start_time": "2022-05-12T13:20:31.294Z"
   },
   {
    "duration": 241,
    "start_time": "2022-05-12T13:20:31.360Z"
   },
   {
    "duration": 8,
    "start_time": "2022-05-12T13:20:31.604Z"
   },
   {
    "duration": 282,
    "start_time": "2022-05-12T13:20:31.625Z"
   },
   {
    "duration": 487,
    "start_time": "2022-05-12T13:20:31.910Z"
   },
   {
    "duration": 1041,
    "start_time": "2022-05-12T13:20:32.399Z"
   },
   {
    "duration": 656,
    "start_time": "2022-05-12T13:20:33.443Z"
   },
   {
    "duration": 74,
    "start_time": "2022-05-12T13:20:34.101Z"
   },
   {
    "duration": 72,
    "start_time": "2022-05-12T13:20:34.177Z"
   },
   {
    "duration": 7,
    "start_time": "2022-05-12T13:20:34.252Z"
   },
   {
    "duration": 14,
    "start_time": "2022-05-12T13:20:34.262Z"
   },
   {
    "duration": 14,
    "start_time": "2022-05-12T13:20:34.279Z"
   },
   {
    "duration": 31,
    "start_time": "2022-05-12T13:20:34.295Z"
   },
   {
    "duration": 20,
    "start_time": "2022-05-12T13:20:34.329Z"
   },
   {
    "duration": 1203,
    "start_time": "2022-05-12T13:20:34.352Z"
   },
   {
    "duration": 31,
    "start_time": "2022-05-12T13:20:35.559Z"
   },
   {
    "duration": 3445,
    "start_time": "2022-05-12T13:20:35.592Z"
   },
   {
    "duration": 339,
    "start_time": "2022-05-12T13:23:13.916Z"
   },
   {
    "duration": 310,
    "start_time": "2022-05-12T13:23:21.580Z"
   },
   {
    "duration": 1286,
    "start_time": "2022-05-12T16:31:45.230Z"
   },
   {
    "duration": 4,
    "start_time": "2022-05-12T16:31:46.518Z"
   },
   {
    "duration": 7,
    "start_time": "2022-05-12T16:31:46.524Z"
   },
   {
    "duration": 165,
    "start_time": "2022-05-12T16:31:46.533Z"
   },
   {
    "duration": 22,
    "start_time": "2022-05-12T16:31:46.701Z"
   },
   {
    "duration": 22,
    "start_time": "2022-05-12T16:31:46.724Z"
   },
   {
    "duration": 13,
    "start_time": "2022-05-12T16:31:46.747Z"
   },
   {
    "duration": 45,
    "start_time": "2022-05-12T16:31:46.762Z"
   },
   {
    "duration": 4,
    "start_time": "2022-05-12T16:31:46.809Z"
   },
   {
    "duration": 20,
    "start_time": "2022-05-12T16:31:46.815Z"
   },
   {
    "duration": 54,
    "start_time": "2022-05-12T16:31:46.837Z"
   },
   {
    "duration": 22,
    "start_time": "2022-05-12T16:31:46.892Z"
   },
   {
    "duration": 24,
    "start_time": "2022-05-12T16:31:46.915Z"
   },
   {
    "duration": 15,
    "start_time": "2022-05-12T16:31:46.942Z"
   },
   {
    "duration": 58,
    "start_time": "2022-05-12T16:31:46.958Z"
   },
   {
    "duration": 10,
    "start_time": "2022-05-12T16:31:47.018Z"
   },
   {
    "duration": 6,
    "start_time": "2022-05-12T16:31:47.029Z"
   },
   {
    "duration": 8,
    "start_time": "2022-05-12T16:31:47.036Z"
   },
   {
    "duration": 7,
    "start_time": "2022-05-12T16:31:47.046Z"
   },
   {
    "duration": 8,
    "start_time": "2022-05-12T16:31:47.055Z"
   },
   {
    "duration": 44,
    "start_time": "2022-05-12T16:31:47.064Z"
   },
   {
    "duration": 6,
    "start_time": "2022-05-12T16:31:47.110Z"
   },
   {
    "duration": 7,
    "start_time": "2022-05-12T16:31:47.118Z"
   },
   {
    "duration": 5,
    "start_time": "2022-05-12T16:31:47.127Z"
   },
   {
    "duration": 7,
    "start_time": "2022-05-12T16:31:47.134Z"
   },
   {
    "duration": 6,
    "start_time": "2022-05-12T16:31:47.142Z"
   },
   {
    "duration": 16,
    "start_time": "2022-05-12T16:31:47.150Z"
   },
   {
    "duration": 63,
    "start_time": "2022-05-12T16:31:47.168Z"
   },
   {
    "duration": 9,
    "start_time": "2022-05-12T16:31:47.232Z"
   },
   {
    "duration": 214,
    "start_time": "2022-05-12T16:31:47.242Z"
   },
   {
    "duration": 22,
    "start_time": "2022-05-12T16:31:47.458Z"
   },
   {
    "duration": 42,
    "start_time": "2022-05-12T16:31:47.482Z"
   },
   {
    "duration": 16,
    "start_time": "2022-05-12T16:31:47.526Z"
   },
   {
    "duration": 69,
    "start_time": "2022-05-12T16:31:47.543Z"
   },
   {
    "duration": 32,
    "start_time": "2022-05-12T16:31:47.613Z"
   },
   {
    "duration": 150,
    "start_time": "2022-05-12T16:31:47.646Z"
   },
   {
    "duration": 15,
    "start_time": "2022-05-12T16:31:47.797Z"
   },
   {
    "duration": 184,
    "start_time": "2022-05-12T16:31:47.814Z"
   },
   {
    "duration": 301,
    "start_time": "2022-05-12T16:31:48.000Z"
   },
   {
    "duration": 723,
    "start_time": "2022-05-12T16:31:48.303Z"
   },
   {
    "duration": 440,
    "start_time": "2022-05-12T16:31:49.030Z"
   },
   {
    "duration": 50,
    "start_time": "2022-05-12T16:31:49.472Z"
   },
   {
    "duration": 30,
    "start_time": "2022-05-12T16:31:49.524Z"
   },
   {
    "duration": 4,
    "start_time": "2022-05-12T16:31:49.556Z"
   },
   {
    "duration": 9,
    "start_time": "2022-05-12T16:31:49.562Z"
   },
   {
    "duration": 20,
    "start_time": "2022-05-12T16:31:49.573Z"
   },
   {
    "duration": 5,
    "start_time": "2022-05-12T16:31:49.607Z"
   },
   {
    "duration": 14,
    "start_time": "2022-05-12T16:31:49.614Z"
   },
   {
    "duration": 762,
    "start_time": "2022-05-12T16:31:49.630Z"
   },
   {
    "duration": 19,
    "start_time": "2022-05-12T16:31:50.394Z"
   },
   {
    "duration": 2136,
    "start_time": "2022-05-12T16:31:50.415Z"
   },
   {
    "duration": 1099,
    "start_time": "2022-05-12T16:47:46.960Z"
   },
   {
    "duration": 3,
    "start_time": "2022-05-12T16:47:48.061Z"
   },
   {
    "duration": 7,
    "start_time": "2022-05-12T16:47:48.066Z"
   },
   {
    "duration": 105,
    "start_time": "2022-05-12T16:47:48.074Z"
   },
   {
    "duration": 24,
    "start_time": "2022-05-12T16:47:48.182Z"
   },
   {
    "duration": 22,
    "start_time": "2022-05-12T16:47:48.207Z"
   },
   {
    "duration": 12,
    "start_time": "2022-05-12T16:47:48.231Z"
   },
   {
    "duration": 25,
    "start_time": "2022-05-12T16:47:48.245Z"
   },
   {
    "duration": 4,
    "start_time": "2022-05-12T16:47:48.272Z"
   },
   {
    "duration": 43,
    "start_time": "2022-05-12T16:47:48.278Z"
   },
   {
    "duration": 37,
    "start_time": "2022-05-12T16:47:48.323Z"
   },
   {
    "duration": 12,
    "start_time": "2022-05-12T16:47:48.362Z"
   },
   {
    "duration": 52,
    "start_time": "2022-05-12T16:47:48.376Z"
   },
   {
    "duration": 14,
    "start_time": "2022-05-12T16:47:48.432Z"
   },
   {
    "duration": 27,
    "start_time": "2022-05-12T16:47:48.448Z"
   },
   {
    "duration": 40,
    "start_time": "2022-05-12T16:47:48.477Z"
   },
   {
    "duration": 5,
    "start_time": "2022-05-12T16:47:48.519Z"
   },
   {
    "duration": 10,
    "start_time": "2022-05-12T16:47:48.526Z"
   },
   {
    "duration": 10,
    "start_time": "2022-05-12T16:47:48.538Z"
   },
   {
    "duration": 8,
    "start_time": "2022-05-12T16:47:48.550Z"
   },
   {
    "duration": 8,
    "start_time": "2022-05-12T16:47:48.560Z"
   },
   {
    "duration": 51,
    "start_time": "2022-05-12T16:47:48.570Z"
   },
   {
    "duration": 9,
    "start_time": "2022-05-12T16:47:48.622Z"
   },
   {
    "duration": 8,
    "start_time": "2022-05-12T16:47:48.633Z"
   },
   {
    "duration": 7,
    "start_time": "2022-05-12T16:47:48.643Z"
   },
   {
    "duration": 7,
    "start_time": "2022-05-12T16:47:48.651Z"
   },
   {
    "duration": 16,
    "start_time": "2022-05-12T16:47:48.659Z"
   },
   {
    "duration": 51,
    "start_time": "2022-05-12T16:47:48.677Z"
   },
   {
    "duration": 8,
    "start_time": "2022-05-12T16:47:48.730Z"
   },
   {
    "duration": 206,
    "start_time": "2022-05-12T16:47:48.739Z"
   },
   {
    "duration": 22,
    "start_time": "2022-05-12T16:47:48.947Z"
   },
   {
    "duration": 43,
    "start_time": "2022-05-12T16:47:48.971Z"
   },
   {
    "duration": 16,
    "start_time": "2022-05-12T16:47:49.016Z"
   },
   {
    "duration": 53,
    "start_time": "2022-05-12T16:47:49.033Z"
   },
   {
    "duration": 51,
    "start_time": "2022-05-12T16:47:49.087Z"
   },
   {
    "duration": 150,
    "start_time": "2022-05-12T16:47:49.139Z"
   },
   {
    "duration": 16,
    "start_time": "2022-05-12T16:47:49.291Z"
   },
   {
    "duration": 179,
    "start_time": "2022-05-12T16:47:49.309Z"
   },
   {
    "duration": 307,
    "start_time": "2022-05-12T16:47:49.490Z"
   },
   {
    "duration": 722,
    "start_time": "2022-05-12T16:47:49.799Z"
   },
   {
    "duration": 433,
    "start_time": "2022-05-12T16:47:50.525Z"
   },
   {
    "duration": 34,
    "start_time": "2022-05-12T16:47:50.960Z"
   },
   {
    "duration": 39,
    "start_time": "2022-05-12T16:47:50.996Z"
   },
   {
    "duration": 5,
    "start_time": "2022-05-12T16:47:51.036Z"
   },
   {
    "duration": 6,
    "start_time": "2022-05-12T16:47:51.043Z"
   },
   {
    "duration": 5,
    "start_time": "2022-05-12T16:47:51.051Z"
   },
   {
    "duration": 6,
    "start_time": "2022-05-12T16:47:51.058Z"
   },
   {
    "duration": 47,
    "start_time": "2022-05-12T16:47:51.066Z"
   },
   {
    "duration": 743,
    "start_time": "2022-05-12T16:47:51.115Z"
   },
   {
    "duration": 15,
    "start_time": "2022-05-12T16:47:51.859Z"
   },
   {
    "duration": 2140,
    "start_time": "2022-05-12T16:47:51.876Z"
   }
  ],
  "colab": {
   "name": "DA+. Сборный проект 1. Шаблон (1).ipynb",
   "provenance": []
  },
  "kernelspec": {
   "display_name": "Python 3 (ipykernel)",
   "language": "python",
   "name": "python3"
  },
  "language_info": {
   "codemirror_mode": {
    "name": "ipython",
    "version": 3
   },
   "file_extension": ".py",
   "mimetype": "text/x-python",
   "name": "python",
   "nbconvert_exporter": "python",
   "pygments_lexer": "ipython3",
   "version": "3.9.5"
  },
  "toc": {
   "base_numbering": 1,
   "nav_menu": {},
   "number_sections": true,
   "sideBar": true,
   "skip_h1_title": true,
   "title_cell": "Table of Contents",
   "title_sidebar": "Contents",
   "toc_cell": false,
   "toc_position": {
    "height": "calc(100% - 180px)",
    "left": "10px",
    "top": "150px",
    "width": "375.391px"
   },
   "toc_section_display": true,
   "toc_window_display": false
  }
 },
 "nbformat": 4,
 "nbformat_minor": 1
}
