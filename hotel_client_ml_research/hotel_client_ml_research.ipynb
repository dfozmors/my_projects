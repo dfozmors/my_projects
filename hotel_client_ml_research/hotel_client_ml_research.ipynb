{
 "cells": [
  {
   "cell_type": "markdown",
   "metadata": {},
   "source": [
    "# Прогнозирование оттока клиентов в сети отелей «Как в гостях»"
   ]
  },
  {
   "cell_type": "markdown",
   "metadata": {},
   "source": [
    "### Первичное изучение данных"
   ]
  },
  {
   "cell_type": "code",
   "execution_count": 1,
   "metadata": {},
   "outputs": [],
   "source": [
    "import pandas as pd\n",
    "import math\n",
    "import matplotlib.pyplot as plt\n",
    "from sklearn.tree import DecisionTreeClassifier\n",
    "from sklearn.ensemble import RandomForestClassifier\n",
    "from sklearn.linear_model import LogisticRegression\n",
    "from sklearn.model_selection import train_test_split\n",
    "from sklearn.preprocessing import StandardScaler \n",
    "from sklearn.metrics import f1_score, roc_auc_score, roc_curve, recall_score\n",
    "from sklearn.dummy import DummyClassifier\n",
    "from sklearn.utils import shuffle\n",
    "from sklearn.model_selection import cross_val_score, GridSearchCV\n",
    "from sklearn.preprocessing import OrdinalEncoder\n",
    "import warnings\n",
    "from pandas.core.common import SettingWithCopyWarning\n",
    "warnings.simplefilter(action=\"ignore\", category=SettingWithCopyWarning)"
   ]
  },
  {
   "cell_type": "code",
   "execution_count": 2,
   "metadata": {},
   "outputs": [],
   "source": [
    "def df_info(df): #Функция для вывода основной информации о данных\n",
    "    display(df.head())\n",
    "    print(df.info())\n",
    "    print('------------------------------------------------------------')\n",
    "    print('Описание данных')\n",
    "    print(df.describe())\n",
    "    \n",
    "def dropping(info): #Функция для удаления аномальных значений\n",
    "    global df\n",
    "    outlires = df.query(info).index \n",
    "    df = df.drop(index=outlires)\n",
    "    \n",
    "def uniq(row): #Функция для вывода количества уникальных значений столбца\n",
    "    print('Уникальные значения в датафрейме для обучения (df)')\n",
    "    print(df[row].value_counts())\n",
    "    print('---------------------------------------------------------------------------------------------------')\n",
    "    print('Уникальные значения в датафрейме для теста (df_test)')\n",
    "    print(df_test[row].value_counts())\n",
    "    \n",
    "def costing(df): #Функция для подсчета стоимости проживания\n",
    "    for i in range (len(df)): #Создание новых столбцов с ценой номера за сутки и ценой разового обслуживания исходя из категории номера\n",
    "        if df['reserved_room_type'][i] == 'A':\n",
    "            df['room_cost'][i] = 1000\n",
    "            df['service'][i] = 400 \n",
    "        elif df['reserved_room_type'][i] == 'B':\n",
    "            df['room_cost'][i] = 800\n",
    "            df['service'][i] = 350\n",
    "        elif df['reserved_room_type'][i] == 'C':\n",
    "            df['room_cost'][i] = 600\n",
    "            df['service'][i] = 350 \n",
    "        elif df['reserved_room_type'][i] == 'D':\n",
    "            df['room_cost'][i] = 550\n",
    "            df['service'][i] = 150 \n",
    "        elif df['reserved_room_type'][i] == 'E':\n",
    "            df['room_cost'][i] = 500\n",
    "            df['service'][i] = 150 \n",
    "        elif df['reserved_room_type'][i] == 'F':\n",
    "            df['room_cost'][i] = 450\n",
    "            df['service'][i] = 150 \n",
    "        elif df['reserved_room_type'][i] == 'G':\n",
    "            df['room_cost'][i] = 350\n",
    "            df['service'][i] = 150 \n",
    "            \n",
    "    for i in range (len(df)): #Подсчет стоимости\n",
    "        if df['arrival_date_month'][i] in ['September','October','November','March','April','May']: #Проверка на осень или весну\n",
    "            df['season_cost'][i] = df['room_cost'][i]*1.2 #подсчет цены номера с учетом сезонности\n",
    "            if df['total_nights'][i]>3: #Проверка на количество дней прибывания для дальнейшего расчета стоимости разового обслуживания\n",
    "                df['total'][i] = (df['season_cost'][i]*df['total_nights'][i])+math.ceil(df['total_nights'][i]/2)*df['service'][i]\n",
    "            else:\n",
    "                df['total'][i] = (df['season_cost'][i]*df['total_nights'][i])+df['service'][i]\n",
    "            \n",
    "            \n",
    "        elif df['arrival_date_month'][i] in ['June','July','August']: #Проверка на лето\n",
    "            df['season_cost'][i] = df['room_cost'][i]*1.4\n",
    "            if df['total_nights'][i]>3:\n",
    "                df['total'][i] = (df['season_cost'][i]*df['total_nights'][i])+math.ceil(df['total_nights'][i]/2)*df['service'][i]\n",
    "            else:\n",
    "                df['total'][i] = (df['season_cost'][i]*df['total_nights'][i])+df['service'][i]\n",
    "                    \n",
    "        else:\n",
    "            df['season_cost'][i] = df['room_cost'][i]\n",
    "            if df['total_nights'][i]>3:\n",
    "                df['total'][i] = (df['season_cost'][i]*df['total_nights'][i])+math.ceil(df['total_nights'][i]/2)*df['service'][i]\n",
    "            else:\n",
    "                df['total'][i] = (df['season_cost'][i]*df['total_nights'][i])+df['service'][i]\n",
    "            \n",
    "        if df['is_canceled'][i] == 1: #Итоговая проверка на отмену бронирования\n",
    "            df['total_with_canceled'][i] = (df['season_cost'][i] + df['service'][i])*(-1)\n",
    "        else:\n",
    "            df['total_with_canceled'][i] = df['total'][i]\n",
    "            \n",
    "def roc(model,features,target): #Функция для определения значения метрики AUC-ROC и вывода на экран графика\n",
    "    probabilities = model.predict_proba(features) \n",
    "    probabilities_one = probabilities[:, 1]\n",
    "    auc_roc = roc_auc_score(target, probabilities_one)\n",
    "    print('Значение AUC-ROC:', auc_roc)\n",
    "    fpr, tpr, thresholds = roc_curve(target, probabilities_one)\n",
    "    plt.figure()\n",
    "    plt.plot(fpr,tpr)\n",
    "    plt.plot([0,1],[0,1],linestyle='--')\n",
    "    plt.xlim([0.0,1.0])\n",
    "    plt.ylim([0.0,1.0])\n",
    "    plt.xlabel('False Positive Rate')\n",
    "    plt.ylabel('True Positive Rate')\n",
    "    plt.title('ROC-кривая')\n",
    "    plt.show()"
   ]
  },
  {
   "cell_type": "code",
   "execution_count": 3,
   "metadata": {},
   "outputs": [],
   "source": [
    "df = pd.read_csv('/datasets/hotel_train.csv')\n",
    "df_test = pd.read_csv('/datasets/hotel_test.csv')"
   ]
  },
  {
   "cell_type": "code",
   "execution_count": 4,
   "metadata": {
    "scrolled": true
   },
   "outputs": [
    {
     "data": {
      "text/html": [
       "<div>\n",
       "<style scoped>\n",
       "    .dataframe tbody tr th:only-of-type {\n",
       "        vertical-align: middle;\n",
       "    }\n",
       "\n",
       "    .dataframe tbody tr th {\n",
       "        vertical-align: top;\n",
       "    }\n",
       "\n",
       "    .dataframe thead th {\n",
       "        text-align: right;\n",
       "    }\n",
       "</style>\n",
       "<table border=\"1\" class=\"dataframe\">\n",
       "  <thead>\n",
       "    <tr style=\"text-align: right;\">\n",
       "      <th></th>\n",
       "      <th>id</th>\n",
       "      <th>is_canceled</th>\n",
       "      <th>lead_time</th>\n",
       "      <th>arrival_date_year</th>\n",
       "      <th>arrival_date_month</th>\n",
       "      <th>arrival_date_week_number</th>\n",
       "      <th>arrival_date_day_of_month</th>\n",
       "      <th>stays_in_weekend_nights</th>\n",
       "      <th>stays_in_week_nights</th>\n",
       "      <th>adults</th>\n",
       "      <th>...</th>\n",
       "      <th>is_repeated_guest</th>\n",
       "      <th>previous_cancellations</th>\n",
       "      <th>previous_bookings_not_canceled</th>\n",
       "      <th>reserved_room_type</th>\n",
       "      <th>booking_changes</th>\n",
       "      <th>days_in_waiting_list</th>\n",
       "      <th>customer_type</th>\n",
       "      <th>required_car_parking_spaces</th>\n",
       "      <th>total_of_special_requests</th>\n",
       "      <th>total_nights</th>\n",
       "    </tr>\n",
       "  </thead>\n",
       "  <tbody>\n",
       "    <tr>\n",
       "      <th>0</th>\n",
       "      <td>0</td>\n",
       "      <td>0</td>\n",
       "      <td>7.0</td>\n",
       "      <td>2015</td>\n",
       "      <td>July</td>\n",
       "      <td>27</td>\n",
       "      <td>1</td>\n",
       "      <td>0</td>\n",
       "      <td>1</td>\n",
       "      <td>1.0</td>\n",
       "      <td>...</td>\n",
       "      <td>0</td>\n",
       "      <td>0</td>\n",
       "      <td>0</td>\n",
       "      <td>A</td>\n",
       "      <td>0</td>\n",
       "      <td>0</td>\n",
       "      <td>Transient</td>\n",
       "      <td>0</td>\n",
       "      <td>0</td>\n",
       "      <td>1</td>\n",
       "    </tr>\n",
       "    <tr>\n",
       "      <th>1</th>\n",
       "      <td>1</td>\n",
       "      <td>0</td>\n",
       "      <td>14.0</td>\n",
       "      <td>2015</td>\n",
       "      <td>July</td>\n",
       "      <td>27</td>\n",
       "      <td>1</td>\n",
       "      <td>0</td>\n",
       "      <td>2</td>\n",
       "      <td>2.0</td>\n",
       "      <td>...</td>\n",
       "      <td>0</td>\n",
       "      <td>0</td>\n",
       "      <td>0</td>\n",
       "      <td>A</td>\n",
       "      <td>0</td>\n",
       "      <td>0</td>\n",
       "      <td>Transient</td>\n",
       "      <td>0</td>\n",
       "      <td>1</td>\n",
       "      <td>2</td>\n",
       "    </tr>\n",
       "    <tr>\n",
       "      <th>2</th>\n",
       "      <td>2</td>\n",
       "      <td>0</td>\n",
       "      <td>0.0</td>\n",
       "      <td>2015</td>\n",
       "      <td>July</td>\n",
       "      <td>27</td>\n",
       "      <td>1</td>\n",
       "      <td>0</td>\n",
       "      <td>2</td>\n",
       "      <td>2.0</td>\n",
       "      <td>...</td>\n",
       "      <td>0</td>\n",
       "      <td>0</td>\n",
       "      <td>0</td>\n",
       "      <td>C</td>\n",
       "      <td>0</td>\n",
       "      <td>0</td>\n",
       "      <td>Transient</td>\n",
       "      <td>0</td>\n",
       "      <td>0</td>\n",
       "      <td>2</td>\n",
       "    </tr>\n",
       "    <tr>\n",
       "      <th>3</th>\n",
       "      <td>3</td>\n",
       "      <td>0</td>\n",
       "      <td>9.0</td>\n",
       "      <td>2015</td>\n",
       "      <td>July</td>\n",
       "      <td>27</td>\n",
       "      <td>1</td>\n",
       "      <td>0</td>\n",
       "      <td>2</td>\n",
       "      <td>2.0</td>\n",
       "      <td>...</td>\n",
       "      <td>0</td>\n",
       "      <td>0</td>\n",
       "      <td>0</td>\n",
       "      <td>C</td>\n",
       "      <td>0</td>\n",
       "      <td>0</td>\n",
       "      <td>Transient</td>\n",
       "      <td>0</td>\n",
       "      <td>1</td>\n",
       "      <td>2</td>\n",
       "    </tr>\n",
       "    <tr>\n",
       "      <th>4</th>\n",
       "      <td>4</td>\n",
       "      <td>1</td>\n",
       "      <td>85.0</td>\n",
       "      <td>2015</td>\n",
       "      <td>July</td>\n",
       "      <td>27</td>\n",
       "      <td>1</td>\n",
       "      <td>0</td>\n",
       "      <td>3</td>\n",
       "      <td>2.0</td>\n",
       "      <td>...</td>\n",
       "      <td>0</td>\n",
       "      <td>0</td>\n",
       "      <td>0</td>\n",
       "      <td>A</td>\n",
       "      <td>0</td>\n",
       "      <td>0</td>\n",
       "      <td>Transient</td>\n",
       "      <td>0</td>\n",
       "      <td>1</td>\n",
       "      <td>3</td>\n",
       "    </tr>\n",
       "  </tbody>\n",
       "</table>\n",
       "<p>5 rows × 25 columns</p>\n",
       "</div>"
      ],
      "text/plain": [
       "   id  is_canceled  lead_time  arrival_date_year arrival_date_month  \\\n",
       "0   0            0        7.0               2015               July   \n",
       "1   1            0       14.0               2015               July   \n",
       "2   2            0        0.0               2015               July   \n",
       "3   3            0        9.0               2015               July   \n",
       "4   4            1       85.0               2015               July   \n",
       "\n",
       "   arrival_date_week_number  arrival_date_day_of_month  \\\n",
       "0                        27                          1   \n",
       "1                        27                          1   \n",
       "2                        27                          1   \n",
       "3                        27                          1   \n",
       "4                        27                          1   \n",
       "\n",
       "   stays_in_weekend_nights  stays_in_week_nights  adults  ...  \\\n",
       "0                        0                     1     1.0  ...   \n",
       "1                        0                     2     2.0  ...   \n",
       "2                        0                     2     2.0  ...   \n",
       "3                        0                     2     2.0  ...   \n",
       "4                        0                     3     2.0  ...   \n",
       "\n",
       "   is_repeated_guest  previous_cancellations previous_bookings_not_canceled  \\\n",
       "0                  0                       0                              0   \n",
       "1                  0                       0                              0   \n",
       "2                  0                       0                              0   \n",
       "3                  0                       0                              0   \n",
       "4                  0                       0                              0   \n",
       "\n",
       "  reserved_room_type booking_changes  days_in_waiting_list  customer_type  \\\n",
       "0   A                              0                     0      Transient   \n",
       "1   A                              0                     0      Transient   \n",
       "2   C                              0                     0      Transient   \n",
       "3   C                              0                     0      Transient   \n",
       "4   A                              0                     0      Transient   \n",
       "\n",
       "   required_car_parking_spaces total_of_special_requests  total_nights  \n",
       "0                            0                         0             1  \n",
       "1                            0                         1             2  \n",
       "2                            0                         0             2  \n",
       "3                            0                         1             2  \n",
       "4                            0                         1             3  \n",
       "\n",
       "[5 rows x 25 columns]"
      ]
     },
     "metadata": {},
     "output_type": "display_data"
    },
    {
     "name": "stdout",
     "output_type": "stream",
     "text": [
      "<class 'pandas.core.frame.DataFrame'>\n",
      "RangeIndex: 65229 entries, 0 to 65228\n",
      "Data columns (total 25 columns):\n",
      " #   Column                          Non-Null Count  Dtype  \n",
      "---  ------                          --------------  -----  \n",
      " 0   id                              65229 non-null  int64  \n",
      " 1   is_canceled                     65229 non-null  int64  \n",
      " 2   lead_time                       65229 non-null  float64\n",
      " 3   arrival_date_year               65229 non-null  int64  \n",
      " 4   arrival_date_month              65229 non-null  object \n",
      " 5   arrival_date_week_number        65229 non-null  int64  \n",
      " 6   arrival_date_day_of_month       65229 non-null  int64  \n",
      " 7   stays_in_weekend_nights         65229 non-null  int64  \n",
      " 8   stays_in_week_nights            65229 non-null  int64  \n",
      " 9   adults                          65229 non-null  float64\n",
      " 10  children                        65229 non-null  float64\n",
      " 11  babies                          65229 non-null  float64\n",
      " 12  meal                            65229 non-null  object \n",
      " 13  country                         65229 non-null  object \n",
      " 14  distribution_channel            65229 non-null  object \n",
      " 15  is_repeated_guest               65229 non-null  int64  \n",
      " 16  previous_cancellations          65229 non-null  int64  \n",
      " 17  previous_bookings_not_canceled  65229 non-null  int64  \n",
      " 18  reserved_room_type              65229 non-null  object \n",
      " 19  booking_changes                 65229 non-null  int64  \n",
      " 20  days_in_waiting_list            65229 non-null  int64  \n",
      " 21  customer_type                   65229 non-null  object \n",
      " 22  required_car_parking_spaces     65229 non-null  int64  \n",
      " 23  total_of_special_requests       65229 non-null  int64  \n",
      " 24  total_nights                    65229 non-null  int64  \n",
      "dtypes: float64(4), int64(15), object(6)\n",
      "memory usage: 12.4+ MB\n",
      "None\n",
      "------------------------------------------------------------\n",
      "Описание данных\n",
      "                 id   is_canceled     lead_time  arrival_date_year  \\\n",
      "count  65229.000000  65229.000000  65229.000000       65229.000000   \n",
      "mean   43544.069172      0.368609     96.337917        2015.719021   \n",
      "std    25614.858971      0.482431     96.127545           0.449481   \n",
      "min        0.000000      0.000000      0.000000        2015.000000   \n",
      "25%    19108.000000      0.000000     17.000000        2015.000000   \n",
      "50%    40554.000000      0.000000     64.000000        2016.000000   \n",
      "75%    67414.000000      1.000000    151.000000        2016.000000   \n",
      "max    84121.000000      1.000000    374.000000        2016.000000   \n",
      "\n",
      "       arrival_date_week_number  arrival_date_day_of_month  \\\n",
      "count              65229.000000               65229.000000   \n",
      "mean                  31.339772                  15.847813   \n",
      "std                   13.464024                   8.748182   \n",
      "min                    1.000000                   1.000000   \n",
      "25%                   21.000000                   8.000000   \n",
      "50%                   34.000000                  16.000000   \n",
      "75%                   42.000000                  23.000000   \n",
      "max                   53.000000                  31.000000   \n",
      "\n",
      "       stays_in_weekend_nights  stays_in_week_nights        adults  \\\n",
      "count             65229.000000          65229.000000  65229.000000   \n",
      "mean                  0.825185              2.224793      1.836576   \n",
      "std                   0.853477              1.354992      0.480245   \n",
      "min                   0.000000              0.000000      0.000000   \n",
      "25%                   0.000000              1.000000      2.000000   \n",
      "50%                   1.000000              2.000000      2.000000   \n",
      "75%                   2.000000              3.000000      2.000000   \n",
      "max                   4.000000              6.000000      4.000000   \n",
      "\n",
      "           children        babies  is_repeated_guest  previous_cancellations  \\\n",
      "count  65229.000000  65229.000000       65229.000000            65229.000000   \n",
      "mean       0.074890      0.007236           0.027151                0.128915   \n",
      "std        0.334243      0.098790           0.162523                0.965326   \n",
      "min        0.000000      0.000000           0.000000                0.000000   \n",
      "25%        0.000000      0.000000           0.000000                0.000000   \n",
      "50%        0.000000      0.000000           0.000000                0.000000   \n",
      "75%        0.000000      0.000000           0.000000                0.000000   \n",
      "max        3.000000     10.000000           1.000000               26.000000   \n",
      "\n",
      "       previous_bookings_not_canceled  booking_changes  days_in_waiting_list  \\\n",
      "count                    65229.000000     65229.000000          65229.000000   \n",
      "mean                         0.107713         0.194269              3.334422   \n",
      "std                          1.326638         0.593838             18.239606   \n",
      "min                          0.000000         0.000000              0.000000   \n",
      "25%                          0.000000         0.000000              0.000000   \n",
      "50%                          0.000000         0.000000              0.000000   \n",
      "75%                          0.000000         0.000000              0.000000   \n",
      "max                         58.000000        17.000000            259.000000   \n",
      "\n",
      "       required_car_parking_spaces  total_of_special_requests  total_nights  \n",
      "count                 65229.000000               65229.000000  65229.000000  \n",
      "mean                      0.056647                   0.512763      3.049978  \n",
      "std                       0.232094                   0.752590      1.738108  \n",
      "min                       0.000000                   0.000000      1.000000  \n",
      "25%                       0.000000                   0.000000      2.000000  \n",
      "50%                       0.000000                   0.000000      3.000000  \n",
      "75%                       0.000000                   1.000000      4.000000  \n",
      "max                       3.000000                   5.000000     10.000000  \n"
     ]
    }
   ],
   "source": [
    "df_info(df)"
   ]
  },
  {
   "cell_type": "code",
   "execution_count": 5,
   "metadata": {},
   "outputs": [
    {
     "data": {
      "text/html": [
       "<div>\n",
       "<style scoped>\n",
       "    .dataframe tbody tr th:only-of-type {\n",
       "        vertical-align: middle;\n",
       "    }\n",
       "\n",
       "    .dataframe tbody tr th {\n",
       "        vertical-align: top;\n",
       "    }\n",
       "\n",
       "    .dataframe thead th {\n",
       "        text-align: right;\n",
       "    }\n",
       "</style>\n",
       "<table border=\"1\" class=\"dataframe\">\n",
       "  <thead>\n",
       "    <tr style=\"text-align: right;\">\n",
       "      <th></th>\n",
       "      <th>id</th>\n",
       "      <th>is_canceled</th>\n",
       "      <th>lead_time</th>\n",
       "      <th>arrival_date_year</th>\n",
       "      <th>arrival_date_month</th>\n",
       "      <th>arrival_date_week_number</th>\n",
       "      <th>arrival_date_day_of_month</th>\n",
       "      <th>stays_in_weekend_nights</th>\n",
       "      <th>stays_in_week_nights</th>\n",
       "      <th>adults</th>\n",
       "      <th>...</th>\n",
       "      <th>is_repeated_guest</th>\n",
       "      <th>previous_cancellations</th>\n",
       "      <th>previous_bookings_not_canceled</th>\n",
       "      <th>reserved_room_type</th>\n",
       "      <th>booking_changes</th>\n",
       "      <th>days_in_waiting_list</th>\n",
       "      <th>customer_type</th>\n",
       "      <th>required_car_parking_spaces</th>\n",
       "      <th>total_of_special_requests</th>\n",
       "      <th>total_nights</th>\n",
       "    </tr>\n",
       "  </thead>\n",
       "  <tbody>\n",
       "    <tr>\n",
       "      <th>0</th>\n",
       "      <td>6086</td>\n",
       "      <td>1</td>\n",
       "      <td>74.0</td>\n",
       "      <td>2017</td>\n",
       "      <td>January</td>\n",
       "      <td>1</td>\n",
       "      <td>1</td>\n",
       "      <td>1</td>\n",
       "      <td>0</td>\n",
       "      <td>2.0</td>\n",
       "      <td>...</td>\n",
       "      <td>0</td>\n",
       "      <td>0</td>\n",
       "      <td>0</td>\n",
       "      <td>A</td>\n",
       "      <td>0</td>\n",
       "      <td>0</td>\n",
       "      <td>Transient</td>\n",
       "      <td>0</td>\n",
       "      <td>0</td>\n",
       "      <td>1</td>\n",
       "    </tr>\n",
       "    <tr>\n",
       "      <th>1</th>\n",
       "      <td>6087</td>\n",
       "      <td>1</td>\n",
       "      <td>62.0</td>\n",
       "      <td>2017</td>\n",
       "      <td>January</td>\n",
       "      <td>1</td>\n",
       "      <td>1</td>\n",
       "      <td>2</td>\n",
       "      <td>2</td>\n",
       "      <td>2.0</td>\n",
       "      <td>...</td>\n",
       "      <td>0</td>\n",
       "      <td>0</td>\n",
       "      <td>0</td>\n",
       "      <td>A</td>\n",
       "      <td>0</td>\n",
       "      <td>0</td>\n",
       "      <td>Transient</td>\n",
       "      <td>0</td>\n",
       "      <td>1</td>\n",
       "      <td>4</td>\n",
       "    </tr>\n",
       "    <tr>\n",
       "      <th>2</th>\n",
       "      <td>6088</td>\n",
       "      <td>1</td>\n",
       "      <td>62.0</td>\n",
       "      <td>2017</td>\n",
       "      <td>January</td>\n",
       "      <td>1</td>\n",
       "      <td>1</td>\n",
       "      <td>2</td>\n",
       "      <td>2</td>\n",
       "      <td>2.0</td>\n",
       "      <td>...</td>\n",
       "      <td>0</td>\n",
       "      <td>0</td>\n",
       "      <td>0</td>\n",
       "      <td>A</td>\n",
       "      <td>0</td>\n",
       "      <td>0</td>\n",
       "      <td>Transient</td>\n",
       "      <td>0</td>\n",
       "      <td>1</td>\n",
       "      <td>4</td>\n",
       "    </tr>\n",
       "    <tr>\n",
       "      <th>3</th>\n",
       "      <td>6089</td>\n",
       "      <td>1</td>\n",
       "      <td>71.0</td>\n",
       "      <td>2017</td>\n",
       "      <td>January</td>\n",
       "      <td>1</td>\n",
       "      <td>1</td>\n",
       "      <td>2</td>\n",
       "      <td>2</td>\n",
       "      <td>1.0</td>\n",
       "      <td>...</td>\n",
       "      <td>0</td>\n",
       "      <td>0</td>\n",
       "      <td>0</td>\n",
       "      <td>A</td>\n",
       "      <td>0</td>\n",
       "      <td>0</td>\n",
       "      <td>Transient</td>\n",
       "      <td>0</td>\n",
       "      <td>1</td>\n",
       "      <td>4</td>\n",
       "    </tr>\n",
       "    <tr>\n",
       "      <th>4</th>\n",
       "      <td>6090</td>\n",
       "      <td>1</td>\n",
       "      <td>172.0</td>\n",
       "      <td>2017</td>\n",
       "      <td>January</td>\n",
       "      <td>1</td>\n",
       "      <td>1</td>\n",
       "      <td>2</td>\n",
       "      <td>5</td>\n",
       "      <td>2.0</td>\n",
       "      <td>...</td>\n",
       "      <td>0</td>\n",
       "      <td>0</td>\n",
       "      <td>0</td>\n",
       "      <td>A</td>\n",
       "      <td>0</td>\n",
       "      <td>0</td>\n",
       "      <td>Transient</td>\n",
       "      <td>0</td>\n",
       "      <td>0</td>\n",
       "      <td>7</td>\n",
       "    </tr>\n",
       "  </tbody>\n",
       "</table>\n",
       "<p>5 rows × 25 columns</p>\n",
       "</div>"
      ],
      "text/plain": [
       "     id  is_canceled  lead_time  arrival_date_year arrival_date_month  \\\n",
       "0  6086            1       74.0               2017            January   \n",
       "1  6087            1       62.0               2017            January   \n",
       "2  6088            1       62.0               2017            January   \n",
       "3  6089            1       71.0               2017            January   \n",
       "4  6090            1      172.0               2017            January   \n",
       "\n",
       "   arrival_date_week_number  arrival_date_day_of_month  \\\n",
       "0                         1                          1   \n",
       "1                         1                          1   \n",
       "2                         1                          1   \n",
       "3                         1                          1   \n",
       "4                         1                          1   \n",
       "\n",
       "   stays_in_weekend_nights  stays_in_week_nights  adults  ...  \\\n",
       "0                        1                     0     2.0  ...   \n",
       "1                        2                     2     2.0  ...   \n",
       "2                        2                     2     2.0  ...   \n",
       "3                        2                     2     1.0  ...   \n",
       "4                        2                     5     2.0  ...   \n",
       "\n",
       "   is_repeated_guest  previous_cancellations previous_bookings_not_canceled  \\\n",
       "0                  0                       0                              0   \n",
       "1                  0                       0                              0   \n",
       "2                  0                       0                              0   \n",
       "3                  0                       0                              0   \n",
       "4                  0                       0                              0   \n",
       "\n",
       "  reserved_room_type booking_changes  days_in_waiting_list  customer_type  \\\n",
       "0   A                              0                     0      Transient   \n",
       "1   A                              0                     0      Transient   \n",
       "2   A                              0                     0      Transient   \n",
       "3   A                              0                     0      Transient   \n",
       "4   A                              0                     0      Transient   \n",
       "\n",
       "   required_car_parking_spaces total_of_special_requests  total_nights  \n",
       "0                            0                         0             1  \n",
       "1                            0                         1             4  \n",
       "2                            0                         1             4  \n",
       "3                            0                         1             4  \n",
       "4                            0                         0             7  \n",
       "\n",
       "[5 rows x 25 columns]"
      ]
     },
     "metadata": {},
     "output_type": "display_data"
    },
    {
     "name": "stdout",
     "output_type": "stream",
     "text": [
      "<class 'pandas.core.frame.DataFrame'>\n",
      "RangeIndex: 32412 entries, 0 to 32411\n",
      "Data columns (total 25 columns):\n",
      " #   Column                          Non-Null Count  Dtype  \n",
      "---  ------                          --------------  -----  \n",
      " 0   id                              32412 non-null  int64  \n",
      " 1   is_canceled                     32412 non-null  int64  \n",
      " 2   lead_time                       32412 non-null  float64\n",
      " 3   arrival_date_year               32412 non-null  int64  \n",
      " 4   arrival_date_month              32412 non-null  object \n",
      " 5   arrival_date_week_number        32412 non-null  int64  \n",
      " 6   arrival_date_day_of_month       32412 non-null  int64  \n",
      " 7   stays_in_weekend_nights         32412 non-null  int64  \n",
      " 8   stays_in_week_nights            32412 non-null  int64  \n",
      " 9   adults                          32412 non-null  float64\n",
      " 10  children                        32412 non-null  float64\n",
      " 11  babies                          32412 non-null  float64\n",
      " 12  meal                            32412 non-null  object \n",
      " 13  country                         32412 non-null  object \n",
      " 14  distribution_channel            32412 non-null  object \n",
      " 15  is_repeated_guest               32412 non-null  int64  \n",
      " 16  previous_cancellations          32412 non-null  int64  \n",
      " 17  previous_bookings_not_canceled  32412 non-null  int64  \n",
      " 18  reserved_room_type              32412 non-null  object \n",
      " 19  booking_changes                 32412 non-null  int64  \n",
      " 20  days_in_waiting_list            32412 non-null  int64  \n",
      " 21  customer_type                   32412 non-null  object \n",
      " 22  required_car_parking_spaces     32412 non-null  int64  \n",
      " 23  total_of_special_requests       32412 non-null  int64  \n",
      " 24  total_nights                    32412 non-null  int64  \n",
      "dtypes: float64(4), int64(15), object(6)\n",
      "memory usage: 6.2+ MB\n",
      "None\n",
      "------------------------------------------------------------\n",
      "Описание данных\n",
      "                 id   is_canceled     lead_time  arrival_date_year  \\\n",
      "count  32412.000000  32412.000000  32412.000000            32412.0   \n",
      "mean   60131.505183      0.388467     97.587869             2017.0   \n",
      "std    29953.586177      0.487409     86.507146                0.0   \n",
      "min     6086.000000      0.000000      0.000000             2017.0   \n",
      "25%    45291.750000      0.000000     23.000000             2017.0   \n",
      "50%    53394.500000      0.000000     76.000000             2017.0   \n",
      "75%    89800.250000      1.000000    155.000000             2017.0   \n",
      "max    97903.000000      1.000000    373.000000             2017.0   \n",
      "\n",
      "       arrival_date_week_number  arrival_date_day_of_month  \\\n",
      "count              32412.000000               32412.000000   \n",
      "mean                  17.804054                  15.656948   \n",
      "std                    9.177384                   8.766429   \n",
      "min                    1.000000                   1.000000   \n",
      "25%                   10.000000                   8.000000   \n",
      "50%                   18.000000                  15.500000   \n",
      "75%                   25.000000                  23.000000   \n",
      "max                   35.000000                  31.000000   \n",
      "\n",
      "       stays_in_weekend_nights  stays_in_week_nights        adults  \\\n",
      "count             32412.000000           32412.00000  32412.000000   \n",
      "mean                  0.867888               2.34009      1.858602   \n",
      "std                   0.853394               1.37517      0.489341   \n",
      "min                   0.000000               0.00000      0.000000   \n",
      "25%                   0.000000               1.00000      2.000000   \n",
      "50%                   1.000000               2.00000      2.000000   \n",
      "75%                   2.000000               3.00000      2.000000   \n",
      "max                   4.000000               6.00000      4.000000   \n",
      "\n",
      "           children        babies  is_repeated_guest  previous_cancellations  \\\n",
      "count  32412.000000  32412.000000       32412.000000            32412.000000   \n",
      "mean       0.083765      0.005523           0.031377                0.011601   \n",
      "std        0.343470      0.075757           0.174338                0.180473   \n",
      "min        0.000000      0.000000           0.000000                0.000000   \n",
      "25%        0.000000      0.000000           0.000000                0.000000   \n",
      "50%        0.000000      0.000000           0.000000                0.000000   \n",
      "75%        0.000000      0.000000           0.000000                0.000000   \n",
      "max        3.000000      2.000000           1.000000                6.000000   \n",
      "\n",
      "       previous_bookings_not_canceled  booking_changes  days_in_waiting_list  \\\n",
      "count                    32412.000000     32412.000000          32412.000000   \n",
      "mean                         0.171418         0.216741              0.262341   \n",
      "std                          1.875170         0.640551              4.733027   \n",
      "min                          0.000000         0.000000              0.000000   \n",
      "25%                          0.000000         0.000000              0.000000   \n",
      "50%                          0.000000         0.000000              0.000000   \n",
      "75%                          0.000000         0.000000              0.000000   \n",
      "max                         72.000000        18.000000            223.000000   \n",
      "\n",
      "       required_car_parking_spaces  total_of_special_requests  total_nights  \n",
      "count                 32412.000000               32412.000000  32412.000000  \n",
      "mean                      0.046248                   0.657781      3.207979  \n",
      "std                       0.219367                   0.834341      1.738683  \n",
      "min                       0.000000                   0.000000      1.000000  \n",
      "25%                       0.000000                   0.000000      2.000000  \n",
      "50%                       0.000000                   0.000000      3.000000  \n",
      "75%                       0.000000                   1.000000      4.000000  \n",
      "max                       8.000000                   5.000000     10.000000  \n"
     ]
    }
   ],
   "source": [
    "df_info(df_test)"
   ]
  },
  {
   "cell_type": "markdown",
   "metadata": {},
   "source": [
    "Пропусков в данных не обнаружено, данные почти готовы к использованию, нужно только изменить тип данных в столбцах `lead_time`,`adults`,`children`,`babies` с float на integet. Также обнаружено аномальное значение в столбце `babies` равное 10 и значения больше 1 в столбце `required_car_parking_spaces`"
   ]
  },
  {
   "cell_type": "markdown",
   "metadata": {},
   "source": [
    "### Предобработка и исследовательский анализ данных"
   ]
  },
  {
   "cell_type": "code",
   "execution_count": 6,
   "metadata": {
    "scrolled": true
   },
   "outputs": [
    {
     "name": "stdout",
     "output_type": "stream",
     "text": [
      "0.0\n",
      "0.0\n"
     ]
    }
   ],
   "source": [
    "print(df.duplicated().mean())\n",
    "print(df_test.duplicated().mean())#Проверка на наличие явных дубликатов"
   ]
  },
  {
   "cell_type": "markdown",
   "metadata": {},
   "source": [
    "Явных дубликатов обнаружено не было"
   ]
  },
  {
   "cell_type": "code",
   "execution_count": 7,
   "metadata": {
    "scrolled": true
   },
   "outputs": [
    {
     "name": "stdout",
     "output_type": "stream",
     "text": [
      "Уникальные значения в датафрейме для обучения (df)\n",
      "BB           51697\n",
      "HB            7292\n",
      "SC            5274\n",
      "SC             515\n",
      "FB             451\n",
      "Name: meal, dtype: int64\n",
      "---------------------------------------------------------------------------------------------------\n",
      "Уникальные значения в датафрейме для теста (df_test)\n",
      "BB           24684\n",
      "SC            5035\n",
      "HB            2399\n",
      "SC             258\n",
      "FB              36\n",
      "Name: meal, dtype: int64\n"
     ]
    }
   ],
   "source": [
    "uniq('meal')"
   ]
  },
  {
   "cell_type": "markdown",
   "metadata": {},
   "source": [
    "В столбце `meal` были обнаружены дубликаты названий, отличающееся скорее всего пробелами"
   ]
  },
  {
   "cell_type": "code",
   "execution_count": 8,
   "metadata": {},
   "outputs": [
    {
     "name": "stdout",
     "output_type": "stream",
     "text": [
      "Уникальные значения в датафрейме для обучения (df)\n",
      "BB    51697\n",
      "HB     7292\n",
      "SC     5789\n",
      "FB      451\n",
      "Name: meal, dtype: int64\n",
      "---------------------------------------------------------------------------------------------------\n",
      "Уникальные значения в датафрейме для теста (df_test)\n",
      "BB    25265\n",
      "HB     4745\n",
      "SC     1951\n",
      "FB      451\n",
      "Name: meal, dtype: int64\n"
     ]
    }
   ],
   "source": [
    "df['meal'] = df['meal'].str.strip()\n",
    "df_test['meal'] = df['meal'].str.strip()\n",
    "uniq('meal')"
   ]
  },
  {
   "cell_type": "markdown",
   "metadata": {},
   "source": [
    "Были убраны дубликаты в столбце `meal`"
   ]
  },
  {
   "cell_type": "code",
   "execution_count": 9,
   "metadata": {},
   "outputs": [
    {
     "name": "stdout",
     "output_type": "stream",
     "text": [
      "Уникальные значения в датафрейме для обучения (df)\n",
      "A                   50501\n",
      "D                    9387\n",
      "E                    2448\n",
      "F                    1213\n",
      "B                     860\n",
      "G                     592\n",
      "C                     228\n",
      "Name: reserved_room_type, dtype: int64\n",
      "---------------------------------------------------------------------------------------------------\n",
      "Уникальные значения в датафрейме для теста (df_test)\n",
      "A                   23471\n",
      "D                    6123\n",
      "E                    1644\n",
      "F                     503\n",
      "G                     278\n",
      "C                     201\n",
      "B                     192\n",
      "Name: reserved_room_type, dtype: int64\n"
     ]
    }
   ],
   "source": [
    "uniq('reserved_room_type')"
   ]
  },
  {
   "cell_type": "markdown",
   "metadata": {},
   "source": [
    "В столбце `reserved_room_type` присутствуют лишние пробелы, которые могут помешать дальнейшему анализу"
   ]
  },
  {
   "cell_type": "code",
   "execution_count": 10,
   "metadata": {},
   "outputs": [
    {
     "name": "stdout",
     "output_type": "stream",
     "text": [
      "Уникальные значения в датафрейме для обучения (df)\n",
      "A    50501\n",
      "D     9387\n",
      "E     2448\n",
      "F     1213\n",
      "B      860\n",
      "G      592\n",
      "C      228\n",
      "Name: reserved_room_type, dtype: int64\n",
      "---------------------------------------------------------------------------------------------------\n",
      "Уникальные значения в датафрейме для теста (df_test)\n",
      "A    24075\n",
      "D     4558\n",
      "E     1987\n",
      "F      683\n",
      "G      523\n",
      "B      365\n",
      "C      221\n",
      "Name: reserved_room_type, dtype: int64\n"
     ]
    }
   ],
   "source": [
    "df['reserved_room_type'] = df['reserved_room_type'].str.strip()\n",
    "df_test['reserved_room_type'] = df['reserved_room_type'].str.strip()\n",
    "uniq('reserved_room_type')"
   ]
  },
  {
   "cell_type": "markdown",
   "metadata": {},
   "source": [
    "Лишние пробелы в столбце `reserved_room_type` были убраны"
   ]
  },
  {
   "cell_type": "code",
   "execution_count": 11,
   "metadata": {},
   "outputs": [],
   "source": [
    "#Привод данных к правильному типу\n",
    "df[['lead_time','adults','children','babies']] = df[['lead_time','adults','children','babies']].astype(int) \n",
    "df_test[['lead_time','adults','children','babies']] = df_test[['lead_time','adults','children','babies']].astype(int)"
   ]
  },
  {
   "cell_type": "code",
   "execution_count": 12,
   "metadata": {},
   "outputs": [
    {
     "data": {
      "image/png": "[encoded data removed]",
      "text/plain": [
       "<Figure size 360x720 with 1 Axes>"
      ]
     },
     "metadata": {
      "needs_background": "light"
     },
     "output_type": "display_data"
    }
   ],
   "source": [
    "plt.figure(figsize=(5,10))\n",
    "plt.title('Boxplot  количества дней между датой бронирования и датой прибытия')\n",
    "plt.ylabel(\"Количество дней\")\n",
    "df['lead_time'].plot(kind='box');"
   ]
  },
  {
   "cell_type": "code",
   "execution_count": 13,
   "metadata": {
    "scrolled": false
   },
   "outputs": [
    {
     "name": "stdout",
     "output_type": "stream",
     "text": [
      "AxesSubplot(0.125,0.125;0.775x0.755)\n"
     ]
    },
    {
     "data": {
      "image/png": "[encoded data removed]",
      "text/plain": [
       "<Figure size 1440x720 with 1 Axes>"
      ]
     },
     "metadata": {
      "needs_background": "light"
     },
     "output_type": "display_data"
    }
   ],
   "source": [
    "plt.figure(figsize=(20,10))\n",
    "plt.title('Boxplot  количества ночей в разные дни (будние и выходные) и общего количество дней')\n",
    "plt.ylabel(\"Количество ночей\")\n",
    "print(df[['stays_in_weekend_nights','stays_in_week_nights','total_nights']].boxplot())"
   ]
  },
  {
   "cell_type": "code",
   "execution_count": 14,
   "metadata": {},
   "outputs": [
    {
     "name": "stdout",
     "output_type": "stream",
     "text": [
      "AxesSubplot(0.125,0.125;0.775x0.755)\n"
     ]
    },
    {
     "data": {
      "image/png": "[encoded data removed]",
      "text/plain": [
       "<Figure size 720x720 with 1 Axes>"
      ]
     },
     "metadata": {
      "needs_background": "light"
     },
     "output_type": "display_data"
    }
   ],
   "source": [
    "plt.figure(figsize=(10,10))\n",
    "plt.title('Boxplot  количество человек разных возрастных групп')\n",
    "plt.ylabel(\"Количество персон\")\n",
    "print(df[['adults','children','babies']].boxplot())"
   ]
  },
  {
   "cell_type": "markdown",
   "metadata": {},
   "source": [
    "Как мы можем видеть присутствуют аномальные значения в столбцах `lead_time`, `adults`, `children`,`babies`, `book_changes` и `total_nights`. Можно избавиться от значений в столбце `lead_time` более года (360 дн) и `required_car_parking_spaces>1` более 1"
   ]
  },
  {
   "cell_type": "code",
   "execution_count": 15,
   "metadata": {},
   "outputs": [],
   "source": [
    "dropping('lead_time>360')"
   ]
  },
  {
   "cell_type": "code",
   "execution_count": 16,
   "metadata": {},
   "outputs": [],
   "source": [
    "dropping('required_car_parking_spaces>1')"
   ]
  },
  {
   "cell_type": "code",
   "execution_count": 17,
   "metadata": {},
   "outputs": [
    {
     "data": {
      "text/plain": [
       "adults  children  babies\n",
       "2       0         0         45195\n",
       "1       0         0         12982\n",
       "3       0         0          2816\n",
       "2       1         0          1948\n",
       "        2         0          1124\n",
       "        0         1           378\n",
       "0       2         0           138\n",
       "1       1         0           128\n",
       "        2         0            60\n",
       "2       1         1            49\n",
       "3       1         0            36\n",
       "0       0         0            15\n",
       "4       0         0            13\n",
       "2       2         1            10\n",
       "0       3         0             8\n",
       "2       3         0             6\n",
       "        0         2             3\n",
       "1       0         1             3\n",
       "3       0         1             3\n",
       "0       2         1             3\n",
       "        1         0             2\n",
       "1       3         0             2\n",
       "2       0         10            1\n",
       "1       0         9             1\n",
       "3       2         0             1\n",
       "dtype: int64"
      ]
     },
     "execution_count": 17,
     "metadata": {},
     "output_type": "execute_result"
    }
   ],
   "source": [
    "df[['adults','children','babies']].value_counts()"
   ]
  },
  {
   "cell_type": "markdown",
   "metadata": {},
   "source": [
    "Значения в столбце `adults` равные 0 являются аномальными и от них можно избавиться, также как и от количества детей (`babies`) равному 9 и 10, которые встречаются лишь по 1 разу. Также мы можем избавиться от значений в столбце `lead_time` более 360 "
   ]
  },
  {
   "cell_type": "code",
   "execution_count": 18,
   "metadata": {},
   "outputs": [],
   "source": [
    "dropping('adults<1')\n",
    "dropping('babies>3')"
   ]
  },
  {
   "cell_type": "code",
   "execution_count": 19,
   "metadata": {},
   "outputs": [
    {
     "name": "stdout",
     "output_type": "stream",
     "text": [
      "AxesSubplot(0.125,0.125;0.775x0.755)\n"
     ]
    },
    {
     "data": {
      "text/plain": [
       "total_nights\n",
       "2               16555\n",
       "3               15602\n",
       "1               12091\n",
       "4                9559\n",
       "5                4240\n",
       "7                3842\n",
       "6                2061\n",
       "8                 540\n",
       "9                 151\n",
       "10                116\n",
       "dtype: int64"
      ]
     },
     "execution_count": 19,
     "metadata": {},
     "output_type": "execute_result"
    },
    {
     "data": {
      "image/png": "[encoded data removed]",
      "text/plain": [
       "<Figure size 432x288 with 1 Axes>"
      ]
     },
     "metadata": {
      "needs_background": "light"
     },
     "output_type": "display_data"
    }
   ],
   "source": [
    "print(df[['total_nights']].boxplot())\n",
    "df[['total_nights']].value_counts()"
   ]
  },
  {
   "cell_type": "markdown",
   "metadata": {},
   "source": [
    "Также мы можем избавиться от аномальных значений `total_nights`, равные 8 и более"
   ]
  },
  {
   "cell_type": "code",
   "execution_count": 20,
   "metadata": {
    "scrolled": true
   },
   "outputs": [],
   "source": [
    "dropping('total_nights>7')"
   ]
  },
  {
   "cell_type": "code",
   "execution_count": 21,
   "metadata": {},
   "outputs": [
    {
     "name": "stdout",
     "output_type": "stream",
     "text": [
      "AxesSubplot(0.125,0.125;0.775x0.755)\n"
     ]
    },
    {
     "data": {
      "text/plain": [
       "booking_changes\n",
       "0                  55192\n",
       "1                   6432\n",
       "2                   1697\n",
       "3                    385\n",
       "4                    145\n",
       "5                     41\n",
       "6                     17\n",
       "7                     17\n",
       "8                      7\n",
       "9                      5\n",
       "13                     4\n",
       "10                     2\n",
       "14                     2\n",
       "15                     2\n",
       "16                     1\n",
       "17                     1\n",
       "dtype: int64"
      ]
     },
     "execution_count": 21,
     "metadata": {},
     "output_type": "execute_result"
    },
    {
     "data": {
      "image/png": "[encoded data removed]",
      "text/plain": [
       "<Figure size 432x288 with 1 Axes>"
      ]
     },
     "metadata": {
      "needs_background": "light"
     },
     "output_type": "display_data"
    }
   ],
   "source": [
    "print(df[['booking_changes']].boxplot())\n",
    "df[['booking_changes']].value_counts()"
   ]
  },
  {
   "cell_type": "markdown",
   "metadata": {},
   "source": [
    "Значения в столбце `booking_changes` более 2 можно считать аномальными"
   ]
  },
  {
   "cell_type": "code",
   "execution_count": 22,
   "metadata": {},
   "outputs": [],
   "source": [
    "dropping('booking_changes>2')"
   ]
  },
  {
   "cell_type": "code",
   "execution_count": 23,
   "metadata": {},
   "outputs": [],
   "source": [
    "df = df.reindex(range(len(df)),method = 'ffill')\n",
    "df_test = df_test.reindex(range(len(df_test)),method='ffill') #Восстановление индексации после удаления строк"
   ]
  },
  {
   "cell_type": "code",
   "execution_count": 24,
   "metadata": {},
   "outputs": [
    {
     "name": "stdout",
     "output_type": "stream",
     "text": [
      "<class 'pandas.core.frame.DataFrame'>\n",
      "RangeIndex: 63321 entries, 0 to 63320\n",
      "Data columns (total 25 columns):\n",
      " #   Column                          Non-Null Count  Dtype \n",
      "---  ------                          --------------  ----- \n",
      " 0   id                              63321 non-null  int64 \n",
      " 1   is_canceled                     63321 non-null  int64 \n",
      " 2   lead_time                       63321 non-null  int64 \n",
      " 3   arrival_date_year               63321 non-null  int64 \n",
      " 4   arrival_date_month              63321 non-null  object\n",
      " 5   arrival_date_week_number        63321 non-null  int64 \n",
      " 6   arrival_date_day_of_month       63321 non-null  int64 \n",
      " 7   stays_in_weekend_nights         63321 non-null  int64 \n",
      " 8   stays_in_week_nights            63321 non-null  int64 \n",
      " 9   adults                          63321 non-null  int64 \n",
      " 10  children                        63321 non-null  int64 \n",
      " 11  babies                          63321 non-null  int64 \n",
      " 12  meal                            63321 non-null  object\n",
      " 13  country                         63321 non-null  object\n",
      " 14  distribution_channel            63321 non-null  object\n",
      " 15  is_repeated_guest               63321 non-null  int64 \n",
      " 16  previous_cancellations          63321 non-null  int64 \n",
      " 17  previous_bookings_not_canceled  63321 non-null  int64 \n",
      " 18  reserved_room_type              63321 non-null  object\n",
      " 19  booking_changes                 63321 non-null  int64 \n",
      " 20  days_in_waiting_list            63321 non-null  int64 \n",
      " 21  customer_type                   63321 non-null  object\n",
      " 22  required_car_parking_spaces     63321 non-null  int64 \n",
      " 23  total_of_special_requests       63321 non-null  int64 \n",
      " 24  total_nights                    63321 non-null  int64 \n",
      "dtypes: int64(19), object(6)\n",
      "memory usage: 12.1+ MB\n"
     ]
    }
   ],
   "source": [
    "df.info()"
   ]
  },
  {
   "cell_type": "code",
   "execution_count": 25,
   "metadata": {},
   "outputs": [
    {
     "name": "stdout",
     "output_type": "stream",
     "text": [
      "2.9250793358782134\n"
     ]
    }
   ],
   "source": [
    "x = 65229-63321\n",
    "print(x/65229*100)"
   ]
  },
  {
   "cell_type": "markdown",
   "metadata": {},
   "source": [
    "После очистки датафрейма от аномальных значений мы потеряли всего лишь 3% данных"
   ]
  },
  {
   "cell_type": "markdown",
   "metadata": {},
   "source": [
    "### Формулировка ML-задачи на основе бизнес-задачи"
   ]
  },
  {
   "cell_type": "markdown",
   "metadata": {},
   "source": [
    "Основная бизнес метрика - прибыль, для этого нам нужно создать новый столбец с данными равными количеству ночей умноженному на цену номера (с учетом сезона) и убрав затраты на уборку. После этого надо посчитать общую сумму прибыли"
   ]
  },
  {
   "cell_type": "code",
   "execution_count": 26,
   "metadata": {},
   "outputs": [],
   "source": [
    "#Создание новых столбцов изначально с аномально низкими значениями, чтобы после работы функции можно было узнать все ли строки были обработаны\n",
    "df['room_cost'] = -10000000000000000 # столбец со стоимостью номера\n",
    "df['season_cost'] = -10000000000000000000 # столбец со стоимостью номера вместе с сезонным увеличением цены\n",
    "df['service'] = -100000000000000 # столбец со стоимостью разового обслуживания\n",
    "df['total'] = -1000000000000000 # столбец с итоговой стоимостью\n",
    "df['total_with_canceled']= -1000000000000000 #Столбец с итоговой прибылью/убытками компании\n",
    "\n",
    "df_test['room_cost'] = -10000000000000000 # столбец со стоимостью номера\n",
    "df_test['season_cost'] = -10000000000000000000 # столбец со стоимостью номера вместе с сезонным увеличением цены\n",
    "df_test['service'] = -100000000000000 # столбец со стоимостью разового обслуживания\n",
    "df_test['total'] = -1000000000000000 # столбец с итоговой стоимостью\n",
    "df_test['total_with_canceled'] = -100000000000000 #Столбец с итоговой прибылью/убытками компании"
   ]
  },
  {
   "cell_type": "code",
   "execution_count": 27,
   "metadata": {
    "scrolled": true
   },
   "outputs": [],
   "source": [
    "costing(df)"
   ]
  },
  {
   "cell_type": "code",
   "execution_count": 28,
   "metadata": {
    "scrolled": true
   },
   "outputs": [],
   "source": [
    "costing(df_test)"
   ]
  },
  {
   "cell_type": "code",
   "execution_count": 29,
   "metadata": {
    "scrolled": true
   },
   "outputs": [
    {
     "data": {
      "text/html": [
       "<div>\n",
       "<style scoped>\n",
       "    .dataframe tbody tr th:only-of-type {\n",
       "        vertical-align: middle;\n",
       "    }\n",
       "\n",
       "    .dataframe tbody tr th {\n",
       "        vertical-align: top;\n",
       "    }\n",
       "\n",
       "    .dataframe thead th {\n",
       "        text-align: right;\n",
       "    }\n",
       "</style>\n",
       "<table border=\"1\" class=\"dataframe\">\n",
       "  <thead>\n",
       "    <tr style=\"text-align: right;\">\n",
       "      <th></th>\n",
       "      <th>id</th>\n",
       "      <th>is_canceled</th>\n",
       "      <th>lead_time</th>\n",
       "      <th>arrival_date_year</th>\n",
       "      <th>arrival_date_month</th>\n",
       "      <th>arrival_date_week_number</th>\n",
       "      <th>arrival_date_day_of_month</th>\n",
       "      <th>stays_in_weekend_nights</th>\n",
       "      <th>stays_in_week_nights</th>\n",
       "      <th>adults</th>\n",
       "      <th>...</th>\n",
       "      <th>days_in_waiting_list</th>\n",
       "      <th>customer_type</th>\n",
       "      <th>required_car_parking_spaces</th>\n",
       "      <th>total_of_special_requests</th>\n",
       "      <th>total_nights</th>\n",
       "      <th>room_cost</th>\n",
       "      <th>season_cost</th>\n",
       "      <th>service</th>\n",
       "      <th>total</th>\n",
       "      <th>total_with_canceled</th>\n",
       "    </tr>\n",
       "  </thead>\n",
       "  <tbody>\n",
       "    <tr>\n",
       "      <th>0</th>\n",
       "      <td>6086</td>\n",
       "      <td>1</td>\n",
       "      <td>74</td>\n",
       "      <td>2017</td>\n",
       "      <td>January</td>\n",
       "      <td>1</td>\n",
       "      <td>1</td>\n",
       "      <td>1</td>\n",
       "      <td>0</td>\n",
       "      <td>2</td>\n",
       "      <td>...</td>\n",
       "      <td>0</td>\n",
       "      <td>Transient</td>\n",
       "      <td>0</td>\n",
       "      <td>0</td>\n",
       "      <td>1</td>\n",
       "      <td>1000</td>\n",
       "      <td>1000</td>\n",
       "      <td>400</td>\n",
       "      <td>1400</td>\n",
       "      <td>-1400</td>\n",
       "    </tr>\n",
       "    <tr>\n",
       "      <th>1</th>\n",
       "      <td>6087</td>\n",
       "      <td>1</td>\n",
       "      <td>62</td>\n",
       "      <td>2017</td>\n",
       "      <td>January</td>\n",
       "      <td>1</td>\n",
       "      <td>1</td>\n",
       "      <td>2</td>\n",
       "      <td>2</td>\n",
       "      <td>2</td>\n",
       "      <td>...</td>\n",
       "      <td>0</td>\n",
       "      <td>Transient</td>\n",
       "      <td>0</td>\n",
       "      <td>1</td>\n",
       "      <td>4</td>\n",
       "      <td>1000</td>\n",
       "      <td>1000</td>\n",
       "      <td>400</td>\n",
       "      <td>4800</td>\n",
       "      <td>-1400</td>\n",
       "    </tr>\n",
       "    <tr>\n",
       "      <th>2</th>\n",
       "      <td>6088</td>\n",
       "      <td>1</td>\n",
       "      <td>62</td>\n",
       "      <td>2017</td>\n",
       "      <td>January</td>\n",
       "      <td>1</td>\n",
       "      <td>1</td>\n",
       "      <td>2</td>\n",
       "      <td>2</td>\n",
       "      <td>2</td>\n",
       "      <td>...</td>\n",
       "      <td>0</td>\n",
       "      <td>Transient</td>\n",
       "      <td>0</td>\n",
       "      <td>1</td>\n",
       "      <td>4</td>\n",
       "      <td>600</td>\n",
       "      <td>600</td>\n",
       "      <td>350</td>\n",
       "      <td>3100</td>\n",
       "      <td>-950</td>\n",
       "    </tr>\n",
       "    <tr>\n",
       "      <th>3</th>\n",
       "      <td>6089</td>\n",
       "      <td>1</td>\n",
       "      <td>71</td>\n",
       "      <td>2017</td>\n",
       "      <td>January</td>\n",
       "      <td>1</td>\n",
       "      <td>1</td>\n",
       "      <td>2</td>\n",
       "      <td>2</td>\n",
       "      <td>1</td>\n",
       "      <td>...</td>\n",
       "      <td>0</td>\n",
       "      <td>Transient</td>\n",
       "      <td>0</td>\n",
       "      <td>1</td>\n",
       "      <td>4</td>\n",
       "      <td>600</td>\n",
       "      <td>600</td>\n",
       "      <td>350</td>\n",
       "      <td>3100</td>\n",
       "      <td>-950</td>\n",
       "    </tr>\n",
       "    <tr>\n",
       "      <th>4</th>\n",
       "      <td>6090</td>\n",
       "      <td>1</td>\n",
       "      <td>172</td>\n",
       "      <td>2017</td>\n",
       "      <td>January</td>\n",
       "      <td>1</td>\n",
       "      <td>1</td>\n",
       "      <td>2</td>\n",
       "      <td>5</td>\n",
       "      <td>2</td>\n",
       "      <td>...</td>\n",
       "      <td>0</td>\n",
       "      <td>Transient</td>\n",
       "      <td>0</td>\n",
       "      <td>0</td>\n",
       "      <td>7</td>\n",
       "      <td>1000</td>\n",
       "      <td>1000</td>\n",
       "      <td>400</td>\n",
       "      <td>8600</td>\n",
       "      <td>-1400</td>\n",
       "    </tr>\n",
       "    <tr>\n",
       "      <th>...</th>\n",
       "      <td>...</td>\n",
       "      <td>...</td>\n",
       "      <td>...</td>\n",
       "      <td>...</td>\n",
       "      <td>...</td>\n",
       "      <td>...</td>\n",
       "      <td>...</td>\n",
       "      <td>...</td>\n",
       "      <td>...</td>\n",
       "      <td>...</td>\n",
       "      <td>...</td>\n",
       "      <td>...</td>\n",
       "      <td>...</td>\n",
       "      <td>...</td>\n",
       "      <td>...</td>\n",
       "      <td>...</td>\n",
       "      <td>...</td>\n",
       "      <td>...</td>\n",
       "      <td>...</td>\n",
       "      <td>...</td>\n",
       "      <td>...</td>\n",
       "    </tr>\n",
       "    <tr>\n",
       "      <th>32407</th>\n",
       "      <td>97899</td>\n",
       "      <td>0</td>\n",
       "      <td>164</td>\n",
       "      <td>2017</td>\n",
       "      <td>August</td>\n",
       "      <td>35</td>\n",
       "      <td>31</td>\n",
       "      <td>2</td>\n",
       "      <td>4</td>\n",
       "      <td>2</td>\n",
       "      <td>...</td>\n",
       "      <td>0</td>\n",
       "      <td>Transient</td>\n",
       "      <td>0</td>\n",
       "      <td>0</td>\n",
       "      <td>6</td>\n",
       "      <td>1000</td>\n",
       "      <td>1400.0</td>\n",
       "      <td>400</td>\n",
       "      <td>9600</td>\n",
       "      <td>9600</td>\n",
       "    </tr>\n",
       "    <tr>\n",
       "      <th>32408</th>\n",
       "      <td>97900</td>\n",
       "      <td>0</td>\n",
       "      <td>21</td>\n",
       "      <td>2017</td>\n",
       "      <td>August</td>\n",
       "      <td>35</td>\n",
       "      <td>30</td>\n",
       "      <td>2</td>\n",
       "      <td>5</td>\n",
       "      <td>2</td>\n",
       "      <td>...</td>\n",
       "      <td>0</td>\n",
       "      <td>Transient</td>\n",
       "      <td>0</td>\n",
       "      <td>2</td>\n",
       "      <td>7</td>\n",
       "      <td>1000</td>\n",
       "      <td>1400.0</td>\n",
       "      <td>400</td>\n",
       "      <td>11400</td>\n",
       "      <td>11400</td>\n",
       "    </tr>\n",
       "    <tr>\n",
       "      <th>32409</th>\n",
       "      <td>97901</td>\n",
       "      <td>0</td>\n",
       "      <td>23</td>\n",
       "      <td>2017</td>\n",
       "      <td>August</td>\n",
       "      <td>35</td>\n",
       "      <td>30</td>\n",
       "      <td>2</td>\n",
       "      <td>5</td>\n",
       "      <td>2</td>\n",
       "      <td>...</td>\n",
       "      <td>0</td>\n",
       "      <td>Transient</td>\n",
       "      <td>0</td>\n",
       "      <td>0</td>\n",
       "      <td>7</td>\n",
       "      <td>1000</td>\n",
       "      <td>1400.0</td>\n",
       "      <td>400</td>\n",
       "      <td>11400</td>\n",
       "      <td>11400</td>\n",
       "    </tr>\n",
       "    <tr>\n",
       "      <th>32410</th>\n",
       "      <td>97902</td>\n",
       "      <td>0</td>\n",
       "      <td>34</td>\n",
       "      <td>2017</td>\n",
       "      <td>August</td>\n",
       "      <td>35</td>\n",
       "      <td>31</td>\n",
       "      <td>2</td>\n",
       "      <td>5</td>\n",
       "      <td>2</td>\n",
       "      <td>...</td>\n",
       "      <td>0</td>\n",
       "      <td>Transient</td>\n",
       "      <td>0</td>\n",
       "      <td>4</td>\n",
       "      <td>7</td>\n",
       "      <td>1000</td>\n",
       "      <td>1400.0</td>\n",
       "      <td>400</td>\n",
       "      <td>11400</td>\n",
       "      <td>11400</td>\n",
       "    </tr>\n",
       "    <tr>\n",
       "      <th>32411</th>\n",
       "      <td>97903</td>\n",
       "      <td>0</td>\n",
       "      <td>109</td>\n",
       "      <td>2017</td>\n",
       "      <td>August</td>\n",
       "      <td>35</td>\n",
       "      <td>31</td>\n",
       "      <td>2</td>\n",
       "      <td>5</td>\n",
       "      <td>2</td>\n",
       "      <td>...</td>\n",
       "      <td>0</td>\n",
       "      <td>Transient</td>\n",
       "      <td>0</td>\n",
       "      <td>0</td>\n",
       "      <td>7</td>\n",
       "      <td>1000</td>\n",
       "      <td>1400.0</td>\n",
       "      <td>400</td>\n",
       "      <td>11400</td>\n",
       "      <td>11400</td>\n",
       "    </tr>\n",
       "  </tbody>\n",
       "</table>\n",
       "<p>32412 rows × 30 columns</p>\n",
       "</div>"
      ],
      "text/plain": [
       "          id  is_canceled  lead_time  arrival_date_year arrival_date_month  \\\n",
       "0       6086            1         74               2017            January   \n",
       "1       6087            1         62               2017            January   \n",
       "2       6088            1         62               2017            January   \n",
       "3       6089            1         71               2017            January   \n",
       "4       6090            1        172               2017            January   \n",
       "...      ...          ...        ...                ...                ...   \n",
       "32407  97899            0        164               2017             August   \n",
       "32408  97900            0         21               2017             August   \n",
       "32409  97901            0         23               2017             August   \n",
       "32410  97902            0         34               2017             August   \n",
       "32411  97903            0        109               2017             August   \n",
       "\n",
       "       arrival_date_week_number  arrival_date_day_of_month  \\\n",
       "0                             1                          1   \n",
       "1                             1                          1   \n",
       "2                             1                          1   \n",
       "3                             1                          1   \n",
       "4                             1                          1   \n",
       "...                         ...                        ...   \n",
       "32407                        35                         31   \n",
       "32408                        35                         30   \n",
       "32409                        35                         30   \n",
       "32410                        35                         31   \n",
       "32411                        35                         31   \n",
       "\n",
       "       stays_in_weekend_nights  stays_in_week_nights  adults  ...  \\\n",
       "0                            1                     0       2  ...   \n",
       "1                            2                     2       2  ...   \n",
       "2                            2                     2       2  ...   \n",
       "3                            2                     2       1  ...   \n",
       "4                            2                     5       2  ...   \n",
       "...                        ...                   ...     ...  ...   \n",
       "32407                        2                     4       2  ...   \n",
       "32408                        2                     5       2  ...   \n",
       "32409                        2                     5       2  ...   \n",
       "32410                        2                     5       2  ...   \n",
       "32411                        2                     5       2  ...   \n",
       "\n",
       "       days_in_waiting_list  customer_type required_car_parking_spaces  \\\n",
       "0                         0      Transient                           0   \n",
       "1                         0      Transient                           0   \n",
       "2                         0      Transient                           0   \n",
       "3                         0      Transient                           0   \n",
       "4                         0      Transient                           0   \n",
       "...                     ...            ...                         ...   \n",
       "32407                     0      Transient                           0   \n",
       "32408                     0      Transient                           0   \n",
       "32409                     0      Transient                           0   \n",
       "32410                     0      Transient                           0   \n",
       "32411                     0      Transient                           0   \n",
       "\n",
       "      total_of_special_requests total_nights  room_cost  season_cost  service  \\\n",
       "0                             0            1       1000         1000      400   \n",
       "1                             1            4       1000         1000      400   \n",
       "2                             1            4        600          600      350   \n",
       "3                             1            4        600          600      350   \n",
       "4                             0            7       1000         1000      400   \n",
       "...                         ...          ...        ...          ...      ...   \n",
       "32407                         0            6       1000       1400.0      400   \n",
       "32408                         2            7       1000       1400.0      400   \n",
       "32409                         0            7       1000       1400.0      400   \n",
       "32410                         4            7       1000       1400.0      400   \n",
       "32411                         0            7       1000       1400.0      400   \n",
       "\n",
       "       total  total_with_canceled  \n",
       "0       1400                -1400  \n",
       "1       4800                -1400  \n",
       "2       3100                 -950  \n",
       "3       3100                 -950  \n",
       "4       8600                -1400  \n",
       "...      ...                  ...  \n",
       "32407   9600                 9600  \n",
       "32408  11400                11400  \n",
       "32409  11400                11400  \n",
       "32410  11400                11400  \n",
       "32411  11400                11400  \n",
       "\n",
       "[32412 rows x 30 columns]"
      ]
     },
     "metadata": {},
     "output_type": "display_data"
    },
    {
     "name": "stdout",
     "output_type": "stream",
     "text": [
      "<class 'pandas.core.frame.DataFrame'>\n",
      "RangeIndex: 32412 entries, 0 to 32411\n",
      "Data columns (total 30 columns):\n",
      " #   Column                          Non-Null Count  Dtype \n",
      "---  ------                          --------------  ----- \n",
      " 0   id                              32412 non-null  int64 \n",
      " 1   is_canceled                     32412 non-null  int64 \n",
      " 2   lead_time                       32412 non-null  int64 \n",
      " 3   arrival_date_year               32412 non-null  int64 \n",
      " 4   arrival_date_month              32412 non-null  object\n",
      " 5   arrival_date_week_number        32412 non-null  int64 \n",
      " 6   arrival_date_day_of_month       32412 non-null  int64 \n",
      " 7   stays_in_weekend_nights         32412 non-null  int64 \n",
      " 8   stays_in_week_nights            32412 non-null  int64 \n",
      " 9   adults                          32412 non-null  int64 \n",
      " 10  children                        32412 non-null  int64 \n",
      " 11  babies                          32412 non-null  int64 \n",
      " 12  meal                            32412 non-null  object\n",
      " 13  country                         32412 non-null  object\n",
      " 14  distribution_channel            32412 non-null  object\n",
      " 15  is_repeated_guest               32412 non-null  int64 \n",
      " 16  previous_cancellations          32412 non-null  int64 \n",
      " 17  previous_bookings_not_canceled  32412 non-null  int64 \n",
      " 18  reserved_room_type              32412 non-null  object\n",
      " 19  booking_changes                 32412 non-null  int64 \n",
      " 20  days_in_waiting_list            32412 non-null  int64 \n",
      " 21  customer_type                   32412 non-null  object\n",
      " 22  required_car_parking_spaces     32412 non-null  int64 \n",
      " 23  total_of_special_requests       32412 non-null  int64 \n",
      " 24  total_nights                    32412 non-null  int64 \n",
      " 25  room_cost                       32412 non-null  int64 \n",
      " 26  season_cost                     32412 non-null  object\n",
      " 27  service                         32412 non-null  int64 \n",
      " 28  total                           32412 non-null  int64 \n",
      " 29  total_with_canceled             32412 non-null  int64 \n",
      "dtypes: int64(23), object(7)\n",
      "memory usage: 7.4+ MB\n",
      "None\n"
     ]
    }
   ],
   "source": [
    "display(df_test)\n",
    "print(df_test.info())"
   ]
  },
  {
   "cell_type": "code",
   "execution_count": 30,
   "metadata": {},
   "outputs": [],
   "source": [
    "df['season_cost'] = df['season_cost'].astype(int)\n",
    "df_test['season_cost'] = df_test['season_cost'].astype(int)"
   ]
  },
  {
   "cell_type": "markdown",
   "metadata": {},
   "source": [
    "Теперь нужно подсчитать выручку до внедрения системы прогнозов отказов и депозитов, чтобы затем сравнить ее с полученными сейчас реультатами"
   ]
  },
  {
   "cell_type": "code",
   "execution_count": 31,
   "metadata": {},
   "outputs": [
    {
     "data": {
      "text/plain": [
       "63476269"
      ]
     },
     "execution_count": 31,
     "metadata": {},
     "output_type": "execute_result"
    }
   ],
   "source": [
    "df_test['total_with_canceled'].sum()"
   ]
  },
  {
   "cell_type": "markdown",
   "metadata": {},
   "source": [
    "Итоговый доход, который будет получен без системы депозитов равен 63 476 269 р"
   ]
  },
  {
   "cell_type": "markdown",
   "metadata": {},
   "source": [
    "### Разработка модели ML"
   ]
  },
  {
   "cell_type": "markdown",
   "metadata": {},
   "source": [
    "Перед началом обучения нашей модели, нужно перевести категориальные признаки в числовые и отделить признаки от цели."
   ]
  },
  {
   "cell_type": "code",
   "execution_count": 32,
   "metadata": {},
   "outputs": [],
   "source": [
    "df = shuffle(df,random_state=12345) #Перемешиваем датафреймы \n",
    "df_test = shuffle(df_test,random_state=12345)"
   ]
  },
  {
   "cell_type": "code",
   "execution_count": 33,
   "metadata": {},
   "outputs": [
    {
     "data": {
      "text/html": [
       "<div>\n",
       "<style scoped>\n",
       "    .dataframe tbody tr th:only-of-type {\n",
       "        vertical-align: middle;\n",
       "    }\n",
       "\n",
       "    .dataframe tbody tr th {\n",
       "        vertical-align: top;\n",
       "    }\n",
       "\n",
       "    .dataframe thead th {\n",
       "        text-align: right;\n",
       "    }\n",
       "</style>\n",
       "<table border=\"1\" class=\"dataframe\">\n",
       "  <thead>\n",
       "    <tr style=\"text-align: right;\">\n",
       "      <th></th>\n",
       "      <th>id</th>\n",
       "      <th>is_canceled</th>\n",
       "      <th>lead_time</th>\n",
       "      <th>arrival_date_year</th>\n",
       "      <th>arrival_date_month</th>\n",
       "      <th>arrival_date_week_number</th>\n",
       "      <th>arrival_date_day_of_month</th>\n",
       "      <th>stays_in_weekend_nights</th>\n",
       "      <th>stays_in_week_nights</th>\n",
       "      <th>adults</th>\n",
       "      <th>...</th>\n",
       "      <th>days_in_waiting_list</th>\n",
       "      <th>customer_type</th>\n",
       "      <th>required_car_parking_spaces</th>\n",
       "      <th>total_of_special_requests</th>\n",
       "      <th>total_nights</th>\n",
       "      <th>room_cost</th>\n",
       "      <th>season_cost</th>\n",
       "      <th>service</th>\n",
       "      <th>total</th>\n",
       "      <th>total_with_canceled</th>\n",
       "    </tr>\n",
       "  </thead>\n",
       "  <tbody>\n",
       "    <tr>\n",
       "      <th>16130</th>\n",
       "      <td>53319</td>\n",
       "      <td>1</td>\n",
       "      <td>343</td>\n",
       "      <td>2017</td>\n",
       "      <td>July</td>\n",
       "      <td>27</td>\n",
       "      <td>2</td>\n",
       "      <td>2</td>\n",
       "      <td>2</td>\n",
       "      <td>2</td>\n",
       "      <td>...</td>\n",
       "      <td>0</td>\n",
       "      <td>Transient</td>\n",
       "      <td>0</td>\n",
       "      <td>0</td>\n",
       "      <td>4</td>\n",
       "      <td>500</td>\n",
       "      <td>700</td>\n",
       "      <td>150</td>\n",
       "      <td>3100</td>\n",
       "      <td>-850</td>\n",
       "    </tr>\n",
       "    <tr>\n",
       "      <th>8160</th>\n",
       "      <td>45349</td>\n",
       "      <td>1</td>\n",
       "      <td>29</td>\n",
       "      <td>2017</td>\n",
       "      <td>January</td>\n",
       "      <td>3</td>\n",
       "      <td>16</td>\n",
       "      <td>2</td>\n",
       "      <td>5</td>\n",
       "      <td>2</td>\n",
       "      <td>...</td>\n",
       "      <td>0</td>\n",
       "      <td>Transient</td>\n",
       "      <td>0</td>\n",
       "      <td>1</td>\n",
       "      <td>7</td>\n",
       "      <td>1000</td>\n",
       "      <td>1000</td>\n",
       "      <td>400</td>\n",
       "      <td>8600</td>\n",
       "      <td>-1400</td>\n",
       "    </tr>\n",
       "    <tr>\n",
       "      <th>15097</th>\n",
       "      <td>52286</td>\n",
       "      <td>1</td>\n",
       "      <td>173</td>\n",
       "      <td>2017</td>\n",
       "      <td>June</td>\n",
       "      <td>24</td>\n",
       "      <td>11</td>\n",
       "      <td>2</td>\n",
       "      <td>3</td>\n",
       "      <td>2</td>\n",
       "      <td>...</td>\n",
       "      <td>0</td>\n",
       "      <td>Transient</td>\n",
       "      <td>0</td>\n",
       "      <td>0</td>\n",
       "      <td>5</td>\n",
       "      <td>500</td>\n",
       "      <td>700</td>\n",
       "      <td>150</td>\n",
       "      <td>3950</td>\n",
       "      <td>-850</td>\n",
       "    </tr>\n",
       "    <tr>\n",
       "      <th>15841</th>\n",
       "      <td>53030</td>\n",
       "      <td>1</td>\n",
       "      <td>138</td>\n",
       "      <td>2017</td>\n",
       "      <td>June</td>\n",
       "      <td>26</td>\n",
       "      <td>27</td>\n",
       "      <td>0</td>\n",
       "      <td>3</td>\n",
       "      <td>2</td>\n",
       "      <td>...</td>\n",
       "      <td>0</td>\n",
       "      <td>Transient</td>\n",
       "      <td>0</td>\n",
       "      <td>0</td>\n",
       "      <td>3</td>\n",
       "      <td>1000</td>\n",
       "      <td>1400</td>\n",
       "      <td>400</td>\n",
       "      <td>4600</td>\n",
       "      <td>-1800</td>\n",
       "    </tr>\n",
       "    <tr>\n",
       "      <th>836</th>\n",
       "      <td>6937</td>\n",
       "      <td>1</td>\n",
       "      <td>73</td>\n",
       "      <td>2017</td>\n",
       "      <td>April</td>\n",
       "      <td>15</td>\n",
       "      <td>15</td>\n",
       "      <td>2</td>\n",
       "      <td>1</td>\n",
       "      <td>1</td>\n",
       "      <td>...</td>\n",
       "      <td>0</td>\n",
       "      <td>Transient</td>\n",
       "      <td>0</td>\n",
       "      <td>0</td>\n",
       "      <td>3</td>\n",
       "      <td>550</td>\n",
       "      <td>660</td>\n",
       "      <td>150</td>\n",
       "      <td>2130</td>\n",
       "      <td>-810</td>\n",
       "    </tr>\n",
       "    <tr>\n",
       "      <th>...</th>\n",
       "      <td>...</td>\n",
       "      <td>...</td>\n",
       "      <td>...</td>\n",
       "      <td>...</td>\n",
       "      <td>...</td>\n",
       "      <td>...</td>\n",
       "      <td>...</td>\n",
       "      <td>...</td>\n",
       "      <td>...</td>\n",
       "      <td>...</td>\n",
       "      <td>...</td>\n",
       "      <td>...</td>\n",
       "      <td>...</td>\n",
       "      <td>...</td>\n",
       "      <td>...</td>\n",
       "      <td>...</td>\n",
       "      <td>...</td>\n",
       "      <td>...</td>\n",
       "      <td>...</td>\n",
       "      <td>...</td>\n",
       "      <td>...</td>\n",
       "    </tr>\n",
       "    <tr>\n",
       "      <th>19876</th>\n",
       "      <td>85368</td>\n",
       "      <td>0</td>\n",
       "      <td>27</td>\n",
       "      <td>2017</td>\n",
       "      <td>February</td>\n",
       "      <td>6</td>\n",
       "      <td>5</td>\n",
       "      <td>2</td>\n",
       "      <td>2</td>\n",
       "      <td>1</td>\n",
       "      <td>...</td>\n",
       "      <td>0</td>\n",
       "      <td>Transient</td>\n",
       "      <td>0</td>\n",
       "      <td>1</td>\n",
       "      <td>4</td>\n",
       "      <td>1000</td>\n",
       "      <td>1000</td>\n",
       "      <td>400</td>\n",
       "      <td>4800</td>\n",
       "      <td>4800</td>\n",
       "    </tr>\n",
       "    <tr>\n",
       "      <th>2177</th>\n",
       "      <td>8359</td>\n",
       "      <td>0</td>\n",
       "      <td>134</td>\n",
       "      <td>2017</td>\n",
       "      <td>April</td>\n",
       "      <td>15</td>\n",
       "      <td>13</td>\n",
       "      <td>0</td>\n",
       "      <td>3</td>\n",
       "      <td>2</td>\n",
       "      <td>...</td>\n",
       "      <td>0</td>\n",
       "      <td>Transient-Party</td>\n",
       "      <td>0</td>\n",
       "      <td>1</td>\n",
       "      <td>3</td>\n",
       "      <td>1000</td>\n",
       "      <td>1200</td>\n",
       "      <td>400</td>\n",
       "      <td>4000</td>\n",
       "      <td>4000</td>\n",
       "    </tr>\n",
       "    <tr>\n",
       "      <th>32029</th>\n",
       "      <td>97521</td>\n",
       "      <td>0</td>\n",
       "      <td>174</td>\n",
       "      <td>2017</td>\n",
       "      <td>August</td>\n",
       "      <td>34</td>\n",
       "      <td>20</td>\n",
       "      <td>2</td>\n",
       "      <td>5</td>\n",
       "      <td>2</td>\n",
       "      <td>...</td>\n",
       "      <td>0</td>\n",
       "      <td>Transient-Party</td>\n",
       "      <td>0</td>\n",
       "      <td>0</td>\n",
       "      <td>7</td>\n",
       "      <td>1000</td>\n",
       "      <td>1400</td>\n",
       "      <td>400</td>\n",
       "      <td>11400</td>\n",
       "      <td>11400</td>\n",
       "    </tr>\n",
       "    <tr>\n",
       "      <th>11749</th>\n",
       "      <td>48938</td>\n",
       "      <td>1</td>\n",
       "      <td>135</td>\n",
       "      <td>2017</td>\n",
       "      <td>April</td>\n",
       "      <td>16</td>\n",
       "      <td>21</td>\n",
       "      <td>1</td>\n",
       "      <td>2</td>\n",
       "      <td>2</td>\n",
       "      <td>...</td>\n",
       "      <td>0</td>\n",
       "      <td>Transient</td>\n",
       "      <td>0</td>\n",
       "      <td>0</td>\n",
       "      <td>3</td>\n",
       "      <td>500</td>\n",
       "      <td>600</td>\n",
       "      <td>150</td>\n",
       "      <td>1950</td>\n",
       "      <td>-750</td>\n",
       "    </tr>\n",
       "    <tr>\n",
       "      <th>20962</th>\n",
       "      <td>86454</td>\n",
       "      <td>0</td>\n",
       "      <td>0</td>\n",
       "      <td>2017</td>\n",
       "      <td>February</td>\n",
       "      <td>8</td>\n",
       "      <td>24</td>\n",
       "      <td>1</td>\n",
       "      <td>2</td>\n",
       "      <td>2</td>\n",
       "      <td>...</td>\n",
       "      <td>0</td>\n",
       "      <td>Transient</td>\n",
       "      <td>0</td>\n",
       "      <td>1</td>\n",
       "      <td>3</td>\n",
       "      <td>1000</td>\n",
       "      <td>1000</td>\n",
       "      <td>400</td>\n",
       "      <td>3400</td>\n",
       "      <td>3400</td>\n",
       "    </tr>\n",
       "  </tbody>\n",
       "</table>\n",
       "<p>32412 rows × 30 columns</p>\n",
       "</div>"
      ],
      "text/plain": [
       "          id  is_canceled  lead_time  arrival_date_year arrival_date_month  \\\n",
       "16130  53319            1        343               2017               July   \n",
       "8160   45349            1         29               2017            January   \n",
       "15097  52286            1        173               2017               June   \n",
       "15841  53030            1        138               2017               June   \n",
       "836     6937            1         73               2017              April   \n",
       "...      ...          ...        ...                ...                ...   \n",
       "19876  85368            0         27               2017           February   \n",
       "2177    8359            0        134               2017              April   \n",
       "32029  97521            0        174               2017             August   \n",
       "11749  48938            1        135               2017              April   \n",
       "20962  86454            0          0               2017           February   \n",
       "\n",
       "       arrival_date_week_number  arrival_date_day_of_month  \\\n",
       "16130                        27                          2   \n",
       "8160                          3                         16   \n",
       "15097                        24                         11   \n",
       "15841                        26                         27   \n",
       "836                          15                         15   \n",
       "...                         ...                        ...   \n",
       "19876                         6                          5   \n",
       "2177                         15                         13   \n",
       "32029                        34                         20   \n",
       "11749                        16                         21   \n",
       "20962                         8                         24   \n",
       "\n",
       "       stays_in_weekend_nights  stays_in_week_nights  adults  ...  \\\n",
       "16130                        2                     2       2  ...   \n",
       "8160                         2                     5       2  ...   \n",
       "15097                        2                     3       2  ...   \n",
       "15841                        0                     3       2  ...   \n",
       "836                          2                     1       1  ...   \n",
       "...                        ...                   ...     ...  ...   \n",
       "19876                        2                     2       1  ...   \n",
       "2177                         0                     3       2  ...   \n",
       "32029                        2                     5       2  ...   \n",
       "11749                        1                     2       2  ...   \n",
       "20962                        1                     2       2  ...   \n",
       "\n",
       "       days_in_waiting_list    customer_type required_car_parking_spaces  \\\n",
       "16130                     0        Transient                           0   \n",
       "8160                      0        Transient                           0   \n",
       "15097                     0        Transient                           0   \n",
       "15841                     0        Transient                           0   \n",
       "836                       0        Transient                           0   \n",
       "...                     ...              ...                         ...   \n",
       "19876                     0        Transient                           0   \n",
       "2177                      0  Transient-Party                           0   \n",
       "32029                     0  Transient-Party                           0   \n",
       "11749                     0        Transient                           0   \n",
       "20962                     0        Transient                           0   \n",
       "\n",
       "      total_of_special_requests total_nights  room_cost  season_cost  service  \\\n",
       "16130                         0            4        500          700      150   \n",
       "8160                          1            7       1000         1000      400   \n",
       "15097                         0            5        500          700      150   \n",
       "15841                         0            3       1000         1400      400   \n",
       "836                           0            3        550          660      150   \n",
       "...                         ...          ...        ...          ...      ...   \n",
       "19876                         1            4       1000         1000      400   \n",
       "2177                          1            3       1000         1200      400   \n",
       "32029                         0            7       1000         1400      400   \n",
       "11749                         0            3        500          600      150   \n",
       "20962                         1            3       1000         1000      400   \n",
       "\n",
       "       total  total_with_canceled  \n",
       "16130   3100                 -850  \n",
       "8160    8600                -1400  \n",
       "15097   3950                 -850  \n",
       "15841   4600                -1800  \n",
       "836     2130                 -810  \n",
       "...      ...                  ...  \n",
       "19876   4800                 4800  \n",
       "2177    4000                 4000  \n",
       "32029  11400                11400  \n",
       "11749   1950                 -750  \n",
       "20962   3400                 3400  \n",
       "\n",
       "[32412 rows x 30 columns]"
      ]
     },
     "execution_count": 33,
     "metadata": {},
     "output_type": "execute_result"
    }
   ],
   "source": [
    "df_test"
   ]
  },
  {
   "cell_type": "code",
   "execution_count": 34,
   "metadata": {},
   "outputs": [],
   "source": [
    "encoder = OrdinalEncoder(handle_unknown='use_encoded_value',unknown_value = -1) #Порядковое кодирование для моделей RandomForest и DecisionTree\n",
    "encoder.fit(df) \n",
    "df_ohe = pd.DataFrame(encoder.transform(df),columns=df.columns) \n",
    "df_ohe_test = pd.DataFrame(encoder.transform(df_test),columns=df_test.columns)\n",
    "\n",
    "df_lin_ohe = pd.get_dummies(df, drop_first=True) #Прямое кодирование для модели LinearRegression\n",
    "df_lin_ohe_test = pd.get_dummies(df_test, drop_first=True)"
   ]
  },
  {
   "cell_type": "code",
   "execution_count": 35,
   "metadata": {},
   "outputs": [
    {
     "data": {
      "text/plain": [
       "0.0    39203\n",
       "1.0    24118\n",
       "Name: is_canceled, dtype: int64"
      ]
     },
     "execution_count": 35,
     "metadata": {},
     "output_type": "execute_result"
    }
   ],
   "source": [
    "df_ohe['is_canceled'].value_counts()"
   ]
  },
  {
   "cell_type": "markdown",
   "metadata": {},
   "source": [
    "Дизбаланс у итоговой цели не большой, его можно оставить таким"
   ]
  },
  {
   "cell_type": "code",
   "execution_count": 36,
   "metadata": {
    "scrolled": true
   },
   "outputs": [
    {
     "data": {
      "text/html": [
       "<div>\n",
       "<style scoped>\n",
       "    .dataframe tbody tr th:only-of-type {\n",
       "        vertical-align: middle;\n",
       "    }\n",
       "\n",
       "    .dataframe tbody tr th {\n",
       "        vertical-align: top;\n",
       "    }\n",
       "\n",
       "    .dataframe thead th {\n",
       "        text-align: right;\n",
       "    }\n",
       "</style>\n",
       "<table border=\"1\" class=\"dataframe\">\n",
       "  <thead>\n",
       "    <tr style=\"text-align: right;\">\n",
       "      <th></th>\n",
       "      <th>id</th>\n",
       "      <th>is_canceled</th>\n",
       "      <th>lead_time</th>\n",
       "      <th>arrival_date_year</th>\n",
       "      <th>arrival_date_month</th>\n",
       "      <th>arrival_date_week_number</th>\n",
       "      <th>arrival_date_day_of_month</th>\n",
       "      <th>stays_in_weekend_nights</th>\n",
       "      <th>stays_in_week_nights</th>\n",
       "      <th>adults</th>\n",
       "      <th>...</th>\n",
       "      <th>days_in_waiting_list</th>\n",
       "      <th>customer_type</th>\n",
       "      <th>required_car_parking_spaces</th>\n",
       "      <th>total_of_special_requests</th>\n",
       "      <th>total_nights</th>\n",
       "      <th>room_cost</th>\n",
       "      <th>season_cost</th>\n",
       "      <th>service</th>\n",
       "      <th>total</th>\n",
       "      <th>total_with_canceled</th>\n",
       "    </tr>\n",
       "  </thead>\n",
       "  <tbody>\n",
       "    <tr>\n",
       "      <th>0</th>\n",
       "      <td>-1.0</td>\n",
       "      <td>1.0</td>\n",
       "      <td>342.0</td>\n",
       "      <td>-1.0</td>\n",
       "      <td>5.0</td>\n",
       "      <td>26.0</td>\n",
       "      <td>1.0</td>\n",
       "      <td>2.0</td>\n",
       "      <td>2.0</td>\n",
       "      <td>1.0</td>\n",
       "      <td>...</td>\n",
       "      <td>0.0</td>\n",
       "      <td>2.0</td>\n",
       "      <td>0.0</td>\n",
       "      <td>0.0</td>\n",
       "      <td>3.0</td>\n",
       "      <td>2.0</td>\n",
       "      <td>10.0</td>\n",
       "      <td>0.0</td>\n",
       "      <td>65.0</td>\n",
       "      <td>10.0</td>\n",
       "    </tr>\n",
       "    <tr>\n",
       "      <th>1</th>\n",
       "      <td>-1.0</td>\n",
       "      <td>1.0</td>\n",
       "      <td>29.0</td>\n",
       "      <td>-1.0</td>\n",
       "      <td>4.0</td>\n",
       "      <td>2.0</td>\n",
       "      <td>15.0</td>\n",
       "      <td>2.0</td>\n",
       "      <td>5.0</td>\n",
       "      <td>1.0</td>\n",
       "      <td>...</td>\n",
       "      <td>0.0</td>\n",
       "      <td>2.0</td>\n",
       "      <td>0.0</td>\n",
       "      <td>1.0</td>\n",
       "      <td>6.0</td>\n",
       "      <td>6.0</td>\n",
       "      <td>16.0</td>\n",
       "      <td>2.0</td>\n",
       "      <td>119.0</td>\n",
       "      <td>3.0</td>\n",
       "    </tr>\n",
       "    <tr>\n",
       "      <th>2</th>\n",
       "      <td>-1.0</td>\n",
       "      <td>1.0</td>\n",
       "      <td>173.0</td>\n",
       "      <td>-1.0</td>\n",
       "      <td>6.0</td>\n",
       "      <td>23.0</td>\n",
       "      <td>10.0</td>\n",
       "      <td>2.0</td>\n",
       "      <td>3.0</td>\n",
       "      <td>1.0</td>\n",
       "      <td>...</td>\n",
       "      <td>0.0</td>\n",
       "      <td>2.0</td>\n",
       "      <td>0.0</td>\n",
       "      <td>0.0</td>\n",
       "      <td>4.0</td>\n",
       "      <td>2.0</td>\n",
       "      <td>10.0</td>\n",
       "      <td>0.0</td>\n",
       "      <td>80.0</td>\n",
       "      <td>10.0</td>\n",
       "    </tr>\n",
       "    <tr>\n",
       "      <th>3</th>\n",
       "      <td>-1.0</td>\n",
       "      <td>1.0</td>\n",
       "      <td>138.0</td>\n",
       "      <td>-1.0</td>\n",
       "      <td>6.0</td>\n",
       "      <td>25.0</td>\n",
       "      <td>26.0</td>\n",
       "      <td>0.0</td>\n",
       "      <td>3.0</td>\n",
       "      <td>1.0</td>\n",
       "      <td>...</td>\n",
       "      <td>0.0</td>\n",
       "      <td>2.0</td>\n",
       "      <td>0.0</td>\n",
       "      <td>0.0</td>\n",
       "      <td>2.0</td>\n",
       "      <td>6.0</td>\n",
       "      <td>19.0</td>\n",
       "      <td>2.0</td>\n",
       "      <td>92.0</td>\n",
       "      <td>0.0</td>\n",
       "    </tr>\n",
       "    <tr>\n",
       "      <th>4</th>\n",
       "      <td>-1.0</td>\n",
       "      <td>1.0</td>\n",
       "      <td>73.0</td>\n",
       "      <td>-1.0</td>\n",
       "      <td>0.0</td>\n",
       "      <td>14.0</td>\n",
       "      <td>14.0</td>\n",
       "      <td>2.0</td>\n",
       "      <td>1.0</td>\n",
       "      <td>0.0</td>\n",
       "      <td>...</td>\n",
       "      <td>0.0</td>\n",
       "      <td>2.0</td>\n",
       "      <td>0.0</td>\n",
       "      <td>0.0</td>\n",
       "      <td>2.0</td>\n",
       "      <td>3.0</td>\n",
       "      <td>9.0</td>\n",
       "      <td>0.0</td>\n",
       "      <td>42.0</td>\n",
       "      <td>11.0</td>\n",
       "    </tr>\n",
       "    <tr>\n",
       "      <th>...</th>\n",
       "      <td>...</td>\n",
       "      <td>...</td>\n",
       "      <td>...</td>\n",
       "      <td>...</td>\n",
       "      <td>...</td>\n",
       "      <td>...</td>\n",
       "      <td>...</td>\n",
       "      <td>...</td>\n",
       "      <td>...</td>\n",
       "      <td>...</td>\n",
       "      <td>...</td>\n",
       "      <td>...</td>\n",
       "      <td>...</td>\n",
       "      <td>...</td>\n",
       "      <td>...</td>\n",
       "      <td>...</td>\n",
       "      <td>...</td>\n",
       "      <td>...</td>\n",
       "      <td>...</td>\n",
       "      <td>...</td>\n",
       "      <td>...</td>\n",
       "    </tr>\n",
       "    <tr>\n",
       "      <th>32407</th>\n",
       "      <td>-1.0</td>\n",
       "      <td>0.0</td>\n",
       "      <td>27.0</td>\n",
       "      <td>-1.0</td>\n",
       "      <td>3.0</td>\n",
       "      <td>5.0</td>\n",
       "      <td>4.0</td>\n",
       "      <td>2.0</td>\n",
       "      <td>2.0</td>\n",
       "      <td>0.0</td>\n",
       "      <td>...</td>\n",
       "      <td>0.0</td>\n",
       "      <td>2.0</td>\n",
       "      <td>0.0</td>\n",
       "      <td>1.0</td>\n",
       "      <td>3.0</td>\n",
       "      <td>6.0</td>\n",
       "      <td>16.0</td>\n",
       "      <td>2.0</td>\n",
       "      <td>94.0</td>\n",
       "      <td>115.0</td>\n",
       "    </tr>\n",
       "    <tr>\n",
       "      <th>32408</th>\n",
       "      <td>-1.0</td>\n",
       "      <td>0.0</td>\n",
       "      <td>134.0</td>\n",
       "      <td>-1.0</td>\n",
       "      <td>0.0</td>\n",
       "      <td>14.0</td>\n",
       "      <td>12.0</td>\n",
       "      <td>0.0</td>\n",
       "      <td>3.0</td>\n",
       "      <td>1.0</td>\n",
       "      <td>...</td>\n",
       "      <td>0.0</td>\n",
       "      <td>3.0</td>\n",
       "      <td>0.0</td>\n",
       "      <td>1.0</td>\n",
       "      <td>2.0</td>\n",
       "      <td>6.0</td>\n",
       "      <td>18.0</td>\n",
       "      <td>2.0</td>\n",
       "      <td>81.0</td>\n",
       "      <td>102.0</td>\n",
       "    </tr>\n",
       "    <tr>\n",
       "      <th>32409</th>\n",
       "      <td>-1.0</td>\n",
       "      <td>0.0</td>\n",
       "      <td>174.0</td>\n",
       "      <td>-1.0</td>\n",
       "      <td>1.0</td>\n",
       "      <td>33.0</td>\n",
       "      <td>19.0</td>\n",
       "      <td>2.0</td>\n",
       "      <td>5.0</td>\n",
       "      <td>1.0</td>\n",
       "      <td>...</td>\n",
       "      <td>0.0</td>\n",
       "      <td>3.0</td>\n",
       "      <td>0.0</td>\n",
       "      <td>0.0</td>\n",
       "      <td>6.0</td>\n",
       "      <td>6.0</td>\n",
       "      <td>19.0</td>\n",
       "      <td>2.0</td>\n",
       "      <td>123.0</td>\n",
       "      <td>144.0</td>\n",
       "    </tr>\n",
       "    <tr>\n",
       "      <th>32410</th>\n",
       "      <td>-1.0</td>\n",
       "      <td>1.0</td>\n",
       "      <td>135.0</td>\n",
       "      <td>-1.0</td>\n",
       "      <td>0.0</td>\n",
       "      <td>15.0</td>\n",
       "      <td>20.0</td>\n",
       "      <td>1.0</td>\n",
       "      <td>2.0</td>\n",
       "      <td>1.0</td>\n",
       "      <td>...</td>\n",
       "      <td>0.0</td>\n",
       "      <td>2.0</td>\n",
       "      <td>0.0</td>\n",
       "      <td>0.0</td>\n",
       "      <td>2.0</td>\n",
       "      <td>2.0</td>\n",
       "      <td>7.0</td>\n",
       "      <td>0.0</td>\n",
       "      <td>37.0</td>\n",
       "      <td>13.0</td>\n",
       "    </tr>\n",
       "    <tr>\n",
       "      <th>32411</th>\n",
       "      <td>-1.0</td>\n",
       "      <td>0.0</td>\n",
       "      <td>0.0</td>\n",
       "      <td>-1.0</td>\n",
       "      <td>3.0</td>\n",
       "      <td>7.0</td>\n",
       "      <td>23.0</td>\n",
       "      <td>1.0</td>\n",
       "      <td>2.0</td>\n",
       "      <td>1.0</td>\n",
       "      <td>...</td>\n",
       "      <td>0.0</td>\n",
       "      <td>2.0</td>\n",
       "      <td>0.0</td>\n",
       "      <td>1.0</td>\n",
       "      <td>2.0</td>\n",
       "      <td>6.0</td>\n",
       "      <td>16.0</td>\n",
       "      <td>2.0</td>\n",
       "      <td>71.0</td>\n",
       "      <td>92.0</td>\n",
       "    </tr>\n",
       "  </tbody>\n",
       "</table>\n",
       "<p>32412 rows × 30 columns</p>\n",
       "</div>"
      ],
      "text/plain": [
       "        id  is_canceled  lead_time  arrival_date_year  arrival_date_month  \\\n",
       "0     -1.0          1.0      342.0               -1.0                 5.0   \n",
       "1     -1.0          1.0       29.0               -1.0                 4.0   \n",
       "2     -1.0          1.0      173.0               -1.0                 6.0   \n",
       "3     -1.0          1.0      138.0               -1.0                 6.0   \n",
       "4     -1.0          1.0       73.0               -1.0                 0.0   \n",
       "...    ...          ...        ...                ...                 ...   \n",
       "32407 -1.0          0.0       27.0               -1.0                 3.0   \n",
       "32408 -1.0          0.0      134.0               -1.0                 0.0   \n",
       "32409 -1.0          0.0      174.0               -1.0                 1.0   \n",
       "32410 -1.0          1.0      135.0               -1.0                 0.0   \n",
       "32411 -1.0          0.0        0.0               -1.0                 3.0   \n",
       "\n",
       "       arrival_date_week_number  arrival_date_day_of_month  \\\n",
       "0                          26.0                        1.0   \n",
       "1                           2.0                       15.0   \n",
       "2                          23.0                       10.0   \n",
       "3                          25.0                       26.0   \n",
       "4                          14.0                       14.0   \n",
       "...                         ...                        ...   \n",
       "32407                       5.0                        4.0   \n",
       "32408                      14.0                       12.0   \n",
       "32409                      33.0                       19.0   \n",
       "32410                      15.0                       20.0   \n",
       "32411                       7.0                       23.0   \n",
       "\n",
       "       stays_in_weekend_nights  stays_in_week_nights  adults  ...  \\\n",
       "0                          2.0                   2.0     1.0  ...   \n",
       "1                          2.0                   5.0     1.0  ...   \n",
       "2                          2.0                   3.0     1.0  ...   \n",
       "3                          0.0                   3.0     1.0  ...   \n",
       "4                          2.0                   1.0     0.0  ...   \n",
       "...                        ...                   ...     ...  ...   \n",
       "32407                      2.0                   2.0     0.0  ...   \n",
       "32408                      0.0                   3.0     1.0  ...   \n",
       "32409                      2.0                   5.0     1.0  ...   \n",
       "32410                      1.0                   2.0     1.0  ...   \n",
       "32411                      1.0                   2.0     1.0  ...   \n",
       "\n",
       "       days_in_waiting_list  customer_type  required_car_parking_spaces  \\\n",
       "0                       0.0            2.0                          0.0   \n",
       "1                       0.0            2.0                          0.0   \n",
       "2                       0.0            2.0                          0.0   \n",
       "3                       0.0            2.0                          0.0   \n",
       "4                       0.0            2.0                          0.0   \n",
       "...                     ...            ...                          ...   \n",
       "32407                   0.0            2.0                          0.0   \n",
       "32408                   0.0            3.0                          0.0   \n",
       "32409                   0.0            3.0                          0.0   \n",
       "32410                   0.0            2.0                          0.0   \n",
       "32411                   0.0            2.0                          0.0   \n",
       "\n",
       "       total_of_special_requests  total_nights  room_cost  season_cost  \\\n",
       "0                            0.0           3.0        2.0         10.0   \n",
       "1                            1.0           6.0        6.0         16.0   \n",
       "2                            0.0           4.0        2.0         10.0   \n",
       "3                            0.0           2.0        6.0         19.0   \n",
       "4                            0.0           2.0        3.0          9.0   \n",
       "...                          ...           ...        ...          ...   \n",
       "32407                        1.0           3.0        6.0         16.0   \n",
       "32408                        1.0           2.0        6.0         18.0   \n",
       "32409                        0.0           6.0        6.0         19.0   \n",
       "32410                        0.0           2.0        2.0          7.0   \n",
       "32411                        1.0           2.0        6.0         16.0   \n",
       "\n",
       "       service  total  total_with_canceled  \n",
       "0          0.0   65.0                 10.0  \n",
       "1          2.0  119.0                  3.0  \n",
       "2          0.0   80.0                 10.0  \n",
       "3          2.0   92.0                  0.0  \n",
       "4          0.0   42.0                 11.0  \n",
       "...        ...    ...                  ...  \n",
       "32407      2.0   94.0                115.0  \n",
       "32408      2.0   81.0                102.0  \n",
       "32409      2.0  123.0                144.0  \n",
       "32410      0.0   37.0                 13.0  \n",
       "32411      2.0   71.0                 92.0  \n",
       "\n",
       "[32412 rows x 30 columns]"
      ]
     },
     "execution_count": 36,
     "metadata": {},
     "output_type": "execute_result"
    }
   ],
   "source": [
    "df_ohe_test"
   ]
  },
  {
   "cell_type": "code",
   "execution_count": 37,
   "metadata": {},
   "outputs": [],
   "source": [
    "features = df_ohe.drop(['id','total_with_canceled','is_canceled','arrival_date_year'],axis=1) #Выделение датафрейма с признаками, убираем цель (is_canceled),\n",
    "features_test = df_ohe_test.drop(['id','total_with_canceled','is_canceled','arrival_date_year'],axis=1)#столбец с информацией о итоговой сумме уплаты или потерь компании\n",
    "                                                                  #id пользователя и года бронирования\n",
    "target = df_ohe['is_canceled']\n",
    "target_test = df_ohe_test['is_canceled']\n",
    "\n",
    "#Тоже самое для прямого кодирования\n",
    "features_lin = df_lin_ohe.drop(['id','total_with_canceled','is_canceled','arrival_date_year'],axis=1) #Выделение датафрейма с признаками, убираем цель (is_canceled),\n",
    "features_test_lin = df_lin_ohe_test.drop(['id','total_with_canceled','is_canceled','arrival_date_year'],axis=1)#столбец с информацией о итоговой сумме уплаты или потерь компании\n",
    "                                                                  #id пользователя и года бронирования\n",
    "target_lin = df_lin_ohe['is_canceled']\n",
    "target_test_lin = df_lin_ohe_test['is_canceled']"
   ]
  },
  {
   "cell_type": "markdown",
   "metadata": {},
   "source": [
    "Теперь можно приступать к обучению моделей методом кросс-валидации. Рассматривать степень \"успешности\" модели мы будем на метрике f1 (так как нам нужно чтобы как можно у большего количетсва потенциально \"ненадежных\" клиентов мы запросили депозит, но при этом не запрашивали у \"надежных\" клиентов)"
   ]
  },
  {
   "cell_type": "code",
   "execution_count": 38,
   "metadata": {},
   "outputs": [],
   "source": [
    "best_depth_tree = -100\n",
    "best_depth_forest = -100\n",
    "best_est = -100\n",
    "best_score_tree=-100\n",
    "best_score_forest = -100\n",
    "best_score_regression = -100\n",
    "best_model_tree = None\n",
    "best_model_forest = None\n",
    "best_model_regression = None"
   ]
  },
  {
   "cell_type": "code",
   "execution_count": 39,
   "metadata": {},
   "outputs": [
    {
     "name": "stdout",
     "output_type": "stream",
     "text": [
      "Fitting 6 folds for each of 29 candidates, totalling 174 fits\n"
     ]
    },
    {
     "data": {
      "text/plain": [
       "GridSearchCV(cv=6,\n",
       "             estimator=DecisionTreeClassifier(class_weight='balanced',\n",
       "                                              random_state=12345),\n",
       "             n_jobs=-1, param_grid={'max_depth': range(1, 30)}, scoring='f1',\n",
       "             verbose=True)"
      ]
     },
     "execution_count": 39,
     "metadata": {},
     "output_type": "execute_result"
    }
   ],
   "source": [
    "tree_model = DecisionTreeClassifier(random_state=12345,class_weight='balanced')\n",
    "tree_params = {'max_depth': range(1,30)}\n",
    "tree_grid = GridSearchCV(tree_model, tree_params, cv=6,n_jobs=-1,verbose=True,scoring='f1')\n",
    "tree_grid.fit(features,target)"
   ]
  },
  {
   "cell_type": "code",
   "execution_count": 40,
   "metadata": {},
   "outputs": [
    {
     "name": "stdout",
     "output_type": "stream",
     "text": [
      "Лучшая модель дерева показала результат: 0.8123673579451268  при глубине дерева = {'max_depth': 23}\n"
     ]
    }
   ],
   "source": [
    "print('Лучшая модель дерева показала результат:',tree_grid.best_score_,' при глубине дерева =', tree_grid.best_params_)"
   ]
  },
  {
   "cell_type": "code",
   "execution_count": 41,
   "metadata": {},
   "outputs": [
    {
     "name": "stdout",
     "output_type": "stream",
     "text": [
      "Fitting 6 folds for each of 400 candidates, totalling 2400 fits\n",
      "Лучшая модель леса показала результат: 0.8496098886785632  при глубине дерева и количестве деревьев = {'max_depth': 26, 'n_estimators': 25}\n"
     ]
    }
   ],
   "source": [
    "forest_model = RandomForestClassifier(random_state=12345,class_weight='balanced')\n",
    "forest_params = {'max_depth': range(10,30), 'n_estimators': range(10,30)}\n",
    "forest_grid = GridSearchCV(forest_model, forest_params, cv=6,n_jobs=-1,verbose=True,scoring='f1')\n",
    "forest_grid.fit(features,target)\n",
    "print('Лучшая модель леса показала результат:',forest_grid.best_score_,' при глубине дерева и количестве деревьев =',\n",
    "      forest_grid.best_params_)"
   ]
  },
  {
   "cell_type": "code",
   "execution_count": 42,
   "metadata": {
    "scrolled": true
   },
   "outputs": [
    {
     "name": "stdout",
     "output_type": "stream",
     "text": [
      "Лучший результат модели регрессии 0.7329113241975783\n"
     ]
    }
   ],
   "source": [
    "best_model_regression = LogisticRegression(random_state=12345, class_weight='balanced',solver='liblinear')\n",
    "scores = cross_val_score(best_model_regression,features_lin,target_lin,cv=6, scoring='f1')\n",
    "best_score_regression = scores.mean()\n",
    "print('Лучший результат модели регрессии',best_score_regression)"
   ]
  },
  {
   "cell_type": "markdown",
   "metadata": {},
   "source": [
    "По итогу лучше всего себя показала модель RandomForestClassifier c глубиной 26 и 25 деревьями\n"
   ]
  },
  {
   "cell_type": "code",
   "execution_count": 43,
   "metadata": {},
   "outputs": [
    {
     "name": "stdout",
     "output_type": "stream",
     "text": [
      "Значение f1 метрики на тестовой выборке 0.5488586817132598\n",
      "Значения roc_auc на тестовой выборке 0.6732524921011842\n"
     ]
    }
   ],
   "source": [
    "predictions = forest_grid.predict(features_test)\n",
    "f1 = f1_score(target_test,predictions)\n",
    "auc = roc_auc_score(target_test,predictions)\n",
    "print('Значение f1 метрики на тестовой выборке',f1)\n",
    "print('Значения roc_auc на тестовой выборке',auc)"
   ]
  },
  {
   "cell_type": "code",
   "execution_count": 44,
   "metadata": {
    "scrolled": true
   },
   "outputs": [
    {
     "name": "stdout",
     "output_type": "stream",
     "text": [
      "Значение AUC-ROC: 0.7789478380148186\n"
     ]
    },
    {
     "data": {
      "image/png": "[encoded data removed]",
      "text/plain": [
       "<Figure size 432x288 with 1 Axes>"
      ]
     },
     "metadata": {
      "needs_background": "light"
     },
     "output_type": "display_data"
    }
   ],
   "source": [
    "roc(forest_grid,features_test,target_test)"
   ]
  },
  {
   "cell_type": "code",
   "execution_count": 45,
   "metadata": {},
   "outputs": [],
   "source": [
    "df_test['predictions'] = predictions\n",
    "df_test['total_with_depos'] = -10000000000\n",
    "for i in range(len(df_test)):\n",
    "    if df_test['predictions'][i]>0:\n",
    "        if df_test['total_with_canceled'][i]<0:\n",
    "            df_test['total_with_depos'][i] = df_test['total_with_canceled'][i]+df_test['service'][i]+df_test['season_cost'][i]*0.8\n",
    "        else:\n",
    "            df_test['total_with_depos'][i] = df_test['total_with_canceled'][i]\n",
    "    else:\n",
    "        df_test['total_with_depos'][i] = df_test['total_with_canceled'][i]"
   ]
  },
  {
   "cell_type": "code",
   "execution_count": 46,
   "metadata": {
    "scrolled": true
   },
   "outputs": [
    {
     "data": {
      "text/html": [
       "<div>\n",
       "<style scoped>\n",
       "    .dataframe tbody tr th:only-of-type {\n",
       "        vertical-align: middle;\n",
       "    }\n",
       "\n",
       "    .dataframe tbody tr th {\n",
       "        vertical-align: top;\n",
       "    }\n",
       "\n",
       "    .dataframe thead th {\n",
       "        text-align: right;\n",
       "    }\n",
       "</style>\n",
       "<table border=\"1\" class=\"dataframe\">\n",
       "  <thead>\n",
       "    <tr style=\"text-align: right;\">\n",
       "      <th></th>\n",
       "      <th>id</th>\n",
       "      <th>is_canceled</th>\n",
       "      <th>lead_time</th>\n",
       "      <th>arrival_date_year</th>\n",
       "      <th>arrival_date_month</th>\n",
       "      <th>arrival_date_week_number</th>\n",
       "      <th>arrival_date_day_of_month</th>\n",
       "      <th>stays_in_weekend_nights</th>\n",
       "      <th>stays_in_week_nights</th>\n",
       "      <th>adults</th>\n",
       "      <th>...</th>\n",
       "      <th>required_car_parking_spaces</th>\n",
       "      <th>total_of_special_requests</th>\n",
       "      <th>total_nights</th>\n",
       "      <th>room_cost</th>\n",
       "      <th>season_cost</th>\n",
       "      <th>service</th>\n",
       "      <th>total</th>\n",
       "      <th>total_with_canceled</th>\n",
       "      <th>predictions</th>\n",
       "      <th>total_with_depos</th>\n",
       "    </tr>\n",
       "  </thead>\n",
       "  <tbody>\n",
       "    <tr>\n",
       "      <th>16130</th>\n",
       "      <td>53319</td>\n",
       "      <td>1</td>\n",
       "      <td>343</td>\n",
       "      <td>2017</td>\n",
       "      <td>July</td>\n",
       "      <td>27</td>\n",
       "      <td>2</td>\n",
       "      <td>2</td>\n",
       "      <td>2</td>\n",
       "      <td>2</td>\n",
       "      <td>...</td>\n",
       "      <td>0</td>\n",
       "      <td>0</td>\n",
       "      <td>4</td>\n",
       "      <td>500</td>\n",
       "      <td>700</td>\n",
       "      <td>150</td>\n",
       "      <td>3100</td>\n",
       "      <td>-850</td>\n",
       "      <td>0.0</td>\n",
       "      <td>-850</td>\n",
       "    </tr>\n",
       "    <tr>\n",
       "      <th>8160</th>\n",
       "      <td>45349</td>\n",
       "      <td>1</td>\n",
       "      <td>29</td>\n",
       "      <td>2017</td>\n",
       "      <td>January</td>\n",
       "      <td>3</td>\n",
       "      <td>16</td>\n",
       "      <td>2</td>\n",
       "      <td>5</td>\n",
       "      <td>2</td>\n",
       "      <td>...</td>\n",
       "      <td>0</td>\n",
       "      <td>1</td>\n",
       "      <td>7</td>\n",
       "      <td>1000</td>\n",
       "      <td>1000</td>\n",
       "      <td>400</td>\n",
       "      <td>8600</td>\n",
       "      <td>-1400</td>\n",
       "      <td>1.0</td>\n",
       "      <td>-200</td>\n",
       "    </tr>\n",
       "    <tr>\n",
       "      <th>15097</th>\n",
       "      <td>52286</td>\n",
       "      <td>1</td>\n",
       "      <td>173</td>\n",
       "      <td>2017</td>\n",
       "      <td>June</td>\n",
       "      <td>24</td>\n",
       "      <td>11</td>\n",
       "      <td>2</td>\n",
       "      <td>3</td>\n",
       "      <td>2</td>\n",
       "      <td>...</td>\n",
       "      <td>0</td>\n",
       "      <td>0</td>\n",
       "      <td>5</td>\n",
       "      <td>500</td>\n",
       "      <td>700</td>\n",
       "      <td>150</td>\n",
       "      <td>3950</td>\n",
       "      <td>-850</td>\n",
       "      <td>1.0</td>\n",
       "      <td>-140</td>\n",
       "    </tr>\n",
       "    <tr>\n",
       "      <th>15841</th>\n",
       "      <td>53030</td>\n",
       "      <td>1</td>\n",
       "      <td>138</td>\n",
       "      <td>2017</td>\n",
       "      <td>June</td>\n",
       "      <td>26</td>\n",
       "      <td>27</td>\n",
       "      <td>0</td>\n",
       "      <td>3</td>\n",
       "      <td>2</td>\n",
       "      <td>...</td>\n",
       "      <td>0</td>\n",
       "      <td>0</td>\n",
       "      <td>3</td>\n",
       "      <td>1000</td>\n",
       "      <td>1400</td>\n",
       "      <td>400</td>\n",
       "      <td>4600</td>\n",
       "      <td>-1800</td>\n",
       "      <td>1.0</td>\n",
       "      <td>-280</td>\n",
       "    </tr>\n",
       "    <tr>\n",
       "      <th>836</th>\n",
       "      <td>6937</td>\n",
       "      <td>1</td>\n",
       "      <td>73</td>\n",
       "      <td>2017</td>\n",
       "      <td>April</td>\n",
       "      <td>15</td>\n",
       "      <td>15</td>\n",
       "      <td>2</td>\n",
       "      <td>1</td>\n",
       "      <td>1</td>\n",
       "      <td>...</td>\n",
       "      <td>0</td>\n",
       "      <td>0</td>\n",
       "      <td>3</td>\n",
       "      <td>550</td>\n",
       "      <td>660</td>\n",
       "      <td>150</td>\n",
       "      <td>2130</td>\n",
       "      <td>-810</td>\n",
       "      <td>0.0</td>\n",
       "      <td>-810</td>\n",
       "    </tr>\n",
       "    <tr>\n",
       "      <th>...</th>\n",
       "      <td>...</td>\n",
       "      <td>...</td>\n",
       "      <td>...</td>\n",
       "      <td>...</td>\n",
       "      <td>...</td>\n",
       "      <td>...</td>\n",
       "      <td>...</td>\n",
       "      <td>...</td>\n",
       "      <td>...</td>\n",
       "      <td>...</td>\n",
       "      <td>...</td>\n",
       "      <td>...</td>\n",
       "      <td>...</td>\n",
       "      <td>...</td>\n",
       "      <td>...</td>\n",
       "      <td>...</td>\n",
       "      <td>...</td>\n",
       "      <td>...</td>\n",
       "      <td>...</td>\n",
       "      <td>...</td>\n",
       "      <td>...</td>\n",
       "    </tr>\n",
       "    <tr>\n",
       "      <th>19876</th>\n",
       "      <td>85368</td>\n",
       "      <td>0</td>\n",
       "      <td>27</td>\n",
       "      <td>2017</td>\n",
       "      <td>February</td>\n",
       "      <td>6</td>\n",
       "      <td>5</td>\n",
       "      <td>2</td>\n",
       "      <td>2</td>\n",
       "      <td>1</td>\n",
       "      <td>...</td>\n",
       "      <td>0</td>\n",
       "      <td>1</td>\n",
       "      <td>4</td>\n",
       "      <td>1000</td>\n",
       "      <td>1000</td>\n",
       "      <td>400</td>\n",
       "      <td>4800</td>\n",
       "      <td>4800</td>\n",
       "      <td>0.0</td>\n",
       "      <td>4800</td>\n",
       "    </tr>\n",
       "    <tr>\n",
       "      <th>2177</th>\n",
       "      <td>8359</td>\n",
       "      <td>0</td>\n",
       "      <td>134</td>\n",
       "      <td>2017</td>\n",
       "      <td>April</td>\n",
       "      <td>15</td>\n",
       "      <td>13</td>\n",
       "      <td>0</td>\n",
       "      <td>3</td>\n",
       "      <td>2</td>\n",
       "      <td>...</td>\n",
       "      <td>0</td>\n",
       "      <td>1</td>\n",
       "      <td>3</td>\n",
       "      <td>1000</td>\n",
       "      <td>1200</td>\n",
       "      <td>400</td>\n",
       "      <td>4000</td>\n",
       "      <td>4000</td>\n",
       "      <td>0.0</td>\n",
       "      <td>4000</td>\n",
       "    </tr>\n",
       "    <tr>\n",
       "      <th>32029</th>\n",
       "      <td>97521</td>\n",
       "      <td>0</td>\n",
       "      <td>174</td>\n",
       "      <td>2017</td>\n",
       "      <td>August</td>\n",
       "      <td>34</td>\n",
       "      <td>20</td>\n",
       "      <td>2</td>\n",
       "      <td>5</td>\n",
       "      <td>2</td>\n",
       "      <td>...</td>\n",
       "      <td>0</td>\n",
       "      <td>0</td>\n",
       "      <td>7</td>\n",
       "      <td>1000</td>\n",
       "      <td>1400</td>\n",
       "      <td>400</td>\n",
       "      <td>11400</td>\n",
       "      <td>11400</td>\n",
       "      <td>0.0</td>\n",
       "      <td>11400</td>\n",
       "    </tr>\n",
       "    <tr>\n",
       "      <th>11749</th>\n",
       "      <td>48938</td>\n",
       "      <td>1</td>\n",
       "      <td>135</td>\n",
       "      <td>2017</td>\n",
       "      <td>April</td>\n",
       "      <td>16</td>\n",
       "      <td>21</td>\n",
       "      <td>1</td>\n",
       "      <td>2</td>\n",
       "      <td>2</td>\n",
       "      <td>...</td>\n",
       "      <td>0</td>\n",
       "      <td>0</td>\n",
       "      <td>3</td>\n",
       "      <td>500</td>\n",
       "      <td>600</td>\n",
       "      <td>150</td>\n",
       "      <td>1950</td>\n",
       "      <td>-750</td>\n",
       "      <td>1.0</td>\n",
       "      <td>-120</td>\n",
       "    </tr>\n",
       "    <tr>\n",
       "      <th>20962</th>\n",
       "      <td>86454</td>\n",
       "      <td>0</td>\n",
       "      <td>0</td>\n",
       "      <td>2017</td>\n",
       "      <td>February</td>\n",
       "      <td>8</td>\n",
       "      <td>24</td>\n",
       "      <td>1</td>\n",
       "      <td>2</td>\n",
       "      <td>2</td>\n",
       "      <td>...</td>\n",
       "      <td>0</td>\n",
       "      <td>1</td>\n",
       "      <td>3</td>\n",
       "      <td>1000</td>\n",
       "      <td>1000</td>\n",
       "      <td>400</td>\n",
       "      <td>3400</td>\n",
       "      <td>3400</td>\n",
       "      <td>0.0</td>\n",
       "      <td>3400</td>\n",
       "    </tr>\n",
       "  </tbody>\n",
       "</table>\n",
       "<p>32412 rows × 32 columns</p>\n",
       "</div>"
      ],
      "text/plain": [
       "          id  is_canceled  lead_time  arrival_date_year arrival_date_month  \\\n",
       "16130  53319            1        343               2017               July   \n",
       "8160   45349            1         29               2017            January   \n",
       "15097  52286            1        173               2017               June   \n",
       "15841  53030            1        138               2017               June   \n",
       "836     6937            1         73               2017              April   \n",
       "...      ...          ...        ...                ...                ...   \n",
       "19876  85368            0         27               2017           February   \n",
       "2177    8359            0        134               2017              April   \n",
       "32029  97521            0        174               2017             August   \n",
       "11749  48938            1        135               2017              April   \n",
       "20962  86454            0          0               2017           February   \n",
       "\n",
       "       arrival_date_week_number  arrival_date_day_of_month  \\\n",
       "16130                        27                          2   \n",
       "8160                          3                         16   \n",
       "15097                        24                         11   \n",
       "15841                        26                         27   \n",
       "836                          15                         15   \n",
       "...                         ...                        ...   \n",
       "19876                         6                          5   \n",
       "2177                         15                         13   \n",
       "32029                        34                         20   \n",
       "11749                        16                         21   \n",
       "20962                         8                         24   \n",
       "\n",
       "       stays_in_weekend_nights  stays_in_week_nights  adults  ...  \\\n",
       "16130                        2                     2       2  ...   \n",
       "8160                         2                     5       2  ...   \n",
       "15097                        2                     3       2  ...   \n",
       "15841                        0                     3       2  ...   \n",
       "836                          2                     1       1  ...   \n",
       "...                        ...                   ...     ...  ...   \n",
       "19876                        2                     2       1  ...   \n",
       "2177                         0                     3       2  ...   \n",
       "32029                        2                     5       2  ...   \n",
       "11749                        1                     2       2  ...   \n",
       "20962                        1                     2       2  ...   \n",
       "\n",
       "       required_car_parking_spaces  total_of_special_requests total_nights  \\\n",
       "16130                            0                          0            4   \n",
       "8160                             0                          1            7   \n",
       "15097                            0                          0            5   \n",
       "15841                            0                          0            3   \n",
       "836                              0                          0            3   \n",
       "...                            ...                        ...          ...   \n",
       "19876                            0                          1            4   \n",
       "2177                             0                          1            3   \n",
       "32029                            0                          0            7   \n",
       "11749                            0                          0            3   \n",
       "20962                            0                          1            3   \n",
       "\n",
       "      room_cost season_cost  service  total  total_with_canceled predictions  \\\n",
       "16130       500         700      150   3100                 -850         0.0   \n",
       "8160       1000        1000      400   8600                -1400         1.0   \n",
       "15097       500         700      150   3950                 -850         1.0   \n",
       "15841      1000        1400      400   4600                -1800         1.0   \n",
       "836         550         660      150   2130                 -810         0.0   \n",
       "...         ...         ...      ...    ...                  ...         ...   \n",
       "19876      1000        1000      400   4800                 4800         0.0   \n",
       "2177       1000        1200      400   4000                 4000         0.0   \n",
       "32029      1000        1400      400  11400                11400         0.0   \n",
       "11749       500         600      150   1950                 -750         1.0   \n",
       "20962      1000        1000      400   3400                 3400         0.0   \n",
       "\n",
       "       total_with_depos  \n",
       "16130              -850  \n",
       "8160               -200  \n",
       "15097              -140  \n",
       "15841              -280  \n",
       "836                -810  \n",
       "...                 ...  \n",
       "19876              4800  \n",
       "2177               4000  \n",
       "32029             11400  \n",
       "11749              -120  \n",
       "20962              3400  \n",
       "\n",
       "[32412 rows x 32 columns]"
      ]
     },
     "execution_count": 46,
     "metadata": {},
     "output_type": "execute_result"
    }
   ],
   "source": [
    "df_test"
   ]
  },
  {
   "cell_type": "code",
   "execution_count": 47,
   "metadata": {},
   "outputs": [
    {
     "data": {
      "text/plain": [
       "5802332"
      ]
     },
     "execution_count": 47,
     "metadata": {},
     "output_type": "execute_result"
    }
   ],
   "source": [
    "df_test['total_with_depos'].sum()-df_test['total_with_canceled'].sum()-400000"
   ]
  },
  {
   "cell_type": "markdown",
   "metadata": {},
   "source": [
    "Данная модель отобьет затраты на разработку и принесет прибыль 5 802 332"
   ]
  },
  {
   "cell_type": "markdown",
   "metadata": {},
   "source": [
    "### Описание портрета «ненадёжного» клиента"
   ]
  },
  {
   "cell_type": "code",
   "execution_count": 48,
   "metadata": {
    "scrolled": true
   },
   "outputs": [
    {
     "data": {
      "text/html": [
       "<div>\n",
       "<style scoped>\n",
       "    .dataframe tbody tr th:only-of-type {\n",
       "        vertical-align: middle;\n",
       "    }\n",
       "\n",
       "    .dataframe tbody tr th {\n",
       "        vertical-align: top;\n",
       "    }\n",
       "\n",
       "    .dataframe thead th {\n",
       "        text-align: right;\n",
       "    }\n",
       "</style>\n",
       "<table border=\"1\" class=\"dataframe\">\n",
       "  <thead>\n",
       "    <tr style=\"text-align: right;\">\n",
       "      <th></th>\n",
       "      <th>id</th>\n",
       "      <th>is_canceled</th>\n",
       "      <th>lead_time</th>\n",
       "      <th>arrival_date_year</th>\n",
       "      <th>arrival_date_week_number</th>\n",
       "      <th>arrival_date_day_of_month</th>\n",
       "      <th>stays_in_weekend_nights</th>\n",
       "      <th>stays_in_week_nights</th>\n",
       "      <th>adults</th>\n",
       "      <th>children</th>\n",
       "      <th>...</th>\n",
       "      <th>booking_changes</th>\n",
       "      <th>days_in_waiting_list</th>\n",
       "      <th>required_car_parking_spaces</th>\n",
       "      <th>total_of_special_requests</th>\n",
       "      <th>total_nights</th>\n",
       "      <th>room_cost</th>\n",
       "      <th>season_cost</th>\n",
       "      <th>service</th>\n",
       "      <th>total</th>\n",
       "      <th>total_with_canceled</th>\n",
       "    </tr>\n",
       "  </thead>\n",
       "  <tbody>\n",
       "    <tr>\n",
       "      <th>id</th>\n",
       "      <td>1.000000</td>\n",
       "      <td>-0.218479</td>\n",
       "      <td>0.024508</td>\n",
       "      <td>0.229890</td>\n",
       "      <td>0.004856</td>\n",
       "      <td>-0.006897</td>\n",
       "      <td>-0.091055</td>\n",
       "      <td>-0.157118</td>\n",
       "      <td>0.004521</td>\n",
       "      <td>-0.005388</td>\n",
       "      <td>...</td>\n",
       "      <td>-0.000893</td>\n",
       "      <td>-0.016311</td>\n",
       "      <td>-0.114008</td>\n",
       "      <td>0.112981</td>\n",
       "      <td>-0.170016</td>\n",
       "      <td>0.110419</td>\n",
       "      <td>0.139841</td>\n",
       "      <td>0.093664</td>\n",
       "      <td>-0.099087</td>\n",
       "      <td>0.132606</td>\n",
       "    </tr>\n",
       "    <tr>\n",
       "      <th>is_canceled</th>\n",
       "      <td>-0.218479</td>\n",
       "      <td>1.000000</td>\n",
       "      <td>0.331154</td>\n",
       "      <td>-0.014314</td>\n",
       "      <td>0.045496</td>\n",
       "      <td>0.004880</td>\n",
       "      <td>-0.010243</td>\n",
       "      <td>0.018344</td>\n",
       "      <td>0.046663</td>\n",
       "      <td>-0.011652</td>\n",
       "      <td>...</td>\n",
       "      <td>-0.164435</td>\n",
       "      <td>0.070957</td>\n",
       "      <td>-0.193311</td>\n",
       "      <td>-0.255790</td>\n",
       "      <td>0.009415</td>\n",
       "      <td>0.082947</td>\n",
       "      <td>0.080886</td>\n",
       "      <td>0.080250</td>\n",
       "      <td>0.035586</td>\n",
       "      <td>-0.812573</td>\n",
       "    </tr>\n",
       "    <tr>\n",
       "      <th>lead_time</th>\n",
       "      <td>0.024508</td>\n",
       "      <td>0.331154</td>\n",
       "      <td>1.000000</td>\n",
       "      <td>-0.022700</td>\n",
       "      <td>0.106831</td>\n",
       "      <td>-0.010718</td>\n",
       "      <td>0.045253</td>\n",
       "      <td>0.175548</td>\n",
       "      <td>0.126955</td>\n",
       "      <td>-0.057176</td>\n",
       "      <td>...</td>\n",
       "      <td>-0.025022</td>\n",
       "      <td>0.216975</td>\n",
       "      <td>-0.124288</td>\n",
       "      <td>-0.149037</td>\n",
       "      <td>0.161725</td>\n",
       "      <td>0.137726</td>\n",
       "      <td>0.217362</td>\n",
       "      <td>0.134941</td>\n",
       "      <td>0.221785</td>\n",
       "      <td>-0.166427</td>\n",
       "    </tr>\n",
       "    <tr>\n",
       "      <th>arrival_date_year</th>\n",
       "      <td>0.229890</td>\n",
       "      <td>-0.014314</td>\n",
       "      <td>-0.022700</td>\n",
       "      <td>1.000000</td>\n",
       "      <td>-0.429581</td>\n",
       "      <td>0.004524</td>\n",
       "      <td>-0.008900</td>\n",
       "      <td>0.013161</td>\n",
       "      <td>0.034213</td>\n",
       "      <td>0.049635</td>\n",
       "      <td>...</td>\n",
       "      <td>0.030824</td>\n",
       "      <td>0.032106</td>\n",
       "      <td>0.018398</td>\n",
       "      <td>0.083766</td>\n",
       "      <td>0.005980</td>\n",
       "      <td>-0.109999</td>\n",
       "      <td>-0.119432</td>\n",
       "      <td>-0.114609</td>\n",
       "      <td>-0.046151</td>\n",
       "      <td>-0.004048</td>\n",
       "    </tr>\n",
       "    <tr>\n",
       "      <th>arrival_date_week_number</th>\n",
       "      <td>0.004856</td>\n",
       "      <td>0.045496</td>\n",
       "      <td>0.106831</td>\n",
       "      <td>-0.429581</td>\n",
       "      <td>1.000000</td>\n",
       "      <td>0.034869</td>\n",
       "      <td>0.036448</td>\n",
       "      <td>0.037325</td>\n",
       "      <td>0.003127</td>\n",
       "      <td>-0.012984</td>\n",
       "      <td>...</td>\n",
       "      <td>-0.002143</td>\n",
       "      <td>-0.045390</td>\n",
       "      <td>-0.003910</td>\n",
       "      <td>0.064377</td>\n",
       "      <td>0.047795</td>\n",
       "      <td>0.006528</td>\n",
       "      <td>0.030790</td>\n",
       "      <td>0.005589</td>\n",
       "      <td>0.050955</td>\n",
       "      <td>-0.010109</td>\n",
       "    </tr>\n",
       "    <tr>\n",
       "      <th>arrival_date_day_of_month</th>\n",
       "      <td>-0.006897</td>\n",
       "      <td>0.004880</td>\n",
       "      <td>-0.010718</td>\n",
       "      <td>0.004524</td>\n",
       "      <td>0.034869</td>\n",
       "      <td>1.000000</td>\n",
       "      <td>-0.002908</td>\n",
       "      <td>0.005429</td>\n",
       "      <td>0.007518</td>\n",
       "      <td>0.017260</td>\n",
       "      <td>...</td>\n",
       "      <td>0.014856</td>\n",
       "      <td>0.018308</td>\n",
       "      <td>0.004137</td>\n",
       "      <td>0.002355</td>\n",
       "      <td>0.002848</td>\n",
       "      <td>-0.020667</td>\n",
       "      <td>-0.023019</td>\n",
       "      <td>-0.019663</td>\n",
       "      <td>-0.008376</td>\n",
       "      <td>-0.004774</td>\n",
       "    </tr>\n",
       "    <tr>\n",
       "      <th>stays_in_weekend_nights</th>\n",
       "      <td>-0.091055</td>\n",
       "      <td>-0.010243</td>\n",
       "      <td>0.045253</td>\n",
       "      <td>-0.008900</td>\n",
       "      <td>0.036448</td>\n",
       "      <td>-0.002908</td>\n",
       "      <td>1.000000</td>\n",
       "      <td>0.154306</td>\n",
       "      <td>0.129449</td>\n",
       "      <td>0.028442</td>\n",
       "      <td>...</td>\n",
       "      <td>0.022618</td>\n",
       "      <td>-0.062715</td>\n",
       "      <td>-0.017086</td>\n",
       "      <td>0.080004</td>\n",
       "      <td>0.622138</td>\n",
       "      <td>-0.103713</td>\n",
       "      <td>-0.080185</td>\n",
       "      <td>-0.102810</td>\n",
       "      <td>0.531365</td>\n",
       "      <td>0.256661</td>\n",
       "    </tr>\n",
       "    <tr>\n",
       "      <th>stays_in_week_nights</th>\n",
       "      <td>-0.157118</td>\n",
       "      <td>0.018344</td>\n",
       "      <td>0.175548</td>\n",
       "      <td>0.013161</td>\n",
       "      <td>0.037325</td>\n",
       "      <td>0.005429</td>\n",
       "      <td>0.154306</td>\n",
       "      <td>1.000000</td>\n",
       "      <td>0.126124</td>\n",
       "      <td>0.025205</td>\n",
       "      <td>...</td>\n",
       "      <td>0.043878</td>\n",
       "      <td>0.044542</td>\n",
       "      <td>-0.033562</td>\n",
       "      <td>0.084032</td>\n",
       "      <td>0.869530</td>\n",
       "      <td>-0.156123</td>\n",
       "      <td>-0.114765</td>\n",
       "      <td>-0.157683</td>\n",
       "      <td>0.737239</td>\n",
       "      <td>0.342458</td>\n",
       "    </tr>\n",
       "    <tr>\n",
       "      <th>adults</th>\n",
       "      <td>0.004521</td>\n",
       "      <td>0.046663</td>\n",
       "      <td>0.126955</td>\n",
       "      <td>0.034213</td>\n",
       "      <td>0.003127</td>\n",
       "      <td>0.007518</td>\n",
       "      <td>0.129449</td>\n",
       "      <td>0.126124</td>\n",
       "      <td>1.000000</td>\n",
       "      <td>0.051080</td>\n",
       "      <td>...</td>\n",
       "      <td>-0.073790</td>\n",
       "      <td>-0.015547</td>\n",
       "      <td>0.011212</td>\n",
       "      <td>0.179450</td>\n",
       "      <td>0.164648</td>\n",
       "      <td>-0.234488</td>\n",
       "      <td>-0.161122</td>\n",
       "      <td>-0.237595</td>\n",
       "      <td>0.072748</td>\n",
       "      <td>0.018638</td>\n",
       "    </tr>\n",
       "    <tr>\n",
       "      <th>children</th>\n",
       "      <td>-0.005388</td>\n",
       "      <td>-0.011652</td>\n",
       "      <td>-0.057176</td>\n",
       "      <td>0.049635</td>\n",
       "      <td>-0.012984</td>\n",
       "      <td>0.017260</td>\n",
       "      <td>0.028442</td>\n",
       "      <td>0.025205</td>\n",
       "      <td>0.051080</td>\n",
       "      <td>1.000000</td>\n",
       "      <td>...</td>\n",
       "      <td>0.045225</td>\n",
       "      <td>-0.038240</td>\n",
       "      <td>0.055938</td>\n",
       "      <td>0.103900</td>\n",
       "      <td>0.034189</td>\n",
       "      <td>-0.272341</td>\n",
       "      <td>-0.229956</td>\n",
       "      <td>-0.200103</td>\n",
       "      <td>-0.068237</td>\n",
       "      <td>-0.011526</td>\n",
       "    </tr>\n",
       "    <tr>\n",
       "      <th>babies</th>\n",
       "      <td>-0.030784</td>\n",
       "      <td>-0.033509</td>\n",
       "      <td>-0.028035</td>\n",
       "      <td>-0.010588</td>\n",
       "      <td>0.007912</td>\n",
       "      <td>0.001284</td>\n",
       "      <td>0.021999</td>\n",
       "      <td>0.022515</td>\n",
       "      <td>0.027557</td>\n",
       "      <td>0.020367</td>\n",
       "      <td>...</td>\n",
       "      <td>0.098141</td>\n",
       "      <td>-0.015228</td>\n",
       "      <td>0.033355</td>\n",
       "      <td>0.117581</td>\n",
       "      <td>0.028838</td>\n",
       "      <td>-0.036661</td>\n",
       "      <td>-0.030385</td>\n",
       "      <td>-0.031104</td>\n",
       "      <td>0.017095</td>\n",
       "      <td>0.037481</td>\n",
       "    </tr>\n",
       "    <tr>\n",
       "      <th>is_repeated_guest</th>\n",
       "      <td>0.009015</td>\n",
       "      <td>-0.045510</td>\n",
       "      <td>-0.093539</td>\n",
       "      <td>-0.003338</td>\n",
       "      <td>-0.008487</td>\n",
       "      <td>-0.008923</td>\n",
       "      <td>-0.083888</td>\n",
       "      <td>-0.097406</td>\n",
       "      <td>-0.165529</td>\n",
       "      <td>-0.027150</td>\n",
       "      <td>...</td>\n",
       "      <td>0.013660</td>\n",
       "      <td>-0.029659</td>\n",
       "      <td>0.061325</td>\n",
       "      <td>-0.027249</td>\n",
       "      <td>-0.119117</td>\n",
       "      <td>0.044344</td>\n",
       "      <td>0.016257</td>\n",
       "      <td>0.044569</td>\n",
       "      <td>-0.099399</td>\n",
       "      <td>-0.023172</td>\n",
       "    </tr>\n",
       "    <tr>\n",
       "      <th>previous_cancellations</th>\n",
       "      <td>0.001282</td>\n",
       "      <td>0.150861</td>\n",
       "      <td>0.145441</td>\n",
       "      <td>-0.132814</td>\n",
       "      <td>0.012906</td>\n",
       "      <td>-0.031263</td>\n",
       "      <td>-0.007099</td>\n",
       "      <td>-0.004598</td>\n",
       "      <td>0.002296</td>\n",
       "      <td>-0.026884</td>\n",
       "      <td>...</td>\n",
       "      <td>-0.038402</td>\n",
       "      <td>0.003216</td>\n",
       "      <td>-0.027241</td>\n",
       "      <td>-0.067126</td>\n",
       "      <td>-0.007192</td>\n",
       "      <td>0.059632</td>\n",
       "      <td>0.050230</td>\n",
       "      <td>0.059143</td>\n",
       "      <td>0.018067</td>\n",
       "      <td>-0.131696</td>\n",
       "    </tr>\n",
       "    <tr>\n",
       "      <th>previous_bookings_not_canceled</th>\n",
       "      <td>0.020792</td>\n",
       "      <td>-0.047961</td>\n",
       "      <td>-0.063399</td>\n",
       "      <td>0.042065</td>\n",
       "      <td>-0.009808</td>\n",
       "      <td>0.000102</td>\n",
       "      <td>-0.027499</td>\n",
       "      <td>-0.052689</td>\n",
       "      <td>-0.121201</td>\n",
       "      <td>-0.015171</td>\n",
       "      <td>...</td>\n",
       "      <td>0.016606</td>\n",
       "      <td>-0.010602</td>\n",
       "      <td>0.034318</td>\n",
       "      <td>0.008587</td>\n",
       "      <td>-0.055497</td>\n",
       "      <td>0.020032</td>\n",
       "      <td>0.005275</td>\n",
       "      <td>0.020036</td>\n",
       "      <td>-0.047102</td>\n",
       "      <td>0.010201</td>\n",
       "    </tr>\n",
       "    <tr>\n",
       "      <th>booking_changes</th>\n",
       "      <td>-0.000893</td>\n",
       "      <td>-0.164435</td>\n",
       "      <td>-0.025022</td>\n",
       "      <td>0.030824</td>\n",
       "      <td>-0.002143</td>\n",
       "      <td>0.014856</td>\n",
       "      <td>0.022618</td>\n",
       "      <td>0.043878</td>\n",
       "      <td>-0.073790</td>\n",
       "      <td>0.045225</td>\n",
       "      <td>...</td>\n",
       "      <td>1.000000</td>\n",
       "      <td>-0.010741</td>\n",
       "      <td>0.066939</td>\n",
       "      <td>0.033856</td>\n",
       "      <td>0.046075</td>\n",
       "      <td>-0.022405</td>\n",
       "      <td>-0.023960</td>\n",
       "      <td>-0.012769</td>\n",
       "      <td>0.034314</td>\n",
       "      <td>0.158984</td>\n",
       "    </tr>\n",
       "    <tr>\n",
       "      <th>days_in_waiting_list</th>\n",
       "      <td>-0.016311</td>\n",
       "      <td>0.070957</td>\n",
       "      <td>0.216975</td>\n",
       "      <td>0.032106</td>\n",
       "      <td>-0.045390</td>\n",
       "      <td>0.018308</td>\n",
       "      <td>-0.062715</td>\n",
       "      <td>0.044542</td>\n",
       "      <td>-0.015547</td>\n",
       "      <td>-0.038240</td>\n",
       "      <td>...</td>\n",
       "      <td>-0.010741</td>\n",
       "      <td>1.000000</td>\n",
       "      <td>-0.045794</td>\n",
       "      <td>-0.106668</td>\n",
       "      <td>0.003946</td>\n",
       "      <td>0.086763</td>\n",
       "      <td>0.057000</td>\n",
       "      <td>0.085894</td>\n",
       "      <td>0.025047</td>\n",
       "      <td>-0.050803</td>\n",
       "    </tr>\n",
       "    <tr>\n",
       "      <th>required_car_parking_spaces</th>\n",
       "      <td>-0.114008</td>\n",
       "      <td>-0.193311</td>\n",
       "      <td>-0.124288</td>\n",
       "      <td>0.018398</td>\n",
       "      <td>-0.003910</td>\n",
       "      <td>0.004137</td>\n",
       "      <td>-0.017086</td>\n",
       "      <td>-0.033562</td>\n",
       "      <td>0.011212</td>\n",
       "      <td>0.055938</td>\n",
       "      <td>...</td>\n",
       "      <td>0.066939</td>\n",
       "      <td>-0.045794</td>\n",
       "      <td>1.000000</td>\n",
       "      <td>0.086643</td>\n",
       "      <td>-0.035135</td>\n",
       "      <td>-0.115013</td>\n",
       "      <td>-0.109063</td>\n",
       "      <td>-0.100825</td>\n",
       "      <td>-0.071936</td>\n",
       "      <td>0.110387</td>\n",
       "    </tr>\n",
       "    <tr>\n",
       "      <th>total_of_special_requests</th>\n",
       "      <td>0.112981</td>\n",
       "      <td>-0.255790</td>\n",
       "      <td>-0.149037</td>\n",
       "      <td>0.083766</td>\n",
       "      <td>0.064377</td>\n",
       "      <td>0.002355</td>\n",
       "      <td>0.080004</td>\n",
       "      <td>0.084032</td>\n",
       "      <td>0.179450</td>\n",
       "      <td>0.103900</td>\n",
       "      <td>...</td>\n",
       "      <td>0.033856</td>\n",
       "      <td>-0.106668</td>\n",
       "      <td>0.086643</td>\n",
       "      <td>1.000000</td>\n",
       "      <td>0.106578</td>\n",
       "      <td>-0.165209</td>\n",
       "      <td>-0.134042</td>\n",
       "      <td>-0.167558</td>\n",
       "      <td>0.044223</td>\n",
       "      <td>0.236911</td>\n",
       "    </tr>\n",
       "    <tr>\n",
       "      <th>total_nights</th>\n",
       "      <td>-0.170016</td>\n",
       "      <td>0.009415</td>\n",
       "      <td>0.161725</td>\n",
       "      <td>0.005980</td>\n",
       "      <td>0.047795</td>\n",
       "      <td>0.002848</td>\n",
       "      <td>0.622138</td>\n",
       "      <td>0.869530</td>\n",
       "      <td>0.164648</td>\n",
       "      <td>0.034189</td>\n",
       "      <td>...</td>\n",
       "      <td>0.046075</td>\n",
       "      <td>0.003946</td>\n",
       "      <td>-0.035135</td>\n",
       "      <td>0.106578</td>\n",
       "      <td>1.000000</td>\n",
       "      <td>-0.175554</td>\n",
       "      <td>-0.131022</td>\n",
       "      <td>-0.176339</td>\n",
       "      <td>0.849799</td>\n",
       "      <td>0.399659</td>\n",
       "    </tr>\n",
       "    <tr>\n",
       "      <th>room_cost</th>\n",
       "      <td>0.110419</td>\n",
       "      <td>0.082947</td>\n",
       "      <td>0.137726</td>\n",
       "      <td>-0.109999</td>\n",
       "      <td>0.006528</td>\n",
       "      <td>-0.020667</td>\n",
       "      <td>-0.103713</td>\n",
       "      <td>-0.156123</td>\n",
       "      <td>-0.234488</td>\n",
       "      <td>-0.272341</td>\n",
       "      <td>...</td>\n",
       "      <td>-0.022405</td>\n",
       "      <td>0.086763</td>\n",
       "      <td>-0.115013</td>\n",
       "      <td>-0.165209</td>\n",
       "      <td>-0.175554</td>\n",
       "      <td>1.000000</td>\n",
       "      <td>0.899126</td>\n",
       "      <td>0.987664</td>\n",
       "      <td>0.277720</td>\n",
       "      <td>0.033163</td>\n",
       "    </tr>\n",
       "    <tr>\n",
       "      <th>season_cost</th>\n",
       "      <td>0.139841</td>\n",
       "      <td>0.080886</td>\n",
       "      <td>0.217362</td>\n",
       "      <td>-0.119432</td>\n",
       "      <td>0.030790</td>\n",
       "      <td>-0.023019</td>\n",
       "      <td>-0.080185</td>\n",
       "      <td>-0.114765</td>\n",
       "      <td>-0.161122</td>\n",
       "      <td>-0.229956</td>\n",
       "      <td>...</td>\n",
       "      <td>-0.023960</td>\n",
       "      <td>0.057000</td>\n",
       "      <td>-0.109063</td>\n",
       "      <td>-0.134042</td>\n",
       "      <td>-0.131022</td>\n",
       "      <td>0.899126</td>\n",
       "      <td>1.000000</td>\n",
       "      <td>0.887659</td>\n",
       "      <td>0.341945</td>\n",
       "      <td>0.060815</td>\n",
       "    </tr>\n",
       "    <tr>\n",
       "      <th>service</th>\n",
       "      <td>0.093664</td>\n",
       "      <td>0.080250</td>\n",
       "      <td>0.134941</td>\n",
       "      <td>-0.114609</td>\n",
       "      <td>0.005589</td>\n",
       "      <td>-0.019663</td>\n",
       "      <td>-0.102810</td>\n",
       "      <td>-0.157683</td>\n",
       "      <td>-0.237595</td>\n",
       "      <td>-0.200103</td>\n",
       "      <td>...</td>\n",
       "      <td>-0.012769</td>\n",
       "      <td>0.085894</td>\n",
       "      <td>-0.100825</td>\n",
       "      <td>-0.167558</td>\n",
       "      <td>-0.176339</td>\n",
       "      <td>0.987664</td>\n",
       "      <td>0.887659</td>\n",
       "      <td>1.000000</td>\n",
       "      <td>0.273875</td>\n",
       "      <td>0.032906</td>\n",
       "    </tr>\n",
       "    <tr>\n",
       "      <th>total</th>\n",
       "      <td>-0.099087</td>\n",
       "      <td>0.035586</td>\n",
       "      <td>0.221785</td>\n",
       "      <td>-0.046151</td>\n",
       "      <td>0.050955</td>\n",
       "      <td>-0.008376</td>\n",
       "      <td>0.531365</td>\n",
       "      <td>0.737239</td>\n",
       "      <td>0.072748</td>\n",
       "      <td>-0.068237</td>\n",
       "      <td>...</td>\n",
       "      <td>0.034314</td>\n",
       "      <td>0.025047</td>\n",
       "      <td>-0.071936</td>\n",
       "      <td>0.044223</td>\n",
       "      <td>0.849799</td>\n",
       "      <td>0.277720</td>\n",
       "      <td>0.341945</td>\n",
       "      <td>0.273875</td>\n",
       "      <td>1.000000</td>\n",
       "      <td>0.425948</td>\n",
       "    </tr>\n",
       "    <tr>\n",
       "      <th>total_with_canceled</th>\n",
       "      <td>0.132606</td>\n",
       "      <td>-0.812573</td>\n",
       "      <td>-0.166427</td>\n",
       "      <td>-0.004048</td>\n",
       "      <td>-0.010109</td>\n",
       "      <td>-0.004774</td>\n",
       "      <td>0.256661</td>\n",
       "      <td>0.342458</td>\n",
       "      <td>0.018638</td>\n",
       "      <td>-0.011526</td>\n",
       "      <td>...</td>\n",
       "      <td>0.158984</td>\n",
       "      <td>-0.050803</td>\n",
       "      <td>0.110387</td>\n",
       "      <td>0.236911</td>\n",
       "      <td>0.399659</td>\n",
       "      <td>0.033163</td>\n",
       "      <td>0.060815</td>\n",
       "      <td>0.032906</td>\n",
       "      <td>0.425948</td>\n",
       "      <td>1.000000</td>\n",
       "    </tr>\n",
       "  </tbody>\n",
       "</table>\n",
       "<p>24 rows × 24 columns</p>\n",
       "</div>"
      ],
      "text/plain": [
       "                                      id  is_canceled  lead_time  \\\n",
       "id                              1.000000    -0.218479   0.024508   \n",
       "is_canceled                    -0.218479     1.000000   0.331154   \n",
       "lead_time                       0.024508     0.331154   1.000000   \n",
       "arrival_date_year               0.229890    -0.014314  -0.022700   \n",
       "arrival_date_week_number        0.004856     0.045496   0.106831   \n",
       "arrival_date_day_of_month      -0.006897     0.004880  -0.010718   \n",
       "stays_in_weekend_nights        -0.091055    -0.010243   0.045253   \n",
       "stays_in_week_nights           -0.157118     0.018344   0.175548   \n",
       "adults                          0.004521     0.046663   0.126955   \n",
       "children                       -0.005388    -0.011652  -0.057176   \n",
       "babies                         -0.030784    -0.033509  -0.028035   \n",
       "is_repeated_guest               0.009015    -0.045510  -0.093539   \n",
       "previous_cancellations          0.001282     0.150861   0.145441   \n",
       "previous_bookings_not_canceled  0.020792    -0.047961  -0.063399   \n",
       "booking_changes                -0.000893    -0.164435  -0.025022   \n",
       "days_in_waiting_list           -0.016311     0.070957   0.216975   \n",
       "required_car_parking_spaces    -0.114008    -0.193311  -0.124288   \n",
       "total_of_special_requests       0.112981    -0.255790  -0.149037   \n",
       "total_nights                   -0.170016     0.009415   0.161725   \n",
       "room_cost                       0.110419     0.082947   0.137726   \n",
       "season_cost                     0.139841     0.080886   0.217362   \n",
       "service                         0.093664     0.080250   0.134941   \n",
       "total                          -0.099087     0.035586   0.221785   \n",
       "total_with_canceled             0.132606    -0.812573  -0.166427   \n",
       "\n",
       "                                arrival_date_year  arrival_date_week_number  \\\n",
       "id                                       0.229890                  0.004856   \n",
       "is_canceled                             -0.014314                  0.045496   \n",
       "lead_time                               -0.022700                  0.106831   \n",
       "arrival_date_year                        1.000000                 -0.429581   \n",
       "arrival_date_week_number                -0.429581                  1.000000   \n",
       "arrival_date_day_of_month                0.004524                  0.034869   \n",
       "stays_in_weekend_nights                 -0.008900                  0.036448   \n",
       "stays_in_week_nights                     0.013161                  0.037325   \n",
       "adults                                   0.034213                  0.003127   \n",
       "children                                 0.049635                 -0.012984   \n",
       "babies                                  -0.010588                  0.007912   \n",
       "is_repeated_guest                       -0.003338                 -0.008487   \n",
       "previous_cancellations                  -0.132814                  0.012906   \n",
       "previous_bookings_not_canceled           0.042065                 -0.009808   \n",
       "booking_changes                          0.030824                 -0.002143   \n",
       "days_in_waiting_list                     0.032106                 -0.045390   \n",
       "required_car_parking_spaces              0.018398                 -0.003910   \n",
       "total_of_special_requests                0.083766                  0.064377   \n",
       "total_nights                             0.005980                  0.047795   \n",
       "room_cost                               -0.109999                  0.006528   \n",
       "season_cost                             -0.119432                  0.030790   \n",
       "service                                 -0.114609                  0.005589   \n",
       "total                                   -0.046151                  0.050955   \n",
       "total_with_canceled                     -0.004048                 -0.010109   \n",
       "\n",
       "                                arrival_date_day_of_month  \\\n",
       "id                                              -0.006897   \n",
       "is_canceled                                      0.004880   \n",
       "lead_time                                       -0.010718   \n",
       "arrival_date_year                                0.004524   \n",
       "arrival_date_week_number                         0.034869   \n",
       "arrival_date_day_of_month                        1.000000   \n",
       "stays_in_weekend_nights                         -0.002908   \n",
       "stays_in_week_nights                             0.005429   \n",
       "adults                                           0.007518   \n",
       "children                                         0.017260   \n",
       "babies                                           0.001284   \n",
       "is_repeated_guest                               -0.008923   \n",
       "previous_cancellations                          -0.031263   \n",
       "previous_bookings_not_canceled                   0.000102   \n",
       "booking_changes                                  0.014856   \n",
       "days_in_waiting_list                             0.018308   \n",
       "required_car_parking_spaces                      0.004137   \n",
       "total_of_special_requests                        0.002355   \n",
       "total_nights                                     0.002848   \n",
       "room_cost                                       -0.020667   \n",
       "season_cost                                     -0.023019   \n",
       "service                                         -0.019663   \n",
       "total                                           -0.008376   \n",
       "total_with_canceled                             -0.004774   \n",
       "\n",
       "                                stays_in_weekend_nights  stays_in_week_nights  \\\n",
       "id                                            -0.091055             -0.157118   \n",
       "is_canceled                                   -0.010243              0.018344   \n",
       "lead_time                                      0.045253              0.175548   \n",
       "arrival_date_year                             -0.008900              0.013161   \n",
       "arrival_date_week_number                       0.036448              0.037325   \n",
       "arrival_date_day_of_month                     -0.002908              0.005429   \n",
       "stays_in_weekend_nights                        1.000000              0.154306   \n",
       "stays_in_week_nights                           0.154306              1.000000   \n",
       "adults                                         0.129449              0.126124   \n",
       "children                                       0.028442              0.025205   \n",
       "babies                                         0.021999              0.022515   \n",
       "is_repeated_guest                             -0.083888             -0.097406   \n",
       "previous_cancellations                        -0.007099             -0.004598   \n",
       "previous_bookings_not_canceled                -0.027499             -0.052689   \n",
       "booking_changes                                0.022618              0.043878   \n",
       "days_in_waiting_list                          -0.062715              0.044542   \n",
       "required_car_parking_spaces                   -0.017086             -0.033562   \n",
       "total_of_special_requests                      0.080004              0.084032   \n",
       "total_nights                                   0.622138              0.869530   \n",
       "room_cost                                     -0.103713             -0.156123   \n",
       "season_cost                                   -0.080185             -0.114765   \n",
       "service                                       -0.102810             -0.157683   \n",
       "total                                          0.531365              0.737239   \n",
       "total_with_canceled                            0.256661              0.342458   \n",
       "\n",
       "                                  adults  children  ...  booking_changes  \\\n",
       "id                              0.004521 -0.005388  ...        -0.000893   \n",
       "is_canceled                     0.046663 -0.011652  ...        -0.164435   \n",
       "lead_time                       0.126955 -0.057176  ...        -0.025022   \n",
       "arrival_date_year               0.034213  0.049635  ...         0.030824   \n",
       "arrival_date_week_number        0.003127 -0.012984  ...        -0.002143   \n",
       "arrival_date_day_of_month       0.007518  0.017260  ...         0.014856   \n",
       "stays_in_weekend_nights         0.129449  0.028442  ...         0.022618   \n",
       "stays_in_week_nights            0.126124  0.025205  ...         0.043878   \n",
       "adults                          1.000000  0.051080  ...        -0.073790   \n",
       "children                        0.051080  1.000000  ...         0.045225   \n",
       "babies                          0.027557  0.020367  ...         0.098141   \n",
       "is_repeated_guest              -0.165529 -0.027150  ...         0.013660   \n",
       "previous_cancellations          0.002296 -0.026884  ...        -0.038402   \n",
       "previous_bookings_not_canceled -0.121201 -0.015171  ...         0.016606   \n",
       "booking_changes                -0.073790  0.045225  ...         1.000000   \n",
       "days_in_waiting_list           -0.015547 -0.038240  ...        -0.010741   \n",
       "required_car_parking_spaces     0.011212  0.055938  ...         0.066939   \n",
       "total_of_special_requests       0.179450  0.103900  ...         0.033856   \n",
       "total_nights                    0.164648  0.034189  ...         0.046075   \n",
       "room_cost                      -0.234488 -0.272341  ...        -0.022405   \n",
       "season_cost                    -0.161122 -0.229956  ...        -0.023960   \n",
       "service                        -0.237595 -0.200103  ...        -0.012769   \n",
       "total                           0.072748 -0.068237  ...         0.034314   \n",
       "total_with_canceled             0.018638 -0.011526  ...         0.158984   \n",
       "\n",
       "                                days_in_waiting_list  \\\n",
       "id                                         -0.016311   \n",
       "is_canceled                                 0.070957   \n",
       "lead_time                                   0.216975   \n",
       "arrival_date_year                           0.032106   \n",
       "arrival_date_week_number                   -0.045390   \n",
       "arrival_date_day_of_month                   0.018308   \n",
       "stays_in_weekend_nights                    -0.062715   \n",
       "stays_in_week_nights                        0.044542   \n",
       "adults                                     -0.015547   \n",
       "children                                   -0.038240   \n",
       "babies                                     -0.015228   \n",
       "is_repeated_guest                          -0.029659   \n",
       "previous_cancellations                      0.003216   \n",
       "previous_bookings_not_canceled             -0.010602   \n",
       "booking_changes                            -0.010741   \n",
       "days_in_waiting_list                        1.000000   \n",
       "required_car_parking_spaces                -0.045794   \n",
       "total_of_special_requests                  -0.106668   \n",
       "total_nights                                0.003946   \n",
       "room_cost                                   0.086763   \n",
       "season_cost                                 0.057000   \n",
       "service                                     0.085894   \n",
       "total                                       0.025047   \n",
       "total_with_canceled                        -0.050803   \n",
       "\n",
       "                                required_car_parking_spaces  \\\n",
       "id                                                -0.114008   \n",
       "is_canceled                                       -0.193311   \n",
       "lead_time                                         -0.124288   \n",
       "arrival_date_year                                  0.018398   \n",
       "arrival_date_week_number                          -0.003910   \n",
       "arrival_date_day_of_month                          0.004137   \n",
       "stays_in_weekend_nights                           -0.017086   \n",
       "stays_in_week_nights                              -0.033562   \n",
       "adults                                             0.011212   \n",
       "children                                           0.055938   \n",
       "babies                                             0.033355   \n",
       "is_repeated_guest                                  0.061325   \n",
       "previous_cancellations                            -0.027241   \n",
       "previous_bookings_not_canceled                     0.034318   \n",
       "booking_changes                                    0.066939   \n",
       "days_in_waiting_list                              -0.045794   \n",
       "required_car_parking_spaces                        1.000000   \n",
       "total_of_special_requests                          0.086643   \n",
       "total_nights                                      -0.035135   \n",
       "room_cost                                         -0.115013   \n",
       "season_cost                                       -0.109063   \n",
       "service                                           -0.100825   \n",
       "total                                             -0.071936   \n",
       "total_with_canceled                                0.110387   \n",
       "\n",
       "                                total_of_special_requests  total_nights  \\\n",
       "id                                               0.112981     -0.170016   \n",
       "is_canceled                                     -0.255790      0.009415   \n",
       "lead_time                                       -0.149037      0.161725   \n",
       "arrival_date_year                                0.083766      0.005980   \n",
       "arrival_date_week_number                         0.064377      0.047795   \n",
       "arrival_date_day_of_month                        0.002355      0.002848   \n",
       "stays_in_weekend_nights                          0.080004      0.622138   \n",
       "stays_in_week_nights                             0.084032      0.869530   \n",
       "adults                                           0.179450      0.164648   \n",
       "children                                         0.103900      0.034189   \n",
       "babies                                           0.117581      0.028838   \n",
       "is_repeated_guest                               -0.027249     -0.119117   \n",
       "previous_cancellations                          -0.067126     -0.007192   \n",
       "previous_bookings_not_canceled                   0.008587     -0.055497   \n",
       "booking_changes                                  0.033856      0.046075   \n",
       "days_in_waiting_list                            -0.106668      0.003946   \n",
       "required_car_parking_spaces                      0.086643     -0.035135   \n",
       "total_of_special_requests                        1.000000      0.106578   \n",
       "total_nights                                     0.106578      1.000000   \n",
       "room_cost                                       -0.165209     -0.175554   \n",
       "season_cost                                     -0.134042     -0.131022   \n",
       "service                                         -0.167558     -0.176339   \n",
       "total                                            0.044223      0.849799   \n",
       "total_with_canceled                              0.236911      0.399659   \n",
       "\n",
       "                                room_cost  season_cost   service     total  \\\n",
       "id                               0.110419     0.139841  0.093664 -0.099087   \n",
       "is_canceled                      0.082947     0.080886  0.080250  0.035586   \n",
       "lead_time                        0.137726     0.217362  0.134941  0.221785   \n",
       "arrival_date_year               -0.109999    -0.119432 -0.114609 -0.046151   \n",
       "arrival_date_week_number         0.006528     0.030790  0.005589  0.050955   \n",
       "arrival_date_day_of_month       -0.020667    -0.023019 -0.019663 -0.008376   \n",
       "stays_in_weekend_nights         -0.103713    -0.080185 -0.102810  0.531365   \n",
       "stays_in_week_nights            -0.156123    -0.114765 -0.157683  0.737239   \n",
       "adults                          -0.234488    -0.161122 -0.237595  0.072748   \n",
       "children                        -0.272341    -0.229956 -0.200103 -0.068237   \n",
       "babies                          -0.036661    -0.030385 -0.031104  0.017095   \n",
       "is_repeated_guest                0.044344     0.016257  0.044569 -0.099399   \n",
       "previous_cancellations           0.059632     0.050230  0.059143  0.018067   \n",
       "previous_bookings_not_canceled   0.020032     0.005275  0.020036 -0.047102   \n",
       "booking_changes                 -0.022405    -0.023960 -0.012769  0.034314   \n",
       "days_in_waiting_list             0.086763     0.057000  0.085894  0.025047   \n",
       "required_car_parking_spaces     -0.115013    -0.109063 -0.100825 -0.071936   \n",
       "total_of_special_requests       -0.165209    -0.134042 -0.167558  0.044223   \n",
       "total_nights                    -0.175554    -0.131022 -0.176339  0.849799   \n",
       "room_cost                        1.000000     0.899126  0.987664  0.277720   \n",
       "season_cost                      0.899126     1.000000  0.887659  0.341945   \n",
       "service                          0.987664     0.887659  1.000000  0.273875   \n",
       "total                            0.277720     0.341945  0.273875  1.000000   \n",
       "total_with_canceled              0.033163     0.060815  0.032906  0.425948   \n",
       "\n",
       "                                total_with_canceled  \n",
       "id                                         0.132606  \n",
       "is_canceled                               -0.812573  \n",
       "lead_time                                 -0.166427  \n",
       "arrival_date_year                         -0.004048  \n",
       "arrival_date_week_number                  -0.010109  \n",
       "arrival_date_day_of_month                 -0.004774  \n",
       "stays_in_weekend_nights                    0.256661  \n",
       "stays_in_week_nights                       0.342458  \n",
       "adults                                     0.018638  \n",
       "children                                  -0.011526  \n",
       "babies                                     0.037481  \n",
       "is_repeated_guest                         -0.023172  \n",
       "previous_cancellations                    -0.131696  \n",
       "previous_bookings_not_canceled             0.010201  \n",
       "booking_changes                            0.158984  \n",
       "days_in_waiting_list                      -0.050803  \n",
       "required_car_parking_spaces                0.110387  \n",
       "total_of_special_requests                  0.236911  \n",
       "total_nights                               0.399659  \n",
       "room_cost                                  0.033163  \n",
       "season_cost                                0.060815  \n",
       "service                                    0.032906  \n",
       "total                                      0.425948  \n",
       "total_with_canceled                        1.000000  \n",
       "\n",
       "[24 rows x 24 columns]"
      ]
     },
     "execution_count": 48,
     "metadata": {},
     "output_type": "execute_result"
    }
   ],
   "source": [
    "df.corr()"
   ]
  },
  {
   "cell_type": "code",
   "execution_count": 49,
   "metadata": {
    "scrolled": true
   },
   "outputs": [
    {
     "data": {
      "text/html": [
       "<div>\n",
       "<style scoped>\n",
       "    .dataframe tbody tr th:only-of-type {\n",
       "        vertical-align: middle;\n",
       "    }\n",
       "\n",
       "    .dataframe tbody tr th {\n",
       "        vertical-align: top;\n",
       "    }\n",
       "\n",
       "    .dataframe thead th {\n",
       "        text-align: right;\n",
       "    }\n",
       "</style>\n",
       "<table border=\"1\" class=\"dataframe\">\n",
       "  <thead>\n",
       "    <tr style=\"text-align: right;\">\n",
       "      <th></th>\n",
       "      <th>id</th>\n",
       "      <th>is_canceled</th>\n",
       "      <th>lead_time</th>\n",
       "      <th>arrival_date_year</th>\n",
       "      <th>arrival_date_week_number</th>\n",
       "      <th>arrival_date_day_of_month</th>\n",
       "      <th>stays_in_weekend_nights</th>\n",
       "      <th>stays_in_week_nights</th>\n",
       "      <th>adults</th>\n",
       "      <th>children</th>\n",
       "      <th>babies</th>\n",
       "      <th>is_repeated_guest</th>\n",
       "      <th>previous_cancellations</th>\n",
       "      <th>previous_bookings_not_canceled</th>\n",
       "      <th>booking_changes</th>\n",
       "      <th>days_in_waiting_list</th>\n",
       "      <th>required_car_parking_spaces</th>\n",
       "      <th>total_of_special_requests</th>\n",
       "      <th>total_nights</th>\n",
       "      <th>room_cost</th>\n",
       "      <th>season_cost</th>\n",
       "      <th>service</th>\n",
       "      <th>total</th>\n",
       "      <th>total_with_canceled</th>\n",
       "    </tr>\n",
       "  </thead>\n",
       "  <tbody>\n",
       "    <tr>\n",
       "      <th>count</th>\n",
       "      <td>24118.000000</td>\n",
       "      <td>24118.0</td>\n",
       "      <td>24118.000000</td>\n",
       "      <td>24118.000000</td>\n",
       "      <td>24118.000000</td>\n",
       "      <td>24118.000000</td>\n",
       "      <td>24118.000000</td>\n",
       "      <td>24118.000000</td>\n",
       "      <td>24118.000000</td>\n",
       "      <td>24118.000000</td>\n",
       "      <td>24118.000000</td>\n",
       "      <td>24118.000000</td>\n",
       "      <td>24118.000000</td>\n",
       "      <td>24118.000000</td>\n",
       "      <td>24118.000000</td>\n",
       "      <td>24118.000000</td>\n",
       "      <td>24118.0</td>\n",
       "      <td>24118.000000</td>\n",
       "      <td>24118.000000</td>\n",
       "      <td>24118.000000</td>\n",
       "      <td>24118.000000</td>\n",
       "      <td>24118.000000</td>\n",
       "      <td>24118.000000</td>\n",
       "      <td>24118.000000</td>\n",
       "    </tr>\n",
       "    <tr>\n",
       "      <th>mean</th>\n",
       "      <td>35377.305747</td>\n",
       "      <td>1.0</td>\n",
       "      <td>136.632266</td>\n",
       "      <td>2015.702214</td>\n",
       "      <td>31.538021</td>\n",
       "      <td>15.812381</td>\n",
       "      <td>0.798574</td>\n",
       "      <td>2.224645</td>\n",
       "      <td>1.870056</td>\n",
       "      <td>0.064972</td>\n",
       "      <td>0.003234</td>\n",
       "      <td>0.018244</td>\n",
       "      <td>0.323037</td>\n",
       "      <td>0.028858</td>\n",
       "      <td>0.064806</td>\n",
       "      <td>5.146695</td>\n",
       "      <td>0.0</td>\n",
       "      <td>0.258065</td>\n",
       "      <td>3.023219</td>\n",
       "      <td>916.328054</td>\n",
       "      <td>1123.306369</td>\n",
       "      <td>356.814412</td>\n",
       "      <td>3850.112198</td>\n",
       "      <td>-1480.122730</td>\n",
       "    </tr>\n",
       "    <tr>\n",
       "      <th>std</th>\n",
       "      <td>17555.197841</td>\n",
       "      <td>0.0</td>\n",
       "      <td>104.502879</td>\n",
       "      <td>0.457294</td>\n",
       "      <td>12.827378</td>\n",
       "      <td>8.723033</td>\n",
       "      <td>0.832426</td>\n",
       "      <td>1.247278</td>\n",
       "      <td>0.432093</td>\n",
       "      <td>0.317503</td>\n",
       "      <td>0.056778</td>\n",
       "      <td>0.133834</td>\n",
       "      <td>1.523927</td>\n",
       "      <td>0.816342</td>\n",
       "      <td>0.294924</td>\n",
       "      <td>20.739549</td>\n",
       "      <td>0.0</td>\n",
       "      <td>0.594853</td>\n",
       "      <td>1.568613</td>\n",
       "      <td>180.748745</td>\n",
       "      <td>251.495334</td>\n",
       "      <td>93.922716</td>\n",
       "      <td>2118.776058</td>\n",
       "      <td>336.317597</td>\n",
       "    </tr>\n",
       "    <tr>\n",
       "      <th>min</th>\n",
       "      <td>4.000000</td>\n",
       "      <td>1.0</td>\n",
       "      <td>0.000000</td>\n",
       "      <td>2015.000000</td>\n",
       "      <td>1.000000</td>\n",
       "      <td>1.000000</td>\n",
       "      <td>0.000000</td>\n",
       "      <td>0.000000</td>\n",
       "      <td>1.000000</td>\n",
       "      <td>0.000000</td>\n",
       "      <td>0.000000</td>\n",
       "      <td>0.000000</td>\n",
       "      <td>0.000000</td>\n",
       "      <td>0.000000</td>\n",
       "      <td>0.000000</td>\n",
       "      <td>0.000000</td>\n",
       "      <td>0.0</td>\n",
       "      <td>0.000000</td>\n",
       "      <td>1.000000</td>\n",
       "      <td>350.000000</td>\n",
       "      <td>350.000000</td>\n",
       "      <td>150.000000</td>\n",
       "      <td>500.000000</td>\n",
       "      <td>-1800.000000</td>\n",
       "    </tr>\n",
       "    <tr>\n",
       "      <th>25%</th>\n",
       "      <td>29356.250000</td>\n",
       "      <td>1.0</td>\n",
       "      <td>45.000000</td>\n",
       "      <td>2015.000000</td>\n",
       "      <td>21.000000</td>\n",
       "      <td>8.000000</td>\n",
       "      <td>0.000000</td>\n",
       "      <td>1.000000</td>\n",
       "      <td>2.000000</td>\n",
       "      <td>0.000000</td>\n",
       "      <td>0.000000</td>\n",
       "      <td>0.000000</td>\n",
       "      <td>0.000000</td>\n",
       "      <td>0.000000</td>\n",
       "      <td>0.000000</td>\n",
       "      <td>0.000000</td>\n",
       "      <td>0.0</td>\n",
       "      <td>0.000000</td>\n",
       "      <td>2.000000</td>\n",
       "      <td>1000.000000</td>\n",
       "      <td>1000.000000</td>\n",
       "      <td>400.000000</td>\n",
       "      <td>2590.000000</td>\n",
       "      <td>-1600.000000</td>\n",
       "    </tr>\n",
       "    <tr>\n",
       "      <th>50%</th>\n",
       "      <td>37543.500000</td>\n",
       "      <td>1.0</td>\n",
       "      <td>106.000000</td>\n",
       "      <td>2016.000000</td>\n",
       "      <td>34.000000</td>\n",
       "      <td>16.000000</td>\n",
       "      <td>1.000000</td>\n",
       "      <td>2.000000</td>\n",
       "      <td>2.000000</td>\n",
       "      <td>0.000000</td>\n",
       "      <td>0.000000</td>\n",
       "      <td>0.000000</td>\n",
       "      <td>0.000000</td>\n",
       "      <td>0.000000</td>\n",
       "      <td>0.000000</td>\n",
       "      <td>0.000000</td>\n",
       "      <td>0.0</td>\n",
       "      <td>0.000000</td>\n",
       "      <td>3.000000</td>\n",
       "      <td>1000.000000</td>\n",
       "      <td>1200.000000</td>\n",
       "      <td>400.000000</td>\n",
       "      <td>3200.000000</td>\n",
       "      <td>-1600.000000</td>\n",
       "    </tr>\n",
       "    <tr>\n",
       "      <th>75%</th>\n",
       "      <td>43741.750000</td>\n",
       "      <td>1.0</td>\n",
       "      <td>220.000000</td>\n",
       "      <td>2016.000000</td>\n",
       "      <td>42.000000</td>\n",
       "      <td>24.000000</td>\n",
       "      <td>2.000000</td>\n",
       "      <td>3.000000</td>\n",
       "      <td>2.000000</td>\n",
       "      <td>0.000000</td>\n",
       "      <td>0.000000</td>\n",
       "      <td>0.000000</td>\n",
       "      <td>0.000000</td>\n",
       "      <td>0.000000</td>\n",
       "      <td>0.000000</td>\n",
       "      <td>0.000000</td>\n",
       "      <td>0.0</td>\n",
       "      <td>0.000000</td>\n",
       "      <td>4.000000</td>\n",
       "      <td>1000.000000</td>\n",
       "      <td>1200.000000</td>\n",
       "      <td>400.000000</td>\n",
       "      <td>4600.000000</td>\n",
       "      <td>-1400.000000</td>\n",
       "    </tr>\n",
       "    <tr>\n",
       "      <th>max</th>\n",
       "      <td>79128.000000</td>\n",
       "      <td>1.0</td>\n",
       "      <td>360.000000</td>\n",
       "      <td>2016.000000</td>\n",
       "      <td>53.000000</td>\n",
       "      <td>31.000000</td>\n",
       "      <td>2.000000</td>\n",
       "      <td>5.000000</td>\n",
       "      <td>4.000000</td>\n",
       "      <td>3.000000</td>\n",
       "      <td>1.000000</td>\n",
       "      <td>1.000000</td>\n",
       "      <td>26.000000</td>\n",
       "      <td>58.000000</td>\n",
       "      <td>2.000000</td>\n",
       "      <td>236.000000</td>\n",
       "      <td>0.0</td>\n",
       "      <td>4.000000</td>\n",
       "      <td>7.000000</td>\n",
       "      <td>1000.000000</td>\n",
       "      <td>1400.000000</td>\n",
       "      <td>400.000000</td>\n",
       "      <td>11400.000000</td>\n",
       "      <td>-500.000000</td>\n",
       "    </tr>\n",
       "  </tbody>\n",
       "</table>\n",
       "</div>"
      ],
      "text/plain": [
       "                 id  is_canceled     lead_time  arrival_date_year  \\\n",
       "count  24118.000000      24118.0  24118.000000       24118.000000   \n",
       "mean   35377.305747          1.0    136.632266        2015.702214   \n",
       "std    17555.197841          0.0    104.502879           0.457294   \n",
       "min        4.000000          1.0      0.000000        2015.000000   \n",
       "25%    29356.250000          1.0     45.000000        2015.000000   \n",
       "50%    37543.500000          1.0    106.000000        2016.000000   \n",
       "75%    43741.750000          1.0    220.000000        2016.000000   \n",
       "max    79128.000000          1.0    360.000000        2016.000000   \n",
       "\n",
       "       arrival_date_week_number  arrival_date_day_of_month  \\\n",
       "count              24118.000000               24118.000000   \n",
       "mean                  31.538021                  15.812381   \n",
       "std                   12.827378                   8.723033   \n",
       "min                    1.000000                   1.000000   \n",
       "25%                   21.000000                   8.000000   \n",
       "50%                   34.000000                  16.000000   \n",
       "75%                   42.000000                  24.000000   \n",
       "max                   53.000000                  31.000000   \n",
       "\n",
       "       stays_in_weekend_nights  stays_in_week_nights        adults  \\\n",
       "count             24118.000000          24118.000000  24118.000000   \n",
       "mean                  0.798574              2.224645      1.870056   \n",
       "std                   0.832426              1.247278      0.432093   \n",
       "min                   0.000000              0.000000      1.000000   \n",
       "25%                   0.000000              1.000000      2.000000   \n",
       "50%                   1.000000              2.000000      2.000000   \n",
       "75%                   2.000000              3.000000      2.000000   \n",
       "max                   2.000000              5.000000      4.000000   \n",
       "\n",
       "           children        babies  is_repeated_guest  previous_cancellations  \\\n",
       "count  24118.000000  24118.000000       24118.000000            24118.000000   \n",
       "mean       0.064972      0.003234           0.018244                0.323037   \n",
       "std        0.317503      0.056778           0.133834                1.523927   \n",
       "min        0.000000      0.000000           0.000000                0.000000   \n",
       "25%        0.000000      0.000000           0.000000                0.000000   \n",
       "50%        0.000000      0.000000           0.000000                0.000000   \n",
       "75%        0.000000      0.000000           0.000000                0.000000   \n",
       "max        3.000000      1.000000           1.000000               26.000000   \n",
       "\n",
       "       previous_bookings_not_canceled  booking_changes  days_in_waiting_list  \\\n",
       "count                    24118.000000     24118.000000          24118.000000   \n",
       "mean                         0.028858         0.064806              5.146695   \n",
       "std                          0.816342         0.294924             20.739549   \n",
       "min                          0.000000         0.000000              0.000000   \n",
       "25%                          0.000000         0.000000              0.000000   \n",
       "50%                          0.000000         0.000000              0.000000   \n",
       "75%                          0.000000         0.000000              0.000000   \n",
       "max                         58.000000         2.000000            236.000000   \n",
       "\n",
       "       required_car_parking_spaces  total_of_special_requests  total_nights  \\\n",
       "count                      24118.0               24118.000000  24118.000000   \n",
       "mean                           0.0                   0.258065      3.023219   \n",
       "std                            0.0                   0.594853      1.568613   \n",
       "min                            0.0                   0.000000      1.000000   \n",
       "25%                            0.0                   0.000000      2.000000   \n",
       "50%                            0.0                   0.000000      3.000000   \n",
       "75%                            0.0                   0.000000      4.000000   \n",
       "max                            0.0                   4.000000      7.000000   \n",
       "\n",
       "          room_cost   season_cost       service         total  \\\n",
       "count  24118.000000  24118.000000  24118.000000  24118.000000   \n",
       "mean     916.328054   1123.306369    356.814412   3850.112198   \n",
       "std      180.748745    251.495334     93.922716   2118.776058   \n",
       "min      350.000000    350.000000    150.000000    500.000000   \n",
       "25%     1000.000000   1000.000000    400.000000   2590.000000   \n",
       "50%     1000.000000   1200.000000    400.000000   3200.000000   \n",
       "75%     1000.000000   1200.000000    400.000000   4600.000000   \n",
       "max     1000.000000   1400.000000    400.000000  11400.000000   \n",
       "\n",
       "       total_with_canceled  \n",
       "count         24118.000000  \n",
       "mean          -1480.122730  \n",
       "std             336.317597  \n",
       "min           -1800.000000  \n",
       "25%           -1600.000000  \n",
       "50%           -1600.000000  \n",
       "75%           -1400.000000  \n",
       "max            -500.000000  "
      ]
     },
     "execution_count": 49,
     "metadata": {},
     "output_type": "execute_result"
    }
   ],
   "source": [
    "pd.set_option('display.max_columns', 40)\n",
    "df.query('is_canceled==1').describe()"
   ]
  },
  {
   "cell_type": "code",
   "execution_count": 50,
   "metadata": {
    "scrolled": true
   },
   "outputs": [
    {
     "data": {
      "text/html": [
       "<div>\n",
       "<style scoped>\n",
       "    .dataframe tbody tr th:only-of-type {\n",
       "        vertical-align: middle;\n",
       "    }\n",
       "\n",
       "    .dataframe tbody tr th {\n",
       "        vertical-align: top;\n",
       "    }\n",
       "\n",
       "    .dataframe thead th {\n",
       "        text-align: right;\n",
       "    }\n",
       "</style>\n",
       "<table border=\"1\" class=\"dataframe\">\n",
       "  <thead>\n",
       "    <tr style=\"text-align: right;\">\n",
       "      <th></th>\n",
       "      <th>id</th>\n",
       "      <th>is_canceled</th>\n",
       "      <th>lead_time</th>\n",
       "      <th>arrival_date_year</th>\n",
       "      <th>arrival_date_week_number</th>\n",
       "      <th>arrival_date_day_of_month</th>\n",
       "      <th>stays_in_weekend_nights</th>\n",
       "      <th>stays_in_week_nights</th>\n",
       "      <th>adults</th>\n",
       "      <th>children</th>\n",
       "      <th>babies</th>\n",
       "      <th>is_repeated_guest</th>\n",
       "      <th>previous_cancellations</th>\n",
       "      <th>previous_bookings_not_canceled</th>\n",
       "      <th>booking_changes</th>\n",
       "      <th>days_in_waiting_list</th>\n",
       "      <th>required_car_parking_spaces</th>\n",
       "      <th>total_of_special_requests</th>\n",
       "      <th>total_nights</th>\n",
       "      <th>room_cost</th>\n",
       "      <th>season_cost</th>\n",
       "      <th>service</th>\n",
       "      <th>total</th>\n",
       "      <th>total_with_canceled</th>\n",
       "    </tr>\n",
       "  </thead>\n",
       "  <tbody>\n",
       "    <tr>\n",
       "      <th>count</th>\n",
       "      <td>39203.000000</td>\n",
       "      <td>39203.0</td>\n",
       "      <td>39203.000000</td>\n",
       "      <td>39203.000000</td>\n",
       "      <td>39203.000000</td>\n",
       "      <td>39203.000000</td>\n",
       "      <td>39203.000000</td>\n",
       "      <td>39203.000000</td>\n",
       "      <td>39203.000000</td>\n",
       "      <td>39203.000000</td>\n",
       "      <td>39203.000000</td>\n",
       "      <td>39203.000000</td>\n",
       "      <td>39203.000000</td>\n",
       "      <td>39203.000000</td>\n",
       "      <td>39203.000000</td>\n",
       "      <td>39203.000000</td>\n",
       "      <td>39203.000000</td>\n",
       "      <td>39203.000000</td>\n",
       "      <td>39203.00000</td>\n",
       "      <td>39203.000000</td>\n",
       "      <td>39203.000000</td>\n",
       "      <td>39203.000000</td>\n",
       "      <td>39203.000000</td>\n",
       "      <td>39203.000000</td>\n",
       "    </tr>\n",
       "    <tr>\n",
       "      <th>mean</th>\n",
       "      <td>46648.116879</td>\n",
       "      <td>0.0</td>\n",
       "      <td>71.385455</td>\n",
       "      <td>2015.715583</td>\n",
       "      <td>30.297018</td>\n",
       "      <td>15.724664</td>\n",
       "      <td>0.816111</td>\n",
       "      <td>2.174859</td>\n",
       "      <td>1.824962</td>\n",
       "      <td>0.072673</td>\n",
       "      <td>0.008928</td>\n",
       "      <td>0.033645</td>\n",
       "      <td>0.016861</td>\n",
       "      <td>0.161569</td>\n",
       "      <td>0.209958</td>\n",
       "      <td>2.425503</td>\n",
       "      <td>0.092493</td>\n",
       "      <td>0.650409</td>\n",
       "      <td>2.99097</td>\n",
       "      <td>882.758973</td>\n",
       "      <td>1078.924343</td>\n",
       "      <td>339.979083</td>\n",
       "      <td>3687.675739</td>\n",
       "      <td>3687.675739</td>\n",
       "    </tr>\n",
       "    <tr>\n",
       "      <th>std</th>\n",
       "      <td>27851.196291</td>\n",
       "      <td>0.0</td>\n",
       "      <td>80.289295</td>\n",
       "      <td>0.451142</td>\n",
       "      <td>13.475719</td>\n",
       "      <td>8.730993</td>\n",
       "      <td>0.830754</td>\n",
       "      <td>1.359346</td>\n",
       "      <td>0.489961</td>\n",
       "      <td>0.323002</td>\n",
       "      <td>0.094876</td>\n",
       "      <td>0.180317</td>\n",
       "      <td>0.323235</td>\n",
       "      <td>1.581039</td>\n",
       "      <td>0.485041</td>\n",
       "      <td>17.110031</td>\n",
       "      <td>0.289724</td>\n",
       "      <td>0.787281</td>\n",
       "      <td>1.71887</td>\n",
       "      <td>204.590686</td>\n",
       "      <td>273.888939</td>\n",
       "      <td>105.963549</td>\n",
       "      <td>2272.493505</td>\n",
       "      <td>2272.493505</td>\n",
       "    </tr>\n",
       "    <tr>\n",
       "      <th>min</th>\n",
       "      <td>0.000000</td>\n",
       "      <td>0.0</td>\n",
       "      <td>0.000000</td>\n",
       "      <td>2015.000000</td>\n",
       "      <td>1.000000</td>\n",
       "      <td>1.000000</td>\n",
       "      <td>0.000000</td>\n",
       "      <td>0.000000</td>\n",
       "      <td>1.000000</td>\n",
       "      <td>0.000000</td>\n",
       "      <td>0.000000</td>\n",
       "      <td>0.000000</td>\n",
       "      <td>0.000000</td>\n",
       "      <td>0.000000</td>\n",
       "      <td>0.000000</td>\n",
       "      <td>0.000000</td>\n",
       "      <td>0.000000</td>\n",
       "      <td>0.000000</td>\n",
       "      <td>1.00000</td>\n",
       "      <td>350.000000</td>\n",
       "      <td>350.000000</td>\n",
       "      <td>150.000000</td>\n",
       "      <td>500.000000</td>\n",
       "      <td>500.000000</td>\n",
       "    </tr>\n",
       "    <tr>\n",
       "      <th>25%</th>\n",
       "      <td>16907.500000</td>\n",
       "      <td>0.0</td>\n",
       "      <td>8.000000</td>\n",
       "      <td>2015.000000</td>\n",
       "      <td>19.000000</td>\n",
       "      <td>8.000000</td>\n",
       "      <td>0.000000</td>\n",
       "      <td>1.000000</td>\n",
       "      <td>2.000000</td>\n",
       "      <td>0.000000</td>\n",
       "      <td>0.000000</td>\n",
       "      <td>0.000000</td>\n",
       "      <td>0.000000</td>\n",
       "      <td>0.000000</td>\n",
       "      <td>0.000000</td>\n",
       "      <td>0.000000</td>\n",
       "      <td>0.000000</td>\n",
       "      <td>0.000000</td>\n",
       "      <td>2.00000</td>\n",
       "      <td>800.000000</td>\n",
       "      <td>1000.000000</td>\n",
       "      <td>350.000000</td>\n",
       "      <td>1800.000000</td>\n",
       "      <td>1800.000000</td>\n",
       "    </tr>\n",
       "    <tr>\n",
       "      <th>50%</th>\n",
       "      <td>60394.000000</td>\n",
       "      <td>0.0</td>\n",
       "      <td>41.000000</td>\n",
       "      <td>2016.000000</td>\n",
       "      <td>33.000000</td>\n",
       "      <td>16.000000</td>\n",
       "      <td>1.000000</td>\n",
       "      <td>2.000000</td>\n",
       "      <td>2.000000</td>\n",
       "      <td>0.000000</td>\n",
       "      <td>0.000000</td>\n",
       "      <td>0.000000</td>\n",
       "      <td>0.000000</td>\n",
       "      <td>0.000000</td>\n",
       "      <td>0.000000</td>\n",
       "      <td>0.000000</td>\n",
       "      <td>0.000000</td>\n",
       "      <td>0.000000</td>\n",
       "      <td>3.00000</td>\n",
       "      <td>1000.000000</td>\n",
       "      <td>1200.000000</td>\n",
       "      <td>400.000000</td>\n",
       "      <td>3200.000000</td>\n",
       "      <td>3200.000000</td>\n",
       "    </tr>\n",
       "    <tr>\n",
       "      <th>75%</th>\n",
       "      <td>72087.500000</td>\n",
       "      <td>0.0</td>\n",
       "      <td>109.000000</td>\n",
       "      <td>2016.000000</td>\n",
       "      <td>41.000000</td>\n",
       "      <td>23.000000</td>\n",
       "      <td>2.000000</td>\n",
       "      <td>3.000000</td>\n",
       "      <td>2.000000</td>\n",
       "      <td>0.000000</td>\n",
       "      <td>0.000000</td>\n",
       "      <td>0.000000</td>\n",
       "      <td>0.000000</td>\n",
       "      <td>0.000000</td>\n",
       "      <td>0.000000</td>\n",
       "      <td>0.000000</td>\n",
       "      <td>0.000000</td>\n",
       "      <td>1.000000</td>\n",
       "      <td>4.00000</td>\n",
       "      <td>1000.000000</td>\n",
       "      <td>1200.000000</td>\n",
       "      <td>400.000000</td>\n",
       "      <td>4600.000000</td>\n",
       "      <td>4600.000000</td>\n",
       "    </tr>\n",
       "    <tr>\n",
       "      <th>max</th>\n",
       "      <td>82024.000000</td>\n",
       "      <td>0.0</td>\n",
       "      <td>359.000000</td>\n",
       "      <td>2016.000000</td>\n",
       "      <td>53.000000</td>\n",
       "      <td>31.000000</td>\n",
       "      <td>2.000000</td>\n",
       "      <td>5.000000</td>\n",
       "      <td>4.000000</td>\n",
       "      <td>3.000000</td>\n",
       "      <td>2.000000</td>\n",
       "      <td>1.000000</td>\n",
       "      <td>13.000000</td>\n",
       "      <td>55.000000</td>\n",
       "      <td>2.000000</td>\n",
       "      <td>259.000000</td>\n",
       "      <td>1.000000</td>\n",
       "      <td>5.000000</td>\n",
       "      <td>7.00000</td>\n",
       "      <td>1000.000000</td>\n",
       "      <td>1400.000000</td>\n",
       "      <td>400.000000</td>\n",
       "      <td>11400.000000</td>\n",
       "      <td>11400.000000</td>\n",
       "    </tr>\n",
       "  </tbody>\n",
       "</table>\n",
       "</div>"
      ],
      "text/plain": [
       "                 id  is_canceled     lead_time  arrival_date_year  \\\n",
       "count  39203.000000      39203.0  39203.000000       39203.000000   \n",
       "mean   46648.116879          0.0     71.385455        2015.715583   \n",
       "std    27851.196291          0.0     80.289295           0.451142   \n",
       "min        0.000000          0.0      0.000000        2015.000000   \n",
       "25%    16907.500000          0.0      8.000000        2015.000000   \n",
       "50%    60394.000000          0.0     41.000000        2016.000000   \n",
       "75%    72087.500000          0.0    109.000000        2016.000000   \n",
       "max    82024.000000          0.0    359.000000        2016.000000   \n",
       "\n",
       "       arrival_date_week_number  arrival_date_day_of_month  \\\n",
       "count              39203.000000               39203.000000   \n",
       "mean                  30.297018                  15.724664   \n",
       "std                   13.475719                   8.730993   \n",
       "min                    1.000000                   1.000000   \n",
       "25%                   19.000000                   8.000000   \n",
       "50%                   33.000000                  16.000000   \n",
       "75%                   41.000000                  23.000000   \n",
       "max                   53.000000                  31.000000   \n",
       "\n",
       "       stays_in_weekend_nights  stays_in_week_nights        adults  \\\n",
       "count             39203.000000          39203.000000  39203.000000   \n",
       "mean                  0.816111              2.174859      1.824962   \n",
       "std                   0.830754              1.359346      0.489961   \n",
       "min                   0.000000              0.000000      1.000000   \n",
       "25%                   0.000000              1.000000      2.000000   \n",
       "50%                   1.000000              2.000000      2.000000   \n",
       "75%                   2.000000              3.000000      2.000000   \n",
       "max                   2.000000              5.000000      4.000000   \n",
       "\n",
       "           children        babies  is_repeated_guest  previous_cancellations  \\\n",
       "count  39203.000000  39203.000000       39203.000000            39203.000000   \n",
       "mean       0.072673      0.008928           0.033645                0.016861   \n",
       "std        0.323002      0.094876           0.180317                0.323235   \n",
       "min        0.000000      0.000000           0.000000                0.000000   \n",
       "25%        0.000000      0.000000           0.000000                0.000000   \n",
       "50%        0.000000      0.000000           0.000000                0.000000   \n",
       "75%        0.000000      0.000000           0.000000                0.000000   \n",
       "max        3.000000      2.000000           1.000000               13.000000   \n",
       "\n",
       "       previous_bookings_not_canceled  booking_changes  days_in_waiting_list  \\\n",
       "count                    39203.000000     39203.000000          39203.000000   \n",
       "mean                         0.161569         0.209958              2.425503   \n",
       "std                          1.581039         0.485041             17.110031   \n",
       "min                          0.000000         0.000000              0.000000   \n",
       "25%                          0.000000         0.000000              0.000000   \n",
       "50%                          0.000000         0.000000              0.000000   \n",
       "75%                          0.000000         0.000000              0.000000   \n",
       "max                         55.000000         2.000000            259.000000   \n",
       "\n",
       "       required_car_parking_spaces  total_of_special_requests  total_nights  \\\n",
       "count                 39203.000000               39203.000000   39203.00000   \n",
       "mean                      0.092493                   0.650409       2.99097   \n",
       "std                       0.289724                   0.787281       1.71887   \n",
       "min                       0.000000                   0.000000       1.00000   \n",
       "25%                       0.000000                   0.000000       2.00000   \n",
       "50%                       0.000000                   0.000000       3.00000   \n",
       "75%                       0.000000                   1.000000       4.00000   \n",
       "max                       1.000000                   5.000000       7.00000   \n",
       "\n",
       "          room_cost   season_cost       service         total  \\\n",
       "count  39203.000000  39203.000000  39203.000000  39203.000000   \n",
       "mean     882.758973   1078.924343    339.979083   3687.675739   \n",
       "std      204.590686    273.888939    105.963549   2272.493505   \n",
       "min      350.000000    350.000000    150.000000    500.000000   \n",
       "25%      800.000000   1000.000000    350.000000   1800.000000   \n",
       "50%     1000.000000   1200.000000    400.000000   3200.000000   \n",
       "75%     1000.000000   1200.000000    400.000000   4600.000000   \n",
       "max     1000.000000   1400.000000    400.000000  11400.000000   \n",
       "\n",
       "       total_with_canceled  \n",
       "count         39203.000000  \n",
       "mean           3687.675739  \n",
       "std            2272.493505  \n",
       "min             500.000000  \n",
       "25%            1800.000000  \n",
       "50%            3200.000000  \n",
       "75%            4600.000000  \n",
       "max           11400.000000  "
      ]
     },
     "execution_count": 50,
     "metadata": {},
     "output_type": "execute_result"
    }
   ],
   "source": [
    "pd.set_option('display.max_columns', 40)\n",
    "df.query('is_canceled==0').describe()"
   ]
  },
  {
   "cell_type": "markdown",
   "metadata": {},
   "source": [
    "Исходя из корреляции отмененных броней с другими данными и средними/медианными значениями отмененных и неотмененных броней можно сделать вывод, что \"ненадежные\" клиенты чаще бронируют номер заранее (на 100 и более дней), с большей вероятностью мы можем предположить, что если человек делает бронь намного вперед, то он отменит бронь. Также чем больше специальных пометок, тем меньше шанс что человек отменит бронь. Такая же зависимость есть между необходимостью места для машины и отменой брони.(если есть необходимость, тем меньше шанс отмены). Также есть небольшая зависимость между стоимостью номера и отменой брони (чем больше стоит номер, тем больше шанс отмены). Ну и конечно, есть связь между предыдущими отменами и вероятной отменой, если раньше человек отменял бронь, то с большей вероятностью он сделает это снова).\n",
    "\n",
    "По итогу о \"ненадежный\" клиент скорее всего:\n",
    "- бронирует номер за более чем 100 дней\n",
    "- ранее уже отменял брони\n",
    "- не нуждается в парковочном месте\n",
    "- не имеет специальных пометок\n",
    "- выбирает более дорогой номер\n",
    "- не посещал отель ранее\n",
    "- изменял параметры заказа\n",
    "- несколько дней ожидал подтверждения заказа"
   ]
  },
  {
   "cell_type": "markdown",
   "metadata": {},
   "source": [
    "### Общий вывод"
   ]
  },
  {
   "cell_type": "markdown",
   "metadata": {},
   "source": [
    "Лучшей моделью показала себя RandomForestClassifier с 25 деревьями и 26 глубиной на каждом. Если использовать данную модель для системы внедрения депозитов, то в тестовый период она окупится и принесет прибыль. (на тестовых данных прибыль увеличилась на 5,8 млн)\n",
    "\n",
    "Бизнесу можно рекоммендовать на основе данной модели ввести систему депозитов и более внимательно относиться к клиентами попавших в описание \"ненадежного\", особенно на тех кто бронирует номер за 100 и более дней и имел предыдущие отмены."
   ]
  }
 ],
 "metadata": {
  "ExecuteTimeLog": [
   {
    "duration": 426,
    "start_time": "2022-07-08T10:18:14.216Z"
   },
   {
    "duration": 410,
    "start_time": "2022-07-08T10:19:15.644Z"
   },
   {
    "duration": 61,
    "start_time": "2022-07-08T10:19:20.416Z"
   },
   {
    "duration": 3,
    "start_time": "2022-07-08T10:20:06.573Z"
   },
   {
    "duration": 219,
    "start_time": "2022-07-08T10:20:07.643Z"
   },
   {
    "duration": 101,
    "start_time": "2022-07-08T10:20:16.123Z"
   },
   {
    "duration": 3,
    "start_time": "2022-07-08T10:20:31.393Z"
   },
   {
    "duration": 220,
    "start_time": "2022-07-08T10:20:33.044Z"
   },
   {
    "duration": 98,
    "start_time": "2022-07-08T10:20:33.265Z"
   },
   {
    "duration": 3,
    "start_time": "2022-07-08T10:20:46.440Z"
   },
   {
    "duration": 3,
    "start_time": "2022-07-08T10:21:03.015Z"
   },
   {
    "duration": 220,
    "start_time": "2022-07-08T10:21:03.756Z"
   },
   {
    "duration": 113,
    "start_time": "2022-07-08T10:21:03.978Z"
   },
   {
    "duration": 9,
    "start_time": "2022-07-08T10:21:33.728Z"
   },
   {
    "duration": 217,
    "start_time": "2022-07-08T10:21:34.263Z"
   },
   {
    "duration": 121,
    "start_time": "2022-07-08T10:21:34.848Z"
   },
   {
    "duration": 91,
    "start_time": "2022-07-08T10:31:47.799Z"
   },
   {
    "duration": 53,
    "start_time": "2022-07-10T11:40:15.383Z"
   },
   {
    "duration": 388,
    "start_time": "2022-07-10T11:40:21.981Z"
   },
   {
    "duration": 3,
    "start_time": "2022-07-10T11:40:22.371Z"
   },
   {
    "duration": 896,
    "start_time": "2022-07-10T11:40:22.376Z"
   },
   {
    "duration": 114,
    "start_time": "2022-07-10T11:40:23.275Z"
   },
   {
    "duration": 90,
    "start_time": "2022-07-10T11:40:23.391Z"
   },
   {
    "duration": 7,
    "start_time": "2022-07-10T11:40:23.483Z"
   },
   {
    "duration": 18,
    "start_time": "2022-07-10T11:40:40.650Z"
   },
   {
    "duration": 43,
    "start_time": "2022-07-10T11:40:48.947Z"
   },
   {
    "duration": 39,
    "start_time": "2022-07-10T11:41:01.099Z"
   },
   {
    "duration": 27,
    "start_time": "2022-07-10T11:45:38.089Z"
   },
   {
    "duration": 7,
    "start_time": "2022-07-10T11:45:45.552Z"
   },
   {
    "duration": 12,
    "start_time": "2022-07-10T11:46:16.893Z"
   },
   {
    "duration": 1360,
    "start_time": "2022-07-10T11:47:19.058Z"
   },
   {
    "duration": 3,
    "start_time": "2022-07-10T11:47:55.984Z"
   },
   {
    "duration": 1070,
    "start_time": "2022-07-10T11:49:21.777Z"
   },
   {
    "duration": 1037,
    "start_time": "2022-07-10T11:49:29.603Z"
   },
   {
    "duration": 919,
    "start_time": "2022-07-10T11:49:37.473Z"
   },
   {
    "duration": 1082,
    "start_time": "2022-07-10T11:49:45.612Z"
   },
   {
    "duration": 508,
    "start_time": "2022-07-10T11:52:59.577Z"
   },
   {
    "duration": 606,
    "start_time": "2022-07-10T11:53:05.924Z"
   },
   {
    "duration": 527,
    "start_time": "2022-07-10T11:53:12.210Z"
   },
   {
    "duration": 631,
    "start_time": "2022-07-10T11:53:16.265Z"
   },
   {
    "duration": 10,
    "start_time": "2022-07-10T11:57:31.494Z"
   },
   {
    "duration": 7,
    "start_time": "2022-07-10T11:59:38.183Z"
   },
   {
    "duration": 19,
    "start_time": "2022-07-10T11:59:47.183Z"
   },
   {
    "duration": 6,
    "start_time": "2022-07-10T11:59:54.160Z"
   },
   {
    "duration": 13,
    "start_time": "2022-07-10T12:00:27.432Z"
   },
   {
    "duration": 24,
    "start_time": "2022-07-10T12:00:44.222Z"
   },
   {
    "duration": 15,
    "start_time": "2022-07-10T12:01:45.744Z"
   },
   {
    "duration": 39,
    "start_time": "2022-07-10T12:01:52.043Z"
   },
   {
    "duration": 14,
    "start_time": "2022-07-10T12:02:40.630Z"
   },
   {
    "duration": 15,
    "start_time": "2022-07-10T12:03:19.563Z"
   },
   {
    "duration": 16,
    "start_time": "2022-07-10T12:03:21.054Z"
   },
   {
    "duration": 8,
    "start_time": "2022-07-10T12:03:36.785Z"
   },
   {
    "duration": 16,
    "start_time": "2022-07-10T12:04:06.684Z"
   },
   {
    "duration": 8,
    "start_time": "2022-07-10T12:09:21.714Z"
   },
   {
    "duration": 25,
    "start_time": "2022-07-10T12:10:07.164Z"
   },
   {
    "duration": 7,
    "start_time": "2022-07-10T12:12:32.317Z"
   },
   {
    "duration": 11,
    "start_time": "2022-07-10T12:18:40.979Z"
   },
   {
    "duration": 11,
    "start_time": "2022-07-10T12:18:55.462Z"
   },
   {
    "duration": 121,
    "start_time": "2022-07-10T12:19:28.222Z"
   },
   {
    "duration": 120,
    "start_time": "2022-07-10T12:19:33.911Z"
   },
   {
    "duration": 77,
    "start_time": "2022-07-10T12:21:22.984Z"
   },
   {
    "duration": 4,
    "start_time": "2022-07-10T12:21:46.308Z"
   },
   {
    "duration": 14,
    "start_time": "2022-07-10T12:22:11.658Z"
   },
   {
    "duration": 3,
    "start_time": "2022-07-10T12:22:17.568Z"
   },
   {
    "duration": 8,
    "start_time": "2022-07-10T12:22:17.573Z"
   },
   {
    "duration": 214,
    "start_time": "2022-07-10T12:22:17.582Z"
   },
   {
    "duration": 112,
    "start_time": "2022-07-10T12:22:17.798Z"
   },
   {
    "duration": 97,
    "start_time": "2022-07-10T12:22:17.912Z"
   },
   {
    "duration": 10,
    "start_time": "2022-07-10T12:22:18.011Z"
   },
   {
    "duration": 619,
    "start_time": "2022-07-10T12:22:18.023Z"
   },
   {
    "duration": 12,
    "start_time": "2022-07-10T12:22:18.644Z"
   },
   {
    "duration": 0,
    "start_time": "2022-07-10T12:22:18.658Z"
   },
   {
    "duration": 0,
    "start_time": "2022-07-10T12:22:18.659Z"
   },
   {
    "duration": 0,
    "start_time": "2022-07-10T12:22:18.660Z"
   },
   {
    "duration": 4,
    "start_time": "2022-07-10T12:23:42.722Z"
   },
   {
    "duration": 208,
    "start_time": "2022-07-10T12:23:43.981Z"
   },
   {
    "duration": 103,
    "start_time": "2022-07-10T12:23:44.191Z"
   },
   {
    "duration": 82,
    "start_time": "2022-07-10T12:23:44.323Z"
   },
   {
    "duration": 10,
    "start_time": "2022-07-10T12:23:44.800Z"
   },
   {
    "duration": 582,
    "start_time": "2022-07-10T12:23:44.965Z"
   },
   {
    "duration": 14,
    "start_time": "2022-07-10T12:23:45.548Z"
   },
   {
    "duration": 13,
    "start_time": "2022-07-10T12:23:45.563Z"
   },
   {
    "duration": 740,
    "start_time": "2022-07-10T12:23:55.246Z"
   },
   {
    "duration": 647,
    "start_time": "2022-07-10T12:24:16.621Z"
   },
   {
    "duration": 4,
    "start_time": "2022-07-10T12:24:27.970Z"
   },
   {
    "duration": 214,
    "start_time": "2022-07-10T12:24:28.588Z"
   },
   {
    "duration": 190,
    "start_time": "2022-07-10T12:24:28.804Z"
   },
   {
    "duration": 107,
    "start_time": "2022-07-10T12:24:28.997Z"
   },
   {
    "duration": 13,
    "start_time": "2022-07-10T12:24:30.118Z"
   },
   {
    "duration": 578,
    "start_time": "2022-07-10T12:24:30.770Z"
   },
   {
    "duration": 566,
    "start_time": "2022-07-10T12:24:34.674Z"
   },
   {
    "duration": 1273,
    "start_time": "2022-07-10T12:24:55.901Z"
   },
   {
    "duration": 585,
    "start_time": "2022-07-10T12:25:39.674Z"
   },
   {
    "duration": 623,
    "start_time": "2022-07-10T12:26:22.969Z"
   },
   {
    "duration": 3,
    "start_time": "2022-07-10T12:26:23.594Z"
   },
   {
    "duration": 216,
    "start_time": "2022-07-10T12:26:23.598Z"
   },
   {
    "duration": 111,
    "start_time": "2022-07-10T12:26:23.816Z"
   },
   {
    "duration": 101,
    "start_time": "2022-07-10T12:26:23.929Z"
   },
   {
    "duration": 11,
    "start_time": "2022-07-10T12:26:24.032Z"
   },
   {
    "duration": 615,
    "start_time": "2022-07-10T12:26:24.044Z"
   },
   {
    "duration": 600,
    "start_time": "2022-07-10T12:26:24.661Z"
   },
   {
    "duration": 11,
    "start_time": "2022-07-10T12:26:25.263Z"
   },
   {
    "duration": 41,
    "start_time": "2022-07-10T12:26:25.277Z"
   },
   {
    "duration": 200,
    "start_time": "2022-07-10T12:26:25.320Z"
   },
   {
    "duration": 581,
    "start_time": "2022-07-10T12:26:30.985Z"
   },
   {
    "duration": 570,
    "start_time": "2022-07-10T12:26:34.869Z"
   },
   {
    "duration": 658,
    "start_time": "2022-07-10T12:26:40.788Z"
   },
   {
    "duration": 4,
    "start_time": "2022-07-10T12:26:41.447Z"
   },
   {
    "duration": 234,
    "start_time": "2022-07-10T12:26:41.453Z"
   },
   {
    "duration": 107,
    "start_time": "2022-07-10T12:26:41.689Z"
   },
   {
    "duration": 89,
    "start_time": "2022-07-10T12:26:41.797Z"
   },
   {
    "duration": 22,
    "start_time": "2022-07-10T12:26:41.888Z"
   },
   {
    "duration": 624,
    "start_time": "2022-07-10T12:26:41.911Z"
   },
   {
    "duration": 599,
    "start_time": "2022-07-10T12:26:42.538Z"
   },
   {
    "duration": 12,
    "start_time": "2022-07-10T12:26:43.139Z"
   },
   {
    "duration": 25,
    "start_time": "2022-07-10T12:26:43.153Z"
   },
   {
    "duration": 188,
    "start_time": "2022-07-10T12:26:43.180Z"
   },
   {
    "duration": 23,
    "start_time": "2022-07-10T12:28:25.787Z"
   },
   {
    "duration": 67,
    "start_time": "2022-07-10T12:29:51.772Z"
   },
   {
    "duration": 24,
    "start_time": "2022-07-10T12:30:01.785Z"
   },
   {
    "duration": 647,
    "start_time": "2022-07-10T12:30:22.314Z"
   },
   {
    "duration": 3,
    "start_time": "2022-07-10T12:30:22.964Z"
   },
   {
    "duration": 238,
    "start_time": "2022-07-10T12:30:22.969Z"
   },
   {
    "duration": 128,
    "start_time": "2022-07-10T12:30:23.210Z"
   },
   {
    "duration": 111,
    "start_time": "2022-07-10T12:30:23.340Z"
   },
   {
    "duration": 10,
    "start_time": "2022-07-10T12:30:23.453Z"
   },
   {
    "duration": 635,
    "start_time": "2022-07-10T12:30:23.465Z"
   },
   {
    "duration": 677,
    "start_time": "2022-07-10T12:30:24.103Z"
   },
   {
    "duration": 28,
    "start_time": "2022-07-10T12:30:24.782Z"
   },
   {
    "duration": 24,
    "start_time": "2022-07-10T12:30:24.812Z"
   },
   {
    "duration": 73,
    "start_time": "2022-07-10T12:30:24.838Z"
   },
   {
    "duration": 24,
    "start_time": "2022-07-10T12:30:24.913Z"
   },
   {
    "duration": 224,
    "start_time": "2022-07-10T12:30:24.939Z"
   },
   {
    "duration": 61,
    "start_time": "2022-07-10T12:31:34.661Z"
   },
   {
    "duration": 625,
    "start_time": "2022-07-10T12:31:51.000Z"
   },
   {
    "duration": 9,
    "start_time": "2022-07-10T12:31:51.627Z"
   },
   {
    "duration": 237,
    "start_time": "2022-07-10T12:31:51.638Z"
   },
   {
    "duration": 113,
    "start_time": "2022-07-10T12:31:51.877Z"
   },
   {
    "duration": 96,
    "start_time": "2022-07-10T12:31:51.992Z"
   },
   {
    "duration": 21,
    "start_time": "2022-07-10T12:31:52.090Z"
   },
   {
    "duration": 592,
    "start_time": "2022-07-10T12:31:52.113Z"
   },
   {
    "duration": 587,
    "start_time": "2022-07-10T12:31:52.706Z"
   },
   {
    "duration": 29,
    "start_time": "2022-07-10T12:31:53.294Z"
   },
   {
    "duration": 10,
    "start_time": "2022-07-10T12:31:53.325Z"
   },
   {
    "duration": 22,
    "start_time": "2022-07-10T12:31:53.337Z"
   },
   {
    "duration": 22,
    "start_time": "2022-07-10T12:31:53.360Z"
   },
   {
    "duration": 178,
    "start_time": "2022-07-10T12:31:53.405Z"
   },
   {
    "duration": 17,
    "start_time": "2022-07-10T12:35:45.710Z"
   },
   {
    "duration": 36,
    "start_time": "2022-07-10T12:35:52.418Z"
   },
   {
    "duration": 3,
    "start_time": "2022-07-10T12:36:54.357Z"
   },
   {
    "duration": 4,
    "start_time": "2022-07-10T12:37:03.864Z"
   },
   {
    "duration": 3,
    "start_time": "2022-07-10T12:37:25.528Z"
   },
   {
    "duration": 4,
    "start_time": "2022-07-10T12:37:48.321Z"
   },
   {
    "duration": 3,
    "start_time": "2022-07-10T12:37:53.560Z"
   },
   {
    "duration": 43,
    "start_time": "2022-07-14T08:54:42.236Z"
   },
   {
    "duration": 750,
    "start_time": "2022-07-14T08:54:47.191Z"
   },
   {
    "duration": 4,
    "start_time": "2022-07-14T08:54:47.943Z"
   },
   {
    "duration": 790,
    "start_time": "2022-07-14T08:54:47.948Z"
   },
   {
    "duration": 105,
    "start_time": "2022-07-14T08:54:48.740Z"
   },
   {
    "duration": 91,
    "start_time": "2022-07-14T08:54:48.847Z"
   },
   {
    "duration": 11,
    "start_time": "2022-07-14T08:54:48.940Z"
   },
   {
    "duration": 540,
    "start_time": "2022-07-14T08:54:48.953Z"
   },
   {
    "duration": 581,
    "start_time": "2022-07-14T08:54:49.494Z"
   },
   {
    "duration": 9,
    "start_time": "2022-07-14T08:54:50.077Z"
   },
   {
    "duration": 129,
    "start_time": "2022-07-14T08:54:50.088Z"
   },
   {
    "duration": 22,
    "start_time": "2022-07-14T08:54:50.218Z"
   },
   {
    "duration": 30,
    "start_time": "2022-07-14T08:54:50.242Z"
   },
   {
    "duration": 4,
    "start_time": "2022-07-14T08:54:50.273Z"
   },
   {
    "duration": 81,
    "start_time": "2022-07-14T08:54:50.279Z"
   },
   {
    "duration": 0,
    "start_time": "2022-07-14T08:54:50.361Z"
   },
   {
    "duration": 1241,
    "start_time": "2022-07-14T08:55:00.418Z"
   },
   {
    "duration": 4,
    "start_time": "2022-07-14T08:56:27.141Z"
   },
   {
    "duration": 10,
    "start_time": "2022-07-14T08:58:11.040Z"
   },
   {
    "duration": 146,
    "start_time": "2022-07-14T08:58:51.180Z"
   },
   {
    "duration": 10,
    "start_time": "2022-07-14T09:01:56.388Z"
   },
   {
    "duration": 104,
    "start_time": "2022-07-14T09:02:31.171Z"
   },
   {
    "duration": 93,
    "start_time": "2022-07-14T09:02:37.878Z"
   },
   {
    "duration": 117,
    "start_time": "2022-07-14T09:03:03.746Z"
   },
   {
    "duration": 154,
    "start_time": "2022-07-14T09:08:39.860Z"
   },
   {
    "duration": 203,
    "start_time": "2022-07-14T09:09:07.381Z"
   },
   {
    "duration": 149,
    "start_time": "2022-07-14T09:09:27.859Z"
   },
   {
    "duration": 1460,
    "start_time": "2022-07-14T09:09:37.899Z"
   },
   {
    "duration": 1494,
    "start_time": "2022-07-14T09:09:49.300Z"
   },
   {
    "duration": 1359,
    "start_time": "2022-07-14T09:09:55.121Z"
   },
   {
    "duration": 1822,
    "start_time": "2022-07-14T09:10:16.722Z"
   },
   {
    "duration": 1316,
    "start_time": "2022-07-14T09:10:24.581Z"
   },
   {
    "duration": 7,
    "start_time": "2022-07-14T09:14:40.209Z"
   },
   {
    "duration": 41,
    "start_time": "2022-07-14T09:15:02.569Z"
   },
   {
    "duration": 44,
    "start_time": "2022-07-14T09:15:24.290Z"
   },
   {
    "duration": 61,
    "start_time": "2022-07-14T09:15:31.289Z"
   },
   {
    "duration": 9,
    "start_time": "2022-07-14T09:16:17.809Z"
   },
   {
    "duration": 4,
    "start_time": "2022-07-14T09:19:44.248Z"
   },
   {
    "duration": 88,
    "start_time": "2022-07-14T09:20:23.373Z"
   },
   {
    "duration": 76,
    "start_time": "2022-07-14T09:20:26.458Z"
   },
   {
    "duration": 4,
    "start_time": "2022-07-14T09:20:33.529Z"
   },
   {
    "duration": 4,
    "start_time": "2022-07-14T09:20:38.736Z"
   },
   {
    "duration": 6,
    "start_time": "2022-07-14T09:21:20.208Z"
   },
   {
    "duration": 6,
    "start_time": "2022-07-14T09:21:40.048Z"
   },
   {
    "duration": 6,
    "start_time": "2022-07-14T09:22:06.928Z"
   },
   {
    "duration": 7,
    "start_time": "2022-07-14T09:22:26.418Z"
   },
   {
    "duration": 10,
    "start_time": "2022-07-14T09:23:12.774Z"
   },
   {
    "duration": 11,
    "start_time": "2022-07-14T09:23:55.408Z"
   },
   {
    "duration": 3,
    "start_time": "2022-07-14T09:24:56.730Z"
   },
   {
    "duration": 13,
    "start_time": "2022-07-14T09:25:07.528Z"
   },
   {
    "duration": 11,
    "start_time": "2022-07-14T09:25:32.370Z"
   },
   {
    "duration": 11,
    "start_time": "2022-07-14T09:25:54.223Z"
   },
   {
    "duration": 10,
    "start_time": "2022-07-14T09:26:13.528Z"
   },
   {
    "duration": 10,
    "start_time": "2022-07-14T09:26:51.292Z"
   },
   {
    "duration": 8,
    "start_time": "2022-07-14T09:27:26.648Z"
   },
   {
    "duration": 8,
    "start_time": "2022-07-14T09:27:31.530Z"
   },
   {
    "duration": 21,
    "start_time": "2022-07-14T09:31:21.168Z"
   },
   {
    "duration": 24,
    "start_time": "2022-07-14T09:31:33.180Z"
   },
   {
    "duration": 27,
    "start_time": "2022-07-14T09:31:44.285Z"
   },
   {
    "duration": 47,
    "start_time": "2022-07-14T09:32:01.448Z"
   },
   {
    "duration": 42,
    "start_time": "2022-07-14T11:03:16.643Z"
   },
   {
    "duration": 799,
    "start_time": "2022-07-14T11:03:20.365Z"
   },
   {
    "duration": 4,
    "start_time": "2022-07-14T11:03:21.165Z"
   },
   {
    "duration": 805,
    "start_time": "2022-07-14T11:03:21.170Z"
   },
   {
    "duration": 107,
    "start_time": "2022-07-14T11:03:21.977Z"
   },
   {
    "duration": 81,
    "start_time": "2022-07-14T11:03:22.085Z"
   },
   {
    "duration": 81,
    "start_time": "2022-07-14T11:03:22.168Z"
   },
   {
    "duration": 11,
    "start_time": "2022-07-14T11:03:22.250Z"
   },
   {
    "duration": 55,
    "start_time": "2022-07-14T11:03:22.262Z"
   },
   {
    "duration": 9,
    "start_time": "2022-07-14T11:03:22.318Z"
   },
   {
    "duration": 538,
    "start_time": "2022-07-14T11:03:22.329Z"
   },
   {
    "duration": 523,
    "start_time": "2022-07-14T11:03:22.869Z"
   },
   {
    "duration": 15,
    "start_time": "2022-07-14T11:03:23.394Z"
   },
   {
    "duration": 171,
    "start_time": "2022-07-14T11:03:23.410Z"
   },
   {
    "duration": 37,
    "start_time": "2022-07-14T11:03:23.583Z"
   },
   {
    "duration": 14,
    "start_time": "2022-07-14T11:03:23.622Z"
   },
   {
    "duration": 32,
    "start_time": "2022-07-14T11:03:23.637Z"
   },
   {
    "duration": 4,
    "start_time": "2022-07-14T11:03:23.671Z"
   },
   {
    "duration": 3024,
    "start_time": "2022-07-14T11:03:23.702Z"
   },
   {
    "duration": 0,
    "start_time": "2022-07-14T11:03:26.728Z"
   },
   {
    "duration": 4,
    "start_time": "2022-07-14T11:03:39.345Z"
   },
   {
    "duration": 14,
    "start_time": "2022-07-14T11:06:09.436Z"
   },
   {
    "duration": 565,
    "start_time": "2022-07-14T11:06:19.091Z"
   },
   {
    "duration": 3,
    "start_time": "2022-07-14T11:06:25.940Z"
   },
   {
    "duration": 15,
    "start_time": "2022-07-14T11:06:25.944Z"
   },
   {
    "duration": 218,
    "start_time": "2022-07-14T11:06:25.961Z"
   },
   {
    "duration": 97,
    "start_time": "2022-07-14T11:06:26.180Z"
   },
   {
    "duration": 83,
    "start_time": "2022-07-14T11:06:26.279Z"
   },
   {
    "duration": 70,
    "start_time": "2022-07-14T11:06:26.363Z"
   },
   {
    "duration": 10,
    "start_time": "2022-07-14T11:06:26.435Z"
   },
   {
    "duration": 60,
    "start_time": "2022-07-14T11:06:26.446Z"
   },
   {
    "duration": 9,
    "start_time": "2022-07-14T11:06:26.508Z"
   },
   {
    "duration": 562,
    "start_time": "2022-07-14T11:06:26.518Z"
   },
   {
    "duration": 20,
    "start_time": "2022-07-14T11:06:27.082Z"
   },
   {
    "duration": 9,
    "start_time": "2022-07-14T11:06:27.104Z"
   },
   {
    "duration": 128,
    "start_time": "2022-07-14T11:06:27.115Z"
   },
   {
    "duration": 23,
    "start_time": "2022-07-14T11:06:27.245Z"
   },
   {
    "duration": 15,
    "start_time": "2022-07-14T11:06:27.269Z"
   },
   {
    "duration": 51,
    "start_time": "2022-07-14T11:06:27.285Z"
   },
   {
    "duration": 3,
    "start_time": "2022-07-14T11:06:27.338Z"
   },
   {
    "duration": 1508,
    "start_time": "2022-07-14T11:06:27.344Z"
   },
   {
    "duration": 1,
    "start_time": "2022-07-14T11:06:28.853Z"
   },
   {
    "duration": 20,
    "start_time": "2022-07-14T11:14:30.185Z"
   },
   {
    "duration": 21,
    "start_time": "2022-07-14T11:14:30.503Z"
   },
   {
    "duration": 11,
    "start_time": "2022-07-14T11:17:04.958Z"
   },
   {
    "duration": 1984,
    "start_time": "2022-07-14T11:17:33.065Z"
   },
   {
    "duration": 144,
    "start_time": "2022-07-14T11:18:08.723Z"
   },
   {
    "duration": 15,
    "start_time": "2022-07-14T11:21:37.594Z"
   },
   {
    "duration": 17,
    "start_time": "2022-07-14T11:21:48.178Z"
   },
   {
    "duration": 15,
    "start_time": "2022-07-14T11:21:51.820Z"
   },
   {
    "duration": 22,
    "start_time": "2022-07-14T11:21:55.789Z"
   },
   {
    "duration": 3,
    "start_time": "2022-07-14T11:22:05.916Z"
   },
   {
    "duration": 15,
    "start_time": "2022-07-14T12:40:11.325Z"
   },
   {
    "duration": 3,
    "start_time": "2022-07-14T12:41:02.617Z"
   },
   {
    "duration": 132,
    "start_time": "2022-07-14T12:43:09.023Z"
   },
   {
    "duration": 4,
    "start_time": "2022-07-14T12:43:22.142Z"
   },
   {
    "duration": 159,
    "start_time": "2022-07-14T12:43:28.672Z"
   },
   {
    "duration": 90,
    "start_time": "2022-07-14T12:43:35.241Z"
   },
   {
    "duration": 1504,
    "start_time": "2022-07-14T12:43:47.336Z"
   },
   {
    "duration": 13,
    "start_time": "2022-07-14T12:44:00.517Z"
   },
   {
    "duration": 6,
    "start_time": "2022-07-14T12:45:20.771Z"
   },
   {
    "duration": 6,
    "start_time": "2022-07-14T12:45:24.782Z"
   },
   {
    "duration": 4,
    "start_time": "2022-07-14T12:45:28.182Z"
   },
   {
    "duration": 5,
    "start_time": "2022-07-14T12:45:31.822Z"
   },
   {
    "duration": 5,
    "start_time": "2022-07-14T12:45:36.655Z"
   },
   {
    "duration": 3,
    "start_time": "2022-07-14T12:46:01.362Z"
   },
   {
    "duration": 46,
    "start_time": "2022-07-14T12:46:04.874Z"
   },
   {
    "duration": 1651,
    "start_time": "2022-07-14T12:46:17.389Z"
   },
   {
    "duration": 1636,
    "start_time": "2022-07-14T12:47:34.250Z"
   },
   {
    "duration": 1944,
    "start_time": "2022-07-14T12:47:48.354Z"
   },
   {
    "duration": 9,
    "start_time": "2022-07-14T12:48:40.195Z"
   },
   {
    "duration": 4,
    "start_time": "2022-07-14T12:48:44.930Z"
   },
   {
    "duration": 2262,
    "start_time": "2022-07-14T12:50:02.263Z"
   },
   {
    "duration": 1935,
    "start_time": "2022-07-14T12:50:05.305Z"
   },
   {
    "duration": 46,
    "start_time": "2022-07-14T12:50:25.430Z"
   },
   {
    "duration": 150,
    "start_time": "2022-07-14T12:55:58.790Z"
   },
   {
    "duration": 139,
    "start_time": "2022-07-14T12:56:07.167Z"
   },
   {
    "duration": 1874,
    "start_time": "2022-07-14T12:58:11.009Z"
   },
   {
    "duration": 29,
    "start_time": "2022-07-14T12:58:22.311Z"
   },
   {
    "duration": 42,
    "start_time": "2022-07-14T12:58:26.433Z"
   },
   {
    "duration": 11,
    "start_time": "2022-07-14T12:58:45.164Z"
   },
   {
    "duration": 46,
    "start_time": "2022-07-14T12:58:47.169Z"
   },
   {
    "duration": 6,
    "start_time": "2022-07-14T12:59:27.759Z"
   },
   {
    "duration": 781,
    "start_time": "2022-07-14T12:59:40.245Z"
   },
   {
    "duration": 8,
    "start_time": "2022-07-14T12:59:41.028Z"
   },
   {
    "duration": 416,
    "start_time": "2022-07-14T12:59:41.038Z"
   },
   {
    "duration": 167,
    "start_time": "2022-07-14T12:59:41.457Z"
   },
   {
    "duration": 139,
    "start_time": "2022-07-14T12:59:41.626Z"
   },
   {
    "duration": 127,
    "start_time": "2022-07-14T12:59:41.767Z"
   },
   {
    "duration": 31,
    "start_time": "2022-07-14T12:59:41.903Z"
   },
   {
    "duration": 92,
    "start_time": "2022-07-14T12:59:41.935Z"
   },
   {
    "duration": 15,
    "start_time": "2022-07-14T12:59:42.029Z"
   },
   {
    "duration": 792,
    "start_time": "2022-07-14T12:59:42.049Z"
   },
   {
    "duration": 134,
    "start_time": "2022-07-14T12:59:42.844Z"
   },
   {
    "duration": 0,
    "start_time": "2022-07-14T12:59:42.980Z"
   },
   {
    "duration": 0,
    "start_time": "2022-07-14T12:59:42.981Z"
   },
   {
    "duration": 0,
    "start_time": "2022-07-14T12:59:42.983Z"
   },
   {
    "duration": 0,
    "start_time": "2022-07-14T12:59:42.984Z"
   },
   {
    "duration": 0,
    "start_time": "2022-07-14T12:59:42.986Z"
   },
   {
    "duration": 0,
    "start_time": "2022-07-14T12:59:42.987Z"
   },
   {
    "duration": 0,
    "start_time": "2022-07-14T12:59:42.988Z"
   },
   {
    "duration": 0,
    "start_time": "2022-07-14T12:59:42.988Z"
   },
   {
    "duration": 0,
    "start_time": "2022-07-14T12:59:42.989Z"
   },
   {
    "duration": 0,
    "start_time": "2022-07-14T12:59:42.990Z"
   },
   {
    "duration": 0,
    "start_time": "2022-07-14T12:59:42.990Z"
   },
   {
    "duration": 0,
    "start_time": "2022-07-14T12:59:42.991Z"
   },
   {
    "duration": 6,
    "start_time": "2022-07-14T13:00:24.125Z"
   },
   {
    "duration": 31,
    "start_time": "2022-07-14T13:00:27.907Z"
   },
   {
    "duration": 5,
    "start_time": "2022-07-14T13:00:49.193Z"
   },
   {
    "duration": 295,
    "start_time": "2022-07-14T13:00:49.206Z"
   },
   {
    "duration": 151,
    "start_time": "2022-07-14T13:00:49.504Z"
   },
   {
    "duration": 769,
    "start_time": "2022-07-14T13:00:55.027Z"
   },
   {
    "duration": 5,
    "start_time": "2022-07-14T13:00:55.798Z"
   },
   {
    "duration": 254,
    "start_time": "2022-07-14T13:00:55.805Z"
   },
   {
    "duration": 127,
    "start_time": "2022-07-14T13:00:56.062Z"
   },
   {
    "duration": 123,
    "start_time": "2022-07-14T13:00:56.191Z"
   },
   {
    "duration": 111,
    "start_time": "2022-07-14T13:00:56.315Z"
   },
   {
    "duration": 14,
    "start_time": "2022-07-14T13:00:56.429Z"
   },
   {
    "duration": 61,
    "start_time": "2022-07-14T13:00:56.445Z"
   },
   {
    "duration": 11,
    "start_time": "2022-07-14T13:00:56.508Z"
   },
   {
    "duration": 614,
    "start_time": "2022-07-14T13:00:56.522Z"
   },
   {
    "duration": 19,
    "start_time": "2022-07-14T13:00:57.138Z"
   },
   {
    "duration": 20,
    "start_time": "2022-07-14T13:00:57.159Z"
   },
   {
    "duration": 47,
    "start_time": "2022-07-14T13:00:57.181Z"
   },
   {
    "duration": 29,
    "start_time": "2022-07-14T13:00:57.230Z"
   },
   {
    "duration": 178,
    "start_time": "2022-07-14T13:00:57.260Z"
   },
   {
    "duration": 23,
    "start_time": "2022-07-14T13:00:57.442Z"
   },
   {
    "duration": 209,
    "start_time": "2022-07-14T13:00:57.467Z"
   },
   {
    "duration": 20,
    "start_time": "2022-07-14T13:00:57.678Z"
   },
   {
    "duration": 37,
    "start_time": "2022-07-14T13:00:57.703Z"
   },
   {
    "duration": 41,
    "start_time": "2022-07-14T13:00:57.742Z"
   },
   {
    "duration": 2074,
    "start_time": "2022-07-14T13:00:57.786Z"
   },
   {
    "duration": 0,
    "start_time": "2022-07-14T13:00:59.862Z"
   },
   {
    "duration": 0,
    "start_time": "2022-07-14T13:00:59.864Z"
   },
   {
    "duration": 79,
    "start_time": "2022-07-14T13:04:25.690Z"
   },
   {
    "duration": 55,
    "start_time": "2022-07-14T13:04:33.433Z"
   },
   {
    "duration": 48,
    "start_time": "2022-07-14T13:04:41.700Z"
   },
   {
    "duration": 23,
    "start_time": "2022-07-14T13:05:35.226Z"
   },
   {
    "duration": 758,
    "start_time": "2022-07-14T13:05:41.797Z"
   },
   {
    "duration": 5,
    "start_time": "2022-07-14T13:05:42.557Z"
   },
   {
    "duration": 244,
    "start_time": "2022-07-14T13:05:42.564Z"
   },
   {
    "duration": 188,
    "start_time": "2022-07-14T13:05:42.809Z"
   },
   {
    "duration": 129,
    "start_time": "2022-07-14T13:05:42.998Z"
   },
   {
    "duration": 97,
    "start_time": "2022-07-14T13:05:43.129Z"
   },
   {
    "duration": 16,
    "start_time": "2022-07-14T13:05:43.228Z"
   },
   {
    "duration": 62,
    "start_time": "2022-07-14T13:05:43.246Z"
   },
   {
    "duration": 11,
    "start_time": "2022-07-14T13:05:43.310Z"
   },
   {
    "duration": 665,
    "start_time": "2022-07-14T13:05:43.324Z"
   },
   {
    "duration": 20,
    "start_time": "2022-07-14T13:05:43.990Z"
   },
   {
    "duration": 44,
    "start_time": "2022-07-14T13:05:44.012Z"
   },
   {
    "duration": 10,
    "start_time": "2022-07-14T13:05:44.058Z"
   },
   {
    "duration": 37,
    "start_time": "2022-07-14T13:05:44.070Z"
   },
   {
    "duration": 139,
    "start_time": "2022-07-14T13:05:44.116Z"
   },
   {
    "duration": 16,
    "start_time": "2022-07-14T13:05:44.257Z"
   },
   {
    "duration": 182,
    "start_time": "2022-07-14T13:05:44.274Z"
   },
   {
    "duration": 17,
    "start_time": "2022-07-14T13:05:44.458Z"
   },
   {
    "duration": 37,
    "start_time": "2022-07-14T13:05:44.477Z"
   },
   {
    "duration": 40,
    "start_time": "2022-07-14T13:05:44.516Z"
   },
   {
    "duration": 3,
    "start_time": "2022-07-14T13:05:44.558Z"
   },
   {
    "duration": 10828,
    "start_time": "2022-07-14T13:05:44.563Z"
   },
   {
    "duration": 26,
    "start_time": "2022-07-14T13:05:55.393Z"
   },
   {
    "duration": 78,
    "start_time": "2022-07-14T13:05:55.421Z"
   },
   {
    "duration": 703,
    "start_time": "2022-07-14T13:06:04.071Z"
   },
   {
    "duration": 5,
    "start_time": "2022-07-14T13:06:04.776Z"
   },
   {
    "duration": 279,
    "start_time": "2022-07-14T13:06:04.783Z"
   },
   {
    "duration": 128,
    "start_time": "2022-07-14T13:06:05.065Z"
   },
   {
    "duration": 58,
    "start_time": "2022-07-14T13:06:05.195Z"
   },
   {
    "duration": 123,
    "start_time": "2022-07-14T13:06:05.254Z"
   },
   {
    "duration": 83,
    "start_time": "2022-07-14T13:06:05.378Z"
   },
   {
    "duration": 16,
    "start_time": "2022-07-14T13:06:05.462Z"
   },
   {
    "duration": 88,
    "start_time": "2022-07-14T13:06:05.480Z"
   },
   {
    "duration": 13,
    "start_time": "2022-07-14T13:06:05.572Z"
   },
   {
    "duration": 737,
    "start_time": "2022-07-14T13:06:05.587Z"
   },
   {
    "duration": 23,
    "start_time": "2022-07-14T13:06:06.326Z"
   },
   {
    "duration": 19,
    "start_time": "2022-07-14T13:06:06.355Z"
   },
   {
    "duration": 12,
    "start_time": "2022-07-14T13:06:06.376Z"
   },
   {
    "duration": 32,
    "start_time": "2022-07-14T13:06:06.405Z"
   },
   {
    "duration": 159,
    "start_time": "2022-07-14T13:06:06.439Z"
   },
   {
    "duration": 27,
    "start_time": "2022-07-14T13:06:06.599Z"
   },
   {
    "duration": 167,
    "start_time": "2022-07-14T13:06:06.628Z"
   },
   {
    "duration": 26,
    "start_time": "2022-07-14T13:06:06.797Z"
   },
   {
    "duration": 40,
    "start_time": "2022-07-14T13:06:06.825Z"
   },
   {
    "duration": 24,
    "start_time": "2022-07-14T13:06:06.867Z"
   },
   {
    "duration": 3,
    "start_time": "2022-07-14T13:06:06.893Z"
   },
   {
    "duration": 11042,
    "start_time": "2022-07-14T13:06:06.898Z"
   },
   {
    "duration": 13,
    "start_time": "2022-07-14T13:06:17.942Z"
   },
   {
    "duration": 46,
    "start_time": "2022-07-14T13:06:17.957Z"
   },
   {
    "duration": 11165,
    "start_time": "2022-07-14T13:07:15.076Z"
   },
   {
    "duration": 55,
    "start_time": "2022-07-14T13:07:27.640Z"
   },
   {
    "duration": 12677,
    "start_time": "2022-07-14T13:08:05.028Z"
   },
   {
    "duration": 10688,
    "start_time": "2022-07-14T13:08:34.869Z"
   },
   {
    "duration": 12,
    "start_time": "2022-07-14T13:09:01.115Z"
   },
   {
    "duration": 11991,
    "start_time": "2022-07-14T13:09:08.340Z"
   },
   {
    "duration": 10555,
    "start_time": "2022-07-14T13:09:34.357Z"
   },
   {
    "duration": 42,
    "start_time": "2022-07-14T13:09:45.888Z"
   },
   {
    "duration": 10641,
    "start_time": "2022-07-14T13:09:58.921Z"
   },
   {
    "duration": 39,
    "start_time": "2022-07-14T13:10:12.466Z"
   },
   {
    "duration": 110,
    "start_time": "2022-07-14T13:10:32.381Z"
   },
   {
    "duration": 10880,
    "start_time": "2022-07-14T13:10:50.518Z"
   },
   {
    "duration": 11574,
    "start_time": "2022-07-14T13:11:09.928Z"
   },
   {
    "duration": 10710,
    "start_time": "2022-07-14T13:11:53.858Z"
   },
   {
    "duration": 40,
    "start_time": "2022-07-14T13:12:04.570Z"
   },
   {
    "duration": 10725,
    "start_time": "2022-07-14T13:12:44.228Z"
   },
   {
    "duration": 59,
    "start_time": "2022-07-14T13:12:54.956Z"
   },
   {
    "duration": 18571,
    "start_time": "2022-07-14T13:13:24.849Z"
   },
   {
    "duration": 36,
    "start_time": "2022-07-14T13:13:43.422Z"
   },
   {
    "duration": 20902,
    "start_time": "2022-07-14T13:14:02.794Z"
   },
   {
    "duration": 38,
    "start_time": "2022-07-14T13:14:23.697Z"
   },
   {
    "duration": 161,
    "start_time": "2022-07-14T13:21:42.588Z"
   },
   {
    "duration": 2273,
    "start_time": "2022-07-14T13:22:03.303Z"
   },
   {
    "duration": 1586,
    "start_time": "2022-07-14T13:22:39.918Z"
   },
   {
    "duration": 32,
    "start_time": "2022-07-14T13:22:50.352Z"
   },
   {
    "duration": 39,
    "start_time": "2022-07-14T13:23:05.506Z"
   },
   {
    "duration": 1562,
    "start_time": "2022-07-14T13:24:39.480Z"
   },
   {
    "duration": 22,
    "start_time": "2022-07-14T13:24:50.404Z"
   },
   {
    "duration": 5,
    "start_time": "2022-07-14T13:25:13.165Z"
   },
   {
    "duration": 1740,
    "start_time": "2022-07-14T13:25:14.288Z"
   },
   {
    "duration": 30,
    "start_time": "2022-07-14T13:25:17.477Z"
   },
   {
    "duration": 36,
    "start_time": "2022-07-14T13:25:22.147Z"
   },
   {
    "duration": 82,
    "start_time": "2022-07-14T13:25:55.423Z"
   },
   {
    "duration": 348,
    "start_time": "2022-07-14T13:26:18.332Z"
   },
   {
    "duration": 53,
    "start_time": "2022-07-14T13:26:21.383Z"
   },
   {
    "duration": 236,
    "start_time": "2022-07-14T13:26:38.275Z"
   },
   {
    "duration": 36,
    "start_time": "2022-07-14T13:26:39.148Z"
   },
   {
    "duration": 236,
    "start_time": "2022-07-14T13:27:00.079Z"
   },
   {
    "duration": 12,
    "start_time": "2022-07-14T13:27:58.831Z"
   },
   {
    "duration": 42,
    "start_time": "2022-07-14T13:29:10.983Z"
   },
   {
    "duration": 20119,
    "start_time": "2022-07-14T13:29:43.260Z"
   },
   {
    "duration": 49,
    "start_time": "2022-07-14T13:30:03.381Z"
   },
   {
    "duration": 1753,
    "start_time": "2022-07-14T13:31:50.806Z"
   },
   {
    "duration": 5,
    "start_time": "2022-07-14T13:32:33.296Z"
   },
   {
    "duration": 39051,
    "start_time": "2022-07-14T13:32:34.388Z"
   },
   {
    "duration": 38,
    "start_time": "2022-07-14T13:33:59.863Z"
   },
   {
    "duration": 12,
    "start_time": "2022-07-14T13:35:37.722Z"
   },
   {
    "duration": 755,
    "start_time": "2022-07-14T13:36:01.311Z"
   },
   {
    "duration": 7,
    "start_time": "2022-07-14T13:36:02.068Z"
   },
   {
    "duration": 266,
    "start_time": "2022-07-14T13:36:02.076Z"
   },
   {
    "duration": 125,
    "start_time": "2022-07-14T13:36:02.345Z"
   },
   {
    "duration": 96,
    "start_time": "2022-07-14T13:36:02.471Z"
   },
   {
    "duration": 88,
    "start_time": "2022-07-14T13:36:02.568Z"
   },
   {
    "duration": 11,
    "start_time": "2022-07-14T13:36:02.657Z"
   },
   {
    "duration": 66,
    "start_time": "2022-07-14T13:36:02.669Z"
   },
   {
    "duration": 11,
    "start_time": "2022-07-14T13:36:02.737Z"
   },
   {
    "duration": 52,
    "start_time": "2022-07-14T13:36:02.751Z"
   },
   {
    "duration": 13,
    "start_time": "2022-07-14T13:36:02.805Z"
   },
   {
    "duration": 543,
    "start_time": "2022-07-14T13:36:02.820Z"
   },
   {
    "duration": 16,
    "start_time": "2022-07-14T13:36:03.365Z"
   },
   {
    "duration": 29,
    "start_time": "2022-07-14T13:36:03.383Z"
   },
   {
    "duration": 12,
    "start_time": "2022-07-14T13:36:03.414Z"
   },
   {
    "duration": 33,
    "start_time": "2022-07-14T13:36:03.429Z"
   },
   {
    "duration": 139,
    "start_time": "2022-07-14T13:36:03.464Z"
   },
   {
    "duration": 19,
    "start_time": "2022-07-14T13:36:03.605Z"
   },
   {
    "duration": 161,
    "start_time": "2022-07-14T13:36:03.626Z"
   },
   {
    "duration": 27,
    "start_time": "2022-07-14T13:36:03.789Z"
   },
   {
    "duration": 16,
    "start_time": "2022-07-14T13:36:03.817Z"
   },
   {
    "duration": 22,
    "start_time": "2022-07-14T13:36:03.834Z"
   },
   {
    "duration": 3,
    "start_time": "2022-07-14T13:36:03.858Z"
   },
   {
    "duration": 2346,
    "start_time": "2022-07-14T13:36:03.862Z"
   },
   {
    "duration": 0,
    "start_time": "2022-07-14T13:36:06.210Z"
   },
   {
    "duration": 0,
    "start_time": "2022-07-14T13:36:06.212Z"
   },
   {
    "duration": 0,
    "start_time": "2022-07-14T13:36:06.213Z"
   },
   {
    "duration": 1429,
    "start_time": "2022-07-14T13:36:39.739Z"
   },
   {
    "duration": 5,
    "start_time": "2022-07-14T13:36:47.238Z"
   },
   {
    "duration": 40080,
    "start_time": "2022-07-14T13:36:49.690Z"
   },
   {
    "duration": 36,
    "start_time": "2022-07-14T13:38:29.757Z"
   },
   {
    "duration": 3,
    "start_time": "2022-07-14T13:44:25.246Z"
   },
   {
    "duration": 15,
    "start_time": "2022-07-14T13:47:01.176Z"
   },
   {
    "duration": 116,
    "start_time": "2022-07-14T14:12:43.592Z"
   },
   {
    "duration": 34172,
    "start_time": "2022-07-14T14:12:50.786Z"
   },
   {
    "duration": 38,
    "start_time": "2022-07-14T14:13:41.368Z"
   },
   {
    "duration": 2,
    "start_time": "2022-07-14T14:46:21.823Z"
   },
   {
    "duration": 6,
    "start_time": "2022-07-14T14:46:21.827Z"
   },
   {
    "duration": 281,
    "start_time": "2022-07-14T14:46:21.835Z"
   },
   {
    "duration": 101,
    "start_time": "2022-07-14T14:46:22.118Z"
   },
   {
    "duration": 85,
    "start_time": "2022-07-14T14:46:22.221Z"
   },
   {
    "duration": 62,
    "start_time": "2022-07-14T14:46:22.307Z"
   },
   {
    "duration": 9,
    "start_time": "2022-07-14T14:46:22.371Z"
   },
   {
    "duration": 60,
    "start_time": "2022-07-14T14:46:22.381Z"
   },
   {
    "duration": 10,
    "start_time": "2022-07-14T14:46:22.442Z"
   },
   {
    "duration": 48,
    "start_time": "2022-07-14T14:46:22.454Z"
   },
   {
    "duration": 9,
    "start_time": "2022-07-14T14:46:22.504Z"
   },
   {
    "duration": 524,
    "start_time": "2022-07-14T14:46:22.515Z"
   },
   {
    "duration": 14,
    "start_time": "2022-07-14T14:46:23.041Z"
   },
   {
    "duration": 15,
    "start_time": "2022-07-14T14:46:23.057Z"
   },
   {
    "duration": 28,
    "start_time": "2022-07-14T14:46:23.074Z"
   },
   {
    "duration": 24,
    "start_time": "2022-07-14T14:46:23.103Z"
   },
   {
    "duration": 122,
    "start_time": "2022-07-14T14:46:23.128Z"
   },
   {
    "duration": 13,
    "start_time": "2022-07-14T14:46:23.252Z"
   },
   {
    "duration": 143,
    "start_time": "2022-07-14T14:46:23.267Z"
   },
   {
    "duration": 14,
    "start_time": "2022-07-14T14:46:23.411Z"
   },
   {
    "duration": 13,
    "start_time": "2022-07-14T14:46:23.427Z"
   },
   {
    "duration": 21,
    "start_time": "2022-07-14T14:46:23.442Z"
   },
   {
    "duration": 3,
    "start_time": "2022-07-14T14:46:23.465Z"
   },
   {
    "duration": 32,
    "start_time": "2022-07-14T14:46:23.470Z"
   },
   {
    "duration": 38739,
    "start_time": "2022-07-14T14:46:23.505Z"
   },
   {
    "duration": 19,
    "start_time": "2022-07-14T14:47:02.246Z"
   },
   {
    "duration": 0,
    "start_time": "2022-07-14T14:47:02.267Z"
   },
   {
    "duration": 5,
    "start_time": "2022-07-14T14:50:55.566Z"
   },
   {
    "duration": 87,
    "start_time": "2022-07-14T14:51:14.353Z"
   },
   {
    "duration": 77,
    "start_time": "2022-07-14T14:51:36.061Z"
   },
   {
    "duration": 69189,
    "start_time": "2022-07-14T14:51:59.437Z"
   },
   {
    "duration": 40,
    "start_time": "2022-07-14T14:53:19.049Z"
   },
   {
    "duration": 6,
    "start_time": "2022-07-14T14:53:42.453Z"
   },
   {
    "duration": 38884,
    "start_time": "2022-07-14T14:53:44.470Z"
   },
   {
    "duration": 69640,
    "start_time": "2022-07-14T14:54:23.356Z"
   },
   {
    "duration": 37,
    "start_time": "2022-07-14T14:55:32.997Z"
   },
   {
    "duration": 574,
    "start_time": "2022-07-14T14:58:00.035Z"
   },
   {
    "duration": 11,
    "start_time": "2022-07-14T14:58:00.611Z"
   },
   {
    "duration": 223,
    "start_time": "2022-07-14T14:58:00.623Z"
   },
   {
    "duration": 108,
    "start_time": "2022-07-14T14:58:00.848Z"
   },
   {
    "duration": 95,
    "start_time": "2022-07-14T14:58:00.957Z"
   },
   {
    "duration": 86,
    "start_time": "2022-07-14T14:58:01.054Z"
   },
   {
    "duration": 12,
    "start_time": "2022-07-14T14:58:01.141Z"
   },
   {
    "duration": 61,
    "start_time": "2022-07-14T14:58:01.155Z"
   },
   {
    "duration": 10,
    "start_time": "2022-07-14T14:58:01.217Z"
   },
   {
    "duration": 43,
    "start_time": "2022-07-14T14:58:01.229Z"
   },
   {
    "duration": 9,
    "start_time": "2022-07-14T14:58:01.274Z"
   },
   {
    "duration": 549,
    "start_time": "2022-07-14T14:58:01.284Z"
   },
   {
    "duration": 15,
    "start_time": "2022-07-14T14:58:01.835Z"
   },
   {
    "duration": 19,
    "start_time": "2022-07-14T14:58:01.852Z"
   },
   {
    "duration": 14,
    "start_time": "2022-07-14T14:58:01.872Z"
   },
   {
    "duration": 41,
    "start_time": "2022-07-14T14:58:01.887Z"
   },
   {
    "duration": 126,
    "start_time": "2022-07-14T14:58:01.930Z"
   },
   {
    "duration": 14,
    "start_time": "2022-07-14T14:58:02.058Z"
   },
   {
    "duration": 152,
    "start_time": "2022-07-14T14:58:02.074Z"
   },
   {
    "duration": 16,
    "start_time": "2022-07-14T14:58:02.228Z"
   },
   {
    "duration": 16,
    "start_time": "2022-07-14T14:58:02.245Z"
   },
   {
    "duration": 39,
    "start_time": "2022-07-14T14:58:02.263Z"
   },
   {
    "duration": 2,
    "start_time": "2022-07-14T14:58:02.304Z"
   },
   {
    "duration": 10,
    "start_time": "2022-07-14T14:58:02.308Z"
   },
   {
    "duration": 105910,
    "start_time": "2022-07-14T14:58:02.320Z"
   },
   {
    "duration": 41,
    "start_time": "2022-07-14T14:59:48.231Z"
   },
   {
    "duration": 107892,
    "start_time": "2022-07-14T15:01:52.899Z"
   },
   {
    "duration": 49,
    "start_time": "2022-07-14T22:20:31.358Z"
   },
   {
    "duration": 781,
    "start_time": "2022-07-14T22:20:42.511Z"
   },
   {
    "duration": 18,
    "start_time": "2022-07-14T22:20:43.294Z"
   },
   {
    "duration": 454,
    "start_time": "2022-07-14T22:20:43.313Z"
   },
   {
    "duration": 112,
    "start_time": "2022-07-14T22:20:43.769Z"
   },
   {
    "duration": 93,
    "start_time": "2022-07-14T22:20:43.883Z"
   },
   {
    "duration": 83,
    "start_time": "2022-07-14T22:20:43.978Z"
   },
   {
    "duration": 11,
    "start_time": "2022-07-14T22:20:44.063Z"
   },
   {
    "duration": 77,
    "start_time": "2022-07-14T22:20:44.076Z"
   },
   {
    "duration": 12,
    "start_time": "2022-07-14T22:20:44.154Z"
   },
   {
    "duration": 56,
    "start_time": "2022-07-14T22:20:44.169Z"
   },
   {
    "duration": 10,
    "start_time": "2022-07-14T22:20:44.226Z"
   },
   {
    "duration": 618,
    "start_time": "2022-07-14T22:20:44.237Z"
   },
   {
    "duration": 16,
    "start_time": "2022-07-14T22:20:44.856Z"
   },
   {
    "duration": 35,
    "start_time": "2022-07-14T22:20:44.874Z"
   },
   {
    "duration": 11,
    "start_time": "2022-07-14T22:20:44.911Z"
   },
   {
    "duration": 29,
    "start_time": "2022-07-14T22:20:44.924Z"
   },
   {
    "duration": 155,
    "start_time": "2022-07-14T22:20:44.954Z"
   },
   {
    "duration": 16,
    "start_time": "2022-07-14T22:20:45.111Z"
   },
   {
    "duration": 157,
    "start_time": "2022-07-14T22:20:45.128Z"
   },
   {
    "duration": 26,
    "start_time": "2022-07-14T22:20:45.287Z"
   },
   {
    "duration": 18,
    "start_time": "2022-07-14T22:20:45.315Z"
   },
   {
    "duration": 26,
    "start_time": "2022-07-14T22:20:45.335Z"
   },
   {
    "duration": 5,
    "start_time": "2022-07-14T22:20:45.363Z"
   },
   {
    "duration": 14,
    "start_time": "2022-07-14T22:20:45.369Z"
   },
   {
    "duration": 113527,
    "start_time": "2022-07-14T22:20:45.384Z"
   },
   {
    "duration": 0,
    "start_time": "2022-07-14T22:22:38.912Z"
   },
   {
    "duration": 0,
    "start_time": "2022-07-14T22:22:38.914Z"
   },
   {
    "duration": 44,
    "start_time": "2022-07-14T22:22:51.792Z"
   },
   {
    "duration": 793,
    "start_time": "2022-07-14T22:22:57.226Z"
   },
   {
    "duration": 28,
    "start_time": "2022-07-14T22:23:05.729Z"
   },
   {
    "duration": 794,
    "start_time": "2022-07-14T22:23:28.206Z"
   },
   {
    "duration": 8,
    "start_time": "2022-07-14T22:24:00.201Z"
   },
   {
    "duration": 54281,
    "start_time": "2022-07-14T22:24:04.775Z"
   },
   {
    "duration": 31,
    "start_time": "2022-07-14T22:25:09.701Z"
   },
   {
    "duration": 451,
    "start_time": "2022-07-14T22:25:17.507Z"
   },
   {
    "duration": 4,
    "start_time": "2022-07-14T22:25:29.341Z"
   },
   {
    "duration": 32,
    "start_time": "2022-07-14T22:25:35.099Z"
   },
   {
    "duration": 1840,
    "start_time": "2022-07-15T13:38:07.811Z"
   },
   {
    "duration": 18,
    "start_time": "2022-07-15T13:49:26.152Z"
   },
   {
    "duration": 1575,
    "start_time": "2022-07-15T13:55:07.740Z"
   },
   {
    "duration": 12,
    "start_time": "2022-07-15T13:55:09.317Z"
   },
   {
    "duration": 1163,
    "start_time": "2022-07-15T13:55:09.331Z"
   },
   {
    "duration": 141,
    "start_time": "2022-07-15T13:55:10.497Z"
   },
   {
    "duration": 119,
    "start_time": "2022-07-15T13:55:10.640Z"
   },
   {
    "duration": 105,
    "start_time": "2022-07-15T13:55:10.765Z"
   },
   {
    "duration": 27,
    "start_time": "2022-07-15T13:55:10.880Z"
   },
   {
    "duration": 68,
    "start_time": "2022-07-15T13:55:10.908Z"
   },
   {
    "duration": 19,
    "start_time": "2022-07-15T13:55:10.979Z"
   },
   {
    "duration": 47,
    "start_time": "2022-07-15T13:55:11.002Z"
   },
   {
    "duration": 28,
    "start_time": "2022-07-15T13:55:11.055Z"
   },
   {
    "duration": 720,
    "start_time": "2022-07-15T13:55:11.085Z"
   },
   {
    "duration": 16,
    "start_time": "2022-07-15T13:55:11.807Z"
   },
   {
    "duration": 42,
    "start_time": "2022-07-15T13:55:11.825Z"
   },
   {
    "duration": 16,
    "start_time": "2022-07-15T13:55:11.869Z"
   },
   {
    "duration": 29,
    "start_time": "2022-07-15T13:55:11.887Z"
   },
   {
    "duration": 173,
    "start_time": "2022-07-15T13:55:11.918Z"
   },
   {
    "duration": 18,
    "start_time": "2022-07-15T13:55:12.093Z"
   },
   {
    "duration": 214,
    "start_time": "2022-07-15T13:55:12.113Z"
   },
   {
    "duration": 37,
    "start_time": "2022-07-15T13:55:12.329Z"
   },
   {
    "duration": 36,
    "start_time": "2022-07-15T13:55:12.368Z"
   },
   {
    "duration": 29,
    "start_time": "2022-07-15T13:55:12.406Z"
   },
   {
    "duration": 4,
    "start_time": "2022-07-15T13:55:12.437Z"
   },
   {
    "duration": 26,
    "start_time": "2022-07-15T13:55:12.443Z"
   },
   {
    "duration": 131061,
    "start_time": "2022-07-15T13:55:12.474Z"
   },
   {
    "duration": 65579,
    "start_time": "2022-07-15T13:57:23.537Z"
   },
   {
    "duration": 57,
    "start_time": "2022-07-15T13:58:29.119Z"
   },
   {
    "duration": 5,
    "start_time": "2022-07-15T13:58:29.180Z"
   },
   {
    "duration": 190,
    "start_time": "2022-07-15T13:58:29.188Z"
   },
   {
    "duration": 13,
    "start_time": "2022-07-15T13:58:29.380Z"
   },
   {
    "duration": 23,
    "start_time": "2022-07-15T13:59:55.482Z"
   },
   {
    "duration": 33,
    "start_time": "2022-07-15T14:00:28.888Z"
   },
   {
    "duration": 65,
    "start_time": "2022-07-15T14:01:14.142Z"
   },
   {
    "duration": 60,
    "start_time": "2022-07-15T14:01:22.427Z"
   },
   {
    "duration": 10,
    "start_time": "2022-07-15T14:02:01.911Z"
   },
   {
    "duration": 40,
    "start_time": "2022-07-15T14:02:11.783Z"
   },
   {
    "duration": 8,
    "start_time": "2022-07-15T14:02:45.130Z"
   },
   {
    "duration": 139,
    "start_time": "2022-07-15T14:02:49.135Z"
   },
   {
    "duration": 7,
    "start_time": "2022-07-15T14:02:49.610Z"
   },
   {
    "duration": 37,
    "start_time": "2022-07-15T14:02:50.943Z"
   },
   {
    "duration": 23,
    "start_time": "2022-07-15T14:02:59.096Z"
   },
   {
    "duration": 15,
    "start_time": "2022-07-15T14:03:09.482Z"
   },
   {
    "duration": 13,
    "start_time": "2022-07-15T14:09:03.192Z"
   },
   {
    "duration": 1455,
    "start_time": "2022-07-15T14:09:08.591Z"
   },
   {
    "duration": 24,
    "start_time": "2022-07-15T14:09:10.048Z"
   },
   {
    "duration": 296,
    "start_time": "2022-07-15T14:09:10.075Z"
   },
   {
    "duration": 140,
    "start_time": "2022-07-15T14:09:10.373Z"
   },
   {
    "duration": 116,
    "start_time": "2022-07-15T14:09:10.515Z"
   },
   {
    "duration": 111,
    "start_time": "2022-07-15T14:09:10.634Z"
   },
   {
    "duration": 21,
    "start_time": "2022-07-15T14:09:10.747Z"
   },
   {
    "duration": 64,
    "start_time": "2022-07-15T14:09:10.770Z"
   },
   {
    "duration": 29,
    "start_time": "2022-07-15T14:09:10.836Z"
   },
   {
    "duration": 48,
    "start_time": "2022-07-15T14:09:10.871Z"
   },
   {
    "duration": 34,
    "start_time": "2022-07-15T14:09:10.921Z"
   },
   {
    "duration": 696,
    "start_time": "2022-07-15T14:09:10.962Z"
   },
   {
    "duration": 23,
    "start_time": "2022-07-15T14:09:11.659Z"
   },
   {
    "duration": 22,
    "start_time": "2022-07-15T14:09:11.684Z"
   },
   {
    "duration": 12,
    "start_time": "2022-07-15T14:09:11.708Z"
   },
   {
    "duration": 53,
    "start_time": "2022-07-15T14:09:11.722Z"
   },
   {
    "duration": 158,
    "start_time": "2022-07-15T14:09:11.777Z"
   },
   {
    "duration": 32,
    "start_time": "2022-07-15T14:09:11.936Z"
   },
   {
    "duration": 164,
    "start_time": "2022-07-15T14:09:11.971Z"
   },
   {
    "duration": 29,
    "start_time": "2022-07-15T14:09:12.137Z"
   },
   {
    "duration": 21,
    "start_time": "2022-07-15T14:09:12.170Z"
   },
   {
    "duration": 25,
    "start_time": "2022-07-15T14:09:12.193Z"
   },
   {
    "duration": 3,
    "start_time": "2022-07-15T14:09:12.221Z"
   },
   {
    "duration": 39,
    "start_time": "2022-07-15T14:09:12.226Z"
   },
   {
    "duration": 46618,
    "start_time": "2022-07-15T14:09:12.267Z"
   },
   {
    "duration": 0,
    "start_time": "2022-07-15T14:09:58.887Z"
   },
   {
    "duration": 0,
    "start_time": "2022-07-15T14:09:58.888Z"
   },
   {
    "duration": 0,
    "start_time": "2022-07-15T14:09:58.890Z"
   },
   {
    "duration": 0,
    "start_time": "2022-07-15T14:09:58.891Z"
   },
   {
    "duration": 0,
    "start_time": "2022-07-15T14:09:58.892Z"
   },
   {
    "duration": 0,
    "start_time": "2022-07-15T14:09:58.893Z"
   },
   {
    "duration": 0,
    "start_time": "2022-07-15T14:09:58.895Z"
   },
   {
    "duration": 0,
    "start_time": "2022-07-15T14:09:58.897Z"
   },
   {
    "duration": 1702,
    "start_time": "2022-07-15T14:15:44.663Z"
   },
   {
    "duration": 21,
    "start_time": "2022-07-15T14:15:46.370Z"
   },
   {
    "duration": 314,
    "start_time": "2022-07-15T14:15:46.399Z"
   },
   {
    "duration": 130,
    "start_time": "2022-07-15T14:15:46.714Z"
   },
   {
    "duration": 114,
    "start_time": "2022-07-15T14:15:46.851Z"
   },
   {
    "duration": 84,
    "start_time": "2022-07-15T14:15:46.974Z"
   },
   {
    "duration": 20,
    "start_time": "2022-07-15T14:15:47.059Z"
   },
   {
    "duration": 62,
    "start_time": "2022-07-15T14:15:47.081Z"
   },
   {
    "duration": 24,
    "start_time": "2022-07-15T14:15:47.144Z"
   },
   {
    "duration": 50,
    "start_time": "2022-07-15T14:15:47.170Z"
   },
   {
    "duration": 12,
    "start_time": "2022-07-15T14:15:47.222Z"
   },
   {
    "duration": 734,
    "start_time": "2022-07-15T14:15:47.236Z"
   },
   {
    "duration": 18,
    "start_time": "2022-07-15T14:15:47.973Z"
   },
   {
    "duration": 21,
    "start_time": "2022-07-15T14:15:47.994Z"
   },
   {
    "duration": 13,
    "start_time": "2022-07-15T14:15:48.017Z"
   },
   {
    "duration": 33,
    "start_time": "2022-07-15T14:15:48.055Z"
   },
   {
    "duration": 203,
    "start_time": "2022-07-15T14:15:48.090Z"
   },
   {
    "duration": 22,
    "start_time": "2022-07-15T14:15:48.295Z"
   },
   {
    "duration": 215,
    "start_time": "2022-07-15T14:15:48.320Z"
   },
   {
    "duration": 34,
    "start_time": "2022-07-15T14:15:48.537Z"
   },
   {
    "duration": 20,
    "start_time": "2022-07-15T14:15:48.573Z"
   },
   {
    "duration": 35,
    "start_time": "2022-07-15T14:15:48.595Z"
   },
   {
    "duration": 4,
    "start_time": "2022-07-15T14:15:48.632Z"
   },
   {
    "duration": 12,
    "start_time": "2022-07-15T14:15:48.658Z"
   },
   {
    "duration": 51931,
    "start_time": "2022-07-15T14:15:48.672Z"
   },
   {
    "duration": 0,
    "start_time": "2022-07-15T14:16:40.605Z"
   },
   {
    "duration": 0,
    "start_time": "2022-07-15T14:16:40.607Z"
   },
   {
    "duration": 0,
    "start_time": "2022-07-15T14:16:40.608Z"
   },
   {
    "duration": 0,
    "start_time": "2022-07-15T14:16:40.610Z"
   },
   {
    "duration": 0,
    "start_time": "2022-07-15T14:16:40.611Z"
   },
   {
    "duration": 0,
    "start_time": "2022-07-15T14:16:40.612Z"
   },
   {
    "duration": 0,
    "start_time": "2022-07-15T14:16:40.614Z"
   },
   {
    "duration": 0,
    "start_time": "2022-07-15T14:16:40.616Z"
   },
   {
    "duration": 2002,
    "start_time": "2022-07-15T14:19:41.772Z"
   },
   {
    "duration": 5,
    "start_time": "2022-07-15T14:21:41.893Z"
   },
   {
    "duration": 15,
    "start_time": "2022-07-15T14:21:42.097Z"
   },
   {
    "duration": 293,
    "start_time": "2022-07-15T14:21:42.876Z"
   },
   {
    "duration": 135,
    "start_time": "2022-07-15T14:21:43.294Z"
   },
   {
    "duration": 121,
    "start_time": "2022-07-15T14:21:44.125Z"
   },
   {
    "duration": 89,
    "start_time": "2022-07-15T14:21:45.810Z"
   },
   {
    "duration": 19,
    "start_time": "2022-07-15T14:21:46.650Z"
   },
   {
    "duration": 80,
    "start_time": "2022-07-15T14:21:47.050Z"
   },
   {
    "duration": 21,
    "start_time": "2022-07-15T14:21:47.377Z"
   },
   {
    "duration": 46,
    "start_time": "2022-07-15T14:21:47.697Z"
   },
   {
    "duration": 11,
    "start_time": "2022-07-15T14:21:48.035Z"
   },
   {
    "duration": 815,
    "start_time": "2022-07-15T14:21:48.196Z"
   },
   {
    "duration": 20,
    "start_time": "2022-07-15T14:21:49.013Z"
   },
   {
    "duration": 34,
    "start_time": "2022-07-15T14:21:49.035Z"
   },
   {
    "duration": 15,
    "start_time": "2022-07-15T14:21:49.071Z"
   },
   {
    "duration": 39,
    "start_time": "2022-07-15T14:21:49.220Z"
   },
   {
    "duration": 152,
    "start_time": "2022-07-15T14:21:49.400Z"
   },
   {
    "duration": 22,
    "start_time": "2022-07-15T14:21:49.743Z"
   },
   {
    "duration": 205,
    "start_time": "2022-07-15T14:21:49.906Z"
   },
   {
    "duration": 23,
    "start_time": "2022-07-15T14:21:50.262Z"
   },
   {
    "duration": 19,
    "start_time": "2022-07-15T14:21:51.251Z"
   },
   {
    "duration": 34,
    "start_time": "2022-07-15T14:21:51.777Z"
   },
   {
    "duration": 5,
    "start_time": "2022-07-15T14:21:52.278Z"
   },
   {
    "duration": 2103,
    "start_time": "2022-07-15T14:21:54.777Z"
   },
   {
    "duration": 0,
    "start_time": "2022-07-15T14:22:53.599Z"
   },
   {
    "duration": 0,
    "start_time": "2022-07-15T14:22:53.600Z"
   },
   {
    "duration": 8,
    "start_time": "2022-07-15T14:23:18.707Z"
   },
   {
    "duration": 51816,
    "start_time": "2022-07-15T14:23:19.707Z"
   },
   {
    "duration": 26834,
    "start_time": "2022-07-15T14:24:31.246Z"
   },
   {
    "duration": 0,
    "start_time": "2022-07-15T14:24:58.084Z"
   },
   {
    "duration": 53,
    "start_time": "2022-07-15T14:25:33.490Z"
   },
   {
    "duration": 126,
    "start_time": "2022-07-15T14:25:58.599Z"
   },
   {
    "duration": 41,
    "start_time": "2022-07-15T14:26:40.129Z"
   },
   {
    "duration": 57,
    "start_time": "2022-07-15T14:26:43.568Z"
   },
   {
    "duration": 41,
    "start_time": "2022-07-15T14:27:04.273Z"
   },
   {
    "duration": 82,
    "start_time": "2022-07-15T14:27:08.483Z"
   },
   {
    "duration": 77,
    "start_time": "2022-07-15T14:27:27.780Z"
   },
   {
    "duration": 560,
    "start_time": "2022-07-15T14:27:28.852Z"
   },
   {
    "duration": 87,
    "start_time": "2022-07-15T14:27:39.147Z"
   },
   {
    "duration": 97,
    "start_time": "2022-07-15T14:27:42.524Z"
   },
   {
    "duration": 80,
    "start_time": "2022-07-15T14:27:49.880Z"
   },
   {
    "duration": 85,
    "start_time": "2022-07-15T14:27:52.692Z"
   },
   {
    "duration": 89,
    "start_time": "2022-07-15T14:27:55.316Z"
   },
   {
    "duration": 81,
    "start_time": "2022-07-15T14:27:57.779Z"
   },
   {
    "duration": 408,
    "start_time": "2022-07-15T14:28:02.772Z"
   },
   {
    "duration": 91,
    "start_time": "2022-07-15T14:28:43.884Z"
   },
   {
    "duration": 111,
    "start_time": "2022-07-15T14:28:46.191Z"
   },
   {
    "duration": 205,
    "start_time": "2022-07-15T14:28:50.477Z"
   },
   {
    "duration": 7,
    "start_time": "2022-07-15T14:28:51.397Z"
   },
   {
    "duration": 23,
    "start_time": "2022-07-15T14:28:53.213Z"
   },
   {
    "duration": 82,
    "start_time": "2022-07-15T14:28:57.790Z"
   },
   {
    "duration": 198,
    "start_time": "2022-07-15T14:29:00.175Z"
   },
   {
    "duration": 10,
    "start_time": "2022-07-15T14:29:00.575Z"
   },
   {
    "duration": 26,
    "start_time": "2022-07-15T14:29:01.791Z"
   },
   {
    "duration": 12,
    "start_time": "2022-07-15T14:29:07.477Z"
   },
   {
    "duration": 206,
    "start_time": "2022-07-15T14:29:20.912Z"
   },
   {
    "duration": 8,
    "start_time": "2022-07-15T14:29:21.579Z"
   },
   {
    "duration": 25,
    "start_time": "2022-07-15T14:29:22.502Z"
   },
   {
    "duration": 1479,
    "start_time": "2022-07-15T14:29:32.070Z"
   },
   {
    "duration": 21,
    "start_time": "2022-07-15T14:29:33.552Z"
   },
   {
    "duration": 259,
    "start_time": "2022-07-15T14:29:33.575Z"
   },
   {
    "duration": 133,
    "start_time": "2022-07-15T14:29:33.836Z"
   },
   {
    "duration": 101,
    "start_time": "2022-07-15T14:29:33.972Z"
   },
   {
    "duration": 91,
    "start_time": "2022-07-15T14:29:34.075Z"
   },
   {
    "duration": 22,
    "start_time": "2022-07-15T14:29:34.167Z"
   },
   {
    "duration": 48,
    "start_time": "2022-07-15T14:29:34.191Z"
   },
   {
    "duration": 29,
    "start_time": "2022-07-15T14:29:34.240Z"
   },
   {
    "duration": 54,
    "start_time": "2022-07-15T14:29:34.271Z"
   },
   {
    "duration": 10,
    "start_time": "2022-07-15T14:29:34.326Z"
   },
   {
    "duration": 731,
    "start_time": "2022-07-15T14:29:34.337Z"
   },
   {
    "duration": 22,
    "start_time": "2022-07-15T14:29:35.073Z"
   },
   {
    "duration": 34,
    "start_time": "2022-07-15T14:29:35.099Z"
   },
   {
    "duration": 12,
    "start_time": "2022-07-15T14:29:35.135Z"
   },
   {
    "duration": 77,
    "start_time": "2022-07-15T14:29:35.148Z"
   },
   {
    "duration": 160,
    "start_time": "2022-07-15T14:29:35.227Z"
   },
   {
    "duration": 16,
    "start_time": "2022-07-15T14:29:35.389Z"
   },
   {
    "duration": 184,
    "start_time": "2022-07-15T14:29:35.407Z"
   },
   {
    "duration": 17,
    "start_time": "2022-07-15T14:29:35.593Z"
   },
   {
    "duration": 16,
    "start_time": "2022-07-15T14:29:35.612Z"
   },
   {
    "duration": 55,
    "start_time": "2022-07-15T14:29:35.630Z"
   },
   {
    "duration": 21,
    "start_time": "2022-07-15T14:29:35.687Z"
   },
   {
    "duration": 12,
    "start_time": "2022-07-15T14:29:35.710Z"
   },
   {
    "duration": 49404,
    "start_time": "2022-07-15T14:29:35.723Z"
   },
   {
    "duration": 0,
    "start_time": "2022-07-15T14:30:25.129Z"
   },
   {
    "duration": 0,
    "start_time": "2022-07-15T14:30:25.131Z"
   },
   {
    "duration": 0,
    "start_time": "2022-07-15T14:30:25.132Z"
   },
   {
    "duration": 0,
    "start_time": "2022-07-15T14:30:25.133Z"
   },
   {
    "duration": 0,
    "start_time": "2022-07-15T14:30:25.135Z"
   },
   {
    "duration": 0,
    "start_time": "2022-07-15T14:30:25.136Z"
   },
   {
    "duration": 0,
    "start_time": "2022-07-15T14:30:25.137Z"
   },
   {
    "duration": 0,
    "start_time": "2022-07-15T14:30:25.154Z"
   },
   {
    "duration": 0,
    "start_time": "2022-07-15T14:30:25.155Z"
   },
   {
    "duration": 14,
    "start_time": "2022-07-15T14:31:21.494Z"
   },
   {
    "duration": 1554,
    "start_time": "2022-07-15T14:31:28.087Z"
   },
   {
    "duration": 21,
    "start_time": "2022-07-15T14:31:29.643Z"
   },
   {
    "duration": 324,
    "start_time": "2022-07-15T14:31:29.666Z"
   },
   {
    "duration": 130,
    "start_time": "2022-07-15T14:31:29.996Z"
   },
   {
    "duration": 119,
    "start_time": "2022-07-15T14:31:30.127Z"
   },
   {
    "duration": 106,
    "start_time": "2022-07-15T14:31:30.248Z"
   },
   {
    "duration": 36,
    "start_time": "2022-07-15T14:31:30.356Z"
   },
   {
    "duration": 73,
    "start_time": "2022-07-15T14:31:30.394Z"
   },
   {
    "duration": 19,
    "start_time": "2022-07-15T14:31:30.469Z"
   },
   {
    "duration": 87,
    "start_time": "2022-07-15T14:31:30.493Z"
   },
   {
    "duration": 13,
    "start_time": "2022-07-15T14:31:30.582Z"
   },
   {
    "duration": 737,
    "start_time": "2022-07-15T14:31:30.597Z"
   },
   {
    "duration": 40,
    "start_time": "2022-07-15T14:31:31.337Z"
   },
   {
    "duration": 30,
    "start_time": "2022-07-15T14:31:31.383Z"
   },
   {
    "duration": 13,
    "start_time": "2022-07-15T14:31:31.415Z"
   },
   {
    "duration": 34,
    "start_time": "2022-07-15T14:31:31.430Z"
   },
   {
    "duration": 158,
    "start_time": "2022-07-15T14:31:31.466Z"
   },
   {
    "duration": 43,
    "start_time": "2022-07-15T14:31:31.626Z"
   },
   {
    "duration": 168,
    "start_time": "2022-07-15T14:31:31.671Z"
   },
   {
    "duration": 35,
    "start_time": "2022-07-15T14:31:31.841Z"
   },
   {
    "duration": 22,
    "start_time": "2022-07-15T14:31:31.878Z"
   },
   {
    "duration": 30,
    "start_time": "2022-07-15T14:31:31.902Z"
   },
   {
    "duration": 25,
    "start_time": "2022-07-15T14:31:31.935Z"
   },
   {
    "duration": 21,
    "start_time": "2022-07-15T14:31:31.967Z"
   },
   {
    "duration": 153989,
    "start_time": "2022-07-15T14:31:31.990Z"
   },
   {
    "duration": 74826,
    "start_time": "2022-07-15T14:34:05.982Z"
   },
   {
    "duration": 79,
    "start_time": "2022-07-15T14:35:20.810Z"
   },
   {
    "duration": 15,
    "start_time": "2022-07-15T14:35:20.894Z"
   },
   {
    "duration": 6,
    "start_time": "2022-07-15T14:35:20.911Z"
   },
   {
    "duration": 101,
    "start_time": "2022-07-15T14:35:20.919Z"
   },
   {
    "duration": 260,
    "start_time": "2022-07-15T14:35:21.023Z"
   },
   {
    "duration": 12,
    "start_time": "2022-07-15T14:35:21.285Z"
   },
   {
    "duration": 30,
    "start_time": "2022-07-15T14:35:21.299Z"
   },
   {
    "duration": 161,
    "start_time": "2022-07-15T14:35:21.332Z"
   },
   {
    "duration": 53,
    "start_time": "2022-07-15T14:37:03.585Z"
   },
   {
    "duration": 23,
    "start_time": "2022-07-15T14:37:15.808Z"
   },
   {
    "duration": 7,
    "start_time": "2022-07-15T14:37:32.111Z"
   },
   {
    "duration": 54,
    "start_time": "2022-07-15T14:37:42.317Z"
   },
   {
    "duration": 51,
    "start_time": "2022-07-15T14:38:00.061Z"
   },
   {
    "duration": 39,
    "start_time": "2022-07-15T14:38:25.003Z"
   },
   {
    "duration": 27,
    "start_time": "2022-07-15T14:38:38.477Z"
   },
   {
    "duration": 7,
    "start_time": "2022-07-15T14:38:38.809Z"
   },
   {
    "duration": 87,
    "start_time": "2022-07-15T14:39:39.461Z"
   },
   {
    "duration": 7,
    "start_time": "2022-07-15T14:44:20.870Z"
   },
   {
    "duration": 1079,
    "start_time": "2022-07-15T14:47:59.204Z"
   },
   {
    "duration": 2266,
    "start_time": "2022-07-15T14:48:23.301Z"
   },
   {
    "duration": 4,
    "start_time": "2022-07-15T14:49:51.828Z"
   },
   {
    "duration": 1044,
    "start_time": "2022-07-15T14:49:52.002Z"
   },
   {
    "duration": 4,
    "start_time": "2022-07-15T14:50:01.823Z"
   },
   {
    "duration": 2367,
    "start_time": "2022-07-15T14:50:07.296Z"
   },
   {
    "duration": 4703,
    "start_time": "2022-07-15T14:50:43.205Z"
   },
   {
    "duration": 13764,
    "start_time": "2022-07-15T14:51:20.172Z"
   },
   {
    "duration": 6102,
    "start_time": "2022-07-15T14:58:03.063Z"
   },
   {
    "duration": 8468,
    "start_time": "2022-07-15T14:58:11.728Z"
   },
   {
    "duration": 3,
    "start_time": "2022-07-15T14:58:57.941Z"
   },
   {
    "duration": 2,
    "start_time": "2022-07-15T14:59:02.722Z"
   },
   {
    "duration": 10826,
    "start_time": "2022-07-15T14:59:05.526Z"
   },
   {
    "duration": 123062,
    "start_time": "2022-07-15T15:00:06.425Z"
   },
   {
    "duration": 615,
    "start_time": "2022-07-15T15:08:17.180Z"
   },
   {
    "duration": 3,
    "start_time": "2022-07-15T15:08:24.546Z"
   },
   {
    "duration": 9693,
    "start_time": "2022-07-15T15:08:26.378Z"
   },
   {
    "duration": 1500,
    "start_time": "2022-07-15T15:15:17.723Z"
   },
   {
    "duration": 13,
    "start_time": "2022-07-15T15:15:19.225Z"
   },
   {
    "duration": 286,
    "start_time": "2022-07-15T15:15:19.240Z"
   },
   {
    "duration": 155,
    "start_time": "2022-07-15T15:15:19.528Z"
   },
   {
    "duration": 130,
    "start_time": "2022-07-15T15:15:19.685Z"
   },
   {
    "duration": 108,
    "start_time": "2022-07-15T15:15:19.817Z"
   },
   {
    "duration": 11,
    "start_time": "2022-07-15T15:15:19.927Z"
   },
   {
    "duration": 81,
    "start_time": "2022-07-15T15:15:19.940Z"
   },
   {
    "duration": 11,
    "start_time": "2022-07-15T15:15:20.023Z"
   },
   {
    "duration": 73,
    "start_time": "2022-07-15T15:15:20.037Z"
   },
   {
    "duration": 10,
    "start_time": "2022-07-15T15:15:20.112Z"
   },
   {
    "duration": 711,
    "start_time": "2022-07-15T15:15:20.124Z"
   },
   {
    "duration": 29,
    "start_time": "2022-07-15T15:15:20.837Z"
   },
   {
    "duration": 25,
    "start_time": "2022-07-15T15:15:20.881Z"
   },
   {
    "duration": 13,
    "start_time": "2022-07-15T15:15:20.907Z"
   },
   {
    "duration": 43,
    "start_time": "2022-07-15T15:15:20.922Z"
   },
   {
    "duration": 161,
    "start_time": "2022-07-15T15:15:20.978Z"
   },
   {
    "duration": 22,
    "start_time": "2022-07-15T15:15:21.141Z"
   },
   {
    "duration": 214,
    "start_time": "2022-07-15T15:15:21.164Z"
   },
   {
    "duration": 20,
    "start_time": "2022-07-15T15:15:21.380Z"
   },
   {
    "duration": 22,
    "start_time": "2022-07-15T15:15:21.406Z"
   },
   {
    "duration": 44,
    "start_time": "2022-07-15T15:15:21.430Z"
   },
   {
    "duration": 23,
    "start_time": "2022-07-15T15:15:21.481Z"
   },
   {
    "duration": 14,
    "start_time": "2022-07-15T15:15:21.505Z"
   },
   {
    "duration": 144349,
    "start_time": "2022-07-15T15:15:21.520Z"
   },
   {
    "duration": 70152,
    "start_time": "2022-07-15T15:17:45.873Z"
   },
   {
    "duration": 83,
    "start_time": "2022-07-15T15:18:56.027Z"
   },
   {
    "duration": 16,
    "start_time": "2022-07-15T15:18:56.114Z"
   },
   {
    "duration": 9,
    "start_time": "2022-07-15T15:18:56.132Z"
   },
   {
    "duration": 82,
    "start_time": "2022-07-15T15:18:56.152Z"
   },
   {
    "duration": 256,
    "start_time": "2022-07-15T15:18:56.237Z"
   },
   {
    "duration": 9,
    "start_time": "2022-07-15T15:18:56.503Z"
   },
   {
    "duration": 23,
    "start_time": "2022-07-15T15:18:56.514Z"
   },
   {
    "duration": 54,
    "start_time": "2022-07-15T15:18:56.539Z"
   },
   {
    "duration": 14,
    "start_time": "2022-07-15T15:18:56.595Z"
   },
   {
    "duration": 124042,
    "start_time": "2022-07-15T15:18:56.612Z"
   },
   {
    "duration": 537361,
    "start_time": "2022-07-15T15:21:00.666Z"
   },
   {
    "duration": 0,
    "start_time": "2022-07-15T15:29:58.029Z"
   },
   {
    "duration": 1233555,
    "start_time": "2022-07-15T15:30:27.885Z"
   },
   {
    "duration": 1096,
    "start_time": "2022-07-15T15:51:14.597Z"
   },
   {
    "duration": 24810,
    "start_time": "2022-07-15T15:51:28.773Z"
   },
   {
    "duration": 929251,
    "start_time": "2022-07-15T15:52:01.865Z"
   },
   {
    "duration": 9,
    "start_time": "2022-07-15T16:18:02.270Z"
   },
   {
    "duration": 74325,
    "start_time": "2022-07-15T16:18:12.628Z"
   },
   {
    "duration": 11,
    "start_time": "2022-07-15T16:21:07.630Z"
   },
   {
    "duration": 12780,
    "start_time": "2022-07-15T16:21:16.973Z"
   },
   {
    "duration": 12,
    "start_time": "2022-07-15T16:32:53.275Z"
   },
   {
    "duration": 12,
    "start_time": "2022-07-15T16:33:40.722Z"
   },
   {
    "duration": 17,
    "start_time": "2022-07-15T16:36:10.446Z"
   },
   {
    "duration": 2515,
    "start_time": "2022-07-15T16:36:26.882Z"
   },
   {
    "duration": 2884,
    "start_time": "2022-07-15T16:36:40.584Z"
   },
   {
    "duration": 2807,
    "start_time": "2022-07-15T16:36:51.338Z"
   },
   {
    "duration": 2837,
    "start_time": "2022-07-15T16:39:20.786Z"
   },
   {
    "duration": 24,
    "start_time": "2022-07-15T16:41:08.597Z"
   },
   {
    "duration": 549,
    "start_time": "2022-07-15T16:41:33.121Z"
   },
   {
    "duration": 4,
    "start_time": "2022-07-15T16:43:32.941Z"
   },
   {
    "duration": 40,
    "start_time": "2022-07-15T16:43:51.143Z"
   },
   {
    "duration": 14,
    "start_time": "2022-07-15T16:48:16.691Z"
   },
   {
    "duration": 23587,
    "start_time": "2022-07-15T16:48:27.768Z"
   },
   {
    "duration": 33,
    "start_time": "2022-07-15T16:49:05.117Z"
   },
   {
    "duration": 22819,
    "start_time": "2022-07-15T16:51:29.267Z"
   },
   {
    "duration": 29,
    "start_time": "2022-07-15T16:52:44.216Z"
   },
   {
    "duration": 5,
    "start_time": "2022-07-15T16:57:01.863Z"
   },
   {
    "duration": 6,
    "start_time": "2022-07-15T16:57:09.163Z"
   },
   {
    "duration": 24261,
    "start_time": "2022-07-15T17:01:52.109Z"
   },
   {
    "duration": 40,
    "start_time": "2022-07-15T17:02:48.462Z"
   },
   {
    "duration": 7,
    "start_time": "2022-07-15T17:02:52.116Z"
   },
   {
    "duration": 8,
    "start_time": "2022-07-15T17:04:42.469Z"
   },
   {
    "duration": 5,
    "start_time": "2022-07-15T17:04:57.086Z"
   },
   {
    "duration": 1516,
    "start_time": "2022-07-15T17:05:23.852Z"
   },
   {
    "duration": 15,
    "start_time": "2022-07-15T17:05:25.372Z"
   },
   {
    "duration": 230,
    "start_time": "2022-07-15T17:05:25.389Z"
   },
   {
    "duration": 121,
    "start_time": "2022-07-15T17:05:25.621Z"
   },
   {
    "duration": 96,
    "start_time": "2022-07-15T17:05:25.744Z"
   },
   {
    "duration": 81,
    "start_time": "2022-07-15T17:05:25.852Z"
   },
   {
    "duration": 26,
    "start_time": "2022-07-15T17:05:25.935Z"
   },
   {
    "duration": 65,
    "start_time": "2022-07-15T17:05:25.963Z"
   },
   {
    "duration": 34,
    "start_time": "2022-07-15T17:05:26.031Z"
   },
   {
    "duration": 72,
    "start_time": "2022-07-15T17:05:26.069Z"
   },
   {
    "duration": 14,
    "start_time": "2022-07-15T17:05:26.152Z"
   },
   {
    "duration": 637,
    "start_time": "2022-07-15T17:05:26.168Z"
   },
   {
    "duration": 18,
    "start_time": "2022-07-15T17:05:26.807Z"
   },
   {
    "duration": 40,
    "start_time": "2022-07-15T17:05:26.826Z"
   },
   {
    "duration": 15,
    "start_time": "2022-07-15T17:05:26.868Z"
   },
   {
    "duration": 27,
    "start_time": "2022-07-15T17:05:26.885Z"
   },
   {
    "duration": 163,
    "start_time": "2022-07-15T17:05:26.914Z"
   },
   {
    "duration": 15,
    "start_time": "2022-07-15T17:05:27.078Z"
   },
   {
    "duration": 179,
    "start_time": "2022-07-15T17:05:27.096Z"
   },
   {
    "duration": 24,
    "start_time": "2022-07-15T17:05:27.276Z"
   },
   {
    "duration": 19,
    "start_time": "2022-07-15T17:05:27.302Z"
   },
   {
    "duration": 50,
    "start_time": "2022-07-15T17:05:27.323Z"
   },
   {
    "duration": 3,
    "start_time": "2022-07-15T17:05:27.375Z"
   },
   {
    "duration": 13,
    "start_time": "2022-07-15T17:05:27.380Z"
   },
   {
    "duration": 127005,
    "start_time": "2022-07-15T17:05:27.395Z"
   },
   {
    "duration": 61216,
    "start_time": "2022-07-15T17:07:34.402Z"
   },
   {
    "duration": 59,
    "start_time": "2022-07-15T17:08:35.621Z"
   },
   {
    "duration": 9,
    "start_time": "2022-07-15T17:08:35.683Z"
   },
   {
    "duration": 8,
    "start_time": "2022-07-15T17:08:35.693Z"
   },
   {
    "duration": 69,
    "start_time": "2022-07-15T17:08:35.703Z"
   },
   {
    "duration": 180,
    "start_time": "2022-07-15T17:08:35.773Z"
   },
   {
    "duration": 5,
    "start_time": "2022-07-15T17:08:35.955Z"
   },
   {
    "duration": 21,
    "start_time": "2022-07-15T17:08:35.962Z"
   },
   {
    "duration": 79,
    "start_time": "2022-07-15T17:08:35.984Z"
   },
   {
    "duration": 4,
    "start_time": "2022-07-15T17:08:36.065Z"
   },
   {
    "duration": 106106,
    "start_time": "2022-07-15T17:08:36.070Z"
   },
   {
    "duration": 867226,
    "start_time": "2022-07-15T17:10:22.178Z"
   },
   {
    "duration": 11646,
    "start_time": "2022-07-15T17:24:49.405Z"
   },
   {
    "duration": 2832,
    "start_time": "2022-07-15T17:25:01.053Z"
   },
   {
    "duration": 545,
    "start_time": "2022-07-15T17:25:03.887Z"
   },
   {
    "duration": 23981,
    "start_time": "2022-07-15T17:25:04.433Z"
   },
   {
    "duration": 37,
    "start_time": "2022-07-15T17:25:28.416Z"
   },
   {
    "duration": 4,
    "start_time": "2022-07-15T17:25:28.455Z"
   },
   {
    "duration": 6,
    "start_time": "2022-07-15T17:25:28.460Z"
   },
   {
    "duration": 1339,
    "start_time": "2022-07-15T17:44:42.219Z"
   },
   {
    "duration": 15,
    "start_time": "2022-07-15T17:44:43.560Z"
   },
   {
    "duration": 217,
    "start_time": "2022-07-15T17:44:43.577Z"
   },
   {
    "duration": 127,
    "start_time": "2022-07-15T17:44:43.796Z"
   },
   {
    "duration": 89,
    "start_time": "2022-07-15T17:44:43.925Z"
   },
   {
    "duration": 89,
    "start_time": "2022-07-15T17:44:44.015Z"
   },
   {
    "duration": 11,
    "start_time": "2022-07-15T17:44:44.105Z"
   },
   {
    "duration": 62,
    "start_time": "2022-07-15T17:44:44.118Z"
   },
   {
    "duration": 12,
    "start_time": "2022-07-15T17:44:44.182Z"
   },
   {
    "duration": 57,
    "start_time": "2022-07-15T17:44:44.196Z"
   },
   {
    "duration": 11,
    "start_time": "2022-07-15T17:44:44.254Z"
   },
   {
    "duration": 629,
    "start_time": "2022-07-15T17:44:44.267Z"
   },
   {
    "duration": 17,
    "start_time": "2022-07-15T17:44:44.898Z"
   },
   {
    "duration": 35,
    "start_time": "2022-07-15T17:44:44.917Z"
   },
   {
    "duration": 13,
    "start_time": "2022-07-15T17:44:44.954Z"
   },
   {
    "duration": 25,
    "start_time": "2022-07-15T17:44:44.969Z"
   },
   {
    "duration": 172,
    "start_time": "2022-07-15T17:44:44.996Z"
   },
   {
    "duration": 15,
    "start_time": "2022-07-15T17:44:45.170Z"
   },
   {
    "duration": 172,
    "start_time": "2022-07-15T17:44:45.187Z"
   },
   {
    "duration": 21,
    "start_time": "2022-07-15T17:44:45.361Z"
   },
   {
    "duration": 20,
    "start_time": "2022-07-15T17:44:45.384Z"
   },
   {
    "duration": 23,
    "start_time": "2022-07-15T17:44:45.406Z"
   },
   {
    "duration": 4,
    "start_time": "2022-07-15T17:44:45.453Z"
   },
   {
    "duration": 17,
    "start_time": "2022-07-15T17:44:45.459Z"
   },
   {
    "duration": 127417,
    "start_time": "2022-07-15T17:44:45.477Z"
   },
   {
    "duration": 61856,
    "start_time": "2022-07-15T17:46:52.896Z"
   },
   {
    "duration": 46,
    "start_time": "2022-07-15T17:47:54.754Z"
   },
   {
    "duration": 10,
    "start_time": "2022-07-15T17:47:54.804Z"
   },
   {
    "duration": 6,
    "start_time": "2022-07-15T17:47:54.816Z"
   },
   {
    "duration": 73,
    "start_time": "2022-07-15T17:47:54.823Z"
   },
   {
    "duration": 6,
    "start_time": "2022-07-15T17:47:54.898Z"
   },
   {
    "duration": 194,
    "start_time": "2022-07-15T17:47:54.905Z"
   },
   {
    "duration": 7,
    "start_time": "2022-07-15T17:47:55.101Z"
   },
   {
    "duration": 29,
    "start_time": "2022-07-15T17:47:55.110Z"
   },
   {
    "duration": 5,
    "start_time": "2022-07-15T17:47:55.152Z"
   },
   {
    "duration": 50,
    "start_time": "2022-07-15T17:47:55.159Z"
   },
   {
    "duration": 5,
    "start_time": "2022-07-15T17:47:55.211Z"
   },
   {
    "duration": 5,
    "start_time": "2022-07-15T17:47:55.217Z"
   },
   {
    "duration": 1397,
    "start_time": "2022-07-15T17:48:53.718Z"
   },
   {
    "duration": 22,
    "start_time": "2022-07-15T17:48:55.117Z"
   },
   {
    "duration": 244,
    "start_time": "2022-07-15T17:48:55.141Z"
   },
   {
    "duration": 120,
    "start_time": "2022-07-15T17:48:55.387Z"
   },
   {
    "duration": 97,
    "start_time": "2022-07-15T17:48:55.509Z"
   },
   {
    "duration": 80,
    "start_time": "2022-07-15T17:48:55.607Z"
   },
   {
    "duration": 11,
    "start_time": "2022-07-15T17:48:55.689Z"
   },
   {
    "duration": 64,
    "start_time": "2022-07-15T17:48:55.701Z"
   },
   {
    "duration": 12,
    "start_time": "2022-07-15T17:48:55.766Z"
   },
   {
    "duration": 64,
    "start_time": "2022-07-15T17:48:55.781Z"
   },
   {
    "duration": 12,
    "start_time": "2022-07-15T17:48:55.847Z"
   },
   {
    "duration": 651,
    "start_time": "2022-07-15T17:48:55.860Z"
   },
   {
    "duration": 20,
    "start_time": "2022-07-15T17:48:56.513Z"
   },
   {
    "duration": 35,
    "start_time": "2022-07-15T17:48:56.535Z"
   },
   {
    "duration": 23,
    "start_time": "2022-07-15T17:48:56.572Z"
   },
   {
    "duration": 42,
    "start_time": "2022-07-15T17:48:56.597Z"
   },
   {
    "duration": 149,
    "start_time": "2022-07-15T17:48:56.641Z"
   },
   {
    "duration": 18,
    "start_time": "2022-07-15T17:48:56.792Z"
   },
   {
    "duration": 178,
    "start_time": "2022-07-15T17:48:56.812Z"
   },
   {
    "duration": 16,
    "start_time": "2022-07-15T17:48:56.992Z"
   },
   {
    "duration": 30,
    "start_time": "2022-07-15T17:48:57.010Z"
   },
   {
    "duration": 35,
    "start_time": "2022-07-15T17:48:57.041Z"
   },
   {
    "duration": 9,
    "start_time": "2022-07-15T17:48:57.077Z"
   },
   {
    "duration": 20,
    "start_time": "2022-07-15T17:48:57.087Z"
   },
   {
    "duration": 124069,
    "start_time": "2022-07-15T17:48:57.108Z"
   },
   {
    "duration": 59300,
    "start_time": "2022-07-15T17:51:01.179Z"
   },
   {
    "duration": 45,
    "start_time": "2022-07-15T17:52:00.481Z"
   },
   {
    "duration": 9,
    "start_time": "2022-07-15T17:52:00.529Z"
   },
   {
    "duration": 5,
    "start_time": "2022-07-15T17:52:00.552Z"
   },
   {
    "duration": 56,
    "start_time": "2022-07-15T17:52:00.558Z"
   },
   {
    "duration": 130,
    "start_time": "2022-07-15T17:52:00.615Z"
   },
   {
    "duration": 6,
    "start_time": "2022-07-15T17:52:00.751Z"
   },
   {
    "duration": 23,
    "start_time": "2022-07-15T17:52:00.758Z"
   },
   {
    "duration": 53,
    "start_time": "2022-07-15T17:52:00.782Z"
   },
   {
    "duration": 3,
    "start_time": "2022-07-15T17:52:00.836Z"
   },
   {
    "duration": 99704,
    "start_time": "2022-07-15T17:52:00.840Z"
   },
   {
    "duration": 843807,
    "start_time": "2022-07-15T17:53:40.545Z"
   },
   {
    "duration": 10816,
    "start_time": "2022-07-15T18:07:44.354Z"
   },
   {
    "duration": 2525,
    "start_time": "2022-07-15T18:07:55.172Z"
   },
   {
    "duration": 0,
    "start_time": "2022-07-15T18:07:57.699Z"
   },
   {
    "duration": 0,
    "start_time": "2022-07-15T18:07:57.700Z"
   },
   {
    "duration": 0,
    "start_time": "2022-07-15T18:07:57.701Z"
   },
   {
    "duration": 0,
    "start_time": "2022-07-15T18:07:57.703Z"
   },
   {
    "duration": 0,
    "start_time": "2022-07-15T18:07:57.704Z"
   },
   {
    "duration": 18,
    "start_time": "2022-07-15T18:20:09.881Z"
   },
   {
    "duration": 20,
    "start_time": "2022-07-15T18:20:24.696Z"
   },
   {
    "duration": 18,
    "start_time": "2022-07-15T18:21:29.352Z"
   },
   {
    "duration": 22,
    "start_time": "2022-07-15T18:21:44.399Z"
   },
   {
    "duration": 17,
    "start_time": "2022-07-15T18:21:48.756Z"
   },
   {
    "duration": 4,
    "start_time": "2022-07-15T18:25:16.890Z"
   },
   {
    "duration": 324,
    "start_time": "2022-07-15T18:28:45.174Z"
   },
   {
    "duration": 41,
    "start_time": "2022-07-15T18:28:51.530Z"
   },
   {
    "duration": 48,
    "start_time": "2022-07-15T18:29:09.463Z"
   },
   {
    "duration": 1383,
    "start_time": "2022-07-15T18:30:14.799Z"
   },
   {
    "duration": 15,
    "start_time": "2022-07-15T18:30:16.185Z"
   },
   {
    "duration": 236,
    "start_time": "2022-07-15T18:30:16.201Z"
   },
   {
    "duration": 119,
    "start_time": "2022-07-15T18:30:16.439Z"
   },
   {
    "duration": 99,
    "start_time": "2022-07-15T18:30:16.560Z"
   },
   {
    "duration": 74,
    "start_time": "2022-07-15T18:30:16.660Z"
   },
   {
    "duration": 21,
    "start_time": "2022-07-15T18:30:16.736Z"
   },
   {
    "duration": 53,
    "start_time": "2022-07-15T18:30:16.759Z"
   },
   {
    "duration": 11,
    "start_time": "2022-07-15T18:30:16.813Z"
   },
   {
    "duration": 59,
    "start_time": "2022-07-15T18:30:16.826Z"
   },
   {
    "duration": 10,
    "start_time": "2022-07-15T18:30:16.886Z"
   },
   {
    "duration": 587,
    "start_time": "2022-07-15T18:30:16.898Z"
   },
   {
    "duration": 17,
    "start_time": "2022-07-15T18:30:17.487Z"
   },
   {
    "duration": 20,
    "start_time": "2022-07-15T18:30:17.506Z"
   },
   {
    "duration": 31,
    "start_time": "2022-07-15T18:30:17.527Z"
   },
   {
    "duration": 28,
    "start_time": "2022-07-15T18:30:17.560Z"
   },
   {
    "duration": 141,
    "start_time": "2022-07-15T18:30:17.590Z"
   },
   {
    "duration": 28,
    "start_time": "2022-07-15T18:30:17.733Z"
   },
   {
    "duration": 159,
    "start_time": "2022-07-15T18:30:17.763Z"
   },
   {
    "duration": 17,
    "start_time": "2022-07-15T18:30:17.924Z"
   },
   {
    "duration": 27,
    "start_time": "2022-07-15T18:30:17.943Z"
   },
   {
    "duration": 25,
    "start_time": "2022-07-15T18:30:17.971Z"
   },
   {
    "duration": 4,
    "start_time": "2022-07-15T18:30:17.998Z"
   },
   {
    "duration": 11,
    "start_time": "2022-07-15T18:30:18.004Z"
   },
   {
    "duration": 127103,
    "start_time": "2022-07-15T18:30:18.017Z"
   },
   {
    "duration": 61350,
    "start_time": "2022-07-15T18:32:25.121Z"
   },
   {
    "duration": 43,
    "start_time": "2022-07-15T18:33:26.473Z"
   },
   {
    "duration": 9,
    "start_time": "2022-07-15T18:33:26.519Z"
   },
   {
    "duration": 6,
    "start_time": "2022-07-15T18:33:26.529Z"
   },
   {
    "duration": 40,
    "start_time": "2022-07-15T18:33:26.552Z"
   },
   {
    "duration": 316,
    "start_time": "2022-07-15T18:33:26.593Z"
   },
   {
    "duration": 8,
    "start_time": "2022-07-15T18:33:26.910Z"
   },
   {
    "duration": 46,
    "start_time": "2022-07-15T18:33:26.920Z"
   },
   {
    "duration": 12,
    "start_time": "2022-07-15T18:33:26.968Z"
   },
   {
    "duration": 4,
    "start_time": "2022-07-15T18:33:26.982Z"
   },
   {
    "duration": 38304,
    "start_time": "2022-07-15T18:33:26.987Z"
   },
   {
    "duration": 2118483,
    "start_time": "2022-07-15T18:34:05.293Z"
   },
   {
    "duration": 9222,
    "start_time": "2022-07-15T19:09:23.777Z"
   },
   {
    "duration": 1494,
    "start_time": "2022-07-15T19:09:33.001Z"
   },
   {
    "duration": 247,
    "start_time": "2022-07-15T19:09:34.497Z"
   },
   {
    "duration": 11386,
    "start_time": "2022-07-15T19:09:34.746Z"
   },
   {
    "duration": 26,
    "start_time": "2022-07-15T19:09:46.133Z"
   },
   {
    "duration": 4,
    "start_time": "2022-07-15T19:09:46.161Z"
   },
   {
    "duration": 8,
    "start_time": "2022-07-15T19:09:46.167Z"
   },
   {
    "duration": 4,
    "start_time": "2022-07-15T19:15:14.469Z"
   },
   {
    "duration": 1429,
    "start_time": "2022-07-16T14:37:01.841Z"
   },
   {
    "duration": 15,
    "start_time": "2022-07-16T14:37:03.272Z"
   },
   {
    "duration": 608,
    "start_time": "2022-07-16T14:37:03.289Z"
   },
   {
    "duration": 140,
    "start_time": "2022-07-16T14:37:03.899Z"
   },
   {
    "duration": 99,
    "start_time": "2022-07-16T14:37:04.043Z"
   },
   {
    "duration": 83,
    "start_time": "2022-07-16T14:37:04.144Z"
   },
   {
    "duration": 11,
    "start_time": "2022-07-16T14:37:04.229Z"
   },
   {
    "duration": 65,
    "start_time": "2022-07-16T14:37:04.242Z"
   },
   {
    "duration": 11,
    "start_time": "2022-07-16T14:37:04.309Z"
   },
   {
    "duration": 43,
    "start_time": "2022-07-16T14:37:04.322Z"
   },
   {
    "duration": 9,
    "start_time": "2022-07-16T14:37:04.367Z"
   },
   {
    "duration": 619,
    "start_time": "2022-07-16T14:37:04.378Z"
   },
   {
    "duration": 16,
    "start_time": "2022-07-16T14:37:05.000Z"
   },
   {
    "duration": 19,
    "start_time": "2022-07-16T14:37:05.019Z"
   },
   {
    "duration": 11,
    "start_time": "2022-07-16T14:37:05.040Z"
   },
   {
    "duration": 49,
    "start_time": "2022-07-16T14:37:05.053Z"
   },
   {
    "duration": 157,
    "start_time": "2022-07-16T14:37:05.104Z"
   },
   {
    "duration": 18,
    "start_time": "2022-07-16T14:37:05.263Z"
   },
   {
    "duration": 182,
    "start_time": "2022-07-16T14:37:05.284Z"
   },
   {
    "duration": 15,
    "start_time": "2022-07-16T14:37:05.468Z"
   },
   {
    "duration": 28,
    "start_time": "2022-07-16T14:37:05.485Z"
   },
   {
    "duration": 25,
    "start_time": "2022-07-16T14:37:05.515Z"
   },
   {
    "duration": 3,
    "start_time": "2022-07-16T14:37:05.541Z"
   },
   {
    "duration": 12,
    "start_time": "2022-07-16T14:37:05.545Z"
   },
   {
    "duration": 126412,
    "start_time": "2022-07-16T14:37:05.558Z"
   },
   {
    "duration": 61910,
    "start_time": "2022-07-16T14:39:11.971Z"
   },
   {
    "duration": 65,
    "start_time": "2022-07-16T14:40:13.883Z"
   },
   {
    "duration": 10,
    "start_time": "2022-07-16T14:40:13.950Z"
   },
   {
    "duration": 12,
    "start_time": "2022-07-16T14:40:13.961Z"
   },
   {
    "duration": 54,
    "start_time": "2022-07-16T14:40:13.975Z"
   },
   {
    "duration": 315,
    "start_time": "2022-07-16T14:40:14.031Z"
   },
   {
    "duration": 7,
    "start_time": "2022-07-16T14:40:14.348Z"
   },
   {
    "duration": 49,
    "start_time": "2022-07-16T14:40:14.357Z"
   },
   {
    "duration": 13,
    "start_time": "2022-07-16T14:40:14.408Z"
   },
   {
    "duration": 6,
    "start_time": "2022-07-16T14:40:14.422Z"
   },
   {
    "duration": 38410,
    "start_time": "2022-07-16T14:40:14.430Z"
   },
   {
    "duration": 380873,
    "start_time": "2022-07-16T14:40:52.841Z"
   },
   {
    "duration": 8086,
    "start_time": "2022-07-16T14:47:13.716Z"
   },
   {
    "duration": 1467,
    "start_time": "2022-07-16T14:47:21.805Z"
   },
   {
    "duration": 240,
    "start_time": "2022-07-16T14:47:23.274Z"
   },
   {
    "duration": 11416,
    "start_time": "2022-07-16T14:47:23.518Z"
   },
   {
    "duration": 24,
    "start_time": "2022-07-16T14:47:34.935Z"
   },
   {
    "duration": 4,
    "start_time": "2022-07-16T14:47:34.961Z"
   },
   {
    "duration": 116,
    "start_time": "2022-07-16T14:50:36.164Z"
   },
   {
    "duration": 168,
    "start_time": "2022-07-16T14:50:41.262Z"
   },
   {
    "duration": 30,
    "start_time": "2022-07-16T14:53:06.279Z"
   },
   {
    "duration": 103,
    "start_time": "2022-07-16T14:53:18.451Z"
   },
   {
    "duration": 26,
    "start_time": "2022-07-16T14:53:23.309Z"
   },
   {
    "duration": 29,
    "start_time": "2022-07-16T14:53:43.807Z"
   },
   {
    "duration": 30,
    "start_time": "2022-07-16T14:53:57.489Z"
   },
   {
    "duration": 23,
    "start_time": "2022-07-16T14:54:09.996Z"
   },
   {
    "duration": 19,
    "start_time": "2022-07-16T14:54:40.973Z"
   },
   {
    "duration": 23,
    "start_time": "2022-07-16T14:54:50.192Z"
   },
   {
    "duration": 82,
    "start_time": "2022-07-16T14:56:10.982Z"
   },
   {
    "duration": 48,
    "start_time": "2022-07-16T14:56:20.800Z"
   },
   {
    "duration": 118,
    "start_time": "2022-07-16T15:14:13.461Z"
   },
   {
    "duration": 17,
    "start_time": "2022-07-16T15:15:43.080Z"
   },
   {
    "duration": 16,
    "start_time": "2022-07-16T15:24:05.640Z"
   },
   {
    "duration": 86,
    "start_time": "2022-07-16T15:26:55.381Z"
   },
   {
    "duration": 89,
    "start_time": "2022-07-16T15:27:38.627Z"
   },
   {
    "duration": 49,
    "start_time": "2022-07-16T17:18:32.988Z"
   },
   {
    "duration": 1580,
    "start_time": "2022-07-16T17:18:41.253Z"
   },
   {
    "duration": 16,
    "start_time": "2022-07-16T17:18:42.835Z"
   },
   {
    "duration": 842,
    "start_time": "2022-07-16T17:18:42.852Z"
   },
   {
    "duration": 113,
    "start_time": "2022-07-16T17:18:43.696Z"
   },
   {
    "duration": 91,
    "start_time": "2022-07-16T17:18:43.810Z"
   },
   {
    "duration": 80,
    "start_time": "2022-07-16T17:18:43.902Z"
   },
   {
    "duration": 11,
    "start_time": "2022-07-16T17:18:43.984Z"
   },
   {
    "duration": 66,
    "start_time": "2022-07-16T17:18:43.996Z"
   },
   {
    "duration": 11,
    "start_time": "2022-07-16T17:18:44.064Z"
   },
   {
    "duration": 44,
    "start_time": "2022-07-16T17:18:44.078Z"
   },
   {
    "duration": 28,
    "start_time": "2022-07-16T17:18:44.124Z"
   },
   {
    "duration": 624,
    "start_time": "2022-07-16T17:18:44.154Z"
   },
   {
    "duration": 17,
    "start_time": "2022-07-16T17:18:44.780Z"
   },
   {
    "duration": 20,
    "start_time": "2022-07-16T17:18:44.799Z"
   },
   {
    "duration": 33,
    "start_time": "2022-07-16T17:18:44.820Z"
   },
   {
    "duration": 29,
    "start_time": "2022-07-16T17:18:44.855Z"
   },
   {
    "duration": 144,
    "start_time": "2022-07-16T17:18:44.885Z"
   },
   {
    "duration": 26,
    "start_time": "2022-07-16T17:18:45.031Z"
   },
   {
    "duration": 162,
    "start_time": "2022-07-16T17:18:45.059Z"
   },
   {
    "duration": 15,
    "start_time": "2022-07-16T17:18:45.223Z"
   },
   {
    "duration": 29,
    "start_time": "2022-07-16T17:18:45.240Z"
   },
   {
    "duration": 22,
    "start_time": "2022-07-16T17:18:45.270Z"
   },
   {
    "duration": 3,
    "start_time": "2022-07-16T17:18:45.294Z"
   },
   {
    "duration": 10,
    "start_time": "2022-07-16T17:18:45.298Z"
   },
   {
    "duration": 132036,
    "start_time": "2022-07-16T17:18:45.310Z"
   },
   {
    "duration": 63922,
    "start_time": "2022-07-16T17:20:57.348Z"
   },
   {
    "duration": 49,
    "start_time": "2022-07-16T17:22:01.272Z"
   },
   {
    "duration": 40,
    "start_time": "2022-07-16T17:22:01.324Z"
   },
   {
    "duration": 10,
    "start_time": "2022-07-16T17:22:01.365Z"
   },
   {
    "duration": 48,
    "start_time": "2022-07-16T17:22:01.376Z"
   },
   {
    "duration": 342,
    "start_time": "2022-07-16T17:22:01.425Z"
   },
   {
    "duration": 8,
    "start_time": "2022-07-16T17:22:01.768Z"
   },
   {
    "duration": 43,
    "start_time": "2022-07-16T17:22:01.778Z"
   },
   {
    "duration": 29,
    "start_time": "2022-07-16T17:22:01.823Z"
   },
   {
    "duration": 19,
    "start_time": "2022-07-16T17:22:01.863Z"
   },
   {
    "duration": 42185,
    "start_time": "2022-07-16T17:22:01.884Z"
   },
   {
    "duration": 407849,
    "start_time": "2022-07-16T17:22:44.071Z"
   },
   {
    "duration": 8537,
    "start_time": "2022-07-16T17:29:31.921Z"
   },
   {
    "duration": 1540,
    "start_time": "2022-07-16T17:29:40.466Z"
   },
   {
    "duration": 237,
    "start_time": "2022-07-16T17:29:42.008Z"
   },
   {
    "duration": 11801,
    "start_time": "2022-07-16T17:29:42.246Z"
   },
   {
    "duration": 33,
    "start_time": "2022-07-16T17:29:54.048Z"
   },
   {
    "duration": 4,
    "start_time": "2022-07-16T17:29:54.082Z"
   },
   {
    "duration": 131,
    "start_time": "2022-07-16T17:29:54.088Z"
   },
   {
    "duration": 88,
    "start_time": "2022-07-16T17:29:54.221Z"
   },
   {
    "duration": 106,
    "start_time": "2022-07-16T17:29:54.310Z"
   },
   {
    "duration": 129,
    "start_time": "2022-07-16T17:54:44.187Z"
   },
   {
    "duration": 49,
    "start_time": "2022-07-16T17:55:00.464Z"
   },
   {
    "duration": 165,
    "start_time": "2022-07-16T17:55:48.762Z"
   },
   {
    "duration": 139,
    "start_time": "2022-07-16T17:57:18.379Z"
   },
   {
    "duration": 180,
    "start_time": "2022-07-16T17:57:33.865Z"
   },
   {
    "duration": 4,
    "start_time": "2022-07-16T18:15:28.896Z"
   },
   {
    "duration": 1414,
    "start_time": "2022-07-16T18:15:36.041Z"
   },
   {
    "duration": 18,
    "start_time": "2022-07-16T18:15:37.458Z"
   },
   {
    "duration": 248,
    "start_time": "2022-07-16T18:15:37.478Z"
   },
   {
    "duration": 143,
    "start_time": "2022-07-16T18:15:37.728Z"
   },
   {
    "duration": 118,
    "start_time": "2022-07-16T18:15:37.873Z"
   },
   {
    "duration": 95,
    "start_time": "2022-07-16T18:15:37.992Z"
   },
   {
    "duration": 12,
    "start_time": "2022-07-16T18:15:38.089Z"
   },
   {
    "duration": 94,
    "start_time": "2022-07-16T18:15:38.103Z"
   },
   {
    "duration": 17,
    "start_time": "2022-07-16T18:15:38.199Z"
   },
   {
    "duration": 77,
    "start_time": "2022-07-16T18:15:38.220Z"
   },
   {
    "duration": 10,
    "start_time": "2022-07-16T18:15:38.299Z"
   },
   {
    "duration": 716,
    "start_time": "2022-07-16T18:15:38.311Z"
   },
   {
    "duration": 31,
    "start_time": "2022-07-16T18:15:39.028Z"
   },
   {
    "duration": 32,
    "start_time": "2022-07-16T18:15:39.061Z"
   },
   {
    "duration": 12,
    "start_time": "2022-07-16T18:15:39.095Z"
   },
   {
    "duration": 31,
    "start_time": "2022-07-16T18:15:39.109Z"
   },
   {
    "duration": 162,
    "start_time": "2022-07-16T18:15:39.142Z"
   },
   {
    "duration": 17,
    "start_time": "2022-07-16T18:15:39.306Z"
   },
   {
    "duration": 179,
    "start_time": "2022-07-16T18:15:39.325Z"
   },
   {
    "duration": 17,
    "start_time": "2022-07-16T18:15:39.506Z"
   },
   {
    "duration": 36,
    "start_time": "2022-07-16T18:15:39.525Z"
   },
   {
    "duration": 24,
    "start_time": "2022-07-16T18:15:39.563Z"
   },
   {
    "duration": 3,
    "start_time": "2022-07-16T18:15:39.589Z"
   },
   {
    "duration": 12,
    "start_time": "2022-07-16T18:15:39.594Z"
   },
   {
    "duration": 134672,
    "start_time": "2022-07-16T18:15:39.607Z"
   },
   {
    "duration": 63941,
    "start_time": "2022-07-16T18:17:54.281Z"
   },
   {
    "duration": 65,
    "start_time": "2022-07-16T18:18:58.224Z"
   },
   {
    "duration": 9,
    "start_time": "2022-07-16T18:18:58.294Z"
   },
   {
    "duration": 7,
    "start_time": "2022-07-16T18:18:58.305Z"
   },
   {
    "duration": 67,
    "start_time": "2022-07-16T18:18:58.313Z"
   },
   {
    "duration": 356,
    "start_time": "2022-07-16T18:18:58.381Z"
   },
   {
    "duration": 13,
    "start_time": "2022-07-16T18:18:58.739Z"
   },
   {
    "duration": 39,
    "start_time": "2022-07-16T18:18:58.754Z"
   },
   {
    "duration": 14,
    "start_time": "2022-07-16T18:18:58.795Z"
   },
   {
    "duration": 5,
    "start_time": "2022-07-16T18:18:58.810Z"
   },
   {
    "duration": 41004,
    "start_time": "2022-07-16T18:18:58.816Z"
   },
   {
    "duration": 405336,
    "start_time": "2022-07-16T18:19:39.822Z"
   },
   {
    "duration": 10093,
    "start_time": "2022-07-16T18:26:25.160Z"
   },
   {
    "duration": 1630,
    "start_time": "2022-07-16T18:26:35.256Z"
   },
   {
    "duration": 253,
    "start_time": "2022-07-16T18:26:36.887Z"
   },
   {
    "duration": 12257,
    "start_time": "2022-07-16T18:26:37.142Z"
   },
   {
    "duration": 30,
    "start_time": "2022-07-16T18:26:49.400Z"
   },
   {
    "duration": 5,
    "start_time": "2022-07-16T18:26:49.432Z"
   },
   {
    "duration": 132,
    "start_time": "2022-07-16T18:26:49.453Z"
   },
   {
    "duration": 166,
    "start_time": "2022-07-16T18:26:49.588Z"
   },
   {
    "duration": 203,
    "start_time": "2022-07-16T18:26:49.756Z"
   },
   {
    "duration": 51,
    "start_time": "2022-07-18T11:36:09.820Z"
   },
   {
    "duration": 1596,
    "start_time": "2022-07-18T11:36:21.628Z"
   },
   {
    "duration": 15,
    "start_time": "2022-07-18T11:36:25.144Z"
   },
   {
    "duration": 889,
    "start_time": "2022-07-18T11:36:26.327Z"
   },
   {
    "duration": 133,
    "start_time": "2022-07-18T11:36:27.218Z"
   },
   {
    "duration": 89,
    "start_time": "2022-07-18T11:36:28.056Z"
   },
   {
    "duration": 78,
    "start_time": "2022-07-18T11:36:32.810Z"
   },
   {
    "duration": 11,
    "start_time": "2022-07-18T11:36:34.814Z"
   },
   {
    "duration": 5,
    "start_time": "2022-07-18T11:36:43.730Z"
   },
   {
    "duration": 76,
    "start_time": "2022-07-18T11:42:53.954Z"
   },
   {
    "duration": 18,
    "start_time": "2022-07-18T11:45:56.551Z"
   },
   {
    "duration": 13,
    "start_time": "2022-07-18T11:46:01.405Z"
   },
   {
    "duration": 16,
    "start_time": "2022-07-18T11:48:32.718Z"
   },
   {
    "duration": 11,
    "start_time": "2022-07-18T11:48:45.395Z"
   },
   {
    "duration": 15,
    "start_time": "2022-07-18T11:49:01.016Z"
   },
   {
    "duration": 13,
    "start_time": "2022-07-18T11:49:12.090Z"
   },
   {
    "duration": 53,
    "start_time": "2022-07-18T11:49:15.891Z"
   },
   {
    "duration": 102,
    "start_time": "2022-07-18T11:49:32.013Z"
   },
   {
    "duration": 15,
    "start_time": "2022-07-18T11:49:37.415Z"
   },
   {
    "duration": 43,
    "start_time": "2022-07-18T11:49:42.883Z"
   },
   {
    "duration": 11,
    "start_time": "2022-07-18T11:49:46.000Z"
   },
   {
    "duration": 11,
    "start_time": "2022-07-18T11:51:19.168Z"
   },
   {
    "duration": 678,
    "start_time": "2022-07-18T11:52:46.558Z"
   },
   {
    "duration": 582,
    "start_time": "2022-07-18T11:52:54.261Z"
   },
   {
    "duration": 523,
    "start_time": "2022-07-18T11:53:18.053Z"
   },
   {
    "duration": 83,
    "start_time": "2022-07-18T11:55:34.703Z"
   },
   {
    "duration": 212,
    "start_time": "2022-07-18T11:55:45.752Z"
   },
   {
    "duration": 219,
    "start_time": "2022-07-18T11:56:11.957Z"
   },
   {
    "duration": 197,
    "start_time": "2022-07-18T11:56:18.950Z"
   },
   {
    "duration": 171,
    "start_time": "2022-07-18T11:58:12.035Z"
   },
   {
    "duration": 208,
    "start_time": "2022-07-18T11:59:59.201Z"
   },
   {
    "duration": 455,
    "start_time": "2022-07-18T12:01:39.019Z"
   },
   {
    "duration": 335,
    "start_time": "2022-07-18T12:01:47.507Z"
   },
   {
    "duration": 311,
    "start_time": "2022-07-18T12:01:53.524Z"
   },
   {
    "duration": 267,
    "start_time": "2022-07-18T12:02:43.129Z"
   },
   {
    "duration": 407,
    "start_time": "2022-07-18T12:04:24.523Z"
   },
   {
    "duration": 393,
    "start_time": "2022-07-18T12:04:36.247Z"
   },
   {
    "duration": 428,
    "start_time": "2022-07-18T12:04:42.520Z"
   },
   {
    "duration": 309,
    "start_time": "2022-07-18T12:05:20.935Z"
   },
   {
    "duration": 16,
    "start_time": "2022-07-18T12:06:01.675Z"
   },
   {
    "duration": 28,
    "start_time": "2022-07-18T12:06:02.100Z"
   },
   {
    "duration": 12,
    "start_time": "2022-07-18T12:06:02.984Z"
   },
   {
    "duration": 14,
    "start_time": "2022-07-18T12:07:11.354Z"
   },
   {
    "duration": 228,
    "start_time": "2022-07-18T12:07:24.511Z"
   },
   {
    "duration": 29,
    "start_time": "2022-07-18T12:07:30.473Z"
   },
   {
    "duration": 10,
    "start_time": "2022-07-18T12:07:49.620Z"
   },
   {
    "duration": 14,
    "start_time": "2022-07-18T12:09:00.855Z"
   },
   {
    "duration": 16,
    "start_time": "2022-07-18T12:09:01.492Z"
   },
   {
    "duration": 14,
    "start_time": "2022-07-18T12:09:02.066Z"
   },
   {
    "duration": 96,
    "start_time": "2022-07-18T12:20:18.841Z"
   },
   {
    "duration": 81,
    "start_time": "2022-07-18T12:20:29.287Z"
   },
   {
    "duration": 123,
    "start_time": "2022-07-18T12:25:46.387Z"
   },
   {
    "duration": 25,
    "start_time": "2022-07-18T12:25:48.227Z"
   },
   {
    "duration": 56,
    "start_time": "2022-07-18T12:25:54.955Z"
   },
   {
    "duration": 5,
    "start_time": "2022-07-18T12:26:17.753Z"
   },
   {
    "duration": 43,
    "start_time": "2022-07-18T12:26:28.201Z"
   },
   {
    "duration": 122,
    "start_time": "2022-07-18T12:26:43.050Z"
   },
   {
    "duration": 58,
    "start_time": "2022-07-18T12:26:47.883Z"
   },
   {
    "duration": 135,
    "start_time": "2022-07-18T12:27:07.248Z"
   },
   {
    "duration": 43,
    "start_time": "2022-07-18T12:27:10.441Z"
   },
   {
    "duration": 11,
    "start_time": "2022-07-18T12:27:23.164Z"
   },
   {
    "duration": 13,
    "start_time": "2022-07-18T12:29:06.842Z"
   },
   {
    "duration": 9,
    "start_time": "2022-07-18T12:29:11.168Z"
   },
   {
    "duration": 17,
    "start_time": "2022-07-18T12:29:16.977Z"
   },
   {
    "duration": 1442,
    "start_time": "2022-07-18T12:29:38.749Z"
   },
   {
    "duration": 16,
    "start_time": "2022-07-18T12:29:40.194Z"
   },
   {
    "duration": 246,
    "start_time": "2022-07-18T12:29:40.213Z"
   },
   {
    "duration": 119,
    "start_time": "2022-07-18T12:29:40.461Z"
   },
   {
    "duration": 98,
    "start_time": "2022-07-18T12:29:40.582Z"
   },
   {
    "duration": 77,
    "start_time": "2022-07-18T12:29:40.699Z"
   },
   {
    "duration": 21,
    "start_time": "2022-07-18T12:29:40.777Z"
   },
   {
    "duration": 64,
    "start_time": "2022-07-18T12:29:40.801Z"
   },
   {
    "duration": 35,
    "start_time": "2022-07-18T12:29:40.866Z"
   },
   {
    "duration": 55,
    "start_time": "2022-07-18T12:29:40.905Z"
   },
   {
    "duration": 10,
    "start_time": "2022-07-18T12:29:40.962Z"
   },
   {
    "duration": 234,
    "start_time": "2022-07-18T12:29:40.973Z"
   },
   {
    "duration": 345,
    "start_time": "2022-07-18T12:29:41.209Z"
   },
   {
    "duration": 310,
    "start_time": "2022-07-18T12:29:41.556Z"
   },
   {
    "duration": 20,
    "start_time": "2022-07-18T12:29:41.868Z"
   },
   {
    "duration": 30,
    "start_time": "2022-07-18T12:29:41.898Z"
   },
   {
    "duration": 12,
    "start_time": "2022-07-18T12:29:41.929Z"
   },
   {
    "duration": 31,
    "start_time": "2022-07-18T12:29:41.943Z"
   },
   {
    "duration": 169,
    "start_time": "2022-07-18T12:29:41.999Z"
   },
   {
    "duration": 32,
    "start_time": "2022-07-18T12:29:42.170Z"
   },
   {
    "duration": 271,
    "start_time": "2022-07-18T12:29:42.205Z"
   },
   {
    "duration": 27,
    "start_time": "2022-07-18T12:29:42.478Z"
   },
   {
    "duration": 27,
    "start_time": "2022-07-18T12:29:42.509Z"
   },
   {
    "duration": 23,
    "start_time": "2022-07-18T12:29:42.538Z"
   },
   {
    "duration": 3,
    "start_time": "2022-07-18T12:29:42.563Z"
   },
   {
    "duration": 31,
    "start_time": "2022-07-18T12:29:42.567Z"
   },
   {
    "duration": 133464,
    "start_time": "2022-07-18T12:29:42.601Z"
   },
   {
    "duration": 65148,
    "start_time": "2022-07-18T12:31:56.069Z"
   },
   {
    "duration": 52,
    "start_time": "2022-07-18T12:33:01.219Z"
   },
   {
    "duration": 27,
    "start_time": "2022-07-18T12:33:01.273Z"
   },
   {
    "duration": 29,
    "start_time": "2022-07-18T12:33:01.302Z"
   },
   {
    "duration": 46,
    "start_time": "2022-07-18T12:33:01.333Z"
   },
   {
    "duration": 141,
    "start_time": "2022-07-18T12:33:01.381Z"
   },
   {
    "duration": 6,
    "start_time": "2022-07-18T12:33:01.524Z"
   },
   {
    "duration": 27,
    "start_time": "2022-07-18T12:33:01.531Z"
   },
   {
    "duration": 51,
    "start_time": "2022-07-18T12:33:01.560Z"
   },
   {
    "duration": 4,
    "start_time": "2022-07-18T12:33:01.614Z"
   },
   {
    "duration": 115936,
    "start_time": "2022-07-18T12:33:01.620Z"
   },
   {
    "duration": 775241,
    "start_time": "2022-07-18T12:34:57.558Z"
   },
   {
    "duration": 12812,
    "start_time": "2022-07-18T12:47:52.801Z"
   },
   {
    "duration": 2789,
    "start_time": "2022-07-18T12:48:05.698Z"
   },
   {
    "duration": 0,
    "start_time": "2022-07-18T12:48:08.488Z"
   },
   {
    "duration": 0,
    "start_time": "2022-07-18T12:48:08.490Z"
   },
   {
    "duration": 0,
    "start_time": "2022-07-18T12:48:08.490Z"
   },
   {
    "duration": 0,
    "start_time": "2022-07-18T12:48:08.492Z"
   },
   {
    "duration": 0,
    "start_time": "2022-07-18T12:48:08.498Z"
   },
   {
    "duration": 0,
    "start_time": "2022-07-18T12:48:08.499Z"
   },
   {
    "duration": 0,
    "start_time": "2022-07-18T12:48:08.500Z"
   },
   {
    "duration": 3,
    "start_time": "2022-07-18T12:57:34.754Z"
   },
   {
    "duration": 10,
    "start_time": "2022-07-18T13:03:53.709Z"
   },
   {
    "duration": 247,
    "start_time": "2022-07-18T13:06:18.205Z"
   },
   {
    "duration": 296,
    "start_time": "2022-07-18T13:06:28.894Z"
   },
   {
    "duration": 264,
    "start_time": "2022-07-18T13:07:33.114Z"
   },
   {
    "duration": 1377,
    "start_time": "2022-07-18T13:08:32.858Z"
   },
   {
    "duration": 16,
    "start_time": "2022-07-18T13:08:34.237Z"
   },
   {
    "duration": 213,
    "start_time": "2022-07-18T13:08:34.255Z"
   },
   {
    "duration": 111,
    "start_time": "2022-07-18T13:08:34.471Z"
   },
   {
    "duration": 91,
    "start_time": "2022-07-18T13:08:34.584Z"
   },
   {
    "duration": 82,
    "start_time": "2022-07-18T13:08:34.677Z"
   },
   {
    "duration": 12,
    "start_time": "2022-07-18T13:08:34.761Z"
   },
   {
    "duration": 63,
    "start_time": "2022-07-18T13:08:34.774Z"
   },
   {
    "duration": 11,
    "start_time": "2022-07-18T13:08:34.839Z"
   },
   {
    "duration": 56,
    "start_time": "2022-07-18T13:08:34.853Z"
   },
   {
    "duration": 10,
    "start_time": "2022-07-18T13:08:34.910Z"
   },
   {
    "duration": 209,
    "start_time": "2022-07-18T13:08:34.921Z"
   },
   {
    "duration": 298,
    "start_time": "2022-07-18T13:08:35.132Z"
   },
   {
    "duration": 279,
    "start_time": "2022-07-18T13:08:35.432Z"
   },
   {
    "duration": 18,
    "start_time": "2022-07-18T13:08:35.713Z"
   },
   {
    "duration": 18,
    "start_time": "2022-07-18T13:08:35.733Z"
   },
   {
    "duration": 11,
    "start_time": "2022-07-18T13:08:35.753Z"
   },
   {
    "duration": 49,
    "start_time": "2022-07-18T13:08:35.766Z"
   },
   {
    "duration": 139,
    "start_time": "2022-07-18T13:08:35.817Z"
   },
   {
    "duration": 16,
    "start_time": "2022-07-18T13:08:35.958Z"
   },
   {
    "duration": 246,
    "start_time": "2022-07-18T13:08:35.976Z"
   },
   {
    "duration": 15,
    "start_time": "2022-07-18T13:08:36.224Z"
   },
   {
    "duration": 16,
    "start_time": "2022-07-18T13:08:36.241Z"
   },
   {
    "duration": 45,
    "start_time": "2022-07-18T13:08:36.259Z"
   },
   {
    "duration": 3,
    "start_time": "2022-07-18T13:08:36.306Z"
   },
   {
    "duration": 10,
    "start_time": "2022-07-18T13:08:36.311Z"
   },
   {
    "duration": 135434,
    "start_time": "2022-07-18T13:08:36.322Z"
   },
   {
    "duration": 65519,
    "start_time": "2022-07-18T13:10:51.760Z"
   },
   {
    "duration": 57,
    "start_time": "2022-07-18T13:11:57.280Z"
   },
   {
    "duration": 9,
    "start_time": "2022-07-18T13:11:57.339Z"
   },
   {
    "duration": 10,
    "start_time": "2022-07-18T13:11:57.351Z"
   },
   {
    "duration": 56,
    "start_time": "2022-07-18T13:11:57.362Z"
   },
   {
    "duration": 418,
    "start_time": "2022-07-18T13:11:57.420Z"
   },
   {
    "duration": 0,
    "start_time": "2022-07-18T13:11:57.844Z"
   },
   {
    "duration": 0,
    "start_time": "2022-07-18T13:11:57.845Z"
   },
   {
    "duration": 0,
    "start_time": "2022-07-18T13:11:57.847Z"
   },
   {
    "duration": 0,
    "start_time": "2022-07-18T13:11:57.848Z"
   },
   {
    "duration": 0,
    "start_time": "2022-07-18T13:11:57.849Z"
   },
   {
    "duration": 0,
    "start_time": "2022-07-18T13:11:57.850Z"
   },
   {
    "duration": 0,
    "start_time": "2022-07-18T13:11:57.852Z"
   },
   {
    "duration": 0,
    "start_time": "2022-07-18T13:11:57.853Z"
   },
   {
    "duration": 0,
    "start_time": "2022-07-18T13:11:57.855Z"
   },
   {
    "duration": 0,
    "start_time": "2022-07-18T13:11:57.856Z"
   },
   {
    "duration": 0,
    "start_time": "2022-07-18T13:11:57.858Z"
   },
   {
    "duration": 0,
    "start_time": "2022-07-18T13:11:57.859Z"
   },
   {
    "duration": 0,
    "start_time": "2022-07-18T13:11:57.860Z"
   },
   {
    "duration": 0,
    "start_time": "2022-07-18T13:11:57.862Z"
   },
   {
    "duration": 0,
    "start_time": "2022-07-18T13:11:57.863Z"
   },
   {
    "duration": 4,
    "start_time": "2022-07-18T13:16:15.831Z"
   },
   {
    "duration": 26,
    "start_time": "2022-07-18T13:17:14.297Z"
   },
   {
    "duration": 43,
    "start_time": "2022-07-18T13:17:35.704Z"
   },
   {
    "duration": 29,
    "start_time": "2022-07-18T13:17:38.842Z"
   },
   {
    "duration": 351,
    "start_time": "2022-07-18T13:18:42.744Z"
   },
   {
    "duration": 99,
    "start_time": "2022-07-18T13:18:50.355Z"
   },
   {
    "duration": 271,
    "start_time": "2022-07-18T13:19:33.245Z"
   },
   {
    "duration": 355,
    "start_time": "2022-07-18T13:20:28.937Z"
   },
   {
    "duration": 9,
    "start_time": "2022-07-18T13:20:33.424Z"
   },
   {
    "duration": 40,
    "start_time": "2022-07-18T13:20:35.961Z"
   },
   {
    "duration": 10,
    "start_time": "2022-07-18T13:20:37.626Z"
   },
   {
    "duration": 3,
    "start_time": "2022-07-18T13:20:42.237Z"
   },
   {
    "duration": 42443,
    "start_time": "2022-07-18T13:20:42.737Z"
   },
   {
    "duration": 1609936,
    "start_time": "2022-07-18T13:21:25.182Z"
   },
   {
    "duration": 1384,
    "start_time": "2022-07-18T13:48:15.120Z"
   },
   {
    "duration": 0,
    "start_time": "2022-07-18T13:48:16.506Z"
   },
   {
    "duration": 0,
    "start_time": "2022-07-18T13:48:16.507Z"
   },
   {
    "duration": 0,
    "start_time": "2022-07-18T13:48:16.508Z"
   },
   {
    "duration": 0,
    "start_time": "2022-07-18T13:48:16.509Z"
   },
   {
    "duration": 0,
    "start_time": "2022-07-18T13:48:16.510Z"
   },
   {
    "duration": 0,
    "start_time": "2022-07-18T13:48:16.511Z"
   },
   {
    "duration": 0,
    "start_time": "2022-07-18T13:48:16.513Z"
   },
   {
    "duration": 1344,
    "start_time": "2022-07-18T14:20:04.347Z"
   },
   {
    "duration": 1350,
    "start_time": "2022-07-18T14:20:13.772Z"
   },
   {
    "duration": 259,
    "start_time": "2022-07-18T14:20:17.463Z"
   },
   {
    "duration": 3454,
    "start_time": "2022-07-18T14:20:21.622Z"
   },
   {
    "duration": 2169,
    "start_time": "2022-07-18T14:21:46.153Z"
   },
   {
    "duration": 11792,
    "start_time": "2022-07-18T14:21:59.683Z"
   },
   {
    "duration": 28,
    "start_time": "2022-07-18T14:22:12.659Z"
   },
   {
    "duration": 5,
    "start_time": "2022-07-18T14:22:31.958Z"
   },
   {
    "duration": 2673,
    "start_time": "2022-07-18T14:22:53.659Z"
   },
   {
    "duration": 361,
    "start_time": "2022-07-18T14:22:59.674Z"
   },
   {
    "duration": 11880,
    "start_time": "2022-07-18T14:23:02.022Z"
   },
   {
    "duration": 12499556,
    "start_time": "2022-07-18T14:23:19.375Z"
   },
   {
    "duration": 2028562,
    "start_time": "2022-07-18T17:52:13.693Z"
   },
   {
    "duration": 119778,
    "start_time": "2022-07-18T18:31:08.873Z"
   },
   {
    "duration": 0,
    "start_time": "2022-07-18T18:33:08.653Z"
   },
   {
    "duration": 241,
    "start_time": "2022-07-18T18:33:31.131Z"
   },
   {
    "duration": 86094,
    "start_time": "2022-07-18T18:34:33.335Z"
   },
   {
    "duration": 0,
    "start_time": "2022-07-18T18:35:59.431Z"
   },
   {
    "duration": 348,
    "start_time": "2022-07-18T18:36:04.364Z"
   },
   {
    "duration": 133,
    "start_time": "2022-07-18T18:36:10.880Z"
   },
   {
    "duration": 12093,
    "start_time": "2022-07-18T18:36:19.806Z"
   },
   {
    "duration": 5,
    "start_time": "2022-07-18T18:36:34.772Z"
   },
   {
    "duration": 1331,
    "start_time": "2022-07-18T18:37:30.357Z"
   },
   {
    "duration": 15,
    "start_time": "2022-07-18T18:37:31.690Z"
   },
   {
    "duration": 233,
    "start_time": "2022-07-18T18:37:31.707Z"
   },
   {
    "duration": 121,
    "start_time": "2022-07-18T18:37:31.943Z"
   },
   {
    "duration": 100,
    "start_time": "2022-07-18T18:37:32.066Z"
   },
   {
    "duration": 88,
    "start_time": "2022-07-18T18:37:32.168Z"
   },
   {
    "duration": 12,
    "start_time": "2022-07-18T18:37:32.258Z"
   },
   {
    "duration": 65,
    "start_time": "2022-07-18T18:37:32.272Z"
   },
   {
    "duration": 12,
    "start_time": "2022-07-18T18:37:32.339Z"
   },
   {
    "duration": 67,
    "start_time": "2022-07-18T18:37:32.355Z"
   },
   {
    "duration": 11,
    "start_time": "2022-07-18T18:37:32.424Z"
   },
   {
    "duration": 212,
    "start_time": "2022-07-18T18:37:32.436Z"
   },
   {
    "duration": 289,
    "start_time": "2022-07-18T18:37:32.650Z"
   },
   {
    "duration": 275,
    "start_time": "2022-07-18T18:37:32.941Z"
   },
   {
    "duration": 20,
    "start_time": "2022-07-18T18:37:33.218Z"
   },
   {
    "duration": 20,
    "start_time": "2022-07-18T18:37:33.240Z"
   },
   {
    "duration": 37,
    "start_time": "2022-07-18T18:37:33.262Z"
   },
   {
    "duration": 29,
    "start_time": "2022-07-18T18:37:33.301Z"
   },
   {
    "duration": 140,
    "start_time": "2022-07-18T18:37:33.332Z"
   },
   {
    "duration": 34,
    "start_time": "2022-07-18T18:37:33.474Z"
   },
   {
    "duration": 225,
    "start_time": "2022-07-18T18:37:33.510Z"
   },
   {
    "duration": 15,
    "start_time": "2022-07-18T18:37:33.737Z"
   },
   {
    "duration": 16,
    "start_time": "2022-07-18T18:37:33.754Z"
   },
   {
    "duration": 41,
    "start_time": "2022-07-18T18:37:33.771Z"
   },
   {
    "duration": 3,
    "start_time": "2022-07-18T18:37:33.814Z"
   },
   {
    "duration": 10,
    "start_time": "2022-07-18T18:37:33.818Z"
   },
   {
    "duration": 129876,
    "start_time": "2022-07-18T18:37:33.830Z"
   },
   {
    "duration": 67921,
    "start_time": "2022-07-18T18:39:43.711Z"
   },
   {
    "duration": 50,
    "start_time": "2022-07-18T18:40:51.634Z"
   },
   {
    "duration": 19,
    "start_time": "2022-07-18T18:40:51.685Z"
   },
   {
    "duration": 7,
    "start_time": "2022-07-18T18:40:51.706Z"
   },
   {
    "duration": 43,
    "start_time": "2022-07-18T18:40:51.715Z"
   },
   {
    "duration": 43,
    "start_time": "2022-07-18T18:40:51.759Z"
   },
   {
    "duration": 363,
    "start_time": "2022-07-18T18:40:51.803Z"
   },
   {
    "duration": 8,
    "start_time": "2022-07-18T18:40:52.168Z"
   },
   {
    "duration": 49,
    "start_time": "2022-07-18T18:40:52.178Z"
   },
   {
    "duration": 13,
    "start_time": "2022-07-18T18:40:52.229Z"
   },
   {
    "duration": 6,
    "start_time": "2022-07-18T18:40:52.244Z"
   },
   {
    "duration": 43268,
    "start_time": "2022-07-18T18:40:52.252Z"
   },
   {
    "duration": 806514,
    "start_time": "2022-07-18T18:41:35.522Z"
   },
   {
    "duration": 3,
    "start_time": "2022-07-18T18:55:02.038Z"
   },
   {
    "duration": 402,
    "start_time": "2022-07-18T18:55:02.043Z"
   },
   {
    "duration": 149,
    "start_time": "2022-07-18T18:55:02.447Z"
   },
   {
    "duration": 12282,
    "start_time": "2022-07-18T18:55:02.598Z"
   },
   {
    "duration": 30,
    "start_time": "2022-07-18T18:55:14.882Z"
   },
   {
    "duration": 4,
    "start_time": "2022-07-18T18:55:14.914Z"
   },
   {
    "duration": 136,
    "start_time": "2022-07-18T18:55:14.919Z"
   },
   {
    "duration": 87,
    "start_time": "2022-07-18T18:55:15.057Z"
   },
   {
    "duration": 100,
    "start_time": "2022-07-18T18:55:15.146Z"
   },
   {
    "duration": 1685,
    "start_time": "2022-07-20T10:42:14.390Z"
   },
   {
    "duration": 26,
    "start_time": "2022-07-20T10:42:17.622Z"
   },
   {
    "duration": 935,
    "start_time": "2022-07-20T10:42:18.390Z"
   },
   {
    "duration": 126,
    "start_time": "2022-07-20T10:42:19.327Z"
   },
   {
    "duration": 102,
    "start_time": "2022-07-20T10:42:19.455Z"
   },
   {
    "duration": 121,
    "start_time": "2022-07-20T10:42:21.812Z"
   },
   {
    "duration": 20,
    "start_time": "2022-07-20T10:42:23.404Z"
   },
   {
    "duration": 65,
    "start_time": "2022-07-20T10:42:25.634Z"
   },
   {
    "duration": 15,
    "start_time": "2022-07-20T10:42:26.675Z"
   },
   {
    "duration": 56,
    "start_time": "2022-07-20T10:42:28.862Z"
   },
   {
    "duration": 14,
    "start_time": "2022-07-20T10:42:30.900Z"
   },
   {
    "duration": 6,
    "start_time": "2022-07-20T10:42:32.808Z"
   },
   {
    "duration": 347,
    "start_time": "2022-07-20T10:42:38.736Z"
   },
   {
    "duration": 2981,
    "start_time": "2022-07-20T10:42:46.396Z"
   },
   {
    "duration": 171,
    "start_time": "2022-07-20T10:43:15.493Z"
   },
   {
    "duration": 159,
    "start_time": "2022-07-20T10:43:20.858Z"
   },
   {
    "duration": 404,
    "start_time": "2022-07-20T10:44:04.188Z"
   },
   {
    "duration": 365,
    "start_time": "2022-07-20T10:44:21.368Z"
   },
   {
    "duration": 1868,
    "start_time": "2022-07-20T10:44:33.493Z"
   },
   {
    "duration": 431,
    "start_time": "2022-07-20T10:44:46.871Z"
   },
   {
    "duration": 209,
    "start_time": "2022-07-20T10:45:59.105Z"
   },
   {
    "duration": 4554,
    "start_time": "2022-07-20T10:46:59.225Z"
   },
   {
    "duration": 353,
    "start_time": "2022-07-20T10:47:18.328Z"
   },
   {
    "duration": 346,
    "start_time": "2022-07-20T10:48:36.593Z"
   },
   {
    "duration": 323,
    "start_time": "2022-07-20T10:51:51.308Z"
   },
   {
    "duration": 10,
    "start_time": "2022-07-20T10:58:27.522Z"
   },
   {
    "duration": 1428,
    "start_time": "2022-07-20T10:59:09.032Z"
   },
   {
    "duration": 17,
    "start_time": "2022-07-20T10:59:10.462Z"
   },
   {
    "duration": 253,
    "start_time": "2022-07-20T10:59:10.481Z"
   },
   {
    "duration": 138,
    "start_time": "2022-07-20T10:59:10.736Z"
   },
   {
    "duration": 109,
    "start_time": "2022-07-20T10:59:10.876Z"
   },
   {
    "duration": 89,
    "start_time": "2022-07-20T10:59:10.988Z"
   },
   {
    "duration": 14,
    "start_time": "2022-07-20T10:59:11.079Z"
   },
   {
    "duration": 80,
    "start_time": "2022-07-20T10:59:11.095Z"
   },
   {
    "duration": 13,
    "start_time": "2022-07-20T10:59:11.177Z"
   },
   {
    "duration": 59,
    "start_time": "2022-07-20T10:59:11.193Z"
   },
   {
    "duration": 10,
    "start_time": "2022-07-20T10:59:11.254Z"
   },
   {
    "duration": 183,
    "start_time": "2022-07-20T10:59:11.266Z"
   },
   {
    "duration": 342,
    "start_time": "2022-07-20T10:59:11.451Z"
   },
   {
    "duration": 374,
    "start_time": "2022-07-20T10:59:11.796Z"
   },
   {
    "duration": 18,
    "start_time": "2022-07-20T10:59:12.172Z"
   },
   {
    "duration": 32,
    "start_time": "2022-07-20T10:59:12.192Z"
   },
   {
    "duration": 12,
    "start_time": "2022-07-20T10:59:12.226Z"
   },
   {
    "duration": 34,
    "start_time": "2022-07-20T10:59:12.240Z"
   },
   {
    "duration": 176,
    "start_time": "2022-07-20T10:59:12.275Z"
   },
   {
    "duration": 16,
    "start_time": "2022-07-20T10:59:12.453Z"
   },
   {
    "duration": 260,
    "start_time": "2022-07-20T10:59:12.471Z"
   },
   {
    "duration": 18,
    "start_time": "2022-07-20T10:59:12.733Z"
   },
   {
    "duration": 23,
    "start_time": "2022-07-20T10:59:12.753Z"
   },
   {
    "duration": 46,
    "start_time": "2022-07-20T10:59:12.778Z"
   },
   {
    "duration": 4,
    "start_time": "2022-07-20T10:59:12.826Z"
   },
   {
    "duration": 15,
    "start_time": "2022-07-20T10:59:12.832Z"
   },
   {
    "duration": 139598,
    "start_time": "2022-07-20T10:59:12.849Z"
   },
   {
    "duration": 67536,
    "start_time": "2022-07-20T11:01:32.450Z"
   },
   {
    "duration": 60,
    "start_time": "2022-07-20T11:02:39.987Z"
   },
   {
    "duration": 11,
    "start_time": "2022-07-20T11:02:40.049Z"
   },
   {
    "duration": 12,
    "start_time": "2022-07-20T11:02:40.061Z"
   },
   {
    "duration": 60,
    "start_time": "2022-07-20T11:02:40.074Z"
   },
   {
    "duration": 28,
    "start_time": "2022-07-20T11:02:40.136Z"
   },
   {
    "duration": 136,
    "start_time": "2022-07-20T11:02:40.166Z"
   },
   {
    "duration": 0,
    "start_time": "2022-07-20T11:02:40.304Z"
   },
   {
    "duration": 0,
    "start_time": "2022-07-20T11:02:40.305Z"
   },
   {
    "duration": 0,
    "start_time": "2022-07-20T11:02:40.310Z"
   },
   {
    "duration": 0,
    "start_time": "2022-07-20T11:02:40.312Z"
   },
   {
    "duration": 1,
    "start_time": "2022-07-20T11:02:40.313Z"
   },
   {
    "duration": 0,
    "start_time": "2022-07-20T11:02:40.315Z"
   },
   {
    "duration": 0,
    "start_time": "2022-07-20T11:02:40.316Z"
   },
   {
    "duration": 0,
    "start_time": "2022-07-20T11:02:40.318Z"
   },
   {
    "duration": 0,
    "start_time": "2022-07-20T11:02:40.320Z"
   },
   {
    "duration": 0,
    "start_time": "2022-07-20T11:02:40.321Z"
   },
   {
    "duration": 0,
    "start_time": "2022-07-20T11:02:40.323Z"
   },
   {
    "duration": 0,
    "start_time": "2022-07-20T11:02:40.324Z"
   },
   {
    "duration": 0,
    "start_time": "2022-07-20T11:02:40.326Z"
   },
   {
    "duration": 0,
    "start_time": "2022-07-20T11:02:40.327Z"
   },
   {
    "duration": 0,
    "start_time": "2022-07-20T11:02:40.328Z"
   },
   {
    "duration": 362,
    "start_time": "2022-07-20T11:56:38.852Z"
   },
   {
    "duration": 515,
    "start_time": "2022-07-20T11:58:15.427Z"
   },
   {
    "duration": 5,
    "start_time": "2022-07-20T11:59:51.998Z"
   },
   {
    "duration": 4,
    "start_time": "2022-07-20T11:59:54.823Z"
   },
   {
    "duration": 98,
    "start_time": "2022-07-20T12:04:30.364Z"
   },
   {
    "duration": 11,
    "start_time": "2022-07-20T12:04:55.173Z"
   },
   {
    "duration": 10,
    "start_time": "2022-07-20T12:05:07.716Z"
   },
   {
    "duration": 4,
    "start_time": "2022-07-20T12:05:33.289Z"
   },
   {
    "duration": 9,
    "start_time": "2022-07-20T12:05:53.380Z"
   },
   {
    "duration": 9,
    "start_time": "2022-07-20T12:06:03.745Z"
   },
   {
    "duration": 9,
    "start_time": "2022-07-20T12:06:20.954Z"
   },
   {
    "duration": 5,
    "start_time": "2022-07-20T12:07:15.153Z"
   },
   {
    "duration": 21,
    "start_time": "2022-07-20T12:07:50.302Z"
   },
   {
    "duration": 9,
    "start_time": "2022-07-20T12:08:00.553Z"
   },
   {
    "duration": 44,
    "start_time": "2022-07-20T12:08:02.791Z"
   },
   {
    "duration": 56,
    "start_time": "2022-07-20T12:08:07.397Z"
   },
   {
    "duration": 3,
    "start_time": "2022-07-20T12:08:10.449Z"
   },
   {
    "duration": 32275,
    "start_time": "2022-07-20T12:08:11.473Z"
   },
   {
    "duration": 11,
    "start_time": "2022-07-20T12:09:19.870Z"
   },
   {
    "duration": 17948,
    "start_time": "2022-07-20T12:09:26.696Z"
   },
   {
    "duration": 0,
    "start_time": "2022-07-20T12:12:07.481Z"
   },
   {
    "duration": 9,
    "start_time": "2022-07-20T12:12:10.493Z"
   },
   {
    "duration": 4,
    "start_time": "2022-07-20T12:12:12.701Z"
   },
   {
    "duration": 0,
    "start_time": "2022-07-20T12:13:05.693Z"
   },
   {
    "duration": 0,
    "start_time": "2022-07-20T12:13:37.069Z"
   },
   {
    "duration": 42213,
    "start_time": "2022-07-20T12:13:37.924Z"
   },
   {
    "duration": 4,
    "start_time": "2022-07-20T12:14:20.139Z"
   },
   {
    "duration": 0,
    "start_time": "2022-07-20T12:15:11.443Z"
   },
   {
    "duration": 4,
    "start_time": "2022-07-20T12:15:12.941Z"
   },
   {
    "duration": 106202,
    "start_time": "2022-07-20T12:15:28.325Z"
   },
   {
    "duration": 10,
    "start_time": "2022-07-20T12:17:25.760Z"
   },
   {
    "duration": 42006,
    "start_time": "2022-07-20T12:17:56.601Z"
   },
   {
    "duration": 5,
    "start_time": "2022-07-20T12:18:38.610Z"
   },
   {
    "duration": 46433,
    "start_time": "2022-07-20T12:18:38.616Z"
   },
   {
    "duration": 5,
    "start_time": "2022-07-20T12:19:25.051Z"
   },
   {
    "duration": 424,
    "start_time": "2022-07-20T12:19:28.661Z"
   },
   {
    "duration": 36,
    "start_time": "2022-07-20T12:19:29.116Z"
   },
   {
    "duration": 49151,
    "start_time": "2022-07-20T12:19:54.080Z"
   },
   {
    "duration": 4,
    "start_time": "2022-07-20T12:20:43.233Z"
   },
   {
    "duration": 11,
    "start_time": "2022-07-20T12:20:43.239Z"
   },
   {
    "duration": 49359,
    "start_time": "2022-07-20T12:20:43.253Z"
   },
   {
    "duration": 46,
    "start_time": "2022-07-20T12:21:32.615Z"
   },
   {
    "duration": 500,
    "start_time": "2022-07-20T12:21:48.525Z"
   },
   {
    "duration": 4,
    "start_time": "2022-07-20T12:22:31.206Z"
   },
   {
    "duration": 47509,
    "start_time": "2022-07-20T12:22:48.813Z"
   },
   {
    "duration": 4,
    "start_time": "2022-07-20T12:23:36.324Z"
   },
   {
    "duration": 22,
    "start_time": "2022-07-20T12:23:36.330Z"
   },
   {
    "duration": 114,
    "start_time": "2022-07-20T12:25:32.752Z"
   },
   {
    "duration": 58,
    "start_time": "2022-07-20T12:25:42.023Z"
   },
   {
    "duration": 2008474,
    "start_time": "2022-07-20T12:26:05.443Z"
   },
   {
    "duration": 0,
    "start_time": "2022-07-20T12:59:33.920Z"
   },
   {
    "duration": 0,
    "start_time": "2022-07-20T12:59:33.922Z"
   },
   {
    "duration": 1551,
    "start_time": "2022-07-20T13:12:24.068Z"
   },
   {
    "duration": 17,
    "start_time": "2022-07-20T13:12:25.621Z"
   },
   {
    "duration": 257,
    "start_time": "2022-07-20T13:12:25.640Z"
   },
   {
    "duration": 127,
    "start_time": "2022-07-20T13:12:25.900Z"
   },
   {
    "duration": 114,
    "start_time": "2022-07-20T13:12:26.030Z"
   },
   {
    "duration": 94,
    "start_time": "2022-07-20T13:12:26.146Z"
   },
   {
    "duration": 15,
    "start_time": "2022-07-20T13:12:26.242Z"
   },
   {
    "duration": 80,
    "start_time": "2022-07-20T13:12:26.259Z"
   },
   {
    "duration": 14,
    "start_time": "2022-07-20T13:12:26.341Z"
   },
   {
    "duration": 77,
    "start_time": "2022-07-20T13:12:26.358Z"
   },
   {
    "duration": 12,
    "start_time": "2022-07-20T13:12:26.438Z"
   },
   {
    "duration": 185,
    "start_time": "2022-07-20T13:12:26.453Z"
   },
   {
    "duration": 340,
    "start_time": "2022-07-20T13:12:26.640Z"
   },
   {
    "duration": 300,
    "start_time": "2022-07-20T13:12:26.983Z"
   },
   {
    "duration": 30,
    "start_time": "2022-07-20T13:12:27.285Z"
   },
   {
    "duration": 19,
    "start_time": "2022-07-20T13:12:27.317Z"
   },
   {
    "duration": 13,
    "start_time": "2022-07-20T13:12:27.338Z"
   },
   {
    "duration": 58,
    "start_time": "2022-07-20T13:12:27.352Z"
   },
   {
    "duration": 163,
    "start_time": "2022-07-20T13:12:27.412Z"
   },
   {
    "duration": 19,
    "start_time": "2022-07-20T13:12:27.577Z"
   },
   {
    "duration": 280,
    "start_time": "2022-07-20T13:12:27.611Z"
   },
   {
    "duration": 23,
    "start_time": "2022-07-20T13:12:27.894Z"
   },
   {
    "duration": 20,
    "start_time": "2022-07-20T13:12:27.919Z"
   },
   {
    "duration": 30,
    "start_time": "2022-07-20T13:12:27.941Z"
   },
   {
    "duration": 3,
    "start_time": "2022-07-20T13:12:27.973Z"
   },
   {
    "duration": 10,
    "start_time": "2022-07-20T13:12:28.011Z"
   },
   {
    "duration": 146565,
    "start_time": "2022-07-20T13:12:28.023Z"
   },
   {
    "duration": 70487,
    "start_time": "2022-07-20T13:14:54.592Z"
   },
   {
    "duration": 63,
    "start_time": "2022-07-20T13:16:05.081Z"
   },
   {
    "duration": 11,
    "start_time": "2022-07-20T13:16:05.146Z"
   },
   {
    "duration": 18,
    "start_time": "2022-07-20T13:16:05.159Z"
   },
   {
    "duration": 61,
    "start_time": "2022-07-20T13:16:05.179Z"
   },
   {
    "duration": 30,
    "start_time": "2022-07-20T13:16:05.243Z"
   },
   {
    "duration": 550,
    "start_time": "2022-07-20T13:16:05.275Z"
   },
   {
    "duration": 8,
    "start_time": "2022-07-20T13:16:05.827Z"
   },
   {
    "duration": 42,
    "start_time": "2022-07-20T13:16:05.837Z"
   },
   {
    "duration": 60,
    "start_time": "2022-07-20T13:16:05.881Z"
   },
   {
    "duration": 3,
    "start_time": "2022-07-20T13:16:05.943Z"
   },
   {
    "duration": 47055,
    "start_time": "2022-07-20T13:16:05.948Z"
   },
   {
    "duration": 4,
    "start_time": "2022-07-20T13:16:53.005Z"
   },
   {
    "duration": 2516892,
    "start_time": "2022-07-20T13:16:53.011Z"
   },
   {
    "duration": 715162,
    "start_time": "2022-07-20T13:58:49.905Z"
   },
   {
    "duration": 0,
    "start_time": "2022-07-20T14:10:45.072Z"
   },
   {
    "duration": 0,
    "start_time": "2022-07-20T14:10:45.074Z"
   },
   {
    "duration": 0,
    "start_time": "2022-07-20T14:10:45.076Z"
   },
   {
    "duration": 0,
    "start_time": "2022-07-20T14:10:45.077Z"
   },
   {
    "duration": 0,
    "start_time": "2022-07-20T14:10:45.079Z"
   },
   {
    "duration": 0,
    "start_time": "2022-07-20T14:10:45.080Z"
   },
   {
    "duration": 0,
    "start_time": "2022-07-20T14:10:45.082Z"
   },
   {
    "duration": 0,
    "start_time": "2022-07-20T14:10:45.084Z"
   },
   {
    "duration": 0,
    "start_time": "2022-07-20T14:10:45.086Z"
   },
   {
    "duration": 0,
    "start_time": "2022-07-20T14:10:45.111Z"
   },
   {
    "duration": 14149,
    "start_time": "2022-07-20T14:10:47.566Z"
   },
   {
    "duration": 1995,
    "start_time": "2022-07-20T14:13:29.913Z"
   },
   {
    "duration": 202,
    "start_time": "2022-07-20T14:13:33.192Z"
   },
   {
    "duration": 1976,
    "start_time": "2022-07-20T14:14:22.964Z"
   },
   {
    "duration": 317,
    "start_time": "2022-07-20T14:14:31.453Z"
   },
   {
    "duration": 213,
    "start_time": "2022-07-20T14:14:42.114Z"
   },
   {
    "duration": 332,
    "start_time": "2022-07-20T14:14:44.764Z"
   },
   {
    "duration": 13176,
    "start_time": "2022-07-20T14:14:48.047Z"
   },
   {
    "duration": 32,
    "start_time": "2022-07-20T14:15:01.225Z"
   },
   {
    "duration": 5,
    "start_time": "2022-07-20T14:15:01.259Z"
   },
   {
    "duration": 152,
    "start_time": "2022-07-20T14:15:01.267Z"
   },
   {
    "duration": 100,
    "start_time": "2022-07-20T14:15:01.421Z"
   },
   {
    "duration": 112,
    "start_time": "2022-07-20T14:15:01.523Z"
   },
   {
    "duration": 1861,
    "start_time": "2022-07-21T11:44:18.348Z"
   },
   {
    "duration": 17,
    "start_time": "2022-07-21T11:44:20.212Z"
   },
   {
    "duration": 911,
    "start_time": "2022-07-21T11:44:20.231Z"
   },
   {
    "duration": 129,
    "start_time": "2022-07-21T11:44:21.144Z"
   },
   {
    "duration": 107,
    "start_time": "2022-07-21T11:44:21.275Z"
   },
   {
    "duration": 88,
    "start_time": "2022-07-21T11:44:21.384Z"
   },
   {
    "duration": 26,
    "start_time": "2022-07-21T11:44:21.474Z"
   },
   {
    "duration": 57,
    "start_time": "2022-07-21T11:44:21.502Z"
   },
   {
    "duration": 12,
    "start_time": "2022-07-21T11:44:21.561Z"
   },
   {
    "duration": 59,
    "start_time": "2022-07-21T11:44:21.598Z"
   },
   {
    "duration": 11,
    "start_time": "2022-07-21T11:44:21.659Z"
   },
   {
    "duration": 186,
    "start_time": "2022-07-21T11:44:21.671Z"
   },
   {
    "duration": 319,
    "start_time": "2022-07-21T11:44:21.858Z"
   },
   {
    "duration": 302,
    "start_time": "2022-07-21T11:44:22.179Z"
   },
   {
    "duration": 30,
    "start_time": "2022-07-21T11:44:22.483Z"
   },
   {
    "duration": 20,
    "start_time": "2022-07-21T11:44:22.515Z"
   },
   {
    "duration": 14,
    "start_time": "2022-07-21T11:44:22.538Z"
   },
   {
    "duration": 63,
    "start_time": "2022-07-21T11:44:22.554Z"
   },
   {
    "duration": 144,
    "start_time": "2022-07-21T11:44:22.619Z"
   },
   {
    "duration": 33,
    "start_time": "2022-07-21T11:44:22.765Z"
   },
   {
    "duration": 250,
    "start_time": "2022-07-21T11:44:22.801Z"
   },
   {
    "duration": 18,
    "start_time": "2022-07-21T11:44:23.053Z"
   },
   {
    "duration": 30,
    "start_time": "2022-07-21T11:44:23.073Z"
   },
   {
    "duration": 42,
    "start_time": "2022-07-21T11:44:23.105Z"
   },
   {
    "duration": 3,
    "start_time": "2022-07-21T11:44:23.149Z"
   },
   {
    "duration": 14,
    "start_time": "2022-07-21T11:44:23.153Z"
   },
   {
    "duration": 132988,
    "start_time": "2022-07-21T11:44:23.169Z"
   },
   {
    "duration": 65962,
    "start_time": "2022-07-21T11:46:36.161Z"
   },
   {
    "duration": 51,
    "start_time": "2022-07-21T11:47:42.125Z"
   },
   {
    "duration": 24,
    "start_time": "2022-07-21T11:47:42.179Z"
   },
   {
    "duration": 7,
    "start_time": "2022-07-21T11:47:42.205Z"
   },
   {
    "duration": 45,
    "start_time": "2022-07-21T11:47:42.214Z"
   },
   {
    "duration": 50,
    "start_time": "2022-07-21T11:47:42.261Z"
   },
   {
    "duration": 509,
    "start_time": "2022-07-21T11:47:42.313Z"
   },
   {
    "duration": 10,
    "start_time": "2022-07-21T11:47:42.824Z"
   },
   {
    "duration": 41,
    "start_time": "2022-07-21T11:47:42.836Z"
   },
   {
    "duration": 43,
    "start_time": "2022-07-21T11:47:42.897Z"
   },
   {
    "duration": 4,
    "start_time": "2022-07-21T11:47:42.942Z"
   },
   {
    "duration": 43492,
    "start_time": "2022-07-21T11:47:42.948Z"
   },
   {
    "duration": 4,
    "start_time": "2022-07-21T11:48:26.442Z"
   },
   {
    "duration": 2407931,
    "start_time": "2022-07-21T11:48:26.448Z"
   },
   {
    "duration": 13022,
    "start_time": "2022-07-21T12:28:34.381Z"
   },
   {
    "duration": 310,
    "start_time": "2022-07-21T12:28:47.405Z"
   },
   {
    "duration": 126,
    "start_time": "2022-07-21T12:28:47.718Z"
   },
   {
    "duration": 0,
    "start_time": "2022-07-21T12:28:47.846Z"
   },
   {
    "duration": 0,
    "start_time": "2022-07-21T12:28:47.847Z"
   },
   {
    "duration": 0,
    "start_time": "2022-07-21T12:28:47.849Z"
   },
   {
    "duration": 0,
    "start_time": "2022-07-21T12:28:47.850Z"
   },
   {
    "duration": 0,
    "start_time": "2022-07-21T12:28:47.851Z"
   },
   {
    "duration": 0,
    "start_time": "2022-07-21T12:28:47.852Z"
   },
   {
    "duration": 1494,
    "start_time": "2022-07-21T15:43:22.114Z"
   },
   {
    "duration": 19,
    "start_time": "2022-07-21T15:43:23.610Z"
   },
   {
    "duration": 619,
    "start_time": "2022-07-21T15:43:23.631Z"
   },
   {
    "duration": 116,
    "start_time": "2022-07-21T15:43:24.252Z"
   },
   {
    "duration": 92,
    "start_time": "2022-07-21T15:43:24.370Z"
   },
   {
    "duration": 88,
    "start_time": "2022-07-21T15:43:24.464Z"
   },
   {
    "duration": 12,
    "start_time": "2022-07-21T15:43:24.553Z"
   },
   {
    "duration": 73,
    "start_time": "2022-07-21T15:43:24.566Z"
   },
   {
    "duration": 12,
    "start_time": "2022-07-21T15:43:24.641Z"
   },
   {
    "duration": 66,
    "start_time": "2022-07-21T15:43:24.656Z"
   },
   {
    "duration": 24,
    "start_time": "2022-07-21T15:43:24.724Z"
   },
   {
    "duration": 160,
    "start_time": "2022-07-21T15:43:24.749Z"
   },
   {
    "duration": 282,
    "start_time": "2022-07-21T15:43:24.910Z"
   },
   {
    "duration": 271,
    "start_time": "2022-07-21T15:43:25.194Z"
   },
   {
    "duration": 18,
    "start_time": "2022-07-21T15:43:25.467Z"
   },
   {
    "duration": 18,
    "start_time": "2022-07-21T15:43:25.487Z"
   },
   {
    "duration": 27,
    "start_time": "2022-07-21T15:43:25.506Z"
   },
   {
    "duration": 30,
    "start_time": "2022-07-21T15:43:25.534Z"
   },
   {
    "duration": 147,
    "start_time": "2022-07-21T15:43:25.565Z"
   },
   {
    "duration": 23,
    "start_time": "2022-07-21T15:43:25.714Z"
   },
   {
    "duration": 235,
    "start_time": "2022-07-21T15:43:25.739Z"
   },
   {
    "duration": 16,
    "start_time": "2022-07-21T15:43:25.975Z"
   },
   {
    "duration": 33,
    "start_time": "2022-07-21T15:43:25.992Z"
   },
   {
    "duration": 28,
    "start_time": "2022-07-21T15:43:26.026Z"
   },
   {
    "duration": 4,
    "start_time": "2022-07-21T15:43:26.056Z"
   },
   {
    "duration": 13,
    "start_time": "2022-07-21T15:43:26.062Z"
   },
   {
    "duration": 128331,
    "start_time": "2022-07-21T15:43:26.077Z"
   },
   {
    "duration": 64211,
    "start_time": "2022-07-21T15:45:34.412Z"
   },
   {
    "duration": 49,
    "start_time": "2022-07-21T15:46:38.624Z"
   },
   {
    "duration": 8,
    "start_time": "2022-07-21T15:46:38.675Z"
   },
   {
    "duration": 6,
    "start_time": "2022-07-21T15:46:38.685Z"
   },
   {
    "duration": 59,
    "start_time": "2022-07-21T15:46:38.693Z"
   },
   {
    "duration": 29,
    "start_time": "2022-07-21T15:46:38.754Z"
   },
   {
    "duration": 539,
    "start_time": "2022-07-21T15:46:38.785Z"
   },
   {
    "duration": 8,
    "start_time": "2022-07-21T15:46:39.326Z"
   },
   {
    "duration": 37,
    "start_time": "2022-07-21T15:46:39.335Z"
   },
   {
    "duration": 62,
    "start_time": "2022-07-21T15:46:39.374Z"
   },
   {
    "duration": 3,
    "start_time": "2022-07-21T15:46:39.438Z"
   },
   {
    "duration": 41405,
    "start_time": "2022-07-21T15:46:39.442Z"
   },
   {
    "duration": 4,
    "start_time": "2022-07-21T15:47:20.848Z"
   },
   {
    "duration": 6741,
    "start_time": "2022-07-21T16:28:30.936Z"
   },
   {
    "duration": 2,
    "start_time": "2022-07-21T16:28:41.566Z"
   },
   {
    "duration": 1279,
    "start_time": "2022-07-21T16:28:50.451Z"
   },
   {
    "duration": 16,
    "start_time": "2022-07-21T16:28:51.732Z"
   },
   {
    "duration": 224,
    "start_time": "2022-07-21T16:28:51.749Z"
   },
   {
    "duration": 123,
    "start_time": "2022-07-21T16:28:51.975Z"
   },
   {
    "duration": 91,
    "start_time": "2022-07-21T16:28:52.100Z"
   },
   {
    "duration": 84,
    "start_time": "2022-07-21T16:28:52.193Z"
   },
   {
    "duration": 12,
    "start_time": "2022-07-21T16:28:52.279Z"
   },
   {
    "duration": 65,
    "start_time": "2022-07-21T16:28:52.293Z"
   },
   {
    "duration": 11,
    "start_time": "2022-07-21T16:28:52.360Z"
   },
   {
    "duration": 54,
    "start_time": "2022-07-21T16:28:52.374Z"
   },
   {
    "duration": 10,
    "start_time": "2022-07-21T16:28:52.429Z"
   },
   {
    "duration": 163,
    "start_time": "2022-07-21T16:28:52.441Z"
   },
   {
    "duration": 281,
    "start_time": "2022-07-21T16:28:52.606Z"
   },
   {
    "duration": 277,
    "start_time": "2022-07-21T16:28:52.889Z"
   },
   {
    "duration": 19,
    "start_time": "2022-07-21T16:28:53.168Z"
   },
   {
    "duration": 34,
    "start_time": "2022-07-21T16:28:53.189Z"
   },
   {
    "duration": 13,
    "start_time": "2022-07-21T16:28:53.225Z"
   },
   {
    "duration": 29,
    "start_time": "2022-07-21T16:28:53.240Z"
   },
   {
    "duration": 142,
    "start_time": "2022-07-21T16:28:53.271Z"
   },
   {
    "duration": 22,
    "start_time": "2022-07-21T16:28:53.415Z"
   },
   {
    "duration": 223,
    "start_time": "2022-07-21T16:28:53.439Z"
   },
   {
    "duration": 15,
    "start_time": "2022-07-21T16:28:53.664Z"
   },
   {
    "duration": 16,
    "start_time": "2022-07-21T16:28:53.681Z"
   },
   {
    "duration": 38,
    "start_time": "2022-07-21T16:28:53.699Z"
   },
   {
    "duration": 4,
    "start_time": "2022-07-21T16:28:53.738Z"
   },
   {
    "duration": 11,
    "start_time": "2022-07-21T16:28:53.743Z"
   },
   {
    "duration": 129713,
    "start_time": "2022-07-21T16:28:53.755Z"
   },
   {
    "duration": 63364,
    "start_time": "2022-07-21T16:31:03.471Z"
   },
   {
    "duration": 47,
    "start_time": "2022-07-21T16:32:06.837Z"
   },
   {
    "duration": 9,
    "start_time": "2022-07-21T16:32:06.886Z"
   },
   {
    "duration": 7,
    "start_time": "2022-07-21T16:32:06.896Z"
   },
   {
    "duration": 41,
    "start_time": "2022-07-21T16:32:06.922Z"
   },
   {
    "duration": 25,
    "start_time": "2022-07-21T16:32:06.965Z"
   },
   {
    "duration": 487,
    "start_time": "2022-07-21T16:32:06.991Z"
   },
   {
    "duration": 7,
    "start_time": "2022-07-21T16:32:07.480Z"
   },
   {
    "duration": 51,
    "start_time": "2022-07-21T16:32:07.489Z"
   },
   {
    "duration": 43,
    "start_time": "2022-07-21T16:32:07.542Z"
   },
   {
    "duration": 3,
    "start_time": "2022-07-21T16:32:07.587Z"
   },
   {
    "duration": 41042,
    "start_time": "2022-07-21T16:32:07.591Z"
   },
   {
    "duration": 4,
    "start_time": "2022-07-21T16:32:48.634Z"
   },
   {
    "duration": 2199677,
    "start_time": "2022-07-21T16:32:48.640Z"
   },
   {
    "duration": 11910,
    "start_time": "2022-07-21T17:09:28.319Z"
   },
   {
    "duration": 287,
    "start_time": "2022-07-21T17:09:40.231Z"
   },
   {
    "duration": 292,
    "start_time": "2022-07-21T17:09:40.520Z"
   },
   {
    "duration": 11921,
    "start_time": "2022-07-21T17:09:40.814Z"
   },
   {
    "duration": 26,
    "start_time": "2022-07-21T17:09:52.736Z"
   },
   {
    "duration": 4,
    "start_time": "2022-07-21T17:09:52.764Z"
   },
   {
    "duration": 146,
    "start_time": "2022-07-21T17:09:52.770Z"
   },
   {
    "duration": 95,
    "start_time": "2022-07-21T17:09:52.918Z"
   },
   {
    "duration": 117,
    "start_time": "2022-07-21T17:09:53.015Z"
   }
  ],
  "kernelspec": {
   "display_name": "Python 3 (ipykernel)",
   "language": "python",
   "name": "python3"
  },
  "language_info": {
   "codemirror_mode": {
    "name": "ipython",
    "version": 3
   },
   "file_extension": ".py",
   "mimetype": "text/x-python",
   "name": "python",
   "nbconvert_exporter": "python",
   "pygments_lexer": "ipython3",
   "version": "3.9.5"
  },
  "toc": {
   "base_numbering": 1,
   "nav_menu": {},
   "number_sections": true,
   "sideBar": true,
   "skip_h1_title": true,
   "title_cell": "Table of Contents",
   "title_sidebar": "Contents",
   "toc_cell": false,
   "toc_position": {},
   "toc_section_display": true,
   "toc_window_display": false
  }
 },
 "nbformat": 4,
 "nbformat_minor": 2
}
