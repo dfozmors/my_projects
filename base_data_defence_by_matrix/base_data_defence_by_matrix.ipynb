{
 "cells": [
  {
   "cell_type": "markdown",
   "metadata": {
    "toc": true
   },
   "source": [
    "<h1>Содержание<span class=\"tocSkip\"></span></h1>\n",
    "<div class=\"toc\"><ul class=\"toc-item\"><li><span><a href=\"#Загрузка-данных\" data-toc-modified-id=\"Загрузка-данных-1\"><span class=\"toc-item-num\">1&nbsp;&nbsp;</span>Загрузка данных</a></span></li><li><span><a href=\"#Умножение-матриц\" data-toc-modified-id=\"Умножение-матриц-2\"><span class=\"toc-item-num\">2&nbsp;&nbsp;</span>Умножение матриц</a></span><ul class=\"toc-item\"><li><span><a href=\"#Создание-1-модели-по-формуле\" data-toc-modified-id=\"Создание-1-модели-по-формуле-2.1\"><span class=\"toc-item-num\">2.1&nbsp;&nbsp;</span>Создание 1 модели по формуле</a></span></li><li><span><a href=\"#Создание-2-модели,-умножив-признаки-на-обратимую-матрицу\" data-toc-modified-id=\"Создание-2-модели,-умножив-признаки-на-обратимую-матрицу-2.2\"><span class=\"toc-item-num\">2.2&nbsp;&nbsp;</span>Создание 2 модели, умножив признаки на обратимую матрицу</a></span></li></ul></li><li><span><a href=\"#Алгоритм-преобразования\" data-toc-modified-id=\"Алгоритм-преобразования-3\"><span class=\"toc-item-num\">3&nbsp;&nbsp;</span>Алгоритм преобразования</a></span></li><li><span><a href=\"#Проверка-алгоритма\" data-toc-modified-id=\"Проверка-алгоритма-4\"><span class=\"toc-item-num\">4&nbsp;&nbsp;</span>Проверка алгоритма</a></span></li><li><span><a href=\"#Вывод\" data-toc-modified-id=\"Вывод-5\"><span class=\"toc-item-num\">5&nbsp;&nbsp;</span>Вывод</a></span></li><li><span><a href=\"#Чек-лист-проверки\" data-toc-modified-id=\"Чек-лист-проверки-6\"><span class=\"toc-item-num\">6&nbsp;&nbsp;</span>Чек-лист проверки</a></span></li></ul></div>"
   ]
  },
  {
   "cell_type": "markdown",
   "metadata": {},
   "source": [
    "# Защита персональных данных клиентов"
   ]
  },
  {
   "cell_type": "markdown",
   "metadata": {},
   "source": [
    "## Загрузка данных"
   ]
  },
  {
   "cell_type": "code",
   "execution_count": 1,
   "metadata": {},
   "outputs": [],
   "source": [
    "import pandas as pd\n",
    "import numpy as np\n",
    "import matplotlib.pyplot as plt\n",
    "from sklearn.metrics import mean_squared_error\n",
    "from sklearn.model_selection import train_test_split\n",
    "from sklearn.linear_model import LinearRegression\n",
    "from sklearn.metrics import accuracy_score\n",
    "from sklearn.metrics import r2_score"
   ]
  },
  {
   "cell_type": "code",
   "execution_count": 2,
   "metadata": {},
   "outputs": [],
   "source": [
    "df = pd.read_csv('/datasets/insurance.csv')"
   ]
  },
  {
   "cell_type": "code",
   "execution_count": 3,
   "metadata": {},
   "outputs": [
    {
     "data": {
      "text/html": [
       "<div>\n",
       "<style scoped>\n",
       "    .dataframe tbody tr th:only-of-type {\n",
       "        vertical-align: middle;\n",
       "    }\n",
       "\n",
       "    .dataframe tbody tr th {\n",
       "        vertical-align: top;\n",
       "    }\n",
       "\n",
       "    .dataframe thead th {\n",
       "        text-align: right;\n",
       "    }\n",
       "</style>\n",
       "<table border=\"1\" class=\"dataframe\">\n",
       "  <thead>\n",
       "    <tr style=\"text-align: right;\">\n",
       "      <th></th>\n",
       "      <th>Пол</th>\n",
       "      <th>Возраст</th>\n",
       "      <th>Зарплата</th>\n",
       "      <th>Члены семьи</th>\n",
       "      <th>Страховые выплаты</th>\n",
       "    </tr>\n",
       "  </thead>\n",
       "  <tbody>\n",
       "    <tr>\n",
       "      <th>0</th>\n",
       "      <td>1</td>\n",
       "      <td>41.0</td>\n",
       "      <td>49600.0</td>\n",
       "      <td>1</td>\n",
       "      <td>0</td>\n",
       "    </tr>\n",
       "    <tr>\n",
       "      <th>1</th>\n",
       "      <td>0</td>\n",
       "      <td>46.0</td>\n",
       "      <td>38000.0</td>\n",
       "      <td>1</td>\n",
       "      <td>1</td>\n",
       "    </tr>\n",
       "    <tr>\n",
       "      <th>2</th>\n",
       "      <td>0</td>\n",
       "      <td>29.0</td>\n",
       "      <td>21000.0</td>\n",
       "      <td>0</td>\n",
       "      <td>0</td>\n",
       "    </tr>\n",
       "    <tr>\n",
       "      <th>3</th>\n",
       "      <td>0</td>\n",
       "      <td>21.0</td>\n",
       "      <td>41700.0</td>\n",
       "      <td>2</td>\n",
       "      <td>0</td>\n",
       "    </tr>\n",
       "    <tr>\n",
       "      <th>4</th>\n",
       "      <td>1</td>\n",
       "      <td>28.0</td>\n",
       "      <td>26100.0</td>\n",
       "      <td>0</td>\n",
       "      <td>0</td>\n",
       "    </tr>\n",
       "    <tr>\n",
       "      <th>...</th>\n",
       "      <td>...</td>\n",
       "      <td>...</td>\n",
       "      <td>...</td>\n",
       "      <td>...</td>\n",
       "      <td>...</td>\n",
       "    </tr>\n",
       "    <tr>\n",
       "      <th>4995</th>\n",
       "      <td>0</td>\n",
       "      <td>28.0</td>\n",
       "      <td>35700.0</td>\n",
       "      <td>2</td>\n",
       "      <td>0</td>\n",
       "    </tr>\n",
       "    <tr>\n",
       "      <th>4996</th>\n",
       "      <td>0</td>\n",
       "      <td>34.0</td>\n",
       "      <td>52400.0</td>\n",
       "      <td>1</td>\n",
       "      <td>0</td>\n",
       "    </tr>\n",
       "    <tr>\n",
       "      <th>4997</th>\n",
       "      <td>0</td>\n",
       "      <td>20.0</td>\n",
       "      <td>33900.0</td>\n",
       "      <td>2</td>\n",
       "      <td>0</td>\n",
       "    </tr>\n",
       "    <tr>\n",
       "      <th>4998</th>\n",
       "      <td>1</td>\n",
       "      <td>22.0</td>\n",
       "      <td>32700.0</td>\n",
       "      <td>3</td>\n",
       "      <td>0</td>\n",
       "    </tr>\n",
       "    <tr>\n",
       "      <th>4999</th>\n",
       "      <td>1</td>\n",
       "      <td>28.0</td>\n",
       "      <td>40600.0</td>\n",
       "      <td>1</td>\n",
       "      <td>0</td>\n",
       "    </tr>\n",
       "  </tbody>\n",
       "</table>\n",
       "<p>5000 rows × 5 columns</p>\n",
       "</div>"
      ],
      "text/plain": [
       "      Пол  Возраст  Зарплата  Члены семьи  Страховые выплаты\n",
       "0       1     41.0   49600.0            1                  0\n",
       "1       0     46.0   38000.0            1                  1\n",
       "2       0     29.0   21000.0            0                  0\n",
       "3       0     21.0   41700.0            2                  0\n",
       "4       1     28.0   26100.0            0                  0\n",
       "...   ...      ...       ...          ...                ...\n",
       "4995    0     28.0   35700.0            2                  0\n",
       "4996    0     34.0   52400.0            1                  0\n",
       "4997    0     20.0   33900.0            2                  0\n",
       "4998    1     22.0   32700.0            3                  0\n",
       "4999    1     28.0   40600.0            1                  0\n",
       "\n",
       "[5000 rows x 5 columns]"
      ]
     },
     "execution_count": 3,
     "metadata": {},
     "output_type": "execute_result"
    }
   ],
   "source": [
    "df"
   ]
  },
  {
   "cell_type": "code",
   "execution_count": 4,
   "metadata": {},
   "outputs": [
    {
     "name": "stdout",
     "output_type": "stream",
     "text": [
      "<class 'pandas.core.frame.DataFrame'>\n",
      "RangeIndex: 5000 entries, 0 to 4999\n",
      "Data columns (total 5 columns):\n",
      " #   Column             Non-Null Count  Dtype  \n",
      "---  ------             --------------  -----  \n",
      " 0   Пол                5000 non-null   int64  \n",
      " 1   Возраст            5000 non-null   float64\n",
      " 2   Зарплата           5000 non-null   float64\n",
      " 3   Члены семьи        5000 non-null   int64  \n",
      " 4   Страховые выплаты  5000 non-null   int64  \n",
      "dtypes: float64(2), int64(3)\n",
      "memory usage: 195.4 KB\n"
     ]
    }
   ],
   "source": [
    "df.info()"
   ]
  },
  {
   "cell_type": "code",
   "execution_count": 5,
   "metadata": {},
   "outputs": [
    {
     "data": {
      "text/html": [
       "<div>\n",
       "<style scoped>\n",
       "    .dataframe tbody tr th:only-of-type {\n",
       "        vertical-align: middle;\n",
       "    }\n",
       "\n",
       "    .dataframe tbody tr th {\n",
       "        vertical-align: top;\n",
       "    }\n",
       "\n",
       "    .dataframe thead th {\n",
       "        text-align: right;\n",
       "    }\n",
       "</style>\n",
       "<table border=\"1\" class=\"dataframe\">\n",
       "  <thead>\n",
       "    <tr style=\"text-align: right;\">\n",
       "      <th></th>\n",
       "      <th>Пол</th>\n",
       "      <th>Возраст</th>\n",
       "      <th>Зарплата</th>\n",
       "      <th>Члены семьи</th>\n",
       "      <th>Страховые выплаты</th>\n",
       "    </tr>\n",
       "  </thead>\n",
       "  <tbody>\n",
       "    <tr>\n",
       "      <th>count</th>\n",
       "      <td>5000.000000</td>\n",
       "      <td>5000.000000</td>\n",
       "      <td>5000.000000</td>\n",
       "      <td>5000.000000</td>\n",
       "      <td>5000.000000</td>\n",
       "    </tr>\n",
       "    <tr>\n",
       "      <th>mean</th>\n",
       "      <td>0.499000</td>\n",
       "      <td>30.952800</td>\n",
       "      <td>39916.360000</td>\n",
       "      <td>1.194200</td>\n",
       "      <td>0.148000</td>\n",
       "    </tr>\n",
       "    <tr>\n",
       "      <th>std</th>\n",
       "      <td>0.500049</td>\n",
       "      <td>8.440807</td>\n",
       "      <td>9900.083569</td>\n",
       "      <td>1.091387</td>\n",
       "      <td>0.463183</td>\n",
       "    </tr>\n",
       "    <tr>\n",
       "      <th>min</th>\n",
       "      <td>0.000000</td>\n",
       "      <td>18.000000</td>\n",
       "      <td>5300.000000</td>\n",
       "      <td>0.000000</td>\n",
       "      <td>0.000000</td>\n",
       "    </tr>\n",
       "    <tr>\n",
       "      <th>25%</th>\n",
       "      <td>0.000000</td>\n",
       "      <td>24.000000</td>\n",
       "      <td>33300.000000</td>\n",
       "      <td>0.000000</td>\n",
       "      <td>0.000000</td>\n",
       "    </tr>\n",
       "    <tr>\n",
       "      <th>50%</th>\n",
       "      <td>0.000000</td>\n",
       "      <td>30.000000</td>\n",
       "      <td>40200.000000</td>\n",
       "      <td>1.000000</td>\n",
       "      <td>0.000000</td>\n",
       "    </tr>\n",
       "    <tr>\n",
       "      <th>75%</th>\n",
       "      <td>1.000000</td>\n",
       "      <td>37.000000</td>\n",
       "      <td>46600.000000</td>\n",
       "      <td>2.000000</td>\n",
       "      <td>0.000000</td>\n",
       "    </tr>\n",
       "    <tr>\n",
       "      <th>max</th>\n",
       "      <td>1.000000</td>\n",
       "      <td>65.000000</td>\n",
       "      <td>79000.000000</td>\n",
       "      <td>6.000000</td>\n",
       "      <td>5.000000</td>\n",
       "    </tr>\n",
       "  </tbody>\n",
       "</table>\n",
       "</div>"
      ],
      "text/plain": [
       "               Пол      Возраст      Зарплата  Члены семьи  Страховые выплаты\n",
       "count  5000.000000  5000.000000   5000.000000  5000.000000        5000.000000\n",
       "mean      0.499000    30.952800  39916.360000     1.194200           0.148000\n",
       "std       0.500049     8.440807   9900.083569     1.091387           0.463183\n",
       "min       0.000000    18.000000   5300.000000     0.000000           0.000000\n",
       "25%       0.000000    24.000000  33300.000000     0.000000           0.000000\n",
       "50%       0.000000    30.000000  40200.000000     1.000000           0.000000\n",
       "75%       1.000000    37.000000  46600.000000     2.000000           0.000000\n",
       "max       1.000000    65.000000  79000.000000     6.000000           5.000000"
      ]
     },
     "execution_count": 5,
     "metadata": {},
     "output_type": "execute_result"
    }
   ],
   "source": [
    "df.describe()"
   ]
  },
  {
   "cell_type": "markdown",
   "metadata": {},
   "source": [
    "После первичного осмотра данных можно заметить, что пропуски отсутствуют, аномалий обнаружено не было, все типы данных соответствуют. В предобработке данные не нуждаются"
   ]
  },
  {
   "cell_type": "markdown",
   "metadata": {},
   "source": [
    "## Умножение матриц"
   ]
  },
  {
   "cell_type": "markdown",
   "metadata": {},
   "source": [
    "### Создание 1 модели по формуле"
   ]
  },
  {
   "cell_type": "code",
   "execution_count": 6,
   "metadata": {},
   "outputs": [],
   "source": [
    "#Разделение выборки на тестовую и тренировочную\n",
    "features = df.drop(['Страховые выплаты'],axis=1)\n",
    "target = df['Страховые выплаты']\n",
    "\n",
    "train_features, test_features, train_target, test_target = train_test_split(features,target, test_size=0.2, random_state=12345,shuffle=True)"
   ]
  },
  {
   "cell_type": "code",
   "execution_count": 7,
   "metadata": {},
   "outputs": [],
   "source": [
    "class LinearRegression:\n",
    "    def fit(self, train_features, train_target):\n",
    "        X = np.concatenate((np.ones((train_features.shape[0], 1)), train_features), axis=1)\n",
    "        y = train_target\n",
    "        w = (np.linalg.inv(X.T.dot(X)).dot(X.T)).dot(y)\n",
    "        self.w = w[1:]\n",
    "        self.w0 = w[0]\n",
    "\n",
    "    def predict(self, test_features):\n",
    "        return test_features.dot(self.w) + self.w0"
   ]
  },
  {
   "cell_type": "code",
   "execution_count": 8,
   "metadata": {},
   "outputs": [
    {
     "name": "stdout",
     "output_type": "stream",
     "text": [
      "R2_score: 0.41176839567704737\n",
      "MSE: 0.11005813316882444\n"
     ]
    }
   ],
   "source": [
    "model = LinearRegression()\n",
    "model.fit(train_features, train_target)\n",
    "predict = model.predict(test_features)\n",
    "\n",
    "R2_score_1 = r2_score(test_target, predict)\n",
    "MSE_1 = mean_squared_error(predict,test_target)\n",
    "\n",
    "print(\"R2_score:\", R2_score_1)\n",
    "print(\"MSE:\", MSE_1)"
   ]
  },
  {
   "cell_type": "markdown",
   "metadata": {},
   "source": [
    "### Создание 2 модели, умножив признаки на обратимую матрицу"
   ]
  },
  {
   "cell_type": "code",
   "execution_count": 9,
   "metadata": {
    "scrolled": true
   },
   "outputs": [
    {
     "data": {
      "text/plain": [
       "array([[-0.58595929,  0.94467112, -0.16849536, -0.07351793],\n",
       "       [ 0.93111891, -1.10498327,  0.49334361, -0.28458468],\n",
       "       [-0.38966227, -0.05997866,  0.07811602,  0.45712856],\n",
       "       [ 0.17421873,  0.26840182, -0.37488138,  0.03137053]])"
      ]
     },
     "execution_count": 9,
     "metadata": {},
     "output_type": "execute_result"
    }
   ],
   "source": [
    "#создание обратимой матрицы\n",
    "matrix=np.random.normal(3, size=(4,4))\n",
    "np.linalg.inv(matrix)\n",
    "\n"
   ]
  },
  {
   "cell_type": "code",
   "execution_count": 10,
   "metadata": {},
   "outputs": [
    {
     "data": {
      "text/html": [
       "<div>\n",
       "<style scoped>\n",
       "    .dataframe tbody tr th:only-of-type {\n",
       "        vertical-align: middle;\n",
       "    }\n",
       "\n",
       "    .dataframe tbody tr th {\n",
       "        vertical-align: top;\n",
       "    }\n",
       "\n",
       "    .dataframe thead th {\n",
       "        text-align: right;\n",
       "    }\n",
       "</style>\n",
       "<table border=\"1\" class=\"dataframe\">\n",
       "  <thead>\n",
       "    <tr style=\"text-align: right;\">\n",
       "      <th></th>\n",
       "      <th>Пол</th>\n",
       "      <th>Возраст</th>\n",
       "      <th>Зарплата</th>\n",
       "      <th>Члены семьи</th>\n",
       "    </tr>\n",
       "  </thead>\n",
       "  <tbody>\n",
       "    <tr>\n",
       "      <th>317</th>\n",
       "      <td>173685.892707</td>\n",
       "      <td>151806.496427</td>\n",
       "      <td>119666.418755</td>\n",
       "      <td>40480.439103</td>\n",
       "    </tr>\n",
       "    <tr>\n",
       "      <th>4143</th>\n",
       "      <td>149335.117711</td>\n",
       "      <td>130512.034414</td>\n",
       "      <td>102875.986527</td>\n",
       "      <td>34841.065971</td>\n",
       "    </tr>\n",
       "    <tr>\n",
       "      <th>4252</th>\n",
       "      <td>221764.404345</td>\n",
       "      <td>193819.017811</td>\n",
       "      <td>152780.211704</td>\n",
       "      <td>51716.848620</td>\n",
       "    </tr>\n",
       "    <tr>\n",
       "      <th>710</th>\n",
       "      <td>170663.568741</td>\n",
       "      <td>149160.893859</td>\n",
       "      <td>117580.724459</td>\n",
       "      <td>39789.901462</td>\n",
       "    </tr>\n",
       "    <tr>\n",
       "      <th>148</th>\n",
       "      <td>170225.060493</td>\n",
       "      <td>148777.109528</td>\n",
       "      <td>117276.271280</td>\n",
       "      <td>39685.245386</td>\n",
       "    </tr>\n",
       "  </tbody>\n",
       "</table>\n",
       "</div>"
      ],
      "text/plain": [
       "                Пол        Возраст       Зарплата   Члены семьи\n",
       "317   173685.892707  151806.496427  119666.418755  40480.439103\n",
       "4143  149335.117711  130512.034414  102875.986527  34841.065971\n",
       "4252  221764.404345  193819.017811  152780.211704  51716.848620\n",
       "710   170663.568741  149160.893859  117580.724459  39789.901462\n",
       "148   170225.060493  148777.109528  117276.271280  39685.245386"
      ]
     },
     "execution_count": 10,
     "metadata": {},
     "output_type": "execute_result"
    }
   ],
   "source": [
    "#Умножение признаков на обратимую матрицу\n",
    "train_features_matrix=train_features.dot(matrix)\n",
    "train_features_matrix.columns = train_features.columns\n",
    "train_features_matrix.head()"
   ]
  },
  {
   "cell_type": "code",
   "execution_count": 11,
   "metadata": {},
   "outputs": [
    {
     "data": {
      "text/html": [
       "<div>\n",
       "<style scoped>\n",
       "    .dataframe tbody tr th:only-of-type {\n",
       "        vertical-align: middle;\n",
       "    }\n",
       "\n",
       "    .dataframe tbody tr th {\n",
       "        vertical-align: top;\n",
       "    }\n",
       "\n",
       "    .dataframe thead th {\n",
       "        text-align: right;\n",
       "    }\n",
       "</style>\n",
       "<table border=\"1\" class=\"dataframe\">\n",
       "  <thead>\n",
       "    <tr style=\"text-align: right;\">\n",
       "      <th></th>\n",
       "      <th>Пол</th>\n",
       "      <th>Возраст</th>\n",
       "      <th>Зарплата</th>\n",
       "      <th>Члены семьи</th>\n",
       "    </tr>\n",
       "  </thead>\n",
       "  <tbody>\n",
       "    <tr>\n",
       "      <th>3183</th>\n",
       "      <td>170251.394410</td>\n",
       "      <td>148799.199815</td>\n",
       "      <td>117299.309254</td>\n",
       "      <td>39707.280607</td>\n",
       "    </tr>\n",
       "    <tr>\n",
       "      <th>1071</th>\n",
       "      <td>188196.452688</td>\n",
       "      <td>164475.417513</td>\n",
       "      <td>129651.839212</td>\n",
       "      <td>43908.698427</td>\n",
       "    </tr>\n",
       "    <tr>\n",
       "      <th>2640</th>\n",
       "      <td>183790.274842</td>\n",
       "      <td>160629.035782</td>\n",
       "      <td>126616.094501</td>\n",
       "      <td>42862.213710</td>\n",
       "    </tr>\n",
       "    <tr>\n",
       "      <th>2282</th>\n",
       "      <td>151871.742151</td>\n",
       "      <td>132738.224401</td>\n",
       "      <td>104631.771380</td>\n",
       "      <td>35395.967070</td>\n",
       "    </tr>\n",
       "    <tr>\n",
       "      <th>1595</th>\n",
       "      <td>174644.305423</td>\n",
       "      <td>152635.096356</td>\n",
       "      <td>120322.731568</td>\n",
       "      <td>40743.362090</td>\n",
       "    </tr>\n",
       "  </tbody>\n",
       "</table>\n",
       "</div>"
      ],
      "text/plain": [
       "                Пол        Возраст       Зарплата   Члены семьи\n",
       "3183  170251.394410  148799.199815  117299.309254  39707.280607\n",
       "1071  188196.452688  164475.417513  129651.839212  43908.698427\n",
       "2640  183790.274842  160629.035782  126616.094501  42862.213710\n",
       "2282  151871.742151  132738.224401  104631.771380  35395.967070\n",
       "1595  174644.305423  152635.096356  120322.731568  40743.362090"
      ]
     },
     "execution_count": 11,
     "metadata": {},
     "output_type": "execute_result"
    }
   ],
   "source": [
    "test_features_matrix = test_features.dot(matrix)\n",
    "test_features_matrix.columns = test_features.columns\n",
    "test_features_matrix.head()"
   ]
  },
  {
   "cell_type": "code",
   "execution_count": 12,
   "metadata": {},
   "outputs": [
    {
     "name": "stdout",
     "output_type": "stream",
     "text": [
      "R2_score Линейной регрессии изменённой матрицы: 0.411768383991695\n",
      "MSE Линейной регрессии изменённой матрицы: 0.11005813535515387\n"
     ]
    }
   ],
   "source": [
    "#Проверка качетсва модели\n",
    "model_2 = LinearRegression()\n",
    "model_2.fit(train_features_matrix,train_target)\n",
    "predictions_t= model_2.predict(test_features_matrix)\n",
    "print(\"R2_score Линейной регрессии изменённой матрицы:\", r2_score(test_target,predictions_t))\n",
    "print(\"MSE Линейной регрессии изменённой матрицы:\", mean_squared_error(predictions_t,test_target))"
   ]
  },
  {
   "cell_type": "markdown",
   "metadata": {},
   "source": [
    "**Ответ:** При умножении признаков на обратимую матрицу, качество линейной регрессии не изменится\n",
    "\n",
    "**Обоснование:** Если мы будем умножать признаки на обратную матрицу, то \n",
    "$$\n",
    "a = Xw\n",
    "$$\n",
    "$$\n",
    "a_1 = X_1 w_1, где X_1 = XZ.\n",
    "$$\n",
    "\n",
    "Нужно доказать, что:   \n",
    "$$\n",
    "a_1 = a, т.е. X_1 w_1 = Xw\n",
    "$$\n",
    "\n",
    "**Доказательство** \n",
    "\n",
    "$$\n",
    "w_1 = ((XZ)^T (XZ))^{-1} (XZ)^T y\n",
    "$$\n",
    "\n",
    "Где Z-обратная матрица \n",
    "\n",
    "Следовательно при объединении формул:\n",
    "$$\n",
    "a_1 = (XZ) ((XZ)^T (XZ))^{-1} (XZ)^T y \n",
    "$$\n",
    "\n",
    "Так как \n",
    "$(AB)^{-1} = B^{-1}A^{-1}$\n",
    "\n",
    "$$\n",
    "a_1 = (XZ) ((XZ)^T)^{-1} (XZ)^{-1} (XZ)^T y =  XZ ((XZ)^T)^{-1} X^{-1} Z^{-1} (XZ)^T y\n",
    "$$\n",
    "\n",
    "так как $ZZ^{-1} = E$ то:\n",
    "\n",
    "$$\n",
    "a_1 = XE ((XZ)^T)^{-1}  X^{-1} (XZ)^T y \n",
    "$$\n",
    "\n",
    "Так как $(AB)^T = A^T B^T$\n",
    "\n",
    "$$\n",
    "a_1 = XE (X^T)^{-1} (Z^T)^{-1} X^{-1} X^T Z^T y \n",
    "$$\n",
    "\n",
    "Так как $(Z^T)^{-1}  Z^T = E$, a $AE=A$, то\n",
    "\n",
    "$$\n",
    "a_1 = X (X^T)^{-1} X^{-1} X^T y  = X (X^T X)^{-1} X^T y \n",
    "$$\n",
    "\n",
    "Произведем замену:\n",
    "\n",
    "$$\n",
    "a_1 = Xw\n",
    "$$\n",
    "\n",
    "Следовательно \n",
    "\n",
    "$$\n",
    "a_1 = a\n",
    "$$\n",
    "\n",
    "\n",
    "$$\n",
    "a_1 = (XZ) ((XZ)^T (XZ))^{-1} (XZ)^T y  =\n",
    "$$\n",
    "$$\n",
    "= (XZ) (Z^T X^T XZ)^{-1} (XZ)^T y =  \n",
    "$$\n",
    "\n",
    "$$\n",
    "(XZ) (Z^T X^T XZ)^{-1} Z^T X^T = \n",
    "$$\n",
    "$$\n",
    "= XZ Z^{-1} (X^T X)^{-1} (Z^T)^{-1} Z^T X^T y  =\n",
    "$$\n",
    "\n",
    "$$\n",
    "= X Z Z^{-1} (X^T X)^{-1}  X^T y =\n",
    "$$\n",
    "\n",
    "$$\n",
    "= X E (X^T X)^{-1} X^T y = X (X^T X)^{-1} X^T y =\n",
    "$$\n"
   ]
  },
  {
   "cell_type": "markdown",
   "metadata": {},
   "source": [
    "## Алгоритм преобразования"
   ]
  },
  {
   "cell_type": "markdown",
   "metadata": {},
   "source": [
    "**Алгоритм**\n",
    "\n",
    "1. Составление матрицы\n",
    "2. Проверка ее на обратимость\n",
    "3. Умножение матрицы признаков на матрицу\n",
    "4. Применение алгоритма на преобразованных признаках"
   ]
  },
  {
   "cell_type": "markdown",
   "metadata": {},
   "source": [
    "**Обоснование**\n",
    "\n",
    "Если мы произведём умножение признаков тренировочной и тестовой выборок на одну и ту же обратимую матрицу, то результатом предсказания будет произведение нашей изменённой таблицы с признаками на вектор, который был получен из той же таблицы с изменёнными данными увеличенную на ту же величину, что и признаки тренировочных данных."
   ]
  },
  {
   "cell_type": "markdown",
   "metadata": {},
   "source": [
    "## Проверка алгоритма"
   ]
  },
  {
   "cell_type": "code",
   "execution_count": 13,
   "metadata": {
    "scrolled": true
   },
   "outputs": [
    {
     "data": {
      "text/plain": [
       "array([[ 0.46386778,  1.25611863, -0.19243028, -1.31806545],\n",
       "       [-0.53514804, -2.53553016,  0.8494483 ,  1.77399542],\n",
       "       [ 0.26291396,  0.13680006, -0.44251469,  0.29577168],\n",
       "       [ 0.18687502,  2.66486967, -0.6307547 , -1.58309631]])"
      ]
     },
     "execution_count": 13,
     "metadata": {},
     "output_type": "execute_result"
    }
   ],
   "source": [
    "# Создание матрицы и проверка на обратимость\n",
    "matrix_2=np.random.normal(3, size=(4,4))\n",
    "np.linalg.inv(matrix_2)"
   ]
  },
  {
   "cell_type": "code",
   "execution_count": 14,
   "metadata": {},
   "outputs": [
    {
     "data": {
      "text/html": [
       "<div>\n",
       "<style scoped>\n",
       "    .dataframe tbody tr th:only-of-type {\n",
       "        vertical-align: middle;\n",
       "    }\n",
       "\n",
       "    .dataframe tbody tr th {\n",
       "        vertical-align: top;\n",
       "    }\n",
       "\n",
       "    .dataframe thead th {\n",
       "        text-align: right;\n",
       "    }\n",
       "</style>\n",
       "<table border=\"1\" class=\"dataframe\">\n",
       "  <thead>\n",
       "    <tr style=\"text-align: right;\">\n",
       "      <th></th>\n",
       "      <th>Пол</th>\n",
       "      <th>Возраст</th>\n",
       "      <th>Зарплата</th>\n",
       "      <th>Члены семьи</th>\n",
       "    </tr>\n",
       "  </thead>\n",
       "  <tbody>\n",
       "    <tr>\n",
       "      <th>317</th>\n",
       "      <td>160831.909298</td>\n",
       "      <td>227542.753795</td>\n",
       "      <td>82392.268221</td>\n",
       "      <td>136466.819957</td>\n",
       "    </tr>\n",
       "    <tr>\n",
       "      <th>4143</th>\n",
       "      <td>138241.358690</td>\n",
       "      <td>195597.868312</td>\n",
       "      <td>70839.478220</td>\n",
       "      <td>117321.273278</td>\n",
       "    </tr>\n",
       "    <tr>\n",
       "      <th>4252</th>\n",
       "      <td>205316.734759</td>\n",
       "      <td>290492.468855</td>\n",
       "      <td>105198.493924</td>\n",
       "      <td>174231.439738</td>\n",
       "    </tr>\n",
       "    <tr>\n",
       "      <th>710</th>\n",
       "      <td>158017.125177</td>\n",
       "      <td>223567.773644</td>\n",
       "      <td>80958.326752</td>\n",
       "      <td>134088.161043</td>\n",
       "    </tr>\n",
       "    <tr>\n",
       "      <th>148</th>\n",
       "      <td>157611.453104</td>\n",
       "      <td>222992.634170</td>\n",
       "      <td>80748.798706</td>\n",
       "      <td>133742.910470</td>\n",
       "    </tr>\n",
       "  </tbody>\n",
       "</table>\n",
       "</div>"
      ],
      "text/plain": [
       "                Пол        Возраст       Зарплата    Члены семьи\n",
       "317   160831.909298  227542.753795   82392.268221  136466.819957\n",
       "4143  138241.358690  195597.868312   70839.478220  117321.273278\n",
       "4252  205316.734759  290492.468855  105198.493924  174231.439738\n",
       "710   158017.125177  223567.773644   80958.326752  134088.161043\n",
       "148   157611.453104  222992.634170   80748.798706  133742.910470"
      ]
     },
     "metadata": {},
     "output_type": "display_data"
    },
    {
     "data": {
      "text/html": [
       "<div>\n",
       "<style scoped>\n",
       "    .dataframe tbody tr th:only-of-type {\n",
       "        vertical-align: middle;\n",
       "    }\n",
       "\n",
       "    .dataframe tbody tr th {\n",
       "        vertical-align: top;\n",
       "    }\n",
       "\n",
       "    .dataframe thead th {\n",
       "        text-align: right;\n",
       "    }\n",
       "</style>\n",
       "<table border=\"1\" class=\"dataframe\">\n",
       "  <thead>\n",
       "    <tr style=\"text-align: right;\">\n",
       "      <th></th>\n",
       "      <th>Пол</th>\n",
       "      <th>Возраст</th>\n",
       "      <th>Зарплата</th>\n",
       "      <th>Члены семьи</th>\n",
       "    </tr>\n",
       "  </thead>\n",
       "  <tbody>\n",
       "    <tr>\n",
       "      <th>3183</th>\n",
       "      <td>157624.740971</td>\n",
       "      <td>223019.551297</td>\n",
       "      <td>80765.673273</td>\n",
       "      <td>133763.267790</td>\n",
       "    </tr>\n",
       "    <tr>\n",
       "      <th>1071</th>\n",
       "      <td>174213.974002</td>\n",
       "      <td>246500.056028</td>\n",
       "      <td>89274.517094</td>\n",
       "      <td>147854.190606</td>\n",
       "    </tr>\n",
       "    <tr>\n",
       "      <th>2640</th>\n",
       "      <td>170156.372790</td>\n",
       "      <td>240745.951008</td>\n",
       "      <td>87183.712175</td>\n",
       "      <td>144395.163625</td>\n",
       "    </tr>\n",
       "    <tr>\n",
       "      <th>2282</th>\n",
       "      <td>140628.155909</td>\n",
       "      <td>198958.771315</td>\n",
       "      <td>72041.441492</td>\n",
       "      <td>119324.801585</td>\n",
       "    </tr>\n",
       "    <tr>\n",
       "      <th>1595</th>\n",
       "      <td>161678.101789</td>\n",
       "      <td>228760.674480</td>\n",
       "      <td>82849.233905</td>\n",
       "      <td>137211.187894</td>\n",
       "    </tr>\n",
       "  </tbody>\n",
       "</table>\n",
       "</div>"
      ],
      "text/plain": [
       "                Пол        Возраст      Зарплата    Члены семьи\n",
       "3183  157624.740971  223019.551297  80765.673273  133763.267790\n",
       "1071  174213.974002  246500.056028  89274.517094  147854.190606\n",
       "2640  170156.372790  240745.951008  87183.712175  144395.163625\n",
       "2282  140628.155909  198958.771315  72041.441492  119324.801585\n",
       "1595  161678.101789  228760.674480  82849.233905  137211.187894"
      ]
     },
     "execution_count": 14,
     "metadata": {},
     "output_type": "execute_result"
    }
   ],
   "source": [
    "#Умножение признаков на матрицу\n",
    "features_train_new =train_features.dot(matrix_2)\n",
    "features_train_new.columns = train_features.columns\n",
    "display(features_train_new.head())\n",
    "\n",
    "features_test_new =test_features.dot(matrix_2)\n",
    "features_test_new.columns = test_features.columns\n",
    "features_test_new.head()"
   ]
  },
  {
   "cell_type": "code",
   "execution_count": 15,
   "metadata": {},
   "outputs": [
    {
     "data": {
      "text/html": [
       "<div>\n",
       "<style scoped>\n",
       "    .dataframe tbody tr th:only-of-type {\n",
       "        vertical-align: middle;\n",
       "    }\n",
       "\n",
       "    .dataframe tbody tr th {\n",
       "        vertical-align: top;\n",
       "    }\n",
       "\n",
       "    .dataframe thead th {\n",
       "        text-align: right;\n",
       "    }\n",
       "</style>\n",
       "<table border=\"1\" class=\"dataframe\">\n",
       "  <thead>\n",
       "    <tr style=\"text-align: right;\">\n",
       "      <th></th>\n",
       "      <th>0</th>\n",
       "      <th>1</th>\n",
       "      <th>2</th>\n",
       "      <th>3</th>\n",
       "      <th>4</th>\n",
       "    </tr>\n",
       "  </thead>\n",
       "  <tbody>\n",
       "    <tr>\n",
       "      <th>0</th>\n",
       "      <td>1.0</td>\n",
       "      <td>160831.909298</td>\n",
       "      <td>227542.753795</td>\n",
       "      <td>82392.268221</td>\n",
       "      <td>136466.819957</td>\n",
       "    </tr>\n",
       "    <tr>\n",
       "      <th>1</th>\n",
       "      <td>1.0</td>\n",
       "      <td>138241.358690</td>\n",
       "      <td>195597.868312</td>\n",
       "      <td>70839.478220</td>\n",
       "      <td>117321.273278</td>\n",
       "    </tr>\n",
       "    <tr>\n",
       "      <th>2</th>\n",
       "      <td>1.0</td>\n",
       "      <td>205316.734759</td>\n",
       "      <td>290492.468855</td>\n",
       "      <td>105198.493924</td>\n",
       "      <td>174231.439738</td>\n",
       "    </tr>\n",
       "    <tr>\n",
       "      <th>3</th>\n",
       "      <td>1.0</td>\n",
       "      <td>158017.125177</td>\n",
       "      <td>223567.773644</td>\n",
       "      <td>80958.326752</td>\n",
       "      <td>134088.161043</td>\n",
       "    </tr>\n",
       "    <tr>\n",
       "      <th>4</th>\n",
       "      <td>1.0</td>\n",
       "      <td>157611.453104</td>\n",
       "      <td>222992.634170</td>\n",
       "      <td>80748.798706</td>\n",
       "      <td>133742.910470</td>\n",
       "    </tr>\n",
       "  </tbody>\n",
       "</table>\n",
       "</div>"
      ],
      "text/plain": [
       "     0              1              2              3              4\n",
       "0  1.0  160831.909298  227542.753795   82392.268221  136466.819957\n",
       "1  1.0  138241.358690  195597.868312   70839.478220  117321.273278\n",
       "2  1.0  205316.734759  290492.468855  105198.493924  174231.439738\n",
       "3  1.0  158017.125177  223567.773644   80958.326752  134088.161043\n",
       "4  1.0  157611.453104  222992.634170   80748.798706  133742.910470"
      ]
     },
     "execution_count": 15,
     "metadata": {},
     "output_type": "execute_result"
    }
   ],
   "source": [
    "#Добавление в нулевой столбец значений 1\n",
    "X = np.concatenate((np.ones((features_train_new.shape[0], 1)), features_train_new), axis=1)\n",
    "pd.DataFrame(X).head()"
   ]
  },
  {
   "cell_type": "code",
   "execution_count": 16,
   "metadata": {},
   "outputs": [],
   "source": [
    "y = train_target\n",
    "w = (np.linalg.inv(X.T.dot(X)).dot(X.T)).dot(y)\n",
    "a = features_test_new.dot(w[1:]) + w[0]"
   ]
  },
  {
   "cell_type": "code",
   "execution_count": 17,
   "metadata": {
    "scrolled": true
   },
   "outputs": [
    {
     "name": "stdout",
     "output_type": "stream",
     "text": [
      "R2_score: 0.41176841150678556\n",
      "MSE: 0.11005813020708044\n"
     ]
    }
   ],
   "source": [
    "R2_score_2 = r2_score(test_target, a)\n",
    "MSE_2 = mean_squared_error(a,test_target)\n",
    "print(\"R2_score:\",R2_score_2 )\n",
    "print(\"MSE:\", MSE_2)"
   ]
  },
  {
   "cell_type": "code",
   "execution_count": 18,
   "metadata": {},
   "outputs": [],
   "source": [
    "table = pd.DataFrame(index=['R2_score','MSE'], columns=['Изменённая матрица','Неизменённая матрица'])\n",
    "table['Изменённая матрица'] = R2_score_2, MSE_2\n",
    "table['Неизменённая матрица'] = R2_score_1, MSE_1"
   ]
  },
  {
   "cell_type": "code",
   "execution_count": 19,
   "metadata": {
    "scrolled": false
   },
   "outputs": [
    {
     "data": {
      "text/html": [
       "<div>\n",
       "<style scoped>\n",
       "    .dataframe tbody tr th:only-of-type {\n",
       "        vertical-align: middle;\n",
       "    }\n",
       "\n",
       "    .dataframe tbody tr th {\n",
       "        vertical-align: top;\n",
       "    }\n",
       "\n",
       "    .dataframe thead th {\n",
       "        text-align: right;\n",
       "    }\n",
       "</style>\n",
       "<table border=\"1\" class=\"dataframe\">\n",
       "  <thead>\n",
       "    <tr style=\"text-align: right;\">\n",
       "      <th></th>\n",
       "      <th>Изменённая матрица</th>\n",
       "      <th>Неизменённая матрица</th>\n",
       "    </tr>\n",
       "  </thead>\n",
       "  <tbody>\n",
       "    <tr>\n",
       "      <th>R2_score</th>\n",
       "      <td>0.411768</td>\n",
       "      <td>0.411768</td>\n",
       "    </tr>\n",
       "    <tr>\n",
       "      <th>MSE</th>\n",
       "      <td>0.110058</td>\n",
       "      <td>0.110058</td>\n",
       "    </tr>\n",
       "  </tbody>\n",
       "</table>\n",
       "</div>"
      ],
      "text/plain": [
       "          Изменённая матрица  Неизменённая матрица\n",
       "R2_score            0.411768              0.411768\n",
       "MSE                 0.110058              0.110058"
      ]
     },
     "execution_count": 19,
     "metadata": {},
     "output_type": "execute_result"
    }
   ],
   "source": [
    "table"
   ]
  }
 ],
 "metadata": {
  "ExecuteTimeLog": [
   {
    "duration": 382,
    "start_time": "2022-10-17T19:51:43.728Z"
   },
   {
    "duration": 52,
    "start_time": "2022-10-17T19:53:26.991Z"
   },
   {
    "duration": 23,
    "start_time": "2022-10-17T19:53:34.547Z"
   },
   {
    "duration": 11,
    "start_time": "2022-10-17T19:53:42.348Z"
   },
   {
    "duration": 23,
    "start_time": "2022-10-17T19:53:52.381Z"
   },
   {
    "duration": 3,
    "start_time": "2022-10-23T09:02:59.583Z"
   },
   {
    "duration": 1531,
    "start_time": "2022-10-23T09:03:48.157Z"
   },
   {
    "duration": 125,
    "start_time": "2022-10-23T09:05:03.884Z"
   },
   {
    "duration": 103,
    "start_time": "2022-10-23T09:05:08.960Z"
   },
   {
    "duration": 16,
    "start_time": "2022-10-23T09:05:09.065Z"
   },
   {
    "duration": 22,
    "start_time": "2022-10-23T09:05:10.086Z"
   },
   {
    "duration": 27,
    "start_time": "2022-10-23T09:05:10.581Z"
   },
   {
    "duration": 4,
    "start_time": "2022-10-23T09:05:12.910Z"
   },
   {
    "duration": 7,
    "start_time": "2022-10-23T09:05:35.340Z"
   },
   {
    "duration": 7,
    "start_time": "2022-10-23T09:06:16.408Z"
   },
   {
    "duration": 14,
    "start_time": "2022-10-23T09:06:30.409Z"
   },
   {
    "duration": 5,
    "start_time": "2022-10-23T09:06:36.412Z"
   },
   {
    "duration": 8,
    "start_time": "2022-10-23T09:06:55.790Z"
   },
   {
    "duration": 16,
    "start_time": "2022-10-23T09:07:33.513Z"
   },
   {
    "duration": 76,
    "start_time": "2022-10-23T09:07:40.471Z"
   },
   {
    "duration": 11,
    "start_time": "2022-10-23T09:07:48.522Z"
   },
   {
    "duration": 5,
    "start_time": "2022-10-23T09:08:03.478Z"
   },
   {
    "duration": 9,
    "start_time": "2022-10-23T09:10:01.394Z"
   },
   {
    "duration": 6,
    "start_time": "2022-10-23T09:14:33.929Z"
   },
   {
    "duration": 7,
    "start_time": "2022-10-23T09:14:51.908Z"
   },
   {
    "duration": 5,
    "start_time": "2022-10-23T09:17:23.154Z"
   },
   {
    "duration": 5,
    "start_time": "2022-10-23T09:17:48.218Z"
   },
   {
    "duration": 23,
    "start_time": "2022-10-23T09:17:55.787Z"
   },
   {
    "duration": 9,
    "start_time": "2022-10-23T09:18:06.874Z"
   },
   {
    "duration": 5,
    "start_time": "2022-10-23T09:20:25.429Z"
   },
   {
    "duration": 84,
    "start_time": "2022-10-23T09:24:05.689Z"
   },
   {
    "duration": 124,
    "start_time": "2022-10-23T09:24:22.489Z"
   },
   {
    "duration": 13,
    "start_time": "2022-10-23T09:24:39.259Z"
   },
   {
    "duration": 126,
    "start_time": "2022-10-23T09:25:30.283Z"
   },
   {
    "duration": 87,
    "start_time": "2022-10-23T09:25:41.604Z"
   },
   {
    "duration": 3,
    "start_time": "2022-10-23T09:26:34.567Z"
   },
   {
    "duration": 99,
    "start_time": "2022-10-23T09:26:45.547Z"
   },
   {
    "duration": 6,
    "start_time": "2022-10-23T09:29:30.011Z"
   },
   {
    "duration": 5,
    "start_time": "2022-10-23T09:31:07.584Z"
   },
   {
    "duration": 10,
    "start_time": "2022-10-23T09:32:08.462Z"
   },
   {
    "duration": 13,
    "start_time": "2022-10-23T09:32:46.868Z"
   },
   {
    "duration": 2,
    "start_time": "2022-10-23T09:33:12.466Z"
   },
   {
    "duration": 13,
    "start_time": "2022-10-23T09:33:46.285Z"
   },
   {
    "duration": 8,
    "start_time": "2022-10-23T09:33:52.237Z"
   },
   {
    "duration": 5,
    "start_time": "2022-10-23T10:18:26.960Z"
   },
   {
    "duration": 9,
    "start_time": "2022-10-23T10:19:15.970Z"
   },
   {
    "duration": 10,
    "start_time": "2022-10-23T10:19:21.964Z"
   },
   {
    "duration": 13,
    "start_time": "2022-10-23T10:19:39.592Z"
   },
   {
    "duration": 10,
    "start_time": "2022-10-23T10:20:00.939Z"
   },
   {
    "duration": 14,
    "start_time": "2022-10-23T10:20:36.502Z"
   },
   {
    "duration": 16,
    "start_time": "2022-10-23T10:20:44.207Z"
   },
   {
    "duration": 21,
    "start_time": "2022-10-23T10:20:49.876Z"
   },
   {
    "duration": 10,
    "start_time": "2022-10-23T10:22:17.942Z"
   },
   {
    "duration": 10,
    "start_time": "2022-10-23T10:22:34.671Z"
   },
   {
    "duration": 10,
    "start_time": "2022-10-23T10:22:42.049Z"
   },
   {
    "duration": 4,
    "start_time": "2022-10-23T10:23:16.276Z"
   },
   {
    "duration": 11,
    "start_time": "2022-10-23T10:23:25.734Z"
   },
   {
    "duration": 4,
    "start_time": "2022-10-23T10:23:37.159Z"
   },
   {
    "duration": 6,
    "start_time": "2022-10-23T10:25:16.804Z"
   },
   {
    "duration": 5,
    "start_time": "2022-10-23T10:26:05.992Z"
   },
   {
    "duration": 8,
    "start_time": "2022-10-23T10:27:06.466Z"
   },
   {
    "duration": 16,
    "start_time": "2022-10-23T10:27:13.834Z"
   },
   {
    "duration": 11,
    "start_time": "2022-10-23T10:28:05.372Z"
   },
   {
    "duration": 6,
    "start_time": "2022-10-23T10:28:06.550Z"
   },
   {
    "duration": 5,
    "start_time": "2022-10-23T10:28:07.107Z"
   },
   {
    "duration": 6,
    "start_time": "2022-10-23T10:28:09.008Z"
   },
   {
    "duration": 8,
    "start_time": "2022-10-23T10:29:25.837Z"
   },
   {
    "duration": 5,
    "start_time": "2022-10-23T10:30:25.125Z"
   },
   {
    "duration": 11,
    "start_time": "2022-10-23T10:30:38.893Z"
   },
   {
    "duration": 5,
    "start_time": "2022-10-23T10:30:44.359Z"
   },
   {
    "duration": 7,
    "start_time": "2022-10-23T10:30:51.080Z"
   },
   {
    "duration": 1343,
    "start_time": "2022-10-23T10:33:32.320Z"
   },
   {
    "duration": 28,
    "start_time": "2022-10-23T10:33:33.665Z"
   },
   {
    "duration": 16,
    "start_time": "2022-10-23T10:33:33.695Z"
   },
   {
    "duration": 12,
    "start_time": "2022-10-23T10:33:33.713Z"
   },
   {
    "duration": 25,
    "start_time": "2022-10-23T10:33:33.726Z"
   },
   {
    "duration": 7,
    "start_time": "2022-10-23T10:33:33.752Z"
   },
   {
    "duration": 34,
    "start_time": "2022-10-23T10:33:33.760Z"
   },
   {
    "duration": 275,
    "start_time": "2022-10-23T10:33:33.796Z"
   },
   {
    "duration": 0,
    "start_time": "2022-10-23T10:33:34.073Z"
   },
   {
    "duration": 0,
    "start_time": "2022-10-23T10:33:34.074Z"
   },
   {
    "duration": 0,
    "start_time": "2022-10-23T10:33:34.075Z"
   },
   {
    "duration": 0,
    "start_time": "2022-10-23T10:33:34.076Z"
   },
   {
    "duration": 0,
    "start_time": "2022-10-23T10:33:34.077Z"
   },
   {
    "duration": 0,
    "start_time": "2022-10-23T10:33:34.094Z"
   },
   {
    "duration": 0,
    "start_time": "2022-10-23T10:33:34.096Z"
   },
   {
    "duration": 0,
    "start_time": "2022-10-23T10:33:34.098Z"
   },
   {
    "duration": 0,
    "start_time": "2022-10-23T10:33:34.099Z"
   },
   {
    "duration": 0,
    "start_time": "2022-10-23T10:33:34.100Z"
   },
   {
    "duration": 0,
    "start_time": "2022-10-23T10:33:34.101Z"
   },
   {
    "duration": 1363,
    "start_time": "2022-10-23T10:34:33.558Z"
   },
   {
    "duration": 29,
    "start_time": "2022-10-23T10:34:34.923Z"
   },
   {
    "duration": 17,
    "start_time": "2022-10-23T10:34:34.954Z"
   },
   {
    "duration": 12,
    "start_time": "2022-10-23T10:34:34.974Z"
   },
   {
    "duration": 31,
    "start_time": "2022-10-23T10:34:34.988Z"
   },
   {
    "duration": 6,
    "start_time": "2022-10-23T10:34:35.021Z"
   },
   {
    "duration": 7,
    "start_time": "2022-10-23T10:34:35.029Z"
   },
   {
    "duration": 10,
    "start_time": "2022-10-23T10:34:35.037Z"
   },
   {
    "duration": 6,
    "start_time": "2022-10-23T10:34:35.095Z"
   },
   {
    "duration": 102,
    "start_time": "2022-10-23T10:34:35.104Z"
   },
   {
    "duration": 92,
    "start_time": "2022-10-23T10:34:35.208Z"
   },
   {
    "duration": 11,
    "start_time": "2022-10-23T10:34:35.302Z"
   },
   {
    "duration": 81,
    "start_time": "2022-10-23T10:34:35.315Z"
   },
   {
    "duration": 108,
    "start_time": "2022-10-23T10:34:35.398Z"
   },
   {
    "duration": 13,
    "start_time": "2022-10-23T10:34:35.508Z"
   },
   {
    "duration": 13,
    "start_time": "2022-10-23T10:34:35.523Z"
   },
   {
    "duration": 71,
    "start_time": "2022-10-23T10:34:35.538Z"
   },
   {
    "duration": 98,
    "start_time": "2022-10-23T10:34:35.611Z"
   },
   {
    "duration": 27,
    "start_time": "2022-10-23T10:34:35.711Z"
   }
  ],
  "kernelspec": {
   "display_name": "Python 3 (ipykernel)",
   "language": "python",
   "name": "python3"
  },
  "language_info": {
   "codemirror_mode": {
    "name": "ipython",
    "version": 3
   },
   "file_extension": ".py",
   "mimetype": "text/x-python",
   "name": "python",
   "nbconvert_exporter": "python",
   "pygments_lexer": "ipython3",
   "version": "3.9.5"
  },
  "toc": {
   "base_numbering": 1,
   "nav_menu": {},
   "number_sections": true,
   "sideBar": true,
   "skip_h1_title": true,
   "title_cell": "Содержание",
   "title_sidebar": "Contents",
   "toc_cell": true,
   "toc_position": {
    "height": "calc(100% - 180px)",
    "left": "10px",
    "top": "150px",
    "width": "165px"
   },
   "toc_section_display": true,
   "toc_window_display": true
  }
 },
 "nbformat": 4,
 "nbformat_minor": 2
}
