{
 "cells": [
  {
   "cell_type": "markdown",
   "metadata": {
    "id": "Ml1hmfXC_Zcs"
   },
   "source": [
    "## Обзор данных\n",
    "\n",
    "\n",
    "\n"
   ]
  },
  {
   "cell_type": "code",
   "execution_count": 1,
   "metadata": {
    "id": "AXN7PHPN_Zcs"
   },
   "outputs": [],
   "source": [
    "import pandas as pd "
   ]
  },
  {
   "cell_type": "code",
   "execution_count": 2,
   "metadata": {
    "id": "fFVu7vqh_Zct"
   },
   "outputs": [],
   "source": [
    "df = pd.read_csv('/datasets/yandex_music_project.csv')       # чтение файла с данными и сохранение в df"
   ]
  },
  {
   "cell_type": "markdown",
   "metadata": {
    "id": "rDoOMd3uTqnZ"
   },
   "source": [
    "Выведите на экран первые десять строк таблицы:"
   ]
  },
  {
   "cell_type": "code",
   "execution_count": 3,
   "metadata": {
    "id": "oWTVX3gW_Zct",
    "scrolled": true
   },
   "outputs": [
    {
     "data": {
      "text/html": [
       "<div>\n",
       "<style scoped>\n",
       "    .dataframe tbody tr th:only-of-type {\n",
       "        vertical-align: middle;\n",
       "    }\n",
       "\n",
       "    .dataframe tbody tr th {\n",
       "        vertical-align: top;\n",
       "    }\n",
       "\n",
       "    .dataframe thead th {\n",
       "        text-align: right;\n",
       "    }\n",
       "</style>\n",
       "<table border=\"1\" class=\"dataframe\">\n",
       "  <thead>\n",
       "    <tr style=\"text-align: right;\">\n",
       "      <th></th>\n",
       "      <th>userID</th>\n",
       "      <th>Track</th>\n",
       "      <th>artist</th>\n",
       "      <th>genre</th>\n",
       "      <th>City</th>\n",
       "      <th>time</th>\n",
       "      <th>Day</th>\n",
       "    </tr>\n",
       "  </thead>\n",
       "  <tbody>\n",
       "    <tr>\n",
       "      <th>0</th>\n",
       "      <td>FFB692EC</td>\n",
       "      <td>Kamigata To Boots</td>\n",
       "      <td>The Mass Missile</td>\n",
       "      <td>rock</td>\n",
       "      <td>Saint-Petersburg</td>\n",
       "      <td>20:28:33</td>\n",
       "      <td>Wednesday</td>\n",
       "    </tr>\n",
       "    <tr>\n",
       "      <th>1</th>\n",
       "      <td>55204538</td>\n",
       "      <td>Delayed Because of Accident</td>\n",
       "      <td>Andreas Rönnberg</td>\n",
       "      <td>rock</td>\n",
       "      <td>Moscow</td>\n",
       "      <td>14:07:09</td>\n",
       "      <td>Friday</td>\n",
       "    </tr>\n",
       "    <tr>\n",
       "      <th>2</th>\n",
       "      <td>20EC38</td>\n",
       "      <td>Funiculì funiculà</td>\n",
       "      <td>Mario Lanza</td>\n",
       "      <td>pop</td>\n",
       "      <td>Saint-Petersburg</td>\n",
       "      <td>20:58:07</td>\n",
       "      <td>Wednesday</td>\n",
       "    </tr>\n",
       "    <tr>\n",
       "      <th>3</th>\n",
       "      <td>A3DD03C9</td>\n",
       "      <td>Dragons in the Sunset</td>\n",
       "      <td>Fire + Ice</td>\n",
       "      <td>folk</td>\n",
       "      <td>Saint-Petersburg</td>\n",
       "      <td>08:37:09</td>\n",
       "      <td>Monday</td>\n",
       "    </tr>\n",
       "    <tr>\n",
       "      <th>4</th>\n",
       "      <td>E2DC1FAE</td>\n",
       "      <td>Soul People</td>\n",
       "      <td>Space Echo</td>\n",
       "      <td>dance</td>\n",
       "      <td>Moscow</td>\n",
       "      <td>08:34:34</td>\n",
       "      <td>Monday</td>\n",
       "    </tr>\n",
       "  </tbody>\n",
       "</table>\n",
       "</div>"
      ],
      "text/plain": [
       "     userID                        Track            artist  genre  \\\n",
       "0  FFB692EC            Kamigata To Boots  The Mass Missile   rock   \n",
       "1  55204538  Delayed Because of Accident  Andreas Rönnberg   rock   \n",
       "2    20EC38            Funiculì funiculà       Mario Lanza    pop   \n",
       "3  A3DD03C9        Dragons in the Sunset        Fire + Ice   folk   \n",
       "4  E2DC1FAE                  Soul People        Space Echo  dance   \n",
       "\n",
       "             City        time        Day  \n",
       "0  Saint-Petersburg  20:28:33  Wednesday  \n",
       "1            Moscow  14:07:09     Friday  \n",
       "2  Saint-Petersburg  20:58:07  Wednesday  \n",
       "3  Saint-Petersburg  08:37:09     Monday  \n",
       "4            Moscow  08:34:34     Monday  "
      ]
     },
     "execution_count": 3,
     "metadata": {},
     "output_type": "execute_result"
    }
   ],
   "source": [
    "df.head()     "
   ]
  },
  {
   "cell_type": "code",
   "execution_count": 4,
   "metadata": {
    "id": "DSf2kIb-_Zct",
    "scrolled": false
   },
   "outputs": [
    {
     "name": "stdout",
     "output_type": "stream",
     "text": [
      "<class 'pandas.core.frame.DataFrame'>\n",
      "RangeIndex: 65079 entries, 0 to 65078\n",
      "Data columns (total 7 columns):\n",
      " #   Column    Non-Null Count  Dtype \n",
      "---  ------    --------------  ----- \n",
      " 0     userID  65079 non-null  object\n",
      " 1   Track     63848 non-null  object\n",
      " 2   artist    57876 non-null  object\n",
      " 3   genre     63881 non-null  object\n",
      " 4     City    65079 non-null  object\n",
      " 5   time      65079 non-null  object\n",
      " 6   Day       65079 non-null  object\n",
      "dtypes: object(7)\n",
      "memory usage: 3.5+ MB\n"
     ]
    }
   ],
   "source": [
    "df.info()    # получение общей информации о данных в таблице df"
   ]
  },
  {
   "cell_type": "markdown",
   "metadata": {
    "id": "TaQ2Iwbr_Zct"
   },
   "source": [
    "Итак, в таблице семь столбцов. Тип данных во всех столбцах — `object`.\n",
    "\n",
    "Согласно документации к данным:\n",
    "* `userID` — идентификатор пользователя;\n",
    "* `Track` — название трека;  \n",
    "* `artist` — имя исполнителя;\n",
    "* `genre` — название жанра;\n",
    "* `City` — город пользователя;\n",
    "* `time` — время начала прослушивания;\n",
    "* `Day` — день недели.\n",
    "\n",
    "В названиях колонок видны три нарушения стиля:\n",
    "1. Строчные буквы сочетаются с прописными.\n",
    "2. Встречаются пробелы.\n",
    "3. Слова не разделены подчёркиванием\n",
    "\n",
    "\n",
    "\n",
    "Количество значений в столбцах различается. Значит, в данных есть пропущенные значения.\n"
   ]
  },
  {
   "cell_type": "markdown",
   "metadata": {
    "id": "MCB6-dXG_Zct"
   },
   "source": [
    "**Выводы**\n",
    "\n",
    "В каждой строке таблицы — данные о прослушанном треке. Часть колонок описывает саму композицию: название, исполнителя и жанр. Остальные данные рассказывают о пользователе: из какого он города, когда он слушал музыку. \n",
    "\n",
    "Предварительно можно утверждать, что, данных достаточно для проверки гипотез. Но встречаются пропуски в данных, а в названиях колонок — расхождения с хорошим стилем.\n",
    "\n",
    "Чтобы двигаться дальше, нужно устранить проблемы в данных."
   ]
  },
  {
   "cell_type": "markdown",
   "metadata": {
    "id": "SjYF6Ub9_Zct"
   },
   "source": [
    "## Предобработка данных"
   ]
  },
  {
   "cell_type": "markdown",
   "metadata": {
    "id": "dIaKXr29_Zct"
   },
   "source": [
    "### Стиль заголовков"
   ]
  },
  {
   "cell_type": "code",
   "execution_count": 5,
   "metadata": {
    "id": "oKOTdF_Q_Zct"
   },
   "outputs": [
    {
     "data": {
      "text/plain": [
       "Index(['  userID', 'Track', 'artist', 'genre', '  City  ', 'time', 'Day'], dtype='object')"
      ]
     },
     "execution_count": 5,
     "metadata": {},
     "output_type": "execute_result"
    }
   ],
   "source": [
    "df.columns   # перечень названий столбцов таблицы df"
   ]
  },
  {
   "cell_type": "code",
   "execution_count": 6,
   "metadata": {
    "id": "ISlFqs5y_Zct"
   },
   "outputs": [],
   "source": [
    "df = df.rename(\n",
    "    columns={\n",
    "    '  userID':'user_id',\n",
    "    'Track':'track',\n",
    "    '  City  ':'city',\n",
    "    'Day':'day'\n",
    "})    # переименование столбцов"
   ]
  },
  {
   "cell_type": "code",
   "execution_count": 7,
   "metadata": {
    "id": "d4NOAmTW_Zct"
   },
   "outputs": [
    {
     "data": {
      "text/plain": [
       "Index(['user_id', 'track', 'artist', 'genre', 'city', 'time', 'day'], dtype='object')"
      ]
     },
     "execution_count": 7,
     "metadata": {},
     "output_type": "execute_result"
    }
   ],
   "source": [
    "df.columns    # проверка результатов - перечень названий столбцов"
   ]
  },
  {
   "cell_type": "markdown",
   "metadata": {
    "id": "5ISfbcfY_Zct"
   },
   "source": [
    "### Пропуски значений\n"
   ]
  },
  {
   "cell_type": "code",
   "execution_count": 8,
   "metadata": {
    "id": "RskX29qr_Zct"
   },
   "outputs": [
    {
     "name": "stdout",
     "output_type": "stream",
     "text": [
      "user_id       0\n",
      "track      1231\n",
      "artist     7203\n",
      "genre      1198\n",
      "city          0\n",
      "time          0\n",
      "day           0\n",
      "dtype: int64\n",
      "<class 'pandas.core.frame.DataFrame'>\n",
      "RangeIndex: 65079 entries, 0 to 65078\n",
      "Data columns (total 7 columns):\n",
      " #   Column   Non-Null Count  Dtype \n",
      "---  ------   --------------  ----- \n",
      " 0   user_id  65079 non-null  object\n",
      " 1   track    63848 non-null  object\n",
      " 2   artist   57876 non-null  object\n",
      " 3   genre    63881 non-null  object\n",
      " 4   city     65079 non-null  object\n",
      " 5   time     65079 non-null  object\n",
      " 6   day      65079 non-null  object\n",
      "dtypes: object(7)\n",
      "memory usage: 3.5+ MB\n"
     ]
    }
   ],
   "source": [
    "\n",
    "print(df.isna().sum())\n",
    " # подсчёт пропусков\n",
    "df.info()"
   ]
  },
  {
   "cell_type": "markdown",
   "metadata": {
    "id": "qubhgnlO_Zct"
   },
   "source": [
    "Не все пропущенные значения влияют на исследование. Так в `track` и `artist` пропуски не важны для вашей работы. Достаточно заменить их явными обозначениями.\n",
    "\n",
    "Но пропуски в `genre` могут помешать сравнению музыкальных вкусов в Москве и Санкт-Петербурге. Так как такой возможности нет. Придётся:\n",
    "* заполнить и эти пропуски явными обозначениями,\n",
    "* оценить, насколько они повредят расчётам. "
   ]
  },
  {
   "cell_type": "markdown",
   "metadata": {
    "id": "fSv2laPA_Zct"
   },
   "source": [
    "Заменим пропущенные значения в столбцах `track`, `artist` и `genre` на строку `'unknown'`."
   ]
  },
  {
   "cell_type": "code",
   "execution_count": 9,
   "metadata": {
    "id": "KplB5qWs_Zct"
   },
   "outputs": [],
   "source": [
    "\n",
    "columns_to_replace = ['track','artist','genre']\n",
    "for column in columns_to_replace:\n",
    "    df[column] = df[column].fillna('unknown')\n",
    "\n",
    "# перебор названий столбцов в цикле и замена пропущенных значений на 'unknown'"
   ]
  },
  {
   "cell_type": "code",
   "execution_count": 10,
   "metadata": {
    "id": "Tq4nYRX4_Zct"
   },
   "outputs": [
    {
     "data": {
      "text/plain": [
       "user_id    0\n",
       "track      0\n",
       "artist     0\n",
       "genre      0\n",
       "city       0\n",
       "time       0\n",
       "day        0\n",
       "dtype: int64"
      ]
     },
     "execution_count": 10,
     "metadata": {},
     "output_type": "execute_result"
    }
   ],
   "source": [
    "df.isna().sum() # подсчёт пропусков"
   ]
  },
  {
   "cell_type": "markdown",
   "metadata": {
    "id": "BWKRtBJ3_Zct"
   },
   "source": [
    "### Дубликаты"
   ]
  },
  {
   "cell_type": "code",
   "execution_count": 11,
   "metadata": {
    "id": "36eES_S0_Zct"
   },
   "outputs": [
    {
     "data": {
      "text/plain": [
       "3826"
      ]
     },
     "execution_count": 11,
     "metadata": {},
     "output_type": "execute_result"
    }
   ],
   "source": [
    "df.duplicated().sum() # подсчёт явных дубликатов"
   ]
  },
  {
   "cell_type": "code",
   "execution_count": 12,
   "metadata": {
    "id": "exFHq6tt_Zct"
   },
   "outputs": [],
   "source": [
    "df = df.drop_duplicates().reset_index(drop=True)\n",
    "# удаление явных дубликатов (с удалением старых индексов и формированием новых)"
   ]
  },
  {
   "cell_type": "code",
   "execution_count": 13,
   "metadata": {
    "id": "-8PuNWQ0_Zct"
   },
   "outputs": [
    {
     "data": {
      "text/plain": [
       "0"
      ]
     },
     "execution_count": 13,
     "metadata": {},
     "output_type": "execute_result"
    }
   ],
   "source": [
    "df.duplicated().sum()\n",
    "# проверка на отсутствие дубликатов"
   ]
  },
  {
   "cell_type": "code",
   "execution_count": 14,
   "metadata": {
    "id": "JIUcqzZN_Zct"
   },
   "outputs": [
    {
     "data": {
      "text/plain": [
       "array(['acid', 'acoustic', 'action', 'adult', 'africa', 'afrikaans',\n",
       "       'alternative', 'alternativepunk', 'ambient', 'americana',\n",
       "       'animated', 'anime', 'arabesk', 'arabic', 'arena',\n",
       "       'argentinetango', 'art', 'audiobook', 'author', 'avantgarde',\n",
       "       'axé', 'baile', 'balkan', 'beats', 'bigroom', 'black', 'bluegrass',\n",
       "       'blues', 'bollywood', 'bossa', 'brazilian', 'breakbeat', 'breaks',\n",
       "       'broadway', 'cantautori', 'cantopop', 'canzone', 'caribbean',\n",
       "       'caucasian', 'celtic', 'chamber', 'chanson', 'children', 'chill',\n",
       "       'chinese', 'choral', 'christian', 'christmas', 'classical',\n",
       "       'classicmetal', 'club', 'colombian', 'comedy', 'conjazz',\n",
       "       'contemporary', 'country', 'cuban', 'dance', 'dancehall',\n",
       "       'dancepop', 'dark', 'death', 'deep', 'deutschrock', 'deutschspr',\n",
       "       'dirty', 'disco', 'dnb', 'documentary', 'downbeat', 'downtempo',\n",
       "       'drum', 'dub', 'dubstep', 'eastern', 'easy', 'electronic',\n",
       "       'electropop', 'emo', 'entehno', 'epicmetal', 'estrada', 'ethnic',\n",
       "       'eurofolk', 'european', 'experimental', 'extrememetal', 'fado',\n",
       "       'fairytail', 'film', 'fitness', 'flamenco', 'folk', 'folklore',\n",
       "       'folkmetal', 'folkrock', 'folktronica', 'forró', 'frankreich',\n",
       "       'französisch', 'french', 'funk', 'future', 'gangsta', 'garage',\n",
       "       'german', 'ghazal', 'gitarre', 'glitch', 'gospel', 'gothic',\n",
       "       'grime', 'grunge', 'gypsy', 'handsup', \"hard'n'heavy\", 'hardcore',\n",
       "       'hardstyle', 'hardtechno', 'hip', 'hip-hop', 'hiphop',\n",
       "       'historisch', 'holiday', 'hop', 'horror', 'house', 'hymn', 'idm',\n",
       "       'independent', 'indian', 'indie', 'indipop', 'industrial',\n",
       "       'inspirational', 'instrumental', 'international', 'irish', 'jam',\n",
       "       'japanese', 'jazz', 'jewish', 'jpop', 'jungle', 'k-pop',\n",
       "       'karadeniz', 'karaoke', 'kayokyoku', 'korean', 'laiko', 'latin',\n",
       "       'latino', 'leftfield', 'local', 'lounge', 'loungeelectronic',\n",
       "       'lovers', 'malaysian', 'mandopop', 'marschmusik', 'meditative',\n",
       "       'mediterranean', 'melodic', 'metal', 'metalcore', 'mexican',\n",
       "       'middle', 'minimal', 'miscellaneous', 'modern', 'mood', 'mpb',\n",
       "       'muslim', 'native', 'neoklassik', 'neue', 'new', 'newage',\n",
       "       'newwave', 'nu', 'nujazz', 'numetal', 'oceania', 'old', 'opera',\n",
       "       'orchestral', 'other', 'piano', 'podcasts', 'pop', 'popdance',\n",
       "       'popelectronic', 'popeurodance', 'poprussian', 'post',\n",
       "       'posthardcore', 'postrock', 'power', 'progmetal', 'progressive',\n",
       "       'psychedelic', 'punjabi', 'punk', 'quebecois', 'ragga', 'ram',\n",
       "       'rancheras', 'rap', 'rave', 'reggae', 'reggaeton', 'regional',\n",
       "       'relax', 'religious', 'retro', 'rhythm', 'rnb', 'rnr', 'rock',\n",
       "       'rockabilly', 'rockalternative', 'rockindie', 'rockother',\n",
       "       'romance', 'roots', 'ruspop', 'rusrap', 'rusrock', 'russian',\n",
       "       'salsa', 'samba', 'scenic', 'schlager', 'self', 'sertanejo',\n",
       "       'shanson', 'shoegazing', 'showtunes', 'singer', 'ska', 'skarock',\n",
       "       'slow', 'smooth', 'soft', 'soul', 'soulful', 'sound', 'soundtrack',\n",
       "       'southern', 'specialty', 'speech', 'spiritual', 'sport',\n",
       "       'stonerrock', 'surf', 'swing', 'synthpop', 'synthrock',\n",
       "       'sängerportrait', 'tango', 'tanzorchester', 'taraftar', 'tatar',\n",
       "       'tech', 'techno', 'teen', 'thrash', 'top', 'traditional',\n",
       "       'tradjazz', 'trance', 'tribal', 'trip', 'triphop', 'tropical',\n",
       "       'türk', 'türkçe', 'ukrrock', 'unknown', 'urban', 'uzbek',\n",
       "       'variété', 'vi', 'videogame', 'vocal', 'western', 'world',\n",
       "       'worldbeat', 'ïîï', 'электроника'], dtype=object)"
      ]
     },
     "execution_count": 14,
     "metadata": {},
     "output_type": "execute_result"
    }
   ],
   "source": [
    "df_genre_sorted = df['genre'].sort_values()\n",
    "df_genre_sorted.unique()\n",
    "# Просмотр уникальных названий жанров"
   ]
  },
  {
   "cell_type": "code",
   "execution_count": 15,
   "metadata": {
    "id": "ErNDkmns_Zct"
   },
   "outputs": [],
   "source": [
    "def replace_wrong_genres(wrong_genres,correct_genre):\n",
    "    for genre in wrong_genres:\n",
    "        df['genre']=df['genre'].replace(genre,correct_genre)\n",
    "        \n",
    "\n",
    "# Функция для замены неявных дубликатов"
   ]
  },
  {
   "cell_type": "code",
   "execution_count": 16,
   "metadata": {
    "id": "YN5i2hpmSo09"
   },
   "outputs": [],
   "source": [
    "replace_wrong_genres(['hip','hop','hip-hop'],'hiphop')\n",
    "replace_wrong_genres(['электроника'],'electronic')\n",
    "# Устранение неявных дубликатов"
   ]
  },
  {
   "cell_type": "code",
   "execution_count": 17,
   "metadata": {
    "id": "wvixALnFG15m"
   },
   "outputs": [
    {
     "data": {
      "text/plain": [
       "array(['acid', 'acoustic', 'action', 'adult', 'africa', 'afrikaans',\n",
       "       'alternative', 'alternativepunk', 'ambient', 'americana',\n",
       "       'animated', 'anime', 'arabesk', 'arabic', 'arena',\n",
       "       'argentinetango', 'art', 'audiobook', 'author', 'avantgarde',\n",
       "       'axé', 'baile', 'balkan', 'beats', 'bigroom', 'black', 'bluegrass',\n",
       "       'blues', 'bollywood', 'bossa', 'brazilian', 'breakbeat', 'breaks',\n",
       "       'broadway', 'cantautori', 'cantopop', 'canzone', 'caribbean',\n",
       "       'caucasian', 'celtic', 'chamber', 'chanson', 'children', 'chill',\n",
       "       'chinese', 'choral', 'christian', 'christmas', 'classical',\n",
       "       'classicmetal', 'club', 'colombian', 'comedy', 'conjazz',\n",
       "       'contemporary', 'country', 'cuban', 'dance', 'dancehall',\n",
       "       'dancepop', 'dark', 'death', 'deep', 'deutschrock', 'deutschspr',\n",
       "       'dirty', 'disco', 'dnb', 'documentary', 'downbeat', 'downtempo',\n",
       "       'drum', 'dub', 'dubstep', 'eastern', 'easy', 'electronic',\n",
       "       'electropop', 'emo', 'entehno', 'epicmetal', 'estrada', 'ethnic',\n",
       "       'eurofolk', 'european', 'experimental', 'extrememetal', 'fado',\n",
       "       'fairytail', 'film', 'fitness', 'flamenco', 'folk', 'folklore',\n",
       "       'folkmetal', 'folkrock', 'folktronica', 'forró', 'frankreich',\n",
       "       'französisch', 'french', 'funk', 'future', 'gangsta', 'garage',\n",
       "       'german', 'ghazal', 'gitarre', 'glitch', 'gospel', 'gothic',\n",
       "       'grime', 'grunge', 'gypsy', 'handsup', \"hard'n'heavy\", 'hardcore',\n",
       "       'hardstyle', 'hardtechno', 'hiphop', 'historisch', 'holiday',\n",
       "       'horror', 'house', 'hymn', 'idm', 'independent', 'indian', 'indie',\n",
       "       'indipop', 'industrial', 'inspirational', 'instrumental',\n",
       "       'international', 'irish', 'jam', 'japanese', 'jazz', 'jewish',\n",
       "       'jpop', 'jungle', 'k-pop', 'karadeniz', 'karaoke', 'kayokyoku',\n",
       "       'korean', 'laiko', 'latin', 'latino', 'leftfield', 'local',\n",
       "       'lounge', 'loungeelectronic', 'lovers', 'malaysian', 'mandopop',\n",
       "       'marschmusik', 'meditative', 'mediterranean', 'melodic', 'metal',\n",
       "       'metalcore', 'mexican', 'middle', 'minimal', 'miscellaneous',\n",
       "       'modern', 'mood', 'mpb', 'muslim', 'native', 'neoklassik', 'neue',\n",
       "       'new', 'newage', 'newwave', 'nu', 'nujazz', 'numetal', 'oceania',\n",
       "       'old', 'opera', 'orchestral', 'other', 'piano', 'podcasts', 'pop',\n",
       "       'popdance', 'popelectronic', 'popeurodance', 'poprussian', 'post',\n",
       "       'posthardcore', 'postrock', 'power', 'progmetal', 'progressive',\n",
       "       'psychedelic', 'punjabi', 'punk', 'quebecois', 'ragga', 'ram',\n",
       "       'rancheras', 'rap', 'rave', 'reggae', 'reggaeton', 'regional',\n",
       "       'relax', 'religious', 'retro', 'rhythm', 'rnb', 'rnr', 'rock',\n",
       "       'rockabilly', 'rockalternative', 'rockindie', 'rockother',\n",
       "       'romance', 'roots', 'ruspop', 'rusrap', 'rusrock', 'russian',\n",
       "       'salsa', 'samba', 'scenic', 'schlager', 'self', 'sertanejo',\n",
       "       'shanson', 'shoegazing', 'showtunes', 'singer', 'ska', 'skarock',\n",
       "       'slow', 'smooth', 'soft', 'soul', 'soulful', 'sound', 'soundtrack',\n",
       "       'southern', 'specialty', 'speech', 'spiritual', 'sport',\n",
       "       'stonerrock', 'surf', 'swing', 'synthpop', 'synthrock',\n",
       "       'sängerportrait', 'tango', 'tanzorchester', 'taraftar', 'tatar',\n",
       "       'tech', 'techno', 'teen', 'thrash', 'top', 'traditional',\n",
       "       'tradjazz', 'trance', 'tribal', 'trip', 'triphop', 'tropical',\n",
       "       'türk', 'türkçe', 'ukrrock', 'unknown', 'urban', 'uzbek',\n",
       "       'variété', 'vi', 'videogame', 'vocal', 'western', 'world',\n",
       "       'worldbeat', 'ïîï'], dtype=object)"
      ]
     },
     "execution_count": 17,
     "metadata": {},
     "output_type": "execute_result"
    }
   ],
   "source": [
    "df_genre_sorted = df['genre'].sort_values()\n",
    "df_genre_sorted.unique()\n",
    "# Проверка на неявные дубликаты"
   ]
  },
  {
   "cell_type": "markdown",
   "metadata": {
    "id": "jz6a9-7HQUDd"
   },
   "source": [
    "**Выводы**\n",
    "\n",
    "Предобработка обнаружила три проблемы в данных:\n",
    "\n",
    "- нарушения в стиле заголовков,\n",
    "- пропущенные значения,\n",
    "- дубликаты — явные и неявные.\n",
    "\n",
    "Теперь можно перейти к проверке гипотез. "
   ]
  },
  {
   "cell_type": "markdown",
   "metadata": {
    "id": "WttZHXH0SqKk"
   },
   "source": [
    "## Проверка гипотез"
   ]
  },
  {
   "cell_type": "markdown",
   "metadata": {
    "id": "Im936VVi_Zcu"
   },
   "source": [
    "### Сравнение поведения пользователей двух столиц"
   ]
  },
  {
   "cell_type": "markdown",
   "metadata": {
    "id": "nwt_MuaL_Zcu"
   },
   "source": [
    "Первая гипотеза утверждает, что пользователи по-разному слушают музыку в Москве и Санкт-Петербурге. Чтобы Проверить это предположение возьмем данные о трёх днях недели — понедельнике, среде и пятнице."
   ]
  },
  {
   "cell_type": "code",
   "execution_count": 18,
   "metadata": {
    "id": "0_Qs96oh_Zcu"
   },
   "outputs": [
    {
     "data": {
      "text/plain": [
       "city\n",
       "Moscow              42741\n",
       "Saint-Petersburg    18512\n",
       "Name: user_id, dtype: int64"
      ]
     },
     "execution_count": 18,
     "metadata": {},
     "output_type": "execute_result"
    }
   ],
   "source": [
    "df.groupby('city')['user_id'].count()\n",
    "# Подсчёт прослушиваний в каждом городе"
   ]
  },
  {
   "cell_type": "code",
   "execution_count": 19,
   "metadata": {
    "id": "uZMKjiJz_Zcu"
   },
   "outputs": [
    {
     "data": {
      "text/plain": [
       "day\n",
       "Friday       21840\n",
       "Monday       21354\n",
       "Wednesday    18059\n",
       "Name: user_id, dtype: int64"
      ]
     },
     "execution_count": 19,
     "metadata": {},
     "output_type": "execute_result"
    }
   ],
   "source": [
    "df.groupby('day')['user_id'].count()\n",
    "\n",
    "# Подсчёт прослушиваний в каждый из трёх дней"
   ]
  },
  {
   "cell_type": "markdown",
   "metadata": {
    "id": "cC2tNrlL_Zcu"
   },
   "source": [
    "В среднем пользователи из двух городов менее активны по средам. Но картина может измениться, если рассмотреть каждый город в отдельности."
   ]
  },
  {
   "cell_type": "code",
   "execution_count": 20,
   "metadata": {
    "id": "Nz3GdQB1_Zcu"
   },
   "outputs": [],
   "source": [
    "def number_tracks(day,city): #Функция для подсчёта прослушиваний для конкретного города и дня.\n",
    "    track_list = df[(df['day']==day) & (df['city']==city)]\n",
    "    track_list_count = track_list['user_id'].count()\n",
    "    return track_list_count"
   ]
  },
  {
   "cell_type": "code",
   "execution_count": 21,
   "metadata": {
    "id": "rJcRATNQ_Zcu"
   },
   "outputs": [
    {
     "data": {
      "text/plain": [
       "15740"
      ]
     },
     "execution_count": 21,
     "metadata": {},
     "output_type": "execute_result"
    }
   ],
   "source": [
    "number_tracks('Monday','Moscow')\n",
    "# количество прослушиваний в Москве по понедельникам"
   ]
  },
  {
   "cell_type": "code",
   "execution_count": 22,
   "metadata": {
    "id": "hq_ncZ5T_Zcu"
   },
   "outputs": [
    {
     "data": {
      "text/plain": [
       "5614"
      ]
     },
     "execution_count": 22,
     "metadata": {},
     "output_type": "execute_result"
    }
   ],
   "source": [
    "number_tracks('Monday','Saint-Petersburg')\n",
    "# количество прослушиваний в Санкт-Петербурге по понедельникам"
   ]
  },
  {
   "cell_type": "code",
   "execution_count": 23,
   "metadata": {
    "id": "_NTy2VPU_Zcu"
   },
   "outputs": [
    {
     "data": {
      "text/plain": [
       "11056"
      ]
     },
     "execution_count": 23,
     "metadata": {},
     "output_type": "execute_result"
    }
   ],
   "source": [
    "number_tracks('Wednesday','Moscow')\n",
    "# количество прослушиваний в Москве по средам"
   ]
  },
  {
   "cell_type": "code",
   "execution_count": 24,
   "metadata": {
    "id": "j2y3TAwo_Zcu"
   },
   "outputs": [
    {
     "data": {
      "text/plain": [
       "7003"
      ]
     },
     "execution_count": 24,
     "metadata": {},
     "output_type": "execute_result"
    }
   ],
   "source": [
    "number_tracks('Wednesday','Saint-Petersburg')\n",
    "# количество прослушиваний в Санкт-Петербурге по средам"
   ]
  },
  {
   "cell_type": "code",
   "execution_count": 25,
   "metadata": {
    "id": "vYDw5u_K_Zcu"
   },
   "outputs": [
    {
     "data": {
      "text/plain": [
       "15945"
      ]
     },
     "execution_count": 25,
     "metadata": {},
     "output_type": "execute_result"
    }
   ],
   "source": [
    "number_tracks('Friday','Moscow')\n",
    "# количество прослушиваний в Москве по пятницам"
   ]
  },
  {
   "cell_type": "code",
   "execution_count": 26,
   "metadata": {
    "id": "8_yzFtW3_Zcu"
   },
   "outputs": [
    {
     "data": {
      "text/plain": [
       "5895"
      ]
     },
     "execution_count": 26,
     "metadata": {},
     "output_type": "execute_result"
    }
   ],
   "source": [
    "number_tracks('Friday','Saint-Petersburg')\n",
    "# количество прослушиваний в Санкт-Петербурге по пятницам"
   ]
  },
  {
   "cell_type": "code",
   "execution_count": 27,
   "metadata": {
    "id": "APAcLpOr_Zcu"
   },
   "outputs": [
    {
     "data": {
      "text/html": [
       "<div>\n",
       "<style scoped>\n",
       "    .dataframe tbody tr th:only-of-type {\n",
       "        vertical-align: middle;\n",
       "    }\n",
       "\n",
       "    .dataframe tbody tr th {\n",
       "        vertical-align: top;\n",
       "    }\n",
       "\n",
       "    .dataframe thead th {\n",
       "        text-align: right;\n",
       "    }\n",
       "</style>\n",
       "<table border=\"1\" class=\"dataframe\">\n",
       "  <thead>\n",
       "    <tr style=\"text-align: right;\">\n",
       "      <th></th>\n",
       "      <th>city</th>\n",
       "      <th>monday</th>\n",
       "      <th>wednesday</th>\n",
       "      <th>friday</th>\n",
       "    </tr>\n",
       "  </thead>\n",
       "  <tbody>\n",
       "    <tr>\n",
       "      <th>0</th>\n",
       "      <td>Moscow</td>\n",
       "      <td>15740</td>\n",
       "      <td>11056</td>\n",
       "      <td>15945</td>\n",
       "    </tr>\n",
       "    <tr>\n",
       "      <th>1</th>\n",
       "      <td>Saint-Petersburg</td>\n",
       "      <td>5614</td>\n",
       "      <td>7003</td>\n",
       "      <td>5895</td>\n",
       "    </tr>\n",
       "  </tbody>\n",
       "</table>\n",
       "</div>"
      ],
      "text/plain": [
       "               city  monday  wednesday  friday\n",
       "0            Moscow   15740      11056   15945\n",
       "1  Saint-Petersburg    5614       7003    5895"
      ]
     },
     "metadata": {},
     "output_type": "display_data"
    }
   ],
   "source": [
    "columns = ['city', 'monday', 'wednesday', 'friday']\n",
    "data = [\n",
    "    ['Moscow',15740,11056,15945],\n",
    "    ['Saint-Petersburg',5614,7003,5895]\n",
    "]\n",
    "results = pd.DataFrame(data = data,columns = columns)\n",
    "display(results)\n",
    "# Таблица с результатами"
   ]
  },
  {
   "cell_type": "markdown",
   "metadata": {
    "id": "-EgPIHYu_Zcu"
   },
   "source": [
    "**Выводы**\n",
    "\n",
    "Данные показывают разницу поведения пользователей:\n",
    "\n",
    "- В Москве пик прослушиваний приходится на понедельник и пятницу, а в среду заметен спад.\n",
    "- В Петербурге, наоборот, больше слушают музыку по средам. Активность в понедельник и пятницу здесь почти в равной мере уступает среде.\n",
    "\n",
    "Значит, данные говорят в пользу первой гипотезы."
   ]
  },
  {
   "cell_type": "markdown",
   "metadata": {
    "id": "atZAxtq4_Zcu"
   },
   "source": [
    "### Музыка в начале и в конце недели"
   ]
  },
  {
   "cell_type": "markdown",
   "metadata": {
    "id": "eXrQqXFH_Zcu"
   },
   "source": [
    "Согласно второй гипотезе, утром в понедельник в Москве преобладают одни жанры, а в Петербурге — другие. Так же и вечером пятницы преобладают разные жанры — в зависимости от города."
   ]
  },
  {
   "cell_type": "code",
   "execution_count": 28,
   "metadata": {
    "id": "qeaFfM_P_Zcu"
   },
   "outputs": [],
   "source": [
    "moscow_general = df[df['city']=='Moscow']\n",
    "\n",
    "# получение таблицы moscow_general из тех строк таблицы df, \n",
    "# для которых значение в столбце 'city' равно 'Moscow'\n"
   ]
  },
  {
   "cell_type": "code",
   "execution_count": 29,
   "metadata": {
    "id": "ORaVRKto_Zcu"
   },
   "outputs": [],
   "source": [
    "spb_general = df[df['city']=='Saint-Petersburg']\n",
    "# получение таблицы spb_general из тех строк таблицы df,\n",
    "# для которых значение в столбце 'city' равно 'Saint-Petersburg'\n"
   ]
  },
  {
   "cell_type": "code",
   "execution_count": 30,
   "metadata": {
    "id": "laJT9BYl_Zcu"
   },
   "outputs": [],
   "source": [
    "def genre_weekday(table,day,time1,time2): #функция возвращающая информацию о самых популярных жанрах в указанный день в заданное время\n",
    "    genre_df = table[(table['day']==day) & (table['time']>time1) & (table['time']<time2)]\n",
    "    genre_df_count = genre_df.groupby('genre')['genre'].count()\n",
    "    genre_df_sorted = genre_df_count.sort_values(ascending=False)\n",
    "    return genre_df_sorted.head(10)"
   ]
  },
  {
   "cell_type": "code",
   "execution_count": 31,
   "metadata": {
    "id": "yz7itPUQ_Zcu"
   },
   "outputs": [
    {
     "data": {
      "text/plain": [
       "genre\n",
       "pop            781\n",
       "dance          549\n",
       "electronic     480\n",
       "rock           474\n",
       "hiphop         286\n",
       "ruspop         186\n",
       "world          181\n",
       "rusrap         175\n",
       "alternative    164\n",
       "unknown        161\n",
       "Name: genre, dtype: int64"
      ]
     },
     "execution_count": 31,
     "metadata": {},
     "output_type": "execute_result"
    }
   ],
   "source": [
    "genre_weekday(moscow_general,'Monday','07:00','11:00')\n",
    "# вызов функции для утра понедельника в Москве "
   ]
  },
  {
   "cell_type": "code",
   "execution_count": 32,
   "metadata": {
    "id": "kwUcHPdy_Zcu"
   },
   "outputs": [
    {
     "data": {
      "text/plain": [
       "genre\n",
       "pop            218\n",
       "dance          182\n",
       "rock           162\n",
       "electronic     147\n",
       "hiphop          80\n",
       "ruspop          64\n",
       "alternative     58\n",
       "rusrap          55\n",
       "jazz            44\n",
       "classical       40\n",
       "Name: genre, dtype: int64"
      ]
     },
     "execution_count": 32,
     "metadata": {},
     "output_type": "execute_result"
    }
   ],
   "source": [
    "genre_weekday(spb_general,'Monday','07:00','11:00')\n",
    "# вызов функции для утра понедельника в Петербурге "
   ]
  },
  {
   "cell_type": "code",
   "execution_count": 33,
   "metadata": {
    "id": "EzXVRE1o_Zcu"
   },
   "outputs": [
    {
     "data": {
      "text/plain": [
       "genre\n",
       "pop            713\n",
       "rock           517\n",
       "dance          495\n",
       "electronic     482\n",
       "hiphop         273\n",
       "world          208\n",
       "ruspop         170\n",
       "alternative    163\n",
       "classical      163\n",
       "rusrap         142\n",
       "Name: genre, dtype: int64"
      ]
     },
     "execution_count": 33,
     "metadata": {},
     "output_type": "execute_result"
    }
   ],
   "source": [
    "genre_weekday(moscow_general,'Friday','17:00','23:00')\n",
    "# вызов функции для вечера пятницы в Москве"
   ]
  },
  {
   "cell_type": "code",
   "execution_count": 34,
   "metadata": {
    "id": "JZaEKu5v_Zcu"
   },
   "outputs": [
    {
     "data": {
      "text/plain": [
       "genre\n",
       "pop            256\n",
       "electronic     216\n",
       "rock           216\n",
       "dance          210\n",
       "hiphop          97\n",
       "alternative     63\n",
       "jazz            61\n",
       "classical       60\n",
       "rusrap          59\n",
       "world           54\n",
       "Name: genre, dtype: int64"
      ]
     },
     "execution_count": 34,
     "metadata": {},
     "output_type": "execute_result"
    }
   ],
   "source": [
    "genre_weekday(spb_general,'Friday','17:00','23:00')\n",
    "# вызов функции для вечера пятницы в Петербурге"
   ]
  },
  {
   "cell_type": "markdown",
   "metadata": {
    "id": "wrCe4MNX_Zcu"
   },
   "source": [
    "**Выводы**\n",
    "\n",
    "Если сравнить топ-10 жанров в понедельник утром, можно сделать такие выводы:\n",
    "\n",
    "1. В Москве и Петербурге слушают похожую музыку. Единственное отличие — в московский рейтинг вошёл жанр “world”, а в петербургский — джаз и классика.\n",
    "\n",
    "2. В Москве пропущенных значений оказалось так много, что значение `'unknown'` заняло десятое место среди самых популярных жанров. Значит, пропущенные значения занимают существенную долю в данных и угрожают достоверности исследования.\n",
    "\n",
    "Вечер пятницы не меняет эту картину. Некоторые жанры поднимаются немного выше, другие спускаются, но в целом топ-10 остаётся тем же самым.\n",
    "\n",
    "Таким образом, вторая гипотеза подтвердилась лишь частично:\n",
    "* Пользователи слушают похожую музыку в начале недели и в конце.\n",
    "* Разница между Москвой и Петербургом не слишком выражена. В Москве чаще слушают русскую популярную музыку, в Петербурге — джаз.\n",
    "\n",
    "Однако пропуски в данных ставят под сомнение этот результат. В Москве их так много, что рейтинг топ-10 мог бы выглядеть иначе, если бы не утерянные  данные о жанрах."
   ]
  },
  {
   "cell_type": "markdown",
   "metadata": {
    "id": "JolODAqr_Zcu"
   },
   "source": [
    "### Жанровые предпочтения в Москве и Петербурге\n",
    "\n",
    "Гипотеза: Петербург — столица рэпа, музыку этого жанра там слушают чаще, чем в Москве.  А Москва — город контрастов, в котором, тем не менее, преобладает поп-музыка."
   ]
  },
  {
   "cell_type": "code",
   "execution_count": 35,
   "metadata": {
    "id": "r19lIPke_Zcu"
   },
   "outputs": [],
   "source": [
    "moscow_genres = moscow_general.groupby('genre')['genre'].count().sort_values(ascending=False)\n"
   ]
  },
  {
   "cell_type": "code",
   "execution_count": 36,
   "metadata": {
    "id": "WhCSooF8_Zcv"
   },
   "outputs": [
    {
     "data": {
      "text/plain": [
       "genre\n",
       "pop            5892\n",
       "dance          4435\n",
       "rock           3965\n",
       "electronic     3786\n",
       "hiphop         2096\n",
       "classical      1616\n",
       "world          1432\n",
       "alternative    1379\n",
       "ruspop         1372\n",
       "rusrap         1161\n",
       "Name: genre, dtype: int64"
      ]
     },
     "metadata": {},
     "output_type": "display_data"
    }
   ],
   "source": [
    "display(moscow_genres.head(10))\n",
    "# просмотр первых 10 строк moscow_genres"
   ]
  },
  {
   "cell_type": "code",
   "execution_count": 37,
   "metadata": {
    "id": "gluLIpE7_Zcv"
   },
   "outputs": [],
   "source": [
    "spb_genres = spb_general.groupby('genre')['genre'].count().sort_values(ascending=False)\n",
    "# одной строкой: группировка таблицы spb_general по столбцу 'genre', \n",
    "# подсчёт числа значений 'genre' в этой группировке методом count(), \n",
    "# сортировка получившегося Series в порядке убывания и сохранение в spb_genres"
   ]
  },
  {
   "cell_type": "code",
   "execution_count": 38,
   "metadata": {
    "id": "uaGJHjVU_Zcv"
   },
   "outputs": [
    {
     "data": {
      "text/plain": [
       "genre\n",
       "pop            2431\n",
       "dance          1932\n",
       "rock           1879\n",
       "electronic     1737\n",
       "hiphop          960\n",
       "alternative     649\n",
       "classical       646\n",
       "rusrap          564\n",
       "ruspop          538\n",
       "world           515\n",
       "Name: genre, dtype: int64"
      ]
     },
     "metadata": {},
     "output_type": "display_data"
    }
   ],
   "source": [
    "display(spb_genres.head(10))\n",
    "# просмотр первых 10 строк spb_genres"
   ]
  },
  {
   "cell_type": "markdown",
   "metadata": {
    "id": "RY51YJYu_Zcv"
   },
   "source": [
    "**Выводы**"
   ]
  },
  {
   "cell_type": "markdown",
   "metadata": {
    "id": "nVhnJEm__Zcv"
   },
   "source": [
    "Гипотеза частично подтвердилась:\n",
    "* Поп-музыка — самый популярный жанр в Москве, как и предполагала гипотеза. Более того, в топ-10 жанров встречается близкий жанр — русская популярная музыка.\n",
    "* Вопреки ожиданиям, рэп одинаково популярен в Москве и Петербурге. \n"
   ]
  },
  {
   "cell_type": "markdown",
   "metadata": {
    "id": "ykKQ0N65_Zcv"
   },
   "source": [
    "## Итоги исследования"
   ]
  },
  {
   "cell_type": "markdown",
   "metadata": {
    "id": "tjUwbHb3_Zcv"
   },
   "source": [
    "После проверки гипотез было установилено:\n",
    "\n",
    "1. День недели по-разному влияет на активность пользователей в Москве и Петербурге. \n",
    "\n",
    "Первая гипотеза полностью подтвердилась.\n",
    "\n",
    "2. Музыкальные предпочтения не сильно меняются в течение недели — будь то Москва или Петербург. Небольшие различия заметны в начале недели, по понедельникам:\n",
    "* в Москве слушают музыку жанра “world”,\n",
    "* в Петербурге — джаз и классику.\n",
    "\n",
    "Таким образом, вторая гипотеза подтвердилась лишь отчасти. Этот результат мог оказаться иным, если бы не пропуски в данных.\n",
    "\n",
    "3. Во вкусах пользователей Москвы и Петербурга больше общего чем различий. Вопреки ожиданиям, предпочтения жанров в Петербурге напоминают московские.\n",
    "\n",
    "Третья гипотеза не подтвердилась. Если различия в предпочтениях и существуют, на основной массе пользователей они незаметны.\n",
    "\n"
   ]
  },
  {
   "cell_type": "markdown",
   "metadata": {},
   "source": []
  }
 ],
 "metadata": {
  "ExecuteTimeLog": [
   {
    "duration": 239,
    "start_time": "2022-01-22T11:52:33.106Z"
   },
   {
    "duration": 407,
    "start_time": "2022-01-22T11:52:43.068Z"
   },
   {
    "duration": 514,
    "start_time": "2022-01-22T11:52:49.261Z"
   },
   {
    "duration": 1407,
    "start_time": "2022-01-22T11:52:59.448Z"
   },
   {
    "duration": 1557,
    "start_time": "2022-01-22T11:53:01.328Z"
   },
   {
    "duration": 136,
    "start_time": "2022-01-22T11:55:01.439Z"
   },
   {
    "duration": 16,
    "start_time": "2022-01-22T11:55:46.066Z"
   },
   {
    "duration": 8,
    "start_time": "2022-01-22T11:56:13.433Z"
   },
   {
    "duration": 7,
    "start_time": "2022-01-22T11:56:31.443Z"
   },
   {
    "duration": 6,
    "start_time": "2022-01-22T11:56:32.344Z"
   },
   {
    "duration": 6,
    "start_time": "2022-01-22T11:56:33.005Z"
   },
   {
    "duration": 7,
    "start_time": "2022-01-22T11:56:50.682Z"
   },
   {
    "duration": 8,
    "start_time": "2022-01-22T11:57:19.661Z"
   },
   {
    "duration": 25,
    "start_time": "2022-01-22T11:57:39.223Z"
   },
   {
    "duration": 196,
    "start_time": "2022-01-22T12:03:41.151Z"
   },
   {
    "duration": 3,
    "start_time": "2022-01-22T12:03:48.079Z"
   },
   {
    "duration": 4,
    "start_time": "2022-01-22T12:06:12.175Z"
   },
   {
    "duration": 124,
    "start_time": "2022-01-22T12:06:20.238Z"
   },
   {
    "duration": 64,
    "start_time": "2022-01-22T12:07:02.613Z"
   },
   {
    "duration": 4,
    "start_time": "2022-01-22T12:07:17.863Z"
   },
   {
    "duration": 3,
    "start_time": "2022-01-22T12:07:18.664Z"
   },
   {
    "duration": 20,
    "start_time": "2022-01-22T12:07:19.768Z"
   },
   {
    "duration": 24,
    "start_time": "2022-01-22T12:07:21.016Z"
   },
   {
    "duration": 16,
    "start_time": "2022-01-22T12:07:21.690Z"
   },
   {
    "duration": 4,
    "start_time": "2022-01-22T12:07:23.133Z"
   },
   {
    "duration": 12,
    "start_time": "2022-01-22T12:07:36.373Z"
   },
   {
    "duration": 2,
    "start_time": "2022-01-22T12:07:59.525Z"
   },
   {
    "duration": 135,
    "start_time": "2022-01-22T12:07:59.529Z"
   },
   {
    "duration": 9,
    "start_time": "2022-01-22T12:07:59.665Z"
   },
   {
    "duration": 40,
    "start_time": "2022-01-22T12:07:59.676Z"
   },
   {
    "duration": 3,
    "start_time": "2022-01-22T12:07:59.718Z"
   },
   {
    "duration": 14,
    "start_time": "2022-01-22T12:07:59.723Z"
   },
   {
    "duration": 3,
    "start_time": "2022-01-22T12:07:59.739Z"
   },
   {
    "duration": 4,
    "start_time": "2022-01-22T12:07:59.744Z"
   },
   {
    "duration": 4,
    "start_time": "2022-01-22T12:07:59.750Z"
   },
   {
    "duration": 4,
    "start_time": "2022-01-22T12:07:59.755Z"
   },
   {
    "duration": 4,
    "start_time": "2022-01-22T12:07:59.760Z"
   },
   {
    "duration": 4,
    "start_time": "2022-01-22T12:07:59.766Z"
   },
   {
    "duration": 5,
    "start_time": "2022-01-22T12:07:59.771Z"
   },
   {
    "duration": 35,
    "start_time": "2022-01-22T12:07:59.777Z"
   },
   {
    "duration": 4,
    "start_time": "2022-01-22T12:07:59.814Z"
   },
   {
    "duration": 5,
    "start_time": "2022-01-22T12:07:59.819Z"
   },
   {
    "duration": 6,
    "start_time": "2022-01-22T12:07:59.825Z"
   },
   {
    "duration": 5,
    "start_time": "2022-01-22T12:07:59.832Z"
   },
   {
    "duration": 2,
    "start_time": "2022-01-22T12:07:59.841Z"
   },
   {
    "duration": 3,
    "start_time": "2022-01-22T12:07:59.845Z"
   },
   {
    "duration": 5,
    "start_time": "2022-01-22T12:07:59.850Z"
   },
   {
    "duration": 4,
    "start_time": "2022-01-22T12:07:59.856Z"
   },
   {
    "duration": 4,
    "start_time": "2022-01-22T12:07:59.862Z"
   },
   {
    "duration": 4,
    "start_time": "2022-01-22T12:07:59.867Z"
   },
   {
    "duration": 39,
    "start_time": "2022-01-22T12:07:59.873Z"
   },
   {
    "duration": 3,
    "start_time": "2022-01-22T12:07:59.914Z"
   },
   {
    "duration": 9,
    "start_time": "2022-01-22T12:07:59.919Z"
   },
   {
    "duration": 7,
    "start_time": "2022-01-22T12:07:59.929Z"
   },
   {
    "duration": 4,
    "start_time": "2022-01-22T12:07:59.938Z"
   },
   {
    "duration": 5,
    "start_time": "2022-01-22T12:07:59.943Z"
   },
   {
    "duration": 5,
    "start_time": "2022-01-22T12:07:59.949Z"
   },
   {
    "duration": 5,
    "start_time": "2022-01-22T12:07:59.955Z"
   },
   {
    "duration": 6,
    "start_time": "2022-01-22T12:07:59.961Z"
   },
   {
    "duration": 6,
    "start_time": "2022-01-22T12:07:59.968Z"
   },
   {
    "duration": 4,
    "start_time": "2022-01-22T12:07:59.976Z"
   },
   {
    "duration": 5,
    "start_time": "2022-01-22T12:07:59.981Z"
   },
   {
    "duration": 25,
    "start_time": "2022-01-22T12:07:59.987Z"
   },
   {
    "duration": 8,
    "start_time": "2022-01-22T12:08:00.014Z"
   },
   {
    "duration": 22,
    "start_time": "2022-01-22T12:08:47.461Z"
   },
   {
    "duration": 21,
    "start_time": "2022-01-22T12:09:20.339Z"
   },
   {
    "duration": 2486,
    "start_time": "2022-01-22T12:14:13.689Z"
   },
   {
    "duration": 2538,
    "start_time": "2022-01-22T12:14:16.470Z"
   },
   {
    "duration": 2921,
    "start_time": "2022-01-22T12:14:43.021Z"
   },
   {
    "duration": 2706,
    "start_time": "2022-01-22T12:17:20.747Z"
   },
   {
    "duration": 3,
    "start_time": "2022-01-22T12:17:29.988Z"
   },
   {
    "duration": 163,
    "start_time": "2022-01-22T12:17:29.993Z"
   },
   {
    "duration": 10,
    "start_time": "2022-01-22T12:17:30.158Z"
   },
   {
    "duration": 27,
    "start_time": "2022-01-22T12:17:30.170Z"
   },
   {
    "duration": 15,
    "start_time": "2022-01-22T12:17:30.199Z"
   },
   {
    "duration": 22,
    "start_time": "2022-01-22T12:17:30.216Z"
   },
   {
    "duration": 4,
    "start_time": "2022-01-22T12:17:30.241Z"
   },
   {
    "duration": 29,
    "start_time": "2022-01-22T12:17:30.247Z"
   },
   {
    "duration": 2643,
    "start_time": "2022-01-22T12:17:30.277Z"
   },
   {
    "duration": -186,
    "start_time": "2022-01-22T12:17:33.108Z"
   },
   {
    "duration": -189,
    "start_time": "2022-01-22T12:17:33.112Z"
   },
   {
    "duration": -192,
    "start_time": "2022-01-22T12:17:33.116Z"
   },
   {
    "duration": -199,
    "start_time": "2022-01-22T12:17:33.124Z"
   },
   {
    "duration": -202,
    "start_time": "2022-01-22T12:17:33.128Z"
   },
   {
    "duration": -212,
    "start_time": "2022-01-22T12:17:33.138Z"
   },
   {
    "duration": -216,
    "start_time": "2022-01-22T12:17:33.143Z"
   },
   {
    "duration": -221,
    "start_time": "2022-01-22T12:17:33.149Z"
   },
   {
    "duration": -238,
    "start_time": "2022-01-22T12:17:33.167Z"
   },
   {
    "duration": -241,
    "start_time": "2022-01-22T12:17:33.171Z"
   },
   {
    "duration": -255,
    "start_time": "2022-01-22T12:17:33.185Z"
   },
   {
    "duration": -264,
    "start_time": "2022-01-22T12:17:33.195Z"
   },
   {
    "duration": -268,
    "start_time": "2022-01-22T12:17:33.200Z"
   },
   {
    "duration": -275,
    "start_time": "2022-01-22T12:17:33.208Z"
   },
   {
    "duration": -277,
    "start_time": "2022-01-22T12:17:33.211Z"
   },
   {
    "duration": -279,
    "start_time": "2022-01-22T12:17:33.214Z"
   },
   {
    "duration": -291,
    "start_time": "2022-01-22T12:17:33.227Z"
   },
   {
    "duration": -293,
    "start_time": "2022-01-22T12:17:33.230Z"
   },
   {
    "duration": -297,
    "start_time": "2022-01-22T12:17:33.235Z"
   },
   {
    "duration": -301,
    "start_time": "2022-01-22T12:17:33.240Z"
   },
   {
    "duration": -304,
    "start_time": "2022-01-22T12:17:33.244Z"
   },
   {
    "duration": -309,
    "start_time": "2022-01-22T12:17:33.249Z"
   },
   {
    "duration": -312,
    "start_time": "2022-01-22T12:17:33.253Z"
   },
   {
    "duration": -316,
    "start_time": "2022-01-22T12:17:33.258Z"
   },
   {
    "duration": -319,
    "start_time": "2022-01-22T12:17:33.262Z"
   },
   {
    "duration": -326,
    "start_time": "2022-01-22T12:17:33.270Z"
   },
   {
    "duration": -328,
    "start_time": "2022-01-22T12:17:33.273Z"
   },
   {
    "duration": -330,
    "start_time": "2022-01-22T12:17:33.277Z"
   },
   {
    "duration": -333,
    "start_time": "2022-01-22T12:17:33.281Z"
   },
   {
    "duration": 2531,
    "start_time": "2022-01-22T12:18:44.588Z"
   },
   {
    "duration": -154,
    "start_time": "2022-01-22T12:18:49.945Z"
   },
   {
    "duration": 2477,
    "start_time": "2022-01-22T12:18:52.244Z"
   },
   {
    "duration": 3433,
    "start_time": "2022-01-22T12:18:57.581Z"
   },
   {
    "duration": 2511,
    "start_time": "2022-01-22T12:19:04.021Z"
   },
   {
    "duration": 2595,
    "start_time": "2022-01-22T12:19:30.238Z"
   },
   {
    "duration": 2428,
    "start_time": "2022-01-22T12:19:57.151Z"
   },
   {
    "duration": 3631,
    "start_time": "2022-01-22T12:21:04.157Z"
   },
   {
    "duration": 9,
    "start_time": "2022-01-22T12:21:45.895Z"
   },
   {
    "duration": 8,
    "start_time": "2022-01-22T12:21:50.640Z"
   },
   {
    "duration": 8,
    "start_time": "2022-01-22T12:21:51.504Z"
   },
   {
    "duration": 8,
    "start_time": "2022-01-22T12:22:12.502Z"
   },
   {
    "duration": 209,
    "start_time": "2022-01-22T12:22:37.105Z"
   },
   {
    "duration": 178,
    "start_time": "2022-01-22T12:22:45.188Z"
   },
   {
    "duration": 8,
    "start_time": "2022-01-22T12:23:01.385Z"
   },
   {
    "duration": 7,
    "start_time": "2022-01-22T12:23:02.828Z"
   },
   {
    "duration": 8,
    "start_time": "2022-01-22T12:23:03.693Z"
   },
   {
    "duration": 9,
    "start_time": "2022-01-22T12:23:04.639Z"
   },
   {
    "duration": 8,
    "start_time": "2022-01-22T12:23:05.401Z"
   },
   {
    "duration": 9,
    "start_time": "2022-01-22T12:23:06.065Z"
   },
   {
    "duration": 12,
    "start_time": "2022-01-22T12:23:06.490Z"
   },
   {
    "duration": 7,
    "start_time": "2022-01-22T12:23:06.716Z"
   },
   {
    "duration": 209,
    "start_time": "2022-01-22T12:23:08.390Z"
   },
   {
    "duration": 194,
    "start_time": "2022-01-22T12:23:10.059Z"
   },
   {
    "duration": 4,
    "start_time": "2022-01-22T12:23:11.974Z"
   },
   {
    "duration": 4,
    "start_time": "2022-01-22T12:23:13.066Z"
   },
   {
    "duration": 201,
    "start_time": "2022-01-22T12:23:15.058Z"
   },
   {
    "duration": 217,
    "start_time": "2022-01-22T12:23:19.510Z"
   },
   {
    "duration": 5,
    "start_time": "2022-01-22T12:23:25.676Z"
   },
   {
    "duration": 135,
    "start_time": "2022-01-22T12:23:29.138Z"
   },
   {
    "duration": 970,
    "start_time": "2022-01-22T12:23:30.387Z"
   },
   {
    "duration": 2,
    "start_time": "2022-01-22T12:23:31.492Z"
   },
   {
    "duration": 3,
    "start_time": "2022-01-22T12:23:32.440Z"
   },
   {
    "duration": 149,
    "start_time": "2022-01-22T12:23:34.212Z"
   },
   {
    "duration": 10,
    "start_time": "2022-01-22T12:23:36.759Z"
   },
   {
    "duration": 41,
    "start_time": "2022-01-22T12:23:40.046Z"
   },
   {
    "duration": 5,
    "start_time": "2022-01-22T12:23:44.949Z"
   },
   {
    "duration": 29,
    "start_time": "2022-01-22T12:23:47.379Z"
   },
   {
    "duration": 6,
    "start_time": "2022-01-22T12:23:49.875Z"
   },
   {
    "duration": 44,
    "start_time": "2022-01-22T12:24:07.158Z"
   },
   {
    "duration": 2389,
    "start_time": "2022-01-22T12:24:11.936Z"
   },
   {
    "duration": 3,
    "start_time": "2022-01-22T12:24:45.742Z"
   },
   {
    "duration": 134,
    "start_time": "2022-01-22T12:24:45.747Z"
   },
   {
    "duration": 10,
    "start_time": "2022-01-22T12:24:45.883Z"
   },
   {
    "duration": 29,
    "start_time": "2022-01-22T12:24:45.895Z"
   },
   {
    "duration": 4,
    "start_time": "2022-01-22T12:24:45.926Z"
   },
   {
    "duration": 23,
    "start_time": "2022-01-22T12:24:45.932Z"
   },
   {
    "duration": 4,
    "start_time": "2022-01-22T12:24:45.956Z"
   },
   {
    "duration": 72,
    "start_time": "2022-01-22T12:24:45.962Z"
   },
   {
    "duration": 23,
    "start_time": "2022-01-22T12:24:46.038Z"
   },
   {
    "duration": 6,
    "start_time": "2022-01-22T12:24:46.063Z"
   },
   {
    "duration": 9,
    "start_time": "2022-01-22T12:24:46.070Z"
   },
   {
    "duration": 6,
    "start_time": "2022-01-22T12:24:46.080Z"
   },
   {
    "duration": 4,
    "start_time": "2022-01-22T12:24:46.088Z"
   },
   {
    "duration": 19,
    "start_time": "2022-01-22T12:24:46.094Z"
   },
   {
    "duration": 15,
    "start_time": "2022-01-22T12:24:46.115Z"
   },
   {
    "duration": 12,
    "start_time": "2022-01-22T12:24:46.132Z"
   },
   {
    "duration": 15,
    "start_time": "2022-01-22T12:24:46.146Z"
   },
   {
    "duration": 12,
    "start_time": "2022-01-22T12:24:46.163Z"
   },
   {
    "duration": 8,
    "start_time": "2022-01-22T12:24:46.177Z"
   },
   {
    "duration": 6,
    "start_time": "2022-01-22T12:24:46.187Z"
   },
   {
    "duration": 13,
    "start_time": "2022-01-22T12:24:46.195Z"
   },
   {
    "duration": 5,
    "start_time": "2022-01-22T12:24:46.210Z"
   },
   {
    "duration": 7,
    "start_time": "2022-01-22T12:24:46.217Z"
   },
   {
    "duration": 15,
    "start_time": "2022-01-22T12:24:46.226Z"
   },
   {
    "duration": 21,
    "start_time": "2022-01-22T12:24:46.243Z"
   },
   {
    "duration": 17,
    "start_time": "2022-01-22T12:24:46.266Z"
   },
   {
    "duration": 5,
    "start_time": "2022-01-22T12:24:46.288Z"
   },
   {
    "duration": 5,
    "start_time": "2022-01-22T12:24:46.295Z"
   },
   {
    "duration": 11,
    "start_time": "2022-01-22T12:24:46.302Z"
   },
   {
    "duration": 5,
    "start_time": "2022-01-22T12:24:46.315Z"
   },
   {
    "duration": 20,
    "start_time": "2022-01-22T12:24:46.322Z"
   },
   {
    "duration": 14,
    "start_time": "2022-01-22T12:24:46.343Z"
   },
   {
    "duration": 13,
    "start_time": "2022-01-22T12:24:46.358Z"
   },
   {
    "duration": 9,
    "start_time": "2022-01-22T12:24:46.373Z"
   },
   {
    "duration": 9,
    "start_time": "2022-01-22T12:24:46.383Z"
   },
   {
    "duration": 5,
    "start_time": "2022-01-22T12:24:46.393Z"
   },
   {
    "duration": 12,
    "start_time": "2022-01-22T12:24:46.399Z"
   },
   {
    "duration": 12,
    "start_time": "2022-01-22T12:24:46.413Z"
   },
   {
    "duration": 26,
    "start_time": "2022-01-22T12:25:04.893Z"
   },
   {
    "duration": 18,
    "start_time": "2022-01-22T12:25:22.140Z"
   },
   {
    "duration": 23,
    "start_time": "2022-01-22T12:25:37.304Z"
   },
   {
    "duration": 53,
    "start_time": "2022-01-22T12:26:13.731Z"
   },
   {
    "duration": 3,
    "start_time": "2022-01-22T12:26:19.713Z"
   },
   {
    "duration": 59,
    "start_time": "2022-01-22T12:27:30.343Z"
   },
   {
    "duration": 51,
    "start_time": "2022-01-22T12:28:01.528Z"
   },
   {
    "duration": 4,
    "start_time": "2022-01-22T12:29:02.826Z"
   },
   {
    "duration": 5,
    "start_time": "2022-01-22T12:30:10.274Z"
   },
   {
    "duration": 7,
    "start_time": "2022-01-22T12:30:29.734Z"
   },
   {
    "duration": 171,
    "start_time": "2022-01-22T12:33:23.212Z"
   },
   {
    "duration": 221,
    "start_time": "2022-01-22T12:33:34.714Z"
   },
   {
    "duration": 37,
    "start_time": "2022-01-22T12:33:43.208Z"
   },
   {
    "duration": 51,
    "start_time": "2022-01-22T12:34:00.990Z"
   },
   {
    "duration": 47,
    "start_time": "2022-01-22T12:34:15.584Z"
   },
   {
    "duration": 38,
    "start_time": "2022-01-22T12:55:52.941Z"
   },
   {
    "duration": 57,
    "start_time": "2022-01-22T13:03:28.603Z"
   },
   {
    "duration": 4,
    "start_time": "2022-01-22T13:04:39.660Z"
   },
   {
    "duration": 4,
    "start_time": "2022-01-22T13:04:41.929Z"
   },
   {
    "duration": 197,
    "start_time": "2022-01-22T13:08:29.683Z"
   },
   {
    "duration": 363,
    "start_time": "2022-01-22T13:08:38.694Z"
   },
   {
    "duration": 3,
    "start_time": "2022-01-22T13:09:23.777Z"
   },
   {
    "duration": 426,
    "start_time": "2022-01-22T13:09:25.454Z"
   },
   {
    "duration": 3,
    "start_time": "2022-01-22T13:10:50.527Z"
   },
   {
    "duration": 9,
    "start_time": "2022-01-22T13:10:52.129Z"
   },
   {
    "duration": 10,
    "start_time": "2022-01-22T13:10:53.607Z"
   },
   {
    "duration": 6,
    "start_time": "2022-01-22T13:11:21.609Z"
   },
   {
    "duration": 39,
    "start_time": "2022-01-22T13:11:37.449Z"
   },
   {
    "duration": 12,
    "start_time": "2022-01-22T13:12:10.607Z"
   },
   {
    "duration": 38,
    "start_time": "2022-01-22T13:12:14.526Z"
   },
   {
    "duration": 3,
    "start_time": "2022-01-22T13:31:24.066Z"
   },
   {
    "duration": 157,
    "start_time": "2022-01-22T13:31:24.071Z"
   },
   {
    "duration": 11,
    "start_time": "2022-01-22T13:31:24.230Z"
   },
   {
    "duration": 32,
    "start_time": "2022-01-22T13:31:24.243Z"
   },
   {
    "duration": 6,
    "start_time": "2022-01-22T13:31:24.277Z"
   },
   {
    "duration": 32,
    "start_time": "2022-01-22T13:31:24.284Z"
   },
   {
    "duration": 3,
    "start_time": "2022-01-22T13:31:24.319Z"
   },
   {
    "duration": 47,
    "start_time": "2022-01-22T13:31:24.324Z"
   },
   {
    "duration": 17,
    "start_time": "2022-01-22T13:31:24.373Z"
   },
   {
    "duration": 28,
    "start_time": "2022-01-22T13:31:24.413Z"
   },
   {
    "duration": 55,
    "start_time": "2022-01-22T13:31:24.443Z"
   },
   {
    "duration": 62,
    "start_time": "2022-01-22T13:31:24.512Z"
   },
   {
    "duration": 63,
    "start_time": "2022-01-22T13:31:24.575Z"
   },
   {
    "duration": 40,
    "start_time": "2022-01-22T13:31:24.640Z"
   },
   {
    "duration": 3,
    "start_time": "2022-01-22T13:31:24.681Z"
   },
   {
    "duration": 34,
    "start_time": "2022-01-22T13:31:24.685Z"
   },
   {
    "duration": 38,
    "start_time": "2022-01-22T13:31:24.720Z"
   },
   {
    "duration": 2,
    "start_time": "2022-01-22T13:31:24.760Z"
   },
   {
    "duration": 4,
    "start_time": "2022-01-22T13:31:24.764Z"
   },
   {
    "duration": 4,
    "start_time": "2022-01-22T13:31:24.769Z"
   },
   {
    "duration": 4,
    "start_time": "2022-01-22T13:31:24.774Z"
   },
   {
    "duration": 3,
    "start_time": "2022-01-22T13:31:24.780Z"
   },
   {
    "duration": 27,
    "start_time": "2022-01-22T13:31:24.785Z"
   },
   {
    "duration": 5,
    "start_time": "2022-01-22T13:31:24.814Z"
   },
   {
    "duration": 4,
    "start_time": "2022-01-22T13:31:24.821Z"
   },
   {
    "duration": 3,
    "start_time": "2022-01-22T13:31:24.827Z"
   },
   {
    "duration": 4,
    "start_time": "2022-01-22T13:31:24.832Z"
   },
   {
    "duration": 4,
    "start_time": "2022-01-22T13:31:24.837Z"
   },
   {
    "duration": 3,
    "start_time": "2022-01-22T13:31:24.843Z"
   },
   {
    "duration": 4,
    "start_time": "2022-01-22T13:31:24.848Z"
   },
   {
    "duration": 6,
    "start_time": "2022-01-22T13:31:24.853Z"
   },
   {
    "duration": 3,
    "start_time": "2022-01-22T13:31:24.861Z"
   },
   {
    "duration": 7,
    "start_time": "2022-01-22T13:31:24.866Z"
   },
   {
    "duration": 8,
    "start_time": "2022-01-22T13:31:24.874Z"
   },
   {
    "duration": 6,
    "start_time": "2022-01-22T13:31:24.884Z"
   },
   {
    "duration": 21,
    "start_time": "2022-01-22T13:31:24.892Z"
   },
   {
    "duration": 5,
    "start_time": "2022-01-22T13:31:24.914Z"
   },
   {
    "duration": 4,
    "start_time": "2022-01-22T13:31:24.921Z"
   },
   {
    "duration": 2361,
    "start_time": "2022-01-22T13:35:23.315Z"
   },
   {
    "duration": 7,
    "start_time": "2022-01-22T13:36:47.980Z"
   },
   {
    "duration": 14,
    "start_time": "2022-01-22T13:37:06.371Z"
   },
   {
    "duration": 21,
    "start_time": "2022-01-22T13:39:07.513Z"
   },
   {
    "duration": 36,
    "start_time": "2022-01-22T13:40:20.703Z"
   },
   {
    "duration": 45,
    "start_time": "2022-01-22T13:41:02.191Z"
   },
   {
    "duration": 25,
    "start_time": "2022-01-22T13:41:48.016Z"
   },
   {
    "duration": 22,
    "start_time": "2022-01-22T13:42:06.776Z"
   },
   {
    "duration": 21,
    "start_time": "2022-01-22T13:42:11.876Z"
   },
   {
    "duration": 21,
    "start_time": "2022-01-22T13:42:12.457Z"
   },
   {
    "duration": 24,
    "start_time": "2022-01-22T13:42:12.959Z"
   },
   {
    "duration": 3,
    "start_time": "2022-01-22T13:42:22.143Z"
   },
   {
    "duration": 142,
    "start_time": "2022-01-22T13:42:22.147Z"
   },
   {
    "duration": 21,
    "start_time": "2022-01-22T13:42:22.291Z"
   },
   {
    "duration": 24,
    "start_time": "2022-01-22T13:42:22.314Z"
   },
   {
    "duration": 3,
    "start_time": "2022-01-22T13:42:22.340Z"
   },
   {
    "duration": 18,
    "start_time": "2022-01-22T13:42:22.345Z"
   },
   {
    "duration": 4,
    "start_time": "2022-01-22T13:42:22.365Z"
   },
   {
    "duration": 72,
    "start_time": "2022-01-22T13:42:22.370Z"
   },
   {
    "duration": 17,
    "start_time": "2022-01-22T13:42:22.444Z"
   },
   {
    "duration": 26,
    "start_time": "2022-01-22T13:42:22.462Z"
   },
   {
    "duration": 70,
    "start_time": "2022-01-22T13:42:22.489Z"
   },
   {
    "duration": 69,
    "start_time": "2022-01-22T13:42:22.561Z"
   },
   {
    "duration": 48,
    "start_time": "2022-01-22T13:42:22.631Z"
   },
   {
    "duration": 51,
    "start_time": "2022-01-22T13:42:22.680Z"
   },
   {
    "duration": 3,
    "start_time": "2022-01-22T13:42:22.732Z"
   },
   {
    "duration": 13,
    "start_time": "2022-01-22T13:42:22.737Z"
   },
   {
    "duration": 39,
    "start_time": "2022-01-22T13:42:22.752Z"
   },
   {
    "duration": 23,
    "start_time": "2022-01-22T13:42:22.813Z"
   },
   {
    "duration": 2,
    "start_time": "2022-01-22T13:42:22.839Z"
   },
   {
    "duration": 5,
    "start_time": "2022-01-22T13:42:22.843Z"
   },
   {
    "duration": 10,
    "start_time": "2022-01-22T13:42:22.849Z"
   },
   {
    "duration": 5,
    "start_time": "2022-01-22T13:42:22.860Z"
   },
   {
    "duration": 5,
    "start_time": "2022-01-22T13:42:22.866Z"
   },
   {
    "duration": 5,
    "start_time": "2022-01-22T13:42:22.872Z"
   },
   {
    "duration": 5,
    "start_time": "2022-01-22T13:42:22.878Z"
   },
   {
    "duration": 9,
    "start_time": "2022-01-22T13:42:22.884Z"
   },
   {
    "duration": 18,
    "start_time": "2022-01-22T13:42:22.894Z"
   },
   {
    "duration": 4,
    "start_time": "2022-01-22T13:42:22.914Z"
   },
   {
    "duration": 4,
    "start_time": "2022-01-22T13:42:22.920Z"
   },
   {
    "duration": 4,
    "start_time": "2022-01-22T13:42:22.925Z"
   },
   {
    "duration": 6,
    "start_time": "2022-01-22T13:42:22.931Z"
   },
   {
    "duration": 5,
    "start_time": "2022-01-22T13:42:22.938Z"
   },
   {
    "duration": 6,
    "start_time": "2022-01-22T13:42:22.944Z"
   },
   {
    "duration": 4,
    "start_time": "2022-01-22T13:42:22.952Z"
   },
   {
    "duration": 4,
    "start_time": "2022-01-22T13:42:22.957Z"
   },
   {
    "duration": 4,
    "start_time": "2022-01-22T13:42:22.963Z"
   },
   {
    "duration": 4,
    "start_time": "2022-01-22T13:42:22.968Z"
   },
   {
    "duration": 4,
    "start_time": "2022-01-22T13:42:22.974Z"
   },
   {
    "duration": 24,
    "start_time": "2022-01-22T13:42:37.161Z"
   },
   {
    "duration": 25,
    "start_time": "2022-01-22T13:43:18.491Z"
   },
   {
    "duration": 21,
    "start_time": "2022-01-22T13:43:38.345Z"
   },
   {
    "duration": 1733,
    "start_time": "2022-01-22T13:45:45.599Z"
   },
   {
    "duration": 73,
    "start_time": "2022-01-22T13:47:10.874Z"
   },
   {
    "duration": 64,
    "start_time": "2022-01-22T13:47:12.172Z"
   },
   {
    "duration": -79,
    "start_time": "2022-01-22T13:47:20.243Z"
   },
   {
    "duration": 2440,
    "start_time": "2022-01-22T13:47:22.912Z"
   },
   {
    "duration": 30,
    "start_time": "2022-01-22T13:47:34.316Z"
   },
   {
    "duration": 9,
    "start_time": "2022-01-22T13:47:38.175Z"
   },
   {
    "duration": 11,
    "start_time": "2022-01-22T13:50:01.893Z"
   },
   {
    "duration": 220,
    "start_time": "2022-01-22T13:59:45.912Z"
   },
   {
    "duration": 212,
    "start_time": "2022-01-22T14:00:19.488Z"
   },
   {
    "duration": 33,
    "start_time": "2022-01-22T14:00:39.232Z"
   },
   {
    "duration": 28,
    "start_time": "2022-01-22T14:05:35.959Z"
   },
   {
    "duration": 34,
    "start_time": "2022-01-22T14:12:52.333Z"
   },
   {
    "duration": 29,
    "start_time": "2022-01-22T14:13:27.586Z"
   },
   {
    "duration": 3,
    "start_time": "2022-01-22T14:15:21.243Z"
   },
   {
    "duration": 199,
    "start_time": "2022-01-22T14:17:17.815Z"
   },
   {
    "duration": 452,
    "start_time": "2022-01-22T14:17:29.299Z"
   },
   {
    "duration": 606,
    "start_time": "2022-01-22T14:18:50.543Z"
   },
   {
    "duration": 450,
    "start_time": "2022-01-22T14:19:30.928Z"
   },
   {
    "duration": 461,
    "start_time": "2022-01-22T14:20:56.508Z"
   },
   {
    "duration": 4,
    "start_time": "2022-01-22T14:21:28.262Z"
   },
   {
    "duration": 16,
    "start_time": "2022-01-22T14:21:34.277Z"
   },
   {
    "duration": 17,
    "start_time": "2022-01-22T14:21:45.391Z"
   },
   {
    "duration": 16,
    "start_time": "2022-01-22T14:21:46.359Z"
   },
   {
    "duration": 15,
    "start_time": "2022-01-22T14:21:46.874Z"
   },
   {
    "duration": 16,
    "start_time": "2022-01-22T14:21:47.288Z"
   },
   {
    "duration": 13,
    "start_time": "2022-01-22T14:22:38.254Z"
   },
   {
    "duration": 14,
    "start_time": "2022-01-22T14:23:50.426Z"
   },
   {
    "duration": 16,
    "start_time": "2022-01-22T14:23:51.675Z"
   },
   {
    "duration": 14,
    "start_time": "2022-01-22T14:23:52.520Z"
   },
   {
    "duration": 16,
    "start_time": "2022-01-22T14:23:54.336Z"
   },
   {
    "duration": 194,
    "start_time": "2022-01-22T14:29:37.285Z"
   },
   {
    "duration": 198,
    "start_time": "2022-01-22T14:30:51.099Z"
   },
   {
    "duration": 202,
    "start_time": "2022-01-22T14:31:02.655Z"
   },
   {
    "duration": 4,
    "start_time": "2022-01-22T14:31:16.904Z"
   },
   {
    "duration": 4,
    "start_time": "2022-01-22T14:31:18.442Z"
   },
   {
    "duration": 9,
    "start_time": "2022-01-22T14:31:28.543Z"
   },
   {
    "duration": 344,
    "start_time": "2022-01-22T18:25:47.617Z"
   },
   {
    "duration": 622,
    "start_time": "2022-01-22T18:25:56.871Z"
   },
   {
    "duration": 134,
    "start_time": "2022-01-22T18:25:57.495Z"
   },
   {
    "duration": 17,
    "start_time": "2022-01-22T18:25:57.631Z"
   },
   {
    "duration": 32,
    "start_time": "2022-01-22T18:25:57.650Z"
   },
   {
    "duration": 4,
    "start_time": "2022-01-22T18:25:57.684Z"
   },
   {
    "duration": 21,
    "start_time": "2022-01-22T18:25:57.690Z"
   },
   {
    "duration": 3,
    "start_time": "2022-01-22T18:25:57.713Z"
   },
   {
    "duration": 63,
    "start_time": "2022-01-22T18:25:57.718Z"
   },
   {
    "duration": 16,
    "start_time": "2022-01-22T18:25:57.783Z"
   },
   {
    "duration": 23,
    "start_time": "2022-01-22T18:25:57.800Z"
   },
   {
    "duration": 71,
    "start_time": "2022-01-22T18:25:57.825Z"
   },
   {
    "duration": 55,
    "start_time": "2022-01-22T18:25:57.897Z"
   },
   {
    "duration": 54,
    "start_time": "2022-01-22T18:25:57.954Z"
   },
   {
    "duration": 40,
    "start_time": "2022-01-22T18:25:58.010Z"
   },
   {
    "duration": 3,
    "start_time": "2022-01-22T18:25:58.051Z"
   },
   {
    "duration": 20,
    "start_time": "2022-01-22T18:25:58.072Z"
   },
   {
    "duration": 42,
    "start_time": "2022-01-22T18:25:58.093Z"
   },
   {
    "duration": 38,
    "start_time": "2022-01-22T18:25:58.136Z"
   },
   {
    "duration": 30,
    "start_time": "2022-01-22T18:25:58.176Z"
   },
   {
    "duration": 3,
    "start_time": "2022-01-22T18:25:58.207Z"
   },
   {
    "duration": 41,
    "start_time": "2022-01-22T18:25:58.211Z"
   },
   {
    "duration": 20,
    "start_time": "2022-01-22T18:25:58.254Z"
   },
   {
    "duration": 21,
    "start_time": "2022-01-22T18:25:58.277Z"
   },
   {
    "duration": 16,
    "start_time": "2022-01-22T18:25:58.299Z"
   },
   {
    "duration": 14,
    "start_time": "2022-01-22T18:25:58.317Z"
   },
   {
    "duration": 12,
    "start_time": "2022-01-22T18:25:58.333Z"
   },
   {
    "duration": 25,
    "start_time": "2022-01-22T18:25:58.347Z"
   },
   {
    "duration": 17,
    "start_time": "2022-01-22T18:25:58.374Z"
   },
   {
    "duration": 2,
    "start_time": "2022-01-22T18:25:58.392Z"
   },
   {
    "duration": 5,
    "start_time": "2022-01-22T18:25:58.395Z"
   },
   {
    "duration": 12,
    "start_time": "2022-01-22T18:25:58.401Z"
   },
   {
    "duration": 8,
    "start_time": "2022-01-22T18:25:58.414Z"
   },
   {
    "duration": 12,
    "start_time": "2022-01-22T18:25:58.423Z"
   },
   {
    "duration": 8,
    "start_time": "2022-01-22T18:25:58.437Z"
   },
   {
    "duration": 8,
    "start_time": "2022-01-22T18:25:58.446Z"
   },
   {
    "duration": 7,
    "start_time": "2022-01-22T18:25:58.456Z"
   },
   {
    "duration": 8,
    "start_time": "2022-01-22T18:25:58.464Z"
   },
   {
    "duration": 11,
    "start_time": "2022-01-22T18:25:58.473Z"
   },
   {
    "duration": 13,
    "start_time": "2022-01-22T18:26:19.880Z"
   },
   {
    "duration": 4,
    "start_time": "2022-01-22T18:33:48.720Z"
   },
   {
    "duration": 3,
    "start_time": "2022-01-22T18:33:49.655Z"
   },
   {
    "duration": 3,
    "start_time": "2022-01-22T18:33:50.647Z"
   },
   {
    "duration": 5,
    "start_time": "2022-01-22T18:33:51.434Z"
   },
   {
    "duration": 6192,
    "start_time": "2022-01-22T18:35:03.330Z"
   },
   {
    "duration": 4565,
    "start_time": "2022-01-22T18:35:33.260Z"
   },
   {
    "duration": 583,
    "start_time": "2022-01-22T18:38:13.845Z"
   },
   {
    "duration": 672,
    "start_time": "2022-01-22T18:38:20.197Z"
   },
   {
    "duration": 4,
    "start_time": "2022-01-22T18:39:18.703Z"
   },
   {
    "duration": 3,
    "start_time": "2022-01-22T18:39:19.427Z"
   },
   {
    "duration": 4,
    "start_time": "2022-01-22T18:39:19.779Z"
   },
   {
    "duration": 16,
    "start_time": "2022-01-22T18:39:21.492Z"
   },
   {
    "duration": 313,
    "start_time": "2022-01-22T18:40:11.130Z"
   },
   {
    "duration": 2,
    "start_time": "2022-01-22T18:40:18.723Z"
   },
   {
    "duration": 138,
    "start_time": "2022-01-22T18:40:18.785Z"
   },
   {
    "duration": 10,
    "start_time": "2022-01-22T18:40:18.925Z"
   },
   {
    "duration": 35,
    "start_time": "2022-01-22T18:40:18.938Z"
   },
   {
    "duration": 17,
    "start_time": "2022-01-22T18:40:18.975Z"
   },
   {
    "duration": 22,
    "start_time": "2022-01-22T18:40:18.994Z"
   },
   {
    "duration": 3,
    "start_time": "2022-01-22T18:40:19.018Z"
   },
   {
    "duration": 53,
    "start_time": "2022-01-22T18:40:19.023Z"
   },
   {
    "duration": 18,
    "start_time": "2022-01-22T18:40:19.078Z"
   },
   {
    "duration": 22,
    "start_time": "2022-01-22T18:40:19.099Z"
   },
   {
    "duration": 76,
    "start_time": "2022-01-22T18:40:19.124Z"
   },
   {
    "duration": 58,
    "start_time": "2022-01-22T18:40:19.202Z"
   },
   {
    "duration": 50,
    "start_time": "2022-01-22T18:40:19.272Z"
   },
   {
    "duration": 56,
    "start_time": "2022-01-22T18:40:19.323Z"
   },
   {
    "duration": 3,
    "start_time": "2022-01-22T18:40:19.380Z"
   },
   {
    "duration": 11,
    "start_time": "2022-01-22T18:40:19.385Z"
   },
   {
    "duration": 37,
    "start_time": "2022-01-22T18:40:19.398Z"
   },
   {
    "duration": 51,
    "start_time": "2022-01-22T18:40:19.437Z"
   },
   {
    "duration": 30,
    "start_time": "2022-01-22T18:40:19.490Z"
   },
   {
    "duration": 3,
    "start_time": "2022-01-22T18:40:19.522Z"
   },
   {
    "duration": 36,
    "start_time": "2022-01-22T18:40:19.527Z"
   },
   {
    "duration": 26,
    "start_time": "2022-01-22T18:40:19.564Z"
   },
   {
    "duration": 26,
    "start_time": "2022-01-22T18:40:19.591Z"
   },
   {
    "duration": 36,
    "start_time": "2022-01-22T18:40:19.618Z"
   },
   {
    "duration": 25,
    "start_time": "2022-01-22T18:40:19.655Z"
   },
   {
    "duration": 13,
    "start_time": "2022-01-22T18:40:19.682Z"
   },
   {
    "duration": 84,
    "start_time": "2022-01-22T18:40:19.697Z"
   },
   {
    "duration": 30,
    "start_time": "2022-01-22T18:40:19.785Z"
   },
   {
    "duration": 13,
    "start_time": "2022-01-22T18:40:19.817Z"
   },
   {
    "duration": 13,
    "start_time": "2022-01-22T18:40:19.831Z"
   },
   {
    "duration": 37,
    "start_time": "2022-01-22T18:40:19.845Z"
   },
   {
    "duration": 17,
    "start_time": "2022-01-22T18:40:19.884Z"
   },
   {
    "duration": 6,
    "start_time": "2022-01-22T18:40:19.902Z"
   },
   {
    "duration": 18,
    "start_time": "2022-01-22T18:40:19.909Z"
   },
   {
    "duration": 12,
    "start_time": "2022-01-22T18:40:19.929Z"
   },
   {
    "duration": 14,
    "start_time": "2022-01-22T18:40:19.942Z"
   },
   {
    "duration": 15,
    "start_time": "2022-01-22T18:40:19.957Z"
   },
   {
    "duration": 13,
    "start_time": "2022-01-22T18:40:19.974Z"
   },
   {
    "duration": 16,
    "start_time": "2022-01-22T18:41:02.232Z"
   },
   {
    "duration": 13,
    "start_time": "2022-01-22T18:41:40.118Z"
   },
   {
    "duration": 7576,
    "start_time": "2022-01-22T18:44:28.426Z"
   },
   {
    "duration": 3,
    "start_time": "2022-01-22T18:44:39.614Z"
   },
   {
    "duration": 131,
    "start_time": "2022-01-22T18:44:39.618Z"
   },
   {
    "duration": 20,
    "start_time": "2022-01-22T18:44:39.752Z"
   },
   {
    "duration": 24,
    "start_time": "2022-01-22T18:44:39.774Z"
   },
   {
    "duration": 4,
    "start_time": "2022-01-22T18:44:39.799Z"
   },
   {
    "duration": 20,
    "start_time": "2022-01-22T18:44:39.805Z"
   },
   {
    "duration": 4,
    "start_time": "2022-01-22T18:44:39.826Z"
   },
   {
    "duration": 68,
    "start_time": "2022-01-22T18:44:39.831Z"
   },
   {
    "duration": 14,
    "start_time": "2022-01-22T18:44:39.901Z"
   },
   {
    "duration": 21,
    "start_time": "2022-01-22T18:44:39.917Z"
   },
   {
    "duration": 71,
    "start_time": "2022-01-22T18:44:39.939Z"
   },
   {
    "duration": 65,
    "start_time": "2022-01-22T18:44:40.011Z"
   },
   {
    "duration": 48,
    "start_time": "2022-01-22T18:44:40.078Z"
   },
   {
    "duration": 50,
    "start_time": "2022-01-22T18:44:40.128Z"
   },
   {
    "duration": 3,
    "start_time": "2022-01-22T18:44:40.179Z"
   },
   {
    "duration": 12,
    "start_time": "2022-01-22T18:44:40.183Z"
   },
   {
    "duration": 38,
    "start_time": "2022-01-22T18:44:40.196Z"
   },
   {
    "duration": 51,
    "start_time": "2022-01-22T18:44:40.235Z"
   },
   {
    "duration": 31,
    "start_time": "2022-01-22T18:44:40.287Z"
   },
   {
    "duration": 4,
    "start_time": "2022-01-22T18:44:40.319Z"
   },
   {
    "duration": 19,
    "start_time": "2022-01-22T18:44:40.325Z"
   },
   {
    "duration": 34,
    "start_time": "2022-01-22T18:44:40.345Z"
   },
   {
    "duration": 14,
    "start_time": "2022-01-22T18:44:40.381Z"
   },
   {
    "duration": 12,
    "start_time": "2022-01-22T18:44:40.397Z"
   },
   {
    "duration": 15,
    "start_time": "2022-01-22T18:44:40.411Z"
   },
   {
    "duration": 12,
    "start_time": "2022-01-22T18:44:40.428Z"
   },
   {
    "duration": 8,
    "start_time": "2022-01-22T18:44:40.473Z"
   },
   {
    "duration": 10,
    "start_time": "2022-01-22T18:44:40.483Z"
   },
   {
    "duration": 10,
    "start_time": "2022-01-22T18:44:40.495Z"
   },
   {
    "duration": 4,
    "start_time": "2022-01-22T18:44:40.506Z"
   },
   {
    "duration": 27,
    "start_time": "2022-01-22T18:44:40.511Z"
   },
   {
    "duration": 33,
    "start_time": "2022-01-22T18:44:40.539Z"
   },
   {
    "duration": 15,
    "start_time": "2022-01-22T18:44:40.574Z"
   },
   {
    "duration": 12,
    "start_time": "2022-01-22T18:44:40.591Z"
   },
   {
    "duration": 8312,
    "start_time": "2022-01-22T18:44:40.605Z"
   },
   {
    "duration": 156,
    "start_time": "2022-01-22T18:44:48.762Z"
   },
   {
    "duration": 149,
    "start_time": "2022-01-22T18:44:48.770Z"
   },
   {
    "duration": 143,
    "start_time": "2022-01-22T18:44:48.777Z"
   },
   {
    "duration": 7857,
    "start_time": "2022-01-22T18:45:24.224Z"
   },
   {
    "duration": 8672,
    "start_time": "2022-01-22T18:45:58.562Z"
   },
   {
    "duration": 3873,
    "start_time": "2022-01-22T18:47:14.734Z"
   },
   {
    "duration": 5,
    "start_time": "2022-01-22T18:47:34.630Z"
   },
   {
    "duration": 299,
    "start_time": "2022-01-22T18:48:18.061Z"
   },
   {
    "duration": 311,
    "start_time": "2022-01-22T18:48:41.146Z"
   },
   {
    "duration": 345,
    "start_time": "2022-01-22T18:49:15.041Z"
   },
   {
    "duration": 6,
    "start_time": "2022-01-22T18:49:34.517Z"
   },
   {
    "duration": 32,
    "start_time": "2022-01-22T18:50:16.188Z"
   },
   {
    "duration": 323,
    "start_time": "2022-01-22T18:50:27.717Z"
   },
   {
    "duration": 28,
    "start_time": "2022-01-22T18:50:53.793Z"
   },
   {
    "duration": 296,
    "start_time": "2022-01-22T18:52:02.814Z"
   },
   {
    "duration": 6,
    "start_time": "2022-01-22T18:52:09.388Z"
   },
   {
    "duration": 3955,
    "start_time": "2022-01-22T18:52:36.678Z"
   },
   {
    "duration": 8,
    "start_time": "2022-01-22T18:52:46.684Z"
   },
   {
    "duration": 290,
    "start_time": "2022-01-22T18:53:08.089Z"
   },
   {
    "duration": 6,
    "start_time": "2022-01-22T18:53:20.513Z"
   },
   {
    "duration": 318,
    "start_time": "2022-01-22T18:53:38.762Z"
   },
   {
    "duration": 107,
    "start_time": "2022-01-22T18:53:56.801Z"
   },
   {
    "duration": 99,
    "start_time": "2022-01-22T18:54:05.713Z"
   },
   {
    "duration": 29,
    "start_time": "2022-01-22T18:54:50.274Z"
   },
   {
    "duration": 10,
    "start_time": "2022-01-22T18:55:10.703Z"
   },
   {
    "duration": 103,
    "start_time": "2022-01-22T18:55:23.196Z"
   },
   {
    "duration": 313,
    "start_time": "2022-01-22T18:55:28.565Z"
   },
   {
    "duration": 13,
    "start_time": "2022-01-22T18:55:38.317Z"
   },
   {
    "duration": 344,
    "start_time": "2022-01-22T18:55:58.399Z"
   },
   {
    "duration": 10,
    "start_time": "2022-01-22T18:56:05.780Z"
   },
   {
    "duration": 10,
    "start_time": "2022-01-22T18:56:21.054Z"
   },
   {
    "duration": 13,
    "start_time": "2022-01-22T18:56:28.477Z"
   },
   {
    "duration": 11,
    "start_time": "2022-01-22T18:57:03.270Z"
   },
   {
    "duration": 5,
    "start_time": "2022-01-22T18:57:30.522Z"
   },
   {
    "duration": 6,
    "start_time": "2022-01-22T18:58:35.555Z"
   },
   {
    "duration": 5,
    "start_time": "2022-01-22T18:58:49.716Z"
   },
   {
    "duration": 2,
    "start_time": "2022-01-22T19:03:33.809Z"
   },
   {
    "duration": 137,
    "start_time": "2022-01-22T19:03:33.813Z"
   },
   {
    "duration": 22,
    "start_time": "2022-01-22T19:03:33.952Z"
   },
   {
    "duration": 26,
    "start_time": "2022-01-22T19:03:33.977Z"
   },
   {
    "duration": 4,
    "start_time": "2022-01-22T19:03:34.005Z"
   },
   {
    "duration": 17,
    "start_time": "2022-01-22T19:03:34.011Z"
   },
   {
    "duration": 5,
    "start_time": "2022-01-22T19:03:34.030Z"
   },
   {
    "duration": 44,
    "start_time": "2022-01-22T19:03:34.127Z"
   },
   {
    "duration": 15,
    "start_time": "2022-01-22T19:03:34.172Z"
   },
   {
    "duration": 25,
    "start_time": "2022-01-22T19:03:34.189Z"
   },
   {
    "duration": 70,
    "start_time": "2022-01-22T19:03:34.216Z"
   },
   {
    "duration": 61,
    "start_time": "2022-01-22T19:03:34.287Z"
   },
   {
    "duration": 49,
    "start_time": "2022-01-22T19:03:34.575Z"
   },
   {
    "duration": 51,
    "start_time": "2022-01-22T19:03:34.626Z"
   },
   {
    "duration": 3,
    "start_time": "2022-01-22T19:03:35.230Z"
   },
   {
    "duration": 14,
    "start_time": "2022-01-22T19:03:35.234Z"
   },
   {
    "duration": 43,
    "start_time": "2022-01-22T19:03:35.250Z"
   },
   {
    "duration": 37,
    "start_time": "2022-01-22T19:03:35.296Z"
   },
   {
    "duration": 53,
    "start_time": "2022-01-22T19:03:35.335Z"
   },
   {
    "duration": 3,
    "start_time": "2022-01-22T19:03:35.390Z"
   },
   {
    "duration": 18,
    "start_time": "2022-01-22T19:03:35.394Z"
   },
   {
    "duration": 16,
    "start_time": "2022-01-22T19:03:36.295Z"
   },
   {
    "duration": 22,
    "start_time": "2022-01-22T19:03:36.313Z"
   },
   {
    "duration": 20,
    "start_time": "2022-01-22T19:03:36.337Z"
   },
   {
    "duration": 25,
    "start_time": "2022-01-22T19:03:36.359Z"
   },
   {
    "duration": 14,
    "start_time": "2022-01-22T19:03:36.386Z"
   },
   {
    "duration": 7,
    "start_time": "2022-01-22T19:03:36.401Z"
   },
   {
    "duration": 16,
    "start_time": "2022-01-22T19:03:36.410Z"
   },
   {
    "duration": 45,
    "start_time": "2022-01-22T19:03:36.427Z"
   },
   {
    "duration": 4,
    "start_time": "2022-01-22T19:03:36.474Z"
   },
   {
    "duration": 20,
    "start_time": "2022-01-22T19:03:36.481Z"
   },
   {
    "duration": 13,
    "start_time": "2022-01-22T19:03:36.503Z"
   },
   {
    "duration": 16,
    "start_time": "2022-01-22T19:03:36.517Z"
   },
   {
    "duration": 41,
    "start_time": "2022-01-22T19:03:36.535Z"
   },
   {
    "duration": 8,
    "start_time": "2022-01-22T19:03:36.577Z"
   },
   {
    "duration": 5,
    "start_time": "2022-01-22T19:03:36.587Z"
   },
   {
    "duration": 6,
    "start_time": "2022-01-22T19:03:36.889Z"
   },
   {
    "duration": 5,
    "start_time": "2022-01-22T19:03:36.897Z"
   },
   {
    "duration": 589,
    "start_time": "2022-01-28T14:29:38.882Z"
   },
   {
    "duration": 144,
    "start_time": "2022-01-28T14:29:39.473Z"
   },
   {
    "duration": 16,
    "start_time": "2022-01-28T14:29:39.619Z"
   },
   {
    "duration": 29,
    "start_time": "2022-01-28T14:29:39.637Z"
   },
   {
    "duration": 4,
    "start_time": "2022-01-28T14:29:39.668Z"
   },
   {
    "duration": 26,
    "start_time": "2022-01-28T14:29:39.697Z"
   },
   {
    "duration": 11,
    "start_time": "2022-01-28T14:29:39.724Z"
   },
   {
    "duration": 60,
    "start_time": "2022-01-28T14:29:39.738Z"
   },
   {
    "duration": 18,
    "start_time": "2022-01-28T14:29:39.800Z"
   },
   {
    "duration": 23,
    "start_time": "2022-01-28T14:29:39.819Z"
   },
   {
    "duration": 82,
    "start_time": "2022-01-28T14:29:39.844Z"
   },
   {
    "duration": 73,
    "start_time": "2022-01-28T14:29:39.928Z"
   },
   {
    "duration": 57,
    "start_time": "2022-01-28T14:29:40.003Z"
   },
   {
    "duration": 52,
    "start_time": "2022-01-28T14:29:40.061Z"
   },
   {
    "duration": 7,
    "start_time": "2022-01-28T14:29:40.114Z"
   },
   {
    "duration": 25,
    "start_time": "2022-01-28T14:29:40.122Z"
   },
   {
    "duration": 39,
    "start_time": "2022-01-28T14:29:40.149Z"
   },
   {
    "duration": 41,
    "start_time": "2022-01-28T14:29:40.190Z"
   },
   {
    "duration": 31,
    "start_time": "2022-01-28T14:29:40.233Z"
   },
   {
    "duration": 3,
    "start_time": "2022-01-28T14:29:40.265Z"
   },
   {
    "duration": 40,
    "start_time": "2022-01-28T14:29:40.270Z"
   },
   {
    "duration": 17,
    "start_time": "2022-01-28T14:29:40.313Z"
   },
   {
    "duration": 15,
    "start_time": "2022-01-28T14:29:40.334Z"
   },
   {
    "duration": 27,
    "start_time": "2022-01-28T14:29:40.351Z"
   },
   {
    "duration": 32,
    "start_time": "2022-01-28T14:29:40.380Z"
   },
   {
    "duration": 19,
    "start_time": "2022-01-28T14:29:40.414Z"
   },
   {
    "duration": 18,
    "start_time": "2022-01-28T14:29:40.435Z"
   },
   {
    "duration": 24,
    "start_time": "2022-01-28T14:29:40.454Z"
   },
   {
    "duration": 11,
    "start_time": "2022-01-28T14:29:40.480Z"
   },
   {
    "duration": 5,
    "start_time": "2022-01-28T14:29:40.497Z"
   },
   {
    "duration": 31,
    "start_time": "2022-01-28T14:29:40.503Z"
   },
   {
    "duration": 15,
    "start_time": "2022-01-28T14:29:40.536Z"
   },
   {
    "duration": 17,
    "start_time": "2022-01-28T14:29:40.552Z"
   },
   {
    "duration": 30,
    "start_time": "2022-01-28T14:29:40.570Z"
   },
   {
    "duration": 8,
    "start_time": "2022-01-28T14:29:40.601Z"
   },
   {
    "duration": 4,
    "start_time": "2022-01-28T14:29:40.610Z"
   },
   {
    "duration": 13,
    "start_time": "2022-01-28T14:29:40.615Z"
   },
   {
    "duration": 8,
    "start_time": "2022-01-28T14:29:40.630Z"
   },
   {
    "duration": 670,
    "start_time": "2022-02-04T21:59:12.077Z"
   },
   {
    "duration": 147,
    "start_time": "2022-02-04T21:59:12.749Z"
   },
   {
    "duration": 20,
    "start_time": "2022-02-04T21:59:12.898Z"
   },
   {
    "duration": 32,
    "start_time": "2022-02-04T21:59:12.920Z"
   },
   {
    "duration": 18,
    "start_time": "2022-02-04T21:59:12.954Z"
   },
   {
    "duration": 35,
    "start_time": "2022-02-04T21:59:12.974Z"
   },
   {
    "duration": 14,
    "start_time": "2022-02-04T21:59:13.011Z"
   },
   {
    "duration": 291,
    "start_time": "2022-02-04T21:59:13.029Z"
   },
   {
    "duration": -1603,
    "start_time": "2022-02-04T21:59:14.927Z"
   },
   {
    "duration": -1607,
    "start_time": "2022-02-04T21:59:14.932Z"
   },
   {
    "duration": -1610,
    "start_time": "2022-02-04T21:59:14.936Z"
   },
   {
    "duration": -1614,
    "start_time": "2022-02-04T21:59:14.942Z"
   },
   {
    "duration": -1618,
    "start_time": "2022-02-04T21:59:14.948Z"
   },
   {
    "duration": -1623,
    "start_time": "2022-02-04T21:59:14.954Z"
   },
   {
    "duration": -1627,
    "start_time": "2022-02-04T21:59:14.960Z"
   },
   {
    "duration": -1643,
    "start_time": "2022-02-04T21:59:14.978Z"
   },
   {
    "duration": -1649,
    "start_time": "2022-02-04T21:59:14.985Z"
   },
   {
    "duration": -1653,
    "start_time": "2022-02-04T21:59:14.991Z"
   },
   {
    "duration": -1657,
    "start_time": "2022-02-04T21:59:14.996Z"
   },
   {
    "duration": -1663,
    "start_time": "2022-02-04T21:59:15.004Z"
   },
   {
    "duration": -1668,
    "start_time": "2022-02-04T21:59:15.010Z"
   },
   {
    "duration": -1673,
    "start_time": "2022-02-04T21:59:15.017Z"
   },
   {
    "duration": -1678,
    "start_time": "2022-02-04T21:59:15.023Z"
   },
   {
    "duration": -1684,
    "start_time": "2022-02-04T21:59:15.031Z"
   },
   {
    "duration": -1689,
    "start_time": "2022-02-04T21:59:15.037Z"
   },
   {
    "duration": -1697,
    "start_time": "2022-02-04T21:59:15.046Z"
   },
   {
    "duration": -1703,
    "start_time": "2022-02-04T21:59:15.053Z"
   },
   {
    "duration": -1709,
    "start_time": "2022-02-04T21:59:15.060Z"
   },
   {
    "duration": -1715,
    "start_time": "2022-02-04T21:59:15.067Z"
   },
   {
    "duration": -1739,
    "start_time": "2022-02-04T21:59:15.092Z"
   },
   {
    "duration": -1746,
    "start_time": "2022-02-04T21:59:15.100Z"
   },
   {
    "duration": -1752,
    "start_time": "2022-02-04T21:59:15.107Z"
   },
   {
    "duration": -1759,
    "start_time": "2022-02-04T21:59:15.114Z"
   },
   {
    "duration": -1769,
    "start_time": "2022-02-04T21:59:15.125Z"
   },
   {
    "duration": -1776,
    "start_time": "2022-02-04T21:59:15.133Z"
   },
   {
    "duration": -1783,
    "start_time": "2022-02-04T21:59:15.141Z"
   },
   {
    "duration": -1790,
    "start_time": "2022-02-04T21:59:15.149Z"
   },
   {
    "duration": -1798,
    "start_time": "2022-02-04T21:59:15.157Z"
   },
   {
    "duration": 3,
    "start_time": "2022-02-04T21:59:48.959Z"
   },
   {
    "duration": 172,
    "start_time": "2022-02-04T21:59:48.966Z"
   },
   {
    "duration": 12,
    "start_time": "2022-02-04T21:59:49.140Z"
   },
   {
    "duration": 56,
    "start_time": "2022-02-04T21:59:49.154Z"
   },
   {
    "duration": 4,
    "start_time": "2022-02-04T21:59:49.212Z"
   },
   {
    "duration": 25,
    "start_time": "2022-02-04T21:59:49.218Z"
   },
   {
    "duration": 4,
    "start_time": "2022-02-04T21:59:49.245Z"
   },
   {
    "duration": 80,
    "start_time": "2022-02-04T21:59:49.251Z"
   },
   {
    "duration": 19,
    "start_time": "2022-02-04T21:59:49.333Z"
   },
   {
    "duration": 25,
    "start_time": "2022-02-04T21:59:49.355Z"
   },
   {
    "duration": 58,
    "start_time": "2022-02-04T21:59:49.399Z"
   },
   {
    "duration": 84,
    "start_time": "2022-02-04T21:59:49.459Z"
   },
   {
    "duration": 57,
    "start_time": "2022-02-04T21:59:49.545Z"
   },
   {
    "duration": 44,
    "start_time": "2022-02-04T21:59:49.604Z"
   },
   {
    "duration": 3,
    "start_time": "2022-02-04T21:59:49.650Z"
   },
   {
    "duration": 15,
    "start_time": "2022-02-04T21:59:49.654Z"
   },
   {
    "duration": 62,
    "start_time": "2022-02-04T21:59:49.671Z"
   },
   {
    "duration": 34,
    "start_time": "2022-02-04T21:59:49.735Z"
   },
   {
    "duration": 55,
    "start_time": "2022-02-04T21:59:49.771Z"
   },
   {
    "duration": 3,
    "start_time": "2022-02-04T21:59:49.828Z"
   },
   {
    "duration": 22,
    "start_time": "2022-02-04T21:59:49.833Z"
   },
   {
    "duration": 15,
    "start_time": "2022-02-04T21:59:49.857Z"
   },
   {
    "duration": 37,
    "start_time": "2022-02-04T21:59:49.874Z"
   },
   {
    "duration": 15,
    "start_time": "2022-02-04T21:59:49.915Z"
   },
   {
    "duration": 17,
    "start_time": "2022-02-04T21:59:49.932Z"
   },
   {
    "duration": 15,
    "start_time": "2022-02-04T21:59:49.951Z"
   },
   {
    "duration": 9,
    "start_time": "2022-02-04T21:59:50.000Z"
   },
   {
    "duration": 14,
    "start_time": "2022-02-04T21:59:50.011Z"
   },
   {
    "duration": 10,
    "start_time": "2022-02-04T21:59:50.027Z"
   },
   {
    "duration": 12,
    "start_time": "2022-02-04T21:59:50.039Z"
   },
   {
    "duration": 45,
    "start_time": "2022-02-04T21:59:50.053Z"
   },
   {
    "duration": 15,
    "start_time": "2022-02-04T21:59:50.101Z"
   },
   {
    "duration": 19,
    "start_time": "2022-02-04T21:59:50.118Z"
   },
   {
    "duration": 24,
    "start_time": "2022-02-04T21:59:50.139Z"
   },
   {
    "duration": 34,
    "start_time": "2022-02-04T21:59:50.165Z"
   },
   {
    "duration": 10,
    "start_time": "2022-02-04T21:59:50.201Z"
   },
   {
    "duration": 41,
    "start_time": "2022-02-04T21:59:50.213Z"
   },
   {
    "duration": 11,
    "start_time": "2022-02-04T21:59:50.256Z"
   },
   {
    "duration": 87,
    "start_time": "2022-02-04T22:01:44.073Z"
   },
   {
    "duration": 96,
    "start_time": "2022-02-04T22:11:25.104Z"
   },
   {
    "duration": 3,
    "start_time": "2022-02-04T22:11:29.467Z"
   },
   {
    "duration": 190,
    "start_time": "2022-02-04T22:11:29.472Z"
   },
   {
    "duration": 12,
    "start_time": "2022-02-04T22:11:29.665Z"
   },
   {
    "duration": 29,
    "start_time": "2022-02-04T22:11:29.699Z"
   },
   {
    "duration": 5,
    "start_time": "2022-02-04T22:11:29.730Z"
   },
   {
    "duration": 21,
    "start_time": "2022-02-04T22:11:29.737Z"
   },
   {
    "duration": 39,
    "start_time": "2022-02-04T22:11:29.760Z"
   },
   {
    "duration": 48,
    "start_time": "2022-02-04T22:11:29.803Z"
   },
   {
    "duration": 18,
    "start_time": "2022-02-04T22:11:29.853Z"
   },
   {
    "duration": 48,
    "start_time": "2022-02-04T22:11:29.873Z"
   },
   {
    "duration": 62,
    "start_time": "2022-02-04T22:11:29.923Z"
   },
   {
    "duration": 77,
    "start_time": "2022-02-04T22:11:29.999Z"
   },
   {
    "duration": 72,
    "start_time": "2022-02-04T22:11:30.078Z"
   },
   {
    "duration": 52,
    "start_time": "2022-02-04T22:11:30.151Z"
   },
   {
    "duration": 3,
    "start_time": "2022-02-04T22:11:30.205Z"
   },
   {
    "duration": 26,
    "start_time": "2022-02-04T22:11:30.210Z"
   },
   {
    "duration": 49,
    "start_time": "2022-02-04T22:11:30.238Z"
   },
   {
    "duration": 148,
    "start_time": "2022-02-04T22:11:30.289Z"
   },
   {
    "duration": -1638,
    "start_time": "2022-02-04T22:11:32.078Z"
   },
   {
    "duration": -1643,
    "start_time": "2022-02-04T22:11:32.084Z"
   },
   {
    "duration": -1655,
    "start_time": "2022-02-04T22:11:32.097Z"
   },
   {
    "duration": -1658,
    "start_time": "2022-02-04T22:11:32.101Z"
   },
   {
    "duration": -1664,
    "start_time": "2022-02-04T22:11:32.108Z"
   },
   {
    "duration": -1689,
    "start_time": "2022-02-04T22:11:32.134Z"
   },
   {
    "duration": -1703,
    "start_time": "2022-02-04T22:11:32.149Z"
   },
   {
    "duration": -1708,
    "start_time": "2022-02-04T22:11:32.155Z"
   },
   {
    "duration": -1718,
    "start_time": "2022-02-04T22:11:32.166Z"
   },
   {
    "duration": -1722,
    "start_time": "2022-02-04T22:11:32.171Z"
   },
   {
    "duration": -1738,
    "start_time": "2022-02-04T22:11:32.188Z"
   },
   {
    "duration": -1749,
    "start_time": "2022-02-04T22:11:32.201Z"
   },
   {
    "duration": -1764,
    "start_time": "2022-02-04T22:11:32.217Z"
   },
   {
    "duration": -1769,
    "start_time": "2022-02-04T22:11:32.223Z"
   },
   {
    "duration": -1780,
    "start_time": "2022-02-04T22:11:32.235Z"
   },
   {
    "duration": -1793,
    "start_time": "2022-02-04T22:11:32.249Z"
   },
   {
    "duration": -1798,
    "start_time": "2022-02-04T22:11:32.255Z"
   },
   {
    "duration": -1811,
    "start_time": "2022-02-04T22:11:32.270Z"
   },
   {
    "duration": -1823,
    "start_time": "2022-02-04T22:11:32.283Z"
   },
   {
    "duration": -1829,
    "start_time": "2022-02-04T22:11:32.290Z"
   },
   {
    "duration": 36,
    "start_time": "2022-02-04T22:11:40.809Z"
   },
   {
    "duration": 272,
    "start_time": "2022-02-04T22:12:08.137Z"
   },
   {
    "duration": 35,
    "start_time": "2022-02-04T22:12:17.391Z"
   },
   {
    "duration": 88,
    "start_time": "2022-02-04T22:13:34.667Z"
   },
   {
    "duration": 104,
    "start_time": "2022-02-04T22:13:40.911Z"
   },
   {
    "duration": 88,
    "start_time": "2022-02-04T22:13:42.186Z"
   },
   {
    "duration": 13,
    "start_time": "2022-02-04T22:13:50.149Z"
   },
   {
    "duration": 34,
    "start_time": "2022-02-04T22:14:08.647Z"
   },
   {
    "duration": 12,
    "start_time": "2022-02-04T22:14:24.182Z"
   },
   {
    "duration": 90,
    "start_time": "2022-02-04T22:14:52.496Z"
   },
   {
    "duration": 97,
    "start_time": "2022-02-04T22:14:57.653Z"
   },
   {
    "duration": 91,
    "start_time": "2022-02-04T22:17:34.382Z"
   },
   {
    "duration": 89,
    "start_time": "2022-02-04T22:17:40.971Z"
   },
   {
    "duration": 43,
    "start_time": "2022-08-18T22:47:29.985Z"
   },
   {
    "duration": 981,
    "start_time": "2023-08-06T18:12:00.171Z"
   },
   {
    "duration": 284,
    "start_time": "2023-08-06T18:12:01.154Z"
   },
   {
    "duration": 25,
    "start_time": "2023-08-06T18:12:01.440Z"
   },
   {
    "duration": 134,
    "start_time": "2023-08-06T18:12:01.467Z"
   },
   {
    "duration": 134,
    "start_time": "2023-08-06T18:12:01.604Z"
   },
   {
    "duration": 166,
    "start_time": "2023-08-06T18:12:01.740Z"
   },
   {
    "duration": 125,
    "start_time": "2023-08-06T18:12:01.911Z"
   },
   {
    "duration": 135,
    "start_time": "2023-08-06T18:12:02.038Z"
   },
   {
    "duration": 30,
    "start_time": "2023-08-06T18:12:02.175Z"
   },
   {
    "duration": 66,
    "start_time": "2023-08-06T18:12:02.211Z"
   },
   {
    "duration": 144,
    "start_time": "2023-08-06T18:12:02.280Z"
   },
   {
    "duration": 121,
    "start_time": "2023-08-06T18:12:02.426Z"
   },
   {
    "duration": 106,
    "start_time": "2023-08-06T18:12:02.550Z"
   },
   {
    "duration": 72,
    "start_time": "2023-08-06T18:12:02.658Z"
   },
   {
    "duration": 7,
    "start_time": "2023-08-06T18:12:02.732Z"
   },
   {
    "duration": 90,
    "start_time": "2023-08-06T18:12:02.741Z"
   },
   {
    "duration": 109,
    "start_time": "2023-08-06T18:12:02.833Z"
   },
   {
    "duration": 17,
    "start_time": "2023-08-06T18:12:02.944Z"
   },
   {
    "duration": 72,
    "start_time": "2023-08-06T18:12:02.963Z"
   },
   {
    "duration": 66,
    "start_time": "2023-08-06T18:12:03.037Z"
   },
   {
    "duration": 73,
    "start_time": "2023-08-06T18:12:03.106Z"
   },
   {
    "duration": 92,
    "start_time": "2023-08-06T18:12:03.181Z"
   },
   {
    "duration": 89,
    "start_time": "2023-08-06T18:12:03.274Z"
   },
   {
    "duration": 120,
    "start_time": "2023-08-06T18:12:03.365Z"
   },
   {
    "duration": 60,
    "start_time": "2023-08-06T18:12:03.489Z"
   },
   {
    "duration": 60,
    "start_time": "2023-08-06T18:12:03.551Z"
   },
   {
    "duration": 52,
    "start_time": "2023-08-06T18:12:03.613Z"
   },
   {
    "duration": 72,
    "start_time": "2023-08-06T18:12:03.669Z"
   },
   {
    "duration": 64,
    "start_time": "2023-08-06T18:12:03.744Z"
   },
   {
    "duration": 47,
    "start_time": "2023-08-06T18:12:03.810Z"
   },
   {
    "duration": 77,
    "start_time": "2023-08-06T18:12:03.858Z"
   },
   {
    "duration": 73,
    "start_time": "2023-08-06T18:12:03.937Z"
   },
   {
    "duration": 29,
    "start_time": "2023-08-06T18:12:04.012Z"
   },
   {
    "duration": 66,
    "start_time": "2023-08-06T18:12:04.043Z"
   },
   {
    "duration": 51,
    "start_time": "2023-08-06T18:12:04.112Z"
   },
   {
    "duration": 42,
    "start_time": "2023-08-06T18:12:04.168Z"
   },
   {
    "duration": 41,
    "start_time": "2023-08-06T18:12:04.212Z"
   },
   {
    "duration": 25,
    "start_time": "2023-08-06T18:12:04.255Z"
   },
   {
    "duration": 12,
    "start_time": "2023-08-06T18:13:37.045Z"
   },
   {
    "duration": 550,
    "start_time": "2023-08-06T18:13:43.777Z"
   },
   {
    "duration": 181,
    "start_time": "2023-08-06T18:13:44.329Z"
   },
   {
    "duration": 25,
    "start_time": "2023-08-06T18:13:44.511Z"
   },
   {
    "duration": 35,
    "start_time": "2023-08-06T18:13:44.538Z"
   },
   {
    "duration": 27,
    "start_time": "2023-08-06T18:13:44.574Z"
   },
   {
    "duration": 10,
    "start_time": "2023-08-06T18:13:44.603Z"
   },
   {
    "duration": 7,
    "start_time": "2023-08-06T18:13:44.615Z"
   },
   {
    "duration": 55,
    "start_time": "2023-08-06T18:13:44.624Z"
   },
   {
    "duration": 26,
    "start_time": "2023-08-06T18:13:44.694Z"
   },
   {
    "duration": 25,
    "start_time": "2023-08-06T18:13:44.722Z"
   },
   {
    "duration": 102,
    "start_time": "2023-08-06T18:13:44.749Z"
   },
   {
    "duration": 96,
    "start_time": "2023-08-06T18:13:44.853Z"
   },
   {
    "duration": 80,
    "start_time": "2023-08-06T18:13:44.953Z"
   },
   {
    "duration": 53,
    "start_time": "2023-08-06T18:13:45.035Z"
   },
   {
    "duration": 10,
    "start_time": "2023-08-06T18:13:45.089Z"
   },
   {
    "duration": 19,
    "start_time": "2023-08-06T18:13:45.100Z"
   },
   {
    "duration": 60,
    "start_time": "2023-08-06T18:13:45.121Z"
   },
   {
    "duration": 28,
    "start_time": "2023-08-06T18:13:45.183Z"
   },
   {
    "duration": 15,
    "start_time": "2023-08-06T18:13:45.214Z"
   },
   {
    "duration": 5,
    "start_time": "2023-08-06T18:13:45.231Z"
   },
   {
    "duration": 28,
    "start_time": "2023-08-06T18:13:45.237Z"
   },
   {
    "duration": 34,
    "start_time": "2023-08-06T18:13:45.267Z"
   },
   {
    "duration": 24,
    "start_time": "2023-08-06T18:13:45.303Z"
   },
   {
    "duration": 24,
    "start_time": "2023-08-06T18:13:45.328Z"
   },
   {
    "duration": 14,
    "start_time": "2023-08-06T18:13:45.354Z"
   },
   {
    "duration": 22,
    "start_time": "2023-08-06T18:13:45.371Z"
   },
   {
    "duration": 9,
    "start_time": "2023-08-06T18:13:45.408Z"
   },
   {
    "duration": 19,
    "start_time": "2023-08-06T18:13:45.421Z"
   },
   {
    "duration": 12,
    "start_time": "2023-08-06T18:13:45.442Z"
   },
   {
    "duration": 7,
    "start_time": "2023-08-06T18:13:45.456Z"
   },
   {
    "duration": 38,
    "start_time": "2023-08-06T18:13:45.464Z"
   },
   {
    "duration": 14,
    "start_time": "2023-08-06T18:13:45.503Z"
   },
   {
    "duration": 19,
    "start_time": "2023-08-06T18:13:45.518Z"
   },
   {
    "duration": 9,
    "start_time": "2023-08-06T18:13:45.539Z"
   },
   {
    "duration": 16,
    "start_time": "2023-08-06T18:13:45.550Z"
   },
   {
    "duration": 8,
    "start_time": "2023-08-06T18:13:45.567Z"
   },
   {
    "duration": 15,
    "start_time": "2023-08-06T18:13:45.591Z"
   },
   {
    "duration": 7,
    "start_time": "2023-08-06T18:13:45.607Z"
   }
  ],
  "colab": {
   "collapsed_sections": [
    "E0vqbgi9ay0H",
    "VUC88oWjTJw2"
   ],
   "name": "yandex_music_project_2021.2.ipynb",
   "provenance": []
  },
  "kernelspec": {
   "display_name": "Python 3 (ipykernel)",
   "language": "python",
   "name": "python3"
  },
  "language_info": {
   "codemirror_mode": {
    "name": "ipython",
    "version": 3
   },
   "file_extension": ".py",
   "mimetype": "text/x-python",
   "name": "python",
   "nbconvert_exporter": "python",
   "pygments_lexer": "ipython3",
   "version": "3.9.5"
  },
  "toc": {
   "base_numbering": 1,
   "nav_menu": {},
   "number_sections": true,
   "sideBar": true,
   "skip_h1_title": true,
   "title_cell": "Table of Contents",
   "title_sidebar": "Contents",
   "toc_cell": false,
   "toc_position": {},
   "toc_section_display": true,
   "toc_window_display": false
  }
 },
 "nbformat": 4,
 "nbformat_minor": 1
}
