{
 "cells": [
  {
   "cell_type": "markdown",
   "id": "GEqQaHzsZ_bA",
   "metadata": {
    "id": "GEqQaHzsZ_bA"
   },
   "source": [
    "# Предсказание стоимости жилья\n"
   ]
  },
  {
   "cell_type": "markdown",
   "id": "53871372",
   "metadata": {
    "id": "53871372"
   },
   "source": [
    "# Подготовка данных"
   ]
  },
  {
   "cell_type": "code",
   "execution_count": 1,
   "id": "df92e3ec",
   "metadata": {
    "id": "df92e3ec"
   },
   "outputs": [],
   "source": [
    "import pandas as pd\n",
    "import numpy as np\n",
    "import pyspark\n",
    "from pyspark.sql import SparkSession\n",
    "from pyspark.sql.types import *\n",
    "import pyspark.sql.functions as F\n",
    "\n",
    "from pyspark.ml.feature import  StringIndexer, VectorAssembler, StandardScaler\n",
    "from pyspark.ml.regression import LinearRegression\n",
    "from pyspark.ml.evaluation import RegressionEvaluator\n",
    "\n",
    "pyspark_version = pyspark.__version__\n",
    "if int(pyspark_version[:1]) == 3:\n",
    "    from pyspark.ml.feature import OneHotEncoder    \n",
    "elif int(pyspark_version[:1]) == 2:\n",
    "    from pyspark.ml.feature import OneHotEncodeEstimator"
   ]
  },
  {
   "cell_type": "code",
   "execution_count": 2,
   "id": "86682e87",
   "metadata": {},
   "outputs": [],
   "source": [
    "#инициализация spark сессии\n",
    "spark = SparkSession.builder \\\n",
    "                    .appName(\"Housing\") \\\n",
    "                    .getOrCreate()"
   ]
  },
  {
   "cell_type": "code",
   "execution_count": 3,
   "id": "7743777b",
   "metadata": {},
   "outputs": [
    {
     "name": "stderr",
     "output_type": "stream",
     "text": [
      "                                                                                \r"
     ]
    }
   ],
   "source": [
    "df_housing = spark.read.csv('/datasets/housing.csv', inferSchema=True, header=True)"
   ]
  },
  {
   "cell_type": "code",
   "execution_count": 4,
   "id": "98fcc7b1",
   "metadata": {
    "scrolled": true
   },
   "outputs": [
    {
     "name": "stdout",
     "output_type": "stream",
     "text": [
      "               column    type\n",
      "0           longitude  double\n",
      "1            latitude  double\n",
      "2  housing_median_age  double\n",
      "3         total_rooms  double\n",
      "4      total_bedrooms  double\n",
      "5          population  double\n",
      "6          households  double\n",
      "7       median_income  double\n",
      "8  median_house_value  double\n",
      "9     ocean_proximity  string\n",
      "+---------+--------+------------------+-----------+--------------+----------+----------+-------------+------------------+---------------+\n",
      "|longitude|latitude|housing_median_age|total_rooms|total_bedrooms|population|households|median_income|median_house_value|ocean_proximity|\n",
      "+---------+--------+------------------+-----------+--------------+----------+----------+-------------+------------------+---------------+\n",
      "|  -122.23|   37.88|              41.0|      880.0|         129.0|     322.0|     126.0|       8.3252|          452600.0|       NEAR BAY|\n",
      "|  -122.22|   37.86|              21.0|     7099.0|        1106.0|    2401.0|    1138.0|       8.3014|          358500.0|       NEAR BAY|\n",
      "|  -122.24|   37.85|              52.0|     1467.0|         190.0|     496.0|     177.0|       7.2574|          352100.0|       NEAR BAY|\n",
      "|  -122.25|   37.85|              52.0|     1274.0|         235.0|     558.0|     219.0|       5.6431|          341300.0|       NEAR BAY|\n",
      "|  -122.25|   37.85|              52.0|     1627.0|         280.0|     565.0|     259.0|       3.8462|          342200.0|       NEAR BAY|\n",
      "|  -122.25|   37.85|              52.0|      919.0|         213.0|     413.0|     193.0|       4.0368|          269700.0|       NEAR BAY|\n",
      "|  -122.25|   37.84|              52.0|     2535.0|         489.0|    1094.0|     514.0|       3.6591|          299200.0|       NEAR BAY|\n",
      "|  -122.25|   37.84|              52.0|     3104.0|         687.0|    1157.0|     647.0|         3.12|          241400.0|       NEAR BAY|\n",
      "|  -122.26|   37.84|              42.0|     2555.0|         665.0|    1206.0|     595.0|       2.0804|          226700.0|       NEAR BAY|\n",
      "|  -122.25|   37.84|              52.0|     3549.0|         707.0|    1551.0|     714.0|       3.6912|          261100.0|       NEAR BAY|\n",
      "+---------+--------+------------------+-----------+--------------+----------+----------+-------------+------------------+---------------+\n",
      "only showing top 10 rows\n",
      "\n"
     ]
    }
   ],
   "source": [
    "# вывод названий колонок \n",
    "print(pd.DataFrame(df_housing.dtypes, columns=['column', 'type']).head(10))\n",
    "\n",
    "# вывод первых 10 строк \n",
    "df_housing.show(10)"
   ]
  },
  {
   "cell_type": "code",
   "execution_count": 5,
   "id": "c5124b23",
   "metadata": {},
   "outputs": [
    {
     "data": {
      "text/html": [
       "<div>\n",
       "<style scoped>\n",
       "    .dataframe tbody tr th:only-of-type {\n",
       "        vertical-align: middle;\n",
       "    }\n",
       "\n",
       "    .dataframe tbody tr th {\n",
       "        vertical-align: top;\n",
       "    }\n",
       "\n",
       "    .dataframe thead th {\n",
       "        text-align: right;\n",
       "    }\n",
       "</style>\n",
       "<table border=\"1\" class=\"dataframe\">\n",
       "  <thead>\n",
       "    <tr style=\"text-align: right;\">\n",
       "      <th></th>\n",
       "      <th>longitude</th>\n",
       "      <th>latitude</th>\n",
       "      <th>housing_median_age</th>\n",
       "      <th>total_rooms</th>\n",
       "      <th>total_bedrooms</th>\n",
       "      <th>population</th>\n",
       "      <th>households</th>\n",
       "      <th>median_income</th>\n",
       "      <th>median_house_value</th>\n",
       "    </tr>\n",
       "  </thead>\n",
       "  <tbody>\n",
       "    <tr>\n",
       "      <th>count</th>\n",
       "      <td>20640.000000</td>\n",
       "      <td>20640.000000</td>\n",
       "      <td>20640.000000</td>\n",
       "      <td>20640.000000</td>\n",
       "      <td>20433.000000</td>\n",
       "      <td>20640.000000</td>\n",
       "      <td>20640.000000</td>\n",
       "      <td>20640.000000</td>\n",
       "      <td>20640.000000</td>\n",
       "    </tr>\n",
       "    <tr>\n",
       "      <th>mean</th>\n",
       "      <td>-119.569704</td>\n",
       "      <td>35.631861</td>\n",
       "      <td>28.639486</td>\n",
       "      <td>2635.763081</td>\n",
       "      <td>537.870553</td>\n",
       "      <td>1425.476744</td>\n",
       "      <td>499.539680</td>\n",
       "      <td>3.870671</td>\n",
       "      <td>206855.816909</td>\n",
       "    </tr>\n",
       "    <tr>\n",
       "      <th>std</th>\n",
       "      <td>2.003532</td>\n",
       "      <td>2.135952</td>\n",
       "      <td>12.585558</td>\n",
       "      <td>2181.615252</td>\n",
       "      <td>421.385070</td>\n",
       "      <td>1132.462122</td>\n",
       "      <td>382.329753</td>\n",
       "      <td>1.899822</td>\n",
       "      <td>115395.615874</td>\n",
       "    </tr>\n",
       "    <tr>\n",
       "      <th>min</th>\n",
       "      <td>-124.350000</td>\n",
       "      <td>32.540000</td>\n",
       "      <td>1.000000</td>\n",
       "      <td>2.000000</td>\n",
       "      <td>1.000000</td>\n",
       "      <td>3.000000</td>\n",
       "      <td>1.000000</td>\n",
       "      <td>0.499900</td>\n",
       "      <td>14999.000000</td>\n",
       "    </tr>\n",
       "    <tr>\n",
       "      <th>25%</th>\n",
       "      <td>-121.800000</td>\n",
       "      <td>33.930000</td>\n",
       "      <td>18.000000</td>\n",
       "      <td>1447.750000</td>\n",
       "      <td>296.000000</td>\n",
       "      <td>787.000000</td>\n",
       "      <td>280.000000</td>\n",
       "      <td>2.563400</td>\n",
       "      <td>119600.000000</td>\n",
       "    </tr>\n",
       "    <tr>\n",
       "      <th>50%</th>\n",
       "      <td>-118.490000</td>\n",
       "      <td>34.260000</td>\n",
       "      <td>29.000000</td>\n",
       "      <td>2127.000000</td>\n",
       "      <td>435.000000</td>\n",
       "      <td>1166.000000</td>\n",
       "      <td>409.000000</td>\n",
       "      <td>3.534800</td>\n",
       "      <td>179700.000000</td>\n",
       "    </tr>\n",
       "    <tr>\n",
       "      <th>75%</th>\n",
       "      <td>-118.010000</td>\n",
       "      <td>37.710000</td>\n",
       "      <td>37.000000</td>\n",
       "      <td>3148.000000</td>\n",
       "      <td>647.000000</td>\n",
       "      <td>1725.000000</td>\n",
       "      <td>605.000000</td>\n",
       "      <td>4.743250</td>\n",
       "      <td>264725.000000</td>\n",
       "    </tr>\n",
       "    <tr>\n",
       "      <th>max</th>\n",
       "      <td>-114.310000</td>\n",
       "      <td>41.950000</td>\n",
       "      <td>52.000000</td>\n",
       "      <td>39320.000000</td>\n",
       "      <td>6445.000000</td>\n",
       "      <td>35682.000000</td>\n",
       "      <td>6082.000000</td>\n",
       "      <td>15.000100</td>\n",
       "      <td>500001.000000</td>\n",
       "    </tr>\n",
       "  </tbody>\n",
       "</table>\n",
       "</div>"
      ],
      "text/plain": [
       "          longitude      latitude  housing_median_age   total_rooms  \\\n",
       "count  20640.000000  20640.000000        20640.000000  20640.000000   \n",
       "mean    -119.569704     35.631861           28.639486   2635.763081   \n",
       "std        2.003532      2.135952           12.585558   2181.615252   \n",
       "min     -124.350000     32.540000            1.000000      2.000000   \n",
       "25%     -121.800000     33.930000           18.000000   1447.750000   \n",
       "50%     -118.490000     34.260000           29.000000   2127.000000   \n",
       "75%     -118.010000     37.710000           37.000000   3148.000000   \n",
       "max     -114.310000     41.950000           52.000000  39320.000000   \n",
       "\n",
       "       total_bedrooms    population    households  median_income  \\\n",
       "count    20433.000000  20640.000000  20640.000000   20640.000000   \n",
       "mean       537.870553   1425.476744    499.539680       3.870671   \n",
       "std        421.385070   1132.462122    382.329753       1.899822   \n",
       "min          1.000000      3.000000      1.000000       0.499900   \n",
       "25%        296.000000    787.000000    280.000000       2.563400   \n",
       "50%        435.000000   1166.000000    409.000000       3.534800   \n",
       "75%        647.000000   1725.000000    605.000000       4.743250   \n",
       "max       6445.000000  35682.000000   6082.000000      15.000100   \n",
       "\n",
       "       median_house_value  \n",
       "count        20640.000000  \n",
       "mean        206855.816909  \n",
       "std         115395.615874  \n",
       "min          14999.000000  \n",
       "25%         119600.000000  \n",
       "50%         179700.000000  \n",
       "75%         264725.000000  \n",
       "max         500001.000000  "
      ]
     },
     "execution_count": 5,
     "metadata": {},
     "output_type": "execute_result"
    }
   ],
   "source": [
    "# вывод базовых статистик\n",
    "df_housing.toPandas().describe()"
   ]
  },
  {
   "cell_type": "code",
   "execution_count": 6,
   "id": "7f439af9",
   "metadata": {},
   "outputs": [
    {
     "name": "stdout",
     "output_type": "stream",
     "text": [
      "longitude 0\n",
      "latitude 0\n",
      "housing_median_age 0\n",
      "total_rooms 0\n",
      "total_bedrooms 207\n",
      "population 0\n",
      "households 0\n",
      "median_income 0\n",
      "median_house_value 0\n",
      "ocean_proximity 0\n"
     ]
    }
   ],
   "source": [
    "#Проверка на наличие пропусков \n",
    "columns = df_housing.columns\n",
    "\n",
    "for column in columns:\n",
    "    print(column, df_housing.where(F.isnan(column) | F.col(column).isNull()).count())"
   ]
  },
  {
   "cell_type": "markdown",
   "id": "0552b873",
   "metadata": {},
   "source": [
    "Исходя из первичного осмотра данных мы можем заметить пропуски в столбце `total_bedrooms`, но они составляют лишь 1% данныз так, что их можно удалить"
   ]
  },
  {
   "cell_type": "code",
   "execution_count": 7,
   "id": "f9be5590",
   "metadata": {},
   "outputs": [
    {
     "name": "stderr",
     "output_type": "stream",
     "text": [
      "                                                                                \r"
     ]
    },
    {
     "data": {
      "text/html": [
       "<div>\n",
       "<style scoped>\n",
       "    .dataframe tbody tr th:only-of-type {\n",
       "        vertical-align: middle;\n",
       "    }\n",
       "\n",
       "    .dataframe tbody tr th {\n",
       "        vertical-align: top;\n",
       "    }\n",
       "\n",
       "    .dataframe thead th {\n",
       "        text-align: right;\n",
       "    }\n",
       "</style>\n",
       "<table border=\"1\" class=\"dataframe\">\n",
       "  <thead>\n",
       "    <tr style=\"text-align: right;\">\n",
       "      <th></th>\n",
       "      <th>summary</th>\n",
       "      <th>longitude</th>\n",
       "      <th>latitude</th>\n",
       "      <th>housing_median_age</th>\n",
       "      <th>total_rooms</th>\n",
       "      <th>total_bedrooms</th>\n",
       "      <th>population</th>\n",
       "      <th>households</th>\n",
       "      <th>median_income</th>\n",
       "      <th>median_house_value</th>\n",
       "      <th>ocean_proximity</th>\n",
       "    </tr>\n",
       "  </thead>\n",
       "  <tbody>\n",
       "    <tr>\n",
       "      <th>0</th>\n",
       "      <td>count</td>\n",
       "      <td>20433</td>\n",
       "      <td>20433</td>\n",
       "      <td>20433</td>\n",
       "      <td>20433</td>\n",
       "      <td>20433</td>\n",
       "      <td>20433</td>\n",
       "      <td>20433</td>\n",
       "      <td>20433</td>\n",
       "      <td>20433</td>\n",
       "      <td>20433</td>\n",
       "    </tr>\n",
       "    <tr>\n",
       "      <th>1</th>\n",
       "      <td>mean</td>\n",
       "      <td>-119.57068859198068</td>\n",
       "      <td>35.63322125972706</td>\n",
       "      <td>28.633093525179856</td>\n",
       "      <td>2636.5042333480155</td>\n",
       "      <td>537.8705525375618</td>\n",
       "      <td>1424.9469485635982</td>\n",
       "      <td>499.43346547251997</td>\n",
       "      <td>3.8711616013312273</td>\n",
       "      <td>206864.41315519012</td>\n",
       "      <td>None</td>\n",
       "    </tr>\n",
       "    <tr>\n",
       "      <th>2</th>\n",
       "      <td>stddev</td>\n",
       "      <td>2.003577890751096</td>\n",
       "      <td>2.1363476663779872</td>\n",
       "      <td>12.591805202182835</td>\n",
       "      <td>2185.269566977601</td>\n",
       "      <td>421.38507007403115</td>\n",
       "      <td>1133.2084897449597</td>\n",
       "      <td>382.2992258828481</td>\n",
       "      <td>1.899291249306247</td>\n",
       "      <td>115435.66709858322</td>\n",
       "      <td>None</td>\n",
       "    </tr>\n",
       "    <tr>\n",
       "      <th>3</th>\n",
       "      <td>min</td>\n",
       "      <td>-124.35</td>\n",
       "      <td>32.54</td>\n",
       "      <td>1.0</td>\n",
       "      <td>2.0</td>\n",
       "      <td>1.0</td>\n",
       "      <td>3.0</td>\n",
       "      <td>1.0</td>\n",
       "      <td>0.4999</td>\n",
       "      <td>14999.0</td>\n",
       "      <td>&lt;1H OCEAN</td>\n",
       "    </tr>\n",
       "    <tr>\n",
       "      <th>4</th>\n",
       "      <td>max</td>\n",
       "      <td>-114.31</td>\n",
       "      <td>41.95</td>\n",
       "      <td>52.0</td>\n",
       "      <td>39320.0</td>\n",
       "      <td>6445.0</td>\n",
       "      <td>35682.0</td>\n",
       "      <td>6082.0</td>\n",
       "      <td>15.0001</td>\n",
       "      <td>500001.0</td>\n",
       "      <td>NEAR OCEAN</td>\n",
       "    </tr>\n",
       "  </tbody>\n",
       "</table>\n",
       "</div>"
      ],
      "text/plain": [
       "  summary            longitude            latitude  housing_median_age  \\\n",
       "0   count                20433               20433               20433   \n",
       "1    mean  -119.57068859198068   35.63322125972706  28.633093525179856   \n",
       "2  stddev    2.003577890751096  2.1363476663779872  12.591805202182835   \n",
       "3     min              -124.35               32.54                 1.0   \n",
       "4     max              -114.31               41.95                52.0   \n",
       "\n",
       "          total_rooms      total_bedrooms          population  \\\n",
       "0               20433               20433               20433   \n",
       "1  2636.5042333480155   537.8705525375618  1424.9469485635982   \n",
       "2   2185.269566977601  421.38507007403115  1133.2084897449597   \n",
       "3                 2.0                 1.0                 3.0   \n",
       "4             39320.0              6445.0             35682.0   \n",
       "\n",
       "           households       median_income  median_house_value ocean_proximity  \n",
       "0               20433               20433               20433           20433  \n",
       "1  499.43346547251997  3.8711616013312273  206864.41315519012            None  \n",
       "2   382.2992258828481   1.899291249306247  115435.66709858322            None  \n",
       "3                 1.0              0.4999             14999.0       <1H OCEAN  \n",
       "4              6082.0             15.0001            500001.0      NEAR OCEAN  "
      ]
     },
     "execution_count": 7,
     "metadata": {},
     "output_type": "execute_result"
    }
   ],
   "source": [
    "df_housing = df_housing.na.drop(subset='total_bedrooms')\n",
    "df_housing.describe().toPandas() "
   ]
  },
  {
   "cell_type": "markdown",
   "id": "27a3a5fc",
   "metadata": {},
   "source": [
    "В данных есть категориальный столбец `ocean_proximity` его нужно преобразовать, сделано это будет техникой one hot encoding"
   ]
  },
  {
   "cell_type": "code",
   "execution_count": 8,
   "id": "df6161f3",
   "metadata": {},
   "outputs": [],
   "source": [
    "target = 'median_house_value' #Определение целевого показателя\n",
    "\n",
    "categorial_col = ['ocean_proximity']\n",
    "\n",
    "numerical_colms = ['longitude','latitude','housing_median_age','total_rooms','total_bedrooms','population','households','median_income']"
   ]
  },
  {
   "cell_type": "code",
   "execution_count": 9,
   "id": "86cc013b",
   "metadata": {},
   "outputs": [
    {
     "name": "stderr",
     "output_type": "stream",
     "text": [
      "                                                                                \r"
     ]
    },
    {
     "name": "stdout",
     "output_type": "stream",
     "text": [
      "+---------+--------+------------------+-----------+--------------+----------+----------+-------------+------------------+---------------+-------------------+-------------------+\n",
      "|longitude|latitude|housing_median_age|total_rooms|total_bedrooms|population|households|median_income|median_house_value|ocean_proximity|ocean_proximity_idx|ocean_proximity_ohe|\n",
      "+---------+--------+------------------+-----------+--------------+----------+----------+-------------+------------------+---------------+-------------------+-------------------+\n",
      "|  -122.23|   37.88|              41.0|      880.0|         129.0|     322.0|     126.0|       8.3252|          452600.0|       NEAR BAY|                3.0|      (4,[3],[1.0])|\n",
      "|  -122.22|   37.86|              21.0|     7099.0|        1106.0|    2401.0|    1138.0|       8.3014|          358500.0|       NEAR BAY|                3.0|      (4,[3],[1.0])|\n",
      "|  -122.24|   37.85|              52.0|     1467.0|         190.0|     496.0|     177.0|       7.2574|          352100.0|       NEAR BAY|                3.0|      (4,[3],[1.0])|\n",
      "+---------+--------+------------------+-----------+--------------+----------+----------+-------------+------------------+---------------+-------------------+-------------------+\n",
      "only showing top 3 rows\n",
      "\n"
     ]
    }
   ],
   "source": [
    "indexer = StringIndexer(inputCols=categorial_col, \n",
    "                        outputCols=[c+'_idx' for c in categorial_col]) \n",
    "df_housing = indexer.fit(df_housing).transform(df_housing)\n",
    "\n",
    "encoder = OneHotEncoder(inputCols=[c+'_idx' for c in categorial_col],\n",
    "                        outputCols=[c+'_ohe' for c in categorial_col])\n",
    "\n",
    "df_housing = encoder.fit(df_housing).transform(df_housing)\n",
    "df_housing.show(3)"
   ]
  },
  {
   "cell_type": "code",
   "execution_count": 10,
   "id": "ddf476c2",
   "metadata": {},
   "outputs": [],
   "source": [
    "#Объединение признаков в один вектор\n",
    "categorical_assembler = \\\n",
    "        VectorAssembler(inputCols=[c+'_ohe' for c in categorial_col],\n",
    "                                        outputCol=\"categorical_feature\")\n",
    "df_housing = categorical_assembler.transform(df_housing)"
   ]
  },
  {
   "cell_type": "markdown",
   "id": "f211008d",
   "metadata": {},
   "source": [
    "Числовые значения также нужно трансформировать - шкалировать значения, чтобы сильные выбросы не мешали обучению "
   ]
  },
  {
   "cell_type": "code",
   "execution_count": 11,
   "id": "0d6def83",
   "metadata": {},
   "outputs": [],
   "source": [
    "numerical_assembler = VectorAssembler(inputCols=numerical_colms, outputCol=\"numerical_features\")\n",
    "\n",
    "df_housing = numerical_assembler.transform(df_housing) "
   ]
  },
  {
   "cell_type": "code",
   "execution_count": 12,
   "id": "5f3726db",
   "metadata": {},
   "outputs": [
    {
     "name": "stderr",
     "output_type": "stream",
     "text": [
      "                                                                                \r"
     ]
    }
   ],
   "source": [
    "standardScaler = StandardScaler(inputCol=\"numerical_features\", outputCol=\"numerical_features_scaled\")\n",
    "\n",
    "df_housing = standardScaler.fit(df_housing).transform(df_housing) \n"
   ]
  },
  {
   "cell_type": "markdown",
   "id": "9f0a82f3",
   "metadata": {
    "id": "9f0a82f3"
   },
   "source": [
    "# Обучение моделей"
   ]
  },
  {
   "cell_type": "markdown",
   "id": "397b70e8",
   "metadata": {
    "id": "bddb08c4"
   },
   "source": [
    "Во время работы будут обучены 2 модели. 1 - со всеми признаками, 2- используя только числовые переменные, исключив категориальные. Обе модели будут обучены оценщиком(etimator) `LinearRegression`"
   ]
  },
  {
   "cell_type": "code",
   "execution_count": 13,
   "id": "9fb97a46",
   "metadata": {},
   "outputs": [
    {
     "name": "stdout",
     "output_type": "stream",
     "text": [
      "+-------------------+-------------------------+\n",
      "|categorical_feature|numerical_features_scaled|\n",
      "+-------------------+-------------------------+\n",
      "|      (4,[3],[1.0])|     [-61.005863841998...|\n",
      "|      (4,[3],[1.0])|     [-61.000872770752...|\n",
      "|      (4,[3],[1.0])|     [-61.010854913244...|\n",
      "+-------------------+-------------------------+\n",
      "only showing top 3 rows\n",
      "\n"
     ]
    }
   ],
   "source": [
    "features_all = ['categorical_feature','numerical_features_scaled'] #Объединение всех признаков\n",
    "\n",
    "final_assembler = VectorAssembler(inputCols=features_all, \n",
    "                                  outputCol=\"features\") \n",
    "df_housing = final_assembler.transform(df_housing)\n",
    "\n",
    "df_housing.select(features_all).show(3) \n"
   ]
  },
  {
   "cell_type": "code",
   "execution_count": 14,
   "id": "7bbd4d84",
   "metadata": {},
   "outputs": [
    {
     "name": "stderr",
     "output_type": "stream",
     "text": [
      "[Stage 34:>                                                         (0 + 1) / 1]\r"
     ]
    },
    {
     "name": "stdout",
     "output_type": "stream",
     "text": [
      "16274 4159\n"
     ]
    },
    {
     "name": "stderr",
     "output_type": "stream",
     "text": [
      "                                                                                \r"
     ]
    }
   ],
   "source": [
    "train_data, test_data = df_housing.randomSplit([.8,.2], seed=12345) #Разделение данных на обучающую и тестовую выборки\n",
    "print(train_data.count(), test_data.count())"
   ]
  },
  {
   "cell_type": "code",
   "execution_count": 15,
   "id": "24774935",
   "metadata": {},
   "outputs": [],
   "source": [
    "lr = LinearRegression(labelCol=target, featuresCol='features')"
   ]
  },
  {
   "cell_type": "code",
   "execution_count": 16,
   "id": "612aa233",
   "metadata": {
    "scrolled": true
   },
   "outputs": [
    {
     "name": "stderr",
     "output_type": "stream",
     "text": [
      "22/09/25 16:35:43 WARN Instrumentation: [b73c0ab8] regParam is zero, which might cause numerical instability and overfitting.\n",
      "22/09/25 16:35:44 WARN BLAS: Failed to load implementation from: com.github.fommil.netlib.NativeSystemBLAS\n",
      "22/09/25 16:35:44 WARN BLAS: Failed to load implementation from: com.github.fommil.netlib.NativeRefBLAS\n",
      "22/09/25 16:35:44 WARN LAPACK: Failed to load implementation from: com.github.fommil.netlib.NativeSystemLAPACK\n",
      "22/09/25 16:35:44 WARN LAPACK: Failed to load implementation from: com.github.fommil.netlib.NativeRefLAPACK\n",
      "                                                                                \r"
     ]
    }
   ],
   "source": [
    "model = lr.fit(train_data) "
   ]
  },
  {
   "cell_type": "code",
   "execution_count": 17,
   "id": "7f69ff5d",
   "metadata": {},
   "outputs": [
    {
     "name": "stderr",
     "output_type": "stream",
     "text": [
      "22/09/25 16:35:47 WARN Instrumentation: [d09ca403] regParam is zero, which might cause numerical instability and overfitting.\n",
      "                                                                                \r"
     ]
    }
   ],
   "source": [
    "lr_2 = LinearRegression(labelCol=target, featuresCol='numerical_features_scaled')\n",
    "\n",
    "model_2 = lr_2.fit(train_data) "
   ]
  },
  {
   "cell_type": "code",
   "execution_count": 18,
   "id": "f3d9d84f",
   "metadata": {},
   "outputs": [],
   "source": [
    "predictions = model.transform(test_data)\n",
    "\n",
    "predictions_col = 'prediction'"
   ]
  },
  {
   "cell_type": "code",
   "execution_count": 19,
   "id": "5a9c8828",
   "metadata": {},
   "outputs": [],
   "source": [
    "predictions2 = model_2.transform(test_data)"
   ]
  },
  {
   "cell_type": "code",
   "execution_count": 20,
   "id": "16398636",
   "metadata": {},
   "outputs": [
    {
     "name": "stdout",
     "output_type": "stream",
     "text": [
      "+------------------+------------------+\n",
      "|median_house_value|        prediction|\n",
      "+------------------+------------------+\n",
      "|          106700.0|213951.89157497045|\n",
      "|          128900.0|203442.75691853696|\n",
      "|          116100.0|229141.78939109668|\n",
      "+------------------+------------------+\n",
      "only showing top 3 rows\n",
      "\n"
     ]
    },
    {
     "name": "stderr",
     "output_type": "stream",
     "text": [
      "                                                                                \r"
     ]
    }
   ],
   "source": [
    "predictions.select('median_house_value','prediction').show(3)"
   ]
  },
  {
   "cell_type": "code",
   "execution_count": 21,
   "id": "c6838967",
   "metadata": {},
   "outputs": [
    {
     "name": "stdout",
     "output_type": "stream",
     "text": [
      "+------------------+------------------+\n",
      "|median_house_value|        prediction|\n",
      "+------------------+------------------+\n",
      "|          106700.0|190472.72331598029|\n",
      "|          128900.0|173844.50841793837|\n",
      "|          116100.0|199496.72490793746|\n",
      "+------------------+------------------+\n",
      "only showing top 3 rows\n",
      "\n"
     ]
    }
   ],
   "source": [
    "predictions2.select('median_house_value','prediction').show(3)"
   ]
  },
  {
   "cell_type": "markdown",
   "id": "757fd103",
   "metadata": {
    "id": "757fd103"
   },
   "source": [
    "# Анализ результатов"
   ]
  },
  {
   "cell_type": "code",
   "execution_count": 22,
   "id": "2046b9e5",
   "metadata": {},
   "outputs": [],
   "source": [
    "evaluator = RegressionEvaluator(predictionCol=predictions_col, labelCol = target) #Создание RegressionEvaluator для анализа результатов"
   ]
  },
  {
   "cell_type": "markdown",
   "id": "bd05f2c4",
   "metadata": {},
   "source": [
    "#### Сравнение моделей метрикой RMSE (Корень средней квадратичной ошибки)\n",
    "\n",
    "Идеальная модель будет показывать RMSE равное 0"
   ]
  },
  {
   "cell_type": "code",
   "execution_count": 23,
   "id": "adc7e483",
   "metadata": {},
   "outputs": [
    {
     "name": "stderr",
     "output_type": "stream",
     "text": [
      "                                                                                \r"
     ]
    },
    {
     "name": "stdout",
     "output_type": "stream",
     "text": [
      "Значение метрики RMSE для модели с категориальными признаками 68127.14829705603\n",
      "Значение метрики RMSE для модели без категориальных признаков 69287.75152169063\n"
     ]
    },
    {
     "name": "stderr",
     "output_type": "stream",
     "text": [
      "                                                                                \r"
     ]
    }
   ],
   "source": [
    "print('Значение метрики RMSE для модели с категориальными признаками',\n",
    "        evaluator.evaluate(predictions, {evaluator.metricName: \"rmse\"}))\n",
    "\n",
    "print('Значение метрики RMSE для модели без категориальных признаков',\n",
    "        evaluator.evaluate(predictions2, {evaluator.metricName: \"rmse\"}))"
   ]
  },
  {
   "cell_type": "markdown",
   "id": "ef04b31a",
   "metadata": {},
   "source": [
    "Модель с категориальными признаками показала лучший результат метрики RMSE "
   ]
  },
  {
   "cell_type": "markdown",
   "id": "7baaa408",
   "metadata": {},
   "source": [
    "#### Сравнение моделей метрикой MAE (отношение суммы всех модулей отклонений к количеству объектов)\n",
    "\n",
    "Идеальная модель будет показывать MAE равное 0"
   ]
  },
  {
   "cell_type": "code",
   "execution_count": 24,
   "id": "44592497",
   "metadata": {},
   "outputs": [
    {
     "name": "stderr",
     "output_type": "stream",
     "text": [
      "                                                                                \r"
     ]
    },
    {
     "name": "stdout",
     "output_type": "stream",
     "text": [
      "Значение метрики MAE для модели с категориальными признаками 49783.64929013866\n",
      "Значение метрики MAE для модели без категориальных признаков 50979.24467565921\n"
     ]
    }
   ],
   "source": [
    "print('Значение метрики MAE для модели с категориальными признаками',\n",
    "        evaluator.evaluate(predictions, {evaluator.metricName: \"mae\"}))\n",
    "\n",
    "print('Значение метрики MAE для модели без категориальных признаков',\n",
    "        evaluator.evaluate(predictions2, {evaluator.metricName: \"mae\"}))"
   ]
  },
  {
   "cell_type": "markdown",
   "id": "0d68cd60",
   "metadata": {},
   "source": [
    "Модель с категориальными признаками как и в случае с первой метрикой показала лучший резльтат при измерении MAE"
   ]
  },
  {
   "cell_type": "markdown",
   "id": "dcc6e890",
   "metadata": {},
   "source": [
    "#### Сравнение моделей метрикой R2 \n",
    "\n",
    "Идеальная модель будет показывать R2 равное 1"
   ]
  },
  {
   "cell_type": "code",
   "execution_count": 25,
   "id": "73e81a00",
   "metadata": {},
   "outputs": [
    {
     "name": "stdout",
     "output_type": "stream",
     "text": [
      "Значение метрики R2 для модели с категориальными признаками 0.6479050198589585\n",
      "Значение метрики R2 для модели без категориальных признаков 0.635806367136075\n"
     ]
    },
    {
     "name": "stderr",
     "output_type": "stream",
     "text": [
      "                                                                                \r"
     ]
    }
   ],
   "source": [
    "print('Значение метрики R2 для модели с категориальными признаками',\n",
    "        evaluator.evaluate(predictions, {evaluator.metricName: \"r2\"}))\n",
    "\n",
    "print('Значение метрики R2 для модели без категориальных признаков',\n",
    "        evaluator.evaluate(predictions2, {evaluator.metricName: \"r2\"}))"
   ]
  },
  {
   "cell_type": "markdown",
   "id": "2385889f",
   "metadata": {},
   "source": [
    "Модель с категориальными значениями вновь показала более точный результат"
   ]
  },
  {
   "cell_type": "markdown",
   "id": "77eed832",
   "metadata": {},
   "source": [
    "# Выводы"
   ]
  },
  {
   "cell_type": "markdown",
   "id": "cc574ccb",
   "metadata": {},
   "source": [
    "Модель LinearRegression обученая вместе с категориальными признаками показала более лучший результат всех метрик (RMSE, MAE, R2), по сравнению с моделью без категорильных признаков, исходя из этого можно сделать вывод, что при предсказании медианной стоимости жилья нам необходимо использовать данные близости к океану для улучшения работы модели"
   ]
  }
 ],
 "metadata": {
  "ExecuteTimeLog": [
   {
    "duration": 429,
    "start_time": "2022-09-21T13:21:13.506Z"
   },
   {
    "duration": 19737,
    "start_time": "2022-09-21T13:21:13.938Z"
   },
   {
    "duration": 98,
    "start_time": "2022-09-21T13:21:55.481Z"
   },
   {
    "duration": 120,
    "start_time": "2022-09-21T13:22:04.153Z"
   },
   {
    "duration": 4,
    "start_time": "2022-09-21T13:22:15.359Z"
   },
   {
    "duration": 9239,
    "start_time": "2022-09-21T13:22:32.505Z"
   },
   {
    "duration": 582,
    "start_time": "2022-09-21T13:24:47.570Z"
   },
   {
    "duration": 993,
    "start_time": "2022-09-21T13:26:07.142Z"
   },
   {
    "duration": 731,
    "start_time": "2022-09-21T13:28:22.896Z"
   },
   {
    "duration": 815,
    "start_time": "2022-09-21T13:28:58.411Z"
   },
   {
    "duration": 5055,
    "start_time": "2022-09-21T13:29:54.989Z"
   },
   {
    "duration": 19,
    "start_time": "2022-09-21T13:30:42.746Z"
   },
   {
    "duration": 13,
    "start_time": "2022-09-21T13:31:07.208Z"
   },
   {
    "duration": 8,
    "start_time": "2022-09-21T13:31:45.744Z"
   },
   {
    "duration": 28,
    "start_time": "2022-09-21T13:31:49.978Z"
   },
   {
    "duration": 22,
    "start_time": "2022-09-21T13:31:55.280Z"
   },
   {
    "duration": 9,
    "start_time": "2022-09-21T13:32:01.252Z"
   },
   {
    "duration": 11,
    "start_time": "2022-09-21T13:32:12.452Z"
   },
   {
    "duration": 8,
    "start_time": "2022-09-21T13:32:20.976Z"
   },
   {
    "duration": 427,
    "start_time": "2022-09-21T13:32:31.977Z"
   },
   {
    "duration": 471,
    "start_time": "2022-09-21T13:33:20.464Z"
   },
   {
    "duration": 3141,
    "start_time": "2022-09-21T13:34:49.303Z"
   },
   {
    "duration": 455,
    "start_time": "2022-09-21T13:35:01.783Z"
   },
   {
    "duration": 279,
    "start_time": "2022-09-21T13:35:04.114Z"
   },
   {
    "duration": 337,
    "start_time": "2022-09-21T13:35:04.763Z"
   },
   {
    "duration": 2258,
    "start_time": "2022-09-21T13:35:10.271Z"
   },
   {
    "duration": 309,
    "start_time": "2022-09-21T13:43:33.680Z"
   },
   {
    "duration": 90,
    "start_time": "2022-09-21T13:45:17.868Z"
   },
   {
    "duration": 123,
    "start_time": "2022-09-21T13:45:34.225Z"
   },
   {
    "duration": 6,
    "start_time": "2022-09-21T13:47:10.265Z"
   },
   {
    "duration": 34,
    "start_time": "2022-09-21T13:47:16.361Z"
   },
   {
    "duration": 1312,
    "start_time": "2022-09-21T13:47:42.062Z"
   },
   {
    "duration": 122,
    "start_time": "2022-09-21T13:48:01.660Z"
   },
   {
    "duration": 600,
    "start_time": "2022-09-21T13:48:13.457Z"
   },
   {
    "duration": 14481,
    "start_time": "2022-09-21T13:48:14.059Z"
   },
   {
    "duration": 7801,
    "start_time": "2022-09-21T13:48:28.542Z"
   },
   {
    "duration": 789,
    "start_time": "2022-09-21T13:48:36.345Z"
   },
   {
    "duration": 1399,
    "start_time": "2022-09-21T13:48:37.137Z"
   },
   {
    "duration": 5517,
    "start_time": "2022-09-21T13:48:38.538Z"
   },
   {
    "duration": 1564,
    "start_time": "2022-09-21T13:48:44.123Z"
   },
   {
    "duration": 115,
    "start_time": "2022-09-21T13:48:54.105Z"
   },
   {
    "duration": 657,
    "start_time": "2022-09-21T13:49:01.682Z"
   },
   {
    "duration": 14285,
    "start_time": "2022-09-21T13:49:02.341Z"
   },
   {
    "duration": 7829,
    "start_time": "2022-09-21T13:49:16.628Z"
   },
   {
    "duration": 772,
    "start_time": "2022-09-21T13:49:24.459Z"
   },
   {
    "duration": 1207,
    "start_time": "2022-09-21T13:49:25.233Z"
   },
   {
    "duration": 5113,
    "start_time": "2022-09-21T13:49:26.442Z"
   },
   {
    "duration": 2194,
    "start_time": "2022-09-21T13:49:31.556Z"
   },
   {
    "duration": 84,
    "start_time": "2022-09-21T13:50:24.697Z"
   },
   {
    "duration": 33,
    "start_time": "2022-09-21T13:50:31.303Z"
   },
   {
    "duration": 389,
    "start_time": "2022-09-21T13:50:44.298Z"
   },
   {
    "duration": 30,
    "start_time": "2022-09-21T13:59:13.815Z"
   },
   {
    "duration": 708,
    "start_time": "2022-09-21T13:59:41.220Z"
   },
   {
    "duration": 136,
    "start_time": "2022-09-21T14:00:05.390Z"
   },
   {
    "duration": 665,
    "start_time": "2022-09-21T14:00:27.991Z"
   },
   {
    "duration": 14313,
    "start_time": "2022-09-21T14:00:28.658Z"
   },
   {
    "duration": 7380,
    "start_time": "2022-09-21T14:00:42.973Z"
   },
   {
    "duration": 867,
    "start_time": "2022-09-21T14:00:50.355Z"
   },
   {
    "duration": 1022,
    "start_time": "2022-09-21T14:00:51.225Z"
   },
   {
    "duration": 4677,
    "start_time": "2022-09-21T14:00:52.248Z"
   },
   {
    "duration": 2114,
    "start_time": "2022-09-21T14:00:56.927Z"
   },
   {
    "duration": 117,
    "start_time": "2022-09-21T14:00:59.042Z"
   },
   {
    "duration": 1,
    "start_time": "2022-09-21T14:01:00.209Z"
   },
   {
    "duration": 0,
    "start_time": "2022-09-21T14:01:00.211Z"
   },
   {
    "duration": 121,
    "start_time": "2022-09-21T14:01:03.312Z"
   },
   {
    "duration": 660,
    "start_time": "2022-09-21T14:01:15.190Z"
   },
   {
    "duration": 28073,
    "start_time": "2022-09-21T14:01:15.852Z"
   },
   {
    "duration": 8014,
    "start_time": "2022-09-21T14:01:43.927Z"
   },
   {
    "duration": 705,
    "start_time": "2022-09-21T14:01:51.943Z"
   },
   {
    "duration": 1098,
    "start_time": "2022-09-21T14:01:52.649Z"
   },
   {
    "duration": 4991,
    "start_time": "2022-09-21T14:01:53.748Z"
   },
   {
    "duration": 2207,
    "start_time": "2022-09-21T14:01:58.741Z"
   },
   {
    "duration": 172,
    "start_time": "2022-09-21T14:02:00.950Z"
   },
   {
    "duration": 98,
    "start_time": "2022-09-21T14:02:01.124Z"
   },
   {
    "duration": 860,
    "start_time": "2022-09-21T14:02:01.224Z"
   },
   {
    "duration": 381,
    "start_time": "2022-09-21T14:04:18.363Z"
   },
   {
    "duration": 4,
    "start_time": "2022-09-21T14:08:07.265Z"
   },
   {
    "duration": 4,
    "start_time": "2022-09-21T14:08:55.070Z"
   },
   {
    "duration": 366,
    "start_time": "2022-09-21T14:10:39.370Z"
   },
   {
    "duration": 7,
    "start_time": "2022-09-21T14:15:11.169Z"
   },
   {
    "duration": 1202,
    "start_time": "2022-09-21T14:15:22.989Z"
   },
   {
    "duration": 11,
    "start_time": "2022-09-21T14:15:40.281Z"
   },
   {
    "duration": 10,
    "start_time": "2022-09-21T14:15:50.157Z"
   },
   {
    "duration": 7,
    "start_time": "2022-09-21T14:16:12.673Z"
   },
   {
    "duration": 543,
    "start_time": "2022-09-21T14:16:21.177Z"
   },
   {
    "duration": 370,
    "start_time": "2022-09-21T14:16:29.306Z"
   },
   {
    "duration": 11,
    "start_time": "2022-09-21T14:16:43.833Z"
   },
   {
    "duration": 7,
    "start_time": "2022-09-21T14:17:13.703Z"
   },
   {
    "duration": 110,
    "start_time": "2022-09-21T14:17:21.369Z"
   },
   {
    "duration": 671,
    "start_time": "2022-09-21T14:17:26.786Z"
   },
   {
    "duration": 14491,
    "start_time": "2022-09-21T14:17:27.460Z"
   },
   {
    "duration": 7627,
    "start_time": "2022-09-21T14:17:41.953Z"
   },
   {
    "duration": 718,
    "start_time": "2022-09-21T14:17:49.623Z"
   },
   {
    "duration": 1280,
    "start_time": "2022-09-21T14:17:50.343Z"
   },
   {
    "duration": 4909,
    "start_time": "2022-09-21T14:17:51.624Z"
   },
   {
    "duration": 2098,
    "start_time": "2022-09-21T14:17:56.534Z"
   },
   {
    "duration": 98,
    "start_time": "2022-09-21T14:17:58.634Z"
   },
   {
    "duration": 97,
    "start_time": "2022-09-21T14:17:58.733Z"
   },
   {
    "duration": 4,
    "start_time": "2022-09-21T14:17:58.833Z"
   },
   {
    "duration": 702,
    "start_time": "2022-09-21T14:17:58.839Z"
   },
   {
    "duration": 93,
    "start_time": "2022-09-21T14:17:59.543Z"
   },
   {
    "duration": 2242,
    "start_time": "2022-09-21T14:17:59.638Z"
   },
   {
    "duration": 589,
    "start_time": "2022-09-21T14:18:19.795Z"
   },
   {
    "duration": 527,
    "start_time": "2022-09-21T14:21:39.385Z"
   },
   {
    "duration": 502,
    "start_time": "2022-09-21T14:21:48.310Z"
   },
   {
    "duration": 377,
    "start_time": "2022-09-21T14:22:20.079Z"
   },
   {
    "duration": 730,
    "start_time": "2022-09-21T14:23:45.918Z"
   },
   {
    "duration": 14280,
    "start_time": "2022-09-21T14:23:46.649Z"
   },
   {
    "duration": 7821,
    "start_time": "2022-09-21T14:24:00.931Z"
   },
   {
    "duration": 768,
    "start_time": "2022-09-21T14:24:08.754Z"
   },
   {
    "duration": 1099,
    "start_time": "2022-09-21T14:24:09.524Z"
   },
   {
    "duration": 5007,
    "start_time": "2022-09-21T14:24:10.625Z"
   },
   {
    "duration": 2288,
    "start_time": "2022-09-21T14:24:15.634Z"
   },
   {
    "duration": 114,
    "start_time": "2022-09-21T14:24:17.924Z"
   },
   {
    "duration": 90,
    "start_time": "2022-09-21T14:24:18.040Z"
   },
   {
    "duration": 948,
    "start_time": "2022-09-21T14:24:18.132Z"
   },
   {
    "duration": 0,
    "start_time": "2022-09-21T14:24:19.082Z"
   },
   {
    "duration": 0,
    "start_time": "2022-09-21T14:24:19.083Z"
   },
   {
    "duration": 0,
    "start_time": "2022-09-21T14:24:19.084Z"
   },
   {
    "duration": 678,
    "start_time": "2022-09-24T12:48:38.378Z"
   },
   {
    "duration": 56,
    "start_time": "2022-09-24T12:49:02.655Z"
   },
   {
    "duration": 7664,
    "start_time": "2022-09-24T12:49:04.746Z"
   },
   {
    "duration": 715,
    "start_time": "2022-09-24T12:49:12.412Z"
   },
   {
    "duration": 3233,
    "start_time": "2022-09-24T12:49:41.707Z"
   },
   {
    "duration": 43,
    "start_time": "2022-09-24T12:50:00.389Z"
   },
   {
    "duration": 41,
    "start_time": "2022-09-24T12:50:11.668Z"
   },
   {
    "duration": 899,
    "start_time": "2022-09-24T12:50:12.493Z"
   },
   {
    "duration": 397,
    "start_time": "2022-09-24T12:51:34.783Z"
   },
   {
    "duration": 4715,
    "start_time": "2022-09-24T12:52:45.124Z"
   },
   {
    "duration": 719,
    "start_time": "2022-09-24T12:53:52.604Z"
   },
   {
    "duration": 14494,
    "start_time": "2022-09-24T12:53:53.325Z"
   },
   {
    "duration": 7521,
    "start_time": "2022-09-24T12:54:07.821Z"
   },
   {
    "duration": 876,
    "start_time": "2022-09-24T12:54:15.344Z"
   },
   {
    "duration": 1119,
    "start_time": "2022-09-24T12:54:16.222Z"
   },
   {
    "duration": 4889,
    "start_time": "2022-09-24T12:54:17.343Z"
   },
   {
    "duration": 3,
    "start_time": "2022-09-24T12:56:50.545Z"
   },
   {
    "duration": 83,
    "start_time": "2022-09-24T12:56:50.770Z"
   },
   {
    "duration": 7,
    "start_time": "2022-09-24T12:56:51.106Z"
   },
   {
    "duration": 3,
    "start_time": "2022-09-24T12:57:53.860Z"
   },
   {
    "duration": 8,
    "start_time": "2022-09-24T12:57:54.580Z"
   },
   {
    "duration": 2104,
    "start_time": "2022-09-24T12:58:14.229Z"
   },
   {
    "duration": 7,
    "start_time": "2022-09-24T12:58:18.756Z"
   },
   {
    "duration": 50,
    "start_time": "2022-09-24T12:58:24.387Z"
   },
   {
    "duration": 28,
    "start_time": "2022-09-24T12:58:44.221Z"
   },
   {
    "duration": 679,
    "start_time": "2022-09-24T12:58:59.445Z"
   },
   {
    "duration": 444,
    "start_time": "2022-09-24T13:02:04.372Z"
   },
   {
    "duration": 19,
    "start_time": "2022-09-24T13:02:04.818Z"
   },
   {
    "duration": 1585,
    "start_time": "2022-09-24T13:02:04.875Z"
   },
   {
    "duration": 3,
    "start_time": "2022-09-24T13:10:44.998Z"
   },
   {
    "duration": 520,
    "start_time": "2022-09-24T13:10:53.814Z"
   },
   {
    "duration": 189,
    "start_time": "2022-09-24T13:11:04.624Z"
   },
   {
    "duration": 723,
    "start_time": "2022-09-24T13:11:17.605Z"
   },
   {
    "duration": 2767,
    "start_time": "2022-09-24T13:11:39.664Z"
   },
   {
    "duration": 2511,
    "start_time": "2022-09-24T13:12:14.545Z"
   },
   {
    "duration": 12,
    "start_time": "2022-09-24T13:12:23.234Z"
   },
   {
    "duration": 2654,
    "start_time": "2022-09-24T13:12:32.905Z"
   },
   {
    "duration": 1840,
    "start_time": "2022-09-24T13:12:39.897Z"
   },
   {
    "duration": 49,
    "start_time": "2022-09-24T13:12:47.369Z"
   },
   {
    "duration": 50,
    "start_time": "2022-09-24T13:12:59.563Z"
   },
   {
    "duration": 52,
    "start_time": "2022-09-24T13:13:06.907Z"
   },
   {
    "duration": 2069,
    "start_time": "2022-09-24T13:13:13.571Z"
   },
   {
    "duration": 13,
    "start_time": "2022-09-24T13:14:42.638Z"
   },
   {
    "duration": 16,
    "start_time": "2022-09-24T13:14:56.919Z"
   },
   {
    "duration": 353,
    "start_time": "2022-09-24T13:15:04.696Z"
   },
   {
    "duration": 456,
    "start_time": "2022-09-24T13:16:11.986Z"
   },
   {
    "duration": 19,
    "start_time": "2022-09-24T13:16:15.010Z"
   },
   {
    "duration": 14,
    "start_time": "2022-09-24T13:16:20.194Z"
   },
   {
    "duration": 10,
    "start_time": "2022-09-24T13:16:24.737Z"
   },
   {
    "duration": 9,
    "start_time": "2022-09-24T13:17:05.178Z"
   },
   {
    "duration": 7,
    "start_time": "2022-09-24T13:17:18.421Z"
   },
   {
    "duration": 7,
    "start_time": "2022-09-24T13:17:23.989Z"
   },
   {
    "duration": 12,
    "start_time": "2022-09-24T13:17:59.415Z"
   },
   {
    "duration": 25,
    "start_time": "2022-09-24T13:18:12.374Z"
   },
   {
    "duration": 43,
    "start_time": "2022-09-24T13:19:32.929Z"
   },
   {
    "duration": 15,
    "start_time": "2022-09-24T13:19:36.185Z"
   },
   {
    "duration": 10,
    "start_time": "2022-09-24T13:19:52.089Z"
   },
   {
    "duration": 44,
    "start_time": "2022-09-24T13:19:55.770Z"
   },
   {
    "duration": 10,
    "start_time": "2022-09-24T13:19:58.609Z"
   },
   {
    "duration": 5,
    "start_time": "2022-09-24T13:20:12.850Z"
   },
   {
    "duration": 7,
    "start_time": "2022-09-24T13:20:36.820Z"
   },
   {
    "duration": 34,
    "start_time": "2022-09-24T13:20:59.061Z"
   },
   {
    "duration": 21,
    "start_time": "2022-09-24T13:21:01.877Z"
   },
   {
    "duration": 10,
    "start_time": "2022-09-24T13:21:21.316Z"
   },
   {
    "duration": 2140,
    "start_time": "2022-09-24T13:21:26.517Z"
   },
   {
    "duration": 2125,
    "start_time": "2022-09-24T13:22:17.349Z"
   },
   {
    "duration": 1631,
    "start_time": "2022-09-24T13:22:43.055Z"
   },
   {
    "duration": 7,
    "start_time": "2022-09-24T13:24:16.715Z"
   },
   {
    "duration": 2183,
    "start_time": "2022-09-24T13:24:41.131Z"
   },
   {
    "duration": 3,
    "start_time": "2022-09-24T13:25:09.004Z"
   },
   {
    "duration": 796,
    "start_time": "2022-09-24T13:25:09.420Z"
   },
   {
    "duration": 20,
    "start_time": "2022-09-24T13:25:10.364Z"
   },
   {
    "duration": 665,
    "start_time": "2022-09-24T13:25:14.587Z"
   },
   {
    "duration": 14955,
    "start_time": "2022-09-24T13:25:15.254Z"
   },
   {
    "duration": 7919,
    "start_time": "2022-09-24T13:25:30.211Z"
   },
   {
    "duration": 981,
    "start_time": "2022-09-24T13:25:38.132Z"
   },
   {
    "duration": 1233,
    "start_time": "2022-09-24T13:25:39.116Z"
   },
   {
    "duration": 4761,
    "start_time": "2022-09-24T13:25:40.351Z"
   },
   {
    "duration": 3099,
    "start_time": "2022-09-24T13:25:45.113Z"
   },
   {
    "duration": 4,
    "start_time": "2022-09-24T13:25:48.213Z"
   },
   {
    "duration": 92,
    "start_time": "2022-09-24T13:25:48.218Z"
   },
   {
    "duration": 0,
    "start_time": "2022-09-24T13:25:48.312Z"
   },
   {
    "duration": 1,
    "start_time": "2022-09-24T13:25:48.312Z"
   },
   {
    "duration": 0,
    "start_time": "2022-09-24T13:25:48.313Z"
   },
   {
    "duration": 0,
    "start_time": "2022-09-24T13:25:48.317Z"
   },
   {
    "duration": 1,
    "start_time": "2022-09-24T13:25:48.318Z"
   },
   {
    "duration": 0,
    "start_time": "2022-09-24T13:25:48.319Z"
   },
   {
    "duration": 1926,
    "start_time": "2022-09-24T13:26:39.204Z"
   },
   {
    "duration": 38,
    "start_time": "2022-09-24T13:26:53.769Z"
   },
   {
    "duration": 34,
    "start_time": "2022-09-24T13:27:57.919Z"
   },
   {
    "duration": 1128,
    "start_time": "2022-09-24T13:27:58.406Z"
   },
   {
    "duration": 428,
    "start_time": "2022-09-24T13:28:21.797Z"
   },
   {
    "duration": 24,
    "start_time": "2022-09-24T13:28:26.126Z"
   },
   {
    "duration": 658,
    "start_time": "2022-09-24T13:31:21.084Z"
   },
   {
    "duration": 14676,
    "start_time": "2022-09-24T13:31:21.743Z"
   },
   {
    "duration": 8199,
    "start_time": "2022-09-24T13:31:36.420Z"
   },
   {
    "duration": 892,
    "start_time": "2022-09-24T13:31:44.620Z"
   },
   {
    "duration": 1200,
    "start_time": "2022-09-24T13:31:45.514Z"
   },
   {
    "duration": 5207,
    "start_time": "2022-09-24T13:31:46.716Z"
   },
   {
    "duration": 3024,
    "start_time": "2022-09-24T13:31:51.925Z"
   },
   {
    "duration": 4,
    "start_time": "2022-09-24T13:31:55.009Z"
   },
   {
    "duration": 2203,
    "start_time": "2022-09-24T13:31:55.014Z"
   },
   {
    "duration": 43,
    "start_time": "2022-09-24T13:31:57.219Z"
   },
   {
    "duration": 0,
    "start_time": "2022-09-24T13:31:57.264Z"
   },
   {
    "duration": 0,
    "start_time": "2022-09-24T13:31:57.265Z"
   },
   {
    "duration": 0,
    "start_time": "2022-09-24T13:31:57.268Z"
   },
   {
    "duration": 0,
    "start_time": "2022-09-24T13:31:57.269Z"
   },
   {
    "duration": 0,
    "start_time": "2022-09-24T13:31:57.270Z"
   },
   {
    "duration": 38,
    "start_time": "2022-09-24T13:32:20.269Z"
   },
   {
    "duration": 32,
    "start_time": "2022-09-24T13:32:21.358Z"
   },
   {
    "duration": 1185,
    "start_time": "2022-09-24T13:32:21.742Z"
   },
   {
    "duration": 143,
    "start_time": "2022-09-24T13:32:39.518Z"
   },
   {
    "duration": 73,
    "start_time": "2022-09-24T13:32:45.175Z"
   },
   {
    "duration": 676,
    "start_time": "2022-09-24T13:32:54.578Z"
   },
   {
    "duration": 14853,
    "start_time": "2022-09-24T13:32:55.256Z"
   },
   {
    "duration": 8234,
    "start_time": "2022-09-24T13:33:10.111Z"
   },
   {
    "duration": 772,
    "start_time": "2022-09-24T13:33:18.347Z"
   },
   {
    "duration": 1296,
    "start_time": "2022-09-24T13:33:19.122Z"
   },
   {
    "duration": 5524,
    "start_time": "2022-09-24T13:33:20.420Z"
   },
   {
    "duration": 3279,
    "start_time": "2022-09-24T13:33:25.947Z"
   },
   {
    "duration": 4,
    "start_time": "2022-09-24T13:33:29.228Z"
   },
   {
    "duration": 2277,
    "start_time": "2022-09-24T13:33:29.233Z"
   },
   {
    "duration": 101,
    "start_time": "2022-09-24T13:33:31.513Z"
   },
   {
    "duration": 93,
    "start_time": "2022-09-24T13:33:31.616Z"
   },
   {
    "duration": 1124,
    "start_time": "2022-09-24T13:33:31.711Z"
   },
   {
    "duration": 489,
    "start_time": "2022-09-24T13:33:32.837Z"
   },
   {
    "duration": 37425,
    "start_time": "2022-09-24T13:33:33.424Z"
   },
   {
    "duration": 0,
    "start_time": "2022-09-24T13:34:10.909Z"
   },
   {
    "duration": 648,
    "start_time": "2022-09-24T13:34:37.706Z"
   },
   {
    "duration": 14652,
    "start_time": "2022-09-24T13:34:38.498Z"
   },
   {
    "duration": 8173,
    "start_time": "2022-09-24T13:34:53.153Z"
   },
   {
    "duration": 798,
    "start_time": "2022-09-24T13:35:01.327Z"
   },
   {
    "duration": 1211,
    "start_time": "2022-09-24T13:35:02.127Z"
   },
   {
    "duration": 4912,
    "start_time": "2022-09-24T13:35:03.339Z"
   },
   {
    "duration": 2795,
    "start_time": "2022-09-24T13:35:10.355Z"
   },
   {
    "duration": 3,
    "start_time": "2022-09-24T13:35:15.949Z"
   },
   {
    "duration": 2284,
    "start_time": "2022-09-24T13:35:16.349Z"
   },
   {
    "duration": 101,
    "start_time": "2022-09-24T13:35:18.635Z"
   },
   {
    "duration": 29,
    "start_time": "2022-09-24T13:35:21.092Z"
   },
   {
    "duration": 1096,
    "start_time": "2022-09-24T13:35:22.028Z"
   },
   {
    "duration": 392,
    "start_time": "2022-09-24T13:35:25.724Z"
   },
   {
    "duration": 2786,
    "start_time": "2022-09-24T13:35:27.348Z"
   },
   {
    "duration": 669,
    "start_time": "2022-09-24T13:36:32.281Z"
   },
   {
    "duration": 15201,
    "start_time": "2022-09-24T13:36:32.952Z"
   },
   {
    "duration": 8449,
    "start_time": "2022-09-24T13:36:48.210Z"
   },
   {
    "duration": 720,
    "start_time": "2022-09-24T13:36:56.709Z"
   },
   {
    "duration": 1196,
    "start_time": "2022-09-24T13:36:57.431Z"
   },
   {
    "duration": 4803,
    "start_time": "2022-09-24T13:36:58.629Z"
   },
   {
    "duration": 3375,
    "start_time": "2022-09-24T13:37:03.434Z"
   },
   {
    "duration": 3,
    "start_time": "2022-09-24T13:37:06.811Z"
   },
   {
    "duration": 2276,
    "start_time": "2022-09-24T13:37:06.815Z"
   },
   {
    "duration": 102,
    "start_time": "2022-09-24T13:37:09.110Z"
   },
   {
    "duration": 34,
    "start_time": "2022-09-24T13:37:09.214Z"
   },
   {
    "duration": 1190,
    "start_time": "2022-09-24T13:37:09.251Z"
   },
   {
    "duration": 347,
    "start_time": "2022-09-24T13:37:12.567Z"
   },
   {
    "duration": 2826,
    "start_time": "2022-09-24T13:37:13.725Z"
   },
   {
    "duration": 41,
    "start_time": "2022-09-24T13:37:17.517Z"
   },
   {
    "duration": 592,
    "start_time": "2022-09-24T13:41:58.459Z"
   },
   {
    "duration": 14977,
    "start_time": "2022-09-24T13:41:59.052Z"
   },
   {
    "duration": 7878,
    "start_time": "2022-09-24T13:42:14.030Z"
   },
   {
    "duration": 819,
    "start_time": "2022-09-24T13:42:21.911Z"
   },
   {
    "duration": 1185,
    "start_time": "2022-09-24T13:42:22.733Z"
   },
   {
    "duration": 4732,
    "start_time": "2022-09-24T13:42:23.919Z"
   },
   {
    "duration": 3226,
    "start_time": "2022-09-24T13:42:28.710Z"
   },
   {
    "duration": 3,
    "start_time": "2022-09-24T13:42:31.937Z"
   },
   {
    "duration": 2089,
    "start_time": "2022-09-24T13:42:31.942Z"
   },
   {
    "duration": 105,
    "start_time": "2022-09-24T13:42:34.032Z"
   },
   {
    "duration": 93,
    "start_time": "2022-09-24T13:42:34.139Z"
   },
   {
    "duration": 1199,
    "start_time": "2022-09-24T13:42:34.234Z"
   },
   {
    "duration": 437,
    "start_time": "2022-09-24T13:42:35.435Z"
   },
   {
    "duration": 3053,
    "start_time": "2022-09-24T13:42:35.874Z"
   },
   {
    "duration": 101,
    "start_time": "2022-09-24T13:42:38.929Z"
   },
   {
    "duration": 7150110,
    "start_time": "2022-09-24T13:42:39.032Z"
   },
   {
    "duration": 593,
    "start_time": "2022-09-24T15:50:41.758Z"
   },
   {
    "duration": 14960,
    "start_time": "2022-09-24T15:50:42.353Z"
   },
   {
    "duration": 8428,
    "start_time": "2022-09-24T15:50:57.316Z"
   },
   {
    "duration": 888,
    "start_time": "2022-09-24T15:51:05.746Z"
   },
   {
    "duration": 1416,
    "start_time": "2022-09-24T15:51:06.637Z"
   },
   {
    "duration": 4783,
    "start_time": "2022-09-24T15:51:08.054Z"
   },
   {
    "duration": 3279,
    "start_time": "2022-09-24T15:51:12.840Z"
   },
   {
    "duration": 3,
    "start_time": "2022-09-24T15:51:16.120Z"
   },
   {
    "duration": 2184,
    "start_time": "2022-09-24T15:51:16.125Z"
   },
   {
    "duration": 107,
    "start_time": "2022-09-24T15:51:18.311Z"
   },
   {
    "duration": 102,
    "start_time": "2022-09-24T15:51:18.421Z"
   },
   {
    "duration": 1207,
    "start_time": "2022-09-24T15:51:18.524Z"
   },
   {
    "duration": 389,
    "start_time": "2022-09-24T15:51:19.733Z"
   },
   {
    "duration": 3188,
    "start_time": "2022-09-24T15:51:20.125Z"
   },
   {
    "duration": 109,
    "start_time": "2022-09-24T15:51:23.315Z"
   },
   {
    "duration": 7082920,
    "start_time": "2022-09-24T15:51:23.425Z"
   },
   {
    "duration": 0,
    "start_time": "2022-09-24T17:49:26.347Z"
   },
   {
    "duration": 0,
    "start_time": "2022-09-24T17:49:26.348Z"
   },
   {
    "duration": 0,
    "start_time": "2022-09-24T17:49:26.348Z"
   },
   {
    "duration": 7,
    "start_time": "2022-09-24T17:54:42.497Z"
   },
   {
    "duration": 750,
    "start_time": "2022-09-25T15:58:26.131Z"
   },
   {
    "duration": 15424,
    "start_time": "2022-09-25T15:58:26.883Z"
   },
   {
    "duration": 9105,
    "start_time": "2022-09-25T15:58:42.310Z"
   },
   {
    "duration": 801,
    "start_time": "2022-09-25T15:58:51.417Z"
   },
   {
    "duration": 1293,
    "start_time": "2022-09-25T15:58:52.220Z"
   },
   {
    "duration": 5003,
    "start_time": "2022-09-25T15:58:53.516Z"
   },
   {
    "duration": 3293,
    "start_time": "2022-09-25T15:58:58.521Z"
   },
   {
    "duration": 3,
    "start_time": "2022-09-25T15:59:01.816Z"
   },
   {
    "duration": 2500,
    "start_time": "2022-09-25T15:59:01.820Z"
   },
   {
    "duration": 174,
    "start_time": "2022-09-25T15:59:04.321Z"
   },
   {
    "duration": 37,
    "start_time": "2022-09-25T15:59:04.497Z"
   },
   {
    "duration": 1368,
    "start_time": "2022-09-25T15:59:04.536Z"
   },
   {
    "duration": 508,
    "start_time": "2022-09-25T15:59:05.906Z"
   },
   {
    "duration": 3278,
    "start_time": "2022-09-25T15:59:06.418Z"
   },
   {
    "duration": 131,
    "start_time": "2022-09-25T15:59:09.698Z"
   },
   {
    "duration": 0,
    "start_time": "2022-09-25T15:59:09.831Z"
   },
   {
    "duration": 0,
    "start_time": "2022-09-25T15:59:09.832Z"
   },
   {
    "duration": 0,
    "start_time": "2022-09-25T15:59:09.834Z"
   },
   {
    "duration": 0,
    "start_time": "2022-09-25T15:59:09.836Z"
   },
   {
    "duration": 9,
    "start_time": "2022-09-25T15:59:32.936Z"
   },
   {
    "duration": 6,
    "start_time": "2022-09-25T16:00:16.808Z"
   },
   {
    "duration": 136,
    "start_time": "2022-09-25T16:00:23.504Z"
   },
   {
    "duration": 4055,
    "start_time": "2022-09-25T16:00:25.647Z"
   },
   {
    "duration": 3249,
    "start_time": "2022-09-25T16:00:59.864Z"
   },
   {
    "duration": 23,
    "start_time": "2022-09-25T16:01:12.921Z"
   },
   {
    "duration": 13,
    "start_time": "2022-09-25T16:01:13.337Z"
   },
   {
    "duration": 23,
    "start_time": "2022-09-25T16:01:17.641Z"
   },
   {
    "duration": 309,
    "start_time": "2022-09-25T16:01:50.530Z"
   },
   {
    "duration": 9,
    "start_time": "2022-09-25T16:03:03.493Z"
   },
   {
    "duration": 12,
    "start_time": "2022-09-25T16:13:34.198Z"
   },
   {
    "duration": 983,
    "start_time": "2022-09-25T16:13:41.029Z"
   },
   {
    "duration": 970,
    "start_time": "2022-09-25T16:14:46.064Z"
   },
   {
    "duration": 699,
    "start_time": "2022-09-25T16:14:53.216Z"
   },
   {
    "duration": 615,
    "start_time": "2022-09-25T16:17:24.093Z"
   },
   {
    "duration": 705,
    "start_time": "2022-09-25T16:17:24.710Z"
   },
   {
    "duration": 11,
    "start_time": "2022-09-25T16:17:49.206Z"
   },
   {
    "duration": 78,
    "start_time": "2022-09-25T16:19:39.538Z"
   },
   {
    "duration": 340,
    "start_time": "2022-09-25T16:20:06.828Z"
   },
   {
    "duration": 4,
    "start_time": "2022-09-25T16:21:31.255Z"
   },
   {
    "duration": 9,
    "start_time": "2022-09-25T16:22:10.192Z"
   },
   {
    "duration": 1791,
    "start_time": "2022-09-25T16:25:56.072Z"
   },
   {
    "duration": 1192,
    "start_time": "2022-09-25T16:29:00.807Z"
   },
   {
    "duration": 1237,
    "start_time": "2022-09-25T16:31:22.391Z"
   },
   {
    "duration": 755,
    "start_time": "2022-09-25T16:34:57.676Z"
   },
   {
    "duration": 15869,
    "start_time": "2022-09-25T16:34:58.433Z"
   },
   {
    "duration": 9502,
    "start_time": "2022-09-25T16:35:14.304Z"
   },
   {
    "duration": 798,
    "start_time": "2022-09-25T16:35:23.808Z"
   },
   {
    "duration": 1102,
    "start_time": "2022-09-25T16:35:24.609Z"
   },
   {
    "duration": 5221,
    "start_time": "2022-09-25T16:35:25.712Z"
   },
   {
    "duration": 3663,
    "start_time": "2022-09-25T16:35:30.936Z"
   },
   {
    "duration": 4,
    "start_time": "2022-09-25T16:35:34.601Z"
   },
   {
    "duration": 2605,
    "start_time": "2022-09-25T16:35:34.607Z"
   },
   {
    "duration": 191,
    "start_time": "2022-09-25T16:35:37.214Z"
   },
   {
    "duration": 95,
    "start_time": "2022-09-25T16:35:37.407Z"
   },
   {
    "duration": 1400,
    "start_time": "2022-09-25T16:35:37.504Z"
   },
   {
    "duration": 429,
    "start_time": "2022-09-25T16:35:38.906Z"
   },
   {
    "duration": 3125,
    "start_time": "2022-09-25T16:35:39.394Z"
   },
   {
    "duration": 115,
    "start_time": "2022-09-25T16:35:42.520Z"
   },
   {
    "duration": 4075,
    "start_time": "2022-09-25T16:35:42.636Z"
   },
   {
    "duration": 2982,
    "start_time": "2022-09-25T16:35:46.713Z"
   },
   {
    "duration": 24,
    "start_time": "2022-09-25T16:35:49.697Z"
   },
   {
    "duration": 86,
    "start_time": "2022-09-25T16:35:49.722Z"
   },
   {
    "duration": 899,
    "start_time": "2022-09-25T16:35:49.810Z"
   },
   {
    "duration": 884,
    "start_time": "2022-09-25T16:35:50.711Z"
   },
   {
    "duration": 11,
    "start_time": "2022-09-25T16:35:51.597Z"
   },
   {
    "duration": 1998,
    "start_time": "2022-09-25T16:35:51.610Z"
   },
   {
    "duration": 1637,
    "start_time": "2022-09-25T16:35:53.611Z"
   },
   {
    "duration": 1673,
    "start_time": "2022-09-25T16:35:55.250Z"
   }
  ],
  "colab": {
   "name": "PySparkSprint.ipynb",
   "provenance": []
  },
  "kernelspec": {
   "display_name": "Python 3 (ipykernel)",
   "language": "python",
   "name": "python3"
  },
  "language_info": {
   "codemirror_mode": {
    "name": "ipython",
    "version": 3
   },
   "file_extension": ".py",
   "mimetype": "text/x-python",
   "name": "python",
   "nbconvert_exporter": "python",
   "pygments_lexer": "ipython3",
   "version": "3.9.5"
  },
  "toc": {
   "base_numbering": 1,
   "nav_menu": {},
   "number_sections": true,
   "sideBar": true,
   "skip_h1_title": true,
   "title_cell": "Table of Contents",
   "title_sidebar": "Contents",
   "toc_cell": false,
   "toc_position": {},
   "toc_section_display": true,
   "toc_window_display": false
  }
 },
 "nbformat": 4,
 "nbformat_minor": 5
}
