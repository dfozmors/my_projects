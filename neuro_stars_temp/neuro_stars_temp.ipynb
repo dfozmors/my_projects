{
 "cells": [
  {
   "cell_type": "markdown",
   "id": "corresponding-armstrong",
   "metadata": {
    "ExecuteTime": {
     "end_time": "2022-05-05T04:58:05.692448Z",
     "start_time": "2022-05-05T04:58:05.688565Z"
    }
   },
   "source": [
    "## Загрузка данных"
   ]
  },
  {
   "cell_type": "code",
   "execution_count": 1,
   "id": "spectacular-folder",
   "metadata": {},
   "outputs": [],
   "source": [
    "import random\n",
    "import numpy as np\n",
    "import pandas as pd\n",
    "import seaborn as sns\n",
    "import matplotlib.pyplot as plt\n",
    "from math import ceil\n",
    "import torch\n",
    "import torch.nn as nn\n",
    "\n",
    "from sklearn.preprocessing import OneHotEncoder\n",
    "from sklearn.metrics import mean_squared_error\n",
    "from sklearn.model_selection import train_test_split\n",
    "from sklearn.preprocessing import StandardScaler, OneHotEncoder"
   ]
  },
  {
   "cell_type": "code",
   "execution_count": 2,
   "id": "74981e2a",
   "metadata": {},
   "outputs": [],
   "source": [
    "def plotting(column,name,name_2,column_name): #Функция для построения графиков\n",
    "    fig,ax = plt.subplots(figsize=(8,4))\n",
    "    sns.histplot(data=df[column],color='orange')\n",
    "    ax.set_title(name)\n",
    "    ax.set_xlabel(column_name,fontsize=11)\n",
    "    ax.set_ylabel('Количество звезд',fontsize=11)\n",
    "    plt.show()\n",
    "    fig,ax = plt.subplots(figsize=(8,4))\n",
    "    sns.boxplot(data=df[column],color='orange')\n",
    "    ax.set_title(name_2)\n",
    "    ax.set_ylabel(column_name,fontsize=11)"
   ]
  },
  {
   "cell_type": "code",
   "execution_count": 3,
   "id": "a0c459dc",
   "metadata": {},
   "outputs": [],
   "source": [
    "df = pd.read_csv('/datasets/6_class.csv')"
   ]
  },
  {
   "cell_type": "code",
   "execution_count": 4,
   "id": "80ce8da4",
   "metadata": {},
   "outputs": [
    {
     "name": "stdout",
     "output_type": "stream",
     "text": [
      "<class 'pandas.core.frame.DataFrame'>\n",
      "RangeIndex: 240 entries, 0 to 239\n",
      "Data columns (total 7 columns):\n",
      " #   Column                  Non-Null Count  Dtype  \n",
      "---  ------                  --------------  -----  \n",
      " 0   Unnamed: 0              240 non-null    int64  \n",
      " 1   Temperature (K)         240 non-null    int64  \n",
      " 2   Luminosity(L/Lo)        240 non-null    float64\n",
      " 3   Radius(R/Ro)            240 non-null    float64\n",
      " 4   Absolute magnitude(Mv)  240 non-null    float64\n",
      " 5   Star type               240 non-null    int64  \n",
      " 6   Star color              240 non-null    object \n",
      "dtypes: float64(3), int64(3), object(1)\n",
      "memory usage: 13.2+ KB\n"
     ]
    }
   ],
   "source": [
    "df.info()"
   ]
  },
  {
   "cell_type": "code",
   "execution_count": 5,
   "id": "3bfa2415",
   "metadata": {},
   "outputs": [
    {
     "data": {
      "text/html": [
       "<div>\n",
       "<style scoped>\n",
       "    .dataframe tbody tr th:only-of-type {\n",
       "        vertical-align: middle;\n",
       "    }\n",
       "\n",
       "    .dataframe tbody tr th {\n",
       "        vertical-align: top;\n",
       "    }\n",
       "\n",
       "    .dataframe thead th {\n",
       "        text-align: right;\n",
       "    }\n",
       "</style>\n",
       "<table border=\"1\" class=\"dataframe\">\n",
       "  <thead>\n",
       "    <tr style=\"text-align: right;\">\n",
       "      <th></th>\n",
       "      <th>Unnamed: 0</th>\n",
       "      <th>Temperature (K)</th>\n",
       "      <th>Luminosity(L/Lo)</th>\n",
       "      <th>Radius(R/Ro)</th>\n",
       "      <th>Absolute magnitude(Mv)</th>\n",
       "      <th>Star type</th>\n",
       "    </tr>\n",
       "  </thead>\n",
       "  <tbody>\n",
       "    <tr>\n",
       "      <th>count</th>\n",
       "      <td>240.00000</td>\n",
       "      <td>240.000000</td>\n",
       "      <td>240.000000</td>\n",
       "      <td>240.000000</td>\n",
       "      <td>240.000000</td>\n",
       "      <td>240.000000</td>\n",
       "    </tr>\n",
       "    <tr>\n",
       "      <th>mean</th>\n",
       "      <td>119.50000</td>\n",
       "      <td>10497.462500</td>\n",
       "      <td>107188.361635</td>\n",
       "      <td>237.157781</td>\n",
       "      <td>4.382396</td>\n",
       "      <td>2.500000</td>\n",
       "    </tr>\n",
       "    <tr>\n",
       "      <th>std</th>\n",
       "      <td>69.42622</td>\n",
       "      <td>9552.425037</td>\n",
       "      <td>179432.244940</td>\n",
       "      <td>517.155763</td>\n",
       "      <td>10.532512</td>\n",
       "      <td>1.711394</td>\n",
       "    </tr>\n",
       "    <tr>\n",
       "      <th>min</th>\n",
       "      <td>0.00000</td>\n",
       "      <td>1939.000000</td>\n",
       "      <td>0.000080</td>\n",
       "      <td>0.008400</td>\n",
       "      <td>-11.920000</td>\n",
       "      <td>0.000000</td>\n",
       "    </tr>\n",
       "    <tr>\n",
       "      <th>25%</th>\n",
       "      <td>59.75000</td>\n",
       "      <td>3344.250000</td>\n",
       "      <td>0.000865</td>\n",
       "      <td>0.102750</td>\n",
       "      <td>-6.232500</td>\n",
       "      <td>1.000000</td>\n",
       "    </tr>\n",
       "    <tr>\n",
       "      <th>50%</th>\n",
       "      <td>119.50000</td>\n",
       "      <td>5776.000000</td>\n",
       "      <td>0.070500</td>\n",
       "      <td>0.762500</td>\n",
       "      <td>8.313000</td>\n",
       "      <td>2.500000</td>\n",
       "    </tr>\n",
       "    <tr>\n",
       "      <th>75%</th>\n",
       "      <td>179.25000</td>\n",
       "      <td>15055.500000</td>\n",
       "      <td>198050.000000</td>\n",
       "      <td>42.750000</td>\n",
       "      <td>13.697500</td>\n",
       "      <td>4.000000</td>\n",
       "    </tr>\n",
       "    <tr>\n",
       "      <th>max</th>\n",
       "      <td>239.00000</td>\n",
       "      <td>40000.000000</td>\n",
       "      <td>849420.000000</td>\n",
       "      <td>1948.500000</td>\n",
       "      <td>20.060000</td>\n",
       "      <td>5.000000</td>\n",
       "    </tr>\n",
       "  </tbody>\n",
       "</table>\n",
       "</div>"
      ],
      "text/plain": [
       "       Unnamed: 0  Temperature (K)  Luminosity(L/Lo)  Radius(R/Ro)  \\\n",
       "count   240.00000       240.000000        240.000000    240.000000   \n",
       "mean    119.50000     10497.462500     107188.361635    237.157781   \n",
       "std      69.42622      9552.425037     179432.244940    517.155763   \n",
       "min       0.00000      1939.000000          0.000080      0.008400   \n",
       "25%      59.75000      3344.250000          0.000865      0.102750   \n",
       "50%     119.50000      5776.000000          0.070500      0.762500   \n",
       "75%     179.25000     15055.500000     198050.000000     42.750000   \n",
       "max     239.00000     40000.000000     849420.000000   1948.500000   \n",
       "\n",
       "       Absolute magnitude(Mv)   Star type  \n",
       "count              240.000000  240.000000  \n",
       "mean                 4.382396    2.500000  \n",
       "std                 10.532512    1.711394  \n",
       "min                -11.920000    0.000000  \n",
       "25%                 -6.232500    1.000000  \n",
       "50%                  8.313000    2.500000  \n",
       "75%                 13.697500    4.000000  \n",
       "max                 20.060000    5.000000  "
      ]
     },
     "execution_count": 5,
     "metadata": {},
     "output_type": "execute_result"
    }
   ],
   "source": [
    "df.describe()"
   ]
  },
  {
   "cell_type": "code",
   "execution_count": 6,
   "id": "6304dd4b",
   "metadata": {
    "scrolled": true
   },
   "outputs": [
    {
     "data": {
      "text/html": [
       "<div>\n",
       "<style scoped>\n",
       "    .dataframe tbody tr th:only-of-type {\n",
       "        vertical-align: middle;\n",
       "    }\n",
       "\n",
       "    .dataframe tbody tr th {\n",
       "        vertical-align: top;\n",
       "    }\n",
       "\n",
       "    .dataframe thead th {\n",
       "        text-align: right;\n",
       "    }\n",
       "</style>\n",
       "<table border=\"1\" class=\"dataframe\">\n",
       "  <thead>\n",
       "    <tr style=\"text-align: right;\">\n",
       "      <th></th>\n",
       "      <th>Unnamed: 0</th>\n",
       "      <th>Temperature (K)</th>\n",
       "      <th>Luminosity(L/Lo)</th>\n",
       "      <th>Radius(R/Ro)</th>\n",
       "      <th>Absolute magnitude(Mv)</th>\n",
       "      <th>Star type</th>\n",
       "      <th>Star color</th>\n",
       "    </tr>\n",
       "  </thead>\n",
       "  <tbody>\n",
       "    <tr>\n",
       "      <th>0</th>\n",
       "      <td>0</td>\n",
       "      <td>3068</td>\n",
       "      <td>0.002400</td>\n",
       "      <td>0.1700</td>\n",
       "      <td>16.12</td>\n",
       "      <td>0</td>\n",
       "      <td>Red</td>\n",
       "    </tr>\n",
       "    <tr>\n",
       "      <th>1</th>\n",
       "      <td>1</td>\n",
       "      <td>3042</td>\n",
       "      <td>0.000500</td>\n",
       "      <td>0.1542</td>\n",
       "      <td>16.60</td>\n",
       "      <td>0</td>\n",
       "      <td>Red</td>\n",
       "    </tr>\n",
       "    <tr>\n",
       "      <th>2</th>\n",
       "      <td>2</td>\n",
       "      <td>2600</td>\n",
       "      <td>0.000300</td>\n",
       "      <td>0.1020</td>\n",
       "      <td>18.70</td>\n",
       "      <td>0</td>\n",
       "      <td>Red</td>\n",
       "    </tr>\n",
       "    <tr>\n",
       "      <th>3</th>\n",
       "      <td>3</td>\n",
       "      <td>2800</td>\n",
       "      <td>0.000200</td>\n",
       "      <td>0.1600</td>\n",
       "      <td>16.65</td>\n",
       "      <td>0</td>\n",
       "      <td>Red</td>\n",
       "    </tr>\n",
       "    <tr>\n",
       "      <th>4</th>\n",
       "      <td>4</td>\n",
       "      <td>1939</td>\n",
       "      <td>0.000138</td>\n",
       "      <td>0.1030</td>\n",
       "      <td>20.06</td>\n",
       "      <td>0</td>\n",
       "      <td>Red</td>\n",
       "    </tr>\n",
       "    <tr>\n",
       "      <th>...</th>\n",
       "      <td>...</td>\n",
       "      <td>...</td>\n",
       "      <td>...</td>\n",
       "      <td>...</td>\n",
       "      <td>...</td>\n",
       "      <td>...</td>\n",
       "      <td>...</td>\n",
       "    </tr>\n",
       "    <tr>\n",
       "      <th>235</th>\n",
       "      <td>235</td>\n",
       "      <td>38940</td>\n",
       "      <td>374830.000000</td>\n",
       "      <td>1356.0000</td>\n",
       "      <td>-9.93</td>\n",
       "      <td>5</td>\n",
       "      <td>Blue</td>\n",
       "    </tr>\n",
       "    <tr>\n",
       "      <th>236</th>\n",
       "      <td>236</td>\n",
       "      <td>30839</td>\n",
       "      <td>834042.000000</td>\n",
       "      <td>1194.0000</td>\n",
       "      <td>-10.63</td>\n",
       "      <td>5</td>\n",
       "      <td>Blue</td>\n",
       "    </tr>\n",
       "    <tr>\n",
       "      <th>237</th>\n",
       "      <td>237</td>\n",
       "      <td>8829</td>\n",
       "      <td>537493.000000</td>\n",
       "      <td>1423.0000</td>\n",
       "      <td>-10.73</td>\n",
       "      <td>5</td>\n",
       "      <td>White</td>\n",
       "    </tr>\n",
       "    <tr>\n",
       "      <th>238</th>\n",
       "      <td>238</td>\n",
       "      <td>9235</td>\n",
       "      <td>404940.000000</td>\n",
       "      <td>1112.0000</td>\n",
       "      <td>-11.23</td>\n",
       "      <td>5</td>\n",
       "      <td>White</td>\n",
       "    </tr>\n",
       "    <tr>\n",
       "      <th>239</th>\n",
       "      <td>239</td>\n",
       "      <td>37882</td>\n",
       "      <td>294903.000000</td>\n",
       "      <td>1783.0000</td>\n",
       "      <td>-7.80</td>\n",
       "      <td>5</td>\n",
       "      <td>Blue</td>\n",
       "    </tr>\n",
       "  </tbody>\n",
       "</table>\n",
       "<p>240 rows × 7 columns</p>\n",
       "</div>"
      ],
      "text/plain": [
       "     Unnamed: 0  Temperature (K)  Luminosity(L/Lo)  Radius(R/Ro)  \\\n",
       "0             0             3068          0.002400        0.1700   \n",
       "1             1             3042          0.000500        0.1542   \n",
       "2             2             2600          0.000300        0.1020   \n",
       "3             3             2800          0.000200        0.1600   \n",
       "4             4             1939          0.000138        0.1030   \n",
       "..          ...              ...               ...           ...   \n",
       "235         235            38940     374830.000000     1356.0000   \n",
       "236         236            30839     834042.000000     1194.0000   \n",
       "237         237             8829     537493.000000     1423.0000   \n",
       "238         238             9235     404940.000000     1112.0000   \n",
       "239         239            37882     294903.000000     1783.0000   \n",
       "\n",
       "     Absolute magnitude(Mv)  Star type Star color  \n",
       "0                     16.12          0        Red  \n",
       "1                     16.60          0        Red  \n",
       "2                     18.70          0        Red  \n",
       "3                     16.65          0        Red  \n",
       "4                     20.06          0        Red  \n",
       "..                      ...        ...        ...  \n",
       "235                   -9.93          5       Blue  \n",
       "236                  -10.63          5       Blue  \n",
       "237                  -10.73          5      White  \n",
       "238                  -11.23          5      White  \n",
       "239                   -7.80          5       Blue  \n",
       "\n",
       "[240 rows x 7 columns]"
      ]
     },
     "execution_count": 6,
     "metadata": {},
     "output_type": "execute_result"
    }
   ],
   "source": [
    "df"
   ]
  },
  {
   "cell_type": "markdown",
   "id": "simple-subdivision",
   "metadata": {},
   "source": [
    "## Предобработка и анализ данных"
   ]
  },
  {
   "cell_type": "code",
   "execution_count": 7,
   "id": "flush-dream",
   "metadata": {},
   "outputs": [],
   "source": [
    "df = df.drop('Unnamed: 0',axis=1) #Удаляем столбец с нумерацией "
   ]
  },
  {
   "cell_type": "code",
   "execution_count": 8,
   "id": "35432617",
   "metadata": {},
   "outputs": [],
   "source": [
    "df = df.rename(columns={'Temperature (K)':'temp','Luminosity(L/Lo)':'luminos',\n",
    "                        'Radius(R/Ro)':'radius','Absolute magnitude(Mv)':'magnitude',\n",
    "                       'Star type':'type','Star color':'color'})"
   ]
  },
  {
   "cell_type": "code",
   "execution_count": 9,
   "id": "413d2140",
   "metadata": {},
   "outputs": [
    {
     "data": {
      "text/plain": [
       "array([0, 1, 2, 3, 4, 5])"
      ]
     },
     "execution_count": 9,
     "metadata": {},
     "output_type": "execute_result"
    }
   ],
   "source": [
    "df['type'].unique()"
   ]
  },
  {
   "cell_type": "code",
   "execution_count": 10,
   "id": "34b78ed7",
   "metadata": {},
   "outputs": [
    {
     "data": {
      "text/plain": [
       "array(['Red', 'Blue White', 'White', 'Yellowish White', 'Blue white',\n",
       "       'Pale yellow orange', 'Blue', 'Blue-white', 'Whitish',\n",
       "       'yellow-white', 'Orange', 'White-Yellow', 'white', 'Blue ',\n",
       "       'yellowish', 'Yellowish', 'Orange-Red', 'Blue white ',\n",
       "       'Blue-White'], dtype=object)"
      ]
     },
     "execution_count": 10,
     "metadata": {},
     "output_type": "execute_result"
    }
   ],
   "source": [
    "df['color'].unique()"
   ]
  },
  {
   "cell_type": "markdown",
   "id": "2da7af07",
   "metadata": {},
   "source": [
    "В столбце с цветом звезды были обнаружены проблемы в цветах"
   ]
  },
  {
   "cell_type": "code",
   "execution_count": 11,
   "id": "983b6a6e",
   "metadata": {},
   "outputs": [],
   "source": [
    "df['color'] = df['color'].str.lower() #Приведение всех названий к нижнему регистру\n",
    "df['color'] = df['color'].str.replace(' ','-') #Замена всех пробелов на - для приведения к общему типу цвет_1-цвет_2\n",
    "df['color'] = df['color'].replace(['blue-white-','blue-'],['blue-white','blue'])"
   ]
  },
  {
   "cell_type": "code",
   "execution_count": 12,
   "id": "0b09313b",
   "metadata": {},
   "outputs": [
    {
     "data": {
      "text/plain": [
       "array(['red', 'blue-white', 'white', 'yellowish-white',\n",
       "       'pale-yellow-orange', 'blue', 'whitish', 'yellow-white', 'orange',\n",
       "       'white-yellow', 'yellowish', 'orange-red'], dtype=object)"
      ]
     },
     "execution_count": 12,
     "metadata": {},
     "output_type": "execute_result"
    }
   ],
   "source": [
    "df['color'].unique()"
   ]
  },
  {
   "cell_type": "markdown",
   "id": "75bde9eb",
   "metadata": {},
   "source": [
    "Проблемы значений в столбце с цветом исправлены!"
   ]
  },
  {
   "cell_type": "code",
   "execution_count": 13,
   "id": "f244614f",
   "metadata": {},
   "outputs": [
    {
     "data": {
      "image/png": "[encoded data removed]",
      "text/plain": [
       "<Figure size 576x288 with 1 Axes>"
      ]
     },
     "metadata": {
      "needs_background": "light"
     },
     "output_type": "display_data"
    },
    {
     "data": {
      "image/png": "[encoded data removed]",
      "text/plain": [
       "<Figure size 576x288 with 1 Axes>"
      ]
     },
     "metadata": {
      "needs_background": "light"
     },
     "output_type": "display_data"
    }
   ],
   "source": [
    "plotting('temp','График температур на звездах','boxplot температур на звездах','Температура (К)')"
   ]
  },
  {
   "cell_type": "markdown",
   "id": "31653451",
   "metadata": {},
   "source": [
    "Исходя из графиков мы можем видеть, что температура большинства звезд находится до 5500К при этом аномальными значениями исходя из графика boxplot мы можем посчитать все зввезды чья температура выше 34000К. Мы можем оставить лишь не аномальные данные во всех характеристиках и по итогу посмотреть сколько процентов данных мы потерям."
   ]
  },
  {
   "cell_type": "code",
   "execution_count": 14,
   "id": "a6f1402a",
   "metadata": {},
   "outputs": [],
   "source": [
    "df_2 = df.query('temp<34000')"
   ]
  },
  {
   "cell_type": "code",
   "execution_count": 15,
   "id": "c6483881",
   "metadata": {},
   "outputs": [
    {
     "data": {
      "image/png": "[encoded data removed]",
      "text/plain": [
       "<Figure size 576x288 with 1 Axes>"
      ]
     },
     "metadata": {
      "needs_background": "light"
     },
     "output_type": "display_data"
    },
    {
     "data": {
      "image/png": "[encoded data removed]",
      "text/plain": [
       "<Figure size 576x288 with 1 Axes>"
      ]
     },
     "metadata": {
      "needs_background": "light"
     },
     "output_type": "display_data"
    }
   ],
   "source": [
    "plotting('luminos','График светимости звезд','boxplot светимости звезд','Светимость (относительно Солнца)')"
   ]
  },
  {
   "cell_type": "markdown",
   "id": "7bad5651",
   "metadata": {},
   "source": [
    "Большинство звезд в наших данных сходны по светимости с Солнцем, при этои аномальными значениями можно считать светимость больше 500000 светимостей Солнца."
   ]
  },
  {
   "cell_type": "code",
   "execution_count": 16,
   "id": "69796679",
   "metadata": {},
   "outputs": [],
   "source": [
    "df_2 = df_2.query('luminos<500000')"
   ]
  },
  {
   "cell_type": "code",
   "execution_count": 17,
   "id": "c4e65529",
   "metadata": {},
   "outputs": [
    {
     "data": {
      "image/png": "[encoded data removed]",
      "text/plain": [
       "<Figure size 576x288 with 1 Axes>"
      ]
     },
     "metadata": {
      "needs_background": "light"
     },
     "output_type": "display_data"
    },
    {
     "data": {
      "image/png": "[encoded data removed]",
      "text/plain": [
       "<Figure size 576x288 with 1 Axes>"
      ]
     },
     "metadata": {
      "needs_background": "light"
     },
     "output_type": "display_data"
    }
   ],
   "source": [
    "plotting('radius','График радиуса звезд','boxplot радиуса звезд','Радиус (относительно Солнца)')"
   ]
  },
  {
   "cell_type": "markdown",
   "id": "26e086ea",
   "metadata": {},
   "source": [
    "Исходя из графиков мы можем сделать вывод, что большинство звезд в наших данных сходны по радиусу с Солнцем, при этом аномальными данными можно считать звезды больше чем 250 радиусов Солнца"
   ]
  },
  {
   "cell_type": "code",
   "execution_count": 18,
   "id": "8de2a5d8",
   "metadata": {},
   "outputs": [],
   "source": [
    "df_2 = df_2.query('radius<250')"
   ]
  },
  {
   "cell_type": "code",
   "execution_count": 19,
   "id": "fd708092",
   "metadata": {},
   "outputs": [
    {
     "data": {
      "image/png": "[encoded data removed]",
      "text/plain": [
       "<Figure size 576x288 with 1 Axes>"
      ]
     },
     "metadata": {
      "needs_background": "light"
     },
     "output_type": "display_data"
    },
    {
     "data": {
      "image/png": "[encoded data removed]",
      "text/plain": [
       "<Figure size 576x288 with 1 Axes>"
      ]
     },
     "metadata": {
      "needs_background": "light"
     },
     "output_type": "display_data"
    }
   ],
   "source": [
    "plotting('magnitude','График блеска звезд','boxplot блеска звезд','Блеск звезд')"
   ]
  },
  {
   "cell_type": "markdown",
   "id": "90682916",
   "metadata": {},
   "source": [
    "Исходя из графиков мы можем увидеть, что данные о блеске здвезд распространены более равномерно, чем остальные величины, а аномальные значения исходя из boxplot отсутствуют вовсе"
   ]
  },
  {
   "cell_type": "code",
   "execution_count": 20,
   "id": "10f62f2c",
   "metadata": {},
   "outputs": [
    {
     "data": {
      "text/plain": [
       "temp         191\n",
       "luminos      191\n",
       "radius       191\n",
       "magnitude    191\n",
       "type         191\n",
       "color        191\n",
       "dtype: int64"
      ]
     },
     "execution_count": 20,
     "metadata": {},
     "output_type": "execute_result"
    }
   ],
   "source": [
    "df_2.count()"
   ]
  },
  {
   "cell_type": "code",
   "execution_count": 21,
   "id": "98b22a8f",
   "metadata": {},
   "outputs": [
    {
     "data": {
      "text/plain": [
       "20.41666666666667"
      ]
     },
     "execution_count": 21,
     "metadata": {},
     "output_type": "execute_result"
    }
   ],
   "source": [
    "100-191/240*100"
   ]
  },
  {
   "cell_type": "markdown",
   "id": "060ccd78",
   "metadata": {},
   "source": [
    "После удаления всех аномальных значений мы потеряли 20,4% данных, что слишком много, а значит мы вынуждены будем оставить наши данные вместе с аномальными значениями."
   ]
  },
  {
   "cell_type": "markdown",
   "id": "b849e98c",
   "metadata": {},
   "source": [
    "### Подготовка данных для построения нейросети"
   ]
  },
  {
   "cell_type": "code",
   "execution_count": 22,
   "id": "ef675df2",
   "metadata": {},
   "outputs": [],
   "source": [
    "target = df['temp']\n",
    "features = df.drop('temp',axis=1)"
   ]
  },
  {
   "cell_type": "code",
   "execution_count": 23,
   "id": "4cd2e0ce",
   "metadata": {},
   "outputs": [],
   "source": [
    "#Разделение выборки на тестовую и обучающую\n",
    "train_features, test_features, train_target, test_target = train_test_split(\n",
    "    features, \n",
    "    target, \n",
    "    test_size=0.3, \n",
    "    shuffle=True,\n",
    "    random_state=44)"
   ]
  },
  {
   "cell_type": "code",
   "execution_count": 24,
   "id": "73cfd62f",
   "metadata": {},
   "outputs": [],
   "source": [
    "onehot_encoder = OneHotEncoder(sparse=False, drop='first') #Перевод категориальных значений к числовым по средством метода One-Hot Encoding с удалением первого столбца для избегания дамми ловушки\n",
    "\n",
    "categories = ['type','color'] \n",
    "numerics = ['luminos','radius','magnitude']\n",
    "\n",
    "onehot_encoder.fit(train_features[categories])\n",
    "\n",
    "train_features_result = onehot_encoder.transform(train_features[categories])\n",
    "train_features_result = pd.DataFrame(train_features_result, columns=onehot_encoder.get_feature_names(categories),\\\n",
    "                                                                        index=train_features.index)\n",
    "train_features = train_features_result.join(train_features[numerics])\n",
    "\n",
    "\n",
    "\n",
    "test_features_result = onehot_encoder.transform(test_features[categories])\n",
    "test_features_result = pd.DataFrame(test_features_result, columns=onehot_encoder.get_feature_names(categories),\\\n",
    "                                                                        index=test_features.index)\n",
    "test_features = test_features_result.join(test_features[numerics])\n",
    "\n"
   ]
  },
  {
   "cell_type": "code",
   "execution_count": 25,
   "id": "82924385",
   "metadata": {},
   "outputs": [],
   "source": [
    "other_train = train_features.drop(['luminos','radius','magnitude'],axis=1)\n",
    "other_test = test_features.drop(['luminos','radius','magnitude'],axis=1)\n",
    "\n",
    "scaler = StandardScaler() #Масштабирование всех признаков\n",
    "scaler.fit(train_features[numerics])\n",
    "\n",
    "train_features_scaled = scaler.transform(train_features[numerics])\n",
    "train_features_scaled = pd.DataFrame(train_features_scaled, columns=numerics,\\\n",
    "                                                                        index=train_features.index)\n",
    "train_features = train_features_scaled.join(other_train)\n",
    "\n",
    "\n",
    "test_features_scaled = scaler.transform(test_features[numerics])\n",
    "test_features_scaled = pd.DataFrame(test_features_scaled, columns=numerics,\\\n",
    "                                                                        index=test_features.index)\n",
    "test_features = test_features_scaled.join(other_test)"
   ]
  },
  {
   "cell_type": "code",
   "execution_count": 26,
   "id": "a89abb71",
   "metadata": {},
   "outputs": [
    {
     "data": {
      "text/html": [
       "<div>\n",
       "<style scoped>\n",
       "    .dataframe tbody tr th:only-of-type {\n",
       "        vertical-align: middle;\n",
       "    }\n",
       "\n",
       "    .dataframe tbody tr th {\n",
       "        vertical-align: top;\n",
       "    }\n",
       "\n",
       "    .dataframe thead th {\n",
       "        text-align: right;\n",
       "    }\n",
       "</style>\n",
       "<table border=\"1\" class=\"dataframe\">\n",
       "  <thead>\n",
       "    <tr style=\"text-align: right;\">\n",
       "      <th></th>\n",
       "      <th>luminos</th>\n",
       "      <th>radius</th>\n",
       "      <th>magnitude</th>\n",
       "      <th>type_1</th>\n",
       "      <th>type_2</th>\n",
       "      <th>type_3</th>\n",
       "      <th>type_4</th>\n",
       "      <th>type_5</th>\n",
       "      <th>color_blue-white</th>\n",
       "      <th>color_orange</th>\n",
       "      <th>color_orange-red</th>\n",
       "      <th>color_pale-yellow-orange</th>\n",
       "      <th>color_red</th>\n",
       "      <th>color_white</th>\n",
       "      <th>color_white-yellow</th>\n",
       "      <th>color_whitish</th>\n",
       "      <th>color_yellow-white</th>\n",
       "      <th>color_yellowish</th>\n",
       "      <th>color_yellowish-white</th>\n",
       "    </tr>\n",
       "  </thead>\n",
       "  <tbody>\n",
       "    <tr>\n",
       "      <th>108</th>\n",
       "      <td>0.209341</td>\n",
       "      <td>-0.377501</td>\n",
       "      <td>-1.020824</td>\n",
       "      <td>0.0</td>\n",
       "      <td>0.0</td>\n",
       "      <td>0.0</td>\n",
       "      <td>1.0</td>\n",
       "      <td>0.0</td>\n",
       "      <td>0.0</td>\n",
       "      <td>0.0</td>\n",
       "      <td>0.0</td>\n",
       "      <td>0.0</td>\n",
       "      <td>0.0</td>\n",
       "      <td>0.0</td>\n",
       "      <td>0.0</td>\n",
       "      <td>0.0</td>\n",
       "      <td>0.0</td>\n",
       "      <td>0.0</td>\n",
       "      <td>0.0</td>\n",
       "    </tr>\n",
       "    <tr>\n",
       "      <th>17</th>\n",
       "      <td>-0.579004</td>\n",
       "      <td>-0.483225</td>\n",
       "      <td>0.616117</td>\n",
       "      <td>1.0</td>\n",
       "      <td>0.0</td>\n",
       "      <td>0.0</td>\n",
       "      <td>0.0</td>\n",
       "      <td>0.0</td>\n",
       "      <td>0.0</td>\n",
       "      <td>0.0</td>\n",
       "      <td>0.0</td>\n",
       "      <td>0.0</td>\n",
       "      <td>1.0</td>\n",
       "      <td>0.0</td>\n",
       "      <td>0.0</td>\n",
       "      <td>0.0</td>\n",
       "      <td>0.0</td>\n",
       "      <td>0.0</td>\n",
       "      <td>0.0</td>\n",
       "    </tr>\n",
       "    <tr>\n",
       "      <th>159</th>\n",
       "      <td>0.547441</td>\n",
       "      <td>-0.471274</td>\n",
       "      <td>-0.859436</td>\n",
       "      <td>0.0</td>\n",
       "      <td>0.0</td>\n",
       "      <td>1.0</td>\n",
       "      <td>0.0</td>\n",
       "      <td>0.0</td>\n",
       "      <td>0.0</td>\n",
       "      <td>0.0</td>\n",
       "      <td>0.0</td>\n",
       "      <td>0.0</td>\n",
       "      <td>0.0</td>\n",
       "      <td>0.0</td>\n",
       "      <td>0.0</td>\n",
       "      <td>0.0</td>\n",
       "      <td>0.0</td>\n",
       "      <td>0.0</td>\n",
       "      <td>0.0</td>\n",
       "    </tr>\n",
       "    <tr>\n",
       "      <th>60</th>\n",
       "      <td>-0.579004</td>\n",
       "      <td>-0.483998</td>\n",
       "      <td>1.137748</td>\n",
       "      <td>0.0</td>\n",
       "      <td>0.0</td>\n",
       "      <td>0.0</td>\n",
       "      <td>0.0</td>\n",
       "      <td>0.0</td>\n",
       "      <td>0.0</td>\n",
       "      <td>0.0</td>\n",
       "      <td>0.0</td>\n",
       "      <td>0.0</td>\n",
       "      <td>1.0</td>\n",
       "      <td>0.0</td>\n",
       "      <td>0.0</td>\n",
       "      <td>0.0</td>\n",
       "      <td>0.0</td>\n",
       "      <td>0.0</td>\n",
       "      <td>0.0</td>\n",
       "    </tr>\n",
       "    <tr>\n",
       "      <th>85</th>\n",
       "      <td>-0.579004</td>\n",
       "      <td>-0.484084</td>\n",
       "      <td>0.921602</td>\n",
       "      <td>0.0</td>\n",
       "      <td>1.0</td>\n",
       "      <td>0.0</td>\n",
       "      <td>0.0</td>\n",
       "      <td>0.0</td>\n",
       "      <td>1.0</td>\n",
       "      <td>0.0</td>\n",
       "      <td>0.0</td>\n",
       "      <td>0.0</td>\n",
       "      <td>0.0</td>\n",
       "      <td>0.0</td>\n",
       "      <td>0.0</td>\n",
       "      <td>0.0</td>\n",
       "      <td>0.0</td>\n",
       "      <td>0.0</td>\n",
       "      <td>0.0</td>\n",
       "    </tr>\n",
       "    <tr>\n",
       "      <th>...</th>\n",
       "      <td>...</td>\n",
       "      <td>...</td>\n",
       "      <td>...</td>\n",
       "      <td>...</td>\n",
       "      <td>...</td>\n",
       "      <td>...</td>\n",
       "      <td>...</td>\n",
       "      <td>...</td>\n",
       "      <td>...</td>\n",
       "      <td>...</td>\n",
       "      <td>...</td>\n",
       "      <td>...</td>\n",
       "      <td>...</td>\n",
       "      <td>...</td>\n",
       "      <td>...</td>\n",
       "      <td>...</td>\n",
       "      <td>...</td>\n",
       "      <td>...</td>\n",
       "      <td>...</td>\n",
       "    </tr>\n",
       "    <tr>\n",
       "      <th>131</th>\n",
       "      <td>-0.579004</td>\n",
       "      <td>-0.483393</td>\n",
       "      <td>0.571927</td>\n",
       "      <td>1.0</td>\n",
       "      <td>0.0</td>\n",
       "      <td>0.0</td>\n",
       "      <td>0.0</td>\n",
       "      <td>0.0</td>\n",
       "      <td>0.0</td>\n",
       "      <td>0.0</td>\n",
       "      <td>0.0</td>\n",
       "      <td>0.0</td>\n",
       "      <td>1.0</td>\n",
       "      <td>0.0</td>\n",
       "      <td>0.0</td>\n",
       "      <td>0.0</td>\n",
       "      <td>0.0</td>\n",
       "      <td>0.0</td>\n",
       "      <td>0.0</td>\n",
       "    </tr>\n",
       "    <tr>\n",
       "      <th>59</th>\n",
       "      <td>0.503582</td>\n",
       "      <td>2.407265</td>\n",
       "      <td>-1.512675</td>\n",
       "      <td>0.0</td>\n",
       "      <td>0.0</td>\n",
       "      <td>0.0</td>\n",
       "      <td>0.0</td>\n",
       "      <td>1.0</td>\n",
       "      <td>0.0</td>\n",
       "      <td>0.0</td>\n",
       "      <td>0.0</td>\n",
       "      <td>0.0</td>\n",
       "      <td>1.0</td>\n",
       "      <td>0.0</td>\n",
       "      <td>0.0</td>\n",
       "      <td>0.0</td>\n",
       "      <td>0.0</td>\n",
       "      <td>0.0</td>\n",
       "      <td>0.0</td>\n",
       "    </tr>\n",
       "    <tr>\n",
       "      <th>173</th>\n",
       "      <td>1.175341</td>\n",
       "      <td>2.656005</td>\n",
       "      <td>-1.295569</td>\n",
       "      <td>0.0</td>\n",
       "      <td>0.0</td>\n",
       "      <td>0.0</td>\n",
       "      <td>0.0</td>\n",
       "      <td>1.0</td>\n",
       "      <td>0.0</td>\n",
       "      <td>0.0</td>\n",
       "      <td>0.0</td>\n",
       "      <td>0.0</td>\n",
       "      <td>0.0</td>\n",
       "      <td>0.0</td>\n",
       "      <td>0.0</td>\n",
       "      <td>0.0</td>\n",
       "      <td>0.0</td>\n",
       "      <td>0.0</td>\n",
       "      <td>0.0</td>\n",
       "    </tr>\n",
       "    <tr>\n",
       "      <th>163</th>\n",
       "      <td>0.781169</td>\n",
       "      <td>-0.302692</td>\n",
       "      <td>-1.058289</td>\n",
       "      <td>0.0</td>\n",
       "      <td>0.0</td>\n",
       "      <td>0.0</td>\n",
       "      <td>1.0</td>\n",
       "      <td>0.0</td>\n",
       "      <td>0.0</td>\n",
       "      <td>0.0</td>\n",
       "      <td>0.0</td>\n",
       "      <td>0.0</td>\n",
       "      <td>0.0</td>\n",
       "      <td>0.0</td>\n",
       "      <td>0.0</td>\n",
       "      <td>0.0</td>\n",
       "      <td>0.0</td>\n",
       "      <td>0.0</td>\n",
       "      <td>0.0</td>\n",
       "    </tr>\n",
       "    <tr>\n",
       "      <th>20</th>\n",
       "      <td>-0.579004</td>\n",
       "      <td>-0.484088</td>\n",
       "      <td>0.594982</td>\n",
       "      <td>0.0</td>\n",
       "      <td>1.0</td>\n",
       "      <td>0.0</td>\n",
       "      <td>0.0</td>\n",
       "      <td>0.0</td>\n",
       "      <td>1.0</td>\n",
       "      <td>0.0</td>\n",
       "      <td>0.0</td>\n",
       "      <td>0.0</td>\n",
       "      <td>0.0</td>\n",
       "      <td>0.0</td>\n",
       "      <td>0.0</td>\n",
       "      <td>0.0</td>\n",
       "      <td>0.0</td>\n",
       "      <td>0.0</td>\n",
       "      <td>0.0</td>\n",
       "    </tr>\n",
       "  </tbody>\n",
       "</table>\n",
       "<p>168 rows × 19 columns</p>\n",
       "</div>"
      ],
      "text/plain": [
       "      luminos    radius  magnitude  type_1  type_2  type_3  type_4  type_5  \\\n",
       "108  0.209341 -0.377501  -1.020824     0.0     0.0     0.0     1.0     0.0   \n",
       "17  -0.579004 -0.483225   0.616117     1.0     0.0     0.0     0.0     0.0   \n",
       "159  0.547441 -0.471274  -0.859436     0.0     0.0     1.0     0.0     0.0   \n",
       "60  -0.579004 -0.483998   1.137748     0.0     0.0     0.0     0.0     0.0   \n",
       "85  -0.579004 -0.484084   0.921602     0.0     1.0     0.0     0.0     0.0   \n",
       "..        ...       ...        ...     ...     ...     ...     ...     ...   \n",
       "131 -0.579004 -0.483393   0.571927     1.0     0.0     0.0     0.0     0.0   \n",
       "59   0.503582  2.407265  -1.512675     0.0     0.0     0.0     0.0     1.0   \n",
       "173  1.175341  2.656005  -1.295569     0.0     0.0     0.0     0.0     1.0   \n",
       "163  0.781169 -0.302692  -1.058289     0.0     0.0     0.0     1.0     0.0   \n",
       "20  -0.579004 -0.484088   0.594982     0.0     1.0     0.0     0.0     0.0   \n",
       "\n",
       "     color_blue-white  color_orange  color_orange-red  \\\n",
       "108               0.0           0.0               0.0   \n",
       "17                0.0           0.0               0.0   \n",
       "159               0.0           0.0               0.0   \n",
       "60                0.0           0.0               0.0   \n",
       "85                1.0           0.0               0.0   \n",
       "..                ...           ...               ...   \n",
       "131               0.0           0.0               0.0   \n",
       "59                0.0           0.0               0.0   \n",
       "173               0.0           0.0               0.0   \n",
       "163               0.0           0.0               0.0   \n",
       "20                1.0           0.0               0.0   \n",
       "\n",
       "     color_pale-yellow-orange  color_red  color_white  color_white-yellow  \\\n",
       "108                       0.0        0.0          0.0                 0.0   \n",
       "17                        0.0        1.0          0.0                 0.0   \n",
       "159                       0.0        0.0          0.0                 0.0   \n",
       "60                        0.0        1.0          0.0                 0.0   \n",
       "85                        0.0        0.0          0.0                 0.0   \n",
       "..                        ...        ...          ...                 ...   \n",
       "131                       0.0        1.0          0.0                 0.0   \n",
       "59                        0.0        1.0          0.0                 0.0   \n",
       "173                       0.0        0.0          0.0                 0.0   \n",
       "163                       0.0        0.0          0.0                 0.0   \n",
       "20                        0.0        0.0          0.0                 0.0   \n",
       "\n",
       "     color_whitish  color_yellow-white  color_yellowish  color_yellowish-white  \n",
       "108            0.0                 0.0              0.0                    0.0  \n",
       "17             0.0                 0.0              0.0                    0.0  \n",
       "159            0.0                 0.0              0.0                    0.0  \n",
       "60             0.0                 0.0              0.0                    0.0  \n",
       "85             0.0                 0.0              0.0                    0.0  \n",
       "..             ...                 ...              ...                    ...  \n",
       "131            0.0                 0.0              0.0                    0.0  \n",
       "59             0.0                 0.0              0.0                    0.0  \n",
       "173            0.0                 0.0              0.0                    0.0  \n",
       "163            0.0                 0.0              0.0                    0.0  \n",
       "20             0.0                 0.0              0.0                    0.0  \n",
       "\n",
       "[168 rows x 19 columns]"
      ]
     },
     "execution_count": 26,
     "metadata": {},
     "output_type": "execute_result"
    }
   ],
   "source": [
    "train_features"
   ]
  },
  {
   "cell_type": "code",
   "execution_count": 27,
   "id": "5f7224b3",
   "metadata": {},
   "outputs": [
    {
     "data": {
      "text/html": [
       "<div>\n",
       "<style scoped>\n",
       "    .dataframe tbody tr th:only-of-type {\n",
       "        vertical-align: middle;\n",
       "    }\n",
       "\n",
       "    .dataframe tbody tr th {\n",
       "        vertical-align: top;\n",
       "    }\n",
       "\n",
       "    .dataframe thead th {\n",
       "        text-align: right;\n",
       "    }\n",
       "</style>\n",
       "<table border=\"1\" class=\"dataframe\">\n",
       "  <thead>\n",
       "    <tr style=\"text-align: right;\">\n",
       "      <th></th>\n",
       "      <th>luminos</th>\n",
       "      <th>radius</th>\n",
       "      <th>magnitude</th>\n",
       "      <th>type_1</th>\n",
       "      <th>type_2</th>\n",
       "      <th>type_3</th>\n",
       "      <th>type_4</th>\n",
       "      <th>type_5</th>\n",
       "      <th>color_blue-white</th>\n",
       "      <th>color_orange</th>\n",
       "      <th>color_orange-red</th>\n",
       "      <th>color_pale-yellow-orange</th>\n",
       "      <th>color_red</th>\n",
       "      <th>color_white</th>\n",
       "      <th>color_white-yellow</th>\n",
       "      <th>color_whitish</th>\n",
       "      <th>color_yellow-white</th>\n",
       "      <th>color_yellowish</th>\n",
       "      <th>color_yellowish-white</th>\n",
       "    </tr>\n",
       "  </thead>\n",
       "  <tbody>\n",
       "    <tr>\n",
       "      <th>223</th>\n",
       "      <td>2.404660</td>\n",
       "      <td>-0.332616</td>\n",
       "      <td>-0.995367</td>\n",
       "      <td>0.0</td>\n",
       "      <td>0.0</td>\n",
       "      <td>0.0</td>\n",
       "      <td>1.0</td>\n",
       "      <td>0.0</td>\n",
       "      <td>0.0</td>\n",
       "      <td>0.0</td>\n",
       "      <td>0.0</td>\n",
       "      <td>0.0</td>\n",
       "      <td>0.0</td>\n",
       "      <td>0.0</td>\n",
       "      <td>0.0</td>\n",
       "      <td>0.0</td>\n",
       "      <td>0.0</td>\n",
       "      <td>0.0</td>\n",
       "      <td>0.0</td>\n",
       "    </tr>\n",
       "    <tr>\n",
       "      <th>110</th>\n",
       "      <td>-0.023832</td>\n",
       "      <td>1.926617</td>\n",
       "      <td>-1.449272</td>\n",
       "      <td>0.0</td>\n",
       "      <td>0.0</td>\n",
       "      <td>0.0</td>\n",
       "      <td>0.0</td>\n",
       "      <td>1.0</td>\n",
       "      <td>0.0</td>\n",
       "      <td>0.0</td>\n",
       "      <td>0.0</td>\n",
       "      <td>0.0</td>\n",
       "      <td>1.0</td>\n",
       "      <td>0.0</td>\n",
       "      <td>0.0</td>\n",
       "      <td>0.0</td>\n",
       "      <td>0.0</td>\n",
       "      <td>0.0</td>\n",
       "      <td>0.0</td>\n",
       "    </tr>\n",
       "    <tr>\n",
       "      <th>152</th>\n",
       "      <td>-0.572942</td>\n",
       "      <td>-0.473360</td>\n",
       "      <td>-0.617353</td>\n",
       "      <td>0.0</td>\n",
       "      <td>0.0</td>\n",
       "      <td>1.0</td>\n",
       "      <td>0.0</td>\n",
       "      <td>0.0</td>\n",
       "      <td>1.0</td>\n",
       "      <td>0.0</td>\n",
       "      <td>0.0</td>\n",
       "      <td>0.0</td>\n",
       "      <td>0.0</td>\n",
       "      <td>0.0</td>\n",
       "      <td>0.0</td>\n",
       "      <td>0.0</td>\n",
       "      <td>0.0</td>\n",
       "      <td>0.0</td>\n",
       "      <td>0.0</td>\n",
       "    </tr>\n",
       "    <tr>\n",
       "      <th>7</th>\n",
       "      <td>-0.579004</td>\n",
       "      <td>-0.483925</td>\n",
       "      <td>1.250143</td>\n",
       "      <td>0.0</td>\n",
       "      <td>0.0</td>\n",
       "      <td>0.0</td>\n",
       "      <td>0.0</td>\n",
       "      <td>0.0</td>\n",
       "      <td>0.0</td>\n",
       "      <td>0.0</td>\n",
       "      <td>0.0</td>\n",
       "      <td>0.0</td>\n",
       "      <td>1.0</td>\n",
       "      <td>0.0</td>\n",
       "      <td>0.0</td>\n",
       "      <td>0.0</td>\n",
       "      <td>0.0</td>\n",
       "      <td>0.0</td>\n",
       "      <td>0.0</td>\n",
       "    </tr>\n",
       "    <tr>\n",
       "      <th>69</th>\n",
       "      <td>-0.579004</td>\n",
       "      <td>-0.483880</td>\n",
       "      <td>1.445154</td>\n",
       "      <td>0.0</td>\n",
       "      <td>0.0</td>\n",
       "      <td>0.0</td>\n",
       "      <td>0.0</td>\n",
       "      <td>0.0</td>\n",
       "      <td>0.0</td>\n",
       "      <td>0.0</td>\n",
       "      <td>0.0</td>\n",
       "      <td>0.0</td>\n",
       "      <td>1.0</td>\n",
       "      <td>0.0</td>\n",
       "      <td>0.0</td>\n",
       "      <td>0.0</td>\n",
       "      <td>0.0</td>\n",
       "      <td>0.0</td>\n",
       "      <td>0.0</td>\n",
       "    </tr>\n",
       "    <tr>\n",
       "      <th>...</th>\n",
       "      <td>...</td>\n",
       "      <td>...</td>\n",
       "      <td>...</td>\n",
       "      <td>...</td>\n",
       "      <td>...</td>\n",
       "      <td>...</td>\n",
       "      <td>...</td>\n",
       "      <td>...</td>\n",
       "      <td>...</td>\n",
       "      <td>...</td>\n",
       "      <td>...</td>\n",
       "      <td>...</td>\n",
       "      <td>...</td>\n",
       "      <td>...</td>\n",
       "      <td>...</td>\n",
       "      <td>...</td>\n",
       "      <td>...</td>\n",
       "      <td>...</td>\n",
       "      <td>...</td>\n",
       "    </tr>\n",
       "    <tr>\n",
       "      <th>192</th>\n",
       "      <td>-0.579004</td>\n",
       "      <td>-0.483581</td>\n",
       "      <td>0.870688</td>\n",
       "      <td>1.0</td>\n",
       "      <td>0.0</td>\n",
       "      <td>0.0</td>\n",
       "      <td>0.0</td>\n",
       "      <td>0.0</td>\n",
       "      <td>0.0</td>\n",
       "      <td>0.0</td>\n",
       "      <td>0.0</td>\n",
       "      <td>0.0</td>\n",
       "      <td>1.0</td>\n",
       "      <td>0.0</td>\n",
       "      <td>0.0</td>\n",
       "      <td>0.0</td>\n",
       "      <td>0.0</td>\n",
       "      <td>0.0</td>\n",
       "      <td>0.0</td>\n",
       "    </tr>\n",
       "    <tr>\n",
       "      <th>73</th>\n",
       "      <td>-0.579004</td>\n",
       "      <td>-0.483450</td>\n",
       "      <td>0.725630</td>\n",
       "      <td>1.0</td>\n",
       "      <td>0.0</td>\n",
       "      <td>0.0</td>\n",
       "      <td>0.0</td>\n",
       "      <td>0.0</td>\n",
       "      <td>0.0</td>\n",
       "      <td>0.0</td>\n",
       "      <td>0.0</td>\n",
       "      <td>0.0</td>\n",
       "      <td>1.0</td>\n",
       "      <td>0.0</td>\n",
       "      <td>0.0</td>\n",
       "      <td>0.0</td>\n",
       "      <td>0.0</td>\n",
       "      <td>0.0</td>\n",
       "      <td>0.0</td>\n",
       "    </tr>\n",
       "    <tr>\n",
       "      <th>79</th>\n",
       "      <td>-0.579004</td>\n",
       "      <td>-0.483803</td>\n",
       "      <td>0.921602</td>\n",
       "      <td>1.0</td>\n",
       "      <td>0.0</td>\n",
       "      <td>0.0</td>\n",
       "      <td>0.0</td>\n",
       "      <td>0.0</td>\n",
       "      <td>0.0</td>\n",
       "      <td>0.0</td>\n",
       "      <td>0.0</td>\n",
       "      <td>0.0</td>\n",
       "      <td>1.0</td>\n",
       "      <td>0.0</td>\n",
       "      <td>0.0</td>\n",
       "      <td>0.0</td>\n",
       "      <td>0.0</td>\n",
       "      <td>0.0</td>\n",
       "      <td>0.0</td>\n",
       "    </tr>\n",
       "    <tr>\n",
       "      <th>135</th>\n",
       "      <td>-0.579004</td>\n",
       "      <td>-0.482739</td>\n",
       "      <td>0.995572</td>\n",
       "      <td>1.0</td>\n",
       "      <td>0.0</td>\n",
       "      <td>0.0</td>\n",
       "      <td>0.0</td>\n",
       "      <td>0.0</td>\n",
       "      <td>0.0</td>\n",
       "      <td>0.0</td>\n",
       "      <td>0.0</td>\n",
       "      <td>0.0</td>\n",
       "      <td>1.0</td>\n",
       "      <td>0.0</td>\n",
       "      <td>0.0</td>\n",
       "      <td>0.0</td>\n",
       "      <td>0.0</td>\n",
       "      <td>0.0</td>\n",
       "      <td>0.0</td>\n",
       "    </tr>\n",
       "    <tr>\n",
       "      <th>64</th>\n",
       "      <td>-0.579004</td>\n",
       "      <td>-0.483887</td>\n",
       "      <td>1.393279</td>\n",
       "      <td>0.0</td>\n",
       "      <td>0.0</td>\n",
       "      <td>0.0</td>\n",
       "      <td>0.0</td>\n",
       "      <td>0.0</td>\n",
       "      <td>0.0</td>\n",
       "      <td>0.0</td>\n",
       "      <td>0.0</td>\n",
       "      <td>0.0</td>\n",
       "      <td>1.0</td>\n",
       "      <td>0.0</td>\n",
       "      <td>0.0</td>\n",
       "      <td>0.0</td>\n",
       "      <td>0.0</td>\n",
       "      <td>0.0</td>\n",
       "      <td>0.0</td>\n",
       "    </tr>\n",
       "  </tbody>\n",
       "</table>\n",
       "<p>72 rows × 19 columns</p>\n",
       "</div>"
      ],
      "text/plain": [
       "      luminos    radius  magnitude  type_1  type_2  type_3  type_4  type_5  \\\n",
       "223  2.404660 -0.332616  -0.995367     0.0     0.0     0.0     1.0     0.0   \n",
       "110 -0.023832  1.926617  -1.449272     0.0     0.0     0.0     0.0     1.0   \n",
       "152 -0.572942 -0.473360  -0.617353     0.0     0.0     1.0     0.0     0.0   \n",
       "7   -0.579004 -0.483925   1.250143     0.0     0.0     0.0     0.0     0.0   \n",
       "69  -0.579004 -0.483880   1.445154     0.0     0.0     0.0     0.0     0.0   \n",
       "..        ...       ...        ...     ...     ...     ...     ...     ...   \n",
       "192 -0.579004 -0.483581   0.870688     1.0     0.0     0.0     0.0     0.0   \n",
       "73  -0.579004 -0.483450   0.725630     1.0     0.0     0.0     0.0     0.0   \n",
       "79  -0.579004 -0.483803   0.921602     1.0     0.0     0.0     0.0     0.0   \n",
       "135 -0.579004 -0.482739   0.995572     1.0     0.0     0.0     0.0     0.0   \n",
       "64  -0.579004 -0.483887   1.393279     0.0     0.0     0.0     0.0     0.0   \n",
       "\n",
       "     color_blue-white  color_orange  color_orange-red  \\\n",
       "223               0.0           0.0               0.0   \n",
       "110               0.0           0.0               0.0   \n",
       "152               1.0           0.0               0.0   \n",
       "7                 0.0           0.0               0.0   \n",
       "69                0.0           0.0               0.0   \n",
       "..                ...           ...               ...   \n",
       "192               0.0           0.0               0.0   \n",
       "73                0.0           0.0               0.0   \n",
       "79                0.0           0.0               0.0   \n",
       "135               0.0           0.0               0.0   \n",
       "64                0.0           0.0               0.0   \n",
       "\n",
       "     color_pale-yellow-orange  color_red  color_white  color_white-yellow  \\\n",
       "223                       0.0        0.0          0.0                 0.0   \n",
       "110                       0.0        1.0          0.0                 0.0   \n",
       "152                       0.0        0.0          0.0                 0.0   \n",
       "7                         0.0        1.0          0.0                 0.0   \n",
       "69                        0.0        1.0          0.0                 0.0   \n",
       "..                        ...        ...          ...                 ...   \n",
       "192                       0.0        1.0          0.0                 0.0   \n",
       "73                        0.0        1.0          0.0                 0.0   \n",
       "79                        0.0        1.0          0.0                 0.0   \n",
       "135                       0.0        1.0          0.0                 0.0   \n",
       "64                        0.0        1.0          0.0                 0.0   \n",
       "\n",
       "     color_whitish  color_yellow-white  color_yellowish  color_yellowish-white  \n",
       "223            0.0                 0.0              0.0                    0.0  \n",
       "110            0.0                 0.0              0.0                    0.0  \n",
       "152            0.0                 0.0              0.0                    0.0  \n",
       "7              0.0                 0.0              0.0                    0.0  \n",
       "69             0.0                 0.0              0.0                    0.0  \n",
       "..             ...                 ...              ...                    ...  \n",
       "192            0.0                 0.0              0.0                    0.0  \n",
       "73             0.0                 0.0              0.0                    0.0  \n",
       "79             0.0                 0.0              0.0                    0.0  \n",
       "135            0.0                 0.0              0.0                    0.0  \n",
       "64             0.0                 0.0              0.0                    0.0  \n",
       "\n",
       "[72 rows x 19 columns]"
      ]
     },
     "execution_count": 27,
     "metadata": {},
     "output_type": "execute_result"
    }
   ],
   "source": [
    "test_features"
   ]
  },
  {
   "cell_type": "markdown",
   "id": "funded-electric",
   "metadata": {},
   "source": [
    "## Построение базовой нейронной сети"
   ]
  },
  {
   "cell_type": "code",
   "execution_count": 28,
   "id": "e3138020",
   "metadata": {},
   "outputs": [],
   "source": [
    "train_features = torch.tensor(train_features.values)\n",
    "test_features = torch.tensor(test_features.values)\n",
    "train_target = torch.FloatTensor(train_target.values)\n",
    "test_target = torch.FloatTensor(test_target.values)"
   ]
  },
  {
   "cell_type": "code",
   "execution_count": 29,
   "id": "0f9f788a",
   "metadata": {},
   "outputs": [
    {
     "name": "stdout",
     "output_type": "stream",
     "text": [
      "11981.167\n",
      "9214.706\n",
      "6855.159\n",
      "6232.9\n",
      "5615.0557\n",
      "4938.604\n",
      "4407.1074\n",
      "4199.469\n",
      "4147.579\n",
      "4196.116\n"
     ]
    }
   ],
   "source": [
    "best_rmse = 999999999\n",
    "\n",
    "n_in_neurons = 19\n",
    "n_hidden_neurons_1 = 15\n",
    "n_hidden_neurons_2 = 6\n",
    "n_out_neurons = 1\n",
    "\n",
    "net = nn.Sequential(\n",
    "    nn.Linear(n_in_neurons, n_hidden_neurons_1),\n",
    "    nn.ReLU(),\n",
    "    nn.Linear(n_hidden_neurons_1, n_hidden_neurons_2),\n",
    "    nn.ReLU(),\n",
    "    nn.Linear(n_hidden_neurons_2, n_out_neurons)\n",
    ")\n",
    "\n",
    "\n",
    "optimizer = torch.optim.Adam(net.parameters(),lr=0.026)\n",
    "\n",
    "loss = nn.MSELoss()\n",
    "\n",
    "num_epochs = 1000\n",
    "\n",
    "for epoch in range(num_epochs):\n",
    "    optimizer.zero_grad()\n",
    "    \n",
    "    preds = net.forward(train_features.float()).flatten()    \n",
    "    \n",
    "    loss_value = loss(preds,train_target) \n",
    "    \n",
    "    loss_value.backward()\n",
    "    \n",
    "    optimizer.step()\n",
    "    if epoch % 100== 0 or epoch==num_epochs :\n",
    "        net.eval()\n",
    "        test_preds = net.forward(test_features.float()).flatten()\n",
    "        test_preds_2 = test_preds.detach().numpy()\n",
    "        rmse =  mean_squared_error(test_target,test_preds_2,squared=False)\n",
    "        print(rmse)\n",
    "        \n",
    "        if rmse<best_rmse:\n",
    "            best_preds = test_preds_2\n",
    "            best_rmse=rmse"
   ]
  },
  {
   "cell_type": "code",
   "execution_count": 30,
   "id": "3f0da55c",
   "metadata": {},
   "outputs": [],
   "source": [
    "df_result = pd.DataFrame(best_preds)\n",
    "\n",
    "test_target_result = test_target.detach().numpy()\n",
    "df_target = pd.DataFrame(test_target_result)"
   ]
  },
  {
   "cell_type": "code",
   "execution_count": 31,
   "id": "a38e1965",
   "metadata": {},
   "outputs": [
    {
     "data": {
      "image/png": "[encoded data removed]",
      "text/plain": [
       "<Figure size 1440x720 with 1 Axes>"
      ]
     },
     "metadata": {
      "needs_background": "light"
     },
     "output_type": "display_data"
    }
   ],
   "source": [
    "fig,ax = plt.subplots(figsize=(20,10))\n",
    "bar_1 = sns.barplot(data=df_result,color='orange',y=df_result[0],x=df_result.index)\n",
    "bar_2 = sns.barplot(data=df_target,color='skyblue',y=df_target[0],x=df_target.index,alpha=0.7)\n",
    "def change_width(ax, new_value) :\n",
    "    for patch in bar_1.patches :\n",
    "        current_width = patch.get_width()\n",
    "        diff = current_width - new_value\n",
    "\n",
    "        patch.set_width(new_value)\n",
    "        \n",
    "        patch.set_x(patch.get_x() + diff * .5)\n",
    "        \n",
    "change_width(bar_1, 0.6)  \n",
    "\n",
    "ax.set_title('Предсказание простой нейронной сети')\n",
    "ax.set_xlabel('Номер звезды',fontsize=11)\n",
    "ax.set_ylabel('Температура (К)',fontsize=11)\n",
    "\n",
    "plt.show()"
   ]
  },
  {
   "cell_type": "markdown",
   "id": "growing-supply",
   "metadata": {},
   "source": [
    "## Улучшение нейронной сети"
   ]
  },
  {
   "cell_type": "code",
   "execution_count": 32,
   "id": "1adb7384",
   "metadata": {},
   "outputs": [
    {
     "name": "stdout",
     "output_type": "stream",
     "text": [
      "11978.449\n",
      "4194.432\n",
      "4501.798\n",
      "4500.569\n",
      "4411.0776\n",
      "4388.189\n"
     ]
    }
   ],
   "source": [
    "best_rmse = 99999999999999999\n",
    "\n",
    "n_in_neurons = 19\n",
    "n_hidden_neurons_1 = 10\n",
    "n_hidden_neurons_2 = 4\n",
    "n_out_neurons = 1\n",
    "\n",
    "net_2 = nn.Sequential(\n",
    "    nn.Linear(n_in_neurons, n_hidden_neurons_1),\n",
    "    nn.Dropout(p=0.7),\n",
    "    nn.LeakyReLU(),\n",
    "    nn.Linear(n_hidden_neurons_1, n_hidden_neurons_2),\n",
    "    nn.LeakyReLU(),\n",
    "    nn.Dropout(p=0.7),\n",
    "    nn.Linear(n_hidden_neurons_2, n_out_neurons)\n",
    ")\n",
    "\n",
    "optimizer = torch.optim.Adam(net_2.parameters(),lr=0.03)\n",
    "\n",
    "loss = nn.MSELoss()\n",
    "\n",
    "batch_size = 10\n",
    "\n",
    "num_epochs = 600\n",
    "\n",
    "num_batches = ceil(len(train_features)/batch_size)\n",
    "\n",
    "for epoch in range(num_epochs):\n",
    "    order = np.random.permutation(len(train_features))\n",
    "    for batch_idx in range(num_batches):\n",
    "        start_index = batch_idx * batch_size\n",
    "        \n",
    "        optimizer.zero_grad()\n",
    "        \n",
    "        batch_indexes = order[start_index:start_index+batch_size]\n",
    "        X_batch = train_features[batch_indexes]\n",
    "        y_batch = train_target[batch_indexes]\n",
    "        \n",
    "        preds = net_2.forward((X_batch).float()).flatten()\n",
    "        \n",
    "        loss_value = loss(preds, y_batch)\n",
    "        loss_value.backward()\n",
    "        \n",
    "        optimizer.step()\n",
    " \n",
    "    if epoch % 100 == 0 or epoch==num_epochs :\n",
    "        net_2.eval()\n",
    "        test_preds = net_2.forward(test_features.float())\n",
    "        test_preds_2 = test_preds.detach().numpy()\n",
    "        rmse = mean_squared_error(test_target,test_preds_2,squared=False)\n",
    "        print(rmse)\n",
    "        \n",
    "        if rmse<best_rmse:\n",
    "            best_preds = test_preds_2\n",
    "            best_rmse=rmse"
   ]
  },
  {
   "cell_type": "code",
   "execution_count": 33,
   "id": "12becedb",
   "metadata": {},
   "outputs": [
    {
     "data": {
      "image/png": "[encoded data removed]",
      "text/plain": [
       "<Figure size 1440x720 with 1 Axes>"
      ]
     },
     "metadata": {
      "needs_background": "light"
     },
     "output_type": "display_data"
    }
   ],
   "source": [
    "\n",
    "df_result = pd.DataFrame(best_preds)\n",
    "\n",
    "fig,ax = plt.subplots(figsize=(20,10))\n",
    "bar_1 = sns.barplot(data=df_result,color='orange',y=df_result[0],x=df_result.index)\n",
    "bar_2 = sns.barplot(data=df_target,color='skyblue',y=df_target[0],x=df_target.index,alpha=0.7)\n",
    "def change_width(ax, new_value) :\n",
    "    for patch in bar_1.patches :\n",
    "        current_width = patch.get_width()\n",
    "        diff = current_width - new_value\n",
    "\n",
    "        patch.set_width(new_value)\n",
    "        \n",
    "        patch.set_x(patch.get_x() + diff * .5)\n",
    "        \n",
    "change_width(bar_1, 0.6)  \n",
    "\n",
    "ax.set_title('Предсказание простой нейронной сети')\n",
    "ax.set_xlabel('Номер звезды',fontsize=11)\n",
    "ax.set_ylabel('Температура (К)',fontsize=11)\n",
    "\n",
    "plt.show()"
   ]
  },
  {
   "cell_type": "markdown",
   "id": "accurate-infrastructure",
   "metadata": {},
   "source": [
    "## Выводы"
   ]
  },
  {
   "cell_type": "markdown",
   "id": "2fefe5fb",
   "metadata": {},
   "source": [
    "Исходя из графиков и результата rmse можем сделать вывод, что в данном случае техника batch size и dropout не сильно влияет на итоговый результат."
   ]
  }
 ],
 "metadata": {
  "ExecuteTimeLog": [
   {
    "duration": 1823,
    "start_time": "2023-01-09T20:35:51.036Z"
   },
   {
    "duration": 151,
    "start_time": "2023-01-09T20:36:08.285Z"
   },
   {
    "duration": 70,
    "start_time": "2023-01-09T20:36:27.400Z"
   },
   {
    "duration": 33,
    "start_time": "2023-01-09T20:36:30.915Z"
   },
   {
    "duration": 15,
    "start_time": "2023-01-09T20:37:35.270Z"
   },
   {
    "duration": 37,
    "start_time": "2023-01-09T20:37:41.150Z"
   },
   {
    "duration": 15,
    "start_time": "2023-01-09T20:37:46.159Z"
   },
   {
    "duration": 70,
    "start_time": "2023-01-09T20:38:16.695Z"
   },
   {
    "duration": 18,
    "start_time": "2023-01-09T20:38:21.304Z"
   },
   {
    "duration": 5,
    "start_time": "2023-01-09T20:38:30.653Z"
   },
   {
    "duration": 20,
    "start_time": "2023-01-09T20:38:34.585Z"
   },
   {
    "duration": 4,
    "start_time": "2023-01-09T20:39:29.852Z"
   },
   {
    "duration": 5,
    "start_time": "2023-01-09T20:39:51.004Z"
   },
   {
    "duration": 4,
    "start_time": "2023-01-09T20:42:11.048Z"
   },
   {
    "duration": 23,
    "start_time": "2023-01-09T20:42:14.288Z"
   },
   {
    "duration": 4,
    "start_time": "2023-01-09T20:42:18.667Z"
   },
   {
    "duration": 5,
    "start_time": "2023-01-09T20:44:35.746Z"
   },
   {
    "duration": 4,
    "start_time": "2023-01-09T20:44:36.564Z"
   },
   {
    "duration": 25,
    "start_time": "2023-01-09T20:46:36.856Z"
   },
   {
    "duration": 3,
    "start_time": "2023-01-09T20:46:47.096Z"
   },
   {
    "duration": 25,
    "start_time": "2023-01-09T20:46:47.296Z"
   },
   {
    "duration": 11,
    "start_time": "2023-01-09T20:46:47.448Z"
   },
   {
    "duration": 27,
    "start_time": "2023-01-09T20:46:47.599Z"
   },
   {
    "duration": 14,
    "start_time": "2023-01-09T20:46:47.751Z"
   },
   {
    "duration": 5,
    "start_time": "2023-01-09T20:46:50.140Z"
   },
   {
    "duration": 6,
    "start_time": "2023-01-09T20:46:50.295Z"
   },
   {
    "duration": 6,
    "start_time": "2023-01-09T20:46:50.759Z"
   },
   {
    "duration": 20,
    "start_time": "2023-01-09T20:46:52.696Z"
   },
   {
    "duration": 18,
    "start_time": "2023-01-09T20:47:24.648Z"
   },
   {
    "duration": 0,
    "start_time": "2023-01-09T20:50:32.051Z"
   },
   {
    "duration": 0,
    "start_time": "2023-01-09T20:50:32.053Z"
   },
   {
    "duration": 0,
    "start_time": "2023-01-09T20:50:32.054Z"
   },
   {
    "duration": 0,
    "start_time": "2023-01-09T20:50:32.055Z"
   },
   {
    "duration": 0,
    "start_time": "2023-01-09T20:50:32.057Z"
   },
   {
    "duration": 0,
    "start_time": "2023-01-09T20:50:32.058Z"
   },
   {
    "duration": 0,
    "start_time": "2023-01-09T20:50:32.059Z"
   },
   {
    "duration": 0,
    "start_time": "2023-01-09T20:50:32.060Z"
   },
   {
    "duration": 0,
    "start_time": "2023-01-09T20:50:32.062Z"
   },
   {
    "duration": 0,
    "start_time": "2023-01-09T20:50:32.062Z"
   },
   {
    "duration": 4,
    "start_time": "2023-01-09T20:50:39.042Z"
   },
   {
    "duration": 26,
    "start_time": "2023-01-09T20:50:39.568Z"
   },
   {
    "duration": 12,
    "start_time": "2023-01-09T20:50:40.055Z"
   },
   {
    "duration": 28,
    "start_time": "2023-01-09T20:50:40.847Z"
   },
   {
    "duration": 19,
    "start_time": "2023-01-09T20:50:41.024Z"
   },
   {
    "duration": 4,
    "start_time": "2023-01-09T20:50:42.920Z"
   },
   {
    "duration": 5,
    "start_time": "2023-01-09T20:50:43.248Z"
   },
   {
    "duration": 5,
    "start_time": "2023-01-09T20:50:43.648Z"
   },
   {
    "duration": 72,
    "start_time": "2023-01-09T20:50:44.401Z"
   },
   {
    "duration": 136,
    "start_time": "2023-01-09T20:52:16.899Z"
   },
   {
    "duration": 6,
    "start_time": "2023-01-09T20:52:28.538Z"
   },
   {
    "duration": 6,
    "start_time": "2023-01-09T20:52:29.523Z"
   },
   {
    "duration": 19,
    "start_time": "2023-01-09T20:53:40.071Z"
   },
   {
    "duration": 564,
    "start_time": "2023-01-09T20:55:23.898Z"
   },
   {
    "duration": 176,
    "start_time": "2023-01-09T20:56:57.438Z"
   },
   {
    "duration": 140,
    "start_time": "2023-01-09T20:57:36.373Z"
   },
   {
    "duration": 3,
    "start_time": "2023-01-09T20:58:21.311Z"
   },
   {
    "duration": 206,
    "start_time": "2023-01-09T20:58:34.238Z"
   },
   {
    "duration": 140,
    "start_time": "2023-01-09T20:59:10.763Z"
   },
   {
    "duration": 159,
    "start_time": "2023-01-09T20:59:16.289Z"
   },
   {
    "duration": 242,
    "start_time": "2023-01-09T20:59:19.370Z"
   },
   {
    "duration": 171,
    "start_time": "2023-01-09T20:59:56.986Z"
   },
   {
    "duration": 155,
    "start_time": "2023-01-09T21:00:50.316Z"
   },
   {
    "duration": 3,
    "start_time": "2023-01-09T21:01:21.751Z"
   },
   {
    "duration": 314,
    "start_time": "2023-01-09T21:01:24.198Z"
   },
   {
    "duration": 377,
    "start_time": "2023-01-09T21:01:48.583Z"
   },
   {
    "duration": 58,
    "start_time": "2023-01-12T12:26:23.117Z"
   },
   {
    "duration": 2087,
    "start_time": "2023-01-12T12:26:33.147Z"
   },
   {
    "duration": 62,
    "start_time": "2023-01-12T12:26:35.238Z"
   },
   {
    "duration": 94,
    "start_time": "2023-01-12T12:26:35.302Z"
   },
   {
    "duration": 70,
    "start_time": "2023-01-12T12:26:35.399Z"
   },
   {
    "duration": 19,
    "start_time": "2023-01-12T12:26:35.471Z"
   },
   {
    "duration": 4,
    "start_time": "2023-01-12T12:26:36.073Z"
   },
   {
    "duration": 6,
    "start_time": "2023-01-12T12:26:36.339Z"
   },
   {
    "duration": 5,
    "start_time": "2023-01-12T12:26:36.558Z"
   },
   {
    "duration": 6,
    "start_time": "2023-01-12T12:26:38.298Z"
   },
   {
    "duration": 6,
    "start_time": "2023-01-12T12:26:38.601Z"
   },
   {
    "duration": 278,
    "start_time": "2023-01-12T12:26:39.564Z"
   },
   {
    "duration": 178,
    "start_time": "2023-01-12T12:26:39.955Z"
   },
   {
    "duration": 25,
    "start_time": "2023-01-12T12:27:00.116Z"
   },
   {
    "duration": 4,
    "start_time": "2023-01-12T12:32:58.008Z"
   },
   {
    "duration": 6,
    "start_time": "2023-01-12T12:33:02.476Z"
   },
   {
    "duration": 6,
    "start_time": "2023-01-12T12:33:05.604Z"
   },
   {
    "duration": 5,
    "start_time": "2023-01-12T12:33:23.005Z"
   },
   {
    "duration": 6,
    "start_time": "2023-01-12T12:33:27.408Z"
   },
   {
    "duration": 293,
    "start_time": "2023-01-12T12:33:40.053Z"
   },
   {
    "duration": 10,
    "start_time": "2023-01-12T12:34:40.999Z"
   },
   {
    "duration": 16,
    "start_time": "2023-01-12T12:35:32.351Z"
   },
   {
    "duration": 308,
    "start_time": "2023-01-12T12:35:52.342Z"
   },
   {
    "duration": 3,
    "start_time": "2023-01-12T12:36:54.443Z"
   },
   {
    "duration": 254,
    "start_time": "2023-01-12T12:37:08.016Z"
   },
   {
    "duration": 252,
    "start_time": "2023-01-12T12:37:48.473Z"
   },
   {
    "duration": 9,
    "start_time": "2023-01-12T12:38:12.994Z"
   },
   {
    "duration": 9,
    "start_time": "2023-01-12T12:38:21.457Z"
   },
   {
    "duration": 6,
    "start_time": "2023-01-12T12:38:51.861Z"
   },
   {
    "duration": 11,
    "start_time": "2023-01-12T12:38:56.407Z"
   },
   {
    "duration": 4,
    "start_time": "2023-01-12T12:45:41.686Z"
   },
   {
    "duration": 4,
    "start_time": "2023-01-12T12:48:47.099Z"
   },
   {
    "duration": 293,
    "start_time": "2023-01-12T12:49:00.379Z"
   },
   {
    "duration": 373,
    "start_time": "2023-01-12T12:50:13.296Z"
   },
   {
    "duration": 302,
    "start_time": "2023-01-12T12:50:14.706Z"
   },
   {
    "duration": 5,
    "start_time": "2023-01-12T12:50:34.533Z"
   },
   {
    "duration": 319,
    "start_time": "2023-01-12T12:50:37.974Z"
   },
   {
    "duration": 5,
    "start_time": "2023-01-12T12:50:47.027Z"
   },
   {
    "duration": 279,
    "start_time": "2023-01-12T12:50:49.283Z"
   },
   {
    "duration": 4,
    "start_time": "2023-01-12T12:50:56.778Z"
   },
   {
    "duration": 275,
    "start_time": "2023-01-12T12:50:59.199Z"
   },
   {
    "duration": 275,
    "start_time": "2023-01-12T12:50:59.790Z"
   },
   {
    "duration": 13,
    "start_time": "2023-01-12T12:52:37.615Z"
   },
   {
    "duration": 12,
    "start_time": "2023-01-12T12:52:42.510Z"
   },
   {
    "duration": 73,
    "start_time": "2023-01-12T12:52:48.422Z"
   },
   {
    "duration": 10,
    "start_time": "2023-01-12T12:52:52.569Z"
   },
   {
    "duration": 10,
    "start_time": "2023-01-12T12:53:00.400Z"
   },
   {
    "duration": 5,
    "start_time": "2023-01-12T12:57:29.705Z"
   },
   {
    "duration": 8,
    "start_time": "2023-01-12T12:59:55.858Z"
   },
   {
    "duration": 5,
    "start_time": "2023-01-12T13:07:33.712Z"
   },
   {
    "duration": 651,
    "start_time": "2023-01-12T13:15:18.351Z"
   },
   {
    "duration": 6,
    "start_time": "2023-01-12T13:40:48.953Z"
   },
   {
    "duration": 281,
    "start_time": "2023-01-12T13:42:18.857Z"
   },
   {
    "duration": 17,
    "start_time": "2023-01-12T13:43:22.121Z"
   },
   {
    "duration": 8,
    "start_time": "2023-01-12T13:43:27.721Z"
   },
   {
    "duration": 4,
    "start_time": "2023-01-12T13:43:35.981Z"
   },
   {
    "duration": 5,
    "start_time": "2023-01-12T13:43:46.254Z"
   },
   {
    "duration": 4,
    "start_time": "2023-01-12T13:53:02.298Z"
   },
   {
    "duration": 14,
    "start_time": "2023-01-12T13:53:12.104Z"
   },
   {
    "duration": 14,
    "start_time": "2023-01-12T13:59:40.948Z"
   },
   {
    "duration": 9,
    "start_time": "2023-01-12T14:00:03.168Z"
   },
   {
    "duration": 13,
    "start_time": "2023-01-12T14:00:25.104Z"
   },
   {
    "duration": 12,
    "start_time": "2023-01-12T14:00:48.205Z"
   },
   {
    "duration": 13,
    "start_time": "2023-01-12T14:01:21.101Z"
   },
   {
    "duration": 2207,
    "start_time": "2023-01-12T14:11:42.650Z"
   },
   {
    "duration": 44,
    "start_time": "2023-01-12T15:23:44.303Z"
   },
   {
    "duration": 5,
    "start_time": "2023-01-12T15:23:48.421Z"
   },
   {
    "duration": 1757,
    "start_time": "2023-01-12T15:23:49.739Z"
   },
   {
    "duration": 89,
    "start_time": "2023-01-12T15:23:57.730Z"
   },
   {
    "duration": 71,
    "start_time": "2023-01-12T15:24:03.179Z"
   },
   {
    "duration": 12,
    "start_time": "2023-01-12T15:24:03.354Z"
   },
   {
    "duration": 92,
    "start_time": "2023-01-12T15:24:03.525Z"
   },
   {
    "duration": 13,
    "start_time": "2023-01-12T15:24:03.697Z"
   },
   {
    "duration": 3,
    "start_time": "2023-01-12T15:24:04.046Z"
   },
   {
    "duration": 3,
    "start_time": "2023-01-12T15:24:04.218Z"
   },
   {
    "duration": 5,
    "start_time": "2023-01-12T15:24:04.404Z"
   },
   {
    "duration": 4,
    "start_time": "2023-01-12T15:24:04.576Z"
   },
   {
    "duration": 5,
    "start_time": "2023-01-12T15:24:04.931Z"
   },
   {
    "duration": 3,
    "start_time": "2023-01-12T15:24:05.113Z"
   },
   {
    "duration": 252,
    "start_time": "2023-01-12T15:24:05.453Z"
   },
   {
    "duration": 5,
    "start_time": "2023-01-12T15:24:05.796Z"
   },
   {
    "duration": 216,
    "start_time": "2023-01-12T15:24:05.964Z"
   },
   {
    "duration": 5,
    "start_time": "2023-01-12T15:24:06.327Z"
   },
   {
    "duration": 369,
    "start_time": "2023-01-12T15:24:06.509Z"
   },
   {
    "duration": 17,
    "start_time": "2023-01-12T15:24:06.881Z"
   },
   {
    "duration": 206,
    "start_time": "2023-01-12T15:24:07.038Z"
   },
   {
    "duration": 6,
    "start_time": "2023-01-12T15:24:07.415Z"
   },
   {
    "duration": 3,
    "start_time": "2023-01-12T15:24:07.877Z"
   },
   {
    "duration": 3,
    "start_time": "2023-01-12T15:24:08.780Z"
   },
   {
    "duration": 7,
    "start_time": "2023-01-12T15:24:09.133Z"
   },
   {
    "duration": 7,
    "start_time": "2023-01-12T15:25:32.087Z"
   },
   {
    "duration": 7,
    "start_time": "2023-01-12T15:25:49.981Z"
   },
   {
    "duration": 6,
    "start_time": "2023-01-12T15:25:55.781Z"
   },
   {
    "duration": 16,
    "start_time": "2023-01-12T15:26:00.388Z"
   },
   {
    "duration": 14,
    "start_time": "2023-01-12T15:27:06.134Z"
   },
   {
    "duration": 9,
    "start_time": "2023-01-12T15:27:07.785Z"
   },
   {
    "duration": 15,
    "start_time": "2023-01-12T15:27:17.537Z"
   },
   {
    "duration": 8,
    "start_time": "2023-01-12T15:27:18.471Z"
   },
   {
    "duration": 3,
    "start_time": "2023-01-12T15:28:01.060Z"
   },
   {
    "duration": 7,
    "start_time": "2023-01-12T15:28:04.419Z"
   },
   {
    "duration": 32,
    "start_time": "2023-01-12T15:28:05.185Z"
   },
   {
    "duration": 15,
    "start_time": "2023-01-12T15:29:17.858Z"
   },
   {
    "duration": 6,
    "start_time": "2023-01-12T15:31:34.066Z"
   },
   {
    "duration": 15,
    "start_time": "2023-01-12T15:31:38.170Z"
   },
   {
    "duration": 16,
    "start_time": "2023-01-12T15:33:25.886Z"
   },
   {
    "duration": 3,
    "start_time": "2023-01-12T15:33:33.353Z"
   },
   {
    "duration": 10,
    "start_time": "2023-01-12T15:33:33.854Z"
   },
   {
    "duration": 6,
    "start_time": "2023-01-12T15:33:34.789Z"
   },
   {
    "duration": 4,
    "start_time": "2023-01-12T15:34:26.864Z"
   },
   {
    "duration": 16,
    "start_time": "2023-01-12T15:34:27.288Z"
   },
   {
    "duration": 13,
    "start_time": "2023-01-12T15:34:47.657Z"
   },
   {
    "duration": 4,
    "start_time": "2023-01-12T15:34:49.817Z"
   },
   {
    "duration": 10,
    "start_time": "2023-01-12T15:34:50.355Z"
   },
   {
    "duration": 4,
    "start_time": "2023-01-12T15:38:48.341Z"
   },
   {
    "duration": 11,
    "start_time": "2023-01-12T15:48:55.317Z"
   },
   {
    "duration": 12,
    "start_time": "2023-01-12T15:50:15.889Z"
   },
   {
    "duration": 13,
    "start_time": "2023-01-12T15:50:43.328Z"
   },
   {
    "duration": 12,
    "start_time": "2023-01-12T15:51:22.124Z"
   },
   {
    "duration": 4,
    "start_time": "2023-01-12T15:51:31.474Z"
   },
   {
    "duration": 42,
    "start_time": "2023-01-12T15:51:32.545Z"
   },
   {
    "duration": 5,
    "start_time": "2023-01-12T15:51:56.475Z"
   },
   {
    "duration": 3,
    "start_time": "2023-01-12T15:51:57.108Z"
   },
   {
    "duration": 37,
    "start_time": "2023-01-12T15:52:05.302Z"
   },
   {
    "duration": 5,
    "start_time": "2023-01-12T15:52:12.569Z"
   },
   {
    "duration": 5,
    "start_time": "2023-01-12T15:52:19.454Z"
   },
   {
    "duration": 22,
    "start_time": "2023-01-12T15:53:00.407Z"
   },
   {
    "duration": 22,
    "start_time": "2023-01-12T15:56:11.958Z"
   },
   {
    "duration": 22,
    "start_time": "2023-01-12T15:56:58.784Z"
   },
   {
    "duration": 23,
    "start_time": "2023-01-12T15:57:15.021Z"
   },
   {
    "duration": 22,
    "start_time": "2023-01-12T16:00:53.523Z"
   },
   {
    "duration": 22,
    "start_time": "2023-01-12T16:01:08.677Z"
   },
   {
    "duration": 21,
    "start_time": "2023-01-12T16:01:44.878Z"
   },
   {
    "duration": 20,
    "start_time": "2023-01-12T16:01:48.095Z"
   },
   {
    "duration": 25,
    "start_time": "2023-01-12T16:02:14.759Z"
   },
   {
    "duration": 20,
    "start_time": "2023-01-12T16:02:55.219Z"
   },
   {
    "duration": 1628,
    "start_time": "2023-01-12T16:03:10.929Z"
   },
   {
    "duration": 4,
    "start_time": "2023-01-12T16:03:12.560Z"
   },
   {
    "duration": 38,
    "start_time": "2023-01-12T16:03:12.565Z"
   },
   {
    "duration": 77,
    "start_time": "2023-01-12T16:03:12.605Z"
   },
   {
    "duration": 38,
    "start_time": "2023-01-12T16:03:12.683Z"
   },
   {
    "duration": 13,
    "start_time": "2023-01-12T16:03:12.722Z"
   },
   {
    "duration": 5,
    "start_time": "2023-01-12T16:03:12.736Z"
   },
   {
    "duration": 6,
    "start_time": "2023-01-12T16:03:12.742Z"
   },
   {
    "duration": 7,
    "start_time": "2023-01-12T16:03:12.749Z"
   },
   {
    "duration": 11,
    "start_time": "2023-01-12T16:03:12.758Z"
   },
   {
    "duration": 6,
    "start_time": "2023-01-12T16:03:12.771Z"
   },
   {
    "duration": 19,
    "start_time": "2023-01-12T16:03:12.779Z"
   },
   {
    "duration": 264,
    "start_time": "2023-01-12T16:03:12.799Z"
   },
   {
    "duration": 5,
    "start_time": "2023-01-12T16:03:13.064Z"
   },
   {
    "duration": 246,
    "start_time": "2023-01-12T16:03:13.071Z"
   },
   {
    "duration": 5,
    "start_time": "2023-01-12T16:03:13.318Z"
   },
   {
    "duration": 406,
    "start_time": "2023-01-12T16:03:13.325Z"
   },
   {
    "duration": 5,
    "start_time": "2023-01-12T16:03:13.732Z"
   },
   {
    "duration": 245,
    "start_time": "2023-01-12T16:03:13.739Z"
   },
   {
    "duration": 16,
    "start_time": "2023-01-12T16:03:13.986Z"
   },
   {
    "duration": 7,
    "start_time": "2023-01-12T16:03:14.004Z"
   },
   {
    "duration": 7,
    "start_time": "2023-01-12T16:03:14.013Z"
   },
   {
    "duration": 14,
    "start_time": "2023-01-12T16:03:14.021Z"
   },
   {
    "duration": 4,
    "start_time": "2023-01-12T16:03:14.036Z"
   },
   {
    "duration": 10,
    "start_time": "2023-01-12T16:03:14.042Z"
   },
   {
    "duration": 131,
    "start_time": "2023-01-12T16:03:14.054Z"
   },
   {
    "duration": 14,
    "start_time": "2023-01-12T16:03:30.041Z"
   },
   {
    "duration": 22,
    "start_time": "2023-01-12T16:03:35.546Z"
   },
   {
    "duration": 23,
    "start_time": "2023-01-12T16:03:57.182Z"
   },
   {
    "duration": 21,
    "start_time": "2023-01-12T16:04:06.025Z"
   },
   {
    "duration": 22,
    "start_time": "2023-01-12T16:04:28.205Z"
   },
   {
    "duration": 32,
    "start_time": "2023-01-12T16:04:50.703Z"
   },
   {
    "duration": 1738,
    "start_time": "2023-01-12T16:05:01.824Z"
   },
   {
    "duration": 4,
    "start_time": "2023-01-12T16:05:03.564Z"
   },
   {
    "duration": 43,
    "start_time": "2023-01-12T16:05:03.569Z"
   },
   {
    "duration": 80,
    "start_time": "2023-01-12T16:05:03.614Z"
   },
   {
    "duration": 30,
    "start_time": "2023-01-12T16:05:03.696Z"
   },
   {
    "duration": 14,
    "start_time": "2023-01-12T16:05:03.727Z"
   },
   {
    "duration": 20,
    "start_time": "2023-01-12T16:05:03.742Z"
   },
   {
    "duration": 7,
    "start_time": "2023-01-12T16:05:03.763Z"
   },
   {
    "duration": 11,
    "start_time": "2023-01-12T16:05:03.772Z"
   },
   {
    "duration": 9,
    "start_time": "2023-01-12T16:05:03.785Z"
   },
   {
    "duration": 8,
    "start_time": "2023-01-12T16:05:03.797Z"
   },
   {
    "duration": 8,
    "start_time": "2023-01-12T16:05:03.807Z"
   },
   {
    "duration": 285,
    "start_time": "2023-01-12T16:05:03.817Z"
   },
   {
    "duration": 6,
    "start_time": "2023-01-12T16:05:04.104Z"
   },
   {
    "duration": 274,
    "start_time": "2023-01-12T16:05:04.112Z"
   },
   {
    "duration": 12,
    "start_time": "2023-01-12T16:05:04.388Z"
   },
   {
    "duration": 525,
    "start_time": "2023-01-12T16:05:04.402Z"
   },
   {
    "duration": 6,
    "start_time": "2023-01-12T16:05:04.929Z"
   },
   {
    "duration": 263,
    "start_time": "2023-01-12T16:05:04.937Z"
   },
   {
    "duration": 7,
    "start_time": "2023-01-12T16:05:05.202Z"
   },
   {
    "duration": 16,
    "start_time": "2023-01-12T16:05:05.210Z"
   },
   {
    "duration": 8,
    "start_time": "2023-01-12T16:05:05.227Z"
   },
   {
    "duration": 16,
    "start_time": "2023-01-12T16:05:05.237Z"
   },
   {
    "duration": 6,
    "start_time": "2023-01-12T16:05:05.255Z"
   },
   {
    "duration": 10,
    "start_time": "2023-01-12T16:05:05.262Z"
   },
   {
    "duration": 161,
    "start_time": "2023-01-12T16:05:05.273Z"
   },
   {
    "duration": 1959,
    "start_time": "2023-01-15T12:23:46.876Z"
   },
   {
    "duration": 5,
    "start_time": "2023-01-15T12:23:48.837Z"
   },
   {
    "duration": 74,
    "start_time": "2023-01-15T12:23:48.844Z"
   },
   {
    "duration": 84,
    "start_time": "2023-01-15T12:23:48.920Z"
   },
   {
    "duration": 33,
    "start_time": "2023-01-15T12:23:49.006Z"
   },
   {
    "duration": 16,
    "start_time": "2023-01-15T12:23:49.040Z"
   },
   {
    "duration": 7,
    "start_time": "2023-01-15T12:23:49.057Z"
   },
   {
    "duration": 9,
    "start_time": "2023-01-15T12:23:49.066Z"
   },
   {
    "duration": 23,
    "start_time": "2023-01-15T12:23:49.077Z"
   },
   {
    "duration": 4,
    "start_time": "2023-01-15T12:23:49.102Z"
   },
   {
    "duration": 13,
    "start_time": "2023-01-15T12:23:49.108Z"
   },
   {
    "duration": 10,
    "start_time": "2023-01-15T12:23:49.122Z"
   },
   {
    "duration": 256,
    "start_time": "2023-01-15T12:23:49.402Z"
   },
   {
    "duration": 5,
    "start_time": "2023-01-15T12:23:49.755Z"
   },
   {
    "duration": 261,
    "start_time": "2023-01-15T12:23:49.913Z"
   },
   {
    "duration": 5,
    "start_time": "2023-01-15T12:23:52.362Z"
   },
   {
    "duration": 393,
    "start_time": "2023-01-15T12:23:52.548Z"
   },
   {
    "duration": 4,
    "start_time": "2023-01-15T12:23:52.943Z"
   },
   {
    "duration": 218,
    "start_time": "2023-01-15T12:23:53.079Z"
   },
   {
    "duration": 6,
    "start_time": "2023-01-15T12:23:53.441Z"
   },
   {
    "duration": 3,
    "start_time": "2023-01-15T12:23:55.172Z"
   },
   {
    "duration": 4,
    "start_time": "2023-01-15T12:23:57.074Z"
   },
   {
    "duration": 11,
    "start_time": "2023-01-15T12:23:57.243Z"
   },
   {
    "duration": 4,
    "start_time": "2023-01-15T12:23:57.405Z"
   },
   {
    "duration": 4,
    "start_time": "2023-01-15T12:23:59.709Z"
   },
   {
    "duration": 123,
    "start_time": "2023-01-15T12:24:23.884Z"
   },
   {
    "duration": 26,
    "start_time": "2023-01-15T12:24:33.499Z"
   },
   {
    "duration": 46,
    "start_time": "2023-01-15T12:24:49.396Z"
   },
   {
    "duration": 28,
    "start_time": "2023-01-15T12:24:54.551Z"
   },
   {
    "duration": 53,
    "start_time": "2023-01-15T12:26:11.903Z"
   },
   {
    "duration": 48,
    "start_time": "2023-01-15T12:26:37.146Z"
   },
   {
    "duration": 11,
    "start_time": "2023-01-15T12:27:46.915Z"
   },
   {
    "duration": 46,
    "start_time": "2023-01-15T12:30:27.947Z"
   },
   {
    "duration": 102,
    "start_time": "2023-01-15T12:30:51.006Z"
   },
   {
    "duration": 114,
    "start_time": "2023-01-15T12:31:15.893Z"
   },
   {
    "duration": 256,
    "start_time": "2023-01-15T12:31:58.548Z"
   },
   {
    "duration": 4,
    "start_time": "2023-01-15T12:32:31.805Z"
   },
   {
    "duration": 299,
    "start_time": "2023-01-15T12:32:54.000Z"
   },
   {
    "duration": 342,
    "start_time": "2023-01-15T12:33:18.255Z"
   },
   {
    "duration": 24,
    "start_time": "2023-01-15T12:33:34.081Z"
   },
   {
    "duration": 248,
    "start_time": "2023-01-15T12:33:43.361Z"
   },
   {
    "duration": 327,
    "start_time": "2023-01-15T12:33:52.490Z"
   },
   {
    "duration": 574,
    "start_time": "2023-01-15T12:34:12.325Z"
   },
   {
    "duration": 3075,
    "start_time": "2023-01-15T12:34:44.328Z"
   },
   {
    "duration": 6,
    "start_time": "2023-01-15T12:35:03.956Z"
   },
   {
    "duration": 6,
    "start_time": "2023-01-15T12:35:17.868Z"
   },
   {
    "duration": 5,
    "start_time": "2023-01-15T12:35:57.159Z"
   },
   {
    "duration": 10248,
    "start_time": "2023-01-15T12:36:04.063Z"
   },
   {
    "duration": 30119,
    "start_time": "2023-01-15T12:36:18.287Z"
   },
   {
    "duration": 30731,
    "start_time": "2023-01-15T12:37:06.771Z"
   },
   {
    "duration": 6,
    "start_time": "2023-01-15T12:37:50.247Z"
   },
   {
    "duration": 2954,
    "start_time": "2023-01-15T12:38:01.770Z"
   },
   {
    "duration": 5,
    "start_time": "2023-01-15T12:38:06.882Z"
   },
   {
    "duration": 3347,
    "start_time": "2023-01-15T12:38:29.451Z"
   },
   {
    "duration": 6,
    "start_time": "2023-01-15T12:38:34.507Z"
   },
   {
    "duration": 3073,
    "start_time": "2023-01-15T12:38:43.147Z"
   },
   {
    "duration": 5,
    "start_time": "2023-01-15T12:38:47.048Z"
   },
   {
    "duration": 287,
    "start_time": "2023-01-15T12:38:55.620Z"
   },
   {
    "duration": 239,
    "start_time": "2023-01-15T12:39:01.460Z"
   },
   {
    "duration": 6,
    "start_time": "2023-01-15T12:39:03.979Z"
   },
   {
    "duration": 302,
    "start_time": "2023-01-15T12:39:07.908Z"
   },
   {
    "duration": 5,
    "start_time": "2023-01-15T12:39:10.853Z"
   },
   {
    "duration": 2972,
    "start_time": "2023-01-15T12:39:20.629Z"
   },
   {
    "duration": 5,
    "start_time": "2023-01-15T12:39:25.451Z"
   },
   {
    "duration": 3162,
    "start_time": "2023-01-15T12:39:34.054Z"
   },
   {
    "duration": 5,
    "start_time": "2023-01-15T12:39:38.302Z"
   },
   {
    "duration": 1480,
    "start_time": "2023-01-15T12:39:49.740Z"
   },
   {
    "duration": 1508,
    "start_time": "2023-01-15T12:39:54.511Z"
   },
   {
    "duration": 5,
    "start_time": "2023-01-15T12:39:57.565Z"
   },
   {
    "duration": 1558,
    "start_time": "2023-01-15T12:40:00.147Z"
   },
   {
    "duration": 5,
    "start_time": "2023-01-15T12:40:02.590Z"
   },
   {
    "duration": 1594,
    "start_time": "2023-01-15T12:40:22.503Z"
   },
   {
    "duration": 5,
    "start_time": "2023-01-15T12:40:26.103Z"
   },
   {
    "duration": 1668,
    "start_time": "2023-01-15T12:40:33.040Z"
   },
   {
    "duration": 4,
    "start_time": "2023-01-15T12:40:34.710Z"
   },
   {
    "duration": 1574,
    "start_time": "2023-01-15T12:40:38.447Z"
   },
   {
    "duration": 1503,
    "start_time": "2023-01-15T12:40:42.015Z"
   },
   {
    "duration": 5,
    "start_time": "2023-01-15T12:40:44.191Z"
   },
   {
    "duration": 1479,
    "start_time": "2023-01-15T12:40:59.531Z"
   },
   {
    "duration": 5,
    "start_time": "2023-01-15T12:41:02.649Z"
   },
   {
    "duration": 1522,
    "start_time": "2023-01-15T12:45:16.490Z"
   },
   {
    "duration": 5,
    "start_time": "2023-01-15T12:45:21.051Z"
   },
   {
    "duration": 1443,
    "start_time": "2023-01-15T12:45:56.675Z"
   },
   {
    "duration": 1370,
    "start_time": "2023-01-15T12:46:01.046Z"
   },
   {
    "duration": 6,
    "start_time": "2023-01-15T12:46:07.458Z"
   },
   {
    "duration": 1465,
    "start_time": "2023-01-15T12:46:18.348Z"
   },
   {
    "duration": 1467,
    "start_time": "2023-01-15T12:46:22.248Z"
   },
   {
    "duration": 238,
    "start_time": "2023-01-15T12:46:29.066Z"
   },
   {
    "duration": 235,
    "start_time": "2023-01-15T12:46:32.869Z"
   },
   {
    "duration": 178,
    "start_time": "2023-01-15T12:46:36.643Z"
   },
   {
    "duration": 298,
    "start_time": "2023-01-15T12:46:39.204Z"
   },
   {
    "duration": 262,
    "start_time": "2023-01-15T12:46:46.953Z"
   },
   {
    "duration": 307,
    "start_time": "2023-01-15T12:46:51.907Z"
   },
   {
    "duration": 244,
    "start_time": "2023-01-15T12:46:54.173Z"
   },
   {
    "duration": 232,
    "start_time": "2023-01-15T12:46:57.668Z"
   },
   {
    "duration": 233,
    "start_time": "2023-01-15T12:47:02.366Z"
   },
   {
    "duration": 316,
    "start_time": "2023-01-15T12:47:04.385Z"
   },
   {
    "duration": 246,
    "start_time": "2023-01-15T12:47:06.855Z"
   },
   {
    "duration": 233,
    "start_time": "2023-01-15T12:47:10.574Z"
   },
   {
    "duration": 325,
    "start_time": "2023-01-15T12:47:12.189Z"
   },
   {
    "duration": 323,
    "start_time": "2023-01-15T12:47:15.981Z"
   },
   {
    "duration": 260,
    "start_time": "2023-01-15T12:47:18.455Z"
   },
   {
    "duration": 178,
    "start_time": "2023-01-15T12:47:21.348Z"
   },
   {
    "duration": 238,
    "start_time": "2023-01-15T12:47:25.870Z"
   },
   {
    "duration": 2772,
    "start_time": "2023-01-15T12:47:30.640Z"
   },
   {
    "duration": 2877,
    "start_time": "2023-01-15T12:47:36.622Z"
   },
   {
    "duration": 2696,
    "start_time": "2023-01-15T12:47:41.023Z"
   },
   {
    "duration": 2958,
    "start_time": "2023-01-15T12:47:45.055Z"
   },
   {
    "duration": 6,
    "start_time": "2023-01-15T12:47:49.159Z"
   },
   {
    "duration": 3106,
    "start_time": "2023-01-15T12:47:57.904Z"
   },
   {
    "duration": 3311,
    "start_time": "2023-01-15T12:48:02.711Z"
   },
   {
    "duration": 3470,
    "start_time": "2023-01-15T12:48:06.738Z"
   },
   {
    "duration": 2654,
    "start_time": "2023-01-15T12:48:33.052Z"
   },
   {
    "duration": 2031,
    "start_time": "2023-01-15T12:48:38.672Z"
   },
   {
    "duration": 3161,
    "start_time": "2023-01-15T12:48:43.239Z"
   },
   {
    "duration": 3059,
    "start_time": "2023-01-15T12:48:48.056Z"
   },
   {
    "duration": 3081,
    "start_time": "2023-01-15T12:48:52.521Z"
   },
   {
    "duration": 3946,
    "start_time": "2023-01-15T12:48:58.256Z"
   },
   {
    "duration": 5,
    "start_time": "2023-01-15T12:49:05.555Z"
   },
   {
    "duration": 3347,
    "start_time": "2023-01-15T12:49:09.466Z"
   },
   {
    "duration": 3048,
    "start_time": "2023-01-15T12:49:17.170Z"
   },
   {
    "duration": 2749,
    "start_time": "2023-01-15T12:49:23.762Z"
   },
   {
    "duration": 2815,
    "start_time": "2023-01-15T12:49:27.898Z"
   },
   {
    "duration": 2939,
    "start_time": "2023-01-15T12:49:35.267Z"
   },
   {
    "duration": 5,
    "start_time": "2023-01-15T12:49:39.554Z"
   },
   {
    "duration": 10,
    "start_time": "2023-01-15T12:50:04.988Z"
   },
   {
    "duration": 10,
    "start_time": "2023-01-15T12:50:08.647Z"
   },
   {
    "duration": 5,
    "start_time": "2023-01-15T12:50:13.673Z"
   },
   {
    "duration": 2999,
    "start_time": "2023-01-15T12:50:48.301Z"
   },
   {
    "duration": 4,
    "start_time": "2023-01-15T12:50:53.364Z"
   },
   {
    "duration": 2860,
    "start_time": "2023-01-15T12:50:54.756Z"
   },
   {
    "duration": 3,
    "start_time": "2023-01-15T12:51:10.552Z"
   },
   {
    "duration": 2836,
    "start_time": "2023-01-15T12:51:11.766Z"
   },
   {
    "duration": 11,
    "start_time": "2023-01-15T12:51:28.654Z"
   },
   {
    "duration": 2849,
    "start_time": "2023-01-15T12:53:59.252Z"
   },
   {
    "duration": 6,
    "start_time": "2023-01-15T12:54:05.706Z"
   },
   {
    "duration": 123,
    "start_time": "2023-01-15T12:55:08.174Z"
   },
   {
    "duration": 196,
    "start_time": "2023-01-15T12:55:42.208Z"
   },
   {
    "duration": 11,
    "start_time": "2023-01-15T12:56:22.057Z"
   },
   {
    "duration": 5,
    "start_time": "2023-01-15T12:56:36.793Z"
   },
   {
    "duration": 323,
    "start_time": "2023-01-15T12:56:47.355Z"
   },
   {
    "duration": 89,
    "start_time": "2023-01-15T12:57:00.444Z"
   },
   {
    "duration": 2,
    "start_time": "2023-01-15T12:57:06.570Z"
   },
   {
    "duration": 6,
    "start_time": "2023-01-15T12:58:38.692Z"
   },
   {
    "duration": 10,
    "start_time": "2023-01-15T12:58:51.948Z"
   },
   {
    "duration": 4,
    "start_time": "2023-01-15T12:59:05.481Z"
   },
   {
    "duration": 4,
    "start_time": "2023-01-15T12:59:18.248Z"
   },
   {
    "duration": 5,
    "start_time": "2023-01-15T12:59:54.209Z"
   },
   {
    "duration": 3,
    "start_time": "2023-01-15T13:00:00.537Z"
   },
   {
    "duration": 7,
    "start_time": "2023-01-15T13:00:05.637Z"
   },
   {
    "duration": 5,
    "start_time": "2023-01-15T13:00:11.144Z"
   },
   {
    "duration": 6,
    "start_time": "2023-01-15T13:00:14.472Z"
   },
   {
    "duration": 5,
    "start_time": "2023-01-15T13:00:16.840Z"
   },
   {
    "duration": 5,
    "start_time": "2023-01-15T13:00:45.194Z"
   },
   {
    "duration": 5,
    "start_time": "2023-01-15T13:00:57.706Z"
   },
   {
    "duration": 5,
    "start_time": "2023-01-15T13:01:06.699Z"
   },
   {
    "duration": 5,
    "start_time": "2023-01-15T13:01:16.594Z"
   },
   {
    "duration": 5,
    "start_time": "2023-01-15T13:01:26.540Z"
   },
   {
    "duration": 6,
    "start_time": "2023-01-15T13:01:29.747Z"
   },
   {
    "duration": 2800,
    "start_time": "2023-01-15T13:01:38.004Z"
   },
   {
    "duration": 3165,
    "start_time": "2023-01-15T13:01:45.045Z"
   },
   {
    "duration": 2911,
    "start_time": "2023-01-15T13:01:50.692Z"
   },
   {
    "duration": 3021,
    "start_time": "2023-01-15T13:01:55.780Z"
   },
   {
    "duration": 22,
    "start_time": "2023-01-15T13:02:05.181Z"
   },
   {
    "duration": 2996,
    "start_time": "2023-01-15T13:02:10.310Z"
   },
   {
    "duration": 2977,
    "start_time": "2023-01-15T13:02:15.233Z"
   },
   {
    "duration": 2930,
    "start_time": "2023-01-15T13:02:18.685Z"
   },
   {
    "duration": 2984,
    "start_time": "2023-01-15T13:02:22.526Z"
   },
   {
    "duration": 294,
    "start_time": "2023-01-15T13:02:28.413Z"
   },
   {
    "duration": 269,
    "start_time": "2023-01-15T13:02:33.646Z"
   },
   {
    "duration": 3033,
    "start_time": "2023-01-15T13:02:42.678Z"
   },
   {
    "duration": 3109,
    "start_time": "2023-01-15T13:02:49.902Z"
   },
   {
    "duration": 3105,
    "start_time": "2023-01-15T13:02:54.206Z"
   },
   {
    "duration": 3298,
    "start_time": "2023-01-15T13:02:58.911Z"
   },
   {
    "duration": 320,
    "start_time": "2023-01-15T13:03:07.599Z"
   },
   {
    "duration": 3297,
    "start_time": "2023-01-15T13:03:13.423Z"
   },
   {
    "duration": 3239,
    "start_time": "2023-01-15T13:03:18.375Z"
   },
   {
    "duration": 3151,
    "start_time": "2023-01-15T13:03:23.355Z"
   },
   {
    "duration": 3193,
    "start_time": "2023-01-15T13:03:33.315Z"
   },
   {
    "duration": 3008,
    "start_time": "2023-01-15T13:03:45.312Z"
   },
   {
    "duration": 3328,
    "start_time": "2023-01-15T13:03:48.984Z"
   },
   {
    "duration": 3226,
    "start_time": "2023-01-15T13:03:54.184Z"
   },
   {
    "duration": 2872,
    "start_time": "2023-01-15T13:04:00.536Z"
   },
   {
    "duration": 5,
    "start_time": "2023-01-15T13:04:12.256Z"
   },
   {
    "duration": 3011,
    "start_time": "2023-01-15T13:04:15.904Z"
   },
   {
    "duration": 81,
    "start_time": "2023-01-15T13:04:18.917Z"
   },
   {
    "duration": 2900,
    "start_time": "2023-01-15T13:04:25.209Z"
   },
   {
    "duration": 2875,
    "start_time": "2023-01-15T13:04:31.732Z"
   },
   {
    "duration": 2940,
    "start_time": "2023-01-15T13:04:37.074Z"
   },
   {
    "duration": 3248,
    "start_time": "2023-01-15T13:04:41.755Z"
   },
   {
    "duration": 6,
    "start_time": "2023-01-15T13:04:48.514Z"
   },
   {
    "duration": 3064,
    "start_time": "2023-01-15T13:04:52.443Z"
   },
   {
    "duration": 5,
    "start_time": "2023-01-15T13:04:56.186Z"
   },
   {
    "duration": 3072,
    "start_time": "2023-01-15T13:04:57.735Z"
   },
   {
    "duration": 6,
    "start_time": "2023-01-15T13:05:01.770Z"
   },
   {
    "duration": 2973,
    "start_time": "2023-01-15T13:05:06.042Z"
   },
   {
    "duration": 5,
    "start_time": "2023-01-15T13:05:10.547Z"
   },
   {
    "duration": 3090,
    "start_time": "2023-01-15T13:05:13.907Z"
   },
   {
    "duration": 5,
    "start_time": "2023-01-15T13:05:18.322Z"
   },
   {
    "duration": 3012,
    "start_time": "2023-01-15T13:05:32.604Z"
   },
   {
    "duration": 3180,
    "start_time": "2023-01-15T13:05:39.336Z"
   },
   {
    "duration": 3307,
    "start_time": "2023-01-15T13:05:45.390Z"
   },
   {
    "duration": 3197,
    "start_time": "2023-01-15T13:05:50.316Z"
   },
   {
    "duration": 5,
    "start_time": "2023-01-15T13:05:54.420Z"
   },
   {
    "duration": 2887,
    "start_time": "2023-01-15T13:06:06.533Z"
   },
   {
    "duration": 3198,
    "start_time": "2023-01-15T13:06:26.516Z"
   },
   {
    "duration": 3237,
    "start_time": "2023-01-15T13:06:31.870Z"
   },
   {
    "duration": 2896,
    "start_time": "2023-01-15T13:06:36.613Z"
   },
   {
    "duration": 5,
    "start_time": "2023-01-15T13:06:40.550Z"
   },
   {
    "duration": 2883,
    "start_time": "2023-01-15T13:06:44.518Z"
   },
   {
    "duration": 3435,
    "start_time": "2023-01-15T13:06:52.886Z"
   },
   {
    "duration": 265,
    "start_time": "2023-01-15T13:07:02.847Z"
   },
   {
    "duration": 36,
    "start_time": "2023-01-15T13:07:12.182Z"
   },
   {
    "duration": 21,
    "start_time": "2023-01-15T13:07:21.784Z"
   },
   {
    "duration": 8037,
    "start_time": "2023-01-15T13:07:42.471Z"
   },
   {
    "duration": 22,
    "start_time": "2023-01-15T13:07:58.106Z"
   },
   {
    "duration": 24,
    "start_time": "2023-01-15T13:08:04.681Z"
   },
   {
    "duration": 6,
    "start_time": "2023-01-15T13:08:07.912Z"
   },
   {
    "duration": 4,
    "start_time": "2023-01-15T13:08:11.960Z"
   },
   {
    "duration": 20,
    "start_time": "2023-01-15T13:08:12.449Z"
   },
   {
    "duration": 6,
    "start_time": "2023-01-15T13:08:16.583Z"
   },
   {
    "duration": 21,
    "start_time": "2023-01-15T13:08:25.460Z"
   },
   {
    "duration": 4,
    "start_time": "2023-01-15T13:08:25.835Z"
   },
   {
    "duration": 238,
    "start_time": "2023-01-15T13:08:37.866Z"
   },
   {
    "duration": 5,
    "start_time": "2023-01-15T13:08:40.497Z"
   },
   {
    "duration": 262,
    "start_time": "2023-01-15T13:08:44.839Z"
   },
   {
    "duration": 5,
    "start_time": "2023-01-15T13:08:47.547Z"
   },
   {
    "duration": 9,
    "start_time": "2023-01-15T13:09:12.222Z"
   },
   {
    "duration": 4,
    "start_time": "2023-01-15T13:09:22.515Z"
   },
   {
    "duration": 105,
    "start_time": "2023-01-15T13:10:50.247Z"
   },
   {
    "duration": 10,
    "start_time": "2023-01-15T13:11:06.454Z"
   },
   {
    "duration": 3,
    "start_time": "2023-01-15T13:11:15.314Z"
   },
   {
    "duration": 2,
    "start_time": "2023-01-15T13:11:19.856Z"
   },
   {
    "duration": 3,
    "start_time": "2023-01-15T13:11:24.447Z"
   },
   {
    "duration": 3,
    "start_time": "2023-01-15T13:11:28.888Z"
   },
   {
    "duration": 3,
    "start_time": "2023-01-15T13:11:52.007Z"
   },
   {
    "duration": 2,
    "start_time": "2023-01-15T13:11:54.737Z"
   },
   {
    "duration": 3,
    "start_time": "2023-01-15T13:11:56.889Z"
   },
   {
    "duration": 3,
    "start_time": "2023-01-15T13:12:01.604Z"
   },
   {
    "duration": 82,
    "start_time": "2023-01-15T13:12:51.730Z"
   },
   {
    "duration": 55,
    "start_time": "2023-01-15T13:13:04.292Z"
   },
   {
    "duration": 3,
    "start_time": "2023-01-15T13:13:21.252Z"
   },
   {
    "duration": 4,
    "start_time": "2023-01-15T13:13:30.996Z"
   },
   {
    "duration": 3,
    "start_time": "2023-01-15T13:13:32.477Z"
   },
   {
    "duration": 4,
    "start_time": "2023-01-15T13:13:38.741Z"
   },
   {
    "duration": 3,
    "start_time": "2023-01-15T13:13:39.213Z"
   },
   {
    "duration": 107,
    "start_time": "2023-01-15T13:13:45.069Z"
   },
   {
    "duration": 9,
    "start_time": "2023-01-15T13:15:38.970Z"
   },
   {
    "duration": 3,
    "start_time": "2023-01-15T13:15:44.897Z"
   },
   {
    "duration": 9,
    "start_time": "2023-01-15T13:15:51.473Z"
   },
   {
    "duration": 101,
    "start_time": "2023-01-15T13:16:11.474Z"
   },
   {
    "duration": 888,
    "start_time": "2023-01-15T13:16:55.756Z"
   },
   {
    "duration": 1007,
    "start_time": "2023-01-15T13:17:05.452Z"
   },
   {
    "duration": 877,
    "start_time": "2023-01-15T13:17:11.060Z"
   },
   {
    "duration": 859,
    "start_time": "2023-01-15T13:17:17.380Z"
   },
   {
    "duration": 5,
    "start_time": "2023-01-15T13:18:09.422Z"
   },
   {
    "duration": 3,
    "start_time": "2023-01-15T13:18:35.175Z"
   },
   {
    "duration": 1139,
    "start_time": "2023-01-15T13:19:18.113Z"
   },
   {
    "duration": 1017,
    "start_time": "2023-01-15T13:19:31.240Z"
   },
   {
    "duration": 1142,
    "start_time": "2023-01-15T13:19:41.512Z"
   },
   {
    "duration": 1082,
    "start_time": "2023-01-15T13:19:49.257Z"
   },
   {
    "duration": 1323,
    "start_time": "2023-01-15T13:20:14.474Z"
   },
   {
    "duration": 1206,
    "start_time": "2023-01-15T13:20:17.994Z"
   },
   {
    "duration": 1216,
    "start_time": "2023-01-15T13:20:32.987Z"
   },
   {
    "duration": 1112,
    "start_time": "2023-01-15T13:20:38.514Z"
   },
   {
    "duration": 1080,
    "start_time": "2023-01-15T13:22:47.823Z"
   },
   {
    "duration": 1079,
    "start_time": "2023-01-15T13:23:02.208Z"
   },
   {
    "duration": 1013,
    "start_time": "2023-01-15T13:23:09.341Z"
   },
   {
    "duration": 953,
    "start_time": "2023-01-15T13:24:28.352Z"
   },
   {
    "duration": 1050,
    "start_time": "2023-01-15T13:24:51.445Z"
   },
   {
    "duration": 1069,
    "start_time": "2023-01-15T13:27:07.042Z"
   },
   {
    "duration": 1174,
    "start_time": "2023-01-15T13:29:12.199Z"
   },
   {
    "duration": 1123,
    "start_time": "2023-01-15T13:29:32.878Z"
   },
   {
    "duration": 1213,
    "start_time": "2023-01-15T13:31:14.394Z"
   },
   {
    "duration": 1087,
    "start_time": "2023-01-15T13:31:18.151Z"
   },
   {
    "duration": 1268,
    "start_time": "2023-01-15T13:31:57.396Z"
   },
   {
    "duration": 1101,
    "start_time": "2023-01-15T13:32:10.988Z"
   },
   {
    "duration": 1168,
    "start_time": "2023-01-15T13:32:59.694Z"
   },
   {
    "duration": 1215,
    "start_time": "2023-01-15T13:33:10.901Z"
   },
   {
    "duration": 1133,
    "start_time": "2023-01-15T13:33:13.911Z"
   },
   {
    "duration": 1174,
    "start_time": "2023-01-15T13:33:26.126Z"
   },
   {
    "duration": 1056,
    "start_time": "2023-01-15T13:33:31.846Z"
   },
   {
    "duration": 1200,
    "start_time": "2023-01-15T13:33:51.439Z"
   },
   {
    "duration": 1082,
    "start_time": "2023-01-15T13:33:55.192Z"
   },
   {
    "duration": 1236,
    "start_time": "2023-01-15T13:33:59.103Z"
   },
   {
    "duration": 1031,
    "start_time": "2023-01-15T13:34:15.945Z"
   },
   {
    "duration": 1224,
    "start_time": "2023-01-15T13:34:20.931Z"
   },
   {
    "duration": 1055,
    "start_time": "2023-01-15T13:34:26.585Z"
   },
   {
    "duration": 1136,
    "start_time": "2023-01-15T13:34:31.545Z"
   },
   {
    "duration": 1272,
    "start_time": "2023-01-15T13:36:55.918Z"
   },
   {
    "duration": 1330,
    "start_time": "2023-01-15T13:37:37.801Z"
   },
   {
    "duration": 1438,
    "start_time": "2023-01-15T13:37:47.071Z"
   },
   {
    "duration": 1274,
    "start_time": "2023-01-15T13:37:53.354Z"
   },
   {
    "duration": 1385,
    "start_time": "2023-01-15T13:37:59.289Z"
   },
   {
    "duration": 1173,
    "start_time": "2023-01-15T13:38:42.474Z"
   },
   {
    "duration": 1388,
    "start_time": "2023-01-15T13:40:20.054Z"
   },
   {
    "duration": 1251,
    "start_time": "2023-01-15T13:47:08.316Z"
   },
   {
    "duration": 1341,
    "start_time": "2023-01-15T13:47:14.596Z"
   },
   {
    "duration": 3,
    "start_time": "2023-01-15T13:48:30.175Z"
   },
   {
    "duration": 9,
    "start_time": "2023-01-15T13:49:43.217Z"
   },
   {
    "duration": 3,
    "start_time": "2023-01-15T13:49:50.521Z"
   },
   {
    "duration": 3,
    "start_time": "2023-01-15T13:49:53.905Z"
   },
   {
    "duration": 4,
    "start_time": "2023-01-15T13:50:00.010Z"
   },
   {
    "duration": 27,
    "start_time": "2023-01-15T13:52:30.831Z"
   },
   {
    "duration": 6,
    "start_time": "2023-01-15T13:52:59.729Z"
   },
   {
    "duration": 24,
    "start_time": "2023-01-15T13:53:04.657Z"
   },
   {
    "duration": 45,
    "start_time": "2023-01-15T13:53:58.107Z"
   },
   {
    "duration": 43,
    "start_time": "2023-01-15T13:54:14.883Z"
   },
   {
    "duration": 22,
    "start_time": "2023-01-15T13:54:23.444Z"
   },
   {
    "duration": 1651,
    "start_time": "2023-01-15T13:55:17.292Z"
   },
   {
    "duration": 4,
    "start_time": "2023-01-15T13:55:18.945Z"
   },
   {
    "duration": 40,
    "start_time": "2023-01-15T13:55:18.950Z"
   },
   {
    "duration": 91,
    "start_time": "2023-01-15T13:55:18.991Z"
   },
   {
    "duration": 36,
    "start_time": "2023-01-15T13:55:19.084Z"
   },
   {
    "duration": 14,
    "start_time": "2023-01-15T13:55:19.121Z"
   },
   {
    "duration": 5,
    "start_time": "2023-01-15T13:55:19.137Z"
   },
   {
    "duration": 10,
    "start_time": "2023-01-15T13:55:19.143Z"
   },
   {
    "duration": 23,
    "start_time": "2023-01-15T13:55:19.155Z"
   },
   {
    "duration": 34,
    "start_time": "2023-01-15T13:55:19.180Z"
   },
   {
    "duration": 36,
    "start_time": "2023-01-15T13:55:19.215Z"
   },
   {
    "duration": 12,
    "start_time": "2023-01-15T13:55:19.253Z"
   },
   {
    "duration": 260,
    "start_time": "2023-01-15T13:55:19.266Z"
   },
   {
    "duration": 5,
    "start_time": "2023-01-15T13:55:19.527Z"
   },
   {
    "duration": 235,
    "start_time": "2023-01-15T13:55:19.534Z"
   },
   {
    "duration": 5,
    "start_time": "2023-01-15T13:55:19.770Z"
   },
   {
    "duration": 444,
    "start_time": "2023-01-15T13:55:19.777Z"
   },
   {
    "duration": 5,
    "start_time": "2023-01-15T13:55:20.223Z"
   },
   {
    "duration": 234,
    "start_time": "2023-01-15T13:55:20.230Z"
   },
   {
    "duration": 7,
    "start_time": "2023-01-15T13:55:20.465Z"
   },
   {
    "duration": 11,
    "start_time": "2023-01-15T13:55:20.473Z"
   },
   {
    "duration": 12,
    "start_time": "2023-01-15T13:55:20.485Z"
   },
   {
    "duration": 14,
    "start_time": "2023-01-15T13:55:20.499Z"
   },
   {
    "duration": 8,
    "start_time": "2023-01-15T13:55:20.514Z"
   },
   {
    "duration": 16,
    "start_time": "2023-01-15T13:55:20.523Z"
   },
   {
    "duration": 7,
    "start_time": "2023-01-15T13:55:20.540Z"
   },
   {
    "duration": 369,
    "start_time": "2023-01-15T13:55:20.548Z"
   },
   {
    "duration": 3,
    "start_time": "2023-01-15T13:55:20.920Z"
   },
   {
    "duration": 1219,
    "start_time": "2023-01-15T13:55:20.925Z"
   },
   {
    "duration": 718,
    "start_time": "2023-01-15T13:55:22.146Z"
   },
   {
    "duration": 308,
    "start_time": "2023-01-15T13:56:57.295Z"
   },
   {
    "duration": 729,
    "start_time": "2023-01-15T13:57:09.111Z"
   },
   {
    "duration": 4,
    "start_time": "2023-01-15T13:57:37.211Z"
   },
   {
    "duration": 288,
    "start_time": "2023-01-15T13:57:38.729Z"
   },
   {
    "duration": 4,
    "start_time": "2023-01-15T13:57:45.648Z"
   },
   {
    "duration": 316,
    "start_time": "2023-01-15T13:57:46.193Z"
   },
   {
    "duration": 4,
    "start_time": "2023-01-15T13:57:51.353Z"
   },
   {
    "duration": 247,
    "start_time": "2023-01-15T13:57:52.264Z"
   },
   {
    "duration": 317,
    "start_time": "2023-01-15T13:57:58.081Z"
   },
   {
    "duration": 298,
    "start_time": "2023-01-15T13:58:01.513Z"
   },
   {
    "duration": 312,
    "start_time": "2023-01-15T13:58:04.706Z"
   },
   {
    "duration": 246,
    "start_time": "2023-01-15T13:58:06.562Z"
   },
   {
    "duration": 252,
    "start_time": "2023-01-15T13:58:08.458Z"
   },
   {
    "duration": 257,
    "start_time": "2023-01-15T13:58:09.762Z"
   },
   {
    "duration": 295,
    "start_time": "2023-01-15T13:58:11.521Z"
   },
   {
    "duration": 4,
    "start_time": "2023-01-15T13:58:14.578Z"
   },
   {
    "duration": 334,
    "start_time": "2023-01-15T13:58:15.082Z"
   },
   {
    "duration": 4,
    "start_time": "2023-01-15T13:58:18.122Z"
   },
   {
    "duration": 298,
    "start_time": "2023-01-15T13:58:18.313Z"
   },
   {
    "duration": 4,
    "start_time": "2023-01-15T13:58:20.042Z"
   },
   {
    "duration": 318,
    "start_time": "2023-01-15T13:58:20.194Z"
   },
   {
    "duration": 5,
    "start_time": "2023-01-15T13:58:23.993Z"
   },
   {
    "duration": 364,
    "start_time": "2023-01-15T13:58:24.138Z"
   },
   {
    "duration": 277,
    "start_time": "2023-01-15T13:58:32.042Z"
   },
   {
    "duration": 239,
    "start_time": "2023-01-15T13:58:36.178Z"
   },
   {
    "duration": 297,
    "start_time": "2023-01-15T13:58:38.413Z"
   },
   {
    "duration": 282,
    "start_time": "2023-01-15T13:58:41.226Z"
   },
   {
    "duration": 702,
    "start_time": "2023-01-15T13:58:47.050Z"
   },
   {
    "duration": 704,
    "start_time": "2023-01-15T13:58:50.228Z"
   },
   {
    "duration": 1313,
    "start_time": "2023-01-15T13:58:53.884Z"
   },
   {
    "duration": 361,
    "start_time": "2023-01-15T13:59:09.436Z"
   },
   {
    "duration": 322,
    "start_time": "2023-01-15T13:59:12.884Z"
   },
   {
    "duration": 315,
    "start_time": "2023-01-15T13:59:16.899Z"
   },
   {
    "duration": 304,
    "start_time": "2023-01-15T13:59:21.907Z"
   },
   {
    "duration": 547,
    "start_time": "2023-01-15T13:59:55.558Z"
   },
   {
    "duration": 440,
    "start_time": "2023-01-15T14:00:01.774Z"
   },
   {
    "duration": 493,
    "start_time": "2023-01-15T14:00:09.013Z"
   },
   {
    "duration": 316,
    "start_time": "2023-01-15T14:00:16.285Z"
   },
   {
    "duration": 509,
    "start_time": "2023-01-15T14:00:21.702Z"
   },
   {
    "duration": 538,
    "start_time": "2023-01-15T14:00:25.878Z"
   },
   {
    "duration": 512,
    "start_time": "2023-01-15T14:00:29.001Z"
   },
   {
    "duration": 405,
    "start_time": "2023-01-15T14:00:46.503Z"
   },
   {
    "duration": 514,
    "start_time": "2023-01-15T14:00:51.390Z"
   },
   {
    "duration": 484,
    "start_time": "2023-01-15T14:00:54.119Z"
   },
   {
    "duration": 447,
    "start_time": "2023-01-15T14:00:56.462Z"
   },
   {
    "duration": 333,
    "start_time": "2023-01-15T14:00:59.287Z"
   },
   {
    "duration": 328,
    "start_time": "2023-01-15T14:01:01.287Z"
   },
   {
    "duration": 333,
    "start_time": "2023-01-15T14:01:02.983Z"
   },
   {
    "duration": 454,
    "start_time": "2023-01-15T14:01:04.551Z"
   },
   {
    "duration": 363,
    "start_time": "2023-01-15T14:01:10.439Z"
   },
   {
    "duration": 361,
    "start_time": "2023-01-15T14:01:13.440Z"
   },
   {
    "duration": 341,
    "start_time": "2023-01-15T14:01:16.767Z"
   },
   {
    "duration": 357,
    "start_time": "2023-01-15T14:01:20.847Z"
   },
   {
    "duration": 433,
    "start_time": "2023-01-15T14:01:24.378Z"
   },
   {
    "duration": 339,
    "start_time": "2023-01-15T14:01:26.573Z"
   },
   {
    "duration": 1344,
    "start_time": "2023-01-15T14:01:31.720Z"
   },
   {
    "duration": 1977,
    "start_time": "2023-01-15T14:03:35.269Z"
   },
   {
    "duration": 1765,
    "start_time": "2023-01-15T14:03:43.541Z"
   },
   {
    "duration": 1364,
    "start_time": "2023-01-15T14:03:50.861Z"
   },
   {
    "duration": 1398,
    "start_time": "2023-01-15T14:04:01.078Z"
   },
   {
    "duration": 51,
    "start_time": "2023-01-15T14:04:12.333Z"
   },
   {
    "duration": 1306,
    "start_time": "2023-01-15T14:04:15.350Z"
   },
   {
    "duration": 1333,
    "start_time": "2023-01-15T14:04:24.469Z"
   },
   {
    "duration": 1293,
    "start_time": "2023-01-15T14:04:29.590Z"
   },
   {
    "duration": 1283,
    "start_time": "2023-01-15T14:04:56.039Z"
   },
   {
    "duration": 364,
    "start_time": "2023-01-15T14:05:11.247Z"
   },
   {
    "duration": 1299,
    "start_time": "2023-01-15T14:05:16.512Z"
   },
   {
    "duration": 1705,
    "start_time": "2023-01-15T14:08:47.224Z"
   },
   {
    "duration": 5,
    "start_time": "2023-01-15T14:08:48.931Z"
   },
   {
    "duration": 38,
    "start_time": "2023-01-15T14:08:48.938Z"
   },
   {
    "duration": 86,
    "start_time": "2023-01-15T14:08:48.978Z"
   },
   {
    "duration": 40,
    "start_time": "2023-01-15T14:08:49.067Z"
   },
   {
    "duration": 17,
    "start_time": "2023-01-15T14:08:49.109Z"
   },
   {
    "duration": 6,
    "start_time": "2023-01-15T14:08:49.129Z"
   },
   {
    "duration": 9,
    "start_time": "2023-01-15T14:08:49.137Z"
   },
   {
    "duration": 9,
    "start_time": "2023-01-15T14:08:49.148Z"
   },
   {
    "duration": 13,
    "start_time": "2023-01-15T14:08:49.159Z"
   },
   {
    "duration": 25,
    "start_time": "2023-01-15T14:08:49.173Z"
   },
   {
    "duration": 9,
    "start_time": "2023-01-15T14:08:49.200Z"
   },
   {
    "duration": 314,
    "start_time": "2023-01-15T14:08:49.211Z"
   },
   {
    "duration": 5,
    "start_time": "2023-01-15T14:08:49.528Z"
   },
   {
    "duration": 283,
    "start_time": "2023-01-15T14:08:49.536Z"
   },
   {
    "duration": 6,
    "start_time": "2023-01-15T14:08:49.821Z"
   },
   {
    "duration": 456,
    "start_time": "2023-01-15T14:08:49.828Z"
   },
   {
    "duration": 7,
    "start_time": "2023-01-15T14:08:50.297Z"
   },
   {
    "duration": 260,
    "start_time": "2023-01-15T14:08:50.306Z"
   },
   {
    "duration": 7,
    "start_time": "2023-01-15T14:08:50.568Z"
   },
   {
    "duration": 23,
    "start_time": "2023-01-15T14:08:50.576Z"
   },
   {
    "duration": 8,
    "start_time": "2023-01-15T14:08:50.600Z"
   },
   {
    "duration": 21,
    "start_time": "2023-01-15T14:08:50.609Z"
   },
   {
    "duration": 8,
    "start_time": "2023-01-15T14:08:50.632Z"
   },
   {
    "duration": 10,
    "start_time": "2023-01-15T14:08:50.641Z"
   },
   {
    "duration": 563,
    "start_time": "2023-01-15T14:08:50.653Z"
   },
   {
    "duration": 5,
    "start_time": "2023-01-15T14:08:51.219Z"
   },
   {
    "duration": 1266,
    "start_time": "2023-01-15T14:08:51.298Z"
   },
   {
    "duration": 1377,
    "start_time": "2023-01-15T14:08:52.565Z"
   },
   {
    "duration": 1342,
    "start_time": "2023-01-15T14:08:53.943Z"
   },
   {
    "duration": 3403,
    "start_time": "2023-01-16T13:53:16.567Z"
   },
   {
    "duration": 6,
    "start_time": "2023-01-16T13:53:19.973Z"
   },
   {
    "duration": 89,
    "start_time": "2023-01-16T13:53:19.980Z"
   },
   {
    "duration": 95,
    "start_time": "2023-01-16T13:53:20.071Z"
   },
   {
    "duration": 31,
    "start_time": "2023-01-16T13:53:20.177Z"
   },
   {
    "duration": 16,
    "start_time": "2023-01-16T13:53:20.210Z"
   },
   {
    "duration": 9,
    "start_time": "2023-01-16T13:53:20.228Z"
   },
   {
    "duration": 10,
    "start_time": "2023-01-16T13:53:20.238Z"
   },
   {
    "duration": 11,
    "start_time": "2023-01-16T13:53:20.250Z"
   },
   {
    "duration": 5,
    "start_time": "2023-01-16T13:53:20.277Z"
   },
   {
    "duration": 13,
    "start_time": "2023-01-16T13:53:20.283Z"
   },
   {
    "duration": 7,
    "start_time": "2023-01-16T13:53:20.298Z"
   },
   {
    "duration": 302,
    "start_time": "2023-01-16T13:53:20.307Z"
   },
   {
    "duration": 5,
    "start_time": "2023-01-16T13:53:20.612Z"
   },
   {
    "duration": 279,
    "start_time": "2023-01-16T13:53:20.619Z"
   },
   {
    "duration": 5,
    "start_time": "2023-01-16T13:53:20.900Z"
   },
   {
    "duration": 456,
    "start_time": "2023-01-16T13:53:20.907Z"
   },
   {
    "duration": 13,
    "start_time": "2023-01-16T13:53:21.364Z"
   },
   {
    "duration": 257,
    "start_time": "2023-01-16T13:53:21.379Z"
   },
   {
    "duration": 9,
    "start_time": "2023-01-16T13:53:21.638Z"
   },
   {
    "duration": 6,
    "start_time": "2023-01-16T13:53:21.648Z"
   },
   {
    "duration": 22,
    "start_time": "2023-01-16T13:53:21.656Z"
   },
   {
    "duration": 12,
    "start_time": "2023-01-16T13:53:21.679Z"
   },
   {
    "duration": 5,
    "start_time": "2023-01-16T13:53:21.693Z"
   },
   {
    "duration": 54,
    "start_time": "2023-01-16T13:53:21.700Z"
   },
   {
    "duration": 159,
    "start_time": "2023-01-16T13:54:21.669Z"
   },
   {
    "duration": 6,
    "start_time": "2023-01-16T13:54:28.485Z"
   },
   {
    "duration": 5,
    "start_time": "2023-01-16T13:54:31.502Z"
   },
   {
    "duration": 756,
    "start_time": "2023-01-16T13:56:15.538Z"
   },
   {
    "duration": 4,
    "start_time": "2023-01-16T14:08:08.642Z"
   },
   {
    "duration": 1430,
    "start_time": "2023-01-16T14:34:53.917Z"
   },
   {
    "duration": 1415,
    "start_time": "2023-01-16T14:36:36.034Z"
   },
   {
    "duration": 1538,
    "start_time": "2023-01-16T14:37:45.820Z"
   },
   {
    "duration": 1494,
    "start_time": "2023-01-16T14:37:57.697Z"
   },
   {
    "duration": 1578,
    "start_time": "2023-01-16T14:38:32.076Z"
   },
   {
    "duration": 1393,
    "start_time": "2023-01-16T14:40:43.735Z"
   },
   {
    "duration": 1727,
    "start_time": "2023-01-16T14:40:48.152Z"
   },
   {
    "duration": 1464,
    "start_time": "2023-01-16T14:40:54.881Z"
   },
   {
    "duration": 1564,
    "start_time": "2023-01-16T14:41:02.000Z"
   },
   {
    "duration": 1494,
    "start_time": "2023-01-16T14:41:15.813Z"
   },
   {
    "duration": 1658,
    "start_time": "2023-01-16T14:41:48.639Z"
   },
   {
    "duration": 1361,
    "start_time": "2023-01-16T14:42:02.748Z"
   },
   {
    "duration": 1710,
    "start_time": "2023-01-16T14:42:07.938Z"
   },
   {
    "duration": 143,
    "start_time": "2023-01-16T14:42:55.774Z"
   },
   {
    "duration": 1554,
    "start_time": "2023-01-16T14:43:26.188Z"
   },
   {
    "duration": 15,
    "start_time": "2023-01-16T14:44:25.095Z"
   },
   {
    "duration": 1306,
    "start_time": "2023-01-16T14:44:56.290Z"
   },
   {
    "duration": 5,
    "start_time": "2023-01-16T14:45:21.188Z"
   },
   {
    "duration": 6,
    "start_time": "2023-01-16T14:47:44.906Z"
   },
   {
    "duration": 2520,
    "start_time": "2023-01-16T20:27:21.621Z"
   },
   {
    "duration": 1725,
    "start_time": "2023-01-16T20:28:38.296Z"
   },
   {
    "duration": 4,
    "start_time": "2023-01-16T20:28:40.023Z"
   },
   {
    "duration": 83,
    "start_time": "2023-01-16T20:28:40.029Z"
   },
   {
    "duration": 82,
    "start_time": "2023-01-16T20:28:40.114Z"
   },
   {
    "duration": 39,
    "start_time": "2023-01-16T20:28:40.198Z"
   },
   {
    "duration": 13,
    "start_time": "2023-01-16T20:28:40.239Z"
   },
   {
    "duration": 7,
    "start_time": "2023-01-16T20:28:40.254Z"
   },
   {
    "duration": 4,
    "start_time": "2023-01-16T20:28:40.263Z"
   },
   {
    "duration": 6,
    "start_time": "2023-01-16T20:28:40.269Z"
   },
   {
    "duration": 7,
    "start_time": "2023-01-16T20:28:40.277Z"
   },
   {
    "duration": 30,
    "start_time": "2023-01-16T20:28:40.286Z"
   },
   {
    "duration": 5,
    "start_time": "2023-01-16T20:28:40.318Z"
   },
   {
    "duration": 254,
    "start_time": "2023-01-16T20:28:40.325Z"
   },
   {
    "duration": 5,
    "start_time": "2023-01-16T20:28:40.581Z"
   },
   {
    "duration": 229,
    "start_time": "2023-01-16T20:28:40.587Z"
   },
   {
    "duration": 5,
    "start_time": "2023-01-16T20:28:40.817Z"
   },
   {
    "duration": 411,
    "start_time": "2023-01-16T20:28:40.823Z"
   },
   {
    "duration": 6,
    "start_time": "2023-01-16T20:28:41.236Z"
   },
   {
    "duration": 237,
    "start_time": "2023-01-16T20:28:41.243Z"
   },
   {
    "duration": 7,
    "start_time": "2023-01-16T20:28:41.481Z"
   },
   {
    "duration": 18,
    "start_time": "2023-01-16T20:28:41.489Z"
   },
   {
    "duration": 14,
    "start_time": "2023-01-16T20:28:41.508Z"
   },
   {
    "duration": 31,
    "start_time": "2023-01-16T20:28:41.523Z"
   },
   {
    "duration": 18,
    "start_time": "2023-01-16T20:28:41.556Z"
   },
   {
    "duration": 59,
    "start_time": "2023-01-16T20:28:41.575Z"
   },
   {
    "duration": 443,
    "start_time": "2023-01-16T20:28:41.636Z"
   },
   {
    "duration": 0,
    "start_time": "2023-01-16T20:28:42.080Z"
   },
   {
    "duration": 0,
    "start_time": "2023-01-16T20:28:42.081Z"
   },
   {
    "duration": 0,
    "start_time": "2023-01-16T20:28:42.082Z"
   },
   {
    "duration": 0,
    "start_time": "2023-01-16T20:28:42.083Z"
   },
   {
    "duration": 22,
    "start_time": "2023-01-16T20:29:02.752Z"
   },
   {
    "duration": 291,
    "start_time": "2023-01-16T20:29:40.034Z"
   },
   {
    "duration": 3424,
    "start_time": "2023-01-16T20:34:26.003Z"
   },
   {
    "duration": 34928,
    "start_time": "2023-01-16T20:34:39.987Z"
   },
   {
    "duration": 6924,
    "start_time": "2023-01-16T20:35:19.611Z"
   },
   {
    "duration": 1786,
    "start_time": "2023-01-16T20:38:01.841Z"
   },
   {
    "duration": 128,
    "start_time": "2023-01-16T20:38:07.863Z"
   },
   {
    "duration": 2152,
    "start_time": "2023-01-16T20:38:09.643Z"
   },
   {
    "duration": 47,
    "start_time": "2023-01-16T20:39:48.164Z"
   },
   {
    "duration": 35647,
    "start_time": "2023-01-16T20:39:56.246Z"
   },
   {
    "duration": 36119,
    "start_time": "2023-01-16T20:41:12.564Z"
   },
   {
    "duration": 3752,
    "start_time": "2023-01-16T20:42:15.432Z"
   },
   {
    "duration": 0,
    "start_time": "2023-01-16T20:42:27.094Z"
   },
   {
    "duration": 2133,
    "start_time": "2023-01-16T20:42:31.448Z"
   },
   {
    "duration": 2081,
    "start_time": "2023-01-16T20:42:36.715Z"
   },
   {
    "duration": 2001,
    "start_time": "2023-01-16T20:42:41.597Z"
   },
   {
    "duration": 2154,
    "start_time": "2023-01-16T20:42:45.648Z"
   },
   {
    "duration": 1622,
    "start_time": "2023-01-16T20:43:24.683Z"
   },
   {
    "duration": 2006,
    "start_time": "2023-01-16T20:43:28.781Z"
   },
   {
    "duration": 2389,
    "start_time": "2023-01-16T20:43:34.597Z"
   },
   {
    "duration": 1859,
    "start_time": "2023-01-16T20:43:38.748Z"
   },
   {
    "duration": 4,
    "start_time": "2023-01-16T20:47:57.384Z"
   },
   {
    "duration": 1205,
    "start_time": "2023-01-16T20:47:57.584Z"
   },
   {
    "duration": 7704,
    "start_time": "2023-01-16T20:48:01.036Z"
   },
   {
    "duration": 1216,
    "start_time": "2023-01-16T20:49:04.351Z"
   },
   {
    "duration": 13,
    "start_time": "2023-01-16T20:53:24.989Z"
   },
   {
    "duration": 30,
    "start_time": "2023-01-16T20:53:26.793Z"
   },
   {
    "duration": 7664,
    "start_time": "2023-01-16T20:53:34.004Z"
   },
   {
    "duration": 1339,
    "start_time": "2023-01-16T20:53:41.669Z"
   },
   {
    "duration": 2138,
    "start_time": "2023-01-16T20:57:19.843Z"
   },
   {
    "duration": 2858,
    "start_time": "2023-01-16T20:57:25.643Z"
   },
   {
    "duration": 4,
    "start_time": "2023-01-16T20:57:29.944Z"
   },
   {
    "duration": 1188,
    "start_time": "2023-01-16T20:57:30.927Z"
   },
   {
    "duration": 3304,
    "start_time": "2023-01-16T21:00:20.981Z"
   },
   {
    "duration": 8,
    "start_time": "2023-01-16T21:00:24.287Z"
   },
   {
    "duration": 1378,
    "start_time": "2023-01-16T21:00:24.297Z"
   },
   {
    "duration": 4,
    "start_time": "2023-01-16T21:40:41.469Z"
   },
   {
    "duration": 4,
    "start_time": "2023-01-16T21:41:37.318Z"
   },
   {
    "duration": 5,
    "start_time": "2023-01-16T21:41:37.838Z"
   },
   {
    "duration": 19,
    "start_time": "2023-01-16T21:46:23.024Z"
   },
   {
    "duration": 3,
    "start_time": "2023-01-16T21:46:41.041Z"
   },
   {
    "duration": 4,
    "start_time": "2023-01-16T21:46:42.249Z"
   },
   {
    "duration": 13,
    "start_time": "2023-01-16T21:46:53.377Z"
   },
   {
    "duration": 17,
    "start_time": "2023-01-16T21:48:05.284Z"
   },
   {
    "duration": 12,
    "start_time": "2023-01-16T21:48:13.629Z"
   },
   {
    "duration": 13,
    "start_time": "2023-01-16T21:48:30.141Z"
   },
   {
    "duration": 10,
    "start_time": "2023-01-16T21:49:38.265Z"
   },
   {
    "duration": 12,
    "start_time": "2023-01-16T21:49:48.354Z"
   },
   {
    "duration": 4,
    "start_time": "2023-01-16T21:51:03.708Z"
   },
   {
    "duration": 12,
    "start_time": "2023-01-16T21:51:20.084Z"
   },
   {
    "duration": 1708,
    "start_time": "2023-01-16T21:51:26.901Z"
   },
   {
    "duration": 5,
    "start_time": "2023-01-16T21:51:28.611Z"
   },
   {
    "duration": 31,
    "start_time": "2023-01-16T21:51:28.617Z"
   },
   {
    "duration": 89,
    "start_time": "2023-01-16T21:51:28.650Z"
   },
   {
    "duration": 28,
    "start_time": "2023-01-16T21:51:28.741Z"
   },
   {
    "duration": 21,
    "start_time": "2023-01-16T21:51:28.771Z"
   },
   {
    "duration": 5,
    "start_time": "2023-01-16T21:51:28.793Z"
   },
   {
    "duration": 5,
    "start_time": "2023-01-16T21:51:28.800Z"
   },
   {
    "duration": 9,
    "start_time": "2023-01-16T21:51:28.807Z"
   },
   {
    "duration": 6,
    "start_time": "2023-01-16T21:51:28.818Z"
   },
   {
    "duration": 7,
    "start_time": "2023-01-16T21:51:28.826Z"
   },
   {
    "duration": 5,
    "start_time": "2023-01-16T21:51:28.835Z"
   },
   {
    "duration": 284,
    "start_time": "2023-01-16T21:51:28.842Z"
   },
   {
    "duration": 4,
    "start_time": "2023-01-16T21:51:29.128Z"
   },
   {
    "duration": 247,
    "start_time": "2023-01-16T21:51:29.134Z"
   },
   {
    "duration": 5,
    "start_time": "2023-01-16T21:51:29.493Z"
   },
   {
    "duration": 407,
    "start_time": "2023-01-16T21:51:29.692Z"
   },
   {
    "duration": 5,
    "start_time": "2023-01-16T21:51:30.221Z"
   },
   {
    "duration": 222,
    "start_time": "2023-01-16T21:51:30.389Z"
   },
   {
    "duration": 7,
    "start_time": "2023-01-16T21:51:30.740Z"
   },
   {
    "duration": 3,
    "start_time": "2023-01-16T21:51:30.989Z"
   },
   {
    "duration": 3,
    "start_time": "2023-01-16T21:51:31.556Z"
   },
   {
    "duration": 5,
    "start_time": "2023-01-16T21:51:32.845Z"
   },
   {
    "duration": 907,
    "start_time": "2023-01-16T21:51:34.029Z"
   },
   {
    "duration": 8,
    "start_time": "2023-01-16T21:51:44.102Z"
   },
   {
    "duration": 4,
    "start_time": "2023-01-16T21:51:52.638Z"
   },
   {
    "duration": 4,
    "start_time": "2023-01-16T21:52:37.760Z"
   },
   {
    "duration": 4,
    "start_time": "2023-01-16T21:52:37.960Z"
   },
   {
    "duration": 13,
    "start_time": "2023-01-16T21:52:51.760Z"
   },
   {
    "duration": 8,
    "start_time": "2023-01-16T21:53:08.091Z"
   },
   {
    "duration": 13,
    "start_time": "2023-01-16T21:53:52.002Z"
   },
   {
    "duration": 17,
    "start_time": "2023-01-16T21:55:00.429Z"
   },
   {
    "duration": 4,
    "start_time": "2023-01-16T21:55:13.462Z"
   },
   {
    "duration": 6,
    "start_time": "2023-01-16T21:55:13.782Z"
   },
   {
    "duration": 27,
    "start_time": "2023-01-16T21:55:14.182Z"
   },
   {
    "duration": 14,
    "start_time": "2023-01-16T21:55:25.242Z"
   },
   {
    "duration": 4,
    "start_time": "2023-01-16T21:55:29.469Z"
   },
   {
    "duration": 4,
    "start_time": "2023-01-16T21:55:29.630Z"
   },
   {
    "duration": 12,
    "start_time": "2023-01-16T21:55:29.904Z"
   },
   {
    "duration": 18,
    "start_time": "2023-01-16T21:55:33.376Z"
   },
   {
    "duration": 11,
    "start_time": "2023-01-16T21:56:03.687Z"
   },
   {
    "duration": 4,
    "start_time": "2023-01-16T21:56:07.088Z"
   },
   {
    "duration": 4,
    "start_time": "2023-01-16T21:56:07.248Z"
   },
   {
    "duration": 11,
    "start_time": "2023-01-16T21:56:07.417Z"
   },
   {
    "duration": 16,
    "start_time": "2023-01-16T21:56:08.305Z"
   },
   {
    "duration": 4,
    "start_time": "2023-01-16T21:56:16.256Z"
   },
   {
    "duration": 11,
    "start_time": "2023-01-16T21:56:16.816Z"
   },
   {
    "duration": 26,
    "start_time": "2023-01-16T21:56:20.314Z"
   },
   {
    "duration": 28,
    "start_time": "2023-01-16T21:56:38.209Z"
   },
   {
    "duration": 22,
    "start_time": "2023-01-16T21:57:01.531Z"
   },
   {
    "duration": 5,
    "start_time": "2023-01-16T21:57:07.802Z"
   },
   {
    "duration": 12,
    "start_time": "2023-01-16T21:57:07.976Z"
   },
   {
    "duration": 20,
    "start_time": "2023-01-16T21:57:08.329Z"
   },
   {
    "duration": 11,
    "start_time": "2023-01-16T21:58:07.413Z"
   },
   {
    "duration": 4,
    "start_time": "2023-01-16T21:58:10.108Z"
   },
   {
    "duration": 12,
    "start_time": "2023-01-16T21:58:10.301Z"
   },
   {
    "duration": 18,
    "start_time": "2023-01-16T21:58:10.476Z"
   },
   {
    "duration": 11,
    "start_time": "2023-01-16T21:58:16.636Z"
   },
   {
    "duration": 9,
    "start_time": "2023-01-16T21:59:22.151Z"
   },
   {
    "duration": 24,
    "start_time": "2023-01-16T21:59:33.159Z"
   },
   {
    "duration": 10,
    "start_time": "2023-01-16T21:59:43.631Z"
   },
   {
    "duration": 5,
    "start_time": "2023-01-16T21:59:47.624Z"
   },
   {
    "duration": 12,
    "start_time": "2023-01-16T21:59:47.799Z"
   },
   {
    "duration": 22,
    "start_time": "2023-01-16T21:59:47.945Z"
   },
   {
    "duration": 17,
    "start_time": "2023-01-16T21:59:54.504Z"
   },
   {
    "duration": 6,
    "start_time": "2023-01-16T22:00:02.096Z"
   },
   {
    "duration": 11,
    "start_time": "2023-01-16T22:00:02.264Z"
   },
   {
    "duration": 21,
    "start_time": "2023-01-16T22:00:02.417Z"
   },
   {
    "duration": 12,
    "start_time": "2023-01-16T22:03:00.119Z"
   },
   {
    "duration": 7,
    "start_time": "2023-01-16T22:03:04.414Z"
   },
   {
    "duration": 18,
    "start_time": "2023-01-16T22:03:04.601Z"
   },
   {
    "duration": 12,
    "start_time": "2023-01-16T22:03:07.423Z"
   },
   {
    "duration": 15,
    "start_time": "2023-01-16T22:03:20.304Z"
   },
   {
    "duration": 4,
    "start_time": "2023-01-16T22:03:28.768Z"
   },
   {
    "duration": 26,
    "start_time": "2023-01-16T22:03:33.104Z"
   },
   {
    "duration": 19,
    "start_time": "2023-01-16T22:03:44.783Z"
   },
   {
    "duration": 18,
    "start_time": "2023-01-16T22:05:03.953Z"
   },
   {
    "duration": 5,
    "start_time": "2023-01-16T22:06:02.613Z"
   },
   {
    "duration": 11,
    "start_time": "2023-01-16T22:06:02.788Z"
   },
   {
    "duration": 17,
    "start_time": "2023-01-16T22:06:03.351Z"
   },
   {
    "duration": 27,
    "start_time": "2023-01-16T22:06:08.685Z"
   },
   {
    "duration": 10,
    "start_time": "2023-01-16T22:06:24.245Z"
   },
   {
    "duration": 9,
    "start_time": "2023-01-16T22:06:29.670Z"
   },
   {
    "duration": 9,
    "start_time": "2023-01-16T22:06:31.910Z"
   },
   {
    "duration": 10,
    "start_time": "2023-01-16T22:06:38.917Z"
   },
   {
    "duration": 9,
    "start_time": "2023-01-16T22:06:41.974Z"
   },
   {
    "duration": 9,
    "start_time": "2023-01-16T22:06:42.486Z"
   },
   {
    "duration": 12,
    "start_time": "2023-01-16T22:06:47.776Z"
   },
   {
    "duration": 19,
    "start_time": "2023-01-16T22:07:05.492Z"
   },
   {
    "duration": 11,
    "start_time": "2023-01-16T22:07:17.983Z"
   },
   {
    "duration": 11,
    "start_time": "2023-01-16T22:07:34.033Z"
   },
   {
    "duration": 26,
    "start_time": "2023-01-16T22:07:37.881Z"
   },
   {
    "duration": 14,
    "start_time": "2023-01-16T22:08:41.948Z"
   },
   {
    "duration": 24,
    "start_time": "2023-01-16T22:08:49.563Z"
   },
   {
    "duration": 1667,
    "start_time": "2023-01-16T22:09:31.741Z"
   },
   {
    "duration": 4,
    "start_time": "2023-01-16T22:09:33.410Z"
   },
   {
    "duration": 52,
    "start_time": "2023-01-16T22:09:33.416Z"
   },
   {
    "duration": 88,
    "start_time": "2023-01-16T22:09:33.470Z"
   },
   {
    "duration": 33,
    "start_time": "2023-01-16T22:09:33.560Z"
   },
   {
    "duration": 13,
    "start_time": "2023-01-16T22:09:33.595Z"
   },
   {
    "duration": 11,
    "start_time": "2023-01-16T22:09:33.610Z"
   },
   {
    "duration": 7,
    "start_time": "2023-01-16T22:09:33.622Z"
   },
   {
    "duration": 9,
    "start_time": "2023-01-16T22:09:33.630Z"
   },
   {
    "duration": 5,
    "start_time": "2023-01-16T22:09:33.641Z"
   },
   {
    "duration": 7,
    "start_time": "2023-01-16T22:09:33.647Z"
   },
   {
    "duration": 27,
    "start_time": "2023-01-16T22:09:33.656Z"
   },
   {
    "duration": 263,
    "start_time": "2023-01-16T22:09:33.685Z"
   },
   {
    "duration": 5,
    "start_time": "2023-01-16T22:09:33.950Z"
   },
   {
    "duration": 244,
    "start_time": "2023-01-16T22:09:33.956Z"
   },
   {
    "duration": 5,
    "start_time": "2023-01-16T22:09:34.202Z"
   },
   {
    "duration": 427,
    "start_time": "2023-01-16T22:09:34.208Z"
   },
   {
    "duration": 5,
    "start_time": "2023-01-16T22:09:34.637Z"
   },
   {
    "duration": 238,
    "start_time": "2023-01-16T22:09:34.643Z"
   },
   {
    "duration": 7,
    "start_time": "2023-01-16T22:09:34.882Z"
   },
   {
    "duration": 7,
    "start_time": "2023-01-16T22:09:34.891Z"
   },
   {
    "duration": 5,
    "start_time": "2023-01-16T22:09:34.900Z"
   },
   {
    "duration": 6,
    "start_time": "2023-01-16T22:09:34.907Z"
   },
   {
    "duration": 12,
    "start_time": "2023-01-16T22:09:34.914Z"
   },
   {
    "duration": 16,
    "start_time": "2023-01-16T22:09:34.927Z"
   },
   {
    "duration": 146,
    "start_time": "2023-01-16T22:09:34.944Z"
   },
   {
    "duration": 0,
    "start_time": "2023-01-16T22:09:35.092Z"
   },
   {
    "duration": 10,
    "start_time": "2023-01-16T22:09:35.765Z"
   },
   {
    "duration": 12,
    "start_time": "2023-01-16T22:09:56.291Z"
   },
   {
    "duration": 25,
    "start_time": "2023-01-16T22:10:28.734Z"
   },
   {
    "duration": 11,
    "start_time": "2023-01-16T22:10:49.823Z"
   },
   {
    "duration": 12,
    "start_time": "2023-01-16T22:11:03.167Z"
   },
   {
    "duration": 28,
    "start_time": "2023-01-16T22:11:14.216Z"
   },
   {
    "duration": 1652,
    "start_time": "2023-01-16T22:11:27.842Z"
   },
   {
    "duration": 4,
    "start_time": "2023-01-16T22:11:29.496Z"
   },
   {
    "duration": 42,
    "start_time": "2023-01-16T22:11:29.502Z"
   },
   {
    "duration": 106,
    "start_time": "2023-01-16T22:11:29.547Z"
   },
   {
    "duration": 43,
    "start_time": "2023-01-16T22:11:29.655Z"
   },
   {
    "duration": 15,
    "start_time": "2023-01-16T22:11:29.699Z"
   },
   {
    "duration": 19,
    "start_time": "2023-01-16T22:11:29.715Z"
   },
   {
    "duration": 9,
    "start_time": "2023-01-16T22:11:29.735Z"
   },
   {
    "duration": 18,
    "start_time": "2023-01-16T22:11:29.746Z"
   },
   {
    "duration": 17,
    "start_time": "2023-01-16T22:11:29.767Z"
   },
   {
    "duration": 21,
    "start_time": "2023-01-16T22:11:29.786Z"
   },
   {
    "duration": 20,
    "start_time": "2023-01-16T22:11:29.809Z"
   },
   {
    "duration": 278,
    "start_time": "2023-01-16T22:11:29.831Z"
   },
   {
    "duration": 5,
    "start_time": "2023-01-16T22:11:30.111Z"
   },
   {
    "duration": 253,
    "start_time": "2023-01-16T22:11:30.118Z"
   },
   {
    "duration": 11,
    "start_time": "2023-01-16T22:11:30.373Z"
   },
   {
    "duration": 448,
    "start_time": "2023-01-16T22:11:30.386Z"
   },
   {
    "duration": 5,
    "start_time": "2023-01-16T22:11:30.836Z"
   },
   {
    "duration": 263,
    "start_time": "2023-01-16T22:11:30.843Z"
   },
   {
    "duration": 7,
    "start_time": "2023-01-16T22:11:31.107Z"
   },
   {
    "duration": 16,
    "start_time": "2023-01-16T22:11:31.116Z"
   },
   {
    "duration": 19,
    "start_time": "2023-01-16T22:11:31.134Z"
   },
   {
    "duration": 19,
    "start_time": "2023-01-16T22:11:31.155Z"
   },
   {
    "duration": 35,
    "start_time": "2023-01-16T22:11:31.175Z"
   },
   {
    "duration": 30,
    "start_time": "2023-01-16T22:11:31.212Z"
   },
   {
    "duration": 26,
    "start_time": "2023-01-16T22:11:31.244Z"
   },
   {
    "duration": 159,
    "start_time": "2023-01-16T22:11:31.272Z"
   },
   {
    "duration": 36,
    "start_time": "2023-01-16T22:11:41.609Z"
   },
   {
    "duration": 6,
    "start_time": "2023-01-16T22:12:05.225Z"
   },
   {
    "duration": 4,
    "start_time": "2023-01-16T22:12:13.906Z"
   },
   {
    "duration": 5,
    "start_time": "2023-01-16T22:12:14.412Z"
   },
   {
    "duration": 12,
    "start_time": "2023-01-16T22:12:14.441Z"
   },
   {
    "duration": 16,
    "start_time": "2023-01-16T22:12:14.486Z"
   },
   {
    "duration": 25,
    "start_time": "2023-01-16T22:12:21.899Z"
   },
   {
    "duration": 27,
    "start_time": "2023-01-16T22:12:27.923Z"
   },
   {
    "duration": 5,
    "start_time": "2023-01-16T22:15:52.202Z"
   },
   {
    "duration": 12,
    "start_time": "2023-01-16T22:15:52.690Z"
   },
   {
    "duration": 15,
    "start_time": "2023-01-16T22:15:53.234Z"
   },
   {
    "duration": 24,
    "start_time": "2023-01-16T22:15:55.333Z"
   },
   {
    "duration": 29,
    "start_time": "2023-01-16T22:15:56.170Z"
   },
   {
    "duration": 4,
    "start_time": "2023-01-16T22:16:01.896Z"
   },
   {
    "duration": 11,
    "start_time": "2023-01-16T22:16:02.243Z"
   },
   {
    "duration": 15,
    "start_time": "2023-01-16T22:16:02.531Z"
   },
   {
    "duration": 21,
    "start_time": "2023-01-16T22:16:04.610Z"
   },
   {
    "duration": 29,
    "start_time": "2023-01-16T22:16:05.196Z"
   },
   {
    "duration": 53,
    "start_time": "2023-01-16T22:16:26.484Z"
   },
   {
    "duration": 1912,
    "start_time": "2023-01-17T23:06:03.591Z"
   },
   {
    "duration": 5,
    "start_time": "2023-01-17T23:06:05.505Z"
   },
   {
    "duration": 92,
    "start_time": "2023-01-17T23:06:05.511Z"
   },
   {
    "duration": 84,
    "start_time": "2023-01-17T23:06:05.605Z"
   },
   {
    "duration": 29,
    "start_time": "2023-01-17T23:06:05.692Z"
   },
   {
    "duration": 29,
    "start_time": "2023-01-17T23:06:05.723Z"
   },
   {
    "duration": 4,
    "start_time": "2023-01-17T23:06:05.753Z"
   },
   {
    "duration": 11,
    "start_time": "2023-01-17T23:06:05.759Z"
   },
   {
    "duration": 6,
    "start_time": "2023-01-17T23:06:05.772Z"
   },
   {
    "duration": 5,
    "start_time": "2023-01-17T23:06:05.780Z"
   },
   {
    "duration": 5,
    "start_time": "2023-01-17T23:06:05.787Z"
   },
   {
    "duration": 6,
    "start_time": "2023-01-17T23:06:05.794Z"
   },
   {
    "duration": 280,
    "start_time": "2023-01-17T23:06:05.801Z"
   },
   {
    "duration": 5,
    "start_time": "2023-01-17T23:06:06.083Z"
   },
   {
    "duration": 253,
    "start_time": "2023-01-17T23:06:06.090Z"
   },
   {
    "duration": 6,
    "start_time": "2023-01-17T23:06:06.345Z"
   },
   {
    "duration": 442,
    "start_time": "2023-01-17T23:06:06.353Z"
   },
   {
    "duration": 5,
    "start_time": "2023-01-17T23:06:06.796Z"
   },
   {
    "duration": 237,
    "start_time": "2023-01-17T23:06:06.804Z"
   },
   {
    "duration": 6,
    "start_time": "2023-01-17T23:06:07.049Z"
   },
   {
    "duration": 5,
    "start_time": "2023-01-17T23:06:07.057Z"
   },
   {
    "duration": 4,
    "start_time": "2023-01-17T23:06:08.293Z"
   },
   {
    "duration": 5,
    "start_time": "2023-01-17T23:06:08.735Z"
   },
   {
    "duration": 12,
    "start_time": "2023-01-17T23:06:11.095Z"
   },
   {
    "duration": 14,
    "start_time": "2023-01-17T23:06:18.798Z"
   },
   {
    "duration": 28,
    "start_time": "2023-01-17T23:06:22.910Z"
   },
   {
    "duration": 27,
    "start_time": "2023-01-17T23:06:24.503Z"
   },
   {
    "duration": 5,
    "start_time": "2023-01-17T23:07:29.416Z"
   },
   {
    "duration": 206,
    "start_time": "2023-01-17T23:07:30.314Z"
   },
   {
    "duration": 3,
    "start_time": "2023-01-17T23:07:39.392Z"
   },
   {
    "duration": 4,
    "start_time": "2023-01-17T23:07:39.737Z"
   },
   {
    "duration": 12,
    "start_time": "2023-01-17T23:07:40.361Z"
   },
   {
    "duration": 14,
    "start_time": "2023-01-17T23:07:41.713Z"
   },
   {
    "duration": 28,
    "start_time": "2023-01-17T23:07:52.418Z"
   },
   {
    "duration": 28,
    "start_time": "2023-01-17T23:08:02.282Z"
   },
   {
    "duration": 4,
    "start_time": "2023-01-17T23:08:05.170Z"
   },
   {
    "duration": 24,
    "start_time": "2023-01-17T23:08:11.020Z"
   },
   {
    "duration": 2693,
    "start_time": "2023-01-17T23:08:24.667Z"
   },
   {
    "duration": 3249,
    "start_time": "2023-01-17T23:08:31.915Z"
   },
   {
    "duration": 3,
    "start_time": "2023-01-17T23:08:39.451Z"
   },
   {
    "duration": 1274,
    "start_time": "2023-01-17T23:08:39.619Z"
   },
   {
    "duration": 7318,
    "start_time": "2023-01-17T23:08:43.196Z"
   },
   {
    "duration": 1773,
    "start_time": "2023-01-17T23:09:34.323Z"
   },
   {
    "duration": 4,
    "start_time": "2023-01-17T23:09:36.098Z"
   },
   {
    "duration": 37,
    "start_time": "2023-01-17T23:09:36.104Z"
   },
   {
    "duration": 84,
    "start_time": "2023-01-17T23:09:36.143Z"
   },
   {
    "duration": 37,
    "start_time": "2023-01-17T23:09:36.229Z"
   },
   {
    "duration": 16,
    "start_time": "2023-01-17T23:09:36.268Z"
   },
   {
    "duration": 4,
    "start_time": "2023-01-17T23:09:36.286Z"
   },
   {
    "duration": 10,
    "start_time": "2023-01-17T23:09:36.292Z"
   },
   {
    "duration": 16,
    "start_time": "2023-01-17T23:09:36.304Z"
   },
   {
    "duration": 7,
    "start_time": "2023-01-17T23:09:36.323Z"
   },
   {
    "duration": 11,
    "start_time": "2023-01-17T23:09:36.349Z"
   },
   {
    "duration": 7,
    "start_time": "2023-01-17T23:09:36.362Z"
   },
   {
    "duration": 278,
    "start_time": "2023-01-17T23:09:36.371Z"
   },
   {
    "duration": 5,
    "start_time": "2023-01-17T23:09:36.650Z"
   },
   {
    "duration": 237,
    "start_time": "2023-01-17T23:09:36.657Z"
   },
   {
    "duration": 6,
    "start_time": "2023-01-17T23:09:36.895Z"
   },
   {
    "duration": 401,
    "start_time": "2023-01-17T23:09:36.902Z"
   },
   {
    "duration": 5,
    "start_time": "2023-01-17T23:09:37.305Z"
   },
   {
    "duration": 240,
    "start_time": "2023-01-17T23:09:37.311Z"
   },
   {
    "duration": 6,
    "start_time": "2023-01-17T23:09:37.553Z"
   },
   {
    "duration": 6,
    "start_time": "2023-01-17T23:09:37.561Z"
   },
   {
    "duration": 8,
    "start_time": "2023-01-17T23:09:37.568Z"
   },
   {
    "duration": 7,
    "start_time": "2023-01-17T23:09:37.577Z"
   },
   {
    "duration": 120,
    "start_time": "2023-01-17T23:09:37.586Z"
   },
   {
    "duration": 14,
    "start_time": "2023-01-17T23:09:37.708Z"
   },
   {
    "duration": 39,
    "start_time": "2023-01-17T23:09:37.724Z"
   },
   {
    "duration": 25,
    "start_time": "2023-01-17T23:09:37.765Z"
   },
   {
    "duration": 4,
    "start_time": "2023-01-17T23:09:37.793Z"
   },
   {
    "duration": 3358,
    "start_time": "2023-01-17T23:09:37.798Z"
   },
   {
    "duration": 4,
    "start_time": "2023-01-17T23:09:41.158Z"
   },
   {
    "duration": 1215,
    "start_time": "2023-01-17T23:09:41.164Z"
   },
   {
    "duration": 7519,
    "start_time": "2023-01-17T23:09:42.381Z"
   },
   {
    "duration": 1171,
    "start_time": "2023-01-17T23:09:49.902Z"
   },
   {
    "duration": 59,
    "start_time": "2023-01-25T22:24:10.162Z"
   },
   {
    "duration": 2750,
    "start_time": "2023-08-07T22:02:40.955Z"
   },
   {
    "duration": 4,
    "start_time": "2023-08-07T22:02:43.707Z"
   },
   {
    "duration": 115,
    "start_time": "2023-08-07T22:02:43.712Z"
   },
   {
    "duration": 134,
    "start_time": "2023-08-07T22:02:43.829Z"
   },
   {
    "duration": 60,
    "start_time": "2023-08-07T22:02:43.968Z"
   },
   {
    "duration": 15,
    "start_time": "2023-08-07T22:02:44.030Z"
   },
   {
    "duration": 4,
    "start_time": "2023-08-07T22:02:47.504Z"
   },
   {
    "duration": 5,
    "start_time": "2023-08-07T22:02:47.805Z"
   },
   {
    "duration": 10,
    "start_time": "2023-08-07T22:02:48.069Z"
   },
   {
    "duration": 6,
    "start_time": "2023-08-07T22:02:48.692Z"
   },
   {
    "duration": 6,
    "start_time": "2023-08-07T22:02:50.499Z"
   },
   {
    "duration": 7,
    "start_time": "2023-08-07T22:02:51.395Z"
   },
   {
    "duration": 2048,
    "start_time": "2023-08-07T22:02:56.600Z"
   },
   {
    "duration": 9,
    "start_time": "2023-08-07T22:02:58.651Z"
   },
   {
    "duration": 52,
    "start_time": "2023-08-07T22:02:58.661Z"
   },
   {
    "duration": 111,
    "start_time": "2023-08-07T22:02:58.715Z"
   },
   {
    "duration": 54,
    "start_time": "2023-08-07T22:02:58.829Z"
   },
   {
    "duration": 25,
    "start_time": "2023-08-07T22:02:58.887Z"
   },
   {
    "duration": 5,
    "start_time": "2023-08-07T22:02:58.915Z"
   },
   {
    "duration": 6,
    "start_time": "2023-08-07T22:02:58.923Z"
   },
   {
    "duration": 6,
    "start_time": "2023-08-07T22:02:58.931Z"
   },
   {
    "duration": 7,
    "start_time": "2023-08-07T22:02:58.940Z"
   },
   {
    "duration": 16,
    "start_time": "2023-08-07T22:02:58.963Z"
   },
   {
    "duration": 20,
    "start_time": "2023-08-07T22:02:58.980Z"
   },
   {
    "duration": 371,
    "start_time": "2023-08-07T22:02:59.002Z"
   },
   {
    "duration": 6,
    "start_time": "2023-08-07T22:02:59.376Z"
   },
   {
    "duration": 311,
    "start_time": "2023-08-07T22:02:59.384Z"
   },
   {
    "duration": 6,
    "start_time": "2023-08-07T22:02:59.697Z"
   },
   {
    "duration": 464,
    "start_time": "2023-08-07T22:02:59.706Z"
   },
   {
    "duration": 5,
    "start_time": "2023-08-07T22:03:00.171Z"
   },
   {
    "duration": 283,
    "start_time": "2023-08-07T22:03:00.178Z"
   },
   {
    "duration": 8,
    "start_time": "2023-08-07T22:03:00.463Z"
   },
   {
    "duration": 19,
    "start_time": "2023-08-07T22:03:00.476Z"
   },
   {
    "duration": 22,
    "start_time": "2023-08-07T22:03:00.500Z"
   },
   {
    "duration": 49,
    "start_time": "2023-08-07T22:03:00.524Z"
   },
   {
    "duration": 151,
    "start_time": "2023-08-07T22:03:00.583Z"
   },
   {
    "duration": 23,
    "start_time": "2023-08-07T22:03:00.736Z"
   },
   {
    "duration": 76,
    "start_time": "2023-08-07T22:03:00.761Z"
   },
   {
    "duration": 45,
    "start_time": "2023-08-07T22:03:00.838Z"
   },
   {
    "duration": 20,
    "start_time": "2023-08-07T22:03:00.885Z"
   },
   {
    "duration": 8470,
    "start_time": "2023-08-07T22:03:00.907Z"
   },
   {
    "duration": 5,
    "start_time": "2023-08-07T22:03:09.382Z"
   },
   {
    "duration": 1407,
    "start_time": "2023-08-07T22:03:09.390Z"
   },
   {
    "duration": 8471,
    "start_time": "2023-08-07T22:03:10.799Z"
   },
   {
    "duration": 1389,
    "start_time": "2023-08-07T22:03:19.273Z"
   }
  ],
  "kernelspec": {
   "display_name": "Python 3 (ipykernel)",
   "language": "python",
   "name": "python3"
  },
  "language_info": {
   "codemirror_mode": {
    "name": "ipython",
    "version": 3
   },
   "file_extension": ".py",
   "mimetype": "text/x-python",
   "name": "python",
   "nbconvert_exporter": "python",
   "pygments_lexer": "ipython3",
   "version": "3.9.5"
  },
  "toc": {
   "base_numbering": 1,
   "nav_menu": {},
   "number_sections": false,
   "sideBar": true,
   "skip_h1_title": false,
   "title_cell": "Table of Contents",
   "title_sidebar": "Contents",
   "toc_cell": false,
   "toc_position": {},
   "toc_section_display": true,
   "toc_window_display": false
  },
  "varInspector": {
   "cols": {
    "lenName": 16,
    "lenType": 16,
    "lenVar": 40
   },
   "kernels_config": {
    "python": {
     "delete_cmd_postfix": "",
     "delete_cmd_prefix": "del ",
     "library": "var_list.py",
     "varRefreshCmd": "print(var_dic_list())"
    },
    "r": {
     "delete_cmd_postfix": ") ",
     "delete_cmd_prefix": "rm(",
     "library": "var_list.r",
     "varRefreshCmd": "cat(var_dic_list()) "
    }
   },
   "types_to_exclude": [
    "module",
    "function",
    "builtin_function_or_method",
    "instance",
    "_Feature"
   ],
   "window_display": false
  }
 },
 "nbformat": 4,
 "nbformat_minor": 5
}
