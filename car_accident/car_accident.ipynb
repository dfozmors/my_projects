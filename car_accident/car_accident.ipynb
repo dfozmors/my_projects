{
 "cells": [
  {
   "cell_type": "markdown",
   "id": "77cc222e",
   "metadata": {
    "ExecuteTime": {
     "end_time": "2022-05-05T04:58:05.692448Z",
     "start_time": "2022-05-05T04:58:05.688565Z"
    }
   },
   "source": [
    "## Подключение к базе. Загрузка таблиц sql"
   ]
  },
  {
   "cell_type": "code",
   "execution_count": 2,
   "id": "67304bc8",
   "metadata": {},
   "outputs": [
    {
     "name": "stdout",
     "output_type": "stream",
     "text": [
      "Collecting shap\n",
      "  Downloading shap-0.41.0-cp39-cp39-manylinux_2_12_x86_64.manylinux2010_x86_64.whl (572 kB)\n",
      "\u001b[K     |████████████████████████████████| 572 kB 2.0 MB/s eta 0:00:01\n",
      "\u001b[?25hRequirement already satisfied: scikit-learn in /opt/conda/lib/python3.9/site-packages (from shap) (0.24.1)\n",
      "Collecting slicer==0.0.7\n",
      "  Downloading slicer-0.0.7-py3-none-any.whl (14 kB)\n",
      "Requirement already satisfied: packaging>20.9 in /opt/conda/lib/python3.9/site-packages (from shap) (21.3)\n",
      "Requirement already satisfied: numpy in /opt/conda/lib/python3.9/site-packages (from shap) (1.21.1)\n",
      "Requirement already satisfied: tqdm>4.25.0 in /opt/conda/lib/python3.9/site-packages (from shap) (4.61.2)\n",
      "Requirement already satisfied: scipy in /opt/conda/lib/python3.9/site-packages (from shap) (1.9.1)\n",
      "Collecting cloudpickle\n",
      "  Downloading cloudpickle-2.2.1-py3-none-any.whl (25 kB)\n",
      "Requirement already satisfied: numba in /opt/conda/lib/python3.9/site-packages (from shap) (0.56.0)\n",
      "Requirement already satisfied: pandas in /opt/conda/lib/python3.9/site-packages (from shap) (1.2.4)\n",
      "Requirement already satisfied: pyparsing!=3.0.5,>=2.0.2 in /opt/conda/lib/python3.9/site-packages (from packaging>20.9->shap) (2.4.7)\n",
      "Requirement already satisfied: llvmlite<0.40,>=0.39.0dev0 in /opt/conda/lib/python3.9/site-packages (from numba->shap) (0.39.0)\n",
      "Requirement already satisfied: setuptools in /opt/conda/lib/python3.9/site-packages (from numba->shap) (49.6.0.post20210108)\n",
      "Requirement already satisfied: python-dateutil>=2.7.3 in /opt/conda/lib/python3.9/site-packages (from pandas->shap) (2.8.1)\n",
      "Requirement already satisfied: pytz>=2017.3 in /opt/conda/lib/python3.9/site-packages (from pandas->shap) (2021.1)\n",
      "Requirement already satisfied: six>=1.5 in /opt/conda/lib/python3.9/site-packages (from python-dateutil>=2.7.3->pandas->shap) (1.16.0)\n",
      "Requirement already satisfied: joblib>=0.11 in /opt/conda/lib/python3.9/site-packages (from scikit-learn->shap) (1.1.0)\n",
      "Requirement already satisfied: threadpoolctl>=2.0.0 in /opt/conda/lib/python3.9/site-packages (from scikit-learn->shap) (3.1.0)\n",
      "Installing collected packages: slicer, cloudpickle, shap\n",
      "Successfully installed cloudpickle-2.2.1 shap-0.41.0 slicer-0.0.7\n",
      "Note: you may need to restart the kernel to use updated packages.\n"
     ]
    }
   ],
   "source": [
    "pip install shap"
   ]
  },
  {
   "cell_type": "code",
   "execution_count": 3,
   "id": "0adf4a36",
   "metadata": {},
   "outputs": [],
   "source": [
    "import pandas as pd\n",
    "import numpy as np\n",
    "import matplotlib.pyplot as plt\n",
    "from sqlalchemy import create_engine \n",
    "import seaborn as sns\n",
    "import itertools\n",
    "\n",
    "from sklearn.tree import DecisionTreeClassifier\n",
    "from sklearn.ensemble import RandomForestClassifier\n",
    "from sklearn.linear_model import LogisticRegression\n",
    "from sklearn.model_selection import train_test_split\n",
    "from sklearn.preprocessing import StandardScaler\n",
    "from sklearn.preprocessing import OrdinalEncoder\n",
    "from sklearn.metrics import f1_score\n",
    "from sklearn.model_selection import cross_val_score, GridSearchCV\n",
    "from sklearn.metrics import confusion_matrix\n",
    "from sklearn. metrics import precision_recall_curve\n",
    "from sklearn.feature_extraction.text import TfidfVectorizer\n",
    "from sklearn.preprocessing import OneHotEncoder\n",
    "\n",
    "import catboost\n",
    "from catboost import cv\n",
    "from catboost import CatBoostClassifier\n",
    "from xgboost import XGBRegressor\n",
    "\n",
    "import shap\n",
    "\n",
    "import warnings\n",
    "from pandas.core.common import SettingWithCopyWarning\n",
    "warnings.simplefilter(action=\"ignore\")"
   ]
  },
  {
   "cell_type": "code",
   "execution_count": 4,
   "id": "1fa5d702",
   "metadata": {},
   "outputs": [],
   "source": [
    "def integering(df,column):\n",
    "    df[column] = df[column].astype(int)"
   ]
  },
  {
   "cell_type": "code",
   "execution_count": 5,
   "id": "7ddd9d69",
   "metadata": {},
   "outputs": [],
   "source": [
    "db_config = {\n",
    "'user': 'praktikum_student', # имя пользователя,\n",
    "'pwd': 'Sdf4$2;d-d30pp', # пароль,\n",
    "'host': 'rc1b-wcoijxj3yxfsf3fs.mdb.yandexcloud.net',\n",
    "'port': 6432, # порт подключения,\n",
    "'db': 'data-science-vehicle-db' # название базы данных,\n",
    "} \n",
    "\n",
    "connection_string = 'postgresql://{}:{}@{}:{}/{}'.format(\n",
    "    db_config['user'],\n",
    "    db_config['pwd'],\n",
    "    db_config['host'],\n",
    "    db_config['port'],\n",
    "    db_config['db'],\n",
    ")"
   ]
  },
  {
   "cell_type": "code",
   "execution_count": 6,
   "id": "2c4661d8",
   "metadata": {},
   "outputs": [],
   "source": [
    "engine = create_engine(connection_string) "
   ]
  },
  {
   "cell_type": "markdown",
   "id": "14064e73",
   "metadata": {},
   "source": [
    "## Проведение первичного исследование таблиц"
   ]
  },
  {
   "cell_type": "code",
   "execution_count": 7,
   "id": "9b3127d0",
   "metadata": {},
   "outputs": [],
   "source": [
    "from IPython.display import display"
   ]
  },
  {
   "cell_type": "code",
   "execution_count": 8,
   "id": "3960bf7c",
   "metadata": {},
   "outputs": [
    {
     "data": {
      "text/html": [
       "<div>\n",
       "<style scoped>\n",
       "    .dataframe tbody tr th:only-of-type {\n",
       "        vertical-align: middle;\n",
       "    }\n",
       "\n",
       "    .dataframe tbody tr th {\n",
       "        vertical-align: top;\n",
       "    }\n",
       "\n",
       "    .dataframe thead th {\n",
       "        text-align: right;\n",
       "    }\n",
       "</style>\n",
       "<table border=\"1\" class=\"dataframe\">\n",
       "  <thead>\n",
       "    <tr style=\"text-align: right;\">\n",
       "      <th></th>\n",
       "      <th>table_name</th>\n",
       "    </tr>\n",
       "  </thead>\n",
       "  <tbody>\n",
       "    <tr>\n",
       "      <th>0</th>\n",
       "      <td>case_ids</td>\n",
       "    </tr>\n",
       "    <tr>\n",
       "      <th>1</th>\n",
       "      <td>collisions</td>\n",
       "    </tr>\n",
       "    <tr>\n",
       "      <th>2</th>\n",
       "      <td>parties</td>\n",
       "    </tr>\n",
       "    <tr>\n",
       "      <th>3</th>\n",
       "      <td>vehicles</td>\n",
       "    </tr>\n",
       "    <tr>\n",
       "      <th>4</th>\n",
       "      <td>pg_foreign_table</td>\n",
       "    </tr>\n",
       "    <tr>\n",
       "      <th>...</th>\n",
       "      <td>...</td>\n",
       "    </tr>\n",
       "    <tr>\n",
       "      <th>171</th>\n",
       "      <td>foreign_data_wrappers</td>\n",
       "    </tr>\n",
       "    <tr>\n",
       "      <th>172</th>\n",
       "      <td>foreign_server_options</td>\n",
       "    </tr>\n",
       "    <tr>\n",
       "      <th>173</th>\n",
       "      <td>foreign_servers</td>\n",
       "    </tr>\n",
       "    <tr>\n",
       "      <th>174</th>\n",
       "      <td>foreign_table_options</td>\n",
       "    </tr>\n",
       "    <tr>\n",
       "      <th>175</th>\n",
       "      <td>foreign_tables</td>\n",
       "    </tr>\n",
       "  </tbody>\n",
       "</table>\n",
       "<p>176 rows × 1 columns</p>\n",
       "</div>"
      ],
      "text/plain": [
       "                 table_name\n",
       "0                  case_ids\n",
       "1                collisions\n",
       "2                   parties\n",
       "3                  vehicles\n",
       "4          pg_foreign_table\n",
       "..                      ...\n",
       "171   foreign_data_wrappers\n",
       "172  foreign_server_options\n",
       "173         foreign_servers\n",
       "174   foreign_table_options\n",
       "175          foreign_tables\n",
       "\n",
       "[176 rows x 1 columns]"
      ]
     },
     "metadata": {},
     "output_type": "display_data"
    }
   ],
   "source": [
    "query = '''\n",
    "SELECT table_name\n",
    "FROM information_schema.tables\n",
    "'''\n",
    "\n",
    "info_schema = pd.read_sql_query(query, con=engine)\n",
    "display(info_schema)"
   ]
  },
  {
   "cell_type": "code",
   "execution_count": 9,
   "id": "88d06df9",
   "metadata": {},
   "outputs": [
    {
     "data": {
      "text/html": [
       "<div>\n",
       "<style scoped>\n",
       "    .dataframe tbody tr th:only-of-type {\n",
       "        vertical-align: middle;\n",
       "    }\n",
       "\n",
       "    .dataframe tbody tr th {\n",
       "        vertical-align: top;\n",
       "    }\n",
       "\n",
       "    .dataframe thead th {\n",
       "        text-align: right;\n",
       "    }\n",
       "</style>\n",
       "<table border=\"1\" class=\"dataframe\">\n",
       "  <thead>\n",
       "    <tr style=\"text-align: right;\">\n",
       "      <th></th>\n",
       "      <th>case_id</th>\n",
       "      <th>county_city_location</th>\n",
       "      <th>county_location</th>\n",
       "      <th>distance</th>\n",
       "      <th>direction</th>\n",
       "      <th>intersection</th>\n",
       "      <th>weather_1</th>\n",
       "      <th>location_type</th>\n",
       "      <th>collision_damage</th>\n",
       "      <th>party_count</th>\n",
       "      <th>primary_collision_factor</th>\n",
       "      <th>pcf_violation_category</th>\n",
       "      <th>type_of_collision</th>\n",
       "      <th>motor_vehicle_involved_with</th>\n",
       "      <th>road_surface</th>\n",
       "      <th>road_condition_1</th>\n",
       "      <th>lighting</th>\n",
       "      <th>control_device</th>\n",
       "      <th>collision_date</th>\n",
       "      <th>collision_time</th>\n",
       "    </tr>\n",
       "  </thead>\n",
       "  <tbody>\n",
       "    <tr>\n",
       "      <th>0</th>\n",
       "      <td>4083072</td>\n",
       "      <td>1942</td>\n",
       "      <td>los angeles</td>\n",
       "      <td>528.0</td>\n",
       "      <td>north</td>\n",
       "      <td>0.0</td>\n",
       "      <td>cloudy</td>\n",
       "      <td>highway</td>\n",
       "      <td>small damage</td>\n",
       "      <td>2</td>\n",
       "      <td>vehicle code violation</td>\n",
       "      <td>unsafe lane change</td>\n",
       "      <td>sideswipe</td>\n",
       "      <td>other motor vehicle</td>\n",
       "      <td>wet</td>\n",
       "      <td>normal</td>\n",
       "      <td>daylight</td>\n",
       "      <td>none</td>\n",
       "      <td>2009-01-22</td>\n",
       "      <td>07:25:00</td>\n",
       "    </tr>\n",
       "    <tr>\n",
       "      <th>1</th>\n",
       "      <td>4083075</td>\n",
       "      <td>4313</td>\n",
       "      <td>santa clara</td>\n",
       "      <td>0.0</td>\n",
       "      <td>None</td>\n",
       "      <td>1.0</td>\n",
       "      <td>clear</td>\n",
       "      <td>None</td>\n",
       "      <td>small damage</td>\n",
       "      <td>1</td>\n",
       "      <td>vehicle code violation</td>\n",
       "      <td>improper passing</td>\n",
       "      <td>hit object</td>\n",
       "      <td>fixed object</td>\n",
       "      <td>dry</td>\n",
       "      <td>normal</td>\n",
       "      <td>dark with street lights</td>\n",
       "      <td>functioning</td>\n",
       "      <td>2009-01-03</td>\n",
       "      <td>02:26:00</td>\n",
       "    </tr>\n",
       "    <tr>\n",
       "      <th>2</th>\n",
       "      <td>4083073</td>\n",
       "      <td>0109</td>\n",
       "      <td>alameda</td>\n",
       "      <td>0.0</td>\n",
       "      <td>None</td>\n",
       "      <td>1.0</td>\n",
       "      <td>clear</td>\n",
       "      <td>None</td>\n",
       "      <td>scratch</td>\n",
       "      <td>2</td>\n",
       "      <td>vehicle code violation</td>\n",
       "      <td>improper turning</td>\n",
       "      <td>broadside</td>\n",
       "      <td>other motor vehicle</td>\n",
       "      <td>dry</td>\n",
       "      <td>normal</td>\n",
       "      <td>dark with street lights</td>\n",
       "      <td>functioning</td>\n",
       "      <td>2009-01-11</td>\n",
       "      <td>03:32:00</td>\n",
       "    </tr>\n",
       "    <tr>\n",
       "      <th>3</th>\n",
       "      <td>4083077</td>\n",
       "      <td>0109</td>\n",
       "      <td>alameda</td>\n",
       "      <td>0.0</td>\n",
       "      <td>None</td>\n",
       "      <td>1.0</td>\n",
       "      <td>clear</td>\n",
       "      <td>None</td>\n",
       "      <td>scratch</td>\n",
       "      <td>2</td>\n",
       "      <td>vehicle code violation</td>\n",
       "      <td>automobile right of way</td>\n",
       "      <td>broadside</td>\n",
       "      <td>other motor vehicle</td>\n",
       "      <td>dry</td>\n",
       "      <td>normal</td>\n",
       "      <td>daylight</td>\n",
       "      <td>functioning</td>\n",
       "      <td>2009-01-11</td>\n",
       "      <td>10:35:00</td>\n",
       "    </tr>\n",
       "    <tr>\n",
       "      <th>4</th>\n",
       "      <td>4083087</td>\n",
       "      <td>4313</td>\n",
       "      <td>santa clara</td>\n",
       "      <td>0.0</td>\n",
       "      <td>None</td>\n",
       "      <td>1.0</td>\n",
       "      <td>clear</td>\n",
       "      <td>None</td>\n",
       "      <td>scratch</td>\n",
       "      <td>2</td>\n",
       "      <td>vehicle code violation</td>\n",
       "      <td>speeding</td>\n",
       "      <td>rear end</td>\n",
       "      <td>other motor vehicle</td>\n",
       "      <td>dry</td>\n",
       "      <td>None</td>\n",
       "      <td>dark with street lights</td>\n",
       "      <td>functioning</td>\n",
       "      <td>2009-01-02</td>\n",
       "      <td>22:43:00</td>\n",
       "    </tr>\n",
       "  </tbody>\n",
       "</table>\n",
       "</div>"
      ],
      "text/plain": [
       "   case_id county_city_location county_location  distance direction  \\\n",
       "0  4083072                 1942     los angeles     528.0     north   \n",
       "1  4083075                 4313     santa clara       0.0      None   \n",
       "2  4083073                 0109         alameda       0.0      None   \n",
       "3  4083077                 0109         alameda       0.0      None   \n",
       "4  4083087                 4313     santa clara       0.0      None   \n",
       "\n",
       "   intersection weather_1 location_type collision_damage  party_count  \\\n",
       "0           0.0    cloudy       highway     small damage            2   \n",
       "1           1.0     clear          None     small damage            1   \n",
       "2           1.0     clear          None          scratch            2   \n",
       "3           1.0     clear          None          scratch            2   \n",
       "4           1.0     clear          None          scratch            2   \n",
       "\n",
       "  primary_collision_factor   pcf_violation_category type_of_collision  \\\n",
       "0   vehicle code violation       unsafe lane change         sideswipe   \n",
       "1   vehicle code violation         improper passing        hit object   \n",
       "2   vehicle code violation         improper turning         broadside   \n",
       "3   vehicle code violation  automobile right of way         broadside   \n",
       "4   vehicle code violation                 speeding          rear end   \n",
       "\n",
       "  motor_vehicle_involved_with road_surface road_condition_1  \\\n",
       "0         other motor vehicle          wet           normal   \n",
       "1                fixed object          dry           normal   \n",
       "2         other motor vehicle          dry           normal   \n",
       "3         other motor vehicle          dry           normal   \n",
       "4         other motor vehicle          dry             None   \n",
       "\n",
       "                  lighting control_device collision_date collision_time  \n",
       "0                 daylight           none     2009-01-22       07:25:00  \n",
       "1  dark with street lights    functioning     2009-01-03       02:26:00  \n",
       "2  dark with street lights    functioning     2009-01-11       03:32:00  \n",
       "3                 daylight    functioning     2009-01-11       10:35:00  \n",
       "4  dark with street lights    functioning     2009-01-02       22:43:00  "
      ]
     },
     "metadata": {},
     "output_type": "display_data"
    }
   ],
   "source": [
    "query = '''\n",
    "SELECT *\n",
    "FROM collisions\n",
    "'''\n",
    "collision = pd.read_sql_query(query, con=engine)\n",
    "display(collision.head())\n",
    "\n",
    "del collision"
   ]
  },
  {
   "cell_type": "code",
   "execution_count": 10,
   "id": "8e47a5ea",
   "metadata": {},
   "outputs": [
    {
     "data": {
      "text/html": [
       "<div>\n",
       "<style scoped>\n",
       "    .dataframe tbody tr th:only-of-type {\n",
       "        vertical-align: middle;\n",
       "    }\n",
       "\n",
       "    .dataframe tbody tr th {\n",
       "        vertical-align: top;\n",
       "    }\n",
       "\n",
       "    .dataframe thead th {\n",
       "        text-align: right;\n",
       "    }\n",
       "</style>\n",
       "<table border=\"1\" class=\"dataframe\">\n",
       "  <thead>\n",
       "    <tr style=\"text-align: right;\">\n",
       "      <th></th>\n",
       "      <th>id</th>\n",
       "      <th>case_id</th>\n",
       "      <th>party_number</th>\n",
       "      <th>vehicle_type</th>\n",
       "      <th>vehicle_transmission</th>\n",
       "      <th>vehicle_age</th>\n",
       "    </tr>\n",
       "  </thead>\n",
       "  <tbody>\n",
       "    <tr>\n",
       "      <th>0</th>\n",
       "      <td>1175713</td>\n",
       "      <td>5305032</td>\n",
       "      <td>2</td>\n",
       "      <td>sedan</td>\n",
       "      <td>manual</td>\n",
       "      <td>3.0</td>\n",
       "    </tr>\n",
       "    <tr>\n",
       "      <th>1</th>\n",
       "      <td>1</td>\n",
       "      <td>3858022</td>\n",
       "      <td>1</td>\n",
       "      <td>sedan</td>\n",
       "      <td>auto</td>\n",
       "      <td>3.0</td>\n",
       "    </tr>\n",
       "    <tr>\n",
       "      <th>2</th>\n",
       "      <td>1175712</td>\n",
       "      <td>5305030</td>\n",
       "      <td>1</td>\n",
       "      <td>sedan</td>\n",
       "      <td>auto</td>\n",
       "      <td>3.0</td>\n",
       "    </tr>\n",
       "    <tr>\n",
       "      <th>3</th>\n",
       "      <td>1175717</td>\n",
       "      <td>5305033</td>\n",
       "      <td>3</td>\n",
       "      <td>sedan</td>\n",
       "      <td>auto</td>\n",
       "      <td>5.0</td>\n",
       "    </tr>\n",
       "    <tr>\n",
       "      <th>4</th>\n",
       "      <td>1175722</td>\n",
       "      <td>5305034</td>\n",
       "      <td>2</td>\n",
       "      <td>sedan</td>\n",
       "      <td>auto</td>\n",
       "      <td>5.0</td>\n",
       "    </tr>\n",
       "  </tbody>\n",
       "</table>\n",
       "</div>"
      ],
      "text/plain": [
       "        id  case_id  party_number vehicle_type vehicle_transmission  \\\n",
       "0  1175713  5305032             2        sedan               manual   \n",
       "1        1  3858022             1        sedan                 auto   \n",
       "2  1175712  5305030             1        sedan                 auto   \n",
       "3  1175717  5305033             3        sedan                 auto   \n",
       "4  1175722  5305034             2        sedan                 auto   \n",
       "\n",
       "   vehicle_age  \n",
       "0          3.0  \n",
       "1          3.0  \n",
       "2          3.0  \n",
       "3          5.0  \n",
       "4          5.0  "
      ]
     },
     "metadata": {},
     "output_type": "display_data"
    }
   ],
   "source": [
    "\n",
    "query = '''\n",
    "SELECT *\n",
    "FROM vehicles\n",
    "'''\n",
    "vehicles = pd.read_sql_query(query, con=engine)\n",
    "display(vehicles.head())\n",
    "\n",
    "del vehicles"
   ]
  },
  {
   "cell_type": "code",
   "execution_count": 11,
   "id": "b1635983",
   "metadata": {
    "scrolled": true
   },
   "outputs": [
    {
     "data": {
      "text/html": [
       "<div>\n",
       "<style scoped>\n",
       "    .dataframe tbody tr th:only-of-type {\n",
       "        vertical-align: middle;\n",
       "    }\n",
       "\n",
       "    .dataframe tbody tr th {\n",
       "        vertical-align: top;\n",
       "    }\n",
       "\n",
       "    .dataframe thead th {\n",
       "        text-align: right;\n",
       "    }\n",
       "</style>\n",
       "<table border=\"1\" class=\"dataframe\">\n",
       "  <thead>\n",
       "    <tr style=\"text-align: right;\">\n",
       "      <th></th>\n",
       "      <th>id</th>\n",
       "      <th>case_id</th>\n",
       "      <th>party_number</th>\n",
       "      <th>party_type</th>\n",
       "      <th>at_fault</th>\n",
       "      <th>insurance_premium</th>\n",
       "      <th>party_sobriety</th>\n",
       "      <th>party_drug_physical</th>\n",
       "      <th>cellphone_in_use</th>\n",
       "    </tr>\n",
       "  </thead>\n",
       "  <tbody>\n",
       "    <tr>\n",
       "      <th>0</th>\n",
       "      <td>22</td>\n",
       "      <td>3899454</td>\n",
       "      <td>1</td>\n",
       "      <td>road signs</td>\n",
       "      <td>1</td>\n",
       "      <td>29.0</td>\n",
       "      <td>had not been drinking</td>\n",
       "      <td>None</td>\n",
       "      <td>0.0</td>\n",
       "    </tr>\n",
       "    <tr>\n",
       "      <th>1</th>\n",
       "      <td>23</td>\n",
       "      <td>3899454</td>\n",
       "      <td>2</td>\n",
       "      <td>road signs</td>\n",
       "      <td>0</td>\n",
       "      <td>7.0</td>\n",
       "      <td>had not been drinking</td>\n",
       "      <td>None</td>\n",
       "      <td>0.0</td>\n",
       "    </tr>\n",
       "    <tr>\n",
       "      <th>2</th>\n",
       "      <td>29</td>\n",
       "      <td>3899462</td>\n",
       "      <td>2</td>\n",
       "      <td>car</td>\n",
       "      <td>0</td>\n",
       "      <td>21.0</td>\n",
       "      <td>had not been drinking</td>\n",
       "      <td>None</td>\n",
       "      <td>0.0</td>\n",
       "    </tr>\n",
       "    <tr>\n",
       "      <th>3</th>\n",
       "      <td>31</td>\n",
       "      <td>3899465</td>\n",
       "      <td>2</td>\n",
       "      <td>road signs</td>\n",
       "      <td>0</td>\n",
       "      <td>24.0</td>\n",
       "      <td>had not been drinking</td>\n",
       "      <td>None</td>\n",
       "      <td>0.0</td>\n",
       "    </tr>\n",
       "    <tr>\n",
       "      <th>4</th>\n",
       "      <td>41</td>\n",
       "      <td>3899478</td>\n",
       "      <td>2</td>\n",
       "      <td>road bumper</td>\n",
       "      <td>0</td>\n",
       "      <td>NaN</td>\n",
       "      <td>not applicable</td>\n",
       "      <td>not applicable</td>\n",
       "      <td>0.0</td>\n",
       "    </tr>\n",
       "  </tbody>\n",
       "</table>\n",
       "</div>"
      ],
      "text/plain": [
       "   id  case_id  party_number   party_type  at_fault  insurance_premium  \\\n",
       "0  22  3899454             1   road signs         1               29.0   \n",
       "1  23  3899454             2   road signs         0                7.0   \n",
       "2  29  3899462             2          car         0               21.0   \n",
       "3  31  3899465             2   road signs         0               24.0   \n",
       "4  41  3899478             2  road bumper         0                NaN   \n",
       "\n",
       "          party_sobriety party_drug_physical  cellphone_in_use  \n",
       "0  had not been drinking                None               0.0  \n",
       "1  had not been drinking                None               0.0  \n",
       "2  had not been drinking                None               0.0  \n",
       "3  had not been drinking                None               0.0  \n",
       "4         not applicable      not applicable               0.0  "
      ]
     },
     "metadata": {},
     "output_type": "display_data"
    }
   ],
   "source": [
    "query = '''\n",
    "SELECT *\n",
    "FROM parties\n",
    "'''\n",
    "parties = pd.read_sql_query(query, con=engine)\n",
    "display(parties.head())\n",
    "\n",
    "del parties"
   ]
  },
  {
   "cell_type": "markdown",
   "id": "d922a80a",
   "metadata": {},
   "source": [
    "Исходя из первичного осмотра базы данных, мы видим что все таблицы и столбцы в них присутствуют. Общий ключ case id присутствует."
   ]
  },
  {
   "cell_type": "markdown",
   "id": "5aa3cc16",
   "metadata": {},
   "source": [
    "##  Проведение статистического анализа факторов ДТП"
   ]
  },
  {
   "cell_type": "markdown",
   "id": "90d77f40",
   "metadata": {},
   "source": [
    "#### Выяснение в какие месяцы происходит большиинство аварий"
   ]
  },
  {
   "cell_type": "code",
   "execution_count": 12,
   "id": "5df24ce9",
   "metadata": {},
   "outputs": [],
   "source": [
    "query = '''\n",
    "SELECT COUNT(case_id), EXTRACT(MONTH FROM collision_date) as date\n",
    "FROM collisions\n",
    "GROUP BY date\n",
    "ORDER BY date\n",
    "'''\n",
    "collision_2 = pd.read_sql_query(query, con=engine)"
   ]
  },
  {
   "cell_type": "code",
   "execution_count": 13,
   "id": "0e2a114d",
   "metadata": {},
   "outputs": [
    {
     "data": {
      "text/html": [
       "<div>\n",
       "<style scoped>\n",
       "    .dataframe tbody tr th:only-of-type {\n",
       "        vertical-align: middle;\n",
       "    }\n",
       "\n",
       "    .dataframe tbody tr th {\n",
       "        vertical-align: top;\n",
       "    }\n",
       "\n",
       "    .dataframe thead th {\n",
       "        text-align: right;\n",
       "    }\n",
       "</style>\n",
       "<table border=\"1\" class=\"dataframe\">\n",
       "  <thead>\n",
       "    <tr style=\"text-align: right;\">\n",
       "      <th></th>\n",
       "      <th>count</th>\n",
       "      <th>date</th>\n",
       "    </tr>\n",
       "  </thead>\n",
       "  <tbody>\n",
       "    <tr>\n",
       "      <th>0</th>\n",
       "      <td>132044</td>\n",
       "      <td>1.0</td>\n",
       "    </tr>\n",
       "    <tr>\n",
       "      <th>1</th>\n",
       "      <td>128858</td>\n",
       "      <td>2.0</td>\n",
       "    </tr>\n",
       "    <tr>\n",
       "      <th>2</th>\n",
       "      <td>139581</td>\n",
       "      <td>3.0</td>\n",
       "    </tr>\n",
       "    <tr>\n",
       "      <th>3</th>\n",
       "      <td>130180</td>\n",
       "      <td>4.0</td>\n",
       "    </tr>\n",
       "    <tr>\n",
       "      <th>4</th>\n",
       "      <td>130316</td>\n",
       "      <td>5.0</td>\n",
       "    </tr>\n",
       "    <tr>\n",
       "      <th>5</th>\n",
       "      <td>102594</td>\n",
       "      <td>6.0</td>\n",
       "    </tr>\n",
       "    <tr>\n",
       "      <th>6</th>\n",
       "      <td>102227</td>\n",
       "      <td>7.0</td>\n",
       "    </tr>\n",
       "    <tr>\n",
       "      <th>7</th>\n",
       "      <td>104089</td>\n",
       "      <td>8.0</td>\n",
       "    </tr>\n",
       "    <tr>\n",
       "      <th>8</th>\n",
       "      <td>105159</td>\n",
       "      <td>9.0</td>\n",
       "    </tr>\n",
       "    <tr>\n",
       "      <th>9</th>\n",
       "      <td>112237</td>\n",
       "      <td>10.0</td>\n",
       "    </tr>\n",
       "    <tr>\n",
       "      <th>10</th>\n",
       "      <td>104770</td>\n",
       "      <td>11.0</td>\n",
       "    </tr>\n",
       "    <tr>\n",
       "      <th>11</th>\n",
       "      <td>107945</td>\n",
       "      <td>12.0</td>\n",
       "    </tr>\n",
       "  </tbody>\n",
       "</table>\n",
       "</div>"
      ],
      "text/plain": [
       "     count  date\n",
       "0   132044   1.0\n",
       "1   128858   2.0\n",
       "2   139581   3.0\n",
       "3   130180   4.0\n",
       "4   130316   5.0\n",
       "5   102594   6.0\n",
       "6   102227   7.0\n",
       "7   104089   8.0\n",
       "8   105159   9.0\n",
       "9   112237  10.0\n",
       "10  104770  11.0\n",
       "11  107945  12.0"
      ]
     },
     "execution_count": 13,
     "metadata": {},
     "output_type": "execute_result"
    }
   ],
   "source": [
    "collision_2"
   ]
  },
  {
   "cell_type": "code",
   "execution_count": 14,
   "id": "b8e095e8",
   "metadata": {},
   "outputs": [
    {
     "data": {
      "image/png": "[encoded data removed]",
      "text/plain": [
       "<Figure size 432x288 with 1 Axes>"
      ]
     },
     "metadata": {
      "needs_background": "light"
     },
     "output_type": "display_data"
    }
   ],
   "source": [
    "sns_plot = sns.barplot(data=collision_2, x=\"date\", y=\"count\")\n",
    "sns_plot.set_title(f'График количества происшествий взависимости от месяца')\n",
    "sns_plot.set_xlabel(\"Месяц\", fontsize=14)\n",
    "sns_plot.set_ylabel(\"Количество происшествий\", fontsize=14)\n",
    "plt.show()"
   ]
  },
  {
   "cell_type": "markdown",
   "id": "001e236f",
   "metadata": {},
   "source": [
    "Исходя из таблицы и графика мы можем увидеть, что наибольшее количество аварий происходит в первые 5 месяцев (возможно это связано с погодными условиями), достигая своего пика в марте (139581 происшествий), меньше всего аварий наблюдается летом, достигая минимума в июле (102227 происшествий)"
   ]
  },
  {
   "cell_type": "code",
   "execution_count": 15,
   "id": "a172b2e1",
   "metadata": {},
   "outputs": [],
   "source": [
    "query = '''\n",
    "SELECT COUNT(case_id), EXTRACT(YEAR FROM collision_date) as year, EXTRACT(MONTH FROM collision_date) as month\n",
    "FROM collisions\n",
    "GROUP BY year,month\n",
    "ORDER BY year,month\n",
    "'''\n",
    "collision_3 = pd.read_sql_query(query, con=engine)"
   ]
  },
  {
   "cell_type": "code",
   "execution_count": 16,
   "id": "5d28e9d5",
   "metadata": {},
   "outputs": [
    {
     "data": {
      "text/html": [
       "<div>\n",
       "<style scoped>\n",
       "    .dataframe tbody tr th:only-of-type {\n",
       "        vertical-align: middle;\n",
       "    }\n",
       "\n",
       "    .dataframe tbody tr th {\n",
       "        vertical-align: top;\n",
       "    }\n",
       "\n",
       "    .dataframe thead th {\n",
       "        text-align: right;\n",
       "    }\n",
       "</style>\n",
       "<table border=\"1\" class=\"dataframe\">\n",
       "  <thead>\n",
       "    <tr style=\"text-align: right;\">\n",
       "      <th></th>\n",
       "      <th>count</th>\n",
       "      <th>year</th>\n",
       "      <th>month</th>\n",
       "    </tr>\n",
       "  </thead>\n",
       "  <tbody>\n",
       "    <tr>\n",
       "      <th>0</th>\n",
       "      <td>35062</td>\n",
       "      <td>2009.0</td>\n",
       "      <td>1.0</td>\n",
       "    </tr>\n",
       "    <tr>\n",
       "      <th>1</th>\n",
       "      <td>34480</td>\n",
       "      <td>2009.0</td>\n",
       "      <td>2.0</td>\n",
       "    </tr>\n",
       "    <tr>\n",
       "      <th>2</th>\n",
       "      <td>36648</td>\n",
       "      <td>2009.0</td>\n",
       "      <td>3.0</td>\n",
       "    </tr>\n",
       "    <tr>\n",
       "      <th>3</th>\n",
       "      <td>35239</td>\n",
       "      <td>2009.0</td>\n",
       "      <td>4.0</td>\n",
       "    </tr>\n",
       "    <tr>\n",
       "      <th>4</th>\n",
       "      <td>36916</td>\n",
       "      <td>2009.0</td>\n",
       "      <td>5.0</td>\n",
       "    </tr>\n",
       "    <tr>\n",
       "      <th>5</th>\n",
       "      <td>34202</td>\n",
       "      <td>2009.0</td>\n",
       "      <td>6.0</td>\n",
       "    </tr>\n",
       "    <tr>\n",
       "      <th>6</th>\n",
       "      <td>35161</td>\n",
       "      <td>2009.0</td>\n",
       "      <td>7.0</td>\n",
       "    </tr>\n",
       "    <tr>\n",
       "      <th>7</th>\n",
       "      <td>34508</td>\n",
       "      <td>2009.0</td>\n",
       "      <td>8.0</td>\n",
       "    </tr>\n",
       "    <tr>\n",
       "      <th>8</th>\n",
       "      <td>35555</td>\n",
       "      <td>2009.0</td>\n",
       "      <td>9.0</td>\n",
       "    </tr>\n",
       "    <tr>\n",
       "      <th>9</th>\n",
       "      <td>37835</td>\n",
       "      <td>2009.0</td>\n",
       "      <td>10.0</td>\n",
       "    </tr>\n",
       "    <tr>\n",
       "      <th>10</th>\n",
       "      <td>34562</td>\n",
       "      <td>2009.0</td>\n",
       "      <td>11.0</td>\n",
       "    </tr>\n",
       "    <tr>\n",
       "      <th>11</th>\n",
       "      <td>36060</td>\n",
       "      <td>2009.0</td>\n",
       "      <td>12.0</td>\n",
       "    </tr>\n",
       "    <tr>\n",
       "      <th>12</th>\n",
       "      <td>32892</td>\n",
       "      <td>2010.0</td>\n",
       "      <td>1.0</td>\n",
       "    </tr>\n",
       "    <tr>\n",
       "      <th>13</th>\n",
       "      <td>31918</td>\n",
       "      <td>2010.0</td>\n",
       "      <td>2.0</td>\n",
       "    </tr>\n",
       "    <tr>\n",
       "      <th>14</th>\n",
       "      <td>35803</td>\n",
       "      <td>2010.0</td>\n",
       "      <td>3.0</td>\n",
       "    </tr>\n",
       "    <tr>\n",
       "      <th>15</th>\n",
       "      <td>34416</td>\n",
       "      <td>2010.0</td>\n",
       "      <td>4.0</td>\n",
       "    </tr>\n",
       "    <tr>\n",
       "      <th>16</th>\n",
       "      <td>34862</td>\n",
       "      <td>2010.0</td>\n",
       "      <td>5.0</td>\n",
       "    </tr>\n",
       "    <tr>\n",
       "      <th>17</th>\n",
       "      <td>33367</td>\n",
       "      <td>2010.0</td>\n",
       "      <td>6.0</td>\n",
       "    </tr>\n",
       "    <tr>\n",
       "      <th>18</th>\n",
       "      <td>33645</td>\n",
       "      <td>2010.0</td>\n",
       "      <td>7.0</td>\n",
       "    </tr>\n",
       "    <tr>\n",
       "      <th>19</th>\n",
       "      <td>34620</td>\n",
       "      <td>2010.0</td>\n",
       "      <td>8.0</td>\n",
       "    </tr>\n",
       "    <tr>\n",
       "      <th>20</th>\n",
       "      <td>34957</td>\n",
       "      <td>2010.0</td>\n",
       "      <td>9.0</td>\n",
       "    </tr>\n",
       "    <tr>\n",
       "      <th>21</th>\n",
       "      <td>37480</td>\n",
       "      <td>2010.0</td>\n",
       "      <td>10.0</td>\n",
       "    </tr>\n",
       "    <tr>\n",
       "      <th>22</th>\n",
       "      <td>35460</td>\n",
       "      <td>2010.0</td>\n",
       "      <td>11.0</td>\n",
       "    </tr>\n",
       "    <tr>\n",
       "      <th>23</th>\n",
       "      <td>37070</td>\n",
       "      <td>2010.0</td>\n",
       "      <td>12.0</td>\n",
       "    </tr>\n",
       "    <tr>\n",
       "      <th>24</th>\n",
       "      <td>31926</td>\n",
       "      <td>2011.0</td>\n",
       "      <td>1.0</td>\n",
       "    </tr>\n",
       "    <tr>\n",
       "      <th>25</th>\n",
       "      <td>31975</td>\n",
       "      <td>2011.0</td>\n",
       "      <td>2.0</td>\n",
       "    </tr>\n",
       "    <tr>\n",
       "      <th>26</th>\n",
       "      <td>34585</td>\n",
       "      <td>2011.0</td>\n",
       "      <td>3.0</td>\n",
       "    </tr>\n",
       "    <tr>\n",
       "      <th>27</th>\n",
       "      <td>31377</td>\n",
       "      <td>2011.0</td>\n",
       "      <td>4.0</td>\n",
       "    </tr>\n",
       "    <tr>\n",
       "      <th>28</th>\n",
       "      <td>33370</td>\n",
       "      <td>2011.0</td>\n",
       "      <td>5.0</td>\n",
       "    </tr>\n",
       "    <tr>\n",
       "      <th>29</th>\n",
       "      <td>31962</td>\n",
       "      <td>2011.0</td>\n",
       "      <td>6.0</td>\n",
       "    </tr>\n",
       "    <tr>\n",
       "      <th>30</th>\n",
       "      <td>33029</td>\n",
       "      <td>2011.0</td>\n",
       "      <td>7.0</td>\n",
       "    </tr>\n",
       "    <tr>\n",
       "      <th>31</th>\n",
       "      <td>34339</td>\n",
       "      <td>2011.0</td>\n",
       "      <td>8.0</td>\n",
       "    </tr>\n",
       "    <tr>\n",
       "      <th>32</th>\n",
       "      <td>34137</td>\n",
       "      <td>2011.0</td>\n",
       "      <td>9.0</td>\n",
       "    </tr>\n",
       "    <tr>\n",
       "      <th>33</th>\n",
       "      <td>36618</td>\n",
       "      <td>2011.0</td>\n",
       "      <td>10.0</td>\n",
       "    </tr>\n",
       "    <tr>\n",
       "      <th>34</th>\n",
       "      <td>34495</td>\n",
       "      <td>2011.0</td>\n",
       "      <td>11.0</td>\n",
       "    </tr>\n",
       "    <tr>\n",
       "      <th>35</th>\n",
       "      <td>34615</td>\n",
       "      <td>2011.0</td>\n",
       "      <td>12.0</td>\n",
       "    </tr>\n",
       "    <tr>\n",
       "      <th>36</th>\n",
       "      <td>32020</td>\n",
       "      <td>2012.0</td>\n",
       "      <td>1.0</td>\n",
       "    </tr>\n",
       "    <tr>\n",
       "      <th>37</th>\n",
       "      <td>30377</td>\n",
       "      <td>2012.0</td>\n",
       "      <td>2.0</td>\n",
       "    </tr>\n",
       "    <tr>\n",
       "      <th>38</th>\n",
       "      <td>32498</td>\n",
       "      <td>2012.0</td>\n",
       "      <td>3.0</td>\n",
       "    </tr>\n",
       "    <tr>\n",
       "      <th>39</th>\n",
       "      <td>29143</td>\n",
       "      <td>2012.0</td>\n",
       "      <td>4.0</td>\n",
       "    </tr>\n",
       "    <tr>\n",
       "      <th>40</th>\n",
       "      <td>25168</td>\n",
       "      <td>2012.0</td>\n",
       "      <td>5.0</td>\n",
       "    </tr>\n",
       "    <tr>\n",
       "      <th>41</th>\n",
       "      <td>3062</td>\n",
       "      <td>2012.0</td>\n",
       "      <td>6.0</td>\n",
       "    </tr>\n",
       "    <tr>\n",
       "      <th>42</th>\n",
       "      <td>390</td>\n",
       "      <td>2012.0</td>\n",
       "      <td>7.0</td>\n",
       "    </tr>\n",
       "    <tr>\n",
       "      <th>43</th>\n",
       "      <td>622</td>\n",
       "      <td>2012.0</td>\n",
       "      <td>8.0</td>\n",
       "    </tr>\n",
       "    <tr>\n",
       "      <th>44</th>\n",
       "      <td>510</td>\n",
       "      <td>2012.0</td>\n",
       "      <td>9.0</td>\n",
       "    </tr>\n",
       "    <tr>\n",
       "      <th>45</th>\n",
       "      <td>304</td>\n",
       "      <td>2012.0</td>\n",
       "      <td>10.0</td>\n",
       "    </tr>\n",
       "    <tr>\n",
       "      <th>46</th>\n",
       "      <td>253</td>\n",
       "      <td>2012.0</td>\n",
       "      <td>11.0</td>\n",
       "    </tr>\n",
       "    <tr>\n",
       "      <th>47</th>\n",
       "      <td>200</td>\n",
       "      <td>2012.0</td>\n",
       "      <td>12.0</td>\n",
       "    </tr>\n",
       "    <tr>\n",
       "      <th>48</th>\n",
       "      <td>144</td>\n",
       "      <td>2013.0</td>\n",
       "      <td>1.0</td>\n",
       "    </tr>\n",
       "    <tr>\n",
       "      <th>49</th>\n",
       "      <td>108</td>\n",
       "      <td>2013.0</td>\n",
       "      <td>2.0</td>\n",
       "    </tr>\n",
       "    <tr>\n",
       "      <th>50</th>\n",
       "      <td>46</td>\n",
       "      <td>2013.0</td>\n",
       "      <td>3.0</td>\n",
       "    </tr>\n",
       "    <tr>\n",
       "      <th>51</th>\n",
       "      <td>5</td>\n",
       "      <td>2013.0</td>\n",
       "      <td>4.0</td>\n",
       "    </tr>\n",
       "    <tr>\n",
       "      <th>52</th>\n",
       "      <td>1</td>\n",
       "      <td>2013.0</td>\n",
       "      <td>6.0</td>\n",
       "    </tr>\n",
       "    <tr>\n",
       "      <th>53</th>\n",
       "      <td>1</td>\n",
       "      <td>2013.0</td>\n",
       "      <td>7.0</td>\n",
       "    </tr>\n",
       "    <tr>\n",
       "      <th>54</th>\n",
       "      <td>1</td>\n",
       "      <td>2020.0</td>\n",
       "      <td>3.0</td>\n",
       "    </tr>\n",
       "    <tr>\n",
       "      <th>55</th>\n",
       "      <td>1</td>\n",
       "      <td>2020.0</td>\n",
       "      <td>7.0</td>\n",
       "    </tr>\n",
       "  </tbody>\n",
       "</table>\n",
       "</div>"
      ],
      "text/plain": [
       "    count    year  month\n",
       "0   35062  2009.0    1.0\n",
       "1   34480  2009.0    2.0\n",
       "2   36648  2009.0    3.0\n",
       "3   35239  2009.0    4.0\n",
       "4   36916  2009.0    5.0\n",
       "5   34202  2009.0    6.0\n",
       "6   35161  2009.0    7.0\n",
       "7   34508  2009.0    8.0\n",
       "8   35555  2009.0    9.0\n",
       "9   37835  2009.0   10.0\n",
       "10  34562  2009.0   11.0\n",
       "11  36060  2009.0   12.0\n",
       "12  32892  2010.0    1.0\n",
       "13  31918  2010.0    2.0\n",
       "14  35803  2010.0    3.0\n",
       "15  34416  2010.0    4.0\n",
       "16  34862  2010.0    5.0\n",
       "17  33367  2010.0    6.0\n",
       "18  33645  2010.0    7.0\n",
       "19  34620  2010.0    8.0\n",
       "20  34957  2010.0    9.0\n",
       "21  37480  2010.0   10.0\n",
       "22  35460  2010.0   11.0\n",
       "23  37070  2010.0   12.0\n",
       "24  31926  2011.0    1.0\n",
       "25  31975  2011.0    2.0\n",
       "26  34585  2011.0    3.0\n",
       "27  31377  2011.0    4.0\n",
       "28  33370  2011.0    5.0\n",
       "29  31962  2011.0    6.0\n",
       "30  33029  2011.0    7.0\n",
       "31  34339  2011.0    8.0\n",
       "32  34137  2011.0    9.0\n",
       "33  36618  2011.0   10.0\n",
       "34  34495  2011.0   11.0\n",
       "35  34615  2011.0   12.0\n",
       "36  32020  2012.0    1.0\n",
       "37  30377  2012.0    2.0\n",
       "38  32498  2012.0    3.0\n",
       "39  29143  2012.0    4.0\n",
       "40  25168  2012.0    5.0\n",
       "41   3062  2012.0    6.0\n",
       "42    390  2012.0    7.0\n",
       "43    622  2012.0    8.0\n",
       "44    510  2012.0    9.0\n",
       "45    304  2012.0   10.0\n",
       "46    253  2012.0   11.0\n",
       "47    200  2012.0   12.0\n",
       "48    144  2013.0    1.0\n",
       "49    108  2013.0    2.0\n",
       "50     46  2013.0    3.0\n",
       "51      5  2013.0    4.0\n",
       "52      1  2013.0    6.0\n",
       "53      1  2013.0    7.0\n",
       "54      1  2020.0    3.0\n",
       "55      1  2020.0    7.0"
      ]
     },
     "execution_count": 16,
     "metadata": {},
     "output_type": "execute_result"
    }
   ],
   "source": [
    "collision_3"
   ]
  },
  {
   "cell_type": "markdown",
   "id": "96b7891b",
   "metadata": {},
   "source": [
    "Исходя из таблицы можем заметить, что очень мало данных имеется после 2012 года, поэтому графики по годам построим с 2009 по 2012 года включительно"
   ]
  },
  {
   "cell_type": "code",
   "execution_count": 17,
   "id": "7f0c656f",
   "metadata": {},
   "outputs": [
    {
     "data": {
      "image/png": "[encoded data removed]",
      "text/plain": [
       "<Figure size 432x288 with 1 Axes>"
      ]
     },
     "metadata": {
      "needs_background": "light"
     },
     "output_type": "display_data"
    },
    {
     "data": {
      "image/png": "[encoded data removed]",
      "text/plain": [
       "<Figure size 432x288 with 1 Axes>"
      ]
     },
     "metadata": {
      "needs_background": "light"
     },
     "output_type": "display_data"
    },
    {
     "data": {
      "image/png": "[encoded data removed]",
      "text/plain": [
       "<Figure size 432x288 with 1 Axes>"
      ]
     },
     "metadata": {
      "needs_background": "light"
     },
     "output_type": "display_data"
    },
    {
     "data": {
      "image/png": "[encoded data removed]",
      "text/plain": [
       "<Figure size 432x288 with 1 Axes>"
      ]
     },
     "metadata": {
      "needs_background": "light"
     },
     "output_type": "display_data"
    }
   ],
   "source": [
    "for i in range (2009,2013):\n",
    "    df_coll = collision_3.query(f'year=={i}')\n",
    "    sns_plot = sns.barplot(data=df_coll, x=\"month\", y=\"count\")\n",
    "    sns_plot.set_title(f'График количества происшествий взависимости от месяца в {i} году')\n",
    "    sns_plot.set_xlabel(\"Месяц\", fontsize=14)\n",
    "    sns_plot.set_ylabel(\"Количество происшествий\", fontsize=14)\n",
    "    plt.show()"
   ]
  },
  {
   "cell_type": "markdown",
   "id": "dafd5939",
   "metadata": {},
   "source": [
    "Мы можем видеть, что если рассматривать данные отдельно по годам, то не существует значимых различий между месяцами, а в общей статистике более низкое количество ДТП после мая обуславливается тем, что нормальное заполнение (количество) данных присутствует лишь до июня 2012 года"
   ]
  },
  {
   "cell_type": "markdown",
   "id": "3e89dfd6",
   "metadata": {},
   "source": [
    "#### Задачи коллегам"
   ]
  },
  {
   "cell_type": "markdown",
   "id": "d5a5cffa",
   "metadata": {},
   "source": [
    "<b>1.</b> Связать количество дтп с возрастом автомобиля \n",
    "- Использовать базы данных с описанием автомобилей (Vehicles) и информацию о происшествиях (collisions). \n",
    "- Построить графики\n",
    "- Сделать выводы\n",
    "\n",
    "<b>2.</b> Проверить наличие связи состояния участника с количеством дтп\n",
    "- Использовать таблицы базы данных с информацией о происшествиях (collisions) и таблицу с описанием участников (parties) \n",
    "- Построить графики и посмотреть в каком состоянии было больше всего аварий\n",
    "- Сделать выводы\n",
    "\n",
    "<b>3.</b> Првоерить наличие взаимосвязи между погодными условиями и количеством ДТП\n",
    "\n",
    "<b>4.</b> Посмотреть какие основные факторы аварии повлияли на большинство аварий\n",
    "\n",
    "<b>5.</b> Проверить наличие взаимосвязи состояния дороги с количеством ДТП\n",
    "\n",
    "<b>6.</b> Проверить наличие взаимосвязи освещенности с количеством ДТП\n"
   ]
  },
  {
   "cell_type": "markdown",
   "id": "3d9a8bab",
   "metadata": {},
   "source": [
    "## Создание модели для оценки водительского риска"
   ]
  },
  {
   "cell_type": "code",
   "execution_count": 18,
   "id": "53413566",
   "metadata": {
    "scrolled": true
   },
   "outputs": [
    {
     "name": "stdout",
     "output_type": "stream",
     "text": [
      "<class 'pandas.core.frame.DataFrame'>\n",
      "RangeIndex: 118411 entries, 0 to 118410\n",
      "Data columns (total 36 columns):\n",
      " #   Column                       Non-Null Count   Dtype  \n",
      "---  ------                       --------------   -----  \n",
      " 0   id                           118411 non-null  int64  \n",
      " 1   case_id                      118411 non-null  object \n",
      " 2   party_number                 118411 non-null  int64  \n",
      " 3   party_type                   118411 non-null  object \n",
      " 4   at_fault                     118411 non-null  int64  \n",
      " 5   insurance_premium            113289 non-null  float64\n",
      " 6   party_sobriety               116682 non-null  object \n",
      " 7   party_drug_physical          8695 non-null    object \n",
      " 8   cellphone_in_use             107507 non-null  float64\n",
      " 9   case_id                      118411 non-null  object \n",
      " 10  county_city_location         118411 non-null  object \n",
      " 11  county_location              118411 non-null  object \n",
      " 12  distance                     118411 non-null  float64\n",
      " 13  direction                    89466 non-null   object \n",
      " 14  intersection                 118043 non-null  float64\n",
      " 15  weather_1                    118022 non-null  object \n",
      " 16  location_type                55137 non-null   object \n",
      " 17  collision_damage             118411 non-null  object \n",
      " 18  party_count                  118411 non-null  int64  \n",
      " 19  primary_collision_factor     118147 non-null  object \n",
      " 20  pcf_violation_category       116686 non-null  object \n",
      " 21  type_of_collision            117771 non-null  object \n",
      " 22  motor_vehicle_involved_with  118079 non-null  object \n",
      " 23  road_surface                 117645 non-null  object \n",
      " 24  road_condition_1             117843 non-null  object \n",
      " 25  lighting                     118080 non-null  object \n",
      " 26  control_device               117957 non-null  object \n",
      " 27  collision_date               118411 non-null  object \n",
      " 28  collision_time               118283 non-null  object \n",
      " 29  month                        118411 non-null  float64\n",
      " 30  id                           118411 non-null  int64  \n",
      " 31  case_id                      118411 non-null  object \n",
      " 32  party_number                 118411 non-null  int64  \n",
      " 33  vehicle_type                 118411 non-null  object \n",
      " 34  vehicle_transmission         116545 non-null  object \n",
      " 35  vehicle_age                  115046 non-null  float64\n",
      "dtypes: float64(6), int64(6), object(24)\n",
      "memory usage: 32.5+ MB\n"
     ]
    }
   ],
   "source": [
    "query = '''\n",
    "WITH table_1 as (\n",
    "SELECT *,EXTRACT(MONTH FROM collision_date) as month\n",
    "FROM collisions\n",
    "WHERE (EXTRACT(YEAR FROM collision_date) =2012) AND (collision_damage NOT LIKE 'scratch')\n",
    "ORDER BY case_id),\n",
    "\n",
    "table_2 as (\n",
    "SELECT * \n",
    "FROM parties \n",
    "WHERE (party_type LIKE 'car')),\n",
    "\n",
    "table_3 as (\n",
    "SELECT * \n",
    "FROM table_2 as t2\n",
    "JOIN table_1 as t1 ON t1.case_id=t2.case_id\n",
    "JOIN vehicles as v ON v.case_id=t2.case_id)\n",
    "\n",
    "\n",
    "SELECT *\n",
    "FROM table_3 as t3\n",
    "\n",
    "\n",
    "'''\n",
    "df = pd.read_sql_query(query, con=engine)\n",
    "df.info()"
   ]
  },
  {
   "cell_type": "code",
   "execution_count": 19,
   "id": "976a3c36",
   "metadata": {
    "scrolled": true
   },
   "outputs": [
    {
     "data": {
      "text/html": [
       "<div>\n",
       "<style scoped>\n",
       "    .dataframe tbody tr th:only-of-type {\n",
       "        vertical-align: middle;\n",
       "    }\n",
       "\n",
       "    .dataframe tbody tr th {\n",
       "        vertical-align: top;\n",
       "    }\n",
       "\n",
       "    .dataframe thead th {\n",
       "        text-align: right;\n",
       "    }\n",
       "</style>\n",
       "<table border=\"1\" class=\"dataframe\">\n",
       "  <thead>\n",
       "    <tr style=\"text-align: right;\">\n",
       "      <th></th>\n",
       "      <th>party_drug_physical</th>\n",
       "      <th>county_city_location</th>\n",
       "      <th>primary_collision_factor</th>\n",
       "      <th>collision_damage</th>\n",
       "      <th>pcf_violation_category</th>\n",
       "      <th>type_of_collision</th>\n",
       "      <th>control_device</th>\n",
       "      <th>party_type</th>\n",
       "      <th>motor_vehicle_involved_with</th>\n",
       "      <th>party_sobriety</th>\n",
       "      <th>...</th>\n",
       "      <th>intersection</th>\n",
       "      <th>weather_1</th>\n",
       "      <th>road_surface</th>\n",
       "      <th>lighting</th>\n",
       "      <th>distance</th>\n",
       "      <th>road_condition_1</th>\n",
       "      <th>vehicle_type</th>\n",
       "      <th>vehicle_transmission</th>\n",
       "      <th>vehicle_age</th>\n",
       "      <th>at_fault</th>\n",
       "    </tr>\n",
       "  </thead>\n",
       "  <tbody>\n",
       "    <tr>\n",
       "      <th>0</th>\n",
       "      <td>None</td>\n",
       "      <td>3712</td>\n",
       "      <td>vehicle code violation</td>\n",
       "      <td>small damage</td>\n",
       "      <td>automobile right of way</td>\n",
       "      <td>broadside</td>\n",
       "      <td>none</td>\n",
       "      <td>car</td>\n",
       "      <td>other motor vehicle</td>\n",
       "      <td>had not been drinking</td>\n",
       "      <td>...</td>\n",
       "      <td>1.0</td>\n",
       "      <td>cloudy</td>\n",
       "      <td>dry</td>\n",
       "      <td>daylight</td>\n",
       "      <td>0.0</td>\n",
       "      <td>other</td>\n",
       "      <td>sedan</td>\n",
       "      <td>auto</td>\n",
       "      <td>2.0</td>\n",
       "      <td>0</td>\n",
       "    </tr>\n",
       "    <tr>\n",
       "      <th>1</th>\n",
       "      <td>None</td>\n",
       "      <td>3712</td>\n",
       "      <td>vehicle code violation</td>\n",
       "      <td>small damage</td>\n",
       "      <td>automobile right of way</td>\n",
       "      <td>broadside</td>\n",
       "      <td>none</td>\n",
       "      <td>car</td>\n",
       "      <td>other motor vehicle</td>\n",
       "      <td>had not been drinking</td>\n",
       "      <td>...</td>\n",
       "      <td>1.0</td>\n",
       "      <td>cloudy</td>\n",
       "      <td>dry</td>\n",
       "      <td>daylight</td>\n",
       "      <td>0.0</td>\n",
       "      <td>other</td>\n",
       "      <td>sedan</td>\n",
       "      <td>auto</td>\n",
       "      <td>2.0</td>\n",
       "      <td>1</td>\n",
       "    </tr>\n",
       "    <tr>\n",
       "      <th>2</th>\n",
       "      <td>None</td>\n",
       "      <td>3404</td>\n",
       "      <td>vehicle code violation</td>\n",
       "      <td>small damage</td>\n",
       "      <td>speeding</td>\n",
       "      <td>rear end</td>\n",
       "      <td>none</td>\n",
       "      <td>car</td>\n",
       "      <td>other motor vehicle</td>\n",
       "      <td>had not been drinking</td>\n",
       "      <td>...</td>\n",
       "      <td>1.0</td>\n",
       "      <td>clear</td>\n",
       "      <td>dry</td>\n",
       "      <td>daylight</td>\n",
       "      <td>0.0</td>\n",
       "      <td>normal</td>\n",
       "      <td>sedan</td>\n",
       "      <td>auto</td>\n",
       "      <td>5.0</td>\n",
       "      <td>1</td>\n",
       "    </tr>\n",
       "    <tr>\n",
       "      <th>3</th>\n",
       "      <td>None</td>\n",
       "      <td>3404</td>\n",
       "      <td>vehicle code violation</td>\n",
       "      <td>small damage</td>\n",
       "      <td>speeding</td>\n",
       "      <td>rear end</td>\n",
       "      <td>none</td>\n",
       "      <td>car</td>\n",
       "      <td>other motor vehicle</td>\n",
       "      <td>had not been drinking</td>\n",
       "      <td>...</td>\n",
       "      <td>1.0</td>\n",
       "      <td>clear</td>\n",
       "      <td>dry</td>\n",
       "      <td>daylight</td>\n",
       "      <td>0.0</td>\n",
       "      <td>normal</td>\n",
       "      <td>sedan</td>\n",
       "      <td>auto</td>\n",
       "      <td>5.0</td>\n",
       "      <td>0</td>\n",
       "    </tr>\n",
       "    <tr>\n",
       "      <th>4</th>\n",
       "      <td>None</td>\n",
       "      <td>3400</td>\n",
       "      <td>unknown</td>\n",
       "      <td>small damage</td>\n",
       "      <td>unknown</td>\n",
       "      <td>broadside</td>\n",
       "      <td>functioning</td>\n",
       "      <td>car</td>\n",
       "      <td>other motor vehicle</td>\n",
       "      <td>had not been drinking</td>\n",
       "      <td>...</td>\n",
       "      <td>1.0</td>\n",
       "      <td>clear</td>\n",
       "      <td>dry</td>\n",
       "      <td>daylight</td>\n",
       "      <td>0.0</td>\n",
       "      <td>normal</td>\n",
       "      <td>sedan</td>\n",
       "      <td>auto</td>\n",
       "      <td>1.0</td>\n",
       "      <td>0</td>\n",
       "    </tr>\n",
       "    <tr>\n",
       "      <th>...</th>\n",
       "      <td>...</td>\n",
       "      <td>...</td>\n",
       "      <td>...</td>\n",
       "      <td>...</td>\n",
       "      <td>...</td>\n",
       "      <td>...</td>\n",
       "      <td>...</td>\n",
       "      <td>...</td>\n",
       "      <td>...</td>\n",
       "      <td>...</td>\n",
       "      <td>...</td>\n",
       "      <td>...</td>\n",
       "      <td>...</td>\n",
       "      <td>...</td>\n",
       "      <td>...</td>\n",
       "      <td>...</td>\n",
       "      <td>...</td>\n",
       "      <td>...</td>\n",
       "      <td>...</td>\n",
       "      <td>...</td>\n",
       "      <td>...</td>\n",
       "    </tr>\n",
       "    <tr>\n",
       "      <th>118406</th>\n",
       "      <td>None</td>\n",
       "      <td>0109</td>\n",
       "      <td>vehicle code violation</td>\n",
       "      <td>small damage</td>\n",
       "      <td>automobile right of way</td>\n",
       "      <td>broadside</td>\n",
       "      <td>functioning</td>\n",
       "      <td>car</td>\n",
       "      <td>other motor vehicle</td>\n",
       "      <td>had not been drinking</td>\n",
       "      <td>...</td>\n",
       "      <td>1.0</td>\n",
       "      <td>clear</td>\n",
       "      <td>dry</td>\n",
       "      <td>daylight</td>\n",
       "      <td>0.0</td>\n",
       "      <td>normal</td>\n",
       "      <td>sedan</td>\n",
       "      <td>auto</td>\n",
       "      <td>3.0</td>\n",
       "      <td>1</td>\n",
       "    </tr>\n",
       "    <tr>\n",
       "      <th>118407</th>\n",
       "      <td>None</td>\n",
       "      <td>0109</td>\n",
       "      <td>vehicle code violation</td>\n",
       "      <td>small damage</td>\n",
       "      <td>automobile right of way</td>\n",
       "      <td>broadside</td>\n",
       "      <td>functioning</td>\n",
       "      <td>car</td>\n",
       "      <td>other motor vehicle</td>\n",
       "      <td>had not been drinking</td>\n",
       "      <td>...</td>\n",
       "      <td>1.0</td>\n",
       "      <td>clear</td>\n",
       "      <td>dry</td>\n",
       "      <td>daylight</td>\n",
       "      <td>0.0</td>\n",
       "      <td>normal</td>\n",
       "      <td>sedan</td>\n",
       "      <td>auto</td>\n",
       "      <td>3.0</td>\n",
       "      <td>0</td>\n",
       "    </tr>\n",
       "    <tr>\n",
       "      <th>118408</th>\n",
       "      <td>None</td>\n",
       "      <td>0109</td>\n",
       "      <td>vehicle code violation</td>\n",
       "      <td>small damage</td>\n",
       "      <td>traffic signals and signs</td>\n",
       "      <td>broadside</td>\n",
       "      <td>functioning</td>\n",
       "      <td>car</td>\n",
       "      <td>other motor vehicle</td>\n",
       "      <td>had not been drinking</td>\n",
       "      <td>...</td>\n",
       "      <td>1.0</td>\n",
       "      <td>clear</td>\n",
       "      <td>dry</td>\n",
       "      <td>daylight</td>\n",
       "      <td>0.0</td>\n",
       "      <td>normal</td>\n",
       "      <td>sedan</td>\n",
       "      <td>auto</td>\n",
       "      <td>7.0</td>\n",
       "      <td>1</td>\n",
       "    </tr>\n",
       "    <tr>\n",
       "      <th>118409</th>\n",
       "      <td>None</td>\n",
       "      <td>0109</td>\n",
       "      <td>vehicle code violation</td>\n",
       "      <td>small damage</td>\n",
       "      <td>traffic signals and signs</td>\n",
       "      <td>broadside</td>\n",
       "      <td>functioning</td>\n",
       "      <td>car</td>\n",
       "      <td>other motor vehicle</td>\n",
       "      <td>had not been drinking</td>\n",
       "      <td>...</td>\n",
       "      <td>1.0</td>\n",
       "      <td>clear</td>\n",
       "      <td>dry</td>\n",
       "      <td>daylight</td>\n",
       "      <td>0.0</td>\n",
       "      <td>normal</td>\n",
       "      <td>sedan</td>\n",
       "      <td>auto</td>\n",
       "      <td>7.0</td>\n",
       "      <td>0</td>\n",
       "    </tr>\n",
       "    <tr>\n",
       "      <th>118410</th>\n",
       "      <td>None</td>\n",
       "      <td>1944</td>\n",
       "      <td>vehicle code violation</td>\n",
       "      <td>small damage</td>\n",
       "      <td>dui</td>\n",
       "      <td>sideswipe</td>\n",
       "      <td>none</td>\n",
       "      <td>car</td>\n",
       "      <td>other motor vehicle</td>\n",
       "      <td>had been drinking, under influence</td>\n",
       "      <td>...</td>\n",
       "      <td>0.0</td>\n",
       "      <td>clear</td>\n",
       "      <td>dry</td>\n",
       "      <td>dark with street lights</td>\n",
       "      <td>18.0</td>\n",
       "      <td>normal</td>\n",
       "      <td>sedan</td>\n",
       "      <td>manual</td>\n",
       "      <td>8.0</td>\n",
       "      <td>1</td>\n",
       "    </tr>\n",
       "  </tbody>\n",
       "</table>\n",
       "<p>118411 rows × 21 columns</p>\n",
       "</div>"
      ],
      "text/plain": [
       "       party_drug_physical county_city_location primary_collision_factor  \\\n",
       "0                     None                 3712   vehicle code violation   \n",
       "1                     None                 3712   vehicle code violation   \n",
       "2                     None                 3404   vehicle code violation   \n",
       "3                     None                 3404   vehicle code violation   \n",
       "4                     None                 3400                  unknown   \n",
       "...                    ...                  ...                      ...   \n",
       "118406                None                 0109   vehicle code violation   \n",
       "118407                None                 0109   vehicle code violation   \n",
       "118408                None                 0109   vehicle code violation   \n",
       "118409                None                 0109   vehicle code violation   \n",
       "118410                None                 1944   vehicle code violation   \n",
       "\n",
       "       collision_damage     pcf_violation_category type_of_collision  \\\n",
       "0          small damage    automobile right of way         broadside   \n",
       "1          small damage    automobile right of way         broadside   \n",
       "2          small damage                   speeding          rear end   \n",
       "3          small damage                   speeding          rear end   \n",
       "4          small damage                    unknown         broadside   \n",
       "...                 ...                        ...               ...   \n",
       "118406     small damage    automobile right of way         broadside   \n",
       "118407     small damage    automobile right of way         broadside   \n",
       "118408     small damage  traffic signals and signs         broadside   \n",
       "118409     small damage  traffic signals and signs         broadside   \n",
       "118410     small damage                        dui         sideswipe   \n",
       "\n",
       "       control_device party_type motor_vehicle_involved_with  \\\n",
       "0                none        car         other motor vehicle   \n",
       "1                none        car         other motor vehicle   \n",
       "2                none        car         other motor vehicle   \n",
       "3                none        car         other motor vehicle   \n",
       "4         functioning        car         other motor vehicle   \n",
       "...               ...        ...                         ...   \n",
       "118406    functioning        car         other motor vehicle   \n",
       "118407    functioning        car         other motor vehicle   \n",
       "118408    functioning        car         other motor vehicle   \n",
       "118409    functioning        car         other motor vehicle   \n",
       "118410           none        car         other motor vehicle   \n",
       "\n",
       "                            party_sobriety  ...  intersection  weather_1  \\\n",
       "0                    had not been drinking  ...           1.0     cloudy   \n",
       "1                    had not been drinking  ...           1.0     cloudy   \n",
       "2                    had not been drinking  ...           1.0      clear   \n",
       "3                    had not been drinking  ...           1.0      clear   \n",
       "4                    had not been drinking  ...           1.0      clear   \n",
       "...                                    ...  ...           ...        ...   \n",
       "118406               had not been drinking  ...           1.0      clear   \n",
       "118407               had not been drinking  ...           1.0      clear   \n",
       "118408               had not been drinking  ...           1.0      clear   \n",
       "118409               had not been drinking  ...           1.0      clear   \n",
       "118410  had been drinking, under influence  ...           0.0      clear   \n",
       "\n",
       "       road_surface                 lighting distance  road_condition_1  \\\n",
       "0               dry                 daylight      0.0             other   \n",
       "1               dry                 daylight      0.0             other   \n",
       "2               dry                 daylight      0.0            normal   \n",
       "3               dry                 daylight      0.0            normal   \n",
       "4               dry                 daylight      0.0            normal   \n",
       "...             ...                      ...      ...               ...   \n",
       "118406          dry                 daylight      0.0            normal   \n",
       "118407          dry                 daylight      0.0            normal   \n",
       "118408          dry                 daylight      0.0            normal   \n",
       "118409          dry                 daylight      0.0            normal   \n",
       "118410          dry  dark with street lights     18.0            normal   \n",
       "\n",
       "       vehicle_type vehicle_transmission vehicle_age  at_fault  \n",
       "0             sedan                 auto         2.0         0  \n",
       "1             sedan                 auto         2.0         1  \n",
       "2             sedan                 auto         5.0         1  \n",
       "3             sedan                 auto         5.0         0  \n",
       "4             sedan                 auto         1.0         0  \n",
       "...             ...                  ...         ...       ...  \n",
       "118406        sedan                 auto         3.0         1  \n",
       "118407        sedan                 auto         3.0         0  \n",
       "118408        sedan                 auto         7.0         1  \n",
       "118409        sedan                 auto         7.0         0  \n",
       "118410        sedan               manual         8.0         1  \n",
       "\n",
       "[118411 rows x 21 columns]"
      ]
     },
     "execution_count": 19,
     "metadata": {},
     "output_type": "execute_result"
    }
   ],
   "source": [
    "df_2 = df[[\n",
    "    #Таблица Parties\n",
    "    'party_drug_physical', #Состояние участника: физическое или с учетом принятых лекарств\n",
    "    'county_city_location',\n",
    "    'primary_collision_factor',\n",
    "    'collision_damage',\n",
    "    'pcf_violation_category',\n",
    "    'type_of_collision',\n",
    "    'control_device',\n",
    "    'party_type',\n",
    "    'motor_vehicle_involved_with',\n",
    "    'party_sobriety', #Трезвость\n",
    "    'cellphone_in_use', #Наличие телефона в автомобиле (громкая связь)\n",
    "    #Таблица Collisions\n",
    "    #'month', #Месяц происшествия\n",
    "    'intersection', #Является ли место происшествия перекрестком\n",
    "    'weather_1', #Погода\n",
    "    'road_surface', #Состояние дороги\n",
    "    'lighting', #Освещение\n",
    "    #'direction', #Направление движения (возможно при определенном движении, например утром на восток может слепить глаза)\n",
    "    'distance', #Расстояние от главной дороги (возможно при бОльших расстояниях водители чувствуют себя более раскованно, например так как на этих участках меньше камер)\n",
    "    #'location_type', #Тип дороги\n",
    "    'road_condition_1', #Состояние дороги\n",
    "    #Таблица Vehicles\n",
    "    'vehicle_type', #Тип кузова\n",
    "    'vehicle_transmission',#Тип КПП\n",
    "    'vehicle_age', #Возраст автомобиля\n",
    "    \n",
    "    'at_fault' #target\n",
    "\n",
    "]]\n",
    "\n",
    "df_2"
   ]
  },
  {
   "cell_type": "code",
   "execution_count": 20,
   "id": "21eef907",
   "metadata": {},
   "outputs": [
    {
     "name": "stdout",
     "output_type": "stream",
     "text": [
      "<class 'pandas.core.frame.DataFrame'>\n",
      "RangeIndex: 118411 entries, 0 to 118410\n",
      "Data columns (total 21 columns):\n",
      " #   Column                       Non-Null Count   Dtype  \n",
      "---  ------                       --------------   -----  \n",
      " 0   party_drug_physical          8695 non-null    object \n",
      " 1   county_city_location         118411 non-null  object \n",
      " 2   primary_collision_factor     118147 non-null  object \n",
      " 3   collision_damage             118411 non-null  object \n",
      " 4   pcf_violation_category       116686 non-null  object \n",
      " 5   type_of_collision            117771 non-null  object \n",
      " 6   control_device               117957 non-null  object \n",
      " 7   party_type                   118411 non-null  object \n",
      " 8   motor_vehicle_involved_with  118079 non-null  object \n",
      " 9   party_sobriety               116682 non-null  object \n",
      " 10  cellphone_in_use             107507 non-null  float64\n",
      " 11  intersection                 118043 non-null  float64\n",
      " 12  weather_1                    118022 non-null  object \n",
      " 13  road_surface                 117645 non-null  object \n",
      " 14  lighting                     118080 non-null  object \n",
      " 15  distance                     118411 non-null  float64\n",
      " 16  road_condition_1             117843 non-null  object \n",
      " 17  vehicle_type                 118411 non-null  object \n",
      " 18  vehicle_transmission         116545 non-null  object \n",
      " 19  vehicle_age                  115046 non-null  float64\n",
      " 20  at_fault                     118411 non-null  int64  \n",
      "dtypes: float64(4), int64(1), object(16)\n",
      "memory usage: 19.0+ MB\n"
     ]
    }
   ],
   "source": [
    "df_2.info()"
   ]
  },
  {
   "cell_type": "markdown",
   "id": "ba0ac504",
   "metadata": {},
   "source": [
    "Можно увидеть, что в данных существуют пропуски почти во всех столбцах"
   ]
  },
  {
   "cell_type": "code",
   "execution_count": 21,
   "id": "7f969336",
   "metadata": {
    "scrolled": true
   },
   "outputs": [
    {
     "data": {
      "text/html": [
       "<div>\n",
       "<style scoped>\n",
       "    .dataframe tbody tr th:only-of-type {\n",
       "        vertical-align: middle;\n",
       "    }\n",
       "\n",
       "    .dataframe tbody tr th {\n",
       "        vertical-align: top;\n",
       "    }\n",
       "\n",
       "    .dataframe thead th {\n",
       "        text-align: right;\n",
       "    }\n",
       "</style>\n",
       "<table border=\"1\" class=\"dataframe\">\n",
       "  <thead>\n",
       "    <tr style=\"text-align: right;\">\n",
       "      <th></th>\n",
       "      <th>party_drug_physical</th>\n",
       "      <th>county_city_location</th>\n",
       "      <th>primary_collision_factor</th>\n",
       "      <th>collision_damage</th>\n",
       "      <th>pcf_violation_category</th>\n",
       "      <th>type_of_collision</th>\n",
       "      <th>control_device</th>\n",
       "      <th>party_type</th>\n",
       "      <th>motor_vehicle_involved_with</th>\n",
       "      <th>party_sobriety</th>\n",
       "      <th>...</th>\n",
       "      <th>intersection</th>\n",
       "      <th>weather_1</th>\n",
       "      <th>road_surface</th>\n",
       "      <th>lighting</th>\n",
       "      <th>distance</th>\n",
       "      <th>road_condition_1</th>\n",
       "      <th>vehicle_type</th>\n",
       "      <th>vehicle_transmission</th>\n",
       "      <th>vehicle_age</th>\n",
       "      <th>at_fault</th>\n",
       "    </tr>\n",
       "  </thead>\n",
       "  <tbody>\n",
       "    <tr>\n",
       "      <th>0</th>\n",
       "      <td>Not stated</td>\n",
       "      <td>3712</td>\n",
       "      <td>vehicle code violation</td>\n",
       "      <td>small damage</td>\n",
       "      <td>automobile right of way</td>\n",
       "      <td>broadside</td>\n",
       "      <td>none</td>\n",
       "      <td>car</td>\n",
       "      <td>other motor vehicle</td>\n",
       "      <td>had not been drinking</td>\n",
       "      <td>...</td>\n",
       "      <td>1.0</td>\n",
       "      <td>cloudy</td>\n",
       "      <td>dry</td>\n",
       "      <td>daylight</td>\n",
       "      <td>0.0</td>\n",
       "      <td>other</td>\n",
       "      <td>sedan</td>\n",
       "      <td>1.0</td>\n",
       "      <td>2.0</td>\n",
       "      <td>0</td>\n",
       "    </tr>\n",
       "    <tr>\n",
       "      <th>1</th>\n",
       "      <td>Not stated</td>\n",
       "      <td>3712</td>\n",
       "      <td>vehicle code violation</td>\n",
       "      <td>small damage</td>\n",
       "      <td>automobile right of way</td>\n",
       "      <td>broadside</td>\n",
       "      <td>none</td>\n",
       "      <td>car</td>\n",
       "      <td>other motor vehicle</td>\n",
       "      <td>had not been drinking</td>\n",
       "      <td>...</td>\n",
       "      <td>1.0</td>\n",
       "      <td>cloudy</td>\n",
       "      <td>dry</td>\n",
       "      <td>daylight</td>\n",
       "      <td>0.0</td>\n",
       "      <td>other</td>\n",
       "      <td>sedan</td>\n",
       "      <td>1.0</td>\n",
       "      <td>2.0</td>\n",
       "      <td>1</td>\n",
       "    </tr>\n",
       "    <tr>\n",
       "      <th>2</th>\n",
       "      <td>Not stated</td>\n",
       "      <td>3404</td>\n",
       "      <td>vehicle code violation</td>\n",
       "      <td>small damage</td>\n",
       "      <td>speeding</td>\n",
       "      <td>rear end</td>\n",
       "      <td>none</td>\n",
       "      <td>car</td>\n",
       "      <td>other motor vehicle</td>\n",
       "      <td>had not been drinking</td>\n",
       "      <td>...</td>\n",
       "      <td>1.0</td>\n",
       "      <td>clear</td>\n",
       "      <td>dry</td>\n",
       "      <td>daylight</td>\n",
       "      <td>0.0</td>\n",
       "      <td>normal</td>\n",
       "      <td>sedan</td>\n",
       "      <td>1.0</td>\n",
       "      <td>5.0</td>\n",
       "      <td>1</td>\n",
       "    </tr>\n",
       "    <tr>\n",
       "      <th>3</th>\n",
       "      <td>Not stated</td>\n",
       "      <td>3404</td>\n",
       "      <td>vehicle code violation</td>\n",
       "      <td>small damage</td>\n",
       "      <td>speeding</td>\n",
       "      <td>rear end</td>\n",
       "      <td>none</td>\n",
       "      <td>car</td>\n",
       "      <td>other motor vehicle</td>\n",
       "      <td>had not been drinking</td>\n",
       "      <td>...</td>\n",
       "      <td>1.0</td>\n",
       "      <td>clear</td>\n",
       "      <td>dry</td>\n",
       "      <td>daylight</td>\n",
       "      <td>0.0</td>\n",
       "      <td>normal</td>\n",
       "      <td>sedan</td>\n",
       "      <td>1.0</td>\n",
       "      <td>5.0</td>\n",
       "      <td>0</td>\n",
       "    </tr>\n",
       "    <tr>\n",
       "      <th>4</th>\n",
       "      <td>Not stated</td>\n",
       "      <td>3400</td>\n",
       "      <td>unknown</td>\n",
       "      <td>small damage</td>\n",
       "      <td>unknown</td>\n",
       "      <td>broadside</td>\n",
       "      <td>functioning</td>\n",
       "      <td>car</td>\n",
       "      <td>other motor vehicle</td>\n",
       "      <td>had not been drinking</td>\n",
       "      <td>...</td>\n",
       "      <td>1.0</td>\n",
       "      <td>clear</td>\n",
       "      <td>dry</td>\n",
       "      <td>daylight</td>\n",
       "      <td>0.0</td>\n",
       "      <td>normal</td>\n",
       "      <td>sedan</td>\n",
       "      <td>1.0</td>\n",
       "      <td>1.0</td>\n",
       "      <td>0</td>\n",
       "    </tr>\n",
       "    <tr>\n",
       "      <th>...</th>\n",
       "      <td>...</td>\n",
       "      <td>...</td>\n",
       "      <td>...</td>\n",
       "      <td>...</td>\n",
       "      <td>...</td>\n",
       "      <td>...</td>\n",
       "      <td>...</td>\n",
       "      <td>...</td>\n",
       "      <td>...</td>\n",
       "      <td>...</td>\n",
       "      <td>...</td>\n",
       "      <td>...</td>\n",
       "      <td>...</td>\n",
       "      <td>...</td>\n",
       "      <td>...</td>\n",
       "      <td>...</td>\n",
       "      <td>...</td>\n",
       "      <td>...</td>\n",
       "      <td>...</td>\n",
       "      <td>...</td>\n",
       "      <td>...</td>\n",
       "    </tr>\n",
       "    <tr>\n",
       "      <th>118406</th>\n",
       "      <td>Not stated</td>\n",
       "      <td>0109</td>\n",
       "      <td>vehicle code violation</td>\n",
       "      <td>small damage</td>\n",
       "      <td>automobile right of way</td>\n",
       "      <td>broadside</td>\n",
       "      <td>functioning</td>\n",
       "      <td>car</td>\n",
       "      <td>other motor vehicle</td>\n",
       "      <td>had not been drinking</td>\n",
       "      <td>...</td>\n",
       "      <td>1.0</td>\n",
       "      <td>clear</td>\n",
       "      <td>dry</td>\n",
       "      <td>daylight</td>\n",
       "      <td>0.0</td>\n",
       "      <td>normal</td>\n",
       "      <td>sedan</td>\n",
       "      <td>1.0</td>\n",
       "      <td>3.0</td>\n",
       "      <td>1</td>\n",
       "    </tr>\n",
       "    <tr>\n",
       "      <th>118407</th>\n",
       "      <td>Not stated</td>\n",
       "      <td>0109</td>\n",
       "      <td>vehicle code violation</td>\n",
       "      <td>small damage</td>\n",
       "      <td>automobile right of way</td>\n",
       "      <td>broadside</td>\n",
       "      <td>functioning</td>\n",
       "      <td>car</td>\n",
       "      <td>other motor vehicle</td>\n",
       "      <td>had not been drinking</td>\n",
       "      <td>...</td>\n",
       "      <td>1.0</td>\n",
       "      <td>clear</td>\n",
       "      <td>dry</td>\n",
       "      <td>daylight</td>\n",
       "      <td>0.0</td>\n",
       "      <td>normal</td>\n",
       "      <td>sedan</td>\n",
       "      <td>1.0</td>\n",
       "      <td>3.0</td>\n",
       "      <td>0</td>\n",
       "    </tr>\n",
       "    <tr>\n",
       "      <th>118408</th>\n",
       "      <td>Not stated</td>\n",
       "      <td>0109</td>\n",
       "      <td>vehicle code violation</td>\n",
       "      <td>small damage</td>\n",
       "      <td>traffic signals and signs</td>\n",
       "      <td>broadside</td>\n",
       "      <td>functioning</td>\n",
       "      <td>car</td>\n",
       "      <td>other motor vehicle</td>\n",
       "      <td>had not been drinking</td>\n",
       "      <td>...</td>\n",
       "      <td>1.0</td>\n",
       "      <td>clear</td>\n",
       "      <td>dry</td>\n",
       "      <td>daylight</td>\n",
       "      <td>0.0</td>\n",
       "      <td>normal</td>\n",
       "      <td>sedan</td>\n",
       "      <td>1.0</td>\n",
       "      <td>7.0</td>\n",
       "      <td>1</td>\n",
       "    </tr>\n",
       "    <tr>\n",
       "      <th>118409</th>\n",
       "      <td>Not stated</td>\n",
       "      <td>0109</td>\n",
       "      <td>vehicle code violation</td>\n",
       "      <td>small damage</td>\n",
       "      <td>traffic signals and signs</td>\n",
       "      <td>broadside</td>\n",
       "      <td>functioning</td>\n",
       "      <td>car</td>\n",
       "      <td>other motor vehicle</td>\n",
       "      <td>had not been drinking</td>\n",
       "      <td>...</td>\n",
       "      <td>1.0</td>\n",
       "      <td>clear</td>\n",
       "      <td>dry</td>\n",
       "      <td>daylight</td>\n",
       "      <td>0.0</td>\n",
       "      <td>normal</td>\n",
       "      <td>sedan</td>\n",
       "      <td>1.0</td>\n",
       "      <td>7.0</td>\n",
       "      <td>0</td>\n",
       "    </tr>\n",
       "    <tr>\n",
       "      <th>118410</th>\n",
       "      <td>Not stated</td>\n",
       "      <td>1944</td>\n",
       "      <td>vehicle code violation</td>\n",
       "      <td>small damage</td>\n",
       "      <td>dui</td>\n",
       "      <td>sideswipe</td>\n",
       "      <td>none</td>\n",
       "      <td>car</td>\n",
       "      <td>other motor vehicle</td>\n",
       "      <td>had been drinking, under influence</td>\n",
       "      <td>...</td>\n",
       "      <td>0.0</td>\n",
       "      <td>clear</td>\n",
       "      <td>dry</td>\n",
       "      <td>dark with street lights</td>\n",
       "      <td>18.0</td>\n",
       "      <td>normal</td>\n",
       "      <td>sedan</td>\n",
       "      <td>0.0</td>\n",
       "      <td>8.0</td>\n",
       "      <td>1</td>\n",
       "    </tr>\n",
       "  </tbody>\n",
       "</table>\n",
       "<p>109429 rows × 21 columns</p>\n",
       "</div>"
      ],
      "text/plain": [
       "       party_drug_physical county_city_location primary_collision_factor  \\\n",
       "0               Not stated                 3712   vehicle code violation   \n",
       "1               Not stated                 3712   vehicle code violation   \n",
       "2               Not stated                 3404   vehicle code violation   \n",
       "3               Not stated                 3404   vehicle code violation   \n",
       "4               Not stated                 3400                  unknown   \n",
       "...                    ...                  ...                      ...   \n",
       "118406          Not stated                 0109   vehicle code violation   \n",
       "118407          Not stated                 0109   vehicle code violation   \n",
       "118408          Not stated                 0109   vehicle code violation   \n",
       "118409          Not stated                 0109   vehicle code violation   \n",
       "118410          Not stated                 1944   vehicle code violation   \n",
       "\n",
       "       collision_damage     pcf_violation_category type_of_collision  \\\n",
       "0          small damage    automobile right of way         broadside   \n",
       "1          small damage    automobile right of way         broadside   \n",
       "2          small damage                   speeding          rear end   \n",
       "3          small damage                   speeding          rear end   \n",
       "4          small damage                    unknown         broadside   \n",
       "...                 ...                        ...               ...   \n",
       "118406     small damage    automobile right of way         broadside   \n",
       "118407     small damage    automobile right of way         broadside   \n",
       "118408     small damage  traffic signals and signs         broadside   \n",
       "118409     small damage  traffic signals and signs         broadside   \n",
       "118410     small damage                        dui         sideswipe   \n",
       "\n",
       "       control_device party_type motor_vehicle_involved_with  \\\n",
       "0                none        car         other motor vehicle   \n",
       "1                none        car         other motor vehicle   \n",
       "2                none        car         other motor vehicle   \n",
       "3                none        car         other motor vehicle   \n",
       "4         functioning        car         other motor vehicle   \n",
       "...               ...        ...                         ...   \n",
       "118406    functioning        car         other motor vehicle   \n",
       "118407    functioning        car         other motor vehicle   \n",
       "118408    functioning        car         other motor vehicle   \n",
       "118409    functioning        car         other motor vehicle   \n",
       "118410           none        car         other motor vehicle   \n",
       "\n",
       "                            party_sobriety  ...  intersection  weather_1  \\\n",
       "0                    had not been drinking  ...           1.0     cloudy   \n",
       "1                    had not been drinking  ...           1.0     cloudy   \n",
       "2                    had not been drinking  ...           1.0      clear   \n",
       "3                    had not been drinking  ...           1.0      clear   \n",
       "4                    had not been drinking  ...           1.0      clear   \n",
       "...                                    ...  ...           ...        ...   \n",
       "118406               had not been drinking  ...           1.0      clear   \n",
       "118407               had not been drinking  ...           1.0      clear   \n",
       "118408               had not been drinking  ...           1.0      clear   \n",
       "118409               had not been drinking  ...           1.0      clear   \n",
       "118410  had been drinking, under influence  ...           0.0      clear   \n",
       "\n",
       "       road_surface                 lighting distance  road_condition_1  \\\n",
       "0               dry                 daylight      0.0             other   \n",
       "1               dry                 daylight      0.0             other   \n",
       "2               dry                 daylight      0.0            normal   \n",
       "3               dry                 daylight      0.0            normal   \n",
       "4               dry                 daylight      0.0            normal   \n",
       "...             ...                      ...      ...               ...   \n",
       "118406          dry                 daylight      0.0            normal   \n",
       "118407          dry                 daylight      0.0            normal   \n",
       "118408          dry                 daylight      0.0            normal   \n",
       "118409          dry                 daylight      0.0            normal   \n",
       "118410          dry  dark with street lights     18.0            normal   \n",
       "\n",
       "       vehicle_type vehicle_transmission  vehicle_age  at_fault  \n",
       "0             sedan                  1.0          2.0         0  \n",
       "1             sedan                  1.0          2.0         1  \n",
       "2             sedan                  1.0          5.0         1  \n",
       "3             sedan                  1.0          5.0         0  \n",
       "4             sedan                  1.0          1.0         0  \n",
       "...             ...                  ...          ...       ...  \n",
       "118406        sedan                  1.0          3.0         1  \n",
       "118407        sedan                  1.0          3.0         0  \n",
       "118408        sedan                  1.0          7.0         1  \n",
       "118409        sedan                  1.0          7.0         0  \n",
       "118410        sedan                  0.0          8.0         1  \n",
       "\n",
       "[109429 rows x 21 columns]"
      ]
     },
     "execution_count": 21,
     "metadata": {},
     "output_type": "execute_result"
    }
   ],
   "source": [
    "df_2['party_drug_physical'] = df_2['party_drug_physical'].fillna('Not stated') #Заполнение пропущенных значений \"Не указано\"\n",
    "df_2['party_sobriety'] = df_2['party_sobriety'].fillna('Not stated')\n",
    "#df_2['direction'] = df_2['direction'].fillna('Not stated')\n",
    "df_2['cellphone_in_use'] = df_2['cellphone_in_use'].fillna(0) #Заполнение самым популярным вариантом\n",
    "#df_2['location_type'] = df_2['location_type'].fillna('Not stated')#Заполнение неопределенными для того чтобы не оптерять большое количество данных\n",
    "df_2['vehicle_transmission'] = df_2['vehicle_transmission'].replace(['auto','manual'],[1,0])\n",
    "df_dropped = df_2.dropna()\n",
    "df_dropped"
   ]
  },
  {
   "cell_type": "code",
   "execution_count": 22,
   "id": "68658144",
   "metadata": {},
   "outputs": [
    {
     "name": "stdout",
     "output_type": "stream",
     "text": [
      "<class 'pandas.core.frame.DataFrame'>\n",
      "Int64Index: 109429 entries, 0 to 118410\n",
      "Data columns (total 21 columns):\n",
      " #   Column                       Non-Null Count   Dtype  \n",
      "---  ------                       --------------   -----  \n",
      " 0   party_drug_physical          109429 non-null  object \n",
      " 1   county_city_location         109429 non-null  object \n",
      " 2   primary_collision_factor     109429 non-null  object \n",
      " 3   collision_damage             109429 non-null  object \n",
      " 4   pcf_violation_category       109429 non-null  object \n",
      " 5   type_of_collision            109429 non-null  object \n",
      " 6   control_device               109429 non-null  object \n",
      " 7   party_type                   109429 non-null  object \n",
      " 8   motor_vehicle_involved_with  109429 non-null  object \n",
      " 9   party_sobriety               109429 non-null  object \n",
      " 10  cellphone_in_use             109429 non-null  float64\n",
      " 11  intersection                 109429 non-null  float64\n",
      " 12  weather_1                    109429 non-null  object \n",
      " 13  road_surface                 109429 non-null  object \n",
      " 14  lighting                     109429 non-null  object \n",
      " 15  distance                     109429 non-null  float64\n",
      " 16  road_condition_1             109429 non-null  object \n",
      " 17  vehicle_type                 109429 non-null  object \n",
      " 18  vehicle_transmission         109429 non-null  float64\n",
      " 19  vehicle_age                  109429 non-null  float64\n",
      " 20  at_fault                     109429 non-null  int64  \n",
      "dtypes: float64(5), int64(1), object(15)\n",
      "memory usage: 18.4+ MB\n"
     ]
    }
   ],
   "source": [
    "df_dropped.info()"
   ]
  },
  {
   "cell_type": "code",
   "execution_count": 23,
   "id": "1dfd0588",
   "metadata": {
    "scrolled": true
   },
   "outputs": [
    {
     "data": {
      "text/html": [
       "<div>\n",
       "<style scoped>\n",
       "    .dataframe tbody tr th:only-of-type {\n",
       "        vertical-align: middle;\n",
       "    }\n",
       "\n",
       "    .dataframe tbody tr th {\n",
       "        vertical-align: top;\n",
       "    }\n",
       "\n",
       "    .dataframe thead th {\n",
       "        text-align: right;\n",
       "    }\n",
       "</style>\n",
       "<table border=\"1\" class=\"dataframe\">\n",
       "  <thead>\n",
       "    <tr style=\"text-align: right;\">\n",
       "      <th></th>\n",
       "      <th>cellphone_in_use</th>\n",
       "      <th>intersection</th>\n",
       "      <th>distance</th>\n",
       "      <th>vehicle_transmission</th>\n",
       "      <th>vehicle_age</th>\n",
       "      <th>at_fault</th>\n",
       "    </tr>\n",
       "  </thead>\n",
       "  <tbody>\n",
       "    <tr>\n",
       "      <th>count</th>\n",
       "      <td>109429.000000</td>\n",
       "      <td>109429.000000</td>\n",
       "      <td>1.094290e+05</td>\n",
       "      <td>109429.000000</td>\n",
       "      <td>109429.000000</td>\n",
       "      <td>109429.000000</td>\n",
       "    </tr>\n",
       "    <tr>\n",
       "      <th>mean</th>\n",
       "      <td>0.019401</td>\n",
       "      <td>0.227252</td>\n",
       "      <td>7.620494e+02</td>\n",
       "      <td>0.477113</td>\n",
       "      <td>4.906405</td>\n",
       "      <td>0.471347</td>\n",
       "    </tr>\n",
       "    <tr>\n",
       "      <th>std</th>\n",
       "      <td>0.137929</td>\n",
       "      <td>0.419059</td>\n",
       "      <td>7.170042e+03</td>\n",
       "      <td>0.499478</td>\n",
       "      <td>3.270605</td>\n",
       "      <td>0.499181</td>\n",
       "    </tr>\n",
       "    <tr>\n",
       "      <th>min</th>\n",
       "      <td>0.000000</td>\n",
       "      <td>0.000000</td>\n",
       "      <td>0.000000e+00</td>\n",
       "      <td>0.000000</td>\n",
       "      <td>0.000000</td>\n",
       "      <td>0.000000</td>\n",
       "    </tr>\n",
       "    <tr>\n",
       "      <th>25%</th>\n",
       "      <td>0.000000</td>\n",
       "      <td>0.000000</td>\n",
       "      <td>5.000000e+00</td>\n",
       "      <td>0.000000</td>\n",
       "      <td>3.000000</td>\n",
       "      <td>0.000000</td>\n",
       "    </tr>\n",
       "    <tr>\n",
       "      <th>50%</th>\n",
       "      <td>0.000000</td>\n",
       "      <td>0.000000</td>\n",
       "      <td>1.300000e+02</td>\n",
       "      <td>0.000000</td>\n",
       "      <td>4.000000</td>\n",
       "      <td>0.000000</td>\n",
       "    </tr>\n",
       "    <tr>\n",
       "      <th>75%</th>\n",
       "      <td>0.000000</td>\n",
       "      <td>0.000000</td>\n",
       "      <td>5.280000e+02</td>\n",
       "      <td>1.000000</td>\n",
       "      <td>7.000000</td>\n",
       "      <td>1.000000</td>\n",
       "    </tr>\n",
       "    <tr>\n",
       "      <th>max</th>\n",
       "      <td>1.000000</td>\n",
       "      <td>1.000000</td>\n",
       "      <td>1.584000e+06</td>\n",
       "      <td>1.000000</td>\n",
       "      <td>161.000000</td>\n",
       "      <td>1.000000</td>\n",
       "    </tr>\n",
       "  </tbody>\n",
       "</table>\n",
       "</div>"
      ],
      "text/plain": [
       "       cellphone_in_use   intersection      distance  vehicle_transmission  \\\n",
       "count     109429.000000  109429.000000  1.094290e+05         109429.000000   \n",
       "mean           0.019401       0.227252  7.620494e+02              0.477113   \n",
       "std            0.137929       0.419059  7.170042e+03              0.499478   \n",
       "min            0.000000       0.000000  0.000000e+00              0.000000   \n",
       "25%            0.000000       0.000000  5.000000e+00              0.000000   \n",
       "50%            0.000000       0.000000  1.300000e+02              0.000000   \n",
       "75%            0.000000       0.000000  5.280000e+02              1.000000   \n",
       "max            1.000000       1.000000  1.584000e+06              1.000000   \n",
       "\n",
       "         vehicle_age       at_fault  \n",
       "count  109429.000000  109429.000000  \n",
       "mean        4.906405       0.471347  \n",
       "std         3.270605       0.499181  \n",
       "min         0.000000       0.000000  \n",
       "25%         3.000000       0.000000  \n",
       "50%         4.000000       0.000000  \n",
       "75%         7.000000       1.000000  \n",
       "max       161.000000       1.000000  "
      ]
     },
     "execution_count": 23,
     "metadata": {},
     "output_type": "execute_result"
    }
   ],
   "source": [
    "df_dropped.describe()"
   ]
  },
  {
   "cell_type": "code",
   "execution_count": 24,
   "id": "84016c36",
   "metadata": {},
   "outputs": [
    {
     "data": {
      "image/png": "[encoded data removed]",
      "text/plain": [
       "<Figure size 1008x648 with 1 Axes>"
      ]
     },
     "metadata": {
      "needs_background": "light"
     },
     "output_type": "display_data"
    },
    {
     "data": {
      "text/plain": [
       "<AxesSubplot:xlabel='vehicle_age', ylabel='Count'>"
      ]
     },
     "execution_count": 24,
     "metadata": {},
     "output_type": "execute_result"
    },
    {
     "data": {
      "image/png": "[encoded data removed]",
      "text/plain": [
       "<Figure size 432x288 with 1 Axes>"
      ]
     },
     "metadata": {
      "needs_background": "light"
     },
     "output_type": "display_data"
    }
   ],
   "source": [
    "fig,ax = plt.subplots(figsize=(14,9))\n",
    "sns.boxplot(y=df_dropped['vehicle_age'],palette='magma').set_title('Возраст автомобиля')\n",
    "plt.show()\n",
    "sns.histplot(df_dropped['vehicle_age'])"
   ]
  },
  {
   "cell_type": "code",
   "execution_count": 25,
   "id": "3e8ad1ed",
   "metadata": {},
   "outputs": [
    {
     "data": {
      "text/plain": [
       "party_drug_physical            4\n",
       "county_city_location           4\n",
       "primary_collision_factor       4\n",
       "collision_damage               4\n",
       "pcf_violation_category         4\n",
       "type_of_collision              4\n",
       "control_device                 4\n",
       "party_type                     4\n",
       "motor_vehicle_involved_with    4\n",
       "party_sobriety                 4\n",
       "cellphone_in_use               4\n",
       "intersection                   4\n",
       "weather_1                      4\n",
       "road_surface                   4\n",
       "lighting                       4\n",
       "distance                       4\n",
       "road_condition_1               4\n",
       "vehicle_type                   4\n",
       "vehicle_transmission           4\n",
       "vehicle_age                    4\n",
       "at_fault                       4\n",
       "dtype: int64"
      ]
     },
     "execution_count": 25,
     "metadata": {},
     "output_type": "execute_result"
    }
   ],
   "source": [
    "df_dropped.query('vehicle_age>30').count()"
   ]
  },
  {
   "cell_type": "code",
   "execution_count": 26,
   "id": "a5e1c5da",
   "metadata": {},
   "outputs": [
    {
     "data": {
      "text/plain": [
       "0.003575099432452965"
      ]
     },
     "execution_count": 26,
     "metadata": {},
     "output_type": "execute_result"
    }
   ],
   "source": [
    "4/111885*100"
   ]
  },
  {
   "cell_type": "markdown",
   "id": "1485ff01",
   "metadata": {},
   "source": [
    "Исходя из данных и графика мы видим что существуют аномально высокие значение в более чем 100 лет, можно удалить их, плюс их и очень мало (4 штуки), что составляет всего 0.0036% данных\n"
   ]
  },
  {
   "cell_type": "code",
   "execution_count": 27,
   "id": "c93f7053",
   "metadata": {},
   "outputs": [],
   "source": [
    "df_dropped = df_dropped.query('vehicle_age<30')"
   ]
  },
  {
   "cell_type": "code",
   "execution_count": 28,
   "id": "c6ba13e9",
   "metadata": {},
   "outputs": [
    {
     "data": {
      "image/png": "[encoded data removed]",
      "text/plain": [
       "<Figure size 1008x648 with 1 Axes>"
      ]
     },
     "metadata": {
      "needs_background": "light"
     },
     "output_type": "display_data"
    }
   ],
   "source": [
    "fig,ax = plt.subplots(figsize=(14,9))\n",
    "sns.boxplot(y=df_dropped['distance'],palette='magma').set_title('Дистанция от главной дороги')\n",
    "plt.show()"
   ]
  },
  {
   "cell_type": "code",
   "execution_count": 29,
   "id": "e1de95ef",
   "metadata": {},
   "outputs": [
    {
     "data": {
      "text/plain": [
       "party_drug_physical            9311\n",
       "county_city_location           9311\n",
       "primary_collision_factor       9311\n",
       "collision_damage               9311\n",
       "pcf_violation_category         9311\n",
       "type_of_collision              9311\n",
       "control_device                 9311\n",
       "party_type                     9311\n",
       "motor_vehicle_involved_with    9311\n",
       "party_sobriety                 9311\n",
       "cellphone_in_use               9311\n",
       "intersection                   9311\n",
       "weather_1                      9311\n",
       "road_surface                   9311\n",
       "lighting                       9311\n",
       "distance                       9311\n",
       "road_condition_1               9311\n",
       "vehicle_type                   9311\n",
       "vehicle_transmission           9311\n",
       "vehicle_age                    9311\n",
       "at_fault                       9311\n",
       "dtype: int64"
      ]
     },
     "execution_count": 29,
     "metadata": {},
     "output_type": "execute_result"
    }
   ],
   "source": [
    "df_dropped.query('distance>2000').count()"
   ]
  },
  {
   "cell_type": "code",
   "execution_count": 30,
   "id": "7bff6035",
   "metadata": {},
   "outputs": [
    {
     "data": {
      "text/plain": [
       "8.405058765696921"
      ]
     },
     "execution_count": 30,
     "metadata": {},
     "output_type": "execute_result"
    }
   ],
   "source": [
    "9404/111885*100"
   ]
  },
  {
   "cell_type": "code",
   "execution_count": 31,
   "id": "f652edae",
   "metadata": {},
   "outputs": [
    {
     "data": {
      "text/plain": [
       "party_drug_physical            1081\n",
       "county_city_location           1081\n",
       "primary_collision_factor       1081\n",
       "collision_damage               1081\n",
       "pcf_violation_category         1081\n",
       "type_of_collision              1081\n",
       "control_device                 1081\n",
       "party_type                     1081\n",
       "motor_vehicle_involved_with    1081\n",
       "party_sobriety                 1081\n",
       "cellphone_in_use               1081\n",
       "intersection                   1081\n",
       "weather_1                      1081\n",
       "road_surface                   1081\n",
       "lighting                       1081\n",
       "distance                       1081\n",
       "road_condition_1               1081\n",
       "vehicle_type                   1081\n",
       "vehicle_transmission           1081\n",
       "vehicle_age                    1081\n",
       "at_fault                       1081\n",
       "dtype: int64"
      ]
     },
     "execution_count": 31,
     "metadata": {},
     "output_type": "execute_result"
    }
   ],
   "source": [
    "df_dropped.query('distance>10000').count()"
   ]
  },
  {
   "cell_type": "code",
   "execution_count": 32,
   "id": "a420d90b",
   "metadata": {},
   "outputs": [
    {
     "data": {
      "text/plain": [
       "0.9679581713366404"
      ]
     },
     "execution_count": 32,
     "metadata": {},
     "output_type": "execute_result"
    }
   ],
   "source": [
    "1083/111885*100"
   ]
  },
  {
   "cell_type": "markdown",
   "id": "b85cbc1d",
   "metadata": {},
   "source": [
    "Исходя из графика все значения дистанции от главной дороги более 2000 метров можно считать аномальными, но мы не можем их удалить, так как потеряем слишком много данных (8,4%) следовательно надо удалить меньеше количество поэтому за аномальные значения примем все поездки где главная дорога находилась более чем в 10км. (0,97% данных)"
   ]
  },
  {
   "cell_type": "code",
   "execution_count": 33,
   "id": "016c2859",
   "metadata": {},
   "outputs": [],
   "source": [
    "df_dropped = df_dropped.query('distance<10000')"
   ]
  },
  {
   "cell_type": "code",
   "execution_count": 34,
   "id": "ef11896c",
   "metadata": {},
   "outputs": [
    {
     "data": {
      "text/plain": [
       "3.164856772578986"
      ]
     },
     "execution_count": 34,
     "metadata": {},
     "output_type": "execute_result"
    }
   ],
   "source": [
    "100-(df_dropped['vehicle_age'].count()/111885*100)"
   ]
  },
  {
   "cell_type": "markdown",
   "id": "285eb8d1",
   "metadata": {},
   "source": [
    "После удаления всех аномальных значений мы потеряли 3,165% данных"
   ]
  },
  {
   "cell_type": "code",
   "execution_count": 35,
   "id": "cef33373",
   "metadata": {},
   "outputs": [
    {
     "data": {
      "text/html": [
       "<div>\n",
       "<style scoped>\n",
       "    .dataframe tbody tr th:only-of-type {\n",
       "        vertical-align: middle;\n",
       "    }\n",
       "\n",
       "    .dataframe tbody tr th {\n",
       "        vertical-align: top;\n",
       "    }\n",
       "\n",
       "    .dataframe thead th {\n",
       "        text-align: right;\n",
       "    }\n",
       "</style>\n",
       "<table border=\"1\" class=\"dataframe\">\n",
       "  <thead>\n",
       "    <tr style=\"text-align: right;\">\n",
       "      <th></th>\n",
       "      <th>cellphone_in_use</th>\n",
       "      <th>intersection</th>\n",
       "      <th>distance</th>\n",
       "      <th>vehicle_transmission</th>\n",
       "      <th>vehicle_age</th>\n",
       "      <th>at_fault</th>\n",
       "    </tr>\n",
       "  </thead>\n",
       "  <tbody>\n",
       "    <tr>\n",
       "      <th>cellphone_in_use</th>\n",
       "      <td>1.000000</td>\n",
       "      <td>-0.022438</td>\n",
       "      <td>0.008234</td>\n",
       "      <td>-0.000058</td>\n",
       "      <td>-0.005312</td>\n",
       "      <td>0.003820</td>\n",
       "    </tr>\n",
       "    <tr>\n",
       "      <th>intersection</th>\n",
       "      <td>-0.022438</td>\n",
       "      <td>1.000000</td>\n",
       "      <td>-0.271607</td>\n",
       "      <td>0.006712</td>\n",
       "      <td>0.017908</td>\n",
       "      <td>-0.015705</td>\n",
       "    </tr>\n",
       "    <tr>\n",
       "      <th>distance</th>\n",
       "      <td>0.008234</td>\n",
       "      <td>-0.271607</td>\n",
       "      <td>1.000000</td>\n",
       "      <td>-0.024862</td>\n",
       "      <td>0.043527</td>\n",
       "      <td>0.026385</td>\n",
       "    </tr>\n",
       "    <tr>\n",
       "      <th>vehicle_transmission</th>\n",
       "      <td>-0.000058</td>\n",
       "      <td>0.006712</td>\n",
       "      <td>-0.024862</td>\n",
       "      <td>1.000000</td>\n",
       "      <td>0.049920</td>\n",
       "      <td>-0.025768</td>\n",
       "    </tr>\n",
       "    <tr>\n",
       "      <th>vehicle_age</th>\n",
       "      <td>-0.005312</td>\n",
       "      <td>0.017908</td>\n",
       "      <td>0.043527</td>\n",
       "      <td>0.049920</td>\n",
       "      <td>1.000000</td>\n",
       "      <td>-0.011422</td>\n",
       "    </tr>\n",
       "    <tr>\n",
       "      <th>at_fault</th>\n",
       "      <td>0.003820</td>\n",
       "      <td>-0.015705</td>\n",
       "      <td>0.026385</td>\n",
       "      <td>-0.025768</td>\n",
       "      <td>-0.011422</td>\n",
       "      <td>1.000000</td>\n",
       "    </tr>\n",
       "  </tbody>\n",
       "</table>\n",
       "</div>"
      ],
      "text/plain": [
       "                      cellphone_in_use  intersection  distance  \\\n",
       "cellphone_in_use              1.000000     -0.022438  0.008234   \n",
       "intersection                 -0.022438      1.000000 -0.271607   \n",
       "distance                      0.008234     -0.271607  1.000000   \n",
       "vehicle_transmission         -0.000058      0.006712 -0.024862   \n",
       "vehicle_age                  -0.005312      0.017908  0.043527   \n",
       "at_fault                      0.003820     -0.015705  0.026385   \n",
       "\n",
       "                      vehicle_transmission  vehicle_age  at_fault  \n",
       "cellphone_in_use                 -0.000058    -0.005312  0.003820  \n",
       "intersection                      0.006712     0.017908 -0.015705  \n",
       "distance                         -0.024862     0.043527  0.026385  \n",
       "vehicle_transmission              1.000000     0.049920 -0.025768  \n",
       "vehicle_age                       0.049920     1.000000 -0.011422  \n",
       "at_fault                         -0.025768    -0.011422  1.000000  "
      ]
     },
     "execution_count": 35,
     "metadata": {},
     "output_type": "execute_result"
    }
   ],
   "source": [
    "df_dropped.corr()"
   ]
  },
  {
   "cell_type": "markdown",
   "id": "dad0d0c6",
   "metadata": {},
   "source": [
    "Исходя из корреляционной матрицы можем сделать вывод, что наличие телефона в автомобиле практически не влияет на аварии, можем попробовать убрать этот столбец, чтобы модель улучшилась"
   ]
  },
  {
   "cell_type": "code",
   "execution_count": 36,
   "id": "07bcd26a",
   "metadata": {},
   "outputs": [],
   "source": [
    "df_dropped_2 = df_dropped.drop('cellphone_in_use',axis=1)"
   ]
  },
  {
   "cell_type": "code",
   "execution_count": 37,
   "id": "d44c4f94",
   "metadata": {},
   "outputs": [
    {
     "data": {
      "text/html": [
       "<div>\n",
       "<style scoped>\n",
       "    .dataframe tbody tr th:only-of-type {\n",
       "        vertical-align: middle;\n",
       "    }\n",
       "\n",
       "    .dataframe tbody tr th {\n",
       "        vertical-align: top;\n",
       "    }\n",
       "\n",
       "    .dataframe thead th {\n",
       "        text-align: right;\n",
       "    }\n",
       "</style>\n",
       "<table border=\"1\" class=\"dataframe\">\n",
       "  <thead>\n",
       "    <tr style=\"text-align: right;\">\n",
       "      <th></th>\n",
       "      <th>party_drug_physical</th>\n",
       "      <th>county_city_location</th>\n",
       "      <th>primary_collision_factor</th>\n",
       "      <th>collision_damage</th>\n",
       "      <th>pcf_violation_category</th>\n",
       "      <th>type_of_collision</th>\n",
       "      <th>control_device</th>\n",
       "      <th>party_type</th>\n",
       "      <th>motor_vehicle_involved_with</th>\n",
       "      <th>party_sobriety</th>\n",
       "      <th>intersection</th>\n",
       "      <th>weather_1</th>\n",
       "      <th>road_surface</th>\n",
       "      <th>lighting</th>\n",
       "      <th>distance</th>\n",
       "      <th>road_condition_1</th>\n",
       "      <th>vehicle_type</th>\n",
       "      <th>vehicle_transmission</th>\n",
       "      <th>vehicle_age</th>\n",
       "      <th>at_fault</th>\n",
       "    </tr>\n",
       "  </thead>\n",
       "  <tbody>\n",
       "    <tr>\n",
       "      <th>0</th>\n",
       "      <td>Not stated</td>\n",
       "      <td>3712</td>\n",
       "      <td>vehicle code violation</td>\n",
       "      <td>small damage</td>\n",
       "      <td>automobile right of way</td>\n",
       "      <td>broadside</td>\n",
       "      <td>none</td>\n",
       "      <td>car</td>\n",
       "      <td>other motor vehicle</td>\n",
       "      <td>had not been drinking</td>\n",
       "      <td>1.0</td>\n",
       "      <td>cloudy</td>\n",
       "      <td>dry</td>\n",
       "      <td>daylight</td>\n",
       "      <td>0.0</td>\n",
       "      <td>other</td>\n",
       "      <td>sedan</td>\n",
       "      <td>1.0</td>\n",
       "      <td>2.0</td>\n",
       "      <td>0</td>\n",
       "    </tr>\n",
       "    <tr>\n",
       "      <th>1</th>\n",
       "      <td>Not stated</td>\n",
       "      <td>3712</td>\n",
       "      <td>vehicle code violation</td>\n",
       "      <td>small damage</td>\n",
       "      <td>automobile right of way</td>\n",
       "      <td>broadside</td>\n",
       "      <td>none</td>\n",
       "      <td>car</td>\n",
       "      <td>other motor vehicle</td>\n",
       "      <td>had not been drinking</td>\n",
       "      <td>1.0</td>\n",
       "      <td>cloudy</td>\n",
       "      <td>dry</td>\n",
       "      <td>daylight</td>\n",
       "      <td>0.0</td>\n",
       "      <td>other</td>\n",
       "      <td>sedan</td>\n",
       "      <td>1.0</td>\n",
       "      <td>2.0</td>\n",
       "      <td>1</td>\n",
       "    </tr>\n",
       "    <tr>\n",
       "      <th>2</th>\n",
       "      <td>Not stated</td>\n",
       "      <td>3404</td>\n",
       "      <td>vehicle code violation</td>\n",
       "      <td>small damage</td>\n",
       "      <td>speeding</td>\n",
       "      <td>rear end</td>\n",
       "      <td>none</td>\n",
       "      <td>car</td>\n",
       "      <td>other motor vehicle</td>\n",
       "      <td>had not been drinking</td>\n",
       "      <td>1.0</td>\n",
       "      <td>clear</td>\n",
       "      <td>dry</td>\n",
       "      <td>daylight</td>\n",
       "      <td>0.0</td>\n",
       "      <td>normal</td>\n",
       "      <td>sedan</td>\n",
       "      <td>1.0</td>\n",
       "      <td>5.0</td>\n",
       "      <td>1</td>\n",
       "    </tr>\n",
       "    <tr>\n",
       "      <th>3</th>\n",
       "      <td>Not stated</td>\n",
       "      <td>3404</td>\n",
       "      <td>vehicle code violation</td>\n",
       "      <td>small damage</td>\n",
       "      <td>speeding</td>\n",
       "      <td>rear end</td>\n",
       "      <td>none</td>\n",
       "      <td>car</td>\n",
       "      <td>other motor vehicle</td>\n",
       "      <td>had not been drinking</td>\n",
       "      <td>1.0</td>\n",
       "      <td>clear</td>\n",
       "      <td>dry</td>\n",
       "      <td>daylight</td>\n",
       "      <td>0.0</td>\n",
       "      <td>normal</td>\n",
       "      <td>sedan</td>\n",
       "      <td>1.0</td>\n",
       "      <td>5.0</td>\n",
       "      <td>0</td>\n",
       "    </tr>\n",
       "    <tr>\n",
       "      <th>4</th>\n",
       "      <td>Not stated</td>\n",
       "      <td>3400</td>\n",
       "      <td>unknown</td>\n",
       "      <td>small damage</td>\n",
       "      <td>unknown</td>\n",
       "      <td>broadside</td>\n",
       "      <td>functioning</td>\n",
       "      <td>car</td>\n",
       "      <td>other motor vehicle</td>\n",
       "      <td>had not been drinking</td>\n",
       "      <td>1.0</td>\n",
       "      <td>clear</td>\n",
       "      <td>dry</td>\n",
       "      <td>daylight</td>\n",
       "      <td>0.0</td>\n",
       "      <td>normal</td>\n",
       "      <td>sedan</td>\n",
       "      <td>1.0</td>\n",
       "      <td>1.0</td>\n",
       "      <td>0</td>\n",
       "    </tr>\n",
       "    <tr>\n",
       "      <th>...</th>\n",
       "      <td>...</td>\n",
       "      <td>...</td>\n",
       "      <td>...</td>\n",
       "      <td>...</td>\n",
       "      <td>...</td>\n",
       "      <td>...</td>\n",
       "      <td>...</td>\n",
       "      <td>...</td>\n",
       "      <td>...</td>\n",
       "      <td>...</td>\n",
       "      <td>...</td>\n",
       "      <td>...</td>\n",
       "      <td>...</td>\n",
       "      <td>...</td>\n",
       "      <td>...</td>\n",
       "      <td>...</td>\n",
       "      <td>...</td>\n",
       "      <td>...</td>\n",
       "      <td>...</td>\n",
       "      <td>...</td>\n",
       "    </tr>\n",
       "    <tr>\n",
       "      <th>118406</th>\n",
       "      <td>Not stated</td>\n",
       "      <td>0109</td>\n",
       "      <td>vehicle code violation</td>\n",
       "      <td>small damage</td>\n",
       "      <td>automobile right of way</td>\n",
       "      <td>broadside</td>\n",
       "      <td>functioning</td>\n",
       "      <td>car</td>\n",
       "      <td>other motor vehicle</td>\n",
       "      <td>had not been drinking</td>\n",
       "      <td>1.0</td>\n",
       "      <td>clear</td>\n",
       "      <td>dry</td>\n",
       "      <td>daylight</td>\n",
       "      <td>0.0</td>\n",
       "      <td>normal</td>\n",
       "      <td>sedan</td>\n",
       "      <td>1.0</td>\n",
       "      <td>3.0</td>\n",
       "      <td>1</td>\n",
       "    </tr>\n",
       "    <tr>\n",
       "      <th>118407</th>\n",
       "      <td>Not stated</td>\n",
       "      <td>0109</td>\n",
       "      <td>vehicle code violation</td>\n",
       "      <td>small damage</td>\n",
       "      <td>automobile right of way</td>\n",
       "      <td>broadside</td>\n",
       "      <td>functioning</td>\n",
       "      <td>car</td>\n",
       "      <td>other motor vehicle</td>\n",
       "      <td>had not been drinking</td>\n",
       "      <td>1.0</td>\n",
       "      <td>clear</td>\n",
       "      <td>dry</td>\n",
       "      <td>daylight</td>\n",
       "      <td>0.0</td>\n",
       "      <td>normal</td>\n",
       "      <td>sedan</td>\n",
       "      <td>1.0</td>\n",
       "      <td>3.0</td>\n",
       "      <td>0</td>\n",
       "    </tr>\n",
       "    <tr>\n",
       "      <th>118408</th>\n",
       "      <td>Not stated</td>\n",
       "      <td>0109</td>\n",
       "      <td>vehicle code violation</td>\n",
       "      <td>small damage</td>\n",
       "      <td>traffic signals and signs</td>\n",
       "      <td>broadside</td>\n",
       "      <td>functioning</td>\n",
       "      <td>car</td>\n",
       "      <td>other motor vehicle</td>\n",
       "      <td>had not been drinking</td>\n",
       "      <td>1.0</td>\n",
       "      <td>clear</td>\n",
       "      <td>dry</td>\n",
       "      <td>daylight</td>\n",
       "      <td>0.0</td>\n",
       "      <td>normal</td>\n",
       "      <td>sedan</td>\n",
       "      <td>1.0</td>\n",
       "      <td>7.0</td>\n",
       "      <td>1</td>\n",
       "    </tr>\n",
       "    <tr>\n",
       "      <th>118409</th>\n",
       "      <td>Not stated</td>\n",
       "      <td>0109</td>\n",
       "      <td>vehicle code violation</td>\n",
       "      <td>small damage</td>\n",
       "      <td>traffic signals and signs</td>\n",
       "      <td>broadside</td>\n",
       "      <td>functioning</td>\n",
       "      <td>car</td>\n",
       "      <td>other motor vehicle</td>\n",
       "      <td>had not been drinking</td>\n",
       "      <td>1.0</td>\n",
       "      <td>clear</td>\n",
       "      <td>dry</td>\n",
       "      <td>daylight</td>\n",
       "      <td>0.0</td>\n",
       "      <td>normal</td>\n",
       "      <td>sedan</td>\n",
       "      <td>1.0</td>\n",
       "      <td>7.0</td>\n",
       "      <td>0</td>\n",
       "    </tr>\n",
       "    <tr>\n",
       "      <th>118410</th>\n",
       "      <td>Not stated</td>\n",
       "      <td>1944</td>\n",
       "      <td>vehicle code violation</td>\n",
       "      <td>small damage</td>\n",
       "      <td>dui</td>\n",
       "      <td>sideswipe</td>\n",
       "      <td>none</td>\n",
       "      <td>car</td>\n",
       "      <td>other motor vehicle</td>\n",
       "      <td>had been drinking, under influence</td>\n",
       "      <td>0.0</td>\n",
       "      <td>clear</td>\n",
       "      <td>dry</td>\n",
       "      <td>dark with street lights</td>\n",
       "      <td>18.0</td>\n",
       "      <td>normal</td>\n",
       "      <td>sedan</td>\n",
       "      <td>0.0</td>\n",
       "      <td>8.0</td>\n",
       "      <td>1</td>\n",
       "    </tr>\n",
       "  </tbody>\n",
       "</table>\n",
       "<p>108344 rows × 20 columns</p>\n",
       "</div>"
      ],
      "text/plain": [
       "       party_drug_physical county_city_location primary_collision_factor  \\\n",
       "0               Not stated                 3712   vehicle code violation   \n",
       "1               Not stated                 3712   vehicle code violation   \n",
       "2               Not stated                 3404   vehicle code violation   \n",
       "3               Not stated                 3404   vehicle code violation   \n",
       "4               Not stated                 3400                  unknown   \n",
       "...                    ...                  ...                      ...   \n",
       "118406          Not stated                 0109   vehicle code violation   \n",
       "118407          Not stated                 0109   vehicle code violation   \n",
       "118408          Not stated                 0109   vehicle code violation   \n",
       "118409          Not stated                 0109   vehicle code violation   \n",
       "118410          Not stated                 1944   vehicle code violation   \n",
       "\n",
       "       collision_damage     pcf_violation_category type_of_collision  \\\n",
       "0          small damage    automobile right of way         broadside   \n",
       "1          small damage    automobile right of way         broadside   \n",
       "2          small damage                   speeding          rear end   \n",
       "3          small damage                   speeding          rear end   \n",
       "4          small damage                    unknown         broadside   \n",
       "...                 ...                        ...               ...   \n",
       "118406     small damage    automobile right of way         broadside   \n",
       "118407     small damage    automobile right of way         broadside   \n",
       "118408     small damage  traffic signals and signs         broadside   \n",
       "118409     small damage  traffic signals and signs         broadside   \n",
       "118410     small damage                        dui         sideswipe   \n",
       "\n",
       "       control_device party_type motor_vehicle_involved_with  \\\n",
       "0                none        car         other motor vehicle   \n",
       "1                none        car         other motor vehicle   \n",
       "2                none        car         other motor vehicle   \n",
       "3                none        car         other motor vehicle   \n",
       "4         functioning        car         other motor vehicle   \n",
       "...               ...        ...                         ...   \n",
       "118406    functioning        car         other motor vehicle   \n",
       "118407    functioning        car         other motor vehicle   \n",
       "118408    functioning        car         other motor vehicle   \n",
       "118409    functioning        car         other motor vehicle   \n",
       "118410           none        car         other motor vehicle   \n",
       "\n",
       "                            party_sobriety  intersection weather_1  \\\n",
       "0                    had not been drinking           1.0    cloudy   \n",
       "1                    had not been drinking           1.0    cloudy   \n",
       "2                    had not been drinking           1.0     clear   \n",
       "3                    had not been drinking           1.0     clear   \n",
       "4                    had not been drinking           1.0     clear   \n",
       "...                                    ...           ...       ...   \n",
       "118406               had not been drinking           1.0     clear   \n",
       "118407               had not been drinking           1.0     clear   \n",
       "118408               had not been drinking           1.0     clear   \n",
       "118409               had not been drinking           1.0     clear   \n",
       "118410  had been drinking, under influence           0.0     clear   \n",
       "\n",
       "       road_surface                 lighting  distance road_condition_1  \\\n",
       "0               dry                 daylight       0.0            other   \n",
       "1               dry                 daylight       0.0            other   \n",
       "2               dry                 daylight       0.0           normal   \n",
       "3               dry                 daylight       0.0           normal   \n",
       "4               dry                 daylight       0.0           normal   \n",
       "...             ...                      ...       ...              ...   \n",
       "118406          dry                 daylight       0.0           normal   \n",
       "118407          dry                 daylight       0.0           normal   \n",
       "118408          dry                 daylight       0.0           normal   \n",
       "118409          dry                 daylight       0.0           normal   \n",
       "118410          dry  dark with street lights      18.0           normal   \n",
       "\n",
       "       vehicle_type  vehicle_transmission  vehicle_age  at_fault  \n",
       "0             sedan                   1.0          2.0         0  \n",
       "1             sedan                   1.0          2.0         1  \n",
       "2             sedan                   1.0          5.0         1  \n",
       "3             sedan                   1.0          5.0         0  \n",
       "4             sedan                   1.0          1.0         0  \n",
       "...             ...                   ...          ...       ...  \n",
       "118406        sedan                   1.0          3.0         1  \n",
       "118407        sedan                   1.0          3.0         0  \n",
       "118408        sedan                   1.0          7.0         1  \n",
       "118409        sedan                   1.0          7.0         0  \n",
       "118410        sedan                   0.0          8.0         1  \n",
       "\n",
       "[108344 rows x 20 columns]"
      ]
     },
     "execution_count": 37,
     "metadata": {},
     "output_type": "execute_result"
    }
   ],
   "source": [
    "df_dropped_2"
   ]
  },
  {
   "cell_type": "markdown",
   "id": "4c4b9e48",
   "metadata": {},
   "source": [
    "#### Подготовка данных к обучению"
   ]
  },
  {
   "cell_type": "code",
   "execution_count": 38,
   "id": "f69b92a4",
   "metadata": {},
   "outputs": [],
   "source": [
    "target = df_dropped_2['at_fault']\n",
    "features = df_dropped_2.drop('at_fault',axis=1)"
   ]
  },
  {
   "cell_type": "code",
   "execution_count": 39,
   "id": "7b3bf620",
   "metadata": {},
   "outputs": [],
   "source": [
    "train_features, test_features, train_target, test_target = train_test_split(\n",
    "    features, \n",
    "    target, \n",
    "    test_size=0.3, \n",
    "    shuffle=True,\n",
    "    random_state=42)"
   ]
  },
  {
   "cell_type": "code",
   "execution_count": 40,
   "id": "baa0bde2",
   "metadata": {},
   "outputs": [
    {
     "data": {
      "text/html": [
       "<div>\n",
       "<style scoped>\n",
       "    .dataframe tbody tr th:only-of-type {\n",
       "        vertical-align: middle;\n",
       "    }\n",
       "\n",
       "    .dataframe tbody tr th {\n",
       "        vertical-align: top;\n",
       "    }\n",
       "\n",
       "    .dataframe thead th {\n",
       "        text-align: right;\n",
       "    }\n",
       "</style>\n",
       "<table border=\"1\" class=\"dataframe\">\n",
       "  <thead>\n",
       "    <tr style=\"text-align: right;\">\n",
       "      <th></th>\n",
       "      <th>party_drug_physical</th>\n",
       "      <th>county_city_location</th>\n",
       "      <th>primary_collision_factor</th>\n",
       "      <th>collision_damage</th>\n",
       "      <th>pcf_violation_category</th>\n",
       "      <th>type_of_collision</th>\n",
       "      <th>control_device</th>\n",
       "      <th>party_type</th>\n",
       "      <th>motor_vehicle_involved_with</th>\n",
       "      <th>party_sobriety</th>\n",
       "      <th>intersection</th>\n",
       "      <th>weather_1</th>\n",
       "      <th>road_surface</th>\n",
       "      <th>lighting</th>\n",
       "      <th>distance</th>\n",
       "      <th>road_condition_1</th>\n",
       "      <th>vehicle_type</th>\n",
       "      <th>vehicle_transmission</th>\n",
       "      <th>vehicle_age</th>\n",
       "    </tr>\n",
       "  </thead>\n",
       "  <tbody>\n",
       "    <tr>\n",
       "      <th>45187</th>\n",
       "      <td>Not stated</td>\n",
       "      <td>1942</td>\n",
       "      <td>vehicle code violation</td>\n",
       "      <td>middle damage</td>\n",
       "      <td>speeding</td>\n",
       "      <td>rear end</td>\n",
       "      <td>none</td>\n",
       "      <td>car</td>\n",
       "      <td>other motor vehicle</td>\n",
       "      <td>had not been drinking</td>\n",
       "      <td>0.0</td>\n",
       "      <td>clear</td>\n",
       "      <td>dry</td>\n",
       "      <td>daylight</td>\n",
       "      <td>829.0</td>\n",
       "      <td>normal</td>\n",
       "      <td>coupe</td>\n",
       "      <td>0.0</td>\n",
       "      <td>9.0</td>\n",
       "    </tr>\n",
       "    <tr>\n",
       "      <th>6290</th>\n",
       "      <td>Not stated</td>\n",
       "      <td>5100</td>\n",
       "      <td>vehicle code violation</td>\n",
       "      <td>small damage</td>\n",
       "      <td>speeding</td>\n",
       "      <td>rear end</td>\n",
       "      <td>functioning</td>\n",
       "      <td>car</td>\n",
       "      <td>other motor vehicle</td>\n",
       "      <td>had not been drinking</td>\n",
       "      <td>1.0</td>\n",
       "      <td>clear</td>\n",
       "      <td>dry</td>\n",
       "      <td>daylight</td>\n",
       "      <td>0.0</td>\n",
       "      <td>normal</td>\n",
       "      <td>sedan</td>\n",
       "      <td>0.0</td>\n",
       "      <td>8.0</td>\n",
       "    </tr>\n",
       "    <tr>\n",
       "      <th>51529</th>\n",
       "      <td>Not stated</td>\n",
       "      <td>4400</td>\n",
       "      <td>vehicle code violation</td>\n",
       "      <td>severe damage</td>\n",
       "      <td>speeding</td>\n",
       "      <td>rear end</td>\n",
       "      <td>none</td>\n",
       "      <td>car</td>\n",
       "      <td>other motor vehicle</td>\n",
       "      <td>had not been drinking</td>\n",
       "      <td>0.0</td>\n",
       "      <td>clear</td>\n",
       "      <td>dry</td>\n",
       "      <td>daylight</td>\n",
       "      <td>528.0</td>\n",
       "      <td>normal</td>\n",
       "      <td>sedan</td>\n",
       "      <td>1.0</td>\n",
       "      <td>4.0</td>\n",
       "    </tr>\n",
       "    <tr>\n",
       "      <th>79172</th>\n",
       "      <td>Not stated</td>\n",
       "      <td>1900</td>\n",
       "      <td>vehicle code violation</td>\n",
       "      <td>small damage</td>\n",
       "      <td>improper turning</td>\n",
       "      <td>sideswipe</td>\n",
       "      <td>none</td>\n",
       "      <td>car</td>\n",
       "      <td>other motor vehicle</td>\n",
       "      <td>had not been drinking</td>\n",
       "      <td>0.0</td>\n",
       "      <td>clear</td>\n",
       "      <td>dry</td>\n",
       "      <td>daylight</td>\n",
       "      <td>1000.0</td>\n",
       "      <td>normal</td>\n",
       "      <td>sedan</td>\n",
       "      <td>0.0</td>\n",
       "      <td>6.0</td>\n",
       "    </tr>\n",
       "    <tr>\n",
       "      <th>83725</th>\n",
       "      <td>Not stated</td>\n",
       "      <td>1502</td>\n",
       "      <td>vehicle code violation</td>\n",
       "      <td>middle damage</td>\n",
       "      <td>speeding</td>\n",
       "      <td>rear end</td>\n",
       "      <td>none</td>\n",
       "      <td>car</td>\n",
       "      <td>other motor vehicle</td>\n",
       "      <td>had not been drinking</td>\n",
       "      <td>0.0</td>\n",
       "      <td>clear</td>\n",
       "      <td>dry</td>\n",
       "      <td>daylight</td>\n",
       "      <td>365.0</td>\n",
       "      <td>normal</td>\n",
       "      <td>coupe</td>\n",
       "      <td>1.0</td>\n",
       "      <td>4.0</td>\n",
       "    </tr>\n",
       "    <tr>\n",
       "      <th>...</th>\n",
       "      <td>...</td>\n",
       "      <td>...</td>\n",
       "      <td>...</td>\n",
       "      <td>...</td>\n",
       "      <td>...</td>\n",
       "      <td>...</td>\n",
       "      <td>...</td>\n",
       "      <td>...</td>\n",
       "      <td>...</td>\n",
       "      <td>...</td>\n",
       "      <td>...</td>\n",
       "      <td>...</td>\n",
       "      <td>...</td>\n",
       "      <td>...</td>\n",
       "      <td>...</td>\n",
       "      <td>...</td>\n",
       "      <td>...</td>\n",
       "      <td>...</td>\n",
       "      <td>...</td>\n",
       "    </tr>\n",
       "    <tr>\n",
       "      <th>59935</th>\n",
       "      <td>Not stated</td>\n",
       "      <td>5608</td>\n",
       "      <td>vehicle code violation</td>\n",
       "      <td>small damage</td>\n",
       "      <td>unsafe lane change</td>\n",
       "      <td>sideswipe</td>\n",
       "      <td>none</td>\n",
       "      <td>car</td>\n",
       "      <td>other motor vehicle</td>\n",
       "      <td>had not been drinking</td>\n",
       "      <td>0.0</td>\n",
       "      <td>clear</td>\n",
       "      <td>dry</td>\n",
       "      <td>daylight</td>\n",
       "      <td>1056.0</td>\n",
       "      <td>normal</td>\n",
       "      <td>sedan</td>\n",
       "      <td>1.0</td>\n",
       "      <td>1.0</td>\n",
       "    </tr>\n",
       "    <tr>\n",
       "      <th>83966</th>\n",
       "      <td>Not stated</td>\n",
       "      <td>2400</td>\n",
       "      <td>vehicle code violation</td>\n",
       "      <td>small damage</td>\n",
       "      <td>automobile right of way</td>\n",
       "      <td>broadside</td>\n",
       "      <td>none</td>\n",
       "      <td>car</td>\n",
       "      <td>other motor vehicle</td>\n",
       "      <td>had not been drinking</td>\n",
       "      <td>1.0</td>\n",
       "      <td>clear</td>\n",
       "      <td>dry</td>\n",
       "      <td>daylight</td>\n",
       "      <td>0.0</td>\n",
       "      <td>normal</td>\n",
       "      <td>sedan</td>\n",
       "      <td>1.0</td>\n",
       "      <td>10.0</td>\n",
       "    </tr>\n",
       "    <tr>\n",
       "      <th>113322</th>\n",
       "      <td>Not stated</td>\n",
       "      <td>4300</td>\n",
       "      <td>vehicle code violation</td>\n",
       "      <td>severe damage</td>\n",
       "      <td>dui</td>\n",
       "      <td>head-on</td>\n",
       "      <td>none</td>\n",
       "      <td>car</td>\n",
       "      <td>other motor vehicle</td>\n",
       "      <td>had not been drinking</td>\n",
       "      <td>0.0</td>\n",
       "      <td>clear</td>\n",
       "      <td>dry</td>\n",
       "      <td>dark with no street lights</td>\n",
       "      <td>670.0</td>\n",
       "      <td>normal</td>\n",
       "      <td>coupe</td>\n",
       "      <td>1.0</td>\n",
       "      <td>6.0</td>\n",
       "    </tr>\n",
       "    <tr>\n",
       "      <th>919</th>\n",
       "      <td>Not stated</td>\n",
       "      <td>3711</td>\n",
       "      <td>vehicle code violation</td>\n",
       "      <td>small damage</td>\n",
       "      <td>speeding</td>\n",
       "      <td>rear end</td>\n",
       "      <td>none</td>\n",
       "      <td>car</td>\n",
       "      <td>other motor vehicle</td>\n",
       "      <td>had not been drinking</td>\n",
       "      <td>0.0</td>\n",
       "      <td>clear</td>\n",
       "      <td>dry</td>\n",
       "      <td>daylight</td>\n",
       "      <td>800.0</td>\n",
       "      <td>normal</td>\n",
       "      <td>sedan</td>\n",
       "      <td>1.0</td>\n",
       "      <td>0.0</td>\n",
       "    </tr>\n",
       "    <tr>\n",
       "      <th>17181</th>\n",
       "      <td>Not stated</td>\n",
       "      <td>3009</td>\n",
       "      <td>vehicle code violation</td>\n",
       "      <td>small damage</td>\n",
       "      <td>speeding</td>\n",
       "      <td>rear end</td>\n",
       "      <td>none</td>\n",
       "      <td>car</td>\n",
       "      <td>other motor vehicle</td>\n",
       "      <td>had not been drinking</td>\n",
       "      <td>0.0</td>\n",
       "      <td>clear</td>\n",
       "      <td>dry</td>\n",
       "      <td>daylight</td>\n",
       "      <td>300.0</td>\n",
       "      <td>normal</td>\n",
       "      <td>sedan</td>\n",
       "      <td>0.0</td>\n",
       "      <td>0.0</td>\n",
       "    </tr>\n",
       "  </tbody>\n",
       "</table>\n",
       "<p>75840 rows × 19 columns</p>\n",
       "</div>"
      ],
      "text/plain": [
       "       party_drug_physical county_city_location primary_collision_factor  \\\n",
       "45187           Not stated                 1942   vehicle code violation   \n",
       "6290            Not stated                 5100   vehicle code violation   \n",
       "51529           Not stated                 4400   vehicle code violation   \n",
       "79172           Not stated                 1900   vehicle code violation   \n",
       "83725           Not stated                 1502   vehicle code violation   \n",
       "...                    ...                  ...                      ...   \n",
       "59935           Not stated                 5608   vehicle code violation   \n",
       "83966           Not stated                 2400   vehicle code violation   \n",
       "113322          Not stated                 4300   vehicle code violation   \n",
       "919             Not stated                 3711   vehicle code violation   \n",
       "17181           Not stated                 3009   vehicle code violation   \n",
       "\n",
       "       collision_damage   pcf_violation_category type_of_collision  \\\n",
       "45187     middle damage                 speeding          rear end   \n",
       "6290       small damage                 speeding          rear end   \n",
       "51529     severe damage                 speeding          rear end   \n",
       "79172      small damage         improper turning         sideswipe   \n",
       "83725     middle damage                 speeding          rear end   \n",
       "...                 ...                      ...               ...   \n",
       "59935      small damage       unsafe lane change         sideswipe   \n",
       "83966      small damage  automobile right of way         broadside   \n",
       "113322    severe damage                      dui           head-on   \n",
       "919        small damage                 speeding          rear end   \n",
       "17181      small damage                 speeding          rear end   \n",
       "\n",
       "       control_device party_type motor_vehicle_involved_with  \\\n",
       "45187            none        car         other motor vehicle   \n",
       "6290      functioning        car         other motor vehicle   \n",
       "51529            none        car         other motor vehicle   \n",
       "79172            none        car         other motor vehicle   \n",
       "83725            none        car         other motor vehicle   \n",
       "...               ...        ...                         ...   \n",
       "59935            none        car         other motor vehicle   \n",
       "83966            none        car         other motor vehicle   \n",
       "113322           none        car         other motor vehicle   \n",
       "919              none        car         other motor vehicle   \n",
       "17181            none        car         other motor vehicle   \n",
       "\n",
       "               party_sobriety  intersection weather_1 road_surface  \\\n",
       "45187   had not been drinking           0.0     clear          dry   \n",
       "6290    had not been drinking           1.0     clear          dry   \n",
       "51529   had not been drinking           0.0     clear          dry   \n",
       "79172   had not been drinking           0.0     clear          dry   \n",
       "83725   had not been drinking           0.0     clear          dry   \n",
       "...                       ...           ...       ...          ...   \n",
       "59935   had not been drinking           0.0     clear          dry   \n",
       "83966   had not been drinking           1.0     clear          dry   \n",
       "113322  had not been drinking           0.0     clear          dry   \n",
       "919     had not been drinking           0.0     clear          dry   \n",
       "17181   had not been drinking           0.0     clear          dry   \n",
       "\n",
       "                          lighting  distance road_condition_1 vehicle_type  \\\n",
       "45187                     daylight     829.0           normal        coupe   \n",
       "6290                      daylight       0.0           normal        sedan   \n",
       "51529                     daylight     528.0           normal        sedan   \n",
       "79172                     daylight    1000.0           normal        sedan   \n",
       "83725                     daylight     365.0           normal        coupe   \n",
       "...                            ...       ...              ...          ...   \n",
       "59935                     daylight    1056.0           normal        sedan   \n",
       "83966                     daylight       0.0           normal        sedan   \n",
       "113322  dark with no street lights     670.0           normal        coupe   \n",
       "919                       daylight     800.0           normal        sedan   \n",
       "17181                     daylight     300.0           normal        sedan   \n",
       "\n",
       "        vehicle_transmission  vehicle_age  \n",
       "45187                    0.0          9.0  \n",
       "6290                     0.0          8.0  \n",
       "51529                    1.0          4.0  \n",
       "79172                    0.0          6.0  \n",
       "83725                    1.0          4.0  \n",
       "...                      ...          ...  \n",
       "59935                    1.0          1.0  \n",
       "83966                    1.0         10.0  \n",
       "113322                   1.0          6.0  \n",
       "919                      1.0          0.0  \n",
       "17181                    0.0          0.0  \n",
       "\n",
       "[75840 rows x 19 columns]"
      ]
     },
     "execution_count": 40,
     "metadata": {},
     "output_type": "execute_result"
    }
   ],
   "source": [
    "train_features"
   ]
  },
  {
   "cell_type": "code",
   "execution_count": 41,
   "id": "b4fe166d",
   "metadata": {},
   "outputs": [],
   "source": [
    "categoric = ['party_sobriety','intersection','weather_1','road_surface',\n",
    "            'lighting','road_condition_1','vehicle_type','vehicle_transmission','party_drug_physical','primary_collision_factor','collision_damage','pcf_violation_category','type_of_collision','control_device','party_type','motor_vehicle_involved_with']\n",
    "numeric = ['vehicle_age','distance']\n",
    "\n",
    "encoder = OrdinalEncoder(handle_unknown='use_encoded_value',unknown_value = -1) #Порядковое кодирование для моделей RandomForest и DecisionTree\n",
    "encoder.fit(train_features[categoric]) \n",
    "train_features_cat = pd.DataFrame(encoder.transform(train_features[categoric]),columns=categoric,index=train_features.index) \n",
    "train_features_cat = train_features_cat.join(train_features[numeric])\n",
    "test_features_cat = pd.DataFrame(encoder.transform(test_features[categoric]),columns=categoric,index=test_features.index)\n",
    "test_features_cat = test_features_cat.join(test_features[numeric])\n",
    "\n",
    "onehot_encoder = OneHotEncoder(sparse=False, drop='first')\n",
    "onehot_encoder.fit(train_features[categoric])\n",
    "\n",
    "train_features_reg = onehot_encoder.transform(train_features[categoric]) #Прямое кодирование для модели LinearRegression\n",
    "train_features_reg = pd.DataFrame(train_features_reg, columns=onehot_encoder.get_feature_names(categoric),\\\n",
    "                                                                        index=train_features.index)\n",
    "train_features_reg = train_features_reg.join(train_features[numeric])\n",
    "\n",
    "test_features_reg = onehot_encoder.transform(test_features[categoric])\n",
    "test_features_reg = pd.DataFrame(test_features_reg, columns=onehot_encoder.get_feature_names(categoric),\\\n",
    "                                                                        index=test_features.index)\n",
    "test_features_reg = test_features_reg.join(test_features[numeric])"
   ]
  },
  {
   "cell_type": "code",
   "execution_count": 42,
   "id": "a045f71d",
   "metadata": {},
   "outputs": [],
   "source": [
    "columns = train_features_reg.columns"
   ]
  },
  {
   "cell_type": "code",
   "execution_count": 43,
   "id": "943bbc2c",
   "metadata": {},
   "outputs": [],
   "source": [
    "scaler = StandardScaler()\n",
    "\n",
    "\n",
    "scaler.fit(train_features_reg)\n",
    "train_features_reg = scaler.transform(train_features_reg)\n",
    "test_features_reg = scaler.transform(test_features_reg)"
   ]
  },
  {
   "cell_type": "markdown",
   "id": "2634dfd0",
   "metadata": {},
   "source": [
    "#### Обучение моделей"
   ]
  },
  {
   "cell_type": "markdown",
   "id": "c07bca62",
   "metadata": {},
   "source": [
    "При проведении оценки качества моделей будем использовать F-метрику"
   ]
  },
  {
   "cell_type": "code",
   "execution_count": 43,
   "id": "a139e15d",
   "metadata": {},
   "outputs": [],
   "source": [
    "best_depth_tree = -100\n",
    "best_depth_forest = -100\n",
    "best_est = -100\n",
    "best_score_tree=-100\n",
    "best_score_forest = -100\n",
    "best_score_regression = -100\n",
    "best_model_tree = None\n",
    "best_model_forest = None\n",
    "best_model_regression = None"
   ]
  },
  {
   "cell_type": "code",
   "execution_count": 44,
   "id": "396436ef",
   "metadata": {},
   "outputs": [
    {
     "name": "stdout",
     "output_type": "stream",
     "text": [
      "Fitting 6 folds for each of 29 candidates, totalling 174 fits\n"
     ]
    },
    {
     "data": {
      "text/plain": [
       "GridSearchCV(cv=6,\n",
       "             estimator=DecisionTreeClassifier(class_weight='balanced',\n",
       "                                              random_state=12345),\n",
       "             n_jobs=-1, param_grid={'max_depth': range(1, 30)}, scoring='f1',\n",
       "             verbose=True)"
      ]
     },
     "execution_count": 44,
     "metadata": {},
     "output_type": "execute_result"
    }
   ],
   "source": [
    "tree_model = DecisionTreeClassifier(random_state=12345,class_weight='balanced')\n",
    "tree_params = {'max_depth': range(1,30)}\n",
    "tree_grid = GridSearchCV(tree_model, tree_params, cv=6,n_jobs=-1,verbose=True,scoring='f1')\n",
    "tree_grid.fit(train_features_cat,train_target)"
   ]
  },
  {
   "cell_type": "code",
   "execution_count": 45,
   "id": "ef42f3d2",
   "metadata": {},
   "outputs": [
    {
     "name": "stdout",
     "output_type": "stream",
     "text": [
      "Лучшая модель дерева показала результат: 0.5695989027554799  при глубине дерева = {'max_depth': 6}\n"
     ]
    }
   ],
   "source": [
    "print('Лучшая модель дерева показала результат:',tree_grid.best_score_,' при глубине дерева =', tree_grid.best_params_)"
   ]
  },
  {
   "cell_type": "code",
   "execution_count": 46,
   "id": "51a7fa01",
   "metadata": {},
   "outputs": [
    {
     "name": "stdout",
     "output_type": "stream",
     "text": [
      "Fitting 6 folds for each of 55 candidates, totalling 330 fits\n",
      "Лучшая модель леса показала результат: 0.5390718442739316  при глубине дерева и количестве деревьев = {'max_depth': 9, 'n_estimators': 41}\n"
     ]
    }
   ],
   "source": [
    "forest_model = RandomForestClassifier(random_state=12345,class_weight='balanced')\n",
    "forest_params = {'max_depth': range(1,10,2), 'n_estimators': range(1,110,10)}\n",
    "forest_grid = GridSearchCV(forest_model, forest_params, cv=6,n_jobs=-1,verbose=True,scoring='f1')\n",
    "forest_grid.fit(train_features_cat,train_target)\n",
    "print('Лучшая модель леса показала результат:',forest_grid.best_score_,' при глубине дерева и количестве деревьев =',\n",
    "      forest_grid.best_params_)"
   ]
  },
  {
   "cell_type": "code",
   "execution_count": 47,
   "id": "2291b538",
   "metadata": {},
   "outputs": [
    {
     "name": "stdout",
     "output_type": "stream",
     "text": [
      "Лучший результат модели регрессии 0.5787136780090524\n"
     ]
    }
   ],
   "source": [
    "best_model_regression = LogisticRegression(random_state=12345, class_weight='balanced',solver='liblinear')\n",
    "scores = cross_val_score(best_model_regression,train_features_reg,train_target,cv=6, scoring='f1')\n",
    "best_score_regression = scores.mean()\n",
    "print('Лучший результат модели регрессии',best_score_regression)"
   ]
  },
  {
   "cell_type": "code",
   "execution_count": 47,
   "id": "fe8d12f9",
   "metadata": {},
   "outputs": [],
   "source": [
    "integering(train_features,'intersection')\n",
    "integering(train_features,'vehicle_transmission')\n",
    "\n",
    "integering(test_features,'intersection')\n",
    "integering(test_features,'vehicle_transmission')\n"
   ]
  },
  {
   "cell_type": "code",
   "execution_count": 48,
   "id": "433f1776",
   "metadata": {},
   "outputs": [],
   "source": [
    "train_features_2, valid_features, train_target_2, valid_target = train_test_split(\n",
    "    train_features, \n",
    "    train_target, \n",
    "    test_size=0.2, \n",
    "    shuffle=True,\n",
    "    random_state=42)"
   ]
  },
  {
   "cell_type": "code",
   "execution_count": 49,
   "id": "0c51d5e5",
   "metadata": {},
   "outputs": [
    {
     "data": {
      "text/html": [
       "<div>\n",
       "<style scoped>\n",
       "    .dataframe tbody tr th:only-of-type {\n",
       "        vertical-align: middle;\n",
       "    }\n",
       "\n",
       "    .dataframe tbody tr th {\n",
       "        vertical-align: top;\n",
       "    }\n",
       "\n",
       "    .dataframe thead th {\n",
       "        text-align: right;\n",
       "    }\n",
       "</style>\n",
       "<table border=\"1\" class=\"dataframe\">\n",
       "  <thead>\n",
       "    <tr style=\"text-align: right;\">\n",
       "      <th></th>\n",
       "      <th>party_drug_physical</th>\n",
       "      <th>county_city_location</th>\n",
       "      <th>primary_collision_factor</th>\n",
       "      <th>collision_damage</th>\n",
       "      <th>pcf_violation_category</th>\n",
       "      <th>type_of_collision</th>\n",
       "      <th>control_device</th>\n",
       "      <th>party_type</th>\n",
       "      <th>motor_vehicle_involved_with</th>\n",
       "      <th>party_sobriety</th>\n",
       "      <th>intersection</th>\n",
       "      <th>weather_1</th>\n",
       "      <th>road_surface</th>\n",
       "      <th>lighting</th>\n",
       "      <th>distance</th>\n",
       "      <th>road_condition_1</th>\n",
       "      <th>vehicle_type</th>\n",
       "      <th>vehicle_transmission</th>\n",
       "      <th>vehicle_age</th>\n",
       "    </tr>\n",
       "  </thead>\n",
       "  <tbody>\n",
       "    <tr>\n",
       "      <th>71664</th>\n",
       "      <td>Not stated</td>\n",
       "      <td>1900</td>\n",
       "      <td>vehicle code violation</td>\n",
       "      <td>small damage</td>\n",
       "      <td>speeding</td>\n",
       "      <td>rear end</td>\n",
       "      <td>none</td>\n",
       "      <td>car</td>\n",
       "      <td>other motor vehicle</td>\n",
       "      <td>had not been drinking</td>\n",
       "      <td>0</td>\n",
       "      <td>clear</td>\n",
       "      <td>dry</td>\n",
       "      <td>daylight</td>\n",
       "      <td>110.0</td>\n",
       "      <td>normal</td>\n",
       "      <td>sedan</td>\n",
       "      <td>1</td>\n",
       "      <td>5.0</td>\n",
       "    </tr>\n",
       "    <tr>\n",
       "      <th>46172</th>\n",
       "      <td>Not stated</td>\n",
       "      <td>1942</td>\n",
       "      <td>vehicle code violation</td>\n",
       "      <td>small damage</td>\n",
       "      <td>improper turning</td>\n",
       "      <td>sideswipe</td>\n",
       "      <td>none</td>\n",
       "      <td>car</td>\n",
       "      <td>other motor vehicle</td>\n",
       "      <td>had not been drinking</td>\n",
       "      <td>0</td>\n",
       "      <td>clear</td>\n",
       "      <td>dry</td>\n",
       "      <td>dark with no street lights</td>\n",
       "      <td>120.0</td>\n",
       "      <td>normal</td>\n",
       "      <td>sedan</td>\n",
       "      <td>0</td>\n",
       "      <td>1.0</td>\n",
       "    </tr>\n",
       "    <tr>\n",
       "      <th>6100</th>\n",
       "      <td>Not stated</td>\n",
       "      <td>1000</td>\n",
       "      <td>vehicle code violation</td>\n",
       "      <td>severe damage</td>\n",
       "      <td>automobile right of way</td>\n",
       "      <td>broadside</td>\n",
       "      <td>functioning</td>\n",
       "      <td>car</td>\n",
       "      <td>other motor vehicle</td>\n",
       "      <td>had not been drinking</td>\n",
       "      <td>1</td>\n",
       "      <td>cloudy</td>\n",
       "      <td>wet</td>\n",
       "      <td>dark with no street lights</td>\n",
       "      <td>0.0</td>\n",
       "      <td>normal</td>\n",
       "      <td>sedan</td>\n",
       "      <td>1</td>\n",
       "      <td>8.0</td>\n",
       "    </tr>\n",
       "    <tr>\n",
       "      <th>111013</th>\n",
       "      <td>Not stated</td>\n",
       "      <td>5002</td>\n",
       "      <td>vehicle code violation</td>\n",
       "      <td>middle damage</td>\n",
       "      <td>automobile right of way</td>\n",
       "      <td>head-on</td>\n",
       "      <td>functioning</td>\n",
       "      <td>car</td>\n",
       "      <td>other motor vehicle</td>\n",
       "      <td>had not been drinking</td>\n",
       "      <td>1</td>\n",
       "      <td>clear</td>\n",
       "      <td>dry</td>\n",
       "      <td>daylight</td>\n",
       "      <td>0.0</td>\n",
       "      <td>normal</td>\n",
       "      <td>coupe</td>\n",
       "      <td>0</td>\n",
       "      <td>3.0</td>\n",
       "    </tr>\n",
       "    <tr>\n",
       "      <th>68624</th>\n",
       "      <td>Not stated</td>\n",
       "      <td>1965</td>\n",
       "      <td>vehicle code violation</td>\n",
       "      <td>small damage</td>\n",
       "      <td>improper passing</td>\n",
       "      <td>hit object</td>\n",
       "      <td>none</td>\n",
       "      <td>car</td>\n",
       "      <td>fixed object</td>\n",
       "      <td>had not been drinking</td>\n",
       "      <td>1</td>\n",
       "      <td>clear</td>\n",
       "      <td>dry</td>\n",
       "      <td>daylight</td>\n",
       "      <td>0.0</td>\n",
       "      <td>normal</td>\n",
       "      <td>sedan</td>\n",
       "      <td>1</td>\n",
       "      <td>11.0</td>\n",
       "    </tr>\n",
       "    <tr>\n",
       "      <th>...</th>\n",
       "      <td>...</td>\n",
       "      <td>...</td>\n",
       "      <td>...</td>\n",
       "      <td>...</td>\n",
       "      <td>...</td>\n",
       "      <td>...</td>\n",
       "      <td>...</td>\n",
       "      <td>...</td>\n",
       "      <td>...</td>\n",
       "      <td>...</td>\n",
       "      <td>...</td>\n",
       "      <td>...</td>\n",
       "      <td>...</td>\n",
       "      <td>...</td>\n",
       "      <td>...</td>\n",
       "      <td>...</td>\n",
       "      <td>...</td>\n",
       "      <td>...</td>\n",
       "      <td>...</td>\n",
       "    </tr>\n",
       "    <tr>\n",
       "      <th>84358</th>\n",
       "      <td>Not stated</td>\n",
       "      <td>3009</td>\n",
       "      <td>vehicle code violation</td>\n",
       "      <td>middle damage</td>\n",
       "      <td>speeding</td>\n",
       "      <td>rear end</td>\n",
       "      <td>none</td>\n",
       "      <td>car</td>\n",
       "      <td>other motor vehicle</td>\n",
       "      <td>had not been drinking</td>\n",
       "      <td>0</td>\n",
       "      <td>clear</td>\n",
       "      <td>dry</td>\n",
       "      <td>daylight</td>\n",
       "      <td>200.0</td>\n",
       "      <td>normal</td>\n",
       "      <td>coupe</td>\n",
       "      <td>0</td>\n",
       "      <td>5.0</td>\n",
       "    </tr>\n",
       "    <tr>\n",
       "      <th>69847</th>\n",
       "      <td>Not stated</td>\n",
       "      <td>1928</td>\n",
       "      <td>vehicle code violation</td>\n",
       "      <td>small damage</td>\n",
       "      <td>improper turning</td>\n",
       "      <td>sideswipe</td>\n",
       "      <td>none</td>\n",
       "      <td>car</td>\n",
       "      <td>fixed object</td>\n",
       "      <td>had not been drinking</td>\n",
       "      <td>0</td>\n",
       "      <td>clear</td>\n",
       "      <td>dry</td>\n",
       "      <td>daylight</td>\n",
       "      <td>600.0</td>\n",
       "      <td>normal</td>\n",
       "      <td>sedan</td>\n",
       "      <td>1</td>\n",
       "      <td>6.0</td>\n",
       "    </tr>\n",
       "    <tr>\n",
       "      <th>34586</th>\n",
       "      <td>Not stated</td>\n",
       "      <td>1942</td>\n",
       "      <td>vehicle code violation</td>\n",
       "      <td>middle damage</td>\n",
       "      <td>traffic signals and signs</td>\n",
       "      <td>broadside</td>\n",
       "      <td>functioning</td>\n",
       "      <td>car</td>\n",
       "      <td>bicycle</td>\n",
       "      <td>had not been drinking</td>\n",
       "      <td>1</td>\n",
       "      <td>clear</td>\n",
       "      <td>dry</td>\n",
       "      <td>daylight</td>\n",
       "      <td>0.0</td>\n",
       "      <td>normal</td>\n",
       "      <td>minivan</td>\n",
       "      <td>0</td>\n",
       "      <td>2.0</td>\n",
       "    </tr>\n",
       "    <tr>\n",
       "      <th>64379</th>\n",
       "      <td>G</td>\n",
       "      <td>3400</td>\n",
       "      <td>vehicle code violation</td>\n",
       "      <td>small damage</td>\n",
       "      <td>speeding</td>\n",
       "      <td>rear end</td>\n",
       "      <td>none</td>\n",
       "      <td>car</td>\n",
       "      <td>other motor vehicle</td>\n",
       "      <td>impairment unknown</td>\n",
       "      <td>0</td>\n",
       "      <td>clear</td>\n",
       "      <td>dry</td>\n",
       "      <td>daylight</td>\n",
       "      <td>400.0</td>\n",
       "      <td>normal</td>\n",
       "      <td>sedan</td>\n",
       "      <td>0</td>\n",
       "      <td>0.0</td>\n",
       "    </tr>\n",
       "    <tr>\n",
       "      <th>59477</th>\n",
       "      <td>G</td>\n",
       "      <td>4313</td>\n",
       "      <td>vehicle code violation</td>\n",
       "      <td>small damage</td>\n",
       "      <td>improper turning</td>\n",
       "      <td>hit object</td>\n",
       "      <td>none</td>\n",
       "      <td>car</td>\n",
       "      <td>fixed object</td>\n",
       "      <td>impairment unknown</td>\n",
       "      <td>0</td>\n",
       "      <td>clear</td>\n",
       "      <td>dry</td>\n",
       "      <td>daylight</td>\n",
       "      <td>900.0</td>\n",
       "      <td>normal</td>\n",
       "      <td>sedan</td>\n",
       "      <td>0</td>\n",
       "      <td>5.0</td>\n",
       "    </tr>\n",
       "  </tbody>\n",
       "</table>\n",
       "<p>60672 rows × 19 columns</p>\n",
       "</div>"
      ],
      "text/plain": [
       "       party_drug_physical county_city_location primary_collision_factor  \\\n",
       "71664           Not stated                 1900   vehicle code violation   \n",
       "46172           Not stated                 1942   vehicle code violation   \n",
       "6100            Not stated                 1000   vehicle code violation   \n",
       "111013          Not stated                 5002   vehicle code violation   \n",
       "68624           Not stated                 1965   vehicle code violation   \n",
       "...                    ...                  ...                      ...   \n",
       "84358           Not stated                 3009   vehicle code violation   \n",
       "69847           Not stated                 1928   vehicle code violation   \n",
       "34586           Not stated                 1942   vehicle code violation   \n",
       "64379                    G                 3400   vehicle code violation   \n",
       "59477                    G                 4313   vehicle code violation   \n",
       "\n",
       "       collision_damage     pcf_violation_category type_of_collision  \\\n",
       "71664      small damage                   speeding          rear end   \n",
       "46172      small damage           improper turning         sideswipe   \n",
       "6100      severe damage    automobile right of way         broadside   \n",
       "111013    middle damage    automobile right of way           head-on   \n",
       "68624      small damage           improper passing        hit object   \n",
       "...                 ...                        ...               ...   \n",
       "84358     middle damage                   speeding          rear end   \n",
       "69847      small damage           improper turning         sideswipe   \n",
       "34586     middle damage  traffic signals and signs         broadside   \n",
       "64379      small damage                   speeding          rear end   \n",
       "59477      small damage           improper turning        hit object   \n",
       "\n",
       "       control_device party_type motor_vehicle_involved_with  \\\n",
       "71664            none        car         other motor vehicle   \n",
       "46172            none        car         other motor vehicle   \n",
       "6100      functioning        car         other motor vehicle   \n",
       "111013    functioning        car         other motor vehicle   \n",
       "68624            none        car                fixed object   \n",
       "...               ...        ...                         ...   \n",
       "84358            none        car         other motor vehicle   \n",
       "69847            none        car                fixed object   \n",
       "34586     functioning        car                     bicycle   \n",
       "64379            none        car         other motor vehicle   \n",
       "59477            none        car                fixed object   \n",
       "\n",
       "               party_sobriety  intersection weather_1 road_surface  \\\n",
       "71664   had not been drinking             0     clear          dry   \n",
       "46172   had not been drinking             0     clear          dry   \n",
       "6100    had not been drinking             1    cloudy          wet   \n",
       "111013  had not been drinking             1     clear          dry   \n",
       "68624   had not been drinking             1     clear          dry   \n",
       "...                       ...           ...       ...          ...   \n",
       "84358   had not been drinking             0     clear          dry   \n",
       "69847   had not been drinking             0     clear          dry   \n",
       "34586   had not been drinking             1     clear          dry   \n",
       "64379      impairment unknown             0     clear          dry   \n",
       "59477      impairment unknown             0     clear          dry   \n",
       "\n",
       "                          lighting  distance road_condition_1 vehicle_type  \\\n",
       "71664                     daylight     110.0           normal        sedan   \n",
       "46172   dark with no street lights     120.0           normal        sedan   \n",
       "6100    dark with no street lights       0.0           normal        sedan   \n",
       "111013                    daylight       0.0           normal        coupe   \n",
       "68624                     daylight       0.0           normal        sedan   \n",
       "...                            ...       ...              ...          ...   \n",
       "84358                     daylight     200.0           normal        coupe   \n",
       "69847                     daylight     600.0           normal        sedan   \n",
       "34586                     daylight       0.0           normal      minivan   \n",
       "64379                     daylight     400.0           normal        sedan   \n",
       "59477                     daylight     900.0           normal        sedan   \n",
       "\n",
       "        vehicle_transmission  vehicle_age  \n",
       "71664                      1          5.0  \n",
       "46172                      0          1.0  \n",
       "6100                       1          8.0  \n",
       "111013                     0          3.0  \n",
       "68624                      1         11.0  \n",
       "...                      ...          ...  \n",
       "84358                      0          5.0  \n",
       "69847                      1          6.0  \n",
       "34586                      0          2.0  \n",
       "64379                      0          0.0  \n",
       "59477                      0          5.0  \n",
       "\n",
       "[60672 rows x 19 columns]"
      ]
     },
     "execution_count": 49,
     "metadata": {},
     "output_type": "execute_result"
    }
   ],
   "source": [
    "train_features_2"
   ]
  },
  {
   "cell_type": "code",
   "execution_count": 50,
   "id": "67d0b41d",
   "metadata": {},
   "outputs": [
    {
     "data": {
      "application/vnd.jupyter.widget-view+json": {
       "model_id": "aed81ec5520b4b87a4be87fe8e8e0839",
       "version_major": 2,
       "version_minor": 0
      },
      "text/plain": [
       "MetricVisualizer(layout=Layout(align_self='stretch', height='500px'))"
      ]
     },
     "metadata": {},
     "output_type": "display_data"
    },
    {
     "data": {
      "text/plain": [
       "<catboost.core.CatBoostClassifier at 0x7f32776407f0>"
      ]
     },
     "execution_count": 50,
     "metadata": {},
     "output_type": "execute_result"
    }
   ],
   "source": [
    "cats = [0,1,2,3,4,5,6,7,8,9,10,11,12,13,15,16,17]\n",
    "\n",
    "model_5 = CatBoostClassifier(\n",
    "    loss_function = 'Logloss',\n",
    "    iterations = 20000,\n",
    "    custom_loss = 'F1',\n",
    "    random_seed = 42,\n",
    "    learning_rate = 0.5,\n",
    "    l2_leaf_reg = 3,\n",
    "    bagging_temperature = 1,\n",
    "    random_strength = 1,\n",
    "    one_hot_max_size = 2,\n",
    "    leaf_estimation_method = 'Newton',\n",
    "    early_stopping_rounds = 150\n",
    ")\n",
    "model_5.fit(\n",
    "    train_features_2, train_target_2,\n",
    "    cat_features=cats,\n",
    "    eval_set=(valid_features, valid_target),\n",
    "    verbose=False,\n",
    "    plot=True\n",
    ")"
   ]
  },
  {
   "cell_type": "markdown",
   "id": "3396fded",
   "metadata": {},
   "source": [
    "Для подсчета качества модели использовали F1 метрику, так как она отражает и точность и полноту ответов"
   ]
  },
  {
   "cell_type": "code",
   "execution_count": 52,
   "id": "92712362",
   "metadata": {},
   "outputs": [],
   "source": [
    "table = [['Линейная регрессия',round(best_score_regression,3)],['Forest model',round(forest_grid.best_score_,3)],['Tree classifier',round(tree_grid.best_score_,3)],['CatBoost',0.630]]"
   ]
  },
  {
   "cell_type": "code",
   "execution_count": 53,
   "id": "41471feb",
   "metadata": {},
   "outputs": [
    {
     "data": {
      "text/html": [
       "<div>\n",
       "<style scoped>\n",
       "    .dataframe tbody tr th:only-of-type {\n",
       "        vertical-align: middle;\n",
       "    }\n",
       "\n",
       "    .dataframe tbody tr th {\n",
       "        vertical-align: top;\n",
       "    }\n",
       "\n",
       "    .dataframe thead th {\n",
       "        text-align: right;\n",
       "    }\n",
       "</style>\n",
       "<table border=\"1\" class=\"dataframe\">\n",
       "  <thead>\n",
       "    <tr style=\"text-align: right;\">\n",
       "      <th></th>\n",
       "      <th>Название модели</th>\n",
       "      <th>F1 score</th>\n",
       "    </tr>\n",
       "  </thead>\n",
       "  <tbody>\n",
       "    <tr>\n",
       "      <th>0</th>\n",
       "      <td>Линейная регрессия</td>\n",
       "      <td>0.579</td>\n",
       "    </tr>\n",
       "    <tr>\n",
       "      <th>1</th>\n",
       "      <td>Forest model</td>\n",
       "      <td>0.539</td>\n",
       "    </tr>\n",
       "    <tr>\n",
       "      <th>2</th>\n",
       "      <td>Tree classifier</td>\n",
       "      <td>0.570</td>\n",
       "    </tr>\n",
       "    <tr>\n",
       "      <th>3</th>\n",
       "      <td>CatBoost</td>\n",
       "      <td>0.630</td>\n",
       "    </tr>\n",
       "  </tbody>\n",
       "</table>\n",
       "</div>"
      ],
      "text/plain": [
       "      Название модели  F1 score\n",
       "0  Линейная регрессия     0.579\n",
       "1        Forest model     0.539\n",
       "2     Tree classifier     0.570\n",
       "3            CatBoost     0.630"
      ]
     },
     "execution_count": 53,
     "metadata": {},
     "output_type": "execute_result"
    }
   ],
   "source": [
    "pd.DataFrame(table, columns=['Название модели', 'F1 score'])"
   ]
  },
  {
   "cell_type": "code",
   "execution_count": 54,
   "id": "44f15460",
   "metadata": {},
   "outputs": [
    {
     "data": {
      "text/plain": [
       "0.4664554734248504"
      ]
     },
     "execution_count": 54,
     "metadata": {},
     "output_type": "execute_result"
    }
   ],
   "source": [
    "# Случайная модель\n",
    "from sklearn.dummy import DummyClassifier\n",
    "dummy_clf = DummyClassifier(strategy=\"stratified\")\n",
    "dummy_clf.fit(train_features_2, train_target_2)\n",
    "predict = dummy_clf.predict(valid_features)\n",
    "f1_score(valid_target, predict)"
   ]
  },
  {
   "cell_type": "markdown",
   "id": "176e5ca3",
   "metadata": {},
   "source": [
    "После проведения тестов лучшей моделью оказалась модель catboost"
   ]
  },
  {
   "cell_type": "code",
   "execution_count": 55,
   "id": "ac0ec74a",
   "metadata": {},
   "outputs": [
    {
     "data": {
      "text/plain": [
       "0.6281637370959384"
      ]
     },
     "execution_count": 55,
     "metadata": {},
     "output_type": "execute_result"
    }
   ],
   "source": [
    "prediction = model_5.predict(test_features)\n",
    "f1_res = f1_score(test_target,prediction)\n",
    "f1_res"
   ]
  },
  {
   "cell_type": "markdown",
   "id": "2d8ed031",
   "metadata": {},
   "source": [
    "На тестовой выборке модель показала результат f1 равный 0,623"
   ]
  },
  {
   "cell_type": "markdown",
   "id": "cd8e7e10",
   "metadata": {},
   "source": [
    "## Проведение анализа важности факторов ДТП"
   ]
  },
  {
   "cell_type": "code",
   "execution_count": 56,
   "id": "d25169f3",
   "metadata": {},
   "outputs": [
    {
     "name": "stdout",
     "output_type": "stream",
     "text": [
      "Confusion matrix, without normalization\n",
      "[[ 7880  7332]\n",
      " [ 1997 15295]]\n"
     ]
    },
    {
     "data": {
      "image/png": "[encoded data removed]",
      "text/plain": [
       "<Figure size 720x576 with 2 Axes>"
      ]
     },
     "metadata": {
      "needs_background": "light"
     },
     "output_type": "display_data"
    }
   ],
   "source": [
    "matrix = confusion_matrix(test_target,prediction)\n",
    "matrix = np.flip(matrix)\n",
    "#matrix = pd.DataFrame(matrix, columns=['Positive', 'Negative'], index =['Positive', 'Negative'])\n",
    "\n",
    "def plot_confusion_matrix(cm, classes,\n",
    "                          normalize=False,\n",
    "                          title='Confusion matrix',\n",
    "                          cmap=plt.cm.Reds):\n",
    "    \n",
    "    plt.imshow(cm, interpolation='nearest', cmap=cmap)\n",
    "    plt.title(title)\n",
    "    plt.colorbar()\n",
    "    tick_marks = np.arange(len(classes))\n",
    "    plt.xticks(tick_marks, classes, rotation=45)\n",
    "    plt.yticks(tick_marks, classes)\n",
    "\n",
    "    if normalize:\n",
    "        cm = cm.astype('float') / cm.sum(axis=1)[:, np.newaxis]\n",
    "        print(\"Normalized confusion matrix\")\n",
    "    else:\n",
    "        print('Confusion matrix, without normalization')\n",
    "\n",
    "    print(cm)\n",
    "\n",
    "    thresh = cm.max() / 2.\n",
    "    for i, j in itertools.product(range(cm.shape[0]), range(cm.shape[1])):\n",
    "        plt.text(j, i, cm[i, j],\n",
    "                 horizontalalignment=\"center\",\n",
    "                 color=\"white\" if cm[i, j] > thresh else \"black\")\n",
    "\n",
    "    plt.tight_layout()\n",
    "    plt.ylabel('True label')\n",
    "    plt.xlabel('Predicted label')\n",
    "plt.figure(figsize=(10, 8))\n",
    "plot_confusion_matrix(matrix, classes=['Positive', 'Negative'],\n",
    "                      title='Confusion matrix')\n",
    "plt.savefig(\"conf_matrix.png\")\n",
    "plt.show()"
   ]
  },
  {
   "cell_type": "code",
   "execution_count": 57,
   "id": "4de252fb",
   "metadata": {},
   "outputs": [
    {
     "data": {
      "image/png": "[encoded data removed]",
      "text/plain": [
       "<Figure size 432x288 with 1 Axes>"
      ]
     },
     "metadata": {
      "needs_background": "light"
     },
     "output_type": "display_data"
    }
   ],
   "source": [
    "precision, recall, thresholds = precision_recall_curve(test_target,prediction)\n",
    "\n",
    "fig, ax = plt.subplots()\n",
    "ax.plot(recall, precision, color='red')\n",
    "\n",
    "ax.set_title('Precision-Recall Curve')\n",
    "ax.set_ylabel('Precision')\n",
    "ax.set_xlabel('Recall')\n",
    "\n",
    "plt.show() "
   ]
  },
  {
   "cell_type": "code",
   "execution_count": 58,
   "id": "bccdd4a2",
   "metadata": {},
   "outputs": [
    {
     "data": {
      "image/png": "[encoded data removed]",
      "text/plain": [
       "<Figure size 576x655.2 with 1 Axes>"
      ]
     },
     "metadata": {
      "needs_background": "light"
     },
     "output_type": "display_data"
    }
   ],
   "source": [
    "explainer = shap.TreeExplainer(model_5)\n",
    "shap_values = explainer.shap_values(test_features)\n",
    "shap.summary_plot(shap_values, test_features, plot_type=\"bar\")"
   ]
  },
  {
   "cell_type": "markdown",
   "id": "8bafe6da",
   "metadata": {},
   "source": [
    "Исходя из графика мы видим, что сильное влияние на итоговую модель имеет категория нарушения, трезвость и дополнительные участники ДТП"
   ]
  },
  {
   "cell_type": "code",
   "execution_count": 59,
   "id": "0296e3f7",
   "metadata": {},
   "outputs": [],
   "source": [
    "df_3 = df_dropped[['party_sobriety','at_fault','vehicle_age']]\n",
    "df_3['percent'] = 0\n",
    "summing = df_3.groupby(by=[\"party_sobriety\"]).sum()\n",
    "counting = df_3.groupby(by=[\"party_sobriety\"]).count()\n",
    "for i in range(1,7):\n",
    "    percent = (summing['at_fault'][i]/counting['at_fault'][i])*100\n",
    "    summing['percent'][i] = percent"
   ]
  },
  {
   "cell_type": "code",
   "execution_count": 60,
   "id": "a7d72096",
   "metadata": {},
   "outputs": [
    {
     "data": {
      "text/plain": [
       "(array([0, 1, 2, 3, 4, 5, 6]),\n",
       " [Text(0, 0, 'Not stated'),\n",
       "  Text(1, 0, 'had been drinking, impairment unknown'),\n",
       "  Text(2, 0, 'had been drinking, not under influence'),\n",
       "  Text(3, 0, 'had been drinking, under influence'),\n",
       "  Text(4, 0, 'had not been drinking'),\n",
       "  Text(5, 0, 'impairment unknown'),\n",
       "  Text(6, 0, 'not applicable')])"
      ]
     },
     "execution_count": 60,
     "metadata": {},
     "output_type": "execute_result"
    },
    {
     "data": {
      "image/png": "[encoded data removed]",
      "text/plain": [
       "<Figure size 432x288 with 1 Axes>"
      ]
     },
     "metadata": {
      "needs_background": "light"
     },
     "output_type": "display_data"
    }
   ],
   "source": [
    "sns.barplot(data=summing,x=summing.index,y='percent')\n",
    "plt.xticks(rotation = 90)"
   ]
  },
  {
   "cell_type": "markdown",
   "id": "0fe6da78",
   "metadata": {},
   "source": [
    "Исходя из графика можем сделать вывод, что наибольшее трезвость водителя имеет важное влияние и выпившие водители намного чаще являются виновниками аварии чем не выпившие"
   ]
  },
  {
   "cell_type": "code",
   "execution_count": 61,
   "id": "ba2339ae",
   "metadata": {},
   "outputs": [],
   "source": [
    "df_3 = df_dropped[['motor_vehicle_involved_with','at_fault','vehicle_age']]\n",
    "df_3['percent'] = 0\n",
    "summing = df_3.groupby(by=[\"motor_vehicle_involved_with\"]).sum()\n",
    "counting = df_3.groupby(by=[\"motor_vehicle_involved_with\"]).count()\n",
    "for i in range(1,5):\n",
    "    percent = (summing['at_fault'][i]/counting['at_fault'][i])*100\n",
    "    summing['percent'][i] = percent"
   ]
  },
  {
   "cell_type": "code",
   "execution_count": 62,
   "id": "8d330c0b",
   "metadata": {},
   "outputs": [
    {
     "data": {
      "text/plain": [
       "(array([0, 1, 2, 3, 4, 5, 6, 7, 8]),\n",
       " [Text(0, 0, 'animal'),\n",
       "  Text(1, 0, 'bicycle'),\n",
       "  Text(2, 0, 'fixed object'),\n",
       "  Text(3, 0, 'motor vehicle on other roadway'),\n",
       "  Text(4, 0, 'non-collision'),\n",
       "  Text(5, 0, 'other motor vehicle'),\n",
       "  Text(6, 0, 'other object'),\n",
       "  Text(7, 0, 'parked motor vehicle'),\n",
       "  Text(8, 0, 'train')])"
      ]
     },
     "execution_count": 62,
     "metadata": {},
     "output_type": "execute_result"
    },
    {
     "data": {
      "image/png": "[encoded data removed]",
      "text/plain": [
       "<Figure size 432x288 with 1 Axes>"
      ]
     },
     "metadata": {
      "needs_background": "light"
     },
     "output_type": "display_data"
    }
   ],
   "source": [
    "sns.barplot(data=summing,x=summing.index,y='percent')\n",
    "plt.xticks(rotation = 90)"
   ]
  },
  {
   "cell_type": "markdown",
   "id": "a15d23cb",
   "metadata": {},
   "source": [
    "Исходя из графика можем сделать вывод, что если в ДТП были вовлечены: неподвижный объект или это было не столкновение, то скорее всего это произошло по вине водителя"
   ]
  },
  {
   "cell_type": "code",
   "execution_count": 63,
   "id": "8858d8e8",
   "metadata": {},
   "outputs": [],
   "source": [
    "df_3 = df_dropped[['pcf_violation_category','at_fault','vehicle_age']]\n",
    "df_3['percent'] = 0\n",
    "summing = df_3.groupby(by=[\"pcf_violation_category\"]).sum()\n",
    "counting = df_3.groupby(by=[\"pcf_violation_category\"]).count()\n",
    "for i in range(1,5):\n",
    "    percent = (summing['at_fault'][i]/counting['at_fault'][i])*100\n",
    "    summing['percent'][i] = percent"
   ]
  },
  {
   "cell_type": "code",
   "execution_count": 64,
   "id": "55764d1a",
   "metadata": {},
   "outputs": [
    {
     "data": {
      "text/plain": [
       "(array([ 0,  1,  2,  3,  4,  5,  6,  7,  8,  9, 10, 11, 12, 13, 14, 15, 16,\n",
       "        17, 18, 19, 20, 21]),\n",
       " [Text(0, 0, 'automobile right of way'),\n",
       "  Text(1, 0, 'brakes'),\n",
       "  Text(2, 0, 'dui'),\n",
       "  Text(3, 0, 'fell asleep'),\n",
       "  Text(4, 0, 'following too closely'),\n",
       "  Text(5, 0, 'hazardous parking'),\n",
       "  Text(6, 0, 'impeding traffic'),\n",
       "  Text(7, 0, 'improper passing'),\n",
       "  Text(8, 0, 'improper turning'),\n",
       "  Text(9, 0, 'lights'),\n",
       "  Text(10, 0, 'other equipment'),\n",
       "  Text(11, 0, 'other hazardous violation'),\n",
       "  Text(12, 0, 'other improper driving'),\n",
       "  Text(13, 0, 'other than driver (or pedestrian)'),\n",
       "  Text(14, 0, 'pedestrian right of way'),\n",
       "  Text(15, 0, 'pedestrian violation'),\n",
       "  Text(16, 0, 'speeding'),\n",
       "  Text(17, 0, 'traffic signals and signs'),\n",
       "  Text(18, 0, 'unknown'),\n",
       "  Text(19, 0, 'unsafe lane change'),\n",
       "  Text(20, 0, 'unsafe starting or backing'),\n",
       "  Text(21, 0, 'wrong side of road')])"
      ]
     },
     "execution_count": 64,
     "metadata": {},
     "output_type": "execute_result"
    },
    {
     "data": {
      "image/png": "[encoded data removed]",
      "text/plain": [
       "<Figure size 432x288 with 1 Axes>"
      ]
     },
     "metadata": {
      "needs_background": "light"
     },
     "output_type": "display_data"
    }
   ],
   "source": [
    "sns.barplot(data=summing,x=summing.index,y='percent')\n",
    "plt.xticks(rotation = 90)"
   ]
  },
  {
   "cell_type": "markdown",
   "id": "b3037181",
   "metadata": {},
   "source": [
    "Исходя из графика можем сделать вывод, что если нарушение связано с трезвостью, тормозами или опасным сближением, то есть вероятность того что виновником ДТП был водитель, в остальных ДТП, исходя из наших данных, он не был виновен"
   ]
  },
  {
   "cell_type": "markdown",
   "id": "9d6cec08",
   "metadata": {},
   "source": [
    "## Выводы"
   ]
  },
  {
   "cell_type": "markdown",
   "id": "98263120",
   "metadata": {},
   "source": [
    "Все модели при обучении показали хорошие результаты, чуть лучше себя показала модель бустинга. (F-score = 0.623), хуже всего себя показала модель леса (0.568). Исходя из результатов, на данный момент нельзя точно прогнозировать аварии"
   ]
  }
 ],
 "metadata": {
  "ExecuteTimeLog": [
   {
    "duration": 1427,
    "start_time": "2023-01-21T17:03:03.819Z"
   },
   {
    "duration": 4,
    "start_time": "2023-01-21T17:03:05.247Z"
   },
   {
    "duration": 4,
    "start_time": "2023-01-21T17:03:27.527Z"
   },
   {
    "duration": 7645,
    "start_time": "2023-01-21T17:03:38.946Z"
   },
   {
    "duration": 3682,
    "start_time": "2023-01-21T17:06:12.987Z"
   },
   {
    "duration": 13,
    "start_time": "2023-01-21T17:06:18.472Z"
   },
   {
    "duration": 16651,
    "start_time": "2023-01-21T17:07:07.621Z"
   },
   {
    "duration": 106,
    "start_time": "2023-01-21T17:07:32.378Z"
   },
   {
    "duration": 10,
    "start_time": "2023-01-21T17:07:36.663Z"
   },
   {
    "duration": 48,
    "start_time": "2023-01-21T17:08:06.041Z"
   },
   {
    "duration": 1254,
    "start_time": "2023-01-21T17:08:12.565Z"
   },
   {
    "duration": 6,
    "start_time": "2023-01-21T17:08:13.821Z"
   },
   {
    "duration": 7593,
    "start_time": "2023-01-21T17:08:13.829Z"
   },
   {
    "duration": 36,
    "start_time": "2023-01-21T17:08:21.424Z"
   },
   {
    "duration": 24,
    "start_time": "2023-01-21T17:08:21.462Z"
   },
   {
    "duration": 29,
    "start_time": "2023-01-21T17:09:32.737Z"
   },
   {
    "duration": 13,
    "start_time": "2023-01-21T17:11:34.486Z"
   },
   {
    "duration": 15,
    "start_time": "2023-01-21T17:12:34.261Z"
   },
   {
    "duration": 3568,
    "start_time": "2023-01-21T17:15:15.567Z"
   },
   {
    "duration": 10266,
    "start_time": "2023-01-21T17:15:19.354Z"
   },
   {
    "duration": 15793,
    "start_time": "2023-01-21T17:15:29.622Z"
   },
   {
    "duration": 30,
    "start_time": "2023-01-21T17:15:45.416Z"
   },
   {
    "duration": 96,
    "start_time": "2023-01-21T17:18:02.956Z"
   },
   {
    "duration": 25,
    "start_time": "2023-01-21T17:18:04.724Z"
   },
   {
    "duration": 13,
    "start_time": "2023-01-21T17:18:34.388Z"
   },
   {
    "duration": 25,
    "start_time": "2023-01-21T17:18:55.253Z"
   },
   {
    "duration": 64,
    "start_time": "2023-01-21T17:19:27.815Z"
   },
   {
    "duration": 26,
    "start_time": "2023-01-21T17:19:29.655Z"
   },
   {
    "duration": 9,
    "start_time": "2023-01-21T17:19:31.949Z"
   },
   {
    "duration": 75,
    "start_time": "2023-01-21T17:20:52.215Z"
   },
   {
    "duration": 121,
    "start_time": "2023-01-21T17:21:08.397Z"
   },
   {
    "duration": 242,
    "start_time": "2023-01-21T17:21:14.104Z"
   },
   {
    "duration": 447,
    "start_time": "2023-01-21T17:22:52.942Z"
   },
   {
    "duration": 195,
    "start_time": "2023-01-21T17:22:55.498Z"
   },
   {
    "duration": 4,
    "start_time": "2023-01-21T17:23:14.044Z"
   },
   {
    "duration": 405,
    "start_time": "2023-01-21T17:23:18.456Z"
   },
   {
    "duration": 196,
    "start_time": "2023-01-21T17:23:20.552Z"
   },
   {
    "duration": 374,
    "start_time": "2023-01-21T17:23:27.178Z"
   },
   {
    "duration": 445,
    "start_time": "2023-01-21T17:25:43.011Z"
   },
   {
    "duration": 496,
    "start_time": "2023-01-21T17:26:00.748Z"
   },
   {
    "duration": 5,
    "start_time": "2023-01-21T17:26:51.140Z"
   },
   {
    "duration": 441,
    "start_time": "2023-01-21T17:27:51.137Z"
   },
   {
    "duration": 4002,
    "start_time": "2023-01-21T17:28:39.551Z"
   },
   {
    "duration": 10,
    "start_time": "2023-01-21T17:28:43.671Z"
   },
   {
    "duration": 107,
    "start_time": "2023-01-21T17:30:01.203Z"
   },
   {
    "duration": 101,
    "start_time": "2023-01-21T17:30:18.108Z"
   },
   {
    "duration": 5884,
    "start_time": "2023-01-21T17:30:28.040Z"
   },
   {
    "duration": 9,
    "start_time": "2023-01-21T17:30:34.951Z"
   },
   {
    "duration": 117,
    "start_time": "2023-01-21T17:30:46.160Z"
   },
   {
    "duration": 265,
    "start_time": "2023-01-21T17:30:55.851Z"
   },
   {
    "duration": 15,
    "start_time": "2023-01-21T17:30:56.939Z"
   },
   {
    "duration": 279,
    "start_time": "2023-01-21T17:31:11.831Z"
   },
   {
    "duration": 9,
    "start_time": "2023-01-21T17:31:12.605Z"
   },
   {
    "duration": 122,
    "start_time": "2023-01-21T18:12:45.938Z"
   },
   {
    "duration": 115,
    "start_time": "2023-01-21T18:18:08.523Z"
   },
   {
    "duration": 127,
    "start_time": "2023-01-21T18:18:27.635Z"
   },
   {
    "duration": 114,
    "start_time": "2023-01-21T18:18:46.337Z"
   },
   {
    "duration": 101,
    "start_time": "2023-01-21T18:18:53.581Z"
   },
   {
    "duration": 109,
    "start_time": "2023-01-21T18:19:05.495Z"
   },
   {
    "duration": 151,
    "start_time": "2023-01-21T18:34:59.288Z"
   },
   {
    "duration": 396,
    "start_time": "2023-01-21T18:35:07.767Z"
   },
   {
    "duration": 205,
    "start_time": "2023-01-21T18:35:23.958Z"
   },
   {
    "duration": 8,
    "start_time": "2023-01-21T18:35:25.690Z"
   },
   {
    "duration": 208,
    "start_time": "2023-01-21T18:37:11.874Z"
   },
   {
    "duration": 173,
    "start_time": "2023-01-21T18:37:17.880Z"
   },
   {
    "duration": 168,
    "start_time": "2023-01-21T19:07:18.216Z"
   },
   {
    "duration": 111,
    "start_time": "2023-01-21T19:07:29.236Z"
   },
   {
    "duration": 97,
    "start_time": "2023-01-21T19:07:48.366Z"
   },
   {
    "duration": 103,
    "start_time": "2023-01-21T19:07:55.831Z"
   },
   {
    "duration": 92,
    "start_time": "2023-01-21T19:08:38.271Z"
   },
   {
    "duration": 95,
    "start_time": "2023-01-21T19:08:48.771Z"
   },
   {
    "duration": 2312,
    "start_time": "2023-01-21T19:09:03.680Z"
   },
   {
    "duration": 95,
    "start_time": "2023-01-21T19:09:57.499Z"
   },
   {
    "duration": 106,
    "start_time": "2023-01-21T19:10:06.588Z"
   },
   {
    "duration": 93,
    "start_time": "2023-01-21T19:11:47.672Z"
   },
   {
    "duration": 114,
    "start_time": "2023-01-21T19:12:26.370Z"
   },
   {
    "duration": 1296,
    "start_time": "2023-01-21T19:12:47.823Z"
   },
   {
    "duration": 3,
    "start_time": "2023-01-21T19:12:49.121Z"
   },
   {
    "duration": 8049,
    "start_time": "2023-01-21T19:12:49.126Z"
   },
   {
    "duration": 17209,
    "start_time": "2023-01-21T19:12:57.177Z"
   },
   {
    "duration": 29,
    "start_time": "2023-01-21T19:13:14.388Z"
   },
   {
    "duration": 3891,
    "start_time": "2023-01-21T19:13:14.427Z"
   },
   {
    "duration": 11633,
    "start_time": "2023-01-21T19:13:18.320Z"
   },
   {
    "duration": 221,
    "start_time": "2023-01-21T19:13:29.955Z"
   },
   {
    "duration": 8,
    "start_time": "2023-01-21T19:13:30.177Z"
   },
   {
    "duration": 299,
    "start_time": "2023-01-21T19:13:30.187Z"
   },
   {
    "duration": 2283,
    "start_time": "2023-01-21T19:13:30.488Z"
   },
   {
    "duration": 1674,
    "start_time": "2023-01-21T19:13:58.382Z"
   },
   {
    "duration": 49,
    "start_time": "2023-01-21T19:16:10.539Z"
   },
   {
    "duration": 1335,
    "start_time": "2023-01-21T19:16:17.650Z"
   },
   {
    "duration": 3,
    "start_time": "2023-01-21T19:16:18.987Z"
   },
   {
    "duration": 7583,
    "start_time": "2023-01-21T19:16:19.505Z"
   },
   {
    "duration": 11447,
    "start_time": "2023-01-21T19:16:27.090Z"
   },
   {
    "duration": 10218,
    "start_time": "2023-01-21T19:17:04.232Z"
   },
   {
    "duration": 3353,
    "start_time": "2023-01-21T19:18:12.219Z"
   },
   {
    "duration": 167,
    "start_time": "2023-01-21T19:20:33.316Z"
   },
   {
    "duration": 90,
    "start_time": "2023-01-21T19:21:03.970Z"
   },
   {
    "duration": 5199,
    "start_time": "2023-01-21T19:21:24.109Z"
   },
   {
    "duration": 1792,
    "start_time": "2023-01-21T19:21:42.138Z"
   },
   {
    "duration": 96,
    "start_time": "2023-01-21T19:22:11.009Z"
   },
   {
    "duration": 88,
    "start_time": "2023-01-21T19:22:17.293Z"
   },
   {
    "duration": 110,
    "start_time": "2023-01-21T19:22:22.940Z"
   },
   {
    "duration": 14251,
    "start_time": "2023-01-21T19:22:32.427Z"
   },
   {
    "duration": 99,
    "start_time": "2023-01-21T19:22:58.466Z"
   },
   {
    "duration": 5158,
    "start_time": "2023-01-21T19:24:00.609Z"
   },
   {
    "duration": 22583,
    "start_time": "2023-01-21T19:25:28.423Z"
   },
   {
    "duration": 97,
    "start_time": "2023-01-21T19:26:29.772Z"
   },
   {
    "duration": 21960,
    "start_time": "2023-01-21T19:29:38.507Z"
   },
   {
    "duration": 406,
    "start_time": "2023-01-21T19:30:30.365Z"
   },
   {
    "duration": 408,
    "start_time": "2023-01-21T19:34:00.774Z"
   },
   {
    "duration": 10,
    "start_time": "2023-01-21T19:34:06.772Z"
   },
   {
    "duration": 21141,
    "start_time": "2023-01-21T19:36:25.899Z"
   },
   {
    "duration": 394,
    "start_time": "2023-01-21T19:36:47.042Z"
   },
   {
    "duration": 392,
    "start_time": "2023-01-21T19:44:29.182Z"
   },
   {
    "duration": 375,
    "start_time": "2023-01-21T19:44:48.881Z"
   },
   {
    "duration": 14,
    "start_time": "2023-01-21T19:45:00.151Z"
   },
   {
    "duration": 1250,
    "start_time": "2023-01-21T19:45:55.986Z"
   },
   {
    "duration": 3,
    "start_time": "2023-01-21T19:45:57.238Z"
   },
   {
    "duration": 7529,
    "start_time": "2023-01-21T19:45:57.243Z"
   },
   {
    "duration": 17338,
    "start_time": "2023-01-21T19:46:04.774Z"
   },
   {
    "duration": 49,
    "start_time": "2023-01-21T19:46:22.115Z"
   },
   {
    "duration": 3509,
    "start_time": "2023-01-21T19:46:22.166Z"
   },
   {
    "duration": 11088,
    "start_time": "2023-01-21T19:46:25.677Z"
   },
   {
    "duration": 204,
    "start_time": "2023-01-21T19:46:36.766Z"
   },
   {
    "duration": 7,
    "start_time": "2023-01-21T19:46:36.972Z"
   },
   {
    "duration": 196,
    "start_time": "2023-01-21T19:46:36.981Z"
   },
   {
    "duration": 17980,
    "start_time": "2023-01-21T19:46:37.179Z"
   },
   {
    "duration": 113,
    "start_time": "2023-01-21T19:46:55.160Z"
   },
   {
    "duration": 72,
    "start_time": "2023-01-21T19:47:40.954Z"
   },
   {
    "duration": 6,
    "start_time": "2023-01-22T12:20:08.190Z"
   },
   {
    "duration": 7,
    "start_time": "2023-01-22T12:20:19.435Z"
   },
   {
    "duration": 1441,
    "start_time": "2023-01-22T12:20:27.622Z"
   },
   {
    "duration": 4,
    "start_time": "2023-01-22T12:20:29.065Z"
   },
   {
    "duration": 7648,
    "start_time": "2023-01-22T12:20:29.070Z"
   },
   {
    "duration": 15769,
    "start_time": "2023-01-22T12:20:36.720Z"
   },
   {
    "duration": 30,
    "start_time": "2023-01-22T12:20:52.490Z"
   },
   {
    "duration": 3149,
    "start_time": "2023-01-22T12:20:52.527Z"
   },
   {
    "duration": 11180,
    "start_time": "2023-01-22T12:20:55.678Z"
   },
   {
    "duration": 1627,
    "start_time": "2023-01-22T12:21:06.859Z"
   },
   {
    "duration": 8,
    "start_time": "2023-01-22T12:21:08.488Z"
   },
   {
    "duration": 236,
    "start_time": "2023-01-22T12:21:08.498Z"
   },
   {
    "duration": 19842,
    "start_time": "2023-01-22T12:21:08.736Z"
   },
   {
    "duration": 71,
    "start_time": "2023-01-22T12:21:28.580Z"
   },
   {
    "duration": 34,
    "start_time": "2023-01-22T12:21:28.653Z"
   },
   {
    "duration": 145,
    "start_time": "2023-01-22T12:22:23.776Z"
   },
   {
    "duration": 9,
    "start_time": "2023-01-22T12:23:55.635Z"
   },
   {
    "duration": 11,
    "start_time": "2023-01-22T12:26:16.838Z"
   },
   {
    "duration": 34,
    "start_time": "2023-01-22T12:26:42.620Z"
   },
   {
    "duration": 30,
    "start_time": "2023-01-22T12:27:31.044Z"
   },
   {
    "duration": 27,
    "start_time": "2023-01-22T12:27:45.528Z"
   },
   {
    "duration": 28,
    "start_time": "2023-01-22T12:28:23.663Z"
   },
   {
    "duration": 52,
    "start_time": "2023-01-22T12:29:12.522Z"
   },
   {
    "duration": 54,
    "start_time": "2023-01-22T12:29:40.398Z"
   },
   {
    "duration": 176,
    "start_time": "2023-01-22T12:31:22.830Z"
   },
   {
    "duration": 187,
    "start_time": "2023-01-22T12:31:28.173Z"
   },
   {
    "duration": 184,
    "start_time": "2023-01-22T12:31:36.828Z"
   },
   {
    "duration": 173,
    "start_time": "2023-01-22T12:33:26.081Z"
   },
   {
    "duration": 202,
    "start_time": "2023-01-22T12:34:26.120Z"
   },
   {
    "duration": 251,
    "start_time": "2023-01-22T12:34:36.120Z"
   },
   {
    "duration": 120,
    "start_time": "2023-01-22T12:34:57.495Z"
   },
   {
    "duration": 113,
    "start_time": "2023-01-22T12:35:37.774Z"
   },
   {
    "duration": 34,
    "start_time": "2023-01-22T12:35:41.242Z"
   },
   {
    "duration": 360,
    "start_time": "2023-01-22T12:37:02.171Z"
   },
   {
    "duration": 108,
    "start_time": "2023-01-22T12:37:24.144Z"
   },
   {
    "duration": 54,
    "start_time": "2023-01-22T12:37:33.733Z"
   },
   {
    "duration": 138,
    "start_time": "2023-01-22T12:39:37.904Z"
   },
   {
    "duration": 160,
    "start_time": "2023-01-22T12:39:45.234Z"
   },
   {
    "duration": 599,
    "start_time": "2023-01-22T12:40:27.970Z"
   },
   {
    "duration": 612,
    "start_time": "2023-01-22T12:40:37.731Z"
   },
   {
    "duration": 123,
    "start_time": "2023-01-22T12:40:54.289Z"
   },
   {
    "duration": 125,
    "start_time": "2023-01-22T12:40:58.971Z"
   },
   {
    "duration": 1268,
    "start_time": "2023-01-22T12:41:08.199Z"
   },
   {
    "duration": 10,
    "start_time": "2023-01-22T12:42:13.643Z"
   },
   {
    "duration": 10,
    "start_time": "2023-01-22T12:42:21.677Z"
   },
   {
    "duration": 10,
    "start_time": "2023-01-22T13:37:10.518Z"
   },
   {
    "duration": 10,
    "start_time": "2023-01-22T13:37:33.587Z"
   },
   {
    "duration": 38,
    "start_time": "2023-01-22T13:37:39.968Z"
   },
   {
    "duration": 72,
    "start_time": "2023-01-22T13:37:45.239Z"
   },
   {
    "duration": 304,
    "start_time": "2023-01-22T13:38:04.372Z"
   },
   {
    "duration": 432,
    "start_time": "2023-01-22T13:38:14.812Z"
   },
   {
    "duration": 11,
    "start_time": "2023-01-22T13:38:35.337Z"
   },
   {
    "duration": 4,
    "start_time": "2023-01-22T13:39:13.570Z"
   },
   {
    "duration": 66,
    "start_time": "2023-01-22T13:39:40.491Z"
   },
   {
    "duration": 45,
    "start_time": "2023-01-22T13:39:56.603Z"
   },
   {
    "duration": 64330,
    "start_time": "2023-01-22T13:40:44.720Z"
   },
   {
    "duration": 181,
    "start_time": "2023-01-22T13:41:56.720Z"
   },
   {
    "duration": 55,
    "start_time": "2023-01-22T13:43:16.264Z"
   },
   {
    "duration": 16,
    "start_time": "2023-01-22T13:43:21.820Z"
   },
   {
    "duration": 11,
    "start_time": "2023-01-22T13:44:10.350Z"
   },
   {
    "duration": 40,
    "start_time": "2023-01-22T13:44:26.363Z"
   },
   {
    "duration": 161,
    "start_time": "2023-01-22T13:44:32.273Z"
   },
   {
    "duration": 59,
    "start_time": "2023-01-22T13:44:54.920Z"
   },
   {
    "duration": 166,
    "start_time": "2023-01-22T13:44:56.806Z"
   },
   {
    "duration": 64,
    "start_time": "2023-01-22T13:45:03.027Z"
   },
   {
    "duration": 28,
    "start_time": "2023-01-22T13:45:11.854Z"
   },
   {
    "duration": 158,
    "start_time": "2023-01-22T13:45:24.753Z"
   },
   {
    "duration": 32,
    "start_time": "2023-01-22T13:45:29.178Z"
   },
   {
    "duration": 26,
    "start_time": "2023-01-22T13:45:29.768Z"
   },
   {
    "duration": 176,
    "start_time": "2023-01-22T13:45:41.079Z"
   },
   {
    "duration": 30,
    "start_time": "2023-01-22T13:45:52.866Z"
   },
   {
    "duration": 112,
    "start_time": "2023-01-22T13:46:13.903Z"
   },
   {
    "duration": 5,
    "start_time": "2023-01-22T13:46:20.863Z"
   },
   {
    "duration": 169,
    "start_time": "2023-01-22T13:46:52.984Z"
   },
   {
    "duration": 17,
    "start_time": "2023-01-22T13:48:18.886Z"
   },
   {
    "duration": 4,
    "start_time": "2023-01-22T13:48:37.316Z"
   },
   {
    "duration": 47,
    "start_time": "2023-01-22T13:49:06.718Z"
   },
   {
    "duration": 27,
    "start_time": "2023-01-22T13:49:12.995Z"
   },
   {
    "duration": 100,
    "start_time": "2023-01-22T13:49:21.254Z"
   },
   {
    "duration": 5,
    "start_time": "2023-01-22T13:49:53.787Z"
   },
   {
    "duration": 5,
    "start_time": "2023-01-22T13:50:00.012Z"
   },
   {
    "duration": 101,
    "start_time": "2023-01-22T13:50:45.484Z"
   },
   {
    "duration": 2182,
    "start_time": "2023-01-22T13:57:55.352Z"
   },
   {
    "duration": 74,
    "start_time": "2023-01-22T21:12:36.698Z"
   },
   {
    "duration": 1792,
    "start_time": "2023-01-22T21:12:44.471Z"
   },
   {
    "duration": 4,
    "start_time": "2023-01-22T21:12:46.265Z"
   },
   {
    "duration": 4893,
    "start_time": "2023-01-22T21:12:46.271Z"
   },
   {
    "duration": 16833,
    "start_time": "2023-01-22T21:12:51.166Z"
   },
   {
    "duration": 29,
    "start_time": "2023-01-22T21:13:08.001Z"
   },
   {
    "duration": 3679,
    "start_time": "2023-01-22T21:13:08.032Z"
   },
   {
    "duration": 12611,
    "start_time": "2023-01-22T21:13:11.713Z"
   },
   {
    "duration": 233,
    "start_time": "2023-01-22T21:13:24.326Z"
   },
   {
    "duration": 8,
    "start_time": "2023-01-22T21:13:24.561Z"
   },
   {
    "duration": 302,
    "start_time": "2023-01-22T21:13:24.572Z"
   },
   {
    "duration": 13502,
    "start_time": "2023-01-22T21:13:24.876Z"
   },
   {
    "duration": 69,
    "start_time": "2023-01-22T21:13:38.380Z"
   },
   {
    "duration": 141,
    "start_time": "2023-01-22T21:13:38.451Z"
   },
   {
    "duration": 395,
    "start_time": "2023-01-22T21:13:38.594Z"
   },
   {
    "duration": 106,
    "start_time": "2023-01-22T21:13:53.175Z"
   },
   {
    "duration": 48,
    "start_time": "2023-01-22T21:13:56.287Z"
   },
   {
    "duration": 1378,
    "start_time": "2023-01-22T21:13:56.945Z"
   },
   {
    "duration": 13,
    "start_time": "2023-01-22T21:13:58.392Z"
   },
   {
    "duration": 5,
    "start_time": "2023-01-22T21:13:58.680Z"
   },
   {
    "duration": 55,
    "start_time": "2023-01-22T21:14:00.472Z"
   },
   {
    "duration": 237,
    "start_time": "2023-01-22T21:14:00.680Z"
   },
   {
    "duration": 37,
    "start_time": "2023-01-22T21:14:01.176Z"
   },
   {
    "duration": 4,
    "start_time": "2023-01-22T21:14:01.529Z"
   },
   {
    "duration": 17,
    "start_time": "2023-01-22T21:14:03.233Z"
   },
   {
    "duration": 5,
    "start_time": "2023-01-22T21:14:04.032Z"
   },
   {
    "duration": 72,
    "start_time": "2023-01-22T21:14:04.832Z"
   },
   {
    "duration": 6,
    "start_time": "2023-01-22T21:14:05.249Z"
   },
   {
    "duration": 89,
    "start_time": "2023-01-22T21:14:38.810Z"
   },
   {
    "duration": 25,
    "start_time": "2023-01-22T21:14:44.602Z"
   },
   {
    "duration": 84,
    "start_time": "2023-01-22T21:16:16.342Z"
   },
   {
    "duration": 921,
    "start_time": "2023-01-22T21:19:13.762Z"
   },
   {
    "duration": 27,
    "start_time": "2023-01-22T21:19:19.719Z"
   },
   {
    "duration": 28,
    "start_time": "2023-01-22T21:19:31.056Z"
   },
   {
    "duration": 142,
    "start_time": "2023-01-22T21:20:18.485Z"
   },
   {
    "duration": 37,
    "start_time": "2023-01-22T21:20:23.029Z"
   },
   {
    "duration": 52,
    "start_time": "2023-01-22T21:20:45.854Z"
   },
   {
    "duration": 59,
    "start_time": "2023-01-22T21:20:46.383Z"
   },
   {
    "duration": 1075,
    "start_time": "2023-01-22T21:20:47.208Z"
   },
   {
    "duration": 36,
    "start_time": "2023-01-22T21:20:49.854Z"
   },
   {
    "duration": 38,
    "start_time": "2023-01-22T22:23:48.145Z"
   },
   {
    "duration": 101,
    "start_time": "2023-01-22T22:23:55.937Z"
   },
   {
    "duration": 76,
    "start_time": "2023-01-22T22:23:57.795Z"
   },
   {
    "duration": 9,
    "start_time": "2023-01-22T22:24:04.305Z"
   },
   {
    "duration": 4,
    "start_time": "2023-01-22T22:24:07.226Z"
   },
   {
    "duration": 5,
    "start_time": "2023-01-22T22:26:21.765Z"
   },
   {
    "duration": 4,
    "start_time": "2023-01-22T22:26:59.727Z"
   },
   {
    "duration": 13,
    "start_time": "2023-01-22T22:27:31.770Z"
   },
   {
    "duration": 4,
    "start_time": "2023-01-22T22:28:04.770Z"
   },
   {
    "duration": 22439,
    "start_time": "2023-01-22T22:28:07.427Z"
   },
   {
    "duration": 0,
    "start_time": "2023-01-22T22:28:29.868Z"
   },
   {
    "duration": 13,
    "start_time": "2023-01-22T22:28:53.004Z"
   },
   {
    "duration": 23497,
    "start_time": "2023-01-22T22:29:14.740Z"
   },
   {
    "duration": 4,
    "start_time": "2023-01-22T22:30:12.542Z"
   },
   {
    "duration": 18,
    "start_time": "2023-01-22T22:30:16.865Z"
   },
   {
    "duration": 1497845,
    "start_time": "2023-01-22T22:30:24.718Z"
   },
   {
    "duration": 10,
    "start_time": "2023-01-22T22:55:22.566Z"
   },
   {
    "duration": 63745,
    "start_time": "2023-01-23T05:07:10.674Z"
   },
   {
    "duration": 2110,
    "start_time": "2023-01-23T08:32:29.281Z"
   },
   {
    "duration": 3,
    "start_time": "2023-01-23T08:32:31.393Z"
   },
   {
    "duration": 5901,
    "start_time": "2023-01-23T08:32:31.398Z"
   },
   {
    "duration": 1595,
    "start_time": "2023-01-23T08:32:54.479Z"
   },
   {
    "duration": 3,
    "start_time": "2023-01-23T08:32:56.077Z"
   },
   {
    "duration": 6137,
    "start_time": "2023-01-23T08:32:56.082Z"
   },
   {
    "duration": 17907,
    "start_time": "2023-01-23T08:33:02.221Z"
   },
   {
    "duration": 43,
    "start_time": "2023-01-23T08:33:20.131Z"
   },
   {
    "duration": 4030,
    "start_time": "2023-01-23T08:33:20.176Z"
   },
   {
    "duration": 1857,
    "start_time": "2023-01-23T08:35:21.040Z"
   },
   {
    "duration": 4,
    "start_time": "2023-01-23T08:35:22.902Z"
   },
   {
    "duration": 5418,
    "start_time": "2023-01-23T08:35:22.908Z"
   },
   {
    "duration": 16870,
    "start_time": "2023-01-23T08:35:28.328Z"
   },
   {
    "duration": 27,
    "start_time": "2023-01-23T08:35:45.201Z"
   },
   {
    "duration": 3626,
    "start_time": "2023-01-23T08:35:45.247Z"
   },
   {
    "duration": 1749,
    "start_time": "2023-01-23T08:36:19.502Z"
   },
   {
    "duration": 5,
    "start_time": "2023-01-23T08:36:22.300Z"
   },
   {
    "duration": 4956,
    "start_time": "2023-01-23T08:36:23.632Z"
   },
   {
    "duration": 16982,
    "start_time": "2023-01-23T08:36:28.590Z"
   },
   {
    "duration": 40,
    "start_time": "2023-01-23T08:36:45.574Z"
   },
   {
    "duration": 3709,
    "start_time": "2023-01-23T08:36:45.616Z"
   },
   {
    "duration": 1809,
    "start_time": "2023-01-23T08:37:46.233Z"
   },
   {
    "duration": 4,
    "start_time": "2023-01-23T08:37:48.044Z"
   },
   {
    "duration": 5299,
    "start_time": "2023-01-23T08:37:48.049Z"
   },
   {
    "duration": 16245,
    "start_time": "2023-01-23T08:37:53.350Z"
   },
   {
    "duration": 38,
    "start_time": "2023-01-23T08:38:09.598Z"
   },
   {
    "duration": 3489,
    "start_time": "2023-01-23T08:38:09.648Z"
   },
   {
    "duration": 1676,
    "start_time": "2023-01-23T08:41:25.710Z"
   },
   {
    "duration": 3,
    "start_time": "2023-01-23T08:41:27.388Z"
   },
   {
    "duration": 5557,
    "start_time": "2023-01-23T08:41:30.363Z"
   },
   {
    "duration": 16236,
    "start_time": "2023-01-23T08:41:41.178Z"
   },
   {
    "duration": 28,
    "start_time": "2023-01-23T08:41:59.363Z"
   },
   {
    "duration": 3597,
    "start_time": "2023-01-23T08:42:00.888Z"
   },
   {
    "duration": 1885,
    "start_time": "2023-01-23T08:47:42.609Z"
   },
   {
    "duration": 4,
    "start_time": "2023-01-23T08:47:44.496Z"
   },
   {
    "duration": 6891,
    "start_time": "2023-01-23T08:47:44.501Z"
   },
   {
    "duration": 16729,
    "start_time": "2023-01-23T08:47:51.394Z"
   },
   {
    "duration": 44,
    "start_time": "2023-01-23T08:48:08.126Z"
   },
   {
    "duration": 3819,
    "start_time": "2023-01-23T08:48:08.179Z"
   },
   {
    "duration": 1899,
    "start_time": "2023-01-23T17:47:40.555Z"
   },
   {
    "duration": 3,
    "start_time": "2023-01-23T17:47:42.456Z"
   },
   {
    "duration": 5195,
    "start_time": "2023-01-23T17:47:42.461Z"
   },
   {
    "duration": 15972,
    "start_time": "2023-01-23T17:47:47.658Z"
   },
   {
    "duration": 34,
    "start_time": "2023-01-23T17:48:03.632Z"
   },
   {
    "duration": 3590,
    "start_time": "2023-01-23T17:48:03.668Z"
   },
   {
    "duration": 10654,
    "start_time": "2023-01-23T17:48:07.259Z"
   },
   {
    "duration": 239,
    "start_time": "2023-01-23T17:48:17.915Z"
   },
   {
    "duration": 10,
    "start_time": "2023-01-23T17:48:18.157Z"
   },
   {
    "duration": 219,
    "start_time": "2023-01-23T17:48:18.175Z"
   },
   {
    "duration": 19644,
    "start_time": "2023-01-23T17:48:18.397Z"
   },
   {
    "duration": 60,
    "start_time": "2023-01-23T17:48:38.043Z"
   },
   {
    "duration": 154,
    "start_time": "2023-01-23T17:48:38.105Z"
   },
   {
    "duration": 322,
    "start_time": "2023-01-23T17:48:38.261Z"
   },
   {
    "duration": 105,
    "start_time": "2023-01-23T17:48:38.584Z"
   },
   {
    "duration": 43,
    "start_time": "2023-01-23T17:48:38.690Z"
   },
   {
    "duration": 1297,
    "start_time": "2023-01-23T17:48:38.748Z"
   },
   {
    "duration": 12,
    "start_time": "2023-01-23T17:48:40.048Z"
   },
   {
    "duration": 8,
    "start_time": "2023-01-23T17:48:40.062Z"
   },
   {
    "duration": 44,
    "start_time": "2023-01-23T17:48:40.071Z"
   },
   {
    "duration": 162,
    "start_time": "2023-01-23T17:48:40.117Z"
   },
   {
    "duration": 26,
    "start_time": "2023-01-23T17:48:40.281Z"
   },
   {
    "duration": 3,
    "start_time": "2023-01-23T17:48:40.309Z"
   },
   {
    "duration": 41,
    "start_time": "2023-01-23T17:48:40.313Z"
   },
   {
    "duration": 3,
    "start_time": "2023-01-23T17:48:40.356Z"
   },
   {
    "duration": 48,
    "start_time": "2023-01-23T17:48:40.361Z"
   },
   {
    "duration": 5,
    "start_time": "2023-01-23T17:48:40.411Z"
   },
   {
    "duration": 48,
    "start_time": "2023-01-23T17:48:40.419Z"
   },
   {
    "duration": 61,
    "start_time": "2023-01-23T17:48:40.469Z"
   },
   {
    "duration": 1018,
    "start_time": "2023-01-23T17:48:40.532Z"
   },
   {
    "duration": 104,
    "start_time": "2023-01-23T17:48:41.552Z"
   },
   {
    "duration": 3,
    "start_time": "2023-01-23T17:48:41.657Z"
   },
   {
    "duration": 22804,
    "start_time": "2023-01-23T17:48:41.661Z"
   },
   {
    "duration": 4,
    "start_time": "2023-01-23T17:49:04.467Z"
   },
   {
    "duration": 67379,
    "start_time": "2023-01-23T17:49:04.472Z"
   },
   {
    "duration": 4798,
    "start_time": "2023-01-23T17:50:11.853Z"
   },
   {
    "duration": 128,
    "start_time": "2023-01-23T17:50:16.654Z"
   },
   {
    "duration": 1639,
    "start_time": "2023-01-23T17:59:06.396Z"
   },
   {
    "duration": 12,
    "start_time": "2023-01-23T17:59:14.563Z"
   },
   {
    "duration": 23,
    "start_time": "2023-01-23T17:59:25.813Z"
   },
   {
    "duration": 13,
    "start_time": "2023-01-23T18:00:50.854Z"
   },
   {
    "duration": 15,
    "start_time": "2023-01-23T18:01:22.631Z"
   },
   {
    "duration": 738,
    "start_time": "2023-01-23T18:01:25.639Z"
   },
   {
    "duration": 22,
    "start_time": "2023-01-23T18:02:05.002Z"
   },
   {
    "duration": 7,
    "start_time": "2023-01-23T18:02:16.035Z"
   },
   {
    "duration": 7,
    "start_time": "2023-01-23T18:02:21.107Z"
   },
   {
    "duration": 7,
    "start_time": "2023-01-23T18:02:25.099Z"
   },
   {
    "duration": 6,
    "start_time": "2023-01-23T18:03:05.492Z"
   },
   {
    "duration": 38,
    "start_time": "2023-01-23T18:03:11.787Z"
   },
   {
    "duration": 13,
    "start_time": "2023-01-23T18:05:32.537Z"
   },
   {
    "duration": 4,
    "start_time": "2023-01-23T18:05:34.888Z"
   },
   {
    "duration": 47,
    "start_time": "2023-01-23T18:05:36.290Z"
   },
   {
    "duration": 26,
    "start_time": "2023-01-23T18:06:57.188Z"
   },
   {
    "duration": 12,
    "start_time": "2023-01-23T18:10:33.661Z"
   },
   {
    "duration": 118,
    "start_time": "2023-01-23T18:10:39.924Z"
   },
   {
    "duration": 25,
    "start_time": "2023-01-23T18:10:45.346Z"
   },
   {
    "duration": 118,
    "start_time": "2023-01-23T18:13:22.194Z"
   },
   {
    "duration": 26,
    "start_time": "2023-01-23T18:13:27.064Z"
   },
   {
    "duration": 26,
    "start_time": "2023-01-23T18:13:34.129Z"
   },
   {
    "duration": 1504,
    "start_time": "2023-01-23T18:14:08.817Z"
   },
   {
    "duration": 4,
    "start_time": "2023-01-23T18:16:03.791Z"
   },
   {
    "duration": 45,
    "start_time": "2023-01-23T18:16:11.542Z"
   },
   {
    "duration": 45,
    "start_time": "2023-01-23T18:16:18.327Z"
   },
   {
    "duration": 64,
    "start_time": "2023-01-23T18:16:18.655Z"
   },
   {
    "duration": 1067,
    "start_time": "2023-01-23T18:16:19.646Z"
   },
   {
    "duration": 94,
    "start_time": "2023-01-23T18:16:20.715Z"
   },
   {
    "duration": 131,
    "start_time": "2023-01-23T18:16:23.350Z"
   },
   {
    "duration": 4,
    "start_time": "2023-01-23T18:16:24.591Z"
   },
   {
    "duration": 115,
    "start_time": "2023-01-23T18:16:31.735Z"
   },
   {
    "duration": 18,
    "start_time": "2023-01-23T18:16:32.672Z"
   },
   {
    "duration": 1647,
    "start_time": "2023-01-23T18:17:06.217Z"
   },
   {
    "duration": 135,
    "start_time": "2023-01-23T18:17:30.729Z"
   },
   {
    "duration": 5,
    "start_time": "2023-01-23T18:18:03.146Z"
   },
   {
    "duration": 112,
    "start_time": "2023-01-23T18:18:04.051Z"
   },
   {
    "duration": 3,
    "start_time": "2023-01-23T18:18:53.525Z"
   },
   {
    "duration": 7,
    "start_time": "2023-01-23T18:19:59.321Z"
   },
   {
    "duration": 109,
    "start_time": "2023-01-23T18:20:00.421Z"
   },
   {
    "duration": 3,
    "start_time": "2023-01-23T18:20:11.919Z"
   },
   {
    "duration": 1494,
    "start_time": "2023-01-23T18:20:15.839Z"
   },
   {
    "duration": 40,
    "start_time": "2023-01-23T18:20:34.703Z"
   },
   {
    "duration": 603,
    "start_time": "2023-01-23T18:20:35.577Z"
   },
   {
    "duration": 89891,
    "start_time": "2023-01-23T18:20:59.761Z"
   },
   {
    "duration": 0,
    "start_time": "2023-01-23T18:23:29.434Z"
   },
   {
    "duration": 196114,
    "start_time": "2023-01-23T18:23:31.652Z"
   },
   {
    "duration": 3,
    "start_time": "2023-01-23T19:10:55.130Z"
   },
   {
    "duration": 4,
    "start_time": "2023-01-23T19:10:59.761Z"
   },
   {
    "duration": 9,
    "start_time": "2023-01-23T19:12:15.582Z"
   },
   {
    "duration": 17,
    "start_time": "2023-01-23T19:48:55.728Z"
   },
   {
    "duration": 4,
    "start_time": "2023-01-23T20:02:28.862Z"
   },
   {
    "duration": 9,
    "start_time": "2023-01-23T20:02:35.998Z"
   },
   {
    "duration": 9,
    "start_time": "2023-01-23T20:02:41.863Z"
   },
   {
    "duration": 11,
    "start_time": "2023-01-23T20:02:52.584Z"
   },
   {
    "duration": 4620,
    "start_time": "2023-01-23T20:03:07.432Z"
   },
   {
    "duration": 11,
    "start_time": "2023-01-23T20:03:17.784Z"
   },
   {
    "duration": 12,
    "start_time": "2023-01-23T20:03:44.555Z"
   },
   {
    "duration": 9,
    "start_time": "2023-01-23T20:05:23.340Z"
   },
   {
    "duration": 783,
    "start_time": "2023-01-23T20:05:30.028Z"
   },
   {
    "duration": 4,
    "start_time": "2023-01-23T20:05:33.821Z"
   },
   {
    "duration": 8,
    "start_time": "2023-01-23T20:05:39.190Z"
   },
   {
    "duration": 9,
    "start_time": "2023-01-23T20:05:43.925Z"
   },
   {
    "duration": 4,
    "start_time": "2023-01-23T20:05:52.535Z"
   },
   {
    "duration": 5,
    "start_time": "2023-01-23T22:36:38.759Z"
   },
   {
    "duration": 16,
    "start_time": "2023-01-23T22:37:37.011Z"
   },
   {
    "duration": 4,
    "start_time": "2023-01-23T22:37:40.137Z"
   },
   {
    "duration": 5,
    "start_time": "2023-01-23T22:38:40.395Z"
   },
   {
    "duration": 26,
    "start_time": "2023-01-23T22:38:45.333Z"
   },
   {
    "duration": 17,
    "start_time": "2023-01-23T22:39:30.110Z"
   },
   {
    "duration": 20,
    "start_time": "2023-01-23T22:39:35.606Z"
   },
   {
    "duration": 20,
    "start_time": "2023-01-23T22:39:51.827Z"
   },
   {
    "duration": 26,
    "start_time": "2023-01-23T22:43:19.943Z"
   },
   {
    "duration": 177,
    "start_time": "2023-01-23T22:44:16.674Z"
   },
   {
    "duration": 174,
    "start_time": "2023-01-23T22:44:42.562Z"
   },
   {
    "duration": 172,
    "start_time": "2023-01-23T22:44:57.114Z"
   },
   {
    "duration": 311,
    "start_time": "2023-01-23T22:45:10.442Z"
   },
   {
    "duration": 4,
    "start_time": "2023-01-23T22:46:14.868Z"
   },
   {
    "duration": 456,
    "start_time": "2023-01-23T22:46:19.101Z"
   },
   {
    "duration": 456,
    "start_time": "2023-01-23T22:46:33.189Z"
   },
   {
    "duration": 5,
    "start_time": "2023-01-23T22:48:27.946Z"
   },
   {
    "duration": 4,
    "start_time": "2023-01-23T22:49:19.415Z"
   },
   {
    "duration": 142,
    "start_time": "2023-01-23T22:49:21.659Z"
   },
   {
    "duration": 112,
    "start_time": "2023-01-23T22:49:30.756Z"
   },
   {
    "duration": 110,
    "start_time": "2023-01-23T22:49:38.245Z"
   },
   {
    "duration": 9,
    "start_time": "2023-01-23T23:00:15.450Z"
   },
   {
    "duration": 3699,
    "start_time": "2023-01-23T23:01:06.388Z"
   },
   {
    "duration": 1004,
    "start_time": "2023-01-23T23:01:15.043Z"
   },
   {
    "duration": 19,
    "start_time": "2023-01-23T23:03:12.564Z"
   },
   {
    "duration": 1754,
    "start_time": "2023-01-23T23:03:18.601Z"
   },
   {
    "duration": 47,
    "start_time": "2023-01-23T23:03:27.184Z"
   },
   {
    "duration": 1966,
    "start_time": "2023-01-23T23:03:31.297Z"
   },
   {
    "duration": 22,
    "start_time": "2023-01-23T23:05:46.844Z"
   },
   {
    "duration": 5,
    "start_time": "2023-01-23T23:06:06.229Z"
   },
   {
    "duration": 20,
    "start_time": "2023-01-23T23:06:10.989Z"
   },
   {
    "duration": 22,
    "start_time": "2023-01-23T23:07:15.848Z"
   },
   {
    "duration": 5,
    "start_time": "2023-01-23T23:07:32.711Z"
   },
   {
    "duration": 43,
    "start_time": "2023-01-23T23:08:15.802Z"
   },
   {
    "duration": 6,
    "start_time": "2023-01-23T23:08:41.660Z"
   },
   {
    "duration": 1628,
    "start_time": "2023-01-23T23:08:46.428Z"
   },
   {
    "duration": 2,
    "start_time": "2023-01-23T23:08:48.058Z"
   },
   {
    "duration": 10,
    "start_time": "2023-01-23T23:08:48.062Z"
   },
   {
    "duration": 4591,
    "start_time": "2023-01-23T23:08:48.073Z"
   },
   {
    "duration": 16527,
    "start_time": "2023-01-23T23:08:52.667Z"
   },
   {
    "duration": 27,
    "start_time": "2023-01-23T23:09:09.195Z"
   },
   {
    "duration": 3502,
    "start_time": "2023-01-23T23:09:09.223Z"
   },
   {
    "duration": 10406,
    "start_time": "2023-01-23T23:09:12.727Z"
   },
   {
    "duration": 243,
    "start_time": "2023-01-23T23:09:23.135Z"
   },
   {
    "duration": 7,
    "start_time": "2023-01-23T23:09:23.380Z"
   },
   {
    "duration": 177,
    "start_time": "2023-01-23T23:09:23.388Z"
   },
   {
    "duration": 17292,
    "start_time": "2023-01-23T23:09:23.566Z"
   },
   {
    "duration": 60,
    "start_time": "2023-01-23T23:09:40.860Z"
   },
   {
    "duration": 163,
    "start_time": "2023-01-23T23:09:40.923Z"
   },
   {
    "duration": 343,
    "start_time": "2023-01-23T23:09:41.088Z"
   },
   {
    "duration": 116,
    "start_time": "2023-01-23T23:09:41.432Z"
   },
   {
    "duration": 142,
    "start_time": "2023-01-23T23:09:41.549Z"
   },
   {
    "duration": 1448,
    "start_time": "2023-01-23T23:09:41.693Z"
   },
   {
    "duration": 14,
    "start_time": "2023-01-23T23:09:43.143Z"
   },
   {
    "duration": 4,
    "start_time": "2023-01-23T23:09:43.159Z"
   },
   {
    "duration": 52,
    "start_time": "2023-01-23T23:09:43.165Z"
   },
   {
    "duration": 164,
    "start_time": "2023-01-23T23:09:43.219Z"
   },
   {
    "duration": 28,
    "start_time": "2023-01-23T23:09:43.384Z"
   },
   {
    "duration": 5,
    "start_time": "2023-01-23T23:09:43.413Z"
   },
   {
    "duration": 33,
    "start_time": "2023-01-23T23:09:43.419Z"
   },
   {
    "duration": 3,
    "start_time": "2023-01-23T23:09:43.454Z"
   },
   {
    "duration": 59,
    "start_time": "2023-01-23T23:09:43.459Z"
   },
   {
    "duration": 5,
    "start_time": "2023-01-23T23:09:43.520Z"
   },
   {
    "duration": 43,
    "start_time": "2023-01-23T23:09:43.527Z"
   },
   {
    "duration": 61,
    "start_time": "2023-01-23T23:09:43.571Z"
   },
   {
    "duration": 1037,
    "start_time": "2023-01-23T23:09:43.633Z"
   },
   {
    "duration": 103,
    "start_time": "2023-01-23T23:09:44.671Z"
   },
   {
    "duration": 4,
    "start_time": "2023-01-23T23:09:44.776Z"
   },
   {
    "duration": 22915,
    "start_time": "2023-01-23T23:09:44.782Z"
   },
   {
    "duration": 3,
    "start_time": "2023-01-23T23:10:07.699Z"
   },
   {
    "duration": 66580,
    "start_time": "2023-01-23T23:10:07.704Z"
   },
   {
    "duration": 4979,
    "start_time": "2023-01-23T23:11:14.287Z"
   },
   {
    "duration": 193,
    "start_time": "2023-01-23T23:11:19.268Z"
   },
   {
    "duration": 131,
    "start_time": "2023-01-23T23:11:19.463Z"
   },
   {
    "duration": 10,
    "start_time": "2023-01-23T23:11:19.596Z"
   },
   {
    "duration": 177,
    "start_time": "2023-01-23T23:11:19.612Z"
   },
   {
    "duration": 123572,
    "start_time": "2023-01-23T23:11:19.790Z"
   },
   {
    "duration": 0,
    "start_time": "2023-01-23T23:13:23.364Z"
   },
   {
    "duration": 0,
    "start_time": "2023-01-23T23:13:23.365Z"
   },
   {
    "duration": 0,
    "start_time": "2023-01-23T23:13:23.367Z"
   },
   {
    "duration": 0,
    "start_time": "2023-01-23T23:13:23.368Z"
   },
   {
    "duration": 0,
    "start_time": "2023-01-23T23:13:23.369Z"
   },
   {
    "duration": 0,
    "start_time": "2023-01-23T23:13:23.371Z"
   },
   {
    "duration": 0,
    "start_time": "2023-01-23T23:13:23.372Z"
   },
   {
    "duration": 189130,
    "start_time": "2023-01-23T23:13:31.591Z"
   },
   {
    "duration": 4,
    "start_time": "2023-01-23T23:16:48.403Z"
   },
   {
    "duration": 11,
    "start_time": "2023-01-23T23:16:48.822Z"
   },
   {
    "duration": 725,
    "start_time": "2023-01-23T23:16:56.723Z"
   },
   {
    "duration": 629,
    "start_time": "2023-01-23T23:16:57.451Z"
   },
   {
    "duration": 117,
    "start_time": "2023-01-23T23:16:58.082Z"
   },
   {
    "duration": 987,
    "start_time": "2023-01-23T23:16:58.201Z"
   },
   {
    "duration": 4,
    "start_time": "2023-01-23T23:17:04.036Z"
   },
   {
    "duration": 4,
    "start_time": "2023-01-23T23:17:11.724Z"
   },
   {
    "duration": 916,
    "start_time": "2023-01-23T23:17:27.709Z"
   },
   {
    "duration": 21,
    "start_time": "2023-01-23T23:17:34.417Z"
   },
   {
    "duration": 12,
    "start_time": "2023-01-23T23:18:40.143Z"
   },
   {
    "duration": 14,
    "start_time": "2023-01-23T23:18:43.279Z"
   },
   {
    "duration": 3,
    "start_time": "2023-01-23T23:18:53.897Z"
   },
   {
    "duration": 4,
    "start_time": "2023-01-23T23:18:58.768Z"
   },
   {
    "duration": 3179,
    "start_time": "2023-01-23T23:19:12.177Z"
   },
   {
    "duration": 15,
    "start_time": "2023-01-23T23:23:12.305Z"
   },
   {
    "duration": 19,
    "start_time": "2023-01-23T23:26:09.710Z"
   },
   {
    "duration": 24,
    "start_time": "2023-01-23T23:26:21.289Z"
   },
   {
    "duration": 284,
    "start_time": "2023-01-23T23:26:27.568Z"
   },
   {
    "duration": 727,
    "start_time": "2023-01-23T23:28:08.491Z"
   },
   {
    "duration": 4,
    "start_time": "2023-01-23T23:28:16.364Z"
   },
   {
    "duration": 6,
    "start_time": "2023-01-23T23:28:42.604Z"
   },
   {
    "duration": 7,
    "start_time": "2023-01-23T23:28:54.620Z"
   },
   {
    "duration": 6,
    "start_time": "2023-01-23T23:29:24.656Z"
   },
   {
    "duration": 17,
    "start_time": "2023-01-23T23:29:54.608Z"
   },
   {
    "duration": 7,
    "start_time": "2023-01-23T23:30:15.127Z"
   },
   {
    "duration": 6,
    "start_time": "2023-01-23T23:30:19.415Z"
   },
   {
    "duration": 19,
    "start_time": "2023-01-23T23:30:21.999Z"
   },
   {
    "duration": 11,
    "start_time": "2023-01-23T23:30:35.832Z"
   },
   {
    "duration": 736,
    "start_time": "2023-01-23T23:35:08.924Z"
   },
   {
    "duration": 8,
    "start_time": "2023-01-23T23:35:20.754Z"
   },
   {
    "duration": 4,
    "start_time": "2023-01-23T23:35:32.483Z"
   },
   {
    "duration": 5,
    "start_time": "2023-01-23T23:35:46.890Z"
   },
   {
    "duration": 653,
    "start_time": "2023-01-23T23:35:51.490Z"
   },
   {
    "duration": 24,
    "start_time": "2023-01-23T23:35:59.323Z"
   },
   {
    "duration": 12,
    "start_time": "2023-01-23T23:36:04.307Z"
   },
   {
    "duration": 25,
    "start_time": "2023-01-23T23:36:22.156Z"
   },
   {
    "duration": 12,
    "start_time": "2023-01-23T23:36:22.757Z"
   },
   {
    "duration": 8,
    "start_time": "2023-01-23T23:36:28.580Z"
   },
   {
    "duration": 10,
    "start_time": "2023-01-23T23:36:43.590Z"
   },
   {
    "duration": 11,
    "start_time": "2023-01-23T23:37:28.846Z"
   },
   {
    "duration": 143,
    "start_time": "2023-01-23T23:37:36.222Z"
   },
   {
    "duration": 145,
    "start_time": "2023-01-23T23:38:13.343Z"
   },
   {
    "duration": 436,
    "start_time": "2023-01-23T23:39:19.996Z"
   },
   {
    "duration": 20,
    "start_time": "2023-01-23T23:39:51.530Z"
   },
   {
    "duration": 151,
    "start_time": "2023-01-23T23:39:52.259Z"
   },
   {
    "duration": 240,
    "start_time": "2023-01-23T23:39:59.530Z"
   },
   {
    "duration": 122,
    "start_time": "2023-01-23T23:41:37.391Z"
   },
   {
    "duration": 20,
    "start_time": "2023-01-23T23:41:39.111Z"
   },
   {
    "duration": 131,
    "start_time": "2023-01-23T23:41:40.480Z"
   },
   {
    "duration": 119,
    "start_time": "2023-01-23T23:42:00.279Z"
   },
   {
    "duration": 164,
    "start_time": "2023-01-23T23:44:03.107Z"
   },
   {
    "duration": 1599,
    "start_time": "2023-01-23T23:47:48.722Z"
   },
   {
    "duration": 3,
    "start_time": "2023-01-23T23:47:50.323Z"
   },
   {
    "duration": 7,
    "start_time": "2023-01-23T23:47:50.328Z"
   },
   {
    "duration": 4532,
    "start_time": "2023-01-23T23:47:50.337Z"
   },
   {
    "duration": 18661,
    "start_time": "2023-01-23T23:47:54.871Z"
   },
   {
    "duration": 31,
    "start_time": "2023-01-23T23:48:13.534Z"
   },
   {
    "duration": 3457,
    "start_time": "2023-01-23T23:48:13.566Z"
   },
   {
    "duration": 59,
    "start_time": "2023-01-23T23:48:59.359Z"
   },
   {
    "duration": 1582,
    "start_time": "2023-01-23T23:49:06.635Z"
   },
   {
    "duration": 3,
    "start_time": "2023-01-23T23:49:08.219Z"
   },
   {
    "duration": 7,
    "start_time": "2023-01-23T23:49:08.223Z"
   },
   {
    "duration": 4490,
    "start_time": "2023-01-23T23:49:08.231Z"
   },
   {
    "duration": 16967,
    "start_time": "2023-01-23T23:49:12.723Z"
   },
   {
    "duration": 26,
    "start_time": "2023-01-23T23:49:29.691Z"
   },
   {
    "duration": 3499,
    "start_time": "2023-01-23T23:49:29.718Z"
   },
   {
    "duration": 1701,
    "start_time": "2023-01-23T23:51:44.212Z"
   },
   {
    "duration": 3,
    "start_time": "2023-01-23T23:51:45.915Z"
   },
   {
    "duration": 11,
    "start_time": "2023-01-23T23:51:45.919Z"
   },
   {
    "duration": 4634,
    "start_time": "2023-01-23T23:51:45.931Z"
   },
   {
    "duration": 17242,
    "start_time": "2023-01-23T23:51:50.567Z"
   },
   {
    "duration": 39,
    "start_time": "2023-01-23T23:52:07.810Z"
   },
   {
    "duration": 3544,
    "start_time": "2023-01-23T23:52:07.851Z"
   },
   {
    "duration": 1618,
    "start_time": "2023-01-23T23:52:32.523Z"
   },
   {
    "duration": 3,
    "start_time": "2023-01-23T23:52:34.143Z"
   },
   {
    "duration": 7,
    "start_time": "2023-01-23T23:52:34.150Z"
   },
   {
    "duration": 4771,
    "start_time": "2023-01-23T23:52:34.160Z"
   },
   {
    "duration": 17005,
    "start_time": "2023-01-23T23:52:38.932Z"
   },
   {
    "duration": 29,
    "start_time": "2023-01-23T23:52:55.939Z"
   },
   {
    "duration": 3475,
    "start_time": "2023-01-23T23:52:55.970Z"
   },
   {
    "duration": 1585,
    "start_time": "2023-01-23T23:59:19.260Z"
   },
   {
    "duration": 3,
    "start_time": "2023-01-23T23:59:20.848Z"
   },
   {
    "duration": 6,
    "start_time": "2023-01-23T23:59:20.852Z"
   },
   {
    "duration": 4553,
    "start_time": "2023-01-23T23:59:20.859Z"
   },
   {
    "duration": 1940,
    "start_time": "2023-01-24T09:35:47.124Z"
   },
   {
    "duration": 3,
    "start_time": "2023-01-24T09:35:49.066Z"
   },
   {
    "duration": 27,
    "start_time": "2023-01-24T09:35:49.070Z"
   },
   {
    "duration": 8676,
    "start_time": "2023-01-24T09:35:49.099Z"
   },
   {
    "duration": 15981,
    "start_time": "2023-01-24T09:35:57.777Z"
   },
   {
    "duration": 29,
    "start_time": "2023-01-24T09:36:13.759Z"
   },
   {
    "duration": 3382,
    "start_time": "2023-01-24T09:36:13.790Z"
   },
   {
    "duration": 10481,
    "start_time": "2023-01-24T09:36:17.174Z"
   },
   {
    "duration": 205,
    "start_time": "2023-01-24T09:36:27.657Z"
   },
   {
    "duration": 8,
    "start_time": "2023-01-24T09:36:27.863Z"
   },
   {
    "duration": 195,
    "start_time": "2023-01-24T09:36:27.872Z"
   },
   {
    "duration": 13824,
    "start_time": "2023-01-24T09:36:28.069Z"
   },
   {
    "duration": 69,
    "start_time": "2023-01-24T09:36:41.895Z"
   },
   {
    "duration": 160,
    "start_time": "2023-01-24T09:36:41.966Z"
   },
   {
    "duration": 382,
    "start_time": "2023-01-24T09:36:42.127Z"
   },
   {
    "duration": 114,
    "start_time": "2023-01-24T09:36:42.510Z"
   },
   {
    "duration": 48,
    "start_time": "2023-01-24T09:36:42.626Z"
   },
   {
    "duration": 1614,
    "start_time": "2023-01-24T09:36:42.676Z"
   },
   {
    "duration": 18,
    "start_time": "2023-01-24T09:36:44.292Z"
   },
   {
    "duration": 4,
    "start_time": "2023-01-24T09:36:44.312Z"
   },
   {
    "duration": 65,
    "start_time": "2023-01-24T09:36:44.317Z"
   },
   {
    "duration": 161,
    "start_time": "2023-01-24T09:36:44.384Z"
   },
   {
    "duration": 31,
    "start_time": "2023-01-24T09:36:44.546Z"
   },
   {
    "duration": 3,
    "start_time": "2023-01-24T09:36:44.579Z"
   },
   {
    "duration": 18,
    "start_time": "2023-01-24T09:36:44.602Z"
   },
   {
    "duration": 4,
    "start_time": "2023-01-24T09:36:44.621Z"
   },
   {
    "duration": 53,
    "start_time": "2023-01-24T09:36:44.626Z"
   },
   {
    "duration": 24,
    "start_time": "2023-01-24T09:36:44.682Z"
   },
   {
    "duration": 31,
    "start_time": "2023-01-24T09:36:44.708Z"
   },
   {
    "duration": 77,
    "start_time": "2023-01-24T09:36:44.740Z"
   },
   {
    "duration": 1137,
    "start_time": "2023-01-24T09:36:44.819Z"
   },
   {
    "duration": 3,
    "start_time": "2023-01-24T09:36:45.958Z"
   },
   {
    "duration": 131,
    "start_time": "2023-01-24T09:36:45.963Z"
   },
   {
    "duration": 8,
    "start_time": "2023-01-24T09:36:46.096Z"
   },
   {
    "duration": 23808,
    "start_time": "2023-01-24T09:36:46.106Z"
   },
   {
    "duration": 4,
    "start_time": "2023-01-24T09:37:09.916Z"
   },
   {
    "duration": 71472,
    "start_time": "2023-01-24T09:37:09.921Z"
   },
   {
    "duration": 4908,
    "start_time": "2023-01-24T09:38:21.395Z"
   },
   {
    "duration": 116,
    "start_time": "2023-01-24T09:38:26.306Z"
   },
   {
    "duration": 136,
    "start_time": "2023-01-24T09:38:26.423Z"
   },
   {
    "duration": 8,
    "start_time": "2023-01-24T09:38:26.563Z"
   },
   {
    "duration": 140,
    "start_time": "2023-01-24T09:38:26.573Z"
   },
   {
    "duration": 207981,
    "start_time": "2023-01-24T09:38:26.716Z"
   },
   {
    "duration": 3,
    "start_time": "2023-01-24T09:41:54.698Z"
   },
   {
    "duration": 12,
    "start_time": "2023-01-24T09:41:54.702Z"
   },
   {
    "duration": 788,
    "start_time": "2023-01-24T09:41:54.716Z"
   },
   {
    "duration": 640,
    "start_time": "2023-01-24T09:41:55.507Z"
   },
   {
    "duration": 128,
    "start_time": "2023-01-24T09:41:56.150Z"
   },
   {
    "duration": 128,
    "start_time": "2023-01-24T09:41:56.280Z"
   },
   {
    "duration": 0,
    "start_time": "2023-01-24T09:41:56.410Z"
   },
   {
    "duration": 0,
    "start_time": "2023-01-24T09:41:56.412Z"
   },
   {
    "duration": 0,
    "start_time": "2023-01-24T09:41:56.414Z"
   },
   {
    "duration": 0,
    "start_time": "2023-01-24T09:41:56.415Z"
   },
   {
    "duration": 0,
    "start_time": "2023-01-24T09:41:56.417Z"
   },
   {
    "duration": 12,
    "start_time": "2023-01-24T09:43:46.300Z"
   },
   {
    "duration": 92,
    "start_time": "2023-01-24T09:44:38.631Z"
   },
   {
    "duration": 3831,
    "start_time": "2023-01-24T09:45:10.559Z"
   },
   {
    "duration": 2113,
    "start_time": "2023-01-24T09:45:21.233Z"
   },
   {
    "duration": 2657,
    "start_time": "2023-01-24T09:45:23.349Z"
   },
   {
    "duration": 3,
    "start_time": "2023-01-24T09:45:26.008Z"
   },
   {
    "duration": 49,
    "start_time": "2023-01-24T09:45:26.013Z"
   },
   {
    "duration": 8034,
    "start_time": "2023-01-24T09:45:26.064Z"
   },
   {
    "duration": 16016,
    "start_time": "2023-01-24T09:45:34.100Z"
   },
   {
    "duration": 31,
    "start_time": "2023-01-24T09:45:50.118Z"
   },
   {
    "duration": 3420,
    "start_time": "2023-01-24T09:45:50.150Z"
   },
   {
    "duration": 2201,
    "start_time": "2023-01-24T09:46:22.393Z"
   },
   {
    "duration": 2883,
    "start_time": "2023-01-24T09:46:24.596Z"
   },
   {
    "duration": 3,
    "start_time": "2023-01-24T09:46:27.481Z"
   },
   {
    "duration": 13,
    "start_time": "2023-01-24T09:46:27.486Z"
   },
   {
    "duration": 10294,
    "start_time": "2023-01-24T09:46:27.500Z"
   },
   {
    "duration": 15944,
    "start_time": "2023-01-24T09:46:40.945Z"
   },
   {
    "duration": 35,
    "start_time": "2023-01-24T09:46:56.891Z"
   },
   {
    "duration": 3511,
    "start_time": "2023-01-24T09:47:13.834Z"
   },
   {
    "duration": 55,
    "start_time": "2023-01-24T09:47:48.013Z"
   },
   {
    "duration": 2244,
    "start_time": "2023-01-24T09:47:52.920Z"
   },
   {
    "duration": 2811,
    "start_time": "2023-01-24T09:47:55.168Z"
   },
   {
    "duration": 3,
    "start_time": "2023-01-24T09:47:57.981Z"
   },
   {
    "duration": 18,
    "start_time": "2023-01-24T09:47:57.986Z"
   },
   {
    "duration": 7950,
    "start_time": "2023-01-24T09:47:58.005Z"
   },
   {
    "duration": 16132,
    "start_time": "2023-01-24T09:48:05.956Z"
   },
   {
    "duration": 36,
    "start_time": "2023-01-24T09:48:22.090Z"
   },
   {
    "duration": 3471,
    "start_time": "2023-01-24T09:48:22.128Z"
   },
   {
    "duration": 2121,
    "start_time": "2023-01-24T09:49:58.026Z"
   },
   {
    "duration": 2939,
    "start_time": "2023-01-24T09:50:00.149Z"
   },
   {
    "duration": 3,
    "start_time": "2023-01-24T09:50:03.090Z"
   },
   {
    "duration": 8,
    "start_time": "2023-01-24T09:50:03.095Z"
   },
   {
    "duration": 8336,
    "start_time": "2023-01-24T09:50:03.104Z"
   },
   {
    "duration": 16156,
    "start_time": "2023-01-24T09:50:11.442Z"
   },
   {
    "duration": 30,
    "start_time": "2023-01-24T09:50:27.603Z"
   },
   {
    "duration": 3402,
    "start_time": "2023-01-24T09:50:27.635Z"
   },
   {
    "duration": 2184,
    "start_time": "2023-01-24T09:52:56.950Z"
   },
   {
    "duration": 3015,
    "start_time": "2023-01-24T09:52:59.136Z"
   },
   {
    "duration": 4,
    "start_time": "2023-01-24T09:53:02.153Z"
   },
   {
    "duration": 6,
    "start_time": "2023-01-24T09:53:02.159Z"
   },
   {
    "duration": 12799,
    "start_time": "2023-01-24T09:53:02.166Z"
   },
   {
    "duration": 16823,
    "start_time": "2023-01-24T09:53:14.967Z"
   },
   {
    "duration": 48,
    "start_time": "2023-01-24T09:53:31.792Z"
   },
   {
    "duration": 3656,
    "start_time": "2023-01-24T09:53:31.842Z"
   },
   {
    "duration": 208,
    "start_time": "2023-01-24T09:53:35.502Z"
   },
   {
    "duration": 8,
    "start_time": "2023-01-24T09:53:35.712Z"
   },
   {
    "duration": 214,
    "start_time": "2023-01-24T09:53:35.722Z"
   },
   {
    "duration": 21929,
    "start_time": "2023-01-24T09:53:35.937Z"
   },
   {
    "duration": 81,
    "start_time": "2023-01-24T09:53:57.868Z"
   },
   {
    "duration": 182,
    "start_time": "2023-01-24T09:53:57.951Z"
   },
   {
    "duration": 454,
    "start_time": "2023-01-24T09:53:58.135Z"
   },
   {
    "duration": 136,
    "start_time": "2023-01-24T09:53:58.590Z"
   },
   {
    "duration": 49,
    "start_time": "2023-01-24T09:53:58.727Z"
   },
   {
    "duration": 1428,
    "start_time": "2023-01-24T09:53:58.778Z"
   },
   {
    "duration": 12,
    "start_time": "2023-01-24T09:54:00.209Z"
   },
   {
    "duration": 27,
    "start_time": "2023-01-24T09:54:00.222Z"
   },
   {
    "duration": 66,
    "start_time": "2023-01-24T09:54:00.251Z"
   },
   {
    "duration": 170,
    "start_time": "2023-01-24T09:54:00.471Z"
   },
   {
    "duration": 32,
    "start_time": "2023-01-24T09:54:00.643Z"
   },
   {
    "duration": 17,
    "start_time": "2023-01-24T09:54:00.677Z"
   },
   {
    "duration": 36,
    "start_time": "2023-01-24T09:54:00.703Z"
   },
   {
    "duration": 11,
    "start_time": "2023-01-24T09:54:00.741Z"
   },
   {
    "duration": 93,
    "start_time": "2023-01-24T09:54:00.754Z"
   },
   {
    "duration": 4,
    "start_time": "2023-01-24T09:54:00.849Z"
   },
   {
    "duration": 61,
    "start_time": "2023-01-24T09:54:00.855Z"
   },
   {
    "duration": 74,
    "start_time": "2023-01-24T09:54:00.918Z"
   },
   {
    "duration": 1313,
    "start_time": "2023-01-24T09:54:00.993Z"
   },
   {
    "duration": 3,
    "start_time": "2023-01-24T09:54:02.308Z"
   },
   {
    "duration": 121,
    "start_time": "2023-01-24T09:54:02.312Z"
   },
   {
    "duration": 3,
    "start_time": "2023-01-24T09:54:02.435Z"
   },
   {
    "duration": 24385,
    "start_time": "2023-01-24T09:54:02.440Z"
   },
   {
    "duration": 3,
    "start_time": "2023-01-24T09:54:26.827Z"
   },
   {
    "duration": 72742,
    "start_time": "2023-01-24T09:54:26.832Z"
   },
   {
    "duration": 6027,
    "start_time": "2023-01-24T09:55:39.576Z"
   },
   {
    "duration": 109,
    "start_time": "2023-01-24T09:55:45.609Z"
   },
   {
    "duration": 147,
    "start_time": "2023-01-24T09:55:45.720Z"
   },
   {
    "duration": 6,
    "start_time": "2023-01-24T09:55:45.868Z"
   },
   {
    "duration": 149,
    "start_time": "2023-01-24T09:55:45.876Z"
   },
   {
    "duration": 210229,
    "start_time": "2023-01-24T09:55:46.027Z"
   },
   {
    "duration": 4,
    "start_time": "2023-01-24T09:59:16.257Z"
   },
   {
    "duration": 21,
    "start_time": "2023-01-24T09:59:16.262Z"
   },
   {
    "duration": 825,
    "start_time": "2023-01-24T09:59:16.285Z"
   },
   {
    "duration": 626,
    "start_time": "2023-01-24T09:59:17.112Z"
   },
   {
    "duration": 130,
    "start_time": "2023-01-24T09:59:17.740Z"
   },
   {
    "duration": 3402,
    "start_time": "2023-01-24T09:59:17.872Z"
   },
   {
    "duration": 29,
    "start_time": "2023-01-24T09:59:21.276Z"
   },
   {
    "duration": 173,
    "start_time": "2023-01-24T09:59:21.307Z"
   },
   {
    "duration": 34,
    "start_time": "2023-01-24T09:59:21.482Z"
   },
   {
    "duration": 181,
    "start_time": "2023-01-24T09:59:21.518Z"
   },
   {
    "duration": 143,
    "start_time": "2023-01-24T09:59:21.703Z"
   },
   {
    "duration": 3447,
    "start_time": "2023-01-24T10:07:40.431Z"
   },
   {
    "duration": 3443,
    "start_time": "2023-01-24T10:07:59.334Z"
   },
   {
    "duration": 4849,
    "start_time": "2023-01-25T17:20:13.487Z"
   },
   {
    "duration": 3445,
    "start_time": "2023-01-25T17:20:18.339Z"
   },
   {
    "duration": 3,
    "start_time": "2023-01-25T17:20:21.787Z"
   },
   {
    "duration": 14,
    "start_time": "2023-01-25T17:20:21.792Z"
   },
   {
    "duration": 8665,
    "start_time": "2023-01-25T17:20:21.807Z"
   },
   {
    "duration": 18293,
    "start_time": "2023-01-25T17:20:30.474Z"
   },
   {
    "duration": 44,
    "start_time": "2023-01-25T17:20:48.769Z"
   },
   {
    "duration": 4203,
    "start_time": "2023-01-25T17:20:48.815Z"
   },
   {
    "duration": 2511,
    "start_time": "2023-01-25T17:24:37.795Z"
   },
   {
    "duration": 3276,
    "start_time": "2023-01-25T17:24:40.308Z"
   },
   {
    "duration": 3,
    "start_time": "2023-01-25T17:24:43.586Z"
   },
   {
    "duration": 6,
    "start_time": "2023-01-25T17:24:43.590Z"
   },
   {
    "duration": 8607,
    "start_time": "2023-01-25T17:24:43.598Z"
   },
   {
    "duration": 17838,
    "start_time": "2023-01-25T17:24:52.207Z"
   },
   {
    "duration": 36,
    "start_time": "2023-01-25T17:25:10.047Z"
   },
   {
    "duration": 3827,
    "start_time": "2023-01-25T17:25:10.085Z"
   },
   {
    "duration": 2699,
    "start_time": "2023-01-25T17:26:26.431Z"
   },
   {
    "duration": 3480,
    "start_time": "2023-01-25T17:26:29.132Z"
   },
   {
    "duration": 4,
    "start_time": "2023-01-25T17:26:32.613Z"
   },
   {
    "duration": 7,
    "start_time": "2023-01-25T17:26:32.618Z"
   },
   {
    "duration": 8252,
    "start_time": "2023-01-25T17:26:32.628Z"
   },
   {
    "duration": 17644,
    "start_time": "2023-01-25T17:26:40.881Z"
   },
   {
    "duration": 38,
    "start_time": "2023-01-25T17:26:58.527Z"
   },
   {
    "duration": 4081,
    "start_time": "2023-01-25T17:26:58.567Z"
   },
   {
    "duration": 4,
    "start_time": "2023-01-25T17:27:02.661Z"
   },
   {
    "duration": 52,
    "start_time": "2023-01-25T17:27:46.192Z"
   },
   {
    "duration": 3712,
    "start_time": "2023-01-25T17:27:50.259Z"
   },
   {
    "duration": 3,
    "start_time": "2023-01-25T17:27:53.973Z"
   },
   {
    "duration": 63,
    "start_time": "2023-01-25T17:27:53.978Z"
   },
   {
    "duration": 8200,
    "start_time": "2023-01-25T17:27:58.067Z"
   },
   {
    "duration": 162,
    "start_time": "2023-01-25T17:28:10.845Z"
   },
   {
    "duration": 11840,
    "start_time": "2023-01-25T17:28:26.179Z"
   },
   {
    "duration": 19,
    "start_time": "2023-01-25T17:28:42.859Z"
   },
   {
    "duration": 10,
    "start_time": "2023-01-25T17:28:51.244Z"
   },
   {
    "duration": 2543,
    "start_time": "2023-01-25T17:30:15.637Z"
   },
   {
    "duration": 2876,
    "start_time": "2023-01-25T17:30:18.183Z"
   },
   {
    "duration": 5,
    "start_time": "2023-01-25T17:30:21.061Z"
   },
   {
    "duration": 18,
    "start_time": "2023-01-25T17:30:21.068Z"
   },
   {
    "duration": 8208,
    "start_time": "2023-01-25T17:30:21.088Z"
   },
   {
    "duration": 2561,
    "start_time": "2023-01-25T17:31:06.601Z"
   },
   {
    "duration": 7,
    "start_time": "2023-01-25T17:31:09.165Z"
   },
   {
    "duration": 12,
    "start_time": "2023-01-25T17:31:09.173Z"
   },
   {
    "duration": 5,
    "start_time": "2023-01-25T17:31:09.186Z"
   },
   {
    "duration": 7,
    "start_time": "2023-01-25T17:31:09.192Z"
   },
   {
    "duration": 2610,
    "start_time": "2023-01-25T17:32:24.834Z"
   },
   {
    "duration": 2821,
    "start_time": "2023-01-25T17:32:27.447Z"
   },
   {
    "duration": 3,
    "start_time": "2023-01-25T17:32:30.270Z"
   },
   {
    "duration": 29,
    "start_time": "2023-01-25T17:32:30.275Z"
   },
   {
    "duration": 8307,
    "start_time": "2023-01-25T17:32:30.307Z"
   },
   {
    "duration": 17643,
    "start_time": "2023-01-25T17:32:41.645Z"
   },
   {
    "duration": 24,
    "start_time": "2023-01-25T17:32:59.290Z"
   },
   {
    "duration": 3833,
    "start_time": "2023-01-25T17:32:59.316Z"
   },
   {
    "duration": 2,
    "start_time": "2023-01-25T17:33:04.433Z"
   },
   {
    "duration": 2451,
    "start_time": "2023-01-25T17:45:22.771Z"
   },
   {
    "duration": 3424,
    "start_time": "2023-01-25T17:45:25.224Z"
   },
   {
    "duration": 3,
    "start_time": "2023-01-25T17:45:28.650Z"
   },
   {
    "duration": 16,
    "start_time": "2023-01-25T17:45:28.655Z"
   },
   {
    "duration": 8328,
    "start_time": "2023-01-25T17:45:28.673Z"
   },
   {
    "duration": 17700,
    "start_time": "2023-01-25T17:45:37.002Z"
   },
   {
    "duration": 25,
    "start_time": "2023-01-25T17:45:54.703Z"
   },
   {
    "duration": 4273,
    "start_time": "2023-01-25T17:45:54.730Z"
   },
   {
    "duration": 129,
    "start_time": "2023-01-25T17:45:59.004Z"
   },
   {
    "duration": 2324,
    "start_time": "2023-01-25T18:03:11.635Z"
   },
   {
    "duration": 3265,
    "start_time": "2023-01-25T18:03:13.963Z"
   },
   {
    "duration": 4,
    "start_time": "2023-01-25T18:03:17.230Z"
   },
   {
    "duration": 22,
    "start_time": "2023-01-25T18:03:17.235Z"
   },
   {
    "duration": 7922,
    "start_time": "2023-01-25T18:03:17.261Z"
   },
   {
    "duration": 17516,
    "start_time": "2023-01-25T18:03:25.185Z"
   },
   {
    "duration": 22,
    "start_time": "2023-01-25T18:03:42.703Z"
   },
   {
    "duration": 3984,
    "start_time": "2023-01-25T18:03:42.726Z"
   },
   {
    "duration": 128,
    "start_time": "2023-01-25T18:03:46.711Z"
   },
   {
    "duration": 2590,
    "start_time": "2023-01-25T18:05:51.092Z"
   },
   {
    "duration": 3202,
    "start_time": "2023-01-25T18:05:53.684Z"
   },
   {
    "duration": 3,
    "start_time": "2023-01-25T18:05:56.887Z"
   },
   {
    "duration": 10,
    "start_time": "2023-01-25T18:05:56.892Z"
   },
   {
    "duration": 8115,
    "start_time": "2023-01-25T18:05:56.904Z"
   },
   {
    "duration": 17614,
    "start_time": "2023-01-25T18:06:05.021Z"
   },
   {
    "duration": 28,
    "start_time": "2023-01-25T18:06:22.637Z"
   },
   {
    "duration": 3827,
    "start_time": "2023-01-25T18:06:22.668Z"
   },
   {
    "duration": 129,
    "start_time": "2023-01-25T18:06:26.497Z"
   },
   {
    "duration": 2517,
    "start_time": "2023-01-25T18:13:00.759Z"
   },
   {
    "duration": 3235,
    "start_time": "2023-01-25T18:13:03.279Z"
   },
   {
    "duration": 2,
    "start_time": "2023-01-25T18:13:06.516Z"
   },
   {
    "duration": 10,
    "start_time": "2023-01-25T18:13:06.521Z"
   },
   {
    "duration": 7973,
    "start_time": "2023-01-25T18:13:06.533Z"
   },
   {
    "duration": 17457,
    "start_time": "2023-01-25T18:13:14.508Z"
   },
   {
    "duration": 25,
    "start_time": "2023-01-25T18:13:31.968Z"
   },
   {
    "duration": 4012,
    "start_time": "2023-01-25T18:13:31.994Z"
   },
   {
    "duration": 123,
    "start_time": "2023-01-25T18:13:36.008Z"
   },
   {
    "duration": 2627,
    "start_time": "2023-01-25T18:14:56.594Z"
   },
   {
    "duration": 3836,
    "start_time": "2023-01-25T18:14:59.223Z"
   },
   {
    "duration": 4,
    "start_time": "2023-01-25T18:15:03.062Z"
   },
   {
    "duration": 85,
    "start_time": "2023-01-25T18:15:03.069Z"
   },
   {
    "duration": 8439,
    "start_time": "2023-01-25T18:15:03.157Z"
   },
   {
    "duration": 17580,
    "start_time": "2023-01-25T18:15:11.598Z"
   },
   {
    "duration": 21,
    "start_time": "2023-01-25T18:15:29.180Z"
   },
   {
    "duration": 3987,
    "start_time": "2023-01-25T18:15:29.202Z"
   },
   {
    "duration": 128,
    "start_time": "2023-01-25T18:15:33.191Z"
   },
   {
    "duration": 2483,
    "start_time": "2023-01-25T18:17:13.814Z"
   },
   {
    "duration": 3293,
    "start_time": "2023-01-25T18:17:16.299Z"
   },
   {
    "duration": 2,
    "start_time": "2023-01-25T18:17:19.594Z"
   },
   {
    "duration": 8,
    "start_time": "2023-01-25T18:17:19.598Z"
   },
   {
    "duration": 7965,
    "start_time": "2023-01-25T18:17:19.608Z"
   },
   {
    "duration": 17496,
    "start_time": "2023-01-25T18:17:27.576Z"
   },
   {
    "duration": 21,
    "start_time": "2023-01-25T18:17:45.074Z"
   },
   {
    "duration": 3919,
    "start_time": "2023-01-25T18:17:45.097Z"
   },
   {
    "duration": 124,
    "start_time": "2023-01-25T18:17:49.018Z"
   },
   {
    "duration": 2424,
    "start_time": "2023-01-25T18:41:23.618Z"
   },
   {
    "duration": 3398,
    "start_time": "2023-01-25T18:41:26.045Z"
   },
   {
    "duration": 3,
    "start_time": "2023-01-25T18:41:29.444Z"
   },
   {
    "duration": 20,
    "start_time": "2023-01-25T18:41:29.449Z"
   },
   {
    "duration": 8137,
    "start_time": "2023-01-25T18:41:29.472Z"
   },
   {
    "duration": 18643,
    "start_time": "2023-01-25T18:41:37.611Z"
   },
   {
    "duration": 4203,
    "start_time": "2023-01-25T18:41:56.256Z"
   },
   {
    "duration": 12754,
    "start_time": "2023-01-25T18:42:00.461Z"
   },
   {
    "duration": 14,
    "start_time": "2023-01-25T18:42:13.217Z"
   },
   {
    "duration": 205,
    "start_time": "2023-01-25T18:42:13.234Z"
   },
   {
    "duration": 10,
    "start_time": "2023-01-25T18:42:13.441Z"
   },
   {
    "duration": 236,
    "start_time": "2023-01-25T18:42:13.453Z"
   },
   {
    "duration": 25797,
    "start_time": "2023-01-25T18:42:13.691Z"
   },
   {
    "duration": 80,
    "start_time": "2023-01-25T18:42:39.490Z"
   },
   {
    "duration": 172,
    "start_time": "2023-01-25T18:42:39.572Z"
   },
   {
    "duration": 403,
    "start_time": "2023-01-25T18:42:39.753Z"
   },
   {
    "duration": 120,
    "start_time": "2023-01-25T18:42:40.159Z"
   },
   {
    "duration": 46,
    "start_time": "2023-01-25T18:42:40.281Z"
   },
   {
    "duration": 1707,
    "start_time": "2023-01-25T18:42:40.329Z"
   },
   {
    "duration": 22,
    "start_time": "2023-01-25T18:42:42.038Z"
   },
   {
    "duration": 6,
    "start_time": "2023-01-25T18:42:42.063Z"
   },
   {
    "duration": 41,
    "start_time": "2023-01-25T18:42:42.072Z"
   },
   {
    "duration": 179,
    "start_time": "2023-01-25T18:42:42.114Z"
   },
   {
    "duration": 28,
    "start_time": "2023-01-25T18:42:42.294Z"
   },
   {
    "duration": 4,
    "start_time": "2023-01-25T18:42:42.323Z"
   },
   {
    "duration": 39,
    "start_time": "2023-01-25T18:42:42.329Z"
   },
   {
    "duration": 7,
    "start_time": "2023-01-25T18:42:42.370Z"
   },
   {
    "duration": 54,
    "start_time": "2023-01-25T18:42:42.381Z"
   },
   {
    "duration": 19,
    "start_time": "2023-01-25T18:42:42.436Z"
   },
   {
    "duration": 41,
    "start_time": "2023-01-25T18:42:42.457Z"
   },
   {
    "duration": 86,
    "start_time": "2023-01-25T18:42:42.500Z"
   },
   {
    "duration": 769,
    "start_time": "2023-01-25T18:42:42.588Z"
   },
   {
    "duration": 0,
    "start_time": "2023-01-25T18:42:43.359Z"
   },
   {
    "duration": 0,
    "start_time": "2023-01-25T18:42:43.364Z"
   },
   {
    "duration": 0,
    "start_time": "2023-01-25T18:42:43.365Z"
   },
   {
    "duration": 0,
    "start_time": "2023-01-25T18:42:43.366Z"
   },
   {
    "duration": 0,
    "start_time": "2023-01-25T18:42:43.367Z"
   },
   {
    "duration": 0,
    "start_time": "2023-01-25T18:42:43.369Z"
   },
   {
    "duration": 0,
    "start_time": "2023-01-25T18:42:43.370Z"
   },
   {
    "duration": 0,
    "start_time": "2023-01-25T18:42:43.371Z"
   },
   {
    "duration": 0,
    "start_time": "2023-01-25T18:42:43.373Z"
   },
   {
    "duration": 0,
    "start_time": "2023-01-25T18:42:43.374Z"
   },
   {
    "duration": 0,
    "start_time": "2023-01-25T18:42:43.375Z"
   },
   {
    "duration": 0,
    "start_time": "2023-01-25T18:42:43.376Z"
   },
   {
    "duration": 0,
    "start_time": "2023-01-25T18:42:43.377Z"
   },
   {
    "duration": 0,
    "start_time": "2023-01-25T18:42:43.379Z"
   },
   {
    "duration": 0,
    "start_time": "2023-01-25T18:42:43.380Z"
   },
   {
    "duration": 0,
    "start_time": "2023-01-25T18:42:43.381Z"
   },
   {
    "duration": 0,
    "start_time": "2023-01-25T18:42:43.382Z"
   },
   {
    "duration": 0,
    "start_time": "2023-01-25T18:42:43.383Z"
   },
   {
    "duration": 0,
    "start_time": "2023-01-25T18:42:43.384Z"
   },
   {
    "duration": 0,
    "start_time": "2023-01-25T18:42:43.385Z"
   },
   {
    "duration": 0,
    "start_time": "2023-01-25T18:42:43.386Z"
   },
   {
    "duration": 0,
    "start_time": "2023-01-25T18:42:43.387Z"
   },
   {
    "duration": 0,
    "start_time": "2023-01-25T18:42:43.388Z"
   },
   {
    "duration": 2540,
    "start_time": "2023-01-25T18:43:00.211Z"
   },
   {
    "duration": 2945,
    "start_time": "2023-01-25T18:43:02.754Z"
   },
   {
    "duration": 3,
    "start_time": "2023-01-25T18:43:05.701Z"
   },
   {
    "duration": 21,
    "start_time": "2023-01-25T18:43:05.705Z"
   },
   {
    "duration": 7779,
    "start_time": "2023-01-25T18:43:05.728Z"
   },
   {
    "duration": 18517,
    "start_time": "2023-01-25T18:43:13.509Z"
   },
   {
    "duration": 3889,
    "start_time": "2023-01-25T18:43:32.028Z"
   },
   {
    "duration": 11339,
    "start_time": "2023-01-25T18:43:35.919Z"
   },
   {
    "duration": 22,
    "start_time": "2023-01-25T18:43:47.261Z"
   },
   {
    "duration": 204,
    "start_time": "2023-01-25T18:43:47.286Z"
   },
   {
    "duration": 9,
    "start_time": "2023-01-25T18:43:47.492Z"
   },
   {
    "duration": 269,
    "start_time": "2023-01-25T18:43:47.504Z"
   },
   {
    "duration": 21678,
    "start_time": "2023-01-25T18:43:47.776Z"
   },
   {
    "duration": 71,
    "start_time": "2023-01-25T18:44:09.456Z"
   },
   {
    "duration": 182,
    "start_time": "2023-01-25T18:44:09.529Z"
   },
   {
    "duration": 411,
    "start_time": "2023-01-25T18:44:09.713Z"
   },
   {
    "duration": 124,
    "start_time": "2023-01-25T18:44:10.126Z"
   },
   {
    "duration": 49,
    "start_time": "2023-01-25T18:44:10.253Z"
   },
   {
    "duration": 1559,
    "start_time": "2023-01-25T18:44:10.304Z"
   },
   {
    "duration": 17,
    "start_time": "2023-01-25T18:44:11.865Z"
   },
   {
    "duration": 4,
    "start_time": "2023-01-25T18:44:11.883Z"
   },
   {
    "duration": 43,
    "start_time": "2023-01-25T18:44:11.889Z"
   },
   {
    "duration": 176,
    "start_time": "2023-01-25T18:44:11.957Z"
   },
   {
    "duration": 38,
    "start_time": "2023-01-25T18:44:12.135Z"
   },
   {
    "duration": 3,
    "start_time": "2023-01-25T18:44:12.175Z"
   },
   {
    "duration": 19,
    "start_time": "2023-01-25T18:44:12.180Z"
   },
   {
    "duration": 3,
    "start_time": "2023-01-25T18:44:12.200Z"
   },
   {
    "duration": 78,
    "start_time": "2023-01-25T18:44:12.207Z"
   },
   {
    "duration": 5,
    "start_time": "2023-01-25T18:44:12.287Z"
   },
   {
    "duration": 31,
    "start_time": "2023-01-25T18:44:12.294Z"
   },
   {
    "duration": 86,
    "start_time": "2023-01-25T18:44:12.326Z"
   },
   {
    "duration": 1178,
    "start_time": "2023-01-25T18:44:12.414Z"
   },
   {
    "duration": 2,
    "start_time": "2023-01-25T18:44:13.594Z"
   },
   {
    "duration": 118,
    "start_time": "2023-01-25T18:44:13.598Z"
   },
   {
    "duration": 3,
    "start_time": "2023-01-25T18:44:13.718Z"
   },
   {
    "duration": 25731,
    "start_time": "2023-01-25T18:44:13.723Z"
   },
   {
    "duration": 5,
    "start_time": "2023-01-25T18:44:39.456Z"
   },
   {
    "duration": 75454,
    "start_time": "2023-01-25T18:44:39.463Z"
   },
   {
    "duration": 5238,
    "start_time": "2023-01-25T18:45:54.919Z"
   },
   {
    "duration": 120,
    "start_time": "2023-01-25T18:46:00.161Z"
   },
   {
    "duration": 145,
    "start_time": "2023-01-25T18:46:00.283Z"
   },
   {
    "duration": 7,
    "start_time": "2023-01-25T18:46:00.430Z"
   },
   {
    "duration": 153,
    "start_time": "2023-01-25T18:46:00.438Z"
   },
   {
    "duration": 2526,
    "start_time": "2023-01-25T18:46:26.819Z"
   },
   {
    "duration": 2837,
    "start_time": "2023-01-25T18:46:29.348Z"
   },
   {
    "duration": 3,
    "start_time": "2023-01-25T18:46:32.186Z"
   },
   {
    "duration": 12,
    "start_time": "2023-01-25T18:46:32.192Z"
   },
   {
    "duration": 7724,
    "start_time": "2023-01-25T18:46:32.206Z"
   },
   {
    "duration": 2,
    "start_time": "2023-01-25T18:46:39.932Z"
   },
   {
    "duration": 18500,
    "start_time": "2023-01-25T18:46:39.936Z"
   },
   {
    "duration": 3922,
    "start_time": "2023-01-25T18:46:58.438Z"
   },
   {
    "duration": 11744,
    "start_time": "2023-01-25T18:47:02.363Z"
   },
   {
    "duration": 210,
    "start_time": "2023-01-25T18:47:14.109Z"
   },
   {
    "duration": 6,
    "start_time": "2023-01-25T18:47:14.321Z"
   },
   {
    "duration": 201,
    "start_time": "2023-01-25T18:47:14.329Z"
   },
   {
    "duration": 13496,
    "start_time": "2023-01-25T18:47:14.532Z"
   },
   {
    "duration": 76,
    "start_time": "2023-01-25T18:47:28.030Z"
   },
   {
    "duration": 167,
    "start_time": "2023-01-25T18:47:28.108Z"
   },
   {
    "duration": 392,
    "start_time": "2023-01-25T18:47:28.277Z"
   },
   {
    "duration": 128,
    "start_time": "2023-01-25T18:47:28.671Z"
   },
   {
    "duration": 62,
    "start_time": "2023-01-25T18:47:28.801Z"
   },
   {
    "duration": 1449,
    "start_time": "2023-01-25T18:47:28.867Z"
   },
   {
    "duration": 11,
    "start_time": "2023-01-25T18:47:30.319Z"
   },
   {
    "duration": 37,
    "start_time": "2023-01-25T18:47:30.332Z"
   },
   {
    "duration": 58,
    "start_time": "2023-01-25T18:47:30.372Z"
   },
   {
    "duration": 160,
    "start_time": "2023-01-25T18:47:30.432Z"
   },
   {
    "duration": 29,
    "start_time": "2023-01-25T18:47:30.593Z"
   },
   {
    "duration": 27,
    "start_time": "2023-01-25T18:47:30.623Z"
   },
   {
    "duration": 40,
    "start_time": "2023-01-25T18:47:30.652Z"
   },
   {
    "duration": 23,
    "start_time": "2023-01-25T18:47:30.694Z"
   },
   {
    "duration": 91,
    "start_time": "2023-01-25T18:47:30.720Z"
   },
   {
    "duration": 5,
    "start_time": "2023-01-25T18:47:30.813Z"
   },
   {
    "duration": 72,
    "start_time": "2023-01-25T18:47:30.820Z"
   },
   {
    "duration": 80,
    "start_time": "2023-01-25T18:47:30.894Z"
   },
   {
    "duration": 1179,
    "start_time": "2023-01-25T18:47:30.976Z"
   },
   {
    "duration": 3,
    "start_time": "2023-01-25T18:47:32.157Z"
   },
   {
    "duration": 131,
    "start_time": "2023-01-25T18:47:32.162Z"
   },
   {
    "duration": 4,
    "start_time": "2023-01-25T18:47:32.294Z"
   },
   {
    "duration": 25774,
    "start_time": "2023-01-25T18:47:32.299Z"
   },
   {
    "duration": 4,
    "start_time": "2023-01-25T18:47:58.076Z"
   },
   {
    "duration": 77550,
    "start_time": "2023-01-25T18:47:58.082Z"
   },
   {
    "duration": 5722,
    "start_time": "2023-01-25T18:49:15.633Z"
   },
   {
    "duration": 126,
    "start_time": "2023-01-25T18:49:21.357Z"
   },
   {
    "duration": 162,
    "start_time": "2023-01-25T18:49:21.484Z"
   },
   {
    "duration": 10,
    "start_time": "2023-01-25T18:49:21.648Z"
   },
   {
    "duration": 133,
    "start_time": "2023-01-25T18:49:21.661Z"
   },
   {
    "duration": 219824,
    "start_time": "2023-01-25T18:49:21.796Z"
   },
   {
    "duration": 3,
    "start_time": "2023-01-25T18:53:01.621Z"
   },
   {
    "duration": 54,
    "start_time": "2023-01-25T18:53:01.625Z"
   },
   {
    "duration": 783,
    "start_time": "2023-01-25T18:53:01.681Z"
   },
   {
    "duration": 671,
    "start_time": "2023-01-25T18:53:02.466Z"
   },
   {
    "duration": 161,
    "start_time": "2023-01-25T18:53:03.139Z"
   },
   {
    "duration": 3838,
    "start_time": "2023-01-25T18:53:03.302Z"
   },
   {
    "duration": 38,
    "start_time": "2023-01-25T18:53:07.142Z"
   },
   {
    "duration": 198,
    "start_time": "2023-01-25T18:53:07.182Z"
   },
   {
    "duration": 27,
    "start_time": "2023-01-25T18:53:07.382Z"
   },
   {
    "duration": 261,
    "start_time": "2023-01-25T18:53:07.411Z"
   },
   {
    "duration": 176,
    "start_time": "2023-01-25T18:53:07.675Z"
   },
   {
    "duration": 6,
    "start_time": "2023-01-25T19:19:26.120Z"
   },
   {
    "duration": 251,
    "start_time": "2023-01-25T19:23:57.220Z"
   },
   {
    "duration": 50,
    "start_time": "2023-01-25T19:24:17.642Z"
   },
   {
    "duration": 13,
    "start_time": "2023-01-25T19:28:03.612Z"
   },
   {
    "duration": 5394,
    "start_time": "2023-01-25T21:44:28.759Z"
   },
   {
    "duration": 5150,
    "start_time": "2023-01-25T21:44:34.156Z"
   },
   {
    "duration": 6,
    "start_time": "2023-01-25T21:44:39.309Z"
   },
   {
    "duration": 9,
    "start_time": "2023-01-25T21:44:39.318Z"
   },
   {
    "duration": 8704,
    "start_time": "2023-01-25T21:44:39.329Z"
   },
   {
    "duration": 3,
    "start_time": "2023-01-25T21:44:48.035Z"
   },
   {
    "duration": 4,
    "start_time": "2023-01-25T21:45:42.978Z"
   },
   {
    "duration": 433,
    "start_time": "2023-01-25T21:46:18.467Z"
   },
   {
    "duration": 26,
    "start_time": "2023-01-25T21:49:12.650Z"
   },
   {
    "duration": 17196,
    "start_time": "2023-01-25T21:50:09.811Z"
   },
   {
    "duration": 3903,
    "start_time": "2023-01-25T21:50:27.009Z"
   },
   {
    "duration": 11506,
    "start_time": "2023-01-25T21:50:30.914Z"
   },
   {
    "duration": 209,
    "start_time": "2023-01-25T21:50:59.604Z"
   },
   {
    "duration": 10,
    "start_time": "2023-01-25T21:51:00.488Z"
   },
   {
    "duration": 230,
    "start_time": "2023-01-25T21:51:02.259Z"
   },
   {
    "duration": 202,
    "start_time": "2023-01-25T21:51:42.466Z"
   },
   {
    "duration": 19,
    "start_time": "2023-01-25T21:51:50.483Z"
   },
   {
    "duration": 202,
    "start_time": "2023-01-25T21:51:54.203Z"
   },
   {
    "duration": 10,
    "start_time": "2023-01-25T21:51:54.884Z"
   },
   {
    "duration": 256,
    "start_time": "2023-01-25T21:52:47.307Z"
   },
   {
    "duration": 27,
    "start_time": "2023-01-25T21:52:48.125Z"
   },
   {
    "duration": 206,
    "start_time": "2023-01-25T21:53:03.531Z"
   },
   {
    "duration": 11,
    "start_time": "2023-01-25T21:53:37.263Z"
   },
   {
    "duration": 17,
    "start_time": "2023-01-25T21:54:12.210Z"
   },
   {
    "duration": 40,
    "start_time": "2023-01-25T21:56:28.158Z"
   },
   {
    "duration": 22,
    "start_time": "2023-01-25T21:56:34.681Z"
   },
   {
    "duration": 995,
    "start_time": "2023-01-25T21:57:14.558Z"
   },
   {
    "duration": 27,
    "start_time": "2023-01-25T21:57:48.878Z"
   },
   {
    "duration": 863,
    "start_time": "2023-01-25T21:57:55.730Z"
   },
   {
    "duration": 0,
    "start_time": "2023-01-25T22:01:09.219Z"
   },
   {
    "duration": 0,
    "start_time": "2023-01-25T22:01:09.221Z"
   },
   {
    "duration": 0,
    "start_time": "2023-01-25T22:01:09.223Z"
   },
   {
    "duration": 0,
    "start_time": "2023-01-25T22:01:09.224Z"
   },
   {
    "duration": 22192,
    "start_time": "2023-01-25T22:01:16.099Z"
   },
   {
    "duration": 61,
    "start_time": "2023-01-25T22:01:40.469Z"
   },
   {
    "duration": 152,
    "start_time": "2023-01-25T22:01:44.899Z"
   },
   {
    "duration": 397,
    "start_time": "2023-01-25T22:01:47.157Z"
   },
   {
    "duration": 162,
    "start_time": "2023-01-25T22:01:50.375Z"
   },
   {
    "duration": 66,
    "start_time": "2023-01-25T22:02:02.361Z"
   },
   {
    "duration": 1837,
    "start_time": "2023-01-25T22:02:04.355Z"
   },
   {
    "duration": 12,
    "start_time": "2023-01-25T22:02:06.194Z"
   },
   {
    "duration": 4,
    "start_time": "2023-01-25T22:02:07.066Z"
   },
   {
    "duration": 46,
    "start_time": "2023-01-25T22:02:11.708Z"
   },
   {
    "duration": 12,
    "start_time": "2023-01-25T22:02:46.592Z"
   },
   {
    "duration": 312,
    "start_time": "2023-01-25T22:03:05.158Z"
   },
   {
    "duration": 138,
    "start_time": "2023-01-25T22:03:06.301Z"
   },
   {
    "duration": 58,
    "start_time": "2023-01-25T22:03:06.728Z"
   },
   {
    "duration": 1829,
    "start_time": "2023-01-25T22:03:08.203Z"
   },
   {
    "duration": 11,
    "start_time": "2023-01-25T22:03:11.691Z"
   },
   {
    "duration": 5,
    "start_time": "2023-01-25T22:05:07.651Z"
   },
   {
    "duration": 52,
    "start_time": "2023-01-25T22:05:22.834Z"
   },
   {
    "duration": 418,
    "start_time": "2023-01-25T22:05:55.303Z"
   },
   {
    "duration": 31,
    "start_time": "2023-01-25T22:06:04.593Z"
   },
   {
    "duration": 11,
    "start_time": "2023-01-25T22:06:15.689Z"
   },
   {
    "duration": 12,
    "start_time": "2023-01-25T22:06:32.562Z"
   },
   {
    "duration": 23,
    "start_time": "2023-01-25T22:07:40.504Z"
   },
   {
    "duration": 4,
    "start_time": "2023-01-25T22:07:47.500Z"
   },
   {
    "duration": 372,
    "start_time": "2023-01-25T22:14:20.505Z"
   },
   {
    "duration": 137,
    "start_time": "2023-01-25T22:14:21.575Z"
   },
   {
    "duration": 56,
    "start_time": "2023-01-25T22:14:21.891Z"
   },
   {
    "duration": 1690,
    "start_time": "2023-01-25T22:14:21.950Z"
   },
   {
    "duration": 13,
    "start_time": "2023-01-25T22:14:23.643Z"
   },
   {
    "duration": 9,
    "start_time": "2023-01-25T22:14:23.658Z"
   },
   {
    "duration": 52,
    "start_time": "2023-01-25T22:14:23.685Z"
   },
   {
    "duration": 448,
    "start_time": "2023-01-25T22:14:23.739Z"
   },
   {
    "duration": 38,
    "start_time": "2023-01-25T22:14:24.189Z"
   },
   {
    "duration": 4,
    "start_time": "2023-01-25T22:14:24.229Z"
   },
   {
    "duration": 13,
    "start_time": "2023-01-25T22:14:24.270Z"
   },
   {
    "duration": 5,
    "start_time": "2023-01-25T22:14:25.902Z"
   },
   {
    "duration": 67,
    "start_time": "2023-01-25T22:14:26.691Z"
   },
   {
    "duration": 5,
    "start_time": "2023-01-25T22:14:34.669Z"
   },
   {
    "duration": 7,
    "start_time": "2023-01-25T22:15:19.971Z"
   },
   {
    "duration": 34,
    "start_time": "2023-01-25T22:15:45.275Z"
   },
   {
    "duration": 91,
    "start_time": "2023-01-25T22:15:45.834Z"
   },
   {
    "duration": 1476,
    "start_time": "2023-01-25T22:15:46.687Z"
   },
   {
    "duration": 969,
    "start_time": "2023-01-25T22:19:22.607Z"
   },
   {
    "duration": 6,
    "start_time": "2023-01-25T22:19:52.072Z"
   },
   {
    "duration": 2279,
    "start_time": "2023-01-25T22:20:03.294Z"
   },
   {
    "duration": 91,
    "start_time": "2023-01-25T22:20:37.473Z"
   },
   {
    "duration": 2347,
    "start_time": "2023-01-25T22:20:43.892Z"
   },
   {
    "duration": 7,
    "start_time": "2023-01-25T22:20:53.670Z"
   },
   {
    "duration": 32,
    "start_time": "2023-01-25T22:21:02.203Z"
   },
   {
    "duration": 164,
    "start_time": "2023-01-25T22:21:28.024Z"
   },
   {
    "duration": 27,
    "start_time": "2023-01-25T22:22:05.251Z"
   },
   {
    "duration": 1235,
    "start_time": "2023-01-25T22:26:19.644Z"
   },
   {
    "duration": 87,
    "start_time": "2023-01-25T22:26:32.210Z"
   },
   {
    "duration": 1192,
    "start_time": "2023-01-25T22:26:32.877Z"
   },
   {
    "duration": 2107,
    "start_time": "2023-01-25T22:26:53.599Z"
   },
   {
    "duration": 59,
    "start_time": "2023-01-25T22:27:01.452Z"
   },
   {
    "duration": 3,
    "start_time": "2023-01-25T22:27:21.769Z"
   },
   {
    "duration": 204,
    "start_time": "2023-01-25T22:28:22.153Z"
   },
   {
    "duration": 3,
    "start_time": "2023-01-25T22:28:24.943Z"
   },
   {
    "duration": 34847,
    "start_time": "2023-01-25T22:28:27.809Z"
   },
   {
    "duration": 4,
    "start_time": "2023-01-25T22:29:02.659Z"
   },
   {
    "duration": 118,
    "start_time": "2023-01-25T22:29:14.483Z"
   },
   {
    "duration": 46,
    "start_time": "2023-01-25T22:29:20.939Z"
   },
   {
    "duration": 94,
    "start_time": "2023-01-25T22:29:21.515Z"
   },
   {
    "duration": 2097,
    "start_time": "2023-01-25T22:29:22.126Z"
   },
   {
    "duration": 3,
    "start_time": "2023-01-25T22:29:28.010Z"
   },
   {
    "duration": 167,
    "start_time": "2023-01-25T22:29:28.406Z"
   },
   {
    "duration": 4,
    "start_time": "2023-01-25T22:29:30.521Z"
   },
   {
    "duration": 35710,
    "start_time": "2023-01-25T22:29:31.118Z"
   },
   {
    "duration": 6,
    "start_time": "2023-01-25T22:30:12.429Z"
   },
   {
    "duration": 103128,
    "start_time": "2023-01-25T22:31:33.161Z"
   },
   {
    "duration": 9593,
    "start_time": "2023-01-25T22:33:16.292Z"
   },
   {
    "duration": 109,
    "start_time": "2023-01-25T22:33:25.888Z"
   },
   {
    "duration": 4,
    "start_time": "2023-01-25T22:34:33.790Z"
   },
   {
    "duration": 9,
    "start_time": "2023-01-25T22:34:38.850Z"
   },
   {
    "duration": 54,
    "start_time": "2023-01-25T22:34:42.910Z"
   },
   {
    "duration": 29,
    "start_time": "2023-01-25T22:34:59.127Z"
   },
   {
    "duration": 462810,
    "start_time": "2023-01-25T22:35:27.590Z"
   },
   {
    "duration": 4,
    "start_time": "2023-01-25T22:43:28.153Z"
   },
   {
    "duration": 11,
    "start_time": "2023-01-25T22:43:29.031Z"
   },
   {
    "duration": 3,
    "start_time": "2023-01-25T22:43:41.089Z"
   },
   {
    "duration": 9,
    "start_time": "2023-01-25T22:43:41.770Z"
   },
   {
    "duration": 15,
    "start_time": "2023-01-25T22:43:56.725Z"
   },
   {
    "duration": 14,
    "start_time": "2023-01-25T22:43:58.969Z"
   },
   {
    "duration": 3,
    "start_time": "2023-01-25T22:46:56.781Z"
   },
   {
    "duration": 262,
    "start_time": "2023-01-25T22:50:34.904Z"
   },
   {
    "duration": 587,
    "start_time": "2023-01-25T22:52:31.678Z"
   },
   {
    "duration": 153,
    "start_time": "2023-01-25T22:52:43.414Z"
   },
   {
    "duration": 73564,
    "start_time": "2023-01-25T22:53:56.953Z"
   },
   {
    "duration": 2477,
    "start_time": "2023-01-25T22:58:03.448Z"
   },
   {
    "duration": 2737,
    "start_time": "2023-01-25T22:58:05.928Z"
   },
   {
    "duration": 4,
    "start_time": "2023-01-25T22:58:08.667Z"
   },
   {
    "duration": 11,
    "start_time": "2023-01-25T22:58:08.673Z"
   },
   {
    "duration": 7576,
    "start_time": "2023-01-25T22:58:08.686Z"
   },
   {
    "duration": 2,
    "start_time": "2023-01-25T22:58:16.264Z"
   },
   {
    "duration": 87,
    "start_time": "2023-01-25T22:58:16.268Z"
   },
   {
    "duration": 18628,
    "start_time": "2023-01-25T22:58:16.357Z"
   },
   {
    "duration": 3851,
    "start_time": "2023-01-25T22:58:34.987Z"
   },
   {
    "duration": 12774,
    "start_time": "2023-01-25T22:58:38.841Z"
   },
   {
    "duration": 206,
    "start_time": "2023-01-25T22:58:51.617Z"
   },
   {
    "duration": 12,
    "start_time": "2023-01-25T22:58:51.825Z"
   },
   {
    "duration": 228,
    "start_time": "2023-01-25T22:58:51.839Z"
   },
   {
    "duration": 254,
    "start_time": "2023-01-25T22:58:52.069Z"
   },
   {
    "duration": 16,
    "start_time": "2023-01-25T22:58:52.325Z"
   },
   {
    "duration": 824,
    "start_time": "2023-01-25T22:58:52.343Z"
   },
   {
    "duration": 23297,
    "start_time": "2023-01-25T22:58:53.169Z"
   },
   {
    "duration": 76,
    "start_time": "2023-01-25T22:59:16.467Z"
   },
   {
    "duration": 172,
    "start_time": "2023-01-25T22:59:16.545Z"
   },
   {
    "duration": 481,
    "start_time": "2023-01-25T22:59:16.719Z"
   },
   {
    "duration": 150,
    "start_time": "2023-01-25T22:59:17.201Z"
   },
   {
    "duration": 74,
    "start_time": "2023-01-25T22:59:17.353Z"
   },
   {
    "duration": 1690,
    "start_time": "2023-01-25T22:59:17.430Z"
   },
   {
    "duration": 13,
    "start_time": "2023-01-25T22:59:19.123Z"
   },
   {
    "duration": 24,
    "start_time": "2023-01-25T22:59:19.137Z"
   },
   {
    "duration": 90,
    "start_time": "2023-01-25T22:59:19.163Z"
   },
   {
    "duration": 202,
    "start_time": "2023-01-25T22:59:19.255Z"
   },
   {
    "duration": 45,
    "start_time": "2023-01-25T22:59:19.463Z"
   },
   {
    "duration": 7,
    "start_time": "2023-01-25T22:59:19.511Z"
   },
   {
    "duration": 17,
    "start_time": "2023-01-25T22:59:19.520Z"
   },
   {
    "duration": 6,
    "start_time": "2023-01-25T22:59:19.539Z"
   },
   {
    "duration": 152,
    "start_time": "2023-01-25T22:59:19.548Z"
   },
   {
    "duration": 8,
    "start_time": "2023-01-25T22:59:19.702Z"
   },
   {
    "duration": 63,
    "start_time": "2023-01-25T22:59:19.712Z"
   },
   {
    "duration": 113,
    "start_time": "2023-01-25T22:59:19.777Z"
   },
   {
    "duration": 2351,
    "start_time": "2023-01-25T22:59:19.893Z"
   },
   {
    "duration": 3,
    "start_time": "2023-01-25T22:59:22.246Z"
   },
   {
    "duration": 181,
    "start_time": "2023-01-25T22:59:22.250Z"
   },
   {
    "duration": 0,
    "start_time": "2023-01-25T22:59:22.432Z"
   },
   {
    "duration": 0,
    "start_time": "2023-01-25T22:59:22.434Z"
   },
   {
    "duration": 0,
    "start_time": "2023-01-25T22:59:22.436Z"
   },
   {
    "duration": 0,
    "start_time": "2023-01-25T22:59:22.437Z"
   },
   {
    "duration": 0,
    "start_time": "2023-01-25T22:59:22.438Z"
   },
   {
    "duration": 0,
    "start_time": "2023-01-25T22:59:22.439Z"
   },
   {
    "duration": 0,
    "start_time": "2023-01-25T22:59:22.440Z"
   },
   {
    "duration": 0,
    "start_time": "2023-01-25T22:59:22.442Z"
   },
   {
    "duration": 0,
    "start_time": "2023-01-25T22:59:22.443Z"
   },
   {
    "duration": 0,
    "start_time": "2023-01-25T22:59:22.444Z"
   },
   {
    "duration": 0,
    "start_time": "2023-01-25T22:59:22.445Z"
   },
   {
    "duration": 0,
    "start_time": "2023-01-25T22:59:22.446Z"
   },
   {
    "duration": 0,
    "start_time": "2023-01-25T22:59:22.447Z"
   },
   {
    "duration": 0,
    "start_time": "2023-01-25T22:59:22.448Z"
   },
   {
    "duration": 0,
    "start_time": "2023-01-25T22:59:22.449Z"
   },
   {
    "duration": 0,
    "start_time": "2023-01-25T22:59:22.451Z"
   },
   {
    "duration": 0,
    "start_time": "2023-01-25T22:59:22.452Z"
   },
   {
    "duration": 0,
    "start_time": "2023-01-25T22:59:22.453Z"
   },
   {
    "duration": 0,
    "start_time": "2023-01-25T22:59:22.484Z"
   },
   {
    "duration": 0,
    "start_time": "2023-01-25T22:59:22.485Z"
   },
   {
    "duration": 173,
    "start_time": "2023-01-25T23:02:10.809Z"
   },
   {
    "duration": 4,
    "start_time": "2023-01-25T23:02:13.798Z"
   },
   {
    "duration": 37592,
    "start_time": "2023-01-25T23:02:13.873Z"
   },
   {
    "duration": 4,
    "start_time": "2023-01-25T23:02:51.467Z"
   },
   {
    "duration": 108924,
    "start_time": "2023-01-25T23:02:51.485Z"
   },
   {
    "duration": 11100,
    "start_time": "2023-01-25T23:04:40.411Z"
   },
   {
    "duration": 79,
    "start_time": "2023-01-25T23:04:51.513Z"
   },
   {
    "duration": 163,
    "start_time": "2023-01-25T23:04:51.594Z"
   },
   {
    "duration": 473173,
    "start_time": "2023-01-25T23:04:51.759Z"
   },
   {
    "duration": 3,
    "start_time": "2023-01-25T23:12:44.934Z"
   },
   {
    "duration": 12,
    "start_time": "2023-01-25T23:12:44.939Z"
   },
   {
    "duration": 21,
    "start_time": "2023-01-25T23:12:44.953Z"
   },
   {
    "duration": 282,
    "start_time": "2023-01-25T23:12:44.975Z"
   },
   {
    "duration": 575,
    "start_time": "2023-01-25T23:12:45.259Z"
   },
   {
    "duration": 153,
    "start_time": "2023-01-25T23:12:45.836Z"
   },
   {
    "duration": 7,
    "start_time": "2023-01-25T23:12:45.993Z"
   },
   {
    "duration": 29,
    "start_time": "2023-01-25T23:12:46.002Z"
   },
   {
    "duration": 214,
    "start_time": "2023-01-25T23:12:46.033Z"
   },
   {
    "duration": 47,
    "start_time": "2023-01-25T23:12:46.249Z"
   },
   {
    "duration": 251,
    "start_time": "2023-01-25T23:12:46.303Z"
   },
   {
    "duration": 181,
    "start_time": "2023-01-25T23:12:46.556Z"
   },
   {
    "duration": 3998,
    "start_time": "2023-01-29T20:34:20.344Z"
   },
   {
    "duration": 2876,
    "start_time": "2023-01-29T20:34:24.344Z"
   },
   {
    "duration": 3,
    "start_time": "2023-01-29T20:34:27.221Z"
   },
   {
    "duration": 9,
    "start_time": "2023-01-29T20:34:27.227Z"
   },
   {
    "duration": 7744,
    "start_time": "2023-01-29T20:34:27.237Z"
   },
   {
    "duration": 3,
    "start_time": "2023-01-29T20:34:34.982Z"
   },
   {
    "duration": 224,
    "start_time": "2023-01-29T20:34:34.988Z"
   },
   {
    "duration": 17423,
    "start_time": "2023-01-29T20:34:35.214Z"
   },
   {
    "duration": 3651,
    "start_time": "2023-01-29T20:34:52.639Z"
   },
   {
    "duration": 11161,
    "start_time": "2023-01-29T20:34:56.293Z"
   },
   {
    "duration": 232,
    "start_time": "2023-01-29T20:35:07.456Z"
   },
   {
    "duration": 8,
    "start_time": "2023-01-29T20:35:07.690Z"
   },
   {
    "duration": 199,
    "start_time": "2023-01-29T20:35:07.700Z"
   },
   {
    "duration": 284,
    "start_time": "2023-01-29T20:35:07.900Z"
   },
   {
    "duration": 15,
    "start_time": "2023-01-29T20:35:08.186Z"
   },
   {
    "duration": 806,
    "start_time": "2023-01-29T20:35:08.203Z"
   },
   {
    "duration": 19525,
    "start_time": "2023-01-29T20:35:09.011Z"
   },
   {
    "duration": 51,
    "start_time": "2023-01-29T20:35:28.538Z"
   },
   {
    "duration": 164,
    "start_time": "2023-01-29T20:35:28.591Z"
   },
   {
    "duration": 370,
    "start_time": "2023-01-29T20:35:28.757Z"
   },
   {
    "duration": 130,
    "start_time": "2023-01-29T20:35:29.128Z"
   },
   {
    "duration": 62,
    "start_time": "2023-01-29T20:35:29.260Z"
   },
   {
    "duration": 1649,
    "start_time": "2023-01-29T20:35:29.324Z"
   },
   {
    "duration": 10,
    "start_time": "2023-01-29T20:35:30.976Z"
   },
   {
    "duration": 14,
    "start_time": "2023-01-29T20:35:30.989Z"
   },
   {
    "duration": 64,
    "start_time": "2023-01-29T20:35:31.005Z"
   },
   {
    "duration": 184,
    "start_time": "2023-01-29T20:35:31.071Z"
   },
   {
    "duration": 30,
    "start_time": "2023-01-29T20:35:31.260Z"
   },
   {
    "duration": 5,
    "start_time": "2023-01-29T20:35:31.293Z"
   },
   {
    "duration": 28,
    "start_time": "2023-01-29T20:35:31.300Z"
   },
   {
    "duration": 17,
    "start_time": "2023-01-29T20:35:31.330Z"
   },
   {
    "duration": 76,
    "start_time": "2023-01-29T20:35:31.349Z"
   },
   {
    "duration": 5,
    "start_time": "2023-01-29T20:35:31.428Z"
   },
   {
    "duration": 43,
    "start_time": "2023-01-29T20:35:31.435Z"
   },
   {
    "duration": 115,
    "start_time": "2023-01-29T20:35:31.481Z"
   },
   {
    "duration": 2066,
    "start_time": "2023-01-29T20:35:31.598Z"
   },
   {
    "duration": 3,
    "start_time": "2023-01-29T20:35:33.666Z"
   },
   {
    "duration": 188,
    "start_time": "2023-01-29T20:35:33.671Z"
   },
   {
    "duration": 3,
    "start_time": "2023-01-29T20:35:33.861Z"
   },
   {
    "duration": 34131,
    "start_time": "2023-01-29T20:35:33.866Z"
   },
   {
    "duration": 4,
    "start_time": "2023-01-29T20:36:07.999Z"
   },
   {
    "duration": 586159,
    "start_time": "2023-01-29T20:36:08.005Z"
   },
   {
    "duration": 8556,
    "start_time": "2023-01-29T20:45:54.166Z"
   },
   {
    "duration": 195,
    "start_time": "2023-01-29T20:46:02.726Z"
   },
   {
    "duration": 49,
    "start_time": "2023-01-29T20:46:02.923Z"
   },
   {
    "duration": 412966,
    "start_time": "2023-01-29T20:46:02.974Z"
   },
   {
    "duration": 3,
    "start_time": "2023-01-29T20:52:55.942Z"
   },
   {
    "duration": 11,
    "start_time": "2023-01-29T20:52:55.947Z"
   },
   {
    "duration": 16,
    "start_time": "2023-01-29T20:52:55.960Z"
   },
   {
    "duration": 263,
    "start_time": "2023-01-29T20:52:55.977Z"
   },
   {
    "duration": 530,
    "start_time": "2023-01-29T20:52:56.242Z"
   },
   {
    "duration": 133,
    "start_time": "2023-01-29T20:52:56.774Z"
   },
   {
    "duration": 2,
    "start_time": "2023-01-29T20:52:56.909Z"
   },
   {
    "duration": 31,
    "start_time": "2023-01-29T20:52:56.921Z"
   },
   {
    "duration": 170,
    "start_time": "2023-01-29T20:52:56.953Z"
   },
   {
    "duration": 21,
    "start_time": "2023-01-29T20:52:57.125Z"
   },
   {
    "duration": 231,
    "start_time": "2023-01-29T20:52:57.148Z"
   },
   {
    "duration": 160,
    "start_time": "2023-01-29T20:52:57.381Z"
   },
   {
    "duration": 31,
    "start_time": "2023-01-29T20:57:40.670Z"
   },
   {
    "duration": 30,
    "start_time": "2023-01-29T21:00:18.775Z"
   },
   {
    "duration": 23,
    "start_time": "2023-01-29T21:00:29.541Z"
   },
   {
    "duration": 43,
    "start_time": "2023-01-29T21:00:42.550Z"
   },
   {
    "duration": 101,
    "start_time": "2023-01-29T21:00:42.976Z"
   },
   {
    "duration": 1923,
    "start_time": "2023-01-29T21:00:43.452Z"
   },
   {
    "duration": 3,
    "start_time": "2023-01-29T21:00:50.436Z"
   },
   {
    "duration": 155,
    "start_time": "2023-01-29T21:00:50.954Z"
   },
   {
    "duration": 4,
    "start_time": "2023-01-29T21:00:53.662Z"
   },
   {
    "duration": 32935,
    "start_time": "2023-01-29T21:00:54.052Z"
   },
   {
    "duration": 4,
    "start_time": "2023-01-29T21:01:26.989Z"
   },
   {
    "duration": 589472,
    "start_time": "2023-01-29T21:01:26.995Z"
   },
   {
    "duration": 8853,
    "start_time": "2023-01-29T21:11:16.469Z"
   },
   {
    "duration": 48,
    "start_time": "2023-02-02T19:02:21.655Z"
   },
   {
    "duration": 3774,
    "start_time": "2023-02-02T19:03:14.627Z"
   },
   {
    "duration": 2696,
    "start_time": "2023-02-02T19:03:18.403Z"
   },
   {
    "duration": 3,
    "start_time": "2023-02-02T19:03:21.100Z"
   },
   {
    "duration": 12,
    "start_time": "2023-02-02T19:03:21.105Z"
   },
   {
    "duration": 8534,
    "start_time": "2023-02-02T19:03:21.119Z"
   },
   {
    "duration": 2,
    "start_time": "2023-02-02T19:03:29.655Z"
   },
   {
    "duration": 235,
    "start_time": "2023-02-02T19:03:29.658Z"
   },
   {
    "duration": 17684,
    "start_time": "2023-02-02T19:03:29.895Z"
   },
   {
    "duration": 3708,
    "start_time": "2023-02-02T19:03:47.581Z"
   },
   {
    "duration": 11505,
    "start_time": "2023-02-02T19:03:51.291Z"
   },
   {
    "duration": 246,
    "start_time": "2023-02-02T19:04:02.797Z"
   },
   {
    "duration": 7,
    "start_time": "2023-02-02T19:04:03.045Z"
   },
   {
    "duration": 197,
    "start_time": "2023-02-02T19:04:03.054Z"
   },
   {
    "duration": 293,
    "start_time": "2023-02-02T19:04:03.253Z"
   },
   {
    "duration": 15,
    "start_time": "2023-02-02T19:04:03.548Z"
   },
   {
    "duration": 735,
    "start_time": "2023-02-02T19:04:03.565Z"
   },
   {
    "duration": 12133,
    "start_time": "2023-02-02T19:04:04.302Z"
   },
   {
    "duration": 68,
    "start_time": "2023-02-02T19:04:16.438Z"
   },
   {
    "duration": 164,
    "start_time": "2023-02-02T19:04:16.521Z"
   },
   {
    "duration": 441,
    "start_time": "2023-02-02T19:04:16.687Z"
   },
   {
    "duration": 148,
    "start_time": "2023-02-02T19:04:17.130Z"
   },
   {
    "duration": 67,
    "start_time": "2023-02-02T19:04:17.280Z"
   },
   {
    "duration": 1767,
    "start_time": "2023-02-02T19:04:17.348Z"
   },
   {
    "duration": 13,
    "start_time": "2023-02-02T19:04:19.118Z"
   },
   {
    "duration": 4,
    "start_time": "2023-02-02T19:04:19.133Z"
   },
   {
    "duration": 51,
    "start_time": "2023-02-02T19:04:19.138Z"
   },
   {
    "duration": 216,
    "start_time": "2023-02-02T19:04:19.191Z"
   },
   {
    "duration": 37,
    "start_time": "2023-02-02T19:04:19.411Z"
   },
   {
    "duration": 4,
    "start_time": "2023-02-02T19:04:19.450Z"
   },
   {
    "duration": 29,
    "start_time": "2023-02-02T19:04:19.455Z"
   },
   {
    "duration": 5,
    "start_time": "2023-02-02T19:04:19.486Z"
   },
   {
    "duration": 108,
    "start_time": "2023-02-02T19:04:19.493Z"
   },
   {
    "duration": 6,
    "start_time": "2023-02-02T19:04:19.603Z"
   },
   {
    "duration": 51,
    "start_time": "2023-02-02T19:04:19.620Z"
   },
   {
    "duration": 47,
    "start_time": "2023-02-02T19:04:19.674Z"
   },
   {
    "duration": 28,
    "start_time": "2023-02-02T19:04:19.723Z"
   },
   {
    "duration": 41,
    "start_time": "2023-02-02T19:04:19.753Z"
   },
   {
    "duration": 108,
    "start_time": "2023-02-02T19:04:19.796Z"
   },
   {
    "duration": 2314,
    "start_time": "2023-02-02T19:04:19.906Z"
   },
   {
    "duration": 3,
    "start_time": "2023-02-02T19:04:22.222Z"
   },
   {
    "duration": 181,
    "start_time": "2023-02-02T19:04:22.227Z"
   },
   {
    "duration": 4,
    "start_time": "2023-02-02T19:04:22.411Z"
   },
   {
    "duration": 34267,
    "start_time": "2023-02-02T19:04:22.420Z"
   },
   {
    "duration": 4,
    "start_time": "2023-02-02T19:04:56.689Z"
   },
   {
    "duration": 840998,
    "start_time": "2023-02-02T19:04:56.695Z"
   },
   {
    "duration": 0,
    "start_time": "2023-02-02T19:18:57.696Z"
   },
   {
    "duration": 0,
    "start_time": "2023-02-02T19:18:57.698Z"
   },
   {
    "duration": 1,
    "start_time": "2023-02-02T19:18:57.699Z"
   },
   {
    "duration": 1,
    "start_time": "2023-02-02T19:18:57.701Z"
   },
   {
    "duration": 0,
    "start_time": "2023-02-02T19:18:57.703Z"
   },
   {
    "duration": 0,
    "start_time": "2023-02-02T19:18:57.704Z"
   },
   {
    "duration": 0,
    "start_time": "2023-02-02T19:18:57.706Z"
   },
   {
    "duration": 0,
    "start_time": "2023-02-02T19:18:57.721Z"
   },
   {
    "duration": 0,
    "start_time": "2023-02-02T19:18:57.723Z"
   },
   {
    "duration": 0,
    "start_time": "2023-02-02T19:18:57.725Z"
   },
   {
    "duration": 0,
    "start_time": "2023-02-02T19:18:57.727Z"
   },
   {
    "duration": 0,
    "start_time": "2023-02-02T19:18:57.728Z"
   },
   {
    "duration": 0,
    "start_time": "2023-02-02T19:18:57.730Z"
   },
   {
    "duration": 0,
    "start_time": "2023-02-02T19:18:57.732Z"
   },
   {
    "duration": 0,
    "start_time": "2023-02-02T19:18:57.733Z"
   },
   {
    "duration": 0,
    "start_time": "2023-02-02T19:18:57.735Z"
   },
   {
    "duration": 5772,
    "start_time": "2023-02-02T19:19:06.523Z"
   },
   {
    "duration": 6657,
    "start_time": "2023-02-02T19:19:25.109Z"
   },
   {
    "duration": 61,
    "start_time": "2023-02-02T19:24:00.899Z"
   },
   {
    "duration": 138,
    "start_time": "2023-02-02T19:24:03.388Z"
   },
   {
    "duration": 372,
    "start_time": "2023-02-02T19:24:04.037Z"
   },
   {
    "duration": 136,
    "start_time": "2023-02-02T19:24:04.412Z"
   },
   {
    "duration": 81,
    "start_time": "2023-02-02T19:24:04.550Z"
   },
   {
    "duration": 1940,
    "start_time": "2023-02-02T19:24:04.643Z"
   },
   {
    "duration": 10,
    "start_time": "2023-02-02T19:24:06.586Z"
   },
   {
    "duration": 24,
    "start_time": "2023-02-02T19:24:06.598Z"
   },
   {
    "duration": 39,
    "start_time": "2023-02-02T19:24:06.637Z"
   },
   {
    "duration": 204,
    "start_time": "2023-02-02T19:24:06.679Z"
   },
   {
    "duration": 51,
    "start_time": "2023-02-02T19:24:06.886Z"
   },
   {
    "duration": 5,
    "start_time": "2023-02-02T19:24:06.939Z"
   },
   {
    "duration": 20,
    "start_time": "2023-02-02T19:24:06.945Z"
   },
   {
    "duration": 5,
    "start_time": "2023-02-02T19:24:06.967Z"
   },
   {
    "duration": 65,
    "start_time": "2023-02-02T19:24:06.974Z"
   },
   {
    "duration": 7,
    "start_time": "2023-02-02T19:24:07.042Z"
   },
   {
    "duration": 40,
    "start_time": "2023-02-02T19:24:07.052Z"
   },
   {
    "duration": 52,
    "start_time": "2023-02-02T19:24:07.094Z"
   },
   {
    "duration": 24,
    "start_time": "2023-02-02T19:24:07.148Z"
   },
   {
    "duration": 68,
    "start_time": "2023-02-02T19:24:07.175Z"
   },
   {
    "duration": 110,
    "start_time": "2023-02-02T19:24:07.244Z"
   },
   {
    "duration": 958,
    "start_time": "2023-02-02T19:24:07.357Z"
   },
   {
    "duration": 0,
    "start_time": "2023-02-02T19:24:08.318Z"
   },
   {
    "duration": 0,
    "start_time": "2023-02-02T19:24:08.323Z"
   },
   {
    "duration": 4,
    "start_time": "2023-02-02T19:24:08.500Z"
   },
   {
    "duration": 30848,
    "start_time": "2023-02-02T19:24:08.682Z"
   },
   {
    "duration": 6,
    "start_time": "2023-02-02T19:24:39.532Z"
   },
   {
    "duration": 54972,
    "start_time": "2023-02-02T19:24:39.540Z"
   },
   {
    "duration": 901834,
    "start_time": "2023-02-02T19:25:55.701Z"
   },
   {
    "duration": 3911,
    "start_time": "2023-02-02T19:41:02.834Z"
   },
   {
    "duration": 4114,
    "start_time": "2023-02-02T19:41:10.456Z"
   },
   {
    "duration": 0,
    "start_time": "2023-02-02T19:44:29.242Z"
   },
   {
    "duration": 8482,
    "start_time": "2023-02-02T19:44:31.055Z"
   },
   {
    "duration": 115,
    "start_time": "2023-02-02T19:44:43.033Z"
   },
   {
    "duration": 63704,
    "start_time": "2023-02-02T19:44:54.597Z"
   },
   {
    "duration": 336217,
    "start_time": "2023-02-02T19:46:16.873Z"
   },
   {
    "duration": 8530,
    "start_time": "2023-02-02T19:52:02.297Z"
   },
   {
    "duration": 11,
    "start_time": "2023-02-02T19:52:10.829Z"
   },
   {
    "duration": 71,
    "start_time": "2023-02-02T19:52:10.922Z"
   },
   {
    "duration": 23,
    "start_time": "2023-02-02T19:52:23.041Z"
   },
   {
    "duration": 1830,
    "start_time": "2023-02-02T19:53:00.048Z"
   },
   {
    "duration": 2,
    "start_time": "2023-02-02T19:53:05.881Z"
   },
   {
    "duration": 116,
    "start_time": "2023-02-02T19:53:06.240Z"
   },
   {
    "duration": 12,
    "start_time": "2023-02-02T19:53:08.415Z"
   },
   {
    "duration": 29289,
    "start_time": "2023-02-02T19:53:09.045Z"
   },
   {
    "duration": 4,
    "start_time": "2023-02-02T19:53:38.336Z"
   },
   {
    "duration": 340389,
    "start_time": "2023-02-02T19:53:38.342Z"
   },
   {
    "duration": 5401,
    "start_time": "2023-02-02T19:59:18.734Z"
   },
   {
    "duration": 90,
    "start_time": "2023-02-02T19:59:24.141Z"
   },
   {
    "duration": 57,
    "start_time": "2023-02-02T19:59:24.233Z"
   },
   {
    "duration": 35,
    "start_time": "2023-02-02T19:59:24.291Z"
   },
   {
    "duration": 46,
    "start_time": "2023-02-02T19:59:59.739Z"
   },
   {
    "duration": 110,
    "start_time": "2023-02-02T20:00:00.261Z"
   },
   {
    "duration": 891,
    "start_time": "2023-02-02T20:00:00.895Z"
   },
   {
    "duration": 1713,
    "start_time": "2023-02-02T20:00:11.962Z"
   },
   {
    "duration": 2,
    "start_time": "2023-02-02T20:00:16.207Z"
   },
   {
    "duration": 99,
    "start_time": "2023-02-02T20:00:16.551Z"
   },
   {
    "duration": 4,
    "start_time": "2023-02-02T20:00:18.251Z"
   },
   {
    "duration": 29861,
    "start_time": "2023-02-02T20:00:22.438Z"
   },
   {
    "duration": 3,
    "start_time": "2023-02-02T20:00:55.672Z"
   },
   {
    "duration": 353426,
    "start_time": "2023-02-02T20:01:00.417Z"
   },
   {
    "duration": 5062,
    "start_time": "2023-02-02T20:07:15.588Z"
   },
   {
    "duration": 1560,
    "start_time": "2023-02-02T20:07:20.722Z"
   },
   {
    "duration": 0,
    "start_time": "2023-02-02T20:07:22.284Z"
   },
   {
    "duration": 0,
    "start_time": "2023-02-02T20:07:22.285Z"
   },
   {
    "duration": 8,
    "start_time": "2023-02-02T20:07:30.316Z"
   },
   {
    "duration": 52,
    "start_time": "2023-02-02T20:07:31.256Z"
   },
   {
    "duration": 28,
    "start_time": "2023-02-02T20:07:31.718Z"
   },
   {
    "duration": 404393,
    "start_time": "2023-02-02T20:08:15.510Z"
   },
   {
    "duration": 19,
    "start_time": "2023-02-02T20:15:53.880Z"
   },
   {
    "duration": 6,
    "start_time": "2023-02-02T20:16:38.037Z"
   },
   {
    "duration": 10,
    "start_time": "2023-02-02T20:16:38.608Z"
   },
   {
    "duration": 15,
    "start_time": "2023-02-02T20:16:43.175Z"
   },
   {
    "duration": 307,
    "start_time": "2023-02-02T20:16:49.905Z"
   },
   {
    "duration": 22,
    "start_time": "2023-02-02T20:17:21.493Z"
   },
   {
    "duration": 687,
    "start_time": "2023-02-02T20:17:35.061Z"
   },
   {
    "duration": 211,
    "start_time": "2023-02-02T20:17:42.405Z"
   },
   {
    "duration": 489,
    "start_time": "2023-02-02T20:19:35.194Z"
   },
   {
    "duration": 5,
    "start_time": "2023-02-02T20:20:12.973Z"
   },
   {
    "duration": 5,
    "start_time": "2023-02-02T20:20:20.993Z"
   },
   {
    "duration": 526,
    "start_time": "2023-02-02T20:20:25.075Z"
   },
   {
    "duration": 50,
    "start_time": "2023-02-02T20:20:33.789Z"
   },
   {
    "duration": 83,
    "start_time": "2023-02-02T20:20:33.967Z"
   },
   {
    "duration": 1735,
    "start_time": "2023-02-02T20:20:34.541Z"
   },
   {
    "duration": 2,
    "start_time": "2023-02-02T20:20:38.482Z"
   },
   {
    "duration": 102,
    "start_time": "2023-02-02T20:20:38.624Z"
   },
   {
    "duration": 500,
    "start_time": "2023-02-02T20:20:45.173Z"
   },
   {
    "duration": 475,
    "start_time": "2023-02-02T20:21:39.004Z"
   },
   {
    "duration": 264,
    "start_time": "2023-02-02T20:21:42.868Z"
   },
   {
    "duration": 2395,
    "start_time": "2023-02-02T20:21:57.544Z"
   },
   {
    "duration": 3020,
    "start_time": "2023-02-02T20:21:59.941Z"
   },
   {
    "duration": 4,
    "start_time": "2023-02-02T20:22:02.963Z"
   },
   {
    "duration": 4,
    "start_time": "2023-02-02T20:22:02.971Z"
   },
   {
    "duration": 9684,
    "start_time": "2023-02-02T20:22:02.977Z"
   },
   {
    "duration": 3,
    "start_time": "2023-02-02T20:22:12.663Z"
   },
   {
    "duration": 248,
    "start_time": "2023-02-02T20:22:12.667Z"
   },
   {
    "duration": 18692,
    "start_time": "2023-02-02T20:22:12.917Z"
   },
   {
    "duration": 4434,
    "start_time": "2023-02-02T20:22:31.612Z"
   },
   {
    "duration": 9159,
    "start_time": "2023-02-02T20:22:36.049Z"
   },
   {
    "duration": 0,
    "start_time": "2023-02-02T20:22:45.211Z"
   },
   {
    "duration": 0,
    "start_time": "2023-02-02T20:22:45.212Z"
   },
   {
    "duration": 0,
    "start_time": "2023-02-02T20:22:45.214Z"
   },
   {
    "duration": 0,
    "start_time": "2023-02-02T20:22:45.220Z"
   },
   {
    "duration": 0,
    "start_time": "2023-02-02T20:22:45.229Z"
   },
   {
    "duration": 0,
    "start_time": "2023-02-02T20:22:45.230Z"
   },
   {
    "duration": 0,
    "start_time": "2023-02-02T20:22:45.231Z"
   },
   {
    "duration": 0,
    "start_time": "2023-02-02T20:22:45.232Z"
   },
   {
    "duration": 0,
    "start_time": "2023-02-02T20:22:45.236Z"
   },
   {
    "duration": 0,
    "start_time": "2023-02-02T20:22:45.238Z"
   },
   {
    "duration": 0,
    "start_time": "2023-02-02T20:22:45.240Z"
   },
   {
    "duration": 0,
    "start_time": "2023-02-02T20:22:45.241Z"
   },
   {
    "duration": 0,
    "start_time": "2023-02-02T20:22:45.243Z"
   },
   {
    "duration": 0,
    "start_time": "2023-02-02T20:22:45.244Z"
   },
   {
    "duration": 0,
    "start_time": "2023-02-02T20:22:45.245Z"
   },
   {
    "duration": 0,
    "start_time": "2023-02-02T20:22:45.246Z"
   },
   {
    "duration": 0,
    "start_time": "2023-02-02T20:22:45.248Z"
   },
   {
    "duration": 0,
    "start_time": "2023-02-02T20:22:45.249Z"
   },
   {
    "duration": 0,
    "start_time": "2023-02-02T20:22:45.250Z"
   },
   {
    "duration": 0,
    "start_time": "2023-02-02T20:22:45.251Z"
   },
   {
    "duration": 0,
    "start_time": "2023-02-02T20:22:45.252Z"
   },
   {
    "duration": 0,
    "start_time": "2023-02-02T20:22:45.254Z"
   },
   {
    "duration": 0,
    "start_time": "2023-02-02T20:22:45.255Z"
   },
   {
    "duration": 0,
    "start_time": "2023-02-02T20:22:45.256Z"
   },
   {
    "duration": 0,
    "start_time": "2023-02-02T20:22:45.257Z"
   },
   {
    "duration": 0,
    "start_time": "2023-02-02T20:22:45.259Z"
   },
   {
    "duration": 0,
    "start_time": "2023-02-02T20:22:45.260Z"
   },
   {
    "duration": 0,
    "start_time": "2023-02-02T20:22:45.261Z"
   },
   {
    "duration": 0,
    "start_time": "2023-02-02T20:22:45.262Z"
   },
   {
    "duration": 0,
    "start_time": "2023-02-02T20:22:45.263Z"
   },
   {
    "duration": 0,
    "start_time": "2023-02-02T20:22:45.265Z"
   },
   {
    "duration": 0,
    "start_time": "2023-02-02T20:22:45.266Z"
   },
   {
    "duration": 0,
    "start_time": "2023-02-02T20:22:45.267Z"
   },
   {
    "duration": 0,
    "start_time": "2023-02-02T20:22:45.268Z"
   },
   {
    "duration": 0,
    "start_time": "2023-02-02T20:22:45.322Z"
   },
   {
    "duration": 0,
    "start_time": "2023-02-02T20:22:45.323Z"
   },
   {
    "duration": 0,
    "start_time": "2023-02-02T20:22:45.324Z"
   },
   {
    "duration": 0,
    "start_time": "2023-02-02T20:22:45.325Z"
   },
   {
    "duration": 0,
    "start_time": "2023-02-02T20:22:45.327Z"
   },
   {
    "duration": 0,
    "start_time": "2023-02-02T20:22:45.328Z"
   },
   {
    "duration": 0,
    "start_time": "2023-02-02T20:22:45.336Z"
   },
   {
    "duration": 0,
    "start_time": "2023-02-02T20:22:45.337Z"
   },
   {
    "duration": 0,
    "start_time": "2023-02-02T20:22:45.337Z"
   },
   {
    "duration": 0,
    "start_time": "2023-02-02T20:22:45.338Z"
   },
   {
    "duration": 0,
    "start_time": "2023-02-02T20:22:45.340Z"
   },
   {
    "duration": 0,
    "start_time": "2023-02-02T20:22:45.340Z"
   },
   {
    "duration": 0,
    "start_time": "2023-02-02T20:22:45.341Z"
   },
   {
    "duration": 0,
    "start_time": "2023-02-02T20:22:45.342Z"
   },
   {
    "duration": 0,
    "start_time": "2023-02-02T20:22:45.343Z"
   },
   {
    "duration": 0,
    "start_time": "2023-02-02T20:22:45.344Z"
   },
   {
    "duration": 0,
    "start_time": "2023-02-02T20:22:45.345Z"
   },
   {
    "duration": 0,
    "start_time": "2023-02-02T20:22:45.346Z"
   },
   {
    "duration": 12209,
    "start_time": "2023-02-02T20:22:59.637Z"
   },
   {
    "duration": 238,
    "start_time": "2023-02-02T20:23:11.848Z"
   },
   {
    "duration": 9,
    "start_time": "2023-02-02T20:23:12.088Z"
   },
   {
    "duration": 250,
    "start_time": "2023-02-02T20:23:12.099Z"
   },
   {
    "duration": 293,
    "start_time": "2023-02-02T20:23:12.351Z"
   },
   {
    "duration": 15,
    "start_time": "2023-02-02T20:23:12.646Z"
   },
   {
    "duration": 840,
    "start_time": "2023-02-02T20:23:12.662Z"
   },
   {
    "duration": 17094,
    "start_time": "2023-02-02T20:23:13.505Z"
   },
   {
    "duration": 71,
    "start_time": "2023-02-02T20:23:30.602Z"
   },
   {
    "duration": 152,
    "start_time": "2023-02-02T20:23:30.677Z"
   },
   {
    "duration": 410,
    "start_time": "2023-02-02T20:23:30.832Z"
   },
   {
    "duration": 127,
    "start_time": "2023-02-02T20:23:31.244Z"
   },
   {
    "duration": 151,
    "start_time": "2023-02-02T20:23:31.372Z"
   },
   {
    "duration": 1674,
    "start_time": "2023-02-02T20:23:31.525Z"
   },
   {
    "duration": 21,
    "start_time": "2023-02-02T20:23:33.202Z"
   },
   {
    "duration": 5,
    "start_time": "2023-02-02T20:23:33.224Z"
   },
   {
    "duration": 50,
    "start_time": "2023-02-02T20:23:33.234Z"
   },
   {
    "duration": 214,
    "start_time": "2023-02-02T20:23:33.285Z"
   },
   {
    "duration": 39,
    "start_time": "2023-02-02T20:23:33.500Z"
   },
   {
    "duration": 5,
    "start_time": "2023-02-02T20:23:33.540Z"
   },
   {
    "duration": 15,
    "start_time": "2023-02-02T20:23:33.546Z"
   },
   {
    "duration": 4,
    "start_time": "2023-02-02T20:23:33.563Z"
   },
   {
    "duration": 92,
    "start_time": "2023-02-02T20:23:33.568Z"
   },
   {
    "duration": 6,
    "start_time": "2023-02-02T20:23:33.663Z"
   },
   {
    "duration": 31,
    "start_time": "2023-02-02T20:23:33.672Z"
   },
   {
    "duration": 55,
    "start_time": "2023-02-02T20:23:33.705Z"
   },
   {
    "duration": 30,
    "start_time": "2023-02-02T20:23:33.762Z"
   },
   {
    "duration": 45,
    "start_time": "2023-02-02T20:23:33.795Z"
   },
   {
    "duration": 85,
    "start_time": "2023-02-02T20:23:33.843Z"
   },
   {
    "duration": 1931,
    "start_time": "2023-02-02T20:23:33.931Z"
   },
   {
    "duration": 3,
    "start_time": "2023-02-02T20:23:35.864Z"
   },
   {
    "duration": 126,
    "start_time": "2023-02-02T20:23:35.868Z"
   },
   {
    "duration": 4,
    "start_time": "2023-02-02T20:23:35.996Z"
   },
   {
    "duration": 563,
    "start_time": "2023-02-02T20:23:36.003Z"
   },
   {
    "duration": 541,
    "start_time": "2023-02-02T20:23:58.232Z"
   },
   {
    "duration": 140,
    "start_time": "2023-02-02T20:23:58.775Z"
   },
   {
    "duration": 651,
    "start_time": "2023-02-02T20:25:03.509Z"
   },
   {
    "duration": 568,
    "start_time": "2023-02-02T20:25:37.904Z"
   },
   {
    "duration": 19,
    "start_time": "2023-02-02T20:26:40.143Z"
   },
   {
    "duration": 13,
    "start_time": "2023-02-02T20:27:07.487Z"
   },
   {
    "duration": 29,
    "start_time": "2023-02-02T20:28:22.647Z"
   },
   {
    "duration": 84,
    "start_time": "2023-02-02T20:28:35.306Z"
   },
   {
    "duration": 40,
    "start_time": "2023-02-02T20:29:19.614Z"
   },
   {
    "duration": 33,
    "start_time": "2023-02-02T20:29:51.679Z"
   },
   {
    "duration": 78,
    "start_time": "2023-02-02T20:30:02.948Z"
   },
   {
    "duration": 158,
    "start_time": "2023-02-02T20:30:08.000Z"
   },
   {
    "duration": 186,
    "start_time": "2023-02-02T20:31:04.999Z"
   },
   {
    "duration": 16,
    "start_time": "2023-02-02T20:33:08.638Z"
   },
   {
    "duration": 97,
    "start_time": "2023-02-02T20:33:20.091Z"
   },
   {
    "duration": 129,
    "start_time": "2023-02-02T20:33:26.435Z"
   },
   {
    "duration": 45,
    "start_time": "2023-02-02T20:33:29.603Z"
   },
   {
    "duration": 135,
    "start_time": "2023-02-02T20:33:41.380Z"
   },
   {
    "duration": 62,
    "start_time": "2023-02-02T20:34:45.440Z"
   },
   {
    "duration": 224,
    "start_time": "2023-02-02T20:34:45.623Z"
   },
   {
    "duration": 155,
    "start_time": "2023-02-02T20:34:46.102Z"
   },
   {
    "duration": 3397,
    "start_time": "2023-02-02T20:35:49.805Z"
   },
   {
    "duration": 3442,
    "start_time": "2023-02-02T20:35:53.205Z"
   },
   {
    "duration": 3,
    "start_time": "2023-02-02T20:35:56.649Z"
   },
   {
    "duration": 8,
    "start_time": "2023-02-02T20:35:56.655Z"
   },
   {
    "duration": 8156,
    "start_time": "2023-02-02T20:35:56.665Z"
   },
   {
    "duration": 2,
    "start_time": "2023-02-02T20:36:04.823Z"
   },
   {
    "duration": 240,
    "start_time": "2023-02-02T20:36:04.827Z"
   },
   {
    "duration": 19114,
    "start_time": "2023-02-02T20:36:05.072Z"
   },
   {
    "duration": 3938,
    "start_time": "2023-02-02T20:36:24.188Z"
   },
   {
    "duration": 11907,
    "start_time": "2023-02-02T20:36:28.130Z"
   },
   {
    "duration": 233,
    "start_time": "2023-02-02T20:36:40.039Z"
   },
   {
    "duration": 8,
    "start_time": "2023-02-02T20:36:40.274Z"
   },
   {
    "duration": 206,
    "start_time": "2023-02-02T20:36:40.283Z"
   },
   {
    "duration": 283,
    "start_time": "2023-02-02T20:36:40.491Z"
   },
   {
    "duration": 16,
    "start_time": "2023-02-02T20:36:40.776Z"
   },
   {
    "duration": 766,
    "start_time": "2023-02-02T20:36:40.794Z"
   },
   {
    "duration": 18095,
    "start_time": "2023-02-02T20:36:41.561Z"
   },
   {
    "duration": 64,
    "start_time": "2023-02-02T20:36:59.658Z"
   },
   {
    "duration": 140,
    "start_time": "2023-02-02T20:36:59.724Z"
   },
   {
    "duration": 327,
    "start_time": "2023-02-02T20:36:59.866Z"
   },
   {
    "duration": 121,
    "start_time": "2023-02-02T20:37:00.195Z"
   },
   {
    "duration": 57,
    "start_time": "2023-02-02T20:37:00.321Z"
   },
   {
    "duration": 1529,
    "start_time": "2023-02-02T20:37:00.380Z"
   },
   {
    "duration": 10,
    "start_time": "2023-02-02T20:37:01.911Z"
   },
   {
    "duration": 4,
    "start_time": "2023-02-02T20:37:01.923Z"
   },
   {
    "duration": 40,
    "start_time": "2023-02-02T20:37:01.928Z"
   },
   {
    "duration": 196,
    "start_time": "2023-02-02T20:37:01.971Z"
   },
   {
    "duration": 24,
    "start_time": "2023-02-02T20:37:02.171Z"
   },
   {
    "duration": 4,
    "start_time": "2023-02-02T20:37:02.197Z"
   },
   {
    "duration": 28,
    "start_time": "2023-02-02T20:37:02.203Z"
   },
   {
    "duration": 4,
    "start_time": "2023-02-02T20:37:02.233Z"
   },
   {
    "duration": 57,
    "start_time": "2023-02-02T20:37:02.239Z"
   },
   {
    "duration": 28,
    "start_time": "2023-02-02T20:37:02.297Z"
   },
   {
    "duration": 40,
    "start_time": "2023-02-02T20:37:02.327Z"
   },
   {
    "duration": 29,
    "start_time": "2023-02-02T20:37:02.368Z"
   },
   {
    "duration": 38,
    "start_time": "2023-02-02T20:37:02.399Z"
   },
   {
    "duration": 32,
    "start_time": "2023-02-02T20:37:02.439Z"
   },
   {
    "duration": 88,
    "start_time": "2023-02-02T20:37:02.473Z"
   },
   {
    "duration": 1731,
    "start_time": "2023-02-02T20:37:02.562Z"
   },
   {
    "duration": 3,
    "start_time": "2023-02-02T20:37:04.295Z"
   },
   {
    "duration": 137,
    "start_time": "2023-02-02T20:37:04.300Z"
   },
   {
    "duration": 10,
    "start_time": "2023-02-02T20:37:04.440Z"
   },
   {
    "duration": 26881,
    "start_time": "2023-02-02T20:37:04.453Z"
   },
   {
    "duration": 4,
    "start_time": "2023-02-02T20:37:31.336Z"
   },
   {
    "duration": 322229,
    "start_time": "2023-02-02T20:37:31.341Z"
   },
   {
    "duration": 5254,
    "start_time": "2023-02-02T20:42:53.572Z"
   },
   {
    "duration": 95,
    "start_time": "2023-02-02T20:42:58.828Z"
   },
   {
    "duration": 140,
    "start_time": "2023-02-02T20:42:58.926Z"
   },
   {
    "duration": 19,
    "start_time": "2023-02-02T20:42:59.067Z"
   },
   {
    "duration": 384923,
    "start_time": "2023-02-02T20:42:59.088Z"
   },
   {
    "duration": 3,
    "start_time": "2023-02-02T20:49:24.013Z"
   },
   {
    "duration": 24,
    "start_time": "2023-02-02T20:49:24.018Z"
   },
   {
    "duration": 17,
    "start_time": "2023-02-02T20:49:24.044Z"
   },
   {
    "duration": 550,
    "start_time": "2023-02-02T20:49:24.062Z"
   },
   {
    "duration": 605,
    "start_time": "2023-02-02T20:49:24.614Z"
   },
   {
    "duration": 137,
    "start_time": "2023-02-02T20:49:25.233Z"
   },
   {
    "duration": 568,
    "start_time": "2023-02-02T20:49:25.372Z"
   },
   {
    "duration": 71,
    "start_time": "2023-02-02T20:49:25.942Z"
   },
   {
    "duration": 171,
    "start_time": "2023-02-02T20:49:26.031Z"
   },
   {
    "duration": 108,
    "start_time": "2023-02-02T20:49:26.204Z"
   },
   {
    "duration": 162,
    "start_time": "2023-02-02T20:49:26.314Z"
   },
   {
    "duration": 66,
    "start_time": "2023-02-02T20:49:26.478Z"
   },
   {
    "duration": 254,
    "start_time": "2023-02-02T20:49:26.547Z"
   },
   {
    "duration": 174,
    "start_time": "2023-02-02T20:49:26.804Z"
   },
   {
    "duration": 4184,
    "start_time": "2023-02-03T13:42:57.679Z"
   },
   {
    "duration": 3266,
    "start_time": "2023-02-03T13:43:01.866Z"
   },
   {
    "duration": 3,
    "start_time": "2023-02-03T13:43:05.135Z"
   },
   {
    "duration": 10,
    "start_time": "2023-02-03T13:43:05.141Z"
   },
   {
    "duration": 8992,
    "start_time": "2023-02-03T13:43:05.153Z"
   },
   {
    "duration": 2,
    "start_time": "2023-02-03T13:43:14.147Z"
   },
   {
    "duration": 252,
    "start_time": "2023-02-03T13:43:14.151Z"
   },
   {
    "duration": 19021,
    "start_time": "2023-02-03T13:43:14.405Z"
   },
   {
    "duration": 3881,
    "start_time": "2023-02-03T13:43:33.429Z"
   },
   {
    "duration": 12044,
    "start_time": "2023-02-03T13:43:37.313Z"
   },
   {
    "duration": 234,
    "start_time": "2023-02-03T13:43:49.359Z"
   },
   {
    "duration": 7,
    "start_time": "2023-02-03T13:43:49.595Z"
   },
   {
    "duration": 207,
    "start_time": "2023-02-03T13:43:49.604Z"
   },
   {
    "duration": 294,
    "start_time": "2023-02-03T13:43:49.813Z"
   },
   {
    "duration": 16,
    "start_time": "2023-02-03T13:43:50.108Z"
   },
   {
    "duration": 800,
    "start_time": "2023-02-03T13:43:50.125Z"
   },
   {
    "duration": 22429,
    "start_time": "2023-02-03T13:43:50.928Z"
   },
   {
    "duration": 59,
    "start_time": "2023-02-03T13:44:13.359Z"
   },
   {
    "duration": 127,
    "start_time": "2023-02-03T13:44:13.420Z"
   },
   {
    "duration": 333,
    "start_time": "2023-02-03T13:44:13.549Z"
   },
   {
    "duration": 121,
    "start_time": "2023-02-03T13:44:13.885Z"
   },
   {
    "duration": 55,
    "start_time": "2023-02-03T13:44:14.008Z"
   },
   {
    "duration": 1792,
    "start_time": "2023-02-03T13:44:14.065Z"
   },
   {
    "duration": 8,
    "start_time": "2023-02-03T13:44:15.859Z"
   },
   {
    "duration": 22,
    "start_time": "2023-02-03T13:44:15.869Z"
   },
   {
    "duration": 54,
    "start_time": "2023-02-03T13:44:15.892Z"
   },
   {
    "duration": 215,
    "start_time": "2023-02-03T13:44:15.948Z"
   },
   {
    "duration": 35,
    "start_time": "2023-02-03T13:44:16.167Z"
   },
   {
    "duration": 4,
    "start_time": "2023-02-03T13:44:16.204Z"
   },
   {
    "duration": 30,
    "start_time": "2023-02-03T13:44:16.210Z"
   },
   {
    "duration": 4,
    "start_time": "2023-02-03T13:44:16.242Z"
   },
   {
    "duration": 71,
    "start_time": "2023-02-03T13:44:16.248Z"
   },
   {
    "duration": 5,
    "start_time": "2023-02-03T13:44:16.322Z"
   },
   {
    "duration": 34,
    "start_time": "2023-02-03T13:44:16.329Z"
   },
   {
    "duration": 44,
    "start_time": "2023-02-03T13:44:16.364Z"
   },
   {
    "duration": 29,
    "start_time": "2023-02-03T13:44:16.410Z"
   },
   {
    "duration": 45,
    "start_time": "2023-02-03T13:44:16.440Z"
   },
   {
    "duration": 78,
    "start_time": "2023-02-03T13:44:16.487Z"
   },
   {
    "duration": 1692,
    "start_time": "2023-02-03T13:44:16.567Z"
   },
   {
    "duration": 3,
    "start_time": "2023-02-03T13:44:18.261Z"
   },
   {
    "duration": 135,
    "start_time": "2023-02-03T13:44:18.266Z"
   },
   {
    "duration": 4,
    "start_time": "2023-02-03T13:44:18.402Z"
   },
   {
    "duration": 315219,
    "start_time": "2023-02-03T13:45:00.181Z"
   },
   {
    "duration": 19,
    "start_time": "2023-02-03T13:50:15.402Z"
   },
   {
    "duration": 9,
    "start_time": "2023-02-03T13:50:15.423Z"
   },
   {
    "duration": 14,
    "start_time": "2023-02-03T13:52:46.325Z"
   },
   {
    "duration": 39,
    "start_time": "2023-02-03T13:53:00.884Z"
   },
   {
    "duration": 122,
    "start_time": "2023-02-03T13:53:13.408Z"
   },
   {
    "duration": 88,
    "start_time": "2023-02-03T13:54:09.645Z"
   },
   {
    "duration": 168,
    "start_time": "2023-02-03T13:56:52.156Z"
   },
   {
    "duration": 37,
    "start_time": "2023-02-03T13:56:58.039Z"
   },
   {
    "duration": 732,
    "start_time": "2023-02-03T13:58:58.744Z"
   },
   {
    "duration": 15,
    "start_time": "2023-02-03T13:59:04.448Z"
   },
   {
    "duration": 101,
    "start_time": "2023-02-03T13:59:16.262Z"
   },
   {
    "duration": 3,
    "start_time": "2023-02-03T13:59:21.782Z"
   },
   {
    "duration": 731,
    "start_time": "2023-02-03T14:00:07.202Z"
   },
   {
    "duration": 38,
    "start_time": "2023-02-03T14:00:08.878Z"
   },
   {
    "duration": 15,
    "start_time": "2023-02-03T14:00:14.665Z"
   },
   {
    "duration": 4,
    "start_time": "2023-02-03T14:00:17.775Z"
   },
   {
    "duration": 92,
    "start_time": "2023-02-03T14:00:21.463Z"
   },
   {
    "duration": 893,
    "start_time": "2023-02-03T14:01:41.636Z"
   },
   {
    "duration": 77,
    "start_time": "2023-02-03T14:01:43.361Z"
   },
   {
    "duration": 16,
    "start_time": "2023-02-03T14:01:45.354Z"
   },
   {
    "duration": 12,
    "start_time": "2023-02-03T14:02:01.773Z"
   },
   {
    "duration": 4,
    "start_time": "2023-02-03T14:02:07.871Z"
   },
   {
    "duration": 22,
    "start_time": "2023-02-03T14:02:28.205Z"
   },
   {
    "duration": 25,
    "start_time": "2023-02-03T14:03:15.242Z"
   },
   {
    "duration": 11,
    "start_time": "2023-02-03T14:03:36.801Z"
   },
   {
    "duration": 62,
    "start_time": "2023-02-03T14:04:09.779Z"
   },
   {
    "duration": 906,
    "start_time": "2023-02-03T14:04:26.797Z"
   },
   {
    "duration": 34,
    "start_time": "2023-02-03T14:04:29.927Z"
   },
   {
    "duration": 17,
    "start_time": "2023-02-03T14:04:34.634Z"
   },
   {
    "duration": 4,
    "start_time": "2023-02-03T14:04:39.348Z"
   },
   {
    "duration": 69,
    "start_time": "2023-02-03T14:04:40.525Z"
   },
   {
    "duration": 19,
    "start_time": "2023-02-03T14:05:59.463Z"
   },
   {
    "duration": 72,
    "start_time": "2023-02-03T14:06:00.342Z"
   },
   {
    "duration": 11222,
    "start_time": "2023-02-03T14:07:29.917Z"
   },
   {
    "duration": 63905,
    "start_time": "2023-02-03T14:08:30.980Z"
   },
   {
    "duration": 4,
    "start_time": "2023-02-03T14:09:59.145Z"
   },
   {
    "duration": 973,
    "start_time": "2023-02-03T14:10:10.758Z"
   },
   {
    "duration": 38,
    "start_time": "2023-02-03T14:10:12.547Z"
   },
   {
    "duration": 4,
    "start_time": "2023-02-03T14:10:14.857Z"
   },
   {
    "duration": 17,
    "start_time": "2023-02-03T14:10:15.703Z"
   },
   {
    "duration": 69,
    "start_time": "2023-02-03T14:10:19.075Z"
   },
   {
    "duration": 468717,
    "start_time": "2023-02-03T14:10:23.987Z"
   },
   {
    "duration": 456,
    "start_time": "2023-02-03T14:18:12.706Z"
   },
   {
    "duration": 7407,
    "start_time": "2023-02-03T14:18:36.451Z"
   },
   {
    "duration": 8,
    "start_time": "2023-02-03T14:19:23.584Z"
   },
   {
    "duration": 7397,
    "start_time": "2023-02-03T14:19:33.278Z"
   },
   {
    "duration": 12266,
    "start_time": "2023-02-03T14:19:54.733Z"
   },
   {
    "duration": 6299,
    "start_time": "2023-02-03T14:20:35.031Z"
   },
   {
    "duration": 1306,
    "start_time": "2023-02-03T14:20:48.418Z"
   },
   {
    "duration": 3649,
    "start_time": "2023-02-03T14:20:55.127Z"
   },
   {
    "duration": 4,
    "start_time": "2023-02-03T14:21:39.504Z"
   },
   {
    "duration": 4,
    "start_time": "2023-02-03T14:21:49.291Z"
   },
   {
    "duration": 18,
    "start_time": "2023-02-03T14:22:11.958Z"
   },
   {
    "duration": 3,
    "start_time": "2023-02-03T14:22:19.049Z"
   },
   {
    "duration": 3567,
    "start_time": "2023-02-03T14:22:28.955Z"
   },
   {
    "duration": 1806,
    "start_time": "2023-02-03T14:22:45.074Z"
   },
   {
    "duration": 642,
    "start_time": "2023-02-03T14:22:53.902Z"
   },
   {
    "duration": 401,
    "start_time": "2023-02-03T14:23:02.314Z"
   },
   {
    "duration": 391,
    "start_time": "2023-02-03T14:23:23.322Z"
   },
   {
    "duration": 1082,
    "start_time": "2023-02-03T14:23:31.647Z"
   },
   {
    "duration": 63,
    "start_time": "2023-02-03T14:24:00.111Z"
   },
   {
    "duration": 6,
    "start_time": "2023-02-03T14:24:48.712Z"
   },
   {
    "duration": 5,
    "start_time": "2023-02-03T14:25:06.162Z"
   },
   {
    "duration": 5,
    "start_time": "2023-02-03T14:25:27.844Z"
   },
   {
    "duration": 4,
    "start_time": "2023-02-03T14:25:28.485Z"
   },
   {
    "duration": 8,
    "start_time": "2023-02-03T14:25:29.814Z"
   },
   {
    "duration": 1134,
    "start_time": "2023-02-03T14:25:31.401Z"
   },
   {
    "duration": 19093,
    "start_time": "2023-02-03T14:25:49.117Z"
   },
   {
    "duration": 13174,
    "start_time": "2023-02-03T14:26:27.335Z"
   },
   {
    "duration": 5590,
    "start_time": "2023-02-03T14:26:57.303Z"
   },
   {
    "duration": 111,
    "start_time": "2023-02-03T14:29:28.869Z"
   },
   {
    "duration": 984,
    "start_time": "2023-02-03T14:29:30.223Z"
   },
   {
    "duration": 39,
    "start_time": "2023-02-03T14:29:31.337Z"
   },
   {
    "duration": 4,
    "start_time": "2023-02-03T14:29:33.636Z"
   },
   {
    "duration": 27,
    "start_time": "2023-02-03T14:29:34.579Z"
   },
   {
    "duration": 72,
    "start_time": "2023-02-03T14:29:38.262Z"
   },
   {
    "duration": 3,
    "start_time": "2023-02-03T14:29:50.361Z"
   },
   {
    "duration": 4,
    "start_time": "2023-02-03T14:29:52.029Z"
   },
   {
    "duration": 6,
    "start_time": "2023-02-03T14:29:54.595Z"
   },
   {
    "duration": 7,
    "start_time": "2023-02-03T14:30:28.120Z"
   },
   {
    "duration": 5668,
    "start_time": "2023-02-03T14:30:33.087Z"
   },
   {
    "duration": 1833,
    "start_time": "2023-02-03T14:30:43.286Z"
   },
   {
    "duration": 746,
    "start_time": "2023-02-03T14:30:51.478Z"
   },
   {
    "duration": 1713,
    "start_time": "2023-02-03T14:31:00.014Z"
   },
   {
    "duration": 1477,
    "start_time": "2023-02-03T14:31:07.002Z"
   },
   {
    "duration": 138,
    "start_time": "2023-02-03T14:33:06.018Z"
   },
   {
    "duration": 1072,
    "start_time": "2023-02-03T14:33:07.694Z"
   },
   {
    "duration": 46,
    "start_time": "2023-02-03T14:33:08.883Z"
   },
   {
    "duration": 6,
    "start_time": "2023-02-03T14:33:11.508Z"
   },
   {
    "duration": 4,
    "start_time": "2023-02-03T14:33:20.851Z"
   },
   {
    "duration": 1650,
    "start_time": "2023-02-03T14:33:21.469Z"
   },
   {
    "duration": 596573,
    "start_time": "2023-02-03T14:33:30.165Z"
   },
   {
    "duration": 520,
    "start_time": "2023-02-03T14:45:55.267Z"
   },
   {
    "duration": 1284,
    "start_time": "2023-02-03T14:48:34.646Z"
   },
   {
    "duration": 38,
    "start_time": "2023-02-03T14:48:37.048Z"
   },
   {
    "duration": 4,
    "start_time": "2023-02-03T14:48:40.276Z"
   },
   {
    "duration": 20,
    "start_time": "2023-02-03T14:48:40.983Z"
   },
   {
    "duration": 75,
    "start_time": "2023-02-03T14:48:42.196Z"
   },
   {
    "duration": 498,
    "start_time": "2023-02-03T14:48:48.853Z"
   },
   {
    "duration": 1443,
    "start_time": "2023-02-03T14:48:54.041Z"
   },
   {
    "duration": 2196,
    "start_time": "2023-02-03T14:49:01.899Z"
   },
   {
    "duration": 7,
    "start_time": "2023-02-03T14:53:20.966Z"
   },
   {
    "duration": 139,
    "start_time": "2023-02-03T14:54:35.238Z"
   },
   {
    "duration": 1214,
    "start_time": "2023-02-03T14:54:36.366Z"
   },
   {
    "duration": 44,
    "start_time": "2023-02-03T14:54:37.581Z"
   },
   {
    "duration": 3,
    "start_time": "2023-02-03T14:54:51.854Z"
   },
   {
    "duration": 16,
    "start_time": "2023-02-03T14:54:52.617Z"
   },
   {
    "duration": 84,
    "start_time": "2023-02-03T14:54:54.797Z"
   },
   {
    "duration": 1253,
    "start_time": "2023-02-03T14:54:56.586Z"
   },
   {
    "duration": 11,
    "start_time": "2023-02-03T14:55:10.816Z"
   },
   {
    "duration": 3,
    "start_time": "2023-02-03T14:55:22.088Z"
   },
   {
    "duration": 2070,
    "start_time": "2023-02-03T14:55:23.550Z"
   },
   {
    "duration": 25520,
    "start_time": "2023-02-03T14:57:39.785Z"
   },
   {
    "duration": 282,
    "start_time": "2023-02-03T14:59:51.162Z"
   },
   {
    "duration": 8,
    "start_time": "2023-02-03T15:00:16.720Z"
   },
   {
    "duration": 154,
    "start_time": "2023-02-03T15:00:26.010Z"
   },
   {
    "duration": 42,
    "start_time": "2023-02-03T15:02:17.774Z"
   },
   {
    "duration": 352,
    "start_time": "2023-02-03T15:02:23.511Z"
   },
   {
    "duration": 12,
    "start_time": "2023-02-03T15:04:41.272Z"
   },
   {
    "duration": 39,
    "start_time": "2023-02-03T15:04:49.351Z"
   },
   {
    "duration": 1307,
    "start_time": "2023-02-03T15:06:21.852Z"
   },
   {
    "duration": 71,
    "start_time": "2023-02-03T15:06:50.167Z"
   },
   {
    "duration": 21,
    "start_time": "2023-02-03T15:06:55.984Z"
   },
   {
    "duration": 43,
    "start_time": "2023-02-03T15:07:02.676Z"
   },
   {
    "duration": 184,
    "start_time": "2023-02-03T15:07:07.317Z"
   },
   {
    "duration": 4,
    "start_time": "2023-02-03T15:09:09.273Z"
   },
   {
    "duration": 5,
    "start_time": "2023-02-03T15:09:17.862Z"
   },
   {
    "duration": 16298,
    "start_time": "2023-02-03T15:09:34.041Z"
   },
   {
    "duration": 8,
    "start_time": "2023-02-03T15:09:50.341Z"
   },
   {
    "duration": 159,
    "start_time": "2023-02-03T15:09:50.351Z"
   },
   {
    "duration": 5,
    "start_time": "2023-02-03T15:09:50.512Z"
   },
   {
    "duration": 158,
    "start_time": "2023-02-03T15:09:56.142Z"
   },
   {
    "duration": 41,
    "start_time": "2023-02-03T15:09:57.382Z"
   },
   {
    "duration": 36,
    "start_time": "2023-02-03T15:09:58.479Z"
   },
   {
    "duration": 211,
    "start_time": "2023-02-03T15:09:59.355Z"
   },
   {
    "duration": 321,
    "start_time": "2023-02-03T15:10:26.234Z"
   },
   {
    "duration": 215,
    "start_time": "2023-02-03T15:10:27.223Z"
   },
   {
    "duration": 17504,
    "start_time": "2023-02-03T15:13:09.088Z"
   },
   {
    "duration": 8,
    "start_time": "2023-02-03T15:13:26.594Z"
   },
   {
    "duration": 169,
    "start_time": "2023-02-03T15:13:26.603Z"
   },
   {
    "duration": 6,
    "start_time": "2023-02-03T15:13:26.774Z"
   },
   {
    "duration": 140,
    "start_time": "2023-02-03T15:13:26.792Z"
   },
   {
    "duration": 30,
    "start_time": "2023-02-03T15:13:26.934Z"
   },
   {
    "duration": 47,
    "start_time": "2023-02-03T15:13:26.966Z"
   },
   {
    "duration": 297,
    "start_time": "2023-02-03T15:13:27.015Z"
   },
   {
    "duration": 206,
    "start_time": "2023-02-03T15:13:27.359Z"
   },
   {
    "duration": 17,
    "start_time": "2023-02-03T15:13:30.119Z"
   },
   {
    "duration": 60,
    "start_time": "2023-02-03T15:13:58.760Z"
   },
   {
    "duration": 4,
    "start_time": "2023-02-03T15:14:00.453Z"
   },
   {
    "duration": 17,
    "start_time": "2023-02-03T15:14:11.392Z"
   },
   {
    "duration": 135,
    "start_time": "2023-02-03T15:14:33.414Z"
   },
   {
    "duration": 2815,
    "start_time": "2023-02-03T15:14:39.277Z"
   },
   {
    "duration": 33,
    "start_time": "2023-02-03T15:14:43.199Z"
   },
   {
    "duration": 4,
    "start_time": "2023-02-03T15:14:57.242Z"
   },
   {
    "duration": 24,
    "start_time": "2023-02-03T15:14:59.226Z"
   },
   {
    "duration": 99,
    "start_time": "2023-02-03T15:15:05.019Z"
   },
   {
    "duration": 2678,
    "start_time": "2023-02-03T15:15:33.144Z"
   },
   {
    "duration": 744105,
    "start_time": "2023-02-03T15:15:43.237Z"
   },
   {
    "duration": 762,
    "start_time": "2023-02-03T15:34:57.591Z"
   },
   {
    "duration": 755,
    "start_time": "2023-02-03T15:35:40.305Z"
   },
   {
    "duration": 4211,
    "start_time": "2023-02-03T17:15:56.271Z"
   },
   {
    "duration": 2894,
    "start_time": "2023-02-03T17:16:00.484Z"
   },
   {
    "duration": 3,
    "start_time": "2023-02-03T17:16:03.382Z"
   },
   {
    "duration": 9,
    "start_time": "2023-02-03T17:16:03.389Z"
   },
   {
    "duration": 8715,
    "start_time": "2023-02-03T17:16:03.399Z"
   },
   {
    "duration": 3,
    "start_time": "2023-02-03T17:16:12.115Z"
   },
   {
    "duration": 262,
    "start_time": "2023-02-03T17:16:12.119Z"
   },
   {
    "duration": 18167,
    "start_time": "2023-02-03T17:16:12.384Z"
   },
   {
    "duration": 3986,
    "start_time": "2023-02-03T17:16:30.553Z"
   },
   {
    "duration": 12106,
    "start_time": "2023-02-03T17:16:34.542Z"
   },
   {
    "duration": 243,
    "start_time": "2023-02-03T17:16:46.649Z"
   },
   {
    "duration": 8,
    "start_time": "2023-02-03T17:16:46.894Z"
   },
   {
    "duration": 221,
    "start_time": "2023-02-03T17:16:46.904Z"
   },
   {
    "duration": 294,
    "start_time": "2023-02-03T17:16:47.127Z"
   },
   {
    "duration": 15,
    "start_time": "2023-02-03T17:16:47.423Z"
   },
   {
    "duration": 785,
    "start_time": "2023-02-03T17:16:47.439Z"
   },
   {
    "duration": 17351,
    "start_time": "2023-02-03T17:16:48.225Z"
   },
   {
    "duration": 55,
    "start_time": "2023-02-03T17:17:05.584Z"
   },
   {
    "duration": 147,
    "start_time": "2023-02-03T17:17:05.640Z"
   },
   {
    "duration": 281,
    "start_time": "2023-02-03T17:17:05.789Z"
   },
   {
    "duration": 115,
    "start_time": "2023-02-03T17:17:06.072Z"
   },
   {
    "duration": 60,
    "start_time": "2023-02-03T17:17:06.190Z"
   },
   {
    "duration": 1679,
    "start_time": "2023-02-03T17:17:06.252Z"
   },
   {
    "duration": 10,
    "start_time": "2023-02-03T17:17:07.933Z"
   },
   {
    "duration": 25,
    "start_time": "2023-02-03T17:17:07.945Z"
   },
   {
    "duration": 35,
    "start_time": "2023-02-03T17:17:07.971Z"
   },
   {
    "duration": 206,
    "start_time": "2023-02-03T17:17:08.008Z"
   },
   {
    "duration": 25,
    "start_time": "2023-02-03T17:17:08.218Z"
   },
   {
    "duration": 4,
    "start_time": "2023-02-03T17:17:08.244Z"
   },
   {
    "duration": 20,
    "start_time": "2023-02-03T17:17:08.270Z"
   },
   {
    "duration": 5,
    "start_time": "2023-02-03T17:17:08.292Z"
   },
   {
    "duration": 51,
    "start_time": "2023-02-03T17:17:08.298Z"
   },
   {
    "duration": 1491,
    "start_time": "2023-02-03T17:17:08.351Z"
   },
   {
    "duration": 0,
    "start_time": "2023-02-03T17:17:09.843Z"
   },
   {
    "duration": 0,
    "start_time": "2023-02-03T17:17:09.844Z"
   },
   {
    "duration": 0,
    "start_time": "2023-02-03T17:17:09.845Z"
   },
   {
    "duration": 0,
    "start_time": "2023-02-03T17:17:09.847Z"
   },
   {
    "duration": 20,
    "start_time": "2023-02-03T17:17:44.585Z"
   },
   {
    "duration": 94,
    "start_time": "2023-02-03T17:17:56.138Z"
   },
   {
    "duration": 6,
    "start_time": "2023-02-03T17:18:06.585Z"
   },
   {
    "duration": 27,
    "start_time": "2023-02-03T17:18:08.361Z"
   },
   {
    "duration": 29,
    "start_time": "2023-02-03T17:18:09.055Z"
   },
   {
    "duration": 20,
    "start_time": "2023-02-03T17:18:09.399Z"
   },
   {
    "duration": 28,
    "start_time": "2023-02-03T17:18:11.928Z"
   },
   {
    "duration": 67,
    "start_time": "2023-02-03T17:18:12.351Z"
   },
   {
    "duration": 20,
    "start_time": "2023-02-03T17:18:20.581Z"
   },
   {
    "duration": 646,
    "start_time": "2023-02-03T17:18:31.568Z"
   },
   {
    "duration": 1323,
    "start_time": "2023-02-03T17:18:48.922Z"
   },
   {
    "duration": 23,
    "start_time": "2023-02-03T17:18:54.601Z"
   },
   {
    "duration": 598,
    "start_time": "2023-02-03T17:22:00.159Z"
   },
   {
    "duration": 1377,
    "start_time": "2023-02-03T17:22:37.697Z"
   },
   {
    "duration": 19,
    "start_time": "2023-02-03T17:22:42.209Z"
   },
   {
    "duration": 20,
    "start_time": "2023-02-03T17:22:50.201Z"
   },
   {
    "duration": 4,
    "start_time": "2023-02-03T17:23:04.836Z"
   },
   {
    "duration": 74,
    "start_time": "2023-02-03T17:23:05.073Z"
   },
   {
    "duration": 3,
    "start_time": "2023-02-03T17:23:07.114Z"
   },
   {
    "duration": 20505,
    "start_time": "2023-02-03T17:23:10.266Z"
   },
   {
    "duration": 4,
    "start_time": "2023-02-03T17:23:45.010Z"
   },
   {
    "duration": 84327,
    "start_time": "2023-02-03T17:23:47.860Z"
   },
   {
    "duration": 272198,
    "start_time": "2023-02-03T17:25:19.951Z"
   },
   {
    "duration": 4057,
    "start_time": "2023-02-03T17:30:11.455Z"
   },
   {
    "duration": 16,
    "start_time": "2023-02-03T17:30:31.599Z"
   },
   {
    "duration": 1249,
    "start_time": "2023-02-03T17:30:40.855Z"
   },
   {
    "duration": 6,
    "start_time": "2023-02-03T17:30:44.562Z"
   },
   {
    "duration": 39,
    "start_time": "2023-02-03T17:30:46.183Z"
   },
   {
    "duration": 18,
    "start_time": "2023-02-03T17:30:47.625Z"
   },
   {
    "duration": 2122,
    "start_time": "2023-02-03T17:31:30.419Z"
   },
   {
    "duration": 304147,
    "start_time": "2023-02-03T17:31:48.899Z"
   },
   {
    "duration": 3,
    "start_time": "2023-02-03T17:36:53.049Z"
   },
   {
    "duration": 55,
    "start_time": "2023-02-03T17:36:53.054Z"
   },
   {
    "duration": 39,
    "start_time": "2023-02-03T17:36:53.111Z"
   },
   {
    "duration": 4,
    "start_time": "2023-02-03T18:09:18.412Z"
   },
   {
    "duration": 8,
    "start_time": "2023-02-03T18:09:18.912Z"
   },
   {
    "duration": 12,
    "start_time": "2023-02-03T18:09:22.729Z"
   },
   {
    "duration": 157,
    "start_time": "2023-02-03T18:09:27.377Z"
   },
   {
    "duration": 394,
    "start_time": "2023-02-03T18:12:27.652Z"
   },
   {
    "duration": 226,
    "start_time": "2023-02-03T18:12:32.503Z"
   },
   {
    "duration": 736,
    "start_time": "2023-02-03T18:12:38.097Z"
   },
   {
    "duration": 230,
    "start_time": "2023-02-03T18:12:41.138Z"
   },
   {
    "duration": 1567,
    "start_time": "2023-02-03T18:13:55.003Z"
   },
   {
    "duration": 597,
    "start_time": "2023-02-03T18:14:45.725Z"
   },
   {
    "duration": 196,
    "start_time": "2023-02-03T18:14:52.565Z"
   },
   {
    "duration": 53,
    "start_time": "2023-02-03T18:14:56.781Z"
   },
   {
    "duration": 1477,
    "start_time": "2023-02-03T18:14:58.182Z"
   },
   {
    "duration": 9,
    "start_time": "2023-02-03T18:15:00.085Z"
   },
   {
    "duration": 4,
    "start_time": "2023-02-03T18:15:00.493Z"
   },
   {
    "duration": 56,
    "start_time": "2023-02-03T18:15:04.300Z"
   },
   {
    "duration": 184,
    "start_time": "2023-02-03T18:15:05.397Z"
   },
   {
    "duration": 38,
    "start_time": "2023-02-03T18:15:06.117Z"
   },
   {
    "duration": 5,
    "start_time": "2023-02-03T18:15:06.767Z"
   },
   {
    "duration": 12,
    "start_time": "2023-02-03T18:15:07.357Z"
   },
   {
    "duration": 3,
    "start_time": "2023-02-03T18:15:08.575Z"
   },
   {
    "duration": 94,
    "start_time": "2023-02-03T18:15:10.814Z"
   },
   {
    "duration": 6,
    "start_time": "2023-02-03T18:15:13.717Z"
   },
   {
    "duration": 21,
    "start_time": "2023-02-03T18:15:27.678Z"
   },
   {
    "duration": 45,
    "start_time": "2023-02-03T18:15:29.671Z"
   },
   {
    "duration": 319,
    "start_time": "2023-02-03T18:15:30.326Z"
   },
   {
    "duration": 61,
    "start_time": "2023-02-03T18:15:35.335Z"
   },
   {
    "duration": 128,
    "start_time": "2023-02-03T18:15:36.463Z"
   },
   {
    "duration": 33,
    "start_time": "2023-02-03T18:15:43.683Z"
   },
   {
    "duration": 4548,
    "start_time": "2023-02-03T18:24:02.353Z"
   },
   {
    "duration": 375,
    "start_time": "2023-02-03T18:25:54.231Z"
   },
   {
    "duration": 3233,
    "start_time": "2023-02-03T18:26:05.040Z"
   },
   {
    "duration": 2,
    "start_time": "2023-02-03T18:26:58.472Z"
   },
   {
    "duration": 359,
    "start_time": "2023-02-03T18:26:58.617Z"
   },
   {
    "duration": 3,
    "start_time": "2023-02-03T18:27:00.391Z"
   },
   {
    "duration": 33374,
    "start_time": "2023-02-03T18:27:00.785Z"
   },
   {
    "duration": 7,
    "start_time": "2023-02-03T18:27:34.161Z"
   },
   {
    "duration": 310304,
    "start_time": "2023-02-03T18:27:34.170Z"
   },
   {
    "duration": 74096,
    "start_time": "2023-02-03T18:32:44.476Z"
   },
   {
    "duration": 7,
    "start_time": "2023-02-03T18:37:45.097Z"
   },
   {
    "duration": 104,
    "start_time": "2023-02-03T18:37:47.312Z"
   },
   {
    "duration": 30,
    "start_time": "2023-02-03T18:37:48.274Z"
   },
   {
    "duration": 2805473,
    "start_time": "2023-02-03T18:40:39.210Z"
   },
   {
    "duration": 1003338,
    "start_time": "2023-02-03T19:27:29.400Z"
   },
   {
    "duration": 85030,
    "start_time": "2023-02-03T19:44:14.948Z"
   },
   {
    "duration": 3,
    "start_time": "2023-02-03T19:46:16.965Z"
   },
   {
    "duration": 7,
    "start_time": "2023-02-03T19:46:17.921Z"
   },
   {
    "duration": 13,
    "start_time": "2023-02-03T19:46:20.853Z"
   },
   {
    "duration": 2392,
    "start_time": "2023-02-03T19:47:00.208Z"
   },
   {
    "duration": 2133,
    "start_time": "2023-02-03T19:47:40.977Z"
   },
   {
    "duration": 34,
    "start_time": "2023-02-03T19:48:02.750Z"
   },
   {
    "duration": 6,
    "start_time": "2023-02-03T19:48:21.697Z"
   },
   {
    "duration": 432,
    "start_time": "2023-02-03T19:48:30.659Z"
   },
   {
    "duration": 551,
    "start_time": "2023-02-03T19:48:51.899Z"
   },
   {
    "duration": 116,
    "start_time": "2023-02-03T19:49:27.507Z"
   },
   {
    "duration": 4534,
    "start_time": "2023-02-03T19:50:17.774Z"
   },
   {
    "duration": 11,
    "start_time": "2023-02-03T19:51:07.231Z"
   },
   {
    "duration": 6,
    "start_time": "2023-02-03T19:51:16.048Z"
   },
   {
    "duration": 62,
    "start_time": "2023-02-03T19:53:33.635Z"
   },
   {
    "duration": 155,
    "start_time": "2023-02-03T19:53:35.332Z"
   },
   {
    "duration": 66,
    "start_time": "2023-02-03T19:54:08.382Z"
   },
   {
    "duration": 164,
    "start_time": "2023-02-03T19:54:09.006Z"
   },
   {
    "duration": 74,
    "start_time": "2023-02-03T19:56:27.601Z"
   },
   {
    "duration": 259,
    "start_time": "2023-02-03T19:56:35.841Z"
   },
   {
    "duration": 2274,
    "start_time": "2023-02-03T20:00:32.283Z"
   },
   {
    "duration": 2602,
    "start_time": "2023-02-03T20:00:34.559Z"
   },
   {
    "duration": 5,
    "start_time": "2023-02-03T20:00:37.163Z"
   },
   {
    "duration": 17,
    "start_time": "2023-02-03T20:00:37.170Z"
   },
   {
    "duration": 7616,
    "start_time": "2023-02-03T20:00:37.189Z"
   },
   {
    "duration": 4,
    "start_time": "2023-02-03T20:00:44.807Z"
   },
   {
    "duration": 294,
    "start_time": "2023-02-03T20:00:44.813Z"
   },
   {
    "duration": 16807,
    "start_time": "2023-02-03T20:00:45.110Z"
   },
   {
    "duration": 4084,
    "start_time": "2023-02-03T20:01:01.919Z"
   },
   {
    "duration": 11190,
    "start_time": "2023-02-03T20:01:06.007Z"
   },
   {
    "duration": 232,
    "start_time": "2023-02-03T20:01:17.198Z"
   },
   {
    "duration": 8,
    "start_time": "2023-02-03T20:01:17.431Z"
   },
   {
    "duration": 191,
    "start_time": "2023-02-03T20:01:17.442Z"
   },
   {
    "duration": 289,
    "start_time": "2023-02-03T20:01:17.635Z"
   },
   {
    "duration": 13,
    "start_time": "2023-02-03T20:01:17.926Z"
   },
   {
    "duration": 756,
    "start_time": "2023-02-03T20:01:17.941Z"
   },
   {
    "duration": 14760,
    "start_time": "2023-02-03T20:01:18.699Z"
   },
   {
    "duration": 442,
    "start_time": "2023-02-03T20:01:33.467Z"
   },
   {
    "duration": 250,
    "start_time": "2023-02-03T20:01:33.910Z"
   },
   {
    "duration": 860,
    "start_time": "2023-02-03T20:01:34.167Z"
   },
   {
    "duration": 273,
    "start_time": "2023-02-03T20:01:35.029Z"
   },
   {
    "duration": 64,
    "start_time": "2023-02-03T20:01:35.304Z"
   },
   {
    "duration": 1522,
    "start_time": "2023-02-03T20:01:35.371Z"
   },
   {
    "duration": 12,
    "start_time": "2023-02-03T20:01:36.895Z"
   },
   {
    "duration": 8,
    "start_time": "2023-02-03T20:01:36.909Z"
   },
   {
    "duration": 89,
    "start_time": "2023-02-03T20:01:36.919Z"
   },
   {
    "duration": 192,
    "start_time": "2023-02-03T20:01:37.010Z"
   },
   {
    "duration": 38,
    "start_time": "2023-02-03T20:01:37.207Z"
   },
   {
    "duration": 5,
    "start_time": "2023-02-03T20:01:37.246Z"
   },
   {
    "duration": 13,
    "start_time": "2023-02-03T20:01:37.268Z"
   },
   {
    "duration": 3,
    "start_time": "2023-02-03T20:01:37.282Z"
   },
   {
    "duration": 111,
    "start_time": "2023-02-03T20:01:37.287Z"
   },
   {
    "duration": 5,
    "start_time": "2023-02-03T20:01:37.400Z"
   },
   {
    "duration": 27,
    "start_time": "2023-02-03T20:01:37.406Z"
   },
   {
    "duration": 68,
    "start_time": "2023-02-03T20:01:37.434Z"
   },
   {
    "duration": 25,
    "start_time": "2023-02-03T20:01:37.504Z"
   },
   {
    "duration": 58,
    "start_time": "2023-02-03T20:01:37.531Z"
   },
   {
    "duration": 132,
    "start_time": "2023-02-03T20:01:37.591Z"
   },
   {
    "duration": 26,
    "start_time": "2023-02-03T20:01:37.725Z"
   },
   {
    "duration": 203,
    "start_time": "2023-02-03T20:01:37.752Z"
   },
   {
    "duration": 0,
    "start_time": "2023-02-03T20:01:37.956Z"
   },
   {
    "duration": 0,
    "start_time": "2023-02-03T20:01:37.958Z"
   },
   {
    "duration": 0,
    "start_time": "2023-02-03T20:01:37.967Z"
   },
   {
    "duration": 0,
    "start_time": "2023-02-03T20:01:37.969Z"
   },
   {
    "duration": 0,
    "start_time": "2023-02-03T20:01:37.970Z"
   },
   {
    "duration": 0,
    "start_time": "2023-02-03T20:01:37.972Z"
   },
   {
    "duration": 0,
    "start_time": "2023-02-03T20:01:37.974Z"
   },
   {
    "duration": 0,
    "start_time": "2023-02-03T20:01:37.975Z"
   },
   {
    "duration": 0,
    "start_time": "2023-02-03T20:01:37.976Z"
   },
   {
    "duration": 0,
    "start_time": "2023-02-03T20:01:37.978Z"
   },
   {
    "duration": 0,
    "start_time": "2023-02-03T20:01:37.979Z"
   },
   {
    "duration": 0,
    "start_time": "2023-02-03T20:01:37.981Z"
   },
   {
    "duration": 0,
    "start_time": "2023-02-03T20:01:37.982Z"
   },
   {
    "duration": 0,
    "start_time": "2023-02-03T20:01:37.983Z"
   },
   {
    "duration": 0,
    "start_time": "2023-02-03T20:01:37.985Z"
   },
   {
    "duration": 0,
    "start_time": "2023-02-03T20:01:37.986Z"
   },
   {
    "duration": 0,
    "start_time": "2023-02-03T20:01:37.987Z"
   },
   {
    "duration": 0,
    "start_time": "2023-02-03T20:01:37.989Z"
   },
   {
    "duration": 0,
    "start_time": "2023-02-03T20:01:37.990Z"
   },
   {
    "duration": 0,
    "start_time": "2023-02-03T20:01:37.992Z"
   },
   {
    "duration": 0,
    "start_time": "2023-02-03T20:01:37.993Z"
   },
   {
    "duration": 0,
    "start_time": "2023-02-03T20:01:37.994Z"
   },
   {
    "duration": 0,
    "start_time": "2023-02-03T20:01:37.996Z"
   },
   {
    "duration": 0,
    "start_time": "2023-02-03T20:01:37.997Z"
   },
   {
    "duration": 26,
    "start_time": "2023-02-03T20:06:52.590Z"
   },
   {
    "duration": 3060,
    "start_time": "2023-02-03T20:07:42.417Z"
   },
   {
    "duration": 2,
    "start_time": "2023-02-03T20:07:47.960Z"
   },
   {
    "duration": 215,
    "start_time": "2023-02-03T20:07:48.152Z"
   },
   {
    "duration": 4,
    "start_time": "2023-02-03T20:07:52.416Z"
   },
   {
    "duration": 29673,
    "start_time": "2023-02-03T20:07:52.777Z"
   },
   {
    "duration": 4,
    "start_time": "2023-02-03T20:08:22.452Z"
   },
   {
    "duration": 295631,
    "start_time": "2023-02-03T20:08:22.466Z"
   },
   {
    "duration": 38310,
    "start_time": "2023-02-03T20:13:18.099Z"
   },
   {
    "duration": 62,
    "start_time": "2023-02-03T20:13:56.411Z"
   },
   {
    "duration": 173,
    "start_time": "2023-02-03T20:13:56.475Z"
   },
   {
    "duration": 27,
    "start_time": "2023-02-03T20:13:56.650Z"
   },
   {
    "duration": 2547,
    "start_time": "2023-02-03T20:13:56.678Z"
   },
   {
    "duration": 0,
    "start_time": "2023-02-03T20:13:59.228Z"
   },
   {
    "duration": 0,
    "start_time": "2023-02-03T20:13:59.229Z"
   },
   {
    "duration": 0,
    "start_time": "2023-02-03T20:13:59.231Z"
   },
   {
    "duration": 0,
    "start_time": "2023-02-03T20:13:59.232Z"
   },
   {
    "duration": 0,
    "start_time": "2023-02-03T20:13:59.233Z"
   },
   {
    "duration": 0,
    "start_time": "2023-02-03T20:13:59.235Z"
   },
   {
    "duration": 0,
    "start_time": "2023-02-03T20:13:59.236Z"
   },
   {
    "duration": 0,
    "start_time": "2023-02-03T20:13:59.237Z"
   },
   {
    "duration": 0,
    "start_time": "2023-02-03T20:13:59.238Z"
   },
   {
    "duration": 0,
    "start_time": "2023-02-03T20:13:59.239Z"
   },
   {
    "duration": 0,
    "start_time": "2023-02-03T20:13:59.240Z"
   },
   {
    "duration": 0,
    "start_time": "2023-02-03T20:13:59.241Z"
   },
   {
    "duration": 0,
    "start_time": "2023-02-03T20:13:59.242Z"
   },
   {
    "duration": 7,
    "start_time": "2023-02-03T20:18:12.791Z"
   },
   {
    "duration": 79,
    "start_time": "2023-02-03T20:18:13.948Z"
   },
   {
    "duration": 23,
    "start_time": "2023-02-03T20:18:14.608Z"
   },
   {
    "duration": 2408,
    "start_time": "2023-02-03T20:18:15.671Z"
   },
   {
    "duration": 2480,
    "start_time": "2023-02-03T20:19:00.338Z"
   },
   {
    "duration": 8,
    "start_time": "2023-02-03T20:19:27.857Z"
   },
   {
    "duration": 85,
    "start_time": "2023-02-03T20:19:28.626Z"
   },
   {
    "duration": 20,
    "start_time": "2023-02-03T20:19:29.162Z"
   },
   {
    "duration": 2968,
    "start_time": "2023-02-03T20:19:29.833Z"
   },
   {
    "duration": 2222,
    "start_time": "2023-02-03T20:20:29.432Z"
   },
   {
    "duration": 2528,
    "start_time": "2023-02-03T20:20:31.657Z"
   },
   {
    "duration": 3,
    "start_time": "2023-02-03T20:20:34.187Z"
   },
   {
    "duration": 10,
    "start_time": "2023-02-03T20:20:34.192Z"
   },
   {
    "duration": 8310,
    "start_time": "2023-02-03T20:20:34.203Z"
   },
   {
    "duration": 2,
    "start_time": "2023-02-03T20:20:42.514Z"
   },
   {
    "duration": 271,
    "start_time": "2023-02-03T20:20:42.518Z"
   },
   {
    "duration": 17067,
    "start_time": "2023-02-03T20:20:42.790Z"
   },
   {
    "duration": 3983,
    "start_time": "2023-02-03T20:20:59.859Z"
   },
   {
    "duration": 11089,
    "start_time": "2023-02-03T20:21:03.845Z"
   },
   {
    "duration": 245,
    "start_time": "2023-02-03T20:21:14.936Z"
   },
   {
    "duration": 9,
    "start_time": "2023-02-03T20:21:15.183Z"
   },
   {
    "duration": 184,
    "start_time": "2023-02-03T20:21:15.193Z"
   },
   {
    "duration": 286,
    "start_time": "2023-02-03T20:21:15.379Z"
   },
   {
    "duration": 13,
    "start_time": "2023-02-03T20:21:15.666Z"
   },
   {
    "duration": 724,
    "start_time": "2023-02-03T20:21:15.680Z"
   },
   {
    "duration": 22770,
    "start_time": "2023-02-03T20:21:16.406Z"
   },
   {
    "duration": 449,
    "start_time": "2023-02-03T20:21:39.178Z"
   },
   {
    "duration": 228,
    "start_time": "2023-02-03T20:21:39.628Z"
   },
   {
    "duration": 771,
    "start_time": "2023-02-03T20:21:39.867Z"
   },
   {
    "duration": 213,
    "start_time": "2023-02-03T20:21:40.640Z"
   },
   {
    "duration": 51,
    "start_time": "2023-02-03T20:21:40.855Z"
   },
   {
    "duration": 1475,
    "start_time": "2023-02-03T20:21:40.908Z"
   },
   {
    "duration": 9,
    "start_time": "2023-02-03T20:21:42.385Z"
   },
   {
    "duration": 4,
    "start_time": "2023-02-03T20:21:42.395Z"
   },
   {
    "duration": 95,
    "start_time": "2023-02-03T20:21:42.400Z"
   },
   {
    "duration": 158,
    "start_time": "2023-02-03T20:21:42.497Z"
   },
   {
    "duration": 48,
    "start_time": "2023-02-03T20:21:42.659Z"
   },
   {
    "duration": 4,
    "start_time": "2023-02-03T20:21:42.709Z"
   },
   {
    "duration": 12,
    "start_time": "2023-02-03T20:21:42.715Z"
   },
   {
    "duration": 3,
    "start_time": "2023-02-03T20:21:42.729Z"
   },
   {
    "duration": 118,
    "start_time": "2023-02-03T20:21:42.734Z"
   },
   {
    "duration": 13,
    "start_time": "2023-02-03T20:21:42.854Z"
   },
   {
    "duration": 29,
    "start_time": "2023-02-03T20:21:42.869Z"
   },
   {
    "duration": 48,
    "start_time": "2023-02-03T20:21:42.899Z"
   },
   {
    "duration": 50,
    "start_time": "2023-02-03T20:21:42.948Z"
   },
   {
    "duration": 53,
    "start_time": "2023-02-03T20:21:42.999Z"
   },
   {
    "duration": 149,
    "start_time": "2023-02-03T20:21:43.053Z"
   },
   {
    "duration": 25,
    "start_time": "2023-02-03T20:21:43.205Z"
   },
   {
    "duration": 3159,
    "start_time": "2023-02-03T20:21:43.231Z"
   },
   {
    "duration": 3,
    "start_time": "2023-02-03T20:21:46.392Z"
   },
   {
    "duration": 241,
    "start_time": "2023-02-03T20:21:46.397Z"
   },
   {
    "duration": 3,
    "start_time": "2023-02-03T20:21:46.640Z"
   },
   {
    "duration": 31331,
    "start_time": "2023-02-03T20:21:46.645Z"
   },
   {
    "duration": 5,
    "start_time": "2023-02-03T20:22:17.978Z"
   },
   {
    "duration": 313413,
    "start_time": "2023-02-03T20:22:17.984Z"
   },
   {
    "duration": 38225,
    "start_time": "2023-02-03T20:27:31.398Z"
   },
   {
    "duration": 12,
    "start_time": "2023-02-03T20:28:09.667Z"
   },
   {
    "duration": 97,
    "start_time": "2023-02-03T20:28:09.768Z"
   },
   {
    "duration": 29,
    "start_time": "2023-02-03T20:28:09.867Z"
   },
   {
    "duration": 108312,
    "start_time": "2023-02-03T20:28:09.898Z"
   },
   {
    "duration": 4,
    "start_time": "2023-02-03T20:29:58.212Z"
   },
   {
    "duration": 25,
    "start_time": "2023-02-03T20:29:58.218Z"
   },
   {
    "duration": 14,
    "start_time": "2023-02-03T20:29:58.244Z"
   },
   {
    "duration": 546,
    "start_time": "2023-02-03T20:29:58.259Z"
   },
   {
    "duration": 515,
    "start_time": "2023-02-03T20:29:58.807Z"
   },
   {
    "duration": 125,
    "start_time": "2023-02-03T20:29:59.324Z"
   },
   {
    "duration": 5881,
    "start_time": "2023-02-03T20:29:59.451Z"
   },
   {
    "duration": 82,
    "start_time": "2023-02-03T20:30:05.334Z"
   },
   {
    "duration": 179,
    "start_time": "2023-02-03T20:30:05.418Z"
   },
   {
    "duration": 96,
    "start_time": "2023-02-03T20:30:05.599Z"
   },
   {
    "duration": 217,
    "start_time": "2023-02-03T20:30:05.697Z"
   },
   {
    "duration": 102,
    "start_time": "2023-02-03T20:30:05.916Z"
   },
   {
    "duration": 326,
    "start_time": "2023-02-03T20:30:06.020Z"
   },
   {
    "duration": 2203,
    "start_time": "2023-05-01T14:15:44.038Z"
   },
   {
    "duration": 3917,
    "start_time": "2023-05-01T14:15:49.286Z"
   },
   {
    "duration": 1213,
    "start_time": "2023-05-01T14:15:53.205Z"
   },
   {
    "duration": 2,
    "start_time": "2023-05-01T14:15:54.419Z"
   },
   {
    "duration": 24,
    "start_time": "2023-05-01T14:15:54.424Z"
   },
   {
    "duration": 19026,
    "start_time": "2023-05-01T14:15:54.451Z"
   },
   {
    "duration": 3,
    "start_time": "2023-05-01T14:16:13.479Z"
   },
   {
    "duration": 217,
    "start_time": "2023-05-01T14:16:13.484Z"
   },
   {
    "duration": 12738,
    "start_time": "2023-05-01T14:16:13.703Z"
   },
   {
    "duration": 3181,
    "start_time": "2023-05-01T14:16:26.443Z"
   },
   {
    "duration": 10296,
    "start_time": "2023-05-01T14:16:29.626Z"
   },
   {
    "duration": 229,
    "start_time": "2023-05-01T14:16:39.924Z"
   },
   {
    "duration": 7,
    "start_time": "2023-05-01T14:16:40.155Z"
   },
   {
    "duration": 200,
    "start_time": "2023-05-01T14:16:40.163Z"
   },
   {
    "duration": 288,
    "start_time": "2023-05-01T14:16:40.365Z"
   },
   {
    "duration": 15,
    "start_time": "2023-05-01T14:16:40.654Z"
   },
   {
    "duration": 691,
    "start_time": "2023-05-01T14:16:40.670Z"
   },
   {
    "duration": 21671,
    "start_time": "2023-05-01T14:16:41.362Z"
   },
   {
    "duration": 321,
    "start_time": "2023-05-01T14:17:03.035Z"
   },
   {
    "duration": 212,
    "start_time": "2023-05-01T14:17:03.358Z"
   },
   {
    "duration": 578,
    "start_time": "2023-05-01T14:17:03.572Z"
   },
   {
    "duration": 190,
    "start_time": "2023-05-01T14:17:04.152Z"
   },
   {
    "duration": 45,
    "start_time": "2023-05-01T14:17:04.343Z"
   },
   {
    "duration": 1393,
    "start_time": "2023-05-01T14:17:04.390Z"
   },
   {
    "duration": 10,
    "start_time": "2023-05-01T14:17:05.785Z"
   },
   {
    "duration": 4,
    "start_time": "2023-05-01T14:17:05.796Z"
   },
   {
    "duration": 72,
    "start_time": "2023-05-01T14:17:05.802Z"
   },
   {
    "duration": 175,
    "start_time": "2023-05-01T14:17:05.876Z"
   },
   {
    "duration": 30,
    "start_time": "2023-05-01T14:17:06.054Z"
   },
   {
    "duration": 4,
    "start_time": "2023-05-01T14:17:06.085Z"
   },
   {
    "duration": 15,
    "start_time": "2023-05-01T14:17:06.090Z"
   },
   {
    "duration": 3,
    "start_time": "2023-05-01T14:17:06.107Z"
   },
   {
    "duration": 85,
    "start_time": "2023-05-01T14:17:06.111Z"
   },
   {
    "duration": 3,
    "start_time": "2023-05-01T14:17:06.198Z"
   },
   {
    "duration": 24,
    "start_time": "2023-05-01T14:17:06.202Z"
   },
   {
    "duration": 44,
    "start_time": "2023-05-01T14:17:06.228Z"
   },
   {
    "duration": 23,
    "start_time": "2023-05-01T14:17:06.274Z"
   },
   {
    "duration": 63,
    "start_time": "2023-05-01T14:17:06.298Z"
   },
   {
    "duration": 85,
    "start_time": "2023-05-01T14:17:06.363Z"
   },
   {
    "duration": 23,
    "start_time": "2023-05-01T14:17:06.450Z"
   },
   {
    "duration": 2488,
    "start_time": "2023-05-01T14:17:06.474Z"
   },
   {
    "duration": 3,
    "start_time": "2023-05-01T14:17:08.964Z"
   },
   {
    "duration": 185,
    "start_time": "2023-05-01T14:17:08.969Z"
   },
   {
    "duration": 57,
    "start_time": "2023-05-01T14:17:09.156Z"
   },
   {
    "duration": 41,
    "start_time": "2023-05-01T14:17:09.215Z"
   },
   {
    "duration": 7762,
    "start_time": "2023-05-01T14:17:09.258Z"
   },
   {
    "duration": 8,
    "start_time": "2023-05-01T14:17:36.682Z"
   },
   {
    "duration": 58,
    "start_time": "2023-05-01T14:17:37.808Z"
   },
   {
    "duration": 25,
    "start_time": "2023-05-01T14:17:38.351Z"
   },
   {
    "duration": 111619,
    "start_time": "2023-05-01T14:17:39.149Z"
   }
  ],
  "kernelspec": {
   "display_name": "Python 3 (ipykernel)",
   "language": "python",
   "name": "python3"
  },
  "language_info": {
   "codemirror_mode": {
    "name": "ipython",
    "version": 3
   },
   "file_extension": ".py",
   "mimetype": "text/x-python",
   "name": "python",
   "nbconvert_exporter": "python",
   "pygments_lexer": "ipython3",
   "version": "3.9.5"
  },
  "toc": {
   "base_numbering": 1,
   "nav_menu": {},
   "number_sections": false,
   "sideBar": true,
   "skip_h1_title": false,
   "title_cell": "Table of Contents",
   "title_sidebar": "Contents",
   "toc_cell": false,
   "toc_position": {},
   "toc_section_display": true,
   "toc_window_display": false
  },
  "varInspector": {
   "cols": {
    "lenName": 16,
    "lenType": 16,
    "lenVar": 40
   },
   "kernels_config": {
    "python": {
     "delete_cmd_postfix": "",
     "delete_cmd_prefix": "del ",
     "library": "var_list.py",
     "varRefreshCmd": "print(var_dic_list())"
    },
    "r": {
     "delete_cmd_postfix": ") ",
     "delete_cmd_prefix": "rm(",
     "library": "var_list.r",
     "varRefreshCmd": "cat(var_dic_list()) "
    }
   },
   "types_to_exclude": [
    "module",
    "function",
    "builtin_function_or_method",
    "instance",
    "_Feature"
   ],
   "window_display": false
  }
 },
 "nbformat": 4,
 "nbformat_minor": 5
}
