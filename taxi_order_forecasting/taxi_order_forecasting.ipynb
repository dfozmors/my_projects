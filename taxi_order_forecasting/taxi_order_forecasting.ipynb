{
 "cells": [
  {
   "cell_type": "markdown",
   "metadata": {},
   "source": [
    "#  Прогнозирование заказов такси"
   ]
  },
  {
   "cell_type": "markdown",
   "metadata": {},
   "source": [
    "## Подготовка"
   ]
  },
  {
   "cell_type": "code",
   "execution_count": 1,
   "metadata": {},
   "outputs": [],
   "source": [
    "import pandas as pd\n",
    "import numpy as np\n",
    "import matplotlib.pyplot as plt\n",
    "from sklearn.metrics import mean_squared_error\n",
    "\n",
    "from statsmodels.tsa.seasonal import seasonal_decompose \n",
    "\n",
    "from sklearn.model_selection import train_test_split\n",
    "from sklearn.tree import DecisionTreeRegressor\n",
    "from sklearn.ensemble import RandomForestRegressor\n",
    "from sklearn.linear_model import LinearRegression\n",
    "from sklearn.model_selection import GridSearchCV\n",
    "from sklearn.model_selection import TimeSeriesSplit\n",
    "\n",
    "import catboost\n",
    "from catboost import cv\n",
    "from catboost import CatBoostRegressor\n",
    "\n",
    "import warnings\n",
    "from pandas.core.common import SettingWithCopyWarning\n",
    "warnings.simplefilter(action=\"ignore\")"
   ]
  },
  {
   "cell_type": "code",
   "execution_count": 2,
   "metadata": {},
   "outputs": [],
   "source": [
    "#Создание признаков\n",
    "def making_features(df,count,roll):\n",
    "    df['month'] = df.index.month\n",
    "    df['day'] = df.index.day\n",
    "    df['day_of_week'] = df.index.dayofweek\n",
    "    df['hour'] = df.index.hour\n",
    "\n",
    "    for i in range(1,count+1):\n",
    "        df['lag_{}'.format(i)] = df['num_orders'].shift(i)\n",
    "    \n",
    "    df['rolling_mean'] = df['num_orders'].shift().rolling(roll).mean()\n",
    "    "
   ]
  },
  {
   "cell_type": "code",
   "execution_count": 3,
   "metadata": {},
   "outputs": [],
   "source": [
    "df = pd.read_csv('/datasets/taxi.csv',index_col=[0],parse_dates=[0])"
   ]
  },
  {
   "cell_type": "code",
   "execution_count": 4,
   "metadata": {},
   "outputs": [
    {
     "data": {
      "text/html": [
       "<div>\n",
       "<style scoped>\n",
       "    .dataframe tbody tr th:only-of-type {\n",
       "        vertical-align: middle;\n",
       "    }\n",
       "\n",
       "    .dataframe tbody tr th {\n",
       "        vertical-align: top;\n",
       "    }\n",
       "\n",
       "    .dataframe thead th {\n",
       "        text-align: right;\n",
       "    }\n",
       "</style>\n",
       "<table border=\"1\" class=\"dataframe\">\n",
       "  <thead>\n",
       "    <tr style=\"text-align: right;\">\n",
       "      <th></th>\n",
       "      <th>num_orders</th>\n",
       "    </tr>\n",
       "    <tr>\n",
       "      <th>datetime</th>\n",
       "      <th></th>\n",
       "    </tr>\n",
       "  </thead>\n",
       "  <tbody>\n",
       "    <tr>\n",
       "      <th>2018-03-01 00:00:00</th>\n",
       "      <td>9</td>\n",
       "    </tr>\n",
       "    <tr>\n",
       "      <th>2018-03-01 00:10:00</th>\n",
       "      <td>14</td>\n",
       "    </tr>\n",
       "    <tr>\n",
       "      <th>2018-03-01 00:20:00</th>\n",
       "      <td>28</td>\n",
       "    </tr>\n",
       "    <tr>\n",
       "      <th>2018-03-01 00:30:00</th>\n",
       "      <td>20</td>\n",
       "    </tr>\n",
       "    <tr>\n",
       "      <th>2018-03-01 00:40:00</th>\n",
       "      <td>32</td>\n",
       "    </tr>\n",
       "    <tr>\n",
       "      <th>...</th>\n",
       "      <td>...</td>\n",
       "    </tr>\n",
       "    <tr>\n",
       "      <th>2018-08-31 23:10:00</th>\n",
       "      <td>32</td>\n",
       "    </tr>\n",
       "    <tr>\n",
       "      <th>2018-08-31 23:20:00</th>\n",
       "      <td>24</td>\n",
       "    </tr>\n",
       "    <tr>\n",
       "      <th>2018-08-31 23:30:00</th>\n",
       "      <td>27</td>\n",
       "    </tr>\n",
       "    <tr>\n",
       "      <th>2018-08-31 23:40:00</th>\n",
       "      <td>39</td>\n",
       "    </tr>\n",
       "    <tr>\n",
       "      <th>2018-08-31 23:50:00</th>\n",
       "      <td>53</td>\n",
       "    </tr>\n",
       "  </tbody>\n",
       "</table>\n",
       "<p>26496 rows × 1 columns</p>\n",
       "</div>"
      ],
      "text/plain": [
       "                     num_orders\n",
       "datetime                       \n",
       "2018-03-01 00:00:00           9\n",
       "2018-03-01 00:10:00          14\n",
       "2018-03-01 00:20:00          28\n",
       "2018-03-01 00:30:00          20\n",
       "2018-03-01 00:40:00          32\n",
       "...                         ...\n",
       "2018-08-31 23:10:00          32\n",
       "2018-08-31 23:20:00          24\n",
       "2018-08-31 23:30:00          27\n",
       "2018-08-31 23:40:00          39\n",
       "2018-08-31 23:50:00          53\n",
       "\n",
       "[26496 rows x 1 columns]"
      ]
     },
     "execution_count": 4,
     "metadata": {},
     "output_type": "execute_result"
    }
   ],
   "source": [
    "df"
   ]
  },
  {
   "cell_type": "code",
   "execution_count": 5,
   "metadata": {},
   "outputs": [
    {
     "name": "stdout",
     "output_type": "stream",
     "text": [
      "True\n"
     ]
    }
   ],
   "source": [
    "#Проверка на хронологический порядок\n",
    "print(df.index.is_monotonic)"
   ]
  },
  {
   "cell_type": "markdown",
   "metadata": {},
   "source": [
    "Данные расположены в хронологическом порядке дополнительная работа над этим не требуется"
   ]
  },
  {
   "cell_type": "code",
   "execution_count": 6,
   "metadata": {},
   "outputs": [],
   "source": [
    "df = df.resample('1H').sum()\n",
    "df['num_orders'] = df['num_orders'].astype(int)"
   ]
  },
  {
   "cell_type": "code",
   "execution_count": 7,
   "metadata": {},
   "outputs": [
    {
     "data": {
      "text/html": [
       "<div>\n",
       "<style scoped>\n",
       "    .dataframe tbody tr th:only-of-type {\n",
       "        vertical-align: middle;\n",
       "    }\n",
       "\n",
       "    .dataframe tbody tr th {\n",
       "        vertical-align: top;\n",
       "    }\n",
       "\n",
       "    .dataframe thead th {\n",
       "        text-align: right;\n",
       "    }\n",
       "</style>\n",
       "<table border=\"1\" class=\"dataframe\">\n",
       "  <thead>\n",
       "    <tr style=\"text-align: right;\">\n",
       "      <th></th>\n",
       "      <th>num_orders</th>\n",
       "    </tr>\n",
       "    <tr>\n",
       "      <th>datetime</th>\n",
       "      <th></th>\n",
       "    </tr>\n",
       "  </thead>\n",
       "  <tbody>\n",
       "    <tr>\n",
       "      <th>2018-03-01 00:00:00</th>\n",
       "      <td>124</td>\n",
       "    </tr>\n",
       "    <tr>\n",
       "      <th>2018-03-01 01:00:00</th>\n",
       "      <td>85</td>\n",
       "    </tr>\n",
       "    <tr>\n",
       "      <th>2018-03-01 02:00:00</th>\n",
       "      <td>71</td>\n",
       "    </tr>\n",
       "    <tr>\n",
       "      <th>2018-03-01 03:00:00</th>\n",
       "      <td>66</td>\n",
       "    </tr>\n",
       "    <tr>\n",
       "      <th>2018-03-01 04:00:00</th>\n",
       "      <td>43</td>\n",
       "    </tr>\n",
       "    <tr>\n",
       "      <th>...</th>\n",
       "      <td>...</td>\n",
       "    </tr>\n",
       "    <tr>\n",
       "      <th>2018-08-31 19:00:00</th>\n",
       "      <td>136</td>\n",
       "    </tr>\n",
       "    <tr>\n",
       "      <th>2018-08-31 20:00:00</th>\n",
       "      <td>154</td>\n",
       "    </tr>\n",
       "    <tr>\n",
       "      <th>2018-08-31 21:00:00</th>\n",
       "      <td>159</td>\n",
       "    </tr>\n",
       "    <tr>\n",
       "      <th>2018-08-31 22:00:00</th>\n",
       "      <td>223</td>\n",
       "    </tr>\n",
       "    <tr>\n",
       "      <th>2018-08-31 23:00:00</th>\n",
       "      <td>205</td>\n",
       "    </tr>\n",
       "  </tbody>\n",
       "</table>\n",
       "<p>4416 rows × 1 columns</p>\n",
       "</div>"
      ],
      "text/plain": [
       "                     num_orders\n",
       "datetime                       \n",
       "2018-03-01 00:00:00         124\n",
       "2018-03-01 01:00:00          85\n",
       "2018-03-01 02:00:00          71\n",
       "2018-03-01 03:00:00          66\n",
       "2018-03-01 04:00:00          43\n",
       "...                         ...\n",
       "2018-08-31 19:00:00         136\n",
       "2018-08-31 20:00:00         154\n",
       "2018-08-31 21:00:00         159\n",
       "2018-08-31 22:00:00         223\n",
       "2018-08-31 23:00:00         205\n",
       "\n",
       "[4416 rows x 1 columns]"
      ]
     },
     "execution_count": 7,
     "metadata": {},
     "output_type": "execute_result"
    }
   ],
   "source": [
    "df"
   ]
  },
  {
   "cell_type": "markdown",
   "metadata": {},
   "source": [
    "## Анализ"
   ]
  },
  {
   "cell_type": "code",
   "execution_count": 8,
   "metadata": {},
   "outputs": [
    {
     "data": {
      "text/plain": [
       "<AxesSubplot:xlabel='datetime'>"
      ]
     },
     "execution_count": 8,
     "metadata": {},
     "output_type": "execute_result"
    },
    {
     "data": {
      "image/png": "[encoded data removed]",
      "text/plain": [
       "<Figure size 432x288 with 1 Axes>"
      ]
     },
     "metadata": {
      "needs_background": "light"
     },
     "output_type": "display_data"
    }
   ],
   "source": [
    "#Создание скользящего среднего за 8 часов\n",
    "df['rolling_mean'] = df.rolling(8).mean()\n",
    "df.plot()"
   ]
  },
  {
   "cell_type": "markdown",
   "metadata": {},
   "source": [
    "Исходя из графика мы можем видеть, что к лету среднее количество заказов в час увеличивается"
   ]
  },
  {
   "cell_type": "code",
   "execution_count": 9,
   "metadata": {},
   "outputs": [
    {
     "data": {
      "text/plain": [
       "<AxesSubplot:xlabel='datetime'>"
      ]
     },
     "execution_count": 9,
     "metadata": {},
     "output_type": "execute_result"
    },
    {
     "data": {
      "image/png": "[encoded data removed]",
      "text/plain": [
       "<Figure size 432x288 with 1 Axes>"
      ]
     },
     "metadata": {
      "needs_background": "light"
     },
     "output_type": "display_data"
    }
   ],
   "source": [
    "df['2018-07'].plot()"
   ]
  },
  {
   "cell_type": "markdown",
   "metadata": {},
   "source": [
    "Для анализа месячных данных возьмем июль, как мы можем видеть из графика в течение всего месяца не наблюдается значительных отличий в количестве заказов исходя из дня"
   ]
  },
  {
   "cell_type": "code",
   "execution_count": 10,
   "metadata": {},
   "outputs": [
    {
     "data": {
      "text/plain": [
       "<AxesSubplot:xlabel='datetime'>"
      ]
     },
     "execution_count": 10,
     "metadata": {},
     "output_type": "execute_result"
    },
    {
     "data": {
      "image/png": "[encoded data removed]",
      "text/plain": [
       "<Figure size 432x288 with 1 Axes>"
      ]
     },
     "metadata": {
      "needs_background": "light"
     },
     "output_type": "display_data"
    },
    {
     "data": {
      "image/png": "[encoded data removed]",
      "text/plain": [
       "<Figure size 432x288 with 1 Axes>"
      ]
     },
     "metadata": {
      "needs_background": "light"
     },
     "output_type": "display_data"
    }
   ],
   "source": [
    "df['2018-07-15'].plot()\n",
    "df['2018-05-15'].plot()"
   ]
  },
  {
   "cell_type": "markdown",
   "metadata": {},
   "source": [
    "Для анализа дневного тренда возьмем данные за 15 июля и 15 мая. Как мы можем видеть есть тенденция к тому, что наибольшее количество заказанных такси приходится на 3-6 часов утра, в то время как минимальное количество заказов на 9-13 часов"
   ]
  },
  {
   "cell_type": "code",
   "execution_count": 11,
   "metadata": {},
   "outputs": [
    {
     "data": {
      "image/png": "[encoded data removed]",
      "text/plain": [
       "<Figure size 432x576 with 2 Axes>"
      ]
     },
     "metadata": {
      "needs_background": "light"
     },
     "output_type": "display_data"
    }
   ],
   "source": [
    "df_2 = df.drop('rolling_mean',axis=1)\n",
    "decomposed = seasonal_decompose(df_2)\n",
    "\n",
    "plt.figure(figsize=(6, 8))\n",
    "plt.subplot(311)\n",
    "decomposed.trend.plot(ax=plt.gca())\n",
    "plt.title('Trend')\n",
    "plt.subplot(312)\n",
    "decomposed.resid.plot(ax=plt.gca())\n",
    "plt.title('Residuals')\n",
    "plt.tight_layout()"
   ]
  },
  {
   "cell_type": "markdown",
   "metadata": {},
   "source": [
    "Мы видим что тренд идет к увеличению количества заказов"
   ]
  },
  {
   "cell_type": "code",
   "execution_count": 12,
   "metadata": {},
   "outputs": [
    {
     "data": {
      "text/plain": [
       "Text(0.5, 1.0, 'Seasonality')"
      ]
     },
     "execution_count": 12,
     "metadata": {},
     "output_type": "execute_result"
    },
    {
     "data": {
      "image/png": "[encoded data removed]",
      "text/plain": [
       "<Figure size 432x576 with 2 Axes>"
      ]
     },
     "metadata": {
      "needs_background": "light"
     },
     "output_type": "display_data"
    }
   ],
   "source": [
    "decomposed = seasonal_decompose(df_2['2018-07'])\n",
    "\n",
    "plt.figure(figsize=(6, 8))\n",
    "plt.subplot(311)\n",
    "decomposed.trend.plot(ax=plt.gca())\n",
    "plt.title('Trend')\n",
    "plt.subplot(312)\n",
    "decomposed.seasonal.plot(ax=plt.gca())\n",
    "plt.title('Seasonality')"
   ]
  },
  {
   "cell_type": "code",
   "execution_count": 15,
   "metadata": {},
   "outputs": [
    {
     "data": {
      "text/plain": [
       "Text(0.5, 1.0, 'Seasonality')"
      ]
     },
     "execution_count": 15,
     "metadata": {},
     "output_type": "execute_result"
    },
    {
     "data": {
      "image/png": "[encoded data removed]",
      "text/plain": [
       "<Figure size 432x576 with 2 Axes>"
      ]
     },
     "metadata": {
      "needs_background": "light"
     },
     "output_type": "display_data"
    }
   ],
   "source": [
    "decomposed = seasonal_decompose(df_2['2018-07-09':'2018-07-12'])\n",
    "#decomposed = seasonal_decompose(df_2)['2018-07-09':'2018-07-12']\n",
    "\n",
    "plt.figure(figsize=(6, 8))\n",
    "plt.subplot(311)\n",
    "decomposed.trend.plot(ax=plt.gca())\n",
    "plt.title('Trend')\n",
    "plt.subplot(312)\n",
    "decomposed.seasonal.plot(ax=plt.gca())\n",
    "plt.title('Seasonality')"
   ]
  },
  {
   "cell_type": "markdown",
   "metadata": {},
   "source": [
    "Исходя из графиков мы также видим сезонность, что поздно ночью - рано утром наибольшее количество заказов такси, после чего количество заказов минимально"
   ]
  },
  {
   "cell_type": "code",
   "execution_count": 16,
   "metadata": {},
   "outputs": [
    {
     "data": {
      "text/html": [
       "<div>\n",
       "<style scoped>\n",
       "    .dataframe tbody tr th:only-of-type {\n",
       "        vertical-align: middle;\n",
       "    }\n",
       "\n",
       "    .dataframe tbody tr th {\n",
       "        vertical-align: top;\n",
       "    }\n",
       "\n",
       "    .dataframe thead th {\n",
       "        text-align: right;\n",
       "    }\n",
       "</style>\n",
       "<table border=\"1\" class=\"dataframe\">\n",
       "  <thead>\n",
       "    <tr style=\"text-align: right;\">\n",
       "      <th></th>\n",
       "      <th>num_orders</th>\n",
       "      <th>rolling_mean</th>\n",
       "    </tr>\n",
       "    <tr>\n",
       "      <th>datetime</th>\n",
       "      <th></th>\n",
       "      <th></th>\n",
       "    </tr>\n",
       "  </thead>\n",
       "  <tbody>\n",
       "    <tr>\n",
       "      <th>2018-03-01 00:00:00</th>\n",
       "      <td>124</td>\n",
       "      <td>NaN</td>\n",
       "    </tr>\n",
       "    <tr>\n",
       "      <th>2018-03-01 01:00:00</th>\n",
       "      <td>85</td>\n",
       "      <td>NaN</td>\n",
       "    </tr>\n",
       "    <tr>\n",
       "      <th>2018-03-01 02:00:00</th>\n",
       "      <td>71</td>\n",
       "      <td>NaN</td>\n",
       "    </tr>\n",
       "    <tr>\n",
       "      <th>2018-03-01 03:00:00</th>\n",
       "      <td>66</td>\n",
       "      <td>NaN</td>\n",
       "    </tr>\n",
       "    <tr>\n",
       "      <th>2018-03-01 04:00:00</th>\n",
       "      <td>43</td>\n",
       "      <td>NaN</td>\n",
       "    </tr>\n",
       "    <tr>\n",
       "      <th>...</th>\n",
       "      <td>...</td>\n",
       "      <td>...</td>\n",
       "    </tr>\n",
       "    <tr>\n",
       "      <th>2018-08-31 19:00:00</th>\n",
       "      <td>136</td>\n",
       "      <td>163.500</td>\n",
       "    </tr>\n",
       "    <tr>\n",
       "      <th>2018-08-31 20:00:00</th>\n",
       "      <td>154</td>\n",
       "      <td>165.750</td>\n",
       "    </tr>\n",
       "    <tr>\n",
       "      <th>2018-08-31 21:00:00</th>\n",
       "      <td>159</td>\n",
       "      <td>164.875</td>\n",
       "    </tr>\n",
       "    <tr>\n",
       "      <th>2018-08-31 22:00:00</th>\n",
       "      <td>223</td>\n",
       "      <td>176.125</td>\n",
       "    </tr>\n",
       "    <tr>\n",
       "      <th>2018-08-31 23:00:00</th>\n",
       "      <td>205</td>\n",
       "      <td>187.250</td>\n",
       "    </tr>\n",
       "  </tbody>\n",
       "</table>\n",
       "<p>4416 rows × 2 columns</p>\n",
       "</div>"
      ],
      "text/plain": [
       "                     num_orders  rolling_mean\n",
       "datetime                                     \n",
       "2018-03-01 00:00:00         124           NaN\n",
       "2018-03-01 01:00:00          85           NaN\n",
       "2018-03-01 02:00:00          71           NaN\n",
       "2018-03-01 03:00:00          66           NaN\n",
       "2018-03-01 04:00:00          43           NaN\n",
       "...                         ...           ...\n",
       "2018-08-31 19:00:00         136       163.500\n",
       "2018-08-31 20:00:00         154       165.750\n",
       "2018-08-31 21:00:00         159       164.875\n",
       "2018-08-31 22:00:00         223       176.125\n",
       "2018-08-31 23:00:00         205       187.250\n",
       "\n",
       "[4416 rows x 2 columns]"
      ]
     },
     "execution_count": 16,
     "metadata": {},
     "output_type": "execute_result"
    }
   ],
   "source": [
    "df"
   ]
  },
  {
   "cell_type": "code",
   "execution_count": 17,
   "metadata": {},
   "outputs": [
    {
     "data": {
      "text/plain": [
       "<AxesSubplot:xlabel='datetime'>"
      ]
     },
     "execution_count": 17,
     "metadata": {},
     "output_type": "execute_result"
    },
    {
     "data": {
      "image/png": "[encoded data removed]",
      "text/plain": [
       "<Figure size 432x288 with 1 Axes>"
      ]
     },
     "metadata": {
      "needs_background": "light"
     },
     "output_type": "display_data"
    }
   ],
   "source": [
    "df_2 = df.copy()\n",
    "df_2['diff'] = df_2['num_orders'] - df_2['num_orders'].shift()\n",
    "df_2['diff_mean'] = df_2['diff'].rolling(8).mean()\n",
    "df_2['diff_std'] = df_2['diff'].rolling(8).std()\n",
    "df_2 = df_2.drop(['rolling_mean','num_orders'],axis=1)\n",
    "df_2.plot()"
   ]
  },
  {
   "cell_type": "markdown",
   "metadata": {},
   "source": [
    "Исходя из разности временного ряда можем видеть, что в среднем количество поездок не сильно изменяется за 1 час"
   ]
  },
  {
   "cell_type": "markdown",
   "metadata": {},
   "source": [
    "## Обучение"
   ]
  },
  {
   "cell_type": "code",
   "execution_count": 18,
   "metadata": {},
   "outputs": [],
   "source": [
    "df = df.drop(['rolling_mean'],axis=1)"
   ]
  },
  {
   "cell_type": "code",
   "execution_count": 19,
   "metadata": {},
   "outputs": [],
   "source": [
    "making_features(df,6,8)"
   ]
  },
  {
   "cell_type": "code",
   "execution_count": 20,
   "metadata": {},
   "outputs": [
    {
     "data": {
      "text/html": [
       "<div>\n",
       "<style scoped>\n",
       "    .dataframe tbody tr th:only-of-type {\n",
       "        vertical-align: middle;\n",
       "    }\n",
       "\n",
       "    .dataframe tbody tr th {\n",
       "        vertical-align: top;\n",
       "    }\n",
       "\n",
       "    .dataframe thead th {\n",
       "        text-align: right;\n",
       "    }\n",
       "</style>\n",
       "<table border=\"1\" class=\"dataframe\">\n",
       "  <thead>\n",
       "    <tr style=\"text-align: right;\">\n",
       "      <th></th>\n",
       "      <th>num_orders</th>\n",
       "      <th>month</th>\n",
       "      <th>day</th>\n",
       "      <th>day_of_week</th>\n",
       "      <th>hour</th>\n",
       "      <th>lag_1</th>\n",
       "      <th>lag_2</th>\n",
       "      <th>lag_3</th>\n",
       "      <th>lag_4</th>\n",
       "      <th>lag_5</th>\n",
       "      <th>lag_6</th>\n",
       "      <th>rolling_mean</th>\n",
       "    </tr>\n",
       "    <tr>\n",
       "      <th>datetime</th>\n",
       "      <th></th>\n",
       "      <th></th>\n",
       "      <th></th>\n",
       "      <th></th>\n",
       "      <th></th>\n",
       "      <th></th>\n",
       "      <th></th>\n",
       "      <th></th>\n",
       "      <th></th>\n",
       "      <th></th>\n",
       "      <th></th>\n",
       "      <th></th>\n",
       "    </tr>\n",
       "  </thead>\n",
       "  <tbody>\n",
       "    <tr>\n",
       "      <th>2018-03-01 00:00:00</th>\n",
       "      <td>124</td>\n",
       "      <td>3</td>\n",
       "      <td>1</td>\n",
       "      <td>3</td>\n",
       "      <td>0</td>\n",
       "      <td>NaN</td>\n",
       "      <td>NaN</td>\n",
       "      <td>NaN</td>\n",
       "      <td>NaN</td>\n",
       "      <td>NaN</td>\n",
       "      <td>NaN</td>\n",
       "      <td>NaN</td>\n",
       "    </tr>\n",
       "    <tr>\n",
       "      <th>2018-03-01 01:00:00</th>\n",
       "      <td>85</td>\n",
       "      <td>3</td>\n",
       "      <td>1</td>\n",
       "      <td>3</td>\n",
       "      <td>1</td>\n",
       "      <td>124.0</td>\n",
       "      <td>NaN</td>\n",
       "      <td>NaN</td>\n",
       "      <td>NaN</td>\n",
       "      <td>NaN</td>\n",
       "      <td>NaN</td>\n",
       "      <td>NaN</td>\n",
       "    </tr>\n",
       "    <tr>\n",
       "      <th>2018-03-01 02:00:00</th>\n",
       "      <td>71</td>\n",
       "      <td>3</td>\n",
       "      <td>1</td>\n",
       "      <td>3</td>\n",
       "      <td>2</td>\n",
       "      <td>85.0</td>\n",
       "      <td>124.0</td>\n",
       "      <td>NaN</td>\n",
       "      <td>NaN</td>\n",
       "      <td>NaN</td>\n",
       "      <td>NaN</td>\n",
       "      <td>NaN</td>\n",
       "    </tr>\n",
       "    <tr>\n",
       "      <th>2018-03-01 03:00:00</th>\n",
       "      <td>66</td>\n",
       "      <td>3</td>\n",
       "      <td>1</td>\n",
       "      <td>3</td>\n",
       "      <td>3</td>\n",
       "      <td>71.0</td>\n",
       "      <td>85.0</td>\n",
       "      <td>124.0</td>\n",
       "      <td>NaN</td>\n",
       "      <td>NaN</td>\n",
       "      <td>NaN</td>\n",
       "      <td>NaN</td>\n",
       "    </tr>\n",
       "    <tr>\n",
       "      <th>2018-03-01 04:00:00</th>\n",
       "      <td>43</td>\n",
       "      <td>3</td>\n",
       "      <td>1</td>\n",
       "      <td>3</td>\n",
       "      <td>4</td>\n",
       "      <td>66.0</td>\n",
       "      <td>71.0</td>\n",
       "      <td>85.0</td>\n",
       "      <td>124.0</td>\n",
       "      <td>NaN</td>\n",
       "      <td>NaN</td>\n",
       "      <td>NaN</td>\n",
       "    </tr>\n",
       "    <tr>\n",
       "      <th>...</th>\n",
       "      <td>...</td>\n",
       "      <td>...</td>\n",
       "      <td>...</td>\n",
       "      <td>...</td>\n",
       "      <td>...</td>\n",
       "      <td>...</td>\n",
       "      <td>...</td>\n",
       "      <td>...</td>\n",
       "      <td>...</td>\n",
       "      <td>...</td>\n",
       "      <td>...</td>\n",
       "      <td>...</td>\n",
       "    </tr>\n",
       "    <tr>\n",
       "      <th>2018-08-31 19:00:00</th>\n",
       "      <td>136</td>\n",
       "      <td>8</td>\n",
       "      <td>31</td>\n",
       "      <td>4</td>\n",
       "      <td>19</td>\n",
       "      <td>207.0</td>\n",
       "      <td>217.0</td>\n",
       "      <td>197.0</td>\n",
       "      <td>116.0</td>\n",
       "      <td>133.0</td>\n",
       "      <td>166.0</td>\n",
       "      <td>167.375</td>\n",
       "    </tr>\n",
       "    <tr>\n",
       "      <th>2018-08-31 20:00:00</th>\n",
       "      <td>154</td>\n",
       "      <td>8</td>\n",
       "      <td>31</td>\n",
       "      <td>4</td>\n",
       "      <td>20</td>\n",
       "      <td>136.0</td>\n",
       "      <td>207.0</td>\n",
       "      <td>217.0</td>\n",
       "      <td>197.0</td>\n",
       "      <td>116.0</td>\n",
       "      <td>133.0</td>\n",
       "      <td>163.500</td>\n",
       "    </tr>\n",
       "    <tr>\n",
       "      <th>2018-08-31 21:00:00</th>\n",
       "      <td>159</td>\n",
       "      <td>8</td>\n",
       "      <td>31</td>\n",
       "      <td>4</td>\n",
       "      <td>21</td>\n",
       "      <td>154.0</td>\n",
       "      <td>136.0</td>\n",
       "      <td>207.0</td>\n",
       "      <td>217.0</td>\n",
       "      <td>197.0</td>\n",
       "      <td>116.0</td>\n",
       "      <td>165.750</td>\n",
       "    </tr>\n",
       "    <tr>\n",
       "      <th>2018-08-31 22:00:00</th>\n",
       "      <td>223</td>\n",
       "      <td>8</td>\n",
       "      <td>31</td>\n",
       "      <td>4</td>\n",
       "      <td>22</td>\n",
       "      <td>159.0</td>\n",
       "      <td>154.0</td>\n",
       "      <td>136.0</td>\n",
       "      <td>207.0</td>\n",
       "      <td>217.0</td>\n",
       "      <td>197.0</td>\n",
       "      <td>164.875</td>\n",
       "    </tr>\n",
       "    <tr>\n",
       "      <th>2018-08-31 23:00:00</th>\n",
       "      <td>205</td>\n",
       "      <td>8</td>\n",
       "      <td>31</td>\n",
       "      <td>4</td>\n",
       "      <td>23</td>\n",
       "      <td>223.0</td>\n",
       "      <td>159.0</td>\n",
       "      <td>154.0</td>\n",
       "      <td>136.0</td>\n",
       "      <td>207.0</td>\n",
       "      <td>217.0</td>\n",
       "      <td>176.125</td>\n",
       "    </tr>\n",
       "  </tbody>\n",
       "</table>\n",
       "<p>4416 rows × 12 columns</p>\n",
       "</div>"
      ],
      "text/plain": [
       "                     num_orders  month  day  day_of_week  hour  lag_1  lag_2  \\\n",
       "datetime                                                                       \n",
       "2018-03-01 00:00:00         124      3    1            3     0    NaN    NaN   \n",
       "2018-03-01 01:00:00          85      3    1            3     1  124.0    NaN   \n",
       "2018-03-01 02:00:00          71      3    1            3     2   85.0  124.0   \n",
       "2018-03-01 03:00:00          66      3    1            3     3   71.0   85.0   \n",
       "2018-03-01 04:00:00          43      3    1            3     4   66.0   71.0   \n",
       "...                         ...    ...  ...          ...   ...    ...    ...   \n",
       "2018-08-31 19:00:00         136      8   31            4    19  207.0  217.0   \n",
       "2018-08-31 20:00:00         154      8   31            4    20  136.0  207.0   \n",
       "2018-08-31 21:00:00         159      8   31            4    21  154.0  136.0   \n",
       "2018-08-31 22:00:00         223      8   31            4    22  159.0  154.0   \n",
       "2018-08-31 23:00:00         205      8   31            4    23  223.0  159.0   \n",
       "\n",
       "                     lag_3  lag_4  lag_5  lag_6  rolling_mean  \n",
       "datetime                                                       \n",
       "2018-03-01 00:00:00    NaN    NaN    NaN    NaN           NaN  \n",
       "2018-03-01 01:00:00    NaN    NaN    NaN    NaN           NaN  \n",
       "2018-03-01 02:00:00    NaN    NaN    NaN    NaN           NaN  \n",
       "2018-03-01 03:00:00  124.0    NaN    NaN    NaN           NaN  \n",
       "2018-03-01 04:00:00   85.0  124.0    NaN    NaN           NaN  \n",
       "...                    ...    ...    ...    ...           ...  \n",
       "2018-08-31 19:00:00  197.0  116.0  133.0  166.0       167.375  \n",
       "2018-08-31 20:00:00  217.0  197.0  116.0  133.0       163.500  \n",
       "2018-08-31 21:00:00  207.0  217.0  197.0  116.0       165.750  \n",
       "2018-08-31 22:00:00  136.0  207.0  217.0  197.0       164.875  \n",
       "2018-08-31 23:00:00  154.0  136.0  207.0  217.0       176.125  \n",
       "\n",
       "[4416 rows x 12 columns]"
      ]
     },
     "execution_count": 20,
     "metadata": {},
     "output_type": "execute_result"
    }
   ],
   "source": [
    "df"
   ]
  },
  {
   "cell_type": "code",
   "execution_count": 21,
   "metadata": {},
   "outputs": [],
   "source": [
    "df = df.dropna()\n",
    "train, test = train_test_split(df, shuffle=False, test_size=0.1)\n",
    "\n",
    "train_features = train.drop('num_orders',axis=1)\n",
    "train_target = train['num_orders']\n",
    "test_features = test.drop('num_orders',axis=1)\n",
    "test_target = test['num_orders']\n",
    "\n"
   ]
  },
  {
   "cell_type": "markdown",
   "metadata": {},
   "source": [
    "Для прогнозирования временного ряда будем использовать 3 модели (линейную регрессию, модель решающего дерева, леса)"
   ]
  },
  {
   "cell_type": "code",
   "execution_count": 22,
   "metadata": {},
   "outputs": [
    {
     "name": "stdout",
     "output_type": "stream",
     "text": [
      "Fitting 5 folds for each of 1 candidates, totalling 5 fits\n",
      "Лучшая модель линейной регрессии показала результат: -31.51456521840297\n"
     ]
    }
   ],
   "source": [
    "model_lin = LinearRegression()\n",
    "lin_params = {}\n",
    "time_split = TimeSeriesSplit()\n",
    "lin_grid = GridSearchCV(model_lin,lin_params, cv=time_split.split(train_features),n_jobs=-1,verbose=True,scoring='neg_root_mean_squared_error')\n",
    "lin_grid.fit(train_features,train_target)\n",
    "print('Лучшая модель линейной регрессии показала результат:',lin_grid.best_score_)"
   ]
  },
  {
   "cell_type": "code",
   "execution_count": 23,
   "metadata": {
    "scrolled": true
   },
   "outputs": [
    {
     "name": "stdout",
     "output_type": "stream",
     "text": [
      "Fitting 5 folds for each of 29 candidates, totalling 145 fits\n",
      "Лучшая модель дерева показала результат: -28.900212660739534  при глубине дерева = {'max_depth': 8}\n"
     ]
    }
   ],
   "source": [
    "tree_model = DecisionTreeRegressor(random_state=12345)\n",
    "tree_params = {'max_depth': range(1,30)}\n",
    "time_split = TimeSeriesSplit()\n",
    "tree_grid = GridSearchCV(tree_model, tree_params, cv=time_split.split(train_features),n_jobs=-1,verbose=True,scoring='neg_root_mean_squared_error')\n",
    "tree_grid.fit(train_features,train_target)\n",
    "print('Лучшая модель дерева показала результат:',tree_grid.best_score_,' при глубине дерева =', tree_grid.best_params_)"
   ]
  },
  {
   "cell_type": "code",
   "execution_count": 25,
   "metadata": {},
   "outputs": [
    {
     "name": "stdout",
     "output_type": "stream",
     "text": [
      "Fitting 5 folds for each of 33 candidates, totalling 165 fits\n",
      "Лучшая модель леса показала результат: -25.208204771810244  при глубине дерева и количестве деревьев = {'max_depth': 18, 'n_estimators': 110}\n"
     ]
    }
   ],
   "source": [
    "forest_model = RandomForestRegressor(random_state=12345)\n",
    "forest_params = {'max_depth': range(9,20,1), 'n_estimators': range(90,120,10)}\n",
    "time_split = TimeSeriesSplit()\n",
    "forest_grid = GridSearchCV(forest_model, forest_params, cv=time_split.split(train_features),n_jobs=-1,verbose=True,scoring='neg_root_mean_squared_error')\n",
    "forest_grid.fit(train_features,train_target)\n",
    "print('Лучшая модель леса показала результат:',forest_grid.best_score_,' при глубине дерева и количестве деревьев =',\n",
    "      forest_grid.best_params_)"
   ]
  },
  {
   "cell_type": "markdown",
   "metadata": {},
   "source": [
    "После обучения и проверки всех моделей лучшей моделью оказалась модель случайного леса с глубиной 18 и количеством деревьев - 110"
   ]
  },
  {
   "cell_type": "markdown",
   "metadata": {},
   "source": [
    "## Тестирование"
   ]
  },
  {
   "cell_type": "code",
   "execution_count": 26,
   "metadata": {},
   "outputs": [
    {
     "name": "stdout",
     "output_type": "stream",
     "text": [
      "44.96932313847577\n"
     ]
    }
   ],
   "source": [
    "predictions = forest_grid.predict(test_features)\n",
    "print(mean_squared_error(test_target,predictions,squared=False))"
   ]
  },
  {
   "cell_type": "code",
   "execution_count": 36,
   "metadata": {},
   "outputs": [
    {
     "data": {
      "text/plain": [
       "<AxesSubplot:xlabel='datetime'>"
      ]
     },
     "execution_count": 36,
     "metadata": {},
     "output_type": "execute_result"
    },
    {
     "data": {
      "image/png": "[encoded data removed]",
      "text/plain": [
       "<Figure size 432x288 with 1 Axes>"
      ]
     },
     "metadata": {
      "needs_background": "light"
     },
     "output_type": "display_data"
    }
   ],
   "source": [
    "test_target = pd.DataFrame(test_target)\n",
    "test_target['predictions'] = predictions\n",
    "test_target.plot()"
   ]
  },
  {
   "cell_type": "markdown",
   "metadata": {},
   "source": [
    "Итоговый результат самой лучшей модели на тестовой выборке показал RMSE-score равный 45 и исходя из графика мы видим, что линия предсказания довольно близка к реальному результату и значимо отличается только в те моменты когда реальные результаты слишком высоки"
   ]
  }
 ],
 "metadata": {
  "ExecuteTimeLog": [
   {
    "duration": 937,
    "start_time": "2023-03-04T12:11:32.701Z"
   },
   {
    "duration": 217,
    "start_time": "2023-03-04T12:12:02.006Z"
   },
   {
    "duration": 13,
    "start_time": "2023-03-04T12:12:05.335Z"
   },
   {
    "duration": 80,
    "start_time": "2023-03-04T12:13:09.349Z"
   },
   {
    "duration": 51,
    "start_time": "2023-03-04T12:13:16.864Z"
   },
   {
    "duration": 9,
    "start_time": "2023-03-04T12:13:18.036Z"
   },
   {
    "duration": 9,
    "start_time": "2023-03-04T12:14:21.108Z"
   },
   {
    "duration": 4,
    "start_time": "2023-03-04T12:14:32.692Z"
   },
   {
    "duration": 15,
    "start_time": "2023-03-04T12:18:00.219Z"
   },
   {
    "duration": 70,
    "start_time": "2023-03-04T12:18:05.839Z"
   },
   {
    "duration": 15,
    "start_time": "2023-03-04T12:18:08.588Z"
   },
   {
    "duration": 10,
    "start_time": "2023-03-04T12:18:31.383Z"
   },
   {
    "duration": 16,
    "start_time": "2023-03-04T12:18:31.981Z"
   },
   {
    "duration": 9,
    "start_time": "2023-03-04T12:19:08.901Z"
   },
   {
    "duration": 11,
    "start_time": "2023-03-04T12:19:09.389Z"
   },
   {
    "duration": 7,
    "start_time": "2023-03-04T12:23:43.682Z"
   },
   {
    "duration": 6,
    "start_time": "2023-03-04T12:24:25.185Z"
   },
   {
    "duration": 322,
    "start_time": "2023-03-04T12:24:33.478Z"
   },
   {
    "duration": 17,
    "start_time": "2023-03-04T12:26:44.117Z"
   },
   {
    "duration": 292,
    "start_time": "2023-03-04T12:26:52.969Z"
   },
   {
    "duration": 377,
    "start_time": "2023-03-04T12:27:24.105Z"
   },
   {
    "duration": 236,
    "start_time": "2023-03-04T12:29:04.263Z"
   },
   {
    "duration": 387,
    "start_time": "2023-03-04T12:30:00.477Z"
   },
   {
    "duration": 22,
    "start_time": "2023-03-04T12:32:01.418Z"
   },
   {
    "duration": 551,
    "start_time": "2023-03-04T12:32:06.210Z"
   },
   {
    "duration": 48,
    "start_time": "2023-03-04T12:32:10.637Z"
   },
   {
    "duration": 409,
    "start_time": "2023-03-04T12:32:49.386Z"
   },
   {
    "duration": 15,
    "start_time": "2023-03-04T12:33:01.037Z"
   },
   {
    "duration": 1310,
    "start_time": "2023-03-04T12:33:06.904Z"
   },
   {
    "duration": 72,
    "start_time": "2023-03-04T12:33:08.217Z"
   },
   {
    "duration": 18,
    "start_time": "2023-03-04T12:33:08.295Z"
   },
   {
    "duration": 40,
    "start_time": "2023-03-04T12:33:08.317Z"
   },
   {
    "duration": 26,
    "start_time": "2023-03-04T12:33:08.359Z"
   },
   {
    "duration": 28,
    "start_time": "2023-03-04T12:33:08.388Z"
   },
   {
    "duration": 382,
    "start_time": "2023-03-04T12:33:08.418Z"
   },
   {
    "duration": 362,
    "start_time": "2023-03-04T12:33:08.802Z"
   },
   {
    "duration": 412,
    "start_time": "2023-03-04T12:33:09.165Z"
   },
   {
    "duration": 162,
    "start_time": "2023-03-04T12:33:09.580Z"
   },
   {
    "duration": 4,
    "start_time": "2023-03-04T12:33:20.837Z"
   },
   {
    "duration": 295,
    "start_time": "2023-03-04T12:33:23.460Z"
   },
   {
    "duration": 414,
    "start_time": "2023-03-04T12:33:25.772Z"
   },
   {
    "duration": 21,
    "start_time": "2023-03-04T12:34:00.518Z"
   },
   {
    "duration": 57,
    "start_time": "2023-03-04T12:34:10.415Z"
   },
   {
    "duration": 1076,
    "start_time": "2023-03-04T12:34:11.007Z"
   },
   {
    "duration": 9,
    "start_time": "2023-03-04T12:34:18.782Z"
   },
   {
    "duration": 11,
    "start_time": "2023-03-04T12:34:19.381Z"
   },
   {
    "duration": 387,
    "start_time": "2023-03-04T12:34:23.262Z"
   },
   {
    "duration": 19,
    "start_time": "2023-03-04T12:34:26.439Z"
   },
   {
    "duration": 14,
    "start_time": "2023-03-04T12:34:51.799Z"
   },
   {
    "duration": 30,
    "start_time": "2023-03-04T12:34:54.029Z"
   },
   {
    "duration": 5,
    "start_time": "2023-03-04T12:35:03.636Z"
   },
   {
    "duration": 68,
    "start_time": "2023-03-04T12:35:10.681Z"
   },
   {
    "duration": 11,
    "start_time": "2023-03-04T12:35:10.871Z"
   },
   {
    "duration": 11,
    "start_time": "2023-03-04T12:35:14.001Z"
   },
   {
    "duration": 14,
    "start_time": "2023-03-04T12:35:14.698Z"
   },
   {
    "duration": 3,
    "start_time": "2023-03-04T12:35:16.951Z"
   },
   {
    "duration": 18,
    "start_time": "2023-03-04T12:35:19.320Z"
   },
   {
    "duration": 394,
    "start_time": "2023-03-04T12:35:23.344Z"
   },
   {
    "duration": 18,
    "start_time": "2023-03-04T12:35:26.762Z"
   },
   {
    "duration": 333,
    "start_time": "2023-03-04T12:35:32.776Z"
   },
   {
    "duration": 17,
    "start_time": "2023-03-04T12:35:34.801Z"
   },
   {
    "duration": 49,
    "start_time": "2023-03-04T12:35:37.152Z"
   },
   {
    "duration": 10,
    "start_time": "2023-03-04T12:35:37.298Z"
   },
   {
    "duration": 5,
    "start_time": "2023-03-04T12:35:37.460Z"
   },
   {
    "duration": 19,
    "start_time": "2023-03-04T12:35:40.648Z"
   },
   {
    "duration": 476,
    "start_time": "2023-03-04T12:35:42.619Z"
   },
   {
    "duration": 18,
    "start_time": "2023-03-04T12:35:45.313Z"
   },
   {
    "duration": 3,
    "start_time": "2023-03-04T12:35:47.774Z"
   },
   {
    "duration": 1037,
    "start_time": "2023-03-04T12:35:50.698Z"
   },
   {
    "duration": 15,
    "start_time": "2023-03-04T12:35:53.773Z"
   },
   {
    "duration": 4,
    "start_time": "2023-03-04T12:35:56.681Z"
   },
   {
    "duration": 62,
    "start_time": "2023-03-04T12:35:56.873Z"
   },
   {
    "duration": 14,
    "start_time": "2023-03-04T12:35:57.049Z"
   },
   {
    "duration": 4,
    "start_time": "2023-03-04T12:35:58.961Z"
   },
   {
    "duration": 12,
    "start_time": "2023-03-04T12:35:59.489Z"
   },
   {
    "duration": 13,
    "start_time": "2023-03-04T12:35:59.803Z"
   },
   {
    "duration": 4,
    "start_time": "2023-03-04T12:36:02.610Z"
   },
   {
    "duration": 342,
    "start_time": "2023-03-04T12:36:03.534Z"
   },
   {
    "duration": 18,
    "start_time": "2023-03-04T12:36:05.325Z"
   },
   {
    "duration": 3,
    "start_time": "2023-03-04T12:36:15.371Z"
   },
   {
    "duration": 13,
    "start_time": "2023-03-04T12:36:17.009Z"
   },
   {
    "duration": 1487,
    "start_time": "2023-03-04T12:36:25.012Z"
   },
   {
    "duration": 60,
    "start_time": "2023-03-04T12:36:26.502Z"
   },
   {
    "duration": 15,
    "start_time": "2023-03-04T12:36:26.564Z"
   },
   {
    "duration": 4,
    "start_time": "2023-03-04T12:36:26.581Z"
   },
   {
    "duration": 10,
    "start_time": "2023-03-04T12:36:30.204Z"
   },
   {
    "duration": 14,
    "start_time": "2023-03-04T12:36:31.915Z"
   },
   {
    "duration": 3,
    "start_time": "2023-03-04T12:36:39.668Z"
   },
   {
    "duration": 2,
    "start_time": "2023-03-04T12:36:45.356Z"
   },
   {
    "duration": 12,
    "start_time": "2023-03-04T12:36:51.957Z"
   },
   {
    "duration": 8,
    "start_time": "2023-03-04T12:36:59.740Z"
   },
   {
    "duration": 304,
    "start_time": "2023-03-04T12:37:13.069Z"
   },
   {
    "duration": 14,
    "start_time": "2023-03-04T12:37:16.468Z"
   },
   {
    "duration": 9,
    "start_time": "2023-03-04T12:37:51.080Z"
   },
   {
    "duration": 125,
    "start_time": "2023-03-04T12:39:29.082Z"
   },
   {
    "duration": 10,
    "start_time": "2023-03-04T12:39:32.454Z"
   },
   {
    "duration": 782,
    "start_time": "2023-03-04T12:40:37.838Z"
   },
   {
    "duration": 679,
    "start_time": "2023-03-04T12:41:25.668Z"
   },
   {
    "duration": 443,
    "start_time": "2023-03-04T12:42:54.242Z"
   },
   {
    "duration": 544,
    "start_time": "2023-03-04T12:43:33.642Z"
   },
   {
    "duration": 404,
    "start_time": "2023-03-04T12:43:40.683Z"
   },
   {
    "duration": 665,
    "start_time": "2023-03-04T12:44:18.981Z"
   },
   {
    "duration": 88,
    "start_time": "2023-03-04T12:44:25.789Z"
   },
   {
    "duration": 601,
    "start_time": "2023-03-04T12:44:28.038Z"
   },
   {
    "duration": 239,
    "start_time": "2023-03-04T12:44:58.014Z"
   },
   {
    "duration": 251,
    "start_time": "2023-03-04T12:45:19.479Z"
   },
   {
    "duration": 239,
    "start_time": "2023-03-04T12:45:28.102Z"
   },
   {
    "duration": 16,
    "start_time": "2023-03-04T12:45:50.249Z"
   },
   {
    "duration": 256,
    "start_time": "2023-03-04T12:45:56.537Z"
   },
   {
    "duration": 12,
    "start_time": "2023-03-04T12:50:29.162Z"
   },
   {
    "duration": 5,
    "start_time": "2023-03-04T12:50:46.876Z"
   },
   {
    "duration": 12,
    "start_time": "2023-03-04T12:52:27.054Z"
   },
   {
    "duration": 649,
    "start_time": "2023-03-04T12:52:37.055Z"
   },
   {
    "duration": 27,
    "start_time": "2023-03-04T12:52:47.739Z"
   },
   {
    "duration": 21,
    "start_time": "2023-03-04T12:53:58.261Z"
   },
   {
    "duration": 20,
    "start_time": "2023-03-04T12:54:05.545Z"
   },
   {
    "duration": 550,
    "start_time": "2023-03-04T12:54:10.343Z"
   },
   {
    "duration": 435,
    "start_time": "2023-03-04T12:54:42.623Z"
   },
   {
    "duration": 423,
    "start_time": "2023-03-04T12:54:48.564Z"
   },
   {
    "duration": 431,
    "start_time": "2023-03-04T12:54:54.346Z"
   },
   {
    "duration": 478,
    "start_time": "2023-03-04T12:54:56.692Z"
   },
   {
    "duration": 387,
    "start_time": "2023-03-04T12:55:02.380Z"
   },
   {
    "duration": 373,
    "start_time": "2023-03-04T12:56:16.870Z"
   },
   {
    "duration": 343,
    "start_time": "2023-03-04T12:56:23.855Z"
   },
   {
    "duration": 552,
    "start_time": "2023-03-04T12:56:29.095Z"
   },
   {
    "duration": 17,
    "start_time": "2023-03-04T12:57:18.800Z"
   },
   {
    "duration": 32,
    "start_time": "2023-03-04T13:00:54.418Z"
   },
   {
    "duration": 1303,
    "start_time": "2023-03-04T13:01:12.636Z"
   },
   {
    "duration": 55,
    "start_time": "2023-03-04T13:01:13.941Z"
   },
   {
    "duration": 17,
    "start_time": "2023-03-04T13:01:13.998Z"
   },
   {
    "duration": 7,
    "start_time": "2023-03-04T13:01:14.017Z"
   },
   {
    "duration": 27,
    "start_time": "2023-03-04T13:01:14.027Z"
   },
   {
    "duration": 11,
    "start_time": "2023-03-04T13:01:14.056Z"
   },
   {
    "duration": 411,
    "start_time": "2023-03-04T13:01:14.069Z"
   },
   {
    "duration": 383,
    "start_time": "2023-03-04T13:01:14.482Z"
   },
   {
    "duration": 436,
    "start_time": "2023-03-04T13:01:14.867Z"
   },
   {
    "duration": 551,
    "start_time": "2023-03-04T13:01:15.306Z"
   },
   {
    "duration": 471,
    "start_time": "2023-03-04T13:01:15.859Z"
   },
   {
    "duration": 266,
    "start_time": "2023-03-04T13:01:16.332Z"
   },
   {
    "duration": 23,
    "start_time": "2023-03-04T13:01:16.600Z"
   },
   {
    "duration": 347,
    "start_time": "2023-03-04T13:01:16.625Z"
   },
   {
    "duration": 23,
    "start_time": "2023-03-04T13:01:16.974Z"
   },
   {
    "duration": 133,
    "start_time": "2023-03-04T13:02:16.996Z"
   },
   {
    "duration": 27,
    "start_time": "2023-03-04T13:02:24.540Z"
   },
   {
    "duration": 25,
    "start_time": "2023-03-04T13:03:59.224Z"
   },
   {
    "duration": 16,
    "start_time": "2023-03-04T13:04:10.887Z"
   },
   {
    "duration": 18,
    "start_time": "2023-03-04T13:04:13.223Z"
   },
   {
    "duration": 10,
    "start_time": "2023-03-04T13:04:27.909Z"
   },
   {
    "duration": 14,
    "start_time": "2023-03-04T13:04:51.770Z"
   },
   {
    "duration": 28,
    "start_time": "2023-03-04T13:04:56.097Z"
   },
   {
    "duration": 270,
    "start_time": "2023-03-04T13:09:38.010Z"
   },
   {
    "duration": 13,
    "start_time": "2023-03-04T13:10:12.372Z"
   },
   {
    "duration": 25,
    "start_time": "2023-03-04T13:10:17.565Z"
   },
   {
    "duration": 55,
    "start_time": "2023-03-04T13:11:12.135Z"
   },
   {
    "duration": 154,
    "start_time": "2023-03-04T13:12:40.930Z"
   },
   {
    "duration": 16,
    "start_time": "2023-03-04T13:14:16.429Z"
   },
   {
    "duration": 48,
    "start_time": "2023-03-04T13:14:47.319Z"
   },
   {
    "duration": 16,
    "start_time": "2023-03-04T13:15:09.384Z"
   },
   {
    "duration": 25,
    "start_time": "2023-03-04T13:15:11.463Z"
   },
   {
    "duration": 24,
    "start_time": "2023-03-04T13:15:21.735Z"
   },
   {
    "duration": 19,
    "start_time": "2023-03-04T13:15:27.577Z"
   },
   {
    "duration": 24,
    "start_time": "2023-03-04T13:15:29.485Z"
   },
   {
    "duration": 8,
    "start_time": "2023-03-04T13:16:27.290Z"
   },
   {
    "duration": 11,
    "start_time": "2023-03-04T13:17:05.037Z"
   },
   {
    "duration": 6,
    "start_time": "2023-03-04T13:17:44.461Z"
   },
   {
    "duration": 12,
    "start_time": "2023-03-04T13:18:10.544Z"
   },
   {
    "duration": 13,
    "start_time": "2023-03-04T13:18:22.136Z"
   },
   {
    "duration": 18,
    "start_time": "2023-03-04T13:20:00.534Z"
   },
   {
    "duration": 12,
    "start_time": "2023-03-04T13:20:10.681Z"
   },
   {
    "duration": 9,
    "start_time": "2023-03-04T13:20:28.618Z"
   },
   {
    "duration": 17,
    "start_time": "2023-03-04T13:20:31.674Z"
   },
   {
    "duration": 18,
    "start_time": "2023-03-04T13:20:41.387Z"
   },
   {
    "duration": 3937,
    "start_time": "2023-03-04T13:21:21.949Z"
   },
   {
    "duration": 169556,
    "start_time": "2023-03-04T13:23:08.752Z"
   },
   {
    "duration": 585805,
    "start_time": "2023-03-04T13:26:19.648Z"
   },
   {
    "duration": 267235,
    "start_time": "2023-03-04T13:36:17.119Z"
   },
   {
    "duration": 798,
    "start_time": "2023-03-04T13:48:56.376Z"
   },
   {
    "duration": 10,
    "start_time": "2023-03-04T13:49:13.238Z"
   },
   {
    "duration": 4,
    "start_time": "2023-03-04T13:49:39.474Z"
   },
   {
    "duration": 14,
    "start_time": "2023-03-04T13:49:43.631Z"
   },
   {
    "duration": 14,
    "start_time": "2023-03-04T13:51:29.766Z"
   },
   {
    "duration": 1554,
    "start_time": "2023-03-04T13:51:38.763Z"
   },
   {
    "duration": 1554,
    "start_time": "2023-03-04T13:51:49.584Z"
   },
   {
    "duration": 2159,
    "start_time": "2023-03-04T13:51:56.688Z"
   },
   {
    "duration": 3,
    "start_time": "2023-03-04T13:53:28.753Z"
   },
   {
    "duration": 12,
    "start_time": "2023-03-04T13:54:00.891Z"
   },
   {
    "duration": 14,
    "start_time": "2023-03-04T13:54:09.254Z"
   },
   {
    "duration": 15,
    "start_time": "2023-03-04T13:54:11.476Z"
   },
   {
    "duration": 6,
    "start_time": "2023-03-04T13:55:53.167Z"
   },
   {
    "duration": 2673,
    "start_time": "2023-03-04T13:56:25.452Z"
   },
   {
    "duration": 43,
    "start_time": "2023-03-04T13:57:13.561Z"
   },
   {
    "duration": 37,
    "start_time": "2023-03-04T14:01:09.655Z"
   },
   {
    "duration": 2153,
    "start_time": "2023-03-04T14:01:21.516Z"
   },
   {
    "duration": 72,
    "start_time": "2023-03-04T14:01:23.672Z"
   },
   {
    "duration": 17,
    "start_time": "2023-03-04T14:01:23.748Z"
   },
   {
    "duration": 4,
    "start_time": "2023-03-04T14:01:23.768Z"
   },
   {
    "duration": 14,
    "start_time": "2023-03-04T14:01:23.774Z"
   },
   {
    "duration": 43,
    "start_time": "2023-03-04T14:01:23.790Z"
   },
   {
    "duration": 342,
    "start_time": "2023-03-04T14:01:23.841Z"
   },
   {
    "duration": 354,
    "start_time": "2023-03-04T14:01:24.186Z"
   },
   {
    "duration": 681,
    "start_time": "2023-03-04T14:01:24.543Z"
   },
   {
    "duration": 631,
    "start_time": "2023-03-04T14:01:25.228Z"
   },
   {
    "duration": 494,
    "start_time": "2023-03-04T14:01:25.862Z"
   },
   {
    "duration": 345,
    "start_time": "2023-03-04T14:01:26.359Z"
   },
   {
    "duration": 33,
    "start_time": "2023-03-04T14:01:26.707Z"
   },
   {
    "duration": 502,
    "start_time": "2023-03-04T14:01:26.742Z"
   },
   {
    "duration": 8,
    "start_time": "2023-03-04T14:01:27.246Z"
   },
   {
    "duration": 23,
    "start_time": "2023-03-04T14:01:27.257Z"
   },
   {
    "duration": 25,
    "start_time": "2023-03-04T14:01:27.282Z"
   },
   {
    "duration": 25,
    "start_time": "2023-03-04T14:01:27.328Z"
   },
   {
    "duration": 14,
    "start_time": "2023-03-04T14:01:27.355Z"
   },
   {
    "duration": 4441,
    "start_time": "2023-03-04T14:01:27.372Z"
   },
   {
    "duration": 290057,
    "start_time": "2023-03-04T14:01:31.815Z"
   },
   {
    "duration": 2986,
    "start_time": "2023-03-04T14:06:21.875Z"
   },
   {
    "duration": 2209,
    "start_time": "2023-03-04T14:06:24.864Z"
   },
   {
    "duration": 32,
    "start_time": "2023-03-04T14:06:27.076Z"
   },
   {
    "duration": 1690,
    "start_time": "2023-03-05T15:15:53.432Z"
   },
   {
    "duration": 4,
    "start_time": "2023-03-05T15:15:55.125Z"
   },
   {
    "duration": 198,
    "start_time": "2023-03-05T15:15:55.519Z"
   },
   {
    "duration": 13,
    "start_time": "2023-03-05T15:15:55.719Z"
   },
   {
    "duration": 3,
    "start_time": "2023-03-05T15:15:55.839Z"
   },
   {
    "duration": 11,
    "start_time": "2023-03-05T15:15:56.174Z"
   },
   {
    "duration": 9,
    "start_time": "2023-03-05T15:15:56.680Z"
   },
   {
    "duration": 279,
    "start_time": "2023-03-05T15:15:56.772Z"
   },
   {
    "duration": 260,
    "start_time": "2023-03-05T15:15:57.053Z"
   },
   {
    "duration": 484,
    "start_time": "2023-03-05T15:15:57.315Z"
   },
   {
    "duration": 580,
    "start_time": "2023-03-05T15:15:57.802Z"
   },
   {
    "duration": 395,
    "start_time": "2023-03-05T15:15:58.385Z"
   },
   {
    "duration": 252,
    "start_time": "2023-03-05T15:15:58.783Z"
   },
   {
    "duration": 12,
    "start_time": "2023-03-05T15:15:59.036Z"
   },
   {
    "duration": 325,
    "start_time": "2023-03-05T15:16:03.334Z"
   },
   {
    "duration": 129,
    "start_time": "2023-03-05T15:16:06.239Z"
   },
   {
    "duration": 11,
    "start_time": "2023-03-05T15:16:23.688Z"
   },
   {
    "duration": 3,
    "start_time": "2023-03-05T15:16:36.090Z"
   },
   {
    "duration": 12,
    "start_time": "2023-03-05T15:16:38.073Z"
   },
   {
    "duration": 21,
    "start_time": "2023-03-05T15:16:41.720Z"
   },
   {
    "duration": 15,
    "start_time": "2023-03-05T15:17:54.667Z"
   },
   {
    "duration": 10,
    "start_time": "2023-03-05T15:17:57.026Z"
   },
   {
    "duration": 4183,
    "start_time": "2023-03-05T15:17:59.817Z"
   },
   {
    "duration": 4,
    "start_time": "2023-03-05T15:18:57.349Z"
   },
   {
    "duration": 5,
    "start_time": "2023-03-05T15:23:18.071Z"
   },
   {
    "duration": 2446,
    "start_time": "2023-03-05T15:27:17.886Z"
   },
   {
    "duration": 13,
    "start_time": "2023-03-05T15:29:32.186Z"
   },
   {
    "duration": 38,
    "start_time": "2023-03-05T15:29:54.980Z"
   },
   {
    "duration": 72,
    "start_time": "2023-03-05T15:30:17.965Z"
   },
   {
    "duration": 82,
    "start_time": "2023-03-05T15:30:30.421Z"
   },
   {
    "duration": 80,
    "start_time": "2023-03-05T15:30:44.612Z"
   },
   {
    "duration": 73,
    "start_time": "2023-03-05T15:31:35.328Z"
   },
   {
    "duration": 101,
    "start_time": "2023-03-05T15:31:40.143Z"
   },
   {
    "duration": 94,
    "start_time": "2023-03-05T15:31:59.736Z"
   },
   {
    "duration": 80,
    "start_time": "2023-03-05T15:32:19.473Z"
   },
   {
    "duration": 90,
    "start_time": "2023-03-05T15:32:24.353Z"
   },
   {
    "duration": 2634,
    "start_time": "2023-03-05T15:32:31.793Z"
   },
   {
    "duration": 5413,
    "start_time": "2023-03-05T15:32:45.508Z"
   },
   {
    "duration": 1434,
    "start_time": "2023-03-05T15:34:57.771Z"
   },
   {
    "duration": 4,
    "start_time": "2023-03-05T15:34:59.207Z"
   },
   {
    "duration": 87,
    "start_time": "2023-03-05T15:34:59.213Z"
   },
   {
    "duration": 12,
    "start_time": "2023-03-05T15:34:59.302Z"
   },
   {
    "duration": 33,
    "start_time": "2023-03-05T15:34:59.315Z"
   },
   {
    "duration": 29,
    "start_time": "2023-03-05T15:34:59.350Z"
   },
   {
    "duration": 26,
    "start_time": "2023-03-05T15:34:59.381Z"
   },
   {
    "duration": 282,
    "start_time": "2023-03-05T15:34:59.409Z"
   },
   {
    "duration": 237,
    "start_time": "2023-03-05T15:34:59.692Z"
   },
   {
    "duration": 407,
    "start_time": "2023-03-05T15:34:59.937Z"
   },
   {
    "duration": 532,
    "start_time": "2023-03-05T15:35:00.346Z"
   },
   {
    "duration": 398,
    "start_time": "2023-03-05T15:35:00.880Z"
   },
   {
    "duration": 271,
    "start_time": "2023-03-05T15:35:01.280Z"
   },
   {
    "duration": 12,
    "start_time": "2023-03-05T15:35:01.553Z"
   },
   {
    "duration": 336,
    "start_time": "2023-03-05T15:35:01.567Z"
   },
   {
    "duration": 4,
    "start_time": "2023-03-05T15:35:01.905Z"
   },
   {
    "duration": 38,
    "start_time": "2023-03-05T15:35:01.911Z"
   },
   {
    "duration": 37,
    "start_time": "2023-03-05T15:35:01.951Z"
   },
   {
    "duration": 25,
    "start_time": "2023-03-05T15:35:01.990Z"
   },
   {
    "duration": 97,
    "start_time": "2023-03-05T15:35:02.017Z"
   },
   {
    "duration": 2499,
    "start_time": "2023-03-05T15:35:02.117Z"
   },
   {
    "duration": 155966,
    "start_time": "2023-03-05T15:35:04.617Z"
   },
   {
    "duration": 2162,
    "start_time": "2023-03-05T15:37:40.585Z"
   },
   {
    "duration": 25,
    "start_time": "2023-03-05T15:37:42.749Z"
   },
   {
    "duration": 33,
    "start_time": "2023-03-05T15:49:48.773Z"
   },
   {
    "duration": 7614,
    "start_time": "2023-03-07T09:16:19.922Z"
   },
   {
    "duration": 5,
    "start_time": "2023-03-07T09:16:27.538Z"
   },
   {
    "duration": 240,
    "start_time": "2023-03-07T09:16:27.545Z"
   },
   {
    "duration": 31,
    "start_time": "2023-03-07T09:16:27.790Z"
   },
   {
    "duration": 3,
    "start_time": "2023-03-07T09:16:27.822Z"
   },
   {
    "duration": 13,
    "start_time": "2023-03-07T09:16:27.827Z"
   },
   {
    "duration": 7,
    "start_time": "2023-03-07T09:16:27.841Z"
   },
   {
    "duration": 293,
    "start_time": "2023-03-07T09:16:27.850Z"
   },
   {
    "duration": 218,
    "start_time": "2023-03-07T09:16:28.145Z"
   },
   {
    "duration": 384,
    "start_time": "2023-03-07T09:16:28.365Z"
   },
   {
    "duration": 562,
    "start_time": "2023-03-07T09:16:28.750Z"
   },
   {
    "duration": 334,
    "start_time": "2023-03-07T09:16:29.314Z"
   },
   {
    "duration": 152,
    "start_time": "2023-03-07T09:16:29.649Z"
   },
   {
    "duration": 22,
    "start_time": "2023-03-07T09:17:04.779Z"
   },
   {
    "duration": 215,
    "start_time": "2023-03-07T09:17:52.301Z"
   },
   {
    "duration": 12,
    "start_time": "2023-03-07T09:17:54.910Z"
   },
   {
    "duration": 275,
    "start_time": "2023-03-07T09:17:57.743Z"
   },
   {
    "duration": 5,
    "start_time": "2023-03-07T09:18:19.703Z"
   },
   {
    "duration": 11,
    "start_time": "2023-03-07T09:18:20.110Z"
   },
   {
    "duration": 26,
    "start_time": "2023-03-07T09:18:21.626Z"
   },
   {
    "duration": 13,
    "start_time": "2023-03-07T09:18:48.006Z"
   },
   {
    "duration": 74,
    "start_time": "2023-03-07T09:18:50.244Z"
   },
   {
    "duration": 2612,
    "start_time": "2023-03-07T09:18:50.907Z"
   },
   {
    "duration": 5249,
    "start_time": "2023-03-07T09:19:27.921Z"
   },
   {
    "duration": 0,
    "start_time": "2023-03-07T09:19:33.171Z"
   },
   {
    "duration": 163150,
    "start_time": "2023-03-07T09:19:34.945Z"
   },
   {
    "duration": 24,
    "start_time": "2023-03-07T09:22:18.097Z"
   },
   {
    "duration": 9,
    "start_time": "2023-03-07T09:24:04.548Z"
   },
   {
    "duration": 12,
    "start_time": "2023-03-07T09:24:46.810Z"
   },
   {
    "duration": 5,
    "start_time": "2023-03-07T09:24:54.208Z"
   },
   {
    "duration": 35,
    "start_time": "2023-03-07T09:24:58.779Z"
   },
   {
    "duration": 9,
    "start_time": "2023-03-07T09:25:25.920Z"
   },
   {
    "duration": 11,
    "start_time": "2023-03-07T09:25:39.937Z"
   },
   {
    "duration": 7,
    "start_time": "2023-03-07T09:25:56.163Z"
   },
   {
    "duration": 11,
    "start_time": "2023-03-07T09:26:00.848Z"
   },
   {
    "duration": 25,
    "start_time": "2023-03-07T09:26:41.775Z"
   },
   {
    "duration": 282,
    "start_time": "2023-03-07T09:26:46.031Z"
   }
  ],
  "kernelspec": {
   "display_name": "Python 3 (ipykernel)",
   "language": "python",
   "name": "python3"
  },
  "language_info": {
   "codemirror_mode": {
    "name": "ipython",
    "version": 3
   },
   "file_extension": ".py",
   "mimetype": "text/x-python",
   "name": "python",
   "nbconvert_exporter": "python",
   "pygments_lexer": "ipython3",
   "version": "3.9.5"
  },
  "toc": {
   "base_numbering": 1,
   "nav_menu": {},
   "number_sections": true,
   "sideBar": true,
   "skip_h1_title": true,
   "title_cell": "Содержание",
   "title_sidebar": "Contents",
   "toc_cell": true,
   "toc_position": {},
   "toc_section_display": true,
   "toc_window_display": false
  }
 },
 "nbformat": 4,
 "nbformat_minor": 2
}
