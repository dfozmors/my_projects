{
 "cells": [
  {
   "cell_type": "markdown",
   "metadata": {},
   "source": [
    "# Рекомендация тарифов"
   ]
  },
  {
   "cell_type": "markdown",
   "metadata": {},
   "source": [
    "## Первичное изучение данных"
   ]
  },
  {
   "cell_type": "code",
   "execution_count": 1,
   "metadata": {},
   "outputs": [],
   "source": [
    "import pandas as pd\n",
    "from sklearn.tree import DecisionTreeClassifier\n",
    "from sklearn.ensemble import RandomForestClassifier\n",
    "from sklearn.linear_model import LogisticRegression\n",
    "from sklearn.model_selection import train_test_split\n",
    "from sklearn.metrics import mean_squared_error\n",
    "from sklearn.metrics import accuracy_score \n",
    "from sklearn.dummy import DummyClassifier"
   ]
  },
  {
   "cell_type": "code",
   "execution_count": 2,
   "metadata": {},
   "outputs": [
    {
     "data": {
      "text/html": [
       "<div>\n",
       "<style scoped>\n",
       "    .dataframe tbody tr th:only-of-type {\n",
       "        vertical-align: middle;\n",
       "    }\n",
       "\n",
       "    .dataframe tbody tr th {\n",
       "        vertical-align: top;\n",
       "    }\n",
       "\n",
       "    .dataframe thead th {\n",
       "        text-align: right;\n",
       "    }\n",
       "</style>\n",
       "<table border=\"1\" class=\"dataframe\">\n",
       "  <thead>\n",
       "    <tr style=\"text-align: right;\">\n",
       "      <th></th>\n",
       "      <th>calls</th>\n",
       "      <th>minutes</th>\n",
       "      <th>messages</th>\n",
       "      <th>mb_used</th>\n",
       "      <th>is_ultra</th>\n",
       "    </tr>\n",
       "  </thead>\n",
       "  <tbody>\n",
       "    <tr>\n",
       "      <th>0</th>\n",
       "      <td>40.0</td>\n",
       "      <td>311.90</td>\n",
       "      <td>83.0</td>\n",
       "      <td>19915.42</td>\n",
       "      <td>0</td>\n",
       "    </tr>\n",
       "    <tr>\n",
       "      <th>1</th>\n",
       "      <td>85.0</td>\n",
       "      <td>516.75</td>\n",
       "      <td>56.0</td>\n",
       "      <td>22696.96</td>\n",
       "      <td>0</td>\n",
       "    </tr>\n",
       "    <tr>\n",
       "      <th>2</th>\n",
       "      <td>77.0</td>\n",
       "      <td>467.66</td>\n",
       "      <td>86.0</td>\n",
       "      <td>21060.45</td>\n",
       "      <td>0</td>\n",
       "    </tr>\n",
       "    <tr>\n",
       "      <th>3</th>\n",
       "      <td>106.0</td>\n",
       "      <td>745.53</td>\n",
       "      <td>81.0</td>\n",
       "      <td>8437.39</td>\n",
       "      <td>1</td>\n",
       "    </tr>\n",
       "    <tr>\n",
       "      <th>4</th>\n",
       "      <td>66.0</td>\n",
       "      <td>418.74</td>\n",
       "      <td>1.0</td>\n",
       "      <td>14502.75</td>\n",
       "      <td>0</td>\n",
       "    </tr>\n",
       "  </tbody>\n",
       "</table>\n",
       "</div>"
      ],
      "text/plain": [
       "   calls  minutes  messages   mb_used  is_ultra\n",
       "0   40.0   311.90      83.0  19915.42         0\n",
       "1   85.0   516.75      56.0  22696.96         0\n",
       "2   77.0   467.66      86.0  21060.45         0\n",
       "3  106.0   745.53      81.0   8437.39         1\n",
       "4   66.0   418.74       1.0  14502.75         0"
      ]
     },
     "metadata": {},
     "output_type": "display_data"
    },
    {
     "data": {
      "text/html": [
       "<div>\n",
       "<style scoped>\n",
       "    .dataframe tbody tr th:only-of-type {\n",
       "        vertical-align: middle;\n",
       "    }\n",
       "\n",
       "    .dataframe tbody tr th {\n",
       "        vertical-align: top;\n",
       "    }\n",
       "\n",
       "    .dataframe thead th {\n",
       "        text-align: right;\n",
       "    }\n",
       "</style>\n",
       "<table border=\"1\" class=\"dataframe\">\n",
       "  <thead>\n",
       "    <tr style=\"text-align: right;\">\n",
       "      <th></th>\n",
       "      <th>calls</th>\n",
       "      <th>minutes</th>\n",
       "      <th>messages</th>\n",
       "      <th>mb_used</th>\n",
       "      <th>is_ultra</th>\n",
       "    </tr>\n",
       "  </thead>\n",
       "  <tbody>\n",
       "    <tr>\n",
       "      <th>count</th>\n",
       "      <td>3214.000000</td>\n",
       "      <td>3214.000000</td>\n",
       "      <td>3214.000000</td>\n",
       "      <td>3214.000000</td>\n",
       "      <td>3214.000000</td>\n",
       "    </tr>\n",
       "    <tr>\n",
       "      <th>mean</th>\n",
       "      <td>63.038892</td>\n",
       "      <td>438.208787</td>\n",
       "      <td>38.281269</td>\n",
       "      <td>17207.673836</td>\n",
       "      <td>0.306472</td>\n",
       "    </tr>\n",
       "    <tr>\n",
       "      <th>std</th>\n",
       "      <td>33.236368</td>\n",
       "      <td>234.569872</td>\n",
       "      <td>36.148326</td>\n",
       "      <td>7570.968246</td>\n",
       "      <td>0.461100</td>\n",
       "    </tr>\n",
       "    <tr>\n",
       "      <th>min</th>\n",
       "      <td>0.000000</td>\n",
       "      <td>0.000000</td>\n",
       "      <td>0.000000</td>\n",
       "      <td>0.000000</td>\n",
       "      <td>0.000000</td>\n",
       "    </tr>\n",
       "    <tr>\n",
       "      <th>25%</th>\n",
       "      <td>40.000000</td>\n",
       "      <td>274.575000</td>\n",
       "      <td>9.000000</td>\n",
       "      <td>12491.902500</td>\n",
       "      <td>0.000000</td>\n",
       "    </tr>\n",
       "    <tr>\n",
       "      <th>50%</th>\n",
       "      <td>62.000000</td>\n",
       "      <td>430.600000</td>\n",
       "      <td>30.000000</td>\n",
       "      <td>16943.235000</td>\n",
       "      <td>0.000000</td>\n",
       "    </tr>\n",
       "    <tr>\n",
       "      <th>75%</th>\n",
       "      <td>82.000000</td>\n",
       "      <td>571.927500</td>\n",
       "      <td>57.000000</td>\n",
       "      <td>21424.700000</td>\n",
       "      <td>1.000000</td>\n",
       "    </tr>\n",
       "    <tr>\n",
       "      <th>max</th>\n",
       "      <td>244.000000</td>\n",
       "      <td>1632.060000</td>\n",
       "      <td>224.000000</td>\n",
       "      <td>49745.730000</td>\n",
       "      <td>1.000000</td>\n",
       "    </tr>\n",
       "  </tbody>\n",
       "</table>\n",
       "</div>"
      ],
      "text/plain": [
       "             calls      minutes     messages       mb_used     is_ultra\n",
       "count  3214.000000  3214.000000  3214.000000   3214.000000  3214.000000\n",
       "mean     63.038892   438.208787    38.281269  17207.673836     0.306472\n",
       "std      33.236368   234.569872    36.148326   7570.968246     0.461100\n",
       "min       0.000000     0.000000     0.000000      0.000000     0.000000\n",
       "25%      40.000000   274.575000     9.000000  12491.902500     0.000000\n",
       "50%      62.000000   430.600000    30.000000  16943.235000     0.000000\n",
       "75%      82.000000   571.927500    57.000000  21424.700000     1.000000\n",
       "max     244.000000  1632.060000   224.000000  49745.730000     1.000000"
      ]
     },
     "metadata": {},
     "output_type": "display_data"
    },
    {
     "name": "stdout",
     "output_type": "stream",
     "text": [
      "<class 'pandas.core.frame.DataFrame'>\n",
      "RangeIndex: 3214 entries, 0 to 3213\n",
      "Data columns (total 5 columns):\n",
      " #   Column    Non-Null Count  Dtype  \n",
      "---  ------    --------------  -----  \n",
      " 0   calls     3214 non-null   float64\n",
      " 1   minutes   3214 non-null   float64\n",
      " 2   messages  3214 non-null   float64\n",
      " 3   mb_used   3214 non-null   float64\n",
      " 4   is_ultra  3214 non-null   int64  \n",
      "dtypes: float64(4), int64(1)\n",
      "memory usage: 125.7 KB\n"
     ]
    }
   ],
   "source": [
    "df = pd.read_csv('/datasets/users_behavior.csv')\n",
    "display(df.head())\n",
    "display(df.describe())\n",
    "df.info()"
   ]
  },
  {
   "cell_type": "markdown",
   "metadata": {},
   "source": [
    "По предварительному анализу мы можем сделать вывод, что пропущенных данных нет, значения в столбцах `calls` и `messages` можно привести к типу integer"
   ]
  },
  {
   "cell_type": "code",
   "execution_count": 3,
   "metadata": {},
   "outputs": [
    {
     "name": "stdout",
     "output_type": "stream",
     "text": [
      "<class 'pandas.core.frame.DataFrame'>\n",
      "RangeIndex: 3214 entries, 0 to 3213\n",
      "Data columns (total 5 columns):\n",
      " #   Column    Non-Null Count  Dtype  \n",
      "---  ------    --------------  -----  \n",
      " 0   calls     3214 non-null   int64  \n",
      " 1   minutes   3214 non-null   float64\n",
      " 2   messages  3214 non-null   int64  \n",
      " 3   mb_used   3214 non-null   float64\n",
      " 4   is_ultra  3214 non-null   float64\n",
      "dtypes: float64(3), int64(2)\n",
      "memory usage: 125.7 KB\n"
     ]
    }
   ],
   "source": [
    "df['calls'] = df['calls'].astype(int)\n",
    "df['messages'] = df['messages'].astype(int)\n",
    "df['is_ultra'] = df['is_ultra'].astype(float)\n",
    "df.info()"
   ]
  },
  {
   "cell_type": "markdown",
   "metadata": {},
   "source": [
    "Теперь данные готовы к разделению на выборки"
   ]
  },
  {
   "cell_type": "code",
   "execution_count": 4,
   "metadata": {},
   "outputs": [
    {
     "data": {
      "text/plain": [
       "0.0    2229\n",
       "1.0     985\n",
       "Name: is_ultra, dtype: int64"
      ]
     },
     "execution_count": 4,
     "metadata": {},
     "output_type": "execute_result"
    }
   ],
   "source": [
    "df['is_ultra'].value_counts()"
   ]
  },
  {
   "cell_type": "markdown",
   "metadata": {},
   "source": [
    "Как мы можем видеть значений в столбце `is_ultra` равных 1 в несколько раз меньше чем 0, а именно в 2,26 раза. 30,6% значений в столбце равны 1, а 69,4 значений 0."
   ]
  },
  {
   "cell_type": "markdown",
   "metadata": {},
   "source": [
    "## Разбитие данных на выборки"
   ]
  },
  {
   "cell_type": "code",
   "execution_count": 5,
   "metadata": {},
   "outputs": [
    {
     "data": {
      "text/plain": [
       "0.3065352697095436"
      ]
     },
     "execution_count": 5,
     "metadata": {},
     "output_type": "execute_result"
    }
   ],
   "source": [
    "features = df.drop('is_ultra',axis=1) #Выделение под признаки все данные кроме значения тарифа\n",
    "target = df['is_ultra'] #Выделение под цель тариф\n",
    "features_80, features_valid,  target_80, target_valid = train_test_split(\n",
    "features, target, test_size=0.2, random_state=45678, stratify = target) #Разделение выборки на валидационную и остальную с отношением 20% к 80%\n",
    "features_train, features_test, target_train, target_test = train_test_split(\n",
    "features_80, target_80, test_size=0.25, random_state=45678, stratify = target_80) #Разделение выборки на обучаемую и тестовую с отношением 25% к 75%\n",
    "target_train_per = (target_train[target_train>0].count())/(target_train.count())\n",
    "target_train_per"
   ]
  },
  {
   "cell_type": "markdown",
   "metadata": {},
   "source": [
    "Данные были разделены на 3 разных выборки. Обучаемую - 60%, валидационную - 20%, тестовую - 20%, при этом сохранив изначальное распределение данных"
   ]
  },
  {
   "cell_type": "markdown",
   "metadata": {},
   "source": [
    "## Исследование моделей"
   ]
  },
  {
   "cell_type": "markdown",
   "metadata": {},
   "source": [
    "Для обучения модели будут использоваться 3 разные модели, качество которых будет определяться по валидационной выборке"
   ]
  },
  {
   "cell_type": "code",
   "execution_count": 6,
   "metadata": {},
   "outputs": [],
   "source": [
    "#Переменные для определения лучшей модели\n",
    "best_model_tree = None\n",
    "best_model_forest = None\n",
    "best_model_linear = None\n",
    "best_accuracy_tree = 0\n",
    "best_accuracy_forest = 0\n",
    "best_accuracy_linear = 0\n",
    "best_depth_tree = 0\n",
    "best_depth_forest = 0\n",
    "best_est = 0"
   ]
  },
  {
   "cell_type": "code",
   "execution_count": 7,
   "metadata": {},
   "outputs": [],
   "source": [
    "for depth in range(1,10): #Определение лучшего результата DecisionTreeClassifier\n",
    "    model_tree = DecisionTreeClassifier(random_state=12345, max_depth=depth)\n",
    "    model_tree.fit(features_train,target_train) #Обучение модели\n",
    "    prediction_valid = model_tree.predict(features_valid) #Тест модели на валидационной выборке\n",
    "    accuracy = accuracy_score(target_valid,prediction_valid) #Подсчет доли правильных ответов\n",
    "    if accuracy>best_accuracy_tree: #Проверка на наилучшее качество\n",
    "        best_accuracy_tree=accuracy\n",
    "        best_model_tree=model_tree\n",
    "        best_depth_tree=depth"
   ]
  },
  {
   "cell_type": "code",
   "execution_count": 8,
   "metadata": {},
   "outputs": [],
   "source": [
    "for est in range(10, 51): #Определение лучшего результата RandomForestClassifier\n",
    "    for depth in range (1, 11):\n",
    "        model_forest = RandomForestClassifier(random_state=12345,n_estimators=est,max_depth=depth)\n",
    "        model_forest.fit(features_train,target_train) #Обучение модели\n",
    "        prediction_valid = model_forest.predict(features_valid) #Тест модели на валидационной выборке\n",
    "        accuracy = accuracy_score(target_valid,prediction_valid) #Подсчет доли правильных ответов\n",
    "        if accuracy > best_accuracy_forest: #Проверка на наилучшее качество\n",
    "            best_model_forest = model_forest\n",
    "            best_accuracy_forest = accuracy\n",
    "            best_est = est\n",
    "            best_depth_forest = depth"
   ]
  },
  {
   "cell_type": "code",
   "execution_count": 9,
   "metadata": {},
   "outputs": [],
   "source": [
    "model_logistic = LogisticRegression()  #Создание модели LogisticRegression\n",
    "model_logistic.fit(features_train,target_train) #Обучение модели\n",
    "prediction_valid = model_logistic.predict(features_valid) #Тест модели на валидационной выборке\n",
    "accuracy_logistic = accuracy_score(target_valid,prediction_valid) #Подсчет доли правильных ответов"
   ]
  },
  {
   "cell_type": "code",
   "execution_count": 10,
   "metadata": {},
   "outputs": [
    {
     "name": "stdout",
     "output_type": "stream",
     "text": [
      "Лучший результат DecisionTreeClassifier: 0.7807153965785381  При глубине: 9\n",
      "Лучший результат RandomForestClassifier: 0.7978227060653188  При глубине: 9 и количестве лесов: 37\n",
      "Лучший результат LogisticRegression: 0.6967340590979783\n"
     ]
    }
   ],
   "source": [
    "print('Лучший результат DecisionTreeClassifier:',best_accuracy_tree,' При глубине:', best_depth_tree)\n",
    "print('Лучший результат RandomForestClassifier:',best_accuracy_forest,' При глубине:', best_depth_forest, 'и количестве лесов:',best_est)\n",
    "print('Лучший результат LogisticRegression:',accuracy_logistic)\n",
    "            "
   ]
  },
  {
   "cell_type": "markdown",
   "metadata": {},
   "source": [
    "Исходя из результатов проверки моделей после обучения на валидационных выборках, можно сделать вывод, что лучше всего себя показала модель RandomForestClassifier при глубине 9 и 37 лесах."
   ]
  },
  {
   "cell_type": "code",
   "execution_count": 11,
   "metadata": {},
   "outputs": [
    {
     "data": {
      "text/plain": [
       "0.8767016725009724"
      ]
     },
     "execution_count": 11,
     "metadata": {},
     "output_type": "execute_result"
    }
   ],
   "source": [
    "features_common = features_train.merge(features_valid,how='outer') #Объединение признаков двух выборок в одну\n",
    "target_common = pd.concat([target_train, target_valid]) #Объединение целей двух выборок в одну\n",
    "\n",
    "\n",
    "model_forest = RandomForestClassifier(random_state=12345,n_estimators=37,max_depth=9)\n",
    "model_forest.fit(features_common,target_common) #Обучение модели\n",
    "prediction_valid = model_forest.predict(features_common) #Тест модели на общей выборке\n",
    "accuracy = accuracy_score(target_common,prediction_valid) #Подсчет доли правильных ответов\n",
    "accuracy"
   ]
  },
  {
   "cell_type": "markdown",
   "metadata": {},
   "source": [
    "После обучения модели на общей выборке уровень ее правильных ответов вырос до 87,6%"
   ]
  },
  {
   "cell_type": "markdown",
   "metadata": {},
   "source": [
    "## Проверка модели на тестовой выборке"
   ]
  },
  {
   "cell_type": "code",
   "execution_count": 12,
   "metadata": {},
   "outputs": [
    {
     "name": "stdout",
     "output_type": "stream",
     "text": [
      "Результата работы RandomForestClassifier: 0.8180404354587869\n"
     ]
    }
   ],
   "source": [
    "prediction_test_forest = best_model_forest.predict(features_test)\n",
    "accurancy_forest = accuracy_score(target_test,prediction_test_forest)\n",
    "print('Результата работы RandomForestClassifier:', accurancy_forest)"
   ]
  },
  {
   "cell_type": "markdown",
   "metadata": {},
   "source": [
    "По итогам проверки на тестовых выборках можно видеть что модель предсказывают правильный результат с вероятностью около 82% и для выбора подходящего тарифа можно использовать RandomForestClassifier"
   ]
  },
  {
   "cell_type": "markdown",
   "metadata": {},
   "source": [
    "## Проверка модели на адекватность"
   ]
  },
  {
   "cell_type": "code",
   "execution_count": 13,
   "metadata": {},
   "outputs": [
    {
     "data": {
      "text/plain": [
       "0.6936236391912908"
      ]
     },
     "execution_count": 13,
     "metadata": {},
     "output_type": "execute_result"
    }
   ],
   "source": [
    "dummy = DummyClassifier()\n",
    "dummy.fit(features_train,target_train)\n",
    "prediction_dum = dummy.predict(features_valid)\n",
    "accur = accuracy_score(target_valid,prediction_dum)\n",
    "accur"
   ]
  },
  {
   "cell_type": "markdown",
   "metadata": {},
   "source": [
    "Если модель будет выдавать полностью случайные ответы, то так как доля 0 среди всех значений равна около 70%, то модель на случайных ответах будет показывать примерно такой же результат (например модель Dummy)? наши же модели предсказывают правильные ответы с вероятностью в 80% что значит, что они достаточно адекватные"
   ]
  }
 ],
 "metadata": {
  "ExecuteTimeLog": [
   {
    "duration": 1027,
    "start_time": "2022-05-21T12:09:46.980Z"
   },
   {
    "duration": 148,
    "start_time": "2022-05-21T12:11:49.494Z"
   },
   {
    "duration": 58,
    "start_time": "2022-05-21T12:12:03.601Z"
   },
   {
    "duration": 655,
    "start_time": "2022-05-21T12:18:08.048Z"
   },
   {
    "duration": 11,
    "start_time": "2022-05-21T12:18:19.242Z"
   },
   {
    "duration": 12,
    "start_time": "2022-05-21T12:18:38.821Z"
   },
   {
    "duration": 13,
    "start_time": "2022-05-21T12:22:20.824Z"
   },
   {
    "duration": 4,
    "start_time": "2022-05-21T12:22:39.811Z"
   },
   {
    "duration": 12,
    "start_time": "2022-05-21T12:27:51.939Z"
   },
   {
    "duration": 7,
    "start_time": "2022-05-21T12:28:14.118Z"
   },
   {
    "duration": 15,
    "start_time": "2022-05-21T12:28:46.009Z"
   },
   {
    "duration": 3,
    "start_time": "2022-05-21T12:28:59.239Z"
   },
   {
    "duration": 67,
    "start_time": "2022-05-21T12:28:59.245Z"
   },
   {
    "duration": 11,
    "start_time": "2022-05-21T12:28:59.314Z"
   },
   {
    "duration": 15,
    "start_time": "2022-05-21T12:28:59.327Z"
   },
   {
    "duration": 15,
    "start_time": "2022-05-21T12:33:16.196Z"
   },
   {
    "duration": 17,
    "start_time": "2022-05-21T12:33:24.128Z"
   },
   {
    "duration": 22,
    "start_time": "2022-05-21T12:33:27.226Z"
   },
   {
    "duration": 6,
    "start_time": "2022-05-21T12:35:11.846Z"
   },
   {
    "duration": 12,
    "start_time": "2022-05-21T12:35:16.192Z"
   },
   {
    "duration": 3,
    "start_time": "2022-05-21T12:39:45.405Z"
   },
   {
    "duration": 11,
    "start_time": "2022-05-21T12:40:06.734Z"
   },
   {
    "duration": 17,
    "start_time": "2022-05-21T12:40:21.212Z"
   },
   {
    "duration": 10,
    "start_time": "2022-05-21T12:41:28.194Z"
   },
   {
    "duration": 8,
    "start_time": "2022-05-21T12:41:38.824Z"
   },
   {
    "duration": 9,
    "start_time": "2022-05-21T12:42:01.189Z"
   },
   {
    "duration": 6,
    "start_time": "2022-05-21T12:42:16.648Z"
   },
   {
    "duration": 12,
    "start_time": "2022-05-21T12:42:57.046Z"
   },
   {
    "duration": 7,
    "start_time": "2022-05-21T12:43:11.435Z"
   },
   {
    "duration": 10,
    "start_time": "2022-05-21T12:44:14.220Z"
   },
   {
    "duration": 7,
    "start_time": "2022-05-21T12:44:16.426Z"
   },
   {
    "duration": 5,
    "start_time": "2022-05-21T12:44:17.693Z"
   },
   {
    "duration": 3,
    "start_time": "2022-05-21T12:44:22.307Z"
   },
   {
    "duration": 60,
    "start_time": "2022-05-21T12:44:22.312Z"
   },
   {
    "duration": 11,
    "start_time": "2022-05-21T12:44:22.374Z"
   },
   {
    "duration": 6,
    "start_time": "2022-05-21T12:44:22.387Z"
   },
   {
    "duration": 5,
    "start_time": "2022-05-21T12:44:22.394Z"
   },
   {
    "duration": 13,
    "start_time": "2022-05-21T12:44:22.400Z"
   },
   {
    "duration": 17,
    "start_time": "2022-05-21T12:45:23.754Z"
   },
   {
    "duration": 24,
    "start_time": "2022-05-21T12:45:44.539Z"
   },
   {
    "duration": 7,
    "start_time": "2022-05-21T12:46:06.393Z"
   },
   {
    "duration": 8,
    "start_time": "2022-05-21T12:47:35.574Z"
   },
   {
    "duration": 17,
    "start_time": "2022-05-21T13:26:17.526Z"
   },
   {
    "duration": 3,
    "start_time": "2022-05-21T13:26:25.881Z"
   },
   {
    "duration": 20,
    "start_time": "2022-05-21T13:26:28.375Z"
   },
   {
    "duration": 17,
    "start_time": "2022-05-21T13:28:38.694Z"
   },
   {
    "duration": 10,
    "start_time": "2022-05-21T13:28:46.490Z"
   },
   {
    "duration": 8,
    "start_time": "2022-05-21T13:28:50.575Z"
   },
   {
    "duration": 10,
    "start_time": "2022-05-21T13:29:17.868Z"
   },
   {
    "duration": 13,
    "start_time": "2022-05-21T13:29:21.704Z"
   },
   {
    "duration": 24,
    "start_time": "2022-05-21T13:30:09.761Z"
   },
   {
    "duration": 11,
    "start_time": "2022-05-21T13:31:31.318Z"
   },
   {
    "duration": 13,
    "start_time": "2022-05-21T13:31:43.529Z"
   },
   {
    "duration": 13,
    "start_time": "2022-05-21T13:32:34.923Z"
   },
   {
    "duration": 13,
    "start_time": "2022-05-21T13:32:43.419Z"
   },
   {
    "duration": 450,
    "start_time": "2022-05-21T13:33:43.764Z"
   },
   {
    "duration": 16,
    "start_time": "2022-05-21T13:33:48.233Z"
   },
   {
    "duration": 15,
    "start_time": "2022-05-21T13:33:51.234Z"
   },
   {
    "duration": 13,
    "start_time": "2022-05-21T13:33:53.868Z"
   },
   {
    "duration": 13,
    "start_time": "2022-05-21T13:34:09.659Z"
   },
   {
    "duration": 13,
    "start_time": "2022-05-21T13:36:22.381Z"
   },
   {
    "duration": 4046,
    "start_time": "2022-05-21T17:40:24.735Z"
   },
   {
    "duration": 3741,
    "start_time": "2022-05-21T17:40:39.514Z"
   },
   {
    "duration": 30739,
    "start_time": "2022-05-21T17:40:51.010Z"
   },
   {
    "duration": 31028,
    "start_time": "2022-05-21T17:44:57.621Z"
   },
   {
    "duration": 30773,
    "start_time": "2022-05-21T17:47:26.777Z"
   },
   {
    "duration": 31829,
    "start_time": "2022-05-21T17:50:34.256Z"
   },
   {
    "duration": 14,
    "start_time": "2022-05-21T17:53:50.130Z"
   },
   {
    "duration": 1009,
    "start_time": "2022-05-21T18:03:09.458Z"
   },
   {
    "duration": 75,
    "start_time": "2022-05-21T18:03:10.469Z"
   },
   {
    "duration": 15,
    "start_time": "2022-05-21T18:03:10.546Z"
   },
   {
    "duration": 11,
    "start_time": "2022-05-21T18:03:10.563Z"
   },
   {
    "duration": 33669,
    "start_time": "2022-05-21T18:03:10.577Z"
   },
   {
    "duration": 16,
    "start_time": "2022-05-21T18:03:44.248Z"
   },
   {
    "duration": 38,
    "start_time": "2022-05-21T18:07:46.113Z"
   },
   {
    "duration": 55,
    "start_time": "2022-05-22T17:38:42.528Z"
   },
   {
    "duration": 1183,
    "start_time": "2022-05-22T17:38:46.715Z"
   },
   {
    "duration": 165,
    "start_time": "2022-05-22T17:38:47.899Z"
   },
   {
    "duration": 12,
    "start_time": "2022-05-22T17:38:48.066Z"
   },
   {
    "duration": 5,
    "start_time": "2022-05-22T17:38:48.080Z"
   },
   {
    "duration": 17,
    "start_time": "2022-05-22T17:38:48.087Z"
   },
   {
    "duration": 31182,
    "start_time": "2022-05-22T17:38:48.106Z"
   },
   {
    "duration": 12,
    "start_time": "2022-05-22T17:39:19.294Z"
   },
   {
    "duration": 5,
    "start_time": "2022-05-22T17:44:22.784Z"
   },
   {
    "duration": 9,
    "start_time": "2022-05-22T17:45:57.639Z"
   },
   {
    "duration": 3,
    "start_time": "2022-05-22T17:46:21.129Z"
   },
   {
    "duration": 11,
    "start_time": "2022-05-22T17:46:30.270Z"
   },
   {
    "duration": 6,
    "start_time": "2022-05-22T17:46:51.133Z"
   },
   {
    "duration": 8,
    "start_time": "2022-05-22T17:47:47.405Z"
   },
   {
    "duration": 7,
    "start_time": "2022-05-22T17:47:52.430Z"
   },
   {
    "duration": 8,
    "start_time": "2022-05-22T17:48:05.995Z"
   },
   {
    "duration": 74,
    "start_time": "2022-05-22T17:51:19.129Z"
   },
   {
    "duration": 24,
    "start_time": "2022-05-22T17:53:37.262Z"
   },
   {
    "duration": 11,
    "start_time": "2022-05-22T17:54:00.147Z"
   },
   {
    "duration": 13,
    "start_time": "2022-05-22T17:54:04.724Z"
   },
   {
    "duration": 26,
    "start_time": "2022-05-22T17:54:08.002Z"
   },
   {
    "duration": 15,
    "start_time": "2022-05-22T17:54:23.585Z"
   },
   {
    "duration": 14,
    "start_time": "2022-05-22T17:55:10.259Z"
   },
   {
    "duration": 16,
    "start_time": "2022-05-22T17:55:39.357Z"
   },
   {
    "duration": 30,
    "start_time": "2022-05-22T17:56:59.942Z"
   },
   {
    "duration": 14,
    "start_time": "2022-05-22T17:57:09.829Z"
   },
   {
    "duration": 575,
    "start_time": "2022-05-22T17:57:14.754Z"
   },
   {
    "duration": 19,
    "start_time": "2022-05-22T17:57:25.359Z"
   },
   {
    "duration": 267,
    "start_time": "2022-05-22T17:57:30.350Z"
   },
   {
    "duration": 6,
    "start_time": "2022-05-22T17:57:46.033Z"
   },
   {
    "duration": 6,
    "start_time": "2022-05-22T17:57:55.559Z"
   },
   {
    "duration": 45,
    "start_time": "2022-05-22T17:59:25.418Z"
   },
   {
    "duration": 15,
    "start_time": "2022-05-22T17:59:33.019Z"
   },
   {
    "duration": 27,
    "start_time": "2022-05-22T17:59:36.353Z"
   },
   {
    "duration": 15,
    "start_time": "2022-05-22T17:59:53.030Z"
   },
   {
    "duration": 17,
    "start_time": "2022-05-22T18:00:03.071Z"
   },
   {
    "duration": 16,
    "start_time": "2022-05-22T18:00:18.937Z"
   },
   {
    "duration": 37168,
    "start_time": "2022-05-22T18:01:03.326Z"
   },
   {
    "duration": 1144,
    "start_time": "2022-05-22T18:02:46.159Z"
   },
   {
    "duration": 145,
    "start_time": "2022-05-22T18:02:47.305Z"
   },
   {
    "duration": 20,
    "start_time": "2022-05-22T18:02:47.457Z"
   },
   {
    "duration": 8,
    "start_time": "2022-05-22T18:02:47.480Z"
   },
   {
    "duration": 48,
    "start_time": "2022-05-22T18:02:47.501Z"
   },
   {
    "duration": 29,
    "start_time": "2022-05-22T18:02:47.551Z"
   },
   {
    "duration": 157,
    "start_time": "2022-05-22T18:02:47.583Z"
   },
   {
    "duration": 35782,
    "start_time": "2022-05-22T18:02:47.745Z"
   },
   {
    "duration": 25,
    "start_time": "2022-05-22T18:03:23.529Z"
   },
   {
    "duration": 5,
    "start_time": "2022-05-22T18:03:23.557Z"
   },
   {
    "duration": 38,
    "start_time": "2022-05-22T18:03:23.564Z"
   },
   {
    "duration": 11,
    "start_time": "2022-05-22T18:03:23.607Z"
   },
   {
    "duration": 5,
    "start_time": "2022-05-22T18:07:39.363Z"
   },
   {
    "duration": 22,
    "start_time": "2022-05-22T18:07:52.495Z"
   },
   {
    "duration": 13,
    "start_time": "2022-05-22T18:08:04.546Z"
   },
   {
    "duration": 11,
    "start_time": "2022-05-22T18:09:07.634Z"
   },
   {
    "duration": 113,
    "start_time": "2022-05-22T18:09:14.769Z"
   },
   {
    "duration": 21,
    "start_time": "2022-05-22T18:09:18.656Z"
   },
   {
    "duration": 17,
    "start_time": "2022-05-22T18:09:34.210Z"
   },
   {
    "duration": 13,
    "start_time": "2022-05-22T18:09:44.851Z"
   },
   {
    "duration": 20,
    "start_time": "2022-05-22T18:11:11.287Z"
   },
   {
    "duration": 14,
    "start_time": "2022-05-22T18:11:24.597Z"
   },
   {
    "duration": 11,
    "start_time": "2022-05-22T18:12:37.696Z"
   },
   {
    "duration": 16,
    "start_time": "2022-05-22T18:12:43.006Z"
   },
   {
    "duration": 176,
    "start_time": "2022-05-22T18:14:11.865Z"
   },
   {
    "duration": 184,
    "start_time": "2022-05-22T18:14:26.472Z"
   },
   {
    "duration": 13,
    "start_time": "2022-05-22T18:14:32.609Z"
   },
   {
    "duration": 1149,
    "start_time": "2022-05-22T18:18:26.011Z"
   },
   {
    "duration": 198,
    "start_time": "2022-05-22T18:18:27.162Z"
   },
   {
    "duration": 15,
    "start_time": "2022-05-22T18:18:27.362Z"
   },
   {
    "duration": 26,
    "start_time": "2022-05-22T18:18:27.379Z"
   },
   {
    "duration": 33,
    "start_time": "2022-05-22T18:18:27.407Z"
   },
   {
    "duration": 4,
    "start_time": "2022-05-22T18:18:27.442Z"
   },
   {
    "duration": 83,
    "start_time": "2022-05-22T18:18:27.448Z"
   },
   {
    "duration": 33005,
    "start_time": "2022-05-22T18:18:27.532Z"
   },
   {
    "duration": 24,
    "start_time": "2022-05-22T18:19:00.539Z"
   },
   {
    "duration": 5,
    "start_time": "2022-05-22T18:19:00.566Z"
   },
   {
    "duration": 208,
    "start_time": "2022-05-22T18:19:00.573Z"
   },
   {
    "duration": 22,
    "start_time": "2022-05-22T18:19:00.782Z"
   },
   {
    "duration": 30,
    "start_time": "2022-05-22T18:19:00.806Z"
   },
   {
    "duration": 1112,
    "start_time": "2022-05-23T08:50:02.278Z"
   },
   {
    "duration": 64,
    "start_time": "2022-05-23T08:50:03.392Z"
   },
   {
    "duration": 11,
    "start_time": "2022-05-23T08:50:03.457Z"
   },
   {
    "duration": 10,
    "start_time": "2022-05-23T08:50:03.471Z"
   },
   {
    "duration": 16,
    "start_time": "2022-05-23T08:50:03.484Z"
   },
   {
    "duration": 2,
    "start_time": "2022-05-23T08:50:03.502Z"
   },
   {
    "duration": 81,
    "start_time": "2022-05-23T08:50:03.506Z"
   },
   {
    "duration": 31075,
    "start_time": "2022-05-23T08:50:03.588Z"
   },
   {
    "duration": 24,
    "start_time": "2022-05-23T08:50:34.664Z"
   },
   {
    "duration": 5,
    "start_time": "2022-05-23T08:50:34.691Z"
   },
   {
    "duration": 178,
    "start_time": "2022-05-23T08:50:34.698Z"
   },
   {
    "duration": 14,
    "start_time": "2022-05-23T08:50:34.878Z"
   },
   {
    "duration": 8,
    "start_time": "2022-05-23T08:50:34.894Z"
   }
  ],
  "kernelspec": {
   "display_name": "Python 3 (ipykernel)",
   "language": "python",
   "name": "python3"
  },
  "language_info": {
   "codemirror_mode": {
    "name": "ipython",
    "version": 3
   },
   "file_extension": ".py",
   "mimetype": "text/x-python",
   "name": "python",
   "nbconvert_exporter": "python",
   "pygments_lexer": "ipython3",
   "version": "3.9.5"
  },
  "toc": {
   "base_numbering": 1,
   "nav_menu": {},
   "number_sections": true,
   "sideBar": true,
   "skip_h1_title": true,
   "title_cell": "Table of Contents",
   "title_sidebar": "Contents",
   "toc_cell": false,
   "toc_position": {},
   "toc_section_display": true,
   "toc_window_display": true
  }
 },
 "nbformat": 4,
 "nbformat_minor": 2
}
