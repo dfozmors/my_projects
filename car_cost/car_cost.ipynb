{
 "cells": [
  {
   "cell_type": "markdown",
   "metadata": {},
   "source": [
    "# Определение стоимости автомобилей"
   ]
  },
  {
   "cell_type": "markdown",
   "metadata": {},
   "source": [
    "## Подготовка данных"
   ]
  },
  {
   "cell_type": "code",
   "execution_count": 55,
   "metadata": {},
   "outputs": [],
   "source": [
    "import pandas as pd\n",
    "import numpy as np\n",
    "import math\n",
    "import matplotlib.pyplot as plt\n",
    "from sklearn.model_selection import train_test_split\n",
    "from sklearn.preprocessing import StandardScaler \n",
    "from sklearn.preprocessing import OrdinalEncoder\n",
    "\n",
    "from sklearn.tree import DecisionTreeClassifier\n",
    "from sklearn.ensemble import RandomForestClassifier\n",
    "from sklearn.linear_model import LinearRegression\n",
    "from lightgbm import LGBMRegressor\n",
    "import catboost\n",
    "from catboost import cv\n",
    "from catboost import CatBoostRegressor\n",
    "from xgboost import XGBRegressor\n",
    "\n",
    "from sklearn.model_selection import cross_val_score, GridSearchCV\n",
    "from sklearn.metrics import mean_squared_error\n",
    "\n",
    "import catboost\n",
    "from catboost import cv\n",
    "from catboost import *\n",
    "from catboost import datasets\n",
    "\n",
    "import warnings\n",
    "from pandas.core.common import SettingWithCopyWarning\n",
    "warnings.simplefilter(action=\"ignore\", category=SettingWithCopyWarning)"
   ]
  },
  {
   "cell_type": "code",
   "execution_count": 56,
   "metadata": {},
   "outputs": [],
   "source": [
    "def dropping(cond):\n",
    "    global df\n",
    "    outlires = df.query(cond).index \n",
    "    df = df.drop(index=outlires)    "
   ]
  },
  {
   "cell_type": "code",
   "execution_count": 57,
   "metadata": {},
   "outputs": [],
   "source": [
    "df = pd.read_csv('/datasets/autos.csv')"
   ]
  },
  {
   "cell_type": "code",
   "execution_count": 58,
   "metadata": {},
   "outputs": [
    {
     "data": {
      "text/html": [
       "<div>\n",
       "<style scoped>\n",
       "    .dataframe tbody tr th:only-of-type {\n",
       "        vertical-align: middle;\n",
       "    }\n",
       "\n",
       "    .dataframe tbody tr th {\n",
       "        vertical-align: top;\n",
       "    }\n",
       "\n",
       "    .dataframe thead th {\n",
       "        text-align: right;\n",
       "    }\n",
       "</style>\n",
       "<table border=\"1\" class=\"dataframe\">\n",
       "  <thead>\n",
       "    <tr style=\"text-align: right;\">\n",
       "      <th></th>\n",
       "      <th>DateCrawled</th>\n",
       "      <th>Price</th>\n",
       "      <th>VehicleType</th>\n",
       "      <th>RegistrationYear</th>\n",
       "      <th>Gearbox</th>\n",
       "      <th>Power</th>\n",
       "      <th>Model</th>\n",
       "      <th>Kilometer</th>\n",
       "      <th>RegistrationMonth</th>\n",
       "      <th>FuelType</th>\n",
       "      <th>Brand</th>\n",
       "      <th>Repaired</th>\n",
       "      <th>DateCreated</th>\n",
       "      <th>NumberOfPictures</th>\n",
       "      <th>PostalCode</th>\n",
       "      <th>LastSeen</th>\n",
       "    </tr>\n",
       "  </thead>\n",
       "  <tbody>\n",
       "    <tr>\n",
       "      <th>0</th>\n",
       "      <td>2016-03-24 11:52:17</td>\n",
       "      <td>480</td>\n",
       "      <td>NaN</td>\n",
       "      <td>1993</td>\n",
       "      <td>manual</td>\n",
       "      <td>0</td>\n",
       "      <td>golf</td>\n",
       "      <td>150000</td>\n",
       "      <td>0</td>\n",
       "      <td>petrol</td>\n",
       "      <td>volkswagen</td>\n",
       "      <td>NaN</td>\n",
       "      <td>2016-03-24 00:00:00</td>\n",
       "      <td>0</td>\n",
       "      <td>70435</td>\n",
       "      <td>2016-04-07 03:16:57</td>\n",
       "    </tr>\n",
       "    <tr>\n",
       "      <th>1</th>\n",
       "      <td>2016-03-24 10:58:45</td>\n",
       "      <td>18300</td>\n",
       "      <td>coupe</td>\n",
       "      <td>2011</td>\n",
       "      <td>manual</td>\n",
       "      <td>190</td>\n",
       "      <td>NaN</td>\n",
       "      <td>125000</td>\n",
       "      <td>5</td>\n",
       "      <td>gasoline</td>\n",
       "      <td>audi</td>\n",
       "      <td>yes</td>\n",
       "      <td>2016-03-24 00:00:00</td>\n",
       "      <td>0</td>\n",
       "      <td>66954</td>\n",
       "      <td>2016-04-07 01:46:50</td>\n",
       "    </tr>\n",
       "    <tr>\n",
       "      <th>2</th>\n",
       "      <td>2016-03-14 12:52:21</td>\n",
       "      <td>9800</td>\n",
       "      <td>suv</td>\n",
       "      <td>2004</td>\n",
       "      <td>auto</td>\n",
       "      <td>163</td>\n",
       "      <td>grand</td>\n",
       "      <td>125000</td>\n",
       "      <td>8</td>\n",
       "      <td>gasoline</td>\n",
       "      <td>jeep</td>\n",
       "      <td>NaN</td>\n",
       "      <td>2016-03-14 00:00:00</td>\n",
       "      <td>0</td>\n",
       "      <td>90480</td>\n",
       "      <td>2016-04-05 12:47:46</td>\n",
       "    </tr>\n",
       "    <tr>\n",
       "      <th>3</th>\n",
       "      <td>2016-03-17 16:54:04</td>\n",
       "      <td>1500</td>\n",
       "      <td>small</td>\n",
       "      <td>2001</td>\n",
       "      <td>manual</td>\n",
       "      <td>75</td>\n",
       "      <td>golf</td>\n",
       "      <td>150000</td>\n",
       "      <td>6</td>\n",
       "      <td>petrol</td>\n",
       "      <td>volkswagen</td>\n",
       "      <td>no</td>\n",
       "      <td>2016-03-17 00:00:00</td>\n",
       "      <td>0</td>\n",
       "      <td>91074</td>\n",
       "      <td>2016-03-17 17:40:17</td>\n",
       "    </tr>\n",
       "    <tr>\n",
       "      <th>4</th>\n",
       "      <td>2016-03-31 17:25:20</td>\n",
       "      <td>3600</td>\n",
       "      <td>small</td>\n",
       "      <td>2008</td>\n",
       "      <td>manual</td>\n",
       "      <td>69</td>\n",
       "      <td>fabia</td>\n",
       "      <td>90000</td>\n",
       "      <td>7</td>\n",
       "      <td>gasoline</td>\n",
       "      <td>skoda</td>\n",
       "      <td>no</td>\n",
       "      <td>2016-03-31 00:00:00</td>\n",
       "      <td>0</td>\n",
       "      <td>60437</td>\n",
       "      <td>2016-04-06 10:17:21</td>\n",
       "    </tr>\n",
       "  </tbody>\n",
       "</table>\n",
       "</div>"
      ],
      "text/plain": [
       "           DateCrawled  Price VehicleType  RegistrationYear Gearbox  Power  \\\n",
       "0  2016-03-24 11:52:17    480         NaN              1993  manual      0   \n",
       "1  2016-03-24 10:58:45  18300       coupe              2011  manual    190   \n",
       "2  2016-03-14 12:52:21   9800         suv              2004    auto    163   \n",
       "3  2016-03-17 16:54:04   1500       small              2001  manual     75   \n",
       "4  2016-03-31 17:25:20   3600       small              2008  manual     69   \n",
       "\n",
       "   Model  Kilometer  RegistrationMonth  FuelType       Brand Repaired  \\\n",
       "0   golf     150000                  0    petrol  volkswagen      NaN   \n",
       "1    NaN     125000                  5  gasoline        audi      yes   \n",
       "2  grand     125000                  8  gasoline        jeep      NaN   \n",
       "3   golf     150000                  6    petrol  volkswagen       no   \n",
       "4  fabia      90000                  7  gasoline       skoda       no   \n",
       "\n",
       "           DateCreated  NumberOfPictures  PostalCode             LastSeen  \n",
       "0  2016-03-24 00:00:00                 0       70435  2016-04-07 03:16:57  \n",
       "1  2016-03-24 00:00:00                 0       66954  2016-04-07 01:46:50  \n",
       "2  2016-03-14 00:00:00                 0       90480  2016-04-05 12:47:46  \n",
       "3  2016-03-17 00:00:00                 0       91074  2016-03-17 17:40:17  \n",
       "4  2016-03-31 00:00:00                 0       60437  2016-04-06 10:17:21  "
      ]
     },
     "execution_count": 58,
     "metadata": {},
     "output_type": "execute_result"
    }
   ],
   "source": [
    "df.head()"
   ]
  },
  {
   "cell_type": "code",
   "execution_count": 59,
   "metadata": {},
   "outputs": [
    {
     "data": {
      "text/html": [
       "<div>\n",
       "<style scoped>\n",
       "    .dataframe tbody tr th:only-of-type {\n",
       "        vertical-align: middle;\n",
       "    }\n",
       "\n",
       "    .dataframe tbody tr th {\n",
       "        vertical-align: top;\n",
       "    }\n",
       "\n",
       "    .dataframe thead th {\n",
       "        text-align: right;\n",
       "    }\n",
       "</style>\n",
       "<table border=\"1\" class=\"dataframe\">\n",
       "  <thead>\n",
       "    <tr style=\"text-align: right;\">\n",
       "      <th></th>\n",
       "      <th>Price</th>\n",
       "      <th>RegistrationYear</th>\n",
       "      <th>Power</th>\n",
       "      <th>Kilometer</th>\n",
       "      <th>RegistrationMonth</th>\n",
       "      <th>NumberOfPictures</th>\n",
       "      <th>PostalCode</th>\n",
       "    </tr>\n",
       "  </thead>\n",
       "  <tbody>\n",
       "    <tr>\n",
       "      <th>count</th>\n",
       "      <td>354369.000000</td>\n",
       "      <td>354369.000000</td>\n",
       "      <td>354369.000000</td>\n",
       "      <td>354369.000000</td>\n",
       "      <td>354369.000000</td>\n",
       "      <td>354369.0</td>\n",
       "      <td>354369.000000</td>\n",
       "    </tr>\n",
       "    <tr>\n",
       "      <th>mean</th>\n",
       "      <td>4416.656776</td>\n",
       "      <td>2004.234448</td>\n",
       "      <td>110.094337</td>\n",
       "      <td>128211.172535</td>\n",
       "      <td>5.714645</td>\n",
       "      <td>0.0</td>\n",
       "      <td>50508.689087</td>\n",
       "    </tr>\n",
       "    <tr>\n",
       "      <th>std</th>\n",
       "      <td>4514.158514</td>\n",
       "      <td>90.227958</td>\n",
       "      <td>189.850405</td>\n",
       "      <td>37905.341530</td>\n",
       "      <td>3.726421</td>\n",
       "      <td>0.0</td>\n",
       "      <td>25783.096248</td>\n",
       "    </tr>\n",
       "    <tr>\n",
       "      <th>min</th>\n",
       "      <td>0.000000</td>\n",
       "      <td>1000.000000</td>\n",
       "      <td>0.000000</td>\n",
       "      <td>5000.000000</td>\n",
       "      <td>0.000000</td>\n",
       "      <td>0.0</td>\n",
       "      <td>1067.000000</td>\n",
       "    </tr>\n",
       "    <tr>\n",
       "      <th>25%</th>\n",
       "      <td>1050.000000</td>\n",
       "      <td>1999.000000</td>\n",
       "      <td>69.000000</td>\n",
       "      <td>125000.000000</td>\n",
       "      <td>3.000000</td>\n",
       "      <td>0.0</td>\n",
       "      <td>30165.000000</td>\n",
       "    </tr>\n",
       "    <tr>\n",
       "      <th>50%</th>\n",
       "      <td>2700.000000</td>\n",
       "      <td>2003.000000</td>\n",
       "      <td>105.000000</td>\n",
       "      <td>150000.000000</td>\n",
       "      <td>6.000000</td>\n",
       "      <td>0.0</td>\n",
       "      <td>49413.000000</td>\n",
       "    </tr>\n",
       "    <tr>\n",
       "      <th>75%</th>\n",
       "      <td>6400.000000</td>\n",
       "      <td>2008.000000</td>\n",
       "      <td>143.000000</td>\n",
       "      <td>150000.000000</td>\n",
       "      <td>9.000000</td>\n",
       "      <td>0.0</td>\n",
       "      <td>71083.000000</td>\n",
       "    </tr>\n",
       "    <tr>\n",
       "      <th>max</th>\n",
       "      <td>20000.000000</td>\n",
       "      <td>9999.000000</td>\n",
       "      <td>20000.000000</td>\n",
       "      <td>150000.000000</td>\n",
       "      <td>12.000000</td>\n",
       "      <td>0.0</td>\n",
       "      <td>99998.000000</td>\n",
       "    </tr>\n",
       "  </tbody>\n",
       "</table>\n",
       "</div>"
      ],
      "text/plain": [
       "               Price  RegistrationYear          Power      Kilometer  \\\n",
       "count  354369.000000     354369.000000  354369.000000  354369.000000   \n",
       "mean     4416.656776       2004.234448     110.094337  128211.172535   \n",
       "std      4514.158514         90.227958     189.850405   37905.341530   \n",
       "min         0.000000       1000.000000       0.000000    5000.000000   \n",
       "25%      1050.000000       1999.000000      69.000000  125000.000000   \n",
       "50%      2700.000000       2003.000000     105.000000  150000.000000   \n",
       "75%      6400.000000       2008.000000     143.000000  150000.000000   \n",
       "max     20000.000000       9999.000000   20000.000000  150000.000000   \n",
       "\n",
       "       RegistrationMonth  NumberOfPictures     PostalCode  \n",
       "count      354369.000000          354369.0  354369.000000  \n",
       "mean            5.714645               0.0   50508.689087  \n",
       "std             3.726421               0.0   25783.096248  \n",
       "min             0.000000               0.0    1067.000000  \n",
       "25%             3.000000               0.0   30165.000000  \n",
       "50%             6.000000               0.0   49413.000000  \n",
       "75%             9.000000               0.0   71083.000000  \n",
       "max            12.000000               0.0   99998.000000  "
      ]
     },
     "execution_count": 59,
     "metadata": {},
     "output_type": "execute_result"
    }
   ],
   "source": [
    "df.describe()"
   ]
  },
  {
   "cell_type": "code",
   "execution_count": 60,
   "metadata": {},
   "outputs": [
    {
     "name": "stdout",
     "output_type": "stream",
     "text": [
      "<class 'pandas.core.frame.DataFrame'>\n",
      "RangeIndex: 354369 entries, 0 to 354368\n",
      "Data columns (total 16 columns):\n",
      " #   Column             Non-Null Count   Dtype \n",
      "---  ------             --------------   ----- \n",
      " 0   DateCrawled        354369 non-null  object\n",
      " 1   Price              354369 non-null  int64 \n",
      " 2   VehicleType        316879 non-null  object\n",
      " 3   RegistrationYear   354369 non-null  int64 \n",
      " 4   Gearbox            334536 non-null  object\n",
      " 5   Power              354369 non-null  int64 \n",
      " 6   Model              334664 non-null  object\n",
      " 7   Kilometer          354369 non-null  int64 \n",
      " 8   RegistrationMonth  354369 non-null  int64 \n",
      " 9   FuelType           321474 non-null  object\n",
      " 10  Brand              354369 non-null  object\n",
      " 11  Repaired           283215 non-null  object\n",
      " 12  DateCreated        354369 non-null  object\n",
      " 13  NumberOfPictures   354369 non-null  int64 \n",
      " 14  PostalCode         354369 non-null  int64 \n",
      " 15  LastSeen           354369 non-null  object\n",
      "dtypes: int64(7), object(9)\n",
      "memory usage: 43.3+ MB\n"
     ]
    }
   ],
   "source": [
    "df.info()"
   ]
  },
  {
   "cell_type": "markdown",
   "metadata": {},
   "source": [
    "После первичного осмотра данных мы видим, что в данных присутствуют пропуски в столбцах `VehicleType`, `Gearbox`, `Model`, `FuelType` и `Repaired`. Данные столбца `Repaired` можно заполнить значениями no, так как люди скорее всего забывали говорить об этом, так как считали что она только для тех у кого она была в ремонте, также нужно изменить данные с 'no' и 'yes' к '0' и '1'. Остальные данные можно попробовать удалить, так как мы не можем более менее предсказать какое значение в них может быть, и постмотреть сколько данных мы потеряем.  \n",
    "Данные в столбцах `DateCrawled`, `DateCreated` и `LastSeen` нужно привести к типу datetime, но так как дата скачивания анкеты и последней активности пользователя не влияет на цену автомобиля, то от этих данных можно избавиться\n",
    "Остальные данные не имеют пропусков и обладают нужным типом. В столбце `RegistrationYear` присутствуют аномальные значения 1000 и 9999, `Power` имеет аномально низкие и высокие значения.  \n",
    "От столбца `NumberOfPictures` мы можем избавиться так как все значения в нем равны 0\n",
    "В столбце `Price` присутствуют 0 значения, вряд ли они были сделаны специально, так что от них лучше избавиться"
   ]
  },
  {
   "cell_type": "code",
   "execution_count": 61,
   "metadata": {
    "scrolled": true
   },
   "outputs": [
    {
     "name": "stdout",
     "output_type": "stream",
     "text": [
      "sedan          91457\n",
      "small          79831\n",
      "wagon          65166\n",
      "bus            28775\n",
      "convertible    20203\n",
      "coupe          16163\n",
      "suv            11996\n",
      "other           3288\n",
      "Name: VehicleType, dtype: int64\n",
      "\n",
      "manual    268251\n",
      "auto       66285\n",
      "Name: Gearbox, dtype: int64\n",
      "\n",
      "golf                  29232\n",
      "other                 24421\n",
      "3er                   19761\n",
      "polo                  13066\n",
      "corsa                 12570\n",
      "                      ...  \n",
      "serie_2                   8\n",
      "rangerover                4\n",
      "serie_3                   4\n",
      "range_rover_evoque        2\n",
      "serie_1                   2\n",
      "Name: Model, Length: 250, dtype: int64\n",
      "\n",
      "petrol      216352\n",
      "gasoline     98720\n",
      "lpg           5310\n",
      "cng            565\n",
      "hybrid         233\n",
      "other          204\n",
      "electric        90\n",
      "Name: FuelType, dtype: int64\n",
      "\n",
      "volkswagen        77013\n",
      "opel              39931\n",
      "bmw               36914\n",
      "mercedes_benz     32046\n",
      "audi              29456\n",
      "ford              25179\n",
      "renault           17927\n",
      "peugeot           10998\n",
      "fiat               9643\n",
      "seat               6907\n",
      "mazda              5615\n",
      "skoda              5500\n",
      "smart              5246\n",
      "citroen            5148\n",
      "nissan             4941\n",
      "toyota             4606\n",
      "hyundai            3587\n",
      "sonstige_autos     3374\n",
      "volvo              3210\n",
      "mini               3202\n",
      "mitsubishi         3022\n",
      "honda              2817\n",
      "kia                2465\n",
      "suzuki             2323\n",
      "alfa_romeo         2314\n",
      "chevrolet          1754\n",
      "chrysler           1439\n",
      "dacia               900\n",
      "daihatsu            806\n",
      "subaru              762\n",
      "porsche             758\n",
      "jeep                677\n",
      "trabant             589\n",
      "land_rover          545\n",
      "daewoo              542\n",
      "saab                526\n",
      "jaguar              505\n",
      "rover               486\n",
      "lancia              471\n",
      "lada                225\n",
      "Name: Brand, dtype: int64\n",
      "\n",
      "no     247161\n",
      "yes     36054\n",
      "Name: Repaired, dtype: int64\n",
      "\n"
     ]
    }
   ],
   "source": [
    "#Просмотр данных на наличие дубликатов связанных с названием\n",
    "for i in ['VehicleType','Gearbox','Model','FuelType','Brand','Repaired']:\n",
    "    print(df[i].value_counts())\n",
    "    print('')"
   ]
  },
  {
   "cell_type": "markdown",
   "metadata": {},
   "source": [
    "Проблем с названиями обнаружено не было"
   ]
  },
  {
   "cell_type": "markdown",
   "metadata": {},
   "source": [
    "### Работа с пропусками"
   ]
  },
  {
   "cell_type": "code",
   "execution_count": 62,
   "metadata": {},
   "outputs": [],
   "source": [
    "df['Repaired'] = df['Repaired'].replace(['yes','no'],[1,0]) #Замена yes, no на 1 и 0 \n",
    "df['Repaired'] = df['Repaired'].fillna(0) #Заполнение пропущенных значений нулями\n",
    "df['Repaired'] = df['Repaired'].astype(int)"
   ]
  },
  {
   "cell_type": "markdown",
   "metadata": {},
   "source": [
    "Попробуем удалить остальные пропуски"
   ]
  },
  {
   "cell_type": "code",
   "execution_count": 63,
   "metadata": {},
   "outputs": [],
   "source": [
    "#Для удаления делаем копию датафрейма, чтобы посмотреть сколько данных мы потеряем\n",
    "df_2 = df\n",
    "df_2 = df_2.dropna()"
   ]
  },
  {
   "cell_type": "code",
   "execution_count": 64,
   "metadata": {},
   "outputs": [
    {
     "name": "stdout",
     "output_type": "stream",
     "text": [
      "<class 'pandas.core.frame.DataFrame'>\n",
      "Int64Index: 284126 entries, 2 to 354368\n",
      "Data columns (total 16 columns):\n",
      " #   Column             Non-Null Count   Dtype \n",
      "---  ------             --------------   ----- \n",
      " 0   DateCrawled        284126 non-null  object\n",
      " 1   Price              284126 non-null  int64 \n",
      " 2   VehicleType        284126 non-null  object\n",
      " 3   RegistrationYear   284126 non-null  int64 \n",
      " 4   Gearbox            284126 non-null  object\n",
      " 5   Power              284126 non-null  int64 \n",
      " 6   Model              284126 non-null  object\n",
      " 7   Kilometer          284126 non-null  int64 \n",
      " 8   RegistrationMonth  284126 non-null  int64 \n",
      " 9   FuelType           284126 non-null  object\n",
      " 10  Brand              284126 non-null  object\n",
      " 11  Repaired           284126 non-null  int64 \n",
      " 12  DateCreated        284126 non-null  object\n",
      " 13  NumberOfPictures   284126 non-null  int64 \n",
      " 14  PostalCode         284126 non-null  int64 \n",
      " 15  LastSeen           284126 non-null  object\n",
      "dtypes: int64(8), object(8)\n",
      "memory usage: 36.9+ MB\n"
     ]
    }
   ],
   "source": [
    "df_2.info()"
   ]
  },
  {
   "cell_type": "code",
   "execution_count": 65,
   "metadata": {},
   "outputs": [
    {
     "data": {
      "text/plain": [
       "19.821993458795774"
      ]
     },
     "execution_count": 65,
     "metadata": {},
     "output_type": "execute_result"
    }
   ],
   "source": [
    "((354369-284126)/354369)*100 #Подсчет процента пропущенных значений"
   ]
  },
  {
   "cell_type": "markdown",
   "metadata": {},
   "source": [
    "Если мы удалим все пропущенные значения, то потеряем почти 20% данных, что мы не можем допустить, можем попробовать заполнить часть столбцов самыми распространенными значениями (столбцы `Gearbox` и `FuelType` так как там меньше вариантивность и большинство значений принадлежит к одному классу)"
   ]
  },
  {
   "cell_type": "code",
   "execution_count": 66,
   "metadata": {},
   "outputs": [
    {
     "name": "stdout",
     "output_type": "stream",
     "text": [
      "<class 'pandas.core.frame.DataFrame'>\n",
      "Int64Index: 304002 entries, 2 to 354368\n",
      "Data columns (total 16 columns):\n",
      " #   Column             Non-Null Count   Dtype \n",
      "---  ------             --------------   ----- \n",
      " 0   DateCrawled        304002 non-null  object\n",
      " 1   Price              304002 non-null  int64 \n",
      " 2   VehicleType        304002 non-null  object\n",
      " 3   RegistrationYear   304002 non-null  int64 \n",
      " 4   Gearbox            304002 non-null  object\n",
      " 5   Power              304002 non-null  int64 \n",
      " 6   Model              304002 non-null  object\n",
      " 7   Kilometer          304002 non-null  int64 \n",
      " 8   RegistrationMonth  304002 non-null  int64 \n",
      " 9   FuelType           304002 non-null  object\n",
      " 10  Brand              304002 non-null  object\n",
      " 11  Repaired           304002 non-null  int64 \n",
      " 12  DateCreated        304002 non-null  object\n",
      " 13  NumberOfPictures   304002 non-null  int64 \n",
      " 14  PostalCode         304002 non-null  int64 \n",
      " 15  LastSeen           304002 non-null  object\n",
      "dtypes: int64(8), object(8)\n",
      "memory usage: 39.4+ MB\n"
     ]
    }
   ],
   "source": [
    "df_2 = df\n",
    "df_2['Gearbox'] = df_2['Gearbox'].fillna('manual') #Заполнение пропусков самым популярным значением\n",
    "df_2['FuelType'] = df_2['FuelType'].fillna('petrol') \n",
    "df_2 = df_2.dropna() \n",
    "df_2.info()"
   ]
  },
  {
   "cell_type": "code",
   "execution_count": 67,
   "metadata": {},
   "outputs": [
    {
     "data": {
      "text/plain": [
       "14.213150698847812"
      ]
     },
     "execution_count": 67,
     "metadata": {},
     "output_type": "execute_result"
    }
   ],
   "source": [
    "((354369-304002)/354369)*100"
   ]
  },
  {
   "cell_type": "markdown",
   "metadata": {},
   "source": [
    "После добавления в столбцы `Gearbox` и `FuelType` самых распространенных значений и удаления остальных пропущенных значений в столбцах `Model` и `Vegicletype` мы уменьшили количество теряемых данных до 14%, к сожалению эти пропуски мы не можем заполнить чем либо, так как в данных столбцах большая вариантивность и множество классов имеют близкое к себе количество автомобилей, так что придется работать с данными в таком виде"
   ]
  },
  {
   "cell_type": "code",
   "execution_count": 68,
   "metadata": {},
   "outputs": [],
   "source": [
    "#Проведение подобной операции с основным датафреймом\n",
    "df['Gearbox'] = df['Gearbox'].fillna('manual') \n",
    "df['FuelType'] = df['FuelType'].fillna('petrol')\n",
    "df = df.dropna()\n",
    "df['DateCreated'] = pd.to_datetime(df['DateCreated'],format='%Y-%m-%d %H:%M:%S') #Изменение типа данных в столбце DateCreated\n",
    "df = df.drop(['NumberOfPictures','DateCrawled','LastSeen'],axis=1) #Удаление столбцов не несущих смысл "
   ]
  },
  {
   "cell_type": "code",
   "execution_count": 69,
   "metadata": {},
   "outputs": [
    {
     "name": "stdout",
     "output_type": "stream",
     "text": [
      "<class 'pandas.core.frame.DataFrame'>\n",
      "Int64Index: 304002 entries, 2 to 354368\n",
      "Data columns (total 13 columns):\n",
      " #   Column             Non-Null Count   Dtype         \n",
      "---  ------             --------------   -----         \n",
      " 0   Price              304002 non-null  int64         \n",
      " 1   VehicleType        304002 non-null  object        \n",
      " 2   RegistrationYear   304002 non-null  int64         \n",
      " 3   Gearbox            304002 non-null  object        \n",
      " 4   Power              304002 non-null  int64         \n",
      " 5   Model              304002 non-null  object        \n",
      " 6   Kilometer          304002 non-null  int64         \n",
      " 7   RegistrationMonth  304002 non-null  int64         \n",
      " 8   FuelType           304002 non-null  object        \n",
      " 9   Brand              304002 non-null  object        \n",
      " 10  Repaired           304002 non-null  int64         \n",
      " 11  DateCreated        304002 non-null  datetime64[ns]\n",
      " 12  PostalCode         304002 non-null  int64         \n",
      "dtypes: datetime64[ns](1), int64(7), object(5)\n",
      "memory usage: 32.5+ MB\n"
     ]
    }
   ],
   "source": [
    "df.drop_duplicates() #Удаление явных дубликатов\n",
    "df.info()"
   ]
  },
  {
   "cell_type": "markdown",
   "metadata": {},
   "source": [
    "Дубликатов обнаружено не было"
   ]
  },
  {
   "cell_type": "markdown",
   "metadata": {},
   "source": [
    "### Проверка данных на аномалии"
   ]
  },
  {
   "cell_type": "code",
   "execution_count": 70,
   "metadata": {},
   "outputs": [
    {
     "data": {
      "image/png": "[encoded data removed]",
      "text/plain": [
       "<Figure size 360x720 with 1 Axes>"
      ]
     },
     "metadata": {
      "needs_background": "light"
     },
     "output_type": "display_data"
    }
   ],
   "source": [
    "plt.figure(figsize=(5,10))\n",
    "plt.title('Boxplot года регистрации автомобиля')\n",
    "plt.ylabel(\"Год регистрации\")\n",
    "df['RegistrationYear'].plot(kind='box');"
   ]
  },
  {
   "cell_type": "markdown",
   "metadata": {},
   "source": [
    "По графику мы видим, что несмотря на наличие некоторых аномальных значений все они не противоречат логике и мы можем их оставить, так как могут продавать и очень старые автомобили"
   ]
  },
  {
   "cell_type": "code",
   "execution_count": 71,
   "metadata": {
    "scrolled": false
   },
   "outputs": [
    {
     "data": {
      "image/png": "[encoded data removed]",
      "text/plain": [
       "<Figure size 360x720 with 1 Axes>"
      ]
     },
     "metadata": {
      "needs_background": "light"
     },
     "output_type": "display_data"
    }
   ],
   "source": [
    "plt.figure(figsize=(5,10))\n",
    "plt.title('Boxplot мощности автомобиля')\n",
    "plt.ylabel(\"Лошадиные силы\")\n",
    "df['Power'].plot(kind='box');"
   ]
  },
  {
   "cell_type": "code",
   "execution_count": 72,
   "metadata": {},
   "outputs": [
    {
     "data": {
      "image/png": "[encoded data removed]",
      "text/plain": [
       "<Figure size 360x720 with 1 Axes>"
      ]
     },
     "metadata": {
      "needs_background": "light"
     },
     "output_type": "display_data"
    }
   ],
   "source": [
    "plt.figure(figsize=(5,10))\n",
    "plt.title('Boxplot мощности автомобиля')\n",
    "plt.ylabel(\"Лошадиные силы\")\n",
    "plt.axis(ymax=1000)\n",
    "df['Power'].plot(kind='box');"
   ]
  },
  {
   "cell_type": "markdown",
   "metadata": {},
   "source": [
    "По графикам мощности видно, что в данных есть аномально высокие значения мощности, так как самая высокая мощность на данный момент 1600 л.с., то все значения выше этого можно убирать как заведомо ложные. Также так как данные у нас были выгружены не позднее 2016 года, то и год регистрации более 2016 года не может присутствовать. "
   ]
  },
  {
   "cell_type": "code",
   "execution_count": 73,
   "metadata": {},
   "outputs": [],
   "source": [
    "dropping('Power>1600')\n",
    "dropping('RegistrationYear>2016')\n",
    "dropping('Price<1')"
   ]
  },
  {
   "cell_type": "code",
   "execution_count": 74,
   "metadata": {},
   "outputs": [],
   "source": [
    "outlires = df.query('Power>1600').index \n",
    "df = df.drop(index=outlires)\n",
    "outlires = df.query('RegistrationYear>2016').index \n",
    "df = df.drop(index=outlires)"
   ]
  },
  {
   "cell_type": "code",
   "execution_count": 75,
   "metadata": {},
   "outputs": [
    {
     "name": "stdout",
     "output_type": "stream",
     "text": [
      "<class 'pandas.core.frame.DataFrame'>\n",
      "Int64Index: 297767 entries, 2 to 354368\n",
      "Data columns (total 13 columns):\n",
      " #   Column             Non-Null Count   Dtype         \n",
      "---  ------             --------------   -----         \n",
      " 0   Price              297767 non-null  int64         \n",
      " 1   VehicleType        297767 non-null  object        \n",
      " 2   RegistrationYear   297767 non-null  int64         \n",
      " 3   Gearbox            297767 non-null  object        \n",
      " 4   Power              297767 non-null  int64         \n",
      " 5   Model              297767 non-null  object        \n",
      " 6   Kilometer          297767 non-null  int64         \n",
      " 7   RegistrationMonth  297767 non-null  int64         \n",
      " 8   FuelType           297767 non-null  object        \n",
      " 9   Brand              297767 non-null  object        \n",
      " 10  Repaired           297767 non-null  int64         \n",
      " 11  DateCreated        297767 non-null  datetime64[ns]\n",
      " 12  PostalCode         297767 non-null  int64         \n",
      "dtypes: datetime64[ns](1), int64(7), object(5)\n",
      "memory usage: 39.9+ MB\n"
     ]
    }
   ],
   "source": [
    "df.info()"
   ]
  },
  {
   "cell_type": "code",
   "execution_count": 76,
   "metadata": {},
   "outputs": [
    {
     "data": {
      "text/html": [
       "<div>\n",
       "<style scoped>\n",
       "    .dataframe tbody tr th:only-of-type {\n",
       "        vertical-align: middle;\n",
       "    }\n",
       "\n",
       "    .dataframe tbody tr th {\n",
       "        vertical-align: top;\n",
       "    }\n",
       "\n",
       "    .dataframe thead th {\n",
       "        text-align: right;\n",
       "    }\n",
       "</style>\n",
       "<table border=\"1\" class=\"dataframe\">\n",
       "  <thead>\n",
       "    <tr style=\"text-align: right;\">\n",
       "      <th></th>\n",
       "      <th>Price</th>\n",
       "      <th>RegistrationYear</th>\n",
       "      <th>Power</th>\n",
       "      <th>Kilometer</th>\n",
       "      <th>RegistrationMonth</th>\n",
       "      <th>Repaired</th>\n",
       "      <th>PostalCode</th>\n",
       "    </tr>\n",
       "  </thead>\n",
       "  <tbody>\n",
       "    <tr>\n",
       "      <th>count</th>\n",
       "      <td>297767.000000</td>\n",
       "      <td>297767.000000</td>\n",
       "      <td>297767.000000</td>\n",
       "      <td>297767.000000</td>\n",
       "      <td>297767.000000</td>\n",
       "      <td>297767.000000</td>\n",
       "      <td>297767.000000</td>\n",
       "    </tr>\n",
       "    <tr>\n",
       "      <th>mean</th>\n",
       "      <td>4808.065534</td>\n",
       "      <td>2002.487609</td>\n",
       "      <td>112.865264</td>\n",
       "      <td>128382.325778</td>\n",
       "      <td>6.009722</td>\n",
       "      <td>0.097331</td>\n",
       "      <td>51057.232007</td>\n",
       "    </tr>\n",
       "    <tr>\n",
       "      <th>std</th>\n",
       "      <td>4589.265708</td>\n",
       "      <td>6.288980</td>\n",
       "      <td>64.620772</td>\n",
       "      <td>36752.889391</td>\n",
       "      <td>3.587504</td>\n",
       "      <td>0.296409</td>\n",
       "      <td>25737.723203</td>\n",
       "    </tr>\n",
       "    <tr>\n",
       "      <th>min</th>\n",
       "      <td>1.000000</td>\n",
       "      <td>1910.000000</td>\n",
       "      <td>0.000000</td>\n",
       "      <td>5000.000000</td>\n",
       "      <td>0.000000</td>\n",
       "      <td>0.000000</td>\n",
       "      <td>1067.000000</td>\n",
       "    </tr>\n",
       "    <tr>\n",
       "      <th>25%</th>\n",
       "      <td>1300.000000</td>\n",
       "      <td>1999.000000</td>\n",
       "      <td>75.000000</td>\n",
       "      <td>125000.000000</td>\n",
       "      <td>3.000000</td>\n",
       "      <td>0.000000</td>\n",
       "      <td>30851.000000</td>\n",
       "    </tr>\n",
       "    <tr>\n",
       "      <th>50%</th>\n",
       "      <td>3100.000000</td>\n",
       "      <td>2003.000000</td>\n",
       "      <td>107.000000</td>\n",
       "      <td>150000.000000</td>\n",
       "      <td>6.000000</td>\n",
       "      <td>0.000000</td>\n",
       "      <td>50127.000000</td>\n",
       "    </tr>\n",
       "    <tr>\n",
       "      <th>75%</th>\n",
       "      <td>6950.000000</td>\n",
       "      <td>2007.000000</td>\n",
       "      <td>144.000000</td>\n",
       "      <td>150000.000000</td>\n",
       "      <td>9.000000</td>\n",
       "      <td>0.000000</td>\n",
       "      <td>71665.000000</td>\n",
       "    </tr>\n",
       "    <tr>\n",
       "      <th>max</th>\n",
       "      <td>20000.000000</td>\n",
       "      <td>2016.000000</td>\n",
       "      <td>1600.000000</td>\n",
       "      <td>150000.000000</td>\n",
       "      <td>12.000000</td>\n",
       "      <td>1.000000</td>\n",
       "      <td>99998.000000</td>\n",
       "    </tr>\n",
       "  </tbody>\n",
       "</table>\n",
       "</div>"
      ],
      "text/plain": [
       "               Price  RegistrationYear          Power      Kilometer  \\\n",
       "count  297767.000000     297767.000000  297767.000000  297767.000000   \n",
       "mean     4808.065534       2002.487609     112.865264  128382.325778   \n",
       "std      4589.265708          6.288980      64.620772   36752.889391   \n",
       "min         1.000000       1910.000000       0.000000    5000.000000   \n",
       "25%      1300.000000       1999.000000      75.000000  125000.000000   \n",
       "50%      3100.000000       2003.000000     107.000000  150000.000000   \n",
       "75%      6950.000000       2007.000000     144.000000  150000.000000   \n",
       "max     20000.000000       2016.000000    1600.000000  150000.000000   \n",
       "\n",
       "       RegistrationMonth       Repaired     PostalCode  \n",
       "count      297767.000000  297767.000000  297767.000000  \n",
       "mean            6.009722       0.097331   51057.232007  \n",
       "std             3.587504       0.296409   25737.723203  \n",
       "min             0.000000       0.000000    1067.000000  \n",
       "25%             3.000000       0.000000   30851.000000  \n",
       "50%             6.000000       0.000000   50127.000000  \n",
       "75%             9.000000       0.000000   71665.000000  \n",
       "max            12.000000       1.000000   99998.000000  "
      ]
     },
     "execution_count": 76,
     "metadata": {},
     "output_type": "execute_result"
    }
   ],
   "source": [
    "df.describe()"
   ]
  },
  {
   "cell_type": "markdown",
   "metadata": {},
   "source": [
    "## Обучение моделей"
   ]
  },
  {
   "cell_type": "markdown",
   "metadata": {},
   "source": [
    "### Подготовка данных к обучению"
   ]
  },
  {
   "cell_type": "code",
   "execution_count": 77,
   "metadata": {},
   "outputs": [],
   "source": [
    "df_2 = df"
   ]
  },
  {
   "cell_type": "code",
   "execution_count": 78,
   "metadata": {},
   "outputs": [],
   "source": [
    "df_ohe = pd.get_dummies(df, drop_first=True) #Прямое кодирование для модели линейной регрессии"
   ]
  },
  {
   "cell_type": "code",
   "execution_count": 79,
   "metadata": {},
   "outputs": [],
   "source": [
    "encoder = OrdinalEncoder() #Порядковое кодирование для моделей RandomForest и DecisionTree\n",
    "df_oe = df\n",
    "df_oe[['VehicleType','Gearbox','Model','FuelType','Brand']] = encoder.fit_transform(df[['VehicleType','Gearbox','Model','FuelType','Brand']])"
   ]
  },
  {
   "cell_type": "code",
   "execution_count": 80,
   "metadata": {},
   "outputs": [],
   "source": [
    "features_ohe = df_ohe.drop(['Price'],axis=1) #Выделение датафрейма с признаками для модели линейной регрессии\n",
    "target_ohe = df_ohe['Price']\n",
    "\n",
    "features_oe = df_oe.drop(['Price'],axis=1) #Выделение датафрейма с признаками \n",
    "target_oe = df_oe['Price']"
   ]
  },
  {
   "cell_type": "code",
   "execution_count": 81,
   "metadata": {},
   "outputs": [],
   "source": [
    "#Разделение данных на тренировочную и тестовую выборки в соотношении 80% к 20%\n",
    "features_train_ohe,features_test_ohe,target_train_ohe,target_test_ohe = train_test_split(features_ohe,target_ohe,test_size=0.2,\n",
    "                                                                        random_state=12345, shuffle=True)\n",
    "\n",
    "features_train_oe,features_test_oe,target_train_oe,target_test_oe = train_test_split(features_oe,target_oe,test_size=0.2,\n",
    "                                                                        random_state=12345, shuffle=True)"
   ]
  },
  {
   "cell_type": "code",
   "execution_count": 82,
   "metadata": {},
   "outputs": [],
   "source": [
    "numeric=['RegistrationYear', 'Power',\n",
    "       'Kilometer', 'RegistrationMonth', 'Repaired',\n",
    "        'PostalCode']\n",
    "\n",
    "scaler = StandardScaler() #Масштабирование данных\n",
    "scaler.fit(features_train_ohe[numeric])\n",
    "features_train_ohe[numeric] = scaler.transform(features_train_ohe[numeric])\n",
    "features_test_ohe[numeric] = scaler.transform(features_test_ohe[numeric])\n",
    "\n",
    "    "
   ]
  },
  {
   "cell_type": "code",
   "execution_count": 29,
   "metadata": {},
   "outputs": [
    {
     "name": "stdout",
     "output_type": "stream",
     "text": [
      "Средняя оценка качества модели: -2625.9124448075304\n",
      "CPU times: user 57.8 s, sys: 20.5 s, total: 1min 18s\n",
      "Wall time: 1min 18s\n"
     ]
    }
   ],
   "source": [
    "%%time\n",
    "#Обучение модели линейной регрессии\n",
    "model_lin = LinearRegression()\n",
    "f_t_o = features_train_ohe.drop('DateCreated',axis=1)\n",
    "\n",
    "scores = cross_val_score(model_lin,f_t_o,target_train_ohe,cv=5,scoring='neg_root_mean_squared_error')\n",
    "final_score = scores.mean()\n",
    "print('Средняя оценка качества модели:', final_score)"
   ]
  },
  {
   "cell_type": "code",
   "execution_count": 30,
   "metadata": {},
   "outputs": [
    {
     "name": "stdout",
     "output_type": "stream",
     "text": [
      "CPU times: user 14.5 s, sys: 4.71 s, total: 19.2 s\n",
      "Wall time: 19.2 s\n"
     ]
    },
    {
     "data": {
      "text/plain": [
       "LinearRegression()"
      ]
     },
     "execution_count": 30,
     "metadata": {},
     "output_type": "execute_result"
    }
   ],
   "source": [
    "%%time\n",
    "\n",
    "model_lin.fit(f_t_o,target_train_ohe)"
   ]
  },
  {
   "cell_type": "markdown",
   "metadata": {},
   "source": [
    "Значение метрики RMSE модели линейной регрессии оказалось равно 2625.912 евро, при этом обучение модели заняло 40 с"
   ]
  },
  {
   "cell_type": "code",
   "execution_count": 31,
   "metadata": {
    "scrolled": true
   },
   "outputs": [
    {
     "name": "stdout",
     "output_type": "stream",
     "text": [
      "Fitting 6 folds for each of 1 candidates, totalling 6 fits\n"
     ]
    },
    {
     "name": "stderr",
     "output_type": "stream",
     "text": [
      "/opt/conda/lib/python3.9/site-packages/sklearn/model_selection/_split.py:666: UserWarning: The least populated class in y has only 1 members, which is less than n_splits=6.\n",
      "  warnings.warn((\"The least populated class in y has only %d\"\n"
     ]
    },
    {
     "name": "stdout",
     "output_type": "stream",
     "text": [
      "Лучшая модель дерева показала результат: -4925.469567188751  при глубине дерева = {'max_depth': 12}\n"
     ]
    }
   ],
   "source": [
    "#Обучение модели решающего дерева\n",
    "tree_model = DecisionTreeClassifier(random_state=12345,class_weight='balanced')\n",
    "tree_params = {'max_depth': range(12,13)}\n",
    "tree_grid = GridSearchCV(tree_model, tree_params, cv=6,n_jobs=-1,verbose=True,scoring='neg_root_mean_squared_error')\n",
    "tree_grid.fit(features_train_oe.drop('DateCreated',axis=1),target_train_oe)\n",
    "print('Лучшая модель дерева показала результат:',tree_grid.best_score_,' при глубине дерева =', tree_grid.best_params_)"
   ]
  },
  {
   "cell_type": "code",
   "execution_count": 32,
   "metadata": {},
   "outputs": [
    {
     "name": "stdout",
     "output_type": "stream",
     "text": [
      "CPU times: user 2.48 s, sys: 53.6 ms, total: 2.53 s\n",
      "Wall time: 2.54 s\n"
     ]
    },
    {
     "data": {
      "text/plain": [
       "DecisionTreeClassifier(class_weight='balanced', max_depth=12,\n",
       "                       random_state=12345)"
      ]
     },
     "execution_count": 32,
     "metadata": {},
     "output_type": "execute_result"
    }
   ],
   "source": [
    "%%time\n",
    "tree_model = DecisionTreeClassifier(random_state=12345,class_weight='balanced',max_depth=12)\n",
    "tree_model.fit(features_train_oe.drop('DateCreated',axis=1),target_train_oe)"
   ]
  },
  {
   "cell_type": "markdown",
   "metadata": {},
   "source": [
    "По итогу обучения модели случайного дерева, модель показала худший результат"
   ]
  },
  {
   "cell_type": "code",
   "execution_count": 33,
   "metadata": {},
   "outputs": [
    {
     "name": "stdout",
     "output_type": "stream",
     "text": [
      "Fitting 3 folds for each of 19 candidates, totalling 57 fits\n",
      "Лучшая модель леса показала результат: -2111.9504547569127  при параметрах = {'n_estimators': 19}\n",
      "CPU times: user 52.7 s, sys: 0 ns, total: 52.7 s\n",
      "Wall time: 53.1 s\n"
     ]
    }
   ],
   "source": [
    "%%time\n",
    "#Обучение модели LightGBM\n",
    "model_lgm = LGBMRegressor(random_state=12345)\n",
    "lgm_params = {'n_estimators':range(1,20)}\n",
    "lgm_grid = GridSearchCV(model_lgm, lgm_params, cv=3,n_jobs=-1,verbose=True,scoring='neg_root_mean_squared_error')\n",
    "lgm_grid.fit(features_train_oe.drop('DateCreated',axis=1),target_train_oe)\n",
    "print('Лучшая модель леса показала результат:',lgm_grid.best_score_,' при параметрах =', lgm_grid.best_params_)\n"
   ]
  },
  {
   "cell_type": "code",
   "execution_count": 34,
   "metadata": {},
   "outputs": [
    {
     "name": "stdout",
     "output_type": "stream",
     "text": [
      "CPU times: user 17.3 s, sys: 0 ns, total: 17.3 s\n",
      "Wall time: 17.3 s\n"
     ]
    },
    {
     "data": {
      "text/plain": [
       "LGBMRegressor(learning_rate=1, n_estimators=19, num_leaves=2048,\n",
       "              random_state=12345)"
      ]
     },
     "execution_count": 34,
     "metadata": {},
     "output_type": "execute_result"
    }
   ],
   "source": [
    "%%time\n",
    "model_lgm = LGBMRegressor(n_estimators=19, num_leaves = 2**11, learning_rate = 1, random_state=12345)\n",
    "model_lgm.fit(features_train_oe.drop('DateCreated',axis=1),target_train_oe)"
   ]
  },
  {
   "cell_type": "markdown",
   "metadata": {},
   "source": [
    "Модель LightGBM показала результаты лучше чем у линейной регрессии"
   ]
  },
  {
   "cell_type": "code",
   "execution_count": 94,
   "metadata": {},
   "outputs": [
    {
     "data": {
      "application/javascript": "IPython.OutputArea.auto_scroll_threshold = 9999999999999\n",
      "text/plain": [
       "<IPython.core.display.Javascript object>"
      ]
     },
     "metadata": {},
     "output_type": "display_data"
    }
   ],
   "source": [
    "%%javascript\n",
    "IPython.OutputArea.auto_scroll_threshold = 9999999999999"
   ]
  },
  {
   "cell_type": "code",
   "execution_count": null,
   "metadata": {
    "scrolled": true
   },
   "outputs": [],
   "source": [
    "%%time\n",
    "#Создание и обучение модели CatBoost без категорильных признаков\n",
    "features_tr2,features_valid_2,target_tr2,target_valid_2 = train_test_split(features_train_oe,target_train_oe,test_size=0.2,\n",
    "                                                                        random_state=12345, shuffle=True)\n",
    "\n",
    "model = CatBoostRegressor(\n",
    "    loss_function = 'RMSE',\n",
    "    iterations = 10000,\n",
    "    random_seed = 12345,\n",
    "    learning_rate = 1,\n",
    "    early_stopping_rounds = 3000\n",
    ")\n",
    "\n",
    "model.fit(\n",
    "    features_tr2, target_tr2,\n",
    "    eval_set=(features_valid_2, target_valid_2),\n",
    "    verbose=False,\n",
    "    plot=True\n",
    ")"
   ]
  },
  {
   "cell_type": "markdown",
   "metadata": {},
   "source": [
    "## Анализ моделей"
   ]
  },
  {
   "cell_type": "markdown",
   "metadata": {},
   "source": [
    "Для удобства воспринятия информации по данным обучения и предсказаний будет создана таблица, в дополнении к этому каждой модели будут присвоены номера от 1 до n, где n количество моделей, показывающие качество модели в значении RMSE и скорости обучения (сек). Затем выбор лучшей модели будет осуществлен по формуле:\n",
    "$$\n",
    "A = (X+Y)\n",
    "$$\n",
    "где Х- позиция по значению RMSE, Y-позиция по значению скорости обучения.  \n",
    "И модель с минимальным значением А будет наилучшим вариантом"
   ]
  },
  {
   "cell_type": "code",
   "execution_count": 36,
   "metadata": {},
   "outputs": [],
   "source": [
    "df_c = pd.DataFrame()\n",
    "df_c = df_c.reindex(['LinearRegression','DecisionTree','LightGBM','CatBoost'])\n",
    "df_c['RMSE']=[2625.912,4925.470,2111.950,1552.256]\n",
    "df_c['RMSE_place'] = [3,4,2,1]\n",
    "df_c['time_learning'] = [40,5,20,23]\n",
    "df_c['time_learning_place'] = [4,1,2,3]\n",
    "df_c['concl'] = df_c['RMSE_place']+df_c['time_learning_place']\n"
   ]
  },
  {
   "cell_type": "code",
   "execution_count": 37,
   "metadata": {
    "scrolled": false
   },
   "outputs": [
    {
     "data": {
      "text/html": [
       "<div>\n",
       "<style scoped>\n",
       "    .dataframe tbody tr th:only-of-type {\n",
       "        vertical-align: middle;\n",
       "    }\n",
       "\n",
       "    .dataframe tbody tr th {\n",
       "        vertical-align: top;\n",
       "    }\n",
       "\n",
       "    .dataframe thead th {\n",
       "        text-align: right;\n",
       "    }\n",
       "</style>\n",
       "<table border=\"1\" class=\"dataframe\">\n",
       "  <thead>\n",
       "    <tr style=\"text-align: right;\">\n",
       "      <th></th>\n",
       "      <th>RMSE</th>\n",
       "      <th>RMSE_place</th>\n",
       "      <th>time_learning</th>\n",
       "      <th>time_learning_place</th>\n",
       "      <th>concl</th>\n",
       "    </tr>\n",
       "  </thead>\n",
       "  <tbody>\n",
       "    <tr>\n",
       "      <th>LinearRegression</th>\n",
       "      <td>2625.912</td>\n",
       "      <td>3</td>\n",
       "      <td>40</td>\n",
       "      <td>4</td>\n",
       "      <td>7</td>\n",
       "    </tr>\n",
       "    <tr>\n",
       "      <th>DecisionTree</th>\n",
       "      <td>4925.470</td>\n",
       "      <td>4</td>\n",
       "      <td>5</td>\n",
       "      <td>1</td>\n",
       "      <td>5</td>\n",
       "    </tr>\n",
       "    <tr>\n",
       "      <th>LightGBM</th>\n",
       "      <td>2111.950</td>\n",
       "      <td>2</td>\n",
       "      <td>20</td>\n",
       "      <td>2</td>\n",
       "      <td>4</td>\n",
       "    </tr>\n",
       "    <tr>\n",
       "      <th>CatBoost</th>\n",
       "      <td>1552.256</td>\n",
       "      <td>1</td>\n",
       "      <td>23</td>\n",
       "      <td>3</td>\n",
       "      <td>4</td>\n",
       "    </tr>\n",
       "  </tbody>\n",
       "</table>\n",
       "</div>"
      ],
      "text/plain": [
       "                      RMSE  RMSE_place  time_learning  time_learning_place  \\\n",
       "LinearRegression  2625.912           3             40                    4   \n",
       "DecisionTree      4925.470           4              5                    1   \n",
       "LightGBM          2111.950           2             20                    2   \n",
       "CatBoost          1552.256           1             23                    3   \n",
       "\n",
       "                  concl  \n",
       "LinearRegression      7  \n",
       "DecisionTree          5  \n",
       "LightGBM              4  \n",
       "CatBoost              4  "
      ]
     },
     "execution_count": 37,
     "metadata": {},
     "output_type": "execute_result"
    }
   ],
   "source": [
    "df_c"
   ]
  },
  {
   "cell_type": "markdown",
   "metadata": {},
   "source": [
    "По итогу мы видим, что самыми лучшими моделями оказались: CatBoost и LightGBM, LightGBM оказалась лучше всех в скорости обучения, но разница с CatBoost составляет лишь 3 сек, в то время как Catboost показал более лучшие результаты RMSE, что приводит к выводу, что использовать лучше всего именно его"
   ]
  },
  {
   "cell_type": "markdown",
   "metadata": {},
   "source": [
    "# Тестирование лучшей модели"
   ]
  },
  {
   "cell_type": "code",
   "execution_count": 38,
   "metadata": {},
   "outputs": [
    {
     "name": "stdout",
     "output_type": "stream",
     "text": [
      "Итоговые результат RMSE лучшей модели (CatBoost) составил: 1558.914375937537\n"
     ]
    }
   ],
   "source": [
    "predictions = model.predict(features_test_oe)\n",
    "print('Итоговые результат RMSE лучшей модели (CatBoost) составил:',mean_squared_error(predictions,target_test_oe,squared=False))"
   ]
  }
 ],
 "metadata": {
  "ExecuteTimeLog": [
   {
    "duration": 9,
    "start_time": "2022-11-10T19:27:42.794Z"
   },
   {
    "duration": 3,
    "start_time": "2022-11-10T19:27:47.345Z"
   },
   {
    "duration": 5,
    "start_time": "2022-11-10T19:28:26.976Z"
   },
   {
    "duration": 440,
    "start_time": "2022-11-10T19:29:37.995Z"
   },
   {
    "duration": 1115,
    "start_time": "2022-11-10T19:32:02.364Z"
   },
   {
    "duration": 3023,
    "start_time": "2022-11-10T19:32:43.265Z"
   },
   {
    "duration": 16,
    "start_time": "2022-11-10T19:33:01.948Z"
   },
   {
    "duration": 24,
    "start_time": "2022-11-10T19:33:15.822Z"
   },
   {
    "duration": 96,
    "start_time": "2022-11-10T19:33:25.480Z"
   },
   {
    "duration": 1467,
    "start_time": "2022-11-10T19:33:37.824Z"
   },
   {
    "duration": 154,
    "start_time": "2022-11-10T19:33:56.752Z"
   },
   {
    "duration": 9,
    "start_time": "2022-11-10T19:34:02.160Z"
   },
   {
    "duration": 143,
    "start_time": "2022-11-10T19:34:32.545Z"
   },
   {
    "duration": 9,
    "start_time": "2022-11-10T19:41:06.945Z"
   },
   {
    "duration": 9,
    "start_time": "2022-11-10T19:41:15.309Z"
   },
   {
    "duration": 5,
    "start_time": "2022-11-10T19:58:39.081Z"
   },
   {
    "duration": 8,
    "start_time": "2022-11-10T19:59:00.006Z"
   },
   {
    "duration": 11,
    "start_time": "2022-11-10T19:59:32.627Z"
   },
   {
    "duration": 13,
    "start_time": "2022-11-10T20:00:15.425Z"
   },
   {
    "duration": 198,
    "start_time": "2022-11-10T20:02:45.874Z"
   },
   {
    "duration": 199,
    "start_time": "2022-11-10T20:03:16.058Z"
   },
   {
    "duration": 237,
    "start_time": "2022-11-10T20:03:22.221Z"
   },
   {
    "duration": 241,
    "start_time": "2022-11-10T20:03:36.261Z"
   },
   {
    "duration": 17,
    "start_time": "2022-11-10T20:08:14.158Z"
   },
   {
    "duration": 34,
    "start_time": "2022-11-10T20:08:38.573Z"
   },
   {
    "duration": 40,
    "start_time": "2022-11-10T20:08:42.105Z"
   },
   {
    "duration": 35,
    "start_time": "2022-11-10T20:09:04.988Z"
   },
   {
    "duration": 1336,
    "start_time": "2022-11-10T20:09:17.988Z"
   },
   {
    "duration": 1050,
    "start_time": "2022-11-10T20:09:19.326Z"
   },
   {
    "duration": 15,
    "start_time": "2022-11-10T20:09:20.378Z"
   },
   {
    "duration": 175,
    "start_time": "2022-11-10T20:09:20.395Z"
   },
   {
    "duration": 174,
    "start_time": "2022-11-10T20:09:20.572Z"
   },
   {
    "duration": 226,
    "start_time": "2022-11-10T20:09:20.748Z"
   },
   {
    "duration": 37,
    "start_time": "2022-11-10T20:09:20.975Z"
   },
   {
    "duration": 134,
    "start_time": "2022-11-10T20:09:51.040Z"
   },
   {
    "duration": 30,
    "start_time": "2022-11-10T20:09:57.031Z"
   },
   {
    "duration": 152,
    "start_time": "2022-11-10T20:10:25.876Z"
   },
   {
    "duration": 24,
    "start_time": "2022-11-10T20:10:28.783Z"
   },
   {
    "duration": 12,
    "start_time": "2022-11-10T20:10:39.833Z"
   },
   {
    "duration": 23,
    "start_time": "2022-11-10T20:10:40.873Z"
   },
   {
    "duration": 16,
    "start_time": "2022-11-10T20:11:03.346Z"
   },
   {
    "duration": 25,
    "start_time": "2022-11-10T20:11:05.579Z"
   },
   {
    "duration": 13,
    "start_time": "2022-11-10T20:11:18.123Z"
   },
   {
    "duration": 25,
    "start_time": "2022-11-10T20:11:18.561Z"
   },
   {
    "duration": 132,
    "start_time": "2022-11-10T20:11:24.369Z"
   },
   {
    "duration": 2,
    "start_time": "2022-11-10T20:11:48.357Z"
   },
   {
    "duration": 773,
    "start_time": "2022-11-10T20:13:06.765Z"
   },
   {
    "duration": 5,
    "start_time": "2022-11-10T20:13:18.602Z"
   },
   {
    "duration": 173,
    "start_time": "2022-11-10T20:13:27.710Z"
   },
   {
    "duration": 22,
    "start_time": "2022-11-10T20:13:29.079Z"
   },
   {
    "duration": 130,
    "start_time": "2022-11-10T20:13:37.496Z"
   },
   {
    "duration": 231,
    "start_time": "2022-11-10T20:14:47.459Z"
   },
   {
    "duration": 161,
    "start_time": "2022-11-10T20:14:57.148Z"
   },
   {
    "duration": 177,
    "start_time": "2022-11-10T20:15:03.082Z"
   },
   {
    "duration": 117,
    "start_time": "2022-11-10T20:15:03.759Z"
   },
   {
    "duration": 4,
    "start_time": "2022-11-10T20:15:50.412Z"
   },
   {
    "duration": 131,
    "start_time": "2022-11-10T20:19:20.301Z"
   },
   {
    "duration": 45,
    "start_time": "2022-11-10T20:26:20.932Z"
   },
   {
    "duration": 162,
    "start_time": "2022-11-10T20:26:29.149Z"
   },
   {
    "duration": 290,
    "start_time": "2022-11-10T20:26:42.075Z"
   },
   {
    "duration": 4,
    "start_time": "2022-11-10T20:27:08.054Z"
   },
   {
    "duration": 193,
    "start_time": "2022-11-10T20:27:19.357Z"
   },
   {
    "duration": 316,
    "start_time": "2022-11-10T20:28:43.153Z"
   },
   {
    "duration": 183,
    "start_time": "2022-11-10T20:30:16.691Z"
   },
   {
    "duration": 89,
    "start_time": "2022-11-10T20:34:31.801Z"
   },
   {
    "duration": 132,
    "start_time": "2022-11-10T20:34:47.551Z"
   },
   {
    "duration": 308,
    "start_time": "2022-11-10T20:35:49.960Z"
   },
   {
    "duration": 249,
    "start_time": "2022-11-10T20:35:59.424Z"
   },
   {
    "duration": 123,
    "start_time": "2022-11-10T20:36:02.323Z"
   },
   {
    "duration": 14,
    "start_time": "2022-11-10T20:38:31.961Z"
   },
   {
    "duration": 10,
    "start_time": "2022-11-10T20:38:36.886Z"
   },
   {
    "duration": 397,
    "start_time": "2022-11-10T20:38:52.523Z"
   },
   {
    "duration": 363,
    "start_time": "2022-11-10T20:39:02.953Z"
   },
   {
    "duration": 403,
    "start_time": "2022-11-10T20:39:43.819Z"
   },
   {
    "duration": 405,
    "start_time": "2022-11-10T20:41:18.076Z"
   },
   {
    "duration": 534,
    "start_time": "2022-11-10T20:41:24.149Z"
   },
   {
    "duration": 498,
    "start_time": "2022-11-10T20:41:35.680Z"
   },
   {
    "duration": 1782,
    "start_time": "2022-11-11T11:40:04.894Z"
   },
   {
    "duration": 971,
    "start_time": "2022-11-11T11:40:06.678Z"
   },
   {
    "duration": 16,
    "start_time": "2022-11-11T11:40:07.651Z"
   },
   {
    "duration": 130,
    "start_time": "2022-11-11T11:40:07.669Z"
   },
   {
    "duration": 110,
    "start_time": "2022-11-11T11:40:07.800Z"
   },
   {
    "duration": 157,
    "start_time": "2022-11-11T11:40:07.911Z"
   },
   {
    "duration": 147,
    "start_time": "2022-11-11T11:40:08.070Z"
   },
   {
    "duration": 164,
    "start_time": "2022-11-11T11:40:08.218Z"
   },
   {
    "duration": 103,
    "start_time": "2022-11-11T11:40:08.384Z"
   },
   {
    "duration": 5,
    "start_time": "2022-11-11T11:40:08.489Z"
   },
   {
    "duration": 247,
    "start_time": "2022-11-11T11:40:08.496Z"
   },
   {
    "duration": 3,
    "start_time": "2022-11-11T11:40:08.745Z"
   },
   {
    "duration": 213,
    "start_time": "2022-11-11T11:40:08.749Z"
   },
   {
    "duration": 444,
    "start_time": "2022-11-11T11:40:08.964Z"
   },
   {
    "duration": 66,
    "start_time": "2022-11-11T11:45:28.662Z"
   },
   {
    "duration": 53,
    "start_time": "2022-11-11T11:45:35.754Z"
   },
   {
    "duration": 133,
    "start_time": "2022-11-11T11:48:25.212Z"
   },
   {
    "duration": 117,
    "start_time": "2022-11-11T11:48:35.933Z"
   },
   {
    "duration": 85,
    "start_time": "2022-11-11T11:50:24.338Z"
   },
   {
    "duration": 102,
    "start_time": "2022-11-11T11:50:56.033Z"
   },
   {
    "duration": 6,
    "start_time": "2022-11-11T11:50:59.273Z"
   },
   {
    "duration": 10,
    "start_time": "2022-11-11T11:51:03.574Z"
   },
   {
    "duration": 7,
    "start_time": "2022-11-11T11:51:19.193Z"
   },
   {
    "duration": 129,
    "start_time": "2022-11-11T11:52:16.744Z"
   },
   {
    "duration": 14,
    "start_time": "2022-11-11T11:53:49.393Z"
   },
   {
    "duration": 124,
    "start_time": "2022-11-11T11:53:56.423Z"
   },
   {
    "duration": 190,
    "start_time": "2022-11-11T11:54:08.892Z"
   },
   {
    "duration": 141,
    "start_time": "2022-11-11T11:54:19.942Z"
   },
   {
    "duration": 112,
    "start_time": "2022-11-11T11:56:40.585Z"
   },
   {
    "duration": 56,
    "start_time": "2022-11-11T12:01:16.492Z"
   },
   {
    "duration": 21,
    "start_time": "2022-11-11T12:01:24.573Z"
   },
   {
    "duration": 78,
    "start_time": "2022-11-11T12:01:29.265Z"
   },
   {
    "duration": 10,
    "start_time": "2022-11-11T12:05:23.483Z"
   },
   {
    "duration": 9,
    "start_time": "2022-11-11T12:05:42.235Z"
   },
   {
    "duration": 4,
    "start_time": "2022-11-11T12:06:06.094Z"
   },
   {
    "duration": 2478,
    "start_time": "2022-11-11T12:06:10.174Z"
   },
   {
    "duration": 24,
    "start_time": "2022-11-11T12:06:18.503Z"
   },
   {
    "duration": 5,
    "start_time": "2022-11-11T12:08:18.983Z"
   },
   {
    "duration": 3,
    "start_time": "2022-11-11T12:08:27.692Z"
   },
   {
    "duration": 167,
    "start_time": "2022-11-11T12:12:51.254Z"
   },
   {
    "duration": 1354,
    "start_time": "2022-11-11T12:13:02.225Z"
   },
   {
    "duration": 735,
    "start_time": "2022-11-11T12:13:03.581Z"
   },
   {
    "duration": 15,
    "start_time": "2022-11-11T12:13:04.318Z"
   },
   {
    "duration": 101,
    "start_time": "2022-11-11T12:13:04.335Z"
   },
   {
    "duration": 119,
    "start_time": "2022-11-11T12:13:04.439Z"
   },
   {
    "duration": 176,
    "start_time": "2022-11-11T12:13:04.560Z"
   },
   {
    "duration": 134,
    "start_time": "2022-11-11T12:13:04.738Z"
   },
   {
    "duration": 145,
    "start_time": "2022-11-11T12:13:04.873Z"
   },
   {
    "duration": 91,
    "start_time": "2022-11-11T12:13:05.020Z"
   },
   {
    "duration": 5,
    "start_time": "2022-11-11T12:13:05.112Z"
   },
   {
    "duration": 247,
    "start_time": "2022-11-11T12:13:05.119Z"
   },
   {
    "duration": 4,
    "start_time": "2022-11-11T12:13:05.368Z"
   },
   {
    "duration": 203,
    "start_time": "2022-11-11T12:13:05.374Z"
   },
   {
    "duration": 450,
    "start_time": "2022-11-11T12:13:05.580Z"
   },
   {
    "duration": 147,
    "start_time": "2022-11-11T12:13:06.032Z"
   },
   {
    "duration": 143,
    "start_time": "2022-11-11T12:13:06.181Z"
   },
   {
    "duration": 137,
    "start_time": "2022-11-11T12:13:06.326Z"
   },
   {
    "duration": 50,
    "start_time": "2022-11-11T12:13:06.465Z"
   },
   {
    "duration": 97,
    "start_time": "2022-11-11T12:13:06.517Z"
   },
   {
    "duration": 2503,
    "start_time": "2022-11-11T12:13:06.616Z"
   },
   {
    "duration": 183,
    "start_time": "2022-11-11T12:13:09.122Z"
   },
   {
    "duration": 19,
    "start_time": "2022-11-11T12:13:17.353Z"
   },
   {
    "duration": 54,
    "start_time": "2022-11-11T12:18:11.503Z"
   },
   {
    "duration": 165,
    "start_time": "2022-11-11T12:18:22.856Z"
   },
   {
    "duration": 1268,
    "start_time": "2022-11-11T12:18:56.716Z"
   },
   {
    "duration": 690,
    "start_time": "2022-11-11T12:18:57.986Z"
   },
   {
    "duration": 15,
    "start_time": "2022-11-11T12:18:58.677Z"
   },
   {
    "duration": 103,
    "start_time": "2022-11-11T12:18:58.694Z"
   },
   {
    "duration": 110,
    "start_time": "2022-11-11T12:18:58.798Z"
   },
   {
    "duration": 157,
    "start_time": "2022-11-11T12:18:58.910Z"
   },
   {
    "duration": 124,
    "start_time": "2022-11-11T12:18:59.069Z"
   },
   {
    "duration": 136,
    "start_time": "2022-11-11T12:18:59.194Z"
   },
   {
    "duration": 85,
    "start_time": "2022-11-11T12:18:59.332Z"
   },
   {
    "duration": 4,
    "start_time": "2022-11-11T12:18:59.419Z"
   },
   {
    "duration": 236,
    "start_time": "2022-11-11T12:18:59.424Z"
   },
   {
    "duration": 3,
    "start_time": "2022-11-11T12:18:59.662Z"
   },
   {
    "duration": 265,
    "start_time": "2022-11-11T12:18:59.667Z"
   },
   {
    "duration": 421,
    "start_time": "2022-11-11T12:18:59.934Z"
   },
   {
    "duration": 141,
    "start_time": "2022-11-11T12:19:00.356Z"
   },
   {
    "duration": 145,
    "start_time": "2022-11-11T12:19:00.499Z"
   },
   {
    "duration": 126,
    "start_time": "2022-11-11T12:19:00.646Z"
   },
   {
    "duration": 54,
    "start_time": "2022-11-11T12:19:00.774Z"
   },
   {
    "duration": 85,
    "start_time": "2022-11-11T12:19:00.830Z"
   },
   {
    "duration": 2481,
    "start_time": "2022-11-11T12:19:00.917Z"
   },
   {
    "duration": 19,
    "start_time": "2022-11-11T12:19:03.400Z"
   },
   {
    "duration": 19,
    "start_time": "2022-11-11T12:20:21.132Z"
   },
   {
    "duration": 20,
    "start_time": "2022-11-11T12:23:22.351Z"
   },
   {
    "duration": 136,
    "start_time": "2022-11-11T12:23:58.233Z"
   },
   {
    "duration": 4,
    "start_time": "2022-11-11T12:24:59.335Z"
   },
   {
    "duration": 171,
    "start_time": "2022-11-11T12:28:31.511Z"
   },
   {
    "duration": 79,
    "start_time": "2022-11-11T12:28:38.201Z"
   },
   {
    "duration": 79,
    "start_time": "2022-11-11T12:28:43.642Z"
   },
   {
    "duration": 4,
    "start_time": "2022-11-11T12:29:10.522Z"
   },
   {
    "duration": 75,
    "start_time": "2022-11-11T12:29:14.931Z"
   },
   {
    "duration": 146,
    "start_time": "2022-11-11T12:29:36.034Z"
   },
   {
    "duration": 141,
    "start_time": "2022-11-11T12:29:45.242Z"
   },
   {
    "duration": 97,
    "start_time": "2022-11-11T12:29:52.322Z"
   },
   {
    "duration": 109,
    "start_time": "2022-11-11T12:30:00.891Z"
   },
   {
    "duration": 85,
    "start_time": "2022-11-11T12:31:31.871Z"
   },
   {
    "duration": 2135,
    "start_time": "2022-11-11T12:46:07.020Z"
   },
   {
    "duration": 2134,
    "start_time": "2022-11-11T12:46:20.021Z"
   },
   {
    "duration": 2194,
    "start_time": "2022-11-11T12:46:31.972Z"
   },
   {
    "duration": 2164,
    "start_time": "2022-11-11T12:47:23.500Z"
   },
   {
    "duration": 102,
    "start_time": "2022-11-11T12:47:28.867Z"
   },
   {
    "duration": 2121,
    "start_time": "2022-11-11T12:47:33.332Z"
   },
   {
    "duration": 2181,
    "start_time": "2022-11-11T12:47:37.972Z"
   },
   {
    "duration": 9,
    "start_time": "2022-11-11T12:51:01.671Z"
   },
   {
    "duration": 47,
    "start_time": "2022-11-11T12:51:29.872Z"
   },
   {
    "duration": 57,
    "start_time": "2022-11-11T12:52:03.759Z"
   },
   {
    "duration": 5,
    "start_time": "2022-11-11T12:52:13.715Z"
   },
   {
    "duration": 6,
    "start_time": "2022-11-11T12:52:18.281Z"
   },
   {
    "duration": 1790,
    "start_time": "2022-11-11T12:52:41.972Z"
   },
   {
    "duration": 9,
    "start_time": "2022-11-11T12:53:29.681Z"
   },
   {
    "duration": 4,
    "start_time": "2022-11-11T12:53:40.751Z"
   },
   {
    "duration": 11,
    "start_time": "2022-11-11T12:54:23.792Z"
   },
   {
    "duration": 163,
    "start_time": "2022-11-11T12:55:07.189Z"
   },
   {
    "duration": 6,
    "start_time": "2022-11-11T12:55:11.992Z"
   },
   {
    "duration": 12,
    "start_time": "2022-11-11T12:58:25.932Z"
   },
   {
    "duration": 4,
    "start_time": "2022-11-11T12:58:43.879Z"
   },
   {
    "duration": 6,
    "start_time": "2022-11-11T12:58:48.989Z"
   },
   {
    "duration": 4,
    "start_time": "2022-11-11T12:59:09.042Z"
   },
   {
    "duration": 7,
    "start_time": "2022-11-11T13:00:22.560Z"
   },
   {
    "duration": 4,
    "start_time": "2022-11-11T13:00:23.973Z"
   },
   {
    "duration": 10998,
    "start_time": "2022-11-11T13:02:33.582Z"
   },
   {
    "duration": 3,
    "start_time": "2022-11-11T13:02:50.193Z"
   },
   {
    "duration": 241482,
    "start_time": "2022-11-11T13:02:55.404Z"
   },
   {
    "duration": 1611,
    "start_time": "2022-11-11T21:16:51.959Z"
   },
   {
    "duration": 2839,
    "start_time": "2022-11-11T21:16:53.573Z"
   },
   {
    "duration": 25,
    "start_time": "2022-11-11T21:16:56.414Z"
   },
   {
    "duration": 118,
    "start_time": "2022-11-11T21:16:56.442Z"
   },
   {
    "duration": 130,
    "start_time": "2022-11-11T21:16:56.562Z"
   },
   {
    "duration": 197,
    "start_time": "2022-11-11T21:16:56.694Z"
   },
   {
    "duration": 155,
    "start_time": "2022-11-11T21:16:56.892Z"
   },
   {
    "duration": 152,
    "start_time": "2022-11-11T21:16:57.049Z"
   },
   {
    "duration": 94,
    "start_time": "2022-11-11T21:16:57.203Z"
   },
   {
    "duration": 4,
    "start_time": "2022-11-11T21:16:57.300Z"
   },
   {
    "duration": 275,
    "start_time": "2022-11-11T21:16:57.305Z"
   },
   {
    "duration": 5,
    "start_time": "2022-11-11T21:16:57.582Z"
   },
   {
    "duration": 289,
    "start_time": "2022-11-11T21:16:57.589Z"
   },
   {
    "duration": 495,
    "start_time": "2022-11-11T21:16:57.881Z"
   },
   {
    "duration": 169,
    "start_time": "2022-11-11T21:16:58.378Z"
   },
   {
    "duration": 161,
    "start_time": "2022-11-11T21:16:58.549Z"
   },
   {
    "duration": 151,
    "start_time": "2022-11-11T21:16:58.712Z"
   },
   {
    "duration": 59,
    "start_time": "2022-11-11T21:16:58.865Z"
   },
   {
    "duration": 84,
    "start_time": "2022-11-11T21:16:58.926Z"
   },
   {
    "duration": 2687,
    "start_time": "2022-11-11T21:16:59.020Z"
   },
   {
    "duration": 26,
    "start_time": "2022-11-11T21:17:01.709Z"
   },
   {
    "duration": 193,
    "start_time": "2022-11-11T21:17:01.737Z"
   },
   {
    "duration": 0,
    "start_time": "2022-11-11T21:17:01.932Z"
   },
   {
    "duration": 0,
    "start_time": "2022-11-11T21:17:01.933Z"
   },
   {
    "duration": 0,
    "start_time": "2022-11-11T21:17:01.935Z"
   },
   {
    "duration": 0,
    "start_time": "2022-11-11T21:17:01.936Z"
   },
   {
    "duration": 154,
    "start_time": "2022-11-11T21:17:19.939Z"
   },
   {
    "duration": 57,
    "start_time": "2022-11-11T21:17:21.368Z"
   },
   {
    "duration": 179,
    "start_time": "2022-11-11T21:17:21.960Z"
   },
   {
    "duration": 9,
    "start_time": "2022-11-11T21:17:24.000Z"
   },
   {
    "duration": 190,
    "start_time": "2022-11-11T21:17:32.531Z"
   },
   {
    "duration": 203,
    "start_time": "2022-11-11T21:17:34.520Z"
   },
   {
    "duration": 217,
    "start_time": "2022-11-11T21:17:36.105Z"
   },
   {
    "duration": 59,
    "start_time": "2022-11-11T21:18:03.082Z"
   },
   {
    "duration": 167790,
    "start_time": "2022-11-11T21:18:30.810Z"
   },
   {
    "duration": 40623,
    "start_time": "2022-11-11T21:21:22.377Z"
   },
   {
    "duration": 559308,
    "start_time": "2022-11-11T21:25:21.306Z"
   },
   {
    "duration": 18147,
    "start_time": "2022-11-11T21:54:22.018Z"
   },
   {
    "duration": 2151552,
    "start_time": "2022-11-11T21:54:49.391Z"
   },
   {
    "duration": 102,
    "start_time": "2022-11-11T23:40:40.698Z"
   },
   {
    "duration": 211281,
    "start_time": "2022-11-11T23:40:58.935Z"
   },
   {
    "duration": 1229,
    "start_time": "2022-11-11T23:46:02.500Z"
   },
   {
    "duration": 701,
    "start_time": "2022-11-11T23:46:28.270Z"
   },
   {
    "duration": 699,
    "start_time": "2022-11-11T23:47:17.440Z"
   },
   {
    "duration": 33922314,
    "start_time": "2022-11-11T23:48:23.834Z"
   },
   {
    "duration": 191912,
    "start_time": "2022-11-12T09:14:02.915Z"
   },
   {
    "duration": 218547,
    "start_time": "2022-11-12T09:18:23.234Z"
   },
   {
    "duration": 5,
    "start_time": "2022-11-12T09:22:13.865Z"
   },
   {
    "duration": 4,
    "start_time": "2022-11-12T09:25:07.255Z"
   },
   {
    "duration": 9,
    "start_time": "2022-11-12T09:25:13.304Z"
   },
   {
    "duration": 52,
    "start_time": "2022-11-12T09:27:44.572Z"
   },
   {
    "duration": 47,
    "start_time": "2022-11-12T09:27:54.733Z"
   },
   {
    "duration": 1420,
    "start_time": "2022-11-12T10:20:20.208Z"
   },
   {
    "duration": 2777,
    "start_time": "2022-11-12T10:20:21.631Z"
   },
   {
    "duration": 17,
    "start_time": "2022-11-12T10:20:24.410Z"
   },
   {
    "duration": 106,
    "start_time": "2022-11-12T10:20:24.429Z"
   },
   {
    "duration": 122,
    "start_time": "2022-11-12T10:20:24.537Z"
   },
   {
    "duration": 192,
    "start_time": "2022-11-12T10:20:24.661Z"
   },
   {
    "duration": 149,
    "start_time": "2022-11-12T10:20:24.855Z"
   },
   {
    "duration": 161,
    "start_time": "2022-11-12T10:20:25.005Z"
   },
   {
    "duration": 93,
    "start_time": "2022-11-12T10:20:25.168Z"
   },
   {
    "duration": 10,
    "start_time": "2022-11-12T10:20:25.265Z"
   },
   {
    "duration": 289,
    "start_time": "2022-11-12T10:20:25.277Z"
   },
   {
    "duration": 4,
    "start_time": "2022-11-12T10:20:25.567Z"
   },
   {
    "duration": 303,
    "start_time": "2022-11-12T10:20:25.572Z"
   },
   {
    "duration": 519,
    "start_time": "2022-11-12T10:20:25.876Z"
   },
   {
    "duration": 198,
    "start_time": "2022-11-12T10:20:26.398Z"
   },
   {
    "duration": 162,
    "start_time": "2022-11-12T10:20:26.597Z"
   },
   {
    "duration": 148,
    "start_time": "2022-11-12T10:20:26.760Z"
   },
   {
    "duration": 65,
    "start_time": "2022-11-12T10:20:26.909Z"
   },
   {
    "duration": 95,
    "start_time": "2022-11-12T10:20:26.975Z"
   },
   {
    "duration": 2880,
    "start_time": "2022-11-12T10:20:27.072Z"
   },
   {
    "duration": 22,
    "start_time": "2022-11-12T10:20:29.954Z"
   },
   {
    "duration": 244,
    "start_time": "2022-11-12T10:20:29.977Z"
   },
   {
    "duration": 59,
    "start_time": "2022-11-12T10:20:30.225Z"
   },
   {
    "duration": 238,
    "start_time": "2022-11-12T10:20:30.285Z"
   },
   {
    "duration": 95,
    "start_time": "2022-11-12T10:20:30.526Z"
   },
   {
    "duration": 7094,
    "start_time": "2022-11-12T10:20:33.192Z"
   },
   {
    "duration": 454834,
    "start_time": "2022-11-12T10:20:45.801Z"
   },
   {
    "duration": 62,
    "start_time": "2022-11-12T10:32:09.561Z"
   },
   {
    "duration": 74,
    "start_time": "2022-11-12T10:32:10.145Z"
   },
   {
    "duration": 379761,
    "start_time": "2022-11-12T10:32:26.235Z"
   },
   {
    "duration": 107,
    "start_time": "2022-11-12T10:39:08.263Z"
   },
   {
    "duration": 45,
    "start_time": "2022-11-12T10:39:25.912Z"
   },
   {
    "duration": 1471,
    "start_time": "2022-11-12T10:39:35.322Z"
   },
   {
    "duration": 2794,
    "start_time": "2022-11-12T10:39:36.795Z"
   },
   {
    "duration": 17,
    "start_time": "2022-11-12T10:39:39.590Z"
   },
   {
    "duration": 103,
    "start_time": "2022-11-12T10:39:39.609Z"
   },
   {
    "duration": 118,
    "start_time": "2022-11-12T10:39:39.718Z"
   },
   {
    "duration": 173,
    "start_time": "2022-11-12T10:39:39.837Z"
   },
   {
    "duration": 152,
    "start_time": "2022-11-12T10:39:40.012Z"
   },
   {
    "duration": 160,
    "start_time": "2022-11-12T10:39:40.166Z"
   },
   {
    "duration": 99,
    "start_time": "2022-11-12T10:39:40.328Z"
   },
   {
    "duration": 4,
    "start_time": "2022-11-12T10:39:40.429Z"
   },
   {
    "duration": 268,
    "start_time": "2022-11-12T10:39:40.434Z"
   },
   {
    "duration": 4,
    "start_time": "2022-11-12T10:39:40.704Z"
   },
   {
    "duration": 302,
    "start_time": "2022-11-12T10:39:40.710Z"
   },
   {
    "duration": 507,
    "start_time": "2022-11-12T10:39:41.015Z"
   },
   {
    "duration": 165,
    "start_time": "2022-11-12T10:39:41.523Z"
   },
   {
    "duration": 158,
    "start_time": "2022-11-12T10:39:41.690Z"
   },
   {
    "duration": 139,
    "start_time": "2022-11-12T10:39:41.849Z"
   },
   {
    "duration": 70,
    "start_time": "2022-11-12T10:39:41.990Z"
   },
   {
    "duration": 84,
    "start_time": "2022-11-12T10:39:42.062Z"
   },
   {
    "duration": 2741,
    "start_time": "2022-11-12T10:39:42.148Z"
   },
   {
    "duration": 20,
    "start_time": "2022-11-12T10:39:44.890Z"
   },
   {
    "duration": 227,
    "start_time": "2022-11-12T10:39:44.912Z"
   },
   {
    "duration": 57,
    "start_time": "2022-11-12T10:39:45.140Z"
   },
   {
    "duration": 222,
    "start_time": "2022-11-12T10:39:45.198Z"
   },
   {
    "duration": 101,
    "start_time": "2022-11-12T10:39:45.423Z"
   },
   {
    "duration": 212633,
    "start_time": "2022-11-12T10:39:45.526Z"
   },
   {
    "duration": 713,
    "start_time": "2022-11-12T10:43:18.161Z"
   },
   {
    "duration": 379413,
    "start_time": "2022-11-12T10:43:18.876Z"
   },
   {
    "duration": 100,
    "start_time": "2022-11-12T11:14:46.561Z"
   },
   {
    "duration": 1375,
    "start_time": "2022-11-12T11:14:54.367Z"
   },
   {
    "duration": 2917,
    "start_time": "2022-11-12T11:14:55.743Z"
   },
   {
    "duration": 17,
    "start_time": "2022-11-12T11:14:58.662Z"
   },
   {
    "duration": 148,
    "start_time": "2022-11-12T11:14:58.680Z"
   },
   {
    "duration": 118,
    "start_time": "2022-11-12T11:14:58.830Z"
   },
   {
    "duration": 190,
    "start_time": "2022-11-12T11:14:58.949Z"
   },
   {
    "duration": 148,
    "start_time": "2022-11-12T11:14:59.141Z"
   },
   {
    "duration": 168,
    "start_time": "2022-11-12T11:14:59.291Z"
   },
   {
    "duration": 103,
    "start_time": "2022-11-12T11:14:59.461Z"
   },
   {
    "duration": 5,
    "start_time": "2022-11-12T11:14:59.566Z"
   },
   {
    "duration": 280,
    "start_time": "2022-11-12T11:14:59.573Z"
   },
   {
    "duration": 5,
    "start_time": "2022-11-12T11:14:59.855Z"
   },
   {
    "duration": 332,
    "start_time": "2022-11-12T11:14:59.862Z"
   },
   {
    "duration": 498,
    "start_time": "2022-11-12T11:15:00.198Z"
   },
   {
    "duration": 168,
    "start_time": "2022-11-12T11:15:00.698Z"
   },
   {
    "duration": 163,
    "start_time": "2022-11-12T11:15:00.869Z"
   },
   {
    "duration": 149,
    "start_time": "2022-11-12T11:15:01.034Z"
   },
   {
    "duration": 69,
    "start_time": "2022-11-12T11:15:01.185Z"
   },
   {
    "duration": 81,
    "start_time": "2022-11-12T11:15:01.256Z"
   },
   {
    "duration": 2669,
    "start_time": "2022-11-12T11:15:01.339Z"
   },
   {
    "duration": 21,
    "start_time": "2022-11-12T11:15:04.010Z"
   },
   {
    "duration": 222,
    "start_time": "2022-11-12T11:15:04.033Z"
   },
   {
    "duration": 64,
    "start_time": "2022-11-12T11:15:04.256Z"
   },
   {
    "duration": 205,
    "start_time": "2022-11-12T11:15:04.322Z"
   },
   {
    "duration": 100,
    "start_time": "2022-11-12T11:15:04.529Z"
   },
   {
    "duration": 208099,
    "start_time": "2022-11-12T11:15:04.634Z"
   },
   {
    "duration": 703,
    "start_time": "2022-11-12T11:18:32.736Z"
   },
   {
    "duration": 42490,
    "start_time": "2022-11-12T11:18:33.442Z"
   },
   {
    "duration": 13870,
    "start_time": "2022-11-12T11:19:15.934Z"
   },
   {
    "duration": 23,
    "start_time": "2022-11-12T11:19:29.805Z"
   },
   {
    "duration": 25,
    "start_time": "2022-11-12T11:22:15.432Z"
   },
   {
    "duration": 157406,
    "start_time": "2022-11-12T11:29:38.711Z"
   },
   {
    "duration": 97,
    "start_time": "2022-11-12T11:35:38.652Z"
   },
   {
    "duration": 1416,
    "start_time": "2022-11-12T11:35:44.480Z"
   },
   {
    "duration": 2853,
    "start_time": "2022-11-12T11:35:45.898Z"
   },
   {
    "duration": 20,
    "start_time": "2022-11-12T11:35:48.753Z"
   },
   {
    "duration": 110,
    "start_time": "2022-11-12T11:35:48.776Z"
   },
   {
    "duration": 119,
    "start_time": "2022-11-12T11:35:48.888Z"
   },
   {
    "duration": 192,
    "start_time": "2022-11-12T11:35:49.009Z"
   },
   {
    "duration": 157,
    "start_time": "2022-11-12T11:35:49.203Z"
   },
   {
    "duration": 162,
    "start_time": "2022-11-12T11:35:49.362Z"
   },
   {
    "duration": 96,
    "start_time": "2022-11-12T11:35:49.526Z"
   },
   {
    "duration": 6,
    "start_time": "2022-11-12T11:35:49.624Z"
   },
   {
    "duration": 255,
    "start_time": "2022-11-12T11:35:49.632Z"
   },
   {
    "duration": 3,
    "start_time": "2022-11-12T11:35:49.889Z"
   },
   {
    "duration": 306,
    "start_time": "2022-11-12T11:35:49.894Z"
   },
   {
    "duration": 465,
    "start_time": "2022-11-12T11:35:50.201Z"
   },
   {
    "duration": 182,
    "start_time": "2022-11-12T11:35:50.668Z"
   },
   {
    "duration": 166,
    "start_time": "2022-11-12T11:35:50.853Z"
   },
   {
    "duration": 139,
    "start_time": "2022-11-12T11:35:51.021Z"
   },
   {
    "duration": 67,
    "start_time": "2022-11-12T11:35:51.162Z"
   },
   {
    "duration": 90,
    "start_time": "2022-11-12T11:35:51.231Z"
   },
   {
    "duration": 2748,
    "start_time": "2022-11-12T11:35:51.323Z"
   },
   {
    "duration": 22,
    "start_time": "2022-11-12T11:35:54.073Z"
   },
   {
    "duration": 239,
    "start_time": "2022-11-12T11:35:54.097Z"
   },
   {
    "duration": 72,
    "start_time": "2022-11-12T11:35:54.338Z"
   },
   {
    "duration": 217,
    "start_time": "2022-11-12T11:35:54.420Z"
   },
   {
    "duration": 89,
    "start_time": "2022-11-12T11:35:54.638Z"
   },
   {
    "duration": 206681,
    "start_time": "2022-11-12T11:35:54.729Z"
   },
   {
    "duration": 684,
    "start_time": "2022-11-12T11:39:21.412Z"
   },
   {
    "duration": 78594,
    "start_time": "2022-11-12T11:39:22.099Z"
   },
   {
    "duration": 24605,
    "start_time": "2022-11-12T11:40:40.695Z"
   },
   {
    "duration": 6,
    "start_time": "2022-11-12T11:41:05.302Z"
   },
   {
    "duration": 28,
    "start_time": "2022-11-12T11:41:49.729Z"
   },
   {
    "duration": 40316,
    "start_time": "2022-11-12T11:49:53.706Z"
   },
   {
    "duration": 132,
    "start_time": "2022-11-12T11:55:46.211Z"
   },
   {
    "duration": 189391,
    "start_time": "2022-11-12T11:55:54.451Z"
   },
   {
    "duration": 2395,
    "start_time": "2022-11-12T11:59:03.844Z"
   },
   {
    "duration": 30873,
    "start_time": "2022-11-12T12:00:48.855Z"
   },
   {
    "duration": 297,
    "start_time": "2022-11-12T12:01:19.730Z"
   },
   {
    "duration": 16801,
    "start_time": "2022-11-12T12:02:58.521Z"
   },
   {
    "duration": 203,
    "start_time": "2022-11-12T12:03:15.325Z"
   },
   {
    "duration": 5,
    "start_time": "2022-11-12T12:04:02.845Z"
   },
   {
    "duration": 4,
    "start_time": "2022-11-12T12:05:19.062Z"
   },
   {
    "duration": 112,
    "start_time": "2022-11-12T12:08:05.882Z"
   },
   {
    "duration": 24,
    "start_time": "2022-11-12T12:08:09.914Z"
   },
   {
    "duration": 48,
    "start_time": "2022-11-12T12:08:17.963Z"
   },
   {
    "duration": 27,
    "start_time": "2022-11-12T12:08:48.352Z"
   },
   {
    "duration": 96,
    "start_time": "2022-11-12T12:10:45.591Z"
   },
   {
    "duration": 103,
    "start_time": "2022-11-12T12:10:52.604Z"
   },
   {
    "duration": 71,
    "start_time": "2022-11-12T12:10:53.882Z"
   },
   {
    "duration": 718,
    "start_time": "2022-11-12T12:10:56.922Z"
   },
   {
    "duration": 12,
    "start_time": "2022-11-12T12:11:00.692Z"
   },
   {
    "duration": 129,
    "start_time": "2022-11-12T12:11:02.627Z"
   },
   {
    "duration": 54,
    "start_time": "2022-11-12T12:11:04.642Z"
   },
   {
    "duration": 124,
    "start_time": "2022-11-12T12:11:05.802Z"
   },
   {
    "duration": 10,
    "start_time": "2022-11-12T12:11:09.358Z"
   },
   {
    "duration": 10935,
    "start_time": "2022-11-12T12:11:30.994Z"
   },
   {
    "duration": 197,
    "start_time": "2022-11-12T12:11:41.931Z"
   },
   {
    "duration": 22,
    "start_time": "2022-11-12T12:11:49.542Z"
   },
   {
    "duration": 21,
    "start_time": "2022-11-12T12:11:51.479Z"
   },
   {
    "duration": 128,
    "start_time": "2022-11-12T12:12:25.192Z"
   },
   {
    "duration": 1497,
    "start_time": "2022-11-12T12:12:34.393Z"
   },
   {
    "duration": 869,
    "start_time": "2022-11-12T12:12:36.308Z"
   },
   {
    "duration": 26,
    "start_time": "2022-11-12T12:12:37.178Z"
   },
   {
    "duration": 113,
    "start_time": "2022-11-12T12:12:37.206Z"
   },
   {
    "duration": 123,
    "start_time": "2022-11-12T12:12:37.321Z"
   },
   {
    "duration": 165,
    "start_time": "2022-11-12T12:12:39.347Z"
   },
   {
    "duration": 143,
    "start_time": "2022-11-12T12:12:41.377Z"
   },
   {
    "duration": 161,
    "start_time": "2022-11-12T12:12:41.806Z"
   },
   {
    "duration": 93,
    "start_time": "2022-11-12T12:12:41.969Z"
   },
   {
    "duration": 4,
    "start_time": "2022-11-12T12:12:42.168Z"
   },
   {
    "duration": 257,
    "start_time": "2022-11-12T12:12:43.537Z"
   },
   {
    "duration": 4,
    "start_time": "2022-11-12T12:12:43.977Z"
   },
   {
    "duration": 282,
    "start_time": "2022-11-12T12:12:44.953Z"
   },
   {
    "duration": 235,
    "start_time": "2022-11-12T12:12:45.323Z"
   },
   {
    "duration": 45,
    "start_time": "2022-11-12T12:12:56.457Z"
   },
   {
    "duration": 60,
    "start_time": "2022-11-12T12:12:57.046Z"
   },
   {
    "duration": 670,
    "start_time": "2022-11-12T12:13:01.576Z"
   },
   {
    "duration": 15,
    "start_time": "2022-11-12T12:13:02.510Z"
   },
   {
    "duration": 120,
    "start_time": "2022-11-12T12:13:02.962Z"
   },
   {
    "duration": 56,
    "start_time": "2022-11-12T12:13:04.176Z"
   },
   {
    "duration": 99,
    "start_time": "2022-11-12T12:13:07.453Z"
   },
   {
    "duration": 70,
    "start_time": "2022-11-12T12:13:07.652Z"
   },
   {
    "duration": 21,
    "start_time": "2022-11-12T12:15:35.040Z"
   },
   {
    "duration": 14,
    "start_time": "2022-11-12T12:16:34.000Z"
   },
   {
    "duration": 21,
    "start_time": "2022-11-12T12:16:42.061Z"
   },
   {
    "duration": 87,
    "start_time": "2022-11-12T12:18:19.315Z"
   },
   {
    "duration": 121,
    "start_time": "2022-11-12T12:18:30.654Z"
   },
   {
    "duration": 15,
    "start_time": "2022-11-12T12:18:36.485Z"
   },
   {
    "duration": 1618,
    "start_time": "2022-11-12T12:18:42.623Z"
   },
   {
    "duration": 12,
    "start_time": "2022-11-12T12:20:23.416Z"
   },
   {
    "duration": 12,
    "start_time": "2022-11-12T12:20:32.443Z"
   },
   {
    "duration": 161263,
    "start_time": "2022-11-12T12:20:46.008Z"
   },
   {
    "duration": 54040,
    "start_time": "2022-11-12T12:23:33.462Z"
   },
   {
    "duration": 183,
    "start_time": "2022-11-12T12:25:21.111Z"
   },
   {
    "duration": 27504,
    "start_time": "2022-11-12T12:25:53.518Z"
   },
   {
    "duration": 34050,
    "start_time": "2022-11-12T12:26:24.542Z"
   },
   {
    "duration": 51376,
    "start_time": "2022-11-12T12:27:15.638Z"
   },
   {
    "duration": 203708,
    "start_time": "2022-11-12T12:28:13.232Z"
   },
   {
    "duration": 14,
    "start_time": "2022-11-12T12:33:29.125Z"
   },
   {
    "duration": 506,
    "start_time": "2022-11-12T12:33:44.825Z"
   },
   {
    "duration": 333689,
    "start_time": "2022-11-12T12:34:33.224Z"
   },
   {
    "duration": 0,
    "start_time": "2022-11-12T12:40:06.915Z"
   },
   {
    "duration": 0,
    "start_time": "2022-11-12T12:40:06.916Z"
   },
   {
    "duration": 48,
    "start_time": "2022-11-12T12:41:35.744Z"
   },
   {
    "duration": 207366,
    "start_time": "2022-11-12T12:41:41.742Z"
   },
   {
    "duration": 5,
    "start_time": "2022-11-12T12:45:21.491Z"
   },
   {
    "duration": 7,
    "start_time": "2022-11-12T12:45:28.519Z"
   },
   {
    "duration": 54,
    "start_time": "2022-11-12T12:45:43.602Z"
   },
   {
    "duration": 105,
    "start_time": "2022-11-12T12:45:48.436Z"
   },
   {
    "duration": 518661,
    "start_time": "2022-11-12T12:46:02.602Z"
   },
   {
    "duration": 1328147,
    "start_time": "2022-11-12T12:54:45.927Z"
   },
   {
    "duration": 11894,
    "start_time": "2022-11-12T13:17:04.135Z"
   },
   {
    "duration": 41697,
    "start_time": "2022-11-12T13:17:25.706Z"
   },
   {
    "duration": 355,
    "start_time": "2022-11-12T13:19:26.255Z"
   },
   {
    "duration": 244,
    "start_time": "2022-11-12T13:19:57.062Z"
   },
   {
    "duration": 243,
    "start_time": "2022-11-12T13:20:49.448Z"
   },
   {
    "duration": 141,
    "start_time": "2022-11-12T13:21:29.965Z"
   },
   {
    "duration": 3,
    "start_time": "2022-11-12T13:23:17.308Z"
   },
   {
    "duration": 141,
    "start_time": "2022-11-12T13:24:57.479Z"
   },
   {
    "duration": 53,
    "start_time": "2022-11-12T13:26:37.259Z"
   },
   {
    "duration": 19690,
    "start_time": "2022-11-12T13:27:41.989Z"
   },
   {
    "duration": 1593,
    "start_time": "2022-11-12T13:29:26.002Z"
   },
   {
    "duration": 918,
    "start_time": "2022-11-12T13:29:27.597Z"
   },
   {
    "duration": 20,
    "start_time": "2022-11-12T13:29:28.516Z"
   },
   {
    "duration": 175,
    "start_time": "2022-11-12T13:29:28.538Z"
   },
   {
    "duration": 156,
    "start_time": "2022-11-12T13:29:28.716Z"
   },
   {
    "duration": 216,
    "start_time": "2022-11-12T13:29:28.874Z"
   },
   {
    "duration": 155,
    "start_time": "2022-11-12T13:29:29.091Z"
   },
   {
    "duration": 171,
    "start_time": "2022-11-12T13:29:29.248Z"
   },
   {
    "duration": 100,
    "start_time": "2022-11-12T13:29:29.421Z"
   },
   {
    "duration": 4,
    "start_time": "2022-11-12T13:29:29.524Z"
   },
   {
    "duration": 316,
    "start_time": "2022-11-12T13:29:29.530Z"
   },
   {
    "duration": 5,
    "start_time": "2022-11-12T13:29:29.848Z"
   },
   {
    "duration": 315,
    "start_time": "2022-11-12T13:29:29.855Z"
   },
   {
    "duration": 263,
    "start_time": "2022-11-12T13:29:30.172Z"
   },
   {
    "duration": 199,
    "start_time": "2022-11-12T13:29:30.437Z"
   },
   {
    "duration": 199,
    "start_time": "2022-11-12T13:29:30.638Z"
   },
   {
    "duration": 244,
    "start_time": "2022-11-12T13:29:30.839Z"
   },
   {
    "duration": 56,
    "start_time": "2022-11-12T13:29:31.086Z"
   },
   {
    "duration": 75,
    "start_time": "2022-11-12T13:29:31.144Z"
   },
   {
    "duration": 744,
    "start_time": "2022-11-12T13:29:31.222Z"
   },
   {
    "duration": 22,
    "start_time": "2022-11-12T13:29:31.968Z"
   },
   {
    "duration": 150,
    "start_time": "2022-11-12T13:29:31.992Z"
   },
   {
    "duration": 53,
    "start_time": "2022-11-12T13:29:32.143Z"
   },
   {
    "duration": 138,
    "start_time": "2022-11-12T13:29:32.199Z"
   },
   {
    "duration": 84,
    "start_time": "2022-11-12T13:29:32.339Z"
   },
   {
    "duration": 30403,
    "start_time": "2022-11-12T13:29:32.425Z"
   },
   {
    "duration": 755,
    "start_time": "2022-11-12T13:30:02.829Z"
   },
   {
    "duration": 13268,
    "start_time": "2022-11-12T13:30:03.587Z"
   },
   {
    "duration": 25498,
    "start_time": "2022-11-12T13:30:16.857Z"
   },
   {
    "duration": 37970,
    "start_time": "2022-11-12T13:30:42.356Z"
   },
   {
    "duration": 199,
    "start_time": "2022-11-12T13:31:20.327Z"
   },
   {
    "duration": 217,
    "start_time": "2022-11-12T13:31:20.528Z"
   },
   {
    "duration": 205813,
    "start_time": "2022-11-12T13:31:20.747Z"
   },
   {
    "duration": 544,
    "start_time": "2022-11-12T13:34:46.562Z"
   },
   {
    "duration": 39982,
    "start_time": "2022-11-12T13:34:47.108Z"
   },
   {
    "duration": 237,
    "start_time": "2022-11-12T13:35:27.091Z"
   },
   {
    "duration": 9,
    "start_time": "2022-11-12T13:35:27.346Z"
   },
   {
    "duration": 7,
    "start_time": "2022-11-12T13:35:49.272Z"
   },
   {
    "duration": 54,
    "start_time": "2022-11-12T13:37:05.899Z"
   },
   {
    "duration": 8,
    "start_time": "2022-11-12T13:37:13.952Z"
   },
   {
    "duration": 4,
    "start_time": "2022-11-12T13:37:22.487Z"
   },
   {
    "duration": 21,
    "start_time": "2022-11-12T13:37:26.082Z"
   },
   {
    "duration": 4,
    "start_time": "2022-11-12T13:37:55.216Z"
   },
   {
    "duration": 23,
    "start_time": "2022-11-12T13:37:55.990Z"
   },
   {
    "duration": 6,
    "start_time": "2022-11-12T13:37:58.821Z"
   },
   {
    "duration": 121,
    "start_time": "2022-11-12T13:48:03.969Z"
   },
   {
    "duration": 4,
    "start_time": "2022-11-12T13:48:17.130Z"
   },
   {
    "duration": 6,
    "start_time": "2022-11-12T13:51:01.204Z"
   },
   {
    "duration": 8,
    "start_time": "2022-11-12T13:51:06.304Z"
   },
   {
    "duration": 66571,
    "start_time": "2022-11-12T13:55:56.976Z"
   },
   {
    "duration": 1643,
    "start_time": "2022-11-12T13:57:26.185Z"
   },
   {
    "duration": 3506,
    "start_time": "2022-11-12T13:57:27.830Z"
   },
   {
    "duration": 0,
    "start_time": "2022-11-12T13:57:31.339Z"
   },
   {
    "duration": 0,
    "start_time": "2022-11-12T13:57:31.340Z"
   },
   {
    "duration": 0,
    "start_time": "2022-11-12T13:57:31.341Z"
   },
   {
    "duration": 0,
    "start_time": "2022-11-12T13:57:31.342Z"
   },
   {
    "duration": 0,
    "start_time": "2022-11-12T13:57:31.343Z"
   },
   {
    "duration": 0,
    "start_time": "2022-11-12T13:57:31.344Z"
   },
   {
    "duration": 0,
    "start_time": "2022-11-12T13:57:31.345Z"
   },
   {
    "duration": 0,
    "start_time": "2022-11-12T13:57:31.346Z"
   },
   {
    "duration": 0,
    "start_time": "2022-11-12T13:57:31.347Z"
   },
   {
    "duration": 0,
    "start_time": "2022-11-12T13:57:31.348Z"
   },
   {
    "duration": 0,
    "start_time": "2022-11-12T13:57:31.349Z"
   },
   {
    "duration": 0,
    "start_time": "2022-11-12T13:57:31.350Z"
   },
   {
    "duration": 0,
    "start_time": "2022-11-12T13:57:31.352Z"
   },
   {
    "duration": 0,
    "start_time": "2022-11-12T13:57:31.353Z"
   },
   {
    "duration": 0,
    "start_time": "2022-11-12T13:57:31.354Z"
   },
   {
    "duration": 0,
    "start_time": "2022-11-12T13:57:31.355Z"
   },
   {
    "duration": 0,
    "start_time": "2022-11-12T13:57:31.356Z"
   },
   {
    "duration": 0,
    "start_time": "2022-11-12T13:57:31.357Z"
   },
   {
    "duration": 0,
    "start_time": "2022-11-12T13:57:31.359Z"
   },
   {
    "duration": 0,
    "start_time": "2022-11-12T13:57:31.360Z"
   },
   {
    "duration": 0,
    "start_time": "2022-11-12T13:57:31.361Z"
   },
   {
    "duration": 1,
    "start_time": "2022-11-12T13:57:31.362Z"
   },
   {
    "duration": 0,
    "start_time": "2022-11-12T13:57:31.363Z"
   },
   {
    "duration": 0,
    "start_time": "2022-11-12T13:57:31.365Z"
   },
   {
    "duration": 0,
    "start_time": "2022-11-12T13:57:31.366Z"
   },
   {
    "duration": 0,
    "start_time": "2022-11-12T13:57:31.368Z"
   },
   {
    "duration": 0,
    "start_time": "2022-11-12T13:57:31.369Z"
   },
   {
    "duration": 0,
    "start_time": "2022-11-12T13:57:31.371Z"
   },
   {
    "duration": 0,
    "start_time": "2022-11-12T13:57:31.372Z"
   },
   {
    "duration": 0,
    "start_time": "2022-11-12T13:57:31.374Z"
   },
   {
    "duration": 0,
    "start_time": "2022-11-12T13:57:31.375Z"
   },
   {
    "duration": 0,
    "start_time": "2022-11-12T13:57:31.420Z"
   },
   {
    "duration": 0,
    "start_time": "2022-11-12T13:57:31.421Z"
   },
   {
    "duration": 0,
    "start_time": "2022-11-12T13:57:31.422Z"
   },
   {
    "duration": 0,
    "start_time": "2022-11-12T13:57:31.423Z"
   },
   {
    "duration": 0,
    "start_time": "2022-11-12T13:57:31.424Z"
   },
   {
    "duration": 5,
    "start_time": "2022-11-12T13:57:37.999Z"
   },
   {
    "duration": 1088,
    "start_time": "2022-11-12T13:57:38.006Z"
   },
   {
    "duration": 18,
    "start_time": "2022-11-12T13:57:39.096Z"
   },
   {
    "duration": 104,
    "start_time": "2022-11-12T13:57:39.116Z"
   },
   {
    "duration": 124,
    "start_time": "2022-11-12T13:57:39.222Z"
   },
   {
    "duration": 191,
    "start_time": "2022-11-12T13:57:39.348Z"
   },
   {
    "duration": 140,
    "start_time": "2022-11-12T13:57:39.700Z"
   },
   {
    "duration": 180,
    "start_time": "2022-11-12T13:57:39.843Z"
   },
   {
    "duration": 105,
    "start_time": "2022-11-12T13:57:40.025Z"
   },
   {
    "duration": 33,
    "start_time": "2022-11-12T13:57:40.133Z"
   },
   {
    "duration": 270,
    "start_time": "2022-11-12T13:57:40.168Z"
   },
   {
    "duration": 5,
    "start_time": "2022-11-12T13:57:40.440Z"
   },
   {
    "duration": 310,
    "start_time": "2022-11-12T13:57:40.447Z"
   },
   {
    "duration": 252,
    "start_time": "2022-11-12T13:57:40.759Z"
   },
   {
    "duration": 177,
    "start_time": "2022-11-12T13:57:41.018Z"
   },
   {
    "duration": 171,
    "start_time": "2022-11-12T13:57:41.197Z"
   },
   {
    "duration": 230,
    "start_time": "2022-11-12T13:57:41.369Z"
   },
   {
    "duration": 51,
    "start_time": "2022-11-12T13:57:41.602Z"
   },
   {
    "duration": 59,
    "start_time": "2022-11-12T13:57:41.856Z"
   },
   {
    "duration": 691,
    "start_time": "2022-11-12T13:57:42.528Z"
   },
   {
    "duration": 17,
    "start_time": "2022-11-12T13:57:43.221Z"
   },
   {
    "duration": 132,
    "start_time": "2022-11-12T13:57:43.239Z"
   },
   {
    "duration": 62,
    "start_time": "2022-11-12T13:57:43.373Z"
   },
   {
    "duration": 183,
    "start_time": "2022-11-12T13:57:43.437Z"
   },
   {
    "duration": 7,
    "start_time": "2022-11-12T13:57:43.623Z"
   },
   {
    "duration": 30432,
    "start_time": "2022-11-12T13:57:43.821Z"
   },
   {
    "duration": 742,
    "start_time": "2022-11-12T13:58:14.256Z"
   },
   {
    "duration": 13331,
    "start_time": "2022-11-12T13:58:15.000Z"
   },
   {
    "duration": 25380,
    "start_time": "2022-11-12T13:58:28.333Z"
   },
   {
    "duration": 10110,
    "start_time": "2022-11-12T13:58:53.719Z"
   },
   {
    "duration": 199,
    "start_time": "2022-11-12T13:59:03.831Z"
   },
   {
    "duration": 252,
    "start_time": "2022-11-12T13:59:04.032Z"
   },
   {
    "duration": 203618,
    "start_time": "2022-11-12T13:59:04.286Z"
   },
   {
    "duration": 509,
    "start_time": "2022-11-12T14:02:27.906Z"
   },
   {
    "duration": 39883,
    "start_time": "2022-11-12T14:02:28.420Z"
   },
   {
    "duration": 254,
    "start_time": "2022-11-12T14:03:08.305Z"
   },
   {
    "duration": 51,
    "start_time": "2022-11-12T14:03:39.682Z"
   },
   {
    "duration": 22,
    "start_time": "2022-11-12T14:03:43.168Z"
   },
   {
    "duration": 18,
    "start_time": "2022-11-12T14:03:47.828Z"
   },
   {
    "duration": 7,
    "start_time": "2022-11-12T14:04:10.353Z"
   },
   {
    "duration": 9,
    "start_time": "2022-11-12T14:04:10.885Z"
   },
   {
    "duration": 9,
    "start_time": "2022-11-12T14:05:28.501Z"
   },
   {
    "duration": 10,
    "start_time": "2022-11-12T14:05:28.999Z"
   },
   {
    "duration": 11,
    "start_time": "2022-11-12T14:06:54.699Z"
   },
   {
    "duration": 10,
    "start_time": "2022-11-12T14:06:55.349Z"
   },
   {
    "duration": 10,
    "start_time": "2022-11-12T14:10:31.814Z"
   },
   {
    "duration": 10,
    "start_time": "2022-11-12T14:10:32.193Z"
   },
   {
    "duration": 1542,
    "start_time": "2022-11-12T14:13:29.059Z"
   },
   {
    "duration": 805,
    "start_time": "2022-11-12T14:13:30.603Z"
   },
   {
    "duration": 22,
    "start_time": "2022-11-12T14:13:31.410Z"
   },
   {
    "duration": 204,
    "start_time": "2022-11-12T14:13:31.434Z"
   },
   {
    "duration": 200,
    "start_time": "2022-11-12T14:13:31.640Z"
   },
   {
    "duration": 178,
    "start_time": "2022-11-12T14:13:31.842Z"
   },
   {
    "duration": 138,
    "start_time": "2022-11-12T14:13:32.022Z"
   },
   {
    "duration": 161,
    "start_time": "2022-11-12T14:13:32.161Z"
   },
   {
    "duration": 81,
    "start_time": "2022-11-12T14:13:32.324Z"
   },
   {
    "duration": 21,
    "start_time": "2022-11-12T14:13:32.420Z"
   },
   {
    "duration": 269,
    "start_time": "2022-11-12T14:13:32.442Z"
   },
   {
    "duration": 7,
    "start_time": "2022-11-12T14:13:32.713Z"
   },
   {
    "duration": 313,
    "start_time": "2022-11-12T14:13:32.722Z"
   },
   {
    "duration": 217,
    "start_time": "2022-11-12T14:13:33.037Z"
   },
   {
    "duration": 166,
    "start_time": "2022-11-12T14:13:33.256Z"
   },
   {
    "duration": 177,
    "start_time": "2022-11-12T14:13:33.424Z"
   },
   {
    "duration": 208,
    "start_time": "2022-11-12T14:13:33.602Z"
   },
   {
    "duration": 41,
    "start_time": "2022-11-12T14:13:33.813Z"
   },
   {
    "duration": 70,
    "start_time": "2022-11-12T14:13:33.856Z"
   },
   {
    "duration": 676,
    "start_time": "2022-11-12T14:13:33.928Z"
   },
   {
    "duration": 15,
    "start_time": "2022-11-12T14:13:34.606Z"
   },
   {
    "duration": 133,
    "start_time": "2022-11-12T14:13:34.623Z"
   },
   {
    "duration": 68,
    "start_time": "2022-11-12T14:13:34.758Z"
   },
   {
    "duration": 109,
    "start_time": "2022-11-12T14:13:34.828Z"
   },
   {
    "duration": 82,
    "start_time": "2022-11-12T14:13:34.939Z"
   },
   {
    "duration": 29507,
    "start_time": "2022-11-12T14:13:35.023Z"
   },
   {
    "duration": 693,
    "start_time": "2022-11-12T14:14:04.532Z"
   },
   {
    "duration": 12410,
    "start_time": "2022-11-12T14:14:05.230Z"
   },
   {
    "duration": 24821,
    "start_time": "2022-11-12T14:14:17.642Z"
   },
   {
    "duration": 1565,
    "start_time": "2022-11-12T14:16:07.682Z"
   },
   {
    "duration": 845,
    "start_time": "2022-11-12T14:16:09.249Z"
   },
   {
    "duration": 24,
    "start_time": "2022-11-12T14:16:10.096Z"
   },
   {
    "duration": 152,
    "start_time": "2022-11-12T14:16:10.122Z"
   },
   {
    "duration": 121,
    "start_time": "2022-11-12T14:16:10.276Z"
   },
   {
    "duration": 186,
    "start_time": "2022-11-12T14:16:10.399Z"
   },
   {
    "duration": 150,
    "start_time": "2022-11-12T14:16:10.586Z"
   },
   {
    "duration": 173,
    "start_time": "2022-11-12T14:16:10.738Z"
   },
   {
    "duration": 84,
    "start_time": "2022-11-12T14:16:10.919Z"
   },
   {
    "duration": 5,
    "start_time": "2022-11-12T14:16:11.020Z"
   },
   {
    "duration": 262,
    "start_time": "2022-11-12T14:16:11.027Z"
   },
   {
    "duration": 5,
    "start_time": "2022-11-12T14:16:11.291Z"
   },
   {
    "duration": 287,
    "start_time": "2022-11-12T14:16:11.297Z"
   },
   {
    "duration": 227,
    "start_time": "2022-11-12T14:16:11.585Z"
   },
   {
    "duration": 165,
    "start_time": "2022-11-12T14:16:11.819Z"
   },
   {
    "duration": 156,
    "start_time": "2022-11-12T14:16:11.986Z"
   },
   {
    "duration": 223,
    "start_time": "2022-11-12T14:16:12.143Z"
   },
   {
    "duration": 55,
    "start_time": "2022-11-12T14:16:12.368Z"
   },
   {
    "duration": 60,
    "start_time": "2022-11-12T14:16:12.425Z"
   },
   {
    "duration": 671,
    "start_time": "2022-11-12T14:16:12.487Z"
   },
   {
    "duration": 14,
    "start_time": "2022-11-12T14:16:13.159Z"
   },
   {
    "duration": 133,
    "start_time": "2022-11-12T14:16:13.175Z"
   },
   {
    "duration": 63,
    "start_time": "2022-11-12T14:16:13.310Z"
   },
   {
    "duration": 149,
    "start_time": "2022-11-12T14:16:13.375Z"
   },
   {
    "duration": 96,
    "start_time": "2022-11-12T14:16:13.527Z"
   },
   {
    "duration": 30115,
    "start_time": "2022-11-12T14:16:13.626Z"
   },
   {
    "duration": 707,
    "start_time": "2022-11-12T14:16:43.742Z"
   },
   {
    "duration": 12718,
    "start_time": "2022-11-12T14:16:44.452Z"
   },
   {
    "duration": 25074,
    "start_time": "2022-11-12T14:16:57.172Z"
   },
   {
    "duration": 11280,
    "start_time": "2022-11-12T14:17:22.248Z"
   },
   {
    "duration": 195,
    "start_time": "2022-11-12T14:17:33.530Z"
   },
   {
    "duration": 213,
    "start_time": "2022-11-12T14:17:33.727Z"
   },
   {
    "duration": 205805,
    "start_time": "2022-11-12T14:17:33.942Z"
   },
   {
    "duration": 498,
    "start_time": "2022-11-12T14:20:59.750Z"
   },
   {
    "duration": 39780,
    "start_time": "2022-11-12T14:21:00.250Z"
   },
   {
    "duration": 281,
    "start_time": "2022-11-12T14:21:40.033Z"
   },
   {
    "duration": 17,
    "start_time": "2022-11-12T14:21:40.366Z"
   },
   {
    "duration": 9,
    "start_time": "2022-11-12T14:21:40.385Z"
   },
   {
    "duration": 58,
    "start_time": "2022-11-12T22:58:46.950Z"
   },
   {
    "duration": 1590,
    "start_time": "2022-11-12T22:58:49.296Z"
   },
   {
    "duration": 3288,
    "start_time": "2022-11-12T22:58:50.888Z"
   },
   {
    "duration": 16,
    "start_time": "2022-11-12T22:58:54.178Z"
   },
   {
    "duration": 939,
    "start_time": "2022-11-12T22:58:54.196Z"
   },
   {
    "duration": 88,
    "start_time": "2022-11-12T22:59:21.963Z"
   },
   {
    "duration": 49,
    "start_time": "2022-11-13T13:09:32.843Z"
   },
   {
    "duration": 1717,
    "start_time": "2022-11-13T13:09:38.870Z"
   },
   {
    "duration": 3001,
    "start_time": "2022-11-13T13:09:41.478Z"
   },
   {
    "duration": 15,
    "start_time": "2022-11-13T13:09:44.481Z"
   },
   {
    "duration": 138,
    "start_time": "2022-11-13T13:09:44.497Z"
   },
   {
    "duration": 201,
    "start_time": "2022-11-13T13:11:00.749Z"
   },
   {
    "duration": 20,
    "start_time": "2022-11-13T13:11:02.718Z"
   },
   {
    "duration": 20,
    "start_time": "2022-11-13T13:11:14.322Z"
   },
   {
    "duration": 23,
    "start_time": "2022-11-13T13:11:14.737Z"
   },
   {
    "duration": 6,
    "start_time": "2022-11-13T13:12:59.134Z"
   },
   {
    "duration": 1445,
    "start_time": "2022-11-13T13:13:08.675Z"
   },
   {
    "duration": 787,
    "start_time": "2022-11-13T13:13:10.122Z"
   },
   {
    "duration": 16,
    "start_time": "2022-11-13T13:13:10.911Z"
   },
   {
    "duration": 139,
    "start_time": "2022-11-13T13:13:10.928Z"
   },
   {
    "duration": 122,
    "start_time": "2022-11-13T13:13:11.519Z"
   },
   {
    "duration": 176,
    "start_time": "2022-11-13T13:13:15.952Z"
   },
   {
    "duration": 132,
    "start_time": "2022-11-13T13:13:22.154Z"
   },
   {
    "duration": 168,
    "start_time": "2022-11-13T13:13:25.215Z"
   },
   {
    "duration": 94,
    "start_time": "2022-11-13T13:13:25.680Z"
   },
   {
    "duration": 4,
    "start_time": "2022-11-13T13:13:27.880Z"
   },
   {
    "duration": 270,
    "start_time": "2022-11-13T13:13:28.833Z"
   },
   {
    "duration": 4,
    "start_time": "2022-11-13T13:13:29.219Z"
   },
   {
    "duration": 306,
    "start_time": "2022-11-13T13:13:32.028Z"
   },
   {
    "duration": 231,
    "start_time": "2022-11-13T13:13:32.339Z"
   },
   {
    "duration": 74,
    "start_time": "2022-11-13T13:13:49.407Z"
   },
   {
    "duration": 69,
    "start_time": "2022-11-13T13:14:14.118Z"
   },
   {
    "duration": 64,
    "start_time": "2022-11-13T13:14:19.559Z"
   },
   {
    "duration": 79,
    "start_time": "2022-11-13T13:15:21.859Z"
   },
   {
    "duration": 70,
    "start_time": "2022-11-13T13:16:19.313Z"
   },
   {
    "duration": 3,
    "start_time": "2022-11-13T13:19:23.665Z"
   },
   {
    "duration": 5,
    "start_time": "2022-11-13T13:19:30.121Z"
   },
   {
    "duration": 3,
    "start_time": "2022-11-13T13:19:30.289Z"
   },
   {
    "duration": 753,
    "start_time": "2022-11-13T13:19:30.870Z"
   },
   {
    "duration": 12,
    "start_time": "2022-11-13T13:19:31.625Z"
   },
   {
    "duration": 93,
    "start_time": "2022-11-13T13:19:31.639Z"
   },
   {
    "duration": 123,
    "start_time": "2022-11-13T13:19:31.752Z"
   },
   {
    "duration": 169,
    "start_time": "2022-11-13T13:19:32.984Z"
   },
   {
    "duration": 102,
    "start_time": "2022-11-13T13:19:34.880Z"
   },
   {
    "duration": 145,
    "start_time": "2022-11-13T13:19:35.930Z"
   },
   {
    "duration": 91,
    "start_time": "2022-11-13T13:19:36.115Z"
   },
   {
    "duration": 4,
    "start_time": "2022-11-13T13:19:38.149Z"
   },
   {
    "duration": 262,
    "start_time": "2022-11-13T13:19:38.801Z"
   },
   {
    "duration": 5,
    "start_time": "2022-11-13T13:19:39.720Z"
   },
   {
    "duration": 264,
    "start_time": "2022-11-13T13:19:41.144Z"
   },
   {
    "duration": 217,
    "start_time": "2022-11-13T13:19:41.581Z"
   },
   {
    "duration": 109,
    "start_time": "2022-11-13T13:20:24.012Z"
   },
   {
    "duration": 3,
    "start_time": "2022-11-13T13:20:39.346Z"
   },
   {
    "duration": 65,
    "start_time": "2022-11-13T13:20:46.958Z"
   },
   {
    "duration": 60,
    "start_time": "2022-11-13T13:20:50.728Z"
   },
   {
    "duration": 104,
    "start_time": "2022-11-13T13:21:07.788Z"
   },
   {
    "duration": 60,
    "start_time": "2022-11-13T13:21:09.883Z"
   },
   {
    "duration": 73,
    "start_time": "2022-11-13T13:21:11.960Z"
   },
   {
    "duration": 100,
    "start_time": "2022-11-13T13:21:26.762Z"
   },
   {
    "duration": 65,
    "start_time": "2022-11-13T13:21:28.204Z"
   },
   {
    "duration": 81,
    "start_time": "2022-11-13T13:21:31.740Z"
   },
   {
    "duration": 1388,
    "start_time": "2022-11-13T13:22:02.815Z"
   },
   {
    "duration": 3,
    "start_time": "2022-11-13T13:22:04.205Z"
   },
   {
    "duration": 911,
    "start_time": "2022-11-13T13:22:04.209Z"
   },
   {
    "duration": 16,
    "start_time": "2022-11-13T13:22:05.122Z"
   },
   {
    "duration": 143,
    "start_time": "2022-11-13T13:22:05.139Z"
   },
   {
    "duration": 124,
    "start_time": "2022-11-13T13:22:05.284Z"
   },
   {
    "duration": 182,
    "start_time": "2022-11-13T13:22:05.410Z"
   },
   {
    "duration": 137,
    "start_time": "2022-11-13T13:22:05.594Z"
   },
   {
    "duration": 165,
    "start_time": "2022-11-13T13:22:06.598Z"
   },
   {
    "duration": 95,
    "start_time": "2022-11-13T13:22:06.775Z"
   },
   {
    "duration": 4,
    "start_time": "2022-11-13T13:22:06.936Z"
   },
   {
    "duration": 264,
    "start_time": "2022-11-13T13:22:07.719Z"
   },
   {
    "duration": 4,
    "start_time": "2022-11-13T13:22:08.516Z"
   },
   {
    "duration": 322,
    "start_time": "2022-11-13T13:22:09.801Z"
   },
   {
    "duration": 225,
    "start_time": "2022-11-13T13:22:10.125Z"
   },
   {
    "duration": 77,
    "start_time": "2022-11-13T13:22:15.121Z"
   },
   {
    "duration": 65,
    "start_time": "2022-11-13T13:22:16.965Z"
   },
   {
    "duration": 114,
    "start_time": "2022-11-13T13:22:28.143Z"
   },
   {
    "duration": 64,
    "start_time": "2022-11-13T13:22:30.084Z"
   },
   {
    "duration": 106,
    "start_time": "2022-11-13T13:29:48.153Z"
   },
   {
    "duration": 566,
    "start_time": "2022-11-13T13:29:53.504Z"
   },
   {
    "duration": 652,
    "start_time": "2022-11-13T13:29:58.740Z"
   },
   {
    "duration": 21,
    "start_time": "2022-11-13T13:30:06.647Z"
   },
   {
    "duration": 19,
    "start_time": "2022-11-13T13:30:16.927Z"
   },
   {
    "duration": 503,
    "start_time": "2022-11-13T13:30:48.183Z"
   },
   {
    "duration": 18,
    "start_time": "2022-11-13T13:31:30.146Z"
   },
   {
    "duration": 86,
    "start_time": "2022-11-13T13:32:00.642Z"
   },
   {
    "duration": 629,
    "start_time": "2022-11-13T13:32:04.986Z"
   },
   {
    "duration": 9,
    "start_time": "2022-11-13T13:34:52.176Z"
   },
   {
    "duration": 334,
    "start_time": "2022-11-13T13:34:54.730Z"
   },
   {
    "duration": 20,
    "start_time": "2022-11-13T13:35:03.805Z"
   },
   {
    "duration": 358,
    "start_time": "2022-11-13T13:37:31.396Z"
   },
   {
    "duration": 7,
    "start_time": "2022-11-13T13:37:35.236Z"
   },
   {
    "duration": 673,
    "start_time": "2022-11-13T13:38:34.683Z"
   },
   {
    "duration": 24,
    "start_time": "2022-11-13T13:38:36.434Z"
   },
   {
    "duration": 24,
    "start_time": "2022-11-13T13:38:42.911Z"
   },
   {
    "duration": 159,
    "start_time": "2022-11-13T13:42:33.001Z"
   },
   {
    "duration": 174,
    "start_time": "2022-11-13T13:44:33.093Z"
   },
   {
    "duration": 134,
    "start_time": "2022-11-13T13:44:50.877Z"
   },
   {
    "duration": 334,
    "start_time": "2022-11-13T13:45:49.968Z"
   },
   {
    "duration": 70,
    "start_time": "2022-11-13T13:48:20.456Z"
   },
   {
    "duration": 8,
    "start_time": "2022-11-13T13:50:05.519Z"
   },
   {
    "duration": 13,
    "start_time": "2022-11-13T13:50:08.294Z"
   },
   {
    "duration": 9,
    "start_time": "2022-11-13T13:50:15.552Z"
   },
   {
    "duration": 19,
    "start_time": "2022-11-13T13:50:22.504Z"
   },
   {
    "duration": 4,
    "start_time": "2022-11-13T13:51:11.073Z"
   },
   {
    "duration": 15,
    "start_time": "2022-11-13T13:51:51.682Z"
   },
   {
    "duration": 55,
    "start_time": "2022-11-13T13:52:15.808Z"
   },
   {
    "duration": 13,
    "start_time": "2022-11-13T13:53:28.199Z"
   },
   {
    "duration": 87,
    "start_time": "2022-11-13T13:53:43.273Z"
   },
   {
    "duration": 42,
    "start_time": "2022-11-13T13:54:09.169Z"
   },
   {
    "duration": 512,
    "start_time": "2022-11-13T13:54:52.256Z"
   },
   {
    "duration": 51,
    "start_time": "2022-11-13T13:54:59.836Z"
   },
   {
    "duration": 21,
    "start_time": "2022-11-13T13:55:06.560Z"
   },
   {
    "duration": 269,
    "start_time": "2022-11-13T13:56:10.598Z"
   },
   {
    "duration": 743,
    "start_time": "2022-11-13T13:56:16.159Z"
   },
   {
    "duration": 19,
    "start_time": "2022-11-13T13:56:17.461Z"
   },
   {
    "duration": 11,
    "start_time": "2022-11-13T13:56:24.425Z"
   },
   {
    "duration": 948,
    "start_time": "2022-11-13T13:57:52.588Z"
   },
   {
    "duration": 4,
    "start_time": "2022-11-13T13:58:16.849Z"
   },
   {
    "duration": 57,
    "start_time": "2022-11-13T14:02:12.548Z"
   },
   {
    "duration": 757,
    "start_time": "2022-11-13T14:03:08.942Z"
   },
   {
    "duration": 62,
    "start_time": "2022-11-13T14:04:14.595Z"
   },
   {
    "duration": 9,
    "start_time": "2022-11-13T14:04:44.304Z"
   },
   {
    "duration": 48,
    "start_time": "2022-11-13T14:04:54.371Z"
   },
   {
    "duration": 1517,
    "start_time": "2022-11-13T14:07:46.825Z"
   },
   {
    "duration": 5,
    "start_time": "2022-11-13T14:07:50.788Z"
   },
   {
    "duration": 3,
    "start_time": "2022-11-13T14:07:52.134Z"
   },
   {
    "duration": 1109,
    "start_time": "2022-11-13T14:07:54.530Z"
   },
   {
    "duration": 16,
    "start_time": "2022-11-13T14:07:55.641Z"
   },
   {
    "duration": 146,
    "start_time": "2022-11-13T14:07:55.659Z"
   },
   {
    "duration": 144,
    "start_time": "2022-11-13T14:07:55.807Z"
   },
   {
    "duration": 180,
    "start_time": "2022-11-13T14:07:56.063Z"
   },
   {
    "duration": 145,
    "start_time": "2022-11-13T14:07:58.186Z"
   },
   {
    "duration": 167,
    "start_time": "2022-11-13T14:07:58.333Z"
   },
   {
    "duration": 104,
    "start_time": "2022-11-13T14:07:58.503Z"
   },
   {
    "duration": 4,
    "start_time": "2022-11-13T14:07:58.655Z"
   },
   {
    "duration": 280,
    "start_time": "2022-11-13T14:07:59.182Z"
   },
   {
    "duration": 4,
    "start_time": "2022-11-13T14:07:59.464Z"
   },
   {
    "duration": 287,
    "start_time": "2022-11-13T14:08:01.163Z"
   },
   {
    "duration": 236,
    "start_time": "2022-11-13T14:08:01.452Z"
   },
   {
    "duration": 118,
    "start_time": "2022-11-13T14:08:07.177Z"
   },
   {
    "duration": 77,
    "start_time": "2022-11-13T14:08:07.552Z"
   },
   {
    "duration": 62,
    "start_time": "2022-11-13T14:08:07.889Z"
   },
   {
    "duration": 85,
    "start_time": "2022-11-13T14:08:09.374Z"
   },
   {
    "duration": 646,
    "start_time": "2022-11-13T14:08:12.227Z"
   },
   {
    "duration": 663,
    "start_time": "2022-11-13T14:08:12.875Z"
   },
   {
    "duration": 206,
    "start_time": "2022-11-13T14:08:15.003Z"
   },
   {
    "duration": 325,
    "start_time": "2022-11-13T14:08:16.320Z"
   },
   {
    "duration": 262,
    "start_time": "2022-11-13T14:08:17.392Z"
   },
   {
    "duration": 158,
    "start_time": "2022-11-13T14:08:27.600Z"
   },
   {
    "duration": 90,
    "start_time": "2022-11-13T14:08:34.546Z"
   },
   {
    "duration": 117,
    "start_time": "2022-11-13T14:08:41.806Z"
   },
   {
    "duration": 1559,
    "start_time": "2022-11-13T14:10:09.232Z"
   },
   {
    "duration": 3,
    "start_time": "2022-11-13T14:10:10.793Z"
   },
   {
    "duration": 873,
    "start_time": "2022-11-13T14:10:10.798Z"
   },
   {
    "duration": 16,
    "start_time": "2022-11-13T14:10:11.673Z"
   },
   {
    "duration": 145,
    "start_time": "2022-11-13T14:10:11.690Z"
   },
   {
    "duration": 134,
    "start_time": "2022-11-13T14:10:11.837Z"
   },
   {
    "duration": 200,
    "start_time": "2022-11-13T14:10:11.973Z"
   },
   {
    "duration": 136,
    "start_time": "2022-11-13T14:10:12.175Z"
   },
   {
    "duration": 169,
    "start_time": "2022-11-13T14:10:12.313Z"
   },
   {
    "duration": 119,
    "start_time": "2022-11-13T14:10:12.485Z"
   },
   {
    "duration": 5,
    "start_time": "2022-11-13T14:10:12.606Z"
   },
   {
    "duration": 295,
    "start_time": "2022-11-13T14:10:12.613Z"
   },
   {
    "duration": 4,
    "start_time": "2022-11-13T14:10:12.910Z"
   },
   {
    "duration": 294,
    "start_time": "2022-11-13T14:10:12.916Z"
   },
   {
    "duration": 222,
    "start_time": "2022-11-13T14:10:13.212Z"
   },
   {
    "duration": 154,
    "start_time": "2022-11-13T14:10:13.436Z"
   },
   {
    "duration": 144,
    "start_time": "2022-11-13T14:10:13.591Z"
   },
   {
    "duration": 217,
    "start_time": "2022-11-13T14:10:13.736Z"
   },
   {
    "duration": 122,
    "start_time": "2022-11-13T14:10:13.960Z"
   },
   {
    "duration": 87,
    "start_time": "2022-11-13T14:10:14.083Z"
   },
   {
    "duration": 63,
    "start_time": "2022-11-13T14:10:14.172Z"
   },
   {
    "duration": 94,
    "start_time": "2022-11-13T14:10:14.237Z"
   },
   {
    "duration": 589,
    "start_time": "2022-11-13T14:10:15.103Z"
   },
   {
    "duration": 632,
    "start_time": "2022-11-13T14:10:15.694Z"
   },
   {
    "duration": 215,
    "start_time": "2022-11-13T14:10:16.328Z"
   },
   {
    "duration": 335,
    "start_time": "2022-11-13T14:10:16.545Z"
   },
   {
    "duration": 254,
    "start_time": "2022-11-13T14:10:17.001Z"
   },
   {
    "duration": 769,
    "start_time": "2022-11-13T14:10:38.323Z"
   },
   {
    "duration": 121,
    "start_time": "2022-11-13T14:12:12.014Z"
   },
   {
    "duration": 59,
    "start_time": "2022-11-13T14:12:15.457Z"
   },
   {
    "duration": 26,
    "start_time": "2022-11-13T14:12:30.117Z"
   },
   {
    "duration": 48,
    "start_time": "2022-11-13T14:12:37.253Z"
   },
   {
    "duration": 10,
    "start_time": "2022-11-13T14:12:49.717Z"
   },
   {
    "duration": 16,
    "start_time": "2022-11-13T14:12:57.224Z"
   },
   {
    "duration": 11,
    "start_time": "2022-11-13T14:13:02.231Z"
   },
   {
    "duration": 11,
    "start_time": "2022-11-13T14:13:24.638Z"
   },
   {
    "duration": 105,
    "start_time": "2022-11-13T14:13:44.810Z"
   },
   {
    "duration": 302,
    "start_time": "2022-11-13T14:14:02.103Z"
   },
   {
    "duration": 269,
    "start_time": "2022-11-13T14:14:03.400Z"
   },
   {
    "duration": 94,
    "start_time": "2022-11-13T14:14:06.790Z"
   },
   {
    "duration": 41873,
    "start_time": "2022-11-13T14:14:26.095Z"
   },
   {
    "duration": 142203,
    "start_time": "2022-11-13T14:17:04.263Z"
   },
   {
    "duration": 60,
    "start_time": "2022-11-13T14:25:43.501Z"
   },
   {
    "duration": 66,
    "start_time": "2022-11-13T14:25:52.532Z"
   },
   {
    "duration": 1115,
    "start_time": "2022-11-13T14:26:10.848Z"
   },
   {
    "duration": 70,
    "start_time": "2022-11-13T14:28:27.807Z"
   },
   {
    "duration": 52,
    "start_time": "2022-11-13T14:33:51.411Z"
   },
   {
    "duration": 95941,
    "start_time": "2022-11-13T14:34:03.749Z"
   },
   {
    "duration": 1657,
    "start_time": "2022-11-13T14:37:01.332Z"
   },
   {
    "duration": 47,
    "start_time": "2022-11-13T14:38:26.598Z"
   },
   {
    "duration": 83008,
    "start_time": "2022-11-13T14:38:31.193Z"
   },
   {
    "duration": 56,
    "start_time": "2022-11-13T14:39:54.202Z"
   },
   {
    "duration": 59,
    "start_time": "2022-11-13T14:40:15.505Z"
   },
   {
    "duration": 11833,
    "start_time": "2022-11-13T14:40:20.912Z"
   },
   {
    "duration": 23115,
    "start_time": "2022-11-13T14:40:42.462Z"
   },
   {
    "duration": 158966,
    "start_time": "2022-11-13T14:41:38.911Z"
   },
   {
    "duration": 1562,
    "start_time": "2022-11-13T14:45:46.427Z"
   },
   {
    "duration": 3,
    "start_time": "2022-11-13T14:45:47.991Z"
   },
   {
    "duration": 2911,
    "start_time": "2022-11-13T14:45:47.996Z"
   },
   {
    "duration": 18,
    "start_time": "2022-11-13T14:45:50.909Z"
   },
   {
    "duration": 180,
    "start_time": "2022-11-13T14:45:50.928Z"
   },
   {
    "duration": 130,
    "start_time": "2022-11-13T14:45:51.109Z"
   },
   {
    "duration": 168,
    "start_time": "2022-11-13T14:45:51.241Z"
   },
   {
    "duration": 142,
    "start_time": "2022-11-13T14:45:51.411Z"
   },
   {
    "duration": 170,
    "start_time": "2022-11-13T14:45:51.558Z"
   },
   {
    "duration": 101,
    "start_time": "2022-11-13T14:45:51.730Z"
   },
   {
    "duration": 4,
    "start_time": "2022-11-13T14:45:51.833Z"
   },
   {
    "duration": 302,
    "start_time": "2022-11-13T14:45:51.839Z"
   },
   {
    "duration": 4,
    "start_time": "2022-11-13T14:45:52.142Z"
   },
   {
    "duration": 295,
    "start_time": "2022-11-13T14:45:52.159Z"
   },
   {
    "duration": 237,
    "start_time": "2022-11-13T14:45:52.458Z"
   },
   {
    "duration": 152,
    "start_time": "2022-11-13T14:45:52.697Z"
   },
   {
    "duration": 142,
    "start_time": "2022-11-13T14:45:52.858Z"
   },
   {
    "duration": 213,
    "start_time": "2022-11-13T14:45:53.002Z"
   },
   {
    "duration": 130,
    "start_time": "2022-11-13T14:45:53.217Z"
   },
   {
    "duration": 87,
    "start_time": "2022-11-13T14:45:53.350Z"
   },
   {
    "duration": 72,
    "start_time": "2022-11-13T14:45:53.439Z"
   },
   {
    "duration": 94,
    "start_time": "2022-11-13T14:45:53.512Z"
   },
   {
    "duration": 667,
    "start_time": "2022-11-13T14:45:53.608Z"
   },
   {
    "duration": 768,
    "start_time": "2022-11-13T14:45:54.278Z"
   },
   {
    "duration": 211,
    "start_time": "2022-11-13T14:45:55.048Z"
   },
   {
    "duration": 327,
    "start_time": "2022-11-13T14:45:55.261Z"
   },
   {
    "duration": 277,
    "start_time": "2022-11-13T14:45:55.590Z"
   },
   {
    "duration": 122549,
    "start_time": "2022-11-13T14:45:56.725Z"
   },
   {
    "duration": 34286,
    "start_time": "2022-11-13T14:47:59.276Z"
   },
   {
    "duration": 21475,
    "start_time": "2022-11-13T14:48:33.564Z"
   },
   {
    "duration": 2634,
    "start_time": "2022-11-13T14:48:55.041Z"
   },
   {
    "duration": 114,
    "start_time": "2022-11-13T14:48:57.677Z"
   },
   {
    "duration": 16995,
    "start_time": "2022-11-13T14:49:42.924Z"
   },
   {
    "duration": 46,
    "start_time": "2022-11-13T14:50:44.899Z"
   },
   {
    "duration": 1512,
    "start_time": "2022-11-13T14:50:55.582Z"
   },
   {
    "duration": 3,
    "start_time": "2022-11-13T14:50:57.096Z"
   },
   {
    "duration": 2910,
    "start_time": "2022-11-13T14:50:57.101Z"
   },
   {
    "duration": 17,
    "start_time": "2022-11-13T14:51:00.013Z"
   },
   {
    "duration": 140,
    "start_time": "2022-11-13T14:51:00.032Z"
   },
   {
    "duration": 144,
    "start_time": "2022-11-13T14:51:00.173Z"
   },
   {
    "duration": 179,
    "start_time": "2022-11-13T14:51:00.319Z"
   },
   {
    "duration": 149,
    "start_time": "2022-11-13T14:51:00.501Z"
   },
   {
    "duration": 172,
    "start_time": "2022-11-13T14:51:00.652Z"
   },
   {
    "duration": 98,
    "start_time": "2022-11-13T14:51:00.827Z"
   },
   {
    "duration": 5,
    "start_time": "2022-11-13T14:51:00.926Z"
   },
   {
    "duration": 265,
    "start_time": "2022-11-13T14:51:01.167Z"
   },
   {
    "duration": 4,
    "start_time": "2022-11-13T14:51:01.435Z"
   },
   {
    "duration": 284,
    "start_time": "2022-11-13T14:51:01.929Z"
   },
   {
    "duration": 232,
    "start_time": "2022-11-13T14:51:02.215Z"
   },
   {
    "duration": 178,
    "start_time": "2022-11-13T14:51:04.701Z"
   },
   {
    "duration": 135,
    "start_time": "2022-11-13T14:51:05.025Z"
   },
   {
    "duration": 198,
    "start_time": "2022-11-13T14:51:05.183Z"
   },
   {
    "duration": 116,
    "start_time": "2022-11-13T14:51:05.714Z"
   },
   {
    "duration": 79,
    "start_time": "2022-11-13T14:51:05.885Z"
   },
   {
    "duration": 65,
    "start_time": "2022-11-13T14:51:06.058Z"
   },
   {
    "duration": 76,
    "start_time": "2022-11-13T14:51:06.316Z"
   },
   {
    "duration": 609,
    "start_time": "2022-11-13T14:51:09.111Z"
   },
   {
    "duration": 685,
    "start_time": "2022-11-13T14:51:09.722Z"
   },
   {
    "duration": 198,
    "start_time": "2022-11-13T14:51:11.045Z"
   },
   {
    "duration": 330,
    "start_time": "2022-11-13T14:51:11.513Z"
   },
   {
    "duration": 267,
    "start_time": "2022-11-13T14:51:13.042Z"
   },
   {
    "duration": 1525,
    "start_time": "2022-11-13T16:26:37.821Z"
   },
   {
    "duration": 3,
    "start_time": "2022-11-13T16:26:39.348Z"
   },
   {
    "duration": 2839,
    "start_time": "2022-11-13T16:26:39.352Z"
   },
   {
    "duration": 17,
    "start_time": "2022-11-13T16:26:42.193Z"
   },
   {
    "duration": 129,
    "start_time": "2022-11-13T16:26:42.211Z"
   },
   {
    "duration": 142,
    "start_time": "2022-11-13T16:26:42.342Z"
   },
   {
    "duration": 193,
    "start_time": "2022-11-13T16:26:42.486Z"
   },
   {
    "duration": 144,
    "start_time": "2022-11-13T16:26:42.681Z"
   },
   {
    "duration": 171,
    "start_time": "2022-11-13T16:26:42.827Z"
   },
   {
    "duration": 101,
    "start_time": "2022-11-13T16:26:43.000Z"
   },
   {
    "duration": 4,
    "start_time": "2022-11-13T16:26:43.103Z"
   },
   {
    "duration": 277,
    "start_time": "2022-11-13T16:26:43.108Z"
   },
   {
    "duration": 3,
    "start_time": "2022-11-13T16:26:43.387Z"
   },
   {
    "duration": 296,
    "start_time": "2022-11-13T16:26:43.392Z"
   },
   {
    "duration": 222,
    "start_time": "2022-11-13T16:26:43.690Z"
   },
   {
    "duration": 146,
    "start_time": "2022-11-13T16:26:43.913Z"
   },
   {
    "duration": 144,
    "start_time": "2022-11-13T16:26:44.061Z"
   },
   {
    "duration": 224,
    "start_time": "2022-11-13T16:26:44.207Z"
   },
   {
    "duration": 123,
    "start_time": "2022-11-13T16:26:44.433Z"
   },
   {
    "duration": 82,
    "start_time": "2022-11-13T16:26:44.558Z"
   },
   {
    "duration": 86,
    "start_time": "2022-11-13T16:26:44.641Z"
   },
   {
    "duration": 100,
    "start_time": "2022-11-13T16:26:44.728Z"
   },
   {
    "duration": 577,
    "start_time": "2022-11-13T16:26:49.003Z"
   },
   {
    "duration": 667,
    "start_time": "2022-11-13T16:26:49.582Z"
   },
   {
    "duration": 215,
    "start_time": "2022-11-13T16:26:50.251Z"
   },
   {
    "duration": 326,
    "start_time": "2022-11-13T16:26:50.468Z"
   },
   {
    "duration": 263,
    "start_time": "2022-11-13T16:26:52.660Z"
   },
   {
    "duration": 1482,
    "start_time": "2022-11-13T16:28:43.502Z"
   },
   {
    "duration": 3,
    "start_time": "2022-11-13T16:28:44.985Z"
   },
   {
    "duration": 2929,
    "start_time": "2022-11-13T16:28:44.990Z"
   },
   {
    "duration": 15,
    "start_time": "2022-11-13T16:28:47.921Z"
   },
   {
    "duration": 84,
    "start_time": "2022-11-13T16:28:47.937Z"
   },
   {
    "duration": 117,
    "start_time": "2022-11-13T16:28:48.023Z"
   },
   {
    "duration": 177,
    "start_time": "2022-11-13T16:28:48.142Z"
   },
   {
    "duration": 134,
    "start_time": "2022-11-13T16:28:48.321Z"
   },
   {
    "duration": 172,
    "start_time": "2022-11-13T16:28:48.459Z"
   },
   {
    "duration": 108,
    "start_time": "2022-11-13T16:28:48.633Z"
   },
   {
    "duration": 5,
    "start_time": "2022-11-13T16:28:48.743Z"
   },
   {
    "duration": 304,
    "start_time": "2022-11-13T16:28:48.749Z"
   },
   {
    "duration": 7,
    "start_time": "2022-11-13T16:28:49.054Z"
   },
   {
    "duration": 306,
    "start_time": "2022-11-13T16:28:49.062Z"
   },
   {
    "duration": 218,
    "start_time": "2022-11-13T16:28:49.370Z"
   },
   {
    "duration": 144,
    "start_time": "2022-11-13T16:28:49.590Z"
   },
   {
    "duration": 146,
    "start_time": "2022-11-13T16:28:49.735Z"
   },
   {
    "duration": 208,
    "start_time": "2022-11-13T16:28:49.883Z"
   },
   {
    "duration": 126,
    "start_time": "2022-11-13T16:28:50.092Z"
   },
   {
    "duration": 88,
    "start_time": "2022-11-13T16:28:50.220Z"
   },
   {
    "duration": 65,
    "start_time": "2022-11-13T16:28:50.310Z"
   },
   {
    "duration": 82,
    "start_time": "2022-11-13T16:28:50.378Z"
   },
   {
    "duration": 591,
    "start_time": "2022-11-13T16:28:50.461Z"
   },
   {
    "duration": 655,
    "start_time": "2022-11-13T16:28:51.053Z"
   },
   {
    "duration": 203,
    "start_time": "2022-11-13T16:28:51.709Z"
   },
   {
    "duration": 318,
    "start_time": "2022-11-13T16:28:51.913Z"
   },
   {
    "duration": 264,
    "start_time": "2022-11-13T16:28:52.232Z"
   },
   {
    "duration": 77967,
    "start_time": "2022-11-13T16:28:52.499Z"
   },
   {
    "duration": 19992,
    "start_time": "2022-11-13T16:30:10.469Z"
   },
   {
    "duration": 19523,
    "start_time": "2022-11-13T16:30:30.462Z"
   },
   {
    "duration": 2533,
    "start_time": "2022-11-13T16:30:49.986Z"
   },
   {
    "duration": 1364,
    "start_time": "2022-11-13T17:04:34.709Z"
   },
   {
    "duration": 3,
    "start_time": "2022-11-13T17:04:36.075Z"
   },
   {
    "duration": 2809,
    "start_time": "2022-11-13T17:04:36.079Z"
   },
   {
    "duration": 17,
    "start_time": "2022-11-13T17:04:38.890Z"
   },
   {
    "duration": 83,
    "start_time": "2022-11-13T17:04:38.908Z"
   },
   {
    "duration": 128,
    "start_time": "2022-11-13T17:04:38.993Z"
   },
   {
    "duration": 168,
    "start_time": "2022-11-13T17:04:39.123Z"
   },
   {
    "duration": 128,
    "start_time": "2022-11-13T17:04:39.293Z"
   },
   {
    "duration": 160,
    "start_time": "2022-11-13T17:04:39.423Z"
   },
   {
    "duration": 97,
    "start_time": "2022-11-13T17:04:39.585Z"
   },
   {
    "duration": 4,
    "start_time": "2022-11-13T17:04:39.683Z"
   },
   {
    "duration": 269,
    "start_time": "2022-11-13T17:04:39.688Z"
   },
   {
    "duration": 8,
    "start_time": "2022-11-13T17:04:39.958Z"
   },
   {
    "duration": 278,
    "start_time": "2022-11-13T17:04:39.970Z"
   },
   {
    "duration": 209,
    "start_time": "2022-11-13T17:04:40.250Z"
   },
   {
    "duration": 137,
    "start_time": "2022-11-13T17:04:40.460Z"
   },
   {
    "duration": 138,
    "start_time": "2022-11-13T17:04:40.598Z"
   },
   {
    "duration": 181,
    "start_time": "2022-11-13T17:04:40.739Z"
   },
   {
    "duration": 110,
    "start_time": "2022-11-13T17:04:40.921Z"
   },
   {
    "duration": 92,
    "start_time": "2022-11-13T17:04:41.033Z"
   },
   {
    "duration": 66,
    "start_time": "2022-11-13T17:04:41.126Z"
   },
   {
    "duration": 78,
    "start_time": "2022-11-13T17:04:41.193Z"
   },
   {
    "duration": 507,
    "start_time": "2022-11-13T17:04:43.194Z"
   },
   {
    "duration": 639,
    "start_time": "2022-11-13T17:04:43.703Z"
   },
   {
    "duration": 199,
    "start_time": "2022-11-13T17:04:44.344Z"
   },
   {
    "duration": 349,
    "start_time": "2022-11-13T17:04:44.545Z"
   },
   {
    "duration": 266,
    "start_time": "2022-11-13T17:04:44.896Z"
   },
   {
    "duration": 1452,
    "start_time": "2022-11-13T17:27:42.603Z"
   },
   {
    "duration": 3,
    "start_time": "2022-11-13T17:27:44.057Z"
   },
   {
    "duration": 2827,
    "start_time": "2022-11-13T17:27:44.061Z"
   },
   {
    "duration": 17,
    "start_time": "2022-11-13T17:27:46.891Z"
   },
   {
    "duration": 116,
    "start_time": "2022-11-13T17:27:46.909Z"
   },
   {
    "duration": 126,
    "start_time": "2022-11-13T17:27:47.026Z"
   },
   {
    "duration": 179,
    "start_time": "2022-11-13T17:27:47.154Z"
   },
   {
    "duration": 146,
    "start_time": "2022-11-13T17:27:47.335Z"
   },
   {
    "duration": 152,
    "start_time": "2022-11-13T17:27:47.483Z"
   },
   {
    "duration": 99,
    "start_time": "2022-11-13T17:27:47.637Z"
   },
   {
    "duration": 3,
    "start_time": "2022-11-13T17:27:47.738Z"
   },
   {
    "duration": 256,
    "start_time": "2022-11-13T17:27:47.759Z"
   },
   {
    "duration": 4,
    "start_time": "2022-11-13T17:27:48.016Z"
   },
   {
    "duration": 270,
    "start_time": "2022-11-13T17:27:48.021Z"
   },
   {
    "duration": 215,
    "start_time": "2022-11-13T17:27:48.293Z"
   },
   {
    "duration": 144,
    "start_time": "2022-11-13T17:27:48.510Z"
   },
   {
    "duration": 154,
    "start_time": "2022-11-13T17:27:48.659Z"
   },
   {
    "duration": 186,
    "start_time": "2022-11-13T17:27:48.815Z"
   },
   {
    "duration": 118,
    "start_time": "2022-11-13T17:27:49.003Z"
   },
   {
    "duration": 84,
    "start_time": "2022-11-13T17:27:49.122Z"
   },
   {
    "duration": 77,
    "start_time": "2022-11-13T17:27:49.208Z"
   },
   {
    "duration": 80,
    "start_time": "2022-11-13T17:27:49.287Z"
   },
   {
    "duration": 529,
    "start_time": "2022-11-13T17:27:49.369Z"
   },
   {
    "duration": 646,
    "start_time": "2022-11-13T17:27:49.900Z"
   },
   {
    "duration": 201,
    "start_time": "2022-11-13T17:27:50.549Z"
   },
   {
    "duration": 324,
    "start_time": "2022-11-13T17:27:50.751Z"
   },
   {
    "duration": 251,
    "start_time": "2022-11-13T17:27:51.077Z"
   },
   {
    "duration": 92,
    "start_time": "2022-11-13T17:30:30.882Z"
   },
   {
    "duration": 1394,
    "start_time": "2022-11-13T17:30:42.720Z"
   },
   {
    "duration": 2,
    "start_time": "2022-11-13T17:30:44.116Z"
   },
   {
    "duration": 2925,
    "start_time": "2022-11-13T17:30:44.120Z"
   },
   {
    "duration": 14,
    "start_time": "2022-11-13T17:30:47.047Z"
   },
   {
    "duration": 122,
    "start_time": "2022-11-13T17:30:47.063Z"
   },
   {
    "duration": 123,
    "start_time": "2022-11-13T17:30:47.187Z"
   },
   {
    "duration": 189,
    "start_time": "2022-11-13T17:30:47.312Z"
   },
   {
    "duration": 135,
    "start_time": "2022-11-13T17:30:47.503Z"
   },
   {
    "duration": 172,
    "start_time": "2022-11-13T17:30:47.640Z"
   },
   {
    "duration": 100,
    "start_time": "2022-11-13T17:30:47.815Z"
   },
   {
    "duration": 5,
    "start_time": "2022-11-13T17:30:47.917Z"
   },
   {
    "duration": 285,
    "start_time": "2022-11-13T17:30:47.923Z"
   },
   {
    "duration": 4,
    "start_time": "2022-11-13T17:30:48.210Z"
   },
   {
    "duration": 311,
    "start_time": "2022-11-13T17:30:48.215Z"
   },
   {
    "duration": 232,
    "start_time": "2022-11-13T17:30:48.528Z"
   },
   {
    "duration": 150,
    "start_time": "2022-11-13T17:30:48.762Z"
   },
   {
    "duration": 157,
    "start_time": "2022-11-13T17:30:48.913Z"
   },
   {
    "duration": 209,
    "start_time": "2022-11-13T17:30:49.072Z"
   },
   {
    "duration": 126,
    "start_time": "2022-11-13T17:30:49.283Z"
   },
   {
    "duration": 94,
    "start_time": "2022-11-13T17:30:49.411Z"
   },
   {
    "duration": 67,
    "start_time": "2022-11-13T17:30:49.507Z"
   },
   {
    "duration": 83,
    "start_time": "2022-11-13T17:30:49.576Z"
   },
   {
    "duration": 582,
    "start_time": "2022-11-13T17:30:49.661Z"
   },
   {
    "duration": 666,
    "start_time": "2022-11-13T17:30:50.245Z"
   },
   {
    "duration": 205,
    "start_time": "2022-11-13T17:30:50.913Z"
   },
   {
    "duration": 311,
    "start_time": "2022-11-13T17:30:51.120Z"
   },
   {
    "duration": 256,
    "start_time": "2022-11-13T17:30:51.433Z"
   },
   {
    "duration": 109074,
    "start_time": "2022-11-13T17:30:51.693Z"
   },
   {
    "duration": 18993,
    "start_time": "2022-11-13T17:32:40.768Z"
   },
   {
    "duration": 20135,
    "start_time": "2022-11-13T17:32:59.762Z"
   },
   {
    "duration": 2614,
    "start_time": "2022-11-13T17:33:19.899Z"
   },
   {
    "duration": 85545,
    "start_time": "2022-11-13T17:33:22.515Z"
   },
   {
    "duration": 25205,
    "start_time": "2022-11-13T17:34:48.063Z"
   },
   {
    "duration": 58634,
    "start_time": "2022-11-13T17:39:41.628Z"
   },
   {
    "duration": 14706,
    "start_time": "2022-11-13T17:40:40.264Z"
   },
   {
    "duration": 148,
    "start_time": "2022-11-13T17:40:54.971Z"
   },
   {
    "duration": 1326,
    "start_time": "2022-11-13T17:40:55.121Z"
   },
   {
    "duration": 22508,
    "start_time": "2022-11-13T17:40:56.448Z"
   },
   {
    "duration": 1217,
    "start_time": "2022-11-13T17:41:50.393Z"
   },
   {
    "duration": 21,
    "start_time": "2022-11-13T17:42:11.330Z"
   },
   {
    "duration": 22,
    "start_time": "2022-11-13T17:42:59.044Z"
   },
   {
    "duration": 1499,
    "start_time": "2022-11-13T17:44:04.751Z"
   },
   {
    "duration": 2,
    "start_time": "2022-11-13T17:44:06.252Z"
   },
   {
    "duration": 887,
    "start_time": "2022-11-13T17:44:06.256Z"
   },
   {
    "duration": 23,
    "start_time": "2022-11-13T17:44:07.145Z"
   },
   {
    "duration": 99,
    "start_time": "2022-11-13T17:44:07.170Z"
   },
   {
    "duration": 131,
    "start_time": "2022-11-13T17:44:07.271Z"
   },
   {
    "duration": 186,
    "start_time": "2022-11-13T17:44:07.404Z"
   },
   {
    "duration": 152,
    "start_time": "2022-11-13T17:44:08.120Z"
   },
   {
    "duration": 167,
    "start_time": "2022-11-13T17:44:08.776Z"
   },
   {
    "duration": 103,
    "start_time": "2022-11-13T17:44:08.956Z"
   },
   {
    "duration": 4,
    "start_time": "2022-11-13T17:44:09.142Z"
   },
   {
    "duration": 275,
    "start_time": "2022-11-13T17:44:09.495Z"
   },
   {
    "duration": 4,
    "start_time": "2022-11-13T17:44:09.772Z"
   },
   {
    "duration": 298,
    "start_time": "2022-11-13T17:44:09.999Z"
   },
   {
    "duration": 232,
    "start_time": "2022-11-13T17:44:10.298Z"
   },
   {
    "duration": 146,
    "start_time": "2022-11-13T17:44:11.214Z"
   },
   {
    "duration": 144,
    "start_time": "2022-11-13T17:44:12.046Z"
   },
   {
    "duration": 199,
    "start_time": "2022-11-13T17:44:12.548Z"
   },
   {
    "duration": 125,
    "start_time": "2022-11-13T17:44:12.749Z"
   },
   {
    "duration": 99,
    "start_time": "2022-11-13T17:44:12.876Z"
   },
   {
    "duration": 64,
    "start_time": "2022-11-13T17:44:12.977Z"
   },
   {
    "duration": 83,
    "start_time": "2022-11-13T17:44:13.043Z"
   },
   {
    "duration": 20,
    "start_time": "2022-11-13T17:44:18.109Z"
   },
   {
    "duration": 570,
    "start_time": "2022-11-13T17:44:21.422Z"
   },
   {
    "duration": 22,
    "start_time": "2022-11-13T17:44:25.216Z"
   },
   {
    "duration": 655,
    "start_time": "2022-11-13T17:44:28.743Z"
   },
   {
    "duration": 32,
    "start_time": "2022-11-13T17:44:32.727Z"
   },
   {
    "duration": 1431,
    "start_time": "2022-11-13T17:44:57.866Z"
   },
   {
    "duration": 3,
    "start_time": "2022-11-13T17:44:59.298Z"
   },
   {
    "duration": 808,
    "start_time": "2022-11-13T17:44:59.303Z"
   },
   {
    "duration": 15,
    "start_time": "2022-11-13T17:45:00.113Z"
   },
   {
    "duration": 105,
    "start_time": "2022-11-13T17:45:00.130Z"
   },
   {
    "duration": 144,
    "start_time": "2022-11-13T17:45:00.237Z"
   },
   {
    "duration": 190,
    "start_time": "2022-11-13T17:45:00.383Z"
   },
   {
    "duration": 148,
    "start_time": "2022-11-13T17:45:00.575Z"
   },
   {
    "duration": 175,
    "start_time": "2022-11-13T17:45:00.725Z"
   },
   {
    "duration": 97,
    "start_time": "2022-11-13T17:45:00.903Z"
   },
   {
    "duration": 4,
    "start_time": "2022-11-13T17:45:01.001Z"
   },
   {
    "duration": 296,
    "start_time": "2022-11-13T17:45:01.006Z"
   },
   {
    "duration": 4,
    "start_time": "2022-11-13T17:45:01.304Z"
   },
   {
    "duration": 331,
    "start_time": "2022-11-13T17:45:01.310Z"
   },
   {
    "duration": 225,
    "start_time": "2022-11-13T17:45:01.642Z"
   },
   {
    "duration": 147,
    "start_time": "2022-11-13T17:45:01.869Z"
   },
   {
    "duration": 131,
    "start_time": "2022-11-13T17:45:02.017Z"
   },
   {
    "duration": 195,
    "start_time": "2022-11-13T17:45:02.150Z"
   },
   {
    "duration": 114,
    "start_time": "2022-11-13T17:45:02.347Z"
   },
   {
    "duration": 85,
    "start_time": "2022-11-13T17:45:02.463Z"
   },
   {
    "duration": 73,
    "start_time": "2022-11-13T17:45:02.550Z"
   },
   {
    "duration": 82,
    "start_time": "2022-11-13T17:45:02.625Z"
   },
   {
    "duration": 586,
    "start_time": "2022-11-13T17:45:02.709Z"
   },
   {
    "duration": 656,
    "start_time": "2022-11-13T17:45:03.297Z"
   },
   {
    "duration": 216,
    "start_time": "2022-11-13T17:45:03.954Z"
   },
   {
    "duration": 333,
    "start_time": "2022-11-13T17:45:04.172Z"
   },
   {
    "duration": 297,
    "start_time": "2022-11-13T17:45:04.507Z"
   },
   {
    "duration": 82858,
    "start_time": "2022-11-13T17:45:04.808Z"
   },
   {
    "duration": 22892,
    "start_time": "2022-11-13T17:46:27.668Z"
   },
   {
    "duration": 19803,
    "start_time": "2022-11-13T17:46:50.562Z"
   },
   {
    "duration": 2719,
    "start_time": "2022-11-13T17:47:10.366Z"
   },
   {
    "duration": 494973,
    "start_time": "2022-11-13T17:47:13.088Z"
   },
   {
    "duration": 10398,
    "start_time": "2022-11-13T17:55:28.063Z"
   },
   {
    "duration": 103,
    "start_time": "2022-11-13T17:55:38.463Z"
   },
   {
    "duration": 21,
    "start_time": "2022-11-13T17:55:38.568Z"
   },
   {
    "duration": 1331,
    "start_time": "2022-11-13T17:55:38.591Z"
   },
   {
    "duration": 23245,
    "start_time": "2022-11-13T17:55:39.923Z"
   },
   {
    "duration": 9,
    "start_time": "2022-11-13T17:56:03.169Z"
   },
   {
    "duration": 29,
    "start_time": "2022-11-13T17:56:03.179Z"
   },
   {
    "duration": 98,
    "start_time": "2022-11-13T17:56:39.298Z"
   },
   {
    "duration": 2121,
    "start_time": "2022-11-13T17:56:39.960Z"
   },
   {
    "duration": 22,
    "start_time": "2022-11-13T17:56:53.359Z"
   },
   {
    "duration": 1381,
    "start_time": "2022-11-13T17:57:19.584Z"
   },
   {
    "duration": 3,
    "start_time": "2022-11-13T17:57:20.967Z"
   },
   {
    "duration": 780,
    "start_time": "2022-11-13T17:57:20.972Z"
   },
   {
    "duration": 17,
    "start_time": "2022-11-13T17:57:21.753Z"
   },
   {
    "duration": 104,
    "start_time": "2022-11-13T17:57:21.772Z"
   },
   {
    "duration": 131,
    "start_time": "2022-11-13T17:57:21.878Z"
   },
   {
    "duration": 188,
    "start_time": "2022-11-13T17:57:22.010Z"
   },
   {
    "duration": 139,
    "start_time": "2022-11-13T17:57:22.200Z"
   },
   {
    "duration": 167,
    "start_time": "2022-11-13T17:57:22.340Z"
   },
   {
    "duration": 98,
    "start_time": "2022-11-13T17:57:22.508Z"
   },
   {
    "duration": 5,
    "start_time": "2022-11-13T17:57:22.607Z"
   },
   {
    "duration": 289,
    "start_time": "2022-11-13T17:57:22.613Z"
   },
   {
    "duration": 4,
    "start_time": "2022-11-13T17:57:22.904Z"
   },
   {
    "duration": 300,
    "start_time": "2022-11-13T17:57:22.910Z"
   },
   {
    "duration": 241,
    "start_time": "2022-11-13T17:57:23.212Z"
   },
   {
    "duration": 138,
    "start_time": "2022-11-13T17:57:23.458Z"
   },
   {
    "duration": 138,
    "start_time": "2022-11-13T17:57:23.598Z"
   },
   {
    "duration": 200,
    "start_time": "2022-11-13T17:57:23.737Z"
   },
   {
    "duration": 113,
    "start_time": "2022-11-13T17:57:23.939Z"
   },
   {
    "duration": 77,
    "start_time": "2022-11-13T17:57:24.053Z"
   },
   {
    "duration": 68,
    "start_time": "2022-11-13T17:57:24.132Z"
   },
   {
    "duration": 74,
    "start_time": "2022-11-13T17:57:24.201Z"
   },
   {
    "duration": 11,
    "start_time": "2022-11-13T17:57:24.277Z"
   },
   {
    "duration": 607,
    "start_time": "2022-11-13T17:57:24.290Z"
   },
   {
    "duration": 623,
    "start_time": "2022-11-13T17:57:24.899Z"
   },
   {
    "duration": 209,
    "start_time": "2022-11-13T17:57:25.524Z"
   },
   {
    "duration": 313,
    "start_time": "2022-11-13T17:57:25.735Z"
   },
   {
    "duration": 260,
    "start_time": "2022-11-13T17:57:26.050Z"
   },
   {
    "duration": 85753,
    "start_time": "2022-11-13T17:57:26.312Z"
   },
   {
    "duration": 19910,
    "start_time": "2022-11-13T17:58:52.067Z"
   },
   {
    "duration": 21804,
    "start_time": "2022-11-13T17:59:11.978Z"
   },
   {
    "duration": 2757,
    "start_time": "2022-11-13T17:59:33.784Z"
   },
   {
    "duration": 58229,
    "start_time": "2022-11-13T17:59:36.543Z"
   },
   {
    "duration": 9714,
    "start_time": "2022-11-13T18:00:34.860Z"
   },
   {
    "duration": 161,
    "start_time": "2022-11-13T18:00:44.575Z"
   },
   {
    "duration": 1687,
    "start_time": "2022-11-13T18:00:44.738Z"
   },
   {
    "duration": 21922,
    "start_time": "2022-11-13T18:00:46.426Z"
   },
   {
    "duration": 8,
    "start_time": "2022-11-13T18:01:08.349Z"
   },
   {
    "duration": 11,
    "start_time": "2022-11-13T18:01:08.358Z"
   },
   {
    "duration": 92,
    "start_time": "2022-11-13T19:52:36.006Z"
   },
   {
    "duration": 44888,
    "start_time": "2022-11-13T19:52:47.273Z"
   },
   {
    "duration": 7,
    "start_time": "2022-11-13T19:55:41.283Z"
   },
   {
    "duration": 8,
    "start_time": "2022-11-13T19:55:42.155Z"
   },
   {
    "duration": 80,
    "start_time": "2022-11-13T20:00:15.884Z"
   },
   {
    "duration": 1443,
    "start_time": "2022-11-13T20:00:49.361Z"
   },
   {
    "duration": 3,
    "start_time": "2022-11-13T20:00:50.806Z"
   },
   {
    "duration": 1349,
    "start_time": "2022-11-13T20:00:50.810Z"
   },
   {
    "duration": 15,
    "start_time": "2022-11-13T20:00:52.161Z"
   },
   {
    "duration": 131,
    "start_time": "2022-11-13T20:00:52.177Z"
   },
   {
    "duration": 137,
    "start_time": "2022-11-13T20:00:52.310Z"
   },
   {
    "duration": 177,
    "start_time": "2022-11-13T20:00:52.448Z"
   },
   {
    "duration": 146,
    "start_time": "2022-11-13T20:00:52.627Z"
   },
   {
    "duration": 164,
    "start_time": "2022-11-13T20:00:52.775Z"
   },
   {
    "duration": 100,
    "start_time": "2022-11-13T20:00:52.942Z"
   },
   {
    "duration": 4,
    "start_time": "2022-11-13T20:00:53.044Z"
   },
   {
    "duration": 282,
    "start_time": "2022-11-13T20:00:53.059Z"
   },
   {
    "duration": 4,
    "start_time": "2022-11-13T20:00:53.343Z"
   },
   {
    "duration": 299,
    "start_time": "2022-11-13T20:00:53.348Z"
   },
   {
    "duration": 223,
    "start_time": "2022-11-13T20:00:53.648Z"
   },
   {
    "duration": 150,
    "start_time": "2022-11-13T20:00:53.873Z"
   },
   {
    "duration": 153,
    "start_time": "2022-11-13T20:00:54.025Z"
   },
   {
    "duration": 220,
    "start_time": "2022-11-13T20:00:54.180Z"
   },
   {
    "duration": 125,
    "start_time": "2022-11-13T20:00:54.402Z"
   },
   {
    "duration": 87,
    "start_time": "2022-11-13T20:00:54.528Z"
   },
   {
    "duration": 65,
    "start_time": "2022-11-13T20:00:54.617Z"
   },
   {
    "duration": 82,
    "start_time": "2022-11-13T20:00:54.683Z"
   },
   {
    "duration": 13,
    "start_time": "2022-11-13T20:00:54.767Z"
   },
   {
    "duration": 703,
    "start_time": "2022-11-13T20:00:54.783Z"
   },
   {
    "duration": 715,
    "start_time": "2022-11-13T20:00:55.488Z"
   },
   {
    "duration": 207,
    "start_time": "2022-11-13T20:00:56.204Z"
   },
   {
    "duration": 326,
    "start_time": "2022-11-13T20:00:56.413Z"
   },
   {
    "duration": 270,
    "start_time": "2022-11-13T20:00:56.742Z"
   },
   {
    "duration": 79352,
    "start_time": "2022-11-13T20:00:57.013Z"
   },
   {
    "duration": 20095,
    "start_time": "2022-11-13T20:02:16.367Z"
   },
   {
    "duration": 20244,
    "start_time": "2022-11-13T20:02:36.464Z"
   },
   {
    "duration": 2568,
    "start_time": "2022-11-13T20:02:56.710Z"
   },
   {
    "duration": 53886,
    "start_time": "2022-11-13T20:02:59.280Z"
   },
   {
    "duration": 17898,
    "start_time": "2022-11-13T20:03:53.168Z"
   },
   {
    "duration": 22598,
    "start_time": "2022-11-13T20:04:11.067Z"
   },
   {
    "duration": 6,
    "start_time": "2022-11-13T20:04:33.779Z"
   },
   {
    "duration": 15,
    "start_time": "2022-11-13T20:04:33.787Z"
   },
   {
    "duration": 88,
    "start_time": "2022-11-13T20:04:33.803Z"
   },
   {
    "duration": 8,
    "start_time": "2022-11-13T20:06:15.476Z"
   },
   {
    "duration": 8,
    "start_time": "2022-11-13T20:06:15.994Z"
   },
   {
    "duration": 1440,
    "start_time": "2022-11-13T20:06:41.100Z"
   },
   {
    "duration": 3,
    "start_time": "2022-11-13T20:06:42.541Z"
   },
   {
    "duration": 757,
    "start_time": "2022-11-13T20:06:42.545Z"
   },
   {
    "duration": 15,
    "start_time": "2022-11-13T20:06:43.304Z"
   },
   {
    "duration": 129,
    "start_time": "2022-11-13T20:06:43.320Z"
   },
   {
    "duration": 125,
    "start_time": "2022-11-13T20:06:43.451Z"
   },
   {
    "duration": 178,
    "start_time": "2022-11-13T20:06:43.578Z"
   },
   {
    "duration": 139,
    "start_time": "2022-11-13T20:06:43.759Z"
   },
   {
    "duration": 164,
    "start_time": "2022-11-13T20:06:43.900Z"
   },
   {
    "duration": 99,
    "start_time": "2022-11-13T20:06:44.066Z"
   },
   {
    "duration": 3,
    "start_time": "2022-11-13T20:06:44.166Z"
   },
   {
    "duration": 274,
    "start_time": "2022-11-13T20:06:44.170Z"
   },
   {
    "duration": 3,
    "start_time": "2022-11-13T20:06:44.445Z"
   },
   {
    "duration": 290,
    "start_time": "2022-11-13T20:06:44.450Z"
   },
   {
    "duration": 252,
    "start_time": "2022-11-13T20:06:44.741Z"
   },
   {
    "duration": 169,
    "start_time": "2022-11-13T20:06:44.995Z"
   },
   {
    "duration": 143,
    "start_time": "2022-11-13T20:06:45.166Z"
   },
   {
    "duration": 211,
    "start_time": "2022-11-13T20:06:45.311Z"
   },
   {
    "duration": 123,
    "start_time": "2022-11-13T20:06:45.524Z"
   },
   {
    "duration": 86,
    "start_time": "2022-11-13T20:06:45.649Z"
   },
   {
    "duration": 74,
    "start_time": "2022-11-13T20:06:45.737Z"
   },
   {
    "duration": 83,
    "start_time": "2022-11-13T20:06:45.813Z"
   },
   {
    "duration": 11,
    "start_time": "2022-11-13T20:06:45.897Z"
   },
   {
    "duration": 550,
    "start_time": "2022-11-13T20:06:45.909Z"
   },
   {
    "duration": 690,
    "start_time": "2022-11-13T20:06:46.461Z"
   },
   {
    "duration": 213,
    "start_time": "2022-11-13T20:06:47.153Z"
   },
   {
    "duration": 339,
    "start_time": "2022-11-13T20:06:47.367Z"
   },
   {
    "duration": 271,
    "start_time": "2022-11-13T20:06:47.709Z"
   },
   {
    "duration": 78583,
    "start_time": "2022-11-13T20:06:47.982Z"
   },
   {
    "duration": 19390,
    "start_time": "2022-11-13T20:08:06.569Z"
   },
   {
    "duration": 19390,
    "start_time": "2022-11-13T20:08:25.961Z"
   },
   {
    "duration": 2550,
    "start_time": "2022-11-13T20:08:45.353Z"
   },
   {
    "duration": 53155,
    "start_time": "2022-11-13T20:08:47.905Z"
   },
   {
    "duration": 17397,
    "start_time": "2022-11-13T20:09:41.062Z"
   },
   {
    "duration": 22059,
    "start_time": "2022-11-13T20:09:58.461Z"
   },
   {
    "duration": 10,
    "start_time": "2022-11-13T20:10:20.521Z"
   },
   {
    "duration": 13,
    "start_time": "2022-11-13T20:10:20.532Z"
   },
   {
    "duration": 86,
    "start_time": "2022-11-13T20:10:20.547Z"
   },
   {
    "duration": 2089,
    "start_time": "2023-04-27T08:43:50.935Z"
   },
   {
    "duration": 4,
    "start_time": "2023-04-27T08:43:53.027Z"
   },
   {
    "duration": 1493,
    "start_time": "2023-04-27T08:43:53.033Z"
   },
   {
    "duration": 20,
    "start_time": "2023-04-27T08:43:54.529Z"
   },
   {
    "duration": 183,
    "start_time": "2023-04-27T08:43:54.550Z"
   },
   {
    "duration": 135,
    "start_time": "2023-04-27T08:43:54.735Z"
   },
   {
    "duration": 192,
    "start_time": "2023-04-27T08:43:54.873Z"
   },
   {
    "duration": 168,
    "start_time": "2023-04-27T08:43:55.068Z"
   },
   {
    "duration": 181,
    "start_time": "2023-04-27T08:44:05.438Z"
   },
   {
    "duration": 95,
    "start_time": "2023-04-27T08:44:06.762Z"
   },
   {
    "duration": 5,
    "start_time": "2023-04-27T08:44:07.968Z"
   },
   {
    "duration": 356,
    "start_time": "2023-04-27T08:44:11.618Z"
   },
   {
    "duration": 5,
    "start_time": "2023-04-27T08:44:12.793Z"
   },
   {
    "duration": 357,
    "start_time": "2023-04-27T08:44:17.868Z"
   },
   {
    "duration": 299,
    "start_time": "2023-04-27T08:44:18.228Z"
   },
   {
    "duration": 249,
    "start_time": "2023-04-27T08:44:20.789Z"
   },
   {
    "duration": 259,
    "start_time": "2023-04-27T08:44:21.119Z"
   },
   {
    "duration": 340,
    "start_time": "2023-04-27T08:44:21.381Z"
   },
   {
    "duration": 166,
    "start_time": "2023-04-27T08:44:23.401Z"
   },
   {
    "duration": 129,
    "start_time": "2023-04-27T08:44:24.136Z"
   },
   {
    "duration": 90,
    "start_time": "2023-04-27T08:44:24.572Z"
   },
   {
    "duration": 113,
    "start_time": "2023-04-27T08:44:25.840Z"
   },
   {
    "duration": 15,
    "start_time": "2023-04-27T08:44:30.480Z"
   },
   {
    "duration": 1233,
    "start_time": "2023-04-27T08:44:30.744Z"
   },
   {
    "duration": 848,
    "start_time": "2023-04-27T08:44:31.979Z"
   },
   {
    "duration": 235,
    "start_time": "2023-04-27T08:44:38.288Z"
   },
   {
    "duration": 507,
    "start_time": "2023-04-27T08:44:38.751Z"
   },
   {
    "duration": 384,
    "start_time": "2023-04-27T08:44:39.263Z"
   },
   {
    "duration": 35555,
    "start_time": "2023-04-27T08:44:51.350Z"
   },
   {
    "duration": 42829,
    "start_time": "2023-04-27T08:45:40.762Z"
   },
   {
    "duration": 46149,
    "start_time": "2023-04-27T08:46:29.937Z"
   },
   {
    "duration": 38466,
    "start_time": "2023-04-27T08:47:20.434Z"
   },
   {
    "duration": 2582,
    "start_time": "2023-04-27T08:48:05.730Z"
   },
   {
    "duration": 2165,
    "start_time": "2023-04-27T08:48:16.756Z"
   },
   {
    "duration": 2251,
    "start_time": "2023-04-27T08:48:40.011Z"
   },
   {
    "duration": 397,
    "start_time": "2023-04-27T08:49:21.534Z"
   },
   {
    "duration": 49,
    "start_time": "2023-04-27T08:50:39.805Z"
   },
   {
    "duration": 415,
    "start_time": "2023-04-27T08:50:44.478Z"
   },
   {
    "duration": 37679,
    "start_time": "2023-04-27T08:50:54.612Z"
   },
   {
    "duration": 109,
    "start_time": "2023-04-27T08:51:42.227Z"
   },
   {
    "duration": 36463,
    "start_time": "2023-04-27T08:51:46.109Z"
   },
   {
    "duration": 198,
    "start_time": "2023-04-27T08:52:51.219Z"
   },
   {
    "duration": 382,
    "start_time": "2023-04-27T08:52:57.928Z"
   },
   {
    "duration": 37662,
    "start_time": "2023-04-27T08:53:18.190Z"
   },
   {
    "duration": 12114,
    "start_time": "2023-04-27T08:54:02.251Z"
   },
   {
    "duration": 131,
    "start_time": "2023-04-27T08:54:19.042Z"
   },
   {
    "duration": 24334,
    "start_time": "2023-04-27T08:54:22.709Z"
   },
   {
    "duration": 52,
    "start_time": "2023-04-27T08:54:52.745Z"
   },
   {
    "duration": 13399,
    "start_time": "2023-04-27T08:54:54.443Z"
   },
   {
    "duration": 62,
    "start_time": "2023-04-27T08:55:08.927Z"
   },
   {
    "duration": 27003,
    "start_time": "2023-04-27T08:55:10.106Z"
   },
   {
    "duration": 20,
    "start_time": "2023-04-27T08:55:47.216Z"
   },
   {
    "duration": 51,
    "start_time": "2023-04-27T08:55:52.575Z"
   },
   {
    "duration": 10,
    "start_time": "2023-04-27T08:56:31.451Z"
   },
   {
    "duration": 4,
    "start_time": "2023-04-27T08:56:31.911Z"
   },
   {
    "duration": 1096,
    "start_time": "2023-04-27T08:56:32.248Z"
   },
   {
    "duration": 17,
    "start_time": "2023-04-27T08:56:33.347Z"
   },
   {
    "duration": 145,
    "start_time": "2023-04-27T08:56:33.366Z"
   },
   {
    "duration": 143,
    "start_time": "2023-04-27T08:56:33.515Z"
   },
   {
    "duration": 197,
    "start_time": "2023-04-27T08:56:33.660Z"
   },
   {
    "duration": 124,
    "start_time": "2023-04-27T08:56:34.096Z"
   },
   {
    "duration": 167,
    "start_time": "2023-04-27T08:56:34.633Z"
   },
   {
    "duration": 104,
    "start_time": "2023-04-27T08:56:34.803Z"
   },
   {
    "duration": 5,
    "start_time": "2023-04-27T08:56:34.982Z"
   },
   {
    "duration": 302,
    "start_time": "2023-04-27T08:56:35.368Z"
   },
   {
    "duration": 5,
    "start_time": "2023-04-27T08:56:35.672Z"
   },
   {
    "duration": 361,
    "start_time": "2023-04-27T08:56:35.973Z"
   },
   {
    "duration": 278,
    "start_time": "2023-04-27T08:56:36.338Z"
   },
   {
    "duration": 273,
    "start_time": "2023-04-27T08:56:36.892Z"
   },
   {
    "duration": 193,
    "start_time": "2023-04-27T08:56:37.411Z"
   },
   {
    "duration": 179,
    "start_time": "2023-04-27T08:56:37.608Z"
   },
   {
    "duration": 136,
    "start_time": "2023-04-27T08:56:38.224Z"
   },
   {
    "duration": 95,
    "start_time": "2023-04-27T08:56:39.353Z"
   },
   {
    "duration": 66,
    "start_time": "2023-04-27T08:56:39.450Z"
   },
   {
    "duration": 109,
    "start_time": "2023-04-27T08:56:40.469Z"
   },
   {
    "duration": 18,
    "start_time": "2023-04-27T08:56:46.031Z"
   },
   {
    "duration": 1268,
    "start_time": "2023-04-27T08:56:46.184Z"
   },
   {
    "duration": 828,
    "start_time": "2023-04-27T08:56:47.454Z"
   },
   {
    "duration": 257,
    "start_time": "2023-04-27T08:56:48.284Z"
   },
   {
    "duration": 445,
    "start_time": "2023-04-27T08:56:48.544Z"
   },
   {
    "duration": 360,
    "start_time": "2023-04-27T08:56:48.991Z"
   },
   {
    "duration": 71,
    "start_time": "2023-04-27T08:56:58.380Z"
   },
   {
    "duration": 21923,
    "start_time": "2023-04-27T08:56:59.426Z"
   },
   {
    "duration": 25638,
    "start_time": "2023-04-27T08:57:23.197Z"
   },
   {
    "duration": 0,
    "start_time": "2023-04-27T08:59:05.700Z"
   },
   {
    "duration": 97259,
    "start_time": "2023-04-27T09:01:13.255Z"
   },
   {
    "duration": 36388,
    "start_time": "2023-04-27T10:37:19.853Z"
   },
   {
    "duration": 22143,
    "start_time": "2023-04-27T10:38:09.682Z"
   },
   {
    "duration": 49,
    "start_time": "2023-04-27T10:38:40.704Z"
   },
   {
    "duration": 48,
    "start_time": "2023-04-27T10:38:47.331Z"
   },
   {
    "duration": 41,
    "start_time": "2023-04-27T10:38:55.684Z"
   },
   {
    "duration": 212511,
    "start_time": "2023-04-27T10:38:56.383Z"
   },
   {
    "duration": 14160,
    "start_time": "2023-04-27T10:49:38.023Z"
   },
   {
    "duration": 10989,
    "start_time": "2023-04-27T10:49:58.652Z"
   }
  ],
  "kernelspec": {
   "display_name": "Python 3 (ipykernel)",
   "language": "python",
   "name": "python3"
  },
  "language_info": {
   "codemirror_mode": {
    "name": "ipython",
    "version": 3
   },
   "file_extension": ".py",
   "mimetype": "text/x-python",
   "name": "python",
   "nbconvert_exporter": "python",
   "pygments_lexer": "ipython3",
   "version": "3.9.5"
  },
  "toc": {
   "base_numbering": 1,
   "nav_menu": {},
   "number_sections": true,
   "sideBar": true,
   "skip_h1_title": true,
   "title_cell": "Table of Contents",
   "title_sidebar": "Contents",
   "toc_cell": false,
   "toc_position": {},
   "toc_section_display": true,
   "toc_window_display": false
  }
 },
 "nbformat": 4,
 "nbformat_minor": 2
}
