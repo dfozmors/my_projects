{
 "cells": [
  {
   "cell_type": "markdown",
   "metadata": {},
   "source": [
    "## Загрузка и подготовка данных"
   ]
  },
  {
   "cell_type": "code",
   "execution_count": 1,
   "metadata": {},
   "outputs": [],
   "source": [
    "import pandas as pd\n",
    "import numpy as np\n",
    "import math\n",
    "from scipy import stats as st\n",
    "from sklearn.linear_model import LinearRegression\n",
    "from sklearn.model_selection import train_test_split\n",
    "from sklearn.utils import shuffle\n",
    "from sklearn.metrics import mean_squared_error\n",
    "from sklearn.preprocessing import StandardScaler"
   ]
  },
  {
   "cell_type": "code",
   "execution_count": 2,
   "metadata": {},
   "outputs": [],
   "source": [
    "BUDGET = 10_000_000_000 # Общий бюджет на регион\n",
    "COST_PER_1_PROD = 450_000 #Стоимость 1 единицы продукции\n",
    "COUNT_POINT = 200 #Сколько скважин будет построено"
   ]
  },
  {
   "cell_type": "code",
   "execution_count": 3,
   "metadata": {},
   "outputs": [],
   "source": [
    "def df_info(region,region_number): #Просмотр информации о датасетах\n",
    "    print(region_number)\n",
    "    print('---------')\n",
    "    display(region.head())\n",
    "    print('----------------------------------------------------------------------------')\n",
    "    print(region.info())\n",
    "    print('----------------------------------------------------------------------------')\n",
    "    print(region.describe())\n",
    "    \n",
    "def model_learning(reg): #Функция для разделения данных и обучения модели\n",
    "    features = reg.drop(['id','product'], axis=1) #Отделение признаков\n",
    "    target = reg['product'] #Отделение целевого столбца\n",
    "    features_train, features_valid, target_train, target_valid = train_test_split(\n",
    "    features, target,test_size=0.25,random_state=5678) #Разделение выборки на тестовую и валидационную с пропорциями 75%:25%\n",
    "\n",
    "    scaler=StandardScaler() #Масштабирование признаков\n",
    "    scaler.fit(features_train)\n",
    "    features_train = scaler.transform(features_train)\n",
    "    features_valid = scaler.transform(features_valid)\n",
    "    \n",
    "    model = LinearRegression()\n",
    "    model.fit(features_train,target_train) #Обучение модели\n",
    "    predictions = model.predict(features_valid) #предсказание модели на валидационной выборке\n",
    "    \n",
    "    print('Средний запас предсказанного сырья:',predictions.mean()) \n",
    "    print('Реальный средний запас:',target_valid.mean())\n",
    "    mse = mean_squared_error(target_valid,predictions,squared=False) \n",
    "    print('RMSE модели =',mse)\n",
    "    predictions_mean = pd.Series(target_valid.mean(),index=target_valid.index)\n",
    "    mse = mean_squared_error(target_valid,predictions_mean,squared=False)\n",
    "    print('RMSE случайный',mse)\n",
    "    \n",
    "    return predictions, target_valid\n",
    "\n",
    "def income_counting(predictions,target): #Функция определения 200 лучших скважин и тогового дохода с них\n",
    "    predictions.sort_values(inplace=True)\n",
    "    predictions = predictions[-200:]\n",
    "    income = target[predictions.index].sum()*COST_PER_1_PROD\n",
    "    print('Итоговый доход с крупнейших скважин в регионе:',income) \n",
    "    if income < BUDGET:\n",
    "        print('Доходы с крупнейших скважин будут меньше чем затраты')\n",
    "    else:\n",
    "        print('Доходы с крупнейших скважин будут больше чем затраты')\n",
    "        \n",
    "    print()\n",
    "    \n",
    "def income_counting_for_boot(predictions,target): #Аналогична функции сверху (использует в функции бутстреппа)\n",
    "    predictions.sort_values(inplace=True)\n",
    "    predictions = predictions[-200:]\n",
    "    income = target[predictions.index].sum()*COST_PER_1_PROD\n",
    "    return income\n",
    "        \n",
    "def bootstrapping(predictions,target, region): #Функция бутстреппа с подсчетом риска, среднего значения и 95% квантиля\n",
    "    print(region)\n",
    "    state = np.random.RandomState(3456)\n",
    "    values = []\n",
    "    for i in range(1000): #Бутстрепп\n",
    "        subsample = predictions.sample(500,replace=True,random_state=state) #Берем случайные 500 точек\n",
    "        values.append(income_counting_for_boot(subsample,target)) #Добавляем в список доходы с лучших 200 площадок \n",
    "    values = pd.Series(values)\n",
    "    up_interval = values.quantile(0.975)\n",
    "    low_interval = values.quantile(0.025)\n",
    "    risk = 0\n",
    "    for i in range(1000): #Подсчет риска\n",
    "        if values[i]<BUDGET:\n",
    "            risk+=1\n",
    "    print('Количество рисковых объектов',risk)\n",
    "    risk_percent = risk/1000*100\n",
    "    print('Процент риска',risk_percent)\n",
    "    print('Средняя выручка с региона:',values.mean())\n",
    "    print('95% доверительный интервал',low_interval,' ',up_interval)\n",
    "    if risk_percent>2.5:\n",
    "        print('Вероятность убытков больше 2,5%')\n",
    "    else:\n",
    "        print('Вероятность убытков меньше 2,5%, можно разрабатывать месторождения в регионе')"
   ]
  },
  {
   "cell_type": "code",
   "execution_count": 4,
   "metadata": {},
   "outputs": [],
   "source": [
    "reg_1 = pd.read_csv('/datasets/geo_data_0.csv')\n",
    "reg_2 = pd.read_csv('/datasets/geo_data_1.csv')\n",
    "reg_3 = pd.read_csv('/datasets/geo_data_2.csv')"
   ]
  },
  {
   "cell_type": "code",
   "execution_count": 5,
   "metadata": {
    "scrolled": false
   },
   "outputs": [
    {
     "name": "stdout",
     "output_type": "stream",
     "text": [
      "1 регион\n",
      "---------\n"
     ]
    },
    {
     "data": {
      "text/html": [
       "<div>\n",
       "<style scoped>\n",
       "    .dataframe tbody tr th:only-of-type {\n",
       "        vertical-align: middle;\n",
       "    }\n",
       "\n",
       "    .dataframe tbody tr th {\n",
       "        vertical-align: top;\n",
       "    }\n",
       "\n",
       "    .dataframe thead th {\n",
       "        text-align: right;\n",
       "    }\n",
       "</style>\n",
       "<table border=\"1\" class=\"dataframe\">\n",
       "  <thead>\n",
       "    <tr style=\"text-align: right;\">\n",
       "      <th></th>\n",
       "      <th>id</th>\n",
       "      <th>f0</th>\n",
       "      <th>f1</th>\n",
       "      <th>f2</th>\n",
       "      <th>product</th>\n",
       "    </tr>\n",
       "  </thead>\n",
       "  <tbody>\n",
       "    <tr>\n",
       "      <th>0</th>\n",
       "      <td>txEyH</td>\n",
       "      <td>0.705745</td>\n",
       "      <td>-0.497823</td>\n",
       "      <td>1.221170</td>\n",
       "      <td>105.280062</td>\n",
       "    </tr>\n",
       "    <tr>\n",
       "      <th>1</th>\n",
       "      <td>2acmU</td>\n",
       "      <td>1.334711</td>\n",
       "      <td>-0.340164</td>\n",
       "      <td>4.365080</td>\n",
       "      <td>73.037750</td>\n",
       "    </tr>\n",
       "    <tr>\n",
       "      <th>2</th>\n",
       "      <td>409Wp</td>\n",
       "      <td>1.022732</td>\n",
       "      <td>0.151990</td>\n",
       "      <td>1.419926</td>\n",
       "      <td>85.265647</td>\n",
       "    </tr>\n",
       "    <tr>\n",
       "      <th>3</th>\n",
       "      <td>iJLyR</td>\n",
       "      <td>-0.032172</td>\n",
       "      <td>0.139033</td>\n",
       "      <td>2.978566</td>\n",
       "      <td>168.620776</td>\n",
       "    </tr>\n",
       "    <tr>\n",
       "      <th>4</th>\n",
       "      <td>Xdl7t</td>\n",
       "      <td>1.988431</td>\n",
       "      <td>0.155413</td>\n",
       "      <td>4.751769</td>\n",
       "      <td>154.036647</td>\n",
       "    </tr>\n",
       "  </tbody>\n",
       "</table>\n",
       "</div>"
      ],
      "text/plain": [
       "      id        f0        f1        f2     product\n",
       "0  txEyH  0.705745 -0.497823  1.221170  105.280062\n",
       "1  2acmU  1.334711 -0.340164  4.365080   73.037750\n",
       "2  409Wp  1.022732  0.151990  1.419926   85.265647\n",
       "3  iJLyR -0.032172  0.139033  2.978566  168.620776\n",
       "4  Xdl7t  1.988431  0.155413  4.751769  154.036647"
      ]
     },
     "metadata": {},
     "output_type": "display_data"
    },
    {
     "name": "stdout",
     "output_type": "stream",
     "text": [
      "----------------------------------------------------------------------------\n",
      "<class 'pandas.core.frame.DataFrame'>\n",
      "RangeIndex: 100000 entries, 0 to 99999\n",
      "Data columns (total 5 columns):\n",
      " #   Column   Non-Null Count   Dtype  \n",
      "---  ------   --------------   -----  \n",
      " 0   id       100000 non-null  object \n",
      " 1   f0       100000 non-null  float64\n",
      " 2   f1       100000 non-null  float64\n",
      " 3   f2       100000 non-null  float64\n",
      " 4   product  100000 non-null  float64\n",
      "dtypes: float64(4), object(1)\n",
      "memory usage: 3.8+ MB\n",
      "None\n",
      "----------------------------------------------------------------------------\n",
      "                  f0             f1             f2        product\n",
      "count  100000.000000  100000.000000  100000.000000  100000.000000\n",
      "mean        0.500419       0.250143       2.502647      92.500000\n",
      "std         0.871832       0.504433       3.248248      44.288691\n",
      "min        -1.408605      -0.848218     -12.088328       0.000000\n",
      "25%        -0.072580      -0.200881       0.287748      56.497507\n",
      "50%         0.502360       0.250252       2.515969      91.849972\n",
      "75%         1.073581       0.700646       4.715088     128.564089\n",
      "max         2.362331       1.343769      16.003790     185.364347\n"
     ]
    }
   ],
   "source": [
    "df_info(reg_1,'1 регион')"
   ]
  },
  {
   "cell_type": "code",
   "execution_count": 6,
   "metadata": {},
   "outputs": [
    {
     "name": "stdout",
     "output_type": "stream",
     "text": [
      "2 регион\n",
      "---------\n"
     ]
    },
    {
     "data": {
      "text/html": [
       "<div>\n",
       "<style scoped>\n",
       "    .dataframe tbody tr th:only-of-type {\n",
       "        vertical-align: middle;\n",
       "    }\n",
       "\n",
       "    .dataframe tbody tr th {\n",
       "        vertical-align: top;\n",
       "    }\n",
       "\n",
       "    .dataframe thead th {\n",
       "        text-align: right;\n",
       "    }\n",
       "</style>\n",
       "<table border=\"1\" class=\"dataframe\">\n",
       "  <thead>\n",
       "    <tr style=\"text-align: right;\">\n",
       "      <th></th>\n",
       "      <th>id</th>\n",
       "      <th>f0</th>\n",
       "      <th>f1</th>\n",
       "      <th>f2</th>\n",
       "      <th>product</th>\n",
       "    </tr>\n",
       "  </thead>\n",
       "  <tbody>\n",
       "    <tr>\n",
       "      <th>0</th>\n",
       "      <td>kBEdx</td>\n",
       "      <td>-15.001348</td>\n",
       "      <td>-8.276000</td>\n",
       "      <td>-0.005876</td>\n",
       "      <td>3.179103</td>\n",
       "    </tr>\n",
       "    <tr>\n",
       "      <th>1</th>\n",
       "      <td>62mP7</td>\n",
       "      <td>14.272088</td>\n",
       "      <td>-3.475083</td>\n",
       "      <td>0.999183</td>\n",
       "      <td>26.953261</td>\n",
       "    </tr>\n",
       "    <tr>\n",
       "      <th>2</th>\n",
       "      <td>vyE1P</td>\n",
       "      <td>6.263187</td>\n",
       "      <td>-5.948386</td>\n",
       "      <td>5.001160</td>\n",
       "      <td>134.766305</td>\n",
       "    </tr>\n",
       "    <tr>\n",
       "      <th>3</th>\n",
       "      <td>KcrkZ</td>\n",
       "      <td>-13.081196</td>\n",
       "      <td>-11.506057</td>\n",
       "      <td>4.999415</td>\n",
       "      <td>137.945408</td>\n",
       "    </tr>\n",
       "    <tr>\n",
       "      <th>4</th>\n",
       "      <td>AHL4O</td>\n",
       "      <td>12.702195</td>\n",
       "      <td>-8.147433</td>\n",
       "      <td>5.004363</td>\n",
       "      <td>134.766305</td>\n",
       "    </tr>\n",
       "  </tbody>\n",
       "</table>\n",
       "</div>"
      ],
      "text/plain": [
       "      id         f0         f1        f2     product\n",
       "0  kBEdx -15.001348  -8.276000 -0.005876    3.179103\n",
       "1  62mP7  14.272088  -3.475083  0.999183   26.953261\n",
       "2  vyE1P   6.263187  -5.948386  5.001160  134.766305\n",
       "3  KcrkZ -13.081196 -11.506057  4.999415  137.945408\n",
       "4  AHL4O  12.702195  -8.147433  5.004363  134.766305"
      ]
     },
     "metadata": {},
     "output_type": "display_data"
    },
    {
     "name": "stdout",
     "output_type": "stream",
     "text": [
      "----------------------------------------------------------------------------\n",
      "<class 'pandas.core.frame.DataFrame'>\n",
      "RangeIndex: 100000 entries, 0 to 99999\n",
      "Data columns (total 5 columns):\n",
      " #   Column   Non-Null Count   Dtype  \n",
      "---  ------   --------------   -----  \n",
      " 0   id       100000 non-null  object \n",
      " 1   f0       100000 non-null  float64\n",
      " 2   f1       100000 non-null  float64\n",
      " 3   f2       100000 non-null  float64\n",
      " 4   product  100000 non-null  float64\n",
      "dtypes: float64(4), object(1)\n",
      "memory usage: 3.8+ MB\n",
      "None\n",
      "----------------------------------------------------------------------------\n",
      "                  f0             f1             f2        product\n",
      "count  100000.000000  100000.000000  100000.000000  100000.000000\n",
      "mean        1.141296      -4.796579       2.494541      68.825000\n",
      "std         8.965932       5.119872       1.703572      45.944423\n",
      "min       -31.609576     -26.358598      -0.018144       0.000000\n",
      "25%        -6.298551      -8.267985       1.000021      26.953261\n",
      "50%         1.153055      -4.813172       2.011479      57.085625\n",
      "75%         8.621015      -1.332816       3.999904     107.813044\n",
      "max        29.421755      18.734063       5.019721     137.945408\n"
     ]
    }
   ],
   "source": [
    "df_info(reg_2,'2 регион')"
   ]
  },
  {
   "cell_type": "code",
   "execution_count": 7,
   "metadata": {},
   "outputs": [
    {
     "name": "stdout",
     "output_type": "stream",
     "text": [
      "3 регион\n",
      "---------\n"
     ]
    },
    {
     "data": {
      "text/html": [
       "<div>\n",
       "<style scoped>\n",
       "    .dataframe tbody tr th:only-of-type {\n",
       "        vertical-align: middle;\n",
       "    }\n",
       "\n",
       "    .dataframe tbody tr th {\n",
       "        vertical-align: top;\n",
       "    }\n",
       "\n",
       "    .dataframe thead th {\n",
       "        text-align: right;\n",
       "    }\n",
       "</style>\n",
       "<table border=\"1\" class=\"dataframe\">\n",
       "  <thead>\n",
       "    <tr style=\"text-align: right;\">\n",
       "      <th></th>\n",
       "      <th>id</th>\n",
       "      <th>f0</th>\n",
       "      <th>f1</th>\n",
       "      <th>f2</th>\n",
       "      <th>product</th>\n",
       "    </tr>\n",
       "  </thead>\n",
       "  <tbody>\n",
       "    <tr>\n",
       "      <th>0</th>\n",
       "      <td>fwXo0</td>\n",
       "      <td>-1.146987</td>\n",
       "      <td>0.963328</td>\n",
       "      <td>-0.828965</td>\n",
       "      <td>27.758673</td>\n",
       "    </tr>\n",
       "    <tr>\n",
       "      <th>1</th>\n",
       "      <td>WJtFt</td>\n",
       "      <td>0.262778</td>\n",
       "      <td>0.269839</td>\n",
       "      <td>-2.530187</td>\n",
       "      <td>56.069697</td>\n",
       "    </tr>\n",
       "    <tr>\n",
       "      <th>2</th>\n",
       "      <td>ovLUW</td>\n",
       "      <td>0.194587</td>\n",
       "      <td>0.289035</td>\n",
       "      <td>-5.586433</td>\n",
       "      <td>62.871910</td>\n",
       "    </tr>\n",
       "    <tr>\n",
       "      <th>3</th>\n",
       "      <td>q6cA6</td>\n",
       "      <td>2.236060</td>\n",
       "      <td>-0.553760</td>\n",
       "      <td>0.930038</td>\n",
       "      <td>114.572842</td>\n",
       "    </tr>\n",
       "    <tr>\n",
       "      <th>4</th>\n",
       "      <td>WPMUX</td>\n",
       "      <td>-0.515993</td>\n",
       "      <td>1.716266</td>\n",
       "      <td>5.899011</td>\n",
       "      <td>149.600746</td>\n",
       "    </tr>\n",
       "  </tbody>\n",
       "</table>\n",
       "</div>"
      ],
      "text/plain": [
       "      id        f0        f1        f2     product\n",
       "0  fwXo0 -1.146987  0.963328 -0.828965   27.758673\n",
       "1  WJtFt  0.262778  0.269839 -2.530187   56.069697\n",
       "2  ovLUW  0.194587  0.289035 -5.586433   62.871910\n",
       "3  q6cA6  2.236060 -0.553760  0.930038  114.572842\n",
       "4  WPMUX -0.515993  1.716266  5.899011  149.600746"
      ]
     },
     "metadata": {},
     "output_type": "display_data"
    },
    {
     "name": "stdout",
     "output_type": "stream",
     "text": [
      "----------------------------------------------------------------------------\n",
      "<class 'pandas.core.frame.DataFrame'>\n",
      "RangeIndex: 100000 entries, 0 to 99999\n",
      "Data columns (total 5 columns):\n",
      " #   Column   Non-Null Count   Dtype  \n",
      "---  ------   --------------   -----  \n",
      " 0   id       100000 non-null  object \n",
      " 1   f0       100000 non-null  float64\n",
      " 2   f1       100000 non-null  float64\n",
      " 3   f2       100000 non-null  float64\n",
      " 4   product  100000 non-null  float64\n",
      "dtypes: float64(4), object(1)\n",
      "memory usage: 3.8+ MB\n",
      "None\n",
      "----------------------------------------------------------------------------\n",
      "                  f0             f1             f2        product\n",
      "count  100000.000000  100000.000000  100000.000000  100000.000000\n",
      "mean        0.002023      -0.002081       2.495128      95.000000\n",
      "std         1.732045       1.730417       3.473445      44.749921\n",
      "min        -8.760004      -7.084020     -11.970335       0.000000\n",
      "25%        -1.162288      -1.174820       0.130359      59.450441\n",
      "50%         0.009424      -0.009482       2.484236      94.925613\n",
      "75%         1.158535       1.163678       4.858794     130.595027\n",
      "max         7.238262       7.844801      16.739402     190.029838\n"
     ]
    }
   ],
   "source": [
    "df_info(reg_3,'3 регион')"
   ]
  },
  {
   "cell_type": "markdown",
   "metadata": {},
   "source": [
    "Пропусков в данных не обнаружено, проверить данные на аномалии мы не можем, так как не знаем что именно за значения в столбца `f1`,`f2`,`f3`, единственное что мы можем проверить на неправильные значения это столбец `product`, в котором не может быть отрицательных значений, их там и не было обнаружено. Все данные представлены в правильном формате и в корректировке не нуждаются. По итогу можно сказать, что данные готовы к работе"
   ]
  },
  {
   "cell_type": "markdown",
   "metadata": {},
   "source": [
    "## Обучение и проверка модели"
   ]
  },
  {
   "cell_type": "code",
   "execution_count": 8,
   "metadata": {},
   "outputs": [],
   "source": [
    "reg_1=shuffle(reg_1) #Перемешиваем датафрейм\n",
    "reg_2=shuffle(reg_2) #Перемешиваем датафрейм\n",
    "reg_3=shuffle(reg_3) #Перемешиваем датафрейм"
   ]
  },
  {
   "cell_type": "code",
   "execution_count": 9,
   "metadata": {},
   "outputs": [
    {
     "name": "stdout",
     "output_type": "stream",
     "text": [
      "Средний запас предсказанного сырья: 92.40785293185843\n",
      "Реальный средний запас: 92.26607524822349\n",
      "RMSE модели = 37.57307919019012\n",
      "RMSE случайный 44.22529783010696\n"
     ]
    }
   ],
   "source": [
    "predictions_1, right_answers_1 = model_learning(reg_1)\n",
    "predictions_1 = pd.Series(predictions_1,index=right_answers_1.index) "
   ]
  },
  {
   "cell_type": "code",
   "execution_count": 10,
   "metadata": {},
   "outputs": [
    {
     "name": "stdout",
     "output_type": "stream",
     "text": [
      "Средний запас предсказанного сырья: 69.13663464963116\n",
      "Реальный средний запас: 69.12766162366945\n",
      "RMSE модели = 0.8961919269074418\n",
      "RMSE случайный 46.04249297217585\n"
     ]
    }
   ],
   "source": [
    "predictions_2, right_answers_2 = model_learning(reg_2)\n",
    "predictions_2 = pd.Series(predictions_2,index=right_answers_2.index) "
   ]
  },
  {
   "cell_type": "code",
   "execution_count": 11,
   "metadata": {},
   "outputs": [
    {
     "name": "stdout",
     "output_type": "stream",
     "text": [
      "Средний запас предсказанного сырья: 95.14486775195927\n",
      "Реальный средний запас: 94.72468627811361\n",
      "RMSE модели = 40.11321176281278\n",
      "RMSE случайный 44.845669980580496\n"
     ]
    }
   ],
   "source": [
    "predictions_3, right_answers_3 = model_learning(reg_3)\n",
    "predictions_3 = pd.Series(predictions_3,index=right_answers_3.index) "
   ]
  },
  {
   "cell_type": "markdown",
   "metadata": {},
   "source": [
    "По итогу обучения моделей и проверки на обучающих выборках мы можем увидеть, что модели неплохо справились с задачей (особенно модель во втором регионе, чем RMSE составил меньше 1), при это все модели показали значения RMSE ниже случайного, а средние значения предсказанного сырья во всех моделях не расходилось с настоязим средним более чем на 1"
   ]
  },
  {
   "cell_type": "markdown",
   "metadata": {},
   "source": [
    "## Подготовка к расчёту прибыли"
   ]
  },
  {
   "cell_type": "code",
   "execution_count": 12,
   "metadata": {},
   "outputs": [
    {
     "name": "stdout",
     "output_type": "stream",
     "text": [
      "Достаточный объём сырья для безубыточной разработки новой скважины: 112\n"
     ]
    }
   ],
   "source": [
    "print('Достаточный объём сырья для безубыточной разработки новой скважины:',\n",
    "      math.ceil(BUDGET/COUNT_POINT/COST_PER_1_PROD))"
   ]
  },
  {
   "cell_type": "markdown",
   "metadata": {},
   "source": [
    "Во всех регионах в среднем запасы единиц продукции меньше чем достаточный объем сырья для безубыточной разработки новой скважины, в среднем больше всего единиц продукции находится в регионе 3, меньше всего в регионе 2. Для максимальной прибыли нам нужно выбрать наиболее богатые месторождения"
   ]
  },
  {
   "cell_type": "code",
   "execution_count": 13,
   "metadata": {},
   "outputs": [
    {
     "name": "stdout",
     "output_type": "stream",
     "text": [
      "Итоговый доход с крупнейших скважин в регионе: 13284601704.7012\n",
      "Доходы с крупнейших скважин будут больше чем затраты\n",
      "\n",
      "Итоговый доход с крупнейших скважин в регионе: 12415086696.68151\n",
      "Доходы с крупнейших скважин будут больше чем затраты\n",
      "\n",
      "Итоговый доход с крупнейших скважин в регионе: 12198954155.273672\n",
      "Доходы с крупнейших скважин будут больше чем затраты\n",
      "\n"
     ]
    }
   ],
   "source": [
    "income_counting(predictions_1,right_answers_1)\n",
    "income_counting(predictions_2,right_answers_2)\n",
    "income_counting(predictions_3,right_answers_3)"
   ]
  },
  {
   "cell_type": "markdown",
   "metadata": {},
   "source": [
    "После проведения рассчетов можно сказать что все регионы могут быть выгодными"
   ]
  },
  {
   "cell_type": "markdown",
   "metadata": {},
   "source": [
    "## Расчёт прибыли и рисков "
   ]
  },
  {
   "cell_type": "code",
   "execution_count": 14,
   "metadata": {},
   "outputs": [
    {
     "name": "stdout",
     "output_type": "stream",
     "text": [
      "1 Регион\n",
      "Количество рисковых объектов 49\n",
      "Процент риска 4.9\n",
      "Средняя выручка с региона: 10438908034.607695\n",
      "95% доверительный интервал 9928857477.070282   10950074023.00059\n",
      "Вероятность убытков больше 2,5%\n"
     ]
    }
   ],
   "source": [
    "bootstrapping(predictions_1,right_answers_1,'1 Регион')"
   ]
  },
  {
   "cell_type": "code",
   "execution_count": 15,
   "metadata": {},
   "outputs": [
    {
     "name": "stdout",
     "output_type": "stream",
     "text": [
      "2 Регион\n",
      "Количество рисковых объектов 7\n",
      "Процент риска 0.7000000000000001\n",
      "Средняя выручка с региона: 10484892704.203327\n",
      "95% доверительный интервал 10075174068.468569   10891733478.057922\n",
      "Вероятность убытков меньше 2,5%, можно разрабатывать месторождения в регионе\n"
     ]
    }
   ],
   "source": [
    "bootstrapping(predictions_2,right_answers_2,'2 Регион')"
   ]
  },
  {
   "cell_type": "code",
   "execution_count": 16,
   "metadata": {},
   "outputs": [
    {
     "name": "stdout",
     "output_type": "stream",
     "text": [
      "3 Регион\n",
      "Количество рисковых объектов 83\n",
      "Процент риска 8.3\n",
      "Средняя выручка с региона: 10371106604.716072\n",
      "95% доверительный интервал 9811273065.372887   10970340800.783724\n",
      "Вероятность убытков больше 2,5%\n"
     ]
    }
   ],
   "source": [
    "bootstrapping(predictions_3,right_answers_3,'3 Регион')"
   ]
  },
  {
   "cell_type": "markdown",
   "metadata": {},
   "source": [
    "По итогам расчета прибыли, если мы из регионов будем исследоваать 500 случайных точек и выбирать среди них 200 лучших, то наименее рискованным будет 2 регион, при этом и средняя прибыль с региона будет практически самая высокая, так что лучше всего заниматься разработкой месторождений именно во втором регионе"
   ]
  }
 ],
 "metadata": {
  "ExecuteTimeLog": [
   {
    "duration": 1088,
    "start_time": "2022-06-27T18:07:42.091Z"
   },
   {
    "duration": 1512,
    "start_time": "2022-06-27T18:08:52.021Z"
   },
   {
    "duration": 24,
    "start_time": "2022-06-27T18:09:50.884Z"
   },
   {
    "duration": 10,
    "start_time": "2022-06-27T18:10:20.082Z"
   },
   {
    "duration": 39,
    "start_time": "2022-06-27T18:10:44.499Z"
   },
   {
    "duration": 20,
    "start_time": "2022-06-27T18:11:50.279Z"
   },
   {
    "duration": 24,
    "start_time": "2022-06-27T18:11:57.943Z"
   },
   {
    "duration": 41,
    "start_time": "2022-06-27T18:12:08.494Z"
   },
   {
    "duration": 76,
    "start_time": "2022-06-27T18:13:47.290Z"
   },
   {
    "duration": 3,
    "start_time": "2022-06-27T18:15:48.170Z"
   },
   {
    "duration": 26,
    "start_time": "2022-06-27T18:15:57.240Z"
   },
   {
    "duration": 3,
    "start_time": "2022-06-27T18:16:27.456Z"
   },
   {
    "duration": 380,
    "start_time": "2022-06-27T18:16:28.564Z"
   },
   {
    "duration": 30,
    "start_time": "2022-06-27T18:16:28.946Z"
   },
   {
    "duration": 4,
    "start_time": "2022-06-27T18:16:50.676Z"
   },
   {
    "duration": 399,
    "start_time": "2022-06-27T18:16:51.064Z"
   },
   {
    "duration": 52,
    "start_time": "2022-06-27T18:16:51.779Z"
   },
   {
    "duration": 4,
    "start_time": "2022-06-27T18:16:59.319Z"
   },
   {
    "duration": 377,
    "start_time": "2022-06-27T18:16:59.810Z"
   },
   {
    "duration": 76,
    "start_time": "2022-06-27T18:17:00.189Z"
   },
   {
    "duration": 4,
    "start_time": "2022-06-27T18:17:17.037Z"
   },
   {
    "duration": 390,
    "start_time": "2022-06-27T18:17:17.202Z"
   },
   {
    "duration": 63,
    "start_time": "2022-06-27T18:17:17.594Z"
   },
   {
    "duration": 97,
    "start_time": "2022-06-27T18:18:01.297Z"
   },
   {
    "duration": 379,
    "start_time": "2022-06-27T18:18:01.483Z"
   },
   {
    "duration": 92,
    "start_time": "2022-06-27T18:19:00.037Z"
   },
   {
    "duration": 77,
    "start_time": "2022-06-27T18:19:13.676Z"
   },
   {
    "duration": 4,
    "start_time": "2022-06-27T18:19:16.414Z"
   },
   {
    "duration": 389,
    "start_time": "2022-06-27T18:19:17.195Z"
   },
   {
    "duration": 66,
    "start_time": "2022-06-27T18:19:17.587Z"
   },
   {
    "duration": 72,
    "start_time": "2022-06-27T18:19:40.205Z"
   },
   {
    "duration": 74,
    "start_time": "2022-06-27T18:19:59.286Z"
   },
   {
    "duration": 113,
    "start_time": "2022-06-27T18:27:11.190Z"
   },
   {
    "duration": 9,
    "start_time": "2022-06-27T18:27:25.896Z"
   },
   {
    "duration": 9,
    "start_time": "2022-06-27T18:33:50.274Z"
   },
   {
    "duration": 5,
    "start_time": "2022-06-27T18:34:08.660Z"
   },
   {
    "duration": 5,
    "start_time": "2022-06-27T18:34:23.803Z"
   },
   {
    "duration": 12,
    "start_time": "2022-06-27T18:34:32.538Z"
   },
   {
    "duration": 3,
    "start_time": "2022-06-27T18:35:04.864Z"
   },
   {
    "duration": 365,
    "start_time": "2022-06-27T18:35:26.923Z"
   },
   {
    "duration": 7,
    "start_time": "2022-06-27T18:35:54.989Z"
   },
   {
    "duration": 14,
    "start_time": "2022-06-27T18:37:39.550Z"
   },
   {
    "duration": 28,
    "start_time": "2022-06-27T18:37:46.556Z"
   },
   {
    "duration": 29,
    "start_time": "2022-06-27T18:38:20.870Z"
   },
   {
    "duration": 35,
    "start_time": "2022-06-27T18:38:40.008Z"
   },
   {
    "duration": 26,
    "start_time": "2022-06-27T18:38:45.678Z"
   },
   {
    "duration": 63,
    "start_time": "2022-06-27T18:41:55.682Z"
   },
   {
    "duration": 24,
    "start_time": "2022-06-27T18:42:06.197Z"
   },
   {
    "duration": 3,
    "start_time": "2022-06-27T18:42:59.001Z"
   },
   {
    "duration": 41,
    "start_time": "2022-06-27T18:44:07.410Z"
   },
   {
    "duration": 27,
    "start_time": "2022-06-27T18:44:11.663Z"
   },
   {
    "duration": 4,
    "start_time": "2022-06-27T18:47:49.560Z"
   },
   {
    "duration": 9,
    "start_time": "2022-06-27T18:48:25.488Z"
   },
   {
    "duration": 8,
    "start_time": "2022-06-27T18:49:05.095Z"
   },
   {
    "duration": 79,
    "start_time": "2022-06-27T18:49:16.324Z"
   },
   {
    "duration": 15,
    "start_time": "2022-06-27T18:49:20.049Z"
   },
   {
    "duration": 4,
    "start_time": "2022-06-27T18:49:28.525Z"
   },
   {
    "duration": 10,
    "start_time": "2022-06-27T18:49:29.210Z"
   },
   {
    "duration": 3,
    "start_time": "2022-06-27T18:49:38.614Z"
   },
   {
    "duration": 5,
    "start_time": "2022-06-27T18:50:05.762Z"
   },
   {
    "duration": 26,
    "start_time": "2022-06-27T18:50:11.004Z"
   },
   {
    "duration": 25,
    "start_time": "2022-06-27T18:50:25.396Z"
   },
   {
    "duration": 26,
    "start_time": "2022-06-27T18:50:33.217Z"
   },
   {
    "duration": 5,
    "start_time": "2022-06-27T18:50:42.182Z"
   },
   {
    "duration": 23,
    "start_time": "2022-06-27T18:50:57.884Z"
   },
   {
    "duration": 13,
    "start_time": "2022-06-27T18:51:34.139Z"
   },
   {
    "duration": 78,
    "start_time": "2022-06-27T18:51:36.264Z"
   },
   {
    "duration": 27,
    "start_time": "2022-06-27T18:52:26.133Z"
   },
   {
    "duration": 7,
    "start_time": "2022-06-27T18:52:52.258Z"
   },
   {
    "duration": 69,
    "start_time": "2022-06-27T18:53:45.281Z"
   },
   {
    "duration": 23,
    "start_time": "2022-06-27T18:54:31.214Z"
   },
   {
    "duration": 33,
    "start_time": "2022-06-27T18:54:33.437Z"
   },
   {
    "duration": 5,
    "start_time": "2022-06-27T18:54:43.899Z"
   },
   {
    "duration": 35,
    "start_time": "2022-06-27T18:54:47.258Z"
   },
   {
    "duration": 37,
    "start_time": "2022-06-27T18:54:49.027Z"
   },
   {
    "duration": 46,
    "start_time": "2022-06-27T18:54:50.608Z"
   },
   {
    "duration": 6,
    "start_time": "2022-06-27T18:56:28.581Z"
   },
   {
    "duration": 30,
    "start_time": "2022-06-27T18:56:32.379Z"
   },
   {
    "duration": 29,
    "start_time": "2022-06-27T18:56:32.795Z"
   },
   {
    "duration": 31,
    "start_time": "2022-06-27T18:56:47.430Z"
   },
   {
    "duration": 6,
    "start_time": "2022-06-27T19:02:41.616Z"
   },
   {
    "duration": 7,
    "start_time": "2022-06-27T19:04:21.838Z"
   },
   {
    "duration": 31,
    "start_time": "2022-06-27T19:04:26.096Z"
   },
   {
    "duration": 37,
    "start_time": "2022-06-27T19:04:27.411Z"
   },
   {
    "duration": 29,
    "start_time": "2022-06-27T19:04:27.901Z"
   },
   {
    "duration": 9,
    "start_time": "2022-06-27T19:04:37.442Z"
   },
   {
    "duration": 104,
    "start_time": "2022-06-27T19:04:40.837Z"
   },
   {
    "duration": 78,
    "start_time": "2022-06-27T19:04:41.264Z"
   },
   {
    "duration": 51,
    "start_time": "2022-06-27T19:04:41.618Z"
   },
   {
    "duration": 4,
    "start_time": "2022-06-27T19:05:08.221Z"
   },
   {
    "duration": 6,
    "start_time": "2022-06-27T19:05:47.717Z"
   },
   {
    "duration": 37,
    "start_time": "2022-06-27T19:05:51.312Z"
   },
   {
    "duration": 55,
    "start_time": "2022-06-27T19:05:51.587Z"
   },
   {
    "duration": 176,
    "start_time": "2022-06-27T19:05:55.366Z"
   },
   {
    "duration": 5,
    "start_time": "2022-06-27T19:06:33.003Z"
   },
   {
    "duration": 397,
    "start_time": "2022-06-27T19:06:34.381Z"
   },
   {
    "duration": 53,
    "start_time": "2022-06-27T19:06:34.810Z"
   },
   {
    "duration": 53,
    "start_time": "2022-06-27T19:06:34.986Z"
   },
   {
    "duration": 52,
    "start_time": "2022-06-27T19:06:35.162Z"
   },
   {
    "duration": 42,
    "start_time": "2022-06-27T19:06:36.625Z"
   },
   {
    "duration": 49,
    "start_time": "2022-06-27T19:06:36.995Z"
   },
   {
    "duration": 30,
    "start_time": "2022-06-27T19:06:37.363Z"
   },
   {
    "duration": 5,
    "start_time": "2022-06-27T19:06:38.954Z"
   },
   {
    "duration": 8,
    "start_time": "2022-06-27T19:11:01.514Z"
   },
   {
    "duration": 9,
    "start_time": "2022-06-27T19:11:05.899Z"
   },
   {
    "duration": 5,
    "start_time": "2022-06-27T19:11:12.529Z"
   },
   {
    "duration": 7,
    "start_time": "2022-06-27T19:13:43.401Z"
   },
   {
    "duration": 6,
    "start_time": "2022-06-27T19:18:14.128Z"
   },
   {
    "duration": 38,
    "start_time": "2022-06-27T19:18:18.260Z"
   },
   {
    "duration": 47,
    "start_time": "2022-06-27T19:18:20.024Z"
   },
   {
    "duration": 57,
    "start_time": "2022-06-27T19:18:24.030Z"
   },
   {
    "duration": 7,
    "start_time": "2022-06-27T19:19:30.867Z"
   },
   {
    "duration": 373,
    "start_time": "2022-06-27T19:19:31.458Z"
   },
   {
    "duration": 62,
    "start_time": "2022-06-27T19:19:31.834Z"
   },
   {
    "duration": 59,
    "start_time": "2022-06-27T19:19:32.053Z"
   },
   {
    "duration": 71,
    "start_time": "2022-06-27T19:19:32.537Z"
   },
   {
    "duration": 45,
    "start_time": "2022-06-27T19:19:43.009Z"
   },
   {
    "duration": 40,
    "start_time": "2022-06-27T19:19:43.854Z"
   },
   {
    "duration": 40,
    "start_time": "2022-06-27T19:19:44.918Z"
   },
   {
    "duration": 6,
    "start_time": "2022-06-27T19:20:19.010Z"
   },
   {
    "duration": 4,
    "start_time": "2022-06-27T19:25:21.262Z"
   },
   {
    "duration": 11,
    "start_time": "2022-06-27T19:25:52.607Z"
   },
   {
    "duration": 4,
    "start_time": "2022-06-27T19:26:04.415Z"
   },
   {
    "duration": 5,
    "start_time": "2022-06-27T19:28:55.194Z"
   },
   {
    "duration": 3,
    "start_time": "2022-06-27T19:32:17.782Z"
   },
   {
    "duration": 5,
    "start_time": "2022-06-27T19:37:06.187Z"
   },
   {
    "duration": 4,
    "start_time": "2022-06-27T19:37:10.787Z"
   },
   {
    "duration": 6,
    "start_time": "2022-06-27T19:37:13.524Z"
   },
   {
    "duration": 93,
    "start_time": "2022-06-27T19:37:21.663Z"
   },
   {
    "duration": 42,
    "start_time": "2022-06-27T19:37:22.366Z"
   },
   {
    "duration": 39,
    "start_time": "2022-06-27T19:37:22.689Z"
   },
   {
    "duration": 4,
    "start_time": "2022-06-27T19:37:26.235Z"
   },
   {
    "duration": 6,
    "start_time": "2022-06-27T19:37:57.983Z"
   },
   {
    "duration": 40,
    "start_time": "2022-06-27T19:38:00.902Z"
   },
   {
    "duration": 39,
    "start_time": "2022-06-27T19:38:01.143Z"
   },
   {
    "duration": 46,
    "start_time": "2022-06-27T19:38:01.603Z"
   },
   {
    "duration": 5,
    "start_time": "2022-06-27T19:38:04.414Z"
   },
   {
    "duration": 5,
    "start_time": "2022-06-27T19:38:13.720Z"
   },
   {
    "duration": 8,
    "start_time": "2022-06-27T19:38:22.769Z"
   },
   {
    "duration": 63,
    "start_time": "2022-06-27T19:38:28.979Z"
   },
   {
    "duration": 37,
    "start_time": "2022-06-27T19:38:29.506Z"
   },
   {
    "duration": 62,
    "start_time": "2022-06-27T19:38:29.786Z"
   },
   {
    "duration": 5,
    "start_time": "2022-06-27T19:38:32.696Z"
   },
   {
    "duration": 7,
    "start_time": "2022-06-27T19:38:39.943Z"
   },
   {
    "duration": 96,
    "start_time": "2022-06-27T19:38:43.446Z"
   },
   {
    "duration": 69,
    "start_time": "2022-06-27T19:38:45.778Z"
   },
   {
    "duration": 79,
    "start_time": "2022-06-27T19:38:46.268Z"
   },
   {
    "duration": 8,
    "start_time": "2022-06-27T19:39:13.144Z"
   },
   {
    "duration": 75,
    "start_time": "2022-06-27T19:39:16.967Z"
   },
   {
    "duration": 39,
    "start_time": "2022-06-27T19:39:17.803Z"
   },
   {
    "duration": 41,
    "start_time": "2022-06-27T19:39:18.567Z"
   },
   {
    "duration": 5,
    "start_time": "2022-06-27T19:39:29.565Z"
   },
   {
    "duration": 4,
    "start_time": "2022-06-27T19:40:29.412Z"
   },
   {
    "duration": 7,
    "start_time": "2022-06-27T19:40:29.418Z"
   },
   {
    "duration": 396,
    "start_time": "2022-06-27T19:40:29.427Z"
   },
   {
    "duration": 56,
    "start_time": "2022-06-27T19:40:29.826Z"
   },
   {
    "duration": 74,
    "start_time": "2022-06-27T19:40:29.885Z"
   },
   {
    "duration": 54,
    "start_time": "2022-06-27T19:40:29.961Z"
   },
   {
    "duration": 79,
    "start_time": "2022-06-27T19:40:30.017Z"
   },
   {
    "duration": 131,
    "start_time": "2022-06-27T19:40:30.143Z"
   },
   {
    "duration": 196,
    "start_time": "2022-06-27T19:40:30.277Z"
   },
   {
    "duration": 6,
    "start_time": "2022-06-27T19:40:30.541Z"
   },
   {
    "duration": 106,
    "start_time": "2022-06-27T19:40:30.549Z"
   },
   {
    "duration": 1205,
    "start_time": "2022-06-27T19:40:47.104Z"
   },
   {
    "duration": 7,
    "start_time": "2022-06-27T19:40:48.311Z"
   },
   {
    "duration": 397,
    "start_time": "2022-06-27T19:40:48.320Z"
   },
   {
    "duration": 75,
    "start_time": "2022-06-27T19:40:48.720Z"
   },
   {
    "duration": 76,
    "start_time": "2022-06-27T19:40:48.796Z"
   },
   {
    "duration": 70,
    "start_time": "2022-06-27T19:40:48.874Z"
   },
   {
    "duration": 308,
    "start_time": "2022-06-27T19:40:48.945Z"
   },
   {
    "duration": 0,
    "start_time": "2022-06-27T19:40:49.255Z"
   },
   {
    "duration": 0,
    "start_time": "2022-06-27T19:40:49.256Z"
   },
   {
    "duration": 0,
    "start_time": "2022-06-27T19:40:49.258Z"
   },
   {
    "duration": 0,
    "start_time": "2022-06-27T19:40:49.260Z"
   },
   {
    "duration": 9,
    "start_time": "2022-06-27T19:41:50.191Z"
   },
   {
    "duration": 181,
    "start_time": "2022-06-27T19:41:53.875Z"
   },
   {
    "duration": 7,
    "start_time": "2022-06-27T19:43:16.580Z"
   },
   {
    "duration": 10,
    "start_time": "2022-06-27T19:43:47.395Z"
   },
   {
    "duration": 112,
    "start_time": "2022-06-27T19:48:35.015Z"
   },
   {
    "duration": 6,
    "start_time": "2022-06-27T19:48:41.143Z"
   },
   {
    "duration": 71,
    "start_time": "2022-06-27T19:51:57.760Z"
   },
   {
    "duration": 74,
    "start_time": "2022-06-27T19:52:10.654Z"
   },
   {
    "duration": 77,
    "start_time": "2022-06-27T19:52:22.370Z"
   },
   {
    "duration": 76,
    "start_time": "2022-06-27T19:53:07.526Z"
   },
   {
    "duration": 75,
    "start_time": "2022-06-27T19:53:18.856Z"
   },
   {
    "duration": 14,
    "start_time": "2022-06-27T19:53:32.684Z"
   },
   {
    "duration": 10,
    "start_time": "2022-06-27T19:53:51.141Z"
   },
   {
    "duration": 14,
    "start_time": "2022-06-27T19:54:12.240Z"
   },
   {
    "duration": 113,
    "start_time": "2022-06-27T19:56:16.331Z"
   },
   {
    "duration": 45,
    "start_time": "2022-06-27T19:56:20.331Z"
   },
   {
    "duration": 44,
    "start_time": "2022-06-27T19:56:28.414Z"
   },
   {
    "duration": 56,
    "start_time": "2022-06-27T19:56:36.787Z"
   },
   {
    "duration": 82,
    "start_time": "2022-06-27T19:56:39.160Z"
   },
   {
    "duration": 42,
    "start_time": "2022-06-27T19:56:40.715Z"
   },
   {
    "duration": 44,
    "start_time": "2022-06-27T19:56:42.214Z"
   },
   {
    "duration": 46,
    "start_time": "2022-06-27T19:56:43.706Z"
   },
   {
    "duration": 82,
    "start_time": "2022-06-27T19:56:45.061Z"
   },
   {
    "duration": 46,
    "start_time": "2022-06-27T19:56:46.405Z"
   },
   {
    "duration": 46,
    "start_time": "2022-06-27T19:57:52.216Z"
   },
   {
    "duration": 30,
    "start_time": "2022-06-27T19:57:55.687Z"
   },
   {
    "duration": 88,
    "start_time": "2022-06-27T19:57:58.553Z"
   },
   {
    "duration": 31,
    "start_time": "2022-06-27T19:58:00.188Z"
   },
   {
    "duration": 84,
    "start_time": "2022-06-27T19:58:03.358Z"
   },
   {
    "duration": 30,
    "start_time": "2022-06-27T19:58:16.332Z"
   },
   {
    "duration": 36,
    "start_time": "2022-06-27T20:05:04.759Z"
   },
   {
    "duration": 6,
    "start_time": "2022-06-27T20:05:09.362Z"
   },
   {
    "duration": 5,
    "start_time": "2022-06-27T20:05:11.758Z"
   },
   {
    "duration": 4,
    "start_time": "2022-06-27T20:05:14.198Z"
   },
   {
    "duration": 6,
    "start_time": "2022-06-27T20:09:03.305Z"
   },
   {
    "duration": 4,
    "start_time": "2022-06-27T20:09:23.042Z"
   },
   {
    "duration": 5,
    "start_time": "2022-06-27T20:09:29.132Z"
   },
   {
    "duration": 6,
    "start_time": "2022-06-27T20:09:32.274Z"
   },
   {
    "duration": 5,
    "start_time": "2022-06-27T20:09:40.993Z"
   },
   {
    "duration": 14,
    "start_time": "2022-06-27T20:10:29.659Z"
   },
   {
    "duration": 11,
    "start_time": "2022-06-27T20:10:36.114Z"
   },
   {
    "duration": 5,
    "start_time": "2022-06-27T20:10:47.886Z"
   },
   {
    "duration": 4,
    "start_time": "2022-06-27T20:10:50.172Z"
   },
   {
    "duration": 13,
    "start_time": "2022-06-27T20:13:13.747Z"
   },
   {
    "duration": 10,
    "start_time": "2022-06-27T20:13:29.139Z"
   },
   {
    "duration": 6,
    "start_time": "2022-06-27T20:14:07.591Z"
   },
   {
    "duration": 3,
    "start_time": "2022-06-27T20:14:20.570Z"
   },
   {
    "duration": 6,
    "start_time": "2022-06-27T20:14:30.805Z"
   },
   {
    "duration": 6,
    "start_time": "2022-06-27T20:14:40.976Z"
   },
   {
    "duration": 5,
    "start_time": "2022-06-27T20:14:44.906Z"
   },
   {
    "duration": 5,
    "start_time": "2022-06-27T20:15:43.181Z"
   },
   {
    "duration": 5,
    "start_time": "2022-06-27T20:15:51.200Z"
   },
   {
    "duration": 7,
    "start_time": "2022-06-27T20:16:10.556Z"
   },
   {
    "duration": 8,
    "start_time": "2022-06-27T20:16:20.351Z"
   },
   {
    "duration": 6,
    "start_time": "2022-06-27T20:17:20.499Z"
   },
   {
    "duration": 160,
    "start_time": "2022-06-27T20:17:38.383Z"
   },
   {
    "duration": 5,
    "start_time": "2022-06-27T20:17:41.772Z"
   },
   {
    "duration": 6,
    "start_time": "2022-06-27T20:17:42.684Z"
   },
   {
    "duration": 69,
    "start_time": "2022-06-27T20:17:55.883Z"
   },
   {
    "duration": 5,
    "start_time": "2022-06-27T20:18:16.539Z"
   },
   {
    "duration": 7,
    "start_time": "2022-06-27T20:18:18.723Z"
   },
   {
    "duration": 7,
    "start_time": "2022-06-27T20:18:24.862Z"
   },
   {
    "duration": 1162,
    "start_time": "2022-06-27T20:18:33.362Z"
   },
   {
    "duration": 6,
    "start_time": "2022-06-27T20:18:34.526Z"
   },
   {
    "duration": 1736,
    "start_time": "2022-06-27T20:18:34.535Z"
   },
   {
    "duration": 81,
    "start_time": "2022-06-27T20:18:36.274Z"
   },
   {
    "duration": 74,
    "start_time": "2022-06-27T20:18:36.359Z"
   },
   {
    "duration": 72,
    "start_time": "2022-06-27T20:18:36.436Z"
   },
   {
    "duration": 73,
    "start_time": "2022-06-27T20:18:36.510Z"
   },
   {
    "duration": 65,
    "start_time": "2022-06-27T20:18:36.585Z"
   },
   {
    "duration": 197,
    "start_time": "2022-06-27T20:18:36.653Z"
   },
   {
    "duration": 190,
    "start_time": "2022-06-27T20:18:36.853Z"
   },
   {
    "duration": 13,
    "start_time": "2022-06-27T20:18:37.047Z"
   },
   {
    "duration": 134,
    "start_time": "2022-06-27T20:18:37.063Z"
   },
   {
    "duration": 3,
    "start_time": "2022-06-27T20:29:12.410Z"
   },
   {
    "duration": 10,
    "start_time": "2022-06-27T20:35:16.789Z"
   },
   {
    "duration": 121,
    "start_time": "2022-06-27T20:35:47.167Z"
   },
   {
    "duration": 13,
    "start_time": "2022-06-27T20:37:06.567Z"
   },
   {
    "duration": 25,
    "start_time": "2022-06-27T20:37:11.463Z"
   },
   {
    "duration": 10,
    "start_time": "2022-06-27T20:38:50.922Z"
   },
   {
    "duration": 22,
    "start_time": "2022-06-27T20:38:54.739Z"
   },
   {
    "duration": 8,
    "start_time": "2022-06-27T20:39:15.784Z"
   },
   {
    "duration": 1063,
    "start_time": "2022-06-27T20:39:19.773Z"
   },
   {
    "duration": 979,
    "start_time": "2022-06-27T20:40:20.527Z"
   },
   {
    "duration": 8,
    "start_time": "2022-06-27T20:40:38.745Z"
   },
   {
    "duration": 966,
    "start_time": "2022-06-27T20:40:42.183Z"
   },
   {
    "duration": 8,
    "start_time": "2022-06-27T20:41:05.368Z"
   },
   {
    "duration": 10,
    "start_time": "2022-06-27T20:41:06.923Z"
   },
   {
    "duration": 947,
    "start_time": "2022-06-27T20:41:12.060Z"
   },
   {
    "duration": 962,
    "start_time": "2022-06-27T20:41:17.083Z"
   },
   {
    "duration": 7,
    "start_time": "2022-06-27T20:42:39.522Z"
   },
   {
    "duration": 1125,
    "start_time": "2022-06-27T20:42:42.996Z"
   },
   {
    "duration": 8,
    "start_time": "2022-06-27T20:43:00.667Z"
   },
   {
    "duration": 1043,
    "start_time": "2022-06-27T20:43:05.132Z"
   },
   {
    "duration": 8,
    "start_time": "2022-06-27T20:43:46.538Z"
   },
   {
    "duration": 10,
    "start_time": "2022-06-27T20:43:52.599Z"
   },
   {
    "duration": 8,
    "start_time": "2022-06-27T20:44:17.918Z"
   },
   {
    "duration": 14,
    "start_time": "2022-06-27T20:44:22.300Z"
   },
   {
    "duration": 8,
    "start_time": "2022-06-27T20:44:28.075Z"
   },
   {
    "duration": 11,
    "start_time": "2022-06-27T20:44:31.752Z"
   },
   {
    "duration": 8,
    "start_time": "2022-06-27T20:45:02.532Z"
   },
   {
    "duration": 440,
    "start_time": "2022-06-27T20:45:06.031Z"
   },
   {
    "duration": 403,
    "start_time": "2022-06-27T20:45:08.795Z"
   },
   {
    "duration": 94,
    "start_time": "2022-06-27T20:50:37.119Z"
   },
   {
    "duration": 8,
    "start_time": "2022-06-27T20:50:43.064Z"
   },
   {
    "duration": 6,
    "start_time": "2022-06-27T20:50:46.797Z"
   },
   {
    "duration": 422,
    "start_time": "2022-06-27T20:50:51.317Z"
   },
   {
    "duration": 8,
    "start_time": "2022-06-27T20:51:10.091Z"
   },
   {
    "duration": 417,
    "start_time": "2022-06-27T20:51:14.383Z"
   },
   {
    "duration": 8,
    "start_time": "2022-06-27T20:51:44.599Z"
   },
   {
    "duration": 426,
    "start_time": "2022-06-27T20:51:48.992Z"
   },
   {
    "duration": 75,
    "start_time": "2022-06-27T20:52:17.895Z"
   },
   {
    "duration": 9,
    "start_time": "2022-06-27T20:52:28.621Z"
   },
   {
    "duration": 431,
    "start_time": "2022-06-27T20:52:32.346Z"
   },
   {
    "duration": 407,
    "start_time": "2022-06-27T20:52:41.658Z"
   },
   {
    "duration": 8,
    "start_time": "2022-06-27T20:53:00.508Z"
   },
   {
    "duration": 435,
    "start_time": "2022-06-27T20:53:04.604Z"
   },
   {
    "duration": 436,
    "start_time": "2022-06-27T20:53:26.906Z"
   },
   {
    "duration": 421,
    "start_time": "2022-06-27T20:53:41.883Z"
   },
   {
    "duration": 8,
    "start_time": "2022-06-27T20:54:47.385Z"
   },
   {
    "duration": 431,
    "start_time": "2022-06-27T20:54:52.449Z"
   },
   {
    "duration": 453,
    "start_time": "2022-06-27T20:54:56.064Z"
   },
   {
    "duration": 12,
    "start_time": "2022-06-27T20:55:44.154Z"
   },
   {
    "duration": 8,
    "start_time": "2022-06-27T20:56:20.599Z"
   },
   {
    "duration": 8,
    "start_time": "2022-06-27T20:56:24.410Z"
   },
   {
    "duration": 78,
    "start_time": "2022-06-27T20:56:32.722Z"
   },
   {
    "duration": 9,
    "start_time": "2022-06-27T20:56:38.619Z"
   },
   {
    "duration": 8,
    "start_time": "2022-06-27T20:56:42.180Z"
   },
   {
    "duration": 9,
    "start_time": "2022-06-27T20:57:00.518Z"
   },
   {
    "duration": 9,
    "start_time": "2022-06-27T20:57:07.399Z"
   },
   {
    "duration": 9,
    "start_time": "2022-06-27T20:57:25.768Z"
   },
   {
    "duration": 7,
    "start_time": "2022-06-27T20:57:30.427Z"
   },
   {
    "duration": 9,
    "start_time": "2022-06-27T20:58:11.205Z"
   },
   {
    "duration": 449,
    "start_time": "2022-06-27T20:58:18.151Z"
   },
   {
    "duration": 8,
    "start_time": "2022-06-27T21:05:06.092Z"
   },
   {
    "duration": 8,
    "start_time": "2022-06-27T21:05:10.986Z"
   },
   {
    "duration": 429,
    "start_time": "2022-06-27T21:05:14.481Z"
   },
   {
    "duration": 447,
    "start_time": "2022-06-27T21:05:18.020Z"
   },
   {
    "duration": 427,
    "start_time": "2022-06-27T21:05:20.331Z"
   },
   {
    "duration": 8,
    "start_time": "2022-06-27T21:06:17.946Z"
   },
   {
    "duration": 453,
    "start_time": "2022-06-27T21:06:22.223Z"
   },
   {
    "duration": 8,
    "start_time": "2022-06-27T21:06:40.388Z"
   },
   {
    "duration": 8,
    "start_time": "2022-06-27T21:06:53.735Z"
   },
   {
    "duration": 9,
    "start_time": "2022-06-27T21:07:05.897Z"
   },
   {
    "duration": 1133,
    "start_time": "2022-06-27T21:07:11.700Z"
   },
   {
    "duration": 9,
    "start_time": "2022-06-27T21:07:12.836Z"
   },
   {
    "duration": 409,
    "start_time": "2022-06-27T21:07:12.847Z"
   },
   {
    "duration": 69,
    "start_time": "2022-06-27T21:07:13.258Z"
   },
   {
    "duration": 52,
    "start_time": "2022-06-27T21:07:13.341Z"
   },
   {
    "duration": 73,
    "start_time": "2022-06-27T21:07:13.395Z"
   },
   {
    "duration": 73,
    "start_time": "2022-06-27T21:07:13.469Z"
   },
   {
    "duration": 39,
    "start_time": "2022-06-27T21:07:13.544Z"
   },
   {
    "duration": 114,
    "start_time": "2022-06-27T21:07:13.644Z"
   },
   {
    "duration": 288,
    "start_time": "2022-06-27T21:07:13.761Z"
   },
   {
    "duration": 5,
    "start_time": "2022-06-27T21:07:14.050Z"
   },
   {
    "duration": 98,
    "start_time": "2022-06-27T21:07:14.057Z"
   },
   {
    "duration": 465,
    "start_time": "2022-06-27T21:07:14.157Z"
   },
   {
    "duration": 448,
    "start_time": "2022-06-27T21:07:14.626Z"
   },
   {
    "duration": 434,
    "start_time": "2022-06-27T21:07:15.076Z"
   },
   {
    "duration": 120,
    "start_time": "2022-06-27T21:09:17.321Z"
   },
   {
    "duration": 29,
    "start_time": "2022-06-27T21:09:38.715Z"
   },
   {
    "duration": 64,
    "start_time": "2022-06-27T21:09:43.680Z"
   },
   {
    "duration": 1149,
    "start_time": "2022-06-27T21:10:47.257Z"
   },
   {
    "duration": 9,
    "start_time": "2022-06-27T21:10:48.409Z"
   },
   {
    "duration": 417,
    "start_time": "2022-06-27T21:10:48.422Z"
   },
   {
    "duration": 70,
    "start_time": "2022-06-27T21:10:48.841Z"
   },
   {
    "duration": 77,
    "start_time": "2022-06-27T21:10:48.913Z"
   },
   {
    "duration": 69,
    "start_time": "2022-06-27T21:10:48.992Z"
   },
   {
    "duration": 42,
    "start_time": "2022-06-27T21:10:49.063Z"
   },
   {
    "duration": 56,
    "start_time": "2022-06-27T21:10:49.107Z"
   },
   {
    "duration": 192,
    "start_time": "2022-06-27T21:10:49.165Z"
   },
   {
    "duration": 191,
    "start_time": "2022-06-27T21:10:49.360Z"
   },
   {
    "duration": 109,
    "start_time": "2022-06-27T21:10:49.554Z"
   },
   {
    "duration": 97,
    "start_time": "2022-06-27T21:10:49.665Z"
   },
   {
    "duration": 465,
    "start_time": "2022-06-27T21:10:49.764Z"
   },
   {
    "duration": 446,
    "start_time": "2022-06-27T21:10:50.231Z"
   },
   {
    "duration": 421,
    "start_time": "2022-06-27T21:10:50.678Z"
   },
   {
    "duration": 2631,
    "start_time": "2022-06-28T18:18:39.829Z"
   },
   {
    "duration": 8,
    "start_time": "2022-06-28T18:18:42.463Z"
   },
   {
    "duration": 1470,
    "start_time": "2022-06-28T18:18:42.472Z"
   },
   {
    "duration": 58,
    "start_time": "2022-06-28T18:18:43.944Z"
   },
   {
    "duration": 72,
    "start_time": "2022-06-28T18:18:44.004Z"
   },
   {
    "duration": 50,
    "start_time": "2022-06-28T18:18:44.077Z"
   },
   {
    "duration": 39,
    "start_time": "2022-06-28T18:18:44.142Z"
   },
   {
    "duration": 61,
    "start_time": "2022-06-28T18:18:44.183Z"
   },
   {
    "duration": 119,
    "start_time": "2022-06-28T18:18:44.245Z"
   },
   {
    "duration": 188,
    "start_time": "2022-06-28T18:18:44.366Z"
   },
   {
    "duration": 85,
    "start_time": "2022-06-28T18:18:44.557Z"
   },
   {
    "duration": 100,
    "start_time": "2022-06-28T18:18:44.646Z"
   },
   {
    "duration": 430,
    "start_time": "2022-06-28T18:18:44.748Z"
   },
   {
    "duration": 389,
    "start_time": "2022-06-28T18:18:45.180Z"
   },
   {
    "duration": 380,
    "start_time": "2022-06-28T18:18:45.570Z"
   },
   {
    "duration": 4,
    "start_time": "2022-06-28T18:27:58.974Z"
   },
   {
    "duration": 1110,
    "start_time": "2022-06-29T10:54:14.112Z"
   },
   {
    "duration": 12,
    "start_time": "2022-06-29T10:54:15.224Z"
   },
   {
    "duration": 102,
    "start_time": "2022-06-29T10:56:58.452Z"
   },
   {
    "duration": 3,
    "start_time": "2022-06-29T10:57:03.297Z"
   },
   {
    "duration": 10,
    "start_time": "2022-06-29T10:57:03.302Z"
   },
   {
    "duration": 1966,
    "start_time": "2022-06-29T10:57:03.314Z"
   },
   {
    "duration": 57,
    "start_time": "2022-06-29T10:57:05.282Z"
   },
   {
    "duration": 50,
    "start_time": "2022-06-29T10:57:05.342Z"
   },
   {
    "duration": 71,
    "start_time": "2022-06-29T10:57:05.394Z"
   },
   {
    "duration": 44,
    "start_time": "2022-06-29T10:57:05.467Z"
   },
   {
    "duration": 117,
    "start_time": "2022-06-29T10:57:05.513Z"
   },
   {
    "duration": 120,
    "start_time": "2022-06-29T10:57:05.632Z"
   },
   {
    "duration": 195,
    "start_time": "2022-06-29T10:57:05.754Z"
   },
   {
    "duration": 192,
    "start_time": "2022-06-29T10:57:05.951Z"
   },
   {
    "duration": 13,
    "start_time": "2022-06-29T10:57:06.145Z"
   },
   {
    "duration": 544,
    "start_time": "2022-06-29T10:57:06.160Z"
   },
   {
    "duration": 495,
    "start_time": "2022-06-29T10:57:06.705Z"
   },
   {
    "duration": 430,
    "start_time": "2022-06-29T10:57:07.202Z"
   },
   {
    "duration": 27,
    "start_time": "2022-06-29T10:57:19.088Z"
   },
   {
    "duration": 47,
    "start_time": "2022-06-29T10:57:27.720Z"
   },
   {
    "duration": 73,
    "start_time": "2022-06-29T10:57:30.752Z"
   },
   {
    "duration": 30,
    "start_time": "2022-06-29T10:58:14.086Z"
   },
   {
    "duration": 36,
    "start_time": "2022-06-29T10:58:28.421Z"
   },
   {
    "duration": 32,
    "start_time": "2022-06-29T10:58:52.995Z"
   },
   {
    "duration": 14,
    "start_time": "2022-06-29T11:00:54.121Z"
   },
   {
    "duration": 11,
    "start_time": "2022-06-29T11:01:06.750Z"
   },
   {
    "duration": 35,
    "start_time": "2022-06-29T11:01:48.210Z"
   },
   {
    "duration": 107,
    "start_time": "2022-06-29T11:01:55.922Z"
   },
   {
    "duration": 4,
    "start_time": "2022-06-29T11:02:05.343Z"
   },
   {
    "duration": 4,
    "start_time": "2022-06-29T11:02:13.905Z"
   },
   {
    "duration": 57,
    "start_time": "2022-06-29T11:02:34.969Z"
   },
   {
    "duration": 100,
    "start_time": "2022-06-29T11:02:45.927Z"
   },
   {
    "duration": 27,
    "start_time": "2022-06-29T11:02:49.475Z"
   },
   {
    "duration": 25,
    "start_time": "2022-06-29T11:03:07.383Z"
   },
   {
    "duration": 32,
    "start_time": "2022-06-29T11:03:20.780Z"
   },
   {
    "duration": 2,
    "start_time": "2022-06-29T11:06:00.290Z"
   },
   {
    "duration": 13,
    "start_time": "2022-06-29T11:06:01.452Z"
   },
   {
    "duration": 399,
    "start_time": "2022-06-29T11:06:02.971Z"
   },
   {
    "duration": 58,
    "start_time": "2022-06-29T11:06:03.372Z"
   },
   {
    "duration": 56,
    "start_time": "2022-06-29T11:06:03.432Z"
   },
   {
    "duration": 54,
    "start_time": "2022-06-29T11:06:05.194Z"
   },
   {
    "duration": 37,
    "start_time": "2022-06-29T11:06:07.575Z"
   },
   {
    "duration": 73,
    "start_time": "2022-06-29T11:06:08.053Z"
   },
   {
    "duration": 40,
    "start_time": "2022-06-29T11:06:09.921Z"
   },
   {
    "duration": 30,
    "start_time": "2022-06-29T11:06:11.647Z"
   },
   {
    "duration": 3,
    "start_time": "2022-06-29T11:06:14.054Z"
   },
   {
    "duration": 10,
    "start_time": "2022-06-29T11:06:40.152Z"
   },
   {
    "duration": 15,
    "start_time": "2022-06-29T11:06:55.923Z"
   },
   {
    "duration": 8,
    "start_time": "2022-06-29T11:07:12.855Z"
   },
   {
    "duration": 3,
    "start_time": "2022-06-29T11:16:53.614Z"
   },
   {
    "duration": 10,
    "start_time": "2022-06-29T11:19:38.670Z"
   },
   {
    "duration": 11,
    "start_time": "2022-06-29T11:20:00.955Z"
   },
   {
    "duration": 478,
    "start_time": "2022-06-29T11:20:08.517Z"
   },
   {
    "duration": 434,
    "start_time": "2022-06-29T11:20:12.722Z"
   },
   {
    "duration": 455,
    "start_time": "2022-06-29T11:20:13.726Z"
   },
   {
    "duration": 11,
    "start_time": "2022-06-29T11:22:22.572Z"
   },
   {
    "duration": 412,
    "start_time": "2022-06-29T11:22:24.555Z"
   },
   {
    "duration": 55,
    "start_time": "2022-06-29T11:22:25.002Z"
   },
   {
    "duration": 48,
    "start_time": "2022-06-29T11:22:25.169Z"
   },
   {
    "duration": 46,
    "start_time": "2022-06-29T11:22:25.344Z"
   },
   {
    "duration": 37,
    "start_time": "2022-06-29T11:22:25.991Z"
   },
   {
    "duration": 32,
    "start_time": "2022-06-29T11:22:26.158Z"
   },
   {
    "duration": 37,
    "start_time": "2022-06-29T11:22:26.826Z"
   },
   {
    "duration": 63,
    "start_time": "2022-06-29T11:22:29.973Z"
   },
   {
    "duration": 28,
    "start_time": "2022-06-29T11:22:31.281Z"
   },
   {
    "duration": 27,
    "start_time": "2022-06-29T11:22:32.102Z"
   },
   {
    "duration": 4,
    "start_time": "2022-06-29T11:22:34.317Z"
   },
   {
    "duration": 8,
    "start_time": "2022-06-29T11:22:37.955Z"
   },
   {
    "duration": 5,
    "start_time": "2022-06-29T11:22:41.854Z"
   },
   {
    "duration": 4,
    "start_time": "2022-06-29T11:22:43.172Z"
   },
   {
    "duration": 425,
    "start_time": "2022-06-29T11:22:47.751Z"
   },
   {
    "duration": 446,
    "start_time": "2022-06-29T11:22:54.357Z"
   },
   {
    "duration": 468,
    "start_time": "2022-06-29T11:22:57.443Z"
   },
   {
    "duration": 12,
    "start_time": "2022-06-29T11:27:56.007Z"
   },
   {
    "duration": 25,
    "start_time": "2022-06-29T11:28:15.264Z"
   },
   {
    "duration": 12,
    "start_time": "2022-06-29T11:28:40.360Z"
   },
   {
    "duration": 15,
    "start_time": "2022-06-29T11:28:46.165Z"
   },
   {
    "duration": 11,
    "start_time": "2022-06-29T11:29:50.300Z"
   },
   {
    "duration": 70,
    "start_time": "2022-06-29T11:32:13.263Z"
   },
   {
    "duration": 207,
    "start_time": "2022-06-29T11:32:33.727Z"
   },
   {
    "duration": 30,
    "start_time": "2022-06-29T11:34:21.342Z"
   },
   {
    "duration": 30,
    "start_time": "2022-06-29T11:34:32.555Z"
   },
   {
    "duration": 32,
    "start_time": "2022-06-29T11:34:43.644Z"
   },
   {
    "duration": 35,
    "start_time": "2022-06-29T11:34:49.797Z"
   },
   {
    "duration": 31,
    "start_time": "2022-06-29T11:35:45.043Z"
   },
   {
    "duration": 61,
    "start_time": "2022-06-29T11:36:23.380Z"
   },
   {
    "duration": 66,
    "start_time": "2022-06-29T11:36:31.463Z"
   },
   {
    "duration": 42,
    "start_time": "2022-06-29T11:36:37.000Z"
   },
   {
    "duration": 45,
    "start_time": "2022-06-29T11:39:03.981Z"
   },
   {
    "duration": 31,
    "start_time": "2022-06-29T11:39:25.277Z"
   },
   {
    "duration": 33,
    "start_time": "2022-06-29T11:39:33.407Z"
   },
   {
    "duration": 99,
    "start_time": "2022-06-29T11:40:34.728Z"
   },
   {
    "duration": 47,
    "start_time": "2022-06-29T11:40:40.380Z"
   },
   {
    "duration": 55,
    "start_time": "2022-06-29T11:40:49.277Z"
   },
   {
    "duration": 114,
    "start_time": "2022-06-29T11:41:17.412Z"
   },
   {
    "duration": 13,
    "start_time": "2022-06-29T11:42:12.820Z"
   },
   {
    "duration": 13,
    "start_time": "2022-06-29T11:42:29.641Z"
   },
   {
    "duration": 12,
    "start_time": "2022-06-29T11:42:47.665Z"
   },
   {
    "duration": 13,
    "start_time": "2022-06-29T11:42:53.569Z"
   },
   {
    "duration": 11,
    "start_time": "2022-06-29T11:43:12.657Z"
   },
   {
    "duration": 15,
    "start_time": "2022-06-29T11:43:17.828Z"
   },
   {
    "duration": 11,
    "start_time": "2022-06-29T11:43:51.606Z"
   },
   {
    "duration": 5,
    "start_time": "2022-06-29T11:44:14.842Z"
   },
   {
    "duration": 12,
    "start_time": "2022-06-29T11:44:44.668Z"
   },
   {
    "duration": 7,
    "start_time": "2022-06-29T11:44:49.066Z"
   },
   {
    "duration": 13,
    "start_time": "2022-06-29T11:45:26.939Z"
   },
   {
    "duration": 7,
    "start_time": "2022-06-29T11:45:31.763Z"
   },
   {
    "duration": 28,
    "start_time": "2022-06-29T11:49:33.341Z"
   },
   {
    "duration": 43,
    "start_time": "2022-06-29T11:49:35.918Z"
   },
   {
    "duration": 1105,
    "start_time": "2022-06-29T11:49:41.829Z"
   },
   {
    "duration": 3,
    "start_time": "2022-06-29T11:49:42.938Z"
   },
   {
    "duration": 12,
    "start_time": "2022-06-29T11:49:42.943Z"
   },
   {
    "duration": 387,
    "start_time": "2022-06-29T11:49:42.957Z"
   },
   {
    "duration": 59,
    "start_time": "2022-06-29T11:49:43.346Z"
   },
   {
    "duration": 63,
    "start_time": "2022-06-29T11:49:43.407Z"
   },
   {
    "duration": 72,
    "start_time": "2022-06-29T11:49:43.471Z"
   },
   {
    "duration": 39,
    "start_time": "2022-06-29T11:49:43.545Z"
   },
   {
    "duration": 62,
    "start_time": "2022-06-29T11:49:43.585Z"
   },
   {
    "duration": 125,
    "start_time": "2022-06-29T11:49:43.728Z"
   },
   {
    "duration": 124,
    "start_time": "2022-06-29T11:49:43.926Z"
   },
   {
    "duration": 99,
    "start_time": "2022-06-29T11:49:44.054Z"
   },
   {
    "duration": 113,
    "start_time": "2022-06-29T11:49:44.154Z"
   },
   {
    "duration": 128,
    "start_time": "2022-06-29T11:49:44.269Z"
   },
   {
    "duration": 0,
    "start_time": "2022-06-29T11:49:44.398Z"
   },
   {
    "duration": 0,
    "start_time": "2022-06-29T11:49:44.400Z"
   },
   {
    "duration": 8,
    "start_time": "2022-06-29T11:50:43.154Z"
   },
   {
    "duration": 11,
    "start_time": "2022-06-29T11:50:54.354Z"
   },
   {
    "duration": 27,
    "start_time": "2022-06-29T11:50:58.371Z"
   },
   {
    "duration": 23,
    "start_time": "2022-06-29T11:52:40.560Z"
   },
   {
    "duration": 11,
    "start_time": "2022-06-29T11:53:00.384Z"
   },
   {
    "duration": 8,
    "start_time": "2022-06-29T11:53:03.047Z"
   },
   {
    "duration": 735,
    "start_time": "2022-06-29T11:53:12.664Z"
   },
   {
    "duration": 11,
    "start_time": "2022-06-29T11:53:27.027Z"
   },
   {
    "duration": 685,
    "start_time": "2022-06-29T11:53:49.617Z"
   },
   {
    "duration": 690,
    "start_time": "2022-06-29T11:53:54.169Z"
   },
   {
    "duration": 680,
    "start_time": "2022-06-29T11:53:55.745Z"
   },
   {
    "duration": 687,
    "start_time": "2022-06-29T11:53:58.531Z"
   },
   {
    "duration": 702,
    "start_time": "2022-06-29T11:54:42.775Z"
   },
   {
    "duration": 690,
    "start_time": "2022-06-29T11:54:44.171Z"
   },
   {
    "duration": 12,
    "start_time": "2022-06-29T11:54:52.637Z"
   },
   {
    "duration": 706,
    "start_time": "2022-06-29T11:54:57.644Z"
   },
   {
    "duration": 715,
    "start_time": "2022-06-29T11:54:59.474Z"
   },
   {
    "duration": 722,
    "start_time": "2022-06-29T11:55:00.923Z"
   },
   {
    "duration": 10,
    "start_time": "2022-06-29T11:55:43.191Z"
   },
   {
    "duration": 775,
    "start_time": "2022-06-29T11:55:47.817Z"
   },
   {
    "duration": 0,
    "start_time": "2022-06-29T11:55:48.593Z"
   },
   {
    "duration": 13,
    "start_time": "2022-06-29T11:55:56.994Z"
   },
   {
    "duration": 703,
    "start_time": "2022-06-29T11:56:01.738Z"
   },
   {
    "duration": 697,
    "start_time": "2022-06-29T11:56:03.378Z"
   },
   {
    "duration": 709,
    "start_time": "2022-06-29T11:56:04.700Z"
   },
   {
    "duration": 1069,
    "start_time": "2022-06-30T16:39:25.484Z"
   },
   {
    "duration": 3,
    "start_time": "2022-06-30T16:39:26.556Z"
   },
   {
    "duration": 20,
    "start_time": "2022-06-30T16:39:26.561Z"
   },
   {
    "duration": 1947,
    "start_time": "2022-06-30T16:39:26.583Z"
   },
   {
    "duration": 63,
    "start_time": "2022-06-30T16:39:28.532Z"
   },
   {
    "duration": 74,
    "start_time": "2022-06-30T16:39:28.597Z"
   },
   {
    "duration": 69,
    "start_time": "2022-06-30T16:39:28.673Z"
   },
   {
    "duration": 45,
    "start_time": "2022-06-30T16:39:28.744Z"
   },
   {
    "duration": 52,
    "start_time": "2022-06-30T16:39:28.791Z"
   },
   {
    "duration": 196,
    "start_time": "2022-06-30T16:39:28.846Z"
   },
   {
    "duration": 115,
    "start_time": "2022-06-30T16:39:29.044Z"
   },
   {
    "duration": 80,
    "start_time": "2022-06-30T16:39:29.162Z"
   },
   {
    "duration": 104,
    "start_time": "2022-06-30T16:39:29.244Z"
   },
   {
    "duration": 784,
    "start_time": "2022-06-30T16:39:29.351Z"
   },
   {
    "duration": 733,
    "start_time": "2022-06-30T16:39:30.141Z"
   },
   {
    "duration": 754,
    "start_time": "2022-06-30T16:39:30.876Z"
   }
  ],
  "kernelspec": {
   "display_name": "Python 3 (ipykernel)",
   "language": "python",
   "name": "python3"
  },
  "language_info": {
   "codemirror_mode": {
    "name": "ipython",
    "version": 3
   },
   "file_extension": ".py",
   "mimetype": "text/x-python",
   "name": "python",
   "nbconvert_exporter": "python",
   "pygments_lexer": "ipython3",
   "version": "3.9.5"
  },
  "toc": {
   "base_numbering": 1,
   "nav_menu": {},
   "number_sections": true,
   "sideBar": true,
   "skip_h1_title": true,
   "title_cell": "Table of Contents",
   "title_sidebar": "Contents",
   "toc_cell": false,
   "toc_position": {},
   "toc_section_display": true,
   "toc_window_display": true
  }
 },
 "nbformat": 4,
 "nbformat_minor": 2
}
